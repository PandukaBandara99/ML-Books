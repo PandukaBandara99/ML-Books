{
  "nbformat": 4,
  "nbformat_minor": 0,
  "metadata": {
    "colab": {
      "provenance": [],
      "authorship_tag": "ABX9TyPhXal4YwKA4ZJRV6xqQddF",
      "include_colab_link": true
    },
    "kernelspec": {
      "name": "python3",
      "display_name": "Python 3"
    },
    "language_info": {
      "name": "python"
    }
  },
  "cells": [
    {
      "cell_type": "markdown",
      "metadata": {
        "id": "view-in-github",
        "colab_type": "text"
      },
      "source": [
        "<a href=\"https://colab.research.google.com/github/PandukaBandara99/ML-Books/blob/main/NLP_Specialization.ipynb\" target=\"_parent\"><img src=\"https://colab.research.google.com/assets/colab-badge.svg\" alt=\"Open In Colab\"/></a>"
      ]
    },
    {
      "cell_type": "markdown",
      "source": [
        "Mahela Panduka Bandara ; <br>\n",
        "UG @ Dpt. of Electronic & Electrical Engineering ;\n",
        "University of Peradeniya ;\n",
        "2024/03\n",
        "\n",
        "Email : e19039@end.pdn.ac.lk\n",
        "LinkedIN : https://www.linkedin.com/in/pandukabandara/"
      ],
      "metadata": {
        "id": "_36R4pHu0qrU"
      }
    },
    {
      "cell_type": "markdown",
      "source": [
        "A Note based on https://www.coursera.org/specializations/natural-language-processing"
      ],
      "metadata": {
        "id": "KO2xhiBH1BTI"
      }
    },
    {
      "cell_type": "markdown",
      "source": [
        "# **1.0 APPROCH TO NATURAL LANGUAGE PROCESSING**"
      ],
      "metadata": {
        "id": "r3APy1Vc0grK"
      }
    },
    {
      "cell_type": "markdown",
      "source": [
        "## 1.1 Supervised ML & Sentiment Analysis"
      ],
      "metadata": {
        "id": "NHek0zTt0y33"
      }
    },
    {
      "cell_type": "markdown",
      "source": [
        "> Supervised machine learning (ML) is a type of ML algorithm where the model is trained on a labeled dataset, meaning that each input data point is paired with the correct output label. The model learns from these pairs and tries to generalize from the training data to make predictions or classifications on new, unseen data.\n",
        "\n",
        "> Sentiment analysis, also known as opinion mining, is a natural language processing (NLP) technique used to determine the sentiment expressed in a piece of text. It aims to understand the attitude, opinions, or emotions conveyed within the text. Sentiment analysis can be applied to various domains, such as social media monitoring, customer feedback analysis, and product reviews analysis.\n",
        "<br>\n",
        "\n",
        "A tabulated comparison between supervised machine learning (ML), classification, and sentiment analysis:\n"
      ],
      "metadata": {
        "id": "3h9sR1Dr2VTg"
      }
    },
    {
      "cell_type": "markdown",
      "source": [
        "| Aspect                    | Supervised ML                                     | Classification                                 | Sentiment Analysis                               |\n",
        "|---------------------------|---------------------------------------------------|------------------------------------------------|--------------------------------------------------|\n",
        "| **Type of Problem**       | A broader category; refers to the general approach of training a model using labeled data. | A subset of supervised ML where the goal is to categorize input data into predefined classes or categories. | A specific application of supervised ML or classification focused on determining the sentiment expressed in text data. |\n",
        "| **Objective**             | To train a model to make predictions or classify data based on input-output pairs. | To categorize input data into distinct classes or categories. | To analyze text data and determine the sentiment (e.g., positive, negative, neutral) expressed within it. |\n",
        "| **Input Data**            | Can be any type of structured or unstructured data, depending on the problem domain. | Can be structured or unstructured data, but typically structured for traditional classification tasks. | Usually text data, such as reviews, social media posts, or customer feedback. |\n",
        "| **Output Labels**         | Can be categorical (classification) or continuous (regression), depending on the problem. | Categorical labels indicating the class membership of input data. | Sentiment labels indicating the emotional polarity (positive, negative, neutral) of the text data. |\n",
        "| **Examples**              | Predicting house prices based on features like square footage, number of bedrooms, etc. | Classifying emails as spam or non-spam. | Analyzing product reviews to determine customer sentiment. |\n",
        "| **Algorithms**            | Can utilize various algorithms, including regression, classification, clustering, etc. | Primarily focuses on classification algorithms like Decision Trees, SVM, Naive Bayes, etc. | Utilizes classification algorithms along with NLP techniques like Bag-of-Words, TF-IDF, word embeddings, etc. |\n",
        "| **Evaluation Metrics**    | Depends on the specific problem and output type, e.g., accuracy, RMSE, etc. | Common metrics include accuracy, precision, recall, F1-score, confusion matrix, etc. | Metrics may include accuracy, precision, recall, F1-score, confusion matrix, etc., tailored for sentiment classification tasks. |\n",
        "| **Applications**          | Widely applicable across various domains such as finance, healthcare, marketing, etc. | Commonly used in spam detection, image recognition, document classification, etc. | Applied in customer feedback analysis, social media monitoring, brand reputation management, etc. |\n"
      ],
      "metadata": {
        "id": "6sTz6b8t2npe"
      }
    },
    {
      "cell_type": "markdown",
      "source": [],
      "metadata": {
        "id": "1ylwbel64IIz"
      }
    },
    {
      "cell_type": "code",
      "execution_count": null,
      "metadata": {
        "id": "anw1g3qJ0NGU"
      },
      "outputs": [],
      "source": []
    }
  ]
}