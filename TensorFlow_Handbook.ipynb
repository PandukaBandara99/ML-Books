{
  "nbformat": 4,
  "nbformat_minor": 0,
  "metadata": {
    "colab": {
      "provenance": [],
      "toc_visible": true,
      "include_colab_link": true
    },
    "kernelspec": {
      "name": "python3",
      "display_name": "Python 3"
    },
    "language_info": {
      "name": "python"
    }
  },
  "cells": [
    {
      "cell_type": "markdown",
      "metadata": {
        "id": "view-in-github",
        "colab_type": "text"
      },
      "source": [
        "<a href=\"https://colab.research.google.com/github/PandukaBandara99/ML-Books/blob/main/TensorFlow_Handbook.ipynb\" target=\"_parent\"><img src=\"https://colab.research.google.com/assets/colab-badge.svg\" alt=\"Open In Colab\"/></a>"
      ]
    },
    {
      "cell_type": "markdown",
      "source": [
        "Mahela Panduka Bandara ; <br> UG @ Dpt. of Electronic & Electrical Engineering ;<br> University of Peradeniya ;<br> 2023/05 <br><br> Email : e19039@end.pdn.ac.lk <br> LinkedIN : https://www.linkedin.com/in/pandukabandara/"
      ],
      "metadata": {
        "id": "2erwzCdp065W"
      }
    },
    {
      "cell_type": "markdown",
      "source": [
        "References :\n",
        "1. https://www.coursera.org/professional-certificates/tensorflow-in-practice"
      ],
      "metadata": {
        "id": "GpW5eGWJ098J"
      }
    },
    {
      "cell_type": "code",
      "source": [
        "%tensorflow_version 2.x # only for colab\n",
        "import tensorflow as tf\n",
        "print(tf.version)"
      ],
      "metadata": {
        "id": "rpoPvfwjzrwQ",
        "outputId": "48864891-ea67-43c2-e872-42a6343d132b",
        "colab": {
          "base_uri": "https://localhost:8080/"
        }
      },
      "execution_count": 20,
      "outputs": [
        {
          "output_type": "stream",
          "name": "stdout",
          "text": [
            "Colab only includes TensorFlow 2.x; %tensorflow_version has no effect.\n",
            "<module 'tensorflow._api.v2.version' from '/usr/local/lib/python3.10/dist-packages/tensorflow/_api/v2/version/__init__.py'>\n"
          ]
        }
      ]
    },
    {
      "cell_type": "markdown",
      "source": [
        "#DEl\n"
      ],
      "metadata": {
        "id": "pbDoIzWE1D7z"
      }
    },
    {
      "cell_type": "markdown",
      "source": [
        "Sure, here is an example table of contents for a book named \"TensorFlow Handbook\":\n",
        "\n",
        "1. Introduction to TensorFlow\n",
        "   - What is TensorFlow?\n",
        "   - TensorFlow vs other machine learning frameworks\n",
        "   - Getting started with TensorFlow\n",
        "2. TensorFlow Basics\n",
        "   - Tensors and operations\n",
        "   - Variables and placeholders\n",
        "   - Graphs and sessions\n",
        "   - Saving and restoring models\n",
        "3. Building Neural Networks with TensorFlow\n",
        "   - Neural network architecture\n",
        "   - Activation functions\n",
        "   - Loss functions\n",
        "   - Optimizers\n",
        "4. Convolutional Neural Networks\n",
        "   - Convolutional layers\n",
        "   - Pooling layers\n",
        "   - Building a convolutional neural network\n",
        "5. Recurrent Neural Networks\n",
        "   - Long Short-Term Memory (LSTM) networks\n",
        "   - Building a recurrent neural network\n",
        "6. Reinforcement Learning with TensorFlow\n",
        "   - Q-Learning and SARSA\n",
        "   - Building a reinforcement learning agent\n",
        "7. Advanced TensorFlow Topics\n",
        "   - Transfer learning\n",
        "   - Distributed TensorFlow\n",
        "   - TensorBoard\n",
        "8. Applications of TensorFlow\n",
        "   - Computer vision\n",
        "   - Natural language processing\n",
        "   - Time series analysis\n",
        "9. Future of TensorFlow\n",
        "   - Current research and developments\n",
        "   - Challenges and future directions\n",
        "10. Conclusion\n",
        "   - Recap of key concepts\n",
        "   - Resources for further learning."
      ],
      "metadata": {
        "id": "RpFyxUCk2CvR"
      }
    },
    {
      "cell_type": "markdown",
      "source": [
        "# 1 Introduction to TensorFlow"
      ],
      "metadata": {
        "id": "ZxIVQ42u2Gl1"
      }
    },
    {
      "cell_type": "markdown",
      "source": [
        "## 1.1 Introduction"
      ],
      "metadata": {
        "id": "tmxwQJBx2OEn"
      }
    },
    {
      "cell_type": "markdown",
      "source": [
        "TensorFlow is an open-source library for data flow and differentiable programming that allows developers to build and deploy machine learning models for a variety of tasks. Developed by the Google Brain team in 2015, TensorFlow has quickly become one of the most popular machine learning libraries due to its ease of use, flexibility, and scalability.\n",
        "\n",
        "Compared to other machine learning libraries such as PyTorch, Keras, and Scikit-Learn, TensorFlow has some unique features that make it a top choice for machine learning tasks. The following table compares TensorFlow with other popular libraries:\n",
        "\n",
        "| Library     | Strengths                                                                                  | Weaknesses                                                                               |\n",
        "|-------------|--------------------------------------------------------------------------------------------|------------------------------------------------------------------------------------------|\n",
        "| TensorFlow  | High scalability and performance, large community and support, production-ready features | Steep learning curve, can be overly complex for simple tasks, slower development process |\n",
        "| PyTorch     | Dynamic computational graphs, intuitive API, good for research and experimentation        | Limited scalability, smaller community compared to TensorFlow, slower training speed     |\n",
        "| Keras       | User-friendly API, easy to learn and use, good for rapid prototyping                        | Limited flexibility and scalability, less production-ready features than TensorFlow      |\n",
        "| Scikit-Learn | Simple and easy to use API, good for classical machine learning tasks                       | Limited support for deep learning and neural networks, less scalable than TensorFlow     |\n"
      ],
      "metadata": {
        "id": "Ns18fPsB2o4A"
      }
    },
    {
      "cell_type": "markdown",
      "source": [
        "## 1.2 Neural networks"
      ],
      "metadata": {
        "id": "YfPWefig2lo4"
      }
    },
    {
      "cell_type": "markdown",
      "source": [
        "Neural networks are a class of machine learning algorithms that are inspired by the structure and function of the human brain. They are composed of interconnected nodes, called neurons, that process and transmit information throughout the network. Neural networks have shown remarkable success in a variety of applications, including image and speech recognition, natural language processing, and autonomous driving.\n",
        "\n",
        "The basic building block of a neural network is the neuron, which receives input from other neurons or from external data sources. Each input is weighted according to its importance, and the neuron applies an activation function to the sum of the weighted inputs to produce an output. This output is then passed to other neurons in the network as input.\n",
        "\n",
        "Activation functions are a crucial component of neural networks, as they introduce nonlinearity and allow the network to model complex relationships between inputs and outputs. There are several common activation functions used in neural networks, including:\n",
        "\n",
        "> 1. **Sigmoid:** The sigmoid function is a popular choice for binary classification problems, as it maps any input to a value between 0 and 1. Its equation is:\n",
        "> ```css\n",
        "> f(x) = 1 / (1 + e^-x)\n",
        "> ```\n",
        "> 2. **ReLU:** The rectified linear unit (ReLU) function is widely used in deep learning networks. It applies a threshold at zero, producing a linear output for positive inputs and zero for negative inputs. Its equation is:\n",
        "> ```css\n",
        "> f(x) = max(0, x)\n",
        "> ```\n",
        "> 3. *Tanh:* The hyperbolic tangent (tanh) function is similar to the sigmoid function, but it maps inputs to values between -1 and 1. Its equation is:\n",
        "> ```css\n",
        "> f(x) = (e^x - e^-x) / (e^x + e^-x)\n",
        "> ```\n",
        "> 4. **Softmax:** The softmax function is often used in multi-class classification problems, as it produces a probability distribution over multiple output classes. Its equation is:\n",
        "> ```css\n",
        "> f(x_i) = e^xi / (sum(e^x_j))\n",
        "> ```\n",
        ">\n",
        "Neural networks can take on many different architectures, but one of the most common is the feedforward network. In a feedforward network, inputs are fed through a series of hidden layers before producing an output. Each layer contains multiple neurons, and the connections between neurons are weighted according to their importance.\n",
        "\n",
        "Text-based diagrams can be used to visualize the structure of a neural network. For example, a simple feedforward network with three input nodes, two hidden layers of four neurons each, and one output node could be represented as:\n",
        "\n",
        "```\n",
        "[ Input Layer ]\n",
        "   |  |  |\n",
        "   v  v  v\n",
        "[ Hidden Layer 1 ]\n",
        "   |  |  |\n",
        "   v  v  v\n",
        "[ Hidden Layer 2 ]\n",
        "   |  |  |\n",
        "   v  v  v\n",
        "[ Output Layer ]\n",
        "```\n",
        "\n",
        "Neural networks are powerful tools for modeling complex relationships in data and have proven to be incredibly effective in a wide range of applications. With an understanding of activation functions, network architectures, and other key concepts, developers can leverage neural networks to build powerful and intelligent systems."
      ],
      "metadata": {
        "id": "riEg4Tbo3vT2"
      }
    },
    {
      "cell_type": "markdown",
      "source": [
        "# 2 Main Components of TensorFlow"
      ],
      "metadata": {
        "id": "I-FnHhRZwqnj"
      }
    },
    {
      "cell_type": "markdown",
      "source": [
        "> 1. **Tensors:**\n",
        ">    - Tensors are the fundamental data structures in TensorFlow.\n",
        ">    - Tensors are multi-dimensional arrays that can hold data of any data type.\n",
        ">    - They are the primary means of representing and manipulating data in TensorFlow.\n",
        ">    - Tensors flow through the computational graph, carrying data between operations.\n",
        ">\n",
        "> 2. **Computational Graph:**\n",
        ">    - TensorFlow models are represented as directed acyclic graphs (DAGs) called computational graphs.\n",
        ">    - A computational graph consists of a set of nodes that represent operations and a set of edges that represent tensors flowing between the operations.\n",
        ">    - The computational graph defines the flow of data through the model and the dependencies between operations.\n",
        ">\n",
        "> 3. **Operations:**\n",
        ">    - Operations (ops) represent computations or transformations on tensors.\n",
        ">    - TensorFlow provides a wide range of operations for mathematical computations, array manipulations, control flow, and more.\n",
        ">    - Each operation takes input tensors and produces output tensors.\n",
        ">    - Operations can be simple mathematical operations (e.g., addition, multiplication) or more complex operations (e.g., matrix multiplication, convolution).\n",
        ">\n",
        "> 4. **Variables:**\n",
        ">    - Variables are special tensors that hold their values across multiple executions of the computational graph.\n",
        ">    - Variables are used to store and update model parameters (e.g., weights and biases) during training.\n",
        ">    - They have an initial value and can be modified during model optimization.\n",
        ">    - Variables are commonly used to represent the learnable parameters of a neural network.\n",
        ">\n",
        "> 5. **Placeholders:**\n",
        ">    - Placeholders are used to feed external data into TensorFlow computational graphs.\n",
        ">    - They serve as input nodes and allow you to define the expected shape and data type of the input.\n",
        ">    - Placeholders are typically used to provide training examples or mini-batches of data during model training.\n",
        ">    - The actual data is provided using a feed dictionary or a data pipeline.\n",
        ">\n",
        "> 6. **Sessions:**\n",
        ">    - A TensorFlow session encapsulates the control and state of the TensorFlow runtime.\n",
        ">    - To execute a computational graph, you create a session, initialize variables, and then run operations within the session.\n",
        ">    - Sessions allocate resources (e.g., GPU memory) and manage the execution of operations.\n",
        ">\n",
        "> 7. **Optimizers:**\n",
        ">    - TensorFlow provides various optimization algorithms to train machine learning models.\n",
        ">    - Optimizers update the values of variables based on the gradients of the loss function with respect to the variables.\n",
        ">    - Some commonly used optimizers in TensorFlow include stochastic gradient descent (SGD), Adam, RMSprop, and Adagrad.\n",
        ">\n",
        "> 8. **Saved Models:**\n",
        ">    - TensorFlow allows models to be saved and loaded for later use or deployment.\n",
        ">    - Saved models include both the model architecture (computational graph) and the learned weights.\n",
        ">    - Saved models can be used for inference, transfer learning, or deployment in production environments.\n"
      ],
      "metadata": {
        "id": "g8AQOhlQwuiZ"
      }
    },
    {
      "cell_type": "markdown",
      "source": [
        "## 2.1 Tensors"
      ],
      "metadata": {
        "id": "gaap3rjh0IJB"
      }
    },
    {
      "cell_type": "markdown",
      "source": [
        "A tensor is a fundamental **data structure** used to represent and manipulate data. It is an n-dimensional array or a generalization of a matrix that can hold data of any data type (e.g., integers, floats, strings). Tensors are the primary means of **representing data in TensorFlow, and they flow through the computational graph**, carrying data between operations.\n",
        "\n",
        "> *Tensor is a multidimensional array that is passed as input to the models.In the computation graph, only tensors are passed between operations*\n",
        "\n"
      ],
      "metadata": {
        "id": "17sNUus30Ljd"
      }
    },
    {
      "cell_type": "markdown",
      "source": [
        "A tensor is described by three parameters\n",
        "\n",
        "1.   Rank\n",
        "2.   Shape\n",
        "3.   Type\n",
        "\n"
      ],
      "metadata": {
        "id": "bSwjlODB0IPc"
      }
    },
    {
      "cell_type": "markdown",
      "source": [
        "### 2.1.1 Rank"
      ],
      "metadata": {
        "id": "JwEQejvtKFhN"
      }
    },
    {
      "cell_type": "markdown",
      "source": [
        "In TensorFlow, tensors are the fundamental data structures used for computations. The rank of a tensor refers to the number of dimensions or axes it has. It indicates the level of complexity and the number of indices required to access the elements within the tensor.\n",
        "\n",
        "TensorFlow supports tensors of various ranks, from scalars (rank-0) to n-dimensional tensors (rank-n).\n",
        "\n",
        "\n",
        "\n",
        "> 1. **Rank 0 (Scalars):**\n",
        ">    - A rank-0 tensor, also known as a scalar, represents a single number.\n",
        ">    - Scalars in TensorFlow can be created using basic data types like integers or floating-point numbers.\n",
        ">\n",
        "> 2. **Rank 1 (Vectors):**\n",
        ">    - A rank-1 tensor, also known as a vector, represents an ordered list of numbers.\n",
        ">    - Vectors can be seen as a one-dimensional array or a sequence of elements.\n",
        ">    - **Example :**  rank-1 tensors include a list of temperatures for a week or the RGB values of an image pixel.\n",
        ">\n",
        "> 3. **Rank 2 (Matrices):**\n",
        ">    - A rank-2 tensor, also known as a matrix, represents a 2-dimensional grid of numbers.\n",
        ">    - Matrices have rows and columns and are useful for various applications, such as linear algebra operations.\n",
        ">    - **Example :**  rank-2 tensors include a grayscale image or a dataset with rows and features.\n",
        ">\n",
        "> 4. **Rank 3 (3-D Tensors):**\n",
        ">    - A rank-3 tensor represents a 3-dimensional array of numbers.\n",
        ">    - It can be visualized as a collection of matrices stacked together, forming a cube-like structure.\n",
        ">    - Rank-3 tensors are commonly used in computer vision tasks, such as storing RGB images or representing volumes of data.\n",
        ">\n",
        "> 5. **Rank n (n-Dimensional Tensors):**\n",
        ">    - TensorFlow supports tensors of arbitrary ranks, representing n-dimensional arrays of numbers.\n",
        ">    - These tensors can have more than three dimensions and are used in various domains like computer vision, natural language processing, and machine learning.\n",
        "\n",
        "It's important to note that the rank of a tensor determines the number of dimensions it has, which in turn affects the shape and size of the tensor. The shape of a tensor specifies the length or size along each axis.\n",
        "\n",
        "To determine the rank of a tensor in TensorFlow, you can use the `tf.rank()` function, which returns a scalar tensor representing the rank.\n"
      ],
      "metadata": {
        "id": "wzG_WNO7KRY8"
      }
    },
    {
      "cell_type": "markdown",
      "source": [
        "### 2.1.2 Shape\n",
        "\n"
      ],
      "metadata": {
        "id": "4RLxEZ3jLISe"
      }
    },
    {
      "cell_type": "markdown",
      "source": [
        "TensorFlow tensor shape represents the dimensions or sizes of each axis in a tensor. It provides information about the structure and organization of the data stored in the tensor.\n",
        "\n",
        "> 1. **Scalar Shape:**\n",
        ">    - A scalar tensor has an empty shape since it represents a single value.\n",
        ">    - Example: `()` or a scalar value like `5`.\n",
        ">\n",
        "> 2. **Rank 1 Shape (Vector Shape):**\n",
        ">    - A rank-1 tensor, or a vector, has a shape defined by a single dimension representing the length of the vector.\n",
        ">    - Example: `(5,)` or a vector `[1, 2, 3, 4, 5]`.\n",
        ">\n",
        "> 3. **Rank 2 Shape (Matrix Shape):**\n",
        ">    - A rank-2 tensor, or a matrix, has a shape defined by two dimensions: the number of rows and the number of columns.\n",
        ">    - Example: `(3, 4)` or a matrix represented as:\n",
        ">     ```python\n",
        ">     [[1, 2, 3, 4],\n",
        ">      [5, 6, 7, 8],\n",
        ">      [9, 10, 11, 12]]\n",
        ">     ```\n",
        ">\n",
        "> 4. **Rank 3 Shape (3D Tensor Shape):**\n",
        ">    - A rank-3 tensor has a shape defined by three dimensions: length, width, and depth.\n",
        ">    - Example: `(32, 32, 3)` or an RGB image with dimensions 32x32 and 3 color channels.\n",
        ">\n",
        "> 5. **Rank n Shape (n-Dimensional Tensor Shape):**\n",
        ">    - A rank-n tensor represents an n-dimensional array of values.\n",
        ">    - Example: `(2, 2, 2, 2)` or a 4D tensor represented as:\n",
        ">      ```python\n",
        ">      [[[1, 2],\n",
        ">        [3, 4]],\n",
        ">\n",
        ">       [[5, 6],\n",
        ">        [7, 8]]]\n",
        ">      ```\n",
        "\n",
        "`tf.shape(tensor)` can be used to get the shape of the tensor.\n"
      ],
      "metadata": {
        "id": "kPEHxqMOQ6CL"
      }
    },
    {
      "cell_type": "markdown",
      "source": [
        "### 1.2.3 Data Type"
      ],
      "metadata": {
        "id": "EcR9CRZrR3Aw"
      }
    },
    {
      "cell_type": "markdown",
      "source": [
        "\n",
        "| Datatype      | Description                                      | Limits                                                |\n",
        "|---------------|--------------------------------------------------|-------------------------------------------------------|\n",
        "| `tf.float16`  | 16-bit floating-point                             | Range: -65504 to 65504                                |\n",
        "| `tf.float32`  | 32-bit floating-point (standard for most models)  | Range: -3.4028235e38 to 3.4028235e38                  |\n",
        "| `tf.float64`  | 64-bit floating-point                             | Range: -1.7976931348623157e308 to 1.7976931348623157e308 |\n",
        "| `tf.int8`     | 8-bit integer                                     | Range: -128 to 127                                    |\n",
        "| `tf.int16`    | 16-bit integer                                    | Range: -32768 to 32767                                |\n",
        "| `tf.int32`    | 32-bit integer                                    | Range: -2147483648 to 2147483647                      |\n",
        "| `tf.int64`    | 64-bit integer                                    | Range: -9223372036854775808 to 9223372036854775807    |\n",
        "| `tf.uint8`    | 8-bit unsigned integer                            | Range: 0 to 255                                       |\n",
        "| `tf.bool`     | Boolean (True/False)                              | True or False                                         |\n",
        "\n"
      ],
      "metadata": {
        "id": "VIhK-6MrSai4"
      }
    },
    {
      "cell_type": "markdown",
      "source": [
        "### 1.2.4  Types of Tensors"
      ],
      "metadata": {
        "id": "7J65016J4nx-"
      }
    },
    {
      "cell_type": "markdown",
      "source": [
        "> 1. **Constant Tensors:**\n",
        "> Constant tensors have a fixed value and cannot be changed during execution. They are often used to represent fixed values or parameters in a model.\n",
        ">"
      ],
      "metadata": {
        "id": "2GRouVUB5D8C"
      }
    },
    {
      "cell_type": "code",
      "source": [
        "a = tf.constant([1, 2, 3])\n",
        "print(a)  # Output: Tensor(\"Const:0\", shape=(3,), dtype=int32)"
      ],
      "metadata": {
        "id": "pT6dVPRT5Gb1",
        "colab": {
          "base_uri": "https://localhost:8080/"
        },
        "outputId": "9d48da64-0e77-4807-99f1-60591ca3074a"
      },
      "execution_count": 21,
      "outputs": [
        {
          "output_type": "stream",
          "name": "stdout",
          "text": [
            "tf.Tensor([1 2 3], shape=(3,), dtype=int32)\n"
          ]
        }
      ]
    },
    {
      "cell_type": "markdown",
      "source": [
        "> 2. **Variable Tensors:**\n",
        ">Variable tensors are mutable tensors that can be changed during execution. They are commonly used to represent model parameters that need to be optimized during training. (Only Mutable type)\n"
      ],
      "metadata": {
        "id": "AVyCRbsM5Rda"
      }
    },
    {
      "cell_type": "code",
      "source": [
        "# Create a variable tensor\n",
        "b = tf.Variable([4, 5, 6])\n",
        "print(b)\n",
        "# Output: <tf.Variable 'Variable:0' shape=(3,) dtype=int32_ref>"
      ],
      "metadata": {
        "id": "AtVDrer25Sj2",
        "colab": {
          "base_uri": "https://localhost:8080/"
        },
        "outputId": "aca0f495-acb3-4ffc-e317-0dd71a967782"
      },
      "execution_count": 22,
      "outputs": [
        {
          "output_type": "stream",
          "name": "stdout",
          "text": [
            "<tf.Variable 'Variable:0' shape=(3,) dtype=int32, numpy=array([4, 5, 6], dtype=int32)>\n"
          ]
        }
      ]
    },
    {
      "cell_type": "markdown",
      "source": [
        "> 3. **Placeholder Tensors:**\n",
        "> Placeholder tensors act as empty slots that are filled with actual data during the execution of a TensorFlow graph. They are typically used to feed input data into the model."
      ],
      "metadata": {
        "id": "ZlzmgN6R5bPk"
      }
    },
    {
      "cell_type": "code",
      "source": [
        "# Create a placeholder tensor\n",
        "#input_data = tf.placeholder(tf.float32, shape=(None, 10))\n",
        "#print(input_data)\n",
        "# Output: Tensor(\"Placeholder:0\", shape=(?, 10), dtype=float32)"
      ],
      "metadata": {
        "id": "1emfeJyG5c4Y"
      },
      "execution_count": 23,
      "outputs": []
    },
    {
      "cell_type": "markdown",
      "source": [
        "> 4. **Sparse Tensors:**\n",
        "> Sparse tensors are used to efficiently represent tensors with a large number of elements that are mostly zero. They store only the non-zero values and their indices, reducing memory usage."
      ],
      "metadata": {
        "id": "Gc0Aea8E5dXc"
      }
    },
    {
      "cell_type": "code",
      "source": [
        "# Create a sparse tensor\n",
        "indices = tf.constant([[0, 0], [1, 2]])\n",
        "values = tf.constant([1, 2], dtype=tf.float32)\n",
        "shape = tf.constant([3, 4])\n",
        "#sparse_tensor = tf.sparse.SparseTensor(indices, values, shape)\n",
        "#print(sparse_tensor)\n",
        "# Output: SparseTensor(indices=Tensor(...), values=Tensor(...), dense_shape=Tensor(...))"
      ],
      "metadata": {
        "id": "pX3SnGaq5df-"
      },
      "execution_count": 24,
      "outputs": []
    },
    {
      "cell_type": "markdown",
      "source": [
        "> 5. **Ragged Tensors:**\n",
        "> Ragged tensors are used to represent sequences with varying lengths. They are useful when dealing with data that doesn't have a fixed shape, such as sentences of different lengths."
      ],
      "metadata": {
        "id": "j-8y8buZ5dmP"
      }
    },
    {
      "cell_type": "code",
      "source": [
        "# Create a ragged tensor\n",
        "ragged_tensor = tf.ragged.constant([[1, 2, 3], [4, 5], [6]])\n",
        "print(ragged_tensor)\n",
        "# Output: <tf.RaggedTensor [[1, 2, 3], [4, 5], [6]]>"
      ],
      "metadata": {
        "id": "OVqTdtMU5drC",
        "colab": {
          "base_uri": "https://localhost:8080/"
        },
        "outputId": "f18c57c2-fa40-4a21-d857-e80b6d738684"
      },
      "execution_count": 25,
      "outputs": [
        {
          "output_type": "stream",
          "name": "stdout",
          "text": [
            "<tf.RaggedTensor [[1, 2, 3], [4, 5], [6]]>\n"
          ]
        }
      ]
    },
    {
      "cell_type": "markdown",
      "source": [
        "\n",
        "> 6. **String Tensors:**\n",
        "> String tensors are used to handle textual data. They are often used for text processing tasks, such as natural language processing.\n"
      ],
      "metadata": {
        "id": "HJW_N_WL5KXN"
      }
    },
    {
      "cell_type": "code",
      "source": [
        "# Create a string tensor\n",
        "string_tensor = tf.constant(\"Hello, TensorFlow!\")\n",
        "print(string_tensor)\n",
        "# Output: Tensor(\"Const:0\", shape=(), dtype=string)"
      ],
      "metadata": {
        "id": "G3jICyup5-Wa",
        "colab": {
          "base_uri": "https://localhost:8080/"
        },
        "outputId": "5670c9d9-90b3-4b9b-e8a4-d88169938ccd"
      },
      "execution_count": 26,
      "outputs": [
        {
          "output_type": "stream",
          "name": "stdout",
          "text": [
            "tf.Tensor(b'Hello, TensorFlow!', shape=(), dtype=string)\n"
          ]
        }
      ]
    },
    {
      "cell_type": "markdown",
      "source": [
        "## 2.2 Computational Graphs"
      ],
      "metadata": {
        "id": "Efux7UCVw3eO"
      }
    },
    {
      "cell_type": "markdown",
      "source": [
        "Computational graphs play a crucial role in TensorFlow.TensorFlow represents computations as a directed graph, where nodes represent mathematical operations, and edges represent the flow of data between those operations.\n",
        "\n",
        "\n",
        "> 1. **Nodes and Operations:**\n",
        "> In TensorFlow, each node in a computational graph represents an operation. Operations can be as simple as basic mathematical operations like addition or multiplication, or they can be complex functions like convolution or matrix multiplication. Each operation takes one or more tensors as input and produces one or more tensors as output.\n",
        ">\n",
        ">\n",
        "> 2. **Graph Construction:**\n",
        "> To build a computational graph in TensorFlow, you first define the operations you want to perform and the tensors involved. TensorFlow provides a high-level API called Keras, which simplifies the process of building and training deep learning models. Alternatively, you can use the lower-level TensorFlow API to define operations and construct the graph manually.\n",
        ">\n",
        "> 3. **Graph Execution:**\n",
        "> Once the computational graph is constructed, can execute it by running a TensorFlow session. A session encapsulates the environment in which the graph operations are executed and provides methods to feed input data and retrieve output data. During execution, TensorFlow automatically determines the dependencies between operations and optimizes the computation for efficiency.\n",
        ">\n",
        "> 4. **Lazy Evaluation:**\n",
        "> TensorFlow uses lazy evaluation, which means that the computations are not immediately executed when the operations are defined. Instead, TensorFlow waits until it is explicitly instructed to run the graph within a session. This allows TensorFlow to optimize the graph and perform various optimizations, such as common subexpression elimination and constant folding, before executing the operations.\n",
        ">\n",
        "> 5. **Automatic Differentiation:**\n",
        "> One of the key features of TensorFlow is its ability to automatically compute gradients for training models using backpropagation. TensorFlow keeps track of the operations that are executed during forward computation and constructs an additional backward graph that computes the gradients. This enables efficient gradient computation for training deep learning models.\n",
        ">\n",
        "> 6. **Distributed Computing:**\n",
        "> TensorFlow supports distributed computing, allowing you to train and execute models across multiple devices or machines. Computational graphs can be divided into smaller subgraphs and executed in parallel, enabling efficient distributed training and inference. TensorFlow provides tools and APIs for managing distributed training and synchronization between devices.\n",
        ">\n",
        "> 7. V**isualization and Debugging:**\n",
        "> TensorFlow provides various tools for visualizing and debugging computational graphs. The TensorBoard tool allows you to visualize the graph structure, monitor training progress, and analyze model performance. Additionally, TensorFlow provides built-in debugging capabilities, such as adding breakpoints and inspecting intermediate tensor values during graph execution.\n",
        "\n",
        "\n",
        "In TensorFlow 2.0, the eager execution mode was introduced. Eager execution enables immediate execution of operations, eliminating the need for sessions and graph construction. However, computational graphs are still used under the hood for performance optimization and automatic differentiation."
      ],
      "metadata": {
        "id": "CO3TreYSzBwU"
      }
    },
    {
      "cell_type": "markdown",
      "source": [
        "# 3 Tensor Handling"
      ],
      "metadata": {
        "id": "QaqokRSEdfap"
      }
    },
    {
      "cell_type": "markdown",
      "source": [
        "## 3.1 Creating Tensors"
      ],
      "metadata": {
        "id": "rkC6OvutdseZ"
      }
    },
    {
      "cell_type": "markdown",
      "source": [
        "\n",
        "1. **Creating Tensors in TensorFlow:**\n",
        "\n",
        "   a. Using `tf.constant()`:\n",
        "   - `tf.constant(value, dtype=None, shape=None, name='Const')` creates a constant tensor with a specified value, datatype, and shape.\n",
        "   - Example:\n",
        "     ```python\n",
        "     import tensorflow as tf\n",
        "\n",
        "     # Creating a 1D tensor with values [1, 2, 3]\n",
        "     tensor = tf.constant([1, 2, 3], dtype=tf.float32)\n",
        "     print(tensor)  # Output: Tensor(\"Const:0\", shape=(3,), dtype=float32)\n",
        "     ```\n",
        "\n",
        "   b. Using `tf.Variable()`:\n",
        "   - `tf.Variable(initial_value, dtype=None, name=None)` creates a mutable tensor with an initial value, datatype, and an optional name.\n",
        "   - Example:\n",
        "     ```python\n",
        "     import tensorflow as tf\n",
        "\n",
        "     # Creating a variable tensor with initial value 5\n",
        "     tensor = tf.Variable(5, dtype=tf.int32)\n",
        "     print(tensor)  # Output: <tf.Variable 'Variable:0' shape=() dtype=int32, numpy=5>\n",
        "     ```\n",
        "\n",
        "2. **Creating Tensors in NumPy:**\n",
        "\n",
        "   a. Using `numpy.array()`:\n",
        "   - `numpy.array(object, dtype=None, copy=True, order='K', subok=False, ndmin=0)` creates an array from a specified object with a desired datatype.\n",
        "   - Example:\n",
        "     ```python\n",
        "     import numpy as np\n",
        "\n",
        "     # Creating a 1D NumPy array with values [1, 2, 3]\n",
        "     array = np.array([1, 2, 3], dtype=np.float32)\n",
        "     print(array)  # Output: [1. 2. 3.]\n",
        "     ```\n",
        "\n",
        "   b. Using specialized methods:\n",
        "   - NumPy provides various methods like `numpy.zeros()`, `numpy.ones()`, and `numpy.random.rand()` to create tensors with specific values and shapes.\n",
        "   - Example:\n",
        "     ```python\n",
        "     import numpy as np\n",
        "\n",
        "     # Creating a tensor filled with zeros of shape (2, 3)\n",
        "     zeros_tensor = np.zeros((2, 3))\n",
        "     print(zeros_tensor)  # Output: [[0. 0. 0.]\n",
        "                          #          [0. 0. 0.]]\n",
        "\n",
        "     # Creating a tensor filled with random values of shape (3, 3)\n",
        "     random_tensor = np.random.rand(3, 3)\n",
        "     print(random_tensor)  # Output: Randomly generated 3x3 array\n",
        "     ```\n",
        "\n"
      ],
      "metadata": {
        "id": "VIMcsWZDdyl2"
      }
    },
    {
      "cell_type": "markdown",
      "source": [
        "##3.2 Tensor Manipulation"
      ],
      "metadata": {
        "id": "78rVakmeeTSF"
      }
    },
    {
      "cell_type": "markdown",
      "source": [
        "### 3.2.1 In TensorFlow"
      ],
      "metadata": {
        "id": "i264aXSNeccO"
      }
    },
    {
      "cell_type": "markdown",
      "source": [
        "Tensor manipulations in TensorFlow involve various operations to reshape, slice, concatenate, and perform element-wise computations on tensors.\n",
        "\n",
        "1. Reshaping Tensors:\n",
        "   - `tf.reshape()`: Reshapes a tensor into a new shape while preserving the total number of elements.\n",
        "     ```python\n",
        "     import tensorflow as tf\n",
        "\n",
        "     # Reshape a tensor\n",
        "     tensor = tf.constant([[1, 2], [3, 4]])\n",
        "     reshaped_tensor = tf.reshape(tensor, (4,))\n",
        "     print(reshaped_tensor)\n",
        "     # Output: [1, 2, 3, 4]\n",
        "     ```\n",
        "\n",
        "2. Slicing Tensors:\n",
        "   - Slicing allows you to extract a portion of a tensor.\n",
        "   - TensorFlow follows similar syntax to Python's slice notation.\n",
        "     ```python\n",
        "     import tensorflow as tf\n",
        "\n",
        "     # Slice a tensor\n",
        "     tensor = tf.constant([1, 2, 3, 4, 5])\n",
        "     sliced_tensor = tensor[1:4]\n",
        "     print(sliced_tensor)\n",
        "     # Output: [2, 3, 4]\n",
        "     ```\n",
        "\n",
        "3. Concatenating Tensors:\n",
        "   - `tf.concat()`: Concatenates tensors along a specific axis.\n",
        "     ```python\n",
        "     import tensorflow as tf\n",
        "\n",
        "     # Concatenate tensors\n",
        "     tensor1 = tf.constant([1, 2, 3])\n",
        "     tensor2 = tf.constant([4, 5, 6])\n",
        "     concatenated_tensor = tf.concat([tensor1, tensor2], axis=0)\n",
        "     print(concatenated_tensor)\n",
        "     # Output: [1, 2, 3, 4, 5, 6]\n",
        "     ```\n",
        "\n",
        "4. Element-wise Computations:\n",
        "   - TensorFlow provides various mathematical operations to perform element-wise computations on tensors, such as addition, subtraction, multiplication, division, etc.\n",
        "   - Example:\n",
        "     ```python\n",
        "     import tensorflow as tf\n",
        "\n",
        "     # Element-wise computations\n",
        "     tensor1 = tf.constant([1, 2, 3])\n",
        "     tensor2 = tf.constant([4, 5, 6])\n",
        "     sum_tensor = tensor1 + tensor2\n",
        "     print(sum_tensor)\n",
        "     # Output: [5, 7, 9]\n",
        "\n",
        "     product_tensor = tensor1 * tensor2\n",
        "     print(product_tensor)\n",
        "     # Output: [4, 10, 18]\n",
        "     ```\n",
        "\n"
      ],
      "metadata": {
        "id": "BQzfPGEAetLB"
      }
    },
    {
      "cell_type": "markdown",
      "source": [
        "### 3.2.2 Numpy"
      ],
      "metadata": {
        "id": "ve_93foeeyFQ"
      }
    },
    {
      "cell_type": "markdown",
      "source": [
        "\n",
        "1. Reshaping Tensors:\n",
        "   - You can change the shape of a tensor using the `numpy.reshape()` function.\n",
        "   - Syntax: `numpy.reshape(array, newshape)`\n",
        "   - Example:\n",
        "     ```python\n",
        "     import numpy as np\n",
        "\n",
        "     # Reshape a tensor\n",
        "     tensor = np.array([1, 2, 3, 4, 5, 6])\n",
        "     reshaped_tensor = np.reshape(tensor, (2, 3))\n",
        "     print(reshaped_tensor)\n",
        "     # Output:\n",
        "     # [[1, 2, 3],\n",
        "     #  [4, 5, 6]]\n",
        "     ```\n",
        "\n",
        "2. Slicing Tensors:\n",
        "   - You can extract specific elements or sub-tensors from a tensor using indexing and slicing operations.\n",
        "   - Example:\n",
        "     ```python\n",
        "     import numpy as np\n",
        "\n",
        "     # Slice a tensor\n",
        "     tensor = np.array([1, 2, 3, 4, 5, 6])\n",
        "     sliced_tensor = tensor[1:4]\n",
        "     print(sliced_tensor)  # Output: [2, 3, 4]\n",
        "     ```\n",
        "\n",
        "3. Concatenating Tensors:\n",
        "   - You can combine tensors along a specified axis using the `numpy.concatenate()` function.\n",
        "   - Syntax: `numpy.concatenate((array1, array2, ...), axis=0)`\n",
        "   - Example:\n",
        "     ```python\n",
        "     import numpy as np\n",
        "\n",
        "     # Concatenate tensors\n",
        "     tensor1 = np.array([1, 2, 3])\n",
        "     tensor2 = np.array([4, 5, 6])\n",
        "     concatenated_tensor = np.concatenate((tensor1, tensor2), axis=0)\n",
        "     print(concatenated_tensor)\n",
        "     # Output: [1, 2, 3, 4, 5, 6]\n",
        "     ```\n",
        "\n",
        "4. Mathematical Operations on Tensors:\n",
        "   - NumPy supports various mathematical operations on tensors, such as element-wise operations (`np.add()`, `np.multiply()`, etc.), matrix multiplication (`np.dot()`, `np.matmul()`, etc.), reduction operations (`np.sum()`, `np.mean()`, etc.), and more.\n",
        "   - Example:\n",
        "     ```python\n",
        "     import numpy as np\n",
        "\n",
        "     # Perform mathematical operations on tensors\n",
        "     tensor1 = np.array([1, 2, 3])\n",
        "     tensor2 = np.array([4, 5, 6])\n",
        "     sum_tensor = np.add(tensor1, tensor2)\n",
        "     print(sum_tensor)  # Output: [5, 7, 9]\n",
        "     ```\n",
        "\n"
      ],
      "metadata": {
        "id": "M_0Ps7Lse2PE"
      }
    },
    {
      "cell_type": "markdown",
      "source": [
        "# 4 Building Neural Networks with TensorFlow"
      ],
      "metadata": {
        "id": "m3-ezZc95Vw4"
      }
    },
    {
      "cell_type": "markdown",
      "source": [
        "## 4.1 Tensor Flow Syntax"
      ],
      "metadata": {
        "id": "kXXFTfDmV-3w"
      }
    },
    {
      "cell_type": "markdown",
      "source": [
        "Consider the followng network\n",
        "```\n",
        "      +------------+         +------------+         +----------+\n",
        "      |   Layer 1  |         |  Layer  2  |         |     3    |\n",
        "      |            | ----->  |            | ----->  |          |\n",
        "      |(25 Neurons)|         |(15 Neurons)|         |(1 Neuron)|\n",
        "      |            |         |            |         |          |\n",
        "      +------------+         +------------+         +----------+\n",
        "        Input                    Hidden             Output\n",
        "```\n"
      ],
      "metadata": {
        "id": "-R_-QsJbWdN6"
      }
    },
    {
      "cell_type": "markdown",
      "source": [
        "1. Create the model\n",
        "\n",
        "> ```\n",
        "> import tensorflow as tf\n",
        "> from tensorflow.keras import Sequential\n",
        "> from tensorflow.keras.layers import Dense\n",
        ">\n",
        "> model = Sequential([\n",
        ">         # tf.keras.Input(shape=(400,)), ~ if an input re-modeling is required\n",
        ">         Dense(units = 25 , activation = 'sigmoid'),\n",
        ">         Dense(units = 15 , activation = 'sigmoid'),\n",
        ">         Dense(units = 1 , activation = 'sigmoid')\n",
        "> ])\n",
        "> ```\n",
        "\n",
        "2. Loss and cost functions\n",
        "\n",
        "> ```\n",
        "> from tensorflow.keras.losses imporrt BinaryCrossentropy\n",
        "> model.compile(loss = BinaryCrossentropy())\n",
        "> ```\n",
        "\n",
        "3. Gradient descent\n",
        "\n",
        "> ```\n",
        "> model.fit(X,y,epoches =100)\n",
        "> ```"
      ],
      "metadata": {
        "id": "WdfThmZQZHPc"
      }
    },
    {
      "cell_type": "markdown",
      "source": [
        "## 4.2 Loss Functions\n",
        "\n",
        "|   Name      |  Mathematical Expression   |   Applications        |   Other Notes     |   Code      |\n",
        "|-------------|----------------------------|-----------------------|-------------------|-------------|\n",
        "| Mean Squared Error (MSE) | $\\frac{1}{n}\\sum_{i=1}^{n}(y_i - \\hat{y}_i)^2$ | Regression tasks | Sensitive to outliers | `tf.keras.losses.mean_squared_error` |\n",
        "| Binary Crossentropy | $-\\frac{1}{n}\\sum_{i=1}^{n}[y_i\\log(\\hat{y}_i) + (1-y_i)\\log(1-\\hat{y}_i)]$ | Binary classification tasks | Suitable for binary output | `tf.keras.losses.binary_crossentropy` |\n",
        "| Categorical Crossentropy | $-\\frac{1}{n}\\sum_{i=1}^{n}\\sum_{j=1}^{C}y_{ij}\\log(\\hat{y}_{ij})$ | Multiclass classification tasks | Requires one-hot encoded labels | `tf.keras.losses.categorical_crossentropy` |\n",
        "| Sparse Categorical Crossentropy | $-\\frac{1}{n}\\sum_{i=1}^{n}\\log(\\hat{y}_{i})$ | Multiclass classification tasks | Handles integer-encoded labels | `tf.keras.losses.sparse_categorical_crossentropy` |\n",
        "| Kullback-Leibler Divergence (KLD) | $\\frac{1}{n}\\sum_{i=1}^{n}y_i\\log\\left(\\frac{y_i}{\\hat{y}_i}\\right)$ | Used for unsupervised learning,<br> variational autoencoders | Measures the dissimilarity between <br> probability distributions | `tf.keras.losses.kullback_leibler_divergence` |\n",
        "| Huber Loss | $\\frac{1}{n}\\sum_{i=1}^{n}L_\\delta(y_i, \\hat{y}_i)$, $L_\\delta$ is defined as: <br> $L_\\delta = \\begin{cases} \\frac{1}{2}(y_i - \\hat{y}_i)^2 & \\text{if } |y_i - \\hat{y}_i| \\leq \\delta \\\\ \\delta(|y_i - \\hat{y}_i| - \\frac{1}{2}\\delta) & \\text{otherwise} \\end{cases}$ | Robust regression tasks | Less sensitive to outliers than MSE | Custom implementation |\n",
        "| Mean Absolute Error (MAE) | $\\frac{1}{n}\\sum_{i=1}^{n}|y_i - \\hat{y}_i|$ | Regression tasks | Robust to outliers | `tf.keras.losses.mean_absolute_error` |\n",
        "| Cosine Similarity | $-\\frac{\\sum_{i=1}^{n}y_i\\hat{y}_i}{\\sqrt{\\sum_{i=1}^{n}y_i^2}\\sqrt{\\sum_{i=1}^{n}\\hat{y}_i^2}}$ | Similarity or ranking tasks | Measures the cosine of the angle <br> between two vectors | `tf.keras.losses.cosine_similarity` |\n"
      ],
      "metadata": {
        "id": "D-2jolpqbSty"
      }
    },
    {
      "cell_type": "markdown",
      "source": [
        "## 4.3 Activation Functions\n"
      ],
      "metadata": {
        "id": "qNy_WYPLdAeW"
      }
    },
    {
      "cell_type": "markdown",
      "source": [
        "\n",
        "|   Name      |  Mathematical Expression   |   Details              |   Code      |\n",
        "|-------------|----------------------------|-----------------------|-------------|\n",
        "| Linear      | $f(x) = x$               | Linear activation with no <br>activation applied. Useful in <br> regression tasks or as a last <br> layer for regression outputs. | `tf.keras.activations.linear` |\n",
        "| Sigmoid     | $f(x) = \\frac{1}{1 + e^{-x}}$ | Non-linear activation function <br> that squashes values between <br>0 and 1. Commonly used in <br> binary classification tasks or <br> as a last layer for binary outputs. | `tf.keras.activations.sigmoid` |\n",
        "| Tanh        | $f(x) = \\frac{e^x - e^{-x}}{e^x + e^{-x}}$ | Non-linear activation function <br>that squashes values between<br> -1 and 1. It is useful in neural <br>networks as it introduces <br>non-linearity and can be used in<br> classification or regression tasks. | `tf.keras.activations.tanh` |\n",
        "| ReLU        | $f(x) = \\max(0, x)$      | Rectified Linear Unit (ReLU) <br> activation function. It returns 0<br> for negative inputs and the input<br> value for non-negative inputs, <br>introducing non-linearity. <br><br>Commonly used in hidden layers<br> of deep neural networks. | `tf.keras.activations.relu` |\n",
        "| Leaky ReLU  | $f(x) = \\max(\\alpha x, x)$, $\\alpha < 1$ | Leaky Rectified Linear Unit<br> (Leaky ReLU) activation function.<br> It is similar to ReLU but allows <br>small negative values for negative <br>inputs by introducing a small slope<br> $\\alpha$ for negative inputs. Helps prevent <br>\"dying ReLU\" problem. | `tf.keras.layers.LeakyReLU(alpha)` |\n",
        "| Softmax     | $f(x_i) = \\frac{e^{x_i}}{\\sum_{j=1}^{C} e^{x_j}}$ | Activation function that converts a <br>vector of values into a probability<br> distribution, ensuring the sum of the <br>outputs is 1. <br>Used for multiclass classification<br> tasks. | `tf.keras.activations.softmax` |\n",
        "| Swish       | $f(x) = x \\cdot \\sigma(\\beta x)$, $\\sigma$ is the sigmoid function | Activation function that combines<br> the linearity of the identity function <br>with the non-linearity of the <br>sigmoid function.<br> Proposed as an alternative to ReLU,<br> offering better training performance. | `tf.keras.activations.swish` |\n",
        "\n"
      ],
      "metadata": {
        "id": "Aj41I57wdafJ"
      }
    },
    {
      "cell_type": "code",
      "source": [
        "#Plot activation functions\n",
        "import numpy as np\n",
        "import matplotlib.pyplot as plt\n",
        "import tensorflow as tf\n",
        "\n",
        "# Define x values\n",
        "x = np.linspace(-5, 5, 100)\n",
        "\n",
        "# Define activation functions\n",
        "activation_functions = [\n",
        "    ('Linear', lambda x: x, tf.keras.activations.linear),\n",
        "    ('Sigmoid', tf.sigmoid, tf.keras.activations.sigmoid),\n",
        "    ('Tanh', tf.tanh, tf.keras.activations.tanh),\n",
        "    ('ReLU', tf.nn.relu, tf.keras.activations.relu),\n",
        "    ('Leaky ReLU', tf.nn.leaky_relu, tf.keras.layers.LeakyReLU(alpha=0.2)),\n",
        "    ('Softmax', tf.nn.softmax, tf.keras.activations.softmax),\n",
        "    ('Swish', lambda x: x * tf.sigmoid(x), tf.keras.activations.swish)\n",
        "]\n",
        "\n",
        "# Create subplots\n",
        "fig, axes = plt.subplots(2, 4, figsize=(16, 8))\n",
        "axes = axes.flatten()\n",
        "\n",
        "# Plot each activation function\n",
        "for i, (name, activation_func, _) in enumerate(activation_functions):\n",
        "    y = activation_func(x)\n",
        "    ax = axes[i]\n",
        "    ax.plot(x, y)\n",
        "    ax.set_title(name)\n",
        "    ax.set_xlabel('x')\n",
        "    ax.set_ylabel('f(x)')\n",
        "\n",
        "# Adjust subplot spacing\n",
        "fig.tight_layout()\n",
        "\n",
        "# Display the plot\n",
        "plt.show()\n"
      ],
      "metadata": {
        "id": "ztfRHb3PfDwp",
        "outputId": "7b0a9eac-d7b5-46d8-dc1b-50d641755868",
        "colab": {
          "base_uri": "https://localhost:8080/",
          "height": 761
        }
      },
      "execution_count": 27,
      "outputs": [
        {
          "output_type": "display_data",
          "data": {
            "text/plain": [
              "<Figure size 1600x800 with 8 Axes>"
            ],
            "image/png": "[encoded data removed]"
          },
          "metadata": {}
        }
      ]
    },
    {
      "cell_type": "markdown",
      "source": [
        "## 4.4 Optimization Algorithms"
      ],
      "metadata": {
        "id": "MC7IKsmKXbcE"
      }
    },
    {
      "cell_type": "markdown",
      "source": [
        "\n",
        "\n",
        "| Algorithm             | Explanation                                                                                                                               | Applications                               | Code (TensorFlow)                                                                                                                         |\n",
        "|-----------------------|-------------------------------------------------------------------------------------------------------------------------------------------|--------------------------------------------|-------------------------------------------------------------------------------------------------------------------------------------------|\n",
        "| Stochastic Gradient Descent (SGD)         | The basic optimization algorithm that updates <br> parameters using the average gradient of a <br> randomly selected subset of the training data. | Neural networks, deep learning              | `tf.keras.optimizers.SGD(learning_rate=0.01)`                                                                                              |\n",
        "| Adam                  | An adaptive optimization algorithm that<br> computes adaptive learning rates based on <br>the first and second moments of the gradients.          | Neural networks, deep learning              | `tf.keras.optimizers.Adam(learning_rate=0.001)`                                                                                            |\n",
        "| RMSprop               | An adaptive optimization algorithm that divides <br>the learning rate by a running average of the root<br> mean square of past gradients.        | Neural networks, deep learning              | `tf.keras.optimizers.RMSprop(learning_rate=0.001)`                                                                                         |\n",
        "| Adagrad               | An adaptive optimization algorithm that adjusts<br> the learning rate based on the sum of squared <br>gradients for each parameter.              | Sparse data, natural language processing    | `tf.keras.optimizers.Adagrad(learning_rate=0.01)`                                                                                           |\n",
        "| Adadelta              | An extension of Adagrad that limits the<br> accumulation of squared gradients by using a <br>decay rate.                                        | Neural networks, deep learning              | `tf.keras.optimizers.Adadelta(learning_rate=1.0)`                                                                                           |\n",
        "| Adamax                | A variant of Adam that uses the infinity norm <br>(maximum absolute value) of the gradients instead <br>of their L2 norm.                       | Neural networks, deep learning              | `tf.keras.optimizers.Adamax(learning_rate=0.002)`                                                                                          |\n",
        "| Nadam                 | An extension of Adam that incorporates Nesterov <br>momentum in addition to adaptive learning rates.                                         | Neural networks, deep learning              | `tf.keras.optimizers.Nadam(learning_rate=0.002)`                                                                                            |\n",
        "| Ftrl                  | An optimization algorithm designed for linear<br> models with large-scale sparse data.                                                        | Large-scale linear models                   | `tf.keras.optimizers.Ftrl(learning_rate=0.1)`                                                                                               |\n",
        "| Proximal Gradient Descent (PGD)           | An algorithm that performs proximal updates<br> by adding a proximal term to the traditional <br>gradient descent.                               | L1 or L2 regularization, sparse models       | `tf.keras.optimizers.ProximalGradientDescent(learning_rate=0.01, l1_regularization_strength=0.01)`                                        |\n",
        "| Natural Gradient      | An optimization algorithm that considers the<br> geometry of the parameter space by using the<br>Fisher information matrix.                     | Variational inference, natural gradient      | Custom implementation                                                                                                                      |\n",
        "\n"
      ],
      "metadata": {
        "id": "E7Xkl85CYNBH"
      }
    },
    {
      "cell_type": "code",
      "source": [
        "''' Syntax ~> compile\n",
        "model.compile(optimizer =tf.keras.optimizers.SGD(learning_rate=0.01))\n",
        "'''"
      ],
      "metadata": {
        "id": "lKgAVg4oZfJ2",
        "colab": {
          "base_uri": "https://localhost:8080/",
          "height": 35
        },
        "outputId": "1e19feef-c202-4b77-f9e3-73c14e0d538e"
      },
      "execution_count": 28,
      "outputs": [
        {
          "output_type": "execute_result",
          "data": {
            "text/plain": [
              "' Syntax ~> compile\\nmodel.compile(optimizer =tf.keras.optimizers.SGD(learning_rate=0.01))\\n'"
            ],
            "application/vnd.google.colaboratory.intrinsic+json": {
              "type": "string"
            }
          },
          "metadata": {},
          "execution_count": 28
        }
      ]
    },
    {
      "cell_type": "markdown",
      "source": [
        "## 4.5 Softmax"
      ],
      "metadata": {
        "id": "-wj7OAguU-dS"
      }
    },
    {
      "cell_type": "markdown",
      "source": [
        "![image.png](data:image/png;base64,iVBORw0KGgoAAAANSUhEUgAAAxcAAAGnCAYAAADFdapgAAAAAXNSR0IArs4c6QAAAARnQU1BAACxjwv8YQUAAAAJcEhZcwAADsMAAA7DAcdvqGQAAP+lSURBVHhe7J0FmFRVG4A/WHLpbukSJAQEAUFBBBQVC7BQUdHfVsRWDOxGREVFwUZUkDQoBUSQ7u7OJRY22PnPe3buOg6zPbU73/s837M7d+7MzTn365PHZRBFURRFURRFUZRsktf9V1EURVEURVEUJVuocaEoiqLkCnbv3i2HDx+2/+/bt0/2799v/z948KDs2bPH/n/kyBG7HsTGxqb8Hx8fb/9PTEyUpKQk+//Jkyfte/x/7NixlP91G7oN0G3oNpzvdbYRExNjX0c6alwoiqIouYJ//vlHNm7caP9fsmSJrFy50v6/du1a+x5s3bo15f+9e/fa/8kORlHgf5QEFBD+R5EA/t+5c2fK/7oN3QboNnQbzv9sY9OmTZKQkGBfRzpac6EoiqLkaHioI23atJF8+fJJgQIF5MSJE5InTx4pVKiQxMXFyalTpyQ6OtoqFHgt+Z+/vOZ/3mc91udzfL5gwYISFRVlFZH8+fNb4X/dhm5Dt6Hb8N4GkRDWV9S4UBRFUXI4mzdvtsbFBRdc4F6iKIoSXObPn29Tpnr06OFeErmocaEoiqIoiqIo2YA0qaNHj0qjRo3cSyIXNS4URVGUHM2OHTusnHPOOe4liqIoSqjQgm5FURQlR3P8+HFbUKkoihIqSIuaOHGi+1Vko5ELRVEURfEDFHuuX7/eFnZC8eLF5YwzzrDFoOlBOsUPP/wg27ZtkyJFisiNN95oi0pLly4txYoVc68VWmjTSX2Lp9rAsZUrV07Kly+foePMLBTTbtmyRWrVqpVSLMv5pasPr9muooQDa9askUOHDtnGEpGORi4URVGUHA196J1WkaGCnvijRo2SKVOm2NxrCsw//vhjWbZs2X+U8dRYvXq1jcA88MAD8tBDD9kONt9//701VsIFjumNN96w+8QxOuLMBxAImDtgyJAh/9kGRhwe4lmzZrmXKEroqV+/vhoWbtS4CDB4WKZNmybPPPOMPPLII/Lkk0/aB4iiKIriH/AWOj3pQwHGw59//mmV7ltuuUUuueQSufTSS+XWW2+1z4CMGBdELIhSFC5c2L0kPKFlZ9euXe0xIhdffLFVqgIRtUgNDK9rrrlGLrzwQvcSRQk9y5cvl5kzZ7pfRTYRnxbFzIyEsn766SfZsGFDSv/i2rVrS/PmzeXcc8+1oe2sDJw8VCZMmGBD3fRHpmcy/ZNfeOEFux0GSKfXcm6BosqhQ4faMLYnHGe3bt2kU6dOUqZMmVx1zFmB64/njXvjiSeesA9nRVFyJjxGx4wZIwsXLpRnn33Wju3e0Af/jz/+kB9//NGujxFx9913S/Xq1e1EXB999FHK8hYtWth0HyIXfBfPDV7fdttt1ll14MABq+QT7eDvzTffLAsWLLCTfZEqdPXVV9tnF+MM25s6dap9/gDPtV69eknRokVl0qRJMnfuXBspwbDhGfjJJ5/Yz7MP3hCFeeedd+S9996zz0lPMK5++eUXGTRokN1fnn9vvfWWNGzY0BohjHXr1q2z6U1EHJgjAAPh/PPPt8dA+tPkyZNl+vTp9rNly5aVK6+80p4DUrFIDcubN680btzYHu8XX3wh9erVs5/nvBHhePfdd216GXTv3l0uuugiez7Ihf/555+twffNN9/Y5z7n59prr7X7qij+YPHixXYmbzV6RaLMQPis+/+Ig2naP/vsM/tQYGBlEKxZs6ZUqFDBzuLIg4CHRYcOHVIG5szATYZxgWJN1KJPnz5WwWbgHDhwoB1M2SYDa26BgX3evHn2oUZ4kPNZo0YNa6D9/fff9uGEIs3rSIcHHIrDWWedZR/0iqJkDcZyCrpLlCjhXhJcHGcJij//o+jyzHDGOZRflGbGxvvvv1969+5tlWyePdWqVbOtK1G2cWoNGDDAKvYVK1aU7du3W0OACAhKNN+3dOlSW2/A8+S6666zdRBjx461yjTGB59jOw0aNLCKNc8Xogtss0uXLtaZxv7xPvUgu3btsh5Xtv3rr7/KmWeeKR07drT77Q3nePbs2XY/2DeUfr6rUqVKNvKCceIYCxzzX3/9ZesxMAJWrVplt42DCeOgadOmMnr0aLtdrhtGBM+PBx98UHr27GmfHSVLlrTjI4bTc889Z89Fq1atrKHGecBRxfOFuQW+/PJL+93/+9//7D7MmDHD7hPPWI4RA6Ny5crWoGvbtq18+umn1mDjHCiKP+C3x+9aieC0KAY+PC14jJh4iQGpf//+Vu644w6566677IDOwJ9VCNUjDPpVqlRxL40MGPQ5f57nFC8Sgz05yZEOHrhmzZpJv3797ICkKErWQblE2QwlKOU8N0qVKmUjBe+//76NRqCA42zB8GjZsmXK7x2lFqV87dq11uGUGVC8q1atav/HWYOC7Sg1KP44LqhLQMnHiKAehbqFDz74wBoSGASA44vnE/swbNgwq7TjTEsLjCeiK47wHRmFYybywHdwHnCq4MjDQMKAaN26tS1mB44po2MjxhaOGifawndgaGDQ8QwGrgseZcZejBa+H6NDUfwFaZHcx0oEGxcMZnhSGNQxLvBgMOgAAzKvGWQxOjIzeHqCNw1PjHrpxYa0zz77bBvqxruVkJDgfkdRFCV71KlTx0aFQwkKMylHPDeefvppW2fH84XUIwrODx48aI0JB543KMREsLMDaT3Os8sboiEjR460XvybbrpJbr/9dqvAe0bLedbh5EBB51mYXhSVbWEk8T0IThLP78sonC/n2crzgNeOYZEZcBRS7M1z1jPDgOOg2xbnwBu25Z3WpSjZBUNWDdZkIta4YHBhkGRgwtDgrzes452PyUBFXt0rr7xiQ9IIYW7yWsmDdb6H8PLbb79tB7fXX3/drnf99dfLq6++aj36eGtImWLA5z0eRtyUeLjIWX3ttddsSJl8fGc7L730krWM6dhBvikPBJbfeeed1lOGp8qB/SB/le/t27evXY/1n3/+eZue5Ay4PPxGjBhh92PcuHH/8aDxfeTXcnx4u3ydo8zgeLl4EHFuPeEBSyh/8ODBKcdLeJzokpND68D1mjNnji2OZz3OK8fFOSFKQiobsL/k9vJAJcWN437qqafs+g8//HDK9aJOhDxcDEm+j/P14YcfWo+jJzzA8D6StkCbSNblWnKdMZgc2D+29fjjj6dcX9bn+rFvXGOEHGCuieNZA/aHhzxdZzgWPnvLLbdYryLb8LwGfAf1O3wvXls8paQb8BnS7thWZj2iipITYazyHieCCb9Lp5sRYxvpSIx3pAPxHoouqT9EWBxYjlLNuoECg4bnCpFjts8+eaf4st9fffWVVc4xQhi/gg3PBM6H5zMso3C+OTauP2Oig5N2mpWUZkXJCqTs9ejRw/0qsolY4wIllzAyBgZ5nxgDdBtJb2ClEwAFbyht5IVeddVVNiyNocBy2vIBeaTUHDCw4c2iQI5127dvL5dffrkd9PjcFVdcYd8jhOvpMSKqgseJdXifcC7LMDpob0i+Kzcx+0A0gNoRFFoHBmqKqgkFU8TGdziePYrxHAWc4yePldC5cw4A44P0JUJ8dAYhb9XbIMgM7A9KPA87vstzwOeBQCEgCjWeK+dccX1Q8jF6eFAADx8KoTnXeJ44f6xLiBvjJDW4bnyOkDzrk6LFg5bjpeiQ80GBH9smTYDlpBBQNwN0+CKn1yki5BqyLrnJvOe0wXT2D2OAVDjPc48SgZGWVtSG9ASMBM57u3bt7L5y7TEo2R+KL73hOmMgcjyXXXaZ3Sb3MTnFnkaPouRWSLekFiBU8Dzgd89Y5fy+cRrgHGEcY6w677zzUgo+geJmFH/GE1+RB8YLxkOiHlmFcZdx2xk/GX8pAnecDoxdPLuo+aAukH3PantX6hZR8Nlftkt9nZN+lR5EthnDqYtwIjk4WThXGD04+cgESA3SpzjGFStW2NesiyOI5y0puooSDNBxeIYrEVzQzWCO8kcEAcUSxZ2BH+UNYVBjsPRU+HlYoOCR64qHmJAwebYMzISWUcYdo4EiNgZ1lESK6DAEUKrJOcXw+P33322aEMojCi85tHyWQRlFmMGW4jwK03if7bB9lEwGTIrz+DzL8dpwDHh/yDnl2Ng2gzWWNMYN67F9tkNEBCWY0DafYeCmiJ2HAQo6YW6Uawrs2BbKaka9azxcHCWfEDvfz4OM84tyzv948zk+B7x5GFKkE2DosH32l+MGrguvyZNFkcbLxjHh0ed4eQ/h/KHkc1xO+gFKBx1UuEY33HCDfY//uQYYNd999509p3j6KfJzzjWFf1w7zg0PfwYMlAfeI1rRpEmTlO1SmMh5xWDlYcrDmgfaPffcY99z1uMzpG84oX+UCx70GG8YBjxUOQ8cI/cXBpCzP47xhHFyzjnnWGWFewXlhXPMsWGgUvzI+uw39wT3Zd26dbNlGCpKuMNvit9sVlNYswu/L8Z8UqBQaokAIBgUOCAYmxj7ed4w5hBJZVyjGxJjAmM2Yxe/aX6/vMYBw++XYm2+i3GMcYCxmfUYW1iPZxURbcZNxhEiEYy3vM84RPScyDrb5LMo6+wv6/Os4bOMu4yvPO84Bo6FZ4I3FHTzfKRA3Duqz+cxTnDWEVnGscW+cV2cgm6On/GL/eZZgEMM44t1+Ms6HC/7hWOEMZNj4Bn37bff2mNAgeMceRZ0c/0xMDi3nCs+z3nl2cW5x1BhvOV6OFESjoPv5bsUxR/QsAAHM/d7pKMzdBu4GRhQ8Xqg4KF0Ot4nUmVQOhmMKQ5DQUaRQ+n3VNj4zIsvvmj/pxsFgx7KIMYIaSoYGA5sg5QflGla8XkO0nwPKT4M7qTMeOaFouwTXWA5XnYHFFpsRLZJGpRnHivKNcYESizeHMdrhhJKeo9jNHAbYBwxgDNYE7lg4H3sscfs+xkltVa0nCuK41HMUXY9YbsYW7zn3bmD/eYcYpBg6OAZZH3OMcfgCV4vojqkiWF4cUx4M1HYMdQwBj3hulPkiMHBQ8gTHtBETShw5HoQKSLCAZwTokU8/B1DzgGvHfvLQ5xrwgOP9Xiged8vGCs8SN988037IOYhTxoaxitpW57RHY6F1C0iPByf02aSlCgUClK/uF4OGEzcCxgcpHl5fpei5Db4LaCseiu8iqIoSvCJ2LQoT1BoUdhIF0K5Q3nEa4ySjkKHgg6EsPGCoAh6KoqA8kikA8+MrwIyf+BZDOgJBoinEQIYMMOHD7cK7qJFi6xHin7qePp9PYA5Ho4ZpRUPD4YI6TxZBU8SyjzfRyQH5ZY0H2/jAaWZ2gY8S9QPoCR7Coq3J3jOOBZ/FMkTCeI8UfvgvV0iGZ4pRZx7jodrS60HhiSGGLUueNuca473jmgRkRmUe84/qVQYhXge05pAkXsHg5CImrcxwPXh/kKBIrUhPTg/ofLiKkqw4beK4a0oihIqeDajyyhqXJwGiivKMD3ECZeifDp1FICS521YhCN47EmLISRPe0RSdO69914bHcDT7QuOCyMJvD3ymQXPPttlm0QZCFFTYM4+eQbL+B9DBoMNYwYjz1tIfyLM6OyPP84/2yVHl8gEkQtf20XYJ84JijqpAyyjIJy0KqITRLKokSAUDxhuRKlYjwgTYX0iSxgiRHSIVqRXtJgT7i9FCSeIEJIGpCiKEipwcqDjKGpcpAqeY7y/eIodrzTeaxRSPN6eCjIQlmc5HutAdv/ICOwzXnL2nxxTclmJJLBfqSmuHA+pSRTzUQOAB54icX9EYTA06HyE4fb555+npGYBRgzv85eiclLFvIWIh2f+L3Ud2e0Mw3lwzgkGga/tIk4NC7AutR4UWJPqRloZ3adIRyKC4Zwr7h3qOqg5wSB54IEHbMcwDCyMPu4TX3C92BdSyzB6POH68Dn2hQiGoij/wm8nO3MSKYqiZBfqmDxT4COZiDUuyI2nyI0iOpQ2T2UOJZFoBe+hODrFOXjG8GBTS4E32jEwMDgoTKPoF4+2Z7GyL1Bs8YaT4uMP5d0XpG9h8BB5cfaT//G2s9wT3sfiRkEmWnPttdfaXH3Ce3jcs9Ie0BuMA6JBHDdtfJ2OIoDxwL5RG0J7WGf/+EuYkeJA6hGAWgpSi6iPcc4d6xH9yGxXFZQRCgmp1aA4kOvoea5ID2MGXaBQi2JCtsH2MAJIRcMwouiSz3FdSZ2jNgcDgRQnDA0iRSg/TkpYagYe+0JKFPcRqWyex8fxc9/xPVospij/hd8MjRQURVFCBc98f+hLuYGI7RaFguoU1KK4oTSiePOQYtbu8ePH2/Vo7UnhMAqhk07kKLsU/aKA8pr1MSwoDKawGlAw+S4+z3sOfBcFzyi0KJDUHGBo8DmUVjpd4FXHS85rBwweIhIs9/TScTOTlsO6pEHxF6MILzmfQfF29pNl7DdKMYXqKPso8NQFoMRSb0DUAoWZLk4o1Bw3Rd5OylRa+OoW5cA2MXro0kGBNB2WUJZJiSLaglKOkcN2uRZ0RqIegvU5h6Q+cF44d4Qe2RbHx3oUeWMkoOT76haFUeLMaOuAoYjRg6HCNrgHuGYYEkRwMCw4l5wntkMkh+vJ+aRgmnuFz1FzgYHEPnIuv/76a3sNqaHg2rIe+4sByjrUZHBeuCae3aLYFvcAXbvYZ4xetst9wr3KveK0DQaOlW5RfI4Ii2eNBcYRkSjuE6erjKLkVhg/uP9phKEoihIK6ACHU1odgBFsXKCQodyicKLMclOgAKKoomRSiEybQG/FDO8zn0FpRBlmfeYU6Ny5s10fz7PjmU7NuOD7UGrZDkosyiOKMtvCG55d4wJvOakzKPMcF8o+xhDHS0SC78CAcLpgEZ1AySWy4NQ2kAJEOhWKNj8WjAunvW5apGVc8D/7jVLMcXPeUJRRrDmveO4xLjAS2G+2zfnkvFIHwz5hnHAuiXBwzCjiRAtQ7mm1i1HCtXOUjLSMC+A88Tn2ievP9eKaYnxS4E4KFIYaKV3sC9cMI43vZD2uEwYoKVScfxQcDBuODUOO42A9DAPmzyBkSmSL7XkbF8A141hZ36mbwZBhGe2HufbONVDjQlGS4XeohoWiKKGEZzvPf+8GO5GItqJVcg149+kYQ/G6eg4UJXIgOojo7LiKooQK1GlEnXla0K3kMEh/INKE8D+QzkWUCE8/0QVfkz8pipJ7IXKhv3tFUUIJmQ/MmaZo5ELJYZAuRJ0MqVqkOZFqRTE+KWMUoDuT5annQFEURVGUYEHtLDPik0Ye6ahxoeQoiFJQ00H6EzUL3L7UQ5xzzjm23oQ6Ec86D0VRcj/UJVEHR52XoiiKElrUuFAURVFyNGpcKIoSamhGQ8q21n6pcaEoiqIoiqIo2YI2+XTMbNy4sXtJ5KLGhaIoipKjoaEDNVfMIaMoiqKEFq16VRRFUXI0zEtDOoKiKEqooFsULfEVNS4URVGUHA7z2miec/jAZKhM2Hr++efbZhtMDvrAAw+431WU3AmT6DExr6JpUYqiKEoOh5nz9+/fb2fbV0IPUSQMjCZNmsg777wjCQkJMmDAAClevLh7DUVRcjMauVAURVFyNIcOHbLKrBIeMKEh8w09+uijsnv3brnvvvv+Y1js3nBYht/zu8TFJriXKErOZ8WKFfLHH3+4X0U2alwoiqIoORpNiwo+TF568OBB2bVrl508jAlOHY4dOyYDBw60/7/++utSqFAhOydR/IlEmfn1Spk4dKFsWrJPXKc0cULJPRChi4uLc7+KbDQtSlEURcnRHDlyRGJiYqRatWruJUogOXDggHz33XeyePFiOXnypGzcuFHuuOMOuf76621x/eDBg60Ht3///jZdjfacjzzyiERHF5GEk4lyYPtRee/WX2TQpKukULEC7m9VFCW3oJELRVEUJUdD6s2SJUvcr5RAM2TIEBk/frzcdddd8vHHH9ui7d9++816bvPmzStdunSR+++/XwoXLmwNvssuu8z+nzdvHikYnV/ymL+KktsgNXPhwoXuV5GNGheKoihKjqZOnTrStWtX9yslkGzdulW++eYbueWWW6Rp06Zy6tQpmwZFalq+fPmkSJEicuGFF0qfPn1SpGXLlhIVFeX+BkXJnZAmyHw7ihoXiqIoSg6HfH/ScZTAQhb1G2+8YQ0K/idaQbE2aWnXXXddugaEK8klB3cek7V/75KkU0my5u+dcmT/CfOGewVFycEwiafWfiWjNReKoihKjmbt2rVW9MEeWCji7tChgy1avfjii6Vy5co27YllGWkzeyrRGBRzdsrWlfvt6zx58ki91pWkRtNy9n9FyckQtXCieJGOGheKoihKjoai4hMnTkipUqXcS5RAQMQCo6J69ery/vvvS/78+a2hMWPGDGnWrJltQasokcr8+fPtHC/q5NC0KEVRFCWHU6BAATs7rhJYSHvq27evrFy5UjZv3mznF3nqqaesUsUs3IoSyWha1L9o5EJRFEXJ0WhaVPAgekHUYvbs2SnGBgXcFHMrSiRDQTdRVNIFIx01LhRFUbIIiha9/mvVqhWclJz9i0TyFRMpWce9QAHmuEDOOOMM9xJFUZTgomlR/6JpUYqiKFmEIlR6m7/33ns25z/gFConMucRY2QsdS9QoESJEmpYKEoAwXgnOkhRfzjx0UcfpTnHDal7X3/9td3/uXPn2rlYAgWtmYniKRq5UBRFOY2vvvpKfv75Z/ertImNjbUTJ73++uu2HadfiD8isvwjkb3/uBd4cHitSOmGIh3eM8ZGGfdC/7Fs2TJbtEvKy7fffitt2rRxvxO+aFqUomSO7du3y+HDh92vkilatKiUL19eoqOj3UuS2zwzG/svv/wiN998s3Tq1MlOlBhMMAj27dtn98+7K1mVKlVs3c///vc/9xKxM8Jv27ZNkpKS7Gtmi2d+FuZbGT16tNx4443SvXt3v6fy4WDC+NL6LzUuFEVRTuPAgQOnPXh9QVrUhAkTZNeuXXZG4qpVq7rfySauU+ZJtc88Vb3mbjiwVGTjWJG6fUSqXSiSN7/7Df/y448/ymeffSbDhg2zrUbDHRQP5Mwzz3QvURQlNVD7cBw8+eSTNuLXokULu2zdunV2tvUHH3zQKvIo9V9++aWMGTPGzsQe7FoC9mn16tXWIPjrr7/kgQcekG7durnfTcaXccFnvvjiC2sY8R2bNm2yBsf3339vZ/Nnrparr77a7xNvalrUv6hxoSgeEEJds2aNHSAozAo0dLkhV79+/fq2jWOwPUJK9sAzRuccrl25cuXcSwPI4XXmiZsoUrK+Gb3Tv1fWr18vEydOtEW3makJGTJkiP0dEI3x9GLmVLhOI0aMkHHjxlmFo1+/fjadDQVDe9IrkQge9ksvvdSm8aC0k+KJ8v3cc8/ZSMVZZ51lx7Z7773XGhbUlQUTVFOUdaRGjRry+OOP23Hp/PPPd6+RjC/jwhMmeBw7dqyNWuB8YCzg+DimadOmudfyD2yL8UU7p6lxoSgWwpnTp0+3ysfevXvtAMEgFOifB6kn9IovXbq0HeQvv/xyKVKkiPvdyIJz7YSxPeGhFwqjy/P6s332w9lH79ee6/gPs22Xcz7M92JM2P1xL7PGRdrbI12Lh+izzz6bqTkI7rjjDqt0E43hmEJ1DTJKWmlRKFEPP/ywjBo1yhbf8/sitYPJrlAumLMhMzA2oIwNHz7cvcQ3/K7//vtvadKkiXuJooQP3sYFz6IVK1bITTfdZCMaV1xxhY1e8hv5/PPP7fvga1x0lgVqnMDR1759extxyIhx4eyP5z6Ds29EOc877zx5++23bXqUv3DOi3+fAzkTNS6UiIf0F0KotFZEIcBLUrFiRSlUqJB7jcDh5JIStsXrgbcIr2pOSEXxN+T0ogSSWsRDgBxZFMZXXnnFes8ymx9LH34elmnBQ+Dss8+219sTZlodOHCgTQdo27atfPjhh1bZ5mFEG048fHyOuoyHHnrIeqrwhmVWUU2TmA0ifz4osmWCSM2eIucPE9n2u8jMu0WqdhZp/5ZI8RrulX2TFePi+PHj1si95ppr7O+Bc0CLRR7s7dq1C8sH544dO6yQ0uEJSsVPP/0kr776qq2jqVu3rv3Nde7c2V5zCj21haoSiXgbF/wuSIfkd04qVM2aNeWxxx6zqVCPPPJIihFBAfWgQYNsRJP/+S3dd9999rOMGTS38DeZMS4Y99955x3rLMQ44nlCeie1cTxLHAMDRwTRZtbxF5oW9S9qXCgRDRELvDJ4ZzAqLrvsMpuiRAoJilWgIWcfo4L0lUmTJtmuF3g677rrLltYFynwoMMTjDcZZR2DiwcbxXuk5mTF0Fu6dKmdOTgteNDguapdu7Z7yb8sWLDAeu+eeeYZue222+w+kqNLfcXTTz8tffr0sV5sHrTkAXs/9NKD76PQ8J9//pG7777bd8TqyCaRqbeIlKgncp4xJg6uMgc2RKTNiyLF0u+OlBXjYvny5VbhQGG49tpr7cMZJeTcc8+1qQmk8uUUSHPEMMWo4DoBuddELvDQ3nPPPXZZ0PnGyP7kf5VcQkcjQQ5S0f2I2om01DjSgWg04XjxHRh/GLeYYZ3Z1XkWosRjLPC7ZzkRzEsuucQWQDuwLWoyqF1gzGaMZhwbOXKkvPTSS6eNMxgqKN2pQW0HaZs8d1MjM8YF9RY4DHAEcVyM0ZwDHA+ejhHGXJ4Rf/75p3tJ9sGwwIjBMIt01LhQIhoGFrwclSpVkv79+0vjxo0zHtalI986IygJB42cMlLaCA18mIagsJEMgkeI7h14xTE0eBj07NnztAdCboVhCEWwYMGCUrhwYasMkxP/1ltvZSqdx5/wsKVrUsmSJW1BIZEUohkYoRiFL7/8sl2HaAsPVe6hzMCDCCOSmggiIBdddJH7HS8OrRYZ102k0a3m/7UibV81T+SMFVZmxbjgAc5vgkgMURvuTTySRG74nmBE9DIL3kqifxdccIF7STIbN260dRWkeVx11VV2GUbjlVdeaT2tFLI6bFi4R7Yu3y/nXlVPChVJ3bGAh3fw4MFWqUsLFJwffvhBGjRo4F7iwR4jgeuIqYSCkkaKJv8bLGivyjiSFij//Pa9I44YF3jYUcDpAsVzj3XLlCljHWtEK1H6eS7idPOEWgyiHdRAcH8TraBDEut7Pz8xQnCgpQbPOMbOtGq7MpsWxfNk6NChdhxjnGYM8N4vPsNvmOet4n8yqEUpSu4DDwM50SgLpHs0atQofcMi1shyI+8bucXIvUYeN/KCkReNPGnkfiM3G3ndyDwjR42kA9ulawfKLJAbzuAeKfDgo+6EhxopLL/++qsNxXsqxElJLjmy/4QkxGHFpQ8PNJTLtASFlDQgX2Dk8FBatGiR/S7C7Ndff72NLGFoEGWhgwkKqqdhwYPt+OE4iTuRdj94jBY8h126dDktnec/lKwn0tLcZAtfE2lyV5qGBelbRGEcQSkg9ad169YpyzAS2G9fYDRhkOC9dDx9HA9eTJQAXifGn7LHl3QqfPxS7CPiDctQelCYgONAoUBZ4VzA0QMnZfKwRTJhyELZseaguMx9lhbcoxS9UvCelpCS59OwAG5rGoup5B4JsmEBPDcwYtOStJ5p/J5JDSKyx7hAqqATseezzB+D8eL92yJtl4jDzJkzbVrx1KlT7Vjma1sZ2Udvw8cf8Dzhd48B5Wu/SH3199w4RGjoHqho5EKJYOiDTeiUXG08sg0bNnS/4wO8jCuNTDQyy0iMEVpZVzFCkyAeLIxfGBLYBDuM0MkUJ29rI5caaeZ+nQZ4ovCooAThEWfAjxQIX5OiRhoUCnGrVq3scoaoQ7uOy+al++SXjxbL1U+cK3Vb/bdGwhc8+PC+pwUPHVKe8N75Ao846UDcJ6QvEbmg4P/OO++0HjEiTSiajhJ57NBJ2bRkr8z6drW0uaKeNO+adk1EhjgVJ7J0qNmZ8eaJX0SkyxfmPiJElj6ZjVxg0BKt4B684YYb7DIMMLyFLzw3WDq06CobF+yVnesOyaX3t5AS5cO7k9SWLVukV69etjC9d+/etq4H4wKFiHuD61u+VGXJF5Vf9m4+Iot+3SSX3tdCChcLQeoXNjOSc7LOIhPmyixoJB0/VDCYM2eOrSVKS43DSUBak6+0KO+Cbk+IypIGST0ZkT9PA4DP4sggCkjtGZB+6AvSpXDipQZGyi233JLm8zezkQuiJdSDIL///vtpLaqJxuLII33pgw8+cC/NPow3Tu1kxINxoSiRyNq1a1233367yyhRrn379rmX+iDWyFgjVxtp7f77gZEFRrYaOWjkuBHWO2Rkh5GlRkYZucnIuUa6GRlh5LCRNDCDnuuJJ55wXXfdda6lS/mSyIDjHjt2rMsYFK4///zTLvvrr79cU6dOdSXEn3JtXLzHtWr2dtfTnb9zrZ23y74fDBISElzt2rVzderUyfXSSy+5zEPOtWvXLlePHj1c/fv3d11yySV2HYetK/e7Vs7a7nrvtimuhVM2uZdmk5Xmxln+ibm31rpcXzZ0uabe5nIlnnC/mTbm4e8yhpDLPGzdS9LGKAGuUqVKuSZPnmxfnzp1ymUUc3v8a5dtstdg/oQNrk8fmuY6vIebPjzYsWOHa968ee5X/xIbG+saPHiwyxhMrvvuu881ffp016effuqqU6eOyxjvrhkzZriMUWvX5b76bvAcV+yROPs6qGw3wvjwu5FEFihhy1wjQ42Yn6PrFAtyJoxbnTt3ts8b5zfgCb/9zz//3HXllVe6jDHhXvovixcvdhmF39WmTRvX9u3cwIGDMbdu3bqun376yb3kXypXruwaNmyY+1Xyfo8YMcJlDC9X69atXYMGDXItWbLEtW7dOvcaLteGDRvsGGAMD/cSxd+Ege2tKKGBFBAEjwyh2VQZbeRtI9uMkBbP//2N4LChqRPTB+DApcaCvFuyVnBcXG/kDSO9jRDp+MQI3StJrUoF9gUPEp4V9i1SwDtO3i7dPPBQUdD95ptvWg9zvvx5pUaTclKnVSXJXyi4nX24L6h9oTaHlAGKmUlnwhOGx5Bib897p2qD0lKvdSUpVtpPdQkrPhZZPVKk/nXm3qor0vIJkfVjRNZ8K3aiPT9ingc2XQqPJR597sFPPvnECp7BOo2qS/1zK8sZjcpKVL7wenSQouYr95zUNhoD0LCBiFjHjh1tfjlF6y+++KJ06NAhJQ0kZGwwMsAIYwlO2cgos8q5EFBta2SYkdUsyHnw28bTT6on0QBfHZOI6jIW87uiiYU3zHtBJ6lbb73VRg8CASmpNNUghZHaCArNiayy3Bek0xJpId3JGD02IvPaa6/ZsdqzQQqdIRnDaezgT4hu05hFCYvAnqKEhnTzPEmF+tWI0e2s8XCfkaeNkF+bkV8O6zCXDg1paFRDJg/pmD8YiTOSDoHIQw1XSFHBmHrhhRdsUS6pLBgW1MFAKM8FObs81Og4wn5QdE6dBN2GmjZt6l4rGd73z766ktvObvrZfKkxXvh7bHuyYVGumchm8/pA2m12MwvGBcdGoTPKN3UX8+bNs/9zTfx3bP6H9MHU2j9irHNcGIbsP0qT52uHhJOJcio+8HPb/Ad0tk+N3GrkQiMZNCwwvkklQdGiXoyUN5pA+NMhQXoHMzZTkxYqUGqpjfInpMNSi4RhSS0SNQd0RcowjOv87LndjO1v02BzGPwGSJfkfiEFl6JtX6DU01UJgxyHA+vTaANjnppF3ncaJQSC5s2b21bS1MVhEOH4IBWM5b6gKQapnYxd/Lbp6Md+UsdHsTpQF0GNCA4Tf49npHhlZrLS3IzWXCgRC0WXeDV4eNL1Ao/0f5hj5HkjPK9vN3K5EXJtswK/sulGaAFOFANP5SVGfIA3nIc6Hldv5TWSSUxIkpevGCt9BrXNUM1FqKDQ+Ysn/pAmnar7p+YiG5B7THtjPJD+mpyR2oTJHyySngNahU3Nxf79+62kWkCdBkcPnpA/v14t21YdkP3bjkjD9lWlWZfqUqt5gLuUMa+XsRFlmZFHjWSi1gLFn4495KnT6pPxgtbB/pxFmTanX3zxhTX4KY4NNqgmeNQZp1EO/QX3CfPnUCtAtPTAgQO2/TWebQr6l07bKkVKFpT219S3TRnm/bxeYo/ES5uedaRUJY+q7ZNGXjZCrwAcT7kUDAocDtxjGLLMe4PXH0WfMYXIRZqR/wBDTRwtpWm2kR4cB/cT9XzUboRyv3M7GrlQFF8cMPKTkX1GOhvBEMiqYQE4SNob6WmEqAV97kmzUjLMkX2xEn8iQY4eoKIyfIk9EiexMXFyaNcx95LQQSoXc3P4c9b3A9uP2G5RePrDBbyVWW0pWahIAWlqjIke954tN792vrS+rI6Ur17C/W4A4TamzpX0ylQyszgmvMoownQuo4c/4IWlUBeniDP5pGdv/YPm3vv6mVly4mi8e0lkQZOORx991J43uhjNmjUrJSJF2gwpM0888YTt6MWcDU7KTMHofMZ4jpHpo5bLAXMOCxTKJyePJ8i2lfuNweGV6shLmrwR3c7Fc5YQ+aMVNY0vMGY5jzSxoGMeUYtQK+g0/0gtaukN0efbb7/dpkMFYr+5n5jzQ1HjQlFOh2fQYiOkddJhlKY5/tDN8EzSNYrGFUT6iWSEj34WttD6FE/5O30nClHssW/Mk5GPzLCdmcINug29ds042bX+kMz4coW8e/Mk2b4aSzXnc3DnMXmjz3j55tnZsnvDIRnSb7JM/Ry3e+hJKy0qPfIXjJIq9UtLlQb/SlF/1cykBXr/biOkq3tlZ6DAkbvNMZGSRhoHSt6oUaPs+6Sy4HXHm0xKIZEF0kbgn0kb5afX58mqWTuC1i6Y/aXTHVEAR4nnL3PXMGmhs4x9ZBle70BBpI6J3zAYyIFHISYFiFQeYNsoxxikdAqiVbFz7qjpqtW8vK3xmv3dasmbL69ZFiVtrqwnBQr7UEapreNQcmjtRWbgfCLMH0FElDkkMNRCDUY1LXMzArUY7LOv1rT+gCwIfpuKGheKcjrorP8YofD6GiPUWPgLsguuNIIysdDIISNKmuQrECXd/9dcnv+9d4rc9Nr5UrRUEBTATNL8opr/2c/7P79YqjZInmMhp1O6clF5+NtL/3N8nW8Oj5aLpAkxCWWOgvGFcgYftzE1FaQCkevueIdRglFcUNRJF6JIlegFqUu0GqYNJjTuWE0uf7BlcAwkN+wvNR/sDznugDJP6gnpWo5ij7ebfHiK6wMBufnMj3PeeedZTzs59SietE7lvNHSlIk5Kfxl3zA6KOx35hQ6uOOYROWPklY96sjmpftt9HHH6oNSqY5XyqyDo9PqOK4YaGlOPZ6ixoWinA6TiTJRHs+TQIwT5xohIkL04vQmHIqiZBI8qUw8maPgt0+qpY9aC1I9UMjxwOPpRwlGMWdmcSDnnU44RCwoIu3evXvKRI7MLp4Vzyz56OStOzJo0CD57bffbFqWs4z5EqhX8AYl3hFPnNeey32tB0QUhg0b9p99GD58uIwfP/4/y5gFmrQnX3AMq1atsgYZBgXz5jDfDeeN1EC2S44+czJQ0I8Xm3NMmhmTJx7ZHyvFyxSS2i0qSIlyhWXZjK1SsHA+KVOZSY18QAkGQZncEZxUsgnNB1LrZBVpaEG3ErGkWtC91MgjRqgNfdNIIFpDDjbyuxG2092Ix7NWC7oVJXNQdIqgMOYY1hmhYQSz+nvUoXMcl19+ua2lwHDAG4rQtYeC7YwYDnjgP75/qtzzSTdbnJwRUO6dqAOQUjR69Gg7kZpnBxwiAd756qgRGEOkF6GoO8YDESXSuaKjo+0y3mc9rlOhQv+NrPAdRB6ctBJeY2RRd4Kh4wljNd/rCd9NtIJJ24jykA5Fgf+AAQPs3/Ry7E8lJMnf49ZJxdolbTH/rNGrbTF33ZYV5dIHWrrX8oKJUrH3mL+NKLcS0dCJita9WU3RzE1o5EJRvKGbE3m0zLx9uoPNPzAXBikRPJwURckWOAg8FeMcAdlypPp7lQ457T6JTJBu5MxFgILPe+lBw4MNC/fIyWMJsmrOdjlgDI2M+BCZE6RMmTIpghGBAUB0xHO5LyUdwwGFns94RiUwNJyIAWAYsczbsADWwZjy3BavvfcL8TYsAOMCQ4SoBeeNOVtIHyOiQxQjPQ7tPi6blu5L3ldzupivxnXKJZXqpdFalFuOQwt96YESBtCFSg2LZNS4UBRvjhrBeUZb7EAZFzyveN6xLUVRsgUpQ3QEylHQIYoaLNL9PXR/lHc6fKEgUyOA0kxqEC1AeZ0eGBO01D3nstqyb/NR2bH6gLiS65VzNRgc5Ltz3oiOYFBRCP/pp5/aovL0wCgrXamoOd8uczlcUrJ8Eel0c2Op0fjfyddOgwkQsbWq21dKhLNz506bdaCocaEop8NDH8dYIDs5YbxguIR4cmBFyQ1Uq1bNTiiXo2BGf+YCo1TEIyCBd58iaGotLrzwQts2k2JtWqriyU8POh11v6u5W5pJk87VJW9UoLwk4QMRB+pD6GiEcUbBNpNAMmFeRroa1WxWXrr/r5nUPruC/S66QzXvWlPKnpFKvQXMNdLYiBoXioFaINKtFTUuFOV06ABC1J6UpUBVJFEAiGERhHb6ipLbYcZt0m1yFHi8meMCXWQvC/6F2opx48bZiexmzJgh999/v1SvXj0lvSgYYORwXoO5TW/y58+fqToaZiqnNS9GBYXc1ItQbxGQY2BalVVGbjYSiLo8JcehaVH/osaFonhDLjQOws1GAtGymogICgV1loGs61CUCIFc+ylTprhf5SDo5EtDBzqzbjKSfklF0KCtLG1bPYu5gwkGAd2pmCE87KDr71gjXY2ERzdmJQwg2rhrl7aABDUuFMUbIuhMdrvVyAoW+BmUCCZdqmjEn3NoKEqEgse6SZMm7lc5CDzeFxu5xAiTas43EgH1ETkaZlWfZoRGflw3RXGDk2PBggXuV5GNGheK4k20ER4cRC3GGPFn7QWKw2QjzKVR30gatYJZhpl/tcG0EkHQpYjZd3MkZP10NtLbCPaRPpXDG2osaDvLNUu/BEaJIGgdzySRig5jinI61EKcY6SKkZlG/jDiD28iCj9zaPxqhIfSeUaKGMkq7BOGj7fgOBllBANGjQwlAmBitwkTJrhf5UBIjWQswLGhhDdcJ8Zv1Z4UL2gVnZG2x5GA/jwUxRd1jOCAYJz4yggtB7OrqFO0+Z37bzsjrYxkp96CgkLyfn82Mt5DyAeebYQJAHUeDSUCoC6AImhFUZRQsXz5cttIQFHjQlF8Q7H1FUbobklHkBFG9hjJKkzK94URlP4zjfQzkp2oBdDKkj751FsyubgjvKbbFYaLdjFRIoBy5crJmWfyw1IURQkN9erVk9atW7tfRTZqXChKalQwMtgIxd2/GXnaCBGMzLLTyJNGiFqg+D9lxB990asZ6WTkAi8hZE/uNvubw7pzKkpWyPFpUYqi5Hio/cLRoahxoShpw/xJjxo51widox40MtIIKUnHjfiqxSB9ikgF3aZ+NDLQyJ9GGhl5yEgNI/6GFpYUoFPM3cwIkRGNWigRQpEiRfShrihKSJk/f746OdyocaEo6UF3kIeN9DSC8v6xkWeNvGPkJyOzjDDLLsXac4xQ9/C+EdYZYmS3kQuNYKS0N8LkWf7ipJHlRqi7YF8+NfK7EQwfRYkQqlSpoukIiqKEFDrWNWqEF1FR40IJES6RuEMip9DWwxx+JaQx3WPkZSMdjFB/QTE1RdOkOWF8DDDyhJFXjZACxSR8TLA0yAjLGxrxdzSBvvikP9EZqqURus18ZERrypQIYvPmzXYma0VRlFDBfDs1a5JHrahxoQQeV1KyEfEfSRDZPVfk72eSjYyc0DMVxb25keeNEJkgRYoaB+aroLCaFCq6TBGduNMIkY03jGCM8F4gqGzkNiNXGnE6XJUwQtqWokQILpfLtoFUFEUJFZoW9S9qXCiB59AakaXviSwfZuSDf+XgCpEdM0R+uV4klv6sOQTSmuoZuc6IsY3kNSNDjZhDssbEc0aoeaComq5TgaS2EWb4Nbaanfmb4nHm6VCUCAJvoU5epShKKKHuq3p1f3RryfmocaEEngJFRYqbH1zRM0SKVUuWokYKlBCJKpD8Xt4cqhFjPBApYKZtukvRCtZpAxsMqK2gxgPDhjStv4zEGAnW9hUlDNi5c6f8888/7leKoijBp0aNGnLWWeRCK2pcKIEHQ6L2VUauEKnlFv4vWkWkbm+RDu8ZhZy8IiXTTDbCbNznG6EmxJxOqWhEZ+ZWIohjx47J7t10TlAURQkNCxYskMmTeSgralwoQcBouke2iBxeb2SDSNwRkaREkTJNRKpdJHKcXB4l09AGl8JtoiakR2FQUETO6dTIhRJBMHlVjx493K8URVGCT3R0tJ3rQlHjQgkKRutd/73IhD4i0+8TObZNJCFWZPF7IpPNss3k9SiZBgOiqRHm06AF7edG/jZC8Tjtac1pVpRIYP/+/bJ69Wr3K0VRlODTsGFDadu2rftVZKPGhRIEzG1W/3qRMvVFjm4UKUKLoySRuP0iZ3QSqXtt8mpK5sC4uNoI6VBVjFQ1Ymw1ud0Ik/7RLldRIoCDBw/K+vXaIk1RlNCxYsUK+fNPZsxV1LhQggMGRatHzD+FRP4eJLJ1irn78omcPVDrLbIDBeTdjNxshK5RFJXTHpduVcx7oSgRgKZFKYoSauLj4+XEiRPuV5GNGhdK8KDGouW9Iss/E1n0lshZd4kUpmBAURQl6xw5ckR27NjhfqUoihJ8mjdvLhdddJH7VWSjxoUSPPKY261IJZHosiLHd4vEGmGCvVwCed8fffSRLFmyxE7qpShKcKBT1KJFi9yvFEVRgs/GjRtl8eLF7leRjRoXSvA4vE5k5QiRzh+LlG4iMv+tZAMjlzB9+nR54IEHZOTIkRIXF+deqihKoKldu7Z6DBVFCSkHDhyQ7du3u19FNmpcKEHAJXJ8l8iiN0QqthGp2knk3GdFYoyx8c/rIvFH3OvlbNq0aSN33nmnzf0uUKCAe6mSGyASxURteMcpHlbCi4SEBM11VhQlpLRq1Uprv9yocaEEnhP7RRa/LbJtpkjhiiJ58iSnQxWtLrL+J5EVw412wFTTOZtq1arJ22+/LZ06dZK8efWnlZvAoHjkkUekdevW8v7770tSUu5J58sNbN26Vbu0KIoSUnbt2qVd69yoBqQEnvxFRBrcKNL9W5GqTCVtjIvitUQ6DxG5zBgXNYylH5U/ed0cjtZa5E4KFSokpUuXtkYjf/NgICthA4a99pdXFCWUkBKl8+0ko8aFEnjyRYuUOUukXDORolWTIxeFy7mXNRcp1cDciQFII0qMFVnztciWKSJJCWZBYBX/ZcuWSbt27eTzzz+XxMRE99IwYKWRL4zsN6IO9yxRpEgRGTJkiJw8eVLuvvtuNS7CDIw/nRlXUZRQomlR/6LGhZJ7IYqwa7bIxKuN9EqeJfzYjuSUrABAx5q9e/fa0GhYpc1Q0jLMyINGvjGywUi8EUXJJaxbt04mT57sfqUoihJ8Dh06ZPUARSSPS/M4lHCEIu9tU0VO7LNZVFniVILIprEiW6aZF0bZL1Q2uaC87lUi1bvLmu1H5LVXX5WEhHjrlS5Zkhnpsk5sbKxtQ1ejRg2pVKlSlr3bzzzzjFWWHnvsMWlatKnIcrMwKvm9LLHFiLGrhGAKAaIzjJBBQoZaLSP5jChKDiYmJkYOHz4s1atXdy9RFEUJLvPnz5c9e/Zo9MKgxoUSnsRsEJl0vcjuZVmPr6Hb54k34k5R4k53mYV5i4iUqydrS/SU10ZvkPjEJL8YF/7iP8bFcmNcDDELKUnJqpHF5xzjxJ4Dt5QxwmzeNxjRSdLT5NSpU/YeGT58uLzyyity+eWXu99RFEVRFLEt6HlWREdHu5dELpoWpYQpGAFGo44qmHXJaySPl8ufaEKefEZZL5y8jh8hcjFv3jybFuU3m51fKJEFhEPJqniCsYEQxTCn4bT3ldPYtm2bjB8/XtasWSNTpkwJr5oaRdauXSsTJkxwv1IURQk+PPe1k2AyGrlQwhNa0+6ZJxJ3yL0gCyTFG63jG5ENRungNo8uL1LlPJE6V4qccZGs2XJQXnv9VUmI909a1G+//Sa9e/eW+++/Xx5//PEsz3Xxn8hFmabJNRKOQZAV+PxnRk4ZwZ6qaaSDEXMqbIqUGhfpwgPjl19+kWnTpkmfPn2kRYsW7neUcIBap3379kmjRo3cSxRFUYKLpkX9ixoXSu4FA2XOIyIrRonUuFik4Y0iFc9J7lRlNHW80K+99pqdgMsfxsWGDRvkrbfesgMLswVHRWVNa/+PcdHUGBfZZa4RirkbGLnEiDkFUtmI1looiqIoil+g9ovUqPLly7uXRC6aFqXkXkiBqtxB5PIJIhd/K1KzhzEs+NFnNQSQNrVr15ahQ4dK9+7ds2xYBITiRjAuqN242gjRCjUslFwEaVETJ050v1IURQk+tMNWwyIZNS6U3Avza9TtLVKlo3kRGIPCm7Cc/+BMI72MFLOvlCxAgJfI1NSpU21NjRJeUEBZtmxZ9ytFUZTgQ1qU1n4lo8aFoihKOpDP/8QTT0i3bt3kgw8+sB1BlPChatWq0rp1a/crRVGU4FOtWjU580y8eYoaF4qiKOlQrFgxq8Dmy5fP/s2bV4fOcGLz5s0yc+ZM9ytFUZTgU7FiRalVi8mjFH1CKoqipEPhwoXlzTfflBMnTkj//v3DM/0tgqGbl7YHVhQllGha1L+ocaEoiqLkaPAWdu7c2f1KURQl+JQrV07OOIOOKYoaF4qiKEqOZufOnbJgwQL3K0VRlOBTo0YNadKkiftVZKPGhaJkF7IxjhrZZ2SPkRgj8UYURQkKx44d0y5eiqKEFBwcU6ZMcb+KbNS4UJTMgjGBETHHyFAj9xm5zcgNRq43cquRu4y8auQ3I9uMJBhRFCUg1KtXT2fFVRQlpNASm+YfihoXipI5iE6MN/KskaeMfGNkkxF+SVWN1DRSyMheIz8bedHIk0a+NrLZSJIRRVH8yv79++2M+0p4s2jRInnmmWdS5LXXXrMTICpKbqBhw4bSrl0796vIRo0LRcko6428YORdI8uMNDRChOIVI68beckIxsRrbnnEyDlGthoZbuR5I/OMqIGhKH7l4MGDsm7dOvcrJVyhm07JkiXtfDHr16+XpUuXSpkyZdzvKkrOZuXKlTJr1iz3q8hGjQtFSQ+XkcVGnjbyl5EKRjAchhghDaqpEaIWLGfm/8pGGhi53AjGBkZHfSMr3P/Tjl8NDEXxG5oWlTOgjfNdd90l48aNk71798qnn35qjYvE+CR58bIf5ZnO38nq2TvsurNGr5aBrb+QmV+ttK8VJdyJi4uT48ePu19FNmpcKEp6YBRgSJDWdIGR54xcaiTKSHrkN9LWCJGNXkaOGaEWA+eGtuVXFL9w9OhR2bEjWSlVwheu09ChQ60CNmnSJClYsKBdnq9AXun5cCupUKuEbFy8R1xJLmlwbhVp16uBNLuohl1HUcKd5s2bS9euXd2vIhs1LhQlLQ4Z+cgIacHdjAwwQlQis3OoEfmn6PsaIzg23jOy1IiiKNmGTlHk8yuhh5nSH3jgAbn55pvl888/T5ncMCEhQd544w05deqUPPvsszJ37lwrDvu3H5VGHarJxkV75cTReImNiZPoEgWkUBE8NIoS/mzatEkWLybNQVHjQlHSYowR6iRoXX2HEVKfskoJIzcaOc/IFiPjjNC2VlGUbFG7dm3p0qWL+5USCpgl/Y477pCBAwdK79697aSGAwYMkIULF9r33333XXnllVfk5ZdflsaNG0vPnj3l5MmT9r2kU0myZ2OM1GlVUQpG55e1f++S4zEnpWT5IlKgUD67jqKEOzSW2L59u/tVZKPGhaKkBs1nRhspZaS3kewYFg5FjdxtpIoRnHYavVCUbIN3nHxnJTRgWHzwwQfy448/ypAhQ+Tcc8+VBg0ayIkTJ2TfPlrsiTz88MP2Gh0+fFh2795ti/DPP/98+96h3cclMf6UVKpTSlpcXEt+Gb5E9m09KkVKFJQ8eTMbJlaU0NCqVSut/XKjxoWi+IJI/jQjB43Q8am5EX894zAsrjZCepQWdytKttmyZYv88ccf7ldKsNm6dauMGTNG+vbtKy1btpTly5fblKiOHTtKmzZt3GulzraVB6RkhWiJypdX6rSsKOJyybp5u6RMVZ0zQMk5kJ5JFzRFjQtF8Q1GBYXcGBS0rS5uxJ+QGkVnKdIztbmEomSLqlWrWm+5Eho2btwoGzZssEXal156qbz11ltSv359+fDDD9NtNbt7w2GZ+tly2bBgrxw9cEKKlSks51xWR+KOJ0jJikXcaylK+ENK1OrVq92vIhs1LhTFF7uNMD8FBgD1Fv6mtJF6RpjpW1OjFCVbFC5cWEqVIn9RCTYul8umOZUoUcIWc0+ePFlGjBgh99xzj1SrVs29VupUrF1SBnzdQ+4d0c0aFnnyiFxwU2O5a3hXLeZWchSaFvUvalwoii8otI41UssIhoC/KWCkuhHm0KC4W1GULMMEenjNleCTx1gDZ5xxhjUuaDUL1FkMGzZMZs+ebV8rSiRAPdGePXgMFTUuFMUbFH6ekTQywRmKIeBvmCOjpBHqLXQsUpRsUb58eduBSAkNnPvzzjtPHn30Ubn77rvlzTfflOjoaE1VUyIKnBzMQq+ocaEop4NxEW/klJFCRgLRrITvZP4otkWERMlVDB8+PDT9zue/IHIs8lohlixZUmrU0MnWQgXn/8knn5TXX3/dtp+9//775cYbb5R8+bSNrBI5NGnSRDp16uR+FdmocaEo3qD40zIW5Z/0qEB0c8JwOWKEX2BZFijhTkxMjO0EgncqPWndurXceuutMm7cOJuT7ncSj5v7Z5PI4XX/lfItRWYPNDu7wb2if6ELUOXKlW0B9YwZM9xLQ8/atWtlwoQJ7ldKKChatKjUrFlTatWqJZUqVZL8+bVeQoksGOsDMt7nQPKYE6FnQolI1qxZI6+99pqdOZbe7HjfUmAOimeNVDTCbNr+7oh4wsj7RphI72Ejlxtx88wzz1gF9bHHHpOmTZu6lyqhZtasWfLDDz/YGYbTg8nBUHYxMAYNGuR/D+7BlUaj/lokHgvVgxP7zHvLRTqam6tyB/dC/zJx4kT7e6ETEMpkOLB3714rmhqlKEqoICWKmgst6lbjQolg0jQucPw+ZWSnkWFGGhnxJ4eMPGaEltgfGaljxI0aFzmfL7/80t5Xl19+uZQuHYiOAKmw4GWR8q2MYdFeJIqcvtRhboKff/5Z+vTpI2XLZjx8RsrX3Llz7W8Gb7WiKIqSXNDNRJEVKvhjxt2cjaZFKYovGBtQ+I8ZWcgCP7PDyCYjtY2Eh/NX8SPXXXed3HzzzcE1LODsR0WqdU7XsIBjx47JsmXLbJQlM1BLQuoL7V/DBYxxIiqKogQOZlxHwpFt27alO8cEUWScihxDRiLQmQUHpRoWyahxoSi+YO6ms43Q1YlZtJnzwl8kGBljBMOltRH9FaZAIPXOO++U2rVry4UXXmiFSbjOOeccWbo0exOCMNHX77//nqZMnTrV1lb4gvfr1asnRYoUkUceeUSOHDliFfPrr79e+vXrJ7GxsbYVJx1zKlasKJdddpkcPx6gGRKpt5jYU2RoHpGfu5t7yVira74SGV7CvL5E5NAa94r+hWOkvoGH6BdffCFdunSxMzIzv0Eog+AYOulN1ubAfnIvYQCy/xRgEiXkdXZn1+W7UV687ytvmTZtWkrbVkUJBdyrCxYs+M99OX36dFm5cqX1vnuSmJhoo7FPPPGE/f0HiwMHDsiff/5p9+3gQWa2TYblzu8IJwl888038vLLL9v/HZKSklI+j7Rt29aO3URdBw4cKJ988olff4ekRWntVzKq1iiKLyjq7miECfTQ0343kjkHr2/Qv6YboRaWOTTaGwlEN6ocCgr7woUL7aD/66+/yuOPPy7Vq1eXhx9+WBo1yl5uGhN9LVq0KE3BK+88rLzB0MHzRdvTq666SooXL26VbYqcMVz4XLFixeSKK66QK6+8Un766SdriGQVDJfvv/9ehg4denp0oXhNkfPeFql8nkh0RZGCxqgofabIGcbQ6DhUpFR994r+ZcuWLbJkyRI5dOiQfVD/8ssv1lM3ZcoUiY+nxVpooMC8TZs27ldpQ7TmtttukzPPPFPGjh1r5auvvrLnmGubXXbs2OHz3vIU7rNw9QArkQHGBemNOHN+/PFHe1/+9ttv8tBDD9k5Shzw8DPj+h9//GHH4WCm6vI8YPzr2rWrTcd0og2kH9Hu+IMPPkjzd8QxMj57/u4wTBo0aGCdQCtWrLDHmtqYn1mYNLJhw4buVxGOOfmKEpGsXr3a1a9fP9eNN97oMsqSe6kXfxvpYORiI7NZkE2WGrnayLlGPjMSb8SLp59+2tWnTx+XGQjdSyKHhIQEe10SExPt8RsF0GUeKq64uDj3GqGF+6RmzZqujz/+2GUedK5Zs2a5brrpJtd5553nmjp1qispKcn16aefuj788EP3J7KOeSi6mjRp4ipdurRrwYIF7qVeHFrvcn1e3eWaO8jl+r2fyxWz2f1G+pgHq6t///6ubdu2uZekz5AhQ1xly5Z1TZs2zR4r9OrVy3X//fe7jh8/bl+Hgs2bN7tmzJjhfpU6RhFxGQXJdfPNN9v/gXurVq1aLmPIphyTokQC69evd51//vkuYzjY17Gxsa4XX3zRZZRkl1Hg7TLeq1ixossYzfZ1MGGMfeWVV1xXX321q379+q6//+aBnPycePvtt13ffPNNym/21VdfdfXt29f+nxqMX4zZJ0+etK+3b9/uuvLKK10zZ860rxX/oQXdSsSSZkG3J58YGWWE2tXnjTQzktnmP/zK1hl53cgyI+cZoaDbRyaHFnQnXxsm46Klq3nY2WVJp1zy3QtzZMHEjXJhv7Oky+1N5MTRePn0wWkSdzxB7h7eVYqUSr3WgPB3RkLgFDcXKJD6zIl0gCpXrpw899xz1vvVrVs360EzD2m5/fbbxRgeNt3G6VxEaJ713nnnHZs+9e6779ruUd27d7eRANrV+vJ2sa9sg3Px9ddf26jI6Zgba7W5OWfeK9JjgkiV1DtE4fnj+xxIdXCiLVFR5P+J/fv555/77NWO15DjY7/YH1qN8vggSkPXqBeef0G+f36+LJ++Ta56rLW0ubKu7NtyREY+OlOi8uWVez/tLvkLJW/H3xA5QogupQVeTGMM2t8YxfZgFAxp3ry5jBkzRjp2JFwpcuzQSRnx0HTZtvKAPPzNpVK+ZglZOnWzjHn5b6neuKzc/MYFki+/78A/aXXppcMxqzX3mc92rU8YCV7miRIMbjTi0REwXNiwYYON4j3//PN2EkTgd3DXXXfZlCOie/fee6/97dMdzgHvP6lT3MdE+xgHSFtiTCFFsVQpZp/NPoydzJ3CeEunPsbJwYMH2/GTMZeWx0SR2Q+e5UQiRo4c6f60+R2b8Y3xisYTjHNEV4m6Mpt8oUKF7GuOvWDBgjblyxkHs4p2i/IA40JRIpEMRS6At14z0t5IDyPfGNljJKNOzhgjOFVvMtLOyH1G0nACRXLkAvCYcV0GDBjgMg8H99JkjsecdL3Wa5zrs4HTXUcPnHAlJpxyzfx6hWvez+vS9TobJd5+b1piHrQuY9i5P+Gb0aNHu4xh4Fq0aJGrc+fO1mOPt++cc85xLVy40P7vfT9xTC1atLCfW7t2rV1mFHSXeSC6zAPOvs4SSYku1+J3XK4fznO5fr7E5TpxwP1G+mQ2csExNWvWzDVixAj3kmTPX9WqVV2ffPKJ9TLu3RLjevXqsa5vBs1yJcQluuJPJLgmvr/QtXL2dvcnQstff/3lMgZ7ym+Le4YoU3R0tI1+OLB84ZSNrhcv+9E1+YNFdhn32/B7f3Md3PXfe9ITPvfVV1/5vLc8xRhpLmNYuj+lKKHBO3Kxe/du1wMPPGDHMsZeXrdv397122+/2feB37lR8G0E84ILLnAZZdpGNXr37u0644wzXB999JF7zezjRC5GjRrl+vPPP10tW7Z0TZkyxUYuiEJ8//33qUYu2K9hw4a5unTpYp8lxvhxDR061P7vGQlmPGcdf0ReN27cGLHPbW+05kJR0oOAxi1GrjNCrS+tY181Qh3GbiOpTbJ32MifRt428pIRakW7GnnISGUjymng+brvvvtsrq15yNmahW+//dZ6pWHzkn3SsG0VSTx5SnasOWCjGS5z/svXKGG9V2lBgfWnn36aphB1qFPHoy+wDyjq3rVrl1330ksvFaOY2qLmTZs2iXlQWa8Y9RieUEfSqVMn+97ff/9tPX0cI9GNbM2BsfZbkbz5RS74WOzM3LMfETnlj+Kg0+H4qFvBiwjmoW7zockzJnqTN29e2bXukDTqUFUO7DgmezbHSHzcKSlYOJ+UrerviWL+C9eDc5xZiBBSL8LMukwO6HAqIclGw5p3rSELJm2Uw3uO22hGhZolpUS5aPdap8M9SGG4r3vLU4giGUXM/SlFyTrUC9FOOjUhUkdtFGOOL4i0Pfvss2KMA1t/QR0ZUVbG3v3799txiu5wDvzOiWYQ5WNMpZECY8LZZ59tP9+/f3/3mskQKeD7fe2bI8zonl4NUrNmzaRdu3Y2yyAj9V2Mq5dccom88MILtu02BemMVcYIsfvqwFhN1IXxLLsQwdX28cmocaEoGYFpAG438rgRJtbDaGCSvXuMDDbytRGMDYq1vzfyhpG7jTxthOYRjOt8/l4j1Y0op8HgTrcPupVQ0E2R7pw5c+yDiQcabFi4R+q0qiRVGpaRVbN3WiUwwSiwxcsGry0qnaDYt1GjRtkHMvBAIa2OTiEXX3xxyv46zJs3zxZAkzrldFYifE6xenpGUaqs/kJk2TCR+n2TC7jPHmgM2NFm+ZfmfvNvm0X2l5A/KQabN2+214qHNcYFKUaOYr515QFp0K6qlK1WTJZO3SLxsYmSNyqvRBdnuvvAwX7t3MmkNGlDagRKB4bSvn37ZPz48TY9iWtKihrGIUpOYnySHDscJ2d3ryV58+WVtXN3SczeWClXvbg5nhB0YEDvMrajEubgA4lN/jdYkBb00UcfpSrvvfeeXHDBBamOMyjXdE7C4CWlCOXdaY5Aeh+NDhjvPOF3hGFBcwccQhRYo6A7qYaeMC7y/b72zRFSnUhTSg26uJHaRGc+0kQZd9KDNuAY8IxNfJ70R4wN79QnnEPsO6lf2QUHB84KRY0LRck4OJi7G3nHCM4ZGvKQwv+LkSFGyJV+xMibRn40QlSDMflaI6Sr3mQklbIORWw3DwZn8tCpR0AZpztJixYtbEeihPhTcnDXManRpJzUblFBtizdJ3u3HJbDe49LoWKp10j4G/KJMSCYxwKlFPDc3XjjjfbhinfME7xs9GDHsOBYUM552K1atSqL3YmMpbrdWLHrsGgNG34Q24oWw6JMY6PgmJtvr38nZ8G4QDnBoCCvuX379rabF9eMqAXvJZxMtN79qg3KSMP2VWTZtK2ye8MhiYtNCFithQPRpIzkOZOzPWDAAFv3gkeTKAM1IxgaRKLOPfdcmzN+MjZe8hWIkjJVi0nry+vIshlbZeuKfVKkZGCNpNNgfDGXV14xsteIb+ezEi4wYT5RbcZ/r8nzAwVOChwyqQlzP6A8pwa/XaIUTsSV+gPHEOG3wGtvw533cajQ0plxjG3wHb5m7KemkTHP1745wniYVuTAeY/xk7qvV155xe6TtxMnNRhnGX991VQQqcEAyuh3pQXny3dtXOShBd1KxMKA9sYbb1jvDG3tMqXoMdbxsGcivC1GGLtJg2I5GTEYEUQoahipYiSDmS8Mok899ZQN41IEfNZZZ7nfUQ7sOCo/vjZPbn2rk5w4Fi/D7/ldzmhURspUKSYdrz9T8uQNgUc5A9CalJa6I0aMsA+yvn372ogFHjOK1f3xUMsKKNS0oiS9wTuNKyvs3RIjvw5fKtc9316OHz4pb90wUc40RkaNpuWl5SW1jULiXjEAUGCKYGT4g42L9sjW5fvtfXVo93H58K7fbCF3p5sbS6U6/ilWTRcMi6+M4Am/1UgJIxkATzMTClK87oD3FmPYZwG5kgLPAgqHiWw58Fvl3GUYjIpvjODv4GMBHpZoH0uENzW45jQ6aNWqVYrR4OCroNsTnkO9evWyyjzKuScUS9O2FsUcIdrRyUcjCKKKFInzXamBw+aOO+6whownPA8p6GZbOAOA1EzafVNQ/vTTT0vPnj3tcfkq6ObzzMdD6hhRC1Juvc8B1/v999+3UWfGZMU/aORCiVjwMhBqZZBiwMoU/HJwWp9r5Goj/Yzcb+RBI0Q1iFbQeAYDIxMp9eSnIuxXWmHiSGTrigNSoWYJm5ZCmk39NpVl2bRtUrl+6bA1LAAlD+WOdBy8Wjyk6cjEwzhUhgUQbaFmxB+GBWz4Z4+Ur5GcNlS0dGE587yqsmHhXqlg62HcKwUIDAt/Tu61bv5uKVmhiL2vSlUqIuWrl5C42EQpmkY3Mr9DV7nNRm4wkkHDAkhR4Z6jjoRIDIonKR/+utf4LuZ7ye6kltkBnyh1BKT8+BOiAHjiiZri2JkxY0bmPdH8nIhwL3JLgKEzHdcjNaELEpOQeivVDtRUIL6gGxNzQtDRzhueUYwfKO+kKlF35gvO3y233OJz3xxB6fc2LFKDaDFpVFyr9FKZmFiP7yWizASpGN7U8JHKBURVMEioffOH4U0UZvbs2e5XkY0aF0rEQq41OZnkWDNTKQNNlsB4QOdgvjSE/7MwTvHAJDef4lQG9YzOOBwJ7N0cI39+s0rmjVtvPeQ8J9v1qi8lKhQOeLFwdiDPF68YRbwofDzgScWpUqVKrppsafuqAzLz65W2TfDBncfs9bmwX2MpXbmIuUaB9wZmNC0qI6z4Y5vM/GKlTYWKPZLcbrNdr3pSvmZxKRgdJM8/QxH1Ww2MlGbB6eCVxdNOQS7eYUfRQvlCYUPpJP0LjzSpJE5KiCvJJfEnEs14Y19mGsYpor5sM5RQbJyWNzw1OG9EEDlvKNWe4z6Fy9R9YfiTJnfttddaLzksn7FNnuj4jbx69Th7/mL2xcq7N02Sga2/lE1LCGN7QK0+UWsiT2GaG8L9glJP9IKib18NEVC4iVyQDkn0wBtaheMEI7LjLyeFJxh3OGIwIqlxc+jQoYMtHE/NIGDc5brhqKNgnMgNqWFEVjAcnSYaXH+MZOpH/GFcYLyE+ncRLmhalBLRYFSQGoV3hZx5PH3Z6t6TRfCk4DFDCSWXFE/PRRddlO2+24oSCfBARzw7PuVoSIW6w8idRtqx4L8QqSGdg7Q2lGQcEqSoOD3/URhfeuklqVGjhk3Jc8Y0DL8ty/bJ1M+Wy/8+6JLmvDCpwViFMspcCHTvCQWoLcy1snjxYps2k1EwKpg5n9mmOW/UAlAkjKKKh5vvZRymiQR1Rcy144zB1BP9YQzo5TO3ycV3NZfG558hf/24VnZvOCxXDDzHrvMfnKYfI4zk4CYeXG/qlEgZIlWX2gyaOzRq1MjeZ6QU04DDH8p5dvCVFpUWGOYUrzNuMKdUIIyjSEYjF0pEQ+ibnE1SCQihEv7lgYMHIhh2N14zFIPff//dDop0rMFrxkNbDQtFyRhZbUUbttDymswNH/oOnnciEoxVtPDEo0txLV1qGLNQ+PD00hQBpRDvL3U/QCQm0d1hLViQdorySTTFiRKgsNISlDHPaSuKZ/ztt9+2jQICNfZS90RXJLq8Md7jsaZmAQWTbWKs0ImoX79+tjaKVBq833DiSLwUKxstTTtXlzlj1toGBns2xUjjjv9t4JACtXZkIm2zr3IsGKbUhhFt5b5yahU/++wzO7Eek4qG2rDILBghGKUY4vyG/GVYUKtDBy1FIxeKYh9u3333nUyaNMk+CMlFR9Kapdlf8JAlXEv+KEoD3jIK7LTjhKJkHH5HSK6pU5pn5AMjdKCry4J/Yc4XilNR+Ej9QCln3gFmU6blJ4oxeeV4mKmzwPBACaQwmZQo5uwYMWCG3Pn+hUGJXOAwYX06i/E/xb+Md9SEIEQgGG+Zc4QUrq5du1rFNa0aEdSWzEYuiAgzvjJ/jhORIKqDYYGhw/hLes/kyZPtPrINWrji3SaFliJ/0jNpUDDykZnS6+lz7RwoPe49WwoV9fGsoMlHLyN3GbmSBTkbnpNcNyIYpHaS5kl07IYbbggLRxi/A+5Nrl16cBxcXwrJM1rrkRF0hu5/UeNCUQwYFQwMeLHI1yRkykAVaBiUKSwnT5quPTzMtJBbUTIHv18k16Q2zDeCcfGkkdosSIbHNYox0QjSQGj/SeSC8YrXpEGlx6FdxzJlXDAm0hLagX2gtTI1YWwfMATuueceq5x7K5rUtGEIUfRL7j7KHBEMJlzD4CHVhmVEjyk+JjUVhdWzAJlIMrUQY8eOdS9Jbn7BcurTHPCy4yjyNRHmc889Zz3vRCZIn/v+++9tChReeCZoSwuMskW/bpZC0fml4XlVZdyb8yXueLzkK5RPrnq0tXstLxzjggYf/FWUCEKNC0XxAC8WxgUPLjw1gfx58PDkYUiUgrkR8LiEsnuQouRU6BSF5BqPIV2iMCyYtLMxC5LB4YH3HeUcRwTjBgYF/2fUsML7PvLRmXLLmxdkqRlCZiMXgYBxOTORC4qXSYVifToH4czh3BElwXudHkzWScOCms3KS82m5WXt3ztl7BvzpXnXmtLltibutbygRTkthLmGnVmg5HboOomhX7u2h0cgQlHjQlEURcnRUKiLkL6SK6Az6C1GBhpJnizZgmJPFyhqxd566y3rnOC4//rrL5v+lN7x0wnr14+X2iLkirVLSqPzqknnWxpLVP6MOzVyqnHBPtMdiDkXnJRXat3oNEbXwLRYOm2LjHvzHzm/byNpd3U9OR4TJ98995e0uLiWMTBSiRYRfXrMCJNJ557GcEoaaFrUv6ibVFEURcnRkFqYq1o3k63EfIDbjXhMXIwxQcoQ+e4oMaSCPfnkk7aFdUY88I06VJMHv7hEXp1zvf17Uf8mmTIsciqkalGfwjwEpHRx3piADUPDM60qNZp0qi5PT7xKzuvdQPJG5ZVipQvLbe92St2wgMVGaCOshkXEwESFalgko8aFoiiKkqOhGJhZqXMNNN9pb4R56rymF6CLEW2qqVkg1Yf/KeQOh6LacAbjgna9FHRz3oj+UIMRkE5H+40wCeJt9pUSIVA3hNGvaFqUoiiKksPhoY5kpKA5x4CCOtwIGTvM0h0m0FWJdCKU84x4/QMFNTb79u0LWWpWqtBZd4wRuv/eY6SwESUi0LSof1HjQlEURVHCDZ7MOEEpKUCH72ukvBElfGFy5i+MHDBCMXcumdNRyRh0L6O+x+miFsmocaEoiqLkaHJdtyhvZhih9uICI/92aFXCDTLz0CvbGgn8NElKmEEtD8YFc4FEOmpcKIqiKDmavXv32nQEUnUURVFCgaZF/YsaF4qiKIqiKIqSDaj7InpRoUIF95LIRY0LRVEUJUdDtyjk4osvdi9RFEVRQoW2olUURVFyNMxzkZF5HhRFUQIFaVETJkxwv4psNHKhKIqiKIqiKNlg165ddsb82rVru5dELmpcKIqiKDmaLVu2WOnQoYN7iaIoihIqNC1KURRFydHQ/pFCSkVRlFChaVH/opELRVEURVEURckGmzZtkpiYGGnWrJl7SeSixoWiKIqSoyHXGTn77LPdSxRFUZRQoWlRiqIoSo7m6NGjsnPnTvcrRVGU4LNw4UL55Zdf3K8iG41cKIqiKIqiKEo2WLlypRw8eFDat2/vXhK5qHGhKIqi5GgOHDhgH+p169Z1L1EURVFChaZFKYqiKDkajIs1a9a4XymKogSfVatWyezZs92vIhs1LhRFUZQcTb169aRHjx7uV4qiKMGHCfSo/1I0LUpRFEXJ4fBAP3bsmFSqVMm9RFEURQkVGrlQFEVRcjS0oV2wYIH7laIoSvDZvHmzLF261P0qslHjQlEURcnR1KpVSy688EL3K0VRlOCzb98+2bp1q/tVZKNpUYqiKEqOJj4+XuLi4qRYsWLuJYqiKEqo0MiFoiiKkqMhHWHmzJnuV4qiKMFn9+7dsnHjRveryEaNC0VRFCVHU7VqVWndurX7laIoSvDZtm2bnUhP0bQoRVEUJRfAoyxPnjzuV4qiKEqo0MiFoiiKkqNZu3atTJw40f1KURQl+MTExMjevXvdryIbNS4URVGUHE25cuWkUaNG7leKoijBByfHvHnz3K8iG02LUhRFURRFUZRscPLkSUlMTJSiRYu6l0QuGrlQFEVRcjR4DCdMmOB+pSiKEnyo+cqbV9Vq0LOgKIqi5GhKlCgh1atXd79SFEUJPszOPW3aNPeryEbTohRFURRFURQlGxw6dMhO5lmxYkX3kshFjQtFURQlR7Nu3TpZv369dO/e3b1EURRFCRWaFqUoiqLkaAoVKiQlS5a0xZTUXjCZFfD/qlWrUv6fP3++/X/69OlWgGVOvQbrOv/zHfzPd+KR5H/+6jZ0G/yv29BtgPc2Jk2aZP+PdKKeNbj/VxRFUZQcBzUX1apVs/9HRUVJmTJlpGDBgra4kv+jo6Pt/2XLlpVixYrZ/0uVKmUNEv7n86VLl7YFmXR6cf4vXLiw/Z91ChQoYL8rX758ug3dhm5Dt+FzG3wP/0c6mhalKIqiKIqiKIpf0LQoRVEURVEURVH8ghoXiqIoiqIoiqL4BTUuFEVRFEVRFEXxC2pcKIqiKIqiKIriF9S4UBRFURRFURTFL6hxoSiKoiiKoiiKX1DjQlEURVEURVEUv6DGhaIoiqIoiqIofkGNC0VRFEVRFEVR/IIaF4qiKIqiKIqi+AU1LhRFURRFURRF8QtqXCiKoiiKoiiK4hfUuFAURVEURVEUxS+ocaEoiqIoiqIoil9Q40JRFEVRFEVRFL+gxoWiKIqiKIqiKH5BjQtFURRFURRFUfyCGheKoiiKoiiKovgFNS4URVEURVEURfELalwoiqIoiqIoiuIX1LhQFEVRFEVRFMUvqHGhKIqiKIqiKIpfyOMyuP8PK16fECdTlia6XymKoiiKoihKzqTPufnl9gsKuF/lbjRyoSiKoiiKoiiKX1DjQlEURVEURVEUvxC2aVGKoiiKoiiKouQsNHKhKIqiKIqiKIpfUONCURRFURRFURS/oMaFoiiKoiiKoih+QY0LRVEURVEURVH8ghoXiqIoiqIoiqL4Be0WlUs5cOCAjBgxQs477zxp3bq15MmTx/2OkhHWrl0rEydOlAsvvFDOOuss99LwJjExUUaNGiVly5aVbt26SYEC4T1ZD0PPqlWr5LfffpMjR45IVFSUXHXVVVK/fn33GoqiKIqi5DQiOnLx119/yS233CLXXXedDBs2TGJjY93v/Mvw4cPlgQcekI0bN7qX5Azi4+NlzZo11sjIqP34559/St++feX666+Xjz/+WE6ePOl+518++OADeeihh2Tr1q3uJZnj1KlTkpCQkOF9ChVHjx61BkZMTIx7SfBh2/fee688/vjjcvDgQfdSseeP8+gN53TTpk2yc+dOSUpKci/NOnzH3r175b333pObb77Z/k64NwYPHiw///yzHDt2zL1m1li5cqX93f3zzz+yfv16K3wnx4ehlJvh3DKm8Htyzu2tt95qf3eHDx/2y/VzzmOwf2vse074jSuKoiiBQdOiDCVKlLAe1M2bN7uXRDbFixeXZcuWybZt29xL/ANKx+eff26VqB07driXKqmRP39+adKkiZx55pkpUQg8/BgcP/30U0AV8Li4OBu5GThwoDVY2IeWLVvK2WefbRXHcePGyT333JNlAwPjaMGCBVYBffjhh2XkyJE20ta0aVNrvL788sshNewCCdfw66+/tkYaBkbjxo3tuW3QoIE1uLi+33//vTVwswr3Btfu+eeft8ZKsOB6zpkzR+644w57LIqiKErkocaFgQd7wYIF5ddff831HtOMwPlAsZ0yZYqejxASHR0tt99+u9x4441StGhR99LggNJLulK9evXkrrvukgcffNAq/QjKLxGuunXrutfOPBgoGPPcaw0bNnQvzf0QHR07dqxMnjxZGjVqZM+tc145x3feeadNw+O3x3jkK3qoKIqiKOGMGheGihUrSosWLWTx4sWydOlS99LIpUqVKtaDTLrK8uXL3UuVSIEIEylhhw4dsjUnderUscYmULtDTUeHDh3k/vvvtwZQViBtb/fu3VKsWDHJmzdyhiFSv+bNmyeVK1eW2267TWrWrJly/Pny5bP1JhgY/Ab/+OMPe44URVEUJScR9azB/X/EsX37dpua0axZM+s9RZGmTqFt27YpyhTv79u3zxZFlypVyi4DUhuoURg6dKhN6fjhhx9ky5YtUqlSpRSFCSXtiy++kLfeessaL6RfOZBO8v7778uPP/4o559/vi1mZf23337bLqtatard9ksvvSSjR4+2igde5JkzZ9rv/Oyzz+zyCRMm2P1mm+XKlUtRVPj+6dOn2+PCw5yRgm7qKBYuXGj3FSWH1Cg82G3atEk5Hxgc5P+zzPN4SGFh3zgmioo5H6Q+OecDZZK0F/aJ48QrzjoIxwakcOzZs8deDwfOKV5d4Dic48OrO2jQIPv91apVs8v4Xtb/5ptv5N1335UxY8bItGnTrPcXZY3olHMe2M5zzz1na1JKly4tX331la0t4Nxz/HiYORekJZ1xxhn2M8A5evHFF2XGjBnSvHlzKVy4sPud06FegWNavXq1vX8cUBhRzHkfLzXXHlA62adChQpJ7dq17TkltWX+/Ply7rnnWsP3iSeesClLpPGRGsX54zqRtsS+cA1Q+DneL7/80l4PUmwWLVpkj4N7OL17gdQW9pm0Fs4F59f7M7wmVct7OfUenPchQ4bY+5PrxG+F/WH/WJ/zynFwXZzj4Lxzb+HVx6jZv3+/Tcvi+PDisw8VKlSwvw++n+NwtsM6HF/16tXt98+aNcteS+5DvoPoW40aNVLuYWBbvI9wv7BdvoNrgeLPX84D+8ZvkLGCa+V8B2ldfIb0Le5Jfpve58IbPvP3339bJwa1XlxjXzj36ezZs+1+Y4BkZizh/nr11VftteC3OmnSJHuOOBdcB5wpjFukZmEosh2+97vvvrNjGt/N78r5rZ04ccJGq0jTInXLuV+B8fKRRx6xv3H2lYjMp59+as8538V2EX5n7LeiKIqS+4kcl2E68GBEeaDOACUvrWJElEIKUXmY8+Dv2rWrXHTRRVYhQtnZsGGDe82sgTKGYrhixQrp2LGj/f5atWpZhWPdunX2L55jlvOXFBOULpRQf4HiQ9oGyrqTG58aKDMoc+PHj7efc84Hyg3ng/QXFBK+DyURpaVdu3Z2PefYSpYsaQVlk+MBtknRPUooSgxKDvA+r/lOz9QclDaULPb5ggsusN+NkYSCi7Hhqyif7b3yyiv2nHbu3NnuN4qSN+wL14PjLFKkiK0bwShJC5RpFGJqFjCugO9BueZYMFRQugDFk/U4ttS6U2E8clwo9Zxn9pVjxHDxNHI4NyiLnOdOnTrZz6Aco/Tt2rXLvVbqcC64TqRioUD//vvv9p7mvkwLDBLOD8YuxhD7hnFGDj73J++Dcxwo6mynS5cudl2Meu53jCvOrXMNuS58xgFjH0MVBZb3UagxSDDMKJDGoKSOgfeIulAfgjHrCefo+PHjcs4556RsA6MMRwEGMHAeLr/8cnt+MeD4fXH9UPSXLFkiU6dOlVatWsnFF1+cooinBfvL9eb4UNLTAqWf85OVyAXXDeOfe4LfFOeHYyQKVb58efdaYmsxMKy4DxlHuA7c+4xt/GZ8NQ1IDww8rjkOA84N20W4HoqiKEpkoMaFGxQ2FAy8hnjyUFZ8gYLA+yj5pC+gZN50001W8EbycM6uko+igpJF2gTfS347CifKDooM26XDjLNd/sfbiFLkKObZhfOB8oqSgIKfWnEt2yN9A8WdIk7P88F+oUhxPvgelEc8vBwfSpuzHsdWpkwZq2iiTDkKN8rf3LlzrbcVg8G5JkQV2B8MOyeahFcVTyzfzflyzg/nkA5HKJN4wL07gnG9KUzu16+fXZ/6Bm+jAYWSdBY8xxg0rMe20wNlFSOA/SZSAhgVeM2JInCcGGCA8cF6eM1RLH3B+endu7c9p6St3XDDDXZfunfv/h+DiHuB43eOifsSBQ+lnOPgeNKC+4xICMomhjTHjdGGgfDaa6/ZiAQGI0q2A9eKKAB/Od9sk21zP3A9MNqJAnCdPI+D+4H1WefSSy+1rWgx3jDKevXqZb+jT58+NpLnwPtXXHGFrUdxjo99dY6L+9C5/nyWc8o9yG/XAcPl7rvvTlnP+R6cDHj4iQ4B15vvwABm/7kPuW5EDDkO7hfPiEha8FvBAcF94UTrUoNrSGOFrDRV4LOXXHKJvSe4l6655hp7fHSk8ozCYXxw7zjnEWFswQDBGOPaZxbum/bt29vjY/xwvpffvqIoihIZqHHhAV43vHx4kEkJ8aWEOS1KeVjioXNyzlHIUIBQZPBMO8pJVkApwNOHkuANijb7RStQPLWkJDz99NNW4UGxy4q3MTVQoJknA0MK5dzX+cCbzft4PjESHA+64/0mBQNl2vHcpwbKiKNAOoo43nKUMZQUFC2n/gMDhOUoMk6KBvvH55yULmc514coCfuGYuitMOHZZn2nG5Mv+F4UZ46BdB4UUI4vPTB0OH6+m8gBkCqGQcE8FNwrznnFWGIdlNj0FM/04DySDofyDnwfKVxEgLhPPI2C1OC8XXnllTYCwrXl2NlXokNEM7jnSIFx4DeDB5zzzO/CUbjZBzzYXBeO2x8dyJzfB/cEsC2MU64J9yzXxzmHKNcYi5x3z98k5x4jhegDaU9PPfWU7VrFMfIb9/wd8R0Y9RgHH330kY0qct9jEBEZyChcZ08DJy24dziG9H432YFrTATFGWfYJuMLYxv3Cr8xRVEURcksalx4gUcVRYXcaF9tNvE8k06AUoIn0FPw0pLzHihQNFByBwwYYLePAoSChfcXD3wgwHuMAkX0wklL8gSDBsWYNArv84FHlJQYX0aJNyiGpDihiJOGhSJHDjyKHcophgrfhXLG+UdRZLkDBgcGBes7hoUDr1HyiVqwv56kZySgjDPXCX+JcDgKbUbgu1H0Ud6oA2DfSQ1C4UbZ5rqRXsOxsl8otSjngQAF2zE2Mgr7z2+B6A85+qRVoYgTdeKYSKlx2o2iiHKdiTh4G0corSznmqUWAcsu7Cfb8Yb7yYnqOPch1wHj3Gnpy33NehiZnhEgT7guREcwALlmRD64pzIDRhD3J9tPz8DjXiCSxX0fbKi3YKxJLXqrKIqiKGmhxoUXKBnkJhOdQLxBQcKrhyJMOocvIb0ju95nX6B0O4XE/fv3t55WIhcUB3sWm/sTIhEoUtQmEKHwhvOBoJj5OhcI58Nb4fcFCijKHd5tlDgiF3jNUWQ539QLkI6DBxyvq7dyhzLs7/P+yy+/WC81hhwpWpmNDHFdELz67DfHxFwRHCcpUxiwLHNy61HswhXuBaICpC5Ry8E19e4mFoj73t9wL1NkTJQDhwANAyic569nDY8n3FsYlvzluJ0IXWbg3GDkcT+lF8HBmMXozKwB4w8wbBRFURQlq6hx4QXKA15KHurkVfOA94QIAYoFyi15zb7E6f7kgEKaXY8tnk48+XifUezYR5QdXrPPgQJvMPn9eFwpjPU+H2wfSet8UD+SEeOCQlQ8+ihWeIc5Z6RlcXyk+WD4Oe05SYvx9MTjueY8U1fg7RXmNd/J+plVCtkfIkV0sCI6Q4eijKa2AOeFNCGiLXj5MTCciAv57yib1MqgbKK4B8pI9CdcS+497g0nukd0i+vEtfE2wJzzz/UL9nwd3hC9wGnANcRwZZ4NzjnXyVfkwwHDmq5LpNhhSJMSltmJIDlvXHPuQSImqd1HnC8ihewT94Qn/hhL0oJtYwgTZfGM0nHeuNaZNa4VRVGUyEONCx9Q0IhCjUeZ4m1PUER44NM5iA4ypA94pluQ04+3G1C2+C6UCvL9HaWXBzRpJJlVEhzlh+/x3CY1AZlReDML3nSMGRQsvPeeoByjMNEmFS+29/lg3zxz8zkGjt/x1HvC+cJzTPoSHbvYrtMliP9JMSJdjagGOfOeYHyguLIfKH2e+0AqElEfvsOzW05GQJHkc+TX8z8KJpIZJYtaHvaHfUdhdPYdg4j3KDZG4eVYUcDTg/PE/RMoRY9zhiFFfYW3Qsm9x33L/rLcMZSoFeFe4HdB/YXnvc7viGPkeDOS5sPvxUkTCwScP+CaOPcJ+4kB5F3wD+wLv2nuXdL9rr76anteqD3JTE0E26XGgXPFb4UGBHy3sw/85TUF9BjXGDJO44CsjCWsy/Gk1uWL7XGtne3znUQGuVaMc9ybQMQFZwtjG1Fb4DN8N9fWG2ecwmB2vltRFEWJHHSeC6N0ojiTouLAg5yHK5EClAgKP515Lpy8abojoXDgkUYp4UFK4TLzJZCrjLee7+HhSoG3k1KE5xqljbQMHtZ4MelShSLAuijvbJNWkp6eQ76LVBrqDtgWEQT+orCiCKJgsD7bRRngO7I6zwVees9uSHwWxZHjIz/daXVJuhLKMEoxXYhoWYqSw/nguzAQUKBQEvESA5/nvHLsHC+KEt/vFMZyjHSqIQJBIbeTpoLCwvocP+uT/+7ZntSJoHA+UHxR+jg/XF+iDewrHYacbjkocXwXBay0yPWGFCzOBVEHPsNxci657hiVnGsU5YycVwwK0tn4Tlqfcn653s5nMWDZH64d591ZTroZbVX5vNOBB1Do2AfuRe4n5jLg/HGOqPlh39iGZ4oS30+dDnUeGEmOAugLlEwiRNzLKMFcP7bDNSX6QkSP683+kjLHdxHRYx+4R0g7Yt/5DEoyLZs5XgrEnevJ+1xnzj+GPO8Dx849xG+EdVCMMRb5DfJbSe33wf3CeaRAn9+zA8oz38V3UJTNfnI+2U+Ogd8R14X9xGh0FGIibpxf9oH7h3vW6RrFPYpSz++L88o5Zd2MwD2Kc4L94TsZg/gOzi1jBAYL9zCpc5dddpkdc4DzkpmxhPU5d7yPQcA1ZFvOecSAwJBwjA/n2hKdZBkdprhPgOuLM4Bzz3c5xiXRF+4PlvE7ce5dzilGJt/H+ea7OY+Mm4qiKEruR40LH8YF8BDmgchD0tO4ABRVlAwenDzsSWFAWeEhShoND3jqBwClHI8tCgwKJuvzAKZbEA91HswZMS7A+S4USwqE8dKzjNQhlF4U4EAYF4BBgWGA4uhpXABKJeeP7XI+nfOBAkXaCceH15V9cAquOa8o9yhYRAYcpRMlDaUE4wBlkON1YDucQ7yoGCveKTYo+5x3zjWKK/uCAkaNCoXpeI2d85BZ4wJQSlG4UKxQAImkZCQnnmPi+mB0ci7wCDv7gaKKQcA9xntcTwfuP2/jgnPHOeS4uL6cZwxcFHQUV38YF+wb9zrXhe9G8eZccT65NijHFHWTnucZaeF8EJXBuGS/MS5RYOnqxflnH53j5thSMy64jmyXz3Oe6eDEfcw9lF3jgv3lvuUaYKRhRHEPcq44x/wmuU4YFyzjOJi/hWNFnGvAuSEqx3nhvvQ0CtOD/eac8DmMa7aBss9vi/udsQFxxhCHzIwlLOe+xRDguzmPfD/XnnuWZVwnrjPnDeE8c14wLIhIOcfDX46Xc8n9xXVh7GQuE35bnF9P44LfJfcsxhsT6bGf/AZYV1EURcn95DEKbcTGrfE+osTy4PNUxByc93lgopR4K2S8zwPXSVFgPb7H+7s4xXjzWB94+LNNlvFZlEIHtscyDBfn4e4J3+WsA3wP34eyxvp8DlgPZSO1Y/NFsM4H7/M9zq3nvT3n+Hxtg2Nytp/a+WEfEEhtH1iPc+ZcC284Fq6Pc349Yf94PzPn1rn+vr6PYwLva+7sI8uc6wos97yfOEfO+XDW57UnfCaz9wPXgG0gfN7BOZ+e++rAev44/853sJ5zPBync294nyuW8X1sx/v7nOvF78zzM85ycPbROa/OurxmP3ydN+c9X9vMCOwzn3f2AZz98NxPTzgfntfeOX8s4/s8xxLwPo+sy1/mLcHgpRkExgbvQ1rHwvewHeA7nHuM8+59ftgXZ58gq+dIURRFyXlEdOQCZYUHnrcC6+C8n9rDnvedh6aznq/v4rOOEoDwv7PM84EMzjJf2wOWe26T7TnLPL+LZc77GcU53tQ+47yf2v7xvue+8b+v7/J1DJ6kdQ5Yntp7wHLPc53ePrCuL5xj8fVZ5/t9vZcazjH5+gzLEe9jcvYR8cTXMTqf5X9fx8T7md1nZzt8p7MthGXO9rzxtW++tsl6qe0r8Blnu/x1tufsj/f2ee3smzfO/nh/xnM/+Z/3vdd1Xvs6Buc9/mYFz+05wmvv/fTE+zPO+vzlvHjjfR55jSFB5ILoEHNaEA3x/L7U4LPOes41QHjtfX5Y7mw3ve+NFJickRRGInxEzEhvIwJOZIeoIFFFoqJEfvmf6CSRIiJQpKoR6SN6RVob34VxR/SLNEUMZSJ7ug3dhm5Dt+G9jVAQ0caFoihKpOFpXJDa5KQ3KoGB80zKKUYc4qTzoTA4qbakR/IekFLm/E+Ejv8dI5H/MdYw3vjfiVTxP6mVznLdhm4DdBu6DdJfMUpYHkwiOi1KURQl0iBVibQouno9+OCDIZmoL5Kg7ojCd+p4UAoURVGCBREPaiFpEhJM1LhQFEVRFEVRFMUvZDwBW1EURVGUTEGnNvKq1Y+nKEqwYeyhA2KwUeNCURRFUQIEbZIptFQURQk2jD2kwAYbTYtSFEVRlABB22Da+FK0mVPhGJgklfxtePLJJzM0x4+iKKGFVuEUilMgHkzUuFAURVGUAEGnFuaYcTq7hALmHGESxU8//dS2uARaXN57771Srlw5+zotKEofPXq03HTTTXZyR1K9Ro4caSfAbNeunXut0LJ69Wp58803bdcclCmggJ6OaD169EhZ5k/oAvb000/LK6+8YieaBK73d999Z7d33XXXaRG/ElKYYBXDwvndBwtNi1IURVGUAEHOM73oQ+XHY7vLli2Tjz/+WPr27WsV4RdffNHOmM7s9J6TOKYGs9ljHIV722IMpmeeecYeI/Lyyy/LZZddFhDDIjWY06VRo0Z2Fn5FCTWMPTgWgo1GLhRFURQlQBC1OHbsmJQtW9a9JLjwiB8/frz8/fffwrRWTnoEy4lAOH3zmbH9+++/tylc9Nq/7bbbbL98FJPhw4fb6AepUPXr17eTd40aNcr2zsfgwPDo2bOnNUKoMUHJp/0u33PttdfKmjVr7NwqLL/oooukSZMmdvtM8jV9+nS7P4BC3r17d9vXf968ebJ48WLp3bu33QaTho0bN84aRc2aNXN/4l+IXLz33nvy6quvStGiRd1Lk+E9jv/666+3+0Q75h9++MFOSNaxY0eZO3eurF+/XmrXri0zZsyw71988cV2W8C+Yoj9+uuv1hjjeLt162YnPJs9e7b9HGlvNWvWlF69etnv4Nycc8459tyeOHFCvv32W2to8pptElHB6OG88x2dOnWSr776yp5nPtelSxe7bUXJDvv377f3ZrDnudBJ9BRFURQlQODJJiUhVOkxbBeF/88//5QWLVqkKN4otij7vM9svm+99ZZVvq+++mo7QzAGBco+CjMKLwr+3XffLWeddZZ9f9euXVZJ5jOtW7e276PAU5tx3nnn2ZQgjA0iJswefOutt9p1ULwxUDAgtmzZYr/vmmuukTZt2siSJUvs99atW9dug9mGMSp4jQd279691vjwNeM7ShTbR0l3DAiE46SgFWOlffv29rMYCxgKGFocI0bMzz//bOcDuP322+1fUsgaNmxo9xnDgvf79++fYvzw3ew7sys//vjj1hjhNcYZ+wHsN7Mujxgxwp7r++67zxpWjhHHud22bZs1mjBuHn74YWnQoIEMGzbMGnBOqpWiZBXuVYyLYI8/mhalKIqiKAECBXrSpElWoQ0VeMlR+PGeM3HiBx98YBVmWlSiJE+cOFHOP/98ady4sV0fpRrFmOgD72cGogotW7a0/7dq1cp+D9tG4SdSgKFCHjjKDso+NR/sC6lbvEcdA+eK2YW7du0qs2bNkmnTptnoBylOaRWmorBzbO+8844V/qegNSNwzERfMEZq1KhhDcIdO3bYyNPnn39uzw/7D9SaOOcqPTCWqMNg3wFjhajH5MmTbUQLiAgNHDjQHhvng4ktOR+Kkl0Ye/h9BRs1LhRFURQlQJBalFFFNFDgrb/llltkwIABcuedd0q9evWs0kH3p8OHD1sF2HumdvabiEdGajJSgyhJasYABgQe/q+//tp67w8cOJCibDuQbkR6EOtgtFSpUsX9jm/Y1j333GMjAAgF61np0oWBQWE4kNLEOSCakRViYmLsPnjuB0XxGHace28wujj3iuIPGHu8f9vBQI0LRVEURQkQ5DrjCQ92WoIviB5QbIzCjuCZR8lnOUp0MCGiMHXqVJvGRDcn9od9Q7F3IGpCxIKIBhGgzEZRwgHSodj/nLjvSs6HsScjHeH8jRoXiqIoihIgaONKhCBUaVEotRQeY0g4Ci7pQ9QzUNeA8UMNBDn/pO8AdQLsN7USGB7eYAAQDUFpziqkRrE/FLrzfUQHjh49mnKeeI9Ca9KShgwZYqMo1E1k5TxyDHy/c3wUsmc0XYrzQwE3aUpOFIfP8l18L/ue1nkgDYpjoXYE+A7SzTi3RDAUJZAw9oRiEk81LhRFURQlQDiRi1BBxISOUO+++65NhaKQecyYMVbBpnMTnnWKkVGQqcngfeawwNtJsbOviAtFohSHL1261K5PsbWvFJ+0IPUHBXvKlCnyyy+/2O9ZsWJFigFExIJ6i0svvdSmKFHzwGtSqDJLnTp1bL0E80+wHWo49uzZ4343bTAgaOGLcTZ27Fj7ef5u377dGgfsl7P/GGzeUE9BjYbz2Z9++skW0FM4n1b9iKL4g1BFLrQVraIoiqLkYnjME4kgz98Bxb5kyZLuV8mRBNqiotzjjadrEUYEoIjjrSd32zE2iH7QDQojBQMFJYbvwKNfvXp1ux6pVijhZ5xxhq054Dt4Tf0CBdPUI9DJiW2yLaIYfIbP0xmK9/lelHA+y7ooSr5qEqjX4H0MIl/dpDh23gdqN9hv9oGOTBwfURNqPNhvzhfngsgOhg2vd+/ebWtTgH3FYOG42S/a9XIMGJJ8By1nec8pAPc8V8DxY5iwLc4Z3833cd7ZFilgGDV0jFKUnIgaF4qiKIoSIFDq8cgTHfAVBVAURQkUdILDmHXmbAkWmhalKIqiKAECLzcecEVRlGDD2OM9qWQw0MiFoiiKoihKVtlqhIwrsqAassAHZEStNEJJyZlGgjthsqIEFY1cKIqiKEqAIP+egmf14+ViVhnZbSStaTiY5oL3MTCSG0cpSsBh7KEmKNho5MIDp1UdxVdOy7lAQe4tRWcUqiEUcimKoii5C7obrV69Wi688EKtucitTDJCZ9srjBChGGlktpFYIz2MXG+E2nhejzbS0UhNI4oSYGhDTceys846y70kOKhxYaDLA90a/vnnH1m8eLHtHEGf70CeGowJemfTFePss8+2reo8O3coiqIoipID8DQujhqZY6S1EVKgnjDyoJH6RtS4UCIENS4MdPKgvzd9taOjo237OPqCB9LLhEFDX3AMGbbTtm1bueaaa3RSHUVRlFwEk78RvaBbi0YucimexoUDmtU0I2uM3Gwk2ogaF0qQYQI92inXrBncGy7ijQvyYV944QX7AGjXrp2d2IZe2776ZPsbZh7FoMGwoad2x44d5Z577vE5I6qiKIqS86AVLTMyX3LJJWpc5Fa8jQvm+XvdyHojDxjpbASVQo0LJcgwQzetaMmQCSYRbVyQ+vT2229by44e5L17985Qy65TSSKHj5+SfUdOyeLNcbJmR4LsPZwox08mSZni+aRiySg5u3ZBqVMxv5QtHiVFCqZdT8FkQcOGDZNly5bJ7bffLt26dXO/oyiKoihKWONpXFCuyVyFJYyQIvW8kduMNDaixoUSIUS0cYFR8dprr9nZQx988EE7U2d6HDx2Sn5bEitj5x6TxRvjZMehRJG8eaRgHpEoI/HmbMYb44PX9Srnlw6No6Vnm6LSyhgb+VjBB1wC9uX999+3xs3gwYNtPYaiKIqSsyH9FQdS3bp1NXKRW/GuufjKCBQwcsLIVUYqGlHjQgkya9eutTPHZ0S/9ScR26KIblDr16+3qUlNmjSx1fTpsWF3gtzx4V6596N9Mm7+cSlRNEr+162kfHRHefn+scoy4Zkq8vVDFeXNm8rKZecUkb1Hk2TohMNy/du7ZPCYQ9Yw8QUPnBo1algjZ8eOHbJp0yb3O4qiKEpOBuOCB7wSIRQxcpmRDkYo6u5tREsplRDB2LNr1y73q+AR0cbFoUOH7F86NqXlUUpyify19qR0f2GH/DT7mFQsk08++l8FmfZ8FXm1b1m59rxicn6jwtKyTiHp1ryI3HFRCRlxX0X59dkq0r97CTlgjIxXRh+QJ78+IHtjfBsYJUqUsIXkpGodPKhNsBVFUXIDOI569OihUYscDO3pqc0ks4BndcGCBaVRo0a2GYzF0aQSjfB/ZSNMlNfISFkjXHpyRBLc/+utoAQJxp5g11tAxBoXkJCQYFOSGChSIylJ5M+VJ+R/H+6VrXsT5KYLS8johyvKDR2KSXQatRSMHbUr5JfX+paTrx6sKM3rFpJR047Is98dkJhY+tP9F2fOC7pIMZApiqIoOZ/jx4/bxiERnIGcK2jZsqVNX54yZYpcf/318vLLL0vDhu7puJsaKWVkqX3lm2NGFhnB4CjHAkUJPIw9ONKDTUQbFxnxJG3dnyAvjjkoG3bFy/2XlZKXbygjDaoUMJ91r5AO+aOM5diiiLx3e3k5t35h+XL6EXnlx4NykuIMRVEUJVdDJ0KUUiXnQgdHGq3Q+WvQoEG2+Qse4ZTJb0lnP99IWg7iYkZYp6URUqcUJQgw9oQi1T6ijYuM8MnvR2TGsli5um0xGdSrjJQvkbUWtS1qFZSnepWW8qXyybs/H5LpK6jsUhRFUXIz1apV09m5cwFz586VTz/9VN5880256KKL/jUsDMcPx8lPr8+TXeuC7yFWlLRg7An27NygxkUaLN0cJx/9GiNnVi0gD15WSqJpAZVFeK50aFjY1mMkxLus0XLgqO/6C0VRFCV3QF0fKbhK+ELB65AhQ+xcU7Vq1bJzknjWPq5atUoef/zxlNqZF198UaZPn27f27Bwj4x7e76snbvLPNv1ma6EF4w9oUi1V+MiFRKTXPLZ9CNyzBgAl59bVOpWyu9+J+vg6LihYzFpXLuQzF91QhZujLM1XoqiKEruhJznmTNnas1FmELXyL59+8r8+fPl66+/lu+++05mzJiRYjzA6tWrpVWrVrJ06VIZOXKkNTDq169v36tSv7Rcen9LqVSXogtFCS8YezCOg40aF6mw9/ApmbnihBQrGiWdzoqWwgX8E9KuVCqf9GlfTPYdS7LGRUKiPnAURVFyKxUqVJA2bdpoWlQYEh8fbw2KY8eOyVtvvSVVqlSxnl5qLDznBbjiiivk9ddfT5Enn3zSznoMhYrkl6hU5rBSlFDD2MMcO8FGjYtUWLk9XrbuSZB6VfNLo2rMhOM/LmkRLdHReeWf9SflhBZ2K4qi5FoKFy4sZcqUcb/KIjcbecvIAvvKN6T7jzLyqJFvWaCkx5YtW2T8+PFy+eWX24lrf/rpJ+nXr5/cfffd0rZtW/daGcU8y/VxroQZjD20UA42alykwv4jpyQhziV1KxWQktFZK+JOjWpl80nlElGyP8ZsQyMXiqIouRY6DE2cODF7aVHRRi4x0sJIjJFlRuYa+duIUxpAVk5fI6yjZAhadMbExMjkyZNtB6hFixbZou3Bgwe710if4zFxsnzmNtm/9aj5u1U2LNgjSaf0ua6EB4w93NfBRo2LVDh0PEkSE1xSplheyedf20KKFIyS4oXyyqGjpyRR678URVFyLaVLl7YTrvmN3438YWSbkZ+NfGTkiBEl0zCvVMmSJWXo0KEyduxYef7556VixYqyePFi9xrpkxCXKCePJ0jLS2tL0dKF5fDu41pfo4QNjD1Vq1Z1vwoealykgjM25A1AnixfibANl8ZRFUVRci2k29SsWdN/NRedjZAmdbWRXkZWG/GzAyxSoMaiXLlysnbtWvt62bJl8uyzz2Yqja1k+SLS4dqGKdLikloSlU9VKyU8YOwpX768+1Xw0F9AKpQqmlfy5c8j+4+eklN+DnHGxiXJkZNJUqpYlOTTQjBFOR3yxz8w8pWRmSxIhXgjvxoZYgQvbrhCVPpJI+OM7GVBKtDU40cj5Ncn6ztKWsw38qwRrv1hFqQCMyePMcJ9spkFwYO0qAkTJvjPm13SCF/FvHxjjQwyopOyZQk8ugMHDpRXX31VateubQ2LJ554Qs444wz3GoqSs2HsCcUknmpcpEL54lGSv2Ae2bA7QQ7FJrmX+ofNexNkT8wpKV8qSgrkU+NCUU6DaQFQwvHSdmRBKtBr4SIj1Y0cYEGYctTIcSOXG0nLidTQyJXJ/4rOs5k+1B8wPF9mBKU7NZoY4byy7gkWBI9ixYpJ9ercoH4CwwIjlNQoHh8Ueeu9kiWIJp1//vkyb9482bBhg/zwww/SsGFD7eyl5BoYe8qWLet+FTzUuEiFepULSNXy+WTdjnhZY8Sf/Lb0hBw1BkuzWoX81uJWUXI1KJHjjTztltFGgqwk+pWNRojMPGXkGSPLjYQQlCtacf74449y8uRJ99LT+euvv+TLL7+0vf7379/vXhpGEO0ZasQ5r6QMhRhSbJgh128K6xYjzY08YOQqI0TDdhtRFEXxgrEnFJE4NS5SoUrpKDm3fmE5dChR/lx1UhL9lBp17ESSfPXnESldKI+0qFlQIxeKkhEoXkWBetgI+eakSv1lJKdCUW4VI48bYS6uF4zsMhIi6CayceNGueyyy6RQoULupadzzjnnSKdOnWTBggX/mcE4bJhmhJbunNcaRl4zss9ICKHd6aRJk/yTFkXk5VMjHCeT7u50L6OblKIouQZS9NatW+d+lXUYe7RbVBiRN28e6duhmEQXyydjZh+VFduyH71IMAbKZ9OOyKK1J+VsY7g0qeHf+TMUJdfS2MjtRkoYQfetZySM06JPnTqVtme/vxFSefIZqWmktpHSRoIIEYrY2H/zafCsM3kYHD9+3M5GzOyuf/zxhxw+nFzQEBUVlbJOWHbEudNIVyMUONcxwnnlngkhBQsWlFKl/DR7M0/sa41Qa/KI++/rRioaUZRczp49e2TWrFl2BnVH/v77b9m1a9dp4xHrMkEiHcA8x7lgkZiYaB0LpNt58+GHH8qwYcPcr5Khc9mcOXNSjqtdu3by2GOPydNPPy3vvPOOLFmyxE7wmFkYe4oUCX5RlhoXadC6XmG5uXMxWbU1Xj76JSZbc1Jw389fHyef/BYjBQvklX4XFpeKpZIf0oqiZACKvPHafmwEr381I2HKiRMn7Ey+y5enke/EW+8bIa0Fw6mgkSDCQ++rr76SI0f+28eUh9wnn3xiW3PysHvmmWfkzTfftLMYhz0M0dQucl4nGLnRSIh9OLQ2Pffcc32mRaEQoTS89NJLtpCY6/H999+nfd+caYTmAG8becIIvwVFiQD27dtnjYVbbrnFGhmMTyjeTHpINNUBY+Pll1+26991110SHR3c0B6Opffee09uvPFGm0bqDYYP++gJYwHHQOopgtHEeq1atZIWLVrIK6+8YudjwXGVGRh76tXDGxdc1LhIg7zm7NzdraQ0r1NQRs44IoO+OyiJSVkzMLbsS5Bnvz0gK3fEy53dS0q3ZkVsLZ6iKBkE5wvF3V2M4LENfqRXPvvsM+t1Sk9GjRplvWX333+/jQD4hNbjPYyQxvOOkQCl78ydO9fnPk6ZMsUWsPLQ8gQlmBmL2Xc8Zw8++KDMnj3bRjOCCYoBSsTZZ58tL7zwgvUEZgjSoS51/6WuJcTZWzt37rTRH2/PKq9Zfscdd9h2kT179pR//vnHnvejR+kA4AEv0VHS6pxGoIwuY2mtY1i9erVNf+O8piX9+/cPz9Q3JWI588wzpUmTJlKtWjXb5QuDHMcHvzGcIYwR/K4+//xzo7/llVtvvTXoxczx8fHy7rvv2n0l0pDR2bGJCt97773y+OOPWylRooTtYta1a1c577zz5OGHH7bPnzVr1rg/kTEYY1atogNEcFHjIh1qVsgvg68vK9VK5ZOXvz8oA0cekJ0HEyWjNgbRjiVb4uSGd3bL9CWx0qttUXnz5rJSSAu5FSXj7DFC9yjSXJiBuLIR6jCCjPNwy4hQSFegQAEpXLiw+9MezDNC4BKHEjMvc3wB6naF5zy1/aP/uXfKDsZFjRo17MONh/W2bdukdevWmer97w+Yf+DRRx+V7du3W+XbScdKk3+MEAHivNKZizqdtFrUBgE8jXFxce5X/8Ls0Bh2zAzdq1cvadmypVSuXFkqVKggzZo1c6/l5gsj1OWk1TkNHeohI0Rt+rDANw0aNJCff/7ZtqdMS4YPH24nAFSUcIbfTN26da2BQcQY5f6XX36RCy64IEWx5/eHs4JIAL87DBAMeF4TZchKulFqMObjDOncubPtFJdRcN7s3bs3JYULp0P9+hTkJUP0gTGYiIa3oyItOHZ/Hl9GyWN2Mmuu+BwON+DHH39sw0yE/SlUTA1qJSYtiJWnv9kv63YkyPlnFZbbu5SQFrULSSUf7WQ5obEnk2T97gSZvChWPvk1RnYZg+Sa9sVkUO/SUrN8/uQVPeAykIowZswYa6F26YJ7VlEiFAwJvM53GCGffJkR5rNgrKX8CUcMNQtnGQFSi3Cy3mJfhRweYE899ZT1rqGo27ahzF9BhIIBYrgRHPHUW2Ak4XW+24jTThUPdCcjXjqmPyEET0pOnz595IsvvrCpOITyHUiDwhtI+tQjjzySYiTxABw8eLBNRfB8+KUF4xv1GxgJmWnLiped3ONp06ZJ06ZN3Us9cGarft4I5/VDIwzHbGKTERpf3WakuBEKn5nngpoMWv6GGPLBP/30U/scqlWrljXkMDaY0I3IV1jDb1FRgHEqSBnepGwyFtHd7rfffrOOELzy/fr1k+uuu04eeOABG2VFh/ruu+/seAMYy0RgSTcaNGiQDBgwQEaPHi1PPvmkdbKQWuXv1CF+zxdffLGNPLA9T5577jn7PkYIYOSwPz/99JMd71ifdKpNmzZJ37597djHGMpM8hwD4zWRjnBGIxcZIH9UHrm0VREZdX9FubR1EZm75qTc9cFeuWXoHnnm2wMyauZRY0QclxkrTsi4ecfkg18Oy30j9snNQ/bI4O8OyKkklzx8ZSl56YYyPg0LRVHSgdShbkbQb3GmXmeE3PMwBa8/Ob/WsPAG5ZfZlc82gpcdA+k+I2nN0xAAiF5cf/31PvOR8aKR/4/Xi9Qon9GXTIBSQKoASkFmWLx4sU1rwDOZLs55ZU4L6ixo10rhPIZFCMFjSrcWTz8e54OUNKJKRCoAT+r69ettjnQgYVI/FC2ufVqCARkTQw9oH6DXqKggmYRIJOlMvu45R3DK4ABODVKDbrrpJrsuCvoVV1xh/0fhxpAgYuEZkW3evLnceeedkj9/frnhhhtsR7xLLrnERj3YF2/DgsiH5/74EtpxZ7b+ITXYb1IVcXRjUOBcoH0sdXuOUwVDimgu5y8zMQHGHr4z6JidjEjMQ9NlrECXucFcf//9t3tp+sQcP+X6fs5R17mPb3VF91nvynfZGlehK9a6ily9zlXUSPRVa10Fe651RV221lXhlg2u297f7Vq5Lc4Vl5Dk/gbfmIeNa/jw4a6LLrrI9euvv7qXKkru5MSJE65rr73WVaZMmf/IxRdf7IqNjXW59piVnjYyw8hGPpEKiUbWGBlm5FMWBBajcKXs6xtvvGGXGWXN7veIESPs6xUrVriMgmjXMQ8he6yumeaN23jTyFHWSgWOe5mRZ40sYoH/MIq6q0+fPi6j0FoZM2aM+x2X68MPP3Tdc8897lcu1zfffON66KGHXMbIcJkHqH29YcMG+96ePXtc9957r2v16tX2dUZITEx09ezZ0zV69Gj3kvRhu0ZxcJmHrt3WBRdc4DKKuGvSpEnuNQy/GbnPCOfV3DapstPIEiMvGFnJguBhHuyu8ePH2zHegfPBPWMUG1dCQoJdZgwvV6VKlVyTJ0+2rwMF2zt06JBr//79aYoxLOw1UBR/wr1/+PBhn/ecI9yfnr8XB+7HAQMG2PF1586ddl2+yxgi7jVcLmNEuHr06HHa5xnLatSo4fryyy/ta36Tffv29XmPM2Z775O3HDt2zL22b/iddenSJeU54cmzzz7reuqpp9yv/mXdunWuZs2a2fd87dePP/7oatSoUcqYkRE4zgULFrhfBQ+NXGSS4tF55epzi8q0Z6vK5Kcry+Bbyknfi0rIhS2jpXXjwnJp22LS/9KS8uF95WXmC1XlwzvLS8OqBXQ+C0XxAC8tXvFx48ZZzy7hYLxHhIOtl5zoBF7nSkbSC7njpWYmb9Kk0oCuSBTKkQKZlrRt29Z6d31BGP2qq66S9u3b23A14G0mNE+4Go80dRnUClAUawyO5HkjiFIMNMK+pjXq4glkHbocZTBKzzbpPGKMGhtq94V5wNkQPQWDK1eutPtI1xVaJXqDxxCv3J9//mlnL27Tpo1NaSpZMrihFa4X55RrQmcYPP14Hen+QtqZpbUR0snSO6/cQ7QwvsFIcqZE0CB6ZZQd63n0BG/l1q1b7fkmX9wYcGIUB5vKsWPHjpQ6jVOJSbJ/2xGJP5nBgvZ0oHaFa2mM3zSlePHitig2ZOCcJdWRFEmv+vb/gIObdahZIvVN8Q1OdlIwOaepBQU4fzSPo1YprXOeDbjf8b4zr05qkp53nnuYeiDuU6LERCQciFpQY+D8fhyI0N5+++02/ZzfGymJjOe+7nEidr72y1MOHDiQqQhCRmCMoA6OuYR87RdjfWZ/k4w9PIuCTQhHjpxNwfx55ExjNHRrFi03dCgmt3UuIY/0LCUPX15KnriylPTrVELqVykgUXnVqFAUbxgkadNHoTDKLr28eU2+qQVlkG5KKNhptZxFGSfziPXSaQqCskSqEqk5aQntDX2mM7np3r27Vf54uHAc1CDQLnD69Omye/duu4zvufnmm21xn4W6QvaRuRfS6opIzTTr1TKSwe6JKNqE0y+88EJ7Ln1Bqg3tTjnfpAvQhYniR6crEQ9J/qd4G6WXWjTPc/LBBx/Yh/n+/fvtOt4P7kCAAsB5RgEnDYH9Jo0I5STFuKBe0jmvabXyLWeE9bisqc8RGBCYI4TJsDwVEc4xhdwYsaSL/frrr7bODsWBWowJEybIkZijsn3VAZk9eo18+dQs2bflvy2Dcz3YUj8ZWWwkrcngqatZYmSSkcDfljkXfupPG9lhJLVJ+DEuONe0cZ7NAv/DOIOzYvz48akKNVansphyRMMCxjZfrbOpy8ABg2FBrUVqdRakEfnaL09ZtmyZX40Lnht0dmJ8o+7KF6Srkibq7ahIC8Ye77a3wUCNi0zCTN0LNpyUF8YclD5v7ZLeb+ySG9/cLf3f2S23v7tbrjPLer2xWx77Yr9MWxYrJ+L9a9kqSm6APHNab+JtJ3cWo4JIABOOhTt4l/GUofziIcPLds0111glkgJkFHD+J4c2GLAvKN547DCgfMH55Tyj1PqC9y+66CKryKf1UCfKhGJ/6aWXptQK+IK8Z4wdWigiHTt2tJEQjCBnWYcOHazBwwPTF0RVMM6INqU1a3i4w73gq30k9wyFpJwncsbxVpJjzbnlvaKFi0t8XKKccVZZSYzzT253joJHJyUfGI5Em1B6PzdyvxFmYGc+E9bhlmcdTpE+blOH88M5pMaLc4bR9pIR6r3oMEY0A6cOjg3KFQLUeRrPPNFHIqepyX333fefaIQ3jLmMvb4g2krkgXW8oZkENQzUk1FonRpEa33tl6dQs5FWFIFxDQMntSi4N+wTk90RaaDmg0lOf/zxx5TxGKMIxw61cpkxLhh71LgIYzBQDx1LsnNddH9hpzxvjIfZy04I8+pVqZBPmjQoJNUrF5B8+fLIovUn5S1jfPR8cafc+8le2bgnwX5eUZR/wcuP4ojH9sUXXwz4LKIoxRgwtAdMSwi1p+Y5ArznpBWhLPMQY8Dv1q2b1KlTx6Z3Ma8FrUQz2t88u2BQvPbaa9ZDlVrEhQcxXVSIprAO6QGe4MXDq4eRkRJt8UHDhg2tMswDMK00KcLwv//+uz1HCJ5KDAoeys4yvHQUU/q67ngEnQcphY2AR4+5ObhGKCg5hdTSojjPTI5F1IvUDgxrjpeWtESJChcrILWaVZAq9UtLVP4c8qhGQZ2a/K/f2WoEz/obRpjH5DsjaUU0lNThPHKdaJL5shGyIzmfaUEkI/gTXafAmMAEk3SBwsnBWI4jxxt+b7Vr17bjsHdkgd8gTg2kcePG7qX+h7lqGAOJbpBiSlc95t7w5bjB+CAajjFCS2qeJTh5aGXL2OA4hHBSUJyNUZSZ1ChNiwpj4hJcMmvVCbnkxR3y+o8HpWyxvHL/laXl+8crye+Dqsivz1SRKU8l//3NyNgnK8vTN5aR+tUKyFczjsjFxhgZN++4HD+pCaGKAnhlqAMgxEveK69R6AOZboN3ny4chOXTEtKd0mpLiNGA8UDq0MSJE20nEpbhbSa9hZQWDI1wAaXcmZiJyAEPM9qfhjOkNdAm13OeBTpHUd9CF6NgGW7+gL71ofAcBhV0JjLyUFQD1ZYU/aifEb6flCl+ooH1R+Re0PzojnqhEYZc/AR0V0sL0qk+NRKC+YUAw4BUQpwOjNN49X1NkIfiTW0WDg3SKgFHFp8DnjUo86lFef0BqY608GY/qR0jeoBjx1fkGGOIZwndrIDIOJNp4gxiskAgZYrnCk4Iny2504CxB8Mk2KhxkQ6Jxh6YsjhW7h2+V/5ZHyfXdywuw++uIC9eV0Z6tCwqNcrnlyKFkk8jE+NVKZNPOp8VLU9eVVo+Mevdc0kp2XM4Ue7/ZK+MnHFU06SUiIeBkvkU8M7QcxxFccaMGXbWaCdFZseag7Js+lZJjD/d0xNqeMgRueCBNWzYMJvOAnjm8aQxq7G3cXLiaLz8+d1qObjr9DzgQENonkgBBg9RANIFeHBhdPjKSw4HeCiTMufUVvCApO4DjyNpQxAXmyh/fL1Kdm8M8Sx56UBNDnOK+DM/O+zYYOQbIxcbSWuiv+xC9IK5YsYaoeVw9jokK3OMEAkiGzW9KWt6GEGXxy8RwghGejA+492nMQfzxhBBZeI5xg+aJlBDRu2ZdyQxXGHsYxZynCs4iGifmxkYeyhADzZqXKTDht3x8sK3B2Td7gR59trS8t7t5aRd/cLpzrCdL28eaVqjoDx/bRkZcnt5OXoyyUY9Zq0+4V5DUSITwsMYFc4squTBUsxtla/EfDJ52CL57vk5suKP7bZTTjhC+krVqlWtsu54l1iGVwnDw6lHSDDG0eJfN8vXz8ySaZ8vl+OHgl9xSvoSOcxEWYi4cP7pHIWRQYF7OHrVMS4qVaJVmNgJ5jDgmOuCh2z+/AVk3fxdMnrwHJk4dKHE7A1jTcfAfUKKQ1aVmf1bj1jjNDYmTKuVSYWaYoRgXaCzL5hQ83ojzGrPRH50PlKyDk5wJiqlVwATkaYFDSZ6GsGWH82C8IXOUDxTmMgUhw8RcRolvPXWW3aCPWdsCRXUdGD8ZAQiLjwnSSnNSkScsSeQKWCpoTN0pzFDN1GGq1/fJdOWxMoDl5eUF68rK1lt/vTx70fkkc/2Sc2K+eX3Z6tK6WL/teu4DDpDd+jAm064lPuC/wMJYVuK1ShSTa3ANlI5uPOYnDqVJPu2HJVVs7dLj3vPloLROXfiybjjCRKzL1ZKlI+W926dIr2fbivVzqQlVGRBrjETt1EEmVYhZUZIMgbnvm1HpVjpQjKk3xS5YmArqd8mc968YEK9C2MLtSKZIfZInEx8b6FsWEif1WQad6wmPe4Lfv50mqwwwsznDxnJ2ITtGQOjZagRFFqKjCmDYg5G5hjklFDQfa0RMueYI2ymkV5GMthlLeKgVe9NRugEBV8Z4ZZE75xspIoRzjX84P57lfuvJ9ReEO141Ujq2aNKmICjxtE3gokaF6kYF0nmrHw27Yjc8+Fe6dyssAy7o4KcUTbryaQxsUny+Jf75TNjZDx4eSl5vk9pyRf1r6USDsYF+0BuHqkpKAOBujXw4FHMSP6gr9mBgw3FYeR308aTVBfyvQMJhZvkiuLhxtNdpQqjuuLJylk7coVx4UB61zs3TYpY4yIQnEpIktf7jA9744Ial+XLl1vDKqekYmQKjAqCd3cZ8WezN2/jAo/5DCM7jZAO1cEIyzmlalykj7dxsc4I55OmS/RM6GbEUXHSMi7IVB1ohM8wx0zOH55zNdRqkEoV7KJuNS5SMS62H0iUnq/ulA07E+TD/5WXa84tJpko0D8NzvKcNSfk1vf2yIFjSfL7c1Vs2pRDqI0L8oLJw6a7AQWtnJ9AGhd0iEGppjMKPfiZFCcUMPkZLeDotEMUgSKvtFrg+QMMN4q8OMekfFCkRlGw8i9qXCjpkVOMC6fnfrlyTLaRy6BG9n9GHjBCcXAmwatKO16ePQ7MU0D6St5E88D1NC7SQo0LCw0P7rnnHverZGg0ceutt55uXKRFWsYFTDRCKhwtgcP3p6cYcJ7i0AxkAbsv1LhIxbj4ef5xufnt3dK0TkEZ+1hlKRGd/fKU+ESR+z/dK8MnHJa37ywv913ybyvHUBoXdDV4//33bbceIgoU2KaXrpPsgPPthcvILUUOJA9cDA0KYRn86OYTTChyIoebnEaU+8svv9xGEwIdPqRfNcYMOfBz5861aVLcg6HIiwxXVs7aboyLHWpcKKmSU4yLXM23biEtKrljcKZg7P32229tG2SeOQ888IDcdttttt2x9ZCTBsUUIXRYPt+IL5jO4HcjbP88IxHsSR87dqztTEQrVFq20nCCrkn2mUZAnnazPN44T74C5pT1UORNa1pmv29oxBfM4M18I48ZUb+Y4gM1LnwYF/GJLnn5x0Py8rcH5MnrSsvTV/tPGfjqj6Ny05u7pPcFxeXDO8pLscLJRkuojAuUXFqC0q+fnsrt27e33vTChdNuw4FxkTdvHrPfySlkmBlOPUqSWZjeXUUXGPpQM/AxGDLJ1i233BI0A4PUL843HjMm3WEGYNK00oXjYpBmtlMGYkL3XEKmBuCU4RzI4MMN42rcuHG2pR7zB1B0m5P69weCuNgE2bhoryyfsVV2rjskHa8/U6o3LiulKuWc1qOeUJC+e/1h2bx0r/zy0RJp36eBzZuvXLd0ara5kg6Mlfu3HjX3yR4Z/+4CaXFxLWnRvZZUrldK8hUIvxqmXJsWRToN6TE0HPvISBZPPdeTiDmdcBiH+/TpYx0ugQSHGtsNVctots3zjzl1KPj3J+g2n332mX22DRkyJM35aLIMz7+HjaCmXGkksJdLyQahSouKetbg/j+iIDWFWWQJI6LYeua9xxxPkq//PCqrdyfKIz1LSa0K/nOFoIB//ddxyWcG4m7Nikipov+OyOwPef90EWASmEBDfcWIESPsVPc8+K699lo72JKyRATDl9Cp5fDJKFm8JUmmrUy0MmVxgsxee0qW73DJ9kPmAPMWkIqlCkt04YI+vwNBkWdbTC5DL2raTtLTHsMm0A8W4Jgx5OgxTRg53ZAhRgUpAHh1CAnTWYO/CF4zovr/GMGLhvFBkWHqc5FZOA81a9a0ERSMPLom0X0oV+ZlZ5C444m2E1CRkoWkYu2StiC6WJnCUrxszuw5SfHxzjWH5Nihk1KreQXJlz/KKsBlqxW3BrqSeXBc7NtyRA7sOCa1z65gJ5uDMlWK2vMbbjCeEQ1GyctVv22KqmkJy4zP7VmQeVCyUYLffvtta1hcffXVAW9yQcMOIvW09qQLTyhgH2hwwF9/Kn18Hy1XV69eLY8++mhK21JXkkvmjl0vCyZtlMT4JCl3RnE5vPu4TPlwscTsibWvM2WY8zykkJ9O0RTYh9/PTnFDmjc1noGepNYbtTd9cDLBJQeOnpKCxqaoWsa/tQAVSuSTktF55agxYI7FhbbNJgMQxgyGzGWXXZauh4Oi9HcmHpIrX9sp172+SwYM3ycvfLlf3h17UN4cc0CeGblP7h66R64271/9+k4Z/89xey5Tg4cuCjURCxTtOXPm2K4qwQBPIrnQzEic7oRceOa+N/KokcFGyEelbTSXj77f2CV0w1xk5BMjTxt50sjfRpjsKQ3oIEP3HB4KpKXhdYpkipQsaKMVnsIMxTkVHthndqj6n+Np2K6KGhbZgIhpzWbl/3NOm15YPWzT53Bc4ETIdU4DvNeMb2lkpJECigOLujqis9RS0D3LgcnCyCB47LHH5KKLLrLtQon0ONA9btRjM+XEkcgeFz3hnPG85nwyMZszNxDnmtarPEfwGdOCFSMKuPfKVC5iHTcLf9loWxsXLV1YThyLt+2y8xfKpJ6DMUFCB8ZF6o94JQxg7AlFRoQaFz4wvzWJNYp0gag8UraYf03yEkXySuGCeSXOfP+JuND9Khng8d6jzKJgp5WORJrY+PnHpevzO+ThEftl5eZ4qVQuv9zStYS8fls5+WJARfnk/gryzA1lpWvrovbhP33xCbnurd1y1/C9snFPQprjD/MEUOtA330Ky4MBRU4YN84cBT7BeGDwfMHIW0aYDoDW1BSxfWCE2UoxJphUCCHvmEk2+UoMi0eMfGGEHuJpQAQH7wKTr/GAUBQl94CyTGoCXvpcRYwR7IRUHKJExjEYxo8fb6PEL7zwgi3eJgUKcKhgWJAai7J81llnyW+//ZaSkrtwyib5+Z1/ZP383Wbd0J07shyoDXEmdASen96dBfmfZ1igHER87+uvv26jOwMHDrT1FaRWff89ni+x53HKlCn2fBMNoVFIShMBY9difDfuUM1GLrau2G8dH0SIa7eoIHk9OldmCFandgO7Ro2LsIaxh6yYYKPGhQ+IrBcunFcSTrnk8HH/RheOnjBGhflxFyiUJ92J+AIJSiyDPw88ogepERuXJB/9GmONhLXb4uWqdkXlk3sryMQnq8gQY1jce3FJ6dO+mPQ9v7g8dkUpGXVfBfn58cry2q1lpUn1AvLtH0el77u7ZeaKE5JozqcvUPIrVqxoDLpY2z0kGFBQzrETMfEJl53f44NGSHlqY2SQEQyNy41QYOh0JcHpQ7kG6QG3GHnZyH1GmEdtlBEMER7EqUCxHZ4lHlg8cBVFyT0QnUxrjM2xoFdTdO0j4M34ivd8z549tqaPtGMnLQxlHRj3hw8fbo0vR0aNGpUyAeWZ51W1DR2KlApuf35vSNnF+fXEE0+kRF1IqSKdmqYcwLOEroM05Zg2bZpd5m+I7FP8/t5779kmKHQAQpx9YrI0lEjP89mrF+2z2D+RdcZIq35WOalUu6RsX3VQjh86Kfu3HZES5bKQcormiFGJvaWPrLCGsYe0qGCjxoUPCuXPI6WK5pWTiS7ZdsC/nuS9MafkSGySFC0SJUUKhvb0Y2AwKDJA+eJUkkuGTj4sz31zQAqac/Jav3Iy9LbycmXrolKpVJTPetSC+fJIo2oF5H9dS8rwuyrIrV1KyKKNcfK/YXtk2rJYO8j5gla07E/YeO43GPnQyEojtEKkcLGjkfTGYU4K5Tu9jTxhhG4bPxshshHeEwkrihIAKNrFK5/r0qJIF2W49tEHA4/6pEmT5M4777R5/3jUmWGYtqgZ7YpXqEh+a4BkF9KDMHSuuuoqK3j+UdJHjx6dsgyhSxXGkDc8m7h2nrUg/I947p+znq9W5tR29u/fP2VbnAdqTaiP8NyHwYMH2zbl3uB0IkJBiguGBTV6RIGITFxxxRXutVIn/kSCncm+asMyUqdVRdmx5oCVkuWjJbp4FiYn4VbGuYaBqZGLsIaxh1rOYKPGhQ/o4FSrYgE5dcIlf6/1bw3Asq3xcvBQolQrm0/KFQ/fKijGi1EzjsqTXx2QIuZ8vH97Oel3QXEpX8IYFRl4RlK4jpHx+k1l5X/dS8jqXfHypDFSVm7PAbmzPDQ/M7LUyGVGiF5gMGTm18KlbWqEdn04LWnX+JMRHYgVJaLYsmWL7UqY69KiCPoyJnoN6Rwnyi9KPek79erVs+lPpEW98sor6XYi9DcYd3Si+uKLL6wQHUGRRyl3liFEBHzlplPbgNFB0bljODRr1sxGCWhfDhgVN954o+zcudNnkTiNSt59992UbY0cOVLatGljW7B77gPny9dM7kQnFixYYLsLYqzdddddNqWXrlAZ8UrHHomXpFNJtjFGpdqlJCHulPz10zqpULOk5HHaPGYWzeDNETD2EGkLNmpc+KBAvjzSolZBiS6UV6Ytj/VbalRcgkv+XHlC8phnzLn1C9n6i3Bl2ZY4eX3sIYnOl1ee7lVGujQrIllxIhEFevmGsnJzpxKybGO8DP8txtZwhDXzjdAViiYeA4xk1QZkzK5v5FYjOIcmGSEioihKxOB0x8t1YCMwNnplsmJcYFiQjkGdAvUKP/zwgzRq1ChTaa942tf8vVNOHo2X5TO32g5hWTHQUPyJzkdHR6cIRgLiuQyjx1d0iWW85xmRIGJBOqt3NIP1fEVbWMZ7nttjfe4Nz2Xsp699IKJP4TbGBH+pTcHAyEgaLe2w183bZQ0KWn0XKVXQtsNe+9cuqdemknutTMJmna6IqkWGNYw93FvBRm+LVDjbGBc1q+SXRetPyowVJ/zicF5qFPYZS2OlVIko6Xhm+E4jSp3F93OOyebd8dKrQzHp065oyhwWWSF/VB555prScnbtgjJm9jFZuDE4HaGyBAMmUQa8ctca8YeTjQmLehhhYiLqN/5tlqIoSi6nUqVKtr24L6UxR0OTPerNvLJ4UKTx9mMI0KCDv3Tne/HFFzPVsCNmX6xt4dy2V305uv+E7N0cI64Ize/HCGnatKmNoGBoMEcS0Q/qMNIzuDAuChTOJ+VrlLDGBfdhg7ZVpNv/mkmpilmcP4hNkuaLGpPLbuvcBmMP0cNgo8ZFKlQrk1/6dS4uh48lycjpMbLrYPZigMdOJs+dsXZXvFx/QXFpUiOdSRBCyK5Dp2TK/ONSqXR+efKqUlLUPdFfdjijXH652ZzP48dPyUe/HrET74Ul9O6mzqKJkUYs8ANc6uuN0LKWqIjWXihKxECqzJ9//pklr3tYg2KJ4/7fJkopoND07NlTunfvbieoHTp0qO1eVLduXfca6XNGo7LS5dYmVi400qhjtcx3NcolEDW5/fbbbeef1q1b23Qs0qcoKk/PaC1QKJ8061JDLux3lhQvm+zULFmxiHS4rqHkL5jFsDxGHunDFPOrcRHWMPYw7UCwUeMiFYhs3mqU4dYNCslvC2Plyz+O2u5RWQFF+tclsfLFtKNSvXx+eeqq0tabH66s2hEv6/YmSNezo6WG2V9/EGXOZ5t6haR6xfzy+7JYY8CEYcIml/cvI0Qv6Pzkz8nCmYSVFKl1RoLTbVdRlDAAT7Nny9JcA4ol6Z6n10DbCbsoomYepfnz58uHH35oawx8pQyFAicNKVRgEGAckFqVUTAkpk+fbms9pk6daicdDMjs2xmBhl+HjfCMVC0yrGHsCcX8WXpbpEHhAnnljZvLSZ3K+eWNnw7Jh7/EyMGjyW30MgqtZ3+Ye0wGjNgnRQrlkRevLyvlSmQ1iT84zFp5whpE5zf2b+EdExI2PKOg7NiXKPPXxbmXhhFka5G6RIs9Jkj352XCliQSwm/83zmiFEXJ5dCphfkecl1aFFMo1DHCtBVhnOnqDQbOww8/bGewDhXsA0XuN9xwg3tJDoPn2CYjPNPCW52JeBh7mjQhFSO4qHGRDi1rF5Qnrylji6+f+nK/PGqE1qqn0sn9JAK+YXeCvPTDIXng471y9KRLHry8lFzSIrhTsGeFTXsSpHR0Xqld0b+pW8UL55W6lfJLlLHPNu0Nw8ID7J2DRjjsQDiEaOpBwOaAfaUoSgRAcTPdWnJdWhS0M0J6DIqmEjkwoSw6EB1ONS0qrGHsYc6TYKPGRTrki8ojV7QuYudsKFUin3z2yxHp9cYueXHMQVm1Pf60zkeJKM5GOX9/8mG52qz35o8H5USCS4b2Ly93dSsh0QXD/5e451CiFC2QxxoD/oRzWaZYXsmT5JLdh8MwLYpdYsZRPDH+7pbIZad2jgGZbSiKEhFQfMvMzbmStkYY09baV0qksMAIcx0mz3eohDGMPQcP4jUNLmpcZACU4gsaF5bJT1aWm7uWkJNxSfLS9wel3RPb5KLndtgZqB/4ZK/0e2+3XDJ4h13+0Ij9snNvolx6blEZ+3hl23GJFrc5gXijZOfNm0cCEcWPcredSghxO1qfKQqUl1B07RgZ/oTDZZZuDBe2oShKRFCjRg3p0aNH7kuLApwwFxpZZIQIhpL7oSHJr0aoS6QVrRLWMPacfTZ99YOLGheZoGHVAvJuv7Iy4r6KMqBnKWlZq6DsPZgo0xbHyshpR2TKgljZsjtB6lXML3ddXEI+vLu8DL+zvHQ4099u8MBSoWQ+iY1PkhNG/AmpZIdjk8Rl7rryZhv+grQDZoSl3eGBA6nnHB0+fNgWGC5ZskRiYmJOLy6ktq6MESc9yt/sNoJxQa6yoigRAWMNMzTnyrQooGU301fQaS+XHqLiwQQjqDQX21dKmMPYs3s3ykdwUeMikxQpmFe6NI2Wp64pLZ8ZI2PMY5VlzBOV5YfHq8iYx83/j1eSUQ9WlMHXlZErWheVMsUCV+20b98+O2snQug9NXbs2CFz586VZcuWZWgSo0plouTQiSTZcSBzxevpgbGydV+CJJm7rnIp/xgXPLDpnvHjjz9aYwHvIN1Ztm7dapcvWrTITuQEvMc648ePt8aI56RIFmot6JRIcSJhfn+WhXAqefhSclOTBYqiRAKMP6FoBRk0qCVjLp8/jYRhtqviR3YY+c1IfyPpTwyuhAGMPbTDDjZqXGSRwgXySJXS+eTMagWkTd1C0umswtK2fiFpfEZBOaNsfilaKPCnlv7FX3/99X/aHKJs03aMm8lz9s7Y2FgZPXq0rFtHL9S0aWOO43icS+as8W/7RObPWLo5XooUiZJWdelhmDWYoZTjOHUq2fjBmKCl35lnnmlnoxw3bpy88847Ns8Qo+rll1+20Q3ea9CggZ0plc+cBlkLbYxgACw14s/oxUYja4zQjjaQoWQuGZf4HyPbWJAKGFBLjNDpZR8LFEUJBLk6LQrwn3UwwmR6I4z41yelhAv46D4zwjMy+Fk2ShbRtCglXTAWdu3alaIY43mvWrWqtGjRQooWLWqVbjoDvPnmm1a5doyOKlWq2ImMmCk2Kir9SErzmgWlZtl8MnnBcTl4zD9PClrbLt0cJ1t2xds0sdoVMjZ/BqlM27Zts0VJjjBLKUbDqFGjbMoBD23HkCIywQ/pgQcekAsvvFAuvfRSu86qVavs+5BmegLKP79DJtKjaM0fYX7qNz4xQiSEgdmfWXLsH5fI2U8MmJeNYFhgQHALbDCCsUReNO/TRpDPoAyMNPK1EUVRAgKOnVCkJQQVHCYPG2GMG8cCJddBxOJMIzm0e26kwtiDHhVs1LgIQ5zUnri4uNPkr7/+knnz5klCQnLODkq1o1iTJkXNQYECBey63nhGMtKC2cnbNyosK7fEy8e/+Wc2beb7+OaPI3LS2EXMfJ7R4vYtW7bIH3/8IbNmzUoR0sB4YP/+++/2fU+PIP/XrFnT9pYHzgeTJTmv04VsLXKI+YvSnd1oInbgZCN/GMFwOdeI/8pNkr9/sZGt9lWykcHcUKQp0IOeVCyOg6w52ge+ZwSjiegMnV6qGfGHAaUoik/27t0r//zzT+6tuXCgUcUdRlBAldwHTrdLjGQ96UAJAYw9GzeSOhFc1LgIU5iJ8/3335dhw4alCLOcrl27Vr777jsbwfCOQhDFYBbPypUrZ9iQ8EWJ6LzS57xiUqpYXnnj58Myc0X206NGTD0iExbGSudmhaVr04zPjNqwYUPp2bOnjUA40qlTJ5vadOONN9o0p9Qe2qRFTZkyxa6fYeMCGhvpZoTf40tGkks2Mg+7hSL/pRF+aVcbqWwkq1CrTgRiuYeQyr3eyPtGmADQ8xeNzdXQyN1GiJi0MIIxQiQDuEWQXJqtoSjhAOMyY1CuTYvyhIB0g+R/lVwGzio1LHIcjD2NG6PUBBc1LsIQlOWWLVtKr1695JprrkkRXqMk816pUqVOMyDy5ct3epFyFuAZ2K5+YeltDIwjRxLl2W8P2JSmrDje4hJcMnrOMRn07X6pUjJK+l9UUqILZvy2IwpTpEgRK0QgqK3g7/nnny9du3a17/syLpwaEwwt0qMyBWlLRC9aG/nbyGAj1DFkJkOMlKQ5Rt40st/InUa6GsnOLw7jgZQDunU4MskI+0a6E/vqrb8QoWB+DeoqZhmhGxZRDUVRggLjU3acPYqiKFmFsScU448aF2EKxgMeL09BUa5Vq5ZcdtllUqxYsVQ99v6gUIE88tiVpeXa84vJP+tOysMj98vMlSckMRM5UtRrfDo1Rh4asU/y580jA64oZestMuvAI8Vr06ZNNh1q9uzZNi2sYMGCqXoCqT359ttvbXTj8ssvt6lRGzY47voMUsnI/4xQqDjPCAYGyjzdMtLqIkWQh1Skj408b4S6hpuMYKxkF8LSTxp5xEMeMMIsubcYucyIrzEE42amkb+MMPO4ep8UJWjQrW/GjBkBHa8VRVF8wdhDC/5go8ZFmMMDiVaGFDHTRpbCbLoepYWjdGekeDstyhWPkpduKCs3XlBc5q4+IbcO3SMv/XBQ1u9OMJaweyUfEK2Ys+akPPjZPnnm6wNyyhgkL95YVvp2LG67bGUGjh+DYuTIkdbIIILBjwXjwekW5QkWOuv/+uuvtj3vDz/8IEOGDPlPQXeGqWfkCSO9jFB7QRTiWSMfGJlqhN8rxgYRBeoexhp5wwjrkApVzMg9Rq43kv2AUjL8Yj2F721ihDQu5unwpb8wi+qlRjCW9hphPxVFCQoVKlSw43ZEpEUpihJWMPbUqUNOW3BR4yKMYfIT6ixQrD/66CN58MEHZc4ccm18g2KNEYKXn3oDip1pS5sdmI/i1b5l5e4epWTnoUR57suD0u2FHfKAMRwmLzouG4yhcexkkhw4ekqWbYmTz6YdkWvf3i1dzTpf/HZEShWLkpH3VZQ7LyohRQtn7XYrV66cjUC0adNGmjdvLq1bt5Y1a9bIkSOEBf4L54Coz5VXXmmNMNLEmjVrJk2bNnWvkUno5U3NAkYDSjytWz818qgRen1jOPQ1cpeR54z8YITGDH2MYIT0MJLxEpOMwfdTJM5+fG6EWozUohGsS7cqUr0oOyEiE/yW14oSsRBBLV++vPuVoihK8GDsKV6cbgvBRY0LP0Al/uuvv24nbfMXKMl46Enx6devnwwcOFCqV69uJ4tjzgZf0HqWWapr165tlXHmgiAkn91wPAXez/cpLROfrCK9zy8mrgSXfP5rjFzzxm5p+8Q2aXTfFmn24Ba5YNAOuWf4XvljSaxULxUlj/UuI5PMZ5h0MKvg7TvrrLNsQRIRHNqq0UmL+hLPPELHK8jyVq1a2fqUG264wcp11133n4LuTHsQ+ZVgm2BgYDCQikSkgGV0W6pl5BwjVxkZZISUqPuNBGImbtrJ0vKRVrNMxkf05AUjTrcoT7jszHdBa1qywrg96YiZyRIUJTzgd3/BBRfYltJMBKlpNjmDzZs3y4QJE/R6KYoSdBh7/KmbZhQ1LvwA0YSnn35axowZ416SfZivAe97//79rdWJ96tJkybW2PBsM4ui7CjLpAx17tzZKtYIk6fQltV5P9NKtQf5o/LYiQKH9S8vXwyoJK/dWk5u6FBMOjQsLA0q5Zcm1QtK12bRcm+PkjLsrvLy7cDKMqhXaalbOb/ZrvtLsgjRGJQpOj/Nnz/fPqy9H9SkjK1YscJGbFKDXs+kRxHxyNK5IO2ouRFqKB4zQqTiFSN0lHrGCEr/FUZqGAnUL4t+8qRpERnpZIRaCyITvtpYc4g0ibjACMYH9SD0KKcdrpLjoEkBv3/SAT0nzlTCm9KlS9sJPhVFUYINYw81u8FGjQs/0K1bNztT9p130hLIf/BQQiEeO3asfPPNN7J06dL/dIPCg08PddrTpqVs4PFEqeavrzqFzFCySF47E/ntF5aQ1/uWlY/+Z4yNhyrJyPsryvu3lzcGRRm5pm0xaXxGASmYP5tWhYHoxE8//WRTvDCc6PxEFMPTYGLSPIrcUbyc+T98wflCQeN68R3OZISZhl8NHZhImapihFQjlH6Mj0BDAKaLEQ6fWg+6QDFvhqet5XnaKxphfQrT6RJFapdzC7GejgA5hmrVqtkaIuZ6ydUzPucycA7RiEOvl6IowYaxJxRpmapa+IGyZcvaKEOm5lJIB4yAcePGyRtvvGENCmbhxgL1VIgp1OnSpYs1QNKqrcBTj0cf5ZxIhj+IMndOscJ5pXTRKClfIkrKFo+yhgcF2/58hnIeMJ4oiuQhTdSGzgccr/Owrlixoq3H4HywXmpwnTiP5557rv2xZdfQCgmxRr4xQicq6i2mGfG+9Kyz2Qi1GMBporbfs76fzxDNYB3tkpkj4H7HwKhXr55tx6zkDDQtSlGUUKFpUTkYFPepU6fKzp3+q5Tdtm2bNS7at28vl1xyiVUq2A4KhqNUV6lSxRoMzPmQVgcpLFfmhOC7KHbOSdDxihoKZpn88ssvZeLEiVK0aFFbW7FkyZIsF6znSMMCIwDDgrktSIuiqJwULc9ibuxb3sNocIwLXxDg2W6EuTwuYoGiKIGA8cqfjidFUZSMwthTpgwTXAUXNS78wOTJk+XWW2+1s2j7C6IV1FCgQP/+++/yyy+/2NaqeO5jYmIixgtG7QkpIBS1Y2RQ0EoK1B133JFmlCJXgnGBA6KAEdKdqLOYYoRIhQNjCGlQTNhHK93UYHI9UqUuMdKIBUq4g0FMJPN///tfSPqWK1mDiCn1cpoWpShKsGHsoRlQsFHjwg80bNjQdjRq27ate0n2YcI8irlJf/j7779t5KJnz572JkGxiKSCTiYMpEaC2goKk0qWLGnPN2lizNAdMVBbcaURUp4o73naCEYCy7834mlkKLkOxoFXXnlFRo0aZedx8eyWpoQv1IvRjELTohRFCTaMPYsXMxFXcMn9xsXJgyJHt4icyt58D2mB0ks3o4svvti9JPvg5UKBfvLJJ61QK0B606BBg+Sqq67SnOtIhQ5RHxlhcj86VF1nhPoLIhBKroaaIiJ2NCQgFZKonhL+4ADBQaIoihJsGHvoNhpscv/TadcskUl9RZa8K3JojYjL/7n2pCvQLjXL3YcUJaPwi61rhHayzLFB4OYsIwTN1N7M1VBn9OKLL9qOUUwMqeQMmJekXbt2mhalKErQYeypX7+++1XwCH/jAmPgVFzWJeGYyJ6/ReY8JzL5OpFFb4uc2CeSxxx6Hs/2OVmHYm6iFiNGjHAviTwI+UdimgaGJfOcUHyvaQ+Koniza9cu2z5YxwdFUYINY8/q1avdr4JH+BsXyz8SGVkz6zLzHnOUpEQdF9m/0LweKPJ9G3GtHC4SRzud7HuTmD+CvNqtW31Nk5z7YQK7q6++2hZa79vHxAuRAx283nzzTendu7ds3077JUUJHDR1oPW0RklzDsy9wxw8iqIowcZ74uVgEf7GRdwRkZhdIkeyKCcOmS9xe4w4WoIVhzZL1KKhUu7YX5Inb/aNC2ogpk2bJo89xrTN4QNF38FoucrDE2WHyEUobuJQwtwb1157rbz00kshmahGiRx2795t6y0aNGhga7zUE54zoBUkrcA1LUpRlGDD2NO0aVP3q+AR/sZF1fNFzntJpH0WpQEVr/mS23iiZxevLdJygCR1+UQOlLhAXEnZf0AXLFjQtvuin3m4gOIxffp0+e2336ynM5Awd8a7774r7733nu1yFUlw7YnaPPTQQ/Z/RQkUGO/8rh1RcgZEtunWotdMUZRgw9jDRJ7BJvyNiwrniJw9MOtSq6dIXJRIgZLm9QCRK3+T/7d3JnA2lm0Dv5jVDDMYM/attEhaJMlbCZWiUtoVpXjzUkq7ElEqpbeQJdqkL0mp0MKrDWVPIUVS9m32Ycx+vvt/mzNNY87MmZkz55yZuf6/32XmnDnO8pznue9rv6TjMyLR7SUnINS8QOVd8EnVeuONN6xXfenSpeUWVcAj16JFCznxxBP9qoMNk71J2SpvOK5+E7HhbWwxkmZvKZUIDHeGSP7yyy929ot6wisGpLJpyqSiKL6AtYf0bW/j/8YFhdfVA0svwREiZ91ujIqvRS58USSipUiA/89GYFAeqQ/vv/++zJkzp1Ty559/2gnX/Jw8ebKMGzdOVqxYIQkJCR5NlyItatasWbagPS3Nf7Ta+fPnW8Nq2bJlNnpTHiliycnJ8uCDD9qODBxXn8Ph/z8jQ4wwYI+yovLPjFO8BDNeGMpWpea7VHBwvKgxWImh/MmoGDLfiKtZQ5lGjAoizxqZzR2K4h1YexiX4G2qOSp7rDbrqDEmgswnNYZGPjIyMmTGjBl2uvbIkSNtD3lfwtfw+uuvy4cffigPPfSQnHzyyTJmzBjb4rY0mxL/hzQdJn0Dz48RwH3nnXeerRP5+OOPbaer5557zuZxlxbC/t26dbPHlIEtJZ0GidKPMcRnHzFihL0QMFJ27dpln7O0m/LcuXPthHMmnbdq1coOOST3MDo6Wl599VXb5empp54qU5s2vJI81/r162X69OkSGRmZ+xf34TmYusx3ft+990nEbmMQ04OgNB+b2YoM1FtlhNbWTN/uYoTTu7ERRVG8Co4iGl0Q2VUDoxKCcfGokaeN0A4cQ2KTkT+MsI6T7t7aCK7cT41ggNxiRFG8wLZt22zKfoMGDXLv8Q6V37hwgb8bF9RwvPvuu9bjXpoNiec7ePCg9awDhgXFx+eee6506dLF9l5n0i+F6GU1LijmXrlypf2JAl9Sr2phxgU5glOnTrWbcmk3ZL5jnptjgfC+mPDN51+3bp1s3LjRfvdlMS54Xo4xxxePcmnIMy5aG+NioDEuHjDGxUHzh3/aw+7B1cyGRrSC36k14utgJsalRrobiTKiKIpXYC3btGmT9OzZU42LykhB44Jo8SwjGBWsv58bIZJ8ghE1LhQvs3DhQptS6+3ohRoXZTQuOHocQOdRtFuH+aekTaj4GvIbF5deiiZYeni+adOmyeLFi61SjVHRu3dvadmypd3g6CTF63nCuCgrhRkXf/zxhzz//PO2Q05pN+TQ0FA7eAw4Hs7IDVGWPXv22N7PZTUuwDnfo7T1JnnGxWnGuLjLGBf9jHGx3/yhNMYFh4pSIuf/5bzE2KBL2iVGBhjRCIaiKIpnKGhc5Ic01SeM3GekmRE1LpQqghoXpTAuaDCVcDhbdsdlyZa9GfLH/kw5lJwtR9NypE6tQImODJAzmgVL8+ggaVQ3QMJCilc6y8O4mDlzpi3k6dq1q42E5Fd+PWlcYBxQZIqS3aZNm7xULHcpzLigEHvz5s1lquFYtGiR/P7779bAoKMVU407d+4sJ510kkyZMkW+//77MqdF8f4++OADG3ocPnx4qcbs5xkXpxjjYogxLn4yxgXpTaWxVThci4xsNIJBQTDlXCM9jJxupHT2j6IopSQ1NdWuZ/Xr18+9R6lUFGZcYEDQWGOBEdbda43g+FHjQvEypNbjaC1NynZZUFWjhKQczZF5K1Nk8IyDcuv4fTJoykEZ+1G8vP6/ZJm97LBM+iJRRrwXa//W75X9MvqDeFn3h/eLnPH20xN/4MCBVqkuzy5OFDIPGTJEBg0aJHv37s29t2zUqlXL1oZgDJRW6tatK1FRUXLFFVfIfffdJ/369bOGBMcCg8YTYFxQME59R5kHZREAwSCgRgJj4PJSSFcj0UYwKnobGWlkqJEzjOjVriheh/TUNWvWWIePUkVge6EDfCsj243sMaIoPoC1h0wQb6PqRgnYl5AtA6cekLsnH5R5PxhFMrC63Nq5lkwZGCPzhzeUJWMay5wHGshzt9WTC06vIX/FZckrnybKtS/sk2eNAXI47Vj6jLeggAclvbzhNVDgGdaCMu8v0MHp0UcflZtvvtkaFVjvnoY6FgrviYBhzJSJ0mV//ROME4JerxgZZIS834KhekVRvAZ1XkSPtd6iikD3czpDsfbi4MHnVL6jphTFJaw9ZJR4GzUu3CDL2ASrfk+THk/vkXnLD0uT6CCZNCBavjHGxCRjWPS7OEIuPj1M2p8YKj3ahcvQHrVl7sON5IsRjeTOyyIkLc0hY+fEy5Oz42R/IjHUygV1DI8//riMHj3arwYJnn/++bbGpDzbdhIFoTiedpPlGR1ym3AjFxppYURn+imKzyFioVGLKgT1bjTkeMDIQCPnGKFblKL4AF+tPWpcFAP1FSu3HJV7ph+UX3amy23dImTW/fXl35dFSnQEbuLCwUl1ZosQ+e8d0TJjSIy0PSFYXl+cJM9+GC8pXo5gKIqiKL6B5hHffPONGhgVGOoJV69eLZMmTcoTZjvRht1C+1nmlJEORdkdRsXbRugadaURNC3GIJUxc1ZRSgprDzWx3kaNi2KgaPuZufGyeWeG3HtlHXn+tnpyRvMQcddJXSO4mvTqUFNeHRgj55wYKm9/lSzPz0uQjCzdaBRFUSo7MTExtlufpkVVXKjRo7aORjDNmjWTzz//3Oay2+Yl6ALdjBQ1sBR/4gEjjYyQLqUoXoK1hxk73kaNi2J466skWbw+VXp1rCnj+kZJTKTraEVRkDL11C1RUjciUF4wxsXSzbQDUhRFUSozYWFh2imqgoMRMWzYMLn//vvl008/tXWGL7744rEOPGhRVxuhaYarDFzUBpoSdjZyGncoindg7fF2pyhQ46IINu5Il2mLkqRt82B5qFcdCQwom+fpglNDZVD3CFvEMX1xksSmeKZjkaIoiuKfMESPQVaaFlWxYaAtzTuorWPALbWGQFRj6bKlsvz75bbtMClUW7dulSVLltg5TXmgPmjwSvEyrD0//vhj7i3vocaFC7JzHDLz2xRJSMy2UYvWTcpeFIxxcvvFEXJayxBZ/etR+fnPdDvjTFEURamcMGOndWut6PV3srKy7NynUaNGySOPPGIH0DpblmM0vPrqq1K7dm155ZVXrLLGDCXgMcyMuv322+39GBc//PCD7VSYV5OhKD6CtadxY+9PzlXjwgUHk7Ll602pUqtmdenaNszWTniChnUD5aYLIuRASo78aIyLrOyKbV4kp+bI/oRs2RWbZSMxaRlVwFxi4vVvRhiQRNHeJCNvGmFA0iYj3h9roiiKn0JKAjnPWnPhv2AgDB482BoQXbp0sQbhE088Idu3M6RC5KWXXpLx48fbv3fq1EnuueceSU5Otn8jZeqqq66S9u3byxtvvGGHtjKo9dZbb5XTTtMcKMW3sPb4Ii1TjQsX/Lo7Q3YdyJRWTYKlTVPPtjLteY4xVmpUk7Xb0iQ1vWIp4+mZDjuR/PWvkuXG8fuky8jdcu6jO+XMB3ZKp+G75LIxu2XYW4dk0fpUSTicI1m026oMUJB32MgnRoYZ+Y+RZ4y8auQtI5ONjDVyjxGG1s0xQm9zzXxTlCqNR9Ki6GBOR6Li1hMe487jlDyINDz33HP2O3ryySfl4osvlgsvvNAOP2S6MXA/xgTDyDZs2CBr166Vc86hx+yx///rr7/KNddcI999953s27fPpkVhVKpBqfgaTYvyM4hcZBjF/+SGQVI73LOHqUVMoDSqHSgHE7Iks4J0jcowRsWP29Nl1PtxcsXTe+TeGQflu59TJTPDIc3qBMgZTc1xCq0uB2Kz5M3FSXLdi/uk13N75O2vk23HrQoNkQiGIj1s5AUj24xQnHeTkSFGHjFyr5E+Rk43ssvIy0YeNPKFkVQjiqJUSZj907Rp09xbpYR15AcjRU16ZpndbGSFkXVGtOO5W2AIvPfee3L33XfbYWObN2+2NRUMYXVn+FhSUpIcPXrUGiRnnnmmvP3225Keni6nnnqqGheKz2Ht8cVwYzUuXJBwJEeyjOJcLyJAgspYyF2Q8JDqEmkU8YQU8xoVIC2K6Mq7S1Ok/4T9MmFBooQFV5NhV9aWdx5oKLMeaCAzhzWUmfc3kHeGNZBZDzaUiXfHyA2dasrWvZnyyFuxMmT6QdmwIz332SoYpEARhcBYoFU0069HGhllhOjF7UZuNtLPCBOxnzQyxkgvI38amWiEXufa31xRqiT16tWzSmeZFM3vjbBV1LO3CoeORM2P/So/G1HjoliIJuHVJdpAATYGxsSJE+WEE06QZ555xqZHFQfRjBo1ati89gEDBtjUKNKpqM9QFF/D2tO8uXNh8B5qXLjAZvMYCazuec8DmwxPm2MWf383LTB+pi1OlEdmHpJNezJk0OW15dPhjWT0LVHS/ewwOyiwVYMgaR4dJKc2DpYOJ4VK384R8tqgGJn7SEM544RQ+XzNEblh/L6K2X73dSNTjHClPG5khJFORhoaYViS8wriZ6gRUhvbG3nIyGgjEUZ4jleM+L8d6R9wnPC8vmfkY+4ogsVGeNwyI/6cCkI0i/f5gZF8DWSOY6OR2Ub43McyMpTi2GCEYzvP3nLNEiM87lsjOA28xM6dO+XLL78sW1oU21BNI2FGeJovjfQ3woA2HBxbjfAY9Fkep7gF38mff/4pTZo0kQ8//FAmTJgg//3vf+XBBx+0BoY7fPTRR/ax7OuXXnqp9RTv3r1bGjZkk1AU38La8/PPeBu8ixoXLqgbXl0Cg6vJoeRs2znKkxxNz5GktBypG2Few8NREU+SaQyLuSsOy7MfxEutGgHyxpD68vKd9aR5TFCR0RwMp+DAanJh6xoyc2iM9O0WITv3Zcpjs2JlPR2yKoKSTd4yBdvvGmlmZLgRohZBRor7yvg7j7vACMbIqUbmG0Fp9KJSU6EhRRQv7bX2lmsuM9LWCFElfzYuiGKtNnKjkQbc4QI+yy1GePw+7lCKhX2Tsrje9pZrLjHSwQipQ15sukDBL3MRPAbrJ36aJ4zQROI8I3ONaHS0xGAQUPAaHBxsv6eIiAjbGYroxapVq3If5ZqVK1fK0qVL7c/4+Hj7PHfddZecffbZnv3OFaWUcB6GhuL59C5qXLggOjJAgkKqyfYDmZJ4xLPx5b8OZcmBpGyJrh0oQUYJ91e+2XhUHnrjkITXqC5P31pXbruo5IslEQ2mmt/ZPVI2GMNi3MfxciSjAsTrqav4PyOBRu40wgZe0vmJfLVMY73bCIcOrzWe6YpgXPkT5JLThet9I3TnwlCjWL4ig+Gw0Aif5x0jfxnxMWlpabJ+/Xr59ttvbdGqK8gnR/HicXh9/QquLTq5ca1xbD8ywuRkH4IHm/x9j+Xfs2tjdLcywmdjbWF9IpKqlAi+kwsuuEBOOeUUefzxx2X06NEyefJk2/HJWbBdFB07drRtZ+kiVbduXXvfbbfdJg8//PCx6d2K4mNYezi/vY0aFy44uVGwNKoXKFt3Z8iWvZ51Ny/ZmCopqTly1gkhtn7BH6GgfcJnCXLI/Bx4WaRc37FWqaMsTDUfcX1d6dI2TD5bc0Q+WeXnLjbKQyjg3mEEb2g3I6UbzH7MwOhohJoM0lz+Z0Rb1ZYMvLQrjcQYIeWM31HMK3IU6CsjGEjtjCQZGW/Exy3xDx06JJMmTbJKUqNGjXLvPR4UL3J4161bJ/PmFZeL5GWIOFL4zEBadMOfjGBg+PCaI5//+++/L1taVEFYQmcYedQI3VLPMqK7eakgJYpUqDvuuEMuv/xy20L2P//5jz3PFaWiw9qzZcuW3FveQ5cjFzSuGyD/OrWGJCZmy/e/pXms8PpIeo7MXpYidUOryTknhNr0IX+DT/rNplRZuTlNWrcMlkHGuAgtoxHUsE6g3NOjttQKqS7PfBgnh5L9uIMUSh952aTM9jVS1k7E7FE3GDnJCLUBB40o7oNndoCRrkaYRYbSiLFXWoOvnEGJLFaRvC1X6C6G8YqyGG7EizA0LDMTbfwY3E5ISLA90SlC5jNkZGTYFpzOjjjcFxAQIA0aNLDKl7PXv9/AtUqksbsRRgxQH8XS5UM9kWOckpKSe8tDEKUYaOQNI9R1URfm4ZeoSnA+E4U477zzpFWrVmpYVBK49nbs2CErVtBCzf/47bffZMaMGS7XBzqZzZ492/6dtZYUPCLMJYH/W9L/4wnUuHBBQPVq0ufCWhJWs7p8+H2KbN5ddjcpNQwzv06WdVvS5KyTQ6Vtc8/Oz/AURFW+3nBUUrMc8nCvurZjlidod2KIdDq9hmzdmWlTrvwWcrIxAKiZOBbpLjukPHY2gi5GsbJSMrj8qMMghYjiaJRHPzQuGMaFR3/TJvK4imG3EQq3qcWhy5iX01rozT9z5kwbsSgMuuC8/PLLcu+998rNN99sPbrc5/dgL5HVRb0U9RjXGPGhrtisWTPrEfdYWhS1Rd8ZiTfCU56de18F7/itKMWBofDxxx/LnDlz8uTzzz+33bmYN5If1rVnn33Wpqx5q+YA5wuRAt4XdThO5w3KPWmk3M8UeBw5wHqK8XDkyN/ZHEx+p7kAj6WTGf/vscces86d1atXy/Dhw2XXLjZB92DtoWOUt1HjogjOPyVU+naJkI1/Zcj0xUnHOkiVgfXb02WGeZ7qAdXkzm6R0qiOf3pH4lKy5eftadIsOlCuaEd7Es8QVSvAFnkHikO+3nTUDuTzS1BiuTLYtD0VWOJ5KNZFgeT5tU1kyeBUwcCgGxfrMLWWfzvdvcZnn30mn3zyiUv59NNP5YsvvpBHH33UDtQqEvYXLi9akH9opJzrSOLi4qyhcOedd1oZN26c3XgZIFYYeG8ZKEZrTbxrbG4bN1I05B0SExOtcsB7ZXYAhptbcK5wbkQb4TpbbsSHnbBjY2Ntt5Zio1klgVQoBniOM0I0lOiXdolSKjko66wFI0eOtJ58lHIUcVoIo9Q74W+keGJUsIZQYO8taAjAdHemuDuNAK59hmn++9//toX/ruBxGB48B8KaS/QYobXxfffdJ+3atbPPw5BHd2DtwSjzNmpcFAE1Bvf2qC1ntAyR15cky5gPXJ8UxbEvIVuenB0nG3ZmyIDLIqXHOeHiKUeWp+G97o7PlnNbhUhUTc+5h+ki1e6EEAkND7AT0DFi/JKdRkg18HQnQbof0TadQVg+UIwrLBgVONfp9NPDCGlRBAZ8UHNBofNPP/3kUvg7Bc94n/BQueRXI42NXGGElDkMznJuPcvmxKZH/35kxIgR1ni47DJabh1PixYtbJqIM0UkJibGq4WBdDnh/WGwoVSQjlUsGBO0+qUGgXPlIiPYQz4cZHn48OESeRqLhcPAwM57jJAadZ8RoqxaP6xUcmj5e9JJJ9nUzX79+lnHA/UyRAZw/DgjBQxCZC2muN6bhfVEJ7t06SJnnHGGNQimTCFfUewcFNLuWrduLT179nSZdsf/5zF8tv79+9vBjKzPL7zwgoSEhNjPQhQZw+PNN9/M/V9Fw9qDY8nbqHFRDC1igmRMnyhpWS9QRs+Jk+HvxtmJ0+5GMfDO//xXutw+cZ98uyFVru9UU17uX09Cg/zUsjDEH862tSHNoj1/UTasHWC7T8UfyZHDaX7ovuctcR2GGPF01hrPR+QCG7WCzhT0CaSjMsgQx9TvRlDMMfx8oEwRkn7qqadcypNPPimnnXaaLQil80yhcI5RkE5HI+rsKEDG8PRUCp4LnLUSFGsjeMXY6FwZF07wAs6dO1euv/56O3W4tBB5YKPjdd2B98tgsurVq0vbtoT93IDriuNKzRTnCmlRtP71fifGPDDSrrzyykLTovBUUvBNRKl9+/ZWKXnggQdsKgMpEHmgixDZcka3WEc4X4h64QhhJ+e8ogtZgpFirg2+U5Sv4oT35tGIi6J4mMjISDtbhAghRgbnK6lELVu2zOvgxfnuNDjocEcK1d69e+3t33777R9pSZ6A173xxhttalP+FFnWtKLSIzGOSPGiAJv3yGegmxlRXCcYGEQuiJAXFQVxwtpDtMPbqHFRDHjbO7epIWP71pPTmwXLhAUJMvi1g/LxqsPWyMh2oR9nZDlk484MmfBZotzy0j5Z9kua3HRhLXnGGCohfmxYQPLRHEnNcNg0Jk8TGR4gNcznP5p67DX8Dr5PPOJcGZ6+Ong+DinP788zGfwNOv9Qr4KySJcliqDp4uWHJUtsHN26dZNBgxjX7gLOA6a68/MbI6RHPWWENB4vQqoAQ79Q3l3BRvzKK6/k1Q0U9djiYAMnWsJm7i7Ur4SHh8vpp/OluwFOAeZZECjgXGlpBC+/l+tZ8kMxPLnVhSnpKO8YEyg/ixcvtoWnKCMcd4ySPJixQ/SlqM6/OG2p50JPojVtEV8VQ97efffdYoXWxG6noymKlyFKzDXzyy+/yFlnnSVhYWFWKee8JcrqrLXAqcFgxHPPPddGOEg9op1279697Zrkqu6stLBO9ujRw0YxBg8ebK9zd1i7dq289tprcsMNN9hrlM9FhOKrr1jM/gaHEMYREfLiYO05cMD7E1lLv1NUIUICq0mvDuHy3rAGctnZYfLtxlQZMvWg9J2436Y6vb88xU6fXvtHmiz6KVWm/y9Jhswwf39lvzz9frwkHMmRB3rVlnH96kmrBv5ZxJ0fjB/mb6Sle175T8t0SFaOQwJ5DX8cIIjyT+oSBoCnU5d4Ppo2MEXX/0+DcoV82EsuueQfcvvtt//dMo9Tj/WQ+Q94bWlBSxcgdHYULWcpEEXRpJl5oZiVDQovEO+T/Flgk2LgFoXR/L5//34b3bj22muPb//Hd0+uPI77pkYYlsfn4SeRC8ARRc10OaTx0DWE6ApGAkI0go0LxbYw8AQSiSE036tXr+JTvTwMyjivSZoA74VoUPfu3e1cgX/AuUK0ka+EHY2UqDuMcGxJjXLWInCeYHR4OSWRDlwUzxcEJQiDAqOLtAe8naQ+oBARqaFjVx6kd11tpKjUcQwrJnbzOLqqFbG7E13jNYsTFCTtnKR4EvL/qZEouP7nF9KdMBxcQe3XFVdcYdcDasYGDBggffr0yUud5JojouGMErRp08YON+RcJlrLsEMiAqSKUh/3D0PeQNF4Ye8rv1CvVpThTSrUqFGjrKPggw8+OK7gvDCIVDinw2M0ffPNN/ZY8PnyEx0dbZ/PncgFa8+ePSx+3kWNCzehe1Tb5iHy3gMNZPKgGImpGyDLN6fJ88a46DN+n3QesVvOfWSXXDF6jwyadEDe/DxR/jyUKT06hMnip5rI2Fvr2XasRUTE/IY64QESHlxN9id6XmOLSz6WchUZXl1qhvrh6cf3Q6oByt1h7vAgKJU8J5FaH6Zp+BoW5P/97392Y/jyyy9ttw8WShZMFlULShRr8Vp7yzXk02OEkDVTTKCNOgNCykUJG4KrtoWE3sl3RcHOb1zwWZyhdgamEYLGyODxeTQ3cr4RZnQUVbiN8ovuTPZRUZO884ESzjEtKn2FdAEMClobstHhHRs4cKCsWbOm0GgEz8XjqHfAS8Zx4XO5MkTKA4whDAkMNdILSDPDG9m3b1/7tzzOMML1tMbecg3ZCdRTEQRBEfcSrtKiqMXgGHfq1CnPkOBzkQKBolSWKFFx8P1y7hYnLhWi9UaIEKmoICWAGTmsP0uWLHEpOD0wtF2B8U1aEOlPCxYssGmFzhQozm3Siwp2iLr66qttOqiz0cayZctstINoRkFYcwp7X/mFgm1XdWA4DFD8mf5OZJIidNKyioO0VdYCIrUYFay5/9hH8sHncyedS9OiKghhwdWlb+cI+e7pprLg8YYy5o560q9bpHRvFyYXnVZDeneqKYOvqiMTBteXb0Y3kXfubSBtm1UsN3X92gESVbO6rP8zXdKzPBu9+HVPhhxJyZEm9QKljnkNvwRlBSOAtcBTH5/nYeo3joY2RopRhCszpIkwuGrIkCFWWSV/lI0BDxIKvjXwWO9vN3I9/6MIKIjmcaRNFXNMCX+z6RQl1AOcfz5WQOHgAUNJdHrVUNZR0Amro+AjFPKRFkWIPg+MC94nKTpFNQqgYyCzVfjcbhgXbKRvvfWW9e67iirwuSjkRlml+DEiIsIWRGLMkRqV/33yfHj9UHIJ5/PTeWwwUK655hqrcKIAezpPuSAcUzxuKBFs5BSUk57F+/hHGgORCo4thfFFQftiHkdnJS8aFxRfFpaWwOfgWKM88N1w7EmLIEJWltoWd+CcRYEqSkgZeeedd+x3fxwY/0tUVHKlBLCmMK9h4cKFLgWjoaioQFGwPtesWdPuM/khWsG6zHqJc+j//u//7FT2wsBZVNj7cgqpVaQscc0WB8MZMRoWLVrk0hjJD5+bCAtOCeqwCoNrEudEVBSe0KJh7Sl4LLyBGhelgDoL6hJw6oSHVLNKcu2wAGkaFSjNY4LktKbBcnbLUFsM7u/1FYXBRO1TzWf4ZVeGNTA8xdEMh6zYkiZZxmD51ymhUquGn55+KCsMbsPL7KmORKyTOMSxM+l6VIXBkKCLBoo8IW1a6r300ktW2fV38LrhMUIpxLNLO1c8+xgbKN0ovXisunZl4p93QEnFoOFnYdCKEO/eI488Yjc5YIPHqECJdXrIuY3HDK9c/raOBeF7I50Hw5DOLa5AgcWj6JSHH37YFilzzJz3DR061HoQC4NcYTZaUrmou6iocH5zLApTRDj2+VM55s+fL3Xq1Pk7gmfgvJowYYLcf//9tgAVUH5IuRg7dmzhyn8xdOjQwZ4TRQnvBcXIGvyK4iE4X6lBQMF3JdQTuKO4FwbGBY4IUikLGihEnvn79OnTbdQi/3WWH9a2wt5XfqEDkzvvEWcO1xFrgDvXKjVpXHNEv7nOCwOnFt30+JzFwev6Yj6RGhclZE98loz5IE6ufm6v9H1pv4yYGStTP0uUj75PkQ+WpciUBQny2BsH5brn98oN4/fJu0uTbXF3RaJOeHU5/9QakpHmkMlfJHpsOvmWPRny3cZUCTXG2KVnhnlshITHoUUo0QtC/wXSu0sNKRk8F508T+SOqg2LPl5RFlIMDZT28oYc2ZNPPrlIIQLA4CJXOAsGUQTxrmFUkMNLhw8UfAoJ8Tgx5dcbsFFSA4KCTh5wQdj88LCxWaJQOsFziFKbP9cY4w4D5JZbbrH5yK4gRQqDCmPhuuuuy733eDBcMB6cgteQ+0j5yX8/HZIKwvtGwcDYIVoEGHPLly+3HkhnCkRFgI5XFHbyXeWHtA88rEQqUDq4HlAqiM5wjuFZxVDl/3EMSK1A4QdyxYnqkKNdqWsi3jcyzQiND1yBU5aBicz88HQqa2Wjv5G5Rlyl4KOLk4rKDJWp3OF5uHZvuukmG410JawRRZ3XKPest4WBwU6jClqD493PD2lRDJQjzZK0XFfwmMLel1OIul900UV5jpmiYJ3l/XCtunIAOcE5xVrO8cGhQsowkZKCBeGzZs2yewx7VnGw9jjXUG+ixoWbpKY7jKGQIpc+tUeenRsve42R0eaEEBl6TV2ZNri+LHyyscx9rJG8NCBGbu4aKTF1AmTtljQZ+OpBudYYGj9uT/eYkl7eMN/j8rPDpGWjIPl4xWH5Yn2qjdKUBaIWH/5wWH7fkykDLomU05t6MS+hpFAAerkRUjYnGaFouCxQbPqyEb5+0nhoHVmFQXEkhYcFkuJnFFyUKGeqUXLsUYnbnSJHU45tHjnZOZJ44Igk7DsijjJMsmRTwONTlFD8VlR+KhseebR4xRgsh1edaAAbAcowNQoYG05vNJsJBYz5J8himOBJYiMprXcuP7w2qTWucpQx5FBw8XQBr8/7JqSeP1rERomXjfudjy0MHodyy+MwNFzBcxDZcArHjefnvTrvY4Ok8LIgHDcMNWpYnBs4xd147jlneH3OD86TpIOpeceRcyd+z2HJOOqFCn83wTgoaFgAxwJjjiFg5IOTG027X84LpqGTV44ixv/F6OAxTP3lOuE75Rgwh6Sw5640YDhwOXaxt45FkmON7DVCZhyOYE4fUt245EqXSVN1YO4aDTFwoAG6Nxl7HE9qwbjUyMTB3i++VtircI0TUWPvwMHAQDlXBc2s4URYt20jF/lvuFZwnFAMXh6ph6zxRGTpREV0hH0CnGm/rIGurleMCNrXdu7c2a6LL774ou3YRuQzf3MH9hlqtXDWuBNV9NX6oMaFG+xLyJLn5sXL4GkHJTElW/pfEiGzhzWQT40x8dxtUXJH1wjpflaY9Do3XAZfHimvDYqR+cMby8S7o+XitjXk659T5Y6J+2WuUdQxUioCrRsH28+VaYyClz5JkE270s3FnfvHEoJONX/NYXljSZKc1DRI7utZ25zwuX/0R3hvpEaRx08BKJ6z0nZyY+2bYeQXI6Ty0yKy+LTLSgsbBJ4ZitzId2WwEB5YFH9CwBgPPy3+U164Yb58/fYmycrINkpkpnwyfo3Mf3mNZGWW0cotIyi6GBjvvfeebTmLZ52NjrzWxx57zIbdUYidsBFQOE13HqI0TsOKzW/evHl5Bkd5ggHA+0BpZaNikjjhdN4Dm9/OnZzk/gX1HBh7Ts8jBhGTwvHUoXizFv214ZC83Pczef2+ryUlLs2eOyvmbZU3Hvha9v6ecMyY9wNoKcl3XtCQZNPnHEIRobEBCgXF3aSk0a0mf0SHWgw6N3E8UELIocZgdCfn2qug7FOrVl6nNdFf1mMiGjhslhpRSgen43tG3jbyjhHaYbtaCuh46mNjg+uFrnVEljEaKPp2FcFEiWctHj9+fN5sC2fbVq4dIq9FOVBKC/vD1KlT7fujg2B+o4C9DkeCKycQzgW6QzmjDEQviL5Q2I0RwfrBWk0qMXWKREPcgbWH6LW3UeOiGI6k5cjLCxLllfkJ0jgqUCb8O0bG9a0n3c4Ic1mQjOLcIiZQbrsowhga9WX4jVF2JsYTs2Jtq9qKANGLO7tFyG3GwFi1NU1Gvhcn2/aXPLc3M8shs5enyINvxkqAOVyPXFtXmterADm8tKO9ywiFi9TJEiIu6ZBdvEQYFp8ZIXr5byP+X1ZQruCNptUeYV4WXwpH8dYQMaDIuBpd2bo1lxZnRsuhncmSdiRTQsICpelpUXJOjxMkKMS3lhmbBx2L8HrhSQYUPAwMepMTKs8PYXg2Mgqn8TaxQRJyJ0TO5udOgV9Z4PXwhJ1zzjl2k0JB53fyjSlKJHpEupG/gQLAJkwEg3OE1C+O/csvv2wjNayxzdvWkxPPqS+hNYNk969x9txp1b6+nHh2fWlyqlE6/MSBgSFHR5rSehCJUmAUMq2c1DeuG5Ql0kKK6qjjdajvZ707vuuu56DEh9QeppKfZsSDg8+rJBcb+Y8RjifRC/aswiBi9IaRHfaW38O6iiHCmkdqEQr5tGnTbDSBPYimHaW9Hj0JBo67qY3smaQQs57jnHN372DtwdjyNmpcFMOspSky+fNEadkgSD5/spFc37GmMSqYspj7gCJAmW4WHSgjrq8rEwfESPzhHHno7UOydY+nqoTLl7rmc04cEC3dzgqT+WuOyLXj9sr3vxWdM5gfDLNXPjs28yM2OUuG9KwjN5xf0ygJuQ/wdxoZGWOETYyJyg8aoc7VHa8c9RoPGyG/tZmRp40w0MtPFB5fgVJLe1E86R999JGdtYC3hkJfCllh68q9clKHhpJ2OFO2/3TARiswKmJaHJ8+4wsIV/O+ncXRpPdQf0GL1IILPtECNjGUY0LcpEiRL8zGV1g6UHmAgUO0gq5L1EngEWeGAR5AQvWuihp9Ce8JLx/KAMea31EQqIlxsndrgjQ6qY60NIboL8t2SfrRTDm0I0VOaFdfAoP9JzxInQ6Gc2nhWiH9Ay8tBi0DtfjuUEr8xrjAsHjJCDrStUbKa40nnQchJYpJ5O45b5XCYC/C6YUDn5oWOvQV3pzo2B7I3/9rpLRRfC+DwwfvPmseUb/Zs2fL5MmTZcyYMX7TPIQZQqxx/5hp4wIi4rRTp86Nz+YurD3e2mvyo8ZFEWzcmS5PzY6X+pEB8kK/etIyJsgto6IgTPnu3TFc7ulZW/bHGiX79UOSnOrb9A53CQ+pLhPvipY+F9eSHfsypffze62B9P2WNBuNSTmaYwvWs3Mctq4i/nC2jXAsXHdEbhy/T8bMjpWa5jnG94+WYVfWluDACqZdk+GCgdHTCF6dx4w8YuRjI4T/8eRQk8FPBg9jhNDdbpgRGj2QKzzWiBZxW/A+E+JlccwvztxRMkd2/xYvp3RsJK3ObSCbl+6R9COZkpqSIaE1/aOlMwZEfk8TxgO3C/OE0bKVol2KpDFGyJknTI+R5U14fxxn5/vmM3DbXe+XJ6DGAK87UZzicB5T5/su7L3G7k6RJq3ryRmXtJDkQ0clxchfGw5K3cbOqXn+AcYkqUwF06LchZQGlCGOAel1GFg8H/dxPfkctrJvj/1qhxeW91ui4JjibWrZPDtYuepBIsVMI4uNUGN4rETgeFjaSOvFGMFh5icph+7AukELbYx0Ouf5Uyoh65y7a3BR+0xRsFYU1aSkvFDjwgV43cd/mihJKVnSp3OEXNjadeGiO4QZBbt/1wjp0DpUlm08Kp+sPmwVqYrACfWD5Plb68kzxsBqHh0or32ZJLe+uE/6T9ovj86KlWc+jJdxnyTIqPfjZOgbh+xQwX7/3S8//JYmPdqHy2v/iZHBl9eW0OAKZlg4IYIx1MijRtAJ6QaJB4fbGBpOgwN5wchqI9SKYWA8ZKSYRkjOxaK0ykdlIu1IhiQdSJX6LSOlVfsGsnPTIdn9a6zNp69Rs+K1xCSdxVkgzQbHwL1NmzbZ1Cil9FCLg0HRtHWU1K4fJiFhQfLnzwcldleK1G3kX8YFEbn8EZeSQPoTbZrpKIWhinJBETg/fZHqUCgopF8ZudBIeV+ipM3jaR9vhJKU5UaU0kMqPlPdnzWCc+xYp+PCIUhGGhUt2osbWKn4Daw91Gd5GzUuXMCMh6/Wp0rzhkFy84W1JNwD06RbGiX99i61JDPbYYyLI9bLX1FoEhVoi9Xfe7ChjO1bT05pGiw//pkub32dLOPmxsuYWXEyYWGifLzKfK7UHOnVMVzeGlpfptwdI1e0C/e7VCg2ZyjYB9slODvoXEfRG16zfkYwIGi/T5MjbE+8OrcYec4IaVCk5JMNUYxNRRtKDIvSeCUqG8mHjtUkBYUG2JSXoNBAWfHx7xIZHSZBIcXnpfoTfKfkyTIXAw8z+fLr1q2z/dFdTV1V3INanPTUTAkJD5SwiBCbMrdm4R8SUa+GhNf+52ReX0NKQlFdYoqCeg0GHzIE0Tnrg5Q6amdId/ML5hlB8cReLu/li45GpF8NMsLcoH+WOCklhfoYnGQ4z0jfLW6QM63UMeqorTnKHYq/w9pTlrTM0qLGRSHgQF69LU0SkrLkojY1pHVjz7hjSI+6/KxwaRITJJv/Spc/DpS8QNpTsNGRr8tPdyftBgVUk1YNgmRoz9ry5cjGsvzZpvK+MTYmGgNibP9oeX1IfVkwvKGsHNdU3rq3gVzToaZE1Qqwn7s4aK/oTH/wBrRxBHLi3YarBSODrI6BRl408rqR2UbeNII3jeI4clNJ6XQz44RwLUYO3m1vpqn4G7Sc3bx8j0Q3jxBHjkhwjUA5u3tL2bU5TpqdXq/8FRcPw3VFGhTpQBgazC8gb5bUlqr8PZcV1uf9fyTa6AXpGdXNutTyrGhbb8H54m/2eVnSojAoaElLAwFn6iDrtt/Mt8A3850RAjOlHD3C2sc6zNAwp9AdLA9ew9lzgLV1uhGUW9ZfFF0OK48p+eGtlNAEIf+xJHr6j/kKHEvnscJJRqE2+xhGBmVvHEukMDjlaNPO2AXvNyBSSoGmRfkRKWk5snFHhmQbrbhb2zAJcEc7dpMGdQKlS9saEpecLX8dzJQcHy2IbEzk7GJckNNb0paYbOC0q6X97t2XRcqDV9eWvp1rSVdzvOoZg6Ik0PWE8D9KmLOot7xhs8abTItHt6MXhcEVxIJbyiuJqAXFwLwHvyrQ9AHMKEhNTJfUpHQ5nHhsM+xw1YnS8ZqTpE6DijehmXMLA4MNno5MeLDpgU4Eo6pHqMpCdlaOTX+i4D/hwDHHSPPTo+XCm0+Rxqf433A9am6aNGmSe6uSsdFIspHiZ3m5hBbNtN186KGHpH///rabGZEZCwE+ohXb7a3CIXJMzRvDiitWcLNcoHkDnegoZKZTHesNHZIspPVyLJkfUhioAQzYowO0qz4PROyxc0mhqhilo1Ua1h5XLXvLEzUuCuFoukMOJGVLcEg1OaWR5z3pZ7YIlrQshxw0r5HjI+sC44K+6mx8eFfxrvkKlDB6UPN+vHUR0I2G1yNNZcmSJWUzMEoJr8mxp689Ycuq7tGuXT9cet7bTm4a2Ukioo7VOIVFhsgVg8/2u1QXd6B16FtvvWVb7eJ15rtleBOzDdS4KD2BQdWl47UnyS2j/yUNTjgWgSTK1fWOtn5XbwF0gqGAv1J+53TPY4ssg3HB2jdx4kSb/sUcE+bFMCDNQkOMjkb+Hh1zPCi6dDOiS1UYd1RtaD1K4wS6CjVv3lxeffVVO2zRQg0g35Wr48QpSnSeAf3HOm0fD993WyPUv2BYKn4Naw+Dar2NGheFkJ7pkOSUbAkNqiYN6nhe2WtSN0jSjS4bn5Ljs8gF4L3v0KGDHfLEUDDCp94Gw+L111+3yhfKGPnp3oC0KNrTYWQxjIcZBLR79FZRNcOw6L+N8pmcnGwH6PhiAVAUpXxh8NWiRYu8trZ4DTqq4xCnxXYZfEIYXxSdDh482DqXGBDmTAGztWwEs4uad8YWzWMijLhpv+HYoXX0++8zjc83EM0cMGCALF/u2ap0cuy3b98uEyZMsEK707yuYhwn7HFXPlOOH0FiHldUsLiDEVKjtFuX38PaQ5csb1PNLHiVbMVzD1JxZsyYYXu/jxw50irZTmixeuek/fLjX+myfnxzaVrPs7HWd79Lkbsm75enbo6Sh66uI0GB1ezGg5JNP3fCw+5OXywrFJfiMWIaLkWmDGihbz+92csTXpeoAV578kGvuuoquf76671mXAApSUyvnDNnjh3aRT48Cn55f3bqS1A4MOqIHGHkMCjML3KoFUXxKBT1//HHH/Kvf/2rckUvSFeiEJjBdk9yR+GwzjKFn7oKond40zEiOBbsexyfUaNGWaV4yJAh1vFC22bnsaJwP2HfEYlpGWmUZM8cP4wL9hs6uDGDxhdgXGDg3H333daxVhLYP+kghh5DNzpSajEgOJ5Ew1977TW555577H7GfaRA8z2QIrVlyxY7ubpPnz4yf/58+/rMu2Ewm9uQwk+HKb53bXzn12C8YsDjTPYmalwUYlwcSs62g9+++DFVFo9qLOef7FmFl9atL35k5M5ouatbpDBsj6/BF8YFUFDMcVixYoWkpKRYJbe8N0FqPBA6nrDg4V0pj3H8xcF72Lx5s70AMbBYtDk3ygu+Z4rWiZyQlsWk0Pbt21cupUNRlMoPdQ604SaFZgh3HA+OlKlTp9q0VwwKItXMORk+fLhd74mW01r3p59+kt69e1sDBGWZPTk70yE7Nh6SP386KOs+3y7DZvWUkHDPNFepqMYF+weT9amr4Dixd9PamkGT7CfsY3weBmVynJmpQz3LDTfcYP8/zjSm3GPgPf/883a/JyWNCEqJWhvvNHKPkRFG/ladFCUPNS4KMS5S03NkxOw4mbwgUV4aECP3XOG56YbZOSJXPbtH1m9Nk+lDG8iV54QbxdK3xgWkpqZaTzrF3XiSjh4tnz5zfE48LBRvs5idcsopNufW17UGfH7Sk/iJh6c8wXgjOsLmys+8kLWiKJUO1lPSVDp16lS5nAi0MR1l5BojfbjjeJhmP2/ePOspx5HCHkcKLjUBKListzh18ncspCc/HvfMtCyJ3X1YDv6VKAteXicPf3C1z4wLIk/sy0OHDs0zBBYvXmyj3kT+nd0HmQLN5500aVLeBH9XlMa4+O6776whQGOIu+66yxpt1FjMmjXLFnETISpYP9mmTZu898eUe5qm8B6pxeA48F1Q5+J8jFswwJC2608Y6cwdir9CdgiRC3Qtr4JxURVJT093mIvL0bNnT8eqVaty7/2bd79LdkTc+Lvj2uf3OFLTcnLvLTubd6U7avfd5jjrgR2OX8zvTnJychzTp093XHbZZQ6zaOXeqyiKolRkjLLn+OKLL+waX6lYY+RaIwvtrePYsWOHwyg1DqN828+elpbmGDFihMMox47k5OTcRxXPrl9jHU/3+NCRdjgj956SYxR5R0pKin1dJCEhwXHllVc6pk2blncfYoydQr+nqVOnOoKCguxPo5Bb/WH06NGO8PBwx9q1a+1jMjMzHcZIcERFRdnvuyD8Pf9rxcfHO6677jrHZ5999o/7OU6FwfsfOHCg1VmA51uwYIEjMjLSsWXLFntfUfD4Pn36ODZs2OC48847HcYAchhjxTFlyhT7mUpEvJFeRj43UslO68oG5+L69etzb3kPdZm64NxWIdIoJkhWbkmT5b8dNUZY7h/KQHqWQ+Z8nyJJSdnS4eRQaRGtOfaKoiiVGTz0l19+eeVLfXR+nEKCCUa3sBEK0m6ISlA4TfrTtm3brNfd2ymwRB7uv/9+6+1HjJJu27PS8tZ5H4I3v7C5T9TFGYU8r+uXswEJNSLUKAIRaeoWiCDQTrcgzBrI/1q8h9WrV8sLL7yQdx9RiU8//dRGNQrCZ/jhhx9s/QQNSEhv4v0bA8l22SoOajSob6R4ng52ZG5Q90h6Vamj595vsqiUENYezltvo2lRhaRFAVO0x32cIGNmx8mNF9aSl/pHS/3IsqXurDCGyl2vHpB9CVny8WON5OLTj7XbBL4GX6ZFKYqiKJ4nNjbW5sYzDK9SGRgMUXvKyE1GrueOvyHd5o477pBVq1ZZhZt6C5RilG5SYkvC1pV75f0xK+S+mVfYSf2eoKRpUeVBSdOivvrqK9tRq1+/fjZ1jAYkFOlivLoDBgk1LxgziYmJ9vPzHkjh4twsEfFGGMD3sBFNi/JrqLthxpK754mn0MiFC5hGPeTy2tKmeYgsWHVE5ixPLlP0Ii4lW15akCBb9mRI3y4RckHrite3X1EURSkZdD+iO1ylg+ADwXe6RhUAIwqPOHUHDMbDU96lSxc7U4gGGu6QdiRTPnp+lbzz2FJJOnhEXrntM1m/6C+PZBFURGrUqGENNI4lhlv37t1tjQWRjuKg6Hvs2LG2RoSaDOorbrvtNhtZKlULdL4DBuh5fgyY4mFYe2hU423UuCiCOjWry4QB0RJTJ0Ce/iBB3l2aIofTSjaSkjkWdJ96cnacfLb6iFx5briM7RMlgcZ4URRFUSo3KG/Msal0aVEE3gnmH59FZNNsiAqg/NKhyKncLlu2LC+NqDhCw4PkusfOk2e+vVleWttPRi26Qc7u3sIcx9wHVDFoN8u0ZeYW0HiFouzp06fboZzFcfrpp9tZBzt27MgzJjBQSIsqVYoaI7EIIv2dfKH4Kaw97dq1y73lPdS4KIaOJ4fKEzfUlYga1eWe1w7KyPfjZMNf6ZKVXbz7BENk8U+pcsfE/fLWV8lywWk1ZMwtUVLLPJeiKIpS+UlOTrbdoipdBjLD0FEu99hbx3HRRRfZugDSed555x2r4JCSkzcgTykRRIFGjBghBw4csMNX6UJGO1lmJXmdJCNqXFQIWHs4Z7xNla65wOr/8ssvC625yE9qukOWbEiVR2bGyo79GXJa8xC5tmNNufSsMDm1cbA1PJzelKxskdiUbFm7LU0WrjsiXxrZdShTbrigljx5Y5Sc0jhIAgsZBKQ1F4qiKJUP0lDw3Pfs2bNyRS/QHP5rZI2RN4wUNdHZz2C/xZMfExNjZy35At7Dxo0bbTSCmpQKxTQj24wMNxLFHYq/snDhQnuOezt6UaWNC6x/Djw9npmeWhwYCU/OiZOPlh+Ww0dyJDisurRtFiKtGgRJ/TqBkp6VI/vis2TTzgzZvj9TqmXmSOMGwTLs6tq2fiMkyPXGQoEZxg4TMx9++GHp2rVr7l8URVEUxQ/53sjzRpjWXMKaYKUCM8DIuUbutrcU5TiqbH4OQ9soaiI3lIIXd2ysptFBMu3f9eXDxxrJ0GvryDknhEh8UpZ899MRmfllosz9OlnW/pZmO/Nd3i5cnr4jWhaNaiz3X1mnSMMCCJ0znZSiLYbcKIqiKBUfBpIyibpS0t4IRb1b7S2lKkCGzT4jbewtxc9h7UlKIo/Nu1TZyAXQY5rJoYzNHzZsmO3E4C5pmQ45kJglu2KzJCk1R5KNBAVWs/UUUTWrSzNjiETVCpAAN8w3vgLCo4zhJx+VKZolmpapKIqi+CWVNi3KyYtG0owMM+KD9H/Fy7xt5H9GXjWiflC/R9OifADDciiI+vXXX6V3795WQkO93yKWqMWUKVNsT3B6bvfq1atybkKKoihVjMzMTElPT/dN4a032G6EeRcPGPH+rC7Fm+w28oSRK4ww30TVFL+HVtgMePS2bluljQtg6iUGBv2eKaK+6qqrJDw83KZLlaeCz2FngA1TMxluw6ATisqJoISEhOQ+SlEURanIsM5T4xcW5pkBcH5HhpHpRujSPsiIzj6onDCN+30jS40QtdCmXxWC1NRUa1wEB3v3wqzyxgXQ6xkFn5ZddG1g8iW9n8vTuKCAOz4+Xnbv3m03HgwLhuM0bdo09xGKoihKRafSp0UBMwIxMM430t0Iw/WUysVqI58YudnIGdyhVAQ0LcqHoOij5K9cuVLWr19vC2AowivPQ0NkBAMGYwLDon379raQW9OhFEVRKg94Dkl9ZU5BpYWtkqJuWtKiw1xvRA2MysNGI+8Z6WEEA1K/2wrD/v37bUqUt+t41bjIR05OjhU2AvJky/PQYETwhZOCRecqNSoURVGUCk2mkR+N0EWK6d1K5YBZJicaoYBbVRXFDdS4UBRFUZRyokqkRSmK4pf4Ki2qys65UBRFUZTyhnTXU089NfeWoiiK92Dt8cUUeo1cKIqiKIqiKIriETRyoSiKoijlBGlRpCaoH09RFG/D2vPjjxRCeRc1LhRFURSlnGB4XpMmTXJvKYqieA/WHkYseBtNi1IURVEURVEUxSNo5LXVMQwAAAJASURBVEJRFEVRyomdO3fK4sWLNS1KURSvw9qzYcOG3FveQ40LRVEURSknAgMDpUaNGrm3FEVRvAdrT3BwcO4t76FpUYqiKIqiKIqieASNXCiKoihKObFv3z754YcfNC1KURSvw9qzdevW3FveQ40LRVEURSknMjIyJCkpKfeWoiiK92DtSU1Nzb3lPTQtSlEURVEURVEUj6CRC0VRFEUpJ+Li4my3FvXjKYribVh76FjnbdS4UBRFUZRyIiUlxW7uX3/9tb29bds2+eqrr+zv1GPwe1ZWlk1f4Hd+cpvf+TvwO//P+fvPP/9sfyefGgHu42+gr6Gvwe/6GvoapGXGxsbax3gTNS4URVEUpZxo0aKFNG/eXAICAuzt6tWr5/1erVq1437nJxT8nf9X2O8I5H9efQ19jYK/62tUzdc4++yzpVatWvZ+b6I1F4qiKIqiKIqieIRjZpGiKIqiKIqiKEoZUeNCURRFURRFURSPoMaFoiiKoiiKoigeQY0LRVEURVEURVE8ghoXiqIoiqIoiqJ4BDUuFEVRFEVRFEXxCGpcKIqiKIqiKIriEdS4UBRFURRFURTFI6hxoSiKoiiKoiiKR1DjQlEURVEURVEUj6DGhaIoiqIoiqIoHkGNC0VRFEVRFEVRPIIaF4qiKIqiKIqieAQ1LhRFURRFURRF8QhqXCiKoiiKoiiK4hHUuFAURVEURVEUxSOocaEoiqIoiqIoikdQ40JRFEVRFEVRFI+gxoWiKIqiKIqiKB5A5P8B4Q0NHHoNAR0AAAAASUVORK5CYII=)"
      ],
      "metadata": {
        "id": "BmLeFF4M2ebF"
      }
    },
    {
      "cell_type": "markdown",
      "source": [
        "The softmax function can be written:\n",
        "$$a_j = \\frac{e^{z_j}}{ \\sum_{k=1}^{N}{e^{z_k} }} \\tag{1}$$\n",
        "The output $\\mathbf{a}$ is a vector of length N, so for softmax regression, you could also write:\n",
        "\\begin{align}\n",
        "\\mathbf{a}(x) =\n",
        "\\begin{bmatrix}\n",
        "P(y = 1 | \\mathbf{x}; \\mathbf{w},b) \\\\\n",
        "\\vdots \\\\\n",
        "P(y = N | \\mathbf{x}; \\mathbf{w},b)\n",
        "\\end{bmatrix}\n",
        "=\n",
        "\\frac{1}{ \\sum_{k=1}^{N}{e^{z_k} }}\n",
        "\\begin{bmatrix}\n",
        "e^{z_1} \\\\\n",
        "\\vdots \\\\\n",
        "e^{z_{N}} \\\\\n",
        "\\end{bmatrix} \\tag{2}\n",
        "\\end{align}\n"
      ],
      "metadata": {
        "id": "f2bJ4UXnVC7e"
      }
    },
    {
      "cell_type": "markdown",
      "source": [
        "The loss function associated with Softmax, the cross-entropy loss, is:\n",
        "$\\begin{equation}\n",
        "  L(\\mathbf{a},y)=\\begin{cases}\n",
        "    -log(a_1), & \\text{if $y=1$}.\\\\\n",
        "        &\\vdots\\\\\n",
        "     -log(a_N), & \\text{if $y=N$}\n",
        "  \\end{cases} \\tag{3}\n",
        "\\end{equation}$\n",
        "\n",
        "Where y is the target category for this example and $\\mathbf{a}$ is the output of a softmax function. In particular, the values in $\\mathbf{a}$ are probabilities that sum to one.\n",
        "\n",
        "\n",
        "Note in (3) above, only the line that corresponds to the target contributes to the loss, other lines are zero. To write the cost equation we need an 'indicator function' that will be 1 when the index matches the target and zero otherwise. <br>\n",
        "$1(y == n) == \\begin{cases} 1, & \\text{if y==n}.\\\\ 0, & \\text{otherwise}.\n",
        "  \\end{cases}$\n",
        "\n",
        "Now the cost is:\n",
        "\\begin{align}\n",
        "J(\\mathbf{w},b) = -\\frac{1}{m} \\left[ \\sum_{i=1}^{m} \\sum_{j=1}^{N}  1\\left\\{y^{(i)} == j\\right\\} \\log \\frac{e^{z^{(i)}_j}}{\\sum_{k=1}^N e^{z^{(i)}_k} }\\right] \\tag{4}\n",
        "\\end{align}\n",
        "\n",
        "Where $m$ is the number of examples, $N$ is the number of outputs. This is the average of all the losses.\n"
      ],
      "metadata": {
        "id": "nly7nsg32h4B"
      }
    },
    {
      "cell_type": "markdown",
      "source": [
        "### 4.5.1 Declaring Softmax"
      ],
      "metadata": {
        "id": "u1MiAR6T3rx_"
      }
    },
    {
      "cell_type": "markdown",
      "source": [
        "1. Dense Layers\n",
        "\n",
        "> ```\n",
        "> Dense(4, activation = 'softmax')\n",
        "> ```\n",
        "\n",
        "2. Compile\n",
        "\n",
        "> ```\n",
        "> model.compile (\n",
        "    loss = tf.keras.losses.SparseCategoricalCrossentropy(),\n",
        "    optimizer=tf.keras.optimizers.Adam(0.001),\n",
        ")\n",
        "> ```"
      ],
      "metadata": {
        "id": "e0rTHUHl3yjL"
      }
    },
    {
      "cell_type": "markdown",
      "source": [
        "3. Preffered Way\n",
        "\n",
        "> ```\n",
        "> Dense layer =>  Dense(4, activation = 'linear')\n",
        "> Model       =>  preferred_model.compile(\n",
        "    loss=tf.keras.losses.SparseCategoricalCrossentropy(from_logits=True),\n",
        "    optimizer=tf.keras.optimizers.Adam(0.001),\n",
        ")\n",
        "> ```\n",
        "\n",
        "```from_logits=True``` reduces the round off errors when doing the calculations."
      ],
      "metadata": {
        "id": "y1C9TUnF4TCs"
      }
    },
    {
      "cell_type": "markdown",
      "source": [
        "## 4.6 Layers of Neural Networks"
      ],
      "metadata": {
        "id": "tNmPFEQIcrjK"
      }
    },
    {
      "cell_type": "markdown",
      "source": [
        "\n",
        "| Layer Type          | Explanation                                                                   | Applications                                             |\n",
        "|---------------------|-------------------------------------------------------------------------------|----------------------------------------------------------|\n",
        "| Dense               | Fully connected layer where each neuron <br> receives input from all previous neurons | Classification, regression, pattern recognition            |\n",
        "| Convolutional       | Applies convolution operation to input<br> data, capturing local patterns           | Image recognition, computer vision                        |\n",
        "| Recurrent           | Processes sequential data, preserving <br>information through recurrent connections | Natural language processing, time series analysis          |\n",
        "| Pooling             | Reduces dimensionality by downsampling <br>input data                               | Feature extraction, reducing computational complexity     |\n",
        "| Dropout             | Randomly sets a fraction of input units to <br>zero during training                  | Regularization, preventing overfitting                     |\n",
        "| Batch Normalization | Normalizes input data within a mini-batch,<br> improving network training            | Improving network convergence, regularization             |\n",
        "| Activation          | Applies a non-linear activation function to <br>introduce non-linearity             | Enabling complex mappings, increasing model capacity       |\n",
        "| Flatten             | Converts multi-dimensional input into a <br>one-dimensional vector                  | Transition between convolutional and fully connected layers |\n",
        "| Embedding           | Represents discrete categorical variables <br>as continuous vectors                 | Natural language processing, recommendation systems        |\n",
        "| LSTM                | Long Short-Term Memory layer with <br>memory cells and gating mechanisms            | Sequence modeling, speech recognition, language translation|\n",
        "\n"
      ],
      "metadata": {
        "id": "HitvDr5Dcves"
      }
    },
    {
      "cell_type": "markdown",
      "source": [
        "# 5 Convolution Neural Networks"
      ],
      "metadata": {
        "id": "SyjbO9D-gQUt"
      }
    },
    {
      "cell_type": "markdown",
      "source": [],
      "metadata": {
        "id": "1TlbfPoFgYaW"
      }
    },
    {
      "cell_type": "markdown",
      "source": [
        "#6 Mini Projects"
      ],
      "metadata": {
        "id": "SWWxu5FxZumq"
      }
    },
    {
      "cell_type": "markdown",
      "source": [
        "## 6.1 Fashion MNIST Dataset"
      ],
      "metadata": {
        "id": "O9sQ0Jk-ZxCN"
      }
    },
    {
      "cell_type": "markdown",
      "source": [
        "The [Fashion MNIST dataset](https://github.com/zalandoresearch/fashion-mnist) is a collection of grayscale 28x28 pixel clothing images. Each image is associated with a label as shown in this table⁉\n",
        "\n",
        "| Label | Description |\n",
        "| --- | --- |\n",
        "| 0 | T-shirt/top |\n",
        "| 1 | Trouser |\n",
        "| 2 | Pullover |\n",
        "| 3 | Dress |\n",
        "| 4 | Coat |\n",
        "| 5 | Sandal |\n",
        "| 6 | Shirt |\n",
        "| 7 | Sneaker |\n",
        "| 8 | Bag |\n",
        "| 9 | Ankle boot |\n",
        "\n",
        "This dataset is available directly in the [tf.keras.datasets](https://www.tensorflow.org/api_docs/python/tf/keras/datasets) API"
      ],
      "metadata": {
        "id": "evYqUMBvZ4Zp"
      }
    },
    {
      "cell_type": "markdown",
      "source": [
        "Calling `load_data()` on this object will give you two tuples with two lists each."
      ],
      "metadata": {
        "id": "jQufWX5bZ82Q"
      }
    },
    {
      "cell_type": "code",
      "source": [
        "# Load the Fashion MNIST dataset\n",
        "fmnist = tf.keras.datasets.fashion_mnist\n",
        "# Load the training and test split of the Fashion MNIST dataset\n",
        "(training_images, training_labels), (test_images, test_labels) = fmnist.load_data()"
      ],
      "metadata": {
        "id": "gzadnvvaaEnI"
      },
      "execution_count": 29,
      "outputs": []
    },
    {
      "cell_type": "markdown",
      "source": [
        "What do these values look like?"
      ],
      "metadata": {
        "id": "4-b4p9x6aIEL"
      }
    },
    {
      "cell_type": "code",
      "source": [
        "import numpy as np\n",
        "import matplotlib.pyplot as plt\n",
        "\n",
        "# You can put between 0 to 59999 here\n",
        "index = 0\n",
        "\n",
        "# Set number of characters per row when printing\n",
        "np.set_printoptions(linewidth=320)\n",
        "\n",
        "# Print the label and image\n",
        "print(f'LABEL: {training_labels[index]}')\n",
        "print(f'\\nIMAGE PIXEL ARRAY:\\n {training_images[index]}')\n",
        "\n",
        "# Visualize the image\n",
        "plt.imshow(training_images[index])"
      ],
      "metadata": {
        "colab": {
          "base_uri": "https://localhost:8080/",
          "height": 986
        },
        "id": "QpvR5nLVaOxc",
        "outputId": "4c806f5c-ffa6-4c47-d7a1-263a62b7c5a1"
      },
      "execution_count": 30,
      "outputs": [
        {
          "output_type": "stream",
          "name": "stdout",
          "text": [
            "LABEL: 9\n",
            "\n",
            "IMAGE PIXEL ARRAY:\n",
            " [[  0   0   0   0   0   0   0   0   0   0   0   0   0   0   0   0   0   0   0   0   0   0   0   0   0   0   0   0]\n",
            " [  0   0   0   0   0   0   0   0   0   0   0   0   0   0   0   0   0   0   0   0   0   0   0   0   0   0   0   0]\n",
            " [  0   0   0   0   0   0   0   0   0   0   0   0   0   0   0   0   0   0   0   0   0   0   0   0   0   0   0   0]\n",
            " [  0   0   0   0   0   0   0   0   0   0   0   0   1   0   0  13  73   0   0   1   4   0   0   0   0   1   1   0]\n",
            " [  0   0   0   0   0   0   0   0   0   0   0   0   3   0  36 136 127  62  54   0   0   0   1   3   4   0   0   3]\n",
            " [  0   0   0   0   0   0   0   0   0   0   0   0   6   0 102 204 176 134 144 123  23   0   0   0   0  12  10   0]\n",
            " [  0   0   0   0   0   0   0   0   0   0   0   0   0   0 155 236 207 178 107 156 161 109  64  23  77 130  72  15]\n",
            " [  0   0   0   0   0   0   0   0   0   0   0   1   0  69 207 223 218 216 216 163 127 121 122 146 141  88 172  66]\n",
            " [  0   0   0   0   0   0   0   0   0   1   1   1   0 200 232 232 233 229 223 223 215 213 164 127 123 196 229   0]\n",
            " [  0   0   0   0   0   0   0   0   0   0   0   0   0 183 225 216 223 228 235 227 224 222 224 221 223 245 173   0]\n",
            " [  0   0   0   0   0   0   0   0   0   0   0   0   0 193 228 218 213 198 180 212 210 211 213 223 220 243 202   0]\n",
            " [  0   0   0   0   0   0   0   0   0   1   3   0  12 219 220 212 218 192 169 227 208 218 224 212 226 197 209  52]\n",
            " [  0   0   0   0   0   0   0   0   0   0   6   0  99 244 222 220 218 203 198 221 215 213 222 220 245 119 167  56]\n",
            " [  0   0   0   0   0   0   0   0   0   4   0   0  55 236 228 230 228 240 232 213 218 223 234 217 217 209  92   0]\n",
            " [  0   0   1   4   6   7   2   0   0   0   0   0 237 226 217 223 222 219 222 221 216 223 229 215 218 255  77   0]\n",
            " [  0   3   0   0   0   0   0   0   0  62 145 204 228 207 213 221 218 208 211 218 224 223 219 215 224 244 159   0]\n",
            " [  0   0   0   0  18  44  82 107 189 228 220 222 217 226 200 205 211 230 224 234 176 188 250 248 233 238 215   0]\n",
            " [  0  57 187 208 224 221 224 208 204 214 208 209 200 159 245 193 206 223 255 255 221 234 221 211 220 232 246   0]\n",
            " [  3 202 228 224 221 211 211 214 205 205 205 220 240  80 150 255 229 221 188 154 191 210 204 209 222 228 225   0]\n",
            " [ 98 233 198 210 222 229 229 234 249 220 194 215 217 241  65  73 106 117 168 219 221 215 217 223 223 224 229  29]\n",
            " [ 75 204 212 204 193 205 211 225 216 185 197 206 198 213 240 195 227 245 239 223 218 212 209 222 220 221 230  67]\n",
            " [ 48 203 183 194 213 197 185 190 194 192 202 214 219 221 220 236 225 216 199 206 186 181 177 172 181 205 206 115]\n",
            " [  0 122 219 193 179 171 183 196 204 210 213 207 211 210 200 196 194 191 195 191 198 192 176 156 167 177 210  92]\n",
            " [  0   0  74 189 212 191 175 172 175 181 185 188 189 188 193 198 204 209 210 210 211 188 188 194 192 216 170   0]\n",
            " [  2   0   0   0  66 200 222 237 239 242 246 243 244 221 220 193 191 179 182 182 181 176 166 168  99  58   0   0]\n",
            " [  0   0   0   0   0   0   0  40  61  44  72  41  35   0   0   0   0   0   0   0   0   0   0   0   0   0   0   0]\n",
            " [  0   0   0   0   0   0   0   0   0   0   0   0   0   0   0   0   0   0   0   0   0   0   0   0   0   0   0   0]\n",
            " [  0   0   0   0   0   0   0   0   0   0   0   0   0   0   0   0   0   0   0   0   0   0   0   0   0   0   0   0]]\n"
          ]
        },
        {
          "output_type": "execute_result",
          "data": {
            "text/plain": [
              "<matplotlib.image.AxesImage at 0x7efd98415420>"
            ]
          },
          "metadata": {},
          "execution_count": 30
        },
        {
          "output_type": "display_data",
          "data": {
            "text/plain": [
              "<Figure size 640x480 with 1 Axes>"
            ],
            "image/png": "[encoded data removed]"
          },
          "metadata": {}
        }
      ]
    },
    {
      "cell_type": "markdown",
      "source": [
        "Training a neural network especially in image processing, for various reasons it will usually learn better if you scale all values to between 0 and 1"
      ],
      "metadata": {
        "id": "PDqHNSoCaQVI"
      }
    },
    {
      "cell_type": "code",
      "source": [
        "# Normalize the pixel values of the train and test images\n",
        "training_images  = training_images / 255.0\n",
        "test_images = test_images / 255.0"
      ],
      "metadata": {
        "id": "HjlUFwOgaVhW"
      },
      "execution_count": 31,
      "outputs": []
    },
    {
      "cell_type": "markdown",
      "source": [
        "Design the model."
      ],
      "metadata": {
        "id": "09kAO4NXaalR"
      }
    },
    {
      "cell_type": "code",
      "source": [
        "# Build the classification model\n",
        "model = tf.keras.models.Sequential([tf.keras.layers.Flatten(),\n",
        "                                    tf.keras.layers.Dense(128, activation=tf.nn.relu),\n",
        "                                    tf.keras.layers.Dense(10, activation=tf.nn.softmax)])"
      ],
      "metadata": {
        "id": "HrHz5T8mabaL"
      },
      "execution_count": 32,
      "outputs": []
    },
    {
      "cell_type": "markdown",
      "source": [
        "Compile the model\n"
      ],
      "metadata": {
        "id": "YyRo8b-Fadgb"
      }
    },
    {
      "cell_type": "code",
      "source": [
        "model.compile(optimizer = tf.optimizers.Adam(),\n",
        "              loss = 'sparse_categorical_crossentropy',\n",
        "              metrics=['accuracy'])\n",
        "\n",
        "model.fit(training_images, training_labels, epochs=5)"
      ],
      "metadata": {
        "colab": {
          "base_uri": "https://localhost:8080/"
        },
        "id": "87fwHn-BajPE",
        "outputId": "fe50c7d6-f2b1-4fe2-a774-7067ea6f4738"
      },
      "execution_count": 33,
      "outputs": [
        {
          "output_type": "stream",
          "name": "stdout",
          "text": [
            "Epoch 1/5\n",
            "1875/1875 [==============================] - 7s 4ms/step - loss: 0.4933 - accuracy: 0.8264\n",
            "Epoch 2/5\n",
            "1875/1875 [==============================] - 9s 5ms/step - loss: 0.3736 - accuracy: 0.8640\n",
            "Epoch 3/5\n",
            "1875/1875 [==============================] - 7s 4ms/step - loss: 0.3373 - accuracy: 0.8764\n",
            "Epoch 4/5\n",
            "1875/1875 [==============================] - 13s 7ms/step - loss: 0.3122 - accuracy: 0.8855\n",
            "Epoch 5/5\n",
            "1875/1875 [==============================] - 8s 4ms/step - loss: 0.2956 - accuracy: 0.8911\n"
          ]
        },
        {
          "output_type": "execute_result",
          "data": {
            "text/plain": [
              "<keras.callbacks.History at 0x7efd85f8f6a0>"
            ]
          },
          "metadata": {},
          "execution_count": 33
        }
      ]
    },
    {
      "cell_type": "markdown",
      "source": [
        "Evaluate the model"
      ],
      "metadata": {
        "id": "_yHM98MLak8I"
      }
    },
    {
      "cell_type": "code",
      "source": [
        "# Evaluate the model on unseen data\n",
        "model.evaluate(test_images, test_labels)"
      ],
      "metadata": {
        "colab": {
          "base_uri": "https://localhost:8080/"
        },
        "id": "Ny9e2BkpamKQ",
        "outputId": "ea89c78a-c2e2-4eff-cce4-afab3a055b00"
      },
      "execution_count": 34,
      "outputs": [
        {
          "output_type": "stream",
          "name": "stdout",
          "text": [
            "313/313 [==============================] - 1s 2ms/step - loss: 0.3374 - accuracy: 0.8757\n"
          ]
        },
        {
          "output_type": "execute_result",
          "data": {
            "text/plain": [
              "[0.33739742636680603, 0.8756999969482422]"
            ]
          },
          "metadata": {},
          "execution_count": 34
        }
      ]
    },
    {
      "cell_type": "markdown",
      "source": [
        "### 6.1.1 Use Callbacks"
      ],
      "metadata": {
        "id": "fv9-EgOVloNl"
      }
    },
    {
      "cell_type": "code",
      "source": [
        "import tensorflow as tf\n",
        "from tensorflow import keras\n",
        "\n",
        "# Load the Fashion MNIST dataset\n",
        "fmnist = tf.keras.datasets.fashion_mnist\n",
        "# Load the training and test split of the Fashion MNIST dataset\n",
        "(x_train, y_train), (test_images, test_labels) = fmnist.load_data()\n",
        "\n",
        "# Normalize pixel values\n",
        "x_train = x_train / 255.0\n",
        "\n",
        "class myCallback(tf.keras.callbacks.Callback):\n",
        "        # Define the correct function signature for on_epoch_end\n",
        "        def on_epoch_end(self, epoch, logs={}):\n",
        "            if logs.get('accuracy') >= 0.99 :\n",
        "                print(\"\\nReached 99% accuracy so cancelling training!\")\n",
        "                # Stop training once the above condition is met\n",
        "                self.model.stop_training = True\n",
        "\n",
        "def train_mnist(x_train, y_train):\n",
        "    # Instantiate the callback class\n",
        "    callbacks = myCallback()\n",
        "\n",
        "    # Define the model\n",
        "    model = tf.keras.models.Sequential([\n",
        "        keras.layers.Flatten(input_shape = (28,28)),\n",
        "        keras.layers.Dense(256,activation ='relu'),\n",
        "        keras.layers.Dense(10,activation = 'linear')\n",
        "\n",
        "\n",
        "    ])\n",
        "\n",
        "    # Compile the model\n",
        "    model.compile(loss=tf.keras.losses.SparseCategoricalCrossentropy(from_logits=True),optimizer=tf.keras.optimizers.Adam(),metrics=['accuracy'])\n",
        "\n",
        "\n",
        "    # Fit the model for 10 epochs adding the callbacks\n",
        "    # and save the training history\n",
        "    history = model.fit(x_train, y_train, epochs=10, callbacks=[callbacks])\n",
        "    return history\n",
        "\n",
        "hist = train_mnist(x_train, y_train)"
      ],
      "metadata": {
        "colab": {
          "base_uri": "https://localhost:8080/"
        },
        "id": "G3K6F2Q9lrGH",
        "outputId": "5b813b83-14a1-4e58-bbba-afacb156e093"
      },
      "execution_count": 38,
      "outputs": [
        {
          "output_type": "stream",
          "name": "stdout",
          "text": [
            "Epoch 1/10\n",
            "1875/1875 [==============================] - 11s 6ms/step - loss: 0.4852 - accuracy: 0.8285\n",
            "Epoch 2/10\n",
            "1875/1875 [==============================] - 10s 5ms/step - loss: 0.3630 - accuracy: 0.8670\n",
            "Epoch 3/10\n",
            "1875/1875 [==============================] - 8s 5ms/step - loss: 0.3280 - accuracy: 0.8799\n",
            "Epoch 4/10\n",
            "1875/1875 [==============================] - 10s 5ms/step - loss: 0.3034 - accuracy: 0.8890\n",
            "Epoch 5/10\n",
            "1875/1875 [==============================] - 10s 5ms/step - loss: 0.2869 - accuracy: 0.8931\n",
            "Epoch 6/10\n",
            "1875/1875 [==============================] - 9s 5ms/step - loss: 0.2713 - accuracy: 0.8989\n",
            "Epoch 7/10\n",
            "1875/1875 [==============================] - 9s 5ms/step - loss: 0.2596 - accuracy: 0.9028\n",
            "Epoch 8/10\n",
            "1875/1875 [==============================] - 10s 5ms/step - loss: 0.2468 - accuracy: 0.9082\n",
            "Epoch 9/10\n",
            "1875/1875 [==============================] - 10s 6ms/step - loss: 0.2367 - accuracy: 0.9119\n",
            "Epoch 10/10\n",
            "1875/1875 [==============================] - 11s 6ms/step - loss: 0.2289 - accuracy: 0.9143\n"
          ]
        }
      ]
    },
    {
      "cell_type": "markdown",
      "source": [
        "### 6.1.2 Use Convolution and Pooling Layers\n",
        "\n",
        "\n",
        "\n"
      ],
      "metadata": {
        "id": "ydE5KZFlhMi4"
      }
    },
    {
      "cell_type": "code",
      "source": [
        "import tensorflow as tf\n",
        "\n",
        "# Load the Fashion MNIST dataset\n",
        "fmnist = tf.keras.datasets.fashion_mnist\n",
        "(training_images, training_labels), (test_images, test_labels) = fmnist.load_data()\n",
        "\n",
        "# Normalize the pixel values\n",
        "training_images = training_images / 255.0\n",
        "test_images = test_images / 255.0\n",
        "\n",
        "# Define the model\n",
        "model = tf.keras.models.Sequential([\n",
        "\n",
        "  # Add convolutions and max pooling\n",
        "  tf.keras.layers.Conv2D(32, (3,3), activation='relu', input_shape=(28, 28, 1)),\n",
        "  tf.keras.layers.MaxPooling2D(2, 2),\n",
        "  tf.keras.layers.Conv2D(32, (3,3), activation='relu'),\n",
        "  tf.keras.layers.MaxPooling2D(2,2),\n",
        "\n",
        "  # Add the same layers as before\n",
        "  tf.keras.layers.Flatten(),\n",
        "  tf.keras.layers.Dense(128, activation='relu'),\n",
        "  tf.keras.layers.Dense(10, activation='softmax')\n",
        "])\n",
        "\n",
        "# Print the model summary\n",
        "model.summary()\n",
        "\n",
        "# Use same settings\n",
        "model.compile(optimizer='adam', loss='sparse_categorical_crossentropy', metrics=['accuracy'])\n",
        "\n",
        "# Train the model\n",
        "print(f'\\nMODEL TRAINING:')\n",
        "model.fit(training_images, training_labels, epochs=5)\n",
        "\n",
        "# Evaluate on the test set\n",
        "print(f'\\nMODEL EVALUATION:')\n",
        "test_loss = model.evaluate(test_images, test_labels)"
      ],
      "metadata": {
        "colab": {
          "base_uri": "https://localhost:8080/"
        },
        "id": "owLfCQiwhfgy",
        "outputId": "b2f7b89f-e986-4af3-bb83-8af755361b9f"
      },
      "execution_count": 35,
      "outputs": [
        {
          "output_type": "stream",
          "name": "stdout",
          "text": [
            "Model: \"sequential_2\"\n",
            "_________________________________________________________________\n",
            " Layer (type)                Output Shape              Param #   \n",
            "=================================================================\n",
            " conv2d (Conv2D)             (None, 26, 26, 32)        320       \n",
            "                                                                 \n",
            " max_pooling2d (MaxPooling2D  (None, 13, 13, 32)       0         \n",
            " )                                                               \n",
            "                                                                 \n",
            " conv2d_1 (Conv2D)           (None, 11, 11, 32)        9248      \n",
            "                                                                 \n",
            " max_pooling2d_1 (MaxPooling  (None, 5, 5, 32)         0         \n",
            " 2D)                                                             \n",
            "                                                                 \n",
            " flatten_2 (Flatten)         (None, 800)               0         \n",
            "                                                                 \n",
            " dense_4 (Dense)             (None, 128)               102528    \n",
            "                                                                 \n",
            " dense_5 (Dense)             (None, 10)                1290      \n",
            "                                                                 \n",
            "=================================================================\n",
            "Total params: 113,386\n",
            "Trainable params: 113,386\n",
            "Non-trainable params: 0\n",
            "_________________________________________________________________\n",
            "\n",
            "MODEL TRAINING:\n",
            "Epoch 1/5\n",
            "1875/1875 [==============================] - 56s 29ms/step - loss: 0.4708 - accuracy: 0.8288\n",
            "Epoch 2/5\n",
            "1875/1875 [==============================] - 53s 28ms/step - loss: 0.3156 - accuracy: 0.8845\n",
            "Epoch 3/5\n",
            "1875/1875 [==============================] - 51s 27ms/step - loss: 0.2696 - accuracy: 0.9017\n",
            "Epoch 4/5\n",
            "1875/1875 [==============================] - 51s 27ms/step - loss: 0.2408 - accuracy: 0.9097\n",
            "Epoch 5/5\n",
            "1875/1875 [==============================] - 50s 27ms/step - loss: 0.2170 - accuracy: 0.9203\n",
            "\n",
            "MODEL EVALUATION:\n",
            "313/313 [==============================] - 3s 9ms/step - loss: 0.2657 - accuracy: 0.9059\n"
          ]
        }
      ]
    },
    {
      "cell_type": "markdown",
      "source": [
        "Instead of the input layer at the top, added a [Conv2D layer](https://www.tensorflow.org/api_docs/python/tf/keras/layers/Conv2D). The parameters are:\n",
        "\n",
        "1. The number of convolutions  want to generate. The value here is purely arbitrary but it's good to use powers of 2 starting from 32.\n",
        "2. The size of the Convolution. In this case, a 3x3 grid.\n",
        "3. The activation function to use. In this case, used a ReLU\n",
        "4. In the first layer, the shape of the input data.\n",
        "\n",
        "Follow the convolution with a [MaxPool2D](https://www.tensorflow.org/api_docs/python/tf/keras/layers/MaxPool2D) layer which is designed to compress the image, while maintaining the content of the features that were highlighted by the convlution. By specifying `(2,2)` for the MaxPooling, the effect is to quarter the size of the image. Without going into too much detail here, the idea is that it creates a 2x2 array of pixels, and picks the biggest one. Thus, it turns 4 pixels into 1. It repeats this across the image, and in doing so, it halves both the number of horizontal and vertical pixels, effectively reducing the image to 25% of the original image.\n"
      ],
      "metadata": {
        "id": "jzL5QxzVhmyi"
      }
    },
    {
      "cell_type": "markdown",
      "source": [
        "Visualizing the Convolutions and Pooling"
      ],
      "metadata": {
        "id": "Xy3N6q6SiKWu"
      }
    },
    {
      "cell_type": "code",
      "source": [
        "print(test_labels[:100])\n",
        "import matplotlib.pyplot as plt\n",
        "from tensorflow.keras import models\n",
        "\n",
        "f, axarr = plt.subplots(3,4)\n",
        "\n",
        "FIRST_IMAGE=0\n",
        "SECOND_IMAGE=23\n",
        "THIRD_IMAGE=28\n",
        "CONVOLUTION_NUMBER = 1\n",
        "\n",
        "layer_outputs = [layer.output for layer in model.layers]\n",
        "activation_model = tf.keras.models.Model(inputs = model.input, outputs = layer_outputs)\n",
        "\n",
        "for x in range(0,4):\n",
        "  f1 = activation_model.predict(test_images[FIRST_IMAGE].reshape(1, 28, 28, 1))[x]\n",
        "  axarr[0,x].imshow(f1[0, : , :, CONVOLUTION_NUMBER], cmap='inferno')\n",
        "  axarr[0,x].grid(False)\n",
        "\n",
        "  f2 = activation_model.predict(test_images[SECOND_IMAGE].reshape(1, 28, 28, 1))[x]\n",
        "  axarr[1,x].imshow(f2[0, : , :, CONVOLUTION_NUMBER], cmap='inferno')\n",
        "  axarr[1,x].grid(False)\n",
        "\n",
        "  f3 = activation_model.predict(test_images[THIRD_IMAGE].reshape(1, 28, 28, 1))[x]\n",
        "  axarr[2,x].imshow(f3[0, : , :, CONVOLUTION_NUMBER], cmap='inferno')\n",
        "  axarr[2,x].grid(False)"
      ],
      "metadata": {
        "colab": {
          "base_uri": "https://localhost:8080/",
          "height": 678
        },
        "id": "aJHG9TGAiNGO",
        "outputId": "9b5f05fd-eb90-4ddd-90c1-348a93f7d374"
      },
      "execution_count": 36,
      "outputs": [
        {
          "output_type": "stream",
          "name": "stdout",
          "text": [
            "[9 2 1 1 6 1 4 6 5 7 4 5 7 3 4 1 2 4 8 0 2 5 7 9 1 4 6 0 9 3 8 8 3 3 8 0 7 5 7 9 6 1 3 7 6 7 2 1 2 2 4 4 5 8 2 2 8 4 8 0 7 7 8 5 1 1 2 3 9 8 7 0 2 6 2 3 1 2 8 4 1 8 5 9 5 0 3 2 0 6 5 3 6 7 1 8 0 1 4 2]\n",
            "1/1 [==============================] - 0s 108ms/step\n",
            "1/1 [==============================] - 0s 25ms/step\n",
            "1/1 [==============================] - 0s 21ms/step\n",
            "1/1 [==============================] - 0s 22ms/step\n",
            "1/1 [==============================] - 0s 25ms/step\n",
            "1/1 [==============================] - 0s 29ms/step\n",
            "1/1 [==============================] - 0s 24ms/step\n",
            "1/1 [==============================] - 0s 26ms/step\n",
            "1/1 [==============================] - 0s 21ms/step\n",
            "1/1 [==============================] - 0s 22ms/step\n",
            "1/1 [==============================] - 0s 27ms/step\n",
            "1/1 [==============================] - 0s 23ms/step\n"
          ]
        },
        {
          "output_type": "display_data",
          "data": {
            "text/plain": [
              "<Figure size 640x480 with 12 Axes>"
            ],
            "image/png": "[encoded data removed]"
          },
          "metadata": {}
        }
      ]
    }
  ]
}