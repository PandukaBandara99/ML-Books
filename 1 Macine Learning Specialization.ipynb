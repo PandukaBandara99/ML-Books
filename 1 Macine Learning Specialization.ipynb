{
  "cells": [
    {
      "cell_type": "markdown",
      "metadata": {
        "id": "view-in-github",
        "colab_type": "text"
      },
      "source": [
        "<a href=\"https://colab.research.google.com/github/PandukaBandara99/ML-Books/blob/main/1%20Macine%20Learning%20Specialization.ipynb\" target=\"_parent\"><img src=\"https://colab.research.google.com/assets/colab-badge.svg\" alt=\"Open In Colab\"/></a>"
      ]
    },
    {
      "cell_type": "markdown",
      "metadata": {
        "id": "TgXF3VTtQkcH"
      },
      "source": [
        "Mahela Panduka Bandara ; <br> UG @ Dpt. of Electronic & Electrical Engineering ;<br> University of Peradeniya ;<br> 2023/03 <br><br> Email : e19039@end.pdn.ac.lk <br> LinkedIN : https://www.linkedin.com/in/pandukabandara/\n"
      ]
    },
    {
      "cell_type": "markdown",
      "metadata": {
        "id": "ifwpJotBNHoV"
      },
      "source": [
        "# 1 Supervised Machine Learning: Regression\n",
        "\n",
        "\n"
      ]
    },
    {
      "cell_type": "markdown",
      "metadata": {
        "id": "S5kfSQ_-MsJ5"
      },
      "source": [
        "## 1.1 Introduction"
      ]
    },
    {
      "cell_type": "markdown",
      "metadata": {
        "id": "1cGTrv19JRPj"
      },
      "source": [
        "In supervised learning , learn begins from given correct data set of (feature,target) and the learning algorythem is used to identify the mapping function for those data set.\n",
        "\n",
        "*   Regression : For continuous functions ,predicts numbers.\n",
        "*   Classification : Predicts caegories ,Descrete outcomes.\n",
        "\n"
      ]
    },
    {
      "cell_type": "markdown",
      "metadata": {
        "id": "KShjNkXJKdjn"
      },
      "source": [
        "Terminology\n",
        "\n",
        "*   $x$  = \"Input variables , called features\n",
        "*   $y$  = \"Output variables\" , called targets  ~ ~ ~ ~ $\\hat{y}$ denotes the predicted outcomes.\n",
        "*   m    = Number of training samples\n",
        "*   $(x,y)$ = single training example\n",
        "*   $(x^{(i)},y^{(i)})$ = $i^{th}$ example\n",
        "*   \n",
        "\n",
        "\n",
        "\n",
        "\n",
        "\n",
        "\n",
        "\n",
        "---"
      ]
    },
    {
      "cell_type": "markdown",
      "metadata": {
        "id": "VF9o_TMON3RX"
      },
      "source": [
        "## 1.2 Single Variable Systems\n",
        "\n"
      ]
    },
    {
      "cell_type": "markdown",
      "source": [
        "### 1.2.1 Theory"
      ],
      "metadata": {
        "id": "GH4lEwmg-7cd"
      }
    },
    {
      "cell_type": "markdown",
      "metadata": {
        "id": "zEloq5FAOEf7"
      },
      "source": [
        "**Model equation :** <br><br> $f_{w,b}(x) \\ \\ =w.X + b \\ \\ \\ $ <br>\n",
        "$\\ \\ \\ \\ \\ \\ \\ \\hat{y}^{(i)} \\   = \\ w.X^{(i)} + b $"
      ]
    },
    {
      "cell_type": "markdown",
      "metadata": {
        "id": "LtW5aRP8PkdB"
      },
      "source": [
        "**Cost Function:** <br><br>\n",
        "$J_{(w,b)} \\ = \\ \\frac{1}{2m} \\ \\sum_{i=1}^m(\\hat{y}^{(i)} \\ - \\ y^{(i)})^2$ <br>\n",
        "To get the best fit line ,  (w,b) for minimum  $\\ J_{(w,b)} \\ $ should be obtained."
      ]
    },
    {
      "cell_type": "markdown",
      "metadata": {
        "id": "XcIMwxNoRauc"
      },
      "source": [
        "**Gradient descent algorythm :** <br> <br>\n",
        "\n",
        "\n",
        "\n",
        "```\n",
        "initial random w,b\n",
        "learning rate alpha\n",
        "\n",
        "@Loop untill converges\n",
        "temp_w = w - alpha * dj_dw\n",
        "temp_b = b - alpha * dj_db\n",
        "w,b    = temp_w,temp_b\n",
        "\n",
        "break : if J reached its minimum value (~1% variation)\n",
        "\n",
        "```\n",
        "\n",
        "where, <br>\n",
        "\n",
        "dj_dw = $ \\frac{\\partial J_{(w,b)}}{\\partial w} \\ \\ \\ $ and $ \\ \\ \\ $ dj_db = $ \\frac{\\partial J_{(w,b)}}{\\partial b}$ <br> <br>\n",
        "\n",
        "$ \\frac{\\partial J_{(w,b)}}{\\partial w} \\ \\ \\  = \\ \\frac{1}{m} \\ \\sum_{i=1}^m(\\hat{y}^{(i)} \\ - \\ y^{(i)}).X^{(i)} ------------(A)$ <br> <br>\n",
        "\n",
        "$ \\frac{\\partial J_{(w,b)}}{\\partial w} \\ \\ \\  = \\ \\frac{1}{m} \\ \\sum_{i=1}^m(\\hat{y}^{(i)} \\ - \\ y^{(i)}) --------------(B)$\n"
      ]
    },
    {
      "cell_type": "markdown",
      "metadata": {
        "id": "1i56CUIsUE3P"
      },
      "source": [
        "**Code**"
      ]
    },
    {
      "cell_type": "markdown",
      "metadata": {
        "id": "NUaQfyTgVApA"
      },
      "source": [
        "### 1.2.2 Example 01 : Housing prices\n"
      ]
    },
    {
      "cell_type": "markdown",
      "source": [
        "\n",
        "\n",
        "| Size (1000 sqft)    | Price (1000s of dollars) |\n",
        "| -------------------| ------------------------ |\n",
        "| 1.0                 | 250                      |\n",
        "| 1.7                  | 300                      |\n",
        "| 2.0                  | 480                      |\n",
        "| 2.5                  | 430                      |\n",
        "|3.0 |630|\n",
        "|3.2| 730|"
      ],
      "metadata": {
        "id": "Ks64ZxdP_Fpd"
      }
    },
    {
      "cell_type": "code",
      "execution_count": 5,
      "metadata": {
        "id": "-Gzo_vL4VDYW"
      },
      "outputs": [],
      "source": [
        "#Linear regression for single variable\n",
        "\n",
        "#Import Required Libraries\n",
        "import numpy as np\n",
        "import math\n",
        "import matplotlib.pyplot as plt\n",
        "\n",
        "''' \n",
        "Update data as requred\n",
        "'''\n",
        "\n",
        "# Initialize Training Examples\n",
        "x_train = np.array([1.0, 1.7, 2.0, 2.5, 3.0, 3.2])\n",
        "y_train = np.array([250, 300, 480,  430,   630, 730])\n",
        "\n",
        "# Initial conditions for gradient descent\n",
        "learning_rate = 0.01\n",
        "initial_w = 1000\n",
        "initial_b = 1000\n",
        "number_of_iterations = 250000\n",
        "\n",
        "# Breaks when dw_dj and dw_db < learning_rate*convergence_factor     \n",
        "# Better to use smaller values\n",
        "convergence_factor = 0.001\n",
        "\n",
        "\n",
        "\n",
        "\n",
        "''' \n",
        "Do not change below\n",
        "'''\n",
        "\n",
        "\n",
        "# ~Data Extraction~\n",
        "\n",
        "# Sample size (m)\n",
        "m = x_train.shape[0]\n",
        "\n",
        "\n",
        "'''\n",
        "Cost Function\n",
        "Input  : x_train , y_train , w_value , b_value ,m value\n",
        "Output : Relevent cost\n",
        "'''\n",
        "def cost_function_for_single_variable(x,y,w,b,m):\n",
        "  # y_hat = w*x[i] + b\n",
        "  # y = y[i]\n",
        "  # Temp variable to store the calculated data\n",
        "\n",
        "  cost_holder = 0 \n",
        "\n",
        "  for i in range(m):\n",
        "    cost_holder += (w*x[i] + b - y[i])**2\n",
        "  \n",
        "  #Avoid zero devison\n",
        "  if cost_holder == 0:\n",
        "     cost_holder =0\n",
        "  else:\n",
        "    cost_holder = cost_holder/(2*m) \n",
        "\n",
        "  # Return the cost\n",
        "  return cost_holder \n",
        "\n",
        "\n",
        "'''\n",
        "Gradient Values\n",
        "Input  : x_train , y_train , w_value , b_value ,m value\n",
        "Output : (dj_dw,dj_db) for given (w,b)\n",
        "'''\n",
        "\n",
        "def calculate_gradient(x,y,w,b,m):\n",
        "\n",
        "  # Temp Data holders for two returns\n",
        "  temp_dj_dw = 0\n",
        "  temp_dj_db = 0\n",
        "\n",
        "  # Loop for m times (i=0 to i = m-1)\n",
        "  for i in range(m):\n",
        "\n",
        "    # Calculate dj_dw and sum According to the equation (A)\n",
        "    temp_dj_dw += (w*x[i] + b - y[i])*x[i]\n",
        "\n",
        "    # Calculate dj_db and sum According to the equation (B)\n",
        "    temp_dj_db += w*x[i] + b - y[i]\n",
        "  \n",
        "  # Finalize the calculaion\n",
        "  if(m != 0):\n",
        "    temp_dj_dw = temp_dj_dw/m\n",
        "    temp_dj_db = temp_dj_db/m\n",
        "  else:\n",
        "    temp_dj_dw = 0\n",
        "    temp_dj_db = 0\n",
        "  \n",
        "  # return the gradients for (w,b)\n",
        "  return temp_dj_dw,temp_dj_db\n",
        "\n",
        "\n",
        "'''\n",
        "Gradient Descent\n",
        "Input  : x_train , y_train , w_initial , b_initial ,m value,learning_rate, number of iterations\n",
        "Output : Best fit w,b,J_log,Parameter_log\n",
        "'''\n",
        "\n",
        "def gradient_descent():\n",
        "  # Load the data & conditions to the function \n",
        "  global x_train,y_train,initial_w,initial_b,m,learning_rate,number_of_iterations\n",
        "\n",
        "  # Store calculated J \n",
        "  J_log = []\n",
        "\n",
        "  # Store [w,b] for each J\n",
        "  Parameter_log = []\n",
        "  \n",
        "  #Store temp w,b\n",
        "  w  = initial_w\n",
        "  b  = initial_b\n",
        "\n",
        "  # Loop for given iterations \n",
        "  for i in range(number_of_iterations):\n",
        "\n",
        "    # Calculate gradients for w,b\n",
        "    dj_dw,dj_db = calculate_gradient(x_train,y_train,w,b,m)\n",
        "\n",
        "    #Gradient descent algorythm\n",
        "    w -= learning_rate*dj_dw\n",
        "    b -= learning_rate*dj_db\n",
        "\n",
        "    # Update Logs\n",
        "    if i<10000:\n",
        "      J_log.append(cost_function_for_single_variable(x_train,y_train,w,b,m))\n",
        "      Parameter_log.append([w,b])\n",
        "\n",
        "    # For the stability half the samples for every 10000 iterations\n",
        "    elif i % 10000 == 0:\n",
        "      J_log = J_log[::2]\n",
        "      Parameter_log = Parameter_log[::2]\n",
        "\n",
        "    # Breaking when converged\n",
        "    if dj_dw < learning_rate*convergence_factor and dj_db < learning_rate*convergence_factor:\n",
        "      print(i)\n",
        "      break\n",
        "\n",
        "    \n",
        "  return w,b,J_log,Parameter_log\n"
      ]
    },
    {
      "cell_type": "markdown",
      "metadata": {
        "id": "gXAk-NAsXp9K"
      },
      "source": [
        " Code Explanations\n",
        "\n",
        "*   Uses numpy , matplotlib and math libraries\n",
        "*   X and Y datasets are vectoriezed using numpy.array\n",
        "*   x_train.shape returns a tuple (rows,columns).So need to get the row value by using x_train.shape[0] ~ As in the example it returns (6,) => 6 \n",
        "*   List item\n",
        "\n",
        "\n",
        "\n",
        "\n",
        "\n",
        "\n"
      ]
    },
    {
      "cell_type": "markdown",
      "metadata": {
        "id": "CYZg21cTcb1g"
      },
      "source": [
        "### 1.2.3 **Data Extractions** <br>\n",
        "1. Calculating the cost for a given (w,b)\n"
      ]
    },
    {
      "cell_type": "code",
      "execution_count": 6,
      "metadata": {
        "colab": {
          "base_uri": "https://localhost:8080/"
        },
        "id": "Mm99PSJacpbY",
        "outputId": "072067a1-6d01-4a9b-a952-7be282e657bb"
      },
      "outputs": [
        {
          "output_type": "stream",
          "name": "stdout",
          "text": [
            "9366.666666666666\n"
          ]
        }
      ],
      "source": [
        "#Calculate Cost for given w=200 and b = -100\n",
        "w= 200 \n",
        "b=-100\n",
        "cost_Value = cost_function_for_single_variable(x_train,y_train,w, b ,m)\n",
        "print(cost_Value)"
      ]
    },
    {
      "cell_type": "markdown",
      "metadata": {
        "id": "jfhX9AMvdcXK"
      },
      "source": [
        "2. Data Plotting the Cost Value Destribution (~Scatter)\n",
        "\n",
        "\n"
      ]
    },
    {
      "cell_type": "code",
      "execution_count": 7,
      "metadata": {
        "colab": {
          "base_uri": "https://localhost:8080/",
          "height": 409
        },
        "id": "hv77DGbLdq1m",
        "outputId": "905bb15e-62af-4bbb-eee5-99fca18e107f"
      },
      "outputs": [
        {
          "output_type": "display_data",
          "data": {
            "text/plain": [
              "<Figure size 640x480 with 1 Axes>"
            ],
            "image/png": "[encoded data removed]"
          },
          "metadata": {}
        }
      ],
      "source": [
        "#Define Limits {X:w, Y:b, Z:J}\n",
        "w_min = -500\n",
        "w_max = 500\n",
        "\n",
        "b_min = -100\n",
        "b_max = 100\n",
        "\n",
        "# Use Larger for a fine Values\n",
        "Sample_count = 10000 ; \n",
        "\n",
        "# Sampling the 3d space\n",
        "W_set = np.random.randint(w_min,w_max,(Sample_count,))\n",
        "b_set = np.random.randint(b_min,b_max,(Sample_count,))\n",
        "J_set = np.zeros(Sample_count)\n",
        "\n",
        "# Calculating the Cost for each (w,b)\n",
        "for i in range(Sample_count):\n",
        "  J_set[i] = cost_function_for_single_variable(x_train,y_train,W_set[i], b_set[i] ,m)\n",
        "\n",
        "\n",
        "# Visualization of the cost destribution ~ 3D scatter \n",
        "\n",
        "from mpl_toolkits import mplot3d\n",
        "ax = plt.axes(projection = \"3d\")\n",
        "\n",
        "ax.scatter(W_set,b_set,J_set)\n",
        "plt.show()\n",
        "\n",
        "#Get the minimum valued element id \n",
        "minElementID = int(np.where(J_set == np.amin(J_set))[0])\n",
        "\n",
        "print(\" The minimum vaue for the cost function is {} \\n The best fit (w,b)      : ( {} , {}) \\n Actual values for given : (209,2.4))\".format(J_set[minElementID],W_set[minElementID],b_set[minElementID]))\n"
      ]
    },
    {
      "cell_type": "code",
      "execution_count": 8,
      "metadata": {
        "colab": {
          "base_uri": "https://localhost:8080/",
          "height": 594
        },
        "id": "8TgRru8Gw7Hq",
        "outputId": "6feb8d27-1887-43bb-bc90-f866aa32b5e1"
      },
      "outputs": [
        {
          "output_type": "stream",
          "name": "stdout",
          "text": [
            " The minimum vaue for the cost function is 1737.4933333333327 \n",
            " The best fit (w,b)      : ( 208 , 4) \n",
            " Actual values for given : (209,2.4))\n"
          ]
        },
        {
          "output_type": "display_data",
          "data": {
            "text/html": [
              "<html>\n",
              "<head><meta charset=\"utf-8\" /></head>\n",
              "<body>\n",
              "    <div>            <script src=\"https://cdnjs.cloudflare.com/ajax/libs/mathjax/2.7.5/MathJax.js?config=TeX-AMS-MML_SVG\"></script><script type=\"text/javascript\">if (window.MathJax && window.MathJax.Hub && window.MathJax.Hub.Config) {window.MathJax.Hub.Config({SVG: {font: \"STIX-Web\"}});}</script>                <script type=\"text/javascript\">window.PlotlyConfig = {MathJaxConfig: 'local'};</script>\n",
              "        <script src=\"https://cdn.plot.ly/plotly-2.18.2.min.js\"></script>                <div id=\"34e926e3-442d-410a-9779-221a58bdb915\" class=\"plotly-graph-div\" style=\"height:525px; width:100%;\"></div>            <script type=\"text/javascript\">                                    window.PLOTLYENV=window.PLOTLYENV || {};                                    if (document.getElementById(\"34e926e3-442d-410a-9779-221a58bdb915\")) {                    Plotly.newPlot(                        \"34e926e3-442d-410a-9779-221a58bdb915\",                        [{\"color\":\"black\",\"opacity\":0.8,\"x\":[497,87,-246,58,-84,204,145,221,46,269,181,-93,292,-218,-215,-18,-230,491,474,-221,-59,-199,344,-190,358,-422,-170,-36,-499,-239,-134,486,170,-62,-207,216,-320,282,-80,146,485,-18,-494,169,-14,424,-293,438,181,-330,110,-440,42,-185,-20,496,4,-234,199,490,216,25,-402,428,-470,203,-465,-99,203,206,200,-75,-369,140,-249,121,111,125,358,-246,413,269,496,374,-296,89,-18,-402,33,248,156,281,-401,-333,18,-405,424,466,-414,-229,-408,-363,-315,-34,106,339,291,-294,-472,73,353,-389,391,96,48,125,-264,-31,-158,396,210,-451,9,-146,154,481,461,40,-296,139,-28,307,-98,-252,167,-265,-260,361,498,451,282,-403,-452,-83,-14,452,-13,-476,148,-403,-432,-186,407,-188,57,416,43,447,-23,341,-415,-491,161,405,363,494,-411,-182,-444,-394,-373,-331,142,305,157,19,273,-339,373,451,4,-175,-303,-127,-411,428,448,182,124,442,-54,-130,40,335,160,90,-376,372,-176,-328,381,332,-197,241,2,-296,317,272,-168,-314,272,-71,135,45,256,27,-351,290,-400,-56,-291,-230,-414,121,440,435,-397,-385,-304,-128,424,452,68,-311,82,-175,-247,203,-449,-335,138,392,330,463,-211,482,-379,166,266,233,-36,498,-415,303,170,268,-410,11,413,340,74,-342,-106,491,292,-37,275,-401,-318,-485,-395,482,-260,-177,280,27,-94,499,3,174,-386,153,142,438,442,-481,366,356,-233,86,97,46,-246,302,-254,154,178,-475,-383,297,-210,-230,331,119,-282,-477,-309,293,293,-467,-450,439,-149,-458,-325,-344,-421,-192,-288,118,-353,175,-20,447,237,419,-138,-407,279,-152,-245,79,416,-353,-232,210,-38,484,-228,310,-111,-79,-77,-472,-340,-402,-408,447,105,-165,-191,262,15,317,-330,-70,494,228,308,-255,401,87,-21,77,49,-407,304,279,189,57,302,-143,-370,-330,-38,460,387,-198,441,-228,354,371,-3,-105,-462,-338,-4,134,231,-196,168,-331,249,315,-278,434,375,104,413,-485,482,379,62,479,-432,360,418,-118,-76,83,-372,-83,134,-297,-34,-500,-43,326,486,341,-178,256,-113,207,30,-250,182,35,368,-167,-420,318,357,226,-416,-444,-233,78,104,-259,-133,-346,129,418,-328,-281,203,402,-102,485,-404,194,-164,-500,95,-115,392,-167,225,291,445,106,-70,108,-303,-399,3,62,125,-213,334,265,-449,2,-153,-268,205,462,-113,-218,212,-309,-44,-500,-461,-393,-225,314,223,453,410,-184,288,367,-48,-351,-275,-343,-141,-88,193,337,330,150,50,-209,-121,86,-322,446,-399,-308,310,-337,-415,-306,-36,-450,-264,-356,-31,383,-221,298,-400,345,-335,104,-35,320,-362,-411,-339,-211,-403,-221,202,-64,-302,295,-437,-185,-271,-111,200,336,31,172,-340,308,-82,434,25,40,225,267,-311,-247,193,-372,91,-457,-3,-253,162,488,11,122,493,470,118,-308,-256,357,-352,-121,310,171,257,-408,180,489,-129,-476,240,111,85,-129,229,-5,11,339,-271,-189,-236,381,-483,-413,-33,386,-435,185,-84,63,300,306,-326,-370,-342,-232,-162,-296,-397,-275,7,388,350,394,-444,406,-3,-287,156,-104,-215,-173,185,455,442,312,204,-223,-331,-147,-32,-140,-133,98,453,-7,453,-56,-23,156,-173,-144,-18,-348,-372,74,-160,78,-495,-398,120,400,320,83,19,-428,-288,-480,110,84,-307,99,366,-492,-50,-447,-329,-257,-298,-148,135,137,-260,397,68,51,66,220,391,420,-284,-459,307,-251,491,-166,329,-126,-246,51,-458,-462,-430,349,213,-28,137,-33,437,280,-272,-385,228,-82,-75,-208,-289,450,-185,-435,-99,-61,-465,-199,180,86,-211,42,-244,434,-86,-404,295,328,246,-500,91,259,-110,-294,219,347,407,-306,-189,-109,496,-81,213,39,252,361,-182,-101,-101,307,-82,451,300,-427,-430,426,-489,-87,-343,-178,90,61,221,351,432,316,458,327,-425,-82,-399,452,349,308,5,175,213,353,330,479,-452,-69,397,61,211,207,83,144,-288,305,273,54,345,-417,-395,-226,74,391,204,-21,-327,78,222,-185,-251,293,147,-232,-312,-397,337,453,179,-100,-376,342,-208,-437,335,-313,-249,50,287,404,105,-500,-51,38,328,255,-316,-344,233,-490,413,119,-325,-308,394,209,162,218,81,309,-229,134,466,37,-260,422,283,100,40,-356,-494,456,-352,-248,-387,-320,-154,125,-21,470,476,184,184,-355,352,153,-421,433,120,-115,-387,-435,-44,385,251,-36,-364,165,-327,116,-390,170,-16,-285,249,136,29,-219,-443,421,-134,-299,129,48,-7,392,140,-174,275,137,473,139,-321,-409,-179,-233,493,-13,205,-400,468,187,354,-223,356,274,-65,256,192,222,374,72,398,38,-327,285,-20,-281,-321,-464,-435,-486,-35,-36,-331,-393,-50,-230,59,-8,-453,-139,123,366,78,-158,253,-63,12,249,-160,144,272,-279,-5,277,-130,144,-421,286,14,128,214,-429,254,35,-135,414,-474,-66,-423,374,411,-7,170,293,-254,-250,228,421,7,211,106,185,-45,35,222,227,-89,-297,-229,139,-362,158,-186,493,-298,-301,32,-59,96,-437,-198,-141,398,-467,154,-3,134,-134,-276,-188,77,446,-246,-9,449,-57,490,-103,43,-489,-470,402,395,151,324,-458,239,205,-294,297,22,249,-256,-311,-427,212,-96,332,97,-428,-90,-307,307,284,-422,-120,38,434,291,-11,-309,21,-386,-282,-498,233,-256,252,137,-411,-68,-403,21,335,462,136,-317,-239,-206,-190,127,85,-266,226,-330,-469,218,-89,127,452,-370,400,262,180,-1,497,-92,392,428,-221,127,-388,-500,12,341,486,-260,-380,-157,-289,402,7,-178,-179,370,234,-119,-56,53,-371,-323,432,414,458,59,-329,-378,359,-197,21,-190,200,112,273,-435,1,356,64,-149,383,-238,-360,-471,477,283,257,-154,86,166,180,346,337,-488,185,-289,268,-132,-306,-91,128,-227,-472,-448,-157,356,434,393,-397,297,172,16,432,194,-486,271,-193,-247,-1,408,-382,309,195,157,-245,244,-152,-46,317,-36,251,-321,39,169,94,75,87,-179,214,233,56,-359,-20,468,201,292,-486,-198,-27,-135,495,-215,317,-76,145,-468,-438,-212,-127,-381,426,39,360,54,76,-180,-46,-492,-86,-283,-360,353,-26,399,-488,-367,421,-118,4,427,163,-407,-107,-215,-283,-225,-229,474,-228,377,89,238,309,-196,388,249,247,3,43,304,368,-28,437,415,438,-466,-212,193,-236,39,-201,-349,-473,64,252,150,-268,-16,-286,150,170,311,-365,180,-198,287,-82,-39,320,357,-199,345,-115,-170,253,272,-317,-8,-288,499,20,-186,-308,-217,-205,-95,-96,-174,214,285,73,-33,-368,-326,-264,18,-125,-464,330,172,270,246,304,-307,-232,121,260,140,-369,-167,356,292,-173,385,-112,-75,161,432,11,-300,-233,135,-421,-272,37,-188,434,235,243,-356,65,-130,-329,341,-277,-304,-365,-301,-149,-50,435,-325,-3,223,348,-434,463,-452,107,369,46,12,55,-154,-178,192,-41,41,84,-185,445,-303,313,287,258,187,-489,-265,-40,431,-347,-221,90,456,159,-297,-479,-110,359,357,-235,-210,250,-475,339,287,-446,83,264,3,237,122,233,267,-190,446,150,228,-237,190,111,317,148,467,317,-343,293,-213,-59,-147,392,-251,-182,-313,-354,-76,-6,-231,-364,51,321,207,-133,188,-29,321,356,-240,453,73,231,-485,-228,-485,442,53,-200,-459,438,-176,-404,-342,19,98,-250,-38,-56,-99,-104,447,196,450,-286,-463,386,-332,8,-439,249,189,-320,-255,-299,-19,412,94,495,-83,-64,-68,-373,-335,-457,365,402,-188,127,-292,335,-373,394,-146,-118,-446,-464,-456,454,77,-466,-374,131,-495,155,-93,-266,-69,-414,102,-15,80,199,-135,177,42,320,413,-81,366,113,369,185,187,461,-274,155,-353,241,-79,112,479,413,247,-305,-327,-106,30,70,328,305,360,305,441,-366,148,-97,394,75,-360,121,55,115,271,-78,-148,275,105,-241,-39,439,150,74,216,406,197,280,-229,432,-2,-165,436,165,-326,444,478,290,-341,62,-211,29,-200,-182,261,429,-12,-475,59,-385,258,213,270,410,-362,426,39,-266,401,-197,434,-52,78,243,-84,345,349,-206,329,-385,-2,16,-483,-82,488,409,125,-196,480,440,-300,88,424,-9,-415,-367,-427,377,458,-50,317,486,96,-352,-416,-139,303,-274,-319,190,392,-303,-73,-43,-209,-4,79,-270,-257,453,2,-336,-220,463,235,-174,421,402,-178,163,65,-215,-355,-448,463,-327,198,-496,-325,127,-119,381,470,-31,404,-383,-304,-51,-488,326,281,309,53,268,101,148,-495,-236,-412,-487,-221,-22,59,498,359,309,49,494,-270,339,436,40,-102,-142,-41,-21,144,134,-43,-470,-67,308,-119,-110,-310,301,-53,189,396,337,241,-72,-260,-269,366,-106,47,371,237,459,332,-113,-135,164,-345,-374,345,-408,-425,-24,-241,-165,35,39,-155,-467,150,-122,146,260,-147,197,-355,294,36,27,388,327,83,-435,147,-11,-485,79,-76,-304,-399,121,347,329,-130,379,-128,-318,-107,392,344,-311,360,-166,81,287,-109,270,40,185,26,-10,255,-195,425,348,-459,-29,104,174,-98,278,-430,-224,86,364,324,337,-262,-224,-53,-496,58,-86,194,244,-433,-116,283,-95,-13,222,400,-284,64,470,28,52,-131,61,319,328,486,301,348,-285,-248,-125,483,93,-271,-208,165,150,-131,-216,198,-382,194,-205,-391,-480,452,35,3,-321,397,-343,187,-30,137,302,356,241,428,52,-263,374,189,115,-160,2,270,-142,135,250,-160,447,-274,390,-138,-488,-376,-110,-310,433,484,387,-426,352,453,190,434,-35,-195,34,189,-319,266,-367,292,-456,360,-401,435,-350,-124,481,-322,-66,-220,-139,-150,493,-1,14,251,253,12,-210,-36,450,224,32,-225,422,361,-120,46,-73,-108,284,441,-236,231,286,-467,34,-267,-401,-13,-14,206,34,169,-95,375,262,419,430,-41,-176,-210,-108,260,-207,53,-47,187,107,296,66,-279,-220,-341,493,315,-363,-42,-197,465,471,61,-73,-189,38,-161,107,274,30,407,140,-109,-459,-256,-190,-356,-146,323,179,-402,29,-178,-21,467,-371,135,-368,-233,0,387,-400,-54,-160,-2,453,447,-159,-269,-436,-171,-426,181,-469,104,-419,-312,375,-23,188,-25,-240,473,-470,210,255,-47,417,35,468,-87,483,-15,-398,-319,447,-126,415,-418,273,352,343,-64,-487,-450,427,305,353,300,-45,101,482,-403,135,218,495,-73,30,-10,254,-456,-158,415,-82,493,447,-323,-455,-336,235,169,224,119,487,-337,366,-199,-430,-359,290,429,-67,309,188,455,-288,-162,214,33,278,-374,-220,-398,470,-233,-286,38,-454,158,484,-310,212,-195,-121,-40,415,-29,224,232,320,-357,239,340,15,-82,-77,-254,-5,121,120,383,463,-396,-1,-355,-135,97,-422,-394,-270,-493,-253,-415,273,-12,278,-300,382,-322,-88,103,-138,333,-318,434,215,409,50,454,-210,262,19,-249,-175,-301,7,351,18,455,18,439,209,341,-241,77,-422,-292,4,-147,-464,-77,-233,-178,284,108,-273,224,-337,167,487,-170,-373,369,-151,262,254,-181,236,444,-353,-454,9,309,-373,150,30,149,-313,-82,288,-464,220,374,2,347,203,-148,345,-424,110,-128,-2,238,488,-26,-40,341,-195,-335,-86,158,-235,-2,-488,161,194,-16,4,-334,-161,-465,-434,270,418,-65,374,-58,384,231,-11,4,412,9,-117,-423,374,381,-337,-56,182,-229,14,-207,377,-471,-415,-338,-490,252,149,-414,-70,-365,-215,-401,-135,444,215,408,92,338,-322,-278,-187,-312,54,-464,-245,-38,-117,93,253,-479,118,-48,21,-105,-361,-483,-221,287,-286,-357,233,342,104,-133,-22,-488,-374,-114,-245,-109,-100,386,-164,-327,56,132,-255,-53,-258,216,370,-332,-123,-489,27,-108,-63,-459,-41,-190,398,439,-351,-303,-53,23,421,-95,-461,-106,-105,-66,38,-22,359,-232,-88,-220,51,-74,256,-492,-362,73,62,304,-470,-278,-347,-105,449,-337,-480,116,202,-72,402,-329,225,8,-247,-405,227,-466,240,-246,-267,83,100,446,-173,355,-284,-162,-329,-407,-291,247,54,-150,443,-5,196,-478,-290,-161,349,139,70,412,255,-83,-163,423,52,-27,257,-38,-368,483,177,-487,355,-302,-407,134,-125,-146,-207,19,-48,-467,442,288,254,-311,-296,216,-443,-91,356,-451,310,-228,198,-300,457,-335,354,-159,33,-76,-109,-477,421,-307,340,190,-296,-238,-431,-127,-490,335,54,138,119,481,6,-387,-191,-360,-172,-289,-125,341,452,380,-399,287,338,88,112,-450,-164,-106,-357,-356,-469,-400,142,-34,194,119,-364,-307,407,304,-252,-127,-227,-157,489,127,338,-282,63,-420,-132,-61,196,378,48,-353,-405,449,139,58,-384,-78,204,-119,-418,219,9,-226,-46,-276,-77,142,406,-452,398,110,-440,296,131,-287,100,-234,-96,447,284,359,-98,120,-440,195,277,51,-190,257,-408,362,143,256,259,-266,-343,348,4,-96,490,369,-445,426,228,-300,337,-219,352,268,-336,-345,23,-155,-279,323,-461,405,-344,-386,-478,343,-187,32,-247,326,114,278,-351,270,70,-39,425,-379,-343,-437,82,-383,450,-254,416,288,-327,-179,-327,-391,423,432,306,-186,453,296,-193,401,-275,410,463,417,-194,-202,303,428,-461,232,-327,-46,441,-21,270,182,-422,248,-444,-339,438,137,152,154,295,0,-23,-372,246,-348,-492,-272,-335,-320,440,390,-7,226,109,121,-66,117,-364,414,421,439,-60,100,421,-194,212,91,62,34,-123,382,22,-79,-355,422,-113,386,-388,-89,256,403,109,213,-408,-427,-273,-90,-38,423,11,425,74,171,-357,87,82,-484,-210,-320,404,-342,-179,-427,72,-348,-154,451,469,-3,210,-226,-343,452,191,79,-58,-250,-377,-56,447,-172,-485,-405,-453,-187,-3,-33,160,427,369,249,-452,-227,392,331,380,34,-125,-469,-338,-432,92,-488,195,-3,177,-140,-305,-388,211,-391,184,290,425,262,28,-306,-4,231,-293,114,271,317,-459,297,-168,-119,441,-422,202,138,289,-349,-425,281,-442,180,-48,-203,119,-295,198,29,-321,-178,-433,-108,-367,448,364,-267,-58,388,-207,64,476,349,269,417,427,393,-325,-444,-27,443,445,213,-238,413,198,419,-251,315,-373,-380,-210,286,-85,-289,456,84,-229,67,340,-380,-275,-217,-455,130,350,413,-496,454,248,-188,331,8,-372,85,-381,-445,-492,437,271,16,495,-146,-243,-10,-313,-203,-448,-391,-466,-402,420,-261,4,163,-31,-335,-394,302,-301,-490,-346,224,-28,223,-368,362,317,179,488,167,401,109,-357,86,250,-326,-174,-377,-332,-379,-290,-391,100,-298,-324,123,498,330,-164,373,-30,-415,475,169,329,-313,16,-333,-108,-57,445,-197,273,-267,33,-237,-113,259,-295,439,-320,-153,206,-473,197,-233,368,218,-40,31,37,-349,42,374,-465,-296,-121,-154,369,15,-367,492,-454,-417,78,-377,-370,283,-145,-79,-483,243,141,-195,-441,-43,-442,409,217,446,271,-9,246,455,333,-431,99,-487,11,-270,328,-251,276,-289,-48,-107,27,-278,25,-165,62,497,-428,283,-75,197,412,-375,176,-438,-321,-21,-193,433,170,-243,-439,96,142,-411,-274,124,17,-417,498,247,160,22,-299,356,234,255,-425,-23,-131,285,158,452,104,-456,209,116,315,-178,364,198,135,403,-304,383,209,-149,-192,373,232,236,-114,-458,-477,148,-29,-499,483,-237,-203,345,-207,-294,-273,-44,-34,-14,-369,481,52,-55,170,-452,-431,-173,-301,95,237,-174,246,-106,58,-219,-48,-470,216,412,-6,345,-336,300,-488,388,-389,-113,-174,337,484,33,-469,16,445,146,75,-271,229,148,-214,399,-264,372,-22,250,135,-295,379,-432,266,298,-332,277,243,-176,246,-195,-272,244,313,28,-290,-46,-483,479,365,-133,-262,304,-442,290,240,471,-471,-105,-202,249,-327,90,179,-20,407,253,365,-249,-493,-329,-312,266,318,356,-72,-114,372,478,-491,167,-413,380,44,-203,450,-132,-53,-26,-331,-319,-123,-343,-322,-107,207,-21,111,-322,-432,-344,-42,485,-320,371,-53,-188,233,447,482,-439,260,-148,145,-20,186,-334,-304,-336,78,-211,-30,293,-101,185,-416,-355,252,223,-345,-152,-424,61,393,-118,358,-310,136,-89,98,-408,-255,-239,455,143,-187,335,-22,-423,-101,18,-10,-300,473,349,307,-372,-125,-413,453,172,418,-195,-131,103,-287,136,-299,-260,-139,23,219,273,371,487,-180,-263,98,-225,494,-230,306,-348,279,184,439,-89,-410,-86,372,-485,179,-182,34,454,-284,-482,276,-336,-396,-493,-185,336,495,-411,-471,120,237,128,462,255,-159,303,-481,-205,-456,-28,457,91,-178,-108,-84,-348,-395,362,-329,259,-476,375,-340,76,-280,-348,379,177,283,133,424,199,303,-455,-358,-81,-163,-376,373,38,58,-142,316,-257,-241,249,-326,-396,275,-457,-235,129,56,-77,124,377,253,383,261,115,62,-253,298,445,362,497,230,-219,285,127,-252,467,-51,202,-340,-290,236,-271,470,15,151,-307,-495,300,56,-222,-259,282,-378,-487,375,434,-477,-480,-54,-205,-259,-356,-415,-168,-67,-103,-98,295,-165,-98,-270,174,462,318,219,85,-437,-437,258,257,-369,3,-266,-373,-449,-5,-189,353,-133,-299,-311,128,371,492,361,126,-180,23,-64,-441,381,167,435,59,45,215,-498,-317,221,-13,-83,467,-224,166,-462,15,308,-256,485,-70,351,-448,-282,155,229,-200,-489,-213,337,-465,-261,-69,-5,439,-435,396,-193,-308,127,-66,-483,312,174,-395,50,148,469,380,-473,-81,-255,-211,156,316,-187,-40,-267,250,-368,-127,7,-309,-299,168,382,-75,298,174,358,-93,-94,79,261,309,-236,488,221,217,-143,416,138,258,343,370,-182,306,63,-303,249,441,-389,252,-465,448,-85,475,-333,62,-305,442,57,-130,8,-473,59,-201,386,438,256,304,-433,136,31,-57,275,-402,183,248,-260,224,-492,161,-183,338,19,174,-236,-369,-296,-311,442,72,473,133,-438,491,-71,-464,-119,496,-67,-372,-178,-33,225,474,-285,371,344,491,338,-109,362,151,404,-121,328,-201,44,362,268,-239,469,242,-462,-291,175,-263,-254,401,-161,199,-420,28,232,-416,-210,239,73,273,-50,102,-353,-277,483,130,180,-77,-270,-112,-288,164,346,-140,287,-316,119,-468,414,-28,-481,-47,265,448,-225,-482,115,55,-347,38,-450,484,262,-201,347,-107,-82,-4,288,-121,-33,-41,-12,-187,-227,-479,-360,-261,-425,429,15,-84,129,-400,-89,-450,97,-71,13,84,211,190,-120,296,-61,207,-336,-71,-52,152,259,404,-477,49,252,-275,449,249,273,404,-262,235,22,418,-409,122,-439,-69,-390,47,96,-268,360,-353,-475,382,360,-305,-26,-464,-278,55,416,58,8,271,296,127,-314,-55,-92,-346,-212,-421,-86,442,-120,-224,88,389,121,386,-369,-374,416,265,-449,-292,-363,485,-444,281,482,102,58,407,236,371,-96,-143,128,-351,-280,-400,351,-338,214,-229,433,221,-472,-393,-149,-147,494,-59,-299,352,308,168,-150,20,-151,-80,233,-372,11,-389,-164,82,426,-248,403,344,318,430,435,336,483,-462,477,-22,-468,-218,-206,114,169,148,474,-38,437,-497,-128,-170,-421,-144,-470,-138,-489,168,111,357,-64,51,257,35,-85,-203,-357,176,-68,336,-320,444,297,275,-452,-428,-195,471,359,368,-216,-236,-113,-204,15,80,-106,-342,-188,-473,-73,-359,378,208,-225,-418,490,-108,229,65,182,-354,-39,3,456,307,4,192,-27,-374,65,-305,-458,164,-172,-159,208,-417,245,-298,474,-381,-182,59,-439,-306,227,419,-435,372,-415,165,-372,-305,-252,-54,-142,-176,-333,99,35,258,92,-113,249,34,-32,-406,-262,32,-15,351,47,102,114,-39,-408,-122,-161,393,-179,-201,-139,-154,81,-160,-274,-78,-372,-95,-338,-382,-244,130,-497,219,48,374,-390,65,27,-492,46,234,-15,178,-266,-264,-403,151,-91,362,72,263,-433,-405,-381,-252,-179,-192,373,373,-232,-250,-104,-446,-468,-143,-268,-44,126,96,-61,-276,378,-218,-161,30,185,121,491,-6,342,230,-45,396,-400,-286,-420,304,-462,-331,258,123,130,393,427,202,-45,273,278,371,65,-469,389,498,-480,-106,382,-198,248,56,-113,182,-156,-402,77,155,380,-294,102,50,211,-78,499,33,-402,-447,409,343,-107,-132,-341,368,-151,-115,432,-113,190,-266,-482,-138,433,313,97,332,-353,-21,223,-292,496,168,-441,204,-157,307,334,-393,-229,275,-46,485,132,-490,-308,-407,-282,155,258,-111,-474,450,9,-407,-425,246,-292,405,256,-159,346,73,308,-113,167,112,39,353,491,304,474,231,-61,-240,-187,-422,462,-255,-432,-214,-366,175,362,467,-379,-243,-114,228,-52,280,6,-178,395,124,246,32,-7,251,-149,486,284,-63,427,127,271,283,-173,-155,-293,344,226,-446,-199,333,-256,-346,-168,-22,270,494,33,-74,-135,119,223,196,208,205,159,-148,265,-227,132,117,284,397,-278,-445,313,-274,159,495,-58,-298,-199,61,-400,-331,-458,98,256,-280,-121,495,-122,-357,-282,-147,-430,-180,167,-142,14,201,1,233,450,24,207,-9,-489,222,280,35,-292,-26,485,-47,-404,387,-401,445,249,-256,394,-148,255,436,-422,287,-344,-125,226,277,-287,182,-486,-308,-422,146,421,457,405,124,203,-369,-203,350,114,485,80,-258,-185,-148,-110,273,371,-54,-413,-106,70,117,188,-354,24,-293,315,196,412,256,-481,-125,46,357,-76,-343,-145,-80,171,289,492,-295,-60,295,-75,42,125,368,426,-321,-229,-135,-91,93,420,-138,416,301,41,-382,-91,235,-489,-44,303,277,-186,411,338,264,82,-27,-388,244,237,-31,-62,246,-310,-226,374,123,301,131,49,447,-309,73,210,-23,-203,-257,280,-39,378,-42,-24,-90,431,26,-241,-120,448,-30,156,56,-200,210,441,320,-293,168,-8,479,-120,-361,238,-385,-300,497,263,232,-291,345,233,194,-242,378,460,413,109,-435,-325,-33,188,428,225,-192,-260,-57,1,-387,-149,-436,-393,-340,-213,-351,-385,397,83,-166,-92,-363,315,128,-204,384,159,-439,-87,-179,-110,-4,-176,388,-114,-398,414,93,-199,-264,-97,-173,70,-445,275,278,-250,-17,356,-164,248,8,148,-381,-217,-405,487,105,134,-392,-465,403,452,-296,-213,9,0,292,361,-318,329,360,-498,-314,111,272,-121,194,335,-359,-123,-423,476,25,-112,8,-284,368,-466,176,-173,-194,453,361,-299,-452,-215,418,-167,-440,-136,-33,-303,-84,18,217,-491,188,-38,-269,-312,-162,67,-7,-16,16,-204,-224,-340,229,-361,68,447,100,-420,-198,-223,468,-336,-238,-336,287,386,-144,339,51,363,356,452,445,489,-348,439,-373,162,490,-236,402,72,68,-346,-370,-262,-305,-27,-394,-359,-132,-177,172,-152,171,-242,-298,24,-446,-465,-218,116,63,74,-74,397,-255,-296,141,-117,-282,408,-156,251,372,-314,-288,-249,56,-226,372,-43,109,-310,-264,447,485,51,-439,-166,-498,230,-137,-110,356,368,409,-443,177,-138,-246,-272,244,-168,-431,-303,-277,133,-73,385,423,147,415,1,361,64,96,295,77,479,-164,234,183,451,209,132,80,64,-235,285,207,-150,48,379,446,-319,327,466,-455,-328,-197,311,156,-391,444,-141,-179,480,-141,-97,450,328,244,354,-135,30,-287,-500,-81,-114,419,105,-189,-209,-180,72,186,-233,-149,315,292,-463,-166,-461,-376,-430,-167,-493,338,-246,-159,264,203,-46,-476,87,300,399,229,402,-198,13,475,-367,-368,-445,241,280,69,190,-219,-346,-293,-446,36,207,-131,455,-438,-240,-232,-9,321,-156,-88,219,-461,-376,448,-256,121,210,394,139,-434,-492,-343,240,-60,452,-263,104,445,-74,-177,-378,127,-128,-28,-416,305,257,-159,26,116,373,253,-246,425,351,288,378,87,-492,-384,-123,2,329,-114,499,408,-157,-459,405,0,-376,-104,-409,26,181,304,-414,230,-336,65,-450,-255,-357,498,240,-186,-98,-235,291,345,26,-473,243,410,418,294,-389,-20,-118,300,-487,-323,-383,-342,479,361,491,446,-410,362,-318,-64,324,393,392,5,465,283,-400,-192,389,-374,287,-417,-393,-488,325,-387,-189,454,-47,-184,-346,346,-425,-468,351,177,352,93,-156,-164,250,-451,-99,-218,117,329,-355,-478,47,168,-232,-446,-67,-106,-44,488,61,-132,-154,-19,357,-408,430,336,16,279,217,-442,385,-483,-190,315,281,198,107,457,87,-81,424,0,420,75,-123,235,365,-489,-109,456,-177,-89,-233,-165,-131,-55,-167,-372,-233,-463,-217,302,-223,229,-211,345,76,404,362,-287,-134,401,-202,-176,-198,-409,-428,472,226,-166,331,265,-353,-355,-453,411,1,9,460,356,385,46,248,-170,141,-189,370,326,-105,-239,211,-437,351,341,-131,-462,396,-272,331,-158,-334,-493,78,-186,194,-424,478,19,383,169,-360,41,-293,12,52,165,41,212,-399,428,465,-452,307,169,478,473,470,291,-416,394,-421,296,-117,1,98,296,22,288,-356,-416,-160,-165,15,326,-388,384,478,-67,203,-39,226,-82,-353,-209,-168,57,-384,-68,-83,-421,391,103,-190,-372,366,492,-298,-125,89,103,-219,94,71,499,15,120,-486,356,201,354,-498,-17,302,-176,-304,366,90,-345,319,-394,-333,138,-345,280,-434,-311,-291,-76,192,-409,471,-90,384,-285,200,464,-48,415,-242,400,465,-376,-119,-153,338,-274,-342,-342,464,-435,-402,-460,472,110,-191,150,162,-53,486,432,-357,382,185,-62,-49,-199,289,470,-246,411,57,-489,-169,222,-100,402,-137,157,237,153,75,-448,417,227,201,249,-345,316,84,282,422,383,-353,-302,-108,-455,-425,195,104,-156,-253,404,-69,-476,270,-280,-330,447,-138,314,-129,15,-333,-473,58,398,-5,-43,229,-342,-145,-39,48,-271,-310,413,285,285,392,94,-390,-385,279,-107,464,-137,128,191,-486,187,399,312,-247,-431,263,-123,-470,148,-436,-204,-282,-135,-383,-279,299,74,398,-219,267,-480,-131,-219,153,-188,312,-351,-16,-80,-24,-377,-85,-296,389,-408,9,495,487,123,-262,-157,256,-437,172,27,-47,-240,238,212,-261,479,-207,93,-138,-63,194,-72,-482,52,-148,-138,-252,253,94,-134,291,494,-334,361,53,-21,-280,456,472,240,322,-232,-482,467,-157,-243,-52,-259,-406,-269,117,465,181,-387,462,-356,-91,-461,-118,494,228,99,-234,-490,137,427,-157,416,9,-459,-141,59,-218,-477,-18,-222,-38,-201,426,369,17,-54,469,-255,-261,104,59,-404,-414,484,-405,-478,46,-320,-271,217,-430,-268,70,-37,271,128,-401,290,383,411,10,77,-495,-457,139,335,176,369,418,340,87,-245,366,-446,117,-414,-118,88,-234,184,165,454,-459,172,186,453,201,-481,314,181,415,-189,-441,-190,-206,-378,-392,-262,344,355,56,418,-364,-342,-357,-363,-170,112,-217,429,-36,333,34,-205,-106,449,-65,-181,108,59,286,211,330,-33,-250,-12,-123,244,219,416,402,-68,269,-309,-80,-82,27,-489,181,387,252,-308,207,380,12,-291,-372,-387,-350,205,-417,364,-326,28,-350,133,-9,-111,363,423,346,470,209,-29,6,-468,-269,275,-339,224,257,-494,-424,-308,41,262,316,94,-54,-112,-170,-359,434,46,-233,20,105,430,-487,432,64,-274,-207,184,-77,255,-261,-343,-151,381,437,15,370,331,291,50,-109,-454,-484,-486,-277,-213,-243,-11,-369,-305,84,-445,431,123,-314,-392,465,185,338,-227,-20,-467,277,-42,-124,-344,-485,-456,-136,-262,-252,272,-494,262,-320,-53,462,468,-216,32,-262,-240,195,-319,344,-441,-3,25,-335,-160,-69,-10,141,-202,-263,391,-199,73,-422,-168,-351,438,-325,-283,-356,-445,-30,-331,-410,480,153,-258,-409,-322,-398,-158,91,303,157,203,487,469,104,-193,-210,301,335,-412,-211,333,284,251,-297,-91,-312,-167,402,94,-180,-27,485,-3,325,-237,-1,329,-481,248,399,488,83,334,50,166,348,-308,355,8,-266,-356,-122,453,-95,259,-176,-51,51,-4,151,284,245,-350,-474,181,23,-313,416,70,-48,245,-45,181,-186,-27,226,-251,477,135,-455,183,-218,438,-332,267,-499,-265,-212,138,355,-71,-419,-56,285,184,479,361,-406,-342,187,396,304,-299,-20,253,-145,31,-415,178,-180,379,-203,-240,-355,-294,-203,-46,183,236,436,-247,367,197,138,-300,-271,408,-484,-146,-487,-381,304,-274,-136,-493,-324,-204,322,-458,3,-123,-325,387,135,-131,424,133,-58,-280,173,-213,-278,-285,-126,-490,-260,-211,-351,-188,188,-88,-413,-402,-62,-361,-121,244,131,367,-249,446,-133,-224,-103,-286,200,-43,-274,-290,149,79,172,29,-140,-75,214,-436,-131,44,414,445,-348,-460,-350,-436,-98,-174,-90,116,26,338,-427,179,429,-360,-397,67,372,-102,136,-453,450,-409,256,0,-90,289,-75,-139,475,-115,-376,356,337,255,-275,458,-208,284,43,-18,183,-336,307,-174,163,-39,299,102,-329,-295,-125,184,62,287,-102,-19,-430,47,-299,3,497,-484,-455,-387,-84,413,-13,-349,67,36,97,397,-207,-276,115,6,460,-297,151,35,146,375,-499,-52,368,208,268,309,34,-275,217,7,228,-387,-118,-351,213,56,-305,-248,134,442,-477,449,-367,-193,371,-184,222,-164,355,-92,177,234,27,106,-431,-321,-493,286,307,329,-375,7,303,-309,-345,-224,496,-375,55,-329,-288,257,-348,-33,-246,-73,187,-319,-29,91,280,39,-260,-429,-50,453,459,-361,259,-144,-321,364,-376,433,-11,377,-218,-27,375,-83,478,-376,499,50,330,344,118,57,145,73,230,-128,-335,-217,-184,-222,434,488,-420,342,439,-357,243,403,316,103,-165,-144,-271,472,-45,292,372,-238,-302,-460,258,-328,109,477,330,-7,-213,144,99,225,-114,354,435,-178,-192,-136,-125,-467,-462,-283,-299,-452,139,158,-117,-334,-130,370,-464,187,209,208,-12,156,413,-179,-171,39,68,445,217,-145,306,211,-137,-274,-181,377,447,-450,-60,301,230,-356,-99,196,163,16,423,201,20,154,-106,-464,-149,-350,-219,-155,-269,423,311,-10,334,-194,-484,222,-203,-22,363,-140,-493,-45,489,-304,180,-27,-286,209,425,-2,216,288,305,40,93,-147,385,-285,482,422,488,352,-495,227,-270,-361,124,-166,-155,-402,-107,-224,210,77,86,176,-347,159,465,386,-229,178,274,82,86,202,-78,-29,-490,-352,293,36,21,-447,430,344,-310,-111,-74,334,-191,-289,-481,-179,-51,323,-173,190,344,165,-403,153,310,-128,285,-56,78,-407,-184,280,425,-55,364,-267,438,133,257,254,-235,-1,459,309,414,88,-361,423,63,32,-269,-336,11,-481,371,-274,93,321,187,87,-4,20,67,355,-118,-244,-3,-100,-144,-62,-195,25,-429,-15,9,20,450,-47,-193,359,-2,-83,144,472,400,-232,243,-273,41,-201,27,-385,423,496,52,466,-475,457,392,143,-462,-249,-66,-400,432,260,195,202,348,257,-320,312,116,249,-174,-142,-120,-389,466,356,-307,-417,159,-345,296,208,28,-196,91,-318,-426,94,-180,-66,-298,-126,-136,-53,-414,-477,158,-197,-255,-421,257,-161,355,-84,-448,-174,-330,-166,-233,-251,-342,-360,-109,447,460,304,-324,-107,-498,-391,-350,483,384,-310,434,-89,184,380,-490,181,-385,15,447,207,-2,180,405,-296,-255,-411,22,439,291,120,57,404,-463,81,-416,205,11,445,130,302,486,-295,-190,-87,425,-142,230,-164,-255,399,-129,429,-288,-491,-92,240,388,408,-433,390,381,343,97,-149,490,-222,92,-285,-181,-219,308,-232,-84,-183,-340,30,-315,60,389,226,-337,-154,-94,-410,456,87,-265,175,102,121,72,-373,-445,-450,-310,97,-48,-71,9,-202,-452,160,-415,-185,-414,-157,266,38,-359,471,320,-313,300,195,418,78,11,-283,-139,-413,442,-412,-238,380,-489,-151,407,320,314,-85,430,202,462,-250,-405,243,376,-215,218,-307,76,344,-271,189,-19,-124,117,-356,-165,352,266,185,26,387,442,-321,277,304,-62,397,135,239,-339,320,371,197,-55,-31,-270,15,232,-84,416,133,466,206,221,138,-271,52,354,125,491,-293,-77,350,-279,-481,499,-287,286,-171,487,-121,-31,-171,-403,266,325,448,-434,-48,245,184,365,282,474,-127,407,-293,176,-124,128,401,-418,337,484,480,-57,133,56,216,-91,-231,-97,173,-53,207,-435,-356,99,329,91,296,-10,-332,102,299,31,-74,-365,-290,196,-355,-230,332,461,-369,339,-156,-402,-342,90,-12,-312,-189,-19,-415,-408,356,313,481,-457,-62,-214,-407,324,-419,-477,323,56,240,487,-201,-433,-277,377,423,-211,-248,-86,-324,-9,66,373,200,-194,141,-225,-438,-47,-408,481,297,-202,-299,-420,-484,342,-84,-232,-307,-496,-226,-358,469,-280,-185,-31,239,-479,-82,67,459,-180,-397,-411,-179,-123,-295,363,168,126,-252,359,201,-270,-212,350,-272,57,-40,351,-459,-43,211,-452,-231,450,294,200,108,135,288,378,443,235,-463,-374,-139,335,9,418,-262,35,-370,233,-261,-157,-94,366,-62,369,-50,-38,-86,-242,-31,-91,-416,362,88,124,361,-261,339,264,-467,442,-30,-481,-164,251,-330,-319,387,-343,-435,104,-122,374,475,-419,-5,-128,136,-130,13,-291,386,328,78,455,474,-285,98,200,-93,369,-375,-395,285,-241,-214,178,368,-411,-494,353,-78,160,163,-261,23,-354,-267,-178,498,-9,-195,-147,164,499,288,-416,291,315,112,243,445,-430,54,315,-339,-135,-268,67,366,-179,-78,-430,222,-108,409,-383,247,12,-159,-162,-187,422,-461,-226,439,-62,-152,-491,403,323,414,-306,452,409,212,67,191,-316,273,300,306,3,14,130,-150,-234,-47,-273,-173,333,38,-321,-6,-132,105,55,-364,-179,-491,186,120,-10,474,-456,-473,-192,207,240,349,-440,469,-155,346,63,93,3,209,301,18,343,23,50,467,-361,401,-53,284,330,-281,310,-243,-314,87,58,170,102,-252,-212,483,-226,161,-60,392,-172,151,-117,-314,-67,225,-99,61,-71,-356,244,418,477,-379,-21,-386,-475,-202,259,308,348,-353,-401,405,162,-398,-43,-228,401,-354,-239,127,-227,-26,325,-240,468,-90,-254,53,222,-390,419,136,222,386,483,211,-464,5,81,-361,108,248,324,-488,286,337,172,-78,142,-249,-270,-363,-150,121,-246,410,-441,186,-410,271,-316,426,289,190,122,147,313,477,285,498,273,-42,300,-205,311,297,107,139,-43,483,-281,198,-115,-46,100,114,229,119,-232,499,112,246,154,182,-187,-199,106,319,-325,-132,399,-272,-33,157,-75,308,77,171,-141,-484,261,248,408,445,-484,75,-229,67,375,-193,395,-28,-176,-166,-139,-285,99,-398,343,-94,93,58,-131,-239,-26,475,398,265,361,-83,-40,-108,-9,317,352,130,-25,-90,12,-424,176,172,-298,-105,441,329,69,-42,-186,-197,430,313,386,-384,-301,-465,-254,-54,-382,463,-7,-90,116,-348,166,-434,4,342,497,86,370,-141,-256,-108,215,125,4,-403,-81,-111,304,-287,-121,9,-452,473,403,-167,-331,134,160,359,258,-67,161,-84,-391,-255,-281,-30,309,-429,418,271,272,-333,-218,-124,-70,-423,331,-368,216,103,214,357,272,254,-163,329,-175,-257,15,208,75,-40,-432,11,-184,-65,-260,265,159,-6,-434,-439,308,-311,-451,-459,243,205,-115,-273,-401,-395,402,439,248,357,270,220,102,93,-449,290,87,-383,-392,-62,169,312,-26,421,-240,-446,-144,438,124,-218,58,-347,-458,-259,67,-5,305,243,474,-446,180,-305,318,424,-290,-219,-333,118,-29,20,191,474,-23,423,-140,48,426,238,-88,-249,-160,-80,386,474,-269,299,-82,-389,-349,-139,313,113,-128,-430,-456,-51,87,-193,148,246,-282,265,70,-108,-422,-176,-82,17,235,-326,-325,335,-61,-153,413,-324,106,-194,259,-262,-437,-450,-317,421,85,-361,-133,364,221,-136,489,-331,-284,-135,-207,424,-362,491,-10,494,425,155,115,-159,-324,-279,-49,392,-175,-276,52,-101,62,-98,-432,369,-48,-400,-386,-38,-267,-87,308,-154,-371,22,-490,-166,160,-117,447,-218,173,129,451,14,-87,470,377,203,15,-269,352,-379,-57,167,366,-310,493,461,461,-236,392,-80,-407,-200,-472,-406,-112,20,-168,440,-88,419,27,175,177,23,454,244,-212,-146,229,-53,-227,122,166,233,400,485,-328,460,-417,-100,38,-466,392,-487,-439,305,472,-381,-486,-493,-344,-80,-68,490,-391,-457,-192,-410,-358,265,-182,-5,-294,-24,361,339,-245,-4,-400,18,-174,-443,-151,-485,173,-261,-475,478,-5,282,99,-432,-420,-240,-263,-3,-182,406,-345,-175,497,160,-343,-140,-83,-26,-282,352,183,-328,291,322,-413,-487,258,237,442,-164,375,243,-360,292,-16,246,120,375,-32,-109,-34,490,140,-213,28,66,-354,487,-123,307,-441,-119,399,188,63,-435,411,34,354,-397,-68,-139,-449,97,340,-437,-58,-349,-195,-13,-11,276,-112,382,229,94,63,39,366,56,80,-56,13,-233,193,450,37,-138,-246,470,-446,72,-24,-491,-492,-154,122,242,-95,-293,-397,305,353,-127,-78,-254,-325,-252,-157,-121,-208,-138,-184,-379,317,-5,-87,-134,292,-305,222,414,174,498,-245,-458,-375,-335,-349,-262,224,427,412,46,-112,167,119,56,252,-248,-32,346,35,41,-295,-337,-157,-184,70,-484,-150,21,369,-430,-360,466,-259,168,-413,-446,-209,467,14,-394,-164,-425,47,-287,-157,133,-24,-353,-153,-453,-492,449,367,-189,194,-307,318,441,-434,244,-159,-60,-473,320,-384,426,194,383,184,-407,219,271,-234,-355,-498,-144,-240,465,402,150,-370,256,137,-450,360,19,373,462,312,429,-70,416,163,-291,409,188,406,-191,-356,332,177,47,-258,-228,-124,166,178,287,-490,-308,112,-327,-101,-71,-240,-332,-297,459,-64,74,110,-322,3,253,-26,-439,-358,-175,-452,209,-109,74,-142,-320,405,168,175,46,-62,67,-276,-197,-195,-306,307,142,35,-202,-97,271,152,-57,-413,51,-252,-193,-39,391,2,-365,-38,297,-475,76,-256,-57,-49,198,334,57,-35,-5,374,-337,-348,-35,213,-100,-189,148,349,-243,-259,-306,-493,449,83,-148,340,-175,-35,-457,-354,17,-452,-289,-466,217,243,126,103,-137,98,487,267,340,382,371,476,-197,203,141,-491,242,-443,-34,333,-402,253,477,308,-165,-35,-385,435,286,220,-457,61,-460,223,-454,471,146,410,-38,-313,-49,-297,292,-315,190,274,28,132,413,159,300,-452,23,199,-252,276,214,398,-215,-474,-199,-349,28,-8,355,295,-454,-285,57,-314,-150,286,-179,-140,-162,-217,-497,-310,251,455,-386,-367,-58,225,-28,106,448,416,70,-26,6,264,-435,-33,164,115,-264,409,254,-75,219,197,-104,-466,-58,225,-391,177,243,347,347,135,387,433,278,-209,-23,-3,-283,11,409,367,318,240,137,-334,-189,454,-164,126,54,-375,448,-479,417,8,308,266,312,-405,-49,-435,-109,116,-387,271,13,237,-414,396,-186,-133,-32,-356,-469,-162,-380,-467,371,444,-345,248,-413,94,-373,-301,49,-496,-476,267,250,128,165,454,-431,345,426,178,-406,319,383,20,-52,188,469,100,162,-227,-168,-94,-272,-344,167,-82,103,-216,-460,424,-370,58,173,249,17,122,-362,-298,-10,382,67,-350,-427,49,220,-106,134,-106,-253,199,292,-99,128,-377,-66,158,-28,-420,-60,393,129,165,-64,-322,40,84,-248,-392,424,-485,-495,-198,-158,468,113,456,457,-487,97,-179,-286,197,99,162,-259,-439,224,-335,83,290,-160,-332,223,428,490,30,54,96,-293,-467,417,-462,157,-275,437,-76,-380,-46,-293,-287,456,20,-68,450,338,267,-390,-32,-245,-162,326,22,461,-182,379,499,-392,-52,-289,254,406,-152,85,151,-254,-127,-306,-131,-429,493,24,300,-415,-381,409,-264,119,-227,298,485,-34,-252,-334,23,-112,-406,-86,65,-10,-228,-208,365,-18,379,-409,-59,24,-405,425,444,-498,319,-250,-188,375,-372,233,73,39,289,446,-102,344,-250,448,141,-290,-336,11,-159,263,35,-196,81,468,-27,225,116,-417,486,173,327,76,-89,-28,-328,-415,242,96,-279,477,477,402,350,320,-292,-292,482,185,69,-481,-246,-361,195,396,362,-364,72,103,-482,-398,-131,-136,-278,-200,194,331,479,257,240,114,-108,-249,76,301,277,-172,-2,-62,-262,291,-375,-379,139,-381,-228,-160,43,367,-170,40,347,-262,170,-44,-373,-91,62,204,148,216,-102,-166,-247,-386,-22,-379,-220,-186,391,208,55,89,327,260,-229,-60,402,241,452,-69,407,155,-431,-295,-397,-412,111,-107,414,-454,-267,-264,-382,201,-67,466,474,-176,-349,-92,-147,304,7,-223,-73,-377,-274,419,-396,8,-181,-137,193,-27,294,-127,418,-498,-324,185,-445,-199,-78,-26,-49,-419,-57,216,-78,179,492,328,-377,-434,-99,-257,-16,102,-204,-280,-470,-183,133,-275,-489,498,183,370,-67,-326,-172,-74,156,-37,-140,-289,-185,181,381,-60,40,133,-113,-369,-279,-453,-27,176,197,216,-1,284,81,-25,-498,-398,-139,492,386,-487,75,-144,-59,114,-4,414,-9,93,44,-122,-251,-229,194,377,-324,211,-289,-318,226,185,-351,-214,-318,96,-75,-47,15,467,132,360,406,-411,50,-225,209,252,-408,-400,247,-413,363,39,-27,275,59,-192,-481,443,-66,-296,15,-398,229,-168,50,-442,325,-381,283,-340,101,-255,-320,-272,-479,157,-394,-36,-328,124,215,-129,-41,-263,-46,404,388,13,153,119,460,-421,-133,450,73,119,-385,-181,85,471,-338,287,436,-1,321,-435,470,-407,-453,-147,-231,-215,241,458,-154,293,469,308,-79,285,82,-350,-53,-318,88,399,305,-247,352,-216,350,-140,-161,-449,-105,-147,-223,190,489,-130,-465,20,218,287,426,116,436,75,-66,401,-483,-277,-89,-390,-58,342,243,-439,5,288,-470,360,-234,402,296,460,425,-217,-158,409,348,-78,186,-26,-353,-490,238,73,34,217,-289,425,429,-312,30,423,495,375,132,-164,246,401,103,-307,54,-117,-170,176,-150,-438,-457,-222,456,-268,-304,109,359,181,466,467,-228,201,427,-209,-63,-395,-22,-87,209,466,453,-117,344,-356,327,-261,-435,464,-123,314,98,-80,222,488,218,316,-116,-413,-27,419,87,-308,-241,392,-339,426,-462,426,-234,-400,-181,-306,248,46,65,126,-368,-41,119,78,486,46,-292,118,178,-497,225,345,329,-413,25,93,352,118,-244,-312,-81,-494,-93,-257,32,-50,-316,-466,-461,-467,-258,90,249,33,442,-409,-40,58,-125,-473,-40,52,308,475,-95,-154,158,95,-236,478,288,278,243,188,-182,146,1,478,351,-343,161,-292,-434,81,-377,-295,-105,134,-372,-393,-354,301,-169,497,311,-250,-114,51,-295,54,97,276,289,274,-162,312,-254,61,-276,77,-101,-182,261,-52,291,-146,416,120,-271,-292,297,188,447,-456,-201,115,-313,-305,233,-348,-355,-129,-75,43,193,-263,2,-383,-125,342,-55,-66,-29,-334,192,58,135,245,-385,37,456,-59,-404,-420,-457,-366,273,-185,389,-487,287,125,-10,236,446,-244,-302,325,478,-408,-106,85,-220,299,137,-10,-294,119,299,-30,-86,-441,-303,271,177,-218,-400,278,-484,287,-492,-445,484,296,-355,273,343,477,-159,-219,-13,79,-364,-482,383,170,-82,76,-392,466,-42,-304,-352,-260,212,-152,315,-453,27,-28,76,-54,479,-388,373,-460,-335,190,240,-484,385,225,-163,248,339,-156,54,486,-388,81,-399,-195,-59,263,498,-352,374,278,257,398,214,-326,486,410,-85,403,404,200,-37,11,352,-336,-41,17,-245,436,-319,-87,-159,-18,342,-498,66,-203,-420,-246,286,394,158,-151,56,312,470,-158,437,417,-403,-445,433,407,103,460,-50,210,-183,-267,-173,-18,-366,-18,400,274,-114,-380,246,-311,-298,-344,-34,-137,-299,214,-466,1,366,-413,291,306,-222,64,-271,226,369,-360,81,-362,-229,32,-306,-188,-490,108,463,241,-17,283,191,-415,322,337,129,219,-85,-63,108,271,187,327,-151,-93,-265,279,-472,-1,-380,331,490,-165,-339,392,-324,-464,385,339,388,-53,183,337,342,-353,-491,-53,182,188,-454,15,-212,374,-254,153,285,-429,277,-427,-70,-293,-390,-335,-269,130,78,-492,-123,368,-52,236,266,-387,-85,-390,-167,98,362,-248,-175,116,90,373,110,-309,-365,-81,459,271,-350,85,412,-377,215,-58,-265,29,-220,480,483,179,-340,-147,360,-1,-230,-308,-275,311,-191,371,-352,28,-113,183,-363,-99,482,-285,222,437,-194,33,220,-476,-337,-188,182,-448,-284,158,18,390,178,-31,168,107,167,151,38,273,-322,-342,338,395,-487,150,-245,-279,353,140,490,-160,-476,-192,448,223,-43,-478,426,-432,-375,-5,168,-208,-172,237,-456,-300,267,120,-143,-369,78,372,200,78,472,295,466,169,-6,-122,-102,326,-300,42,-123,-391,498,104,483,61,142,-280,149,255,-260,-386,-348,133,183,-338,218,153,-22,-122,173,464,-244,249,-227,402,236,-262,-328,98,-168,107,89,97,73,108,71,283,-125,-84,-249,-105,226,-358,163,-122,-306,-131,-218,-25,-483,-284,-9,-183,-429,311,218,-341,57,-77,-114,-33,-448,-218,-417,-238,228,-368,-157,63,81,81,358,-3,-296,-271,-236,66,-55,339,-73,75,328,-249,430,-472,197,324,-84,-180,82,-435,231,-341,-238,-15,-51,-37,-244,353,171,-440,402,-454,362,-391,401,-16,-176,-364,476,-58,204,-410,-342,-172,-172,-472,-347,-486,95,-451,-91,366,76,-448,-293,-403,354,-342,-167,469,369,-414,416,-398,289,406,252,-266,-308,47,-133,-159,413,-49,-39,-115,-141,148,-423,-90,61,442,109,-374,-163,-162,29,-474,160,104,-139,120,-493,-135,-204,-91,229,-254,262,-473,-61,272,139,489,306,33,329,-448,79,360,-352,3,410,35,25,-387,-33,-177,402,490,470,206,-255,36,-368,-233,73,118,-318,-298,-59,157,-234,-306,-375,-25,-36,257,184,-371,-368,61,126,458,7,-237,-459,418,40,241,-32,-463,-54,415,-306,136,268,-140,-218,294,41,-378,-216,356,243,54,-16,-7,-75,22,-368,-310,160,297,-207,-404,-349,-331,-141,-416,-173,-129,-356,133,175,462,-57,484,-255,-326,-232,141,-421,-142,442,-340,121,-375,200,363,-424,263,-54,251,-458,152,-99,-416,-194,67,-120,324,-67,-162,181,69,361,19,199,279,16,291,144,66,303,-494,266,-362,-337,-159,52,64,489,-20,-306,-109,170,385,350,-59,-374,-398,-72,-301,-143,88,315,315,127,2,476,298,-11,-107,-356,288,285,366,-68,-211,-484,-79,370,294,-315,-336,-273,106,464,-72,-15,-367,-196,54,387,91,-126,273,345,461,304,374,-92,157,136,94,-220,385,79,240,-359,-23,156,65,-320,-131,221,344,107,210,164,85,338,-51,152,269,-244,131,275,402,-298,382,-377,494,-202,338,-235,351,196,130,-25,-13,390,-67,-183,352,-371,-62,467,-408,-117,84,-62,-251,4,-385,-176,26,175,460,398,229,-205,417,105,46,126,40,-21,441,494,140,-17,-383,-172,-493,143,158,-384,154,-402,-345,-374,-477,-183,-38,424,255,-466,-486,143,-446,232,-184,-480,105,-270,228,128,255,166,-394,-233,-220,-320,-303,106,-340,245,-58,-393,-35,-55,163,-102,-179,7,198,-112,-281,471,497,-3,97,-357,298,-251,156,250,-325,-431,-190,-312,-223,168,-347,0,261,-306,74,126,250,22,239,362,-128,-388,-97,414,342,-292,-293,223,330,184,237,-187,-113,-473,327,-417,68,-101,-122,271,-90,-93,465,422,372,-270,40,480,-440,-467,-44,270,-217,32,482,-440,482,320,-39,-16,-297,121,243,232,-31,489,-418,146,473,225,-235,359,358,372,130,-16,313,60,178,-175,-186,-395,131,375,225,287,445,107,-24,-231,-50,431,213,-393,-9,213,-474,382,-300,-26,-281,-384,296,-195,145,191,243,-443,-466,-183,-182,458,-12,458,-153,-62,-145,15,201,-54,-139,496,-136,-14,102,3,170,-100,-493,361,214,325,-467,-287,-293,-124,-127,-419,235,-203,394,325,489,-37,478,-494,239,375,229,494,322,307,420,386,159,355,99,392,302,153,492,-449,381,356,358,292,-452,-384,-162,-126,-359,323,79,-267,281,40,451,206,60,283,444,120,40,323,-361,137,36,68,214,-271,185,199,375,290,-126,53,110,108,-307,-232,227,-98,-479,-307,-344,181,-453,333,-409,-367,283,89,-419,-429,-100,390,-255,292,1,467,210,-466,142,-165,-434,-12,-49,-444,-500,-76,-366,-386,-81,-226,-238,-363,385,204,-486,-28,-255,229,-139,392,145,355,0,-185,-155,389,-463,106,-198,307,-287,485,-274,423,270,-446,-468,81,-102,-279,270,76,211,176,134,-256,-350,-295,499,-75,202,425,232,-231,297,-206,134,-354,330,187,184,226,-355,368,279,191,-396,141,13,-228,-420,-282,-90,65,-118,-494,232,157,-328,-174,-374,-13,-209,-405,-162,58,103,259,491,284,-300,18,87,439,-354,-362,177,123,409,-227,10,173,486,-52,340,492,83,420,-71,254,-59,-50,176,392,245,224,-37,-388,294,-423,408,-355,-117,-322,70,-24,196,250,-284,351,238,-463,-454,-26,-271,427,405,145,428,-286,197,30,-242,382,-401,239,457,-132,286,-83,24,-461,263,86,298,-312,-172,143,266,-478,18,-189,-44,-304,285,-97,472,-264,300,-172,0,-380,395,190,-122,149,-422,182,-416,68,491,102,-246,-443,469,-403,-290,-314,-346,-242,-193,-4,122,-118,-179,250,-23,170,-28,-144,-212,-141,250,223,301,-346,159,196,-216,81,245,262,349,-354,249,206,270,346,-490,-443,9,425,45,358,93,-117,379,288,-237,-127,-175,178,-491,-54,-266,-337,196,53,-20,-442,-322,115,-20,-185,-293,-92,162,255,-389,-354,479,111,-158,-212,126,-17,-398,-500,-226,180,-249,257,467,-271,75,-275,290,12,-462,-386,-312,-318,-59,-376,-80,-431,113,-51,-497,-74,-247,106,-354,177,442,-208,-42,391,209,192,93,-339,176,377,-139,-358,470,-171,35,-335,220,394,-364,365,-382,-180,-488,18,315,126,-476,-227,-86,266,-494,-37,381,6,-488,79,-275,-377,-427,-183,-476,-61,319,104,37,-489,408,-455,-90,213,-1,392,-252,-212,142,298,-450,-185,-60,451,389,-44,-67,459,-104,-242,-104,-214,-436,-331,-111,-225,-295,-218,14,-197,-154,-218,-116,202,305,37,171,-41,493,9,417,-110,-62,264,-128,131,-411,152,439,65,34,476,-192,279,-303,-206,-407,-298,-203,123,-318,-297,-244,445,-180,-298,132,-470,277,34,406,-71,281,-209,-413,-44,396,27,368,485,-165,19,36,-483,-16,50,339,-330,15,-460,-126,95,91,-52,-123,466,-444,-349,204,-438,-148,117,-499,243,-237,283,358,59,-57,274,-117,298,-440,67,-377,306,-129,76,-76,-329,-205,283,-149,398,250,481,434,497,-326,-27,-271,-152,243,340,-185,394,348,306,-449,-282,-183,-90,-197,260,-470,87,-162,-414,312,-318,94,291,-183,-96,-324,249,394,-424,-151,46,156,-292,8,428,91,-139,-183,-196,-311,274,-359,-152,-154,-144,-12,-81,182,284,388,-441,-193,-281,-425,-369,-447,-58,145,183,70,-389,-133,470,-210,-407,-283,73,-100,442,402,14,103,336,280,439,358,183,-72,265,258,160],\"y\":[-41,6,-4,-42,51,-24,-23,90,86,-90,-98,64,73,-40,-23,-60,60,28,67,-35,-67,69,-95,49,4,49,43,92,60,88,33,14,33,52,-49,81,25,-79,-59,-1,-5,51,-59,-5,-38,81,-78,-2,0,46,62,78,25,36,-5,36,4,87,-57,71,-29,70,64,76,-64,-50,-58,-49,50,-42,-39,-2,-5,-8,74,74,1,93,19,2,38,2,20,-11,11,-12,-65,45,2,-48,33,51,57,-25,-33,-58,0,96,6,56,25,39,-26,-45,71,-36,-85,-5,21,68,58,12,-79,15,68,32,37,-54,72,-11,6,-64,-7,-45,42,-39,-82,-74,-84,31,-1,-1,46,-100,79,-72,-18,-64,-10,-19,-10,-96,8,-40,-8,13,-37,-95,52,89,-26,83,23,-44,50,-59,14,-82,30,-23,-78,24,-62,90,58,23,37,-31,-1,57,-19,-46,86,-79,29,33,20,-69,-57,42,-54,-88,88,18,50,-27,78,-4,-99,-92,39,30,66,88,71,-61,-21,34,73,48,97,55,10,-66,5,9,63,-32,-83,72,85,-70,-95,24,-58,-25,46,63,-87,-33,-70,80,77,-99,37,36,82,-34,-33,-80,-19,-50,51,76,69,-81,-44,-97,-96,22,-5,49,-65,-49,99,17,-78,-78,-66,57,-73,36,-79,-27,-93,82,-36,55,-3,-1,-56,-68,-88,-51,11,-96,98,-37,74,42,-5,63,29,57,-2,99,-19,-74,91,-31,-1,-78,-56,67,31,-4,24,-20,31,58,32,-45,-1,-83,49,-56,-81,-70,-87,-69,46,-9,27,27,38,-43,-17,13,99,15,-69,-78,33,50,-60,-43,-93,31,-56,29,36,22,-29,71,51,8,46,42,66,67,-46,-13,11,-68,-37,56,6,54,-82,-22,-17,61,20,72,99,92,-44,-9,-24,58,-8,-74,24,-26,-14,29,-73,16,-95,-64,-37,-33,38,76,48,-18,56,-40,14,46,77,-46,-58,85,72,-94,-5,-85,21,49,9,89,-63,97,-39,-51,96,-63,10,-5,-90,-65,16,-66,32,-6,-9,53,84,80,40,51,-68,-86,78,81,40,51,3,6,87,-1,10,79,93,94,-2,-39,90,54,-12,-94,33,-35,13,74,75,97,47,-83,23,-43,-33,44,-15,58,-69,-94,68,58,-64,29,-91,59,7,-4,20,68,-86,52,-68,-39,-88,15,72,23,88,63,-43,-59,7,8,-43,-44,52,-53,51,61,62,52,48,-56,-37,-64,-79,-67,21,61,97,70,-7,-81,35,-84,-46,-48,-93,47,-94,85,76,58,86,83,19,-35,16,91,84,-86,15,59,-19,-1,13,-90,61,31,-67,-43,-76,6,-9,-22,-55,69,70,37,-33,-68,-26,-13,37,16,-74,91,27,85,0,-93,-4,-28,-2,-54,-30,13,-30,69,4,-43,-7,-82,-98,52,-39,94,-38,32,89,24,-12,-40,82,-13,-93,44,39,-28,-100,29,-68,-22,-92,74,75,55,-23,-80,55,83,-26,-8,-74,-32,-58,-80,81,-83,-90,-8,-44,-73,88,-83,-56,-16,-42,-15,47,34,62,-53,-59,60,55,-48,95,16,94,-1,45,-83,-65,-59,-68,68,-44,-62,-49,-37,-79,56,90,43,-28,84,99,-18,79,-47,-86,-77,-51,56,60,32,57,39,-24,-77,74,27,50,-18,79,-46,-51,-18,-35,-30,6,97,3,-96,-84,63,-45,32,-35,30,-86,-61,-12,-91,-53,43,-48,-43,24,-15,-23,15,-95,51,46,-31,28,-72,33,-32,-52,-82,-35,-84,-70,-49,88,77,66,97,82,-23,2,52,-7,84,63,66,27,4,49,-83,-13,-60,89,-38,-6,-76,72,88,14,-38,89,43,87,53,-11,41,-8,-5,37,-23,-57,-79,12,-58,-51,-6,-6,89,-78,-44,74,12,95,88,-26,-34,-33,53,19,-9,-43,9,83,47,-3,-81,11,-84,-71,-21,84,8,62,-15,18,-18,-88,-96,56,40,54,-99,-100,-7,64,9,-1,43,39,49,-12,-75,-22,-50,-94,60,-23,43,-52,-54,-41,69,7,-94,77,-92,-57,66,-70,16,89,81,86,7,59,-64,-34,-100,-53,90,19,-56,-89,54,85,58,-81,8,-94,-47,37,-50,2,-31,20,-24,-3,-2,82,21,94,-81,-70,45,-24,78,-60,-39,29,78,-36,-95,32,72,-77,-82,74,0,-53,64,59,-27,49,-84,67,-34,19,-41,2,-100,50,21,8,97,-10,-67,-66,-29,-26,93,77,95,87,-6,92,85,50,-25,-90,-38,-79,-63,-77,-41,-76,-78,24,35,-72,-88,-49,-23,-24,32,-95,-65,80,74,35,-81,67,-92,-74,50,17,47,82,86,-33,-87,-68,-42,-23,77,92,-87,-53,21,53,66,-43,95,49,39,-3,-24,-51,-84,-6,-21,37,-22,-62,78,39,-8,-21,98,-75,37,-27,-97,-49,-54,31,8,96,23,-59,45,75,-62,-97,88,69,31,-95,42,58,-7,-24,37,9,-79,6,7,10,-84,9,-93,48,-20,-91,-9,71,17,17,22,80,41,-18,68,-55,45,-30,-69,-99,79,82,2,49,-31,-37,-61,57,-87,-53,-33,78,96,17,44,9,-53,78,99,-59,45,-61,64,-51,-5,30,90,31,-74,-46,-91,-50,-54,-100,-49,-84,39,-83,13,93,-25,39,-77,82,-99,-58,-43,68,99,-7,-31,-79,-35,-95,-50,-63,21,-38,14,-7,97,88,-65,-55,45,-50,46,-11,-87,-44,69,0,-55,23,15,21,83,-87,-16,84,0,76,-55,24,-63,41,-54,73,95,-63,-75,-22,67,-85,47,-71,27,63,-31,-34,-78,-23,-50,75,-45,-63,-32,52,51,-69,40,-25,-65,-72,23,63,-68,-24,33,-37,-81,19,26,20,-28,94,-42,-71,-86,-41,-68,79,0,87,56,12,95,11,38,37,49,-86,91,-97,-95,38,87,-83,85,10,-54,58,76,53,94,-31,-25,45,73,-48,4,-33,3,80,7,-54,-22,-100,-77,25,86,58,12,6,36,86,-83,32,-49,-2,-99,-49,42,55,65,60,25,-88,-34,-71,29,57,-89,81,-97,19,-74,7,-82,-32,-59,8,3,-22,22,-46,22,52,95,99,66,61,23,-66,-97,-49,72,9,75,72,73,-34,44,-97,-4,-6,1,-72,25,24,23,-11,68,38,12,-23,47,-47,22,57,-18,66,17,69,72,8,78,8,-40,-92,8,-73,-86,-44,6,-49,-61,-93,90,72,47,-37,-65,-56,55,-99,-63,-31,-52,-67,82,-90,-9,91,52,48,49,72,98,48,-81,31,43,-15,40,50,-76,32,63,95,-76,32,44,83,-39,67,48,99,3,-91,67,-58,-83,36,60,-45,-65,61,-87,78,16,-25,1,17,-32,18,-3,-86,16,1,18,-3,-75,28,89,-98,-31,-63,-23,9,-49,-76,44,-76,4,-43,48,-95,18,-77,-43,-55,60,-70,-75,-21,-100,-77,-79,59,49,-12,43,-74,-77,-87,-40,-79,-58,-73,2,40,-2,85,9,78,13,8,86,-94,-90,62,-58,72,12,72,-49,-2,6,-82,98,28,58,-18,64,55,32,12,-26,-22,98,-77,-55,-91,11,-47,74,70,30,-46,46,-73,-89,33,-54,-32,-15,54,58,30,-39,13,13,87,86,-10,60,-47,-50,-46,-47,-88,-66,44,-33,50,-26,-67,84,50,-92,38,-41,-20,56,-39,72,27,-49,33,-21,11,75,5,-83,69,-14,-69,-47,-56,69,-34,-46,38,11,-54,56,3,-96,-25,-28,-22,1,92,28,-88,-1,31,-38,-20,63,-65,18,-18,86,3,-72,15,-24,92,-10,-93,62,65,13,-52,99,-39,47,-37,-15,-12,87,-98,82,62,-71,-65,-56,75,35,29,84,-71,-4,-66,91,-93,-56,16,-15,-39,91,-51,54,-39,-91,-33,-9,-61,-38,-82,28,-46,-76,-63,-36,-25,-55,77,-83,-94,95,8,-7,88,77,-81,69,9,29,46,33,-35,-5,-2,-73,16,42,-89,19,-90,-74,45,33,-78,43,-99,-95,61,6,-41,41,-71,-100,5,83,36,-47,-28,50,76,29,-82,-83,-1,74,35,-39,-60,87,-83,-84,-95,94,-63,31,17,49,33,22,-95,-20,35,88,10,-35,-23,-47,74,-74,-50,-2,44,-32,15,-89,-55,24,94,-53,-17,45,28,-22,9,-9,49,15,-17,76,-27,-7,64,-66,78,-94,16,92,91,56,-46,-45,-47,-95,-83,-8,-32,91,-24,-96,-83,35,-100,22,-15,-49,8,15,-76,-15,62,-16,9,-84,-5,-66,-17,-5,-78,9,41,-70,-45,-86,-8,-16,98,-90,-25,-2,56,37,-82,3,27,-4,-29,-77,23,-1,-61,77,80,-7,51,86,21,-21,78,-38,92,60,97,-56,-8,95,4,-29,75,-54,74,27,-38,-45,46,39,-60,-51,-9,-67,94,-79,9,-96,68,-15,-17,-63,91,-56,4,65,89,99,-4,29,-67,-33,-50,-16,9,72,45,19,30,-53,78,-1,-96,-26,-74,-88,-62,60,41,98,24,37,-95,-30,-55,50,-34,-88,-100,63,74,-85,-66,-3,-65,1,0,-49,2,-57,25,-52,36,-42,-52,95,4,37,87,25,30,83,-21,-89,-26,18,-35,30,-29,31,28,-46,68,34,-26,5,-14,81,-81,23,72,-64,8,-30,56,-55,5,-22,-21,-7,29,68,16,99,56,-55,93,-83,-3,48,-71,-85,23,24,-17,65,21,-100,23,-16,-43,-69,38,81,44,75,-92,18,83,-47,-19,-65,3,51,-30,63,31,68,46,-81,95,78,-84,82,41,34,-29,-42,-76,-11,30,-91,80,21,-43,-95,2,-47,28,-7,-11,-59,60,-6,31,0,-52,-67,-7,-12,11,42,16,35,-73,7,45,50,61,-22,92,-6,50,-83,-34,-90,42,-58,-80,51,-42,-57,63,-73,16,2,78,-5,5,54,-45,-30,-48,91,68,-42,60,-31,66,92,88,-54,79,97,-34,68,60,-39,52,-64,17,5,-87,14,-57,32,91,-47,18,-14,-60,26,75,68,-70,51,-4,30,85,98,34,-29,-63,-19,39,-82,-61,69,67,-45,54,65,-59,47,22,16,-18,62,15,49,-17,-82,-45,3,-55,22,14,-28,-92,-89,94,-56,-62,-11,-85,-6,21,25,-41,-96,25,36,23,67,-56,95,17,-75,-93,-17,-94,-5,8,64,-56,-63,-39,-66,-15,96,-62,37,41,75,-20,84,74,6,60,56,-47,77,-53,72,8,6,44,24,70,33,84,-69,89,-87,20,-85,-70,43,-19,94,37,38,-62,11,-15,11,71,9,74,46,-72,60,76,28,2,-18,-28,-33,22,21,-44,60,74,17,27,15,6,-88,23,-57,82,-97,-60,38,-64,-18,38,75,11,85,7,42,-2,-85,-59,-86,25,96,-71,-68,23,-46,-14,29,39,-24,-17,-90,89,-6,-73,-55,-57,94,52,64,-11,12,21,48,-1,-30,41,-72,-4,8,-91,-85,50,-23,-85,-79,71,-20,-31,-41,-14,17,24,72,35,-54,83,40,31,-96,-30,82,61,-94,-13,42,69,11,69,-23,-47,57,61,-42,9,10,69,57,90,-58,87,55,-31,-16,38,-42,-53,49,42,-50,-26,-25,-57,29,-60,85,-9,3,-64,69,-25,10,19,13,-26,14,82,-44,63,34,70,-55,-4,-13,-18,3,91,68,94,-35,59,-61,-88,-50,-21,-18,79,16,-82,-46,88,30,-24,67,48,-64,-16,63,62,-20,40,-89,-13,-14,61,-8,-92,96,98,-80,84,37,57,-82,81,95,-52,-35,-16,-15,19,-39,58,58,9,6,-18,92,2,76,-27,79,-41,37,-69,-36,78,43,37,-35,-88,71,-46,-82,49,-46,-28,-46,4,0,75,25,-35,-75,42,-48,47,40,76,-16,-10,89,-92,71,22,-79,51,-74,-80,-46,30,97,98,44,67,65,-90,-90,71,-94,-3,-38,-57,-65,-6,63,-23,-85,90,38,17,59,35,92,-38,89,72,0,-95,69,34,-95,66,77,14,18,-49,-46,76,-34,70,4,47,7,33,65,-47,-53,47,-76,49,97,-29,0,79,-60,-39,75,26,-69,36,84,-8,42,17,43,-31,-92,20,-6,97,4,-80,38,-82,-21,-51,-88,-86,-66,37,15,-71,51,-42,-49,-14,-83,-32,66,49,-83,75,15,-88,11,-37,-4,30,-65,38,-80,-38,43,93,-87,25,32,-14,-23,84,44,67,78,-60,90,-99,-24,90,35,-3,-100,15,16,52,78,29,-78,-53,-75,95,-49,-48,-85,-59,-42,65,21,73,65,65,37,-76,-69,-81,-75,32,-6,57,16,-91,-63,-34,-51,-91,80,96,-78,-41,33,-35,-83,95,52,62,51,68,0,-33,48,-35,69,43,-54,25,-33,-64,67,-51,95,-47,-27,-23,-51,13,40,6,-25,-25,-45,-42,-82,8,-45,51,-6,54,37,68,-89,-40,-23,-2,75,61,37,33,-44,99,83,-40,57,21,-8,-82,-11,16,99,79,-72,16,81,-81,-14,-33,43,47,-91,81,49,-65,-33,-5,10,96,-89,64,-54,-69,-100,81,47,-75,17,-43,86,32,44,29,-19,-94,73,-71,26,29,-55,-29,-11,59,-12,-68,-48,96,-80,27,-46,2,63,87,94,-83,-68,89,35,54,0,-58,-12,-37,-97,62,60,-89,-36,-38,52,8,35,17,71,3,46,34,66,-2,-63,-63,70,57,-57,91,-32,22,73,29,35,85,62,61,78,-90,50,-55,82,3,95,80,-56,81,63,5,-22,-14,93,40,-32,-52,-35,-7,-22,-13,-53,-73,55,43,-41,13,-76,96,41,-79,-35,-40,-58,-16,-27,77,10,71,3,-92,92,-84,-99,-38,-49,58,66,-94,-74,-78,-10,90,-7,26,84,53,-39,-45,8,-86,85,59,-80,52,71,29,82,-87,12,-38,-89,-60,-19,-37,-99,-7,-15,72,-55,31,-14,-79,-39,-48,-85,-19,-18,4,-34,-47,32,49,-92,-41,-18,10,68,-98,-70,25,52,-93,90,10,24,-37,3,18,-49,-32,-35,-15,-46,-47,82,9,66,-3,16,61,-21,-17,2,-5,22,4,-50,-94,-71,18,65,69,-99,-43,29,67,-13,-32,-43,8,87,-37,78,81,48,96,81,-95,-81,22,-51,16,95,34,83,-28,59,-61,16,20,-79,-91,-2,13,-31,-60,-87,4,79,52,13,-33,-4,-7,-81,-95,54,97,-34,-6,-57,37,-36,-24,-79,-46,-14,-48,-87,36,-87,73,-80,61,9,-22,64,-12,83,-78,11,-17,53,-15,62,17,17,40,-51,-60,-83,19,-24,-33,16,0,85,-95,26,-79,-70,85,95,73,-49,-74,-16,-25,-50,87,-35,-23,-54,-47,28,-19,-57,38,69,79,-33,27,89,-83,-1,9,32,-8,-42,-100,71,-74,18,96,97,29,-51,74,-47,-56,-86,22,-45,-78,-1,70,19,-46,-24,65,98,99,-73,-65,87,-87,48,84,-61,90,2,-62,35,-95,66,-21,72,19,-51,63,61,5,90,12,-80,-56,65,-99,24,38,-9,28,-35,92,4,-15,68,66,-46,15,-89,-79,63,60,-76,-2,1,90,-45,93,-41,-29,66,-18,-43,-80,-55,-59,-36,33,-3,-35,67,5,95,-92,-87,-56,85,64,-12,-86,54,18,-76,-11,-5,52,72,51,-36,-59,-62,-46,-85,59,-24,-30,13,-75,-67,51,32,18,-64,70,93,25,4,-30,64,-60,55,-1,32,32,18,-95,-69,34,79,-60,10,59,-90,-64,-100,-75,-52,-90,61,37,79,21,20,10,7,20,-27,-63,-16,-66,-84,48,-34,1,26,-24,-84,86,-2,-51,-5,27,-74,64,-12,-31,37,-25,44,-82,-48,94,-32,-82,32,17,81,63,0,-21,68,-78,65,14,-29,65,0,-7,-72,-70,-25,-56,-82,15,54,-94,-84,-43,-75,-19,-20,72,-4,-69,-42,4,76,-20,-14,-1,81,-41,-93,14,73,-25,1,4,73,-61,90,-30,23,-86,-58,-49,-82,74,-8,-16,84,-7,10,-60,21,-80,97,33,91,45,23,-83,41,24,-4,-64,95,-51,-8,-14,2,39,75,85,-83,-2,68,-38,85,53,-24,-30,-37,-95,-96,-16,76,-84,-85,-98,20,88,79,78,-7,91,-70,62,-72,-6,-6,-58,5,38,-30,-89,-33,24,-28,-87,89,-39,45,69,48,-24,10,75,96,-46,-49,73,-100,50,19,-68,13,-86,-8,51,-48,60,-16,-35,-34,14,-42,82,-74,3,92,72,14,-89,-37,82,24,68,-18,0,-55,-63,-74,32,59,-55,74,-7,36,-51,86,69,10,70,-45,-43,46,-70,-47,-49,-42,-20,29,37,-46,-16,20,41,92,74,96,-72,6,42,-35,-82,75,-26,-55,-81,85,-71,38,-84,12,-20,-84,-99,-68,56,-84,68,-77,-90,64,-1,-14,-21,-7,-47,-70,-53,-24,98,-97,64,-84,24,-37,-76,-57,0,21,92,21,-55,-28,-38,78,-47,-42,29,-90,92,59,42,-52,-7,59,46,-9,14,14,-24,64,82,54,13,34,-91,-78,-48,5,54,-63,-48,15,7,30,13,51,-1,-85,26,32,-85,90,-56,11,-4,-93,93,-43,-46,68,15,55,-27,-61,-72,-64,76,-14,-79,-31,-79,14,-85,17,-52,4,24,29,99,-38,-56,-93,-12,82,34,-21,73,74,99,-16,29,48,-91,79,-61,41,66,60,37,28,-92,-91,99,-42,58,-15,-56,92,-9,-36,-98,90,76,-64,-32,-6,-64,87,26,76,-50,55,1,-58,37,1,-37,-99,-82,-70,-93,-59,-15,-44,36,97,-12,36,-65,-12,81,-72,31,29,-47,77,-82,77,-43,96,-49,-34,50,98,-86,37,-71,-28,-47,62,-34,55,72,-36,67,-81,8,18,-10,-27,10,38,-100,-28,43,-36,43,-66,-6,24,-75,21,40,36,-44,59,-80,59,99,-23,78,20,-49,35,69,36,62,40,-61,91,35,-37,-26,-34,-18,-89,-64,40,-21,80,-17,-59,82,-94,-59,59,-39,-40,93,38,90,-34,-6,56,76,20,87,95,-60,24,99,34,99,93,-97,-46,-57,-31,-90,65,-45,-98,-41,89,-30,37,24,20,50,72,80,5,-20,35,-56,-74,-48,-2,-78,-28,61,32,-49,-85,-71,79,-67,85,-21,-41,-5,-91,-28,-95,8,-62,76,-87,76,-73,63,-55,-47,6,-2,-97,86,-62,-81,-52,18,30,53,31,20,-89,31,-78,-85,-76,19,-47,-32,-95,-96,-59,23,38,22,42,-43,-12,-23,-78,89,-53,2,24,-38,36,-48,-76,2,-22,-97,-54,-79,90,2,65,94,93,-72,-73,-70,-30,75,76,98,69,-61,-5,-50,59,-29,-44,80,44,68,-63,-90,-33,96,-51,51,48,7,-60,7,-16,-67,57,71,-32,-73,-94,21,-70,6,-53,68,-77,-23,16,9,-55,-18,-95,-29,89,26,-93,-76,-99,42,15,77,77,-7,1,49,11,-24,-35,-5,2,63,-9,-39,15,94,98,51,13,75,73,-75,-10,57,70,-10,-93,-30,84,64,-4,-68,9,58,-70,76,4,-39,-82,23,-81,-9,-88,23,91,64,86,-33,89,67,-5,44,20,-54,-18,95,69,55,69,22,2,23,66,-57,-92,32,55,46,73,-98,36,-79,63,25,42,-92,-59,11,-98,67,28,1,-4,11,5,87,-40,59,-70,77,-77,3,-23,-56,-59,-70,-54,-36,-35,-8,-83,-11,28,-52,-31,-27,91,-29,-2,86,43,13,80,-18,-44,1,-69,74,-50,-88,1,-68,10,-14,22,-17,71,-6,81,42,-15,-1,90,-80,-74,-9,36,7,-95,-76,-26,61,-47,-2,-7,-34,-75,37,-39,56,-95,-31,14,39,-87,96,0,46,-12,-76,-80,56,-9,54,29,-76,-60,52,3,-78,55,-29,0,23,19,40,40,93,36,81,-71,51,-53,-27,32,-29,-38,52,6,-84,64,50,84,67,-14,-62,-64,52,53,-34,-70,-61,81,90,-12,-3,-61,99,5,-71,-36,-47,-74,-20,59,8,79,81,-59,-48,-92,77,93,54,-89,-13,-11,-64,-5,13,-33,72,77,-96,32,78,88,57,-47,61,-50,-16,-16,71,82,24,59,89,93,-53,-34,92,67,-98,5,96,62,-68,-89,-55,-19,-78,-13,-75,-23,91,-45,-71,-93,-71,-41,-63,47,54,96,-28,-75,-92,33,-39,80,-13,53,-23,-83,-37,-65,92,-92,-46,65,-34,65,-86,63,-57,-43,10,68,-2,-25,-38,99,-22,-36,-95,-61,-31,61,-73,-28,-72,31,-53,-67,-39,-22,-19,68,-60,76,88,34,-66,96,-1,-10,-12,-30,-80,16,-30,-57,46,-73,77,-95,48,-8,23,-68,95,65,-48,-49,-22,-36,-86,-41,28,-88,-99,-49,96,-100,96,11,-20,-49,-37,-94,81,-33,74,-29,69,-50,-91,-58,54,94,-80,11,73,56,41,-26,-97,-41,64,12,-78,-4,-66,83,97,-39,-91,8,-52,-48,-100,-47,27,-78,-29,-64,85,-52,51,99,-43,-96,-72,-66,-71,-60,29,-6,48,71,-18,-37,27,-2,-82,-45,-72,75,36,-66,-20,-81,88,-78,85,-15,55,-9,65,96,26,-27,63,-55,-97,-85,16,39,-83,13,81,16,-1,-46,22,87,16,-96,-33,-21,-62,-74,-11,-14,-25,-5,94,-67,-81,98,-15,69,-58,77,-87,-74,85,-51,84,9,1,-61,16,-77,-23,-100,16,-69,97,80,-58,-68,-8,-3,3,84,-74,-32,-27,-89,-21,37,-70,50,70,-6,-50,0,19,-92,2,-100,-79,16,-77,66,3,-3,-3,50,-18,43,-30,-17,-51,64,-19,-29,90,-83,85,-44,-73,46,-39,53,-62,76,-38,22,-49,66,-50,30,29,15,52,-66,-98,24,24,-37,-23,-25,85,22,-15,42,98,92,48,-34,-82,57,99,-63,-22,-87,-73,71,76,-31,-34,-8,-20,10,53,8,51,-5,-87,-74,-100,73,-99,70,45,66,-39,79,-11,90,71,2,-3,-92,-37,-14,-86,91,81,72,52,67,42,73,-9,-11,-71,-28,-48,14,-26,10,-8,-18,-45,46,58,56,-43,-26,-39,83,41,-45,71,-39,64,-71,-97,83,-42,95,52,-86,-35,-44,-13,82,-27,-97,-5,-67,84,9,-78,28,-58,-13,8,-41,-82,25,48,-41,26,-78,63,82,-100,88,60,-1,-88,-66,-100,-38,-12,31,-64,30,12,-21,46,-74,-80,-2,-97,-38,50,-15,-28,-11,-29,30,-55,-85,26,92,-82,10,87,93,43,50,-20,23,5,24,17,-71,4,23,-43,-60,-37,-78,44,-62,24,66,48,59,-71,2,70,97,49,-28,-70,-83,11,91,43,99,83,-21,-72,-60,55,68,-94,-32,16,-87,-32,67,70,82,73,-19,34,-56,-50,-71,95,3,82,-35,-62,-28,55,44,76,-16,-14,23,67,65,52,74,-72,8,95,13,-90,-31,76,-90,-68,88,46,78,81,63,-4,-47,-2,88,15,-14,41,-39,73,-13,60,-100,-58,-55,20,68,75,62,30,-48,93,-18,4,-98,46,52,71,1,-15,-9,-85,70,-93,11,37,35,-69,-60,94,41,28,-22,98,-1,83,81,90,-42,-62,89,-75,-71,69,-38,-40,45,-89,55,-75,-20,12,54,-67,-25,-37,-26,-53,37,49,-85,96,-69,-40,61,49,48,-79,-66,-39,-92,-65,70,5,-78,-81,-23,-81,-24,28,-26,35,-19,71,62,-56,-1,-67,-81,-28,-10,-60,-78,37,-9,27,61,25,29,-77,-58,85,4,55,36,62,19,-35,13,66,-87,71,-56,25,-10,49,66,-6,-80,21,73,-70,51,77,-9,12,19,-2,-77,13,-9,-37,73,-96,53,-77,44,61,73,61,72,65,-81,95,24,15,-32,3,-77,29,24,83,-76,-13,-93,-37,18,81,-19,-15,67,52,-47,-69,76,56,-21,-77,53,49,82,-16,22,78,91,-48,-96,-5,55,64,51,89,20,3,-2,14,83,36,1,90,33,-37,2,-93,90,-77,17,42,-30,-97,68,-35,76,65,2,89,85,-42,50,61,-19,-75,-5,7,79,74,-85,46,-94,-26,-75,22,-77,61,15,-5,-61,23,-41,70,-97,-82,5,-71,-71,-98,-81,3,60,-32,-71,-45,52,-23,-45,51,50,-52,-13,20,22,-37,-31,-76,82,41,-93,78,-29,37,92,-63,76,-4,1,26,-39,54,-59,12,94,80,-4,-55,-33,-70,79,32,-72,11,25,84,84,-26,-53,7,-16,55,-90,-65,25,47,33,-68,-52,-79,21,-84,86,-90,-50,93,66,-55,27,7,-26,-38,89,-27,79,-92,18,-81,-25,90,-84,-12,90,52,39,-5,-22,81,-15,-44,28,-79,-81,-68,46,-14,40,43,20,74,25,-29,15,19,-1,-25,-62,68,-69,-14,86,-19,30,42,24,-3,11,-88,8,-52,96,-8,86,21,-81,60,-99,-16,-31,5,-4,57,67,69,53,-92,20,-15,46,-79,27,-33,-65,-1,16,16,73,68,-95,-40,-59,-29,-97,-99,8,88,-16,-52,-6,-63,-78,63,54,-55,22,-31,28,-22,-28,-83,-29,-2,-7,76,-49,-15,72,-31,14,-5,-74,-79,53,41,75,-89,83,-33,-28,-80,-71,-46,65,53,41,85,-75,-11,5,-84,-41,84,16,-66,-96,-23,41,69,-74,93,-62,50,29,-8,10,-72,81,-42,74,80,-22,59,-24,-30,-22,-3,99,65,14,60,96,81,69,52,99,62,80,-45,19,36,56,-54,48,75,78,-7,65,-8,-22,82,-55,91,-90,-47,-55,-2,80,-11,85,31,8,36,-30,98,78,-32,-12,-67,72,-55,-23,57,43,-93,-45,-90,-25,-75,-33,-53,15,-68,65,-34,56,16,97,13,-49,-19,14,36,31,6,73,-10,49,-68,-19,-36,-19,9,-74,14,32,73,-72,97,99,-26,-46,4,-52,74,3,-6,75,44,25,12,18,66,88,-19,11,26,-79,41,-69,-49,20,55,-41,95,-25,6,-83,-25,82,10,3,48,54,-39,-48,-72,-7,-49,-78,-94,-4,-20,-86,-85,3,-94,50,-68,22,-95,-56,-70,-83,-30,-10,72,84,62,-94,-2,-58,5,24,96,24,73,-21,-85,14,21,-89,-1,-46,-91,39,60,-89,85,42,15,85,47,-24,32,-97,-24,11,-68,14,-75,-83,38,56,54,-9,-69,-87,91,73,-13,28,-24,-26,92,-81,-42,59,83,66,-17,-29,-83,92,-94,0,-75,40,-45,50,94,-95,-22,-89,30,26,-84,68,11,-43,-53,52,-6,14,15,69,61,-96,49,37,-71,15,40,0,-13,54,-88,73,8,-53,-75,-13,-30,-66,5,-15,-40,-21,12,67,86,-1,90,81,-93,77,70,70,58,-4,-74,-18,-92,-78,12,65,70,-59,-87,-57,52,-40,-12,-76,-75,-56,86,-98,83,48,65,8,-10,87,-8,-94,77,-94,12,50,88,-86,-4,-17,-91,72,-64,-21,70,62,-38,11,51,-50,97,-44,-1,-56,-56,2,-55,-62,-22,-67,97,58,73,-19,62,96,0,-78,-69,80,26,-8,26,-36,-28,76,-49,30,-30,86,35,55,28,31,-29,-71,42,53,72,-22,-68,-4,-87,-97,-25,98,61,-39,70,47,-96,69,-16,-70,-87,7,-47,-76,-53,-29,40,-63,29,85,-85,-81,-35,54,81,-19,-21,-50,33,-41,-3,92,-29,-45,-15,-49,-100,-5,64,30,1,-4,-30,-14,72,-1,-76,79,-22,-27,46,18,-40,58,-34,-27,41,-91,-24,-43,98,86,-14,38,77,-20,96,64,-24,25,-6,88,-74,63,-84,21,-46,3,8,-41,60,-54,-3,44,-50,-55,-76,14,-74,-100,80,-21,-67,-11,71,-8,-95,25,-74,47,-11,28,-85,78,94,-15,-12,5,84,78,-98,75,38,-95,36,-84,-45,-21,44,-98,-53,21,-25,78,47,-53,-51,2,60,77,-91,75,-86,-25,-28,84,77,10,-26,42,-43,49,-80,55,-83,-18,52,51,17,77,-66,29,-53,-11,-25,65,47,36,70,-50,-40,-78,83,45,66,-85,-14,2,20,68,72,15,52,-14,15,55,-4,48,-11,64,-66,-46,49,-20,92,-34,-56,-36,-20,58,-35,-49,-49,-70,-79,35,-56,19,55,23,59,-68,56,25,90,28,-31,-36,74,77,13,-7,69,22,18,41,89,66,-26,1,8,-52,75,-37,-63,-10,-22,44,15,-83,83,9,32,21,72,-31,94,-7,-42,-64,-34,-12,-1,-14,7,29,31,-78,-68,88,60,50,-27,-44,8,59,83,-67,93,-46,75,-69,71,66,-33,-25,11,70,65,0,-95,-25,-2,-66,67,17,20,40,-67,-46,-73,93,14,-63,-87,-91,54,-39,97,95,-73,50,58,41,4,40,77,-63,-73,94,53,57,-22,-5,81,-14,-13,77,8,82,6,21,2,-35,-33,12,-56,-23,-84,9,-48,-87,84,-35,6,99,-12,-45,-34,-55,76,-58,-70,-41,73,59,-57,52,82,-80,15,-95,90,94,-98,-64,74,93,-8,-97,-64,65,-11,-84,-75,-39,92,31,-75,69,-83,6,98,-27,99,-69,34,98,27,-49,6,28,-19,-21,-10,-38,-10,5,-80,-20,62,77,-82,-8,-2,34,38,7,25,-79,42,52,-3,97,-28,72,30,-84,36,96,-91,-71,48,-68,-77,-56,-43,82,71,-44,-44,-52,-84,97,89,17,30,-30,13,19,-11,-63,26,91,96,-21,-21,89,-59,-34,-6,11,-3,-9,65,75,-100,51,83,-21,33,-58,77,36,83,-25,-16,19,61,46,84,60,-64,24,-8,-3,-87,-36,-60,-79,-57,64,-94,2,58,51,9,76,92,-62,-2,69,-43,93,63,74,54,40,11,-3,80,-94,-100,-38,96,88,-50,33,95,-5,86,83,99,71,94,74,37,82,0,-60,0,93,17,39,-2,72,-62,-63,37,-32,-30,36,-58,54,75,80,23,-74,85,99,10,92,77,42,-97,76,37,-84,94,59,0,33,63,22,88,-25,-71,-67,-45,-28,-67,-58,4,57,52,7,-95,74,98,-40,-54,27,11,-35,-44,79,12,27,-38,42,60,34,94,62,14,80,1,-58,28,-95,69,-49,-99,11,-9,1,40,29,5,45,41,86,-7,-59,5,-17,-67,-42,-39,-72,-63,29,-25,82,84,9,-72,-98,-22,59,66,12,81,-13,-10,-54,-45,-44,-44,-99,13,-72,66,-18,-54,-36,88,6,59,9,-89,71,-100,-70,-44,96,-52,-71,72,-33,56,-60,-80,-66,86,7,39,-2,-86,48,49,47,-67,-62,67,34,42,-39,-66,24,-84,-30,-22,18,42,-9,-54,35,-18,62,-78,41,-84,-64,-45,-11,39,-38,74,72,85,11,-27,43,-23,46,91,41,47,-95,-31,18,-62,21,88,61,0,-6,40,-35,95,90,89,-16,0,-41,-96,-64,28,-46,27,54,96,-2,14,39,5,96,28,-8,-38,64,-14,6,54,58,28,-57,25,87,-10,55,-100,-29,-12,-98,25,45,12,95,-95,-77,92,35,-87,90,-80,81,92,-80,-99,26,30,-50,26,-13,-79,-3,-31,73,18,2,64,-43,47,23,-77,-26,-16,19,13,-35,-9,-95,-29,-51,-30,-57,94,15,-31,-3,33,-31,25,-51,85,58,42,-29,32,77,-91,-86,2,-96,99,4,-69,12,78,-90,-64,88,-87,82,-79,-39,0,-18,47,31,-45,-74,-34,33,42,-88,62,-95,39,-71,8,-12,-81,98,27,-100,48,85,-77,-40,-77,22,11,63,64,-6,47,-7,76,-77,-10,-50,-54,62,-82,9,-76,25,-20,-5,-46,74,-62,95,65,-51,47,20,-96,6,-35,-82,7,-1,-87,-49,-62,24,26,-40,12,-71,-88,-54,47,-26,65,48,-69,54,50,85,-64,8,-15,9,56,-22,22,34,73,89,-48,68,-17,-99,-71,-6,11,-41,47,-70,42,-8,-37,-31,-68,-23,21,43,12,68,22,58,-32,56,-6,82,-4,-68,-33,-5,-33,-80,-34,-93,-13,-16,36,50,-19,-43,-20,-18,93,-76,-74,-48,3,9,-15,99,16,7,41,5,-98,-18,-20,29,-24,-40,-46,-29,-68,-28,14,98,22,64,-50,30,-97,-67,5,-18,-56,-23,59,5,-19,-99,-75,-22,-78,-47,-61,33,-71,-38,57,-73,93,55,22,-77,63,-90,-59,38,0,24,-64,49,49,-28,-90,46,3,94,81,-6,64,-27,-88,55,-54,73,28,-31,82,-42,68,-83,14,-55,-58,-90,-47,35,0,-3,99,36,58,-20,26,24,-19,23,98,-9,39,-88,-50,3,-20,59,-98,-45,69,-20,19,-52,-33,-44,-43,-4,26,69,3,-97,-89,-46,-4,92,10,29,-86,49,0,-76,-30,9,52,-6,51,32,19,54,-25,-41,48,-56,74,73,70,-80,-99,94,50,-13,28,7,39,15,55,-40,-12,-46,66,-70,-87,80,-6,97,-37,55,36,-27,50,-34,7,-65,-80,67,-59,-93,-60,-11,-29,-42,21,39,-56,76,62,-98,-86,-62,-10,-98,-19,78,94,-1,23,72,96,-13,14,-43,54,46,-46,2,21,-35,94,-44,69,-45,36,41,89,89,-3,-97,-86,28,30,0,9,98,13,-63,-82,-37,64,-20,-87,-37,-34,-25,20,39,85,3,-14,16,-54,68,-72,-35,90,45,-78,80,-28,-95,-29,73,87,66,12,-23,-84,-9,26,73,-12,-53,-18,-80,-34,-48,-11,43,66,29,-42,-11,71,20,97,94,-30,98,14,-84,-31,53,97,-93,75,86,99,-1,-83,86,64,25,-5,-3,9,34,98,99,11,33,1,11,-91,-23,-73,67,-76,23,87,-84,2,-71,-15,42,-94,-52,72,99,-41,-79,-78,64,-50,41,-14,-77,-82,-54,93,-100,28,33,-74,21,-92,23,-60,-51,-59,28,-91,35,-88,-83,-73,-39,-79,-82,-28,-22,33,80,82,16,78,94,31,9,-28,-63,-49,-60,26,38,51,-28,-5,2,51,-69,-60,83,83,41,-47,-57,-87,-62,-10,-89,60,-74,68,58,-92,72,61,50,11,-39,73,-76,93,-46,-79,11,-74,13,-88,60,1,88,20,28,97,-20,66,-29,20,-26,-47,-68,6,-32,83,19,72,50,71,49,38,17,-97,-53,29,31,-51,81,88,70,44,33,65,41,58,33,54,38,42,-45,12,40,24,14,29,-96,95,-30,78,-19,71,3,8,13,-13,-83,-92,-79,-78,67,98,-33,74,-35,-95,94,-90,49,65,-91,-37,76,-54,-10,-52,84,-71,32,-14,-4,23,17,-98,44,37,29,71,16,-34,-28,-14,72,26,-86,-63,60,47,52,-15,78,59,-38,9,71,-92,19,-10,-84,89,92,27,-47,-91,-34,52,51,22,6,70,-92,6,25,-1,99,-42,-79,-77,43,-94,-9,-3,91,-22,79,75,-91,31,-68,-26,-74,-33,55,36,-45,-29,52,64,-30,38,67,30,-87,42,-68,78,76,40,62,91,15,34,56,21,-20,-25,23,-17,88,-8,-50,56,47,-34,73,-40,-80,-7,-5,29,-35,-57,-98,8,14,72,-75,49,76,81,-61,-91,20,96,67,-53,-1,95,-3,28,-28,44,54,14,-69,-23,3,82,-63,-85,6,28,-30,90,-50,92,-19,56,79,-77,6,87,-27,26,66,-92,34,-100,71,-2,-27,-4,55,-30,-9,79,-79,99,79,-35,49,-55,-18,-16,58,10,80,68,10,39,1,67,29,44,-19,-85,-98,95,34,-58,-73,16,-5,98,-24,68,18,-81,-17,-95,-33,18,65,63,3,18,91,-68,38,23,-70,7,19,-19,90,-67,11,-45,-58,22,68,81,61,72,80,44,-70,-21,15,-62,-3,94,-11,-21,74,-82,91,-43,-11,36,-6,-21,-14,-90,16,-97,-50,-57,-4,46,-62,-88,-92,65,-98,-3,9,-98,60,-85,-47,-54,-77,7,-55,96,22,33,90,-84,67,-58,-26,50,-18,-62,60,-12,-79,-48,-9,22,47,72,33,42,53,-52,0,24,46,2,55,0,-30,-23,13,-86,24,-81,-10,54,65,-62,-97,92,-69,-55,-94,-40,31,-87,5,40,-88,-36,75,46,-61,-57,-99,43,61,23,-99,-41,-4,66,-26,65,84,-74,-37,40,-49,-93,21,25,33,27,95,2,-60,-28,43,-84,90,-85,81,23,30,-63,98,-27,59,-37,46,-91,-26,2,-62,-83,78,5,12,-65,-64,21,-52,-7,91,-19,90,13,43,3,-74,87,-55,32,84,65,-65,-94,-56,31,-26,-2,58,-8,58,-47,67,48,84,-68,-42,-97,-19,42,-27,33,1,34,-82,92,-27,-45,33,-62,-25,48,7,72,37,-94,-34,14,88,3,-96,36,-4,22,95,-86,-60,-22,63,70,94,51,92,2,69,-10,-35,62,-78,-75,3,92,26,-38,85,43,66,-98,-76,-46,-72,-56,-22,-10,-39,-86,41,-93,-2,-87,99,25,50,-44,-44,22,98,-84,22,69,98,6,30,45,-11,-95,-7,-38,-57,58,-65,82,-92,19,96,42,59,-44,79,62,3,-9,-49,5,53,1,-94,-81,70,95,-60,-4,79,72,-64,-26,46,66,50,-12,-69,45,-13,83,-29,98,28,1,-41,-41,98,3,91,-55,-19,12,-25,-34,66,77,-67,95,80,9,73,62,63,69,-33,-14,-36,27,-30,-92,5,61,23,-9,93,39,33,27,-57,-64,-32,9,-98,33,74,57,-41,-63,-95,43,86,-57,-90,-78,23,-67,72,-74,-71,69,62,-48,45,-32,-1,-75,-62,-94,-49,-44,97,-24,-38,-93,-12,-47,-23,-52,-14,-54,-92,-22,90,-59,41,-68,91,53,-84,-14,55,62,-40,-11,-60,88,-82,83,11,68,46,-86,-15,71,54,85,-29,73,-72,84,-12,16,81,75,0,88,-93,-19,52,-4,62,-34,-99,-36,-25,-28,18,5,61,-74,95,74,-14,-89,5,14,-45,86,60,-54,-29,-79,0,8,74,-92,80,47,92,89,85,-1,54,12,-11,43,-39,-32,-94,-75,-50,63,-56,-32,16,99,19,21,-36,-28,46,96,-28,-20,85,45,91,-84,-93,20,-25,26,-88,-30,-58,10,-55,-47,-45,-44,30,78,54,58,25,24,-11,23,68,19,84,6,-21,-21,11,60,-75,33,94,85,63,-50,-62,62,-94,36,68,-82,59,-76,91,-70,-56,19,-4,55,-49,8,-94,-38,-93,96,76,5,-94,-34,-99,-54,-78,-32,-34,-24,-82,58,63,13,54,-61,-70,86,78,-59,28,57,39,-68,53,-44,-64,62,42,84,-48,-72,5,-68,-61,94,-46,34,-59,-84,78,-98,97,-66,33,98,53,-52,-8,58,68,-6,-73,-67,58,-100,49,-12,73,-79,19,-79,23,-84,-2,3,4,-42,20,-70,-13,-43,-74,-21,-61,-2,39,-55,61,19,86,-59,28,51,38,14,-23,-75,77,67,53,-11,-94,-97,7,-28,41,29,86,-65,98,1,-43,-80,54,-79,27,-4,38,-25,-88,-62,-25,-74,63,75,-18,-39,9,-73,-29,-66,95,54,96,-26,16,-26,50,10,-28,-32,-53,-58,84,56,83,88,9,-24,56,92,27,1,57,43,66,-99,-38,-21,24,-67,-44,58,85,-24,31,-36,-61,-63,-2,97,-79,-58,43,79,41,-18,-63,-15,94,-81,-22,-78,99,-20,-94,-64,-9,3,76,56,-47,-21,-51,30,-70,-44,-54,24,-13,-75,-48,-11,23,-55,-41,-96,84,-48,-19,-4,-6,76,-54,-56,-33,20,22,-62,-22,-71,3,-30,-49,11,46,98,-86,67,-18,64,56,58,-60,-45,-57,-14,14,76,-18,-69,4,85,-36,71,86,70,14,33,-5,35,-51,-46,-92,-60,-62,-75,82,9,96,16,48,-34,96,52,-20,-6,-21,-62,-82,13,-58,-7,-78,92,-37,-31,-12,64,93,-95,-15,-29,-48,-89,92,-78,-54,-22,-96,72,6,-58,-68,42,98,79,25,69,-90,43,-12,20,-12,24,46,-31,-30,-42,25,-49,65,21,94,-13,0,-54,-22,-27,57,96,-18,-45,-21,0,54,77,4,33,-43,-21,45,61,-11,-23,-12,-82,66,-70,-45,-49,-10,-8,-38,24,42,-56,-70,-7,48,-64,31,6,18,27,-61,-82,89,19,-22,-49,48,66,-54,84,-47,63,47,-24,54,-91,-85,-25,57,3,-46,-59,21,47,-95,-1,-57,-11,-82,-1,-53,-67,-86,67,-60,-99,1,21,-69,-50,61,13,-22,83,-36,0,-17,-20,65,87,47,96,73,3,-17,33,6,88,5,-57,-97,-34,-77,91,-61,-35,12,-72,97,98,5,-15,-24,-93,-72,-93,34,-41,50,54,-79,-5,-52,-29,-93,-10,95,11,-14,-15,40,-35,-43,-55,-53,95,-29,-24,45,-67,20,6,41,-74,63,-65,-57,-71,24,46,33,-92,34,-61,10,-19,-13,6,13,-14,66,19,-68,0,-35,36,-36,-38,76,21,-76,25,-93,90,-13,-100,80,5,-43,-74,35,-19,-19,-53,-72,-82,-21,99,-4,67,-26,-15,-52,20,29,37,22,26,-99,34,55,-50,-69,32,63,-5,-38,13,89,92,50,-17,-65,43,99,5,39,22,54,-75,53,32,25,-28,78,-32,8,12,21,97,1,-38,-2,-26,52,32,64,-19,85,80,5,-26,-19,56,-61,23,-1,-80,23,-66,-38,53,-59,-15,70,-13,30,-12,-56,74,89,-50,53,49,-82,-9,49,6,10,-82,56,58,-69,67,24,76,26,8,-41,34,31,43,24,24,87,64,5,8,56,-62,-54,-24,-8,4,-10,96,-41,57,78,-19,-89,-45,96,62,29,78,-53,66,-85,-54,-87,36,5,92,-60,71,31,-7,-95,66,86,-2,-89,-55,-87,68,-56,-35,4,-63,17,7,97,-49,81,93,99,91,90,-5,11,24,86,-81,-8,-52,-8,-55,53,-50,61,-59,25,32,97,14,-96,-29,78,32,-77,80,28,30,62,-10,-51,64,68,87,26,-32,-78,-23,-73,26,-100,67,89,11,-39,42,-44,-32,63,-11,50,27,58,9,-53,-86,7,40,98,-92,-14,38,-81,-51,-16,50,-63,-100,23,68,-93,-57,11,93,8,-84,27,-49,-66,53,26,-29,62,-16,52,60,-62,-25,-72,-40,-77,62,-37,67,-61,77,-45,-82,97,-62,-83,71,22,-64,88,-83,81,-1,25,-31,-7,-9,36,77,60,-74,-36,-13,-93,38,82,-31,-90,56,-29,45,61,30,2,-6,-33,13,13,-56,-93,57,52,-91,-19,-35,49,-7,81,-91,-46,3,-34,40,45,34,-43,-26,-15,80,78,-39,43,72,99,20,-81,-58,39,-14,-1,76,52,15,-18,68,-52,38,49,-21,-9,2,-33,-76,-53,48,-38,-16,17,-87,-99,-65,-70,-37,-6,0,2,-51,43,64,25,-75,-82,-38,-62,4,-90,24,-56,-5,-5,43,37,99,37,14,-49,-48,-6,28,-83,-91,47,4,-36,-95,4,81,-82,-32,-19,57,54,-69,-47,31,50,-54,-100,-77,-24,-11,-4,37,-22,28,-79,60,-44,-19,-39,24,-11,75,-43,-31,-91,50,-21,9,-7,-85,5,66,70,4,-27,-59,-46,78,-5,-42,88,-49,-31,-29,94,44,-32,-77,-5,37,-31,-48,-19,-87,-49,-41,4,25,30,81,89,55,-82,62,96,-28,-42,29,-79,-53,83,-1,-35,97,3,-54,72,-39,42,-25,57,-33,-41,-70,50,99,71,54,59,34,26,52,1,90,63,23,-81,-72,-30,51,59,-96,-16,87,-80,48,60,-28,9,-80,29,-66,-75,-64,88,-22,-34,67,-61,-72,-94,52,-17,60,80,38,-40,38,-51,-81,-74,24,-3,-63,90,-56,-82,-25,-39,-27,-97,36,12,96,-100,84,-97,-12,96,87,71,12,-44,79,68,95,67,37,-76,-27,95,29,-99,-30,-15,45,-30,-62,36,-20,-38,-98,84,-49,-58,24,-40,42,8,-95,14,64,-16,-68,-70,55,47,-9,-10,-86,14,-81,26,29,-97,0,92,-65,-61,-66,-77,-24,4,0,26,55,-41,28,47,39,-64,-4,-10,30,-82,-11,58,-92,-45,-100,-90,22,29,24,-44,66,-56,-37,92,-47,64,-34,54,-99,40,55,23,69,-96,-58,29,91,-80,-8,35,-40,66,-39,62,-83,63,83,96,-71,-36,-39,-21,-67,6,-22,-58,-49,48,52,29,-69,19,67,-62,-42,-59,4,11,43,60,45,-73,-92,-91,73,-26,35,86,-62,-28,67,33,15,56,-14,-50,26,-7,-6,-25,-68,66,-93,83,80,-86,97,86,-94,-10,-88,-57,47,75,2,75,-4,-16,11,-48,2,89,34,-70,31,20,-15,88,75,-46,65,-99,2,-94,-77,-60,68,44,-63,1,2,98,-85,91,96,47,26,90,29,-32,-91,-50,-74,79,49,83,86,94,94,-61,23,64,59,39,-35,-42,-2,-13,-17,-40,-30,12,-66,34,-55,-14,-76,75,43,-83,18,79,-2,-69,71,-57,-51,75,-30,-44,82,-96,97,22,55,43,-21,-20,-36,31,56,6,-77,21,-76,52,-48,63,25,-21,68,35,41,-51,-46,-53,68,63,22,31,0,14,43,87,44,-17,59,-64,-26,21,-97,47,-16,23,-32,13,3,46,-14,35,89,-11,65,-11,5,1,-81,7,11,-83,63,92,-83,-82,5,23,-26,-6,-50,-44,89,-68,15,-6,86,35,-77,36,65,-11,26,-19,28,29,8,-42,68,95,66,-71,-31,65,-83,-45,77,-99,38,91,17,0,-74,-29,-69,13,44,-95,28,-9,59,22,49,31,-32,-24,9,1,-25,15,76,-55,94,-42,-84,84,10,16,-70,16,-17,2,10,50,80,44,-7,-18,5,38,-17,22,-27,83,69,52,-82,-33,9,37,-28,46,-62,-91,-82,33,61,-62,6,8,53,52,86,35,99,-42,-24,63,45,12,21,-70,23,-37,-19,-6,63,-30,93,73,-93,-80,55,42,-58,-81,60,76,11,-9,39,-56,92,72,-39,-47,-79,-65,85,26,-27,-13,-69,-23,88,-60,-93,-3,-12,71,70,42,-6,22,-31,-15,90,48,-80,33,-8,99,50,-74,-54,-28,-21,22,-63,6,-42,33,30,59,-44,-58,3,-9,-32,36,-36,-1,-54,-79,-31,75,-52,37,-24,-48,-4,-36,-5,16,99,56,98,-92,85,-74,90,-74,-1,63,-70,63,54,65,58,-80,-56,68,-29,-68,-6,-33,63,-74,95,64,17,-80,-49,-75,60,-30,-23,-42,71,5,-60,-20,-86,-27,-37,-46,-22,5,-25,-88,50,57,-28,38,49,-21,6,49,-37,27,-40,-14,-1,3,-11,28,7,-21,90,51,19,7,63,97,61,5,-99,-34,-50,-74,-28,-53,6,96,32,-71,6,35,-79,81,-59,-20,-53,-19,35,-20,-2,40,-14,-81,71,-68,-54,97,-54,87,35,-19,-10,-25,-1,-68,84,-38,32,4,54,57,11,33,2,-59,85,-24,39,1,17,95,60,92,37,-58,47,-15,27,-28,-43,98,-97,77,-92,-30,45,-34,85,-57,98,15,41,-29,-77,-43,-55,74,32,4,61,90,-31,77,-13,-59,-11,-100,-19,66,-82,14,47,89,-39,-8,-41,15,73,16,81,23,-53,-98,86,42,97,-67,94,38,97,91,-33,41,54,-91,61,57,31,-92,-91,3,24,79,-66,7,-76,21,-12,11,-60,-19,86,-91,30,13,30,1,-55,-17,55,-26,59,-14,-70,-91,3,89,-100,-31,-94,47,89,92,-100,-39,14,61,-64,57,58,39,59,-91,79,70,-99,-57,-58,-98,40,9,-58,-29,53,51,79,-61,-95,41,72,49,-2,50,-20,-87,36,-52,-97,16,-27,34,-42,-98,42,-39,-58,57,-82,40,64,9,-53,44,-38,69,-24,67,-77,56,84,50,-63,94,-11,-84,-34,31,-79,52,-69,70,-46,-37,2,-65,-62,45,91,52,44,68,83,40,7,-53,16,68,-65,-14,-36,77,-10,70,-40,47,24,38,45,10,68,-93,56,10,-71,-46,82,-38,-8,-57,26,-15,-48,-92,-13,80,76,-87,29,28,-82,-75,-59,-97,78,-30,-48,39,-55,-31,-6,-67,-62,63,-97,-8,-5,35,46,81,-85,-60,85,-11,-77,-3,-20,38,46,11,31,-78,37,25,0,-68,65,91,-98,83,85,-12,-16,58,-42,18,-68,80,4,-43,93,44,-16,37,-84,-1,3,-38,-56,-56,-13,95,-45,50,66,36,-32,54,-43,25,-85,-48,-16,18,-27,29,-30,16,-74,-7,-28,-25,51,-71,3,-34,-71,59,92,-64,-67,93,-14,79,82,-70,97,44,-100,-78,46,-17,97,89,68,4,-53,58,-33,-13,-69,13,-10,31,-47,-92,88,78,-4,0,-25,-7,54,29,-82,30,77,1,28,3,79,19,96,3,-89,8,13,93,85,-82,-64,-87,7,-94,40,-79,-86,40,72,6,-12,26,-15,-69,-16,77,-4,54,80,89,15,-16,-75,-64,23,66,-68,-55,-27,-86,-24,-85,-92,-73,-61,75,72,82,49,-73,70,-14,-9,1,-17,99,21,58,6,12,-79,-25,-21,-46,7,96,-77,-59,60,63,63,-44,-49,31,79,56,-80,-32,51,-77,-68,-5,-50,92,-15,-68,4,41,62,65,97,-65,34,-30,90,-89,47,36,-31,88,22,-82,-93,84,-4,-74,-34,-38,-42,17,-97,-97,45,18,57,-28,-90,-76,-88,-80,48,-28,21,-69,-96,82,-39,-26,52,-67,-66,13,-16,73,70,4,-60,55,-52,47,28,-19,23,88,43,53,98,-1,-42,79,-76,-27,-91,21,-52,94,-42,66,-14,19,-13,19,-82,39,-53,-34,-45,-42,56,-28,-27,-51,-52,3,-55,-52,54,78,-91,-62,-11,-16,-99,-58,-31,-41,-25,42,-24,-56,-74,84,38,67,-23,-64,61,-12,-60,54,-95,-80,65,51,68,88,-19,23,-76,-23,-15,46,-41,-47,-5,-10,-95,-62,33,-12,-69,49,-57,27,56,-88,26,-15,-99,38,59,-50,-86,-96,-39,-45,-57,-14,-76,43,91,33,32,-25,81,-32,1,-8,-41,15,52,-62,97,12,56,-36,77,-37,97,-84,-98,97,50,76,8,47,37,-32,26,14,-14,-83,-17,-53,6,26,-77,95,-87,30,20,13,-68,-17,99,66,47,-5,-24,77,-1,-63,94,84,-34,-83,-75,-49,-31,-69,-68,-26,-29,66,-52,43,-71,-17,-97,-48,18,-33,-12,-42,33,7,-18,36,6,-28,-43,-78,-85,5,-38,-55,-84,-97,-39,-15,-94,18,-58,-17,-59,78,71,-77,-29,71,-83,-3,14,47,12,-50,-99,1,-47,-88,45,-61,-28,-9,-47,-79,-21,65,62,-88,-8,-52,52,24,-77,95,-46,-89,-25,90,29,89,20,42,22,-63,6,82,-77,46,99,70,61,77,93,53,-83,39,13,-14,25,53,96,36,20,-89,-53,3,7,91,-9,17,-33,-78,3,3,-96,28,-20,-55,55,50,19,-36,-3,4,1,-57,-48,-7,68,70,35,-85,89,95,-71,32,-92,-46,-71,89,72,-76,36,23,7,-57,-20,34,-4,-27,12,-27,-49,-98,73,85,-81,-80,-52,21,21,-99,-44,86,6,-65,-66,-60,73,80,67,-7,2,-98,55,-27,55,60,-9,-11,41,94,34,1,-21,-72,-36,-67,20,38,-92,88,-20,-95,-2,-11,-99,-93,-40,-85,-7,-78,71,-47,-59,-20,-31,6,-57,26,4,7,-41,83,-56,-3,40,-28,-91,31,-38,41,97,37,-52,-23,-8,-57,33,-35,-66,99,-47,-23,-46,41,90,-1,-53,51,60,-20,-88,-42,-17,-26,-64,10,-94,-40,-35,60,-91,84,-18,-43,28,11,-53,98,66,42,-69,80,-6,81,-54,-62,6,46,-94,-74,-40,93,74,-94,87,-7,41,1,28,-64,77,87,-43,24,38,46,-40,9,24,60,92,66,66,22,16,54,51,-12,-90,21,29,-35,-84,62,-57,-81,66,99,-4,87,-57,-100,88,-86,-48,73,29,54,-69,-99,98,-22,28,-42,-86,41,-25,-14,62,-35,13,-3,91,48,-21,27,53,38,-23,72,-52,39,-85,56,20,-13,31,62,-95,-47,0,-72,17,69,-71,-49,97,-9,-63,98,-15,39,65,-49,-92,-1,99,36,91,75,10,16,-50,59,-53,97,20,-72,-78,51,-22,-35,87,-55,-86,36,56,54,-49,23,-80,73,91,87,-46,62,45,16,-1,47,-60,-88,10,3,-75,15,11,71,6,78,-14,55,-100,47,-21,-92,10,-86],\"z\":[204925.73500000002,42413.73499999999,585081.94,81469.46,210484.34,2481.4399999999987,17236.708333333332,8223.548333333334,48971.40666666667,3590.348333333334,15377.14833333333,216359.335,36247.59333333334,551166.9266666666,527086.7083333334,179176.26,483868.5,238791.015,236795.44000000003,553603.5483333333,246085.68166666664,407104.5483333334,27611.139999999996,404928.0,63715.99333333335,1045970.2933333335,368507.3333333333,124126.24,1308084.9483333335,478901.9483333333,306708.63999999996,221831.14,3825.3333333333335,177754.79333333333,533099.3350000001,6110.339999999999,754791.8333333334,6518.560000000001,276227.8333333333,13394.106666666665,208533.375,122044.56000000001,1476252.3733333333,6964.348333333331,161497.67333333334,170638.34000000003,797204.735,144898.66,4130.0149999999985,759414.5,17753.166666666668,1067938.0,71467.36,405337.375,151901.83333333334,252338.24,118327.57333333335,468360.24,5175.414999999998,266144.6666666667,1886.3399999999992,70742.70833333333,959244.2599999999,173339.36000000002,1388555.1666666667,3967.535,1359568.375,302974.01499999996,2304.2016666666664,3087.6733333333323,3703.8333333333335,229486.375,941829.015,16788.0,515444.215,11891.481666666665,28962.815,8569.708333333334,68831.49333333335,578959.5399999999,133899.2016666667,11572.881666666668,241686.50666666668,72288.64,702506.6066666666,46015.54833333333,182039.76,984196.9600000001,88423.135,2808.6933333333327,6480.339999999999,24962.748333333337,965118.8150000001,853576.735,119366.15999999999,1136383.375,128726.24,242956.34,1077665.9400000002,485249.2816666667,1031057.86,866921.1350000001,800262.375,193380.77333333332,17975.706666666665,38097.814999999995,8156.815000000001,714910.64,1265043.1933333334,35639.60166666666,78499.13500000001,984926.2150000002,63793.881666666675,34378.34,52682.56,16398.041666666668,589074.3400000001,194324.94833333336,322473.45999999996,93125.94,1748.5,1314929.8816666666,117667.615,391773.84,6151.540000000001,182714.415,133993.28166666665,113351.33333333333,813425.44,11425.348333333333,160278.52666666664,27513.001666666667,235561.59333333335,704608.9600000001,2414.935,709280.7083333334,636158.0,45408.48166666667,225549.46000000005,152821.68166666667,14474.260000000002,1184276.0683333336,1210217.2266666668,268101.4016666667,145769.67333333334,171287.86000000002,159631.00166666668,1462212.0733333332,6644.693333333333,930172.4016666667,1187080.56,368641.84,119683.20166666668,483228.6933333333,51253.135,94050.34000000001,74488.60166666667,117578.935,137994.335,42786.615,1201486.7083333333,1332649.2149999999,17275.614999999998,150300.375,88009.53500000002,240394.1066666667,1024952.6149999999,457561.22666666674,1194182.7400000002,942338.7733333334,973220.8016666668,873570.0816666667,5277.326666666664,13102.041666666666,6608.001666666663,90005.815,15653.335000000001,928208.815,56269.93500000002,186294.415,146519.43999999997,494393.0416666667,637704.9349999999,304873.26833333337,1007475.415,120771.59333333334,203280.56000000003,4231.726666666667,46484.34,107679.59333333334,173827.44,301571.8333333333,59498.0,73317.375,3305.1666666666665,60286.0,985768.4733333333,87281.36,356574.87333333335,751307.8933333334,124407.81499999999,59354.26000000001,454226.86833333335,2026.4149999999997,120155.62666666666,704748.7400000001,50360.468333333345,8426.56,473493.86000000004,684754.3400000001,27610.660000000003,268353.88166666665,38043.375,69195.375,3318.1066666666666,105788.335,821611.215,32567.333333333332,1160327.8333333333,219234.34,781715.815,465595.1666666667,981595.8400000002,48613.615,168110.5,160840.375,919889.935,1033419.0416666666,776060.4733333333,383825.49333333335,119845.00666666667,138466.96000000002,43166.793333333335,672148.3483333333,30136.959999999995,487775.7083333333,629457.735,8203.801666666666,1356985.215,802420.7083333334,17112.559999999998,114605.06,26326.0,152878.80166666667,407266.1483333334,217482.0266666667,1073578.3483333334,17988.74,4344.873333333334,7660.468333333333,213374.74000000002,255688.66,1202962.0416666667,20405.135000000002,18987.333333333332,24887.493333333332,1122698.5,89278.415,114634.66833333335,48215.166666666664,72073.14000000001,936562.2599999999,346157.00666666665,190200.74833333332,22351.32666666667,229565.06833333333,32298.041666666668,1092542.0816666665,693609.46,1282297.375,1027798.7083333334,247219.49333333332,587035.1666666666,371368.73500000004,14927.333333333334,59573.535,272473.7066666666,188574.54833333334,83294.735,8412.639999999998,992274.1066666668,23929.934999999998,24854.39333333333,182206.96000000005,167535.49333333335,1337404.2816666665,77765.54,54456.64000000001,518241.86833333335,30300.74,29870.801666666666,94397.84000000001,582016.2400000001,11582.560000000003,551858.7733333333,19192.073333333334,13794.96,1417851.0416666667,1100105.135,11671.335000000001,451070.5,549982.0,49870.815,19791.548333333332,634925.86,1382821.735,771844.015,23225.735,43897.26833333332,1255336.735,1318818.0,110410.615,334963.815,1170836.5266666668,872467.7083333334,910678.6066666666,1245941.7483333333,424633.06000000006,756437.7599999999,19885.226666666666,839836.3350000001,3709.7083333333335,164661.83333333334,197567.33500000005,8038.735000000001,126610.48166666667,304517.86,1004803.535,27133.815000000002,314943.19333333336,626308.0416666666,53618.081666666665,124505.00666666667,972370.4683333334,583244.5266666667,3248.5,169971.86,244509.84000000005,619856.5599999999,24717.166666666668,301310.215,197031.615,218756.00166666668,1189683.8933333333,727413.8333333334,923129.86,1127016.1600000001,152823.33500000002,38540.375,346657.375,456984.3483333333,3379.193333333333,97685.375,27534.935,830874.5,202598.66666666666,182000.50666666668,3359.359999999999,12083.86,672646.375,87796.48166666667,53692.534999999996,131680.015,31427.135,57985.415,1086821.535,39408.106666666674,9527.215000000002,2429.8149999999987,52431.935000000005,43817.22666666666,386385.00166666665,1015441.1666666666,714896.0,135924.66,127152.66666666667,86593.935,546694.96,160771.215,489419.8599999999,62074.23999999999,109412.48166666667,160352.13499999998,214703.375,1318477.76,901873.7600000001,88155.57333333332,30685.97333333333,3433.0149999999994,465564.34,19303.76,897600.015,7400.215000000001,18975.375,630688.9266666666,137913.67333333337,73892.375,21993.806666666667,157514.06833333333,1225595.0416666667,232086.26,101366.81499999999,87798.65999999999,154636.61500000002,1040565.36,94378.5,141035.59333333335,265501.8933333333,227884.87333333332,45149.26833333333,835655.06,241742.60166666668,16287.939999999997,631297.3350000001,121353.97333333333,1260571.3333333333,181394.535,29645.97333333333,272553.54,66430.74833333334,431706.3933333333,2391.7066666666665,269254.33499999996,2649.1349999999984,87044.0,517837.1666666667,2017.0933333333332,53948.375,88525.32666666668,471206.4683333333,1074836.5,24576.160000000003,51314.73500000001,4915.006666666667,1114071.94,1109629.84,619178.535,82673.86,19335.306666666667,555343.015,380775.20166666666,827068.9066666666,40831.615,150783.22666666668,799484.2600000001,677658.2816666667,1753.201666666666,135323.86000000002,336806.26,244823.375,1147185.9733333334,4671.573333333331,468986.50666666677,1381612.5,22766.708333333332,279704.0416666667,133089.76,346673.335,1861.375,10962.215000000002,158606.70833333334,30183.006666666664,248198.66666666666,41902.56,676466.1349999999,1108083.415,98986.73499999999,44579.36000000001,12083.041666666666,452422.535,58672.73999999999,4793.708333333333,1266168.4816666667,154312.92666666667,436196.33499999996,712031.3266666667,1780.375,214043.36000000002,227182.86833333332,447561.59333333327,1744.1266666666654,849226.415,162395.80666666667,1542108.0,1325447.4816666667,1080142.735,623676.375,43602.90666666667,3965.2016666666664,215194.53500000003,149388.5,384874.6400000001,37107.76,102472.80166666668,176590.66,922731.6149999999,639740.7083333334,745088.935,282692.215,310335.76,2100.1349999999993,64780.80166666667,36676.0,11998.0,68672.0,579229.8150000001,263822.815,36603.44,871924.4266666666,134527.30666666667,1140872.215,742162.16,27406.0,862197.2016666667,1167830.0416666667,666131.0399999999,134453.04,1160772.0,663106.3400000001,982253.1733333333,178106.415,79740.80166666668,484298.74833333335,26369.993333333332,1141558.0,83666.375,796452.375,16594.34,169163.375,16759.833333333332,918042.9266666666,1114873.615,843614.6149999999,547832.3483333333,1089695.8683333334,506824.3483333333,2945.4599999999978,171172.47333333333,727319.5933333333,14480.041666666666,1177521.2016666667,512265.0416666667,756378.415,252982.615,3703.8333333333335,76438.64,107149.14833333333,3588.4266666666676,738767.1666666666,33785.49333333334,247367.19333333336,121720.60666666667,66684.70833333333,87477.16666666667,3636.375,17192.935,713109.815,612535.6016666667,11468.801666666666,907737.4600000001,61801.948333333334,1273550.4016666666,176423.93500000003,525049.4016666667,2932.56,251801.06000000006,122774.21499999998,42444.659999999996,260208.46833333338,240848.66666666666,31158.39333333333,758386.2933333333,686488.2400000001,51609.535,955896.0266666667,369535.215,50656.0,16797.015,2486.4683333333332,1076356.9600000002,8256.0,174994.615,259200.41499999995,1442747.2733333334,2056.0,32866.01499999999,58082.375,333525.215,5757.081666666668,114938.70833333333,86569.88166666667,33973.615,711382.815,393599.41500000004,502560.87333333335,65624.815,1196308.735,1060395.0683333334,119754.93500000001,87181.30666666666,1096328.375,11683.375,287577.94,83289.135,12812.0,44016.340000000004,855581.6733333333,1020866.5,912008.56,583244.5266666667,456201.76,653116.1066666666,909724.8683333333,611264.7083333334,129859.40166666666,126375.36,91751.33333333333,88352.34000000001,1080374.7400000002,88809.17333333334,173029.735,778269.8683333333,17450.739999999998,238824.90666666665,449758.375,383599.6016666666,1906.7083333333333,190309.70833333334,138900.66,15987.460000000001,3520.24,498304.2683333333,757675.6816666666,371454.93500000006,125438.39333333331,380204.6666666667,370056.2683333333,41521.193333333336,147190.535,148146.46833333332,168805.73500000002,146035.67333333334,151625.735,26230.24,485954.13499999995,303098.34,170735.75999999998,829490.56,991180.66,44748.073333333334,458086.0,70354.96,1404588.375,1158950.826666667,36546.5,120927.83333333333,24597.333333333332,60002.801666666666,93597.415,1156688.6600000001,718398.66,1304358.5,55564.0,33031.54,694109.3350000001,44413.01500000001,79259.14,1489408.9600000002,171612.0,1251164.135,874875.0816666667,698226.4016666667,760888.96,429687.0933333333,31768.375,25934.40166666666,528497.3333333334,133704.80166666667,39272.293333333335,42519.415,36594.74,1769.8333333333333,93337.28166666666,149704.0,689239.8066666668,1125890.415,43297.535,527920.215,238136.94833333333,392344.34,55079.61499999999,382213.44,594333.0399999999,95522.61499999999,1115325.2266666668,1316937.46,1150901.8333333333,34592.681666666664,4758.334999999999,116754.56000000001,14497.801666666666,187827.335,193640.80166666667,22839.833333333332,558929.06,918550.0416666666,2233.4599999999996,213519.6266666667,233341.375,493225.8599999999,654719.2150000001,149472.0,488448.375,1277182.375,259688.41499999995,243374.2816666667,1348627.375,473324.5483333334,4722.0,23963.30666666667,572005.9483333334,98080.65999999999,503562.9066666667,146954.47333333336,187623.70666666667,934672.3733333334,17103.708333333332,31900.026666666672,3198.6399999999994,1322611.1666666667,36461.74833333333,7388.415000000001,318874.6666666667,699166.2400000001,6974.815,69127.80166666668,108010.06833333334,840041.04,435572.815,348853.54833333334,185973.27333333332,251723.415,5762.735,80363.21500000001,14240.56,59948.415,414295.86000000004,284044.815,336444.4816666667,11635.335000000001,204450.1266666667,185137.94833333333,36358.0,1277479.8683333334,1290335.1666666667,127769.43999999999,1264240.015,241720.73500000002,854664.0016666668,384844.56,32286.0,48616.34833333333,1841.748333333333,36045.615,127770.16000000002,22256.77333333333,124805.72666666668,57014.335000000014,1157464.7083333333,212297.36000000002,1106669.8150000002,136517.09333333335,43375.34833333333,45681.993333333325,115831.375,17069.041666666668,5159.334999999999,33294.135,27974.0,244281.14833333335,1328033.6266666667,208927.415,139700.40166666667,40015.814999999995,5541.481666666667,1737.734999999999,31786.201666666664,25522.24,730957.36,10547.041666666666,6659.735,42326.34,58070.375,1176501.535,1145328.7083333333,480156.4733333333,31150.24,117598.34833333334,6294.739999999998,146497.015,922131.535,65457.75999999999,3753.7599999999998,481891.7083333333,591700.4816666666,15509.601666666664,10260.534999999998,570002.2933333335,764175.4600000001,1030487.1349999999,72902.86833333335,177133.73500000002,2283.6149999999993,329073.8333333333,1052174.9066666667,64191.36000000001,511257.49333333335,1057631.535,30076.708333333332,809932.0683333334,559301.215,48337.833333333336,12578.468333333336,69512.34000000001,25576.375,1293652.0,239638.415,119293.32666666666,62413.62666666668,7285.375,836057.14,779307.5733333332,7877.201666666667,1408661.3333333333,139353.73500000002,45624.948333333334,721041.375,789036.8266666667,103538.37333333335,2714.214999999999,8020.660000000001,5212.926666666666,35062.01500000001,33657.415,530822.0816666667,6088.640000000002,177900.60666666666,113510.00166666666,688606.0,113078.96,12548.868333333334,16984.5,56097.166666666664,778247.8066666666,1248599.4400000002,166340.24,770026.0266666667,502668.7933333333,928796.935,814025.1666666666,448279.67333333334,29966.375,194555.81499999997,154757.33333333334,155357.93999999997,6927.673333333331,11042.506666666663,992311.7083333334,65436.16000000001,7002.534999999999,1214594.3483333334,99782.80166666668,35534.5,313138.375,1026573.1349999999,1114567.375,240170.4733333333,63371.708333333336,16781.281666666666,132539.44,875010.2066666667,18955.375,726709.735,50128.63999999999,1106228.5,2995.1666666666665,135781.80666666667,633337.375,16316.815000000002,6506.106666666664,107121.74833333334,601704.2150000001,1290632.0683333336,106317.415,349507.5733333333,638720.0816666667,7635.415,110389.06,160270.535,102271.99333333335,8563.166666666666,358137.1400000001,8093.041666666667,5625.601666666663,223583.135,10428.815,790614.415,1102208.5483333336,469045.815,635181.535,220220.93500000003,151182.46833333332,2049.7083333333335,1068168.6666666667,152673.36000000002,2208.335,72412.23999999999,531852.9349999999,54152.073333333334,31722.206666666665,261563.375,11985.273333333333,4148.2599999999975,4316.559999999999,59548.50666666666,73122.96,113166.16000000002,81301.32666666666,694264.535,21337.375,181421.83333333334,624882.015,700844.215,1361949.5733333335,1304713.375,1217516.3399999999,133720.375,153949.14,936277.015,958579.735,158207.83333333334,547998.6666666666,73848.74833333334,116972.79333333333,1212413.735,405972.48166666663,21799.535,71596.23999999999,47542.659999999996,451776.66,7695.335,270680.535,91036.96,4372.615000000001,462665.1666666667,15352.74,24594.126666666667,649366.015,122685.04166666667,17610.268333333333,266305.1666666667,8732.74,1136011.7483333333,31447.406666666666,134605.70666666667,13319.993333333332,1985.5399999999993,1239661.6150000002,2310.773333333333,59417.375,273567.375,118028.74,1230731.84,233767.84,1170529.735,55825.306666666664,140898.215,179162.06833333333,12454.0,15204.868333333332,523619.54000000004,497083.8333333333,3415.059999999999,146843.48166666666,112696.335,3076.5483333333323,16864.339999999997,2795.7083333333335,218490.375,70631.70833333333,2401.3599999999988,6922.535000000001,286386.01499999996,723386.535,509648.5483333334,5580.415000000001,873769.0933333333,20761.059999999998,480471.94,170705.60166666668,778559.46,792180.5483333333,135056.42666666667,234209.88166666668,63098.24,1111742.735,544702.5599999999,334976.615,142979.89333333334,1316055.4016666666,6408.240000000002,168005.93500000003,7307.139999999999,412607.84,724355.44,482295.32666666666,33235.401666666665,213204.77333333332,588156.64,151230.415,121213.88166666667,222055.135,164497.33333333334,311089.535,105170.53499999999,1329582.8150000002,1347717.8333333333,110008.66000000002,93733.04166666667,3355.7483333333316,63863.039999999986,1343378.6933333336,2027.0816666666667,2280.375,766845.14,32578.335000000003,105092.69333333334,2188.415,653466.2400000001,679792.815,1131639.6683333332,3065.726666666665,247295.14,47095.593333333345,32366.334999999995,1020285.7266666667,314808.0,764828.6016666667,49369.335,16830.773333333334,1009521.1933333334,347378.5,75395.19333333333,111421.97333333334,28052.215,166173.015,669955.015,65771.215,1076846.24,761293.7599999999,1432457.86,8784.135,698821.8066666666,12031.06,30863.135,1038511.6150000001,180040.66,1091096.4016666668,116416.61499999999,26311.708333333332,165256.16,26670.373333333333,689734.735,609543.415,544475.84,476680.5,12715.268333333332,32445.375,708685.04,4608.073333333334,844366.0,1386212.015,3277.1933333333327,235861.28166666665,11297.734999999999,129818.56,969971.8333333334,116314.5,5585.626666666667,13084.5,117181.01500000001,247301.0016666667,242690.0266666667,82575.62666666668,183614.96000000005,560618.015,36806.86833333333,1116227.76,1471193.8333333333,143608.16,75382.415,213117.54,529460.5,898858.6666666666,367305.86833333335,593852.0816666667,108687.76000000001,100201.20166666666,389809.75999999995,381969.1483333334,45701.833333333336,12221.04,379514.88166666665,260096.47333333336,57954.80166666666,832612.415,895300.2683333334,184084.26,121713.54000000002,143960.39333333334,47507.615,722200.9483333332,896330.56,98818.21500000001,491966.0016666667,112343.21499999998,408317.3333333333,2994.5,40340.159999999996,13226.135,1208297.375,122233.815,89963.30666666666,59038.07333333334,405718.01499999996,76430.00166666669,666017.7266666667,1007626.5,1255301.2149999999,254434.135,27503.66833333333,9113.068333333335,366110.0733333333,35381.27333333334,2365.0066666666658,13384.5,63131.806666666664,33716.401666666665,1361400.2933333332,14048.708333333334,751162.4816666668,17266.16,287178.26,670476.64,215726.14833333332,16302.659999999998,623609.4016666667,1349228.0266666666,1314254.6600000001,353703.60166666674,80911.27333333333,100417.04000000002,130854.33500000002,1164069.8016666668,26481.735000000004,14916.293333333335,103774.07333333332,101202.16000000002,4165.939999999999,1444028.64,13087.081666666667,451557.86833333335,606255.8016666666,115825.815,91182.16000000002,948848.66,41612.01500000001,3625.375,2732.3349999999978,513505.375,11320.073333333334,348579.72666666674,224492.07333333336,15005.801666666668,198701.14,15448.748333333335,776407.6149999999,57489.415,2416.214999999999,23062.77333333333,63547.375,32887.135,512459.0816666667,1749.8066666666662,2880.8683333333333,67649.54,997553.015,136761.83333333334,200506.56000000003,1757.8149999999994,18344.393333333333,1247064.3399999999,431603.86000000004,152130.735,351477.375,258118.375,550730.7083333334,38861.335,194959.27333333332,16403.375,1183864.5600000003,1146504.1600000001,435175.86000000004,266607.06833333336,963887.815,171705.93999999997,80363.21500000001,51484.0,106099.14000000001,49564.10666666666,491876.5,237466.74000000002,1443858.5599999998,242053.14,733938.2016666667,986138.5,33068.26833333334,113628.74,133658.815,1286069.326666667,977312.0016666668,96732.54833333334,344257.45999999996,96317.67333333334,89338.13500000001,16629.335,1105066.6016666668,320073.4016666667,570874.0416666666,591733.335,620484.375,547514.9483333334,252817.84000000005,486633.75999999995,98009.06833333334,30598.815000000002,10887.46,55186.615,418593.9733333333,60699.86000000001,9044.215000000002,9910.268333333333,128376.53499999999,65467.46833333332,37836.50666666667,47029.226666666684,143216.42666666667,178509.66833333333,166165.04166666666,110177.86,1226321.8066666666,457350.0266666667,2782.401666666666,595533.14,59984.61500000001,429430.41500000004,753204.5483333333,1296053.735,95206.60666666667,15027.06,21374.5,730327.86,126676.37333333334,622272.8733333333,18950.0,14246.0,45482.815,1038092.375,2034.0,451078.25999999995,14123.601666666667,238804.96000000005,165341.215,27872.0,67624.53500000002,470567.74833333335,30035.375,284655.375,403269.3333333333,8672.135,11905.593333333332,866429.735,121071.09333333334,597416.2599999999,175172.14833333335,116175.16666666667,496450.24000000005,775986.7933333333,501160.86833333335,528248.0416666666,315803.0416666667,233626.24000000002,480768.3400000001,1813.2733333333333,11008.375,40618.935,222608.735,909034.16,897114.3733333334,674082.3400000001,129789.76000000001,271384.375,1374527.7066666668,24356.0,7847.860000000001,3338.5,2125.0399999999995,12754.606666666668,679768.6016666667,498781.06000000006,26405.414999999997,14280.5,29878.0,1037956.215,474918.335,48555.30666666667,9019.326666666668,461842.6016666666,60805.041666666664,289313.6266666667,203509.375,8729.614999999998,184084.26,108296.34833333333,640322.0,535672.4683333333,16207.375,992883.4816666668,754584.0266666667,124224.93500000001,389856.82666666666,113615.80666666669,9968.375,5648.535,805423.84,77609.04166666667,325454.5,803664.6149999999,28681.681666666667,560486.6016666667,705823.04,849640.7083333334,749764.1483333333,311581.54833333334,159783.33333333334,158698.375,784639.7083333334,141067.735,1807.6016666666662,89360.56000000001,1270383.9733333334,149806.60166666668,1360792.9266666668,28958.601666666666,56224.814999999995,52418.60666666666,82584.56000000001,58890.375,409474.60666666663,382375.45999999996,8343.459999999997,231392.74833333332,69555.34833333333,62841.04,465256.7083333333,147170.375,674278.735,46020.868333333325,23664.268333333337,4674.5599999999995,2654.6683333333335,1341943.6150000002,541641.7083333334,131652.66666666666,132307.68166666667,792887.535,565658.3483333333,56716.5,145444.24,15571.615,821309.935,1427340.8150000002,256655.16666666666,52810.34833333333,79186.13500000001,579610.375,558364.0,17060.5,1232951.0416666667,25604.214999999997,25304.001666666667,1260961.5733333332,52731.73500000001,18012.640000000003,140143.735,10575.535000000002,18473.093333333334,1897.6016666666662,15380.135000000002,466551.3333333333,162070.90666666665,4550.0,2812.66,644759.3350000001,2116.0,32391.815,19344.868333333336,20204.39333333333,154464.935,52184.26833333334,896030.6016666667,13321.601666666664,465032.33499999996,196963.88166666668,401489.73500000004,117810.82666666668,590672.4149999999,518659.06000000006,793117.6016666666,923315.14,244115.70666666667,131438.24000000002,457070.215,883770.2399999999,107565.415,35555.815,2008.9349999999993,359506.33499999996,4326.5599999999995,129368.415,21866.215,66771.17333333334,584134.0,215821.73500000002,53284.935,2211.2149999999992,1323463.375,559988.96,1207989.0416666667,145902.52666666667,107621.26833333333,415188.6666666667,1152881.8150000002,152604.16,463145.7066666667,920605.9400000001,899230.56,84579.88166666667,46815.22666666666,606733.3333333334,180013.46,151066.34,340439.415,222359.9733333333,192214.135,7119.273333333332,128850.0,750653.94,1152900.2683333335,101907.70666666667,785189.7266666667,81165.49333333333,1280090.015,5558.215000000001,8341.814999999997,680431.8333333334,705068.375,788646.5483333335,139966.415,108223.06,50286.24,289116.375,275810.935,179443.9733333333,242247.06000000003,1070999.2016666667,869722.375,1253970.6683333332,49082.041666666664,88387.06,519437.62666666665,16228.06833333333,756340.8266666667,26714.041666666668,1032358.2683333334,81459.54000000001,375152.50666666665,343468.4266666667,1090089.7066666665,1395103.6733333336,1381132.24,223076.50666666668,48837.401666666665,1284752.9066666665,840539.2733333333,8546.481666666665,1516506.375,4089.7083333333335,251625.335,602446.5066666667,191134.415,1040538.2400000001,43472.96,145508.375,49574.0,6624.481666666664,321252.375,2571.935,118002.15999999999,40018.5,79324.26833333336,288738.615,85785.44,21452.868333333332,47185.215,2002.375,13335.735,127869.415,590124.64,9528.708333333334,936923.0683333334,7989.881666666667,283020.815,55621.22666666666,205529.88166666668,156978.2016666667,9062.335000000001,795674.7083333334,838885.735,246005.80666666667,64458.5,47842.666666666664,22082.426666666677,12581.375,63710.5,45028.041666666664,168371.81499999997,976671.04,22712.960000000003,208526.26833333334,64989.17333333335,81622.375,1032106.5,9576.14833333333,92711.375,20890.708333333332,14416.681666666665,202631.36,333041.1933333333,16781.375,59485.375,588736.815,155781.415,195972.54833333334,10562.5,64718.24000000001,1804.7399999999996,88809.17333333334,2746.401666666666,6479.333333333333,588963.2150000001,137426.16,107242.92666666665,420952.375,151059.54,20447.375,869304.9066666666,166419.04,261612.79333333336,11378.0,868362.9483333332,49035.89333333334,469585.215,102361.68166666669,461890.5,437838.96,15609.015,142173.21500000003,147832.66,1194787.375,74939.94833333335,996960.0416666666,16900.66,3557.734999999999,25054.5,75155.16666666667,892593.5933333333,179635.54,52691.01500000001,574864.2066666667,84339.88166666667,505237.535,118530.24,253365.46,78446.56,4154.535,264276.63999999996,83666.375,48083.215,577791.5399999999,22374.414999999997,941695.0416666666,179598.12666666668,97477.57333333332,1362265.735,272661.6266666667,221186.8266666667,118285.815,39384.041666666664,474741.67333333334,243262.0,140382.66666666666,715980.5,69865.76,126354.07333333335,170081.415,1113382.375,935371.735,1245725.0683333334,82390.86833333335,195865.22666666668,233429.16666666666,23688.06833333334,163891.14,40176.64,901584.4266666666,960666.9066666666,415486.7483333333,20766.535,656427.9400000001,716500.0816666667,1881.3333333333333,63650.42666666667,731306.9349999999,208318.26833333334,182532.60166666668,518457.5483333334,169367.54,43229.68166666667,644602.0,674801.6016666667,210212.93500000003,88428.12666666666,840582.34,469141.8333333333,231520.80166666667,4800.375,430877.8400000001,164905.415,88387.06,345642.92666666664,3410.934999999999,33687.375,559745.7083333334,900903.375,1072138.126666667,181580.06833333336,840114.535,2886.959999999999,1476192.7733333334,713164.0416666666,16386.934999999998,332122.1483333333,66628.015,217014.5,143478.74833333332,81929.17333333335,1049907.935,747982.0733333334,233079.415,1216069.0933333335,21683.306666666667,17084.948333333334,12293.215000000002,48995.801666666666,9170.26,39288.814999999995,23315.859999999997,1246380.375,613290.7733333333,1073527.36,1255262.6016666668,437469.28166666673,105396.29333333333,66804.08166666667,250965.76000000004,43230.28166666667,22096.015,93418.94833333335,215560.2066666667,633912.0,71048.61499999999,167071.54,75391.83333333333,252613.46000000005,390175.76,136692.61500000002,151117.61500000002,32831.04,22722.339999999997,224884.93500000003,1426851.1666666667,256027.335,43140.69333333333,274115.0816666666,221843.16666666666,727261.8333333334,32768.748333333344,255039.86833333332,4889.414999999998,76344.34000000001,61746.60166666666,2609.8816666666667,282854.56000000006,727150.6666666666,575385.2150000001,97585.54,343777.3066666667,102217.06833333334,72468.34833333333,1971.9349999999993,174293.415,42911.09333333334,329144.4016666667,331927.375,15245.67333333333,828895.375,1020756.6066666666,63646.375,1124167.76,1199708.0416666667,109256.73999999999,564347.215,363268.375,56946.708333333336,74134.415,348970.375,1155787.0016666667,14918.0,379002.69333333336,17329.94,10751.333333333334,385476.535,1779.868333333332,927811.375,27472.240000000005,75762.23999999999,115137.53499999999,118814.82666666668,49024.535,54577.534999999996,1152988.375,14976.334999999997,101229.01500000001,1475735.375,43229.68166666667,186330.77333333332,813180.9066666667,1023683.8150000001,30379.214999999997,72336.00166666668,27855.881666666664,320142.6666666667,72828.68166666666,336249.86,786492.16,261715.60166666668,123420.42666666668,56334.23999999999,647375.815,84316.0,443452.1066666667,25705.214999999997,7339.535000000001,287541.9483333333,19174.5,111991.83333333333,11965.041666666666,87046.10666666666,125251.83333333333,5738.375,402010.375,140200.70833333334,28732.960000000006,1213828.015,169758.48166666666,44336.206666666665,13405.839999999997,240736.5266666667,29972.69333333333,1080335.1666666667,456532.74,74540.73999999999,73753.84,62167.54,34185.668333333335,642556.4266666666,591670.0733333334,192871.93500000003,1310373.2733333332,76951.86,206281.84,1820.239999999999,12296.106666666668,1087968.5350000001,360304.34,36329.401666666665,210903.375,185929.06833333333,7592.259999999999,119997.16666666667,644518.3733333334,71208.47333333334,165827.83333333334,128071.62666666666,75425.99333333333,303401.015,98283.68166666666,57176.68166666668,45981.86000000001,187579.84,9901.948333333334,55069.36000000001,737348.375,557808.6933333334,319803.0416666667,201906.53500000003,57249.335,583489.5483333333,494165.8933333333,4787.375,11862.5,366833.4816666667,573392.7400000001,2378.5599999999995,993665.1933333334,2134.906666666666,443496.7083333333,986235.415,1274018.5,127473.72666666667,84533.375,101478.53499999999,728954.215,125934.66833333335,880862.2016666667,2665.2016666666664,165648.5,9744.601666666666,11582.560000000003,50283.706666666665,2260.8149999999996,154813.89333333334,93679.22666666668,712748.2683333332,96175.17333333334,5896.214999999997,40793.375,333099.8333333333,159119.22666666668,13894.5,345480.9266666667,7422.375,5683.333333333333,379113.1666666667,187523.73500000002,703961.5733333334,79946.5,377762.66,1220471.1933333336,871293.7066666667,318116.5,686929.8333333334,124722.20166666668,252561.04000000004,129060.53500000002,1006885.54,41947.76,211452.33500000005,3161.3333333333335,124494.20666666668,134200.04166666666,406225.375,104359.04,1863.614999999999,858872.0816666667,12608.90666666667,922475.4016666667,8226.26,1216065.0399999998,46630.5,998145.4816666668,191915.375,935045.3333333334,299388.7733333333,197157.74833333332,863155.9933333333,198433.54,447581.8333333333,290440.2816666667,421712.5,257472.33500000005,127869.88166666667,96250.87333333334,17646.615,20914.801666666663,96667.76000000001,520858.0,207190.74000000002,151528.0,4196.473333333334,126244.82666666666,590092.375,161340.69333333333,89651.54833333334,339498.5,58483.939999999995,186011.00166666668,327324.66,25655.806666666667,161307.615,540061.9733333333,2259.8149999999996,30045.006666666668,1255336.735,70121.17333333334,653808.3350000001,1156670.0816666665,163951.26833333334,140228.24,3847.306666666666,79802.47333333334,5291.081666666665,280563.0416666667,47581.375,2874.693333333333,171052.415,110067.83333333333,214191.94833333336,426468.4733333333,576634.0,287908.56,11141.833333333334,463221.135,85852.335,245747.335,2254.2683333333334,23770.26833333333,26808.206666666676,40316.24,730585.8150000001,430055.1666666667,826489.6816666666,179474.135,14817.375,938024.3350000001,236269.05999999997,467838.86833333335,186718.375,230028.81499999997,84029.34833333333,266911.2683333333,480877.815,111947.19333333331,397856.41500000004,13868.268333333332,6132.873333333334,77972.0,128160.60166666667,6509.833333333333,299865.815,1125890.415,532311.7066666667,442201.8333333333,819812.64,311926.6066666667,26334.93500000001,2024.081666666666,1118633.36,66619.74833333334,414315.7266666666,147516.81499999997,211161.60166666668,910925.6149999999,8178.375,890038.66,468799.935,159610.5,127606.13500000001,1160327.8333333333,184488.34,457173.1666666667,162814.12666666668,189755.135,147680.33500000002,308038.415,601925.1483333333,1109636.5066666666,460977.01499999996,1112521.8399999999,5229.0149999999985,1268835.0816666668,18830.606666666663,1090840.6150000002,677065.36,95122.375,193315.735,1915.8933333333327,118717.375,538088.0,194825.4016666667,1316764.5,2156.5,4546.375,173535.2683333333,130449.53500000002,105460.375,222725.76,201238.73500000002,219034.135,129748.375,1010882.9600000001,774071.7483333334,114919.13500000001,299385.04,93838.375,988225.86,3812.935,40392.96000000001,62664.40166666667,252360.10666666666,1382595.6683333332,1159334.5,171402.33500000002,29047.041666666668,89025.53500000002,25524.5,160011.375,35479.814999999995,159090.42666666667,1130717.335,35712.375,2633.7599999999993,292761.375,272511.535,121914.5,125720.66666666667,3623.406666666667,1257740.24,355685.2266666666,136830.375,255420.79333333336,213406.06833333336,114040.53500000002,690901.2016666667,1242035.375,923768.7399999999,1925.0416666666667,13389.814999999997,9518.640000000001,15673.215000000002,256230.46833333335,848566.735,73380.73999999999,448837.3483333334,1074797.8333333333,904666.0816666667,14509.833333333334,155591.815,262893.66833333333,27942.414999999997,2754.826666666666,122688.04166666667,790765.0599999999,347029.06000000006,1855.5733333333326,126511.73499999999,5674.026666666666,861377.3066666666,536296.0,1073758.8266666667,166366.0,562425.8683333333,668292.9066666667,75395.19333333333,1125150.4733333334,5868.026666666666,178529.04000000004,661840.6666666666,2682.5599999999995,431165.375,382786.9483333334,193287.33333333334,159075.70833333334,130313.94833333332,3828.5066666666658,2500.526666666666,46347.333333333336,812006.935,4783.681666666667,70848.5,118177.375,271259.36000000004,196427.735,540071.5733333334,151811.375,22178.815,22466.0,113636.86833333335,213090.33500000005,906549.84,155044.48166666666,784686.7083333334,292548.375,45801.401666666665,1136708.1266666667,967085.0066666668,689476.5,1462442.735,549387.735,1031706.7083333334,6924.335,152497.36,11012.826666666668,792804.5,95239.62666666666,863155.9933333333,196273.06000000003,35983.735,336926.95999999996,28121.93500000001,699152.96,128722.10666666667,1948.375,120127.54833333334,68672.0,153086.07333333333,480158.5,21963.993333333336,123351.94833333335,525977.8150000001,386077.375,651535.6150000001,143247.80166666667,55528.01500000001,110310.15999999999,158579.70833333334,103353.35999999999,197772.34833333336,3833.2816666666663,81053.415,604272.815,35346.20166666667,1202001.6266666667,806284.4266666666,144467.17333333334,373908.335,1293913.84,183800.46833333335,532744.8683333333,495723.7266666666,10332.506666666668,14604.96,619629.335,1817.1733333333332,755385.3350000001,3454.468333333334,177173.4016666667,417841.1666666667,868176.0683333334,95639.21500000001,381264.61500000005,14566.393333333333,2343.44,439179.88166666665,2867.44,187290.74,894588.4683333334,1370155.54,75911.415,55186.615,1055725.3350000002,4050.5,77972.0,6003.148333333334,862802.0016666666,189834.29333333336,39481.05999999999,1346316.906666667,1861.8333333333333,70529.80666666666,129566.29333333333,59664.73500000001,3295.0683333333327,314165.36,71291.375,1108315.6733333336,28411.833333333332,333923.76,87732.52666666666,3990.1266666666656,266193.76000000007,171727.04,134990.5,38114.415,425936.375,915412.375,270489.94,3260.7933333333326,511553.375,110280.69333333331,1413486.3933333335,22096.881666666664,2390.9066666666663,168556.50666666668,161333.30666666667,767567.04,424518.4816666667,1313023.375,1223860.2066666668,12178.5,121694.26000000001,169288.375,85690.23999999999,223623.36,59371.94000000001,5733.815,162899.61500000002,99598.20666666667,133667.89333333334,83189.415,311616.535,1131698.335,112715.30666666666,51945.215000000004,750770.8016666666,186203.17333333334,12109.22666666667,489888.9483333333,144167.14,564000.1349999999,62950.20166666668,1247829.2149999999,958703.375,722870.1266666668,1298197.1666666667,15027.06,5393.281666666669,1215579.54,280761.8333333333,833772.0416666666,598702.0416666666,1045432.8150000001,363507.375,125505.94,3248.375,107790.16000000002,26007.593333333334,40784.96000000001,894696.8266666667,570956.66,407885.20166666666,740979.4600000001,50848.24,1214532.2066666668,489113.0416666667,195089.99333333332,238662.535,23739.535,6799.535,1474328.5483333336,13586.559999999998,168330.16,146160.215,234016.375,814434.2816666666,1317338.9350000003,502084.01499999996,10908.401666666668,739056.6066666666,803643.3350000001,2030.6016666666662,72973.86,32246.24,294691.00166666665,148280.55999999997,1307347.46,868800.9066666666,329510.24,633774.7083333334,252970.28166666665,325214.6666666667,107984.64,315109.6733333334,840114.535,67993.97333333333,8085.459999999999,668240.375,218339.335,536209.36,2485.8399999999997,50442.0,776936.9600000001,251787.535,1374695.215,78907.93500000001,271677.45999999996,184225.335,1294779.415,233348.94833333336,429863.1666666667,97205.59333333334,201398.94833333333,873225.015,829678.535,172996.60166666668,137047.60166666665,115530.815,297161.375,1391243.2816666665,344569.54,327010.375,191988.64,78685.89333333333,191268.96,81434.74833333332,588382.6933333334,283176.5266666667,530426.0,105357.415,247465.27333333332,16429.04,1298192.66,1022478.2933333335,33991.335,58081.89333333333,11625.706666666667,1272592.6666666667,706131.2266666666,870773.4016666667,257650.375,127664.615,789319.2016666667,1453936.0,35228.24,2042.6933333333325,169132.25999999998,70487.36,781068.5483333333,3886.375,122044.55999999998,607299.935,943050.375,5103.201666666667,1175178.64,12374.0,643960.34,543619.735,79918.26833333333,41808.0,207619.67333333334,381131.00166666665,58986.375,796912.1066666668,375004.56000000006,791726.9483333332,991483.8683333333,616562.6150000001,8263.401666666667,100017.54,406982.0,116175.46833333334,89522.04166666667,5089.406666666666,1394659.5933333335,796700.6666666666,435985.3483333333,43107.41499999999,7632.081666666666,50152.0,150386.79333333336,15865.375,200600.40166666664,359268.535,94351.13500000001,98270.26000000001,204657.135,2808.4683333333337,156039.32666666666,939894.9600000001,244862.13500000004,3760.1350000000007,1500281.4016666666,41596.375,771379.3266666667,1133465.935,37622.50666666666,257801.04166666666,283123.94,561977.535,121941.74833333334,168873.86,1331485.0683333334,111546.29333333335,39481.05999999999,13449.54,687486.2816666666,658503.94,4980.639999999999,1189083.135,277081.3483333333,77513.17333333334,1270654.615,47088.0,495019.06,5118.66,698012.5,153355.73500000002,908989.0416666666,82873.04,424560.415,56077.73500000001,260971.54,305024.3483333333,1351455.735,102503.815,731271.735,60877.333333333336,2630.5,743477.0066666667,586215.2266666667,1211345.015,350811.26833333337,1497697.1666666667,47224.041666666664,86457.84000000001,9339.76,26184.748333333333,239605.615,101669.43999999999,905841.535,533534.7483333333,958324.0,428271.06000000006,697538.6150000001,261159.375,68874.21500000001,184835.06000000003,94849.83333333333,1095397.015,39911.46833333334,74160.82666666668,55105.22666666666,17726.66,1183908.0,398245.1733333334,341406.6066666667,911070.935,873803.5733333332,1140140.9483333335,933350.5,28324.26,159194.34,2783.5733333333333,44764.74833333333,937359.44,784890.8683333333,129122.53500000002,37064.206666666665,694454.2599999999,260512.86833333332,487093.4683333333,432535.135,197758.61500000002,21998.66833333333,49971.060000000005,575023.4600000001,95388.135,1018892.0,370486.96,250741.34833333336,10534.506666666666,113523.36,59093.86000000001,981679.535,1031758.375,138197.48166666666,5866.681666666668,55904.92666666666,926871.04,214735.36,2301.939999999999,377021.0816666666,1000160.16,3109.414999999999,103134.415,503487.30666666664,217526.50666666668,691588.34,238517.46833333335,7447.226666666665,103062.34000000001,1324936.6933333334,80747.19333333334,12811.833333333334,1297617.3333333333,27672.47333333334,28464.281666666666,687541.0016666668,22044.5,468360.24,202856.24000000002,117133.13500000001,7972.640000000002,96701.88166666667,242693.62666666668,14986.0,1178204.0,6073.375,12386.735,86216.81499999999,539004.6666666666,16161.401666666667,984203.36,39557.36,20419.26833333333,4392.7733333333335,15314.348333333335,624403.4066666667,810778.8016666668,59819.86000000001,89948.60666666667,260723.14,249073.83333333334,84380.415,1101928.7083333333,130153.93999999999,2119.0599999999995,800004.5,68599.26833333333,461433.815,41165.86,26822.79333333333,871579.84,832546.375,71461.935,349757.0416666667,630158.2150000001,62023.335000000014,1164358.2816666665,135510.375,762965.84,1114877.5399999998,1244079.326666667,35923.80166666667,371469.335,89011.99333333333,490995.20166666666,62795.406666666655,41181.939999999995,29972.69333333333,801221.415,12316.0,63661.166666666664,182564.81499999997,178804.70833333334,915997.215,893492.535,1243917.2016666667,58203.09333333333,990315.8016666668,149984.5,615053.3066666668,96468.73999999999,8535.460000000001,740381.3350000001,386911.74833333335,854938.1349999999,990221.6149999999,94351.13500000001,190522.56000000003,36783.04,511752.63999999996,147190.535,15306.506666666668,508198.4016666666,96176.88166666667,686596.375,149910.66666666666,185006.26833333334,155814.535,453797.8400000001,563653.06,48869.935,96240.69333333334,1408767.015,1934.693333333333,864900.535,152977.14,185899.215,203606.81499999997,4534.5,11967.193333333335,1128155.3266666667,17280.293333333335,1202976.34,809591.815,192129.86000000002,9407.001666666665,17053.593333333334,17249.84,23218.041666666668,168918.0,112481.66833333333,870033.4600000001,2122.3399999999997,805386.56,1264999.06,618058.1266666668,732450.7083333334,890946.5,154681.33333333334,77010.5,180309.335,2134.7399999999993,34786.081666666665,32012.081666666665,280171.04,27454.135,938656.8733333334,152440.74000000002,100834.88166666667,163486.34833333336,213578.0,58207.166666666664,107606.61499999999,501011.94,5061.726666666665,46598.88166666666,69071.99333333333,86661.67333333334,336712.135,66805.49333333335,87446.92666666668,204128.81499999997,1011181.375,107829.36,305712.535,91543.54,909015.6266666668,321319.54833333334,2865.306666666666,116053.86833333335,19871.34833333333,5550.334999999999,945017.36,1117453.335,625945.535,278158.0,171622.96,136246.93500000003,135291.48166666666,115096.375,64718.24000000001,7474.214999999999,956423.935,58112.335,27389.19333333333,1328864.8733333333,433410.5,787654.5,113109.44000000002,776950.56,441872.815,1155985.935,54351.76,875137.4600000001,353311.13999999996,165005.54833333334,160228.34833333336,177563.335,4328.0,513950.87333333335,775197.8016666668,203793.99333333332,11976.548333333332,63265.081666666665,185061.22666666668,524542.0,978448.4016666667,218606.77333333332,135745.135,401560.4266666667,1215307.375,1106521.375,1113177.9350000003,372275.4683333333,106605.93500000001,118857.53499999999,2938.5,90884.66833333333,46361.415,8030.815000000001,1298774.26,518260.86833333335,136568.52666666667,51968.948333333334,116683.16666666667,99655.80666666669,272074.0416666667,1379890.281666667,818635.1933333334,1120941.76,64707.32666666666,1504366.9266666668,2461.375,122222.93500000001,7623.535000000001,391904.0,844401.375,992249.7600000001,4955.348333333332,939103.015,2982.073333333332,14071.333333333334,128009.04166666667,8379.626666666669,130501.46,857420.64,105120.77333333332,12080.815,745268.6016666666,28861.940000000002,5889.415,42873.33500000001,1302422.415,18277.335000000003,469789.06,338344.2816666667,142627.215,1182931.06,7355.359999999998,11114.26,7471.215000000001,783453.815,1241292.7083333333,27098.415000000008,1172377.4933333334,6034.0,152484.16,488125.935,11434.481666666665,803164.7083333334,1914.1599999999992,100238.01500000001,725548.015,434349.49333333335,1065840.001666667,271677.45999999996,907131.8016666666,180878.29333333336,51229.939999999995,701314.735,255232.96,97253.19333333334,508879.335,72640.74,207676.64,55221.61499999999,26037.015,81230.735,145229.80166666667,65462.335000000014,885076.0416666666,1072097.14,112556.335,192893.73500000002,130448.04166666667,4072.1349999999998,577016.9266666666,104990.60166666668,4799.459999999999,167158.54833333337,630441.9483333334,27102.375,1020104.4683333334,1034217.8333333334,467306.5,14636.106666666668,283596.7083333333,653641.2816666667,209832.74,26944.339999999997,571573.3483333334,50600.335,78215.16666666667,1084029.8333333333,658044.0416666666,501160.86833333335,1186055.0416666667,21157.833333333332,43787.833333333336,75750.60166666668,1280038.6066666667,129377.27333333333,7353.8933333333325,362287.36000000004,73057.14833333333,102925.32666666666,1012681.4600000001,27439.041666666668,1037609.8150000001,1279906.375,1512478.1600000001,156022.535,6900.215,143704.24,226510.375,301663.67333333334,554344.335,160485.16666666666,791924.0683333334,419067.20166666666,1068016.0266666668,879519.5483333333,1387101.3066666664,1135754.96,168516.5,715090.215,99184.64000000001,2595.734999999999,198502.08166666667,723393.375,1014962.6066666668,14353.860000000002,689676.2816666667,1519184.0,782845.2733333333,1840.4733333333331,123995.09333333334,2895.468333333333,999311.4600000001,89028.29333333333,49760.535,4128.881666666664,276033.89333333337,5867.668333333334,72012.61499999999,44556.54833333333,816808.1349999999,77154.77333333333,8520.5,757094.2066666667,420394.6400000001,924965.2683333334,862915.5933333333,850974.6816666666,693623.8333333334,1027860.1483333334,21138.666666666668,647765.5933333333,851905.84,20136.335,178726.16000000003,23596.0,340822.74,98920.33500000002,206108.5,1092287.375,197175.70833333334,2208.014999999999,30003.54833333333,659183.6683333333,125434.87333333334,858539.535,238862.16,211450.535,133315.04166666666,539273.8683333333,6488.335,700188.935,104128.53499999999,525940.535,294719.535,5141.148333333334,638686.375,149747.0816666667,676065.1666666666,447859.935,6437.173333333332,1387672.8683333334,3290.5349999999994,487127.2683333333,66732.69333333334,4147.06,147311.33333333334,84146.215,117639.80166666668,885802.215,82453.36,96591.93999999999,1164373.375,658503.94,334412.9483333333,420738.24,51730.814999999995,129010.375,1042142.4016666667,261259.06000000003,1265304.0733333335,1138949.735,46689.76,1062518.3350000002,1027670.6666666666,25987.934999999998,328068.0416666667,223129.74833333332,1440087.5350000001,12243.135,5009.0149999999985,436430.375,1176013.2149999999,197691.46833333335,1094242.66,86715.81500000002,4177.068333333333,155698.10666666666,16812.681666666667,120385.61499999999,6865.540000000001,120875.375,27085.93500000001,1097737.7483333333,19674.015,1449654.2683333333,107860.415,581962.0,20670.160000000007,661763.8816666667,4090.2400000000002,781775.7483333334,218743.36,349712.135,72102.135,625407.0933333333,67685.70833333333,376220.375,56511.72666666668,236773.535,1125231.5933333335,19864.40166666667,245786.375,6107.4683333333305,107788.42666666668,1043257.375,15005.973333333333,1102617.4600000002,827981.815,150083.81499999997,431167.6016666666,128008.93500000001,17377.833333333332,490010.935,1177491.6150000002,52435.939999999995,15502.69333333333,1038511.6150000001,737063.14,12161.973333333333,110967.46833333334,1140381.535,256367.36000000002,3747.2016666666664,4794.666666666667,138275.72666666668,779128.415,95732.23999999999,2122.74,2488.375,1079658.0416666667,144466.60166666668,267340.615,29717.375,9355.193333333335,153081.99333333335,19335.306666666667,1355941.8399999999,3643.481666666667,23635.706666666665,25857.375,366946.82666666666,67419.04,2378.5599999999995,32247.375,77338.20166666668,766637.0066666668,64653.53500000001,5368.281666666665,348981.615,404938.16,45631.20166666668,2526.559999999999,2039.0066666666664,351507.04,1272774.826666667,1346785.335,5095.36,163221.28166666665,1513057.3483333334,183858.33500000005,554383.735,409685.6683333333,46370.375,499366.335,710392.2400000001,567395.1349999999,205812.07333333333,222897.57333333333,134807.80666666667,843541.215,190725.68166666667,71119.59333333334,195210.375,2332.0,1314128.9266666668,1020986.015,436632.33499999996,703035.0816666667,64610.375,1956.5349999999996,455898.6400000001,2125.5399999999995,230532.20666666667,69043.59333333332,529951.615,142420.16,1299910.6666666667,1999.4399999999996,89654.56,121990.24,31340.375,718340.7399999999,31244.5,1220471.1933333336,108395.06000000001,970392.2816666667,355948.86833333335,378264.6400000001,53436.13500000001,207625.7066666667,116624.935,1145822.6816666666,130237.54,150756.70833333334,15362.739999999998,52081.375,605029.9483333334,8625.215000000002,4302.793333333332,584727.84,99907.41500000002,557854.2400000001,61447.76000000001,111376.15999999999,12198.666666666666,21855.375,746388.7083333334,67624.68166666666,1290256.26,3052.8733333333334,20112.926666666666,730718.2933333335,5141.135000000001,2137.1349999999998,506296.7733333334,7062.34,382943.375,566884.7933333335,13775.440000000002,29476.20166666667,61277.193333333336,778773.1666666666,150926.20666666667,1453021.135,198937.94833333336,66223.70833333333,375807.00166666665,617065.2266666667,34801.30666666667,1229615.1933333334,7538.0,2550.5,204992.81499999997,1336041.4149999998,343411.375,396656.4266666667,3297.2150000000006,751884.3350000001,25836.0,2248.348333333332,161956.0,113762.13500000001,16739.535,106020.70833333333,636896.2150000001,1455954.6016666668,725591.7483333334,882350.56,17808.60666666667,38724.56,40965.44,215356.26,360363.13999999996,71581.76000000001,232801.36000000002,1446306.015,2938.068333333334,1104950.8016666668,69168.5,91914.90666666668,464144.4016666666,139924.5,268378.16,240909.66833333333,155525.04,709869.8816666667,698605.1483333333,300486.535,967394.935,834690.4266666666,227081.86833333332,1870.3349999999991,117763.01500000001,33344.215,790007.9933333333,1229864.26,936503.94,223313.05999999997,231720.04166666666,715941.1666666666,55330.881666666675,153831.40166666664,449360.12666666665,5626.2683333333325,131894.73500000002,262881.7266666667,1076889.3483333334,9754.0,305326.95999999996,21200.375,172371.16666666666,1929.9399999999994,913512.6066666666,792705.54,893015.14,63756.25999999999,514572.41500000004,147256.0,28250.535,304416.6816666667,4559.041666666667,1065192.1066666667,839833.0416666666,19334.56,6994.801666666666,745115.375,427806.56000000006,1112543.9733333334,50634.215,80893.13500000001,365123.32666666666,89917.36,785428.5,27764.206666666665,308429.01499999996,19104.96,1165861.0600000003,565291.375,651205.8150000001,174874.70833333334,17561.135,518982.46833333327,22328.708333333332,189503.05999999997,1039846.1350000001,333318.215,77723.86,177654.0,832850.0,233226.135,54912.681666666664,24807.268333333337,972577.4600000001,319803.0416666667,1149090.6683333332,130068.53500000002,11779.593333333332,110857.46000000002,374818.375,404501.4816666667,20473.66833333333,786610.1349999999,13404.64,766145.4816666668,699822.6666666666,387306.9483333333,99357.66833333333,2566.615,29743.734999999997,81289.94833333332,182196.60166666668,450364.0,665860.8683333333,20292.39333333333,575721.375,199849.27333333335,512982.6666666667,12037.14,758378.56,25624.615,2066.639999999999,121991.88166666667,255684.28166666665,992152.6666666666,216610.47333333336,71229.46,1325002.0416666667,3582.2816666666645,451233.46,65057.67333333334,214854.87333333338,623313.04,1315048.6933333334,19285.84,947211.94,1133081.0399999998,1454335.0683333334,432080.0416666667,62262.63999999999,189093.375,1143391.615,1270320.2149999999,23046.5,5942.935,18284.26,207865.36000000002,7186.375,454925.81499999994,31333.735000000004,1282315.8816666666,564062.0416666666,1106898.64,191135.36,177099.60166666668,42424.88166666666,506229.09333333327,221806.26,271922.74,927318.16,931390.0416666666,70909.89333333333,746125.5483333333,5760.615000000001,1407435.8066666666,53291.375,924942.6666666666,32001.973333333328,685962.0,970538.2600000001,69679.28166666666,13849.135,18790.201666666664,36687.401666666665,136978.60666666666,4775.081666666665,26456.335000000003,1197720.375,863833.2266666667,178295.415,421858.535,1032956.64,45900.73500000001,89043.99333333333,41731.59333333333,320868.66,28063.539999999997,535714.0683333334,496500.88166666665,19319.015,821195.8066666666,985538.7399999999,21439.708333333332,1380302.6016666668,477935.375,33094.615,54692.206666666665,191203.535,12686.24,93449.935,9852.468333333332,53444.335000000014,2743.015,10815.375,77748.79333333333,540553.9349999999,20292.960000000003,127148.70833333333,101091.32666666668,224604.66833333336,1887.8333333333333,613271.8150000001,36278.375,9778.468333333332,664476.16,167160.135,195235.015,5184.9266666666645,741049.8333333334,669365.1666666666,10793.44,701215.215,222686.0,107437.375,20912.081666666665,704136.535,1384035.375,17384.5,107042.87333333334,604226.2599999999,690310.4816666667,5485.360000000001,1043856.9600000001,1377873.2683333333,61957.375,159512.87333333335,1171659.735,1345952.0,175486.74,544005.375,627123.3483333334,794726.7399999999,1192655.7083333333,374177.06,198139.20166666666,308843.935,216113.22666666668,9553.041666666666,332008.375,296737.2266666666,545128.5,10597.839999999997,159389.86000000002,47240.25999999999,8618.815,73225.70833333333,1114558.6683333332,1272559.0683333334,5474.259999999999,4011.5350000000003,857033.815,137644.735,575872.7733333333,857056.2683333334,1264659.215,100726.70833333333,520866.0150000001,60930.80166666667,315992.4683333333,734791.2816666667,789575.215,18802.16,87887.08166666667,164539.36000000002,55856.881666666675,14335.439999999997,457596.0,82280.935,253715.9733333333,1190572.2149999999,92185.61499999999,17050.068333333336,152890.375,52713.815,65121.375,2317.375,1305798.1600000001,872707.0683333334,5183.481666666667,95978.46833333334,256424.66833333333,232716.46833333335,507284.9066666667,13268.506666666666,1207196.56,80135.375,36759.89333333333,543996.5066666667,236913.375,260408.66666666666,89481.015,1156470.1266666667,717373.36,13811.375,1874.4816666666663,486762.0,1505153.8150000002,562819.735,58470.26833333333,1302292.375,538671.4149999999,229539.215,160849.70833333334,192399.94833333333,1300102.375,74914.73999999999,402836.00166666665,795008.66,29309.001666666663,161054.24000000002,1280794.135,54948.56,8754.339999999998,1029156.375,54747.166666666664,4833.493333333333,199598.68166666667,118537.83333333333,1160136.001666667,278688.015,579410.375,407266.1483333334,6392.239999999998,61031.54,362667.86833333335,235017.16666666666,685644.535,2702.0,972654.1266666668,390153.6683333334,89323.80166666668,805194.8150000001,839666.7483333334,11449.06,121767.62666666666,247784.375,31032.69333333333,3743.139999999998,69180.52666666667,225049.135,213011.27333333332,29431.881666666664,9453.415,24612.815000000002,521602.2066666667,183051.36000000002,3046.6149999999993,2309.3349999999987,350596.86833333335,86629.57333333332,21213.46,16394.559999999998,60678.20166666668,56388.666666666664,508022.4266666667,14562.24,39225.73499999999,813815.9349999999,16825.615,139145.415,1056649.3483333334,6113.46,1411807.375,144394.02666666667,311558.375,201343.04166666666,900093.1350000001,40633.86000000001,844401.375,193213.99333333332,94819.735,278015.3333333333,141996.52666666664,1373472.0683333336,63431.74833333333,474225.41500000004,54246.90666666667,193316.26,3151.1733333333336,12496.74,1229091.8016666668,14276.239999999998,79625.015,170284.735,18317.375,1017579.4600000001,13230.935,8762.66,702078.0,3295.406666666666,1495980.1600000001,6589.014999999999,474499.13499999995,38468.66000000001,148702.34833333336,17831.139999999996,616454.4733333333,905846.215,672629.3066666666,732388.9483333332,173625.46,69188.26,186686.26833333334,22615.468333333334,1286980.6600000001,280580.08166666667,256622.74833333332,1263628.5066666668,286070.615,205219.97333333336,194029.2683333333,1008630.56,490044.5266666666,165359.335,1861.375,142725.04,745447.375,48333.28166666667,82327.97333333333,222110.28166666665,67701.22666666668,222752.415,101522.29333333333,23680.815,77174.20666666668,361382.88166666665,32822.16000000001,406280.61500000005,53334.24000000001,103692.12666666666,22235.059999999998,626451.6816666668,184975.34833333336,2251.86,1172281.36,733770.415,9660.708333333334,543569.6016666667,556812.6066666667,134108.48166666666,439547.61500000005,8444.614999999998,1153964.5,59707.36000000001,1887.4599999999991,1022921.54,449286.5,4492.615000000001,74419.335,13661.735,199697.16666666666,52855.35999999999,814387.1350000001,587598.2016666667,189575.33500000005,35468.666666666664,15106.0,218134.535,721088.5,286449.0933333333,752934.66,2966.5066666666658,32586.373333333333,361409.8333333333,20948.735000000004,761797.6733333333,37686.68166666667,1309125.36,78443.04000000001,175609.46,1197743.0816666665,171331.40166666664,3042.375,121424.42666666668,630087.375,1270998.66,23933.375,45088.041666666664,772887.6016666667,87070.82666666666,1213188.0,241197.67333333337,10488.026666666667,494727.215,43628.535,285412.4683333333,238153.32666666666,101336.87333333334,16996.26,336746.1483333334,158401.735,129083.54833333334,95358.15999999999,396924.4683333333,521148.26833333337,1210868.215,816226.5,701483.415,1138801.0416666667,164185.415,79768.375,249347.43999999997,41379.415,1079283.3333333333,198330.01499999998,1122310.5,38488.00166666666,266958.74833333335,106129.73499999999,31436.24,4101.081666666666,2303.8333333333335,302332.0,15458.073333333336,259603.88166666668,1854.534999999999,934147.94,227601.81499999997,248622.02666666664,8464.526666666665,22331.748333333333,135778.24000000002,1187541.535,86583.815,18784.66,586564.7083333334,157530.61500000002,10651.015000000001,15653.335000000001,84180.77333333335,641482.7933333335,13150.041666666666,73743.36,148701.09333333335,975641.7483333334,19338.26,1171689.8816666668,204695.215,917928.5,98378.26833333336,65847.04,604514.0266666667,83926.5,827662.6683333335,1199156.375,50963.193333333336,76716.0,834528.0416666666,125821.04,1229294.8733333333,620150.2599999999,105026.70833333333,94050.34000000001,62603.22666666666,164727.75999999998,23278.34833333334,27891.040000000008,20868.46833333333,771186.6066666668,191113.04166666666,252634.5266666667,758354.3733333334,536433.2266666667,1029002.2816666666,294802.20666666667,193807.6266666667,365066.5,523583.94,49920.793333333335,69766.81500000002,37462.948333333334,62578.206666666665,1006685.415,999168.34,103939.94,9105.708333333334,1336675.7483333333,716068.66,880640.3350000001,181054.04166666666,1238510.7400000002,11736.548333333334,266356.56,41827.76,66970.79333333333,150771.60166666665,6946.740000000001,78285.415,211219.84,363386.73500000004,29663.359999999997,876979.215,748487.8333333334,939784.6666666666,42330.615,949765.3266666667,1781.9733333333327,607691.015,144670.06833333333,1820.6149999999998,1263540.56,1037356.535,306434.68166666664,361731.335,280139.5733333333,179130.615,740542.6150000001,57245.32666666667,51926.69333333333,17505.76,425220.5,106377.83333333333,336507.54833333334,231699.83333333334,2892.734999999999,1046788.9600000001,124184.015,921115.1483333334,431932.0733333333,48125.993333333325,127769.43999999999,621474.4266666666,75550.53500000002,63154.34,25372.960000000003,164985.16666666666,99008.375,37451.14,217161.53500000003,1201337.36,151533.73500000002,106661.19333333331,1281689.76,469134.3933333333,495129.94,46809.94,17094.348333333328,6302.826666666665,189857.84,144778.25999999998,159742.80166666667,1516435.001666667,367308.16,361287.8333333333,1106239.3483333334,415771.43999999994,1207179.3333333333,362245.36000000004,1362166.415,4805.86,25145.015,75463.13500000001,187367.04,43563.814999999995,12184.268333333333,58793.708333333336,293730.375,431182.33499999996,965641.535,7457.273333333331,197846.02666666664,37951.94,829835.3333333334,182087.84,23806.335000000003,4785.708333333333,1129383.0933333335,1065144.826666667,386221.375,231971.015,58667.414999999986,50989.36000000001,570339.0399999999,505391.5733333334,255667.00166666662,511324.24,140878.375,68621.16666666667,226127.57333333336,743359.86,453856.95999999996,1305211.9350000003,265521.20166666666,782389.415,81816.16000000002,4659.993333333333,564567.375,1167024.1600000001,175833.83333333334,298047.36,6890.281666666667,57925.041666666664,2070.96,788798.2399999999,209276.81499999997,144704.93499999997,123391.84000000001,47296.40166666667,81609.14000000001,1904.5599999999988,209579.535,968583.7066666667,64125.375,816188.0416666666,1251706.6933333336,6444.339999999997,437092.39333333337,324364.615,4294.926666666665,1235593.535,8060.041666666667,635003.1933333334,250783.54000000004,900756.215,472208.69333333336,46671.415,1248360.415,761917.54,2045.201666666666,158442.28166666668,1045342.375,83383.36,1008819.0416666666,2380.375,828390.2599999999,802881.7083333334,632022.16,145997.13999999998,296559.76,506296.7733333334,816865.735,16930.215,64880.041666666664,3146.2599999999998,68192.65999999999,333790.6016666666,4439.215000000001,122009.14000000001,172217.32666666666,1164473.9733333334,646860.9600000001,58077.06,166648.375,37009.215000000004,114219.46833333334,54100.159999999996,37223.439999999995,211749.215,1001463.4600000001,270327.46,310270.015,83526.53500000002,491432.2150000001,561156.4149999999,315987.9483333333,403479.5733333333,28339.015000000003,394077.1666666667,598324.1066666667,248077.76,1056451.06,286995.0416666667,919833.8933333334,860219.3266666667,673535.8400000001,29011.166666666668,1292884.2016666667,1873.614999999999,53571.46,48531.13999999999,921758.0,80631.70833333333,113774.93500000001,1358225.36,54196.206666666665,3190.7400000000002,155878.375,8120.393333333333,532441.84,651148.2400000001,1098114.0683333336,28654.948333333334,297247.88166666665,55708.42666666667,37967.46,3548.0016666666666,1193643.0016666667,1156536.375,933955.6149999999,652471.86,483906.0816666667,487829.06000000006,67593.60166666668,68621.20166666668,481118.0266666667,654695.8333333334,226099.57333333333,1074870.4733333334,1230750.96,403292.33499999996,540223.8933333333,182241.40666666665,23456.74,41239.04,225167.74833333332,749774.2400000001,86047.86,541248.2599999999,434210.215,74718.5,10335.041666666666,11518.681666666665,165843.81499999997,109869.94,47639.46,4080.6666666666665,224196.375,141504.34,951429.1666666666,741368.0733333334,1177148.5,21785.306666666667,1313859.86,924579.415,4542.16,17876.934999999998,39371.166666666664,59088.335000000014,109819.80166666668,4726.259999999999,245140.375,30678.535,16192.026666666667,66568.21500000001,77609.04166666667,1342295.8816666668,57463.68166666668,287220.16,1378806.5,230532.20666666667,73017.89333333333,404984.16,2738.9599999999996,103523.40666666666,336127.2016666666,1996.7933333333337,302529.04,1157359.46,47971.801666666666,3878.375,104582.66666666667,663915.04,41018.659999999996,112708.66666666667,2527.348333333333,193815.86,241329.81500000003,123167.135,1050214.66,1302752.335,151771.28166666668,84112.86833333335,310265.335,401467.06000000006,837461.2816666666,53938.02666666667,404819.1483333334,373840.0416666667,116262.66000000002,273408.535,9490.5,664162.3733333333,1436090.1266666667,276722.56,115156.00166666669,44036.13499999999,17283.734999999997,32162.52666666667,1009900.735,190409.015,2510.1349999999998,785856.66,192267.84,4393.0599999999995,1190572.2149999999,2308.64,321337.0016666667,24008.735000000004,34750.90666666667,978277.735,540606.415,4908.041666666667,211299.17333333334,170030.70833333334,8478.26,1310391.8333333333,827688.5599999999,1089617.4683333335,768360.56,3228.375,2814.26,231552.415,1327474.2400000002,192450.0,118583.415,974317.8016666666,992927.375,7676.740000000001,734326.7933333335,136503.375,3453.806666666666,465919.01499999996,30812.506666666668,49417.868333333325,37525.993333333325,355948.86833333335,5783.135000000001,14105.859999999999,77396.01500000001,58034.00166666668,193091.08166666667,30978.373333333333,250107.44000000003,3786.4149999999995,269337.1483333333,599606.5,459754.06833333336,1203475.5933333335,139077.86000000002,615565.375,1169622.96,526615.7066666667,932151.44,2185.7083333333335,45287.62666666667,141853.26833333334,843646.0816666667,588708.1349999999,246732.63999999998,2012.5599999999995,151002.52666666664,5506.5,154405.54,351096.16,76873.70833333333,9780.64,6029.44,89805.06000000001,164611.60166666665,7913.015,425688.14833333326,199227.84,5404.1066666666675,199917.735,101327.13500000001,7681.2683333333325,25991.881666666668,8707.801666666666,471036.2683333333,379566.7083333333,709839.735,52333.27333333332,8864.34,1311239.2733333332,497593.815,36565.33500000001,703336.7400000001,889005.5733333332,369309.86000000004,190679.32666666666,19538.5,272343.1400000001,91609.53499999999,259638.07333333333,333468.375,21241.414999999997,3835.2683333333334,2245.306666666666,7298.026666666668,5897.041666666667,7356.415000000001,423519.86000000004,20267.375,530837.935,19335.859999999997,26599.334999999995,26294.10666666667,91322.13500000001,619101.8933333333,1240728.7083333333,27305.868333333336,710741.1733333335,3761.2150000000015,215251.375,219834.16,622384.7933333333,547162.415,39012.74833333333,1098888.0,907825.8816666667,1176615.9933333334,47393.493333333325,14333.006666666668,740362.0,253746.81500000003,203718.375,292870.39333333337,960368.3350000001,605587.4600000001,398088.535,1099841.8333333333,400688.5,5617.068333333334,307474.26,140097.27333333332,8848.414999999999,112694.21499999998,4661.868333333333,142402.0,108159.94,2272.134999999999,97510.81499999999,1328042.215,1840.159999999999,22642.0,53654.041666666664,604660.4266666666,132909.54,191317.04166666666,236451.80166666667,974965.14,132489.135,1129346.815,143633.04166666666,2188.415,685373.0066666667,127194.90666666668,300961.75999999995,4681.375,126842.10666666664,1125312.3933333333,14865.935,844175.9733333333,276233.0416666667,2728.606666666666,22979.135,695328.2683333334,13281.493333333334,1468357.14,869878.0266666667,1013535.0933333333,32399.573333333334,160551.54833333334,196773.135,138000.375,30760.339999999997,3692.334999999999,949641.6149999999,397920.535,80644.66666666667,27122.74,209751.70833333334,80024.0,651255.7599999999,448945.7083333333,431458.16,226191.33333333334,27255.535,101948.34833333333,166741.13999999998,991500.8683333333,251291.67333333334,36285.333333333336,27887.535,3735.859999999999,979649.44,110369.44,761583.735,35575.375,3484.773333333332,119413.89333333333,6754.7733333333335,1359177.548333333,349259.375,61022.07333333333,82236.53500000002,195542.50666666668,907501.4016666667,373936.375,262274.5,2172.414999999999,26982.681666666667,195135.86000000002,634447.0416666666,229340.5,35808.708333333336,275992.375,121755.76000000001,9598.041666666666,56986.693333333336,181360.24,726682.415,626742.8150000001,361083.375,284910.415,43527.534999999996,165754.0,360632.95999999996,79569.80666666667,23602.948333333334,109098.68166666666,870100.3933333334,248301.54833333334,2193.375,1318819.6150000002,216314.10666666666,23018.935,15319.401666666667,475827.44,80377.61499999999,54506.56000000002,16639.84,60152.293333333335,144972.535,1104879.4933333334,11593.94,11938.535000000003,222671.68166666667,158369.99333333332,11838.340000000002,756032.6666666666,620982.6066666666,54316.47333333333,47483.335,17638.748333333333,21445.54833333333,63443.54833333334,125774.33500000002,717624.8150000001,50589.73500000001,1978.0,130260.46833333334,548040.6683333333,695976.4683333333,14927.333333333334,233410.615,66435.06000000001,151913.86,162452.74,271826.5,131825.615,108622.64,538575.1483333333,347378.5,117374.12666666669,148784.5,2993.4399999999987,99640.50666666667,460983.3333333333,5434.0,201948.015,46634.5,651493.8016666666,8817.76,123382.92666666668,205529.88166666668,287852.0,888188.2816666666,2016.693333333333,982315.375,700244.5,203729.80166666667,4209.268333333333,1945.3266666666661,791267.015,66370.375,1964.3349999999998,1884.8733333333323,506373.06000000006,99046.26000000001,209747.16666666666,86389.735,29849.681666666667,1061728.375,687626.375,141003.93500000003,4919.626666666666,101964.82666666668,3081.375,442189.06000000006,525613.8333333334,175777.735,82224.215,886959.535,377989.215,1270317.173333333,1096963.135,778116.5,438251.33499999996,1000517.215,1030693.375,105453.66833333333,75386.66833333333,423114.74000000005,212987.59333333335,828908.935,54717.375,9816.26,497042.74,99385.84000000001,17069.215,1248360.415,297344.73500000004,345271.88166666677,285034.0,93614.64,447734.0733333334,66875.49333333335,315030.34,957928.2933333335,138087.94,22986.334999999995,482578.88166666677,642527.4400000001,248950.80166666667,355359.2683333333,38242.666666666664,1121596.375,26774.041666666668,6201.593333333333,583001.1666666666,101752.40166666666,65068.340000000004,470837.04000000004,3562.9266666666663,84142.56,29146.959999999995,1066556.215,429576.335,992811.375,265871.335,16805.375,9173.573333333334,1016337.2266666667,1342397.375,104132.46833333334,215535.36000000002,698034.34,513584.7349999999,96888.415,143890.5,36247.59333333334,60592.881666666675,709194.2599999999,19428.881666666664,46354.0,1485940.96,743268.2066666667,16393.614999999998,25435.993333333336,263144.08166666667,1826.4733333333324,32766.708333333332,789444.015,324380.935,1111850.5350000001,144741.04,79290.70833333333,254656.96000000005,86035.72666666667,680381.6733333335,65717.59333333334,1287790.3733333333,15167.406666666664,352995.6683333333,544831.4400000001,171556.73500000002,78004.54833333334,684154.2816666667,1326484.66,563778.375,169684.39333333334,364074.60166666674,1137921.3333333333,352656.50666666665,117964.13500000001,735889.735,191585.13999999998,73104.96,7226.735000000001,1436636.615,8154.159999999999,127860.42666666668,723979.015,846033.86,332355.36000000004,71781.66833333333,153352.80166666667,122489.27333333333,149399.67333333334,429880.3400000001,602072.7400000001,869004.0,3274.4150000000004,842281.1483333333,81650.52666666666,144642.535,45411.166666666664,1143902.0,515296.56,488943.935,215799.06000000003,939361.54,469325.1933333333,918603.14,12046.60166666667,113349.44,313396.74,62718.215,103609.015,46258.73500000001,48840.87333333333,118791.36,122978.70833333333,263740.41500000004,862665.4600000001,110410.615,1057108.8683333334,10988.160000000002,172006.0,580104.64,116291.86,63345.36000000001,47568.926666666666,886480.1066666666,849052.6666666666,558832.1266666668,806498.7083333334,158953.13499999998,1110350.5066666668,1009687.415,349536.16,427769.335,12776.160000000002,433113.36000000004,3465.0149999999994,580020.56,690237.8933333333,74778.34000000001,1163673.173333333,1227067.375,588735.4933333333,40406.90666666667,37741.935,52229.13999999999,193197.57333333333,114306.335,541543.375,693578.0733333334,21149.815,290365.335,605587.4600000001,75819.46000000002,319454.74,2832.215,83768.66000000002,778256.2066666667,639184.2599999999,523093.0150000001,70081.57333333332,612512.7400000001,82233.46,141604.535,48610.48166666667,696891.3333333334,548970.34,152823.33500000002,219016.70833333334,65771.215,1177491.6150000002,463400.24000000005,1376923.36,2459.3333333333335,366717.20166666666,237597.33333333334,34159.573333333334,90936.52666666667,80341.94833333335,1125839.001666667,2131.135,285112.95999999996,520673.43999999994,573898.56,11871.80666666667,471639.45999999996,1014285.6816666666,707509.735,646153.6683333335,24419.668333333335,223151.06833333333,59545.708333333336,141727.135,9781.734999999999,159615.04166666666,162070.88166666668,60592.881666666675,96044.74,48241.54,25236.375,30329.468333333334,191303.4816666667,404179.54000000004,9062.640000000001,1979.1349999999993,138703.14833333332,4344.748333333332,8378.56,34242.666666666664,68391.94,632973.375,27472.375,2590.3349999999996,300264.5,80973.76,89391.74833333334,200298.87333333332,677687.415,28253.935,133375.54,1240543.7083333333,743250.66,407086.6683333334,42677.14833333334,3086.7399999999993,980934.4816666668,155181.94,346667.61500000005,411308.4816666667,257426.5,317487.415,263792.73500000004,213712.5,49456.26000000001,2800.606666666667,59791.539999999986,409542.375,59978.5,778269.8683333333,1378471.1666666667,211378.215,316537.54,82377.48166666667,18898.375,477161.41500000004,422564.5483333334,370988.5,54351.76,2484.6399999999994,467894.0683333333,395508.81499999994,45133.375,33257.99333333334,1291647.4016666668,461566.7733333334,1262919.7483333333,948899.94,1032426.0,338154.20166666666,1514923.8016666668,61234.26000000001,681237.94,402970.415,3589.540000000001,1761.9349999999995,231578.64,1220401.673333333,40026.935,23112.5,76921.01500000001,3922.6816666666673,87222.16000000002,404141.45999999996,157536.20166666666,151498.04166666666,922475.4016666667,1026368.7933333335,1302816.375,2466.948333333333,5934.5,56358.815,1946.5,545681.215,953442.2399999999,758071.1349999999,1125128.8733333333,95504.34000000001,3126.1349999999984,288237.615,196807.04166666666,1247637.46,579026.5,526436.4266666666,125016.61499999999,27351.414999999997,400891.54000000004,302860.4266666667,6873.215000000001,1194767.6816666666,1084173.2733333334,203280.56000000003,637292.7400000001,17229.34833333333,5876.5,71727.84000000001,6652.348333333335,1162361.0066666668,1372295.06,821628.6016666667,2370.5,173866.0,134102.26,612342.535,15260.24,200022.04166666666,229173.80666666664,468170.335,1008491.7600000001,36550.00166666666,263563.1933333333,143216.42666666667,1196298.24,29047.041666666668,10705.135,315399.415,65181.67333333333,32313.039999999997,57502.068333333336,7489.2683333333325,597434.7400000001,157784.375,32574.615,9369.06,89600.16000000002,32196.535,1322637.46,1076906.24,350890.73500000004,162368.42666666667,46686.14833333332,358743.93999999994,292643.8816666667,74761.36,419363.135,1113231.015,138000.375,152162.5,923045.2733333333,271692.4733333333,1105025.415,112631.54,2237.2816666666663,20863.14,978962.64,3026.5,810209.84,90083.70833333333,1251850.0,514565.375,1007051.3350000001,224287.06000000006,14174.0,393996.74000000005,240086.16,558393.375,16120.015,79801.375,102547.57333333332,1368756.4683333335,7131.735,80542.66666666667,87428.56000000001,10830.340000000002,940394.1483333334,156619.33333333334,273070.25999999995,33624.5,1323443.6016666668,707549.2016666667,948192.0683333334,886552.56,211627.54833333334,71448.34833333333,220229.08166666667,143384.50666666668,1159999.8333333333,91048.12666666666,862020.5599999999,219763.43999999997,63181.84,86984.33500000002,106150.69333333334,100629.70833333333,196070.375,15942.135,1022997.1666666666,534981.7599999999,93751.88166666667,1020756.6066666666,39106.068333333336,1107703.135,902096.935,1325741.86,20867.375,916003.935,538543.8150000001,158315.40666666668,204247.00166666668,429894.6066666667,867666.6066666666,71812.64,1031719.7083333334,1179521.46,74816.815,15931.735,64083.62666666668,44080.135,338452.24000000005,460708.6066666667,8862.0,1267632.1483333332,314943.615,513049.62666666665,22757.535,45269.814999999995,801246.375,1217465.7266666668,115137.53499999999,11313.76,606039.4600000001,1242948.7733333332,280497.0016666667,354959.5733333333,177158.50666666668,274616.16,69238.68166666666,368851.36000000004,375877.27333333326,182305.14833333332,39083.735,980244.2600000001,163894.5,31753.539999999997,97477.57333333332,10585.615000000002,2661.468333333333,1217750.1266666667,76075.04166666667,1470909.335,473906.0,31743.375,14547.881666666668,2934.6599999999994,43960.60166666666,162835.135,26791.535,258492.415,135501.30666666667,127162.5,92122.0,79702.375,272749.735,6517.041666666667,96976.70833333333,1505153.8150000002,229626.68166666664,152059.93999999997,443686.73500000004,307679.7483333333,621299.2683333333,433237.375,278373.6816666667,167558.04166666666,364074.60166666674,838084.66,625552.735,1279495.135,504951.4016666667,11461.593333333336,564606.535,9713.615,480616.01499999996,34525.375,85367.84,96387.54000000002,80438.02666666667,615484.735,391213.67333333334,146760.14833333332,533709.06,375010.90666666673,439512.16,1079817.615,1120979.4933333334,152726.56,8512.64,431892.0733333334,64898.281666666655,22995.041666666668,912415.6016666667,818002.0416666666,1261557.335,100756.415,134165.48166666666,115848.01500000001,235200.5,83999.80666666666,92154.04166666667,56622.34,18341.49333333333,338576.0,6787.414999999998,400288.2150000001,112826.0,56872.206666666665,225175.375,609543.415,1941.3483333333327,1115968.135,75922.015,34941.54833333333,290376.815,1149324.56,132989.04,656450.9266666666,61849.681666666664,385742.7933333333,852939.8066666666,1252310.735,68232.15999999999,362254.63999999996,9834.47333333333,1188727.9400000002,169674.8266666667,104428.14833333333,118695.40166666667,7567.748333333332,801886.5,70248.215,697499.2016666667,95851.36,82538.96,2308.375,55023.34833333333,2144.9599999999987,1050945.8150000002,103216.92666666668,225662.375,1304904.1266666667,23033.06833333334,2837.214999999999,227645.09333333335,143443.06833333333,164219.33333333334,7694.815,1128262.6066666667,67636.64000000001,1157547.7483333333,13427.14,288930.73500000004,157752.74833333332,22627.626666666663,16230.90666666667,78402.12666666666,21413.76,775909.6733333333,1074870.0733333332,424977.1666666667,409720.375,101860.375,48888.473333333335,956635.86,87973.04000000002,247311.09333333338,221934.40166666664,2271.3349999999996,214862.215,1939.3066666666662,263618.39333333337,908579.0016666668,482480.41500000004,465180.56,62438.335,942346.2400000001,174501.99333333332,290865.135,978377.415,137349.415,40360.668333333335,489747.1666666667,939844.9600000001,52427.14000000001,271688.56,717130.6933333334,319047.375,25158.748333333333,24193.001666666663,490813.0150000001,36334.34,50296.74833333333,278235.215,73333.375,28454.5,1333470.64,69547.70666666667,6766.014999999999,73133.43999999999,1508959.76,171587.60166666665,29398.126666666667,370958.0733333334,785547.9400000001,106655.44,49054.0,852170.375,17904.548333333336,1051721.3066666666,726760.3350000001,14723.059999999998,855878.375,23844.0,1080333.54,803946.015,755780.015,278452.37333333335,2984.2599999999984,1137706.8816666668,148393.015,320138.5,84087.04000000001,706568.375,7738.0,136204.2066666667,185649.86,79729.04166666667,521612.5266666667,75325.33333333333,194887.375,1086980.74,346211.9483333333,428220.535,26872.960000000006,687170.0733333334,862739.86,764110.2599999999,231818.77333333335,1072732.375,1177726.66,1254674.0,159994.42666666667,28630.666666666668,428550.215,3510.5,5926.260000000001,154346.26833333334,200414.64,99968.26000000001,879425.935,91974.56,12540.375,208652.02666666664,216528.88166666668,555173.8816666667,26551.815000000002,225871.83333333334,675683.44,155427.415,53626.73500000001,1338847.415,333586.0150000001,4431.759999999999,286561.3333333333,118123.06,417295.20166666666,12801.934999999998,4426.735,21916.934999999998,48547.375,1320428.7933333332,85698.335,4635.401666666667,2365.0149999999994,12002.015000000001,870800.375,18908.34,74486.74,34704.560000000005,163514.56,79740.80166666668,849647.2683333334,759644.66,302452.56,1100605.0416666667,1242792.375,4721.375,20903.406666666666,310557.94,532769.6683333333,98861.14000000001,237304.415,1442747.2733333334,28106.5,777908.6666666666,813878.5,120727.53500000002,308929.06,22234.373333333333,285386.215,71260.375,942735.735,1334450.4016666668,100549.89333333333,112716.79333333335,118548.04166666667,231335.26833333334,7834.681666666668,836840.56,388018.0416666667,205598.215,57527.36000000001,652672.9483333334,738695.1666666666,122885.26833333336,31112.375,29260.375,59219.89333333333,27840.373333333333,955324.0,1084565.375,17260.215,254296.46833333335,180724.37333333338,347494.0016666667,12108.293333333333,10470.281666666664,1239639.8399999999,2864.001666666667,79833.81500000002,16289.06,596903.6016666667,1189294.015,3883.0683333333327,307103.33499999996,1312156.0,18923.626666666667,1194315.2733333332,468240.6400000001,604554.16,270817.375,982339.6016666667,573475.2150000001,42903.54833333334,86104.77333333333,134918.02666666667,449791.0150000001,21958.735,1239622.0,328886.2816666667,588189.415,13351.934999999998,529206.2933333333,15838.160000000003,863257.815,113474.60666666667,193259.33333333334,187119.13999999998,1079233.935,283596.7083333333,657424.3733333333,75379.08166666668,1081921.76,151574.215,182295.375,181634.46833333335,9855.534999999998,730533.4600000001,312413.4016666667,13571.840000000002,1075499.6016666668,5169.226666666667,99380.335,139704.93499999997,573944.0,2498.9266666666667,4975.326666666667,723094.015,209787.74833333338,440851.135,20822.734999999997,409880.26,212011.735,3247.4399999999987,285015.46,1226314.66,96168.42666666668,375945.99333333335,287233.06,534217.36,3910.2683333333334,36582.90666666667,293617.84,12090.815,291695.84,880416.34,64543.68166666667,91854.335,181114.61500000002,668340.6666666666,140963.14,157897.89333333334,2974.0,21973.22666666667,454854.66,1247055.1933333334,229474.135,392854.0016666667,512539.7349999999,141509.49333333332,614470.1483333333,1168833.673333333,717122.415,12472.734999999999,197257.375,4688.148333333332,959908.1349999999,158336.26,929730.5066666667,206042.415,1330088.6816666664,280055.5933333333,207016.47333333336,9673.359999999999,28117.615,497851.44,1322650.5,12091.734999999999,118712.46833333334,437866.93500000006,139557.57333333333,92053.615,1142895.6150000002,362605.61500000005,90755.01500000001,515927.7266666666,1453234.9349999998,200958.16,546126.16,123708.12666666666,418193.215,113100.64,99000.015,86510.00166666666,257405.94000000003,230073.41500000004,620830.375,695856.4149999999,57656.473333333335,63100.01500000001,1117160.8733333333,1194893.14,179086.47333333336,1095261.375,1259004.6600000001,101980.64,750161.1666666666,558421.215,4228.401666666665,1261439.3333333333,676206.2599999999,41038.5,130421.46833333334,9584.281666666668,24680.79333333333,1110859.9483333332,25797.333333333332,69706.53500000002,112404.21500000001,76423.16666666667,60253.135,1457520.375,1262986.4683333335,24910.681666666667,22150.041666666668,5412.739999999999,96473.415,136050.26,48793.833333333336,45160.73499999999,609425.375,64374.340000000004,1097047.5399999998,26177.934999999998,1194893.14,246782.95999999996,49624.82666666666,578096.64,2006.3733333333323,5788.375,145933.00666666668,1162917.015,9321.626666666667,5222.239999999999,188587.73500000002,8039.214999999999,1368568.9483333332,22608.906666666666,2486.881666666666,161239.04166666666,457912.815,1127260.615,381650.6666666667,502698.4733333333,843023.4600000001,926885.4933333333,647939.5933333333,59203.13999999999,58031.375,41511.84,90130.79333333335,840460.0733333332,957519.06,870677.3350000001,976078.1350000001,401574.0,26907.626666666663,549692.535,165825.21500000003,201710.64,42774.13500000001,71859.00666666667,529225.375,320475.3066666667,122579.68166666669,204099.04166666666,495161.61500000005,58747.35999999999,41584.48166666667,14338.64,3899.281666666666,38692.0,130362.53499999999,599454.5,190951.05999999997,292509.33499999996,2081.5733333333333,3947.2150000000006,114405.54,116291.86,273704.92666666664,24551.148333333334,647346.415,246058.5,247367.19333333336,93197.335,1234478.015,2042.2149999999992,54713.535,16337.460000000001,705814.4266666666,7011.1349999999975,96089.33333333333,151915.36,752280.815,972577.4600000001,936520.735,1002577.8333333334,3864.7083333333335,1067253.935,59158.20666666666,711491.54,76169.72666666667,942855.3333333334,28494.535,134578.615,247687.415,95765.33500000002,88483.13500000001,78449.84000000001,143138.5,2134.4816666666657,176439.68166666664,83052.73999999999,1167983.86,630201.3483333334,9957.375,790502.215,1878.606666666666,14088.335000000001,1510750.4733333334,1044608.7400000001,848638.7933333333,88472.94833333332,16499.993333333336,46116.340000000004,35106.50666666666,153588.63999999998,340458.69333333336,379898.6666666667,972201.9483333332,135459.84000000003,86352.50666666667,486201.4016666666,83623.16666666667,24770.375,172731.83333333334,1433527.9349999998,119421.76000000001,89856.24,567906.1066666667,445275.135,1945.0399999999993,289575.0016666667,5990.375,617599.6150000001,828906.8016666668,312340.08166666667,112772.815,152351.26833333334,86527.375,67757.83333333333,46388.01500000001,31242.815000000002,74687.16666666667,252304.3483333333,1245785.4400000002,1245571.04,1455353.9400000002,713505.8016666666,455108.13499999995,593859.1349999999,96740.28166666668,979923.415,806498.7083333334,56947.84,1225840.375,167434.215,30401.335000000003,825086.1066666668,1078075.7266666668,144793.375,11132.041666666666,57655.226666666684,590042.4683333333,139717.83333333334,1196218.0683333334,17781.40166666667,147330.16,365775.04,788733.7066666667,1308131.7083333333,1106898.64,314119.84,655518.0266666667,634157.7599999999,25224.02666666667,1263512.1066666667,10742.293333333335,792413.1666666666,156415.735,190514.66,196929.36000000002,469129.54000000004,58694.12666666667,554867.5933333333,592358.0,2356.375,771720.8816666668,37276.10666666666,1075519.815,146657.93500000003,125361.375,841210.0416666666,401680.6666666667,192292.615,129507.33333333333,31426.615,401667.22666666674,615483.1349999999,105944.28166666666,448837.3483333334,34691.73499999999,1158247.6266666667,324866.95999999996,887034.415,125450.66000000002,877499.0416666666,716785.2016666667,909169.44,1197828.0416666667,170024.5,808447.215,1032402.6666666666,223158.5,23929.934999999998,685315.46,950848.015,720459.9933333333,964460.1266666668,401709.75999999995,54055.54833333333,27307.135,4347.001666666664,3949.801666666666,175517.0016666667,245875.81500000003,45182.90666666667,389491.46833333327,560378.0,41480.68166666667,65503.708333333336,1125498.7933333332,519391.0816666667,46661.935000000005,30779.440000000002,14335.281666666668,717707.535,322789.815,790153.06,399483.6683333334,77864.66000000002,24203.17333333333,410876.5,148016.335,236913.375,162518.93500000003,27599.041666666668,633986.3350000001,86379.74833333334,44710.281666666655,1430490.548333333,2170.393333333333,66568.01500000001,251126.69333333336,58700.26833333333,75745.97333333333,43716.666666666664,17114.906666666666,71062.96,683617.0933333333,74027.04166666667,113816.15999999999,591121.2733333333,799471.0066666667,357722.56000000006,128657.93500000001,201364.70833333334,15475.28166666667,369343.94,204801.415,74149.61499999999,94012.07333333332,13486.348333333333,14779.80666666667,13985.041666666666,865131.1666666666,1182449.54,3753.4149999999986,90786.86833333333,761243.2016666667,103939.94,67414.0,180522.56000000003,2325.375,196476.375,13182.414999999999,430757.44,185028.735,3181.439999999999,510720.01499999996,179317.33500000005,16530.375,1090870.375,4622.334999999999,556163.7599999999,129212.26000000001,888044.9266666666,23154.535000000003,1494930.0816666668,707015.0416666666,537417.1933333334,7144.159999999999,80738.04166666667,259357.015,1031704.1483333334,153619.17333333334,7123.375,2891.9399999999987,150053.21500000003,99190.415,933411.54,976066.2599999999,8650.401666666667,131027.43999999999,49895.14000000001,732497.7483333334,203943.16666666666,2765.401666666666,303472.0416666667,95666.94833333332,1210353.7083333333,12892.159999999998,460324.5,119732.08166666667,448829.6683333333,644126.5,806013.7083333334,806217.4400000001,471451.33499999996,133187.80666666667,5834.334999999999,14118.473333333333,111013.94,549380.3350000001,109074.80166666668,1784.468333333332,25419.76,719378.0,616489.015,102217.06000000001,1375572.8733333333,362949.00666666665,1414308.335,987682.015,27197.006666666668,744016.7400000001,351067.04000000004,1282291.4016666668,706999.54,558537.04,34459.59333333334,1247217.5933333335,106140.335,283237.735,790571.375,98722.935,33955.375,294682.215,154878.77333333335,18896.135,148576.96,701590.6666666666,2184.0683333333327,472325.935,760245.46,645052.375,248876.34,1512554.6666666667,694201.8333333334,451520.54833333334,965809.815,514590.7933333333,7499.360000000001,278901.32666666666,971732.8683333333,950142.16,235783.59333333335,966862.015,346960.6816666667,2122.2399999999993,6737.814999999998,105086.60166666667,571338.415,172455.67333333334,353098.06833333336,513961.2733333334,261717.735,699253.44,5487.833333333333,165881.60166666668,559946.64,595398.5,15303.348333333333,56102.615,2142.5266666666666,118853.815,370332.6666666667,232052.375,1921.3066666666664,1168112.0733333332,332731.615,56647.80666666667,154025.04,107532.04166666667,806582.2600000001,1130843.1666666667,901618.0,1116677.673333333,307827.7266666666,349479.04000000004,229138.5,12427.806666666665,106866.90666666666,42642.52666666668,1104771.135,2043.814999999999,158249.815,803076.0,948173.8683333333,81437.20166666668,83383.36,278711.86000000004,17610.339999999997,1358400.9350000003,142900.5,1153524.1483333334,2620.2066666666665,153214.5,211750.5,6876.681666666668,226936.375,297614.615,228017.375,289655.7083333333,861391.84,94896.10666666667,30763.668333333335,7088.375,584532.375,149508.42666666667,405953.59333333327,29164.073333333337,54690.60166666666,120671.46,2162.734999999999,818651.14,27085.735,347138.74,22347.801666666666,235377.415,16810.815000000002,15740.26,708727.7483333334,769765.375,290356.375,2566.6066666666666,64612.56,36486.401666666665,218624.56000000003,102206.94833333332,1043268.6666666666,46051.73500000001,641906.8816666667,104856.935,286163.135,1342782.7733333334,1324070.375,994261.935,185889.13999999998,123822.00166666669,121780.46833333334,874498.815,38411.335,112356.23999999999,55413.135,114759.46833333334,516561.73500000004,692704.2400000001,19992.375,146043.94,206678.0,635522.535,4108.281666666665,78504.04166666667,26638.74,112009.375,1249392.5483333336,187358.96,107486.82666666668,4294.926666666665,17266.16,12169.615,61168.87333333333,617529.7083333334,4158.534999999999,78452.66833333333,6657.46,994261.935,277949.49333333335,801221.415,2123.3349999999996,41511.84,769557.0416666666,661299.9933333333,31628.906666666666,128765.36,1359259.735,126731.08166666668,1005391.8016666666,450660.33499999996,95602.34833333333,389830.24,2319.7599999999998,475480.87333333335,86578.04166666667,194605.6266666667,8615.335000000001,1911.5399999999997,84535.93500000001,29511.706666666665,1196619.3483333334,840240.815,1256782.335,19758.34,33914.735,31566.414999999994,900751.375,91283.13500000001,33227.335,647346.415,784606.375,513004.50666666677,282950.50666666665,953477.375,90673.04166666667,777533.7483333334,802797.0599999999,17347.668333333335,931202.2600000001,225171.535,569843.44,230783.46833333335,3199.068333333334,734651.015,145986.48166666666,40028.48166666667,23238.5,68536.015,530424.6666666666,1148763.415,226321.33333333334,168258.535,164445.61500000002,997491.8816666667,4651.615000000001,382617.54,875098.015,47798.74,920481.8066666666,127536.40166666667,100815.94833333335,113775.86833333335,503520.95999999996,199195.93499999997,45946.375,255746.80166666667,238021.6266666667,873779.1733333333,241329.81500000003,47501.333333333336,38182.0,48501.306666666664,38059.46,83572.135,21009.708333333332,68675.86833333333,3389.3333333333335,310414.3933333333,919278.375,448884.26833333337,450305.5733333333,575279.86,123565.67333333334,274616.16,1098526.0,69032.56,151816.815,1013820.3350000001,12386.335,66987.20166666668,18742.106666666663,45310.068333333336,317720.375,393499.84,725065.6150000001,236841.76,202461.375,32054.82666666667,54588.16,644187.0599999999,809602.2599999999,1126604.6666666667,8823.76,761739.1933333334,30755.948333333334,152042.535,55536.5,110531.93499999998,456903.535,26163.94,53570.415,6756.375,270291.13999999996,73495.54,123340.375,480659.1933333333,430732.16,403913.9733333333,337459.375,1311446.0016666667,1232276.66,633334.6683333333,733644.015,1303370.16,10919.081666666667,11625.593333333332,256369.135,923832.0733333332,293598.6666666667,46244.5,1365088.1066666667,6619.935000000001,1837.2149999999992,2298.6599999999994,158842.96,3688.2399999999993,151149.66833333336,353069.5483333334,396926.815,94097.21500000001,45335.86000000001,143131.70833333334,3590.8683333333333,284860.375,36783.04,2899.881666666666,415551.26833333337,688282.5066666667,412156.1483333334,57862.73500000001,168852.33500000002,1088734.5,170040.5,24601.615,2567.8333333333335,844113.9733333333,292710.615,3755.006666666666,2481.934999999999,72100.20666666667,120073.13500000001,1978.614999999999,120788.5,27274.74,327371.4066666667,1224855.5733333335,398895.88166666665,841682.0,464144.615,299261.375,643002.5483333335,134284.135,39442.348333333335,134330.66666666666,75373.54,431603.6733333334,1355222.2400000002,1856.259999999999,419926.06833333336,159255.86,68629.13500000001,302338.0,1288335.5350000001,167508.375,183908.215,709190.3400000002,2164.5,163775.335,627529.0399999999,7064.481666666664,116442.375,132917.05999999997,5412.239999999999,23157.059999999998,37178.708333333336,77948.0,19627.135,437274.535,59545.708333333336,586672.375,228866.42666666667,89039.89333333333,276033.89333333337,35470.29333333334,1261275.375,10141.601666666667,732568.5,1040987.3483333333,17788.506666666668,370927.2733333334,415063.7083333333,1009510.66,291156.20166666666,606261.8066666668,1744.0,60909.20166666667,27114.24,3792.773333333332,863297.6016666667,3761.2150000000015,158617.375,107104.50666666667,516333.0816666667,13189.093333333332,9658.473333333335,52268.12666666667,39638.64000000001,1768.693333333332,256156.16,165927.615,1519184.0,918206.66,12642.268333333333,98417.04,127194.415,1070064.335,143426.0,42668.20666666666,758361.3333333334,265815.215,246798.50666666668,51486.77333333332,496805.215,604106.415,1243335.815,387739.0150000001,209067.215,45600.40166666667,347515.6016666666,11182.666666666666,29481.039999999994,7252.375,1184276.0683333336,3079.334999999999,30263.833333333332,374691.45999999996,19313.375,155679.43999999997,81122.65999999999,1152140.0016666667,360636.6400000001,5506.5,172571.375,247528.04166666666,54805.13999999999,635536.735,136927.46000000002,11347.801666666666,11496.935,3675.173333333334,629762.375,142606.88166666668,192600.615,38941.01500000001,80984.74,28333.626666666667,1035494.415,146814.135,88020.73499999999,87046.82666666668,653780.2150000001,934147.94,73414.28166666666,1289889.548333333,42682.88166666667,603481.2733333333,21350.135,19755.414999999997,6145.601666666668,68243.335,119230.64,97891.16666666667,40687.135,82659.70833333333,306030.7933333333,529332.6066666667,131696.93500000003,219828.0,414902.34,214177.72666666665,505280.375,121107.375,1052122.015,187627.375,110485.21500000001,137722.66666666666,175200.0,197641.86833333332,458774.13499999995,49010.88166666666,94778.92666666665,283641.4683333333,4391.140000000001,232273.32666666666,81510.5,500661.32666666666,6358.134999999999,759829.535,79246.54833333332,505159.61500000005,132190.735,978342.375,127066.13500000001,177033.54,90012.92666666668,150094.47333333336,1271790.7083333333,185636.60166666668,78118.02666666667,12612.868333333332,1368295.36,682806.415,248945.54,974961.1666666666,125886.96000000002,17903.166666666668,1886.375,5611.7599999999975,72499.76000000001,14241.801666666668,687011.8333333334,18019.360000000004,24835.306666666667,4715.615000000001,404939.8400000001,304541.72666666674,321754.0,971708.5483333335,203540.87333333332,87152.34000000001,647319.6016666667,1164875.135,3565.615000000001,880828.375,8134.073333333334,4659.993333333333,96678.96,451088.6066666667,53127.74833333333,723841.36,1230044.74,29342.339999999997,432564.0,237676.24000000002,756214.8266666667,369809.94,353452.74000000005,182497.335,1026972.2400000001,1297527.735,3702.1266666666656,443499.26833333337,545461.375,1156105.015,15183.601666666667,390295.815,89784.70833333333,245359.84,1309634.5600000003,441505.04000000004,819926.0,423987.9733333333,630892.0683333334,629376.8816666667,969419.7599999999,923210.5,296940.0816666666,177204.335,204240.66666666666,22350.60666666667,848191.54,296234.4683333333,1426049.0600000003,887002.9483333332,973127.1666666666,166235.93500000003,68176.64000000001,751387.3333333334,145425.17333333337,261122.41499999995,2718.3399999999997,87996.0,1355134.0,2274.0816666666656,980990.0416666666,155452.375,148190.135,2121.134999999999,113812.42666666665,6216.0,90565.375,767974.9066666667,634636.375,1172309.615,112578.92666666668,154426.48166666666,42268.01500000001,20234.0,47253.335,85701.84000000001,1218219.2683333335,81014.215,1188955.4066666665,1767.0416666666667,120444.54833333332,127148.70833333333,24085.333333333332,38912.82666666667,216207.04,733702.0416666666,540989.3333333334,300293.93500000006,119618.04166666667,411491.5933333333,1864.0,444395.8066666667,570311.375,73370.01500000001,351571.01499999996,164185.415,776458.66,1228592.615,220361.19333333336,5878.0,61969.99333333335,140199.46000000002,1286397.0683333336,69608.0,97952.21500000001,50693.13500000001,31673.734999999997,414335.68166666664,251089.33333333334,475544.96,48487.62666666667,787873.375,388573.61500000005,511605.2150000001,53166.159999999996,469240.7933333334,246685.04,377906.935,877773.8333333334,131534.5,706383.375,84206.0,122304.21500000001,3783.273333333333,873439.4016666667,307595.13999999996,288813.67333333334,980253.1666666666,127539.93999999999,40288.135,690150.0416666666,11483.041666666666,60231.46,34429.74833333333,44758.66,948282.6683333335,1200759.7083333333,1073538.0,713673.8333333334,24453.26833333333,199120.96,205899.48166666666,103984.21500000001,492358.82666666666,1188257.7266666668,2544.6666666666665,1102103.7083333333,402800.375,1212612.34,419363.135,10731.973333333333,92253.06,830100.0816666667,138515.015,25191.833333333332,685296.4683333333,20300.0,1915.375,98942.52666666667,60756.56,132831.815,727050.0016666666,344327.48166666663,1046681.4016666667,189086.56000000003,1074913.9933333334,662717.6266666666,52068.5,1435081.015,368156.88166666665,153939.40166666667,37686.0,38756.106666666674,304805.375,161185.33333333334,1929.4599999999984,138104.26,622495.8333333334,1042650.375,9836.534999999998,75877.84000000001,457810.375,2951.3266666666664,724433.935,37177.84,44289.806666666664,691128.6150000001,1855.2149999999992,178301.615,260136.50666666668,13398.135,807811.9733333333,463888.375,31164.260000000006,26435.540000000008,1930.0416666666667,101695.70666666667,99985.335,154668.29333333336,741520.6149999999,16440.335000000003,39143.67333333334,233181.72666666665,93731.935,26332.375,10408.348333333335,929505.415,17687.833333333332,105424.88166666667,2429.0683333333313,144773.375,184384.48166666666,586026.0,92807.375,2106.6599999999994,211091.43999999997,104364.50666666667,17186.468333333334,148572.77333333332,5783.139999999999,5876.014999999999,27577.76,750524.7483333334,94504.96,55682.23999999999,27947.375,195421.34833333336,683070.9349999999,207119.135,40110.5,587616.6150000001,1237398.8816666666,175172.14833333335,789002.0683333334,9122.073333333334,414806.215,158927.86833333335,321361.4816666667,124730.14833333333,330576.61500000005,1049515.4016666666,13473.306666666665,59321.375,214396.16000000003,1175390.906666667,179394.16,2685.0416666666665,1933.8399999999992,85212.375,9729.460000000001,196293.94000000003,302670.86833333335,94571.13500000001,605189.6683333333,9368.64,263513.67333333334,29891.993333333332,118826.34833333334,1043249.2266666667,75479.80166666668,268395.0066666667,202214.5,263179.735,36945.86833333333,58727.84,2647.4399999999996,254320.14833333332,534708.4149999999,201990.80166666667,4610.9349999999995,233684.135,5760.534999999999,1214203.375,815000.3733333334,41394.615,21655.34833333333,51904.68166666667,16230.90666666667,149400.66666666666,795872.4266666666,25698.16,44026.61500000001,90000.21500000001,235616.4733333333,902063.7083333334,759898.5,2425.706666666666,984284.7083333334,576129.3333333334,71393.09333333334,202708.74833333332,1039327.815,73953.415,398347.84,1179188.96,886552.56,25044.0,99805.46,685839.7599999999,434692.2150000001,160087.815,1210353.7083333333,1077746.66,69547.70666666667,50438.868333333325,198340.215,1320922.535,219157.46,581639.54,1109301.0016666667,26653.43999999999,1118975.9483333335,1250785.935,55812.86833333335,58411.406666666655,2294.0,207920.46833333335,409664.215,1124473.4016666668,561477.735,118385.53500000002,113749.33500000002,408108.88166666665,571848.8266666667,305149.14,833424.34,110986.015,33098.24,45900.73500000001,3095.8333333333335,382520.2066666667,4654.414999999998,529882.375,1294624.1600000001,140193.40166666664,978926.56,220937.34833333336,21674.535,477444.69333333336,713164.2150000002,1059662.0,1195593.3066666666,83944.56,235548.34,513935.19333333336,745055.3350000001,1372242.6066666667,624175.3066666666,929692.9600000001,148361.88166666668,599386.5,506492.0416666667,151610.48166666666,13353.948333333336,1456406.6150000002,238153.32666666666,84152.26833333333,165523.815,389814.0,1159713.4016666666,1149143.2149999999,363356.0150000001,241989.535,759196.375,42772.13500000001,17158.16,11498.339999999998,649218.9600000001,77657.08166666665,2372.0149999999994,729114.0,578620.8266666667,40623.833333333336,553004.2599999999,106408.13500000001,160788.0,67678.815,1361326.215,168594.26833333334,5855.948333333333,1188257.7266666668,604495.015,135528.0,11938.24,1772.0,55828.659999999996,12238.375,7144.96,52318.56000000002,117066.20166666668,2050.375,1384829.4016666668,1061924.6066666667,363441.88166666665,39089.041666666664,100191.615,161976.92666666667,539169.4600000001,81110.375,840499.8333333334,12317.534999999998,587544.015,369736.26833333337,278804.60666666663,49238.24,239058.42666666667,52317.01499999999,175477.16666666666,152920.12666666668,213542.64,599570.9266666666,166457.015,252975.68166666667,1022921.54,44746.693333333336,61574.56,9890.206666666667,96231.28166666666,577375.015,35396.215,4554.340000000001,1413331.335,120883.59333333334,167828.5,1472616.615,343147.04000000004,2372.015,734114.5,714249.2150000002,56509.335,767025.0683333334,1074112.375,22552.506666666664,300856.0266666667,62761.17333333333,242379.70833333334,1213178.281666667,90296.375,355984.0266666667,33362.60666666667,315628.6666666667,145427.46833333332,686398.6150000001,56943.006666666675,57800.16000000001,50155.36000000001,220183.375,207086.74000000002,653648.375,17183.359999999997,2700.0,215133.93500000003,61914.61499999999,928834.375,1056519.7083333333,10522.375,639244.015,496935.2733333334,7475.593333333333,103532.52666666667,1049430.8150000002,1271005.9400000002,75520.20166666668,189778.96,4463.833333333333,4664.201666666666,601948.6150000001,144669.60166666665,955842.64,605034.535,394810.95999999996,200469.76,99139.21500000001,382943.375,303492.535,4112.106666666665,255335.41500000004,31885.059999999994,1036452.2066666667,31952.015000000003,40458.375,18219.76,8188.735,177798.375,1207679.3333333333,65601.54,42348.375,811996.015,322765.375,607628.1266666666,94248.93500000001,106655.44,449930.2150000001,185791.06000000003,1169658.6666666667,6466.96,281494.25999999995,115101.28166666668,963868.4683333334,4498.801666666667,151388.66,461321.01499999996,456201.76,513170.6683333334,160259.76,1113253.8816666666,564044.7733333333,187692.4816666667,229951.8933333333,448344.7933333334,1227119.548333333,70337.53500000002,50562.13500000001,148779.04,852435.04,144914.52666666667,148110.74833333335,3014.6933333333313,62139.40166666667,6386.681666666666,677105.1733333333,5261.134999999999,31012.0,24303.539999999997,123175.73499999999,99136.50666666667,16778.666666666668,446604.5,508225.54000000004,165353.2683333333,620679.535,352209.8016666666,48097.935000000005,98022.92666666665,820674.415,138786.74000000002,275256.16,26815.375,102409.70833333333,1002109.6733333333,373001.2150000001,1297434.6816666664,1896.3399999999992,27578.5,101419.83333333333,231582.64000000004,1294085.8399999999,1286931.5350000001,390721.06000000006,6707.534999999997,5618.5,52177.281666666655,1303756.0,243202.0816666667,302150.0416666667,61470.63999999999,78701.53499999999,68042.935,137644.735,2925.015,36216.01500000001,95424.65999999999,52487.335000000014,72503.335,110444.5,188438.86833333332,878146.415,102432.88166666667,141284.735,10813.573333333336,23596.0,760737.1483333333,39851.333333333336,673016.9349999999,777075.4400000001,44881.534999999996,39445.89333333333,8491.166666666666,18370.16,521681.46,587890.5266666667,227891.93500000006,599927.94,11716.015,252458.0,80700.79333333335,362896.66,7398.0149999999985,333708.73500000004,800880.7733333334,184819.135,6462.375,289092.615,51809.28166666667,182034.74833333332,856414.64,2153.9399999999996,142044.66,161371.93500000003,868214.7483333334,114203.815,938458.8733333334,1215253.0416666667,394994.16,10062.815,36254.16,73224.16000000002,858284.3350000001,1068842.9483333335,96595.375,6010.96,1054398.6933333334,134321.535,544065.7599999999,82829.61499999999,818600.7399999999,517288.88166666677,27968.801666666666,465110.26833333337,179027.4066666667,21042.708333333332,572930.5,183550.26,233608.0,638401.1733333335,92262.46833333332,4388.259999999998,993560.5,129471.08166666668,7727.839999999999,2992.1599999999985,107984.64,257690.93500000006,5117.815,1360381.8066666666,164913.04166666666,42685.01500000001,791829.3483333333,17782.26,2641.8599999999997,37421.13999999999,1214603.7266666668,17159.84,54670.668333333335,8620.426666666668,205619.86,7929.059999999999,574370.2150000001,719946.0,945828.535,360502.0,10917.34833333333,647203.0399999999,78360.66666666667,1173113.4149999998,2246.7399999999993,1114186.5,28194.215,832375.44,179635.54,15796.68166666667,1897.1666666666667,10957.359999999999,26769.934999999998,32447.135,255115.93500000003,13112.375,248956.66,24057.535,234955.46,31478.0,579367.0416666666,48388.48166666667,22243.935,38041.86833333333,16537.681666666667,150641.13499999998,190730.73500000002,683178.6150000001,3083.7599999999998,356697.0416666667,132713.57333333333,19233.833333333332,35703.04,5935.948333333334,37686.68166666667,563947.4933333333,223341.68166666673,17564.29333333333,6118.34,3679.006666666668,1961.3266666666666,432066.93500000006,432917.5483333334,31784.373333333333,53069.54833333334,764659.0416666666,295046.56000000006,92927.21500000001,744081.3266666667,224529.335,2821.8016666666645,207112.375,17314.42666666667,75610.60166666667,4758.614999999999,349032.815,1195593.3066666666,6454.815,13697.226666666664,118522.96000000002,115765.375,1369293.14,85934.375,571573.3483333334,53281.135,103159.375,399475.86833333335,97834.70833333333,150321.89333333334,342515.67333333334,455181.13999999996,312263.2816666667,659053.375,56089.615,1021665.8933333334,56498.26833333335,272473.7066666666,20476.135,91343.62666666666,317500.2816666667,609543.415,189414.60666666666,209824.70833333334,130495.72666666668,23197.375,87250.14833333333,196492.335,134510.66666666666,253298.55999999997,172313.81499999997,28607.268333333337,62415.460000000014,32749.833333333332,157374.70833333334,193990.5,116094.26000000001,1151003.6733333336,2060.5066666666658,16227.22666666667,621339.7599999999,309553.375,144134.415,51085.14833333332,59215.415,190914.16,451179.13999999996,549223.535,143931.83333333334,13543.201666666668,69219.54,1061615.14,733618.8816666667,1202060.375,667716.8733333334,251945.13999999998,1103675.86,218090.60166666668,185521.535,254664.0,24632.873333333333,995916.56,3047.9399999999987,1282546.1066666667,142938.47333333336,35550.66,184010.93500000003,42817.84,54562.666666666664,274353.415,583985.84,260698.25999999998,6761.708333333333,41550.708333333336,91516.87333333334,1129288.8016666668,255095.415,254316.415,22541.039999999997,760562.8683333333,264502.54833333334,119964.615,1342019.3266666667,166657.06833333336,101160.735,379492.4683333333,761157.8816666667,8244.473333333333,5610.5,78030.34833333333,15088.960000000001,249261.00166666668,8506.748333333331,227227.04,946868.415,601993.375,614406.3483333333,162408.5,22661.815000000002,1171853.015,127804.69333333334,4041.148333333333,15900.693333333335,924511.935,521710.9266666666,273795.17333333334,181742.66666666666,1207134.735,20825.881666666668,817506.0266666667,3350.339999999999,48494.20166666666,5445.806666666665,49279.13500000001,17055.460000000003,2361.9733333333334,385285.6016666666,52296.215,494393.0416666667,647489.935,77948.375,2557.8933333333325,72997.375,209563.83333333334,1296383.46,94035.61499999999,382410.3400000001,198729.04166666666,726000.5,5893.708333333333,9534.414999999999,102194.74,1194354.8733333333,1082423.0816666668,50097.493333333325,846683.3483333333,1273681.0816666665,1188946.8150000002,2342.3349999999996,7271.375,281113.7083333333,624890.335,996812.415,984881.375,149074.96000000002,148205.28166666668,2450.293333333333,52798.73500000001,18282.0,3732.0,16635.459999999995,65941.135,1094978.015,23740.666666666668,36228.935,1066496.3350000002,883893.6266666668,224836.16,2768.081666666665,22779.460000000003,133871.67333333334,86534.48166666667,592358.0,1197082.2066666665,401985.84,107176.96000000002,10453.039999999999,507320.4266666666,62274.25999999999,948820.8683333333,1341821.326666667,592673.5483333335,76896.80166666667,134113.04166666666,50020.375,3503.3349999999996,252138.74,1181037.9733333334,2296.5,737016.375,18943.460000000003,174003.94,761070.6666666666,484298.815,724498.935,14144.426666666666,197946.54833333334,146908.66666666666,6776.414999999998,213841.84,167078.86833333332,126592.93500000001,299431.3333333333,77975.36,160717.93999999997,2077.493333333333,206902.66,540536.8150000001,317269.3333333333,282637.3333333333,71988.07333333332,142725.04,661384.0816666667,32792.14833333334,257456.69333333336,957284.6150000001,870749.015,315241.01499999996,15636.201666666668,12300.001666666665,340929.06,1207679.3333333333,1188231.94,229837.415,51254.935,412158.86833333335,11593.19333333333,13583.14,635988.16,3014.0416666666665,67761.16666666667,273764.56,993555.5933333333,414329.54000000004,306766.39333333337,90805.86833333333,3217.0416666666665,775783.2733333333,689826.0416666666,24742.375,244704.74833333332,387050.935,146470.86833333335,714840.2399999999,14508.073333333332,411737.04000000004,22531.681666666667,620220.1266666668,1069983.735,1229462.5,817111.0683333334,156261.68166666667,70328.375,1008269.7483333334,327340.4683333333,103200.90666666666,3003.2816666666663,365516.24000000005,274234.41500000004,765814.815,610781.8400000001,413877.375,559958.935,107845.30666666669,1007562.66,187335.415,147853.16666666666,219281.80666666673,111990.70833333333,24601.375,19119.041666666668,462238.615,798331.44,766688.415,136353.54833333334,103985.86,372976.0416666667,708431.84,88011.09333333334,256302.14833333335,35254.12666666667,327584.26,1118114.16,98576.415,135613.36,1029771.3333333334,951429.54,149326.56000000003,647326.535,315279.93500000006,26768.126666666667,402627.13999999996,1017446.015,77674.39333333334,1469854.0,330121.14,23381.333333333332,286073.535,212862.33500000005,472785.8599999999,2419.801666666666,29109.815,208410.54833333334,83683.40666666668,245670.535,184115.33333333334,61976.80166666667,1815.201666666666,86143.375,639788.7483333334,32262.42666666667,1077766.1483333332,161176.13499999998,2254.4016666666666,50095.94,759527.1666666666,276961.26833333337,219396.54833333334,142751.48166666666,582148.7733333333,113246.16000000002,195582.0,994139.8016666666,481172.0,1404375.1933333334,997465.9733333333,300198.1266666667,70651.16666666667,424829.06,203500.66666666666,231044.96,123318.615,112871.53499999999,9295.708333333334,2308.735,98106.26833333333,220528.77333333335,2279.806666666667,516000.9266666667,345457.54,1981.8816666666664,215215.00166666668,471462.535,11196.426666666666,16099.306666666665,12462.401666666667,138866.66666666666,217145.70833333334,722757.06,211600.66666666666,1010163.3350000001,224173.83333333334,97604.29333333333,1295401.5399999998,79587.89333333333,1312704.6683333332,1218551.7483333333,11468.375,195125.32666666666,895708.6149999999,1315009.8399999999,1391953.2683333335,745674.34,211678.5,197256.66,236518.0,1085787.9483333335,1337963.0016666667,481288.96,1059736.0,1029445.4600000001,14613.375,367789.72666666674,104918.375,756296.2400000001,189457.54,37449.74833333333,61055.215,494682.0416666667,158448.87333333332,1164683.3333333333,141204.66,393143.44,1289105.201666667,309391.1483333334,1464320.7083333333,14072.135,549433.815,1215253.0416666667,173497.06000000003,110080.375,11420.660000000002,36466.01500000001,1259860.26,1196174.0,664846.0,677970.4016666667,150278.335,349597.49333333335,98037.54,907456.375,499149.7083333333,222716.26833333334,15183.833333333334,882120.735,385194.6666666667,250359.86833333332,187078.34,781409.86,50848.02666666667,2347.734999999999,880567.4600000001,28052.215,21791.593333333334,959980.0683333334,1273246.2016666667,2663.06,2981.734999999999,180978.69333333336,341596.50666666677,63259.375,3964.9349999999995,984804.0,40187.09333333334,189066.9066666667,15309.04,22274.5,104461.375,141244.29333333333,350450.415,176102.77333333332,266144.6666666667,8459.333333333334,423474.935,106453.19333333331,38800.64,980981.54,270063.135,319822.735,31306.268333333337,1067258.4149999998,251071.01499999998,100747.615,2584.1599999999994,97069.335,1187752.375,138386.215,89814.20666666667,80947.54,1074475.4016666666,283699.06,369941.3483333333,1248123.281666667,44952.801666666666,53874.0,1160157.6016666668,167316.16,967194.015,377245.375,106291.80166666668,145030.34833333336,4661.14,287163.72666666674,89170.12666666666,1853.2149999999995,20715.406666666666,44161.935,105529.01500000001,59485.840000000004,98364.20666666667,48989.333333333336,194324.10666666666,80164.40166666666,643808.4683333333,2654.801666666666,187762.0,53906.20166666667,273957.75999999995,497959.84,188712.66666666666,1122302.74,51329.76,160306.34,1303520.9483333332,1435807.0599999998,397533.54,46428.12666666667,2052.6933333333327,296428.7083333333,637611.535,1105311.335,20418.375,63573.73500000001,248567.46833333335,220937.36,579922.2400000001,842615.7083333334,625639.36,340390.335,240662.14833333332,515099.62666666665,355021.06,363019.94,909627.5483333333,59179.535,174666.375,313763.335,316364.60666666663,16046.52666666667,710873.0416666666,3716.2599999999984,103929.54000000002,11811.939999999997,238393.46000000005,635917.0416666666,1315499.0933333335,1014634.375,883545.7083333334,834964.9483333332,543069.9933333333,5347.973333333334,162050.06833333333,126428.39333333333,68331.93999999999,298733.86000000004,4992.801666666667,13365.481666666665,61620.73999999999,17888.16,579959.7599999999,176685.05999999997,46795.44,83002.04166666667,60593.14833333332,799548.7083333334,795254.8683333333,304359.93500000006,363019.94,38742.0,1421579.4400000002,414744.5,77143.015,42895.615,1091457.8333333333,822244.0,140119.80666666667,554353.0816666667,16814.559999999998,959980.0683333334,1305087.0066666666,544897.7483333334,196049.93500000003,110725.80666666669,944926.64,433700.6066666667,1113238.0416666667,114678.00166666666,732699.6683333335,457724.86833333335,6375.935,117580.64,878210.2016666667,449669.33499999996,1276664.335,1534075.0599999998,132870.54833333337,45779.335,474384.615,4305.406666666665,774233.6683333335,17645.860000000004,181284.015,1067906.64,5947.2733333333335,338082.415,243728.5,1409924.0016666667,59928.666666666664,883806.64,104452.64,1841.9399999999994,108256.46833333334,2122.339999999999,1157919.8683333334,4361.8150000000005,6990.948333333334,616506.3400000001,814395.0416666666,1331837.0600000003,288018.24,615304.0,143798.375,106072.96,23354.5,1019508.6666666666,21517.573333333337,25299.801666666666,1165090.5,46078.5,143014.61500000002,106696.93500000001,127658.66000000002,57190.66,104702.615,200217.33333333334,169185.30666666667,3757.201666666666,760459.6150000001,108006.34833333334,1898.1599999999992,140241.00666666668,455177.215,988931.0066666667,26967.32666666667,2176.735,117450.20166666666,561798.5599999999,548022.5599999999,260809.93999999997,18166.506666666664,3448.2933333333326,7699.401666666668,1330344.6666666667,849880.16,29076.29333333333,801288.935,268588.3483333333,249186.015,545944.0,907154.4266666666,732524.935,150793.015,259179.43999999997,60059.973333333335,45284.666666666664,792388.2599999999,104006.335,3085.2016666666664,126753.17333333334,1147211.015,794747.3266666667,467297.375,1180987.8933333333,2876.7483333333334,259008.68166666664,49271.806666666664,365421.76,875758.5,143566.375,2614.6599999999994,2418.0416666666665,80958.77333333333,269656.9266666667,94665.80166666668,652081.94,489147.60166666674,422470.375,710307.04,49970.60166666666,26774.69333333333,53654.041666666664,473756.16,294928.60166666674,4354.548333333333,5611.493333333331,250844.335,1045315.535,73789.015,557804.56,477094.8016666666,227564.215,69450.34833333334,134421.62666666668,1020338.7083333334,140310.96,39938.535,1335959.7083333333,64405.13999999999,597326.8733333333,246804.535,206041.01499999998,6172.259999999999,75002.10666666666,50090.335,121147.375,143568.70833333334,82218.34,867183.735,807778.9600000001,163731.70833333334,1988.3349999999994,292332.0,494011.2150000001,22316.02666666666,84742.015,518261.935,530894.6816666668,645707.94,1363674.6683333332,147683.54833333337,32467.601666666666,289497.2266666666,56680.5,413907.375,139542.375,1177341.735,806604.7399999999,153382.86833333332,1278962.6933333334,718950.3483333333,1238183.673333333,3123.801666666665,2473.3349999999996,12263.939999999997,16998.868333333332,356233.135,29534.16,193067.135,4823.935,32260.5,82943.99333333335,113025.01500000001,154327.80666666667,517736.60166666674,2095.1349999999993,5976.414999999998,1306570.0816666665,3418.7933333333335,1283007.735,176102.77333333332,73736.53500000002,1158807.76,4950.801666666666,156148.935,54737.993333333325,410578.375,225109.04166666666,1074784.0416666667,137665.375,18172.24,6505.333333333333,1158607.0016666667,80561.94833333332,1283341.8333333333,2053.1349999999998,1185333.6733333336,152456.215,20550.74,90021.83333333333,160254.25999999998,778861.2016666667,235086.94833333333,773257.935,18344.393333333333,742687.375,6910.666666666667,8031.973333333335,137940.96,7616.959999999999,95425.66833333335,11430.414999999999,23308.0,1230915.76,70429.53499999999,4932.214999999997,655733.7599999999,9443.54,2132.2066666666665,109157.86,565800.7083333334,1338303.9400000002,535265.2150000001,868254.1483333333,106890.15999999999,159445.32666666666,63562.041666666664,31419.708333333332,1088778.2066666668,783095.375,46421.73500000001,787738.3400000002,313440.5,28678.60666666667,374622.74833333335,391904.0,425812.56000000006,565750.6683333335,1415687.0683333334,738695.1666666666,16107.015,158579.70833333334,1085234.64,923760.535,154679.36,1812.375,124456.12666666666,15654.206666666665,198444.29333333336,125919.70666666667,46712.0,159757.57333333336,102510.64,4947.940000000001,1227550.375,220697.135,15732.373333333331,42156.708333333336,709877.54,151245.34833333336,7955.573333333334,171617.375,2378.6150000000002,1941.2683333333323,301038.9066666667,1133730.8733333333,172203.46,1884.375,1015676.5483333333,6616.535000000001,2118.7349999999997,32044.60166666667,57738.935,28978.375,85817.335,103923.13500000001,32583.72666666666,526215.6816666668,169828.20166666666,134127.93500000003,610255.9349999999,75163.94833333332,73908.14833333335,64876.73500000001,27434.960000000003,2168.0,35255.73499999999,718313.4066666666,517951.2150000001,138975.94,410162.9066666667,44234.34,47157.54,946957.375,129768.02666666667,1430554.3483333334,140798.33500000002,76109.62666666666,48600.659999999996,13769.44,48516.26000000001,1182735.375,164825.815,1177553.375,271328.48166666663,29093.973333333328,962526.735,19251.948333333334,124208.40166666666,2384.935,1145470.7400000002,108296.34000000001,483270.63999999996,281892.4016666667,153943.46,779418.3733333334,1305277.4816666667,387369.06000000006,1043802.0,1311446.0016666667,64222.74833333333,184968.34,745115.375,4334.693333333333,1146213.9350000003,45065.04,948282.6683333335,668819.3483333333,49341.48166666667,1383234.24,1262011.5399999998,6161.335000000002,4478.0,13319.993333333332,3122.375,160967.57333333333,1179080.548333333,48646.375,95001.94,2039.8599999999994,1157227.8066666666,24685.015,66983.60166666668,106812.66666666667,197891.36,5750.959999999999,201996.41500000004,26122.0,15862.26,604602.0016666668,405838.66,227889.67333333334,719890.0266666667,818602.8733333334,6395.868333333335,227863.19333333336,27668.934999999998,567294.34,1377820.6666666667,175133.80666666667,914122.0,74020.12666666666,10912.201666666666,11179.415,79374.86833333333,35566.79333333333,809057.86,775007.36,107747.33333333333,102820.02666666667,66862.535,808980.5,1265330.8016666668,108401.28166666668,1775.1666666666667,241433.17333333334,17437.573333333334,313660.20666666667,661711.335,1777.2149999999992,29952.126666666667,338076.615,20778.126666666667,1037714.935,220999.84,22322.126666666667,160278.52666666664,1182984.5,247736.5,63185.93500000002,10195.414999999999,15343.375,276665.2733333333,788819.36,74670.5,67999.54,638528.2933333333,930734.3933333334,135010.87333333335,1381060.0416666667,1258288.375,499032.66,379127.86000000004,176779.86000000002,32642.934999999998,207371.14,222671.73500000002,1282292.0016666667,17751.334999999995,362558.74833333335,683675.1733333333,2885.934999999998,28547.414999999997,7603.860000000001,526080.015,1167349.0816666668,2154.8733333333325,951845.0416666666,57094.60166666666,8674.0,312090.5,895661.7266666667,1813.668333333333,139427.89333333334,176936.5,57812.0,40283.13999999999,36834.34,723440.1349999999,1314517.935,81965.335,1369868.66,25074.735,620675.7083333334,124745.13500000001,199062.9066666667,901386.0,232880.10666666666,712096.4683333333,748883.2016666667,154129.54,146389.83333333334,223502.42666666667,216850.0,50266.42666666667,8997.535000000002,1024484.0,144235.09333333332,614673.7083333334,424060.96,26268.906666666666,124113.09333333334,234187.08166666667,455748.2933333334,72121.81499999999,263536.615,1103338.1266666667,181647.62666666668,688631.1483333333,11868.106666666668,78650.87333333334,317921.06000000006,65756.70833333333,20721.815,677650.7733333333,300477.4683333333,691336.74,301207.815,1274359.415,246022.2683333334,125579.14000000001,26150.0,1116212.0416666667,991679.215,114200.41500000002,613904.7400000001,27898.615,471462.535,27009.093333333334,172203.375,167801.27333333335,633089.4600000001,782821.6733333333,115076.46833333332,318838.96,956662.7399999999,232324.64,88067.04166666667,124784.0,631590.2599999999,408482.69333333336,63874.041666666664,202784.26,114182.88166666667,1061813.4816666667,230323.28166666665,131869.84,1007485.375,120994.04166666667,143882.74000000002,1482668.5600000003,19718.815,678881.1666666666,462014.25999999995,118442.375,950251.36,8784.135,62520.46833333332,89250.415,11178.881666666668,166945.00666666668,253281.76,63154.34,568814.5,172988.8266666667,35364.215,660663.8333333334,766405.54,135786.415,440492.215,13719.001666666669,64550.708333333336,465564.34,59974.815,193975.86000000002,115186.13500000001,9556.375,17194.106666666663,1120427.335,175229.04,2941.934999999999,70266.535,50445.40666666667,225657.01499999998,148271.75999999998,744398.6933333334,1197066.7083333333,9664.426666666668,30432.639999999996,640789.2150000001,183263.93500000003,249015.73500000002,90743.86,58521.166666666664,38197.333333333336,680320.3933333334,599522.2599999999,207634.56000000003,6403.375,57935.815,1371707.4149999998,529339.5399999999,869412.2816666666,2230.375,89930.73999999999,98102.56,819865.7066666667,53434.66,40360.668333333335,1364631.6266666667,956624.9266666668,374205.0816666667,317861.00666666665,666176.0266666667,546633.3333333334,1898.1066666666657,26645.615,180449.41500000004,14708.20166666667,2030.5,30895.039999999997,236289.36000000002,602061.415,43376.24,22246.815000000002,7342.868333333335,347893.6266666667,88884.42666666665,239716.3933333333,567810.8266666667,29851.415000000008,1065361.375,979742.9483333332,9273.148333333333,966515.6149999999,526458.16,454440.6666666667,60252.00166666667,91969.46833333334,465126.0,59183.833333333336,61297.068333333336,545026.2599999999,4251.166666666667,177158.50666666668,1002547.535,232008.215,53145.36000000001,2153.14,9485.76,2411.0399999999995,216173.36000000002,343940.34,578442.2016666667,980317.0066666667,124386.52666666666,1051395.415,570239.3333333334,460223.13999999996,89334.94833333332,1737.4933333333327,72377.04166666667,21258.34833333333,29764.535000000003,16529.833333333332,465131.74833333335,216680.5,69807.76000000001,2293.8149999999996,220587.09333333335,182012.81500000003,122473.00166666669,3636.7083333333335,1223197.548333333,639748.7083333334,1146698.2016666667,1155605.0933333335,52291.615,256980.33500000005,119403.04000000002,1097111.8066666666,701314.735,554883.9400000001,937178.9600000001,2150.814999999999,279065.73500000004,223404.34,249432.34000000005,418642.37333333335,987158.015,294662.5266666667,430160.135,42659.30666666668,143757.66833333333,558570.335,222521.535,1045946.735,636013.7066666667,126137.21500000001,897723.54,138971.72666666665,360197.9483333334,269481.535,3614.934999999999,114305.53499999999,42051.14000000001,322057.335,126853.62666666669,1359722.6600000001,696990.64,11405.708333333334,1208106.375,516722.4816666667,238182.26,187660.9066666667,159511.48166666666,1174990.3483333334,165962.335,2834.339999999999,217204.16,2732.081666666665,288117.46,44021.62666666668,1091865.135,1198755.1733333336,217045.81499999997,576364.2016666667,186140.74000000002,18207.459999999995,453751.04000000004,638119.3333333334,1196951.1666666667,440932.73500000004,28494.535,589620.7083333334,1258255.6150000002,291577.36000000004,2558.934999999999,61757.833333333336,267061.4683333333,829718.7733333333,473377.72666666674,210445.80666666664,27108.64,137122.335,277447.1666666667,683096.4816666667,471687.375,2249.814999999999,66964.415,224864.0,60446.5,20335.868333333332,257679.60166666665,900769.815,606086.415,1212413.735,187932.735,15329.839999999998,2045.1349999999984,3121.44,84496.08166666667,5950.240000000001,52412.415,136533.04166666666,1528846.1600000001,1101756.1600000001,353812.68166666664,255109.36000000002,64857.17333333334,1515159.6016666666,45991.375,299467.84,263811.615,41453.84,124317.40666666666,163719.84000000003,131668.01499999998,65594.335,69025.67333333334,346544.0266666667,663955.015,488030.0816666667,1861.4066666666658,68636.13500000001,723861.04,1845.6816666666662,638655.2150000001,709194.2599999999,2187.273333333333,5255.041666666667,971105.415,541322.2066666667,872046.16,24174.64,252481.375,149664.2683333333,136360.375,232066.0016666667,27702.26,40018.0,155298.77333333332,1163592.2149999999,106432.0,462382.375,1912.0149999999996,2673.7599999999998,947601.7600000001,1154534.5,15368.335000000001,1083937.8016666668,75396.93500000001,95744.815,162158.93499999997,12110.708333333334,53914.74833333333,385772.26,1240365.3483333332,116620.33500000002,237022.34,729676.2066666667,152792.375,980238.5266666667,9464.748333333335,426579.45999999996,109545.83333333333,1105419.7266666668,31310.708333333332,915995.015,28168.268333333326,807787.3333333334,34502.081666666665,610325.375,823734.5,634961.5933333333,1303605.7483333333,17901.66833333333,1147528.7733333334,140782.74000000002,746697.7599999999,44179.80666666667,1784.0416666666667,349187.215,151136.54833333334,632385.0016666666,141402.77333333332,70869.40666666668,72356.02666666667,108739.53499999999,15820.735,17572.015,201216.5,1063095.615,363544.00166666665,147940.5,58918.335,11802.681666666665,886941.7083333334,462585.9483333334,34310.708333333336,235228.015,721743.7599999999,21704.60166666667,105869.14,155044.48166666666,46191.815,1180462.375,188712.66666666666,959924.6683333335,1150012.135,345061.535,561449.215,442669.0416666667,2155.681666666667,194088.1266666667,332293.44,17093.26833333333,182693.615,28706.426666666666,256480.3483333333,7477.375,64158.69333333332,816184.5,217712.46833333335,797217.46,38862.12666666667,67896.41500000001,10658.708333333334,652056.535,37881.62666666667,543260.7400000001,54143.833333333336,343144.0,383643.28166666673,1287403.215,248966.375,307880.335,500188.33499999996,9124.0,170093.21500000003,353546.5,1365842.375,100816.0,4431.593333333333,22476.468333333334,105724.34000000001,27557.94,140884.87333333332,40601.375,191988.64,149889.54833333334,1282305.335,647227.8016666666,284948.48166666663,1069776.5,205642.39333333334,58576.26000000001,2114.535,1310718.6816666666,98558.04166666667,19215.36,1344604.5,36826.5,546969.54,141853.76,9843.706666666667,157801.33333333334,120994.04166666667,456922.4683333333,336151.06,83305.41500000001,41119.060000000005,213506.96,1903.5399999999993,187078.34,1015326.2016666667,1489478.0,2676.2599999999998,57638.46833333333,89814.20666666667,3085.668333333333,720087.2816666667,143726.375,99299.81500000002,692462.56,110898.5,118701.53500000002,203121.375,86267.375,20793.459999999995,331615.54000000004,2784.6399999999994,90145.88166666667,59761.00166666667,689678.8016666666,77280.24,293246.535,410090.6666666667,15167.406666666664,358900.0,1077575.86,1138620.135,517813.46,155170.34,702979.0599999999,791510.1066666668,15670.615,61567.814999999995,7774.214999999999,237654.47333333336,158108.2016666667,567035.86,3011.0149999999994,182196.86833333332,450621.0816666667,229615.335,1128106.7083333333,154498.16,223764.33500000005,2321.8816666666658,157314.74,155425.73500000002,367195.335,38019.40666666667,946624.8733333334,40645.535,593693.4149999999,1117388.375,229872.47333333336,248496.535,45861.04000000001,60793.72666666666,197920.66666666666,9199.460000000001,199231.6266666667,2073.193333333333,40050.206666666665,358686.2066666667,1157744.8683333334,117851.93499999998,122387.08166666668,54311.935,641482.7933333333,565351.9483333334,73099.49333333335,755399.215,113100.64,1196953.46,119392.23999999999,495978.24,1083467.8333333333,464414.41500000004,826523.14,11125.626666666665,45399.439999999995,39949.041666666664,12794.339999999997,857646.1266666668,158937.54833333334,19969.281666666666,36421.06,213733.43999999997,47854.34,634954.7933333335,20968.026666666665,13794.96,1509819.135,1809.375,68806.375,58267.281666666655,1220820.135,104039.04166666667,20997.535,35470.29333333334,16693.859999999997,516833.9733333334,793732.9600000001,232016.415,1510750.4733333334,238451.335,680338.935,122905.59333333334,229537.16666666666,672746.24,1307631.4066666665,1306972.6816666664,1178794.4683333335,677540.5599999999,63976.5,2219.2149999999997,69958.135,142377.09333333335,987512.1483333334,134510.66666666666,54072.12666666667,345301.0416666667,1243348.4016666668,205883.83333333334,103416.65999999999,14884.56,211052.375,263121.375,424237.9733333333,2863.1933333333327,54745.375,641008.5066666667,186400.8266666667,12520.26,10763.093333333332,2356.7349999999997,1967.093333333333,419464.66,4040.073333333332,175409.28166666665,254747.46000000005,31031.815000000002,868331.8683333333,2513.148333333332,609823.5933333333,1056928.5066666668,44869.815,1020002.8683333333,626016.375,232741.375,6238.1066666666675,860131.06,965120.735,986319.94,19505.815000000002,326011.6816666667,249303.4016666667,12592.148333333333,622495.8333333334,305331.04,57344.61499999999,746388.7083333334,93307.14000000001,28993.334999999995,11002.24,13004.948333333336,3903.2733333333344,321025.86000000004,20573.860000000004,663327.8066666668,56048.01499999999,703918.2400000001,39554.26833333334,265830.08166666667,517687.09333333327,10555.015000000001,157705.75999999998,17085.415,411382.87333333335,89710.10666666667,14838.5,596772.0816666667,713804.3933333334,20745.535000000003,11133.36,165031.73500000002,1360645.5399999998,448832.215,21257.041666666668,881680.0016666666,740465.375,12030.801666666666,952069.4600000001,969662.0416666666,374253.81499999994,280261.375,88889.335,2424.268333333333,624958.9349999999,110704.92666666668,909631.0683333334,346090.7083333333,58576.26000000001,170815.04166666666,190829.84,197347.28166666665,830819.0066666667,3133.3599999999983,56523.86000000001,34702.375,4290.375,912178.375,125181.66833333333,145947.14,268699.48166666663,1179113.84,1076222.0,1197706.6016666668,895092.34,7480.535,380372.375,69766.81500000002,1412713.201666667,38046.20166666667,32066.375,107318.5,2206.106666666666,186089.27333333332,681308.8733333334,686910.7933333335,53892.708333333336,215034.42666666667,972353.06,352546.87333333335,63365.041666666664,489411.1666666667,45741.215000000004,33018.935,140750.5,670446.64,33910.681666666664,38834.54833333333,184112.0,206881.4066666667,1306026.015,664484.9349999999,26642.081666666676,2264.1349999999998,582550.2933333333,1087661.3333333333,9348.693333333333,1375572.8733333333,8875.001666666669,1364468.56,1228810.0416666667,176309.30666666667,13987.40666666667,831304.7083333334,21275.734999999997,59698.601666666684,160845.135,365683.415,452462.815,173344.335,62929.015000000014,996733.94,1328890.3933333333,88965.60166666668,3302.0,202069.59333333335,39434.74,1111830.9266666668,135282.47333333336,234300.16,656393.54,914355.7599999999,580923.1666666666,5740.026666666666,419041.89333333337,26062.375,1128679.135,82257.735,151869.99333333332,36687.306666666664,204466.74,173780.21500000003,963176.0266666667,72821.60166666668,1260679.3333333333,859745.0416666666,8303.833333333334,10718.0,1491344.0733333335,122399.04166666667,8134.375,464868.13499999995,18521.859999999997,76174.015,456388.24000000005,73266.34000000001,162834.34,1075394.7933333335,35783.815,935270.6150000001,456946.375,161202.815,8989.801666666666,221774.26,867601.3266666667,59865.27333333332,14775.726666666664,21007.001666666667,114520.26000000001,3668.2066666666656,765239.1733333333,225625.54,106057.33333333333,190168.375,140055.535,87238.90666666668,2629.1666666666665,231515.46833333335,111375.88166666665,32262.42666666667,928950.34,212946.81499999997,78644.80166666667,534673.0416666666,113640.34000000001,779966.415,246332.33500000005,305122.01499999996,193743.76,80834.16000000002,1250124.26,45628.24,453304.00166666665,984286.0,551854.2400000001,12774.073333333334,62405.70666666667,16461.86,427393.215,43864.74,42800.26,240848.66666666666,312059.3266666666,196628.135,168321.935,1133577.4016666668,1162960.0416666667,173507.86833333335,136962.00166666668,25185.334999999995,156229.83333333334,215574.5,1740.5,443603.33499999996,653808.3350000001,445546.00166666665,162520.25999999998,910325.14,182615.46,116771.33333333333,6716.906666666667,304591.94,1074242.6666666667,14041.840000000002,708615.5483333333,818226.5599999999,834381.84,127793.04,338875.86833333335,804250.015,4857.306666666668,1361889.5733333332,148789.215,98007.44,1124765.9350000003,12888.215000000002,48053.94,618993.4600000001,34282.073333333334,622790.4149999999,5841.573333333334,87913.81499999999,933538.5,54249.01500000001,959593.86,508697.615,69453.22666666667,736432.7399999999,514590.7933333333,1333429.3333333333,51144.159999999996,209997.66833333336,2228.615,115479.335,20787.068333333333,3908.7483333333316,996819.0416666666,45752.82666666667,58793.40166666667,30715.615,2124.4149999999995,280737.375,170345.335,18437.46,15190.348333333333,2108.068333333333,39596.33500000001,353716.68166666664,229467.535,541641.7083333334,22555.615,1322884.26,99851.68166666669,1057578.6666666667,35574.948333333334,232628.0,479647.375,784589.215,87177.22666666667,768753.94,1315351.5733333335,91750.70833333333,48651.215,108837.09333333334,202967.66833333333,2281.734999999999,75479.80166666668,46786.560000000005,804808.2016666667,1387251.548333333,191703.20166666666,3906.56,10465.193333333335,1219038.64,103132.375,579646.7933333335,101242.37333333334,510287.8066666667,24973.934999999998,6952.375,1131614.215,17781.40166666667,1168992.135,224117.83333333334,763930.4683333333,1064228.5,724522.0416666666,715983.1483333334,17106.0,52243.46,1242644.56,285362.33499999996,46753.86000000001,172717.49333333332,9390.206666666667,9051.04,959908.1349999999,257079.04166666666,967100.5,373770.20166666666,34861.72666666666,52386.793333333335,518774.0266666667,337501.0416666667,14747.17333333333,63636.0,64564.80166666667,17270.666666666668,851710.6150000001,981343.375,190679.215,123683.41500000002,17834.08166666667,765351.3333333334,40815.041666666664,114862.56,1061131.8683333334,1922.375,245775.49333333332,616517.375,76342.28166666668,612708.5,221264.0,203103.93500000003,2064.281666666666,817414.0,319007.335,74878.5,141596.415,564984.5,738711.0599999999,655875.7083333334,24622.081666666665,436443.815,103678.61499999999,951958.1266666668,60332.293333333335,323769.33499999996,12491.935,812057.1350000001,261048.615,216859.06000000003,764143.375,2655.4599999999996,136192.33500000002,454698.6066666667,85300.735,4312.666666666667,1192612.9066666665,782229.4016666667,449360.12666666665,5275.193333333334,1199986.1266666667,640245.3066666668,11490.96,95424.65999999999,81064.0,2074.426666666666,128921.74833333334,3144.1599999999994,53746.20166666666,10706.668333333335,10375.214999999998,70784.96,9139.734999999999,736365.86,928769.4600000001,25290.026666666672,66158.04166666667,1303538.8683333334,5488.0,643446.7083333334,661263.6150000001,60930.80166666667,8563.166666666666,253113.83333333334,315784.6666666667,1259013.4066666665,367934.66,137456.56000000003,1797.5349999999996,146584.86833333332,1251529.4933333334,136963.54,1119527.46,1048759.375,119918.04166666667,10913.859999999999,506477.32666666666,413504.2933333334,9434.335000000001,1281906.64,624504.5,22552.135,47546.5,415365.4683333333,865683.015,38909.06,55191.76000000001,7203.833333333333,34502.659999999996,239474.29333333336,23813.041666666668,178461.84,3639.4149999999986,160559.54,244887.72666666668,225447.86000000002,29645.97333333333,780884.5,113400.15999999999,361332.33499999996,897036.815,248956.66,39972.473333333335,200713.135,89180.815,18506.29333333333,578012.0,22234.948333333334,2356.375,620240.5,1006998.34,782858.2600000001,8715.06833333333,2122.1349999999993,845472.2600000001,2512.6599999999994,15338.335,159789.49333333332,246190.66,2751.268333333332,138623.04,542981.6733333333,5237.815000000001,441945.135,126561.46000000002,2083.4399999999996,680763.5933333333,841940.4266666668,42333.09333333333,381545.36000000004,47979.06833333333,41079.348333333335,48989.935,44615.935,24453.359999999997,39106.48166666666,10262.268333333333,359668.0416666667,240753.13999999998,597913.015,301391.375,4317.139999999999,946580.3933333334,8075.401666666666,350513.86000000004,837574.2399999999,349948.0816666667,443139.75999999995,184488.04166666666,1282305.335,708275.8400000002,160233.615,435618.535,1190801.8150000002,28813.414999999997,2297.4599999999996,730257.215,49514.935000000005,173284.60166666665,365244.74,123842.73499999999,1318883.76,430024.25999999995,1202894.935,561866.4266666666,7058.259999999999,1025006.4266666668,327366.06833333336,45795.73500000001,31588.015000000003,33181.215,39227.19333333334,156598.735,640287.3066666666,677805.815,625999.5733333334,61639.54,217681.70833333334,67857.215,274628.13499999995,28459.375,59098.29333333334,571338.415,99931.83333333333,1372712.5266666666,7295.868333333331,54690.23999999999,262899.44,445876.5,60480.659999999996,1060357.375,3166.0149999999994,922975.815,581095.0599999999,189977.375,207843.415,193036.20166666666,623674.9066666667,51589.80166666667,5612.214999999999,1214833.1666666667,70147.06,1156455.0066666668,86637.49333333335,1045601.6816666666,119751.48166666664,120654.34000000001,435259.13999999996,911620.7733333333,228320.34,224894.42666666667,1823.5399999999997,1128393.1666666667,867723.06,409216.1266666667,405803.5933333333,1313655.46,831318.4683333333,1339656.24,44373.708333333336,1089437.9483333332,221285.74833333332,75921.04,49856.87333333333,1116667.1933333336,602103.0683333334,966433.3350000001,60763.84,977398.56,427034.60166666674,160228.34833333336,48297.615,1125456.34,96468.73999999999,1023018.2600000001,40399.01500000001,122718.60666666664,2496.66,626517.5399999999,709178.5266666667,107905.00166666666,270787.86833333335,431601.215,107139.93500000001,220931.415,185432.81499999997,271330.0416666667,360993.815,12825.893333333332,1061713.3350000002,262138.5,94086.015,190260.82666666666,48019.348333333335,1023473.14,313246.535,433744.26,61733.74833333333,1251544.2400000002,11105.166666666666,35616.50666666666,361021.0816666666,24638.5,1486915.735,272190.375,515170.6400000001,233288.68166666667,2878.9483333333333,546929.9400000001,17348.16,1283898.8016666668,187069.54833333334,12590.426666666668,27046.34833333333,274234.41500000004,22359.539999999997,74518.53499999999,41170.814999999995,1182471.7266666668,26340.881666666664,85884.0,770026.0266666667,104856.935,88463.16666666667,69940.04166666667,103609.375,958600.3350000001,182060.335,457198.73500000004,150647.86000000002,163440.66666666666,236890.66666666666,6934.339999999999,635705.375,69759.54,976627.2266666667,467894.0683333333,73322.935,10020.526666666665,760615.7599999999,674816.4266666666,221394.54833333334,21804.868333333332,594538.2400000001,808284.64,860767.375,139478.04166666666,168337.43999999997,15995.935,2399.44,982539.2816666666,835616.5266666667,68193.88166666667,34388.64,166336.16,167181.80166666667,577540.1349999999,1151452.215,87046.52666666667,77212.66666666667,8663.281666666668,120863.72666666664,1322308.0683333336,200857.13999999998,100363.70833333333,726146.64,7634.073333333331,13170.293333333335,283028.5,490348.82666666666,12721.840000000002,123387.61499999999,855255.4600000001,468218.63999999996,96993.94,2077.735,41296.74,125738.90666666668,90725.53499999999,174337.375,114835.76000000001,879999.7266666667,693561.8333333334,23177.166666666668,36280.335,434699.535,1009500.0733333334,991177.815,931068.0816666667,342745.61500000005,1059683.84,345958.8683333333,374253.81499999994,885085.6733333333,34406.20166666667,3767.375,171243.46,194027.335,175205.44000000003,624001.375,702563.0066666667,640059.7266666667,10905.814999999997,1092217.015,323889.19333333336,151541.49333333335,913343.1666666666,27476.748333333333,884384.375,2978.0,88408.735,1140962.64,3685.601666666667,253985.43999999997,6612.1483333333335,1115325.2266666668,29255.626666666663,289814.215,1228903.7066666665,415154.1066666667,34333.60166666667,241612.0,17314.239999999998,240614.2683333333,375821.86000000004,1978.7483333333323,79567.615,85669.21500000001,80454.14833333333,1857.0149999999994,25624.615,150448.20666666667,37168.41500000001,6038.640000000002,96523.84000000001,15464.135000000002,1474620.6066666667,2998.7400000000002,862582.3933333334,824094.0683333334,430717.615,82155.59333333334,45373.00666666666,250771.01500000004,111777.83333333333,815553.04,357685.81499999994,3398.6666666666665,117258.375,72468.0,204728.3483333333,887517.4066666666,1058530.7933333335,282136.26,688569.5483333333,391415.20166666666,74597.32666666666,36072.375,26268.375,15295.868333333332,142905.19333333333,144741.04,32207.859999999997,158057.015,324657.20166666666,823432.34,7674.16,24703.375,93421.54,211677.46,546837.6150000001,1275509.7066666668,259890.01499999998,99616.0,17016.74,693033.375,928950.34,592675.1349999999,15950.739999999998,210287.7066666667,265197.06,100067.375,943157.535,540790.7733333333,82179.94,101256.735,65544.88166666667,278681.94,5400.535,75665.375,151833.68166666667,19093.806666666667,76978.60666666666,302017.19333333336,18971.868333333332,10637.539999999999,19857.573333333334,468232.0,104719.04166666667,32066.681666666667,13106.5,853323.1483333333,149560.26833333334,17797.94,55422.375,705850.6666666666,377507.3483333333,1820.6149999999998,41344.37333333333,16614.401666666665,1796.5,2897.0399999999986,57440.041666666664,61565.62666666668,177988.015,6964.026666666664,18206.348333333335,565830.64,9490.881666666666,4284.708333333333,129446.26000000001,709227.46,59026.29333333334,1022716.8016666666,280854.34,510401.86000000004,44825.460000000014,611736.7083333334,65275.01499999999,2904.339999999999,29464.5,208401.375,147054.20166666666,126806.5,171483.93499999997,512327.13499999995,67149.32666666668,905835.3483333333,261299.32666666666,144823.06833333333,1148506.6600000001,375428.335,27148.24,226747.05999999997,644378.815,102942.74,1062280.0416666667,444149.80666666664,98745.67333333334,12758.041666666666,142491.33333333334,128073.89333333336,3390.6816666666655,489038.375,118247.735,24970.375,61022.07333333333,9524.639999999998,118413.16666666667,183414.215,197116.81499999997,218659.04000000004,30576.5,147025.13499999998,1007721.0683333334,376626.4266666667,1306563.9350000003,12752.001666666665,6204.56,1090912.24,6584.373333333334,1010852.9600000001,859595.375,1042600.8733333334,1218197.335,356274.535,232461.99333333332,171756.2066666667,19355.375,1292354.0733333332,1375533.94,7293.735,1262469.14,4070.16,496502.24,1207216.0,31666.375,690592.0,10574.26,13459.626666666665,5821.375,4215.573333333333,1134582.8733333333,549453.6016666667,513989.8333333333,829835.3333333334,800525.735,46648.073333333334,860283.1666666666,16922.041666666668,230018.69333333333,948166.1350000001,135162.375,176879.70833333334,11871.868333333332,236874.26,461711.6816666667,105698.46833333334,8134.959999999999,326470.2933333334,690949.0816666667,201375.415,213409.26833333334,114931.735,45517.534999999996,876921.3350000001,11381.993333333334,600998.0816666667,13745.439999999997,4216.666666666667,739230.7083333334,1250099.7483333333,444871.3333333333,800919.7599999999,595327.535,2869.059999999999,755480.6016666667,156928.0,3556.6150000000002,640393.44,57804.34,9741.839999999998,16717.833333333332,132313.32666666666,14911.615000000003,81580.92666666668,400742.82666666666,1104879.4933333334,233951.73500000002,109533.84000000001,83160.96,607755.3266666667,632317.2016666667,2302.468333333333,28822.0,1921.5733333333326,2301.5349999999994,452517.0016666667,344771.735,1280870.0683333336,37043.335,1053500.935,74147.86,339586.74833333335,247497.59333333335,25563.415000000005,255338.5,257684.13499999998,168238.375,123077.22666666667,95377.36,612832.0,117020.66666666667,222526.0,1069313.1666666667,1276406.2683333333,166153.17333333334,12042.0,437416.535,82811.46,269856.39333333337,1173850.5,157012.56,37178.666666666664,167509.615,101526.07333333335,624989.535,43679.081666666665,2099.3349999999996,2638.659999999999,159998.215,163684.015,1044612.2600000001,27740.906666666666,146921.135,4434.375,484370.7083333333,65222.74833333332,58507.460000000014,84154.96,22496.0,181510.87333333332,27518.401666666672,41696.5,4942.526666666666,369740.7083333333,371053.54000000004,904643.0416666666,16695.34833333333,71407.375,2709.375,9191.401666666667,167228.04166666666,18369.26833333333,192403.04,599278.015,206332.0,98520.61499999999,1907.1349999999995,1132468.135,184878.01499999998,4004.334999999999,1399537.84,115255.76000000001,646712.0,117165.27333333333,620679.7483333333,1083896.74,37973.840000000004,471530.375,14966.375,2733.214999999999,3612.734999999999,1049506.3350000002,1242648.3733333333,382813.13499999995,424669.46,179063.59333333335,181610.26,158848.0266666667,386217.73500000004,237090.52666666664,347426.375,70577.375,6567.814999999999,232686.24,296171.7483333333,270893.54,288631.67333333334,164751.27333333332,47451.76,107432.73499999999,2246.0,232374.66666666666,1506656.135,54631.948333333334,3478.64,21574.708333333332,1383112.4683333335,695328.2683333334,763930.4683333333,248185.70666666664,329693.6683333334,1201356.1483333334,3655.7083333333335,439956.00166666665,122907.00666666667,57051.041666666664,282791.615,209937.93499999997,221920.79333333336,1429337.14,13810.748333333335,48412.375,5757.081666666668,249010.07333333333,29178.02666666667,50575.86833333334,134554.0,58785.406666666655,24077.015,90596.375,37220.215,66270.16000000002,18734.92666666667,16477.934999999998,196891.76,1186099.0816666668,50513.215000000004,33931.00666666667,78231.36,23727.76,1139315.86,1021882.2400000001,466281.06000000006,376397.13999999996,1019181.2816666666,20135.335000000006,36778.015,665785.1349999999,19155.748333333333,111090.5,115882.21500000001,4335.94,78468.5,12548.868333333334,182087.84,40214.5,109746.0,40396.935000000005,930287.4816666666,7386.334999999999,61457.04,56826.56,3097.539999999999,588578.215,7829.041666666667,1996.4816666666666,87841.375,16194.666666666666,299385.04,43523.135,21018.0,20145.46,637760.4016666667,546987.7266666667,1838.0683333333327,214891.49333333332,1443448.4816666667,777777.0683333334,973331.4066666666,2969.414999999999,1304108.9350000003,73736.53500000002,1127704.3483333334,845973.2683333334,14253.268333333332,37715.814999999995,1121811.4816666667,1111788.8150000002,329848.6666666667,107926.0,660568.375,14672.82666666667,145694.615,161800.46833333335,3248.5,1316845.8066666664,19217.76,437672.375,1232789.8066666666,137756.66,222198.28166666665,1270075.84,1321078.0,182942.37333333332,1046995.84,1075451.6733333333,245054.415,547057.8066666666,664916.6933333334,992070.535,74994.04166666667,3278.7399999999984,1389717.0399999998,138261.09333333332,629306.375,1952.9483333333328,401687.81499999994,131123.89333333334,8778.041666666666,83824.70833333333,135874.5,495054.0416666667,325079.7083333333,85816.54833333335,1354932.2683333335,20878.74,556716.96,13677.468333333336,619660.6016666667,244158.70833333334,583002.6066666667,173185.93500000003,9292.0,1166557.3066666666,1399732.96,55180.815,283676.96,618579.6150000001,7026.0,67151.27333333333,1743.7483333333328,5834.906666666665,38677.44,673171.44,834352.0,725691.7083333334,191439.215,198172.375,4629.359999999998,143219.70833333334,7305.2266666666665,634172.215,27992.335000000003,497960.63999999996,39748.37333333333,840445.54,59062.0,7119.268333333333,12443.17333333333,3692.339999999999,940779.7083333334,56061.593333333345,7749.015000000002,3482.214999999999,1130218.24,9364.014999999998,74070.46833333332,504431.06,1062412.0,703803.7599999999,201576.0,71398.375,300878.56,1394307.2733333334,1908.7933333333328,7971.1349999999975,746697.7599999999,467781.94,829624.3733333334,134565.86833333332,439979.88166666677,1105110.375,326284.96,79569.62666666666,15211.268333333332,2743.4150000000004,164253.615,37469.14000000001,670450.0,74861.46,41876.335,172277.28166666668,841668.64,954343.9933333333,3223.1350000000007,20317.135,105411.74833333335,618297.0683333334,121131.33333333333,11450.735,216827.93999999997,178268.82666666666,29189.833333333332,286667.86000000004,75386.66833333333,138506.0,209532.88166666668,8388.640000000001,246754.94833333333,200295.33333333334,2299.6733333333327,122475.49333333335,9810.041666666666,2116.7400000000002,185455.46833333335,897639.3266666667,21021.040000000005,1208611.9350000003,156310.16,788218.7083333334,325229.93500000006,892150.56,82856.0,181343.13999999998,3788.606666666665,2398.0,758887.5733333334,48952.215000000004,2501.093333333333,1165802.0683333336,1307918.2066666668,135322.37333333332,725065.6150000001,124240.06833333334,69703.375,21778.375,142433.09333333335,724129.5733333334,2663.2683333333316,110006.5,538084.9600000001,86414.69333333334,1066073.8150000002,6965.348333333335,174303.93500000003,349536.16,11330.506666666668,295247.33499999996,137324.74000000002,1247924.0816666665,5713.334999999999,61537.706666666665,10216.66,878554.66,442433.19333333336,16720.468333333334,3111.0066666666667,1292192.3933333335,131248.66,460635.615,216940.87333333332,651026.3733333334,31585.375,320314.135,175672.79333333333,554883.9400000001,10944.5,410928.39333333337,118318.0,910263.1666666666,101611.70833333333,6419.833333333333,387367.36000000004,12064.215000000002,1181471.0933333335,13432.526666666667,1031027.9400000001,79357.72666666667,203703.28166666665,36603.76,630012.64,1307493.6016666668,175944.41500000004,961205.2016666667,630713.1666666666,873437.0066666668,872661.54,624782.1266666668,408754.73500000004,118318.77333333333,41616.56,236438.42666666667,464454.4816666667,2211.3333333333335,166532.00166666668,2181.8333333333335,144722.52666666664,284492.74,479225.22666666674,313012.015,8297.833333333334,2400.7349999999997,25833.015000000003,764145.54,20878.615,1881.5733333333328,417950.34,30480.015000000003,11646.375,20990.826666666668,88323.415,822219.04,2192.815,2161.5733333333333,13452.0,48792.073333333334,1327264.0,1113141.201666667,75911.415,147815.70833333334,70585.375,37021.89333333334,55339.534999999996,297598.335,83527.74833333332,38416.259999999995,567407.1349999999,305609.4016666667,443719.7083333333,13339.06,1365263.615,194333.04,739642.34,801215.535,3153.1733333333323,91447.20166666666,122521.83333333333,1113844.5266666666,767594.9600000001,35340.375,150864.5,432958.7083333333,705338.2683333332,296125.46,14580.660000000003,6613.375,912195.2816666667,801834.34,224122.88166666668,51675.415,309853.2266666666,412777.72666666674,37431.84,129753.80166666668,1160401.1933333336,1479344.6666666667,603060.64,2204.5,517350.41500000004,2780.001666666667,206257.86833333332,621737.6816666666,50591.375,720381.375,16036.5,96667.76000000001,1265162.26,1027271.84,746740.9600000001,810436.16,234209.88166666668,1091199.4400000002,191527.83333333334,1027711.3483333333,48999.06833333333,241625.61500000002,1476979.8016666668,213504.63999999998,562304.0683333334,60011.04,944060.7399999999,2101.135,154144.66,551397.86,218242.66,70134.815,4169.615000000001,2575.359999999999,24703.535,849772.6149999999,4863.706666666665,47351.935,299786.415,934871.0933333334,222686.0,356923.215,90818.70833333333,842438.7083333334,3711.1666666666665,138520.87333333335,876258.64,68622.375,1005721.8933333334,490932.0,1415081.76,135679.36,37078.375,15075.939999999997,1457332.373333333,451663.26833333337,259448.87333333332,3081.44,1384837.6733333336,178043.735,49947.415,164667.43999999997,1421473.2266666668,78282.88166666667,664573.0416666666,1066683.735,1033082.2016666667,474499.13499999995,1404249.673333333,218855.415,27547.081666666665,31780.773333333334,109016.335,1321889.8150000002,112192.16000000002,1222721.7083333333,280998.0,5673.535,153986.015,92324.79333333333,555816.9600000001,524703.6266666667,32777.22666666666,29655.493333333332,1271434.5,401114.0416666667,151140.5,183410.74833333332,71145.88166666668,195007.27333333332,220677.135,143721.61500000002,253953.53999999995,606864.6933333334,325111.44,413659.9733333334,1232736.3399999999,844964.215,323042.815,489877.375,614528.7083333334,513049.62666666665,133620.24000000002,418168.73500000004,323939.67333333334,531429.5933333333,365999.30666666664,3603.8599999999983,23218.375,95721.46833333334,13726.614999999998,171887.14833333332,169090.00166666668,133289.81499999997,105008.735,246036.5,267554.0266666667,23321.44,333923.76,27798.481666666663,1037151.215,9826.926666666666,121533.94833333335,33460.041666666664,64399.54,223850.37333333332,516413.06000000006,30299.215,741640.735,411842.24000000005,1137760.335,792857.86,471451.33499999996,15027.534999999998,893563.0599999999,804309.735,617327.3066666668,207956.375,363766.0,831690.9266666666,7347.859999999998,1299910.6666666667,21032.80166666667,87836.37333333334,120851.67333333334,264180.48166666663,30723.48166666667,413156.615,1143341.201666667,168322.24,114093.04,77445.135,57608.42666666667,217145.70833333334,373772.375,79717.01500000001,54667.84,1238886.5350000001,113034.37333333334,65604.5,52507.01499999999,750158.5,86912.375,1269717.3333333333,388078.74000000005,33544.708333333336,34034.081666666665,214297.46,376897.135,220865.40666666665,1277656.34,976482.5483333333,3075.44,1032507.7600000001,362124.4266666667,11596.334999999997,1493288.1483333334,2434.1349999999998,474306.535,6186.868333333333,47724.26000000001,43416.615,183635.93499999997,22133.14,352627.93500000006,8656.16,1040644.6666666666,66175.80166666667,924965.2683333334,19112.34,390935.81499999994,40463.806666666664,246105.4066666667,827839.9483333332,425980.0416666667,11365.068333333335,350559.14833333326,98448.69333333334,18291.333333333332,235674.215,130627.17333333335,247967.46833333335,739805.7066666667,138992.93499999997,671198.4149999999,311243.36000000004,2275.7349999999997,60548.5,515165.0416666667,120093.40666666668,60796.960000000014,24503.44,1165816.3483333334,609730.66,520084.7349999999,285288.0,463276.535,3221.3333333333335,1263558.6666666667,27407.135,448947.36000000004,1155551.4400000002,57190.66,788868.5599999999,57751.84,42268.01500000001,445388.73500000004,236840.74000000002,720470.7399999999,2876.2150000000006,62087.273333333345,1122445.0066666668,289904.3483333333,64284.73999999999,3023.5399999999986,622317.1933333334,111145.35999999999,141427.36000000002,55938.14833333334,296892.68166666664,480071.33499999996,377667.54000000004,734676.0816666667,5383.540000000001,1005633.6149999999,326950.66,389124.2066666666,379303.13999999996,99805.46,275146.015,13131.460000000001,23392.373333333333,113312.42666666668,1104718.2149999999,499607.6016666666,648280.4816666666,1241292.7083333333,843541.215,1074191.735,153652.29333333333,21392.041666666668,1936.134999999999,43416.0,979627.1483333334,330404.6016666666,217640.66666666666,551346.5,1187059.2016666667,667767.735,53284.935,324445.8333333333,158893.36000000002,108687.76000000001,80333.30666666669,32361.734999999997,70576.23999999999,13159.333333333334,176768.74833333338,34436.52666666668,2038.1349999999993,236939.46,3071.7083333333335,9167.859999999999,22171.333333333332],\"type\":\"mesh3d\"}],                        {\"template\":{\"data\":{\"histogram2dcontour\":[{\"type\":\"histogram2dcontour\",\"colorbar\":{\"outlinewidth\":0,\"ticks\":\"\"},\"colorscale\":[[0.0,\"#0d0887\"],[0.1111111111111111,\"#46039f\"],[0.2222222222222222,\"#7201a8\"],[0.3333333333333333,\"#9c179e\"],[0.4444444444444444,\"#bd3786\"],[0.5555555555555556,\"#d8576b\"],[0.6666666666666666,\"#ed7953\"],[0.7777777777777778,\"#fb9f3a\"],[0.8888888888888888,\"#fdca26\"],[1.0,\"#f0f921\"]]}],\"choropleth\":[{\"type\":\"choropleth\",\"colorbar\":{\"outlinewidth\":0,\"ticks\":\"\"}}],\"histogram2d\":[{\"type\":\"histogram2d\",\"colorbar\":{\"outlinewidth\":0,\"ticks\":\"\"},\"colorscale\":[[0.0,\"#0d0887\"],[0.1111111111111111,\"#46039f\"],[0.2222222222222222,\"#7201a8\"],[0.3333333333333333,\"#9c179e\"],[0.4444444444444444,\"#bd3786\"],[0.5555555555555556,\"#d8576b\"],[0.6666666666666666,\"#ed7953\"],[0.7777777777777778,\"#fb9f3a\"],[0.8888888888888888,\"#fdca26\"],[1.0,\"#f0f921\"]]}],\"heatmap\":[{\"type\":\"heatmap\",\"colorbar\":{\"outlinewidth\":0,\"ticks\":\"\"},\"colorscale\":[[0.0,\"#0d0887\"],[0.1111111111111111,\"#46039f\"],[0.2222222222222222,\"#7201a8\"],[0.3333333333333333,\"#9c179e\"],[0.4444444444444444,\"#bd3786\"],[0.5555555555555556,\"#d8576b\"],[0.6666666666666666,\"#ed7953\"],[0.7777777777777778,\"#fb9f3a\"],[0.8888888888888888,\"#fdca26\"],[1.0,\"#f0f921\"]]}],\"heatmapgl\":[{\"type\":\"heatmapgl\",\"colorbar\":{\"outlinewidth\":0,\"ticks\":\"\"},\"colorscale\":[[0.0,\"#0d0887\"],[0.1111111111111111,\"#46039f\"],[0.2222222222222222,\"#7201a8\"],[0.3333333333333333,\"#9c179e\"],[0.4444444444444444,\"#bd3786\"],[0.5555555555555556,\"#d8576b\"],[0.6666666666666666,\"#ed7953\"],[0.7777777777777778,\"#fb9f3a\"],[0.8888888888888888,\"#fdca26\"],[1.0,\"#f0f921\"]]}],\"contourcarpet\":[{\"type\":\"contourcarpet\",\"colorbar\":{\"outlinewidth\":0,\"ticks\":\"\"}}],\"contour\":[{\"type\":\"contour\",\"colorbar\":{\"outlinewidth\":0,\"ticks\":\"\"},\"colorscale\":[[0.0,\"#0d0887\"],[0.1111111111111111,\"#46039f\"],[0.2222222222222222,\"#7201a8\"],[0.3333333333333333,\"#9c179e\"],[0.4444444444444444,\"#bd3786\"],[0.5555555555555556,\"#d8576b\"],[0.6666666666666666,\"#ed7953\"],[0.7777777777777778,\"#fb9f3a\"],[0.8888888888888888,\"#fdca26\"],[1.0,\"#f0f921\"]]}],\"surface\":[{\"type\":\"surface\",\"colorbar\":{\"outlinewidth\":0,\"ticks\":\"\"},\"colorscale\":[[0.0,\"#0d0887\"],[0.1111111111111111,\"#46039f\"],[0.2222222222222222,\"#7201a8\"],[0.3333333333333333,\"#9c179e\"],[0.4444444444444444,\"#bd3786\"],[0.5555555555555556,\"#d8576b\"],[0.6666666666666666,\"#ed7953\"],[0.7777777777777778,\"#fb9f3a\"],[0.8888888888888888,\"#fdca26\"],[1.0,\"#f0f921\"]]}],\"mesh3d\":[{\"type\":\"mesh3d\",\"colorbar\":{\"outlinewidth\":0,\"ticks\":\"\"}}],\"scatter\":[{\"fillpattern\":{\"fillmode\":\"overlay\",\"size\":10,\"solidity\":0.2},\"type\":\"scatter\"}],\"parcoords\":[{\"type\":\"parcoords\",\"line\":{\"colorbar\":{\"outlinewidth\":0,\"ticks\":\"\"}}}],\"scatterpolargl\":[{\"type\":\"scatterpolargl\",\"marker\":{\"colorbar\":{\"outlinewidth\":0,\"ticks\":\"\"}}}],\"bar\":[{\"error_x\":{\"color\":\"#2a3f5f\"},\"error_y\":{\"color\":\"#2a3f5f\"},\"marker\":{\"line\":{\"color\":\"#E5ECF6\",\"width\":0.5},\"pattern\":{\"fillmode\":\"overlay\",\"size\":10,\"solidity\":0.2}},\"type\":\"bar\"}],\"scattergeo\":[{\"type\":\"scattergeo\",\"marker\":{\"colorbar\":{\"outlinewidth\":0,\"ticks\":\"\"}}}],\"scatterpolar\":[{\"type\":\"scatterpolar\",\"marker\":{\"colorbar\":{\"outlinewidth\":0,\"ticks\":\"\"}}}],\"histogram\":[{\"marker\":{\"pattern\":{\"fillmode\":\"overlay\",\"size\":10,\"solidity\":0.2}},\"type\":\"histogram\"}],\"scattergl\":[{\"type\":\"scattergl\",\"marker\":{\"colorbar\":{\"outlinewidth\":0,\"ticks\":\"\"}}}],\"scatter3d\":[{\"type\":\"scatter3d\",\"line\":{\"colorbar\":{\"outlinewidth\":0,\"ticks\":\"\"}},\"marker\":{\"colorbar\":{\"outlinewidth\":0,\"ticks\":\"\"}}}],\"scattermapbox\":[{\"type\":\"scattermapbox\",\"marker\":{\"colorbar\":{\"outlinewidth\":0,\"ticks\":\"\"}}}],\"scatterternary\":[{\"type\":\"scatterternary\",\"marker\":{\"colorbar\":{\"outlinewidth\":0,\"ticks\":\"\"}}}],\"scattercarpet\":[{\"type\":\"scattercarpet\",\"marker\":{\"colorbar\":{\"outlinewidth\":0,\"ticks\":\"\"}}}],\"carpet\":[{\"aaxis\":{\"endlinecolor\":\"#2a3f5f\",\"gridcolor\":\"white\",\"linecolor\":\"white\",\"minorgridcolor\":\"white\",\"startlinecolor\":\"#2a3f5f\"},\"baxis\":{\"endlinecolor\":\"#2a3f5f\",\"gridcolor\":\"white\",\"linecolor\":\"white\",\"minorgridcolor\":\"white\",\"startlinecolor\":\"#2a3f5f\"},\"type\":\"carpet\"}],\"table\":[{\"cells\":{\"fill\":{\"color\":\"#EBF0F8\"},\"line\":{\"color\":\"white\"}},\"header\":{\"fill\":{\"color\":\"#C8D4E3\"},\"line\":{\"color\":\"white\"}},\"type\":\"table\"}],\"barpolar\":[{\"marker\":{\"line\":{\"color\":\"#E5ECF6\",\"width\":0.5},\"pattern\":{\"fillmode\":\"overlay\",\"size\":10,\"solidity\":0.2}},\"type\":\"barpolar\"}],\"pie\":[{\"automargin\":true,\"type\":\"pie\"}]},\"layout\":{\"autotypenumbers\":\"strict\",\"colorway\":[\"#636efa\",\"#EF553B\",\"#00cc96\",\"#ab63fa\",\"#FFA15A\",\"#19d3f3\",\"#FF6692\",\"#B6E880\",\"#FF97FF\",\"#FECB52\"],\"font\":{\"color\":\"#2a3f5f\"},\"hovermode\":\"closest\",\"hoverlabel\":{\"align\":\"left\"},\"paper_bgcolor\":\"white\",\"plot_bgcolor\":\"#E5ECF6\",\"polar\":{\"bgcolor\":\"#E5ECF6\",\"angularaxis\":{\"gridcolor\":\"white\",\"linecolor\":\"white\",\"ticks\":\"\"},\"radialaxis\":{\"gridcolor\":\"white\",\"linecolor\":\"white\",\"ticks\":\"\"}},\"ternary\":{\"bgcolor\":\"#E5ECF6\",\"aaxis\":{\"gridcolor\":\"white\",\"linecolor\":\"white\",\"ticks\":\"\"},\"baxis\":{\"gridcolor\":\"white\",\"linecolor\":\"white\",\"ticks\":\"\"},\"caxis\":{\"gridcolor\":\"white\",\"linecolor\":\"white\",\"ticks\":\"\"}},\"coloraxis\":{\"colorbar\":{\"outlinewidth\":0,\"ticks\":\"\"}},\"colorscale\":{\"sequential\":[[0.0,\"#0d0887\"],[0.1111111111111111,\"#46039f\"],[0.2222222222222222,\"#7201a8\"],[0.3333333333333333,\"#9c179e\"],[0.4444444444444444,\"#bd3786\"],[0.5555555555555556,\"#d8576b\"],[0.6666666666666666,\"#ed7953\"],[0.7777777777777778,\"#fb9f3a\"],[0.8888888888888888,\"#fdca26\"],[1.0,\"#f0f921\"]],\"sequentialminus\":[[0.0,\"#0d0887\"],[0.1111111111111111,\"#46039f\"],[0.2222222222222222,\"#7201a8\"],[0.3333333333333333,\"#9c179e\"],[0.4444444444444444,\"#bd3786\"],[0.5555555555555556,\"#d8576b\"],[0.6666666666666666,\"#ed7953\"],[0.7777777777777778,\"#fb9f3a\"],[0.8888888888888888,\"#fdca26\"],[1.0,\"#f0f921\"]],\"diverging\":[[0,\"#8e0152\"],[0.1,\"#c51b7d\"],[0.2,\"#de77ae\"],[0.3,\"#f1b6da\"],[0.4,\"#fde0ef\"],[0.5,\"#f7f7f7\"],[0.6,\"#e6f5d0\"],[0.7,\"#b8e186\"],[0.8,\"#7fbc41\"],[0.9,\"#4d9221\"],[1,\"#276419\"]]},\"xaxis\":{\"gridcolor\":\"white\",\"linecolor\":\"white\",\"ticks\":\"\",\"title\":{\"standoff\":15},\"zerolinecolor\":\"white\",\"automargin\":true,\"zerolinewidth\":2},\"yaxis\":{\"gridcolor\":\"white\",\"linecolor\":\"white\",\"ticks\":\"\",\"title\":{\"standoff\":15},\"zerolinecolor\":\"white\",\"automargin\":true,\"zerolinewidth\":2},\"scene\":{\"xaxis\":{\"backgroundcolor\":\"#E5ECF6\",\"gridcolor\":\"white\",\"linecolor\":\"white\",\"showbackground\":true,\"ticks\":\"\",\"zerolinecolor\":\"white\",\"gridwidth\":2},\"yaxis\":{\"backgroundcolor\":\"#E5ECF6\",\"gridcolor\":\"white\",\"linecolor\":\"white\",\"showbackground\":true,\"ticks\":\"\",\"zerolinecolor\":\"white\",\"gridwidth\":2},\"zaxis\":{\"backgroundcolor\":\"#E5ECF6\",\"gridcolor\":\"white\",\"linecolor\":\"white\",\"showbackground\":true,\"ticks\":\"\",\"zerolinecolor\":\"white\",\"gridwidth\":2}},\"shapedefaults\":{\"line\":{\"color\":\"#2a3f5f\"}},\"annotationdefaults\":{\"arrowcolor\":\"#2a3f5f\",\"arrowhead\":0,\"arrowwidth\":1},\"geo\":{\"bgcolor\":\"white\",\"landcolor\":\"#E5ECF6\",\"subunitcolor\":\"white\",\"showland\":true,\"showlakes\":true,\"lakecolor\":\"white\"},\"title\":{\"x\":0.05},\"mapbox\":{\"style\":\"light\"}}}},                        {\"responsive\": true}                    ).then(function(){\n",
              "                            \n",
              "var gd = document.getElementById('34e926e3-442d-410a-9779-221a58bdb915');\n",
              "var x = new MutationObserver(function (mutations, observer) {{\n",
              "        var display = window.getComputedStyle(gd).display;\n",
              "        if (!display || display === 'none') {{\n",
              "            console.log([gd, 'removed!']);\n",
              "            Plotly.purge(gd);\n",
              "            observer.disconnect();\n",
              "        }}\n",
              "}});\n",
              "\n",
              "// Listen for the removal of the full notebook cells\n",
              "var notebookContainer = gd.closest('#notebook-container');\n",
              "if (notebookContainer) {{\n",
              "    x.observe(notebookContainer, {childList: true});\n",
              "}}\n",
              "\n",
              "// Listen for the clearing of the current output cell\n",
              "var outputEl = gd.closest('.output');\n",
              "if (outputEl) {{\n",
              "    x.observe(outputEl, {childList: true});\n",
              "}}\n",
              "\n",
              "                        })                };                            </script>        </div>\n",
              "</body>\n",
              "</html>"
            ]
          },
          "metadata": {}
        }
      ],
      "source": [
        "# Since collab isn't allowing to rotate the plots,\n",
        "import plotly.graph_objects as go\n",
        "import numpy as np\n",
        "\n",
        "# Helix equation\n",
        "x, y, z = W_set, b_set, J_set\n",
        "\n",
        "fig = go.Figure(data=[go.Mesh3d(x=x, y=y, z=z, color='black', opacity=0.80)])\n",
        "fig.show()"
      ]
    },
    {
      "cell_type": "markdown",
      "metadata": {
        "id": "9JHPxjujG3SJ"
      },
      "source": [
        "3. Calculating w,b using gradient descent algorythm"
      ]
    },
    {
      "cell_type": "code",
      "source": [
        "# Calculate for given data & initial conditions for Example 1.1\n",
        "w_final,b_final,J_log,P_log = gradient_descent()\n",
        "\n",
        "# Print W,b & round for 4 decimal plaecs\n",
        "print(\"W,b values for the best fit line is :{0:10.4f} & {0:10.4f} \".format( w_final,b_final))"
      ],
      "metadata": {
        "colab": {
          "base_uri": "https://localhost:8080/"
        },
        "id": "cMIZA3z-KGsP",
        "outputId": "0963d2df-7868-4bfa-e353-975f3934773a"
      },
      "execution_count": 9,
      "outputs": [
        {
          "output_type": "stream",
          "name": "stdout",
          "text": [
            "17376\n",
            "W,b values for the best fit line is :  209.3629 &   209.3629 \n"
          ]
        }
      ]
    },
    {
      "cell_type": "code",
      "source": [
        "# Plot the Convergence log\n",
        "\n",
        "\n",
        "J_sample = J_log[::50]\n",
        "x = np.arange(len(J_sample))\n",
        "\n",
        "fig = go.Figure(data=go.Scatter(x=x, y=J_sample))\n",
        "fig.show()"
      ],
      "metadata": {
        "colab": {
          "base_uri": "https://localhost:8080/",
          "height": 542
        },
        "id": "pnOplgJ168O1",
        "outputId": "5cffabbc-0afd-4d88-b177-5ecdf7e6df44"
      },
      "execution_count": 10,
      "outputs": [
        {
          "output_type": "display_data",
          "data": {
            "text/html": [
              "<html>\n",
              "<head><meta charset=\"utf-8\" /></head>\n",
              "<body>\n",
              "    <div>            <script src=\"https://cdnjs.cloudflare.com/ajax/libs/mathjax/2.7.5/MathJax.js?config=TeX-AMS-MML_SVG\"></script><script type=\"text/javascript\">if (window.MathJax && window.MathJax.Hub && window.MathJax.Hub.Config) {window.MathJax.Hub.Config({SVG: {font: \"STIX-Web\"}});}</script>                <script type=\"text/javascript\">window.PlotlyConfig = {MathJaxConfig: 'local'};</script>\n",
              "        <script src=\"https://cdn.plot.ly/plotly-2.18.2.min.js\"></script>                <div id=\"7896971d-e60f-43af-812d-b4dd1109d602\" class=\"plotly-graph-div\" style=\"height:525px; width:100%;\"></div>            <script type=\"text/javascript\">                                    window.PLOTLYENV=window.PLOTLYENV || {};                                    if (document.getElementById(\"7896971d-e60f-43af-812d-b4dd1109d602\")) {                    Plotly.newPlot(                        \"7896971d-e60f-43af-812d-b4dd1109d602\",                        [{\"x\":[0,1,2,3,4,5,6,7,8,9,10,11,12,13,14,15,16,17,18,19,20,21,22,23,24,25,26,27,28,29,30,31,32,33,34,35,36,37,38,39,40,41,42,43,44,45,46,47,48,49,50,51,52,53,54,55,56,57,58,59,60,61,62,63,64,65,66,67,68,69,70,71,72,73,74,75,76,77,78,79,80,81,82,83,84,85,86,87,88,89,90,91,92,93,94,95,96,97,98,99],\"y\":[3500853.9459814313,16249.7667010739,13880.245919801446,11901.313422331368,10244.849381311835,8858.30732691061,7697.703280571081,6726.220484139518,5913.041496233076,5232.37059933044,4662.615506318208,4185.702408534013,3786.502637215366,3452.3527508707284,3172.65282475276,2938.5301993459384,2742.5580212758446,2578.5196481762723,2441.2114439497973,2326.2777086800975,2230.072506831722,2149.5440106424326,2082.1376898415233,2025.7152766719607,1978.4869356195068,1938.9544861323884,1905.8638772389731,1878.1654064600818,1854.9804210776663,1835.5734454552965,1819.3288502314872,1805.7313232844663,1794.3495229670289,1784.822395058348,1776.8477193781473,1770.1725227381983,1764.5850541101506,1759.9080674454299,1755.9931990643956,1752.716261253897,1749.9733027764407,1747.6773113221807,1745.7554532986778,1744.1467633988761,1742.800210655604,1741.6730796338704,1740.7296154090225,1739.9398893466484,1739.278849704482,1738.7255269393663,1738.262368510031,1737.8746820742153,1737.5501694172099,1737.278536327099,1737.0511660410655,1736.8608459038967,1736.701538567635,1736.5681904744517,1736.4565715473293,1736.3631410032979,1736.2849350324695,1736.2194727798844,1736.1646776476382,1736.1188114209328,1736.0804191282969,1736.0482828868887,1736.0213832687389,1735.9988669623854,1735.9800197040697,1735.9642436198246,1735.9510382596584,1735.9399847222692,1735.9307323666114,1735.9229876888512,1735.9165050118063,1735.9110786915683,1735.9065365940512,1735.9027346345358,1735.8995522070115,1735.896888358301,1735.894658585621,1735.8927921559762,1735.8912298623634,1735.8899221455986,1735.8888275222046,1735.8879112684656,1735.8871443189212,1735.8865023443493,1735.8859649799867,1735.8855151795271,1735.8851386743702,1735.8848235209944,1735.8845597220836,1735.8843389093936,1735.8841540782862,1735.8839993655401,1735.8838698633438,1735.8837614636213,1735.8836707277114,1735.8835947772814],\"type\":\"scatter\"}],                        {\"template\":{\"data\":{\"histogram2dcontour\":[{\"type\":\"histogram2dcontour\",\"colorbar\":{\"outlinewidth\":0,\"ticks\":\"\"},\"colorscale\":[[0.0,\"#0d0887\"],[0.1111111111111111,\"#46039f\"],[0.2222222222222222,\"#7201a8\"],[0.3333333333333333,\"#9c179e\"],[0.4444444444444444,\"#bd3786\"],[0.5555555555555556,\"#d8576b\"],[0.6666666666666666,\"#ed7953\"],[0.7777777777777778,\"#fb9f3a\"],[0.8888888888888888,\"#fdca26\"],[1.0,\"#f0f921\"]]}],\"choropleth\":[{\"type\":\"choropleth\",\"colorbar\":{\"outlinewidth\":0,\"ticks\":\"\"}}],\"histogram2d\":[{\"type\":\"histogram2d\",\"colorbar\":{\"outlinewidth\":0,\"ticks\":\"\"},\"colorscale\":[[0.0,\"#0d0887\"],[0.1111111111111111,\"#46039f\"],[0.2222222222222222,\"#7201a8\"],[0.3333333333333333,\"#9c179e\"],[0.4444444444444444,\"#bd3786\"],[0.5555555555555556,\"#d8576b\"],[0.6666666666666666,\"#ed7953\"],[0.7777777777777778,\"#fb9f3a\"],[0.8888888888888888,\"#fdca26\"],[1.0,\"#f0f921\"]]}],\"heatmap\":[{\"type\":\"heatmap\",\"colorbar\":{\"outlinewidth\":0,\"ticks\":\"\"},\"colorscale\":[[0.0,\"#0d0887\"],[0.1111111111111111,\"#46039f\"],[0.2222222222222222,\"#7201a8\"],[0.3333333333333333,\"#9c179e\"],[0.4444444444444444,\"#bd3786\"],[0.5555555555555556,\"#d8576b\"],[0.6666666666666666,\"#ed7953\"],[0.7777777777777778,\"#fb9f3a\"],[0.8888888888888888,\"#fdca26\"],[1.0,\"#f0f921\"]]}],\"heatmapgl\":[{\"type\":\"heatmapgl\",\"colorbar\":{\"outlinewidth\":0,\"ticks\":\"\"},\"colorscale\":[[0.0,\"#0d0887\"],[0.1111111111111111,\"#46039f\"],[0.2222222222222222,\"#7201a8\"],[0.3333333333333333,\"#9c179e\"],[0.4444444444444444,\"#bd3786\"],[0.5555555555555556,\"#d8576b\"],[0.6666666666666666,\"#ed7953\"],[0.7777777777777778,\"#fb9f3a\"],[0.8888888888888888,\"#fdca26\"],[1.0,\"#f0f921\"]]}],\"contourcarpet\":[{\"type\":\"contourcarpet\",\"colorbar\":{\"outlinewidth\":0,\"ticks\":\"\"}}],\"contour\":[{\"type\":\"contour\",\"colorbar\":{\"outlinewidth\":0,\"ticks\":\"\"},\"colorscale\":[[0.0,\"#0d0887\"],[0.1111111111111111,\"#46039f\"],[0.2222222222222222,\"#7201a8\"],[0.3333333333333333,\"#9c179e\"],[0.4444444444444444,\"#bd3786\"],[0.5555555555555556,\"#d8576b\"],[0.6666666666666666,\"#ed7953\"],[0.7777777777777778,\"#fb9f3a\"],[0.8888888888888888,\"#fdca26\"],[1.0,\"#f0f921\"]]}],\"surface\":[{\"type\":\"surface\",\"colorbar\":{\"outlinewidth\":0,\"ticks\":\"\"},\"colorscale\":[[0.0,\"#0d0887\"],[0.1111111111111111,\"#46039f\"],[0.2222222222222222,\"#7201a8\"],[0.3333333333333333,\"#9c179e\"],[0.4444444444444444,\"#bd3786\"],[0.5555555555555556,\"#d8576b\"],[0.6666666666666666,\"#ed7953\"],[0.7777777777777778,\"#fb9f3a\"],[0.8888888888888888,\"#fdca26\"],[1.0,\"#f0f921\"]]}],\"mesh3d\":[{\"type\":\"mesh3d\",\"colorbar\":{\"outlinewidth\":0,\"ticks\":\"\"}}],\"scatter\":[{\"fillpattern\":{\"fillmode\":\"overlay\",\"size\":10,\"solidity\":0.2},\"type\":\"scatter\"}],\"parcoords\":[{\"type\":\"parcoords\",\"line\":{\"colorbar\":{\"outlinewidth\":0,\"ticks\":\"\"}}}],\"scatterpolargl\":[{\"type\":\"scatterpolargl\",\"marker\":{\"colorbar\":{\"outlinewidth\":0,\"ticks\":\"\"}}}],\"bar\":[{\"error_x\":{\"color\":\"#2a3f5f\"},\"error_y\":{\"color\":\"#2a3f5f\"},\"marker\":{\"line\":{\"color\":\"#E5ECF6\",\"width\":0.5},\"pattern\":{\"fillmode\":\"overlay\",\"size\":10,\"solidity\":0.2}},\"type\":\"bar\"}],\"scattergeo\":[{\"type\":\"scattergeo\",\"marker\":{\"colorbar\":{\"outlinewidth\":0,\"ticks\":\"\"}}}],\"scatterpolar\":[{\"type\":\"scatterpolar\",\"marker\":{\"colorbar\":{\"outlinewidth\":0,\"ticks\":\"\"}}}],\"histogram\":[{\"marker\":{\"pattern\":{\"fillmode\":\"overlay\",\"size\":10,\"solidity\":0.2}},\"type\":\"histogram\"}],\"scattergl\":[{\"type\":\"scattergl\",\"marker\":{\"colorbar\":{\"outlinewidth\":0,\"ticks\":\"\"}}}],\"scatter3d\":[{\"type\":\"scatter3d\",\"line\":{\"colorbar\":{\"outlinewidth\":0,\"ticks\":\"\"}},\"marker\":{\"colorbar\":{\"outlinewidth\":0,\"ticks\":\"\"}}}],\"scattermapbox\":[{\"type\":\"scattermapbox\",\"marker\":{\"colorbar\":{\"outlinewidth\":0,\"ticks\":\"\"}}}],\"scatterternary\":[{\"type\":\"scatterternary\",\"marker\":{\"colorbar\":{\"outlinewidth\":0,\"ticks\":\"\"}}}],\"scattercarpet\":[{\"type\":\"scattercarpet\",\"marker\":{\"colorbar\":{\"outlinewidth\":0,\"ticks\":\"\"}}}],\"carpet\":[{\"aaxis\":{\"endlinecolor\":\"#2a3f5f\",\"gridcolor\":\"white\",\"linecolor\":\"white\",\"minorgridcolor\":\"white\",\"startlinecolor\":\"#2a3f5f\"},\"baxis\":{\"endlinecolor\":\"#2a3f5f\",\"gridcolor\":\"white\",\"linecolor\":\"white\",\"minorgridcolor\":\"white\",\"startlinecolor\":\"#2a3f5f\"},\"type\":\"carpet\"}],\"table\":[{\"cells\":{\"fill\":{\"color\":\"#EBF0F8\"},\"line\":{\"color\":\"white\"}},\"header\":{\"fill\":{\"color\":\"#C8D4E3\"},\"line\":{\"color\":\"white\"}},\"type\":\"table\"}],\"barpolar\":[{\"marker\":{\"line\":{\"color\":\"#E5ECF6\",\"width\":0.5},\"pattern\":{\"fillmode\":\"overlay\",\"size\":10,\"solidity\":0.2}},\"type\":\"barpolar\"}],\"pie\":[{\"automargin\":true,\"type\":\"pie\"}]},\"layout\":{\"autotypenumbers\":\"strict\",\"colorway\":[\"#636efa\",\"#EF553B\",\"#00cc96\",\"#ab63fa\",\"#FFA15A\",\"#19d3f3\",\"#FF6692\",\"#B6E880\",\"#FF97FF\",\"#FECB52\"],\"font\":{\"color\":\"#2a3f5f\"},\"hovermode\":\"closest\",\"hoverlabel\":{\"align\":\"left\"},\"paper_bgcolor\":\"white\",\"plot_bgcolor\":\"#E5ECF6\",\"polar\":{\"bgcolor\":\"#E5ECF6\",\"angularaxis\":{\"gridcolor\":\"white\",\"linecolor\":\"white\",\"ticks\":\"\"},\"radialaxis\":{\"gridcolor\":\"white\",\"linecolor\":\"white\",\"ticks\":\"\"}},\"ternary\":{\"bgcolor\":\"#E5ECF6\",\"aaxis\":{\"gridcolor\":\"white\",\"linecolor\":\"white\",\"ticks\":\"\"},\"baxis\":{\"gridcolor\":\"white\",\"linecolor\":\"white\",\"ticks\":\"\"},\"caxis\":{\"gridcolor\":\"white\",\"linecolor\":\"white\",\"ticks\":\"\"}},\"coloraxis\":{\"colorbar\":{\"outlinewidth\":0,\"ticks\":\"\"}},\"colorscale\":{\"sequential\":[[0.0,\"#0d0887\"],[0.1111111111111111,\"#46039f\"],[0.2222222222222222,\"#7201a8\"],[0.3333333333333333,\"#9c179e\"],[0.4444444444444444,\"#bd3786\"],[0.5555555555555556,\"#d8576b\"],[0.6666666666666666,\"#ed7953\"],[0.7777777777777778,\"#fb9f3a\"],[0.8888888888888888,\"#fdca26\"],[1.0,\"#f0f921\"]],\"sequentialminus\":[[0.0,\"#0d0887\"],[0.1111111111111111,\"#46039f\"],[0.2222222222222222,\"#7201a8\"],[0.3333333333333333,\"#9c179e\"],[0.4444444444444444,\"#bd3786\"],[0.5555555555555556,\"#d8576b\"],[0.6666666666666666,\"#ed7953\"],[0.7777777777777778,\"#fb9f3a\"],[0.8888888888888888,\"#fdca26\"],[1.0,\"#f0f921\"]],\"diverging\":[[0,\"#8e0152\"],[0.1,\"#c51b7d\"],[0.2,\"#de77ae\"],[0.3,\"#f1b6da\"],[0.4,\"#fde0ef\"],[0.5,\"#f7f7f7\"],[0.6,\"#e6f5d0\"],[0.7,\"#b8e186\"],[0.8,\"#7fbc41\"],[0.9,\"#4d9221\"],[1,\"#276419\"]]},\"xaxis\":{\"gridcolor\":\"white\",\"linecolor\":\"white\",\"ticks\":\"\",\"title\":{\"standoff\":15},\"zerolinecolor\":\"white\",\"automargin\":true,\"zerolinewidth\":2},\"yaxis\":{\"gridcolor\":\"white\",\"linecolor\":\"white\",\"ticks\":\"\",\"title\":{\"standoff\":15},\"zerolinecolor\":\"white\",\"automargin\":true,\"zerolinewidth\":2},\"scene\":{\"xaxis\":{\"backgroundcolor\":\"#E5ECF6\",\"gridcolor\":\"white\",\"linecolor\":\"white\",\"showbackground\":true,\"ticks\":\"\",\"zerolinecolor\":\"white\",\"gridwidth\":2},\"yaxis\":{\"backgroundcolor\":\"#E5ECF6\",\"gridcolor\":\"white\",\"linecolor\":\"white\",\"showbackground\":true,\"ticks\":\"\",\"zerolinecolor\":\"white\",\"gridwidth\":2},\"zaxis\":{\"backgroundcolor\":\"#E5ECF6\",\"gridcolor\":\"white\",\"linecolor\":\"white\",\"showbackground\":true,\"ticks\":\"\",\"zerolinecolor\":\"white\",\"gridwidth\":2}},\"shapedefaults\":{\"line\":{\"color\":\"#2a3f5f\"}},\"annotationdefaults\":{\"arrowcolor\":\"#2a3f5f\",\"arrowhead\":0,\"arrowwidth\":1},\"geo\":{\"bgcolor\":\"white\",\"landcolor\":\"#E5ECF6\",\"subunitcolor\":\"white\",\"showland\":true,\"showlakes\":true,\"lakecolor\":\"white\"},\"title\":{\"x\":0.05},\"mapbox\":{\"style\":\"light\"}}}},                        {\"responsive\": true}                    ).then(function(){\n",
              "                            \n",
              "var gd = document.getElementById('7896971d-e60f-43af-812d-b4dd1109d602');\n",
              "var x = new MutationObserver(function (mutations, observer) {{\n",
              "        var display = window.getComputedStyle(gd).display;\n",
              "        if (!display || display === 'none') {{\n",
              "            console.log([gd, 'removed!']);\n",
              "            Plotly.purge(gd);\n",
              "            observer.disconnect();\n",
              "        }}\n",
              "}});\n",
              "\n",
              "// Listen for the removal of the full notebook cells\n",
              "var notebookContainer = gd.closest('#notebook-container');\n",
              "if (notebookContainer) {{\n",
              "    x.observe(notebookContainer, {childList: true});\n",
              "}}\n",
              "\n",
              "// Listen for the clearing of the current output cell\n",
              "var outputEl = gd.closest('.output');\n",
              "if (outputEl) {{\n",
              "    x.observe(outputEl, {childList: true});\n",
              "}}\n",
              "\n",
              "                        })                };                            </script>        </div>\n",
              "</body>\n",
              "</html>"
            ]
          },
          "metadata": {}
        }
      ]
    },
    {
      "cell_type": "markdown",
      "source": [
        "## 1.3 Multi variable system\n",
        "\n"
      ],
      "metadata": {
        "id": "6hOvHHoSCUju"
      }
    },
    {
      "cell_type": "markdown",
      "source": [
        "### 1.3.1 Notation"
      ],
      "metadata": {
        "id": "nPV9ePzGCtD9"
      }
    },
    {
      "cell_type": "markdown",
      "source": [
        "\n",
        "Notation updated for multiple features.  \n",
        "\n",
        "|General <img width=70/> <br />  Notation  <img width=70/> | Description<img width=350/>| Python (if applicable) |\n",
        "|: ------------|: ------------------------------------------------------------||\n",
        "| $a$ | scalar, non bold                                                      ||\n",
        "| $\\mathbf{a}$ | vector, bold                                                 ||\n",
        "| $\\mathbf{A}$ | matrix, bold capital                                         ||\n",
        "| **Regression** |         |    |     |\n",
        "|  $\\mathbf{X}$ | training example matrix                  | `X_train` |   \n",
        "|  $\\mathbf{Y}$  | training example  targets                | `Y_train` \n",
        "|  $\\mathbf{x}^{(i)}$, $y^{(i)}$ | $i_{th}$Training Example | `X[i]`, `y[i]`|\n",
        "| m | number of training examples | `m`|\n",
        "| n | number of features in each example | `n`|\n",
        "|  $\\mathbf{w}$  |  parameter: weight,                       | `w`    |\n",
        "|  $b$           |  parameter: bias                                           | `b`    |     \n",
        "| $f_{\\mathbf{w},b}(\\mathbf{x}^{(i)})$ | The result of the model evaluation at $\\mathbf{x^{(i)}}$ parameterized by $\\mathbf{w},b$: $f_{\\mathbf{w},b}(\\mathbf{x}^{(i)}) = \\mathbf{w} \\cdot \\mathbf{x}^{(i)}+b$  | `f_wb` | \n"
      ],
      "metadata": {
        "id": "WgkMHUay_Sfp"
      }
    },
    {
      "cell_type": "markdown",
      "source": [
        "### 1.3.2 Theory\n",
        "\n"
      ],
      "metadata": {
        "id": "O6txbpgK7zl5"
      }
    },
    {
      "cell_type": "markdown",
      "source": [
        "**Training example matrix** <br>\n",
        "$$\\mathbf{X} = \n",
        "\\begin{pmatrix}\n",
        " x^{(0)}_0 & x^{(0)}_1 & \\cdots & x^{(0)}_{n-1} \\\\ \n",
        " x^{(1)}_0 & x^{(1)}_1 & \\cdots & x^{(1)}_{n-1} \\\\\n",
        " \\cdots \\\\\n",
        " x^{(m-1)}_0 & x^{(m-1)}_1 & \\cdots & x^{(m-1)}_{n-1} \n",
        "\\end{pmatrix}\n",
        "$$\n",
        "notation:\n",
        "- $\\mathbf{x}^{(i)}$ is vector containing example i. $\\mathbf{x}^{(i)}$ $ = (x^{(i)}_0, x^{(i)}_1, \\cdots,x^{(i)}_{n-1})$\n",
        "- $x^{(i)}_j$ is element j in example i. The superscript in parenthesis indicates the example number while the subscript represents an element.  \n"
      ],
      "metadata": {
        "id": "XUBr1p9M8d6S"
      }
    },
    {
      "cell_type": "markdown",
      "source": [
        "\n",
        "**Parameter vector w, b**\n",
        "\n",
        "* $\\mathbf{w}$ is a vector with $n$ elements.\n",
        "  - Each element contains the parameter associated with one feature.\n",
        "  - in our dataset, n is 4.\n",
        "  - notionally, we draw this as a column vector\n",
        "\n",
        "$$\\mathbf{w} = \\begin{pmatrix}\n",
        "w_0 \\\\ \n",
        "w_1 \\\\\n",
        "\\cdots\\\\\n",
        "w_{n-1}\n",
        "\\end{pmatrix}\n",
        "$$\n",
        "* $b$ is a scalar parameter.  \n"
      ],
      "metadata": {
        "id": "DlhIAz6j8nIu"
      }
    },
    {
      "cell_type": "markdown",
      "source": [
        "\n",
        "**Model Prediction With Multiple Variables** <br><br>\n",
        "The model's prediction with multiple variables is given by the linear model:\n",
        "\n",
        "$$ f_{\\mathbf{w},b}(\\mathbf{x}) =  w_0x_0 + w_1x_1 +... + w_{n-1}x_{n-1} + b \\tag{1}$$\n",
        "or in vector notation:\n",
        "$$ f_{\\mathbf{w},b}(\\mathbf{x}) = \\mathbf{w} \\cdot \\mathbf{x} + b  \\tag{2} $$ \n",
        "where $\\cdot$ is a vector dot product\n"
      ],
      "metadata": {
        "id": "-cWMdbcC89sT"
      }
    },
    {
      "cell_type": "markdown",
      "source": [
        "\n",
        "**Compute Cost With Multiple Variables**\n",
        "\n",
        "The equation for the cost function with multiple variables $J(\\mathbf{w},b)$ is:\n",
        "$$J(\\mathbf{w},b) = \\frac{1}{2m} \\sum\\limits_{i = 0}^{m-1} (f_{\\mathbf{w},b}(\\mathbf{x}^{(i)}) - y^{(i)})^2 \\tag{3}$$ \n",
        "where:\n",
        "$$ f_{\\mathbf{w},b}(\\mathbf{x}^{(i)}) = \\mathbf{w} \\cdot \\mathbf{x}^{(i)} + b  \\tag{4} $$ \n",
        "\n",
        "\n"
      ],
      "metadata": {
        "id": "QoA7qdAC9Nn5"
      }
    },
    {
      "cell_type": "markdown",
      "source": [
        "**Gradient descent for multiple variables:** <br>\n",
        "\n",
        "$$\\begin{align*} \\text{repeat}&\\text{ until convergence:} \\; \\newline \\lbrace \\newline\\;\n",
        "& w_j = w_j -  \\alpha \\frac{\\partial J(\\mathbf{w},b)}{\\partial w_j} \\tag{5}  \\; & \\text{for j = 0..n-1}\\newline\n",
        "&b\\ \\ = b -  \\alpha \\frac{\\partial J(\\mathbf{w},b)}{\\partial b}  \\newline \\rbrace\n",
        "\\end{align*}$$\n",
        "\n",
        "where, n is the number of features, parameters $w_j$,  $b$, are updated simultaneously and where  \n",
        "\n",
        "$$\n",
        "\\begin{align}\n",
        "\\frac{\\partial J(\\mathbf{w},b)}{\\partial w_j}  &= \\frac{1}{m} \\sum\\limits_{i = 0}^{m-1} (f_{\\mathbf{w},b}(\\mathbf{x}^{(i)}) - y^{(i)})x_{j}^{(i)} \\tag{6}  \\\\\n",
        "\\frac{\\partial J(\\mathbf{w},b)}{\\partial b}  &= \\frac{1}{m} \\sum\\limits_{i = 0}^{m-1} (f_{\\mathbf{w},b}(\\mathbf{x}^{(i)}) - y^{(i)}) \\tag{7}\n",
        "\\end{align}\n",
        "$$\n",
        "* m is the number of training examples in the data set\n",
        "\n",
        "    \n",
        "*  $f_{\\mathbf{w},b}(\\mathbf{x}^{(i)})$ is the model's prediction, while $y^{(i)}$ is the target value"
      ],
      "metadata": {
        "id": "aJr4aA3T-SA0"
      }
    },
    {
      "cell_type": "markdown",
      "source": [
        "### 1.3.3 Example 02 : Housing Price"
      ],
      "metadata": {
        "id": "ipCBwkHg_VFJ"
      }
    },
    {
      "cell_type": "markdown",
      "source": [
        "\n",
        "| Size (sqft) | Number of Bedrooms  | Number of floors | Age of  Home | Price (1000s dollars)  |   \n",
        "| ----------------| ------------------- |----------------- |--------------|-------------- |  \n",
        "| 2104            | 5                   | 1                | 45           | 460           |  \n",
        "| 1416            | 3                   | 2                | 40           | 232           |  \n",
        "| 852             | 2                   | 1                | 35           | 178           |  \n"
      ],
      "metadata": {
        "id": "XBXcC-eW_hZ_"
      }
    },
    {
      "cell_type": "code",
      "source": [
        "#Linear regression for multi-feature\n",
        "\n",
        "#Import Required Libraries\n",
        "import numpy as np\n",
        "import math\n",
        "import matplotlib.pyplot as plt\n",
        "\n",
        "''' \n",
        "Update data as requred\n",
        "'''\n",
        "#Training Example Matrix ~ [[set 1 ], [set 2 ] , [set 3 ] ... [set m]] <~~ m is the example count\n",
        "x_train = np.array([[2104, 5, 1, 45],                         \n",
        "                    [1416, 3, 2, 40],                         \n",
        "                    [852, 2, 1, 35]])\n",
        "\n",
        "# Target Matrix          ~ [target_1 ,target_2 ,... , target_m ] <~~ m is the example count\n",
        "y_train = np.array([460, 232, 178])\n",
        "\n",
        "'''\n",
        "Initial conditions for gradient descent\n",
        "Use float values as initial input\n",
        "'''\n",
        "# Learning rate ~ Better if small\n",
        "learning_rate = 5.0e-7\n",
        "\n",
        "# Initial w value matrix ~ [val_1 , val_2 , ... , val_n]  <~~ n is the feature count\n",
        "initial_w = np.array([ 100.0, 100.0,100.0, 100.0])\n",
        "\n",
        "# Initial value for b\n",
        "initial_b =  100.0\n",
        "\n",
        "# Larger the better <~ Automatically breaks the loop when converged! \n",
        "number_of_iterations = 1000\n",
        "\n",
        "# Breaks when dw_dj and dw_db < learning_rate*convergence_factor     \n",
        "# Better to use smaller values\n",
        "convergence_factor = 0.00001\n",
        "\n",
        "\n",
        "''' \n",
        "Do not change below\n",
        "'''\n",
        "# m ~ The number of examples <~~ Row count\n",
        "m = x_train.shape[0]\n",
        "# n ~ The number of features <~~ Column count\n",
        "n = x_train.shape[1]\n",
        "\n",
        "\n",
        "'''\n",
        "Cost Function\n",
        "Input  : x_train , y_train , w_value , b_value ,m value\n",
        "Output : Relevent cost\n",
        "'''\n",
        "def cost_function_for_multi_variable(x,y,w,b,m):\n",
        "  # y_hat = w*x[i] + b\n",
        "  # y = y[i]\n",
        "  # Temp variable to store the calculated data\n",
        "\n",
        "  cost_holder = 0.0\n",
        "\n",
        "  for i in range(m):\n",
        "    cost_holder += (np.dot(x[i],w)+b-y[i])**2\n",
        "  \n",
        "  #Avoid zero devison\n",
        "  if (cost_holder == 0.0):\n",
        "    cost_holder = 0.0\n",
        "  else:\n",
        "    cost_holder = cost_holder/(2*m) \n",
        "\n",
        "  # Return the cost\n",
        "  return cost_holder \n",
        "\n",
        "'''\n",
        "Gradient Values\n",
        "Input  : x_train , y_train , w_value , b_value ,m value\n",
        "Output : (dj_dw,dj_db) for given (w,b)\n",
        "'''\n",
        "\n",
        "def calculate_gradient_multi(x,y,w,b,m,n):\n",
        "\n",
        "  # Temp Data holders for two returns\n",
        "  temp_dj_dw = np.zeros((n,)) # elements count equal to columns\n",
        "  temp_dj_db = 0.0\n",
        "\n",
        "  for i in range(m):\n",
        "     \n",
        "    Error_calculate = np.dot(x[i],w)+b-y[i]\n",
        "    # Calculate dj_db \n",
        "    # Loop for m times (~ Eq to number of Rows)\n",
        "    temp_dj_db  +=  Error_calculate\n",
        "\n",
        "    #Loop for each i th set of training examples\n",
        "    for j in  range(n):\n",
        "      temp_dj_dw[j] += Error_calculate*x[i,j]\n",
        "\n",
        "  \n",
        "  # Finalize the calculaion\n",
        "  if(m != 0):\n",
        "    temp_dj_dw = temp_dj_dw/m\n",
        "    temp_dj_db = temp_dj_db/m\n",
        "  else:\n",
        "    temp_dj_dw = 0\n",
        "    temp_dj_db = 0\n",
        "  \n",
        "  # return the gradients for (w,b)\n",
        "  return temp_dj_dw,temp_dj_db\n",
        "\n",
        "\n",
        "'''\n",
        "Gradient Descent\n",
        "Input  : x_train , y_train , w_initial , b_initial ,m value,learning_rate, number of iterations\n",
        "Output : Best fit w,b,J_log,Parameter_log\n",
        "'''\n",
        "\n",
        "def gradient_descent_multi():\n",
        "  # Load the data & conditions to the function \n",
        "  global x_train,y_train,initial_w,initial_b,m,n,learning_rate,number_of_iterations\n",
        "\n",
        "  # Store calculated J \n",
        "  J_log = []\n",
        "\n",
        "  # Store [w,b] for each J\n",
        "  Parameter_log = []\n",
        "  \n",
        "  #Store temp w,b\n",
        "  w  = np.copy(initial_w)\n",
        "  b  = initial_b\n",
        "\n",
        "  # Comparing vector\n",
        "  comparing_dj_dw_vector = learning_rate*convergence_factor*np.ones(n) \n",
        "  \n",
        "\n",
        "  # Loop for given iterations \n",
        "  for i in range(number_of_iterations):\n",
        "\n",
        "    # Calculate gradients for w,b\n",
        "    dj_dw,dj_db = calculate_gradient_multi(x_train,y_train,w,b,m,n)\n",
        "\n",
        "    #Gradient descent algorythm\n",
        "    w -= learning_rate*dj_dw\n",
        "    b -= learning_rate*dj_db\n",
        "\n",
        "    # Update Logs\n",
        "    if i<10000:\n",
        "      J_log.append(cost_function_for_multi_variable(x_train,y_train,w,b,m))\n",
        "      Parameter_log.append([w,b])\n",
        "\n",
        "    # For the stability half the samples for every 10000 iterations\n",
        "    elif i % 10000 == 0:\n",
        "      J_log = J_log[::2]\n",
        "      Parameter_log = Parameter_log[::2]\n",
        "      \n",
        "\n",
        "    # Breaking when converged\n",
        "    if (dj_dw**2 < comparing_dj_dw_vector**2).all() and dj_db < learning_rate*convergence_factor:\n",
        "      print(dj_dw,comparing_dj_dw_vector)\n",
        "      print(dj_dw <comparing_dj_dw_vector)\n",
        "      print(i)\n",
        "      break\n",
        "    \n",
        "  return w,b,J_log,Parameter_log\n"
      ],
      "metadata": {
        "id": "Rb7YTanT_gl6"
      },
      "execution_count": 11,
      "outputs": []
    },
    {
      "cell_type": "markdown",
      "source": [
        "**Testing**"
      ],
      "metadata": {
        "id": "YIKuE9P1bGho"
      }
    },
    {
      "cell_type": "code",
      "source": [
        "#Round array elements into two decimal places when printing\n",
        "np.set_printoptions(precision=2)\n",
        "\n",
        "# Calculate for given data & initial conditions for Example 1.2.3\n",
        "w_final,b_final,J_log,P_log = gradient_descent_multi()\n",
        "\n",
        "# Print W,b \n",
        "print(\"W,b values for the best fit line is :{} & {} \".format( w_final,b_final))\n",
        "\n"
      ],
      "metadata": {
        "colab": {
          "base_uri": "https://localhost:8080/"
        },
        "id": "dJ8X8pnfbFRB",
        "outputId": "a4d0c34e-518b-4d33-8c4f-a86ab4736ee6"
      },
      "execution_count": 12,
      "outputs": [
        {
          "output_type": "stream",
          "name": "stdout",
          "text": [
            "W,b values for the best fit line is :[-2.52 99.8  99.67 92.77] & 99.77448108024004 \n"
          ]
        }
      ]
    },
    {
      "cell_type": "markdown",
      "source": [
        "**Plotting the convergence**"
      ],
      "metadata": {
        "id": "5eBhZq5Ktgp9"
      }
    },
    {
      "cell_type": "code",
      "source": [
        "# Plot the Convergence log\n",
        "J_sample = J_log[::50]\n",
        "x = np.arange(len(J_sample))\n",
        "\n",
        "fig = go.Figure(data=go.Scatter(x=x, y=J_sample))\n",
        "fig.show()"
      ],
      "metadata": {
        "colab": {
          "base_uri": "https://localhost:8080/",
          "height": 542
        },
        "id": "Wf1t3QS9tgTv",
        "outputId": "1164544f-ef9f-4683-efc7-32bb7db67168"
      },
      "execution_count": 13,
      "outputs": [
        {
          "output_type": "display_data",
          "data": {
            "text/html": [
              "<html>\n",
              "<head><meta charset=\"utf-8\" /></head>\n",
              "<body>\n",
              "    <div>            <script src=\"https://cdnjs.cloudflare.com/ajax/libs/mathjax/2.7.5/MathJax.js?config=TeX-AMS-MML_SVG\"></script><script type=\"text/javascript\">if (window.MathJax && window.MathJax.Hub && window.MathJax.Hub.Config) {window.MathJax.Hub.Config({SVG: {font: \"STIX-Web\"}});}</script>                <script type=\"text/javascript\">window.PlotlyConfig = {MathJaxConfig: 'local'};</script>\n",
              "        <script src=\"https://cdn.plot.ly/plotly-2.18.2.min.js\"></script>                <div id=\"aff4a4f9-074d-46a6-a711-8e00ff40bc77\" class=\"plotly-graph-div\" style=\"height:525px; width:100%;\"></div>            <script type=\"text/javascript\">                                    window.PLOTLYENV=window.PLOTLYENV || {};                                    if (document.getElementById(\"aff4a4f9-074d-46a6-a711-8e00ff40bc77\")) {                    Plotly.newPlot(                        \"aff4a4f9-074d-46a6-a711-8e00ff40bc77\",                        [{\"x\":[0,1,2,3,4,5,6,7,8,9,10,11,12,13,14,15,16,17,18,19],\"y\":[472773169.4120149,506546.6716309654,504307.19244515087,502077.6494023683,499857.99841742247,497648.1956007192,495448.1972573924,493257.95988644735,491077.4401798953,488906.59502189775,486745.38148791605,484593.75684386125,482451.6785452476,480319.1042363571,478195.9917493917,476082.2991036509,473977.98450469394,471883.00634351576,469797.32319572475,467720.8938207238],\"type\":\"scatter\"}],                        {\"template\":{\"data\":{\"histogram2dcontour\":[{\"type\":\"histogram2dcontour\",\"colorbar\":{\"outlinewidth\":0,\"ticks\":\"\"},\"colorscale\":[[0.0,\"#0d0887\"],[0.1111111111111111,\"#46039f\"],[0.2222222222222222,\"#7201a8\"],[0.3333333333333333,\"#9c179e\"],[0.4444444444444444,\"#bd3786\"],[0.5555555555555556,\"#d8576b\"],[0.6666666666666666,\"#ed7953\"],[0.7777777777777778,\"#fb9f3a\"],[0.8888888888888888,\"#fdca26\"],[1.0,\"#f0f921\"]]}],\"choropleth\":[{\"type\":\"choropleth\",\"colorbar\":{\"outlinewidth\":0,\"ticks\":\"\"}}],\"histogram2d\":[{\"type\":\"histogram2d\",\"colorbar\":{\"outlinewidth\":0,\"ticks\":\"\"},\"colorscale\":[[0.0,\"#0d0887\"],[0.1111111111111111,\"#46039f\"],[0.2222222222222222,\"#7201a8\"],[0.3333333333333333,\"#9c179e\"],[0.4444444444444444,\"#bd3786\"],[0.5555555555555556,\"#d8576b\"],[0.6666666666666666,\"#ed7953\"],[0.7777777777777778,\"#fb9f3a\"],[0.8888888888888888,\"#fdca26\"],[1.0,\"#f0f921\"]]}],\"heatmap\":[{\"type\":\"heatmap\",\"colorbar\":{\"outlinewidth\":0,\"ticks\":\"\"},\"colorscale\":[[0.0,\"#0d0887\"],[0.1111111111111111,\"#46039f\"],[0.2222222222222222,\"#7201a8\"],[0.3333333333333333,\"#9c179e\"],[0.4444444444444444,\"#bd3786\"],[0.5555555555555556,\"#d8576b\"],[0.6666666666666666,\"#ed7953\"],[0.7777777777777778,\"#fb9f3a\"],[0.8888888888888888,\"#fdca26\"],[1.0,\"#f0f921\"]]}],\"heatmapgl\":[{\"type\":\"heatmapgl\",\"colorbar\":{\"outlinewidth\":0,\"ticks\":\"\"},\"colorscale\":[[0.0,\"#0d0887\"],[0.1111111111111111,\"#46039f\"],[0.2222222222222222,\"#7201a8\"],[0.3333333333333333,\"#9c179e\"],[0.4444444444444444,\"#bd3786\"],[0.5555555555555556,\"#d8576b\"],[0.6666666666666666,\"#ed7953\"],[0.7777777777777778,\"#fb9f3a\"],[0.8888888888888888,\"#fdca26\"],[1.0,\"#f0f921\"]]}],\"contourcarpet\":[{\"type\":\"contourcarpet\",\"colorbar\":{\"outlinewidth\":0,\"ticks\":\"\"}}],\"contour\":[{\"type\":\"contour\",\"colorbar\":{\"outlinewidth\":0,\"ticks\":\"\"},\"colorscale\":[[0.0,\"#0d0887\"],[0.1111111111111111,\"#46039f\"],[0.2222222222222222,\"#7201a8\"],[0.3333333333333333,\"#9c179e\"],[0.4444444444444444,\"#bd3786\"],[0.5555555555555556,\"#d8576b\"],[0.6666666666666666,\"#ed7953\"],[0.7777777777777778,\"#fb9f3a\"],[0.8888888888888888,\"#fdca26\"],[1.0,\"#f0f921\"]]}],\"surface\":[{\"type\":\"surface\",\"colorbar\":{\"outlinewidth\":0,\"ticks\":\"\"},\"colorscale\":[[0.0,\"#0d0887\"],[0.1111111111111111,\"#46039f\"],[0.2222222222222222,\"#7201a8\"],[0.3333333333333333,\"#9c179e\"],[0.4444444444444444,\"#bd3786\"],[0.5555555555555556,\"#d8576b\"],[0.6666666666666666,\"#ed7953\"],[0.7777777777777778,\"#fb9f3a\"],[0.8888888888888888,\"#fdca26\"],[1.0,\"#f0f921\"]]}],\"mesh3d\":[{\"type\":\"mesh3d\",\"colorbar\":{\"outlinewidth\":0,\"ticks\":\"\"}}],\"scatter\":[{\"fillpattern\":{\"fillmode\":\"overlay\",\"size\":10,\"solidity\":0.2},\"type\":\"scatter\"}],\"parcoords\":[{\"type\":\"parcoords\",\"line\":{\"colorbar\":{\"outlinewidth\":0,\"ticks\":\"\"}}}],\"scatterpolargl\":[{\"type\":\"scatterpolargl\",\"marker\":{\"colorbar\":{\"outlinewidth\":0,\"ticks\":\"\"}}}],\"bar\":[{\"error_x\":{\"color\":\"#2a3f5f\"},\"error_y\":{\"color\":\"#2a3f5f\"},\"marker\":{\"line\":{\"color\":\"#E5ECF6\",\"width\":0.5},\"pattern\":{\"fillmode\":\"overlay\",\"size\":10,\"solidity\":0.2}},\"type\":\"bar\"}],\"scattergeo\":[{\"type\":\"scattergeo\",\"marker\":{\"colorbar\":{\"outlinewidth\":0,\"ticks\":\"\"}}}],\"scatterpolar\":[{\"type\":\"scatterpolar\",\"marker\":{\"colorbar\":{\"outlinewidth\":0,\"ticks\":\"\"}}}],\"histogram\":[{\"marker\":{\"pattern\":{\"fillmode\":\"overlay\",\"size\":10,\"solidity\":0.2}},\"type\":\"histogram\"}],\"scattergl\":[{\"type\":\"scattergl\",\"marker\":{\"colorbar\":{\"outlinewidth\":0,\"ticks\":\"\"}}}],\"scatter3d\":[{\"type\":\"scatter3d\",\"line\":{\"colorbar\":{\"outlinewidth\":0,\"ticks\":\"\"}},\"marker\":{\"colorbar\":{\"outlinewidth\":0,\"ticks\":\"\"}}}],\"scattermapbox\":[{\"type\":\"scattermapbox\",\"marker\":{\"colorbar\":{\"outlinewidth\":0,\"ticks\":\"\"}}}],\"scatterternary\":[{\"type\":\"scatterternary\",\"marker\":{\"colorbar\":{\"outlinewidth\":0,\"ticks\":\"\"}}}],\"scattercarpet\":[{\"type\":\"scattercarpet\",\"marker\":{\"colorbar\":{\"outlinewidth\":0,\"ticks\":\"\"}}}],\"carpet\":[{\"aaxis\":{\"endlinecolor\":\"#2a3f5f\",\"gridcolor\":\"white\",\"linecolor\":\"white\",\"minorgridcolor\":\"white\",\"startlinecolor\":\"#2a3f5f\"},\"baxis\":{\"endlinecolor\":\"#2a3f5f\",\"gridcolor\":\"white\",\"linecolor\":\"white\",\"minorgridcolor\":\"white\",\"startlinecolor\":\"#2a3f5f\"},\"type\":\"carpet\"}],\"table\":[{\"cells\":{\"fill\":{\"color\":\"#EBF0F8\"},\"line\":{\"color\":\"white\"}},\"header\":{\"fill\":{\"color\":\"#C8D4E3\"},\"line\":{\"color\":\"white\"}},\"type\":\"table\"}],\"barpolar\":[{\"marker\":{\"line\":{\"color\":\"#E5ECF6\",\"width\":0.5},\"pattern\":{\"fillmode\":\"overlay\",\"size\":10,\"solidity\":0.2}},\"type\":\"barpolar\"}],\"pie\":[{\"automargin\":true,\"type\":\"pie\"}]},\"layout\":{\"autotypenumbers\":\"strict\",\"colorway\":[\"#636efa\",\"#EF553B\",\"#00cc96\",\"#ab63fa\",\"#FFA15A\",\"#19d3f3\",\"#FF6692\",\"#B6E880\",\"#FF97FF\",\"#FECB52\"],\"font\":{\"color\":\"#2a3f5f\"},\"hovermode\":\"closest\",\"hoverlabel\":{\"align\":\"left\"},\"paper_bgcolor\":\"white\",\"plot_bgcolor\":\"#E5ECF6\",\"polar\":{\"bgcolor\":\"#E5ECF6\",\"angularaxis\":{\"gridcolor\":\"white\",\"linecolor\":\"white\",\"ticks\":\"\"},\"radialaxis\":{\"gridcolor\":\"white\",\"linecolor\":\"white\",\"ticks\":\"\"}},\"ternary\":{\"bgcolor\":\"#E5ECF6\",\"aaxis\":{\"gridcolor\":\"white\",\"linecolor\":\"white\",\"ticks\":\"\"},\"baxis\":{\"gridcolor\":\"white\",\"linecolor\":\"white\",\"ticks\":\"\"},\"caxis\":{\"gridcolor\":\"white\",\"linecolor\":\"white\",\"ticks\":\"\"}},\"coloraxis\":{\"colorbar\":{\"outlinewidth\":0,\"ticks\":\"\"}},\"colorscale\":{\"sequential\":[[0.0,\"#0d0887\"],[0.1111111111111111,\"#46039f\"],[0.2222222222222222,\"#7201a8\"],[0.3333333333333333,\"#9c179e\"],[0.4444444444444444,\"#bd3786\"],[0.5555555555555556,\"#d8576b\"],[0.6666666666666666,\"#ed7953\"],[0.7777777777777778,\"#fb9f3a\"],[0.8888888888888888,\"#fdca26\"],[1.0,\"#f0f921\"]],\"sequentialminus\":[[0.0,\"#0d0887\"],[0.1111111111111111,\"#46039f\"],[0.2222222222222222,\"#7201a8\"],[0.3333333333333333,\"#9c179e\"],[0.4444444444444444,\"#bd3786\"],[0.5555555555555556,\"#d8576b\"],[0.6666666666666666,\"#ed7953\"],[0.7777777777777778,\"#fb9f3a\"],[0.8888888888888888,\"#fdca26\"],[1.0,\"#f0f921\"]],\"diverging\":[[0,\"#8e0152\"],[0.1,\"#c51b7d\"],[0.2,\"#de77ae\"],[0.3,\"#f1b6da\"],[0.4,\"#fde0ef\"],[0.5,\"#f7f7f7\"],[0.6,\"#e6f5d0\"],[0.7,\"#b8e186\"],[0.8,\"#7fbc41\"],[0.9,\"#4d9221\"],[1,\"#276419\"]]},\"xaxis\":{\"gridcolor\":\"white\",\"linecolor\":\"white\",\"ticks\":\"\",\"title\":{\"standoff\":15},\"zerolinecolor\":\"white\",\"automargin\":true,\"zerolinewidth\":2},\"yaxis\":{\"gridcolor\":\"white\",\"linecolor\":\"white\",\"ticks\":\"\",\"title\":{\"standoff\":15},\"zerolinecolor\":\"white\",\"automargin\":true,\"zerolinewidth\":2},\"scene\":{\"xaxis\":{\"backgroundcolor\":\"#E5ECF6\",\"gridcolor\":\"white\",\"linecolor\":\"white\",\"showbackground\":true,\"ticks\":\"\",\"zerolinecolor\":\"white\",\"gridwidth\":2},\"yaxis\":{\"backgroundcolor\":\"#E5ECF6\",\"gridcolor\":\"white\",\"linecolor\":\"white\",\"showbackground\":true,\"ticks\":\"\",\"zerolinecolor\":\"white\",\"gridwidth\":2},\"zaxis\":{\"backgroundcolor\":\"#E5ECF6\",\"gridcolor\":\"white\",\"linecolor\":\"white\",\"showbackground\":true,\"ticks\":\"\",\"zerolinecolor\":\"white\",\"gridwidth\":2}},\"shapedefaults\":{\"line\":{\"color\":\"#2a3f5f\"}},\"annotationdefaults\":{\"arrowcolor\":\"#2a3f5f\",\"arrowhead\":0,\"arrowwidth\":1},\"geo\":{\"bgcolor\":\"white\",\"landcolor\":\"#E5ECF6\",\"subunitcolor\":\"white\",\"showland\":true,\"showlakes\":true,\"lakecolor\":\"white\"},\"title\":{\"x\":0.05},\"mapbox\":{\"style\":\"light\"}}}},                        {\"responsive\": true}                    ).then(function(){\n",
              "                            \n",
              "var gd = document.getElementById('aff4a4f9-074d-46a6-a711-8e00ff40bc77');\n",
              "var x = new MutationObserver(function (mutations, observer) {{\n",
              "        var display = window.getComputedStyle(gd).display;\n",
              "        if (!display || display === 'none') {{\n",
              "            console.log([gd, 'removed!']);\n",
              "            Plotly.purge(gd);\n",
              "            observer.disconnect();\n",
              "        }}\n",
              "}});\n",
              "\n",
              "// Listen for the removal of the full notebook cells\n",
              "var notebookContainer = gd.closest('#notebook-container');\n",
              "if (notebookContainer) {{\n",
              "    x.observe(notebookContainer, {childList: true});\n",
              "}}\n",
              "\n",
              "// Listen for the clearing of the current output cell\n",
              "var outputEl = gd.closest('.output');\n",
              "if (outputEl) {{\n",
              "    x.observe(outputEl, {childList: true});\n",
              "}}\n",
              "\n",
              "                        })                };                            </script>        </div>\n",
              "</body>\n",
              "</html>"
            ]
          },
          "metadata": {}
        }
      ]
    },
    {
      "cell_type": "markdown",
      "source": [
        "### 1.3.4 Feature Engineering"
      ],
      "metadata": {
        "id": "nrMMWsHIFb3h"
      }
    },
    {
      "cell_type": "markdown",
      "source": [
        "The algorythem in example 1.2.3 is not accurate.When the alpha and initial values are changed , the prediction accuracy changes drastically. This can be eleminated by feature scaling"
      ],
      "metadata": {
        "id": "TVstY_yqFjCW"
      }
    },
    {
      "cell_type": "markdown",
      "source": [
        "Three different techniques: (There are many) \n",
        "- Feature scaling, essentially dividing each positive feature by its maximum value, or more generally, rescale each feature by both its minimum and maximum values using (x-min)/(max-min). Both ways normalizes features to the range of -1 and 1, where the former method works for positive features , and the latter method works for any features.\n",
        "- Mean normalization: $x_i := \\dfrac{x_i - \\mu_i}{max - min} $ \n",
        "- Z-score normalization which we will explore below. "
      ],
      "metadata": {
        "id": "6Xqd5lFLHLc2"
      }
    },
    {
      "cell_type": "code",
      "source": [
        "\"\"\"\n",
        "    computes  X, zcore normalized by column\n",
        "    \n",
        "    Args:\n",
        "      X (ndarray (m,n))     : input data, m examples, n features\n",
        "      \n",
        "    Returns:\n",
        "      X_norm (ndarray (m,n)): input normalized by column\n",
        "      mu (ndarray (n,))     : mean of each feature\n",
        "      sigma (ndarray (n,))  : standard deviation of each feature\n",
        "    \"\"\"\n",
        "\n",
        "def zscore_normalize_features(X):\n",
        "\n",
        "    # find the mean of each column/feature\n",
        "    mu     = np.mean(X, axis=0)                 # mu will have shape (n,)\n",
        "    # find the standard deviation of each column/feature\n",
        "    sigma  = np.std(X, axis=0)                  # sigma will have shape (n,)\n",
        "    # element-wise, subtract mu for that column from each example, divide by std for that column\n",
        "    X_norm = (X - mu) / sigma      \n",
        "\n",
        "    return (X_norm, mu, sigma)\n",
        "\n"
      ],
      "metadata": {
        "id": "K7Xde8AIF9dh"
      },
      "execution_count": 14,
      "outputs": []
    },
    {
      "cell_type": "markdown",
      "source": [
        "**Solve the above 1.2.4 using feature scaled example sets**"
      ],
      "metadata": {
        "id": "WOXe6lwbH5-3"
      }
    },
    {
      "cell_type": "code",
      "source": [
        "''' \n",
        "Update data as requred\n",
        "'''\n",
        "#Training Example Matrix ~ [[set 1 ], [set 2 ] , [set 3 ] ... [set m]] <~~ m is the example count\n",
        "x_train = np.array([[2104, 5, 1, 45],                         \n",
        "                    [1416, 3, 2, 40],                         \n",
        "                    [852, 2, 1, 35]])\n",
        "\n",
        "# Target Matrix          ~ [target_1 ,target_2 ,... , target_m ] <~~ m is the example count\n",
        "y_train = np.array([460, 232, 178])\n",
        "\n",
        "# Breaks when dw_dj and dw_db < learning_rate*convergence_factor     \n",
        "# Better to use smaller values\n",
        "convergence_factor = 0.00001\n",
        "\n",
        "'''\n",
        "Feature scaling\n",
        "'''\n",
        "X_norm, mu, sigma = zscore_normalize_features(x_train)\n",
        "\n",
        "x_train = X_norm\n",
        "\n",
        "'''Run gradient descent'''\n"
      ],
      "metadata": {
        "colab": {
          "base_uri": "https://localhost:8080/",
          "height": 35
        },
        "id": "cc6LTFYxIOFL",
        "outputId": "2524effa-5078-4865-96e2-98e50d076c35"
      },
      "execution_count": 15,
      "outputs": [
        {
          "output_type": "execute_result",
          "data": {
            "text/plain": [
              "'Run gradient descent'"
            ],
            "application/vnd.google.colaboratory.intrinsic+json": {
              "type": "string"
            }
          },
          "metadata": {},
          "execution_count": 15
        }
      ]
    },
    {
      "cell_type": "markdown",
      "source": [
        "Test 01 :"
      ],
      "metadata": {
        "id": "7bidvG6rLL5l"
      }
    },
    {
      "cell_type": "code",
      "source": [
        "'''\n",
        "Initial conditions for gradient descent\n",
        "Use float values as initial input\n",
        "'''\n",
        "# Learning rate ~ Better if small\n",
        "learning_rate = 5.0e-3\n",
        "\n",
        "# Initial w value matrix ~ [val_1 , val_2 , ... , val_n]  <~~ n is the feature count\n",
        "initial_w = np.array([ 100.0, 100.0,100.0, 100.0])\n",
        "\n",
        "# Initial value for b\n",
        "initial_b =  0.0\n",
        "\n",
        "# Larger the better <~ Automatically breaks the loop when converged! \n",
        "number_of_iterations = 40000\n",
        "\n",
        "#Round array elements into two decimal places when printing\n",
        "np.set_printoptions(precision=2)\n",
        "\n",
        "# Calculate for given data & initial conditions for Example 1.2.3\n",
        "w_final,b_final,J_log,P_log = gradient_descent_multi()\n",
        "\n",
        "# Print W,b \n",
        "print(\"W,b values for the best fit line is :{} & {} \".format( w_final,b_final))\n",
        "\n"
      ],
      "metadata": {
        "colab": {
          "base_uri": "https://localhost:8080/"
        },
        "id": "RcLa-cFuLOWq",
        "outputId": "e4d43f5c-d6d4-4e27-f82c-58707e7fa2ee"
      },
      "execution_count": 16,
      "outputs": [
        {
          "output_type": "stream",
          "name": "stdout",
          "text": [
            "[ 3.34e-09 -3.34e-09  4.98e-08  6.19e-09] [5.e-08 5.e-08 5.e-08 5.e-08]\n",
            "[ True  True  True  True]\n",
            "4298\n",
            "W,b values for the best fit line is :[ 35.14  53.33 -28.93  27.67] & 289.9999998729948 \n"
          ]
        }
      ]
    },
    {
      "cell_type": "markdown",
      "source": [
        "Test 2 :"
      ],
      "metadata": {
        "id": "Yzm_5AJuLjWP"
      }
    },
    {
      "cell_type": "code",
      "source": [],
      "metadata": {
        "id": "nOdAzshoLk4R"
      },
      "execution_count": 16,
      "outputs": []
    },
    {
      "cell_type": "markdown",
      "source": [
        "## **1.3 Advanced Vectorized Multi variable system (TBD)**\n"
      ],
      "metadata": {
        "id": "1VNeCqKq5ZqH"
      }
    },
    {
      "cell_type": "markdown",
      "source": [
        "Consider the above same example: 1.2.3 Housing price\n",
        "\n",
        "\n",
        "| Size (sqft) | Number of Bedrooms  | Number of floors | Age of  Home | Price (1000s dollars)  |   \n",
        "| ----------------| ------------------- |----------------- |--------------|-------------- |  \n",
        "| 2104            | 5                   | 1                | 45           | 460           |  \n",
        "| 1416            | 3                   | 2                | 40           | 232           |  \n",
        "| 852             | 2                   | 1                | 35           | 178           |  \n"
      ],
      "metadata": {
        "id": "kJz69FrADWgj"
      }
    },
    {
      "cell_type": "code",
      "source": [
        "#Linear regression for multi-feature\n",
        "\n",
        "#Import Required Libraries\n",
        "import numpy as np\n",
        "import math\n",
        "import matplotlib.pyplot as plt\n",
        "\n",
        "''' \n",
        "Update data as requred\n",
        "'''\n",
        "#Training Example Matrix ~ [[set 1 ], [set 2 ] , [set 3 ] ... [set m]] <~~ m is the example count\n",
        "X_train = np.array([[2104, 5, 1, 45],                         \n",
        "                    [1416, 3, 2, 40],                         \n",
        "                    [852, 2, 1, 35]])\n",
        "\n",
        "# Target Matrix          ~ [target_1 ,target_2 ,... , target_m ] <~~ m is the example count\n",
        "y_train = np.array([460, 232, 178])\n",
        "\n",
        "\n",
        "\n",
        "#Initial conditions for gradient descent\n",
        "\n",
        "# Learning rate ~ Better if small\n",
        "learning_rate = 0.01\n",
        "\n",
        "# Initial w value matrix ~ [val_1 , val_2 , ... , val_n]  <~~ n is the feature count\n",
        "initial_w = np.array([ 0.5, 19, -60, -42])\n",
        "\n",
        "# Initial value for b\n",
        "initial_b = 1000\n",
        "\n",
        "# Larger the better <~ Automatically breaks the loop when converged! \n",
        "number_of_iterations = 250000\n",
        "\n",
        "# Breaks when dw_dj and dw_db < learning_rate*convergence_factor     \n",
        "# Better to use smaller values\n",
        "convergence_factor = 0.001\n",
        "\n",
        "\n",
        "\n",
        "''' \n",
        "Do not change below\n",
        "'''\n",
        "# m ~ The number of examples <~~ Row count\n",
        "m = X_train.shape[0]\n",
        "# n ~ The number of features <~~ Column count\n",
        "n = X_train.shape[1]\n",
        "\n",
        "\n"
      ],
      "metadata": {
        "id": "czj70-IKDJwz"
      },
      "execution_count": 17,
      "outputs": []
    },
    {
      "cell_type": "markdown",
      "metadata": {
        "id": "ru6XlSA-NjI2"
      },
      "source": [
        "## 1.4 Supervised Machine Learning: Classification"
      ]
    },
    {
      "cell_type": "markdown",
      "source": [
        "### 1.4.1 Sigmoid function\n",
        "\n",
        "The formula for a sigmoid function is as follows -  \n",
        "\n",
        "$g(z) = \\frac{1}{1+e^{-z}}$\n",
        "\n",
        "In the case of logistic regression, z (the input to the sigmoid function), is the output of a linear regression model. \n",
        "- In the case of a single example, $z$ is scalar.\n",
        "- in the case of multiple examples, $z$ may be a vector consisting of $m$ values, one for each example. \n"
      ],
      "metadata": {
        "id": "WzetGsgENcgj"
      }
    },
    {
      "cell_type": "markdown",
      "source": [
        "* Logistic regression, the model is represented as \n",
        "\n",
        "  $$f_{\\mathbf{w},b}(\\mathbf{x}^{(i)}) = g(\\mathbf{w} \\cdot \\mathbf{x}^{(i)} + b) \\tag{1}$$\n",
        "\n",
        "  where $g(z)$ is known as the sigmoid function and it maps all input values to values between 0 and 1:\n",
        "\n",
        "  $g(z) = \\frac{1}{1+e^{-z}}\\tag{2}$\n",
        "  and $\\mathbf{w} \\cdot \\mathbf{x}$ is the vector dot product:\n",
        "  \n",
        "  $$\\mathbf{w} \\cdot \\mathbf{x} = w_0 x_0 + w_1 x_1$$\n",
        "  \n",
        "  \n",
        " * We interpret the output of the model ($f_{\\mathbf{w},b}(x)$) as the probability that $y=1$ given $\\mathbf{x}$ and parameterized by $\\mathbf{w}$ and $b$.\n",
        "* Therefore, to get a final prediction ($y=0$ or $y=1$) from the logistic regression model,  can use the following heuristic -\n",
        "\n",
        "  if $f_{\\mathbf{w},b}(x) >= 0.5$, predict $y=1$\n",
        "  \n",
        "  if $f_{\\mathbf{w},b}(x) < 0.5$, predict $y=0$ <br><br>\n",
        "  \n"
      ],
      "metadata": {
        "id": "VwqB00g6Te7e"
      }
    },
    {
      "cell_type": "markdown",
      "source": [
        "### 1.4.2 Cost function"
      ],
      "metadata": {
        "id": "S_a_30BDZ8Sd"
      }
    },
    {
      "cell_type": "markdown",
      "source": [
        "  \n",
        "Cost using a *squared error cost*:\n",
        "  $$J(w,b) = \\frac{1}{2m} \\sum\\limits_{i = 0}^{m-1} (f_{w,b}(x^{(i)}) - y^{(i)})^2 $$ \n",
        " \n",
        "where \n",
        "  $$f_{w,b}(x^{(i)}) = sigmoid(wx^{(i)} + b )$$\n",
        "\n",
        "<br>\n",
        "\n",
        "\n",
        "The loss function above can be rewritten to be easier to implement.\n",
        "    $$loss(f_{\\mathbf{w},b}(\\mathbf{x}^{(i)}), y^{(i)}) = (-y^{(i)} \\log\\left(f_{\\mathbf{w},b}\\left( \\mathbf{x}^{(i)} \\right) \\right) - \\left( 1 - y^{(i)}\\right) \\log \\left( 1 - f_{\\mathbf{w},b}\\left( \\mathbf{x}^{(i)} \\right) \\right)$$\n",
        "  \n",
        "This is a rather formidable-looking equation. It is less daunting when you consider $y^{(i)}$ can have only two values, 0 and 1. One can then consider the equation in two pieces:  \n",
        "when $ y^{(i)} = 0$, the left-hand term is eliminated:\n",
        "$$\n",
        "\\begin{align}\n",
        "loss(f_{\\mathbf{w},b}(\\mathbf{x}^{(i)}), 0) &= (-(0) \\log\\left(f_{\\mathbf{w},b}\\left( \\mathbf{x}^{(i)} \\right) \\right) - \\left( 1 - 0\\right) \\log \\left( 1 - f_{\\mathbf{w},b}\\left( \\mathbf{x}^{(i)} \\right) \\right) \\\\\n",
        "&= -\\log \\left( 1 - f_{\\mathbf{w},b}\\left( \\mathbf{x}^{(i)} \\right) \\right)\n",
        "\\end{align}\n",
        "$$\n",
        "and when $ y^{(i)} = 1$, the right-hand term is eliminated:\n",
        "$$\n",
        "\\begin{align}\n",
        "  loss(f_{\\mathbf{w},b}(\\mathbf{x}^{(i)}), 1) &=  (-(1) \\log\\left(f_{\\mathbf{w},b}\\left( \\mathbf{x}^{(i)} \\right) \\right) - \\left( 1 - 1\\right) \\log \\left( 1 - f_{\\mathbf{w},b}\\left( \\mathbf{x}^{(i)} \\right) \\right)\\\\\n",
        "  &=  -\\log\\left(f_{\\mathbf{w},b}\\left( \\mathbf{x}^{(i)} \\right) \\right)\n",
        "\\end{align}\n",
        "$$\n",
        "\n"
      ],
      "metadata": {
        "id": "oJcPmNvSZeQO"
      }
    },
    {
      "cell_type": "markdown",
      "source": [
        "\n",
        "\n",
        "In a previous lab, you developed the *logistic loss* function. Recall, loss is defined to apply to one example. Here you combine the losses to form the **cost**, which includes all the examples.\n",
        "\n",
        "\n",
        "Recall that for logistic regression, the cost function is of the form \n",
        "\n",
        "$$ J(\\mathbf{w},b) = \\frac{1}{m} \\sum_{i=0}^{m-1} \\left[ loss(f_{\\mathbf{w},b}(\\mathbf{x}^{(i)}), y^{(i)}) \\right] \\tag{1}$$\n",
        "\n",
        "where\n",
        "* $loss(f_{\\mathbf{w},b}(\\mathbf{x}^{(i)}), y^{(i)})$ is the cost for a single data point, which is:\n",
        "\n",
        "    $$loss(f_{\\mathbf{w},b}(\\mathbf{x}^{(i)}), y^{(i)}) = -y^{(i)} \\log\\left(f_{\\mathbf{w},b}\\left( \\mathbf{x}^{(i)} \\right) \\right) - \\left( 1 - y^{(i)}\\right) \\log \\left( 1 - f_{\\mathbf{w},b}\\left( \\mathbf{x}^{(i)} \\right) \\right) \\tag{2}$$\n",
        "    \n",
        "*  where m is the number of training examples in the data set and:\n",
        "$$\n",
        "\\begin{align}\n",
        "  f_{\\mathbf{w},b}(\\mathbf{x^{(i)}}) &= g(z^{(i)})\\tag{3} \\\\\n",
        "  z^{(i)} &= \\mathbf{w} \\cdot \\mathbf{x}^{(i)}+ b\\tag{4} \\\\\n",
        "  g(z^{(i)}) &= \\frac{1}{1+e^{-z^{(i)}}}\\tag{5} \n",
        "\\end{align}\n",
        "$$"
      ],
      "metadata": {
        "id": "syaWHkzdZ2wV"
      }
    },
    {
      "cell_type": "markdown",
      "source": [
        "### 1.4.3 Logistic Gradient Descent\n",
        "\n",
        "\n",
        "T gradient descent algorithm utilizes the gradient calculation:\n",
        "$$\\begin{align*}\n",
        "&\\text{repeat until convergence:} \\; \\lbrace \\\\\n",
        "&  \\; \\; \\;w_j = w_j -  \\alpha \\frac{\\partial J(\\mathbf{w},b)}{\\partial w_j} \\tag{1}  \\; & \\text{for j := 0..n-1} \\\\ \n",
        "&  \\; \\; \\;  \\; \\;b = b -  \\alpha \\frac{\\partial J(\\mathbf{w},b)}{\\partial b} \\\\\n",
        "&\\rbrace\n",
        "\\end{align*}$$\n",
        "\n",
        "Where each iteration performs simultaneous updates on $w_j$ for all $j$, where\n",
        "$$\\begin{align*}\n",
        "\\frac{\\partial J(\\mathbf{w},b)}{\\partial w_j}  &= \\frac{1}{m} \\sum\\limits_{i = 0}^{m-1} (f_{\\mathbf{w},b}(\\mathbf{x}^{(i)}) - y^{(i)})x_{j}^{(i)} \\tag{2} \\\\\n",
        "\\frac{\\partial J(\\mathbf{w},b)}{\\partial b}  &= \\frac{1}{m} \\sum\\limits_{i = 0}^{m-1} (f_{\\mathbf{w},b}(\\mathbf{x}^{(i)}) - y^{(i)}) \\tag{3} \n",
        "\\end{align*}$$\n",
        "\n",
        "* m is the number of training examples in the data set      \n",
        "* $f_{\\mathbf{w},b}(x^{(i)})$ is the model's prediction, while $y^{(i)}$ is the target\n",
        "* For a logistic regression model  \n",
        "    $z = \\mathbf{w} \\cdot \\mathbf{x} + b$  \n",
        "    $f_{\\mathbf{w},b}(x) = g(z)$  \n",
        "    where $g(z)$ is the sigmoid function:  \n",
        "    $g(z) = \\frac{1}{1+e^{-z}}$   \n",
        "    \n"
      ],
      "metadata": {
        "id": "o8HwG2THiE5q"
      }
    },
    {
      "cell_type": "code",
      "source": [
        "# Plotting the Sigmoid Function in Python with Matplotlib\n",
        "import numpy as np\n",
        "import matplotlib.pyplot as plt\n",
        "\n",
        "def sigmoid(x):\n",
        "    return 1.0 / (1.0 + np.exp(-x))\n",
        "\n",
        "values = np.arange(-10, 10, 0.1)\n",
        "\n",
        "plt.plot(values, sigmoid(values))\n",
        "plt.xlabel('x')\n",
        "plt.ylabel('sigmoid(x)')\n",
        "plt.title('Sigmoid Function in Matplotlib')\n",
        "plt.show()"
      ],
      "metadata": {
        "colab": {
          "base_uri": "https://localhost:8080/",
          "height": 0
        },
        "id": "9hhjZCU1ONHn",
        "outputId": "bc784535-2e8d-4f8d-ef96-d7ee8fec1ae9"
      },
      "execution_count": 18,
      "outputs": [
        {
          "output_type": "display_data",
          "data": {
            "text/plain": [
              "<Figure size 640x480 with 1 Axes>"
            ],
            "image/png": "[encoded data removed]"
          },
          "metadata": {}
        }
      ]
    },
    {
      "cell_type": "markdown",
      "source": [
        "### 1.4.4 **Algorithm**"
      ],
      "metadata": {
        "id": "NW4z9AnjQh6L"
      }
    },
    {
      "cell_type": "markdown",
      "source": [
        "**Dataset**"
      ],
      "metadata": {
        "id": "xnL6iNlrQ3Mp"
      }
    },
    {
      "cell_type": "code",
      "source": [
        "x_train = np.array([0,1,2,4,5,7,8,9,10,13,15,18])\n",
        "y_train = np.array([0,0,0,0,0,0,1,1,1,1,1,1])\n",
        "\n",
        "# Plotting the data\n",
        "plt.plot(x_train, y_train ,'bo')\n",
        "plt.xlabel('X') #Tumor size\n",
        "plt.ylabel('Y') # Is Cancerous Y = 1 , N = 0\n",
        "plt.title('Data distribution')\n",
        "plt.show()"
      ],
      "metadata": {
        "colab": {
          "base_uri": "https://localhost:8080/",
          "height": 0
        },
        "id": "oVxG-7EwQ7QY",
        "outputId": "25e49801-53c3-4546-edde-b5780d2258b7"
      },
      "execution_count": 19,
      "outputs": [
        {
          "output_type": "display_data",
          "data": {
            "text/plain": [
              "<Figure size 640x480 with 1 Axes>"
            ],
            "image/png": "[encoded data removed]"
          },
          "metadata": {}
        }
      ]
    },
    {
      "cell_type": "code",
      "source": [
        "#two feature data set\n",
        "X_train = np.array([[0.5, 1.5], [1,1], [1.5, 0.5], [3, 0.5], [2, 2], [1, 2.5]])\n",
        "y_train = np.array([0, 0, 0, 1, 1, 1])\n",
        "\n",
        "\n",
        "#Compute the sigmoid of z\n",
        "def sigmoid(z):\n",
        "\n",
        "    g = 1/(1+np.exp(-z))\n",
        "   \n",
        "    return g\n",
        "\n",
        "\n",
        "#Computes cost\n",
        "def compute_cost_logistic(X, y, w, b):\n",
        "\n",
        "    m = X.shape[0]\n",
        "    cost = 0.0\n",
        "    for i in range(m):\n",
        "        z_i = np.dot(X[i],w) + b\n",
        "        f_wb_i = sigmoid(z_i)\n",
        "        cost +=  -y[i]*np.log(f_wb_i) - (1-y[i])*np.log(1-f_wb_i)\n",
        "             \n",
        "    cost = cost / m\n",
        "    return cost\n",
        "\n",
        "w_in = np.zeros((1))\n",
        "b_in = 0\n",
        "\n",
        "\n",
        "#Computes the gradient for linear regression\n",
        "def compute_gradient_logistic(X, y, w, b): \n",
        "    m,n = X.shape\n",
        "    dj_dw = np.zeros((n,))                           #(n,)\n",
        "    dj_db = 0.\n",
        "\n",
        "    for i in range(m):\n",
        "        f_wb_i = sigmoid(np.dot(X[i],w) + b)          #(n,)(n,)=scalar\n",
        "        err_i  = f_wb_i  - y[i]                       #scalar\n",
        "        for j in range(n):\n",
        "            dj_dw[j] = dj_dw[j] + err_i * X[i,j]      #scalar\n",
        "        dj_db = dj_db + err_i\n",
        "    dj_dw = dj_dw/m                                   #(n,)\n",
        "    dj_db = dj_db/m                                   #scalar\n",
        "        \n",
        "    return dj_db, dj_dw  \n",
        "\n",
        "#Performs batch gradient descent\n",
        "def gradient_descent(X, y, w_in, b_in, alpha, num_iters): \n",
        "   \n",
        "    # An array to store cost J and w's at each iteration primarily for graphing later\n",
        "    J_history = []\n",
        "    w = np.copy(w_in)  #avoid modifying global w within function\n",
        "    b = b_in\n",
        "    \n",
        "    for i in range(num_iters):\n",
        "        # Calculate the gradient and update the parameters\n",
        "        dj_db, dj_dw = compute_gradient_logistic(X, y, w, b)   \n",
        "\n",
        "        # Update Parameters using w, b, alpha and gradient\n",
        "        w = w - alpha * dj_dw               \n",
        "        b = b - alpha * dj_db               \n",
        "      \n",
        "        # Save cost J at each iteration\n",
        "        if i<100000:      # prevent resource exhaustion \n",
        "            J_history.append( compute_cost_logistic(X, y, w, b) )\n",
        "\n",
        "        # Print cost every at intervals 10 times or as many iterations if < 10\n",
        "        if i% math.ceil(num_iters / 10) == 0:\n",
        "            print(f\"Iteration {i:4d}: Cost {J_history[-1]}   \")\n",
        "        \n",
        "    return w, b, J_history         #return final w,b and J history for graphing\n"
      ],
      "metadata": {
        "id": "nXFHCq8ZSd2B"
      },
      "execution_count": 20,
      "outputs": []
    },
    {
      "cell_type": "markdown",
      "source": [
        "**Set 1**"
      ],
      "metadata": {
        "id": "xLi_OoHniqf7"
      }
    },
    {
      "cell_type": "code",
      "source": [
        "X_tmp = np.array([[0.5, 1.5], [1,1], [1.5, 0.5], [3, 0.5], [2, 2], [1, 2.5]])\n",
        "y_tmp = np.array([0, 0, 0, 1, 1, 1])\n",
        "w_tmp = np.array([2.,3.])\n",
        "b_tmp = 1.\n",
        "dj_db_tmp, dj_dw_tmp = compute_gradient_logistic(X_tmp, y_tmp, w_tmp, b_tmp)\n",
        "print(f\"dj_db: {dj_db_tmp}\" )\n",
        "print(f\"dj_dw: {dj_dw_tmp.tolist()}\" )\n",
        "\n",
        "w_tmp  = np.zeros_like(X_train[0])\n",
        "b_tmp  = 0.\n",
        "alph = 0.1\n",
        "iters = 100000\n",
        "\n",
        "w_out, b_out, _ = gradient_descent(X_train, y_train, w_tmp, b_tmp, alph, iters) \n",
        "print(f\"\\nupdated parameters: w:{w_out}, b:{b_out}\")\n"
      ],
      "metadata": {
        "colab": {
          "base_uri": "https://localhost:8080/"
        },
        "id": "oQWbvMi1ilsH",
        "outputId": "31c317ef-5ea2-497e-8fe1-107c344e9f4b"
      },
      "execution_count": 21,
      "outputs": [
        {
          "output_type": "stream",
          "name": "stdout",
          "text": [
            "dj_db: 0.49861806546328574\n",
            "dj_dw: [0.498333393278696, 0.49883942983996693]\n",
            "Iteration    0: Cost 0.684610468560574   \n",
            "Iteration 10000: Cost 0.01711604647887364   \n",
            "Iteration 20000: Cost 0.008523403979166485   \n",
            "Iteration 30000: Cost 0.005672197191107651   \n",
            "Iteration 40000: Cost 0.004250161053834308   \n",
            "Iteration 50000: Cost 0.003398230224179212   \n",
            "Iteration 60000: Cost 0.00283084256010047   \n",
            "Iteration 70000: Cost 0.002425848306579758   \n",
            "Iteration 80000: Cost 0.0021222573122028584   \n",
            "Iteration 90000: Cost 0.0018862216652143864   \n",
            "\n",
            "updated parameters: w:[8.35 8.15], b:-22.690605796630248\n"
          ]
        }
      ]
    },
    {
      "cell_type": "markdown",
      "source": [
        "**Set 2**"
      ],
      "metadata": {
        "id": "aKu7n0sNjNKz"
      }
    },
    {
      "cell_type": "code",
      "source": [],
      "metadata": {
        "id": "XgSScARdjP9y"
      },
      "execution_count": 21,
      "outputs": []
    },
    {
      "cell_type": "markdown",
      "source": [
        "**Set 1**"
      ],
      "metadata": {
        "id": "sDWS4rxpjQLy"
      }
    },
    {
      "cell_type": "code",
      "source": [
        "x_train = np.array([0., 1, 2, 3, 4, 5])\n",
        "y_train = np.array([0,  0, 0, 1, 1, 1])\n",
        "X_tmp = np.array([[0.5, 1.5], [1,1], [1.5, 0.5], [3, 0.5], [2, 2], [1, 2.5]])\n",
        "y_tmp = np.array([0, 0, 0, 1, 1, 1])\n",
        "w_tmp = np.array([2.,3.])\n",
        "b_tmp = 1.\n",
        "dj_db_tmp, dj_dw_tmp = compute_gradient_logistic(X_tmp, y_tmp, w_tmp, b_tmp)\n",
        "print(f\"dj_db: {dj_db_tmp}\" )\n",
        "print(f\"dj_dw: {dj_dw_tmp.tolist()}\" )\n",
        "\n",
        "w_tmp  = np.zeros_like(X_train[0])\n",
        "b_tmp  = 0.\n",
        "alph = 0.1\n",
        "iters = 100000\n",
        "\n",
        "w_out, b_out, _ = gradient_descent(X_train, y_train, w_tmp, b_tmp, alph, iters) \n",
        "print(f\"\\nupdated parameters: w:{w_out}, b:{b_out}\")\n"
      ],
      "metadata": {
        "colab": {
          "base_uri": "https://localhost:8080/"
        },
        "outputId": "a0b3755b-d2fc-47de-8476-04d046484789",
        "id": "Mqd1z5jYjQLy"
      },
      "execution_count": 22,
      "outputs": [
        {
          "output_type": "stream",
          "name": "stdout",
          "text": [
            "dj_db: 0.49861806546328574\n",
            "dj_dw: [0.498333393278696, 0.49883942983996693]\n",
            "Iteration    0: Cost 0.684610468560574   \n",
            "Iteration 10000: Cost 0.01711604647887364   \n",
            "Iteration 20000: Cost 0.008523403979166485   \n",
            "Iteration 30000: Cost 0.005672197191107651   \n",
            "Iteration 40000: Cost 0.004250161053834308   \n",
            "Iteration 50000: Cost 0.003398230224179212   \n",
            "Iteration 60000: Cost 0.00283084256010047   \n",
            "Iteration 70000: Cost 0.002425848306579758   \n",
            "Iteration 80000: Cost 0.0021222573122028584   \n",
            "Iteration 90000: Cost 0.0018862216652143864   \n",
            "\n",
            "updated parameters: w:[8.35 8.15], b:-22.690605796630248\n"
          ]
        }
      ]
    },
    {
      "cell_type": "markdown",
      "source": [
        "## 1.5 Additional"
      ],
      "metadata": {
        "id": "MooF65GRjplK"
      }
    },
    {
      "cell_type": "markdown",
      "source": [
        "### 1.5.1  overfitting"
      ],
      "metadata": {
        "id": "9J2rSSkjjtQr"
      }
    },
    {
      "cell_type": "markdown",
      "source": [
        "### 1.5.2 Regularized Cost and Gradient"
      ],
      "metadata": {
        "id": "wPr8GPP8j22S"
      }
    },
    {
      "cell_type": "markdown",
      "source": [
        "#### 1.5.2.1 Cost function for regularized linear regression\n",
        "\n",
        "The equation for the cost function regularized linear regression is:\n",
        "$$J(\\mathbf{w},b) = \\frac{1}{2m} \\sum\\limits_{i = 0}^{m-1} (f_{\\mathbf{w},b}(\\mathbf{x}^{(i)}) - y^{(i)})^2  + \\frac{\\lambda}{2m}  \\sum_{j=0}^{n-1} w_j^2 \\tag{1}$$ \n",
        "where:\n",
        "$$ f_{\\mathbf{w},b}(\\mathbf{x}^{(i)}) = \\mathbf{w} \\cdot \\mathbf{x}^{(i)} + b  \\tag{2} $$ \n",
        "\n",
        "\n",
        "Compare this to the cost function without regularization (which you implemented in  a previous lab), which is of the form:\n",
        "\n",
        "$$J(\\mathbf{w},b) = \\frac{1}{2m} \\sum\\limits_{i = 0}^{m-1} (f_{\\mathbf{w},b}(\\mathbf{x}^{(i)}) - y^{(i)})^2 $$ \n",
        "\n",
        "The difference is the regularization term,  <span style=\"color:blue\">\n",
        "    $\\frac{\\lambda}{2m}  \\sum_{j=0}^{n-1} w_j^2$ </span> \n",
        "    \n",
        "Including this term encourages gradient descent to minimize the size of the parameters. Note, in this example, the parameter $b$ is not regularized. This is standard practice.\n",
        "\n",
        "Below is an implementation of equations (1) and (2). Note that this uses a *standard pattern for this course*,   a `for loop` over all `m` examples."
      ],
      "metadata": {
        "id": "6Lx8fX2jkIut"
      }
    },
    {
      "cell_type": "code",
      "source": [
        "def compute_cost_linear_reg(X, y, w, b, lambda_ = 1):\n",
        "    \"\"\"\n",
        "    Computes the cost over all examples\n",
        "    Args:\n",
        "      X (ndarray (m,n): Data, m examples with n features\n",
        "      y (ndarray (m,)): target values\n",
        "      w (ndarray (n,)): model parameters  \n",
        "      b (scalar)      : model parameter\n",
        "      lambda_ (scalar): Controls amount of regularization\n",
        "    Returns:\n",
        "      total_cost (scalar):  cost \n",
        "    \"\"\"\n",
        "\n",
        "    m  = X.shape[0]\n",
        "    n  = len(w)\n",
        "    cost = 0.\n",
        "    for i in range(m):\n",
        "        f_wb_i = np.dot(X[i], w) + b                                   #(n,)(n,)=scalar, see np.dot\n",
        "        cost = cost + (f_wb_i - y[i])**2                               #scalar             \n",
        "    cost = cost / (2 * m)                                              #scalar  \n",
        " \n",
        "    reg_cost = 0\n",
        "    for j in range(n):\n",
        "        reg_cost += (w[j]**2)                                          #scalar\n",
        "    reg_cost = (lambda_/(2*m)) * reg_cost                              #scalar\n",
        "    \n",
        "    total_cost = cost + reg_cost                                       #scalar\n",
        "    return total_cost                                                  #scalar"
      ],
      "metadata": {
        "id": "sqnrczmxkaq1"
      },
      "execution_count": 23,
      "outputs": []
    },
    {
      "cell_type": "code",
      "source": [
        "np.random.seed(1)\n",
        "X_tmp = np.random.rand(5,6)\n",
        "y_tmp = np.array([0,1,0,1,0])\n",
        "w_tmp = np.random.rand(X_tmp.shape[1]).reshape(-1,)-0.5\n",
        "b_tmp = 0.5\n",
        "lambda_tmp = 0.7\n",
        "cost_tmp = compute_cost_linear_reg(X_tmp, y_tmp, w_tmp, b_tmp, lambda_tmp)\n",
        "\n",
        "print(\"Regularized cost:\", cost_tmp)"
      ],
      "metadata": {
        "colab": {
          "base_uri": "https://localhost:8080/"
        },
        "id": "ce52F7w_kcpV",
        "outputId": "002890e8-d372-475d-f3b5-beb7991678bc"
      },
      "execution_count": 24,
      "outputs": [
        {
          "output_type": "stream",
          "name": "stdout",
          "text": [
            "Regularized cost: 0.07917239320214277\n"
          ]
        }
      ]
    },
    {
      "cell_type": "markdown",
      "source": [
        "####  1.5.2.2 Cost function for regularized logistic regression\n",
        "For regularized **logistic** regression, the cost function is of the form\n",
        "$$J(\\mathbf{w},b) = \\frac{1}{m}  \\sum_{i=0}^{m-1} \\left[ -y^{(i)} \\log\\left(f_{\\mathbf{w},b}\\left( \\mathbf{x}^{(i)} \\right) \\right) - \\left( 1 - y^{(i)}\\right) \\log \\left( 1 - f_{\\mathbf{w},b}\\left( \\mathbf{x}^{(i)} \\right) \\right) \\right] + \\frac{\\lambda}{2m}  \\sum_{j=0}^{n-1} w_j^2 \\tag{3}$$\n",
        "where:\n",
        "$$ f_{\\mathbf{w},b}(\\mathbf{x}^{(i)}) = sigmoid(\\mathbf{w} \\cdot \\mathbf{x}^{(i)} + b)  \\tag{4} $$ \n",
        "\n",
        "Compare this to the cost function without regularization (which you implemented in  a previous lab):\n",
        "\n",
        "$$ J(\\mathbf{w},b) = \\frac{1}{m}\\sum_{i=0}^{m-1} \\left[ (-y^{(i)} \\log\\left(f_{\\mathbf{w},b}\\left( \\mathbf{x}^{(i)} \\right) \\right) - \\left( 1 - y^{(i)}\\right) \\log \\left( 1 - f_{\\mathbf{w},b}\\left( \\mathbf{x}^{(i)} \\right) \\right)\\right] $$\n",
        "\n",
        "As was the case in linear regression above, the difference is the regularization term, which is    <span style=\"color:blue\">\n",
        "    $\\frac{\\lambda}{2m}  \\sum_{j=0}^{n-1} w_j^2$ </span> \n",
        "\n",
        "Including this term encourages gradient descent to minimize the size of the parameters. Note, in this example, the parameter $b$ is not regularized. This is standard practice. "
      ],
      "metadata": {
        "id": "fennaJTqkg0S"
      }
    },
    {
      "cell_type": "code",
      "source": [
        "def compute_cost_logistic_reg(X, y, w, b, lambda_ = 1):\n",
        "    \"\"\"\n",
        "    Computes the cost over all examples\n",
        "    Args:\n",
        "    Args:\n",
        "      X (ndarray (m,n): Data, m examples with n features\n",
        "      y (ndarray (m,)): target values\n",
        "      w (ndarray (n,)): model parameters  \n",
        "      b (scalar)      : model parameter\n",
        "      lambda_ (scalar): Controls amount of regularization\n",
        "    Returns:\n",
        "      total_cost (scalar):  cost \n",
        "    \"\"\"\n",
        "\n",
        "    m,n  = X.shape\n",
        "    cost = 0.\n",
        "    for i in range(m):\n",
        "        z_i = np.dot(X[i], w) + b                                      #(n,)(n,)=scalar, see np.dot\n",
        "        f_wb_i = sigmoid(z_i)                                          #scalar\n",
        "        cost +=  -y[i]*np.log(f_wb_i) - (1-y[i])*np.log(1-f_wb_i)      #scalar\n",
        "             \n",
        "    cost = cost/m                                                      #scalar\n",
        "\n",
        "    reg_cost = 0\n",
        "    for j in range(n):\n",
        "        reg_cost += (w[j]**2)                                          #scalar\n",
        "    reg_cost = (lambda_/(2*m)) * reg_cost                              #scalar\n",
        "    \n",
        "    total_cost = cost + reg_cost                                       #scalar\n",
        "    return total_cost                                                  #scalar"
      ],
      "metadata": {
        "id": "23WijC58koCs"
      },
      "execution_count": 25,
      "outputs": []
    },
    {
      "cell_type": "code",
      "source": [
        "np.random.seed(1)\n",
        "X_tmp = np.random.rand(5,6)\n",
        "y_tmp = np.array([0,1,0,1,0])\n",
        "w_tmp = np.random.rand(X_tmp.shape[1]).reshape(-1,)-0.5\n",
        "b_tmp = 0.5\n",
        "lambda_tmp = 0.7\n",
        "cost_tmp = compute_cost_logistic_reg(X_tmp, y_tmp, w_tmp, b_tmp, lambda_tmp)\n",
        "\n",
        "print(\"Regularized cost:\", cost_tmp)"
      ],
      "metadata": {
        "colab": {
          "base_uri": "https://localhost:8080/"
        },
        "id": "GzcTmIh0kphO",
        "outputId": "d003f802-d848-4321-8675-c2bba15e26d8"
      },
      "execution_count": 26,
      "outputs": [
        {
          "output_type": "stream",
          "name": "stdout",
          "text": [
            "Regularized cost: 0.6850849138741673\n"
          ]
        }
      ]
    },
    {
      "cell_type": "markdown",
      "source": [
        "#### 1.5.2.3  Gradient descent with regularization\n",
        "\n",
        "The basic algorithm for running gradient descent does not change with regularization, it is:\n",
        "$$\\begin{align*}\n",
        "&\\text{repeat until convergence:} \\; \\lbrace \\\\\n",
        "&  \\; \\; \\;w_j = w_j -  \\alpha \\frac{\\partial J(\\mathbf{w},b)}{\\partial w_j} \\tag{1}  \\; & \\text{for j := 0..n-1} \\\\ \n",
        "&  \\; \\; \\;  \\; \\;b = b -  \\alpha \\frac{\\partial J(\\mathbf{w},b)}{\\partial b} \\\\\n",
        "&\\rbrace\n",
        "\\end{align*}$$\n",
        "Where each iteration performs simultaneous updates on $w_j$ for all $j$.\n",
        "\n",
        "What changes with regularization is computing the gradients.\n"
      ],
      "metadata": {
        "id": "R12cMO7jksnC"
      }
    },
    {
      "cell_type": "markdown",
      "source": [
        "Computing the Gradient with regularization (both linear/logistic)\n",
        "The gradient calculation for both linear and logistic regression are nearly identical, differing only in computation of $f_{\\mathbf{w}b}$.\n",
        "$$\\begin{align*}\n",
        "\\frac{\\partial J(\\mathbf{w},b)}{\\partial w_j}  &= \\frac{1}{m} \\sum\\limits_{i = 0}^{m-1} (f_{\\mathbf{w},b}(\\mathbf{x}^{(i)}) - y^{(i)})x_{j}^{(i)}  +  \\frac{\\lambda}{m} w_j \\tag{2} \\\\\n",
        "\\frac{\\partial J(\\mathbf{w},b)}{\\partial b}  &= \\frac{1}{m} \\sum\\limits_{i = 0}^{m-1} (f_{\\mathbf{w},b}(\\mathbf{x}^{(i)}) - y^{(i)}) \\tag{3} \n",
        "\\end{align*}$$\n",
        "\n",
        "* m is the number of training examples in the data set      \n",
        "* $f_{\\mathbf{w},b}(x^{(i)})$ is the model's prediction, while $y^{(i)}$ is the target\n",
        "\n",
        "      \n",
        "* For a  <span style=\"color:blue\"> **linear** </span> regression model  \n",
        "    $f_{\\mathbf{w},b}(x) = \\mathbf{w} \\cdot \\mathbf{x} + b$  \n",
        "* For a <span style=\"color:blue\"> **logistic** </span> regression model  \n",
        "    $z = \\mathbf{w} \\cdot \\mathbf{x} + b$  \n",
        "    $f_{\\mathbf{w},b}(x) = g(z)$  \n",
        "    where $g(z)$ is the sigmoid function:  \n",
        "    $g(z) = \\frac{1}{1+e^{-z}}$   \n",
        "    \n",
        "The term which adds regularization is  the <span style=\"color:blue\">$\\frac{\\lambda}{m} w_j $</span>."
      ],
      "metadata": {
        "id": "KE6XWIkjk06E"
      }
    },
    {
      "cell_type": "code",
      "source": [
        "def compute_gradient_linear_reg(X, y, w, b, lambda_): \n",
        "    \"\"\"\n",
        "    Computes the gradient for linear regression \n",
        "    Args:\n",
        "      X (ndarray (m,n): Data, m examples with n features\n",
        "      y (ndarray (m,)): target values\n",
        "      w (ndarray (n,)): model parameters  \n",
        "      b (scalar)      : model parameter\n",
        "      lambda_ (scalar): Controls amount of regularization\n",
        "      \n",
        "    Returns:\n",
        "      dj_dw (ndarray (n,)): The gradient of the cost w.r.t. the parameters w. \n",
        "      dj_db (scalar):       The gradient of the cost w.r.t. the parameter b. \n",
        "    \"\"\"\n",
        "    m,n = X.shape           #(number of examples, number of features)\n",
        "    dj_dw = np.zeros((n,))\n",
        "    dj_db = 0.\n",
        "\n",
        "    for i in range(m):                             \n",
        "        err = (np.dot(X[i], w) + b) - y[i]                 \n",
        "        for j in range(n):                         \n",
        "            dj_dw[j] = dj_dw[j] + err * X[i, j]               \n",
        "        dj_db = dj_db + err                        \n",
        "    dj_dw = dj_dw / m                                \n",
        "    dj_db = dj_db / m   \n",
        "    \n",
        "    for j in range(n):\n",
        "        dj_dw[j] = dj_dw[j] + (lambda_/m) * w[j]\n",
        "\n",
        "    return dj_db, dj_dw"
      ],
      "metadata": {
        "id": "bbX6DqZlk5Nu"
      },
      "execution_count": 27,
      "outputs": []
    },
    {
      "cell_type": "code",
      "source": [
        "np.random.seed(1)\n",
        "X_tmp = np.random.rand(5,3)\n",
        "y_tmp = np.array([0,1,0,1,0])\n",
        "w_tmp = np.random.rand(X_tmp.shape[1])\n",
        "b_tmp = 0.5\n",
        "lambda_tmp = 0.7\n",
        "dj_db_tmp, dj_dw_tmp =  compute_gradient_linear_reg(X_tmp, y_tmp, w_tmp, b_tmp, lambda_tmp)\n",
        "\n",
        "print(f\"dj_db: {dj_db_tmp}\", )\n",
        "print(f\"Regularized dj_dw:\\n {dj_dw_tmp.tolist()}\", )"
      ],
      "metadata": {
        "colab": {
          "base_uri": "https://localhost:8080/"
        },
        "id": "DBsv-gA_k7MM",
        "outputId": "349ef189-53e5-4d01-e826-47e3abefa7b6"
      },
      "execution_count": 28,
      "outputs": [
        {
          "output_type": "stream",
          "name": "stdout",
          "text": [
            "dj_db: 0.6648774569425726\n",
            "Regularized dj_dw:\n",
            " [0.29653214748822276, 0.4911679625918033, 0.21645877535865857]\n"
          ]
        }
      ]
    },
    {
      "cell_type": "code",
      "source": [
        "def compute_gradient_logistic_reg(X, y, w, b, lambda_): \n",
        "    \"\"\"\n",
        "    Computes the gradient for linear regression \n",
        " \n",
        "    Args:\n",
        "      X (ndarray (m,n): Data, m examples with n features\n",
        "      y (ndarray (m,)): target values\n",
        "      w (ndarray (n,)): model parameters  \n",
        "      b (scalar)      : model parameter\n",
        "      lambda_ (scalar): Controls amount of regularization\n",
        "    Returns\n",
        "      dj_dw (ndarray Shape (n,)): The gradient of the cost w.r.t. the parameters w. \n",
        "      dj_db (scalar)            : The gradient of the cost w.r.t. the parameter b. \n",
        "    \"\"\"\n",
        "    m,n = X.shape\n",
        "    dj_dw = np.zeros((n,))                            #(n,)\n",
        "    dj_db = 0.0                                       #scalar\n",
        "\n",
        "    for i in range(m):\n",
        "        f_wb_i = sigmoid(np.dot(X[i],w) + b)          #(n,)(n,)=scalar\n",
        "        err_i  = f_wb_i  - y[i]                       #scalar\n",
        "        for j in range(n):\n",
        "            dj_dw[j] = dj_dw[j] + err_i * X[i,j]      #scalar\n",
        "        dj_db = dj_db + err_i\n",
        "    dj_dw = dj_dw/m                                   #(n,)\n",
        "    dj_db = dj_db/m                                   #scalar\n",
        "\n",
        "    for j in range(n):\n",
        "        dj_dw[j] = dj_dw[j] + (lambda_/m) * w[j]\n",
        "\n",
        "    return dj_db, dj_dw  \n"
      ],
      "metadata": {
        "id": "UQmM2nEIk9RE"
      },
      "execution_count": 29,
      "outputs": []
    },
    {
      "cell_type": "code",
      "source": [
        "np.random.seed(1)\n",
        "X_tmp = np.random.rand(5,3)\n",
        "y_tmp = np.array([0,1,0,1,0])\n",
        "w_tmp = np.random.rand(X_tmp.shape[1])\n",
        "b_tmp = 0.5\n",
        "lambda_tmp = 0.7\n",
        "dj_db_tmp, dj_dw_tmp =  compute_gradient_logistic_reg(X_tmp, y_tmp, w_tmp, b_tmp, lambda_tmp)\n",
        "\n",
        "print(f\"dj_db: {dj_db_tmp}\", )\n",
        "print(f\"Regularized dj_dw:\\n {dj_dw_tmp.tolist()}\", )"
      ],
      "metadata": {
        "colab": {
          "base_uri": "https://localhost:8080/"
        },
        "id": "UgD0p6J8k_YY",
        "outputId": "1931aba5-df0a-468e-f313-4b36c274adfc"
      },
      "execution_count": 30,
      "outputs": [
        {
          "output_type": "stream",
          "name": "stdout",
          "text": [
            "dj_db: 0.341798994972791\n",
            "Regularized dj_dw:\n",
            " [0.17380012933994293, 0.32007507881566943, 0.10776313396851499]\n"
          ]
        }
      ]
    },
    {
      "cell_type": "markdown",
      "source": [
        "# 2. Advanced Learning Algorithms "
      ],
      "metadata": {
        "id": "7Q92uhj97baS"
      }
    },
    {
      "cell_type": "markdown",
      "source": [
        "\n",
        "## 2.1 Neural Networks"
      ],
      "metadata": {
        "id": "lyAjqA1N7f8L"
      }
    },
    {
      "cell_type": "markdown",
      "source": [
        "### 2.1.1 Activation of a Nuron"
      ],
      "metadata": {
        "id": "mfaenCvot_OC"
      }
    },
    {
      "cell_type": "markdown",
      "source": [
        "**Inputs :** <br> \n",
        " > $\\mathbf{X} = \\begin{bmatrix} x_{1}^{(1)} & x_{1}^{(2)} & \\ldots & x_{1}^{(k)} \\\\ x_{2}^{(1)} & x_{2}^{(2)} & \\ldots & x_{2}^{(k)} \\\\ \\vdots & \\vdots & \\ddots & \\vdots \\\\ x_{n}^{(1)} & x_{n}^{(2)} & \\ldots & x_{n}^{(k)} \\\\ \\end{bmatrix}$\n",
        "\n",
        "**Weights:** <br>\n",
        "> $\\mathbf{W} = \\begin{bmatrix} w_{1,1} & w_{1,2} & \\ldots & w_{1,n} \\\\ w_{2,1} & w_{2,2} & \\ldots & w_{2,n} \\\\ \\vdots & \\vdots & \\ddots & \\vdots \\\\ w_{m,1} & w_{m,2} & \\ldots & w_{m,n} \\\\ \\end{bmatrix}$\n",
        "\n",
        "**Weighted Sum:** <br>\n",
        "> $\\mathbf{Z} = \\mathbf{W} \\cdot \\mathbf{X} + \\mathbf{b}$\n",
        "\n",
        "**Activation Function:**\n",
        "\n",
        "> $\\mathbf{A} = f_{(Z)}$\n",
        "\n",
        "**The vectorized sigmoid function:**<br>\n",
        "\n",
        "> $\\sigma_{(Z)} = \\frac{1}{1 + e^{ - Z}}$"
      ],
      "metadata": {
        "id": "h_j7kOs47jIL"
      }
    },
    {
      "cell_type": "markdown",
      "source": [
        "### 2.1.2 Standard Notations and Representations"
      ],
      "metadata": {
        "id": "luAkYLXuFldu"
      }
    },
    {
      "cell_type": "markdown",
      "source": [
        "Consider a simple neural network with $n$ layers, where each layer may have a different number of neurons.\n",
        "\n",
        "> $ \\begin{array}{cccc} \\text{Input Layer} & \\text{Hidden Layer 1} & \\text{Hidden layer 2} & \\text{Output Layer} \\\\ (n1 \\times 1) & (n2 \\times 1) & (n3 \\times 1) & (n4 \\times 1) \\\\ \\begin{bmatrix} \\text{Neuron 1} \\\\ \\text{Neuron 2} \\\\  \\vdots \\\\ \\text{Neuron n1} \\end{bmatrix} & \\begin{bmatrix} \\text{Neuron 1} \\\\ \\text{Neuron 2} \\\\ \\vdots \\\\ \\text{Neuron n2} \\end{bmatrix} & \\begin{bmatrix} \\text{Neuron 1} \\\\ \\text{Neuron 2} \\\\ \\vdots \\\\ \\text{Neuron n3} \\end{bmatrix} & \\begin{bmatrix} \\text{Neuron 1} \\\\ \\text{Neuron 2} \\\\ \\vdots \\\\ \\text{Neuron n4} \\end{bmatrix} \\end{array} $  \n",
        "\n",
        "**Matrix Notation:**\n",
        "\n",
        "**Input Layer:** <br>\n",
        "\n",
        "> $X^{(1)} = \\begin{bmatrix} x_{1}^{(1)} \\\\ x_{2}^{(1)} \\\\ \\vdots \\\\ x_{m}^{(1)} \\end{bmatrix} $\n",
        "\n",
        "**Hidden Layers** **(Layer 2 to Layer n-1):** <br> <br>\n",
        "\n",
        "For each hidden layer $i$ from 2 to $n-1$:\n",
        "\n",
        "> $ \\mathbf{W}^{(i)} = \\begin{bmatrix} w_{1,1}^{(i)} & w_{1,2}^{(i)} & \\ldots & w_{1,p_i}^{(i)} \\\\ w_{2,1}^{(i)} & w_{2,2}^{(i)} & \\ldots & w_{2,p_i}^{(i)} \\\\ \\vdots & \\vdots & \\ddots & \\vdots \\\\ w_{p_{i+1},1}^{(i)} & w_{p_{i+1},2}^{(i)} & \\ldots & w_{p_{i+1},p_i}^{(i)} \\\\ \\end{bmatrix} $\n",
        "<br><br>\n",
        "> $\\mathbf{Z}^{(i)} = \\mathbf{W}^{(i)} \\cdot \\mathbf{A}^{(i-1)} + \\mathbf{b}^{(i)}$\n",
        "<br> <br>\n",
        "> $\\mathbf{A}^{(i)} = g(\\mathbf{Z}^{(i)})$\n",
        "<br>\n",
        "\n",
        "**Output Layer (Layer n):** <br><br>\n",
        "\n",
        "> $W^{(n)} = \\begin{bmatrix} w_{1,1}^{(n)} & w_{1,2}^{(n)} & \\ldots & w_{1,p_n}^{(n)} \\end{bmatrix} $ <br>\n",
        "\n",
        "> $\\mathbf{Z}^{(n)} = \\mathbf{W}^{(n)} \\cdot \\mathbf{A}^{(n-1)} + \\mathbf{b}^{(n)} $ <br>\n",
        "> $\\mathbf{A}^{(n)} = g(\\mathbf{Z}^{(n)})$\n",
        "\n",
        "\n",
        "In these equations, $\\mathbf{X}^{(1)}$ represents the input column vector of shape $(m, 1)$, $\\mathbf{W}^{(i)}$ represents the weight matrix of shape $(p_i, p_{i-1})$ for the $i$ th hidden layer, $\\mathbf{Z}^{(i)}$ represents the weighted sum column vector of shape $(p_i, 1)$ for the $i$ th hidden layer, $\\mathbf{A}^{(i)}$ represents the output column vector of shape $(p_i, 1)$ for the $i$ th hidden layer after applying the activation function $g(\\cdot)$, and $\\mathbf{W}^{(n)}$ represents the weight matrix of shape $(1, p_n)$ for the output layer. Finally, $\\mathbf{Z}^{(n)}$ represents the weighted sum column vector of shape $(1, 1)$ for the output layer, and $\\mathbf{A}^{(n)}$ represents the final output column vector of shape $(1, 1)$ after applying the activation function $g(\\cdot)$."
      ],
      "metadata": {
        "id": "-25Mf_kHuL98"
      }
    },
    {
      "cell_type": "markdown",
      "source": [
        "Consider $j^{th}$ neuron of the $$l^{th}$ layer of a neuron netwok, <br>\n",
        "> $a_j^{[l]}\\ = \\ g( \\overrightarrow{w_j}^{[l]} \\ \\dot \\ \\  \\overrightarrow{a}^{[l-1]} + b_j^{[l]})$"
      ],
      "metadata": {
        "id": "_5B61e2b1Dyz"
      }
    },
    {
      "cell_type": "markdown",
      "source": [
        "## 2.2 TensorFlow implementations\n"
      ],
      "metadata": {
        "id": "MSLH-8gJ2ZwE"
      }
    },
    {
      "cell_type": "markdown",
      "source": [
        "### 2.2.1 Numpy Arrays for TensorFlow"
      ],
      "metadata": {
        "id": "qHRoj2HLM3CH"
      }
    },
    {
      "cell_type": "markdown",
      "source": [
        "**Importing Libraries :**"
      ],
      "metadata": {
        "id": "AKvS5h08Nh_4"
      }
    },
    {
      "cell_type": "code",
      "source": [
        "import numpy as np\n",
        "import tensorflow as tf"
      ],
      "metadata": {
        "id": "UAi8KA9yNnOb"
      },
      "execution_count": 31,
      "outputs": []
    },
    {
      "cell_type": "markdown",
      "source": [
        "1. Create a 1-dimensional array:"
      ],
      "metadata": {
        "id": "t_mil95UNqWy"
      }
    },
    {
      "cell_type": "code",
      "source": [
        "a = np.array([1, 2, 3, 4, 5])\n",
        "print(a)"
      ],
      "metadata": {
        "colab": {
          "base_uri": "https://localhost:8080/"
        },
        "id": "TLVEuwgDNtTy",
        "outputId": "5bcaece5-4ea2-4cc7-e30b-4cc080a07990"
      },
      "execution_count": 32,
      "outputs": [
        {
          "output_type": "stream",
          "name": "stdout",
          "text": [
            "[1 2 3 4 5]\n"
          ]
        }
      ]
    },
    {
      "cell_type": "markdown",
      "source": [
        "2. Create a 2-dimensional array:"
      ],
      "metadata": {
        "id": "wCRXbd1qN0eR"
      }
    },
    {
      "cell_type": "code",
      "source": [
        "a = np.array([[1, 2, 3, 4, 5]])\n",
        "print(a)"
      ],
      "metadata": {
        "colab": {
          "base_uri": "https://localhost:8080/"
        },
        "id": "gGT465lQN7eE",
        "outputId": "b8ccd912-0089-4406-d968-6d062977415a"
      },
      "execution_count": 33,
      "outputs": [
        {
          "output_type": "stream",
          "name": "stdout",
          "text": [
            "[[1 2 3 4 5]]\n"
          ]
        }
      ]
    },
    {
      "cell_type": "code",
      "source": [
        "b = np.array([[1, 2, 3], [4, 5, 6]])\n",
        "print(b)"
      ],
      "metadata": {
        "colab": {
          "base_uri": "https://localhost:8080/"
        },
        "id": "wrXd_cb6N2-d",
        "outputId": "a49c0413-73db-4a0d-8c97-1c43e1e30d4f"
      },
      "execution_count": 34,
      "outputs": [
        {
          "output_type": "stream",
          "name": "stdout",
          "text": [
            "[[1 2 3]\n",
            " [4 5 6]]\n"
          ]
        }
      ]
    },
    {
      "cell_type": "markdown",
      "source": [
        "3. Create an array of zeros with a specific shape:"
      ],
      "metadata": {
        "id": "EyGIcUyQOHaR"
      }
    },
    {
      "cell_type": "code",
      "source": [
        "c = np.zeros((3, 4))\n",
        "print(c)"
      ],
      "metadata": {
        "colab": {
          "base_uri": "https://localhost:8080/"
        },
        "id": "aIx-AIBMOIgj",
        "outputId": "f20e8c53-e396-4332-a8a1-4dca3a912639"
      },
      "execution_count": 35,
      "outputs": [
        {
          "output_type": "stream",
          "name": "stdout",
          "text": [
            "[[0. 0. 0. 0.]\n",
            " [0. 0. 0. 0.]\n",
            " [0. 0. 0. 0.]]\n"
          ]
        }
      ]
    },
    {
      "cell_type": "markdown",
      "source": [
        "4. Create an array of ones with a specific shape:"
      ],
      "metadata": {
        "id": "HXDA4QWeOK6A"
      }
    },
    {
      "cell_type": "code",
      "source": [
        "d = np.ones((2, 3))\n",
        "print(d)"
      ],
      "metadata": {
        "colab": {
          "base_uri": "https://localhost:8080/"
        },
        "id": "QEu4YUlLONrb",
        "outputId": "ab096336-9bc7-49e7-e334-3a83ecf9932b"
      },
      "execution_count": 36,
      "outputs": [
        {
          "output_type": "stream",
          "name": "stdout",
          "text": [
            "[[1. 1. 1.]\n",
            " [1. 1. 1.]]\n"
          ]
        }
      ]
    },
    {
      "cell_type": "markdown",
      "source": [
        "5. Row matrix"
      ],
      "metadata": {
        "id": "D-zW8ef1OgnM"
      }
    },
    {
      "cell_type": "code",
      "source": [
        "row_matrix = np.array([[1, 2, 3, 4]])\n",
        "print(row_matrix)"
      ],
      "metadata": {
        "colab": {
          "base_uri": "https://localhost:8080/"
        },
        "id": "9DHcur0xOjt4",
        "outputId": "f9c888b7-b3c2-467d-955d-87dbb108e8a1"
      },
      "execution_count": 37,
      "outputs": [
        {
          "output_type": "stream",
          "name": "stdout",
          "text": [
            "[[1 2 3 4]]\n"
          ]
        }
      ]
    },
    {
      "cell_type": "markdown",
      "source": [
        "6. Column Matrix:"
      ],
      "metadata": {
        "id": "13PrSqUJOnPG"
      }
    },
    {
      "cell_type": "code",
      "source": [
        "column_matrix = np.array([[1], [2], [3], [4]])\n",
        "print(column_matrix)"
      ],
      "metadata": {
        "colab": {
          "base_uri": "https://localhost:8080/"
        },
        "id": "-lswM0DpOoys",
        "outputId": "217f0558-279e-45ac-9fd3-bd2e2748464c"
      },
      "execution_count": 38,
      "outputs": [
        {
          "output_type": "stream",
          "name": "stdout",
          "text": [
            "[[1]\n",
            " [2]\n",
            " [3]\n",
            " [4]]\n"
          ]
        }
      ]
    },
    {
      "cell_type": "markdown",
      "source": [
        "### 2.2.2 Coffe Roasting "
      ],
      "metadata": {
        "id": "qrWrArQcRpHV"
      }
    },
    {
      "cell_type": "markdown",
      "source": [
        "A simple neural network using TensorFlow and Keras to identify whether coffee beans are roasted or not based on temperature and time features."
      ],
      "metadata": {
        "id": "PGVivQgdR-mT"
      }
    },
    {
      "cell_type": "code",
      "source": [
        "# First, import the necessary libraries: TensorFlow, Keras, and NumPy.\n",
        "import tensorflow as tf\n",
        "from tensorflow import keras\n",
        "import numpy as np\n",
        "\n",
        "'''\n",
        "A sample dataset containing the features (temperature and time) and\n",
        "corresponding labels (whether the coffee beans are roasted or not).\n",
        "'''\n",
        "# Input features (temperature and time)\n",
        "\n",
        "features = np.array([[185.32, 12.69], [259.92, 11.87], [231.01, 14.41], [175.37, 11.72], [187.12, 14.13],\n",
        "        [225.91, 12.1], [208.41, 14.18], [207.08, 14.03], [280.6, 14.23], [202.87, 12.25],\n",
        "        [196.7, 13.54], [270.31, 14.6], [192.95, 15.2], [213.57, 14.28], [164.47, 11.92],\n",
        "        [177.26, 15.04], [241.77, 14.9], [237.0, 13.13], [219.74, 13.87], [266.39, 13.25],\n",
        "        [270.45, 13.95], [261.96, 13.49], [243.49, 12.86], [220.58, 12.36], [163.59, 11.65],\n",
        "        [244.76, 13.33], [271.19, 14.84], [201.99, 15.39], [229.93, 14.56], [204.97, 12.28],\n",
        "        [173.19, 12.22], [231.51, 11.95], [152.69, 14.83], [163.42, 13.3], [215.95, 13.98],\n",
        "        [218.04, 15.25], [251.3, 13.8], [233.33, 13.53], [280.24, 12.41], [243.02, 13.72],\n",
        "        [155.67, 12.68], [275.17, 14.64], [151.73, 12.69], [151.32, 14.81], [164.9, 11.73],\n",
        "        [282.55, 13.28], [192.98, 11.7], [202.6, 12.96], [220.67, 11.53], [169.97, 12.34],\n",
        "        [209.47, 12.71], [232.8, 12.64], [272.8, 15.35], [158.02, 12.34], [226.01, 14.58],\n",
        "        [158.64, 12.24], [211.66, 14.17], [271.95, 14.97], [257.16, 11.71], [281.85, 13.96],\n",
        "        [161.63, 12.52], [233.8, 13.04], [210.29, 14.72], [261.24, 13.69], [256.98, 13.12],\n",
        "        [281.56, 13.92], [280.64, 11.68], [269.16, 13.74], [246.34, 12.27], [224.07, 12.66],\n",
        "        [164.24, 11.51], [272.42, 14.18], [177.68, 12.53], [212.86, 14.77], [165.88, 15.37],\n",
        "        [277.43, 12.48], [236.51, 12.94], [244.14, 11.85], [213.45, 13.85], [234.57, 14.27],\n",
        "        [270.34, 12.47], [170.68, 13.06], [226.79, 15.34], [245.92, 14.45], [281.32, 12.57],\n",
        "        [185.03, 13.19], [189.88, 14.1], [278.48, 12.11], [219.92, 14.21], [216.58, 15.15],\n",
        "        [249.48, 15.03], [165.09, 12.28], [158.87, 14.82], [279.98, 11.56], [256.55, 14.41],\n",
        "        [272.61, 12.58], [246.49, 12.45], [160.26, 14.48], [155.7, 14.3], [188.27, 13.45],\n",
        "        [270.36, 12.47], [213.22, 12.92], [175.7, 13.39], [174.52, 14.7], [233.0, 12.63],\n",
        "        [281.37, 12.88], [240.62, 14.43], [185.81, 11.55], [270.5, 15.33], [172.98, 12.11],\n",
        "        [208.41, 13.89], [283.51, 15.35], [283.36, 12.48], [230.85, 13.24], [181.24, 11.76],\n",
        "        [172.78, 12.93], [161.88, 12.1], [156.03, 13.99], [216.52, 12.47], [221.06, 13.2],\n",
        "        [238.99, 15.23], [197.69, 14.08], [179.55, 15.26], [233.39, 12.13], [184.7, 12.14],\n",
        "        [174.18, 12.73], [261.11, 13.33], [187.42, 13.18], [186.1, 14.43], [157.94, 12.66],\n",
        "        [193.64, 12.23], [249.65, 12.22], [190.56, 11.73], [252.0, 12.96], [238.55, 12.37],\n",
        "        [152.94, 12.79], [255.17, 14.85], [197.09, 14.89], [156.8, 13.59], [184.75, 13.26],\n",
        "        [179.92, 15.07], [190.79, 15.28], [164.73, 13.22], [209.87, 14.34], [196.58, 13.47],\n",
        "        [159.51, 12.74], [247.87, 11.92], [212.44, 12.45], [172.34, 11.99], [259.87, 14.25],\n",
        "        [201.23, 13.07], [248.34, 13.92], [273.66, 15.18], [215.09, 14.14], [223.53, 12.74],\n",
        "        [211.22, 14.38], [224.61, 14.03], [215.75, 15.31], [254.82, 12.02], [259.9, 15.17],\n",
        "        [260.25, 12.87], [199.67, 12.47], [157.52, 13.39], [264.81, 14.58], [239.4, 14.89],\n",
        "        [238.98, 12.39], [258.43, 12.97], [270.16, 12.81], [162.41, 14.42], [164.53, 14.98],\n",
        "        [205.61, 14.62], [157.1, 13.68], [241.38, 12.02], [232.13, 12.07], [191.04, 12.96],\n",
        "        [233.64, 12.02], [174.95, 14.63], [246.64, 13.32], [188.07, 14.27], [213.16, 12.75],\n",
        "        [268.08, 12.31], [258.58, 13.97], [237.21, 14.23], [251.02, 15.02], [274.28, 12.52],\n",
        "        [172.12, 15.09], [177.52, 12.39], [258.71, 15.36], [264.01, 13.57], [200.71, 15.45],\n",
        "        [249.37, 14.02], [151.5, 12.28], [151.82, 15.13], [181.92, 12.18], [228.65, 12.31],\n",
        "        [223.78, 15.3], [266.63, 12.48], [273.68, 13.1], [220.61, 12.8], [284.99, 12.73]])\n",
        "features = features.reshape((200,2))\n",
        "# Output labels (roasted or not roasted)\n",
        "labels = np.array([1., 0., 0., 0., 1., 1., 0., 0., 0., 1., 1., 0., 0., 0., 0., 0., 0., 0., 0., 0.,\n",
        "        0., 0., 1., 0., 0., 0., 0., 0., 1., 0., 0., 0., 0., 0., 0., 0., 0., 0., 0.,\n",
        "        0., 0., 0., 0., 0., 0., 0., 0., 0., 1., 0., 0., 1., 1., 0., 0., 0., 0., 0.,\n",
        "        0., 0., 0., 0., 0., 0., 0., 0., 0., 0., 1., 1., 0., 0., 1., 0., 0., 0., 0.,\n",
        "        0., 0., 0., 0., 0., 0., 0., 0., 0., 1., 1., 0., 0., 0., 0., 0., 0., 0., 0.,\n",
        "        0., 0., 0., 0., 1., 0., 1., 1., 0., 1., 0., 0., 0., 0., 0., 0., 0., 0., 0.,\n",
        "        0., 0., 0., 1., 1., 0., 0., 0., 1., 1., 0., 0., 1., 0., 0., 1., 0., 0., 0.,\n",
        "        1., 0., 0., 0., 0., 1., 0., 0., 0., 0., 1., 0., 0., 1., 0., 0., 1., 0., 0.,\n",
        "        0., 1., 0., 0., 0., 0., 0., 0., 1., 0., 0., 0., 1., 0., 0., 0., 0., 0., 0.,\n",
        "        1., 1., 1., 1., 0., 0., 1., 1., 0., 0., 0., 0., 0., 0., 1., 0., 0., 0., 0.,\n",
        "        0., 0., 1., 1., 0., 0., 0., 1., 0.])\n",
        "\n"
      ],
      "metadata": {
        "id": "eXYP30RxUQvx"
      },
      "execution_count": 86,
      "outputs": []
    },
    {
      "cell_type": "code",
      "source": [
        "\n",
        "'''\n",
        "Before training the neural network, its better to preprocess the data. \n",
        "In this case, normalize the feature values to a range between 0 and 1.\n",
        "'''\n",
        "# Normalize feature values\n",
        "features = features / np.amax(features, axis=0)\n",
        "\n",
        "'''\n",
        "Build the neural network model using Keras. For simplicity,\n",
        "create a basic feedforward network with two dense layers.\n",
        "\n",
        "In this example, there are two input features (temperature and time),\n",
        "so the input shape for the first layer is (2,). \n",
        "The first dense layer consists of 10 neurons with the sigmoid activation function, \n",
        "and the final dense layer has 1 neuron with the sigmoid activation \n",
        "function to produce a binary output.\n",
        "'''\n",
        "\n",
        "model = keras.Sequential([\n",
        "    keras.layers.Dense(10, input_shape=(2,), activation='sigmoid',name = 'layer1'),\n",
        "    keras.layers.Dense(1, activation='sigmoid',name = 'layer2')\n",
        "])\n",
        "\n",
        "#Compile and train the model using the dataset.\n",
        "model.compile(optimizer='adam', loss='binary_crossentropy', metrics=['accuracy'])\n",
        "\n",
        "model.fit(features, labels, epochs=50)"
      ],
      "metadata": {
        "colab": {
          "base_uri": "https://localhost:8080/"
        },
        "id": "XZGOJ2UyR1Ek",
        "outputId": "221ce423-b587-4cad-ea89-3feedecec33f"
      },
      "execution_count": 101,
      "outputs": [
        {
          "output_type": "stream",
          "name": "stdout",
          "text": [
            "Epoch 1/50\n",
            "7/7 [==============================] - 1s 3ms/step - loss: 0.6982 - accuracy: 0.2150\n",
            "Epoch 2/50\n",
            "7/7 [==============================] - 0s 4ms/step - loss: 0.6913 - accuracy: 0.6600\n",
            "Epoch 3/50\n",
            "7/7 [==============================] - 0s 3ms/step - loss: 0.6842 - accuracy: 0.7850\n",
            "Epoch 4/50\n",
            "7/7 [==============================] - 0s 3ms/step - loss: 0.6775 - accuracy: 0.7850\n",
            "Epoch 5/50\n",
            "7/7 [==============================] - 0s 3ms/step - loss: 0.6709 - accuracy: 0.7850\n",
            "Epoch 6/50\n",
            "7/7 [==============================] - 0s 3ms/step - loss: 0.6648 - accuracy: 0.7850\n",
            "Epoch 7/50\n",
            "7/7 [==============================] - 0s 3ms/step - loss: 0.6581 - accuracy: 0.7850\n",
            "Epoch 8/50\n",
            "7/7 [==============================] - 0s 4ms/step - loss: 0.6524 - accuracy: 0.7850\n",
            "Epoch 9/50\n",
            "7/7 [==============================] - 0s 4ms/step - loss: 0.6468 - accuracy: 0.7850\n",
            "Epoch 10/50\n",
            "7/7 [==============================] - 0s 3ms/step - loss: 0.6410 - accuracy: 0.7850\n",
            "Epoch 11/50\n",
            "7/7 [==============================] - 0s 3ms/step - loss: 0.6357 - accuracy: 0.7850\n",
            "Epoch 12/50\n",
            "7/7 [==============================] - 0s 3ms/step - loss: 0.6302 - accuracy: 0.7850\n",
            "Epoch 13/50\n",
            "7/7 [==============================] - 0s 3ms/step - loss: 0.6255 - accuracy: 0.7850\n",
            "Epoch 14/50\n",
            "7/7 [==============================] - 0s 3ms/step - loss: 0.6207 - accuracy: 0.7850\n",
            "Epoch 15/50\n",
            "7/7 [==============================] - 0s 3ms/step - loss: 0.6160 - accuracy: 0.7850\n",
            "Epoch 16/50\n",
            "7/7 [==============================] - 0s 3ms/step - loss: 0.6118 - accuracy: 0.7850\n",
            "Epoch 17/50\n",
            "7/7 [==============================] - 0s 3ms/step - loss: 0.6070 - accuracy: 0.7850\n",
            "Epoch 18/50\n",
            "7/7 [==============================] - 0s 5ms/step - loss: 0.6034 - accuracy: 0.7850\n",
            "Epoch 19/50\n",
            "7/7 [==============================] - 0s 3ms/step - loss: 0.5993 - accuracy: 0.7850\n",
            "Epoch 20/50\n",
            "7/7 [==============================] - 0s 3ms/step - loss: 0.5956 - accuracy: 0.7850\n",
            "Epoch 21/50\n",
            "7/7 [==============================] - 0s 3ms/step - loss: 0.5918 - accuracy: 0.7850\n",
            "Epoch 22/50\n",
            "7/7 [==============================] - 0s 3ms/step - loss: 0.5890 - accuracy: 0.7850\n",
            "Epoch 23/50\n",
            "7/7 [==============================] - 0s 3ms/step - loss: 0.5852 - accuracy: 0.7850\n",
            "Epoch 24/50\n",
            "7/7 [==============================] - 0s 3ms/step - loss: 0.5818 - accuracy: 0.7850\n",
            "Epoch 25/50\n",
            "7/7 [==============================] - 0s 4ms/step - loss: 0.5786 - accuracy: 0.7850\n",
            "Epoch 26/50\n",
            "7/7 [==============================] - 0s 4ms/step - loss: 0.5758 - accuracy: 0.7850\n",
            "Epoch 27/50\n",
            "7/7 [==============================] - 0s 3ms/step - loss: 0.5727 - accuracy: 0.7850\n",
            "Epoch 28/50\n",
            "7/7 [==============================] - 0s 3ms/step - loss: 0.5699 - accuracy: 0.7850\n",
            "Epoch 29/50\n",
            "7/7 [==============================] - 0s 3ms/step - loss: 0.5674 - accuracy: 0.7850\n",
            "Epoch 30/50\n",
            "7/7 [==============================] - 0s 3ms/step - loss: 0.5651 - accuracy: 0.7850\n",
            "Epoch 31/50\n",
            "7/7 [==============================] - 0s 3ms/step - loss: 0.5628 - accuracy: 0.7850\n",
            "Epoch 32/50\n",
            "7/7 [==============================] - 0s 3ms/step - loss: 0.5608 - accuracy: 0.7850\n",
            "Epoch 33/50\n",
            "7/7 [==============================] - 0s 3ms/step - loss: 0.5590 - accuracy: 0.7850\n",
            "Epoch 34/50\n",
            "7/7 [==============================] - 0s 3ms/step - loss: 0.5569 - accuracy: 0.7850\n",
            "Epoch 35/50\n",
            "7/7 [==============================] - 0s 3ms/step - loss: 0.5549 - accuracy: 0.7850\n",
            "Epoch 36/50\n",
            "7/7 [==============================] - 0s 3ms/step - loss: 0.5531 - accuracy: 0.7850\n",
            "Epoch 37/50\n",
            "7/7 [==============================] - 0s 3ms/step - loss: 0.5512 - accuracy: 0.7850\n",
            "Epoch 38/50\n",
            "7/7 [==============================] - 0s 3ms/step - loss: 0.5492 - accuracy: 0.7850\n",
            "Epoch 39/50\n",
            "7/7 [==============================] - 0s 3ms/step - loss: 0.5474 - accuracy: 0.7850\n",
            "Epoch 40/50\n",
            "7/7 [==============================] - 0s 3ms/step - loss: 0.5458 - accuracy: 0.7850\n",
            "Epoch 41/50\n",
            "7/7 [==============================] - 0s 4ms/step - loss: 0.5443 - accuracy: 0.7850\n",
            "Epoch 42/50\n",
            "7/7 [==============================] - 0s 3ms/step - loss: 0.5429 - accuracy: 0.7850\n",
            "Epoch 43/50\n",
            "7/7 [==============================] - 0s 3ms/step - loss: 0.5413 - accuracy: 0.7850\n",
            "Epoch 44/50\n",
            "7/7 [==============================] - 0s 3ms/step - loss: 0.5399 - accuracy: 0.7850\n",
            "Epoch 45/50\n",
            "7/7 [==============================] - 0s 4ms/step - loss: 0.5388 - accuracy: 0.7850\n",
            "Epoch 46/50\n",
            "7/7 [==============================] - 0s 3ms/step - loss: 0.5376 - accuracy: 0.7850\n",
            "Epoch 47/50\n",
            "7/7 [==============================] - 0s 3ms/step - loss: 0.5367 - accuracy: 0.7850\n",
            "Epoch 48/50\n",
            "7/7 [==============================] - 0s 3ms/step - loss: 0.5354 - accuracy: 0.7850\n",
            "Epoch 49/50\n",
            "7/7 [==============================] - 0s 3ms/step - loss: 0.5345 - accuracy: 0.7850\n",
            "Epoch 50/50\n",
            "7/7 [==============================] - 0s 3ms/step - loss: 0.5335 - accuracy: 0.7850\n"
          ]
        },
        {
          "output_type": "execute_result",
          "data": {
            "text/plain": [
              "<keras.callbacks.History at 0x7f0c8c8ccf40>"
            ]
          },
          "metadata": {},
          "execution_count": 101
        }
      ]
    },
    {
      "cell_type": "code",
      "source": [
        "#Make predictions using the trained model on new, unseen data.\n",
        "new_data = np.array([[200, 13.9], [200, 17]])\n",
        "\n",
        "# Normalize new data\n",
        "new_data = new_data / np.amax(features, axis=0)\n",
        "\n",
        "# Make predictions\n",
        "predictions = model.predict(new_data)\n",
        "print(predictions)\n"
      ],
      "metadata": {
        "colab": {
          "base_uri": "https://localhost:8080/"
        },
        "id": "YJS6m96TTVyb",
        "outputId": "e2f0b330-faac-44a4-c3d3-00a20d079e9f"
      },
      "execution_count": 102,
      "outputs": [
        {
          "output_type": "stream",
          "name": "stdout",
          "text": [
            "1/1 [==============================] - 0s 52ms/step\n",
            "[[0.25]\n",
            " [0.25]]\n"
          ]
        }
      ]
    },
    {
      "cell_type": "code",
      "source": [
        "yhat = np.zeros_like(predictions)\n",
        "for i in range(len(predictions)):\n",
        "    if predictions[i] >= 0.5:\n",
        "        yhat[i] = 1\n",
        "    else:\n",
        "        yhat[i] = 0\n",
        "print(f\"decisions = \\n{yhat}\")"
      ],
      "metadata": {
        "colab": {
          "base_uri": "https://localhost:8080/"
        },
        "id": "qURD817CYNLT",
        "outputId": "d096712f-34b3-43aa-f14d-2ab57ce29a74"
      },
      "execution_count": 103,
      "outputs": [
        {
          "output_type": "stream",
          "name": "stdout",
          "text": [
            "decisions = \n",
            "[[0.]\n",
            " [0.]]\n"
          ]
        }
      ]
    },
    {
      "cell_type": "code",
      "source": [
        "W1, b1 = model.get_layer(\"layer1\").get_weights()\n",
        "W2, b2 = model.get_layer(\"layer2\").get_weights()\n",
        "print(\"W1:\\n\", W1, \"\\nb1:\", b1)\n",
        "print(\"W2:\\n\", W2, \"\\nb2:\", b2)"
      ],
      "metadata": {
        "colab": {
          "base_uri": "https://localhost:8080/"
        },
        "id": "7HGAIakzWqox",
        "outputId": "3218b785-c5c4-4987-aa8f-0b00173ba1d5"
      },
      "execution_count": 104,
      "outputs": [
        {
          "output_type": "stream",
          "name": "stdout",
          "text": [
            "W1:\n",
            " [[ 0.52  0.22  1.15]\n",
            " [ 0.34  0.31 -0.35]] \n",
            "b1: [ 0.25 -0.23  0.3 ]\n",
            "W2:\n",
            " [[-0.89]\n",
            " [ 0.42]\n",
            " [-0.38]] \n",
            "b2: [-0.24]\n"
          ]
        }
      ]
    },
    {
      "cell_type": "markdown",
      "source": [
        "# 3. Unsupervised Learning, Recommenders, Reinforcement Learning"
      ],
      "metadata": {
        "id": "EOjahEiPDyEX"
      }
    },
    {
      "cell_type": "markdown",
      "source": [
        "## 3.1 Unsupervised Learning"
      ],
      "metadata": {
        "id": "E35u7sP6EiR3"
      }
    },
    {
      "cell_type": "markdown",
      "source": [
        "Unsupervised learning is a category of machine learning where the goal is to discover patterns, structures, or relationships in a dataset without explicit target labels. Unlike supervised learning, where the algorithm learns from labeled examples to make predictions or classifications, unsupervised learning focuses on finding underlying patterns or representations within the data.\n",
        "\n",
        "The main objective of unsupervised learning is to explore the inherent structure of the data and extract meaningful insights without any prior knowledge or guidance. It is often used for exploratory data analysis, data preprocessing, dimensionality reduction, and clustering.\n",
        "\n",
        "There are two primary types of unsupervised learning techniques:\n",
        "\n",
        "1. Clustering: Clustering algorithms group similar data points together based on their inherent similarities or distances in the feature space. The algorithms aim to identify distinct groups or clusters within the data, allowing us to gain insights into natural groupings or patterns. Common clustering algorithms include K-means, hierarchical clustering, and DBSCAN.\n",
        "\n",
        "2. Dimensionality Reduction: Dimensionality reduction techniques aim to reduce the number of features or variables in a dataset while preserving important information. They help overcome the curse of dimensionality and simplify complex data representations. Principal Component Analysis (PCA) and t-SNE (t-Distributed Stochastic Neighbor Embedding) are popular dimensionality reduction methods.\n",
        "\n",
        "Unsupervised learning has various real-world applications. For instance:\n",
        "\n",
        "- Customer Segmentation: Clustering algorithms can group customers with similar behavior or preferences for targeted marketing campaigns.\n",
        "- Anomaly Detection: Unsupervised learning can help identify unusual or anomalous data points that deviate from the norm, such as detecting fraud in financial transactions or detecting faults in industrial processes.\n",
        "- Recommendation Systems: Collaborative filtering is an unsupervised learning approach used in recommender systems to suggest relevant items based on user behavior and preferences.\n",
        "- Data Visualization: Dimensionality reduction techniques enable visualizing high-dimensional data in lower dimensions, aiding in data exploration and pattern discovery.\n"
      ],
      "metadata": {
        "id": "hiStYY4DGV4r"
      }
    },
    {
      "cell_type": "markdown",
      "source": [
        "## 3.2 Clustering"
      ],
      "metadata": {
        "id": "LcNmTy0nGacr"
      }
    },
    {
      "cell_type": "markdown",
      "source": [
        "### 3.2.1 Popular Clustering Algorithms"
      ],
      "metadata": {
        "id": "MGj4POnXI00M"
      }
    },
    {
      "cell_type": "markdown",
      "source": [
        "\n",
        "\n",
        "| Algorithm        | Explanation           | Pros  | Cons  |\n",
        "| ------------- |-------------| -----| -----|\n",
        "| K-means      | Divides data into predefined number of <br> clusters by minimizing the within-cluster<br> sum of squares. | - Simple and computationally efficient.<br>- Scales well to large datasets.<br>- Easy to interpret results.<br>- Works well with spherical clusters. | - Requires the number of clusters to be specified in advance.<br>- Sensitive to initialization and can get stuck in local optima.<br>- Assumes clusters with similar sizes and variances. |\n",
        "| Hierarchical Clustering      | Builds a hierarchy of clusters by either <br>agglomerative (bottom-up) or divisive <br>(top-down) approach. | - Does not require the number of clusters to be specified in advance.<br>- Provides a dendrogram for visual interpretation.<br>- Can capture clusters at different scales. | - Computationally expensive for large datasets.<br>- Difficult to interpret for a large number of data points.<br>- Sensitive to the choice of distance metric and linkage method. |\n",
        "| DBSCAN (Density-Based <br> Spatial Clustering of <br> Applications with Noise) | Groups together data points that are <br> densely connected, forming dense regions<br> separated by sparser areas. | - Does not require the number of clusters to be specified in advance.<br>- Can discover clusters of arbitrary shape.<br>- Robust to outliers and noise.<br>- Does not assume clusters with similar sizes or densities. | - Requires tuning of distance and density parameters.<br>- Can struggle with datasets of varying densities or high-dimensional data.<br>- Not suitable for clusters with varying densities. |\n",
        "| Gaussian Mixture Models <br>(GMM) | Represents each cluster as a probability <br>distribution modeled by a mixture of Gaussian<br> distributions. | - Can capture complex cluster shapes and handle overlapping clusters.<br>- Provides probabilistic assignments to data points.<br>- Can estimate missing or incomplete data using the expectation-maximization algorithm. | - Requires the number of components or clusters to be specified in advance.<br>- Sensitive to the initialization of parameters.<br>- Computationally expensive for large datasets.<br>- Converges to local optima. |\n"
      ],
      "metadata": {
        "id": "7S1h32p5IvEr"
      }
    },
    {
      "cell_type": "markdown",
      "source": [
        "### 3.2.2 K-Means Algorithm "
      ],
      "metadata": {
        "id": "YBt3rpj_Jc8c"
      }
    },
    {
      "cell_type": "markdown",
      "source": [
        "Certainly! The k-means algorithm is an iterative clustering algorithm that aims to partition a given dataset into k distinct clusters. \n",
        " \n",
        "**k-means algorithm workflow:**\n",
        "\n",
        "> 1. Initialization:\n",
        ">    - Choose the number of clusters, k, that  want to identify in the dataset.\n",
        ">    - Randomly initialize k cluster centroids as the initial positions of the cluster centers.\n",
        ">\n",
        "> 2. Assignment Step:\n",
        ">    - For each data point in the dataset, calculate the distance to each of the k cluster centroids.\n",
        ">    - Assign the data point to the cluster with the nearest centroid, forming k clusters.\n",
        "> \n",
        "> 3. Update Step:\n",
        ">    - Recalculate the cluster centroids by taking the mean of all data points assigned to each cluster.\n",
        ">    - The new centroid positions represent the updated cluster centers.\n",
        ">\n",
        "> 4. Repeat Steps 2 and 3:\n",
        ">    - Iterate the assignment step and the update step until convergence is achieved.\n",
        ">    - Convergence occurs when the cluster assignments no longer change significantly or a maximum number of iterations is reached.\n",
        ">\n",
        "> 5. Final Result:\n",
        ">    - The algorithm converges to a final set of cluster centroids that represent the centers of the clusters.\n",
        ">    - Each data point is assigned to the cluster whose centroid it is closest to.\n",
        ">\n"
      ],
      "metadata": {
        "id": "N9gGUD0OJsys"
      }
    },
    {
      "cell_type": "markdown",
      "source": [
        "\n",
        "The k-means algorithm is a popular unsupervised learning method used for clustering data into k distinct groups. In this note, we will discuss the mathematical representations of the k-means algorithm, including notations, the algorithm, and the cost function.<br>\n",
        "\n",
        "**Notations :**\n",
        "1. **$c^{(i)}$**  : Index of the cluster to which the training example $x^{(i)}$ is currently assigned.\n",
        "2. **$\\mu_k$** : Cluster centroid k.\n",
        "3. **$\\mu_c(i)$** Cluster centroid of cluster whichthe training example $x^{(i)}$ is aasigned\n",
        "\n",
        "**Algorithm Overview**\n",
        "\n",
        "The k-means algorithm can be summarized as follows:\n",
        "\n",
        "> 1. item Initialize the centroids: randomly select $k$ data points as the initial centroids.\n",
        "> 2. item Assign each data point to the nearest centroid based on a distance metric (commonly Euclidean distance).\n",
        ">3. item Update the centroids by computing the mean of all data points assigned to each centroid.\n",
        ">4. item Repeat steps 2 and 3 until convergence (i.e., when the centroids no longer change significantly or after a certain number of iterations).\n",
        "\n",
        "**Cost Function**\n",
        "\n",
        "The cost function of the k-means algorithm, also known as the distortion or within-cluster sum of squares (WCSS), measures the quality of the clustering solution. It is defined as the sum of the squared Euclidean distances between each data point and its assigned centroid: <br>\n",
        "\n",
        "$\n",
        "J(c^{(i)},...,c^{(m)},\\mu_1,...,\\mu_k) =\\frac{1}{m} \\sum_{i=1}^{m}  \\|x^{(i)} - \\mu_c(i)\\|^2\n",
        "$  \n",
        "\n",
        "\n",
        "The goal of the k-means algorithm is to minimize the cost function by finding the optimal cluster assignments and centroids.\n",
        "\n",
        "\n"
      ],
      "metadata": {
        "id": "-B15SZlGazvP"
      }
    },
    {
      "cell_type": "markdown",
      "source": [
        "####3.2.2.1 Initializing the K"
      ],
      "metadata": {
        "id": "blukPOHpgAUD"
      }
    },
    {
      "cell_type": "markdown",
      "source": [
        "\n",
        "> 1. **Elbow Method:**\n",
        "> The Elbow Method is a commonly used approach to estimate the optimal value of k. It involves plotting the within-cluster sum of squares (WCSS) against different values of k. WCSS represents the sum of squared distances between each data point and the centroid of its assigned cluster. The idea is to select the value of k where the WCSS decreases significantly and starts to level off. This \"elbow\" point indicates a good trade-off between the number of clusters and the compactness of the clusters.\n",
        ">\n",
        "> 2. **Silhouette Score:**\n",
        "> The Silhouette score is a metric that measures the quality of clustering. It evaluates how well each data point fits within its assigned cluster compared to other clusters. For different values of k, calculate the average Silhouette score across all data points. The value of k that maximizes the Silhouette score indicates better-defined and well-separated clusters. Higher Silhouette scores imply more distinct and accurate clustering.\n",
        ">\n",
        "> 3. **Gap Statistic:**\n",
        "> The Gap Statistic method compares the within-cluster dispersion for different values of k to a reference null distribution. It calculates the gap between the observed within-cluster dispersion and the expected dispersion under the null distribution. The optimal value of k corresponds to the largest gap. This method helps identify the value of k that yields clusters with greater separation and coherence.\n",
        "> \n",
        "> 4. **Domain Knowledge:**\n",
        "> Leverage any domain knowledge or prior understanding of the data to guide the selection of k. Consider any known natural groupings or expected number of clusters based on the specific characteristics of the data. Expert knowledge can provide valuable insights and initial estimates for choosing the appropriate value of k.\n",
        ">\n",
        "> 5. **Visualization:**\n",
        "> Visualize the data and resulting clusters for different values of k. Utilize scatter plots, heatmaps, or other suitable visualizations to assess the quality and interpretability of the clusters. Look for a value of k that creates meaningful and distinct clusters without excessive overlap or mixing. Visual inspection can provide valuable intuition about the optimal number of clusters.\n",
        ">\n",
        "> 6. **Cross-Validation:**\n",
        "> Split the dataset into training and validation subsets. Apply the k-means algorithm with different values of k to the training data and evaluate the clustering performance on the validation set using appropriate metrics (e.g., accuracy, F-measure, etc.). Choose the value of k that yields the best performance on the validation set. Cross-validation helps assess the stability and generalizability of the clustering results.\n",
        ">\n",
        "> 7. **Computational Constraints:**\n",
        "> Consider any computational constraints or limitations, such as the size of the dataset and available computing resources. Larger values of k significantly increase the computational complexity and runtime. Take into account the trade-off between the desired level of clustering granularity and computational feasibility.\n"
      ],
      "metadata": {
        "id": "A0QGhZhzcoKj"
      }
    },
    {
      "cell_type": "markdown",
      "source": [
        "#### 3.2.2.2 Random Initialization"
      ],
      "metadata": {
        "id": "iMcyrwuBjJWM"
      }
    },
    {
      "cell_type": "markdown",
      "source": [
        "> 1. **Define the Number of Clusters (k):**\n",
        "> Before selecting random data points as initial centroids, determine the desired number of clusters (k) for the dataset. \n",
        ">\n",
        "> 2. **Set the Random Seed:**\n",
        "> To ensure reproducibility, set a random seed before selecting random data points. This ensures that the same set of random numbers is generated each time the initialization process is run. Setting the random seed allows for consistent comparisons and analysis of different initializations.\n",
        ">\n",
        "> 3. **Randomly Sample Data Points:**\n",
        "> Randomly sample k data points from the dataset to serve as initial centroids. It is important to ensure that the selected points are distinct and cover the range of variability in the data. One common approach is to use a random sampling method without replacement to ensure each data point is selected only once.\n",
        ">\n",
        "> 4. **Ensure Coverage of Feature Space:**\n",
        "> Check if the randomly selected data points adequately cover the feature space. The centroids should span the entire range of values for each feature or variable. If the initial selection does not provide sufficient coverage, repeat the random sampling step until satisfactory coverage is achieved.\n",
        ">\n",
        "> 5. **Assign Random Data Points as Centroids:**\n",
        "> Assign the randomly selected data points as the initial centroids for the k-means algorithm. Each data point represents the center of its respective cluster at the start of the clustering process.\n"
      ],
      "metadata": {
        "id": "J3_AjXsqjPG1"
      }
    },
    {
      "cell_type": "markdown",
      "source": [
        "\n",
        "\n",
        "```python\n",
        "# Random Initialization Psudo Code\n",
        "\n",
        "for i = 1 to requiredIterations\n",
        "{\n",
        "  Randomly initialize K-means for k examples\n",
        "  Run K-means\n",
        "  Compute the cost function\n",
        "  get the centroids which has the minimum cost function\n",
        "}\n",
        "```\n",
        "\n"
      ],
      "metadata": {
        "id": "ezovEKPPtNyN"
      }
    },
    {
      "cell_type": "markdown",
      "source": [
        "#### Gaussian Distribution (normal)"
      ],
      "metadata": {
        "id": "yNkZtaNLe8Lx"
      }
    },
    {
      "cell_type": "markdown",
      "source": [
        "The equation for a Gaussian distribution, also known as the normal distribution, is given by:\n",
        "\n",
        "$ P(x) = \\frac{1}{{\\sigma \\sqrt{2\\pi}}} \\exp\\left(-\\frac{(x - \\mu)^2}{2\\sigma^2}\\right) $\n",
        "\n",
        "\n",
        "To calculate the standard deviation $\\sigma$ of a set of data points, \n",
        "\n",
        "$ \\sigma = \\sqrt{\\frac{\\sum_{i=1}^{n} (x_i - \\mu)^2}{n}} $\n",
        "\n",
        "where:\n",
        "> - $x_i$ represents the individual data points.\n",
        "> - $\\mu$ represents the mean of the data points.\n",
        "> - $ n $ represents the total number of data points.\n"
      ],
      "metadata": {
        "id": "GEVxPCMDfEIO"
      }
    },
    {
      "cell_type": "code",
      "source": [
        "import numpy as np\n",
        "import matplotlib.pyplot as plt\n",
        "\n",
        "# Define the range of x values\n",
        "x = np.linspace(-10, 10, 100)\n",
        "\n",
        "# Define the parameters for the four subplots\n",
        "mu_values = [0, 1, 2, 3]\n",
        "sigma_values = [0.5, 1, 1.5, 2]\n",
        "\n",
        "# Create a 2x2 grid of subplots\n",
        "fig, axs = plt.subplots(2, 2, figsize=(10, 8))\n",
        "\n",
        "# Iterate over the subplots and plot the corresponding Gaussian distribution\n",
        "for i in range(2):\n",
        "    for j in range(2):\n",
        "        mu = mu_values[i * 2 + j]\n",
        "        sigma = sigma_values[i * 2 + j]\n",
        "        \n",
        "        # Calculate the corresponding y values using the Gaussian equation\n",
        "        y = (1 / (sigma * np.sqrt(2 * np.pi))) * np.exp(-(x - mu)**2 / (2 * sigma**2))\n",
        "        \n",
        "        # Plot the Gaussian distribution in the current subplot\n",
        "        axs[i, j].plot(x, y)\n",
        "        axs[i, j].set_title(f'mu={mu}, sigma={sigma}')\n",
        "        axs[i, j].set_xlabel('x')\n",
        "        axs[i, j].set_ylabel('Probability Density')\n",
        "        axs[i, j].grid(True)\n",
        "\n",
        "# Adjust the spacing between subplots\n",
        "plt.tight_layout()\n",
        "\n",
        "# Display the plot\n",
        "plt.show()\n"
      ],
      "metadata": {
        "colab": {
          "base_uri": "https://localhost:8080/",
          "height": 807
        },
        "id": "B79X1EdVfw4k",
        "outputId": "9134f315-f9ca-40fd-819d-b5fac292882d"
      },
      "execution_count": 39,
      "outputs": [
        {
          "output_type": "display_data",
          "data": {
            "text/plain": [
              "<Figure size 1000x800 with 4 Axes>"
            ],
            "image/png": "[encoded data removed]"
          },
          "metadata": {}
        }
      ]
    },
    {
      "cell_type": "markdown",
      "source": [
        "####  3.2.2.4 Anomaly detection"
      ],
      "metadata": {
        "id": "nuPUbHhieboK"
      }
    },
    {
      "cell_type": "markdown",
      "source": [
        "Anomaly detection in the k-means algorithm involves identifying data points that deviate significantly from the established clusters. Although k-means is primarily designed for clustering, it can be adapted for anomaly detection by considering data points that do not belong to any cluster or have a high dissimilarity with their assigned cluster centroid."
      ],
      "metadata": {
        "id": "zs1XWIFJemzY"
      }
    },
    {
      "cell_type": "markdown",
      "source": [
        "**Multi-Dimensional Analysis** <br>\n",
        "let the feature $\\overrightarrow{x}^{(i)}$, <br>\n",
        "$\\overrightarrow{x}^{(i)}$   = $\n",
        "\\begin{bmatrix}\n",
        "x_1 \\\\\n",
        "x_2 \\\\\n",
        "\\vdots \\\\\n",
        "x_n\n",
        "\\end{bmatrix}$ <br>\n",
        "\n",
        "Then the probability of $\\overrightarrow{x}^{(i)}$ ,<br>\n",
        "$P(\\overrightarrow{x}^{(i)})\\ \\ \\ = \\ \\ P(x_1\\ \\ ; \\mu_1,\\sigma^2_1) \\ \\times \\ P(x_2\\ \\ ; \\mu_2,\\sigma^2_2) \\ \\times \\ ... \\times \\ P(x_n\\ \\ ; \\mu_n,\\sigma^2_n)$ "
      ],
      "metadata": {
        "id": "o5Q1y8Ikjq6S"
      }
    },
    {
      "cell_type": "markdown",
      "source": [
        "**Anomaly Detection Algorithm**\n",
        "\n",
        "\n",
        "> 1. Choose $n$ features $x_i$ thatmight be indicative of anomalous examples. Let the sample count is $m$ <br>\n",
        "> $\\begin{bmatrix} x_1^{(1)} & x_1^{(2)} & \\ldots & x_1^{(m)} \\\\ x_{2}^{(1)} & x_{2}^{(2)} & \\ldots & x_{2}^{(m)} \\\\ \\vdots & \\vdots & \\ddots & \\vdots \\\\ x_{n}^{(1)} & x_{n}^{(2)} & \\ldots & x_{n}^{(m)} \\end{bmatrix}$\n",
        ">\n",
        "> 2. Calculate $\\mu_1....\\mu_n,\\sigma_1^2...\\sigma_n^2$<br> <br>\n",
        "> $\\overrightarrow{\\mu} = \\frac{1}{m} {\\sum_{i=1}^{m}}\\overrightarrow{x}^{(i)}$ <br><br>\n",
        "> $\\overrightarrow{\\sigma^2} = \\frac{1}{m} {\\sum_{i=1}^{m}}(\\overrightarrow{x}^{(i)} - \\overrightarrow{\\mu})^2$ <br>\n",
        "> 3. For given new dataset calculate $P(\\overrightarrow{x}^{(i)})$"
      ],
      "metadata": {
        "id": "mRSCP3AsnJKp"
      }
    },
    {
      "cell_type": "markdown",
      "source": [
        "If $P(\\overrightarrow{x}^{(i)})  \\  < \\epsilon$   then $\\overrightarrow{x}^{(i)} $ is an anomaly. <br>\n",
        "The $\\epsilon$ can be decided by using a cross validation test.(Train the model using known non-anomaly data set and small known anomaly dataset)\n"
      ],
      "metadata": {
        "id": "w1UgB_sgFVtN"
      }
    },
    {
      "cell_type": "markdown",
      "source": [
        "#### 3.2.2.5 Anomaly detection vs Supervised Learning"
      ],
      "metadata": {
        "id": "roJ2g75jF-e5"
      }
    },
    {
      "cell_type": "markdown",
      "source": [
        "\n",
        "\n",
        "| Aspect                       | Anomaly Detection                                                | Supervised Learning                                             |\n",
        "| ---------------------------- | --------------------------------------------------------------- | --------------------------------------------------------------- |\n",
        "| Objective                    | Identify rare and unusual instances in a dataset                | Predict the target variable/class based on labeled training data |\n",
        "| Training Data                | Contains both normal and anomalous instances                    | Labeled instances representing different classes/labels         |\n",
        "| Labeling Requirement         | Anomalies are often unlabeled and need to be identified          | Requires labeled instances for each class/label                 |\n",
        "| Algorithm Complexity         | Relies on various algorithms, such as statistical or clustering  | Utilizes algorithms like decision trees, SVM, neural networks    |\n",
        "| Class Imbalance              | Deals with imbalanced datasets where anomalies are rare         | Can handle class imbalance through sampling techniques          |\n",
        "| Performance Evaluation       | Metrics like precision, recall, F1-score, AUC-ROC are used      | Metrics like accuracy, precision, recall, F1-score are used     |\n",
        "| Training Data Availability   | Anomalies can be difficult to obtain and represent real cases    | Requires labeled training data for all classes/labels           |\n",
        "| Generalizability             | Can adapt to new anomalies or previously unseen patterns        | Performs well on similar instances to the training data         |\n",
        "| Interpretability             | Often provides insights into unusual instances or system issues | Can provide explanations through feature importance             |\n",
        "| Applicability                | Useful for fraud detection, intrusion detection, system monitoring, etc. | Applicable to a wide range of classification and regression tasks |\n",
        "| Data Requirements            | Requires a representative sample of anomalies in the dataset    | Requires a sufficient number of labeled instances for each class |\n",
        "| Scalability                  | Can handle large-scale datasets but may be computationally intensive | Scalable with efficient algorithms and parallel computing      |\n"
      ],
      "metadata": {
        "id": "5h5DtjwWqM2x"
      }
    },
    {
      "cell_type": "markdown",
      "source": [
        "#### 3.2.2.6 Feature Selection for Anomaly Detection"
      ],
      "metadata": {
        "id": "nRbHWPt4qRbU"
      }
    },
    {
      "cell_type": "markdown",
      "source": [
        "When the destribution of the feature is skewed (Positively or negetively) ,Transform it to the log scale.  $x → log(x+k)$ <br>\n",
        "Or else do other feature scalings and feature combining."
      ],
      "metadata": {
        "id": "Jb6itxoUrLWs"
      }
    },
    {
      "cell_type": "code",
      "source": [
        "import numpy as np\n",
        "import matplotlib.pyplot as plt\n",
        "\n",
        "# Parameters for the positively skewed distribution\n",
        "mean = 6.0\n",
        "std_dev = 1.0\n",
        "\n",
        "# Generate dataset from the positively skewed distribution\n",
        "data = np.random.normal(mean, std_dev, 5000)\n",
        "data = np.power(data, 3)  # Apply cube function for positive skewness\n",
        "\n",
        "# Plot the positively skewed distribution\n",
        "plt.hist(data, bins=500, density=True, alpha=0.7, color='blue')\n",
        "plt.xlabel('x')\n",
        "plt.ylabel('Probability density')\n",
        "plt.title('Positively Skewed Distribution')\n",
        "plt.grid(True)\n",
        "plt.show()\n"
      ],
      "metadata": {
        "colab": {
          "base_uri": "https://localhost:8080/",
          "height": 472
        },
        "id": "iizxtD2irfTo",
        "outputId": "dc46905d-4fb2-4b80-a8b1-8ec576f2fde6"
      },
      "execution_count": 40,
      "outputs": [
        {
          "output_type": "display_data",
          "data": {
            "text/plain": [
              "<Figure size 640x480 with 1 Axes>"
            ],
            "image/png": "[encoded data removed]"
          },
          "metadata": {}
        }
      ]
    },
    {
      "cell_type": "code",
      "source": [
        "# Apply logarithm to the data\n",
        "log_data = np.log(data)\n",
        "\n",
        "# Plot the distribution of the logarithm of the data\n",
        "plt.hist(log_data, bins=500, density=True, alpha=0.7, color='blue')\n",
        "plt.xlabel('log(x)')\n",
        "plt.ylabel('Probability density')\n",
        "plt.title('Distribution of Logarithm of Positively Skewed Data')\n",
        "plt.grid(True)\n",
        "plt.show()\n"
      ],
      "metadata": {
        "colab": {
          "base_uri": "https://localhost:8080/",
          "height": 472
        },
        "id": "2699KYWWsM-1",
        "outputId": "aba14859-0595-4109-a43c-e45f6a405a96"
      },
      "execution_count": 41,
      "outputs": [
        {
          "output_type": "display_data",
          "data": {
            "text/plain": [
              "<Figure size 640x480 with 1 Axes>"
            ],
            "image/png": "[encoded data removed]"
          },
          "metadata": {}
        }
      ]
    }
  ],
  "metadata": {
    "colab": {
      "toc_visible": true,
      "provenance": [],
      "collapsed_sections": [
        "GH4lEwmg-7cd",
        "nPV9ePzGCtD9",
        "ru6XlSA-NjI2"
      ],
      "include_colab_link": true
    },
    "kernelspec": {
      "display_name": "Python 3",
      "name": "python3"
    },
    "language_info": {
      "name": "python"
    }
  },
  "nbformat": 4,
  "nbformat_minor": 0
}