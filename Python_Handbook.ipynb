{
  "nbformat": 4,
  "nbformat_minor": 0,
  "metadata": {
    "colab": {
      "provenance": [],
      "toc_visible": true,
      "authorship_tag": "ABX9TyM0HyFSoeajDv1ubTRXYZND",
      "include_colab_link": true
    },
    "kernelspec": {
      "name": "python3",
      "display_name": "Python 3"
    },
    "language_info": {
      "name": "python"
    }
  },
  "cells": [
    {
      "cell_type": "markdown",
      "metadata": {
        "id": "view-in-github",
        "colab_type": "text"
      },
      "source": [
        "<a href=\"https://colab.research.google.com/github/PandukaBandara99/ML-Books/blob/main/Python_Handbook.ipynb\" target=\"_parent\"><img src=\"https://colab.research.google.com/assets/colab-badge.svg\" alt=\"Open In Colab\"/></a>"
      ]
    },
    {
      "cell_type": "markdown",
      "source": [
        "Mahela Panduka Bandara ; <br> UG @ Dpt. of Electronic & Electrical Engineering ;<br> University of Peradeniya ;<br> 2023/03 <br><br> Email : e19039@end.pdn.ac.lk <br> LinkedIN : https://www.linkedin.com/in/pandukabandara/"
      ],
      "metadata": {
        "id": "m5W1T68LRsLY"
      }
    },
    {
      "cell_type": "markdown",
      "source": [
        "# **1.0 Python Concepts**"
      ],
      "metadata": {
        "id": "Ks1W1oFew3CL"
      }
    },
    {
      "cell_type": "markdown",
      "source": [
        "## 1.1 Variables"
      ],
      "metadata": {
        "id": "BJSr49y0w-qu"
      }
    },
    {
      "cell_type": "markdown",
      "source": [
        "### Rules for Python variables:\n"
      ],
      "metadata": {
        "id": "nHUF18WqxM90"
      }
    },
    {
      "cell_type": "markdown",
      "source": [
        "- A variable name must start with a letter or the underscore character\n",
        "- A variable name cannot start with a number\n",
        "- A variable name can only contain alpha-numeric characters and underscores (A-z, 0-9, and _ )\n",
        "- Variable names are case-sensitive (age, Age and AGE are three different variables)\n",
        "- A variable name cannot be any of the Python keywords."
      ],
      "metadata": {
        "id": "QoHXAHm8xEa4"
      }
    },
    {
      "cell_type": "markdown",
      "source": [
        "### Assignment and Unpacking"
      ],
      "metadata": {
        "id": "r6IiViSUxcNa"
      }
    },
    {
      "cell_type": "markdown",
      "source": [
        "Many Values to Multiple Variables\n"
      ],
      "metadata": {
        "id": "zQ4JcMCfxgpo"
      }
    },
    {
      "cell_type": "code",
      "source": [
        "x, y, z = \"Orange\", \"Banana\", \"Cherry\"\n",
        "print(x)\n",
        "print(y)\n",
        "print(z)"
      ],
      "metadata": {
        "colab": {
          "base_uri": "https://localhost:8080/"
        },
        "id": "YEVAg4eCxjiP",
        "outputId": "1ee279bb-c82a-4a7a-bc0f-9d779ef8da90"
      },
      "execution_count": null,
      "outputs": [
        {
          "output_type": "stream",
          "name": "stdout",
          "text": [
            "Orange\n",
            "Banana\n",
            "Cherry\n"
          ]
        }
      ]
    },
    {
      "cell_type": "markdown",
      "source": [
        "One Value to Multiple Variables\n"
      ],
      "metadata": {
        "id": "zdtPToZdxo-O"
      }
    },
    {
      "cell_type": "code",
      "source": [
        "x = y = z = \"Orange\"\n",
        "print(x)\n",
        "print(y)\n",
        "print(z)"
      ],
      "metadata": {
        "colab": {
          "base_uri": "https://localhost:8080/"
        },
        "id": "Thgx6rm2xps2",
        "outputId": "cfa8521c-f0d4-4b29-f349-b1492acae3ec"
      },
      "execution_count": null,
      "outputs": [
        {
          "output_type": "stream",
          "name": "stdout",
          "text": [
            "Orange\n",
            "Orange\n",
            "Orange\n"
          ]
        }
      ]
    },
    {
      "cell_type": "markdown",
      "source": [
        "Unpack a Collection"
      ],
      "metadata": {
        "id": "rfCjjEzAxrrA"
      }
    },
    {
      "cell_type": "code",
      "source": [
        "fruits = [\"apple\", \"banana\", \"cherry\"]\n",
        "x, y, z = fruits\n",
        "print(x)\n",
        "print(y)\n",
        "print(z)"
      ],
      "metadata": {
        "colab": {
          "base_uri": "https://localhost:8080/"
        },
        "id": "UKzZZGZCxtEi",
        "outputId": "5b5ce104-61dd-418d-9e93-1253ebe3a98a"
      },
      "execution_count": null,
      "outputs": [
        {
          "output_type": "stream",
          "name": "stdout",
          "text": [
            "apple\n",
            "banana\n",
            "cherry\n"
          ]
        }
      ]
    },
    {
      "cell_type": "markdown",
      "source": [
        "### Output Variables\n"
      ],
      "metadata": {
        "id": "d6lkprH2xvgT"
      }
    },
    {
      "cell_type": "markdown",
      "source": [
        "Can use the + operator to output multiple variables:\n",
        "> For numbers it acts as a operator\n",
        "\n"
      ],
      "metadata": {
        "id": "GZuKcRVVx9M0"
      }
    },
    {
      "cell_type": "code",
      "source": [
        "x = 10\n",
        "y = 12\n",
        "z = 4\n",
        "print(x + y + z)"
      ],
      "metadata": {
        "colab": {
          "base_uri": "https://localhost:8080/"
        },
        "id": "OjUtJWKqyHAa",
        "outputId": "ee021070-ca69-4b15-f6a8-9854712b7f01"
      },
      "execution_count": null,
      "outputs": [
        {
          "output_type": "stream",
          "name": "stdout",
          "text": [
            "26\n"
          ]
        }
      ]
    },
    {
      "cell_type": "markdown",
      "source": [
        "> For strings it adds with mid spaces."
      ],
      "metadata": {
        "id": "8dft57c5yMkF"
      }
    },
    {
      "cell_type": "code",
      "source": [
        "x = \"Python \"\n",
        "y = \"is \"\n",
        "z = \"awesome\"\n",
        "print(x + y + z)"
      ],
      "metadata": {
        "colab": {
          "base_uri": "https://localhost:8080/"
        },
        "id": "9gG13ldMyS4j",
        "outputId": "eb049a67-c8b5-4b5e-a4ee-d37504af29b8"
      },
      "execution_count": null,
      "outputs": [
        {
          "output_type": "stream",
          "name": "stdout",
          "text": [
            "Python is awesome\n"
          ]
        }
      ]
    },
    {
      "cell_type": "markdown",
      "source": [
        "> When present both numbers need to be converted"
      ],
      "metadata": {
        "id": "taGi8YLTyYcX"
      }
    },
    {
      "cell_type": "code",
      "source": [
        "x = \"Python \"\n",
        "y = \"is \"\n",
        "z = 10\n",
        "print(x + y + str(z))"
      ],
      "metadata": {
        "colab": {
          "base_uri": "https://localhost:8080/"
        },
        "id": "qFV7OA6Fyapj",
        "outputId": "01fdc0dd-d399-4c44-b62a-6d73c3b5f447"
      },
      "execution_count": null,
      "outputs": [
        {
          "output_type": "stream",
          "name": "stdout",
          "text": [
            "Python is 10\n"
          ]
        }
      ]
    },
    {
      "cell_type": "markdown",
      "source": [
        "### Global Variables"
      ],
      "metadata": {
        "id": "BlP8n2l5ypxq"
      }
    },
    {
      "cell_type": "markdown",
      "source": [
        "If you create a variable with the same name inside a function, the variable will be local, and can only be used inside the function. The global variable with the same name will remain as it was, global and with the original value."
      ],
      "metadata": {
        "id": "WsDMDw_cyw26"
      }
    },
    {
      "cell_type": "code",
      "source": [
        "x = \"awesome\"\n",
        "\n",
        "def myfunc():\n",
        "  x = \"fantastic\"\n",
        "  print(\"Python is \" + x)\n",
        "\n",
        "myfunc()\n",
        "\n",
        "print(\"Python is \" + x)"
      ],
      "metadata": {
        "colab": {
          "base_uri": "https://localhost:8080/"
        },
        "id": "4TmzmxxfysMU",
        "outputId": "d2e56139-8adc-4c9e-e525-6fd24f0a63d5"
      },
      "execution_count": null,
      "outputs": [
        {
          "output_type": "stream",
          "name": "stdout",
          "text": [
            "Python is fantastic\n",
            "Python is awesome\n"
          ]
        }
      ]
    },
    {
      "cell_type": "markdown",
      "source": [
        "Use the ```global``` keyword if you want to change a global variable inside a function."
      ],
      "metadata": {
        "id": "fSp8l30dy61i"
      }
    },
    {
      "cell_type": "code",
      "source": [
        "x = \"awesome\"\n",
        "\n",
        "def myfunc():\n",
        "  global x\n",
        "  x = \"fantastic\"\n",
        "\n",
        "myfunc()\n",
        "\n",
        "print(\"Python is \" + x)"
      ],
      "metadata": {
        "colab": {
          "base_uri": "https://localhost:8080/"
        },
        "id": "gWe37B6Hy9la",
        "outputId": "8a963f9d-0ec2-45ea-da49-400b5d27ee45"
      },
      "execution_count": null,
      "outputs": [
        {
          "output_type": "stream",
          "name": "stdout",
          "text": [
            "Python is fantastic\n"
          ]
        }
      ]
    },
    {
      "cell_type": "markdown",
      "source": [
        "## 1.2 Data Types"
      ],
      "metadata": {
        "id": "yN5qgDIo0egF"
      }
    },
    {
      "cell_type": "markdown",
      "source": [
        "| Type         | Example Code                 | Important Facts                                                                                    |\n",
        "|--------------|------------------------------|----------------------------------------------------------------------------------------------------|\n",
        "| int          | `x = 5`                      | - Represents whole numbers                                                                           |\n",
        "| float        | `x = 3.14`                   | - Represents floating-point numbers; approximation of real numbers                                    |\n",
        "| complex      | `x = 2 + 3j`                 | - Represents complex numbers with real and imaginary parts                                            |\n",
        "| str          | `x = 'hello'`                | - Immutable; ordered collection of characters                                                         |\n",
        "| bool         | `x = True`                   | - Represents truth values (True or False)                                                             |\n",
        "| list         | `x = [1, 2, 3]`              | - Mutable; ordered collection of elements; supports heterogeneous data                                |\n",
        "| tuple        | `x = (1, 2, 3)`              | - Immutable; ordered collection of elements; supports heterogeneous data                               |\n",
        "| set          | `x = {1, 2, 3}`              | - Mutable; unordered collection of unique elements                                                    |\n",
        "| dict         | `x = {'a': 1, 'b': 2}`       | - Mutable; collection of key-value pairs; keys are unique and immutable                                |\n",
        "| bytes        | `x = b'hello'`               | - Immutable sequence of bytes                                                                        |\n",
        "| bytearray   | `x = bytearray(b'hello')`    | - Mutable sequence of bytes                                                                          |\n",
        "| memoryview   | `x = memoryview(bytes(5))`   | - Represents memory view of an object; allows access to the object’s memory without copying          |\n",
        "| NoneType     | `x = None`                   | - Represents absence of value; used to signify the lack of a return value                              |\n",
        "| range        | `x = range(5)`               | - Immutable sequence of numbers from 0 to specified value                                              |\n",
        "| frozenset    | `x = frozenset({1, 2, 3})`   | - Immutable version of set; elements cannot be changed after creation                                  |\n",
        "| complex      | `x = 2 + 3j`                 | - Represents complex numbers with real and imaginary parts                                            |\n",
        "\n"
      ],
      "metadata": {
        "id": "Acl6N_RA0hvf"
      }
    },
    {
      "cell_type": "markdown",
      "source": [
        "### Mutable and Immutable"
      ],
      "metadata": {
        "id": "3tGo9GEN0m93"
      }
    },
    {
      "cell_type": "markdown",
      "source": [
        "#### Mutable Data Types:"
      ],
      "metadata": {
        "id": "CXk618WZ1bHm"
      }
    },
    {
      "cell_type": "markdown",
      "source": [
        " > Content can be updated without creating a new object"
      ],
      "metadata": {
        "id": "IcO8WEp51U8j"
      }
    },
    {
      "cell_type": "markdown",
      "source": [
        "\n",
        "Mutable data types are those whose values can be changed after they are created. This means that you can modify the contents of the object without changing its identity.\n",
        "\n",
        "Examples of mutable data types in Python include:\n",
        "- Lists\n",
        "- Dictionaries\n",
        "- Sets\n",
        "- Byte arrays\n",
        "\n",
        "\n"
      ],
      "metadata": {
        "id": "XOVjYt0c0o_l"
      }
    },
    {
      "cell_type": "markdown",
      "source": [
        "#### Immutable Data Types:"
      ],
      "metadata": {
        "id": "CDIDuLUz1gDE"
      }
    },
    {
      "cell_type": "markdown",
      "source": [
        " > Fixed.Content cannot be updated without creating a new object\n"
      ],
      "metadata": {
        "id": "qINZiUyy1jCI"
      }
    },
    {
      "cell_type": "markdown",
      "source": [
        "Immutable data types, on the other hand, are those whose values cannot be changed after they are created. If you need to change the value of an immutable object, you have to create a new object with the new value.\n",
        "\n",
        "Examples of immutable data types in Python include:\n",
        "- Integers\n",
        "- Floats\n",
        "- Strings\n",
        "- Tuples\n",
        "- Frozensets\n"
      ],
      "metadata": {
        "id": "WJSKtk8G0yKQ"
      }
    },
    {
      "cell_type": "markdown",
      "source": [
        "### Variable Casting"
      ],
      "metadata": {
        "id": "98vkKdsC1Mun"
      }
    },
    {
      "cell_type": "code",
      "source": [
        "#-------------------------------\n",
        "x = int(1)        # x will be 1\n",
        "y = int(2.8)      # y will be 2\n",
        "z = int(\"3\")      # z will be 3\n",
        "#-------------------------------\n",
        "x = float(1)      # x will be 1.0\n",
        "y = float(2.8)    # y will be 2.8\n",
        "z = float(\"3\")    # z will be 3.0\n",
        "w = float(\"4.2\")  # w will be 4.2\n",
        "#-------------------------------\n",
        "x = str(\"s1\")     # x will be 's1'\n",
        "y = str(2)        # y will be '2'\n",
        "z = str(3.0)      # z will be '3.0'"
      ],
      "metadata": {
        "id": "vYfQng2Z0gpH"
      },
      "execution_count": null,
      "outputs": []
    },
    {
      "cell_type": "markdown",
      "source": [
        "### Strings"
      ],
      "metadata": {
        "id": "57x1ZMPx-nwa"
      }
    },
    {
      "cell_type": "markdown",
      "source": [
        "Python does not have a character data type, a single character is simply a string with a length of 1.Square brackets can be used to access elements of the string"
      ],
      "metadata": {
        "id": "PtxRlkkR-uKL"
      }
    },
    {
      "cell_type": "code",
      "source": [
        "a = \"Hello, World!\"\n",
        "print(a[1])"
      ],
      "metadata": {
        "colab": {
          "base_uri": "https://localhost:8080/"
        },
        "id": "D4b-5AZb-10G",
        "outputId": "d52a834a-7c86-4caa-bed9-84228b5c8530"
      },
      "execution_count": null,
      "outputs": [
        {
          "output_type": "stream",
          "name": "stdout",
          "text": [
            "e\n"
          ]
        }
      ]
    },
    {
      "cell_type": "markdown",
      "source": [
        "#### Loop through elements"
      ],
      "metadata": {
        "id": "z1UPzWGK_CPc"
      }
    },
    {
      "cell_type": "code",
      "source": [
        "for x in \"banana\":\n",
        "  print(x)"
      ],
      "metadata": {
        "colab": {
          "base_uri": "https://localhost:8080/"
        },
        "id": "dHzHrUqy-5Vm",
        "outputId": "c0121d80-d035-4f91-b86d-b77c7c6ba939"
      },
      "execution_count": null,
      "outputs": [
        {
          "output_type": "stream",
          "name": "stdout",
          "text": [
            "b\n",
            "a\n",
            "n\n",
            "a\n",
            "n\n",
            "a\n"
          ]
        }
      ]
    },
    {
      "cell_type": "markdown",
      "source": [
        "#### Get the length"
      ],
      "metadata": {
        "id": "K-i7ABZx_ELq"
      }
    },
    {
      "cell_type": "code",
      "source": [
        "a = \"Hello, World!\"\n",
        "print(len(a))"
      ],
      "metadata": {
        "colab": {
          "base_uri": "https://localhost:8080/"
        },
        "id": "DoADeQip-9FB",
        "outputId": "9a696381-c75b-4aaf-d735-8b66f5cfe4a3"
      },
      "execution_count": null,
      "outputs": [
        {
          "output_type": "stream",
          "name": "stdout",
          "text": [
            "13\n"
          ]
        }
      ]
    },
    {
      "cell_type": "markdown",
      "source": [
        "#### Check String\n"
      ],
      "metadata": {
        "id": "w4SQLBf__HFN"
      }
    },
    {
      "cell_type": "code",
      "source": [
        "txt = \"The best things in life are free!\"\n",
        "if \"free\" in txt:\n",
        "  print(\"Yes, 'free' is present.\")"
      ],
      "metadata": {
        "colab": {
          "base_uri": "https://localhost:8080/"
        },
        "id": "z70AUABj_JWq",
        "outputId": "d08f374e-f217-4daf-8b7d-971869b16eeb"
      },
      "execution_count": null,
      "outputs": [
        {
          "output_type": "stream",
          "name": "stdout",
          "text": [
            "Yes, 'free' is present.\n"
          ]
        }
      ]
    },
    {
      "cell_type": "markdown",
      "source": [
        "#### Slicing\n"
      ],
      "metadata": {
        "id": "5PULYIkW_Sjx"
      }
    },
    {
      "cell_type": "code",
      "source": [
        "b = \"Hello, World!\"\n",
        "print(b[2:5])   # With 2 and without 5"
      ],
      "metadata": {
        "colab": {
          "base_uri": "https://localhost:8080/"
        },
        "id": "awcXweid_R1Y",
        "outputId": "897fb7d5-6d8b-4e4c-e920-62928ee50d67"
      },
      "execution_count": null,
      "outputs": [
        {
          "output_type": "stream",
          "name": "stdout",
          "text": [
            "llo\n"
          ]
        }
      ]
    },
    {
      "cell_type": "code",
      "source": [
        "print(b[2:])   # Slice to the end"
      ],
      "metadata": {
        "colab": {
          "base_uri": "https://localhost:8080/"
        },
        "id": "tadIv6LFHhEG",
        "outputId": "7a866d68-4c43-45e1-9788-995469a1f40d"
      },
      "execution_count": null,
      "outputs": [
        {
          "output_type": "stream",
          "name": "stdout",
          "text": [
            "llo, World!\n"
          ]
        }
      ]
    },
    {
      "cell_type": "code",
      "source": [
        "print(b[-5:-2]) # Negetive indexing"
      ],
      "metadata": {
        "colab": {
          "base_uri": "https://localhost:8080/"
        },
        "id": "JVHkWCXoHjvc",
        "outputId": "94d89b9b-6e4e-4446-c081-032387145cc0"
      },
      "execution_count": null,
      "outputs": [
        {
          "output_type": "stream",
          "name": "stdout",
          "text": [
            "orl\n"
          ]
        }
      ]
    },
    {
      "cell_type": "markdown",
      "source": [
        "#### Concatenation"
      ],
      "metadata": {
        "id": "24Im2UfLJosc"
      }
    },
    {
      "cell_type": "code",
      "source": [
        "a = \"Hello\"\n",
        "b = \"World\"\n",
        "c = a + b\n",
        "print(c)\n",
        "## Use join() method to join with spaces"
      ],
      "metadata": {
        "colab": {
          "base_uri": "https://localhost:8080/"
        },
        "id": "GRAdeX0_Jsd8",
        "outputId": "6050be03-84cc-4716-be37-96e5ad2bc84f"
      },
      "execution_count": null,
      "outputs": [
        {
          "output_type": "stream",
          "name": "stdout",
          "text": [
            "HelloWorld\n"
          ]
        }
      ]
    },
    {
      "cell_type": "markdown",
      "source": [
        "#### **Format**"
      ],
      "metadata": {
        "id": "s6Nt4wEKJqSd"
      }
    },
    {
      "cell_type": "markdown",
      "source": [
        "The format() method takes the passed arguments, formats them, and places them in the string where the placeholders {} are:\n",
        "\n"
      ],
      "metadata": {
        "id": "Gl35x--ZKIoY"
      }
    },
    {
      "cell_type": "code",
      "source": [
        "quantity = 3\n",
        "itemno = 567\n",
        "price = 49.95\n",
        "myorder = \"I want to pay {2} dollars for {0} pieces of item {1}.\"\n",
        "print(myorder.format(quantity, itemno, price))\n",
        "## If indexing is not used {} => uses the mentioned order"
      ],
      "metadata": {
        "colab": {
          "base_uri": "https://localhost:8080/"
        },
        "id": "2oxzlWLyKM8I",
        "outputId": "310237b8-6642-4ad7-e64b-8959a7521193"
      },
      "execution_count": null,
      "outputs": [
        {
          "output_type": "stream",
          "name": "stdout",
          "text": [
            "I want to pay 49.95 dollars for 3 pieces of item 567.\n"
          ]
        }
      ]
    },
    {
      "cell_type": "markdown",
      "source": [
        "To roundoff the numbers,"
      ],
      "metadata": {
        "id": "o7k9Q8UKK2ik"
      }
    },
    {
      "cell_type": "code",
      "source": [
        "# Formatting a floating-point number to 2 decimal places\n",
        "number = 3.14159\n",
        "formatted_number = \"{:.2f}\".format(number)\n",
        "print(\"Formatted number:\", formatted_number)  # Output: Formatted number: 3.14"
      ],
      "metadata": {
        "colab": {
          "base_uri": "https://localhost:8080/"
        },
        "id": "riw0YidDK52a",
        "outputId": "6d2f09ab-328f-416d-9646-c2883ef7a04e"
      },
      "execution_count": null,
      "outputs": [
        {
          "output_type": "stream",
          "name": "stdout",
          "text": [
            "Formatted number: 3.14\n"
          ]
        }
      ]
    },
    {
      "cell_type": "markdown",
      "source": [
        "Also named indexes can be used."
      ],
      "metadata": {
        "id": "q_Lwam3oKkVi"
      }
    },
    {
      "cell_type": "code",
      "source": [
        "myorder = \"I have a {carname}, it is a {model}.\"\n",
        "print(myorder.format(carname = \"Ford\", model = \"Mustang\"))"
      ],
      "metadata": {
        "colab": {
          "base_uri": "https://localhost:8080/"
        },
        "id": "AFZWiCZJKmyz",
        "outputId": "2a27fc29-fe2d-40c8-821e-93c26e234354"
      },
      "execution_count": null,
      "outputs": [
        {
          "output_type": "stream",
          "name": "stdout",
          "text": [
            "I have a Ford, it is a Mustang.\n"
          ]
        }
      ]
    },
    {
      "cell_type": "markdown",
      "source": [
        "#### Use of escape characters"
      ],
      "metadata": {
        "id": "9erCwNQvLJcY"
      }
    },
    {
      "cell_type": "code",
      "source": [
        "txt = \"We are the so-called \\\"Vikings\\\" from the north.\""
      ],
      "metadata": {
        "id": "CxCndWJ3LIkp"
      },
      "execution_count": null,
      "outputs": []
    },
    {
      "cell_type": "markdown",
      "source": [
        "\n",
        "| Escape Sequence | Description                                      |\n",
        "|-----------------|--------------------------------------------------|\n",
        "| \\n              | Newline: Inserts a newline character            |\n",
        "| \\t              | Tab: Inserts a tab character                    |\n",
        "| \\r              | Carriage return: Moves cursor to the beginning of the line |\n",
        "| \\\\              | Backslash: Inserts a backslash character        |\n",
        "| \\'              | Single Quote: Inserts a single quote character  |\n",
        "| \\\"              | Double Quote: Inserts a double quote character  |\n",
        "| \\b              | Backspace: Inserts a backspace character        |\n",
        "| \\f              | Form Feed: Inserts a form feed character        |\n",
        "| \\v              | Vertical Tab: Inserts a vertical tab character  |\n",
        "\n"
      ],
      "metadata": {
        "id": "CSlUdqrNLUZk"
      }
    },
    {
      "cell_type": "markdown",
      "source": [
        "#### Modifications"
      ],
      "metadata": {
        "id": "3RDL1vScHuXR"
      }
    },
    {
      "cell_type": "code",
      "source": [
        "# Lowercase\n",
        "a = \"Hello, World!\"\n",
        "print(a.lower())\n",
        "print(a)   # Note that the original is not changed"
      ],
      "metadata": {
        "colab": {
          "base_uri": "https://localhost:8080/"
        },
        "id": "4SOInZYMHzug",
        "outputId": "9b59ac58-9ae5-4dd3-8bf9-ecb893be277c"
      },
      "execution_count": null,
      "outputs": [
        {
          "output_type": "stream",
          "name": "stdout",
          "text": [
            "hello, world!\n",
            "Hello, World!\n"
          ]
        }
      ]
    },
    {
      "cell_type": "code",
      "source": [
        "# Uppercase\n",
        "a = \" Hello, World! \"\n",
        "print(a.strip()) # returns \"Hello, World!\""
      ],
      "metadata": {
        "colab": {
          "base_uri": "https://localhost:8080/"
        },
        "id": "ujX7tizFH3Qa",
        "outputId": "667a0b06-65b6-42a0-c9bb-36968688f271"
      },
      "execution_count": null,
      "outputs": [
        {
          "output_type": "stream",
          "name": "stdout",
          "text": [
            "Hello, World!\n"
          ]
        }
      ]
    },
    {
      "cell_type": "code",
      "source": [
        "# Replace\n",
        "a = \"Hello, World!\"\n",
        "print(a.replace(\"H\", \"J\"))"
      ],
      "metadata": {
        "colab": {
          "base_uri": "https://localhost:8080/"
        },
        "id": "qdYPBgFJH8-N",
        "outputId": "486d478b-0c49-4b39-b437-7249770a95ed"
      },
      "execution_count": null,
      "outputs": [
        {
          "output_type": "stream",
          "name": "stdout",
          "text": [
            "Jello, World!\n"
          ]
        }
      ]
    },
    {
      "cell_type": "code",
      "source": [
        "# Split\n",
        "a = \"Hello, World!\"\n",
        "print(a.split(\",\")) # returns ['Hello', ' World!']"
      ],
      "metadata": {
        "colab": {
          "base_uri": "https://localhost:8080/"
        },
        "id": "Y0hCaI_oIAkN",
        "outputId": "09b1179c-4a0e-487d-efd8-19a5a2188652"
      },
      "execution_count": null,
      "outputs": [
        {
          "output_type": "stream",
          "name": "stdout",
          "text": [
            "['Hello', ' World!']\n"
          ]
        }
      ]
    },
    {
      "cell_type": "markdown",
      "source": [
        "#### String Methods"
      ],
      "metadata": {
        "id": "SOEjKscHIb6l"
      }
    },
    {
      "cell_type": "markdown",
      "source": [
        "**** Does not modify original.Always return a copy"
      ],
      "metadata": {
        "id": "vdLmbeh2Iy1T"
      }
    },
    {
      "cell_type": "markdown",
      "source": [
        "\n",
        "| Method           | Description                                      | Code with Output                                      |\n",
        "|------------------|--------------------------------------------------|-------------------------------------------------------|\n",
        "| capitalize()     | Returns a copy of the string with the first character capitalized and the rest lowercased | ```python s = \"hello world\"```<br>```python print(s.capitalize())```<br>Output: \"Hello world\" |\n",
        "| casefold()       | Returns a casefolded copy of the string, suitable for case-insensitive comparisons | ```python s = \"HELLO WORLD\"```<br>```python print(s.casefold())```<br>Output: \"hello world\" |\n",
        "| center(width)    | Returns a centered string of specified width     | ```python s = \"hello\"```<br>```python print(s.center(10))```<br>Output: \"  hello   \" |\n",
        "| count(substring) | Returns the number of occurrences of a substring in the string | ```python s = \"hello world\"```<br>```python print(s.count('l'))```<br>Output: 3 |\n",
        "| encode()         | Returns the encoded version of the string        | ```python s = \"hello\"```<br>```python print(s.encode())```<br>Output: b'hello' |\n",
        "| endswith(suffix) | Returns True if the string ends with the specified suffix | ```python s = \"hello world\"```<br>```python print(s.endswith('world'))```<br>Output: True |\n",
        "| expandtabs()     | Returns a copy of the string where tab characters are expanded using spaces | ```python s = \"hello\\tworld\"```<br>```python print(s.expandtabs())```<br>Output: \"hello   world\" |\n",
        "| find(substring)  | Returns the lowest index of the substring in the string, -1 if not found | ```python s = \"hello world\"```<br>```python print(s.find('o'))```<br>Output: 4 |\n",
        "| format()         | Formats the string | ```python s = \"My name is {name}\"```<br>```python print(s.format(name=\"John\"))```<br>Output: \"My name is John\" |\n",
        "| index(substring) | Returns the lowest index of the substring in the string, raises ValueError if not found | ```python s = \"hello world\"```<br>```python print(s.index('o'))```<br>Output: 4 |\n",
        "| isalnum()        | Returns True if all characters in the string are alphanumeric | ```python s = \"hello123\"```<br>```python print(s.isalnum())```<br>Output: True |\n",
        "| isalpha()        | Returns True if all characters in the string are alphabetic | ```python s = \"hello\"```<br>```python print(s.isalpha())```<br>Output: True |\n",
        "| isascii()        | Returns True if all characters in the string are ASCII, False otherwise | ```python s = \"hello\"```<br>```python print(s.isascii())```<br>Output: True |\n",
        "| isdecimal()      | Returns True if all characters in the string are decimals | ```python s = \"12345\"```<br>```python print(s.isdecimal())```<br>Output: True |\n",
        "| isdigit()        | Returns True if all characters in the string are digits | ```python s = \"12345\"```<br>```python print(s.isdigit())```<br>Output: True |\n",
        "| isidentifier()   | Returns True if the string is a valid identifier | ```python s = \"hello\"```<br>```python print(s.isidentifier())```<br>Output: True |\n",
        "| islower()        | Returns True if all characters in the string are lowercase | ```python s = \"hello\"```<br>```python print(s.islower())```<br>Output: True |\n",
        "| isnumeric()      | Returns True if all characters in the string are numeric | ```python s = \"12345\"```<br>```python print(s.isnumeric())```<br>Output: True |\n",
        "| isprintable()    | Returns True if all characters in the string are printable | ```python s = \"hello\"```<br>```python print(s.isprintable())```<br>Output: True |\n",
        "| isspace()        | Returns True if all characters in the string are whitespaces | ```python s = \"   \"```<br>```python print(s.isspace())```<br>Output: True |\n",
        "| istitle()        | Returns True if the string is titlecased (every word starts with an uppercase letter, others are lowercase) | ```python s = \"Hello World\"```<br>```python print(s.istitle())```<br>Output: True |\n",
        "| isupper()        | Returns True if all characters in the string are uppercase | ```python s = \"HELLO\"```<br>```python print(s.isupper())```<br>Output: True |\n",
        "| join(iterable)   | Joins elements of an iterable with the string as a separator | ```python my_list = ['hello', 'world']```<br>```python print(' '.join(my_list))```<br>Output: \"hello world\" |\n",
        "| ljust(width)     | Returns a left-justified string of specified width | ```python s = \"hello\"```<br>```python print(s.ljust(10))```<br>Output: \"hello     \" |\n",
        "| lower()          | Returns a copy of the string converted to lowercase | ```python s = \"Hello World\"```<br>```python print(s.lower())```<br>Output: \"hello world\" |\n",
        "| lstrip()         | Returns a copy of the string with leading whitespace removed | ```python s = \"   hello   \"```<br>```python print(s.lstrip())```<br>Output: \"hello   \" |\n",
        "| maketrans()      | Returns a translation table to be used in translate method | ```python from_string = \"aeiou\"```<br>```python to_string = \"12345\"```<br>```python translation_table = str.maketrans(from_string, to_string)```<br>```python s = \"hello\"```<br>```python print(s.translate(translation_table))```<br>Output: \"h2ll3\" |\n",
        "| partition(separator) | Returns a tuple containing the string before the separator, the separator itself, and the string after the separator | ```python s = \"hello world\"```<br>```python print(s.partition(' '))```<br>Output: ('hello', ' ', 'world') |\n",
        "| replace(old, new) | Returns a copy of the string with all occurrences of a substring replaced by another string | ```python s = \"hello world\"```<br>```python print(s.replace('world', 'python'))```<br>Output: \"hello python\" |\n",
        "| rfind(substring)  | Returns the highest index of the substring in the string, -1 if not found | ```python s = \"hello world\"```<br>```python print(s.rfind('o'))```<br >Output: 7 |\n",
        "| rindex(substring) | Returns the highest index of the substring in the string, raises ValueError if not found | ```python s = \"hello world\"```<br>```python print(s.rindex('o'))```<br>Output: 7 |\n",
        "| rjust(width)      | Returns a right-justified string of specified width | ```python s = \"hello\"```<br>```python print(s.rjust(10))```<br>Output: \"     hello\" |\n",
        "| rpartition(separator) | Returns a tuple containing the string before the last occurrence of the separator, the separator itself, and the string after the separator | ```python s = \"hello world\"```<br>```python print(s.rpartition(' '))```<br>Output: ('hello', ' ', 'world') |\n",
        "| rsplit(separator)   | Splits the string from the right at the specified separator and returns a list of substrings | ```python s = \"hello world\"```<br>```python print(s.rsplit(' '))```<br>Output: ['hello', 'world'] |\n",
        "| rstrip()            | Returns a copy of the string with trailing whitespace removed | ```python s = \"   hello   \"```<br>```python print(s.rstrip())```<br>Output: \"   hello\" |\n",
        "| split(separator)    | Splits the string at the specified separator and returns a list of substrings | ```python s = \"hello world\"```<br>```python print(s.split(' '))```<br>Output: ['hello', 'world'] |\n",
        "| splitlines()        | Splits the string at line breaks and returns a list of lines | ```python s = \"hello\\nworld\"```<br>```python print(s.splitlines())```<br>Output: ['hello', 'world'] |\n",
        "| startswith(prefix) | Returns True if the string starts with the specified prefix | ```python s = \"hello world\"```<br>```python print(s.startswith('hello'))```<br>Output: True |\n",
        "| strip()             | Returns a copy of the string with leading and trailing whitespace removed | ```python s = \"   hello   \"```<br>```python print(s.strip())```<br>Output: \"hello\" |\n",
        "| swapcase()          | Returns a copy of the string with uppercase characters converted to lowercase and vice versa | ```python s = \"Hello World\"```<br>```python print(s.swapcase())```<br>Output: \"hELLO wORLD\" |\n",
        "| title()             | Returns a titlecased version of the string (first character of each word is capitalized) | ```python s = \"hello world\"```<br>```python print(s.title())```<br>Output: \"Hello World\" |\n",
        "| translate(table)    | Returns a copy of the string where each character has been mapped through the given translation table | ```python from_string = \"aeiou\"```<br>```python to_string = \"12345\"```<br>```python translation_table = str.maketrans(from_string, to_string)```<br>```python s = \"hello\"```<br>```python print(s.translate(translation_table))```<br>Output: \"h2ll3\" |\n",
        "| upper()             | Returns a copy of the string converted to uppercase | ```python s = \"hello world\"```<br>```python print(s.upper())```<br>Output: \"HELLO WORLD\" |\n",
        "| zfill(width)        | Returns a copy of the string filled with zeros on the left to make a string of length width | ```python s = \"42\"```<br>```python print(s.zfill(5))```<br>Output: \"00042\" |\n",
        "\n"
      ],
      "metadata": {
        "id": "pC7ki_mZIgH-"
      }
    },
    {
      "cell_type": "markdown",
      "source": [
        "### Booleans"
      ],
      "metadata": {
        "id": "d6tcA1KPJJhl"
      }
    },
    {
      "cell_type": "markdown",
      "source": [
        "Booleans represent one of two values: ```True``` or ```False```."
      ],
      "metadata": {
        "id": "kat8bQovL6tj"
      }
    },
    {
      "cell_type": "markdown",
      "source": [
        "### Operators"
      ],
      "metadata": {
        "id": "Bqgx_VylMBqq"
      }
    },
    {
      "cell_type": "markdown",
      "source": [
        "Arithmatic Operatos\n",
        "\n",
        "| Operator | Description              | Example     | Result  |\n",
        "|----------|--------------------------|-------------|---------|\n",
        "| +        | Addition                 | 2 + 3       | 5       |\n",
        "| -        | Subtraction              | 5 - 2       | 3       |\n",
        "| *        | Multiplication           | 2 * 3       | 6       |\n",
        "| /        | Division                 | 6 / 2       | 3.0     |\n",
        "| //       | Floor Division           | 7 // 2      | 3       |\n",
        "| %        | Modulus (Remainder)      | 7 % 2       | 1       |\n",
        "| **       | Exponentiation           | 2 ** 3      | 8       |\n"
      ],
      "metadata": {
        "id": "YeNs5f_zMXAl"
      }
    },
    {
      "cell_type": "markdown",
      "source": [
        "Assignment Operators\n",
        "\n",
        "| Operator | Description                          | Example          | Equivalent to       |\n",
        "|----------|--------------------------------------|------------------|---------------------|\n",
        "| =        | Assigns value from right to left     | x = 5            | x = 5               |\n",
        "| +=       | Adds right operand to the left      | x += 3           | x = x + 3           |\n",
        "| -=       | Subtracts right operand from the left| x -= 3          | x = x - 3           |\n",
        "| *=       | Multiplies left by right             | x *= 2           | x = x * 2           |\n",
        "| /=       | Divides left by right                | x /= 2           | x = x / 2           |\n",
        "| //=      | Floor divides left by right          | x //= 2          | x = x // 2          |\n",
        "| %=       | Computes modulus of left by right    | x %= 3           | x = x % 3           |\n",
        "| **=      | Raises left to the power of right    | x **= 2          | x = x ** 2          |\n",
        "| &=       | Performs bitwise AND on operands     | x &= 3           | x = x & 3           |\n",
        "| &#124;=   | Performs bitwise OR on operands      | x &#124;= 3      | x = x &#124; 3      |\n",
        "| ^=       | Performs bitwise XOR on operands     | x ^= 3           | x = x ^ 3           |\n",
        "| >>=      | Right shifts left by right           | x >>= 2          | x = x >> 2          |\n",
        "| <<=      | Left shifts left by right            | x <<= 2          | x = x << 2          |\n"
      ],
      "metadata": {
        "id": "8aslTAMsMco8"
      }
    },
    {
      "cell_type": "markdown",
      "source": [
        "Comparison operators in Python:\n",
        "\n",
        "| Operator | Description                          | Example                  | Result  |\n",
        "|----------|--------------------------------------|--------------------------|---------|\n",
        "| ==       | Equal to                             | 5 == 5                   | True    |\n",
        "| !=       | Not equal to                         | 5 != 3                   | True    |\n",
        "| <        | Less than                            | 2 < 5                    | True    |\n",
        "| >        | Greater than                         | 5 > 3                    | True    |\n",
        "| <=       | Less than or equal to                | 2 <= 2                   | True    |\n",
        "| >=       | Greater than or equal to             | 4 >= 5                   | False   |\n"
      ],
      "metadata": {
        "id": "rXLeOtjiMput"
      }
    },
    {
      "cell_type": "markdown",
      "source": [
        "Logical operators in Python:\n",
        "\n",
        "| Operator | Description                          | Example                            | Result  |\n",
        "|----------|--------------------------------------|------------------------------------|---------|\n",
        "| and      | Returns True if both statements are true | True and False                 | False   |\n",
        "| or       | Returns True if one of the statements is true | True or False                  | True    |\n",
        "| not      | Returns the opposite of the result | not True                        | False   |\n"
      ],
      "metadata": {
        "id": "BdiauIIFMx4D"
      }
    },
    {
      "cell_type": "markdown",
      "source": [
        "Identity operators in Python:\n",
        "\n",
        "| Operator | Description                                   | Example                              | Result  |\n",
        "|----------|-----------------------------------------------|--------------------------------------|---------|\n",
        "| is       | Returns True if both variables are the same object | x is y                            | True/False |\n",
        "| is not   | Returns True if both variables are not the same object | x is not y                        | True/False |\n",
        "\n",
        "Explanation:\n",
        "\n",
        "- **is**: Returns True if both variables point to the same object.\n",
        "  Example: `x is y` evaluates to True if `x` and `y` reference the same object.\n",
        "\n",
        "- **is not**: Returns True if both variables do not point to the same object.\n",
        "  Example: `x is not y` evaluates to True if `x` and `y` reference different objects.\n",
        "\n"
      ],
      "metadata": {
        "id": "JsiD6CfqM5On"
      }
    },
    {
      "cell_type": "markdown",
      "source": [
        "Membership operators in Python:\n",
        "\n",
        "| Operator | Description                                    | Example                             | Result  |\n",
        "|----------|------------------------------------------------|-------------------------------------|---------|\n",
        "| in       | Returns True if a sequence with the specified value is present in the object | x in y                          | True/False |\n",
        "| not in   | Returns True if a sequence with the specified value is not present in the object | x not in y                      | True/False |\n",
        "\n",
        "Explanation:\n",
        "\n",
        "- **in**: Returns True if the specified value is found in the sequence (list, tuple, string, etc.).\n",
        "  Example: `5 in [1, 2, 3, 4, 5]` evaluates to True because 5 is present in the list.\n",
        "\n",
        "- **not in**: Returns True if the specified value is not found in the sequence (list, tuple, string, etc.).\n",
        "  Example: `6 not in [1, 2, 3, 4, 5]` evaluates to True because 6 is not present in the list.\n"
      ],
      "metadata": {
        "id": "hZrZdWZ1NIbj"
      }
    },
    {
      "cell_type": "markdown",
      "source": [
        "Bitwise operators in Python:\n",
        "\n",
        "| Operator | Description                                   | Example                              | Result  |\n",
        "|----------|-----------------------------------------------|--------------------------------------|---------|\n",
        "| &        | Bitwise AND                                   | 5 & 3                                | 1       |\n",
        "| \\|       | Bitwise OR                                    | 5 \\| 3                               | 7       |\n",
        "| ^        | Bitwise XOR (exclusive OR)                    | 5 ^ 3                                | 6       |\n",
        "| ~        | Bitwise NOT (complement)                      | ~5                                   | -6      |\n",
        "| <<       | Bitwise left shift                            | 5 << 2                               | 20      |\n",
        "| >>       | Bitwise right shift                           | 5 >> 2                               | 1       |\n",
        "\n",
        "Explanation for the examples:\n",
        "\n",
        "- **Bitwise AND (&)**: Sets each bit to 1 if both corresponding bits are 1.\n",
        "  Example: `5 & 3` evaluates to `0b101 & 0b011` which is `0b001` in binary, and `0b001` in decimal is 1.\n",
        "\n",
        "- **Bitwise OR (|)**: Sets each bit to 1 if at least one corresponding bit is 1.\n",
        "  Example: `5 | 3` evaluates to `0b101 | 0b011` which is `0b111` in binary, and `0b111` in decimal is 7.\n",
        "\n",
        "- **Bitwise XOR (^)**: Sets each bit to 1 if only one corresponding bit is 1.\n",
        "  Example: `5 ^ 3` evaluates to `0b101 ^ 0b011` which is `0b110` in binary, and `0b110` in decimal is 6.\n",
        "\n",
        "- **Bitwise NOT (~)**: Inverts all the bits.\n",
        "  Example: `~5` evaluates to `~0b101` which is `-0b110` in binary, and `-0b110` in decimal is -6.\n",
        "\n",
        "- **Bitwise left shift (<<)**: Shifts the bits of the first operand to the left by the number of positions specified by the second operand.\n",
        "  Example: `5 << 2` evaluates to `0b101 << 2` which is `0b10100` in binary, and `0b10100` in decimal is 20.\n",
        "\n",
        "- **Bitwise right shift (>>)**: Shifts the bits of the first operand to the right by the number of positions specified by the second operand.\n",
        "  Example: `5 >> 2` evaluates to `0b101 >> 2` which is `0b1` in binary, and `0b1` in decimal is 1.\n"
      ],
      "metadata": {
        "id": "C4Lp4QV3NNkS"
      }
    },
    {
      "cell_type": "markdown",
      "source": [
        "### List"
      ],
      "metadata": {
        "id": "YZo7M6phNXIZ"
      }
    },
    {
      "cell_type": "markdown",
      "source": [
        "From Python's perspective, lists are defined as objects with the data type 'list': ```<class 'list'>``` . Lists are one of 4 built-in data types in Python used to store collections of data, the other 3 are Tuple, Set, and Dictionary,"
      ],
      "metadata": {
        "id": "TmWZyb6FcCNG"
      }
    },
    {
      "cell_type": "markdown",
      "source": [
        "List items are ordered, changeable, and allow duplicate values.\n",
        "List items are indexed, the first item has index [0]\n"
      ],
      "metadata": {
        "id": "ZsyZ2uJscKU-"
      }
    },
    {
      "cell_type": "code",
      "source": [
        "thislist = [\"apple\", \"banana\", \"cherry\"]\n",
        "print(thislist)"
      ],
      "metadata": {
        "colab": {
          "base_uri": "https://localhost:8080/"
        },
        "id": "LRlDNi3jcJ3B",
        "outputId": "302a51e0-8ed7-46fa-a1c8-3d6d0e49d86f"
      },
      "execution_count": null,
      "outputs": [
        {
          "output_type": "stream",
          "name": "stdout",
          "text": [
            "['apple', 'banana', 'cherry']\n"
          ]
        }
      ]
    },
    {
      "cell_type": "code",
      "source": [
        "print(type(thislist))"
      ],
      "metadata": {
        "colab": {
          "base_uri": "https://localhost:8080/"
        },
        "id": "SJQ-QchEc_Lh",
        "outputId": "b3abf283-dd0d-45b8-f63a-0a8356d66959"
      },
      "execution_count": null,
      "outputs": [
        {
          "output_type": "stream",
          "name": "stdout",
          "text": [
            "<class 'list'>\n"
          ]
        }
      ]
    },
    {
      "cell_type": "markdown",
      "source": [
        "#### Length"
      ],
      "metadata": {
        "id": "8EcoaacYc3W1"
      }
    },
    {
      "cell_type": "code",
      "source": [
        "thislist = [\"apple\", \"banana\", \"cherry\"]\n",
        "print(len(thislist))"
      ],
      "metadata": {
        "colab": {
          "base_uri": "https://localhost:8080/"
        },
        "id": "PNEPvVR4c46K",
        "outputId": "41a930de-77f1-4e00-85c1-f2630c1a101f"
      },
      "execution_count": null,
      "outputs": [
        {
          "output_type": "stream",
          "name": "stdout",
          "text": [
            "3\n"
          ]
        }
      ]
    },
    {
      "cell_type": "markdown",
      "source": [
        "#### The list() Constructor\n"
      ],
      "metadata": {
        "id": "MinvO9fYdFQC"
      }
    },
    {
      "cell_type": "code",
      "source": [
        "thislist = list((\"apple\", \"banana\", \"cherry\"))\n",
        "print(thislist)"
      ],
      "metadata": {
        "colab": {
          "base_uri": "https://localhost:8080/"
        },
        "id": "ZjBjNqDWdGq6",
        "outputId": "35628d39-9f9b-4a21-ec28-6dca7819dd10"
      },
      "execution_count": null,
      "outputs": [
        {
          "output_type": "stream",
          "name": "stdout",
          "text": [
            "['apple', 'banana', 'cherry']\n"
          ]
        }
      ]
    },
    {
      "cell_type": "markdown",
      "source": [
        "#### Access List Items"
      ],
      "metadata": {
        "id": "VmiqktrWdGN1"
      }
    },
    {
      "cell_type": "markdown",
      "source": [
        "Access them by referring to the index number"
      ],
      "metadata": {
        "id": "XqXU0-fXdR2f"
      }
    },
    {
      "cell_type": "code",
      "source": [
        "thislist = [\"apple\", \"banana\", \"cherry\"]\n",
        "print(thislist[1])"
      ],
      "metadata": {
        "colab": {
          "base_uri": "https://localhost:8080/"
        },
        "id": "AzA17clgdXK9",
        "outputId": "289627e1-36d8-43a0-a281-959e567937f6"
      },
      "execution_count": null,
      "outputs": [
        {
          "output_type": "stream",
          "name": "stdout",
          "text": [
            "banana\n"
          ]
        }
      ]
    },
    {
      "cell_type": "markdown",
      "source": [
        "Negative Indexing\n"
      ],
      "metadata": {
        "id": "mFa-RdLadYua"
      }
    },
    {
      "cell_type": "code",
      "source": [
        "print(thislist[-1])"
      ],
      "metadata": {
        "colab": {
          "base_uri": "https://localhost:8080/"
        },
        "id": "CCGEhggxdaqi",
        "outputId": "a2871328-86ff-4df0-a122-6625f0bcd8cd"
      },
      "execution_count": null,
      "outputs": [
        {
          "output_type": "stream",
          "name": "stdout",
          "text": [
            "cherry\n"
          ]
        }
      ]
    },
    {
      "cell_type": "markdown",
      "source": [
        "Index range"
      ],
      "metadata": {
        "id": "MYS1w1hRdcKa"
      }
    },
    {
      "cell_type": "markdown",
      "source": [
        "Syntax:\n",
        "```\n",
        "list[a:b] => items from a to b , including a and excluiding b.\n",
        "```"
      ],
      "metadata": {
        "id": "c7dClwl2dnqZ"
      }
    },
    {
      "cell_type": "code",
      "source": [
        "thislist = [\"apple\", \"banana\", \"cherry\", \"orange\", \"kiwi\", \"melon\", \"mango\"]\n",
        "print(thislist[2:5])"
      ],
      "metadata": {
        "colab": {
          "base_uri": "https://localhost:8080/"
        },
        "id": "lVzG99HEdiYN",
        "outputId": "350379ee-f03f-458e-da45-9ae77f533cf4"
      },
      "execution_count": null,
      "outputs": [
        {
          "output_type": "stream",
          "name": "stdout",
          "text": [
            "['cherry', 'orange', 'kiwi']\n"
          ]
        }
      ]
    },
    {
      "cell_type": "code",
      "source": [
        "thislist = [\"apple\", \"banana\", \"cherry\", \"orange\", \"kiwi\", \"melon\", \"mango\"]\n",
        "print(thislist[2:])"
      ],
      "metadata": {
        "colab": {
          "base_uri": "https://localhost:8080/"
        },
        "id": "OWiCpN3gdnJF",
        "outputId": "2309db9c-b174-4959-c547-e71d2cf00e0b"
      },
      "execution_count": null,
      "outputs": [
        {
          "output_type": "stream",
          "name": "stdout",
          "text": [
            "['cherry', 'orange', 'kiwi', 'melon', 'mango']\n"
          ]
        }
      ]
    },
    {
      "cell_type": "markdown",
      "source": [
        "Negetive indexing"
      ],
      "metadata": {
        "id": "ziXoR1HAeFCA"
      }
    },
    {
      "cell_type": "code",
      "source": [
        "print(thislist[-4:-1])   # includes (-4) and not include (-1)"
      ],
      "metadata": {
        "colab": {
          "base_uri": "https://localhost:8080/"
        },
        "id": "il1yQaxgeHYF",
        "outputId": "33b68377-ee5c-4e9c-f1d3-9cb95578a16f"
      },
      "execution_count": null,
      "outputs": [
        {
          "output_type": "stream",
          "name": "stdout",
          "text": [
            "['orange', 'kiwi', 'melon']\n"
          ]
        }
      ]
    },
    {
      "cell_type": "markdown",
      "source": [
        "#### Check if Item Exists\n"
      ],
      "metadata": {
        "id": "tzomq_QyeWIb"
      }
    },
    {
      "cell_type": "code",
      "source": [
        "thislist = [\"apple\", \"banana\", \"cherry\"]\n",
        "if \"apple\" in thislist:\n",
        "  print(\"Yes, 'apple' is in the fruits list\")"
      ],
      "metadata": {
        "colab": {
          "base_uri": "https://localhost:8080/"
        },
        "id": "U1j9UEGreXag",
        "outputId": "f9a5215f-e724-45a5-dbbd-9909b802f9bf"
      },
      "execution_count": null,
      "outputs": [
        {
          "output_type": "stream",
          "name": "stdout",
          "text": [
            "Yes, 'apple' is in the fruits list\n"
          ]
        }
      ]
    },
    {
      "cell_type": "markdown",
      "source": [
        "#### Change List items"
      ],
      "metadata": {
        "id": "M5Xvsk2oeb1D"
      }
    },
    {
      "cell_type": "code",
      "source": [
        "thislist = [\"apple\", \"banana\", \"cherry\"]\n",
        "thislist[1] = \"blackcurrant\"\n",
        "print(thislist)"
      ],
      "metadata": {
        "colab": {
          "base_uri": "https://localhost:8080/"
        },
        "id": "UTQjfYmOgdfV",
        "outputId": "ca438d07-cee0-442e-b1a2-b08965860cfa"
      },
      "execution_count": null,
      "outputs": [
        {
          "output_type": "stream",
          "name": "stdout",
          "text": [
            "['apple', 'blackcurrant', 'cherry']\n"
          ]
        }
      ]
    },
    {
      "cell_type": "markdown",
      "source": [
        "Change a Range of Item Values\n"
      ],
      "metadata": {
        "id": "JZjX1VI7ghge"
      }
    },
    {
      "cell_type": "code",
      "source": [
        "thislist = [\"apple\", \"banana\", \"cherry\", \"orange\", \"kiwi\", \"mango\"]\n",
        "thislist[1:3] = [\"blackcurrant\", \"watermelon\"]\n",
        "print(thislist)"
      ],
      "metadata": {
        "colab": {
          "base_uri": "https://localhost:8080/"
        },
        "id": "gs2Xox47ggwh",
        "outputId": "ee3744b1-1ebf-4e3e-b8b8-6b22638a49f6"
      },
      "execution_count": null,
      "outputs": [
        {
          "output_type": "stream",
          "name": "stdout",
          "text": [
            "['apple', 'blackcurrant', 'watermelon', 'orange', 'kiwi', 'mango']\n"
          ]
        }
      ]
    },
    {
      "cell_type": "markdown",
      "source": [
        "If you insert less/more items than you replace, the new items will be inserted where you specified, and the remaining items will move accordingly"
      ],
      "metadata": {
        "id": "bz9Au9QegtqR"
      }
    },
    {
      "cell_type": "code",
      "source": [
        "thislist = [\"apple\", \"banana\", \"cherry\"]\n",
        "thislist[1:2] = [\"blackcurrant\", \"watermelon\"]\n",
        "print(thislist)"
      ],
      "metadata": {
        "colab": {
          "base_uri": "https://localhost:8080/"
        },
        "id": "ZONKIjBjg2IJ",
        "outputId": "89c0ff6b-8231-484a-be08-01e67f266c0d"
      },
      "execution_count": null,
      "outputs": [
        {
          "output_type": "stream",
          "name": "stdout",
          "text": [
            "['apple', 'blackcurrant', 'watermelon', 'cherry']\n"
          ]
        }
      ]
    },
    {
      "cell_type": "code",
      "source": [
        "thislist = [\"apple\", \"banana\", \"cherry\"]\n",
        "thislist[1:3] = [\"watermelon\"]\n",
        "print(thislist)"
      ],
      "metadata": {
        "colab": {
          "base_uri": "https://localhost:8080/"
        },
        "id": "4LOy8ePVg7Jv",
        "outputId": "09d2ff5c-d758-40c9-9b7f-1aaa8208b00b"
      },
      "execution_count": null,
      "outputs": [
        {
          "output_type": "stream",
          "name": "stdout",
          "text": [
            "['apple', 'watermelon']\n"
          ]
        }
      ]
    },
    {
      "cell_type": "markdown",
      "source": [
        "#### Insert Items\n"
      ],
      "metadata": {
        "id": "xvihXNGAg_f7"
      }
    },
    {
      "cell_type": "markdown",
      "source": [
        "To insert a new list item, without replacing any of the existing values, use the ```insert()``` method."
      ],
      "metadata": {
        "id": "rAudoaRkhELU"
      }
    },
    {
      "cell_type": "code",
      "source": [
        "thislist = [\"apple\", \"banana\", \"cherry\"]\n",
        "thislist.insert(2, \"watermelon\")\n",
        "print(thislist)"
      ],
      "metadata": {
        "colab": {
          "base_uri": "https://localhost:8080/"
        },
        "id": "L_F9s8OchHuv",
        "outputId": "7e6c3f9c-2e5e-4ce5-b445-86cb15af29fe"
      },
      "execution_count": null,
      "outputs": [
        {
          "output_type": "stream",
          "name": "stdout",
          "text": [
            "['apple', 'banana', 'watermelon', 'cherry']\n"
          ]
        }
      ]
    },
    {
      "cell_type": "markdown",
      "source": [
        "To add an item to the end of the list, use the ```append()``` method:\n",
        "\n"
      ],
      "metadata": {
        "id": "kAHFzK9DhMsY"
      }
    },
    {
      "cell_type": "code",
      "source": [
        "thislist = [\"apple\", \"banana\", \"cherry\"]\n",
        "thislist.append(\"orange\")\n",
        "print(thislist)"
      ],
      "metadata": {
        "colab": {
          "base_uri": "https://localhost:8080/"
        },
        "id": "bOTlMhMLhTW2",
        "outputId": "86890674-3bff-488a-844a-9b8d3abd6e66"
      },
      "execution_count": null,
      "outputs": [
        {
          "output_type": "stream",
          "name": "stdout",
          "text": [
            "['apple', 'banana', 'cherry', 'orange']\n"
          ]
        }
      ]
    },
    {
      "cell_type": "markdown",
      "source": [
        "To append multiple elements from another list to the current list, use the ```extend()``` method.\n",
        "\n"
      ],
      "metadata": {
        "id": "ONV8xXzhhYsG"
      }
    },
    {
      "cell_type": "code",
      "source": [
        "thislist = [\"apple\", \"banana\", \"cherry\"]\n",
        "tropical = [\"mango\", \"pineapple\", \"papaya\"]\n",
        "thislist.extend(tropical)\n",
        "print(thislist)"
      ],
      "metadata": {
        "colab": {
          "base_uri": "https://localhost:8080/"
        },
        "id": "bclnk-KphcBa",
        "outputId": "b2ab72d0-8c15-4371-a1b2-e78a1fbffef0"
      },
      "execution_count": null,
      "outputs": [
        {
          "output_type": "stream",
          "name": "stdout",
          "text": [
            "['apple', 'banana', 'cherry', 'mango', 'pineapple', 'papaya']\n"
          ]
        }
      ]
    },
    {
      "cell_type": "markdown",
      "source": [
        "The ```extend()``` method does not have to append lists, can add any iterable object (tuples, sets, dictionaries etc.)."
      ],
      "metadata": {
        "id": "3cwEHZQuheFN"
      }
    },
    {
      "cell_type": "code",
      "source": [
        "thislist = [\"apple\", \"banana\", \"cherry\"]\n",
        "thistuple = (\"kiwi\", \"orange\")\n",
        "thislist.extend(thistuple)\n",
        "print(thislist)"
      ],
      "metadata": {
        "colab": {
          "base_uri": "https://localhost:8080/"
        },
        "id": "LWI30LxXhk5U",
        "outputId": "04e70a5e-2744-4949-d923-8ca76d81a78c"
      },
      "execution_count": null,
      "outputs": [
        {
          "output_type": "stream",
          "name": "stdout",
          "text": [
            "['apple', 'banana', 'cherry', 'kiwi', 'orange']\n"
          ]
        }
      ]
    },
    {
      "cell_type": "markdown",
      "source": [
        "#### Remove List items"
      ],
      "metadata": {
        "id": "VlnnhOH1hph9"
      }
    },
    {
      "cell_type": "markdown",
      "source": [
        "The ```remove()``` method removes the specified item."
      ],
      "metadata": {
        "id": "YELwnZ4Chu5p"
      }
    },
    {
      "cell_type": "code",
      "source": [
        "thislist = [\"apple\", \"banana\", \"cherry\"]\n",
        "thislist.remove(\"banana\")\n",
        "print(thislist)"
      ],
      "metadata": {
        "colab": {
          "base_uri": "https://localhost:8080/"
        },
        "id": "ycxlskc6hr_y",
        "outputId": "5c661a80-c53f-412c-b635-2f4c753a790b"
      },
      "execution_count": null,
      "outputs": [
        {
          "output_type": "stream",
          "name": "stdout",
          "text": [
            "['apple', 'cherry']\n"
          ]
        }
      ]
    },
    {
      "cell_type": "markdown",
      "source": [
        "If there are more than one item with the specified value, the remove() method removes the first occurance\n",
        "\n"
      ],
      "metadata": {
        "id": "b4ONf3TCh1Bc"
      }
    },
    {
      "cell_type": "markdown",
      "source": [
        "The ```pop()``` method removes the specified index.\n"
      ],
      "metadata": {
        "id": "YYSYnsPJh44Q"
      }
    },
    {
      "cell_type": "code",
      "source": [
        "thislist = [\"apple\", \"banana\", \"cherry\"]\n",
        "thislist.pop(1)\n",
        "print(thislist)"
      ],
      "metadata": {
        "colab": {
          "base_uri": "https://localhost:8080/"
        },
        "id": "_y2Hj_Grh9wa",
        "outputId": "08854c83-1a62-4727-d1da-17adc0bde585"
      },
      "execution_count": null,
      "outputs": [
        {
          "output_type": "stream",
          "name": "stdout",
          "text": [
            "['apple', 'cherry']\n"
          ]
        }
      ]
    },
    {
      "cell_type": "markdown",
      "source": [
        "If you do not specify the index, the ```pop()``` method removes the last item.\n",
        "\n"
      ],
      "metadata": {
        "id": "oCDSq-P2iAWX"
      }
    },
    {
      "cell_type": "code",
      "source": [
        "thislist = [\"apple\", \"banana\", \"cherry\"]\n",
        "thislist.pop()\n",
        "print(thislist)"
      ],
      "metadata": {
        "colab": {
          "base_uri": "https://localhost:8080/"
        },
        "id": "hnlHC7FbiBme",
        "outputId": "4b7fe64c-5098-4886-ec53-468aec570bd9"
      },
      "execution_count": null,
      "outputs": [
        {
          "output_type": "stream",
          "name": "stdout",
          "text": [
            "['apple', 'banana']\n"
          ]
        }
      ]
    },
    {
      "cell_type": "markdown",
      "source": [
        "The ```del``` keyword also removes the specified index"
      ],
      "metadata": {
        "id": "Vz073eddiF8m"
      }
    },
    {
      "cell_type": "code",
      "source": [
        "thislist = [\"apple\", \"banana\", \"cherry\"]\n",
        "del thislist[0]\n",
        "print(thislist)"
      ],
      "metadata": {
        "colab": {
          "base_uri": "https://localhost:8080/"
        },
        "id": "QPe13TcAiHcI",
        "outputId": "a1470e07-7039-4727-a81b-1854b7373638"
      },
      "execution_count": null,
      "outputs": [
        {
          "output_type": "stream",
          "name": "stdout",
          "text": [
            "['banana', 'cherry']\n"
          ]
        }
      ]
    },
    {
      "cell_type": "markdown",
      "source": [
        "The ```del``` keyword can also delete the list completely.\n",
        "\n"
      ],
      "metadata": {
        "id": "-aarOyB4iLnA"
      }
    },
    {
      "cell_type": "code",
      "source": [
        "thislist = [\"apple\", \"banana\", \"cherry\"]\n",
        "del thislist"
      ],
      "metadata": {
        "id": "EKMNojC-iK1T"
      },
      "execution_count": null,
      "outputs": []
    },
    {
      "cell_type": "markdown",
      "source": [
        "The `clear()` method empties the list."
      ],
      "metadata": {
        "id": "Y6l4HtdkiTaD"
      }
    },
    {
      "cell_type": "code",
      "source": [
        "thislist = [\"apple\", \"banana\", \"cherry\"]\n",
        "thislist.clear()\n",
        "print(thislist)"
      ],
      "metadata": {
        "colab": {
          "base_uri": "https://localhost:8080/"
        },
        "id": "bAuTFm0victy",
        "outputId": "e30425a4-d13d-4ad8-a0fb-4dfcecc96c34"
      },
      "execution_count": null,
      "outputs": [
        {
          "output_type": "stream",
          "name": "stdout",
          "text": [
            "[]\n"
          ]
        }
      ]
    },
    {
      "cell_type": "markdown",
      "source": [
        "#### Loop Through a List"
      ],
      "metadata": {
        "id": "YlTz08Pgif0N"
      }
    },
    {
      "cell_type": "markdown",
      "source": [
        "Loop through elements"
      ],
      "metadata": {
        "id": "ngmv03Dhi1uz"
      }
    },
    {
      "cell_type": "code",
      "source": [
        "thislist = [\"apple\", \"banana\", \"cherry\"]\n",
        "for x in thislist:\n",
        "  print(x)"
      ],
      "metadata": {
        "colab": {
          "base_uri": "https://localhost:8080/"
        },
        "id": "wT_aNNF1i93c",
        "outputId": "98be3aef-3ca3-4ffb-debe-de07eb2e1be0"
      },
      "execution_count": null,
      "outputs": [
        {
          "output_type": "stream",
          "name": "stdout",
          "text": [
            "apple\n",
            "banana\n",
            "cherry\n"
          ]
        }
      ]
    },
    {
      "cell_type": "code",
      "source": [
        "thislist = [\"apple\", \"banana\", \"cherry\"]\n",
        "for i in range(len(thislist)):\n",
        "  print(thislist[i])"
      ],
      "metadata": {
        "colab": {
          "base_uri": "https://localhost:8080/"
        },
        "id": "26dAs70nifSl",
        "outputId": "cfc4932c-bc54-4aa2-ace8-299fa2cf6264"
      },
      "execution_count": null,
      "outputs": [
        {
          "output_type": "stream",
          "name": "stdout",
          "text": [
            "apple\n",
            "banana\n",
            "cherry\n"
          ]
        }
      ]
    },
    {
      "cell_type": "markdown",
      "source": [
        "Get the index and the element while looping,"
      ],
      "metadata": {
        "id": "IHxD5ehWjAJv"
      }
    },
    {
      "cell_type": "code",
      "source": [
        "# Using enumerate() with a list\n",
        "my_list = ['apple', 'banana', 'cherry']\n",
        "for index, value in enumerate(my_list):\n",
        "    print(index, value)\n"
      ],
      "metadata": {
        "colab": {
          "base_uri": "https://localhost:8080/"
        },
        "id": "ex-BxLPzi_bx",
        "outputId": "794c8fca-5641-4dda-9021-93b6967ddbb7"
      },
      "execution_count": null,
      "outputs": [
        {
          "output_type": "stream",
          "name": "stdout",
          "text": [
            "0 apple\n",
            "1 banana\n",
            "2 cherry\n"
          ]
        }
      ]
    },
    {
      "cell_type": "markdown",
      "source": [
        "#### List Comprehension\n"
      ],
      "metadata": {
        "id": "A8ktFL57jGQG"
      }
    },
    {
      "cell_type": "markdown",
      "source": [
        "Syntax: <br>\n",
        "> ```newlist = [expression for item in iterable if condition == True]```"
      ],
      "metadata": {
        "id": "txyqEkhv2WON"
      }
    },
    {
      "cell_type": "code",
      "source": [
        "fruits = [\"apple\", \"banana\", \"cherry\", \"kiwi\", \"mango\"]\n",
        "newlist = [x for x in fruits if \"a\" in x]\n",
        "print(newlist)"
      ],
      "metadata": {
        "colab": {
          "base_uri": "https://localhost:8080/"
        },
        "id": "fsB8gHIqjWCl",
        "outputId": "bd6736b5-c798-4efa-d771-72f531ea7410"
      },
      "execution_count": null,
      "outputs": [
        {
          "output_type": "stream",
          "name": "stdout",
          "text": [
            "['apple', 'banana', 'mango']\n"
          ]
        }
      ]
    },
    {
      "cell_type": "code",
      "source": [
        "newlist = [x for x in range(10)]\n",
        "print(newlist)"
      ],
      "metadata": {
        "colab": {
          "base_uri": "https://localhost:8080/"
        },
        "id": "RcBzoZSP28Id",
        "outputId": "0d27006f-8169-47ff-c444-3cfa2df7b4e4"
      },
      "execution_count": null,
      "outputs": [
        {
          "output_type": "stream",
          "name": "stdout",
          "text": [
            "[0, 1, 2, 3, 4, 5, 6, 7, 8, 9]\n"
          ]
        }
      ]
    },
    {
      "cell_type": "code",
      "source": [
        "newlist = [x for x in range(10) if x < 5]\n",
        "print(newlist)"
      ],
      "metadata": {
        "colab": {
          "base_uri": "https://localhost:8080/"
        },
        "id": "1ovaB3od3BVD",
        "outputId": "5a7debe0-44ad-4381-aa22-dff82ffac9b3"
      },
      "execution_count": null,
      "outputs": [
        {
          "output_type": "stream",
          "name": "stdout",
          "text": [
            "[0, 1, 2, 3, 4]\n"
          ]
        }
      ]
    },
    {
      "cell_type": "code",
      "source": [
        "fruits = [\"apple\", \"banana\", \"cherry\", \"kiwi\", \"mango\"]\n",
        "newlist = [x.upper() for x in fruits]\n",
        "print(newlist)"
      ],
      "metadata": {
        "colab": {
          "base_uri": "https://localhost:8080/"
        },
        "id": "IJZ-37qX3H0b",
        "outputId": "0a99b0ef-e457-4451-9537-ceb02b0cd8fd"
      },
      "execution_count": null,
      "outputs": [
        {
          "output_type": "stream",
          "name": "stdout",
          "text": [
            "['APPLE', 'BANANA', 'CHERRY', 'KIWI', 'MANGO']\n"
          ]
        }
      ]
    },
    {
      "cell_type": "code",
      "source": [
        "fruits = [\"apple\", \"banana\", \"cherry\", \"kiwi\", \"mango\"]\n",
        "newlist = ['hello' for x in fruits]\n",
        "print(newlist)"
      ],
      "metadata": {
        "colab": {
          "base_uri": "https://localhost:8080/"
        },
        "id": "SiwycZaq3Lg9",
        "outputId": "95181ffa-d419-4ecb-8832-7df716c83b5c"
      },
      "execution_count": null,
      "outputs": [
        {
          "output_type": "stream",
          "name": "stdout",
          "text": [
            "['hello', 'hello', 'hello', 'hello', 'hello']\n"
          ]
        }
      ]
    },
    {
      "cell_type": "code",
      "source": [
        "# Orange Instead of banana\n",
        "fruits = [\"apple\", \"banana\", \"cherry\", \"kiwi\", \"mango\"]\n",
        "newlist = [x if x != \"banana\" else \"orange\" for x in fruits]\n",
        "print(newlist)"
      ],
      "metadata": {
        "colab": {
          "base_uri": "https://localhost:8080/"
        },
        "id": "AjAOKOlR3Pm_",
        "outputId": "9cdb5037-fa13-473b-cdee-b29e104358c6"
      },
      "execution_count": null,
      "outputs": [
        {
          "output_type": "stream",
          "name": "stdout",
          "text": [
            "['apple', 'orange', 'cherry', 'kiwi', 'mango']\n"
          ]
        }
      ]
    },
    {
      "cell_type": "markdown",
      "source": [
        "#### Sort Lists\n"
      ],
      "metadata": {
        "id": "ZWeA8xfE3qWg"
      }
    },
    {
      "cell_type": "markdown",
      "source": [
        "Sort List Alphanumerically\n"
      ],
      "metadata": {
        "id": "F7lsbtNp3vVR"
      }
    },
    {
      "cell_type": "code",
      "source": [
        "thislist = [\"orange\", \"mango\", \"kiwi\", \"pineapple\", \"banana\"]\n",
        "thislist.sort()\n",
        "print(thislist)"
      ],
      "metadata": {
        "colab": {
          "base_uri": "https://localhost:8080/"
        },
        "id": "B85cdNQW3xg1",
        "outputId": "6c5ad5aa-ba70-4e77-eb5f-f119e17db132"
      },
      "execution_count": null,
      "outputs": [
        {
          "output_type": "stream",
          "name": "stdout",
          "text": [
            "['banana', 'kiwi', 'mango', 'orange', 'pineapple']\n"
          ]
        }
      ]
    },
    {
      "cell_type": "markdown",
      "source": [
        "Sort Descending\n"
      ],
      "metadata": {
        "id": "hildzuqc33eJ"
      }
    },
    {
      "cell_type": "code",
      "source": [
        "thislist = [\"orange\", \"mango\", \"kiwi\", \"pineapple\", \"banana\"]\n",
        "thislist.sort(reverse = True)\n",
        "print(thislist)"
      ],
      "metadata": {
        "colab": {
          "base_uri": "https://localhost:8080/"
        },
        "id": "XoYDXDiS3381",
        "outputId": "d2d55afc-748d-417a-ced8-17c187f9f4ea"
      },
      "execution_count": null,
      "outputs": [
        {
          "output_type": "stream",
          "name": "stdout",
          "text": [
            "['pineapple', 'orange', 'mango', 'kiwi', 'banana']\n"
          ]
        }
      ]
    },
    {
      "cell_type": "markdown",
      "source": [
        "##### Customize Sort Function\n"
      ],
      "metadata": {
        "id": "6xu4nVgR4KXK"
      }
    },
    {
      "cell_type": "markdown",
      "source": [
        "Customize the function by using the keyword argument ```key = function```.\n",
        "\n",
        "The function will return a number that will be used to sort the list (the lowest number first)"
      ],
      "metadata": {
        "id": "SzTZvDvl4UOm"
      }
    },
    {
      "cell_type": "code",
      "source": [
        "def myfunc(n):\n",
        "  return abs(n - 50)\n",
        "\n",
        "thislist = [100, 50, 65, 82, 23]\n",
        "thislist.sort(key = myfunc)\n",
        "print(thislist)"
      ],
      "metadata": {
        "colab": {
          "base_uri": "https://localhost:8080/"
        },
        "id": "RMw4B3tE4S5A",
        "outputId": "5bc63a14-2f37-4898-8739-8b4b37749309"
      },
      "execution_count": null,
      "outputs": [
        {
          "output_type": "stream",
          "name": "stdout",
          "text": [
            "[50, 65, 23, 82, 100]\n"
          ]
        }
      ]
    },
    {
      "cell_type": "markdown",
      "source": [
        "Case Insensitive Sort\n"
      ],
      "metadata": {
        "id": "tWguWACTAWi5"
      }
    },
    {
      "cell_type": "markdown",
      "source": [
        "By default the ```sort()``` method is case sensitive, resulting in all capital letters being sorted before lower case letters"
      ],
      "metadata": {
        "id": "9LoUtEX34Edy"
      }
    },
    {
      "cell_type": "code",
      "source": [
        "thislist = [\"banana\", \"Orange\", \"Kiwi\", \"cherry\"]\n",
        "thislist.sort()\n",
        "print(thislist)"
      ],
      "metadata": {
        "colab": {
          "base_uri": "https://localhost:8080/"
        },
        "id": "d1eC7-nhAaGm",
        "outputId": "685df10e-fb50-4403-92c8-40891114ed2b"
      },
      "execution_count": null,
      "outputs": [
        {
          "output_type": "stream",
          "name": "stdout",
          "text": [
            "['Kiwi', 'Orange', 'banana', 'cherry']\n"
          ]
        }
      ]
    },
    {
      "cell_type": "code",
      "source": [
        "thislist = [\"banana\", \"Orange\", \"Kiwi\", \"cherry\"]\n",
        "thislist.sort(key = str.lower)\n",
        "print(thislist)"
      ],
      "metadata": {
        "colab": {
          "base_uri": "https://localhost:8080/"
        },
        "id": "5PjLqxL1AdOL",
        "outputId": "ca2e3ade-7532-4641-baf1-2f7083e3ee11"
      },
      "execution_count": null,
      "outputs": [
        {
          "output_type": "stream",
          "name": "stdout",
          "text": [
            "['banana', 'cherry', 'Kiwi', 'Orange']\n"
          ]
        }
      ]
    },
    {
      "cell_type": "markdown",
      "source": [
        "Reverse the list"
      ],
      "metadata": {
        "id": "oTSxksJAAkDy"
      }
    },
    {
      "cell_type": "code",
      "source": [
        "thislist = [\"banana\", \"Orange\", \"Kiwi\", \"cherry\"]\n",
        "thislist.reverse()\n",
        "print(thislist)"
      ],
      "metadata": {
        "colab": {
          "base_uri": "https://localhost:8080/"
        },
        "id": "cDLL-B8HAmHy",
        "outputId": "61c7d139-27e4-41ec-e4da-df1bb70d77a6"
      },
      "execution_count": null,
      "outputs": [
        {
          "output_type": "stream",
          "name": "stdout",
          "text": [
            "['cherry', 'Kiwi', 'Orange', 'banana']\n"
          ]
        }
      ]
    },
    {
      "cell_type": "markdown",
      "source": [
        "#### Copy a List\n"
      ],
      "metadata": {
        "id": "JnqTRRjBAvAR"
      }
    },
    {
      "cell_type": "markdown",
      "source": [
        "Cannot copy a list simply by typing ```list2 = list1```, because: ```list2``` will only be a reference to ```list1```, and changes made in list1 will automatically also be made in ```list2```.\n",
        "\n",
        "There are ways to make a copy, one way is to use the built-in List method ```copy()```."
      ],
      "metadata": {
        "id": "G_AqheheAwBK"
      }
    },
    {
      "cell_type": "code",
      "source": [
        "thislist = [\"apple\", \"banana\", \"cherry\"]\n",
        "mylist = thislist.copy()\n",
        "print(mylist)"
      ],
      "metadata": {
        "colab": {
          "base_uri": "https://localhost:8080/"
        },
        "id": "-9rNpBJ9BFTX",
        "outputId": "00234648-c9ff-4fd7-b703-b9cf1120f571"
      },
      "execution_count": null,
      "outputs": [
        {
          "output_type": "stream",
          "name": "stdout",
          "text": [
            "['apple', 'banana', 'cherry']\n"
          ]
        }
      ]
    },
    {
      "cell_type": "markdown",
      "source": [
        "Make a copy of a list with the ```list()``` method"
      ],
      "metadata": {
        "id": "U-jTFtaqBEpb"
      }
    },
    {
      "cell_type": "code",
      "source": [
        "thislist = [\"apple\", \"banana\", \"cherry\"]\n",
        "mylist = list(thislist)\n",
        "print(mylist)"
      ],
      "metadata": {
        "colab": {
          "base_uri": "https://localhost:8080/"
        },
        "id": "lW4SkeJ5BIyb",
        "outputId": "39c03621-77e5-41bf-bbf7-10079f70e318"
      },
      "execution_count": null,
      "outputs": [
        {
          "output_type": "stream",
          "name": "stdout",
          "text": [
            "['apple', 'banana', 'cherry']\n"
          ]
        }
      ]
    },
    {
      "cell_type": "markdown",
      "source": [
        "#### Join Two Lists\n"
      ],
      "metadata": {
        "id": "pqRBXH4WBSuI"
      }
    },
    {
      "cell_type": "markdown",
      "source": [
        "Using the ```+``` operator"
      ],
      "metadata": {
        "id": "5h2mh7jEBWkD"
      }
    },
    {
      "cell_type": "code",
      "source": [
        "list1 = [\"a\", \"b\", \"c\"]\n",
        "list2 = [1, 2, 3]\n",
        "\n",
        "list3 = list1 + list2\n",
        "print(list3)"
      ],
      "metadata": {
        "colab": {
          "base_uri": "https://localhost:8080/"
        },
        "id": "Vyu26aB4BTw_",
        "outputId": "a2a9eee9-4660-48a6-d87d-caea787db475"
      },
      "execution_count": null,
      "outputs": [
        {
          "output_type": "stream",
          "name": "stdout",
          "text": [
            "['a', 'b', 'c', 1, 2, 3]\n"
          ]
        }
      ]
    },
    {
      "cell_type": "markdown",
      "source": [
        " Use the ```extend()``` method"
      ],
      "metadata": {
        "id": "afDRvwXFBgxv"
      }
    },
    {
      "cell_type": "code",
      "source": [
        "list1 = [\"a\", \"b\" , \"c\"]\n",
        "list2 = [1, 2, 3]\n",
        "\n",
        "list1.extend(list2)\n",
        "print(list1)"
      ],
      "metadata": {
        "colab": {
          "base_uri": "https://localhost:8080/"
        },
        "id": "NzxfprHIBjYF",
        "outputId": "64923b9a-1ead-47d1-82e1-69c747f05f76"
      },
      "execution_count": null,
      "outputs": [
        {
          "output_type": "stream",
          "name": "stdout",
          "text": [
            "['a', 'b', 'c', 1, 2, 3]\n"
          ]
        }
      ]
    },
    {
      "cell_type": "markdown",
      "source": [
        "#### Methods"
      ],
      "metadata": {
        "id": "jL1-xOZkBloR"
      }
    },
    {
      "cell_type": "markdown",
      "source": [
        "\n",
        "| Method       | Description                                                                                                    | Example                                               |\n",
        "|--------------|----------------------------------------------------------------------------------------------------------------|-------------------------------------------------------|\n",
        "| append()     | Adds an element to the end of the list                                                                         | `my_list.append(4)`                                   |\n",
        "| clear()      | Removes all elements from the list                                                                             | `my_list.clear()`                                     |\n",
        "| copy()       | Returns a shallow copy of the list                                                                             | `new_list = my_list.copy()`                          |\n",
        "| count()      | Returns the number of occurrences of a specified element in the list                                          | `count = my_list.count(2)`                           |\n",
        "| extend()     | Adds elements from an iterable to the end of the list                                                          | `my_list.extend([5, 6])`                              |\n",
        "| index()      | Returns the index of the first occurrence of a specified element in the list                                    | `index = my_list.index(3)`                            |\n",
        "| insert()     | Inserts an element at the specified position                                                                   | `my_list.insert(1, 'a')`                              |\n",
        "| pop()        | Removes and returns the element at the specified index (default is the last element)                            | `element = my_list.pop(2)`                            |\n",
        "| remove()     | Removes the first occurrence of a specified element from the list                                              | `my_list.remove('a')`                                 |\n",
        "| reverse()    | Reverses the elements of the list                                                                              | `my_list.reverse()`                                   |\n",
        "| sort()       | Sorts the elements of the list (in-place by default)                                                           | `my_list.sort()`                                      |\n",
        "\n"
      ],
      "metadata": {
        "id": "FX_mz0SsByzg"
      }
    },
    {
      "cell_type": "markdown",
      "source": [
        "### Tuples\n"
      ],
      "metadata": {
        "id": "UvFXG3m_EEuV"
      }
    },
    {
      "cell_type": "markdown",
      "source": [
        "A tuple is a collection which is ordered and unchangeable.Tuple items are ordered, unchangeable, and allow duplicate values.Tuple items can be of any data type.\n",
        "\n"
      ],
      "metadata": {
        "id": "Rtf6wz1cSES5"
      }
    },
    {
      "cell_type": "code",
      "source": [
        "thistuple = (\"apple\", \"banana\", \"cherry\", \"apple\", \"cherry\")\n",
        "print(thistuple)"
      ],
      "metadata": {
        "colab": {
          "base_uri": "https://localhost:8080/"
        },
        "id": "fyxopQu2SG26",
        "outputId": "d85854a1-1af2-4988-e3d5-97460e3690b6"
      },
      "execution_count": null,
      "outputs": [
        {
          "output_type": "stream",
          "name": "stdout",
          "text": [
            "('apple', 'banana', 'cherry', 'apple', 'cherry')\n"
          ]
        }
      ]
    },
    {
      "cell_type": "markdown",
      "source": [
        "#### Tuple Length\n"
      ],
      "metadata": {
        "id": "pi75tUQnSEpR"
      }
    },
    {
      "cell_type": "code",
      "source": [
        "print(len(thistuple))"
      ],
      "metadata": {
        "colab": {
          "base_uri": "https://localhost:8080/"
        },
        "id": "2w5J1ylxBx9W",
        "outputId": "063938ac-6465-40cb-eaa2-602b9376a94f"
      },
      "execution_count": null,
      "outputs": [
        {
          "output_type": "stream",
          "name": "stdout",
          "text": [
            "5\n"
          ]
        }
      ]
    },
    {
      "cell_type": "markdown",
      "source": [
        "#### Create tuple"
      ],
      "metadata": {
        "id": "ePgZMoR2SVqi"
      }
    },
    {
      "cell_type": "markdown",
      "source": [
        "Create Tuple With One Item\n"
      ],
      "metadata": {
        "id": "SyS_T5bGSXgn"
      }
    },
    {
      "cell_type": "code",
      "source": [
        "thistuple = (\"apple\",)   ## Must inclue , at the end\n",
        "print(type(thistuple))"
      ],
      "metadata": {
        "colab": {
          "base_uri": "https://localhost:8080/"
        },
        "id": "fdwCa3itSa8k",
        "outputId": "2b9999e4-3876-4070-9d91-0e2bc5532868"
      },
      "execution_count": null,
      "outputs": [
        {
          "output_type": "stream",
          "name": "stdout",
          "text": [
            "<class 'tuple'>\n"
          ]
        }
      ]
    },
    {
      "cell_type": "code",
      "source": [
        "#NOT a tuple\n",
        "thistuple = (\"apple\")\n",
        "print(type(thistuple))"
      ],
      "metadata": {
        "colab": {
          "base_uri": "https://localhost:8080/"
        },
        "id": "49QHhw4CSgdK",
        "outputId": "18cb8854-71f3-4bb0-dfe6-ea05e246eb79"
      },
      "execution_count": null,
      "outputs": [
        {
          "output_type": "stream",
          "name": "stdout",
          "text": [
            "<class 'str'>\n"
          ]
        }
      ]
    },
    {
      "cell_type": "markdown",
      "source": [
        "The ```tuple()``` Constructor\n"
      ],
      "metadata": {
        "id": "iqpPqO5CSpqC"
      }
    },
    {
      "cell_type": "code",
      "source": [
        "thistuple = tuple((\"apple\", \"banana\", \"cherry\"))\n",
        "print(thistuple)"
      ],
      "metadata": {
        "colab": {
          "base_uri": "https://localhost:8080/"
        },
        "id": "Sr-4qaEHSrF8",
        "outputId": "0b4f45f2-f80a-45be-a247-82d1c5354d1d"
      },
      "execution_count": null,
      "outputs": [
        {
          "output_type": "stream",
          "name": "stdout",
          "text": [
            "('apple', 'banana', 'cherry')\n"
          ]
        }
      ]
    },
    {
      "cell_type": "markdown",
      "source": [
        "#### Access Tuple Items\n"
      ],
      "metadata": {
        "id": "tzUlEz-iSxKh"
      }
    },
    {
      "cell_type": "markdown",
      "source": [
        " By referring to the index number"
      ],
      "metadata": {
        "id": "lZccA4XiS2B-"
      }
    },
    {
      "cell_type": "code",
      "source": [
        "thistuple = (\"apple\", \"banana\", \"cherry\")\n",
        "print(thistuple[1])"
      ],
      "metadata": {
        "colab": {
          "base_uri": "https://localhost:8080/"
        },
        "id": "Ldmv9WoZSyFN",
        "outputId": "95d71771-6b61-439c-9167-4de348b736e8"
      },
      "execution_count": null,
      "outputs": [
        {
          "output_type": "stream",
          "name": "stdout",
          "text": [
            "banana\n"
          ]
        }
      ]
    },
    {
      "cell_type": "markdown",
      "source": [
        "Negative Indexing"
      ],
      "metadata": {
        "id": "H-G_2-xtS5H9"
      }
    },
    {
      "cell_type": "code",
      "source": [
        "thistuple = (\"apple\", \"banana\", \"cherry\")\n",
        "print(thistuple[-1])"
      ],
      "metadata": {
        "colab": {
          "base_uri": "https://localhost:8080/"
        },
        "id": "fuN74egfS5hW",
        "outputId": "43771b44-50c8-4168-dba7-8379eac6bbd5"
      },
      "execution_count": null,
      "outputs": [
        {
          "output_type": "stream",
          "name": "stdout",
          "text": [
            "cherry\n"
          ]
        }
      ]
    },
    {
      "cell_type": "markdown",
      "source": [
        "Range of Indexes\n"
      ],
      "metadata": {
        "id": "lFcQRMfWS8_-"
      }
    },
    {
      "cell_type": "code",
      "source": [
        "thistuple = (\"apple\", \"banana\", \"cherry\", \"orange\", \"kiwi\", \"melon\", \"mango\")\n",
        "print(thistuple[2:5])    #Includes 2 and excludes 5"
      ],
      "metadata": {
        "colab": {
          "base_uri": "https://localhost:8080/"
        },
        "id": "6GeeCycZS9fn",
        "outputId": "5d024d62-8caa-46e3-ef41-baf4fe93b3d0"
      },
      "execution_count": null,
      "outputs": [
        {
          "output_type": "stream",
          "name": "stdout",
          "text": [
            "('cherry', 'orange', 'kiwi')\n"
          ]
        }
      ]
    },
    {
      "cell_type": "code",
      "source": [
        "thistuple = (\"apple\", \"banana\", \"cherry\", \"orange\", \"kiwi\", \"melon\", \"mango\")\n",
        "print(thistuple[:4])"
      ],
      "metadata": {
        "colab": {
          "base_uri": "https://localhost:8080/"
        },
        "id": "y8c1WHffTGxm",
        "outputId": "20ac4ca5-dc9b-4572-977f-512033d09afa"
      },
      "execution_count": null,
      "outputs": [
        {
          "output_type": "stream",
          "name": "stdout",
          "text": [
            "('apple', 'banana', 'cherry', 'orange')\n"
          ]
        }
      ]
    },
    {
      "cell_type": "code",
      "source": [
        "thistuple = (\"apple\", \"banana\", \"cherry\", \"orange\", \"kiwi\", \"melon\", \"mango\")\n",
        "print(thistuple[2:])"
      ],
      "metadata": {
        "colab": {
          "base_uri": "https://localhost:8080/"
        },
        "id": "kZK1DiNDTLVC",
        "outputId": "49c7b9c5-3b48-44cd-bb5f-764d6f7b2f84"
      },
      "execution_count": null,
      "outputs": [
        {
          "output_type": "stream",
          "name": "stdout",
          "text": [
            "('cherry', 'orange', 'kiwi', 'melon', 'mango')\n"
          ]
        }
      ]
    },
    {
      "cell_type": "code",
      "source": [
        "thistuple = (\"apple\", \"banana\", \"cherry\", \"orange\", \"kiwi\", \"melon\", \"mango\")\n",
        "print(thistuple[-4:-1])"
      ],
      "metadata": {
        "colab": {
          "base_uri": "https://localhost:8080/"
        },
        "id": "CrnlHc6BTN-Y",
        "outputId": "fe1a2339-ec23-4120-ce20-c6019a877cf3"
      },
      "execution_count": null,
      "outputs": [
        {
          "output_type": "stream",
          "name": "stdout",
          "text": [
            "('orange', 'kiwi', 'melon')\n"
          ]
        }
      ]
    },
    {
      "cell_type": "markdown",
      "source": [
        "#### Change Tuple Values"
      ],
      "metadata": {
        "id": "Kbae823bV9ho"
      }
    },
    {
      "cell_type": "markdown",
      "source": [
        "Once a tuple is created, you cannot change its values. Tuples are unchangeable, or immutable as it also is called.Convert the tuple into a list, change the list, and convert the list back into a tuple."
      ],
      "metadata": {
        "id": "AnDZ6O2cWAQg"
      }
    },
    {
      "cell_type": "code",
      "source": [
        "x = (\"apple\", \"banana\", \"cherry\")\n",
        "y = list(x)\n",
        "y[1] = \"kiwi\"\n",
        "x = tuple(y)\n",
        "print(x)"
      ],
      "metadata": {
        "colab": {
          "base_uri": "https://localhost:8080/"
        },
        "id": "VQ68kXNKWIOU",
        "outputId": "63732ad2-6619-4727-89ef-56f9f49e8ed3"
      },
      "execution_count": null,
      "outputs": [
        {
          "output_type": "stream",
          "name": "stdout",
          "text": [
            "('apple', 'kiwi', 'cherry')\n"
          ]
        }
      ]
    },
    {
      "cell_type": "markdown",
      "source": [
        "Add tuple to a tuple. You are allowed to add tuples to tuples, so if you want to add one item, (or many), create a new tuple with the item(s), and add it to the existing tuple:"
      ],
      "metadata": {
        "id": "gKFffBqIWJc4"
      }
    },
    {
      "cell_type": "code",
      "source": [
        "thistuple = (\"apple\", \"banana\", \"cherry\")\n",
        "y = (\"orange\",)\n",
        "thistuple += y\n",
        "print(thistuple)"
      ],
      "metadata": {
        "colab": {
          "base_uri": "https://localhost:8080/"
        },
        "id": "LGhB7jvJWQM9",
        "outputId": "3b669850-5498-41bf-a201-efbf48bb7918"
      },
      "execution_count": null,
      "outputs": [
        {
          "output_type": "stream",
          "name": "stdout",
          "text": [
            "('apple', 'banana', 'cherry', 'orange')\n"
          ]
        }
      ]
    },
    {
      "cell_type": "markdown",
      "source": [
        "#### Unpack tuples"
      ],
      "metadata": {
        "id": "bD9z0lErWWt1"
      }
    },
    {
      "cell_type": "code",
      "source": [
        "fruits = (\"apple\", \"banana\", \"cherry\")\n",
        "\n",
        "(green, yellow, red) = fruits\n",
        "\n",
        "print(green)\n",
        "print(yellow)\n",
        "print(red)"
      ],
      "metadata": {
        "colab": {
          "base_uri": "https://localhost:8080/"
        },
        "id": "uLUH4hUxWdcz",
        "outputId": "ddc655f2-6cef-4cda-ca99-302f7147a175"
      },
      "execution_count": null,
      "outputs": [
        {
          "output_type": "stream",
          "name": "stdout",
          "text": [
            "apple\n",
            "banana\n",
            "cherry\n"
          ]
        }
      ]
    },
    {
      "cell_type": "markdown",
      "source": [
        "If the number of variables is less than the number of values, you can add an `*` to the variable name and the values will be assigned to the variable as a list\n",
        "\n"
      ],
      "metadata": {
        "id": "It_z6VcrWahh"
      }
    },
    {
      "cell_type": "code",
      "source": [
        "fruits = (\"apple\", \"banana\", \"cherry\", \"strawberry\", \"raspberry\")\n",
        "(green, yellow, *red) = fruits\n",
        "print(green)\n",
        "print(yellow)\n",
        "print(red)"
      ],
      "metadata": {
        "colab": {
          "base_uri": "https://localhost:8080/"
        },
        "id": "YSv8oiTidtqP",
        "outputId": "b8adf0d5-391b-49ad-fa25-32f460d9220f"
      },
      "execution_count": null,
      "outputs": [
        {
          "output_type": "stream",
          "name": "stdout",
          "text": [
            "apple\n",
            "banana\n",
            "['cherry', 'strawberry', 'raspberry']\n"
          ]
        }
      ]
    },
    {
      "cell_type": "code",
      "source": [
        "fruits = (\"apple\", \"mango\", \"papaya\", \"pineapple\", \"cherry\")\n",
        "(green, *tropic, red) = fruits\n",
        "print(green)\n",
        "print(tropic)\n",
        "print(red)"
      ],
      "metadata": {
        "colab": {
          "base_uri": "https://localhost:8080/"
        },
        "id": "J8q7kVQHd0hi",
        "outputId": "0996ea7c-57f4-462a-bdf4-78d55a9a5a62"
      },
      "execution_count": null,
      "outputs": [
        {
          "output_type": "stream",
          "name": "stdout",
          "text": [
            "apple\n",
            "['mango', 'papaya', 'pineapple']\n",
            "cherry\n"
          ]
        }
      ]
    },
    {
      "cell_type": "markdown",
      "source": [
        "#### Loop Through a Tuple\n"
      ],
      "metadata": {
        "id": "2dCoQyQbd5fn"
      }
    },
    {
      "cell_type": "code",
      "source": [
        "thistuple = (\"apple\", \"banana\", \"cherry\")\n",
        "for x in thistuple:\n",
        "  print(x)"
      ],
      "metadata": {
        "colab": {
          "base_uri": "https://localhost:8080/"
        },
        "id": "zvL8Tvswd8PO",
        "outputId": "e9ee75bf-f026-4e6a-94a2-4059be978847"
      },
      "execution_count": null,
      "outputs": [
        {
          "output_type": "stream",
          "name": "stdout",
          "text": [
            "apple\n",
            "banana\n",
            "cherry\n"
          ]
        }
      ]
    },
    {
      "cell_type": "code",
      "source": [
        "thistuple = (\"apple\", \"banana\", \"cherry\")\n",
        "for i in range(len(thistuple)):\n",
        "  print(thistuple[i])"
      ],
      "metadata": {
        "colab": {
          "base_uri": "https://localhost:8080/"
        },
        "id": "LfvLk6N5d8U0",
        "outputId": "36cd76b1-1dc7-4eb6-a3c1-967d108a6d9f"
      },
      "execution_count": null,
      "outputs": [
        {
          "output_type": "stream",
          "name": "stdout",
          "text": [
            "apple\n",
            "banana\n",
            "cherry\n"
          ]
        }
      ]
    },
    {
      "cell_type": "markdown",
      "source": [
        "#### Join Two Tuples\n"
      ],
      "metadata": {
        "id": "vkF_pzafeJp5"
      }
    },
    {
      "cell_type": "code",
      "source": [
        "tuple1 = (\"a\", \"b\" , \"c\")\n",
        "tuple2 = (1, 2, 3)\n",
        "\n",
        "tuple3 = tuple1 + tuple2\n",
        "print(tuple3)"
      ],
      "metadata": {
        "colab": {
          "base_uri": "https://localhost:8080/"
        },
        "id": "EnUWbHe9eMcX",
        "outputId": "595b9183-f324-4205-c688-49f6dfb8f7d3"
      },
      "execution_count": null,
      "outputs": [
        {
          "output_type": "stream",
          "name": "stdout",
          "text": [
            "('a', 'b', 'c', 1, 2, 3)\n"
          ]
        }
      ]
    },
    {
      "cell_type": "code",
      "source": [
        "fruits = (\"apple\", \"banana\", \"cherry\")\n",
        "mytuple = fruits * 2\n",
        "\n",
        "print(mytuple)"
      ],
      "metadata": {
        "colab": {
          "base_uri": "https://localhost:8080/"
        },
        "id": "yAZzCpueePNK",
        "outputId": "e4524bcc-28b8-481f-a578-11ba64e365ba"
      },
      "execution_count": null,
      "outputs": [
        {
          "output_type": "stream",
          "name": "stdout",
          "text": [
            "('apple', 'banana', 'cherry', 'apple', 'banana', 'cherry')\n"
          ]
        }
      ]
    },
    {
      "cell_type": "markdown",
      "source": [
        "#### Tuple Methods"
      ],
      "metadata": {
        "id": "ig6TNlaVeKtS"
      }
    },
    {
      "cell_type": "markdown",
      "source": [
        "\n",
        "\n",
        "| Method       | Description                                                                                                    | Example                                               |\n",
        "|--------------|----------------------------------------------------------------------------------------------------------------|-------------------------------------------------------|\n",
        "| count()      | Returns the number of occurrences of a specified element in the tuple                                          | `my_tuple.count(2)`                                   |\n",
        "| index()      | Returns the index of the first occurrence of a specified element in the tuple                                    | `index = my_tuple.index(3)`                            |\n",
        "\n"
      ],
      "metadata": {
        "id": "esLqOy3ree6D"
      }
    },
    {
      "cell_type": "markdown",
      "source": [
        "### Sets"
      ],
      "metadata": {
        "id": "lodFFZM8elix"
      }
    },
    {
      "cell_type": "markdown",
      "source": [
        "#### Sets vs Lists"
      ],
      "metadata": {
        "id": "HSuf1uFCfAXW"
      }
    },
    {
      "cell_type": "markdown",
      "source": [
        "\n",
        "| Characteristic            | Sets                                              | Lists                                                |\n",
        "|---------------------------|---------------------------------------------------|------------------------------------------------------|\n",
        "| Ordering                  | No inherent order, elements are unordered        | Maintains insertion order, elements are ordered      |\n",
        "| Duplication               | Does not allow duplicate elements                | Allows duplicate elements                            |\n",
        "| Mutability                | Mutable: Elements can be added or removed         | Mutable: Elements can be added, removed, or modified |\n",
        "| Membership Testing        | Optimized for membership testing (`x in my_set`) | Membership testing can be slower for large lists     |\n",
        "| Uniqueness                | Enforces uniqueness of elements                  | Does not enforce uniqueness of elements              |\n",
        "| Operations                | Useful for set operations like union, intersection, difference | Commonly used for sequence operations, accessing elements by index |\n",
        "| Performance               | Generally faster for membership testing and operations like union, intersection, and difference | Slower for membership testing, especially for large lists |\n",
        "| Use Cases                 | Eliminating duplicates, set operations, efficient membership testing | Maintaining order, accessing elements by index, allowing duplicates |\n"
      ],
      "metadata": {
        "id": "5plHHI5XfDzl"
      }
    },
    {
      "cell_type": "markdown",
      "source": [
        "A set is a collection which is unordered, unchangeable*, and unindexed.\n"
      ],
      "metadata": {
        "id": "rOodDX_TfKZq"
      }
    },
    {
      "cell_type": "code",
      "source": [
        "thisset = {\"apple\", \"banana\", \"cherry\"}\n",
        "print(thisset)"
      ],
      "metadata": {
        "colab": {
          "base_uri": "https://localhost:8080/"
        },
        "id": "W8yDopYXfSUX",
        "outputId": "a4061787-5082-4b20-e0a7-bb90d17173c3"
      },
      "execution_count": null,
      "outputs": [
        {
          "output_type": "stream",
          "name": "stdout",
          "text": [
            "{'cherry', 'apple', 'banana'}\n"
          ]
        }
      ]
    },
    {
      "cell_type": "markdown",
      "source": [
        "Duplicates are not allowed in sets"
      ],
      "metadata": {
        "id": "n0HH4MgbfdAs"
      }
    },
    {
      "cell_type": "code",
      "source": [
        "thisset = {\"apple\", \"banana\", \"cherry\", \"apple\"}\n",
        "print(thisset)"
      ],
      "metadata": {
        "colab": {
          "base_uri": "https://localhost:8080/"
        },
        "id": "1BKNnZNdfhZG",
        "outputId": "64d9daf6-2e8c-4876-d985-252600bc24ac"
      },
      "execution_count": null,
      "outputs": [
        {
          "output_type": "stream",
          "name": "stdout",
          "text": [
            "{'cherry', 'apple', 'banana'}\n"
          ]
        }
      ]
    },
    {
      "cell_type": "markdown",
      "source": [
        "The values True and 1 are considered the same value in sets, and are treated as duplicates"
      ],
      "metadata": {
        "id": "bCfWQxsvffoo"
      }
    },
    {
      "cell_type": "code",
      "source": [
        "thisset = {\"apple\", \"banana\", \"cherry\", True, 1, 2}\n",
        "print(thisset)"
      ],
      "metadata": {
        "colab": {
          "base_uri": "https://localhost:8080/"
        },
        "id": "aKrAyLFWfoE9",
        "outputId": "c1f3a9c9-85d0-43ae-93db-f24fa2d9afd5"
      },
      "execution_count": null,
      "outputs": [
        {
          "output_type": "stream",
          "name": "stdout",
          "text": [
            "{'cherry', True, 2, 'apple', 'banana'}\n"
          ]
        }
      ]
    },
    {
      "cell_type": "code",
      "source": [
        "print(type(thisset))"
      ],
      "metadata": {
        "colab": {
          "base_uri": "https://localhost:8080/"
        },
        "id": "Fpc6OWGef3Ps",
        "outputId": "94d6ee2e-d56a-433a-b993-d5d7ff2b163f"
      },
      "execution_count": null,
      "outputs": [
        {
          "output_type": "stream",
          "name": "stdout",
          "text": [
            "<class 'set'>\n"
          ]
        }
      ]
    },
    {
      "cell_type": "markdown",
      "source": [
        "Also the values False and 0 are considered the same value in sets, and are treated as duplicates"
      ],
      "metadata": {
        "id": "0TUz42sCfsi9"
      }
    },
    {
      "cell_type": "markdown",
      "source": [
        "To construct a set, `set()` can be used."
      ],
      "metadata": {
        "id": "RvM8z7dJgHiq"
      }
    },
    {
      "cell_type": "code",
      "source": [
        "thisset = set([\"apple\", \"banana\", \"cherry\"])\n",
        "print(thisset)"
      ],
      "metadata": {
        "colab": {
          "base_uri": "https://localhost:8080/"
        },
        "id": "WiHs5bEFgBxC",
        "outputId": "249cf10c-69dd-4192-d19a-a3c2e449702e"
      },
      "execution_count": null,
      "outputs": [
        {
          "output_type": "stream",
          "name": "stdout",
          "text": [
            "{'cherry', 'apple', 'banana'}\n"
          ]
        }
      ]
    },
    {
      "cell_type": "markdown",
      "source": [
        "This method can be used to elemenate identical elements of a list."
      ],
      "metadata": {
        "id": "9c9t7c6EgVsK"
      }
    },
    {
      "cell_type": "code",
      "source": [
        "list_a = [\"apple\", \"banana\", \"cherry\",\"apple\",\"cherry\",\"cherry\",\"apple\",\"cherry\",\"apple\",\"cherry\",\"cherry\",\"apple\",\"cherry\",\"cherry\"]\n",
        "thisset = set(list_a)\n",
        "list_unique = list(thisset)\n",
        "print(list_unique)"
      ],
      "metadata": {
        "colab": {
          "base_uri": "https://localhost:8080/"
        },
        "id": "lv5rQSXbgbjA",
        "outputId": "ecee11a1-2c98-4701-9929-c8652002f080"
      },
      "execution_count": null,
      "outputs": [
        {
          "output_type": "stream",
          "name": "stdout",
          "text": [
            "['cherry', 'apple', 'banana']\n"
          ]
        }
      ]
    },
    {
      "cell_type": "markdown",
      "source": [
        "#### Length of a Set"
      ],
      "metadata": {
        "id": "gcFvylX4ft8R"
      }
    },
    {
      "cell_type": "code",
      "source": [
        "thisset = {\"apple\", \"banana\", \"cherry\"}\n",
        "print(len(thisset))"
      ],
      "metadata": {
        "colab": {
          "base_uri": "https://localhost:8080/"
        },
        "id": "DjTkPYStfyJ2",
        "outputId": "0e996ab4-31b1-4192-f4bb-757e45952f2b"
      },
      "execution_count": null,
      "outputs": [
        {
          "output_type": "stream",
          "name": "stdout",
          "text": [
            "3\n"
          ]
        }
      ]
    },
    {
      "cell_type": "markdown",
      "source": [
        "#### Access Set Items"
      ],
      "metadata": {
        "id": "TcgAFbOrgAuK"
      }
    },
    {
      "cell_type": "markdown",
      "source": [
        "Cannot access items in a set by referring to an index or a key. But can loop through the set items using a for loop, or ask if a specified value is present in a set, by using the in keyword."
      ],
      "metadata": {
        "id": "uE5Fanalg1Kr"
      }
    },
    {
      "cell_type": "code",
      "source": [
        "thisset = {\"apple\", \"banana\", \"cherry\"}\n",
        "for x in thisset:\n",
        "  print(x)"
      ],
      "metadata": {
        "colab": {
          "base_uri": "https://localhost:8080/"
        },
        "id": "wVL0tYWkg7W4",
        "outputId": "0a191b24-6cac-40b6-ed6c-11febc93928d"
      },
      "execution_count": null,
      "outputs": [
        {
          "output_type": "stream",
          "name": "stdout",
          "text": [
            "cherry\n",
            "apple\n",
            "banana\n"
          ]
        }
      ]
    },
    {
      "cell_type": "code",
      "source": [
        "thisset = {\"apple\", \"banana\", \"cherry\"}\n",
        "print(\"banana\" in thisset)"
      ],
      "metadata": {
        "colab": {
          "base_uri": "https://localhost:8080/"
        },
        "id": "nPSYn1QXg8_i",
        "outputId": "07b90714-dbaa-4a97-96fe-12dc72a82fe2"
      },
      "execution_count": null,
      "outputs": [
        {
          "output_type": "stream",
          "name": "stdout",
          "text": [
            "True\n"
          ]
        }
      ]
    },
    {
      "cell_type": "markdown",
      "source": [
        "#### Add Set Items"
      ],
      "metadata": {
        "id": "DGatTQNchF1P"
      }
    },
    {
      "cell_type": "markdown",
      "source": [
        "Once a set is created, cannot change its items, but can add new items."
      ],
      "metadata": {
        "id": "YYQWQRC3hQj_"
      }
    },
    {
      "cell_type": "markdown",
      "source": [
        "Add an item to a set, using the ```add()``` method:\n",
        "\n"
      ],
      "metadata": {
        "id": "JWFb4TBxhixx"
      }
    },
    {
      "cell_type": "code",
      "source": [
        "thisset = {\"apple\", \"banana\", \"cherry\"}\n",
        "thisset.add(\"orange\")\n",
        "print(thisset)"
      ],
      "metadata": {
        "colab": {
          "base_uri": "https://localhost:8080/"
        },
        "id": "9zCRmtAEhE-0",
        "outputId": "4489fc09-7a32-4aee-f5c7-2853e7b31b0f"
      },
      "execution_count": null,
      "outputs": [
        {
          "output_type": "stream",
          "name": "stdout",
          "text": [
            "{'orange', 'cherry', 'apple', 'banana'}\n"
          ]
        }
      ]
    },
    {
      "cell_type": "markdown",
      "source": [
        "To add items from another set into the current set, use the ```update()``` method."
      ],
      "metadata": {
        "id": "2QMLRCcjhYRw"
      }
    },
    {
      "cell_type": "code",
      "source": [
        "thisset = {\"apple\", \"banana\", \"cherry\"}\n",
        "tropical = {\"pineapple\", \"mango\", \"papaya\"}\n",
        "thisset.update(tropical)\n",
        "print(thisset)"
      ],
      "metadata": {
        "colab": {
          "base_uri": "https://localhost:8080/"
        },
        "id": "_jLLCK8ehaeO",
        "outputId": "a971c5c1-794d-470d-db54-d4a3f9e2b7b1"
      },
      "execution_count": null,
      "outputs": [
        {
          "output_type": "stream",
          "name": "stdout",
          "text": [
            "{'papaya', 'apple', 'mango', 'pineapple', 'cherry', 'banana'}\n"
          ]
        }
      ]
    },
    {
      "cell_type": "markdown",
      "source": [
        "The object in the ```update()``` method does not have to be a set, it can be any iterable object (tuples, lists, dictionaries etc.).\n",
        "\n"
      ],
      "metadata": {
        "id": "AcdOT6s4hm2M"
      }
    },
    {
      "cell_type": "markdown",
      "source": [
        "#### Remove Item\n"
      ],
      "metadata": {
        "id": "mrjJ06CmlF9h"
      }
    },
    {
      "cell_type": "markdown",
      "source": [
        "To remove an item in a set, use the ```remove()```, or the ```discard()``` method."
      ],
      "metadata": {
        "id": "Nct_3LIqlHpQ"
      }
    },
    {
      "cell_type": "markdown",
      "source": [
        "If the item to remove does not exist, ```remove()``` will raise an error."
      ],
      "metadata": {
        "id": "32K8UphrlXIg"
      }
    },
    {
      "cell_type": "markdown",
      "source": [
        "If the item to remove does not exist, ```discard()``` will <U>NOT</U> raise an error."
      ],
      "metadata": {
        "id": "zDv23CKMnw0b"
      }
    },
    {
      "cell_type": "code",
      "source": [
        "thisset = {\"apple\", \"banana\", \"cherry\"}\n",
        "thisset.discard(\"banana\")\n",
        "print(thisset)"
      ],
      "metadata": {
        "colab": {
          "base_uri": "https://localhost:8080/"
        },
        "id": "uSQXi9B0lWbd",
        "outputId": "ea628f7e-ea9d-4df6-eee2-22737446004c"
      },
      "execution_count": null,
      "outputs": [
        {
          "output_type": "stream",
          "name": "stdout",
          "text": [
            "{'cherry', 'apple'}\n"
          ]
        }
      ]
    },
    {
      "cell_type": "markdown",
      "source": [
        "Sets are unordered, so when using the ```pop()``` method, you do not know which item that gets removed"
      ],
      "metadata": {
        "id": "8whFVTCwlLlV"
      }
    },
    {
      "cell_type": "markdown",
      "source": [
        "The ```clear()``` method empties the set"
      ],
      "metadata": {
        "id": "5JN3MF5joAHa"
      }
    },
    {
      "cell_type": "code",
      "source": [
        "thisset = {\"apple\", \"banana\", \"cherry\"}\n",
        "thisset.clear()\n",
        "print(thisset)"
      ],
      "metadata": {
        "colab": {
          "base_uri": "https://localhost:8080/"
        },
        "id": "Ueh28OvuoD7l",
        "outputId": "54f80002-45d1-49f8-b3b2-32754ac7c383"
      },
      "execution_count": null,
      "outputs": [
        {
          "output_type": "stream",
          "name": "stdout",
          "text": [
            "set()\n"
          ]
        }
      ]
    },
    {
      "cell_type": "markdown",
      "source": [
        "The del keyword will delete the set completely"
      ],
      "metadata": {
        "id": "wZEWJM_noDNV"
      }
    },
    {
      "cell_type": "code",
      "source": [
        "thisset = {\"apple\", \"banana\", \"cherry\"}\n",
        "del thisset"
      ],
      "metadata": {
        "id": "YkmR_FjRoDg_"
      },
      "execution_count": null,
      "outputs": []
    },
    {
      "cell_type": "markdown",
      "source": [
        "#### Join Two Sets"
      ],
      "metadata": {
        "id": "kfjv93XfoSqW"
      }
    },
    {
      "cell_type": "markdown",
      "source": [
        "Can use the ```union()``` method that returns a new set containing all items from both sets, or the ```update()``` method that inserts all the items from one set into another"
      ],
      "metadata": {
        "id": "LTsoQDbhwTrd"
      }
    },
    {
      "cell_type": "code",
      "source": [
        "set1 = {\"a\", \"b\" , \"c\"}\n",
        "set2 = {1, 2, 3}\n",
        "set3 = set1.union(set2)\n",
        "print(set3)"
      ],
      "metadata": {
        "colab": {
          "base_uri": "https://localhost:8080/"
        },
        "id": "4Mp9FYWhwZpZ",
        "outputId": "d50e9a84-fcb5-4324-dce8-3e25352de696"
      },
      "execution_count": null,
      "outputs": [
        {
          "output_type": "stream",
          "name": "stdout",
          "text": [
            "{'c', 1, 2, 3, 'a', 'b'}\n"
          ]
        }
      ]
    },
    {
      "cell_type": "code",
      "source": [
        "set1 = {\"a\", \"b\" , \"c\"}\n",
        "set2 = {1, 2, 3}\n",
        "set1.update(set2)\n",
        "print(set1)"
      ],
      "metadata": {
        "colab": {
          "base_uri": "https://localhost:8080/"
        },
        "id": "np-blRnFwcNe",
        "outputId": "46701a06-9d45-4be8-be6c-a6c4350c02d3"
      },
      "execution_count": null,
      "outputs": [
        {
          "output_type": "stream",
          "name": "stdout",
          "text": [
            "{'c', 1, 2, 3, 'a', 'b'}\n"
          ]
        }
      ]
    },
    {
      "cell_type": "markdown",
      "source": [
        "To <u>Keep ONLY the Duplicates</u>\n"
      ],
      "metadata": {
        "id": "vVLCmkZtwYHN"
      }
    },
    {
      "cell_type": "markdown",
      "source": [
        "The ```intersection_update()``` method will keep only the items that are present in both sets."
      ],
      "metadata": {
        "id": "zOEPAQa9wnk3"
      }
    },
    {
      "cell_type": "code",
      "source": [
        "x = {\"apple\", \"banana\", \"cherry\"}\n",
        "y = {\"google\", \"microsoft\", \"apple\"}\n",
        "x.intersection_update(y)\n",
        "print(x)"
      ],
      "metadata": {
        "colab": {
          "base_uri": "https://localhost:8080/"
        },
        "id": "6F8owVSJwsBC",
        "outputId": "b7f21870-1e99-40ad-ea91-88b88642c03e"
      },
      "execution_count": null,
      "outputs": [
        {
          "output_type": "stream",
          "name": "stdout",
          "text": [
            "{'apple'}\n"
          ]
        }
      ]
    },
    {
      "cell_type": "markdown",
      "source": [
        "The ```intersection()``` method will return a new set, that only contains the items that are present in both sets."
      ],
      "metadata": {
        "id": "RMy3J3Amwurh"
      }
    },
    {
      "cell_type": "code",
      "source": [
        "x = {\"apple\", \"banana\", \"cherry\"}\n",
        "y = {\"google\", \"microsoft\", \"apple\"}\n",
        "z = x.intersection(y)\n",
        "print(z)"
      ],
      "metadata": {
        "colab": {
          "base_uri": "https://localhost:8080/"
        },
        "id": "-kbK8QAGwy0i",
        "outputId": "b6a857ab-f2a9-43fe-bf99-63ac95461b4e"
      },
      "execution_count": null,
      "outputs": [
        {
          "output_type": "stream",
          "name": "stdout",
          "text": [
            "{'apple'}\n"
          ]
        }
      ]
    },
    {
      "cell_type": "markdown",
      "source": [
        "Keep All, But <u>NOT the Duplicates</u>\n"
      ],
      "metadata": {
        "id": "GVP-uPCww6H0"
      }
    },
    {
      "cell_type": "markdown",
      "source": [
        "The ```symmetric_difference()``` method will return a new set, that contains only the elements that are NOT present in both sets."
      ],
      "metadata": {
        "id": "OlVJgULBw-Kl"
      }
    },
    {
      "cell_type": "code",
      "source": [
        "x = {\"apple\", \"banana\", \"cherry\"}\n",
        "y = {\"google\", \"microsoft\", \"apple\"}\n",
        "z = x.symmetric_difference(y)\n",
        "print(z)"
      ],
      "metadata": {
        "colab": {
          "base_uri": "https://localhost:8080/"
        },
        "id": "krSRaQYnxIxt",
        "outputId": "bfc595db-46f4-4580-eddf-98c5d7d1c7a5"
      },
      "execution_count": null,
      "outputs": [
        {
          "output_type": "stream",
          "name": "stdout",
          "text": [
            "{'microsoft', 'banana', 'google', 'cherry'}\n"
          ]
        }
      ]
    },
    {
      "cell_type": "markdown",
      "source": [
        "#### Set Methods"
      ],
      "metadata": {
        "id": "5RsbrglcxR8e"
      }
    },
    {
      "cell_type": "markdown",
      "source": [
        "| Method            | Description                                                                                     | Example                                              |\n",
        "|-------------------|-------------------------------------------------------------------------------------------------|------------------------------------------------------|\n",
        "| add()             | Adds an element to the set                                                                      | `my_set.add(4)`                                      |\n",
        "| clear()           | Removes all elements from the set                                                               | `my_set.clear()`                                     |\n",
        "| copy()            | Returns a shallow copy of the set                                                               | `new_set = my_set.copy()`                           |\n",
        "| difference()      | Returns the difference between two sets (elements present in the first set but not in the second) | `difference_set = set1.difference(set2)`            |\n",
        "| difference_update() | Removes all elements of another set from this set (updates the set in place)                     | `set1.difference_update(set2)`                       |\n",
        "| discard()         | Removes an element from the set if it is a member                                                | `my_set.discard(4)`                                 |\n",
        "| intersection()    | Returns the intersection of two or more sets (common elements)                                    | `intersection_set = set1.intersection(set2)`        |\n",
        "| intersection_update() | Updates the set with the intersection of itself and another set (updates the set in place)    | `set1.intersection_update(set2)`                    |\n",
        "| isdisjoint()      | Returns True if two sets have no intersection (no common elements)                                | `is_disjoint = set1.isdisjoint(set2)`              |\n",
        "| issubset()        | Returns True if another set contains this set (subset)                                             | `is_subset = set1.issubset(set2)`                  |\n",
        "| issuperset()      | Returns True if this set contains another set (superset)                                           | `is_superset = set1.issuperset(set2)`              |\n",
        "| pop()             | Removes and returns an arbitrary element from the set                                              | `element = my_set.pop()`                           |\n",
        "| remove()          | Removes a specified element from the set if it is present                                          | `my_set.remove(4)`                                  |\n",
        "| symmetric_difference() | Returns the symmetric difference of two sets (elements present in either set, but not both)   | `symmetric_difference_set = set1.symmetric_difference(set2)` |\n",
        "| symmetric_difference_update() | Updates the set with the symmetric difference of itself and another set (updates the set in place) | `set1.symmetric_difference_update(set2)`           |\n",
        "| union()           | Returns the union of two or more sets (all unique elements from all sets)                         | `union_set = set1.union(set2)`                     |\n",
        "| update()          | Updates the set with the union of itself and others (adds elements from all sets)                 | `set1.update(set2)`                                |\n",
        "\n"
      ],
      "metadata": {
        "id": "hVzFEOmpxXb5"
      }
    },
    {
      "cell_type": "markdown",
      "source": [
        "### Dictionaries"
      ],
      "metadata": {
        "id": "enzWpqx-xb_l"
      }
    },
    {
      "cell_type": "markdown",
      "source": [
        "Dictionaries are used to store data values in key:value pairs.A dictionary is a collection which is ordered*, changeable and do not allow duplicates.Dictionaries cannot have two items with the same key"
      ],
      "metadata": {
        "id": "DFJ2dWnnz0Ce"
      }
    },
    {
      "cell_type": "code",
      "source": [
        "thisdict = {\n",
        "  \"brand\": \"Ford\",\n",
        "  \"model\": \"Mustang\",\n",
        "  \"year\": 1964\n",
        "}\n",
        "print(thisdict)"
      ],
      "metadata": {
        "id": "SNl6tRBjz4V0",
        "outputId": "90e81b17-05a6-40a0-c91c-10af5f12f62a",
        "colab": {
          "base_uri": "https://localhost:8080/"
        }
      },
      "execution_count": null,
      "outputs": [
        {
          "output_type": "stream",
          "name": "stdout",
          "text": [
            "{'brand': 'Ford', 'model': 'Mustang', 'year': 1964}\n"
          ]
        }
      ]
    },
    {
      "cell_type": "markdown",
      "source": [
        "Dictionary Length\n"
      ],
      "metadata": {
        "id": "Oapt9whZ0Ivr"
      }
    },
    {
      "cell_type": "code",
      "source": [
        "print(len(thisdict))"
      ],
      "metadata": {
        "id": "Xs_IMjDX0IFa",
        "outputId": "8fa6f5ef-32d3-477a-9044-86156c2bab70",
        "colab": {
          "base_uri": "https://localhost:8080/"
        }
      },
      "execution_count": null,
      "outputs": [
        {
          "output_type": "stream",
          "name": "stdout",
          "text": [
            "3\n"
          ]
        }
      ]
    },
    {
      "cell_type": "markdown",
      "source": [
        "Type"
      ],
      "metadata": {
        "id": "ZXfftjuQ0NIb"
      }
    },
    {
      "cell_type": "code",
      "source": [
        "print(type(thisdict))"
      ],
      "metadata": {
        "id": "eb2lM48R0N98",
        "outputId": "b41853c5-2845-4656-ab97-83800d6b9d32",
        "colab": {
          "base_uri": "https://localhost:8080/"
        }
      },
      "execution_count": null,
      "outputs": [
        {
          "output_type": "stream",
          "name": "stdout",
          "text": [
            "<class 'dict'>\n"
          ]
        }
      ]
    },
    {
      "cell_type": "markdown",
      "source": [
        "#### The dict() Constructor\n"
      ],
      "metadata": {
        "id": "uQ2pVpvIz1sT"
      }
    },
    {
      "cell_type": "code",
      "source": [
        "thisdict = dict(name = \"John\", age = 36, country = \"Norway\")\n",
        "print(thisdict)"
      ],
      "metadata": {
        "id": "BSOUV6vT0XFb",
        "outputId": "d490d92c-ee64-43c2-c525-68306c519363",
        "colab": {
          "base_uri": "https://localhost:8080/"
        }
      },
      "execution_count": null,
      "outputs": [
        {
          "output_type": "stream",
          "name": "stdout",
          "text": [
            "{'name': 'John', 'age': 36, 'country': 'Norway'}\n"
          ]
        }
      ]
    },
    {
      "cell_type": "markdown",
      "source": [
        "#### Access Dictionary Items"
      ],
      "metadata": {
        "id": "5Y6aYf7N0Zg1"
      }
    },
    {
      "cell_type": "markdown",
      "source": [
        "Can access the items of a dictionary by referring to its key name"
      ],
      "metadata": {
        "id": "eet6e-mj0hea"
      }
    },
    {
      "cell_type": "code",
      "source": [
        "thisdict[\"name\"]"
      ],
      "metadata": {
        "id": "GXYui7ZD0cNi",
        "outputId": "eeb6872d-d74d-4985-ab23-528eafcc5adb",
        "colab": {
          "base_uri": "https://localhost:8080/",
          "height": 35
        }
      },
      "execution_count": null,
      "outputs": [
        {
          "output_type": "execute_result",
          "data": {
            "text/plain": [
              "'John'"
            ],
            "application/vnd.google.colaboratory.intrinsic+json": {
              "type": "string"
            }
          },
          "metadata": {},
          "execution_count": 58
        }
      ]
    },
    {
      "cell_type": "markdown",
      "source": [
        "There is also a method called ```get()``` that will give the same result"
      ],
      "metadata": {
        "id": "SQkv34dl0qig"
      }
    },
    {
      "cell_type": "code",
      "source": [
        "thisdict.get(\"name\")"
      ],
      "metadata": {
        "id": "2Ez5yxkN0wpv",
        "outputId": "e489f3a0-8383-431c-ac74-73c7b0145b91",
        "colab": {
          "base_uri": "https://localhost:8080/",
          "height": 35
        }
      },
      "execution_count": null,
      "outputs": [
        {
          "output_type": "execute_result",
          "data": {
            "text/plain": [
              "'John'"
            ],
            "application/vnd.google.colaboratory.intrinsic+json": {
              "type": "string"
            }
          },
          "metadata": {},
          "execution_count": 59
        }
      ]
    },
    {
      "cell_type": "code",
      "source": [
        "thisdict.get(\"sample_key\")"
      ],
      "metadata": {
        "id": "UyHGCIfN006B"
      },
      "execution_count": null,
      "outputs": []
    },
    {
      "cell_type": "markdown",
      "source": [
        "*** Note that when the key is wrong ```get()``` method will not rise an error."
      ],
      "metadata": {
        "id": "dvaCu4oy051M"
      }
    },
    {
      "cell_type": "markdown",
      "source": [
        "```keys()``` method will return a list of all the keys in the dictionary"
      ],
      "metadata": {
        "id": "uNbxsqdF1Epa"
      }
    },
    {
      "cell_type": "code",
      "source": [
        "x = thisdict.keys()\n",
        "print(x)"
      ],
      "metadata": {
        "id": "V5ZvDlJI1BPk",
        "outputId": "d6041c62-ffff-434c-b9af-aae2904c3d98",
        "colab": {
          "base_uri": "https://localhost:8080/"
        }
      },
      "execution_count": null,
      "outputs": [
        {
          "output_type": "stream",
          "name": "stdout",
          "text": [
            "dict_keys(['name', 'age', 'country'])\n"
          ]
        }
      ]
    },
    {
      "cell_type": "markdown",
      "source": [
        "#### Change Items"
      ],
      "metadata": {
        "id": "qJ3sVw8J1Xgr"
      }
    },
    {
      "cell_type": "markdown",
      "source": [
        "Can change the value of a specific item by referring to its key name"
      ],
      "metadata": {
        "id": "U4OoaK-L1b6-"
      }
    },
    {
      "cell_type": "code",
      "source": [
        "thisdict = {\n",
        "  \"brand\": \"Ford\",\n",
        "  \"model\": \"Mustang\",\n",
        "  \"year\": 1964\n",
        "}\n",
        "thisdict[\"year\"] = 2024"
      ],
      "metadata": {
        "id": "on-Nt0VM1ZW3"
      },
      "execution_count": null,
      "outputs": []
    },
    {
      "cell_type": "code",
      "source": [
        "thisdict"
      ],
      "metadata": {
        "id": "4xfDL5zH1SBi",
        "outputId": "2d24f54b-4b00-4fb1-881d-b1be4d2eab7b",
        "colab": {
          "base_uri": "https://localhost:8080/"
        }
      },
      "execution_count": null,
      "outputs": [
        {
          "output_type": "execute_result",
          "data": {
            "text/plain": [
              "{'brand': 'Ford', 'model': 'Mustang', 'year': 2024}"
            ]
          },
          "metadata": {},
          "execution_count": 72
        }
      ]
    },
    {
      "cell_type": "markdown",
      "source": [
        "The ```update()``` method will update the dictionary with the items from the given argument"
      ],
      "metadata": {
        "id": "51FwtcX31izY"
      }
    },
    {
      "cell_type": "code",
      "source": [
        "thisdict = {\n",
        "  \"brand\": \"Ford\",\n",
        "  \"model\": \"Mustang\",\n",
        "  \"year\": 1964\n",
        "}\n",
        "thisdict.update({\"year\": 2024})"
      ],
      "metadata": {
        "id": "4WHu6mez1ug2"
      },
      "execution_count": null,
      "outputs": []
    },
    {
      "cell_type": "code",
      "source": [
        "thisdict"
      ],
      "metadata": {
        "id": "xEbBJeYc1v49",
        "outputId": "dd6b83b2-1229-4ed6-b827-72f0cdf43ac1",
        "colab": {
          "base_uri": "https://localhost:8080/"
        }
      },
      "execution_count": null,
      "outputs": [
        {
          "output_type": "execute_result",
          "data": {
            "text/plain": [
              "{'brand': 'Ford', 'model': 'Mustang', 'year': 2024}"
            ]
          },
          "metadata": {},
          "execution_count": 79
        }
      ]
    },
    {
      "cell_type": "markdown",
      "source": [
        "#### Add Dictionary Items"
      ],
      "metadata": {
        "id": "f0AuuJb01VDN"
      }
    },
    {
      "cell_type": "markdown",
      "source": [
        "Adding an item to the dictionary is done by using a new index key and assigning a value to it"
      ],
      "metadata": {
        "id": "VpZOVokG17u_"
      }
    },
    {
      "cell_type": "code",
      "source": [
        "thisdict = {\n",
        "  \"brand\": \"Ford\",\n",
        "  \"model\": \"Mustang\",\n",
        "  \"year\": 1964\n",
        "}\n",
        "thisdict[\"color\"] = \"red\"\n",
        "print(thisdict)"
      ],
      "metadata": {
        "id": "3ZNLypK118nC",
        "outputId": "859300b0-7ae5-4bb9-82a7-4a764b65bae3",
        "colab": {
          "base_uri": "https://localhost:8080/"
        }
      },
      "execution_count": null,
      "outputs": [
        {
          "output_type": "stream",
          "name": "stdout",
          "text": [
            "{'brand': 'Ford', 'model': 'Mustang', 'year': 1964, 'color': 'red'}\n"
          ]
        }
      ]
    },
    {
      "cell_type": "markdown",
      "source": [
        "The ```update()``` method also can be used."
      ],
      "metadata": {
        "id": "jYSJsKR-1_1q"
      }
    },
    {
      "cell_type": "code",
      "source": [
        "thisdict = {\n",
        "  \"brand\": \"Ford\",\n",
        "  \"model\": \"Mustang\",\n",
        "  \"year\": 1964\n",
        "}\n",
        "thisdict.update({\"color\": \"red\"})\n",
        "print(thisdict)"
      ],
      "metadata": {
        "id": "rzRG3n_11-76",
        "outputId": "184e048f-bdd2-412f-b442-5e3ec63ed6ea",
        "colab": {
          "base_uri": "https://localhost:8080/"
        }
      },
      "execution_count": null,
      "outputs": [
        {
          "output_type": "stream",
          "name": "stdout",
          "text": [
            "{'brand': 'Ford', 'model': 'Mustang', 'year': 1964, 'color': 'red'}\n"
          ]
        }
      ]
    },
    {
      "cell_type": "markdown",
      "source": [
        "#### Remove Dictionary Items"
      ],
      "metadata": {
        "id": "DCpnduNr2JOA"
      }
    },
    {
      "cell_type": "markdown",
      "source": [
        "The ```pop()``` method removes the item with the specified key name"
      ],
      "metadata": {
        "id": "bkGu96ty2PRT"
      }
    },
    {
      "cell_type": "code",
      "source": [
        "thisdict = {\n",
        "  \"brand\": \"Ford\",\n",
        "  \"model\": \"Mustang\",\n",
        "  \"year\": 1964\n",
        "}\n",
        "thisdict.pop(\"model\")\n",
        "print(thisdict)"
      ],
      "metadata": {
        "id": "0reApWcc2Ora",
        "outputId": "aafaf36b-4e1b-4725-8612-acac2f122118",
        "colab": {
          "base_uri": "https://localhost:8080/"
        }
      },
      "execution_count": null,
      "outputs": [
        {
          "output_type": "stream",
          "name": "stdout",
          "text": [
            "{'brand': 'Ford', 'year': 1964}\n"
          ]
        }
      ]
    },
    {
      "cell_type": "markdown",
      "source": [
        "The ```del``` keyword removes the item with the specified key name"
      ],
      "metadata": {
        "id": "sSp_G-Ff2Uie"
      }
    },
    {
      "cell_type": "code",
      "source": [
        "thisdict = {\n",
        "  \"brand\": \"Ford\",\n",
        "  \"model\": \"Mustang\",\n",
        "  \"year\": 1964\n",
        "}\n",
        "del thisdict[\"model\"]\n",
        "print(thisdict)"
      ],
      "metadata": {
        "id": "2l7v6ldW2XFQ",
        "outputId": "c8b50fa0-3424-43cb-d9c9-2b58e55dce02",
        "colab": {
          "base_uri": "https://localhost:8080/"
        }
      },
      "execution_count": null,
      "outputs": [
        {
          "output_type": "stream",
          "name": "stdout",
          "text": [
            "{'brand': 'Ford', 'year': 1964}\n"
          ]
        }
      ]
    },
    {
      "cell_type": "markdown",
      "source": [
        "The ```clear()``` method empties the dictionary"
      ],
      "metadata": {
        "id": "IF0cKyuc2Z3Q"
      }
    },
    {
      "cell_type": "code",
      "source": [
        "thisdict = {\n",
        "  \"brand\": \"Ford\",\n",
        "  \"model\": \"Mustang\",\n",
        "  \"year\": 1964\n",
        "}\n",
        "thisdict.clear()\n",
        "print(thisdict)"
      ],
      "metadata": {
        "id": "5uO-xt2F2bpN",
        "outputId": "1dae4f14-a4bb-4eef-90d6-6367666deaee",
        "colab": {
          "base_uri": "https://localhost:8080/"
        }
      },
      "execution_count": null,
      "outputs": [
        {
          "output_type": "stream",
          "name": "stdout",
          "text": [
            "{}\n"
          ]
        }
      ]
    },
    {
      "cell_type": "markdown",
      "source": [
        "#### Loop Through"
      ],
      "metadata": {
        "id": "rhWnu9KH85hm"
      }
    },
    {
      "cell_type": "markdown",
      "source": [
        "When looping through a dictionary, the return value are the keys of the dictionary, but there are methods to return the values as well."
      ],
      "metadata": {
        "id": "gQiKTvgq869J"
      }
    },
    {
      "cell_type": "code",
      "source": [
        "thisdict = {\n",
        "  \"brand\": \"Ford\",\n",
        "  \"model\": \"Mustang\",\n",
        "  \"year\": 1964\n",
        "}\n",
        "for x in thisdict:\n",
        "  print(x)"
      ],
      "metadata": {
        "id": "u5wKLdrJ9Gsh",
        "outputId": "3360065b-37c4-45e5-eb19-85c6ff4bf874",
        "colab": {
          "base_uri": "https://localhost:8080/"
        }
      },
      "execution_count": null,
      "outputs": [
        {
          "output_type": "stream",
          "name": "stdout",
          "text": [
            "brand\n",
            "model\n",
            "year\n"
          ]
        }
      ]
    },
    {
      "cell_type": "code",
      "source": [
        "for x in thisdict:\n",
        "  print(thisdict[x])"
      ],
      "metadata": {
        "id": "F1j49CfD9N9V",
        "outputId": "03dc3b9c-96e2-424d-8f5b-4f37db199284",
        "colab": {
          "base_uri": "https://localhost:8080/"
        }
      },
      "execution_count": null,
      "outputs": [
        {
          "output_type": "stream",
          "name": "stdout",
          "text": [
            "Ford\n",
            "Mustang\n",
            "1964\n"
          ]
        }
      ]
    },
    {
      "cell_type": "code",
      "source": [
        "for x in thisdict.values():\n",
        "  print(x)"
      ],
      "metadata": {
        "id": "ckhT2GCP9Qz-",
        "outputId": "27dfa61f-d349-4707-fd0a-a30eea73f500",
        "colab": {
          "base_uri": "https://localhost:8080/"
        }
      },
      "execution_count": null,
      "outputs": [
        {
          "output_type": "stream",
          "name": "stdout",
          "text": [
            "Ford\n",
            "Mustang\n",
            "1964\n"
          ]
        }
      ]
    },
    {
      "cell_type": "code",
      "source": [
        "for x in thisdict.keys():\n",
        "  print(x)"
      ],
      "metadata": {
        "id": "cnthFY0d9Tp8",
        "outputId": "0ab3285d-dfba-4043-d18e-97e468c357c9",
        "colab": {
          "base_uri": "https://localhost:8080/"
        }
      },
      "execution_count": null,
      "outputs": [
        {
          "output_type": "stream",
          "name": "stdout",
          "text": [
            "brand\n",
            "model\n",
            "year\n"
          ]
        }
      ]
    },
    {
      "cell_type": "code",
      "source": [
        "for x, y in thisdict.items():\n",
        "  print(x, y)"
      ],
      "metadata": {
        "id": "umUJSdYK9X7U",
        "outputId": "002c05a5-5a3a-41d6-c937-fa77eef9ff9f",
        "colab": {
          "base_uri": "https://localhost:8080/"
        }
      },
      "execution_count": null,
      "outputs": [
        {
          "output_type": "stream",
          "name": "stdout",
          "text": [
            "brand Ford\n",
            "model Mustang\n",
            "year 1964\n"
          ]
        }
      ]
    },
    {
      "cell_type": "markdown",
      "source": [
        "#### Copy"
      ],
      "metadata": {
        "id": "vwfT49MC9eLl"
      }
    },
    {
      "cell_type": "markdown",
      "source": [
        "Cannot copy a dictionary simply by typing ```dict2 = dict1```, because: ```dict2``` will only be a reference to ```dict1```, and changes made in ```dict1``` will automatically also be made in ```dict2```."
      ],
      "metadata": {
        "id": "-4fsU22f9fbT"
      }
    },
    {
      "cell_type": "markdown",
      "source": [
        "Make a copy of a dictionary with the ```copy()``` method"
      ],
      "metadata": {
        "id": "DhjhjJ1X9k2D"
      }
    },
    {
      "cell_type": "code",
      "source": [
        "thisdict = {\n",
        "  \"brand\": \"Ford\",\n",
        "  \"model\": \"Mustang\",\n",
        "  \"year\": 1964\n",
        "}\n",
        "mydict = thisdict.copy()\n",
        "print(mydict)"
      ],
      "metadata": {
        "id": "-kdlb7xk9pOW",
        "outputId": "1a25c521-9abb-4795-8133-967cdf3a4c83",
        "colab": {
          "base_uri": "https://localhost:8080/"
        }
      },
      "execution_count": null,
      "outputs": [
        {
          "output_type": "stream",
          "name": "stdout",
          "text": [
            "{'brand': 'Ford', 'model': 'Mustang', 'year': 1964}\n"
          ]
        }
      ]
    },
    {
      "cell_type": "markdown",
      "source": [
        "Another way to make a copy is to use the built-in function dict().\n",
        "\n"
      ],
      "metadata": {
        "id": "NkbXqT-Z9sLR"
      }
    },
    {
      "cell_type": "code",
      "source": [
        "thisdict = {\n",
        "  \"brand\": \"Ford\",\n",
        "  \"model\": \"Mustang\",\n",
        "  \"year\": 1964\n",
        "}\n",
        "mydict = dict(thisdict)\n",
        "print(mydict)"
      ],
      "metadata": {
        "id": "T2RJiZ_K9tvm",
        "outputId": "93de55ae-3f22-41f7-8c33-d33023444134",
        "colab": {
          "base_uri": "https://localhost:8080/"
        }
      },
      "execution_count": null,
      "outputs": [
        {
          "output_type": "stream",
          "name": "stdout",
          "text": [
            "{'brand': 'Ford', 'model': 'Mustang', 'year': 1964}\n"
          ]
        }
      ]
    },
    {
      "cell_type": "markdown",
      "source": [
        "#### Nested Dictionaries\n"
      ],
      "metadata": {
        "id": "t6z85Rco9yLn"
      }
    },
    {
      "cell_type": "markdown",
      "source": [
        "A dictionary can contain dictionaries, this is called nested dictionaries."
      ],
      "metadata": {
        "id": "ddZYl-1N9zni"
      }
    },
    {
      "cell_type": "code",
      "source": [
        "myfamily = {\n",
        "  \"child1\" : {\n",
        "    \"name\" : \"Emil\",\n",
        "    \"year\" : 2004\n",
        "  },\n",
        "  \"child2\" : {\n",
        "    \"name\" : \"Tobias\",\n",
        "    \"year\" : 2007\n",
        "  },\n",
        "  \"child3\" : {\n",
        "    \"name\" : \"Linus\",\n",
        "    \"year\" : 2011\n",
        "  }\n",
        "}"
      ],
      "metadata": {
        "id": "G2yYioA491uj"
      },
      "execution_count": null,
      "outputs": []
    },
    {
      "cell_type": "markdown",
      "source": [
        "Or in anotherway"
      ],
      "metadata": {
        "id": "t3TjbEb-99Ql"
      }
    },
    {
      "cell_type": "code",
      "source": [
        "child1 = {\n",
        "  \"name\" : \"Emil\",\n",
        "  \"year\" : 2004\n",
        "}\n",
        "child2 = {\n",
        "  \"name\" : \"Tobias\",\n",
        "  \"year\" : 2007\n",
        "}\n",
        "child3 = {\n",
        "  \"name\" : \"Linus\",\n",
        "  \"year\" : 2011\n",
        "}\n",
        "\n",
        "myfamily = {\n",
        "  \"child1\" : child1,\n",
        "  \"child2\" : child2,\n",
        "  \"child3\" : child3\n",
        "}"
      ],
      "metadata": {
        "id": "hpv71F1X9-0O"
      },
      "execution_count": null,
      "outputs": []
    },
    {
      "cell_type": "code",
      "source": [
        "print(myfamily[\"child2\"][\"name\"])"
      ],
      "metadata": {
        "id": "0U4QlJJa93IO",
        "outputId": "16d16288-b205-462e-d332-b9da799ff828",
        "colab": {
          "base_uri": "https://localhost:8080/"
        }
      },
      "execution_count": null,
      "outputs": [
        {
          "output_type": "stream",
          "name": "stdout",
          "text": [
            "Tobias\n"
          ]
        }
      ]
    },
    {
      "cell_type": "markdown",
      "source": [
        "#### Dictionary Methods"
      ],
      "metadata": {
        "id": "qd6x6G9W-JLt"
      }
    },
    {
      "cell_type": "markdown",
      "source": [
        "\n",
        "| Method       | Description                                                                                                     | Example                                                |\n",
        "|--------------|-----------------------------------------------------------------------------------------------------------------|--------------------------------------------------------|\n",
        "| clear()      | Removes all items from the dictionary                                                                           | `my_dict.clear()`                                      |\n",
        "| copy()       | Returns a shallow copy of the dictionary                                                                       | `new_dict = my_dict.copy()`                           |\n",
        "| fromkeys()   | Returns a new dictionary with keys from iterable and values set to a default value (None if not specified)      | `new_dict = dict.fromkeys(['a', 'b', 'c'], 0)`       |\n",
        "| get()        | Returns the value for the specified key, or a default value if the key is not found                             | `value = my_dict.get('key', default_value)`           |\n",
        "| items()      | Returns a view object that displays a list of a dictionary's key-value tuples                                   | `key_value_pairs = my_dict.items()`                   |\n",
        "| keys()       | Returns a view object that displays a list of the dictionary's keys                                             | `keys = my_dict.keys()`                               |\n",
        "| pop()        | Removes and returns the value for the specified key                                                            | `value = my_dict.pop('key')`                          |\n",
        "| popitem()    | Removes and returns an arbitrary key-value pair from the dictionary                                              | `key, value = my_dict.popitem()`                      |\n",
        "| setdefault() | Returns the value for the specified key. If the key does not exist, inserts the key with the specified value    | `value = my_dict.setdefault('key', default_value)`    |\n",
        "| update()     | Updates the dictionary with the key-value pairs from another dictionary or iterable                             | `my_dict.update(other_dict)`                          |\n",
        "| values()     | Returns a view object that displays a list of the dictionary's values                                            | `values = my_dict.values()`                           |\n"
      ],
      "metadata": {
        "id": "zxCMKSpG-Lz5"
      }
    },
    {
      "cell_type": "markdown",
      "source": [
        "##1.3 Conditions and If statements"
      ],
      "metadata": {
        "id": "OBW7fz3v-hVV"
      }
    },
    {
      "cell_type": "markdown",
      "source": [
        "- Equals: a == b\n",
        "- Not Equals: a != b\n",
        "- Less than: a < b\n",
        "- Less than or equal to: a <= b\n",
        "- Greater than: a > b\n",
        "- Greater than or equal to: a >= b"
      ],
      "metadata": {
        "id": "ZEHy8ieO-kCN"
      }
    },
    {
      "cell_type": "code",
      "source": [
        "a = 200\n",
        "b = 33\n",
        "if b > a:\n",
        "  print(\"b is greater than a\")\n",
        "elif a == b:\n",
        "  print(\"a and b are equal\")\n",
        "else:\n",
        "  print(\"a is greater than b\")"
      ],
      "metadata": {
        "id": "hakTFlfQhJ2C",
        "outputId": "ad468d74-9ddf-451b-91c3-985e42ef5634",
        "colab": {
          "base_uri": "https://localhost:8080/"
        }
      },
      "execution_count": null,
      "outputs": [
        {
          "output_type": "stream",
          "name": "stdout",
          "text": [
            "a is greater than b\n"
          ]
        }
      ]
    },
    {
      "cell_type": "markdown",
      "source": [
        "### Short Hand If\n"
      ],
      "metadata": {
        "id": "iI8XmHNWhDkC"
      }
    },
    {
      "cell_type": "code",
      "source": [
        "if a > b: print(\"a is greater than b\")"
      ],
      "metadata": {
        "id": "NxaQMfj0hSEl",
        "outputId": "ffb5be94-0ed9-4903-cf7b-6eea157b05b4",
        "colab": {
          "base_uri": "https://localhost:8080/"
        }
      },
      "execution_count": null,
      "outputs": [
        {
          "output_type": "stream",
          "name": "stdout",
          "text": [
            "a is greater than b\n"
          ]
        }
      ]
    },
    {
      "cell_type": "markdown",
      "source": [
        "### Short Hand If ... Else"
      ],
      "metadata": {
        "id": "yEYbBRrLhOuu"
      }
    },
    {
      "cell_type": "markdown",
      "source": [
        "This technique is known as Ternary Operators, or Conditional Expressions.\n",
        "\n"
      ],
      "metadata": {
        "id": "Ovst4GRphZ6i"
      }
    },
    {
      "cell_type": "code",
      "source": [
        "a = 330\n",
        "b = 330\n",
        "print(\"A\") if a > b else print(\"=\") if a == b else print(\"B\")"
      ],
      "metadata": {
        "id": "aEg1QVKMhVYK",
        "outputId": "000c3698-c40b-4472-b5fb-4176c2c27740",
        "colab": {
          "base_uri": "https://localhost:8080/"
        }
      },
      "execution_count": null,
      "outputs": [
        {
          "output_type": "stream",
          "name": "stdout",
          "text": [
            "=\n"
          ]
        }
      ]
    },
    {
      "cell_type": "markdown",
      "source": [
        "### Logical operators"
      ],
      "metadata": {
        "id": "Z7Ii9FAJhqds"
      }
    },
    {
      "cell_type": "code",
      "source": [
        "a = 200\n",
        "b = 33\n",
        "c = 500\n",
        "if a > b and c > a:\n",
        "  print(\"Both conditions are True\")"
      ],
      "metadata": {
        "id": "lRW-V0CZhiS5",
        "outputId": "40e02518-350e-4d57-8e3f-c3941344beb4",
        "colab": {
          "base_uri": "https://localhost:8080/"
        }
      },
      "execution_count": null,
      "outputs": [
        {
          "output_type": "stream",
          "name": "stdout",
          "text": [
            "Both conditions are True\n"
          ]
        }
      ]
    },
    {
      "cell_type": "code",
      "source": [
        "if a > b or a > c:\n",
        "  print(\"At least one of the conditions is True\")"
      ],
      "metadata": {
        "id": "qBb96EDShvhI",
        "outputId": "1060ea09-bf55-4998-b34c-a5f71953a5f3",
        "colab": {
          "base_uri": "https://localhost:8080/"
        }
      },
      "execution_count": null,
      "outputs": [
        {
          "output_type": "stream",
          "name": "stdout",
          "text": [
            "At least one of the conditions is True\n"
          ]
        }
      ]
    },
    {
      "cell_type": "code",
      "source": [
        "if not a > b:\n",
        "  print(\"a is NOT greater than b\")"
      ],
      "metadata": {
        "id": "XpaUihVXhy1n"
      },
      "execution_count": null,
      "outputs": []
    },
    {
      "cell_type": "markdown",
      "source": [
        "### The pass Statement\n"
      ],
      "metadata": {
        "id": "8fK9OnNi-kKF"
      }
    },
    {
      "cell_type": "code",
      "source": [
        "if b > a:\n",
        "  pass"
      ],
      "metadata": {
        "id": "9QxVLthOh4ad"
      },
      "execution_count": null,
      "outputs": []
    },
    {
      "cell_type": "markdown",
      "source": [
        "## 1.4 While Loop"
      ],
      "metadata": {
        "id": "zu66MbQh-kRu"
      }
    },
    {
      "cell_type": "markdown",
      "source": [
        "With the while loop we can execute a set of statements as long as a condition is true."
      ],
      "metadata": {
        "id": "Si11rW_rQg1V"
      }
    },
    {
      "cell_type": "code",
      "source": [
        "i = 1\n",
        "while i < 6:\n",
        "  print(i)\n",
        "  i += 1"
      ],
      "metadata": {
        "id": "cUFwDVQIQjaS",
        "outputId": "ef9cc443-fbe1-4559-851c-ef509bc720f8",
        "colab": {
          "base_uri": "https://localhost:8080/"
        }
      },
      "execution_count": null,
      "outputs": [
        {
          "output_type": "stream",
          "name": "stdout",
          "text": [
            "1\n",
            "2\n",
            "3\n",
            "4\n",
            "5\n"
          ]
        }
      ]
    },
    {
      "cell_type": "markdown",
      "source": [
        "### The break Statement\n"
      ],
      "metadata": {
        "id": "77_aSG3NQntB"
      }
    },
    {
      "cell_type": "markdown",
      "source": [
        "With the break statement we can stop the loop even if the while condition is true:\n",
        "\n"
      ],
      "metadata": {
        "id": "r2ZVGD9FQrjZ"
      }
    },
    {
      "cell_type": "code",
      "source": [
        "i = 1\n",
        "while i < 6:\n",
        "  print(i)\n",
        "  if i == 3:\n",
        "    break\n",
        "  i += 1"
      ],
      "metadata": {
        "id": "EFbncMO7Qthg",
        "outputId": "5a10ee3f-4b95-40a0-81bf-5a4b52fefc51",
        "colab": {
          "base_uri": "https://localhost:8080/"
        }
      },
      "execution_count": null,
      "outputs": [
        {
          "output_type": "stream",
          "name": "stdout",
          "text": [
            "1\n",
            "2\n",
            "3\n"
          ]
        }
      ]
    },
    {
      "cell_type": "markdown",
      "source": [
        "### Continue Statement"
      ],
      "metadata": {
        "id": "MHHpWSrJQwea"
      }
    },
    {
      "cell_type": "markdown",
      "source": [
        "With the continue statement we can stop the current iteration, and continue with the next:"
      ],
      "metadata": {
        "id": "ezm_jRg1QuGr"
      }
    },
    {
      "cell_type": "code",
      "source": [
        "i = 0\n",
        "while i < 6:\n",
        "  i += 1\n",
        "  if i == 3:\n",
        "    continue\n",
        "  print(i)"
      ],
      "metadata": {
        "id": "kZbYOyc8Q0WI",
        "outputId": "f2a42cea-507d-4ff0-d78c-cec8041d7af2",
        "colab": {
          "base_uri": "https://localhost:8080/"
        }
      },
      "execution_count": null,
      "outputs": [
        {
          "output_type": "stream",
          "name": "stdout",
          "text": [
            "1\n",
            "2\n",
            "4\n",
            "5\n",
            "6\n"
          ]
        }
      ]
    },
    {
      "cell_type": "markdown",
      "source": [
        "### The else Statement\n"
      ],
      "metadata": {
        "id": "9gcUx__fQ23g"
      }
    },
    {
      "cell_type": "markdown",
      "source": [
        "With the else statement we can run a block of code once when the condition no longer is true:"
      ],
      "metadata": {
        "id": "jNeWT-pxQ56N"
      }
    },
    {
      "cell_type": "code",
      "source": [
        "i = 1\n",
        "while i < 6:\n",
        "  print(i)\n",
        "  i += 1\n",
        "else:\n",
        "  print(\"i is no longer less than 6\")"
      ],
      "metadata": {
        "id": "sxko7xh2Q4GS",
        "outputId": "711ebb35-679a-46ad-ccc2-0117cc68f7b3",
        "colab": {
          "base_uri": "https://localhost:8080/"
        }
      },
      "execution_count": null,
      "outputs": [
        {
          "output_type": "stream",
          "name": "stdout",
          "text": [
            "1\n",
            "2\n",
            "3\n",
            "4\n",
            "5\n",
            "i is no longer less than 6\n"
          ]
        }
      ]
    },
    {
      "cell_type": "markdown",
      "source": [
        "## 1.6 For Loops"
      ],
      "metadata": {
        "id": "AI9UWU4EREwf"
      }
    },
    {
      "cell_type": "markdown",
      "source": [
        "A for loop is used for iterating over a sequence (that is either a list, a tuple, a dictionary, a set, or a string)."
      ],
      "metadata": {
        "id": "5ISjgX71RL6a"
      }
    },
    {
      "cell_type": "code",
      "source": [
        "fruits = [\"apple\", \"banana\", \"cherry\"]\n",
        "for x in fruits:\n",
        "  print(x)"
      ],
      "metadata": {
        "id": "-ThhePMORX7E",
        "outputId": "a6701f8b-b1c2-41a1-bcce-ffa59110c9a8",
        "colab": {
          "base_uri": "https://localhost:8080/"
        }
      },
      "execution_count": null,
      "outputs": [
        {
          "output_type": "stream",
          "name": "stdout",
          "text": [
            "apple\n",
            "banana\n",
            "cherry\n"
          ]
        }
      ]
    },
    {
      "cell_type": "markdown",
      "source": [
        "Looping Through a String\n"
      ],
      "metadata": {
        "id": "_Bmx7-CkRZ7j"
      }
    },
    {
      "cell_type": "code",
      "source": [
        "for x in \"banana\":\n",
        "  print(x)"
      ],
      "metadata": {
        "id": "TScHClMbRamK",
        "outputId": "b9cf40aa-97ab-49e0-d0d6-64b5ba0e05e1",
        "colab": {
          "base_uri": "https://localhost:8080/"
        }
      },
      "execution_count": null,
      "outputs": [
        {
          "output_type": "stream",
          "name": "stdout",
          "text": [
            "b\n",
            "a\n",
            "n\n",
            "a\n",
            "n\n",
            "a\n"
          ]
        }
      ]
    },
    {
      "cell_type": "markdown",
      "source": [
        "### Break Statement"
      ],
      "metadata": {
        "id": "OlRQcnpqRvJE"
      }
    },
    {
      "cell_type": "markdown",
      "source": [
        "With the ```break``` statement we can stop the loop before it has looped through all the items:"
      ],
      "metadata": {
        "id": "ZpbSQ07SRcbc"
      }
    },
    {
      "cell_type": "code",
      "source": [
        "fruits = [\"apple\", \"banana\", \"cherry\"]\n",
        "for x in fruits:\n",
        "  print(x)\n",
        "  if x == \"banana\":\n",
        "    break"
      ],
      "metadata": {
        "id": "foAWRn1RRgSp",
        "outputId": "059fbf09-2d25-4345-aeec-39bd00bd5355",
        "colab": {
          "base_uri": "https://localhost:8080/"
        }
      },
      "execution_count": null,
      "outputs": [
        {
          "output_type": "stream",
          "name": "stdout",
          "text": [
            "apple\n",
            "banana\n"
          ]
        }
      ]
    },
    {
      "cell_type": "markdown",
      "source": [
        "### The continue Statement\n"
      ],
      "metadata": {
        "id": "BS50YNtTRhvT"
      }
    },
    {
      "cell_type": "code",
      "source": [
        "fruits = [\"apple\", \"banana\", \"cherry\"]\n",
        "for x in fruits:\n",
        "  if x == \"banana\":\n",
        "    continue\n",
        "  print(x)"
      ],
      "metadata": {
        "id": "1XwTVd5bRlH4",
        "outputId": "278dfacd-5081-484b-f7ef-8b2698bfd78a",
        "colab": {
          "base_uri": "https://localhost:8080/"
        }
      },
      "execution_count": null,
      "outputs": [
        {
          "output_type": "stream",
          "name": "stdout",
          "text": [
            "apple\n",
            "cherry\n"
          ]
        }
      ]
    },
    {
      "cell_type": "markdown",
      "source": [
        "### The range() Function"
      ],
      "metadata": {
        "id": "-27lsgcdRmsw"
      }
    },
    {
      "cell_type": "markdown",
      "source": [
        "The ```range()``` function returns a sequence of numbers, starting from 0 by default, and increments by 1 (by default), and ends at a specified number."
      ],
      "metadata": {
        "id": "AjBvXATgRyvP"
      }
    },
    {
      "cell_type": "markdown",
      "source": [
        "> Note that ```range(6)``` is not the values of 0 to 6, but the values 0 to 5."
      ],
      "metadata": {
        "id": "uifnzfI5R0t3"
      }
    },
    {
      "cell_type": "code",
      "source": [
        "for x in range(2, 6):\n",
        "  print(x)"
      ],
      "metadata": {
        "id": "KRIzXJhgRoYF",
        "outputId": "a92f19ae-e3b9-4f68-f762-bfab47be4248",
        "colab": {
          "base_uri": "https://localhost:8080/"
        }
      },
      "execution_count": null,
      "outputs": [
        {
          "output_type": "stream",
          "name": "stdout",
          "text": [
            "2\n",
            "3\n",
            "4\n",
            "5\n"
          ]
        }
      ]
    },
    {
      "cell_type": "markdown",
      "source": [
        "The ```range()``` function defaults to increment the sequence by 1, however it is possible to specify the increment value by adding a third parameter: ```range(2, 30, 3)```:"
      ],
      "metadata": {
        "id": "YFZ1tDHiR4vQ"
      }
    },
    {
      "cell_type": "code",
      "source": [
        "for x in range(2, 30, 3):\n",
        "  print(x)"
      ],
      "metadata": {
        "id": "AKGPACdiR98I",
        "outputId": "21707e2f-c76f-4c3e-d537-c240668f2e15",
        "colab": {
          "base_uri": "https://localhost:8080/"
        }
      },
      "execution_count": null,
      "outputs": [
        {
          "output_type": "stream",
          "name": "stdout",
          "text": [
            "2\n",
            "5\n",
            "8\n",
            "11\n",
            "14\n",
            "17\n",
            "20\n",
            "23\n",
            "26\n",
            "29\n"
          ]
        }
      ]
    },
    {
      "cell_type": "markdown",
      "source": [
        "### Else in For Loop"
      ],
      "metadata": {
        "id": "BY6t7GZUSDtX"
      }
    },
    {
      "cell_type": "markdown",
      "source": [
        "The else keyword in a for loop specifies a block of code to be executed when the loop is finished:"
      ],
      "metadata": {
        "id": "NwKrcqTGSAag"
      }
    },
    {
      "cell_type": "markdown",
      "source": [
        "> The else block will NOT be executed if the loop is stopped by a break statement."
      ],
      "metadata": {
        "id": "ocZwdWs9SHFQ"
      }
    },
    {
      "cell_type": "code",
      "source": [
        "for x in range(6):\n",
        "  print(x)\n",
        "else:\n",
        "  print(\"Finally finished!\")"
      ],
      "metadata": {
        "id": "yQApDS_iSBHQ",
        "outputId": "e9fec790-bfe8-453e-9a61-825fc32e7868",
        "colab": {
          "base_uri": "https://localhost:8080/"
        }
      },
      "execution_count": null,
      "outputs": [
        {
          "output_type": "stream",
          "name": "stdout",
          "text": [
            "0\n",
            "1\n",
            "2\n",
            "3\n",
            "4\n",
            "5\n",
            "Finally finished!\n"
          ]
        }
      ]
    },
    {
      "cell_type": "markdown",
      "source": [
        "# **2.0 Object Oriented Programming:**\n",
        "\n",
        "\n"
      ],
      "metadata": {
        "id": "-1sRLscjRvIG"
      }
    },
    {
      "cell_type": "markdown",
      "source": [
        "## 2.1 Introduction"
      ],
      "metadata": {
        "id": "kmHLGEk5Rz6p"
      }
    },
    {
      "cell_type": "markdown",
      "source": [
        "Object-Oriented Programming (OOP) is a programming paradigm that emphasizes the use of objects, which are instances of classes, to structure and organize code. Python fully supports OOP, allowing developers to create classes, define attributes and methods, and create objects based on those classes.\n",
        "\n",
        "1. **Classes and Objects:**\n",
        "   - A class is a blueprint that defines the attributes and behavior of an object.\n",
        "   - To create a class, use the `class` keyword followed by the class name. Inside the class, define attributes and methods.\n",
        "   - An object is an instance of a class. You can create multiple objects based on a single class.\n",
        "\n",
        "2. **Attributes:**\n",
        "   - Attributes are variables associated with a class or object. They hold data that describes the state of the object.\n",
        "   - Class attributes are shared among all instances of the class, while instance attributes are specific to each object.\n",
        "   - You can define attributes within the class using the `self` keyword to refer to the instance of the class.\n",
        "\n",
        "3. **Methods:**\n",
        "   - Methods are functions defined within a class that perform actions on objects or manipulate object data.\n",
        "   - Instance methods take the `self` parameter, which represents the instance calling the method.\n",
        "   - Class methods are defined using the `@classmethod` decorator and take the `cls` parameter, representing the class itself.\n",
        "   - Static methods are defined using the `@staticmethod` decorator and do not take any specific instance or class parameters.\n",
        "\n",
        "4. **Inheritance:**\n",
        "   - Inheritance is a mechanism where a class inherits properties and behavior from another class, called the superclass or base class.\n",
        "   - The derived class, also known as the subclass or child class, can extend or override the attributes and methods of the base class.\n",
        "   - In Python, you can define inheritance by specifying the base class in parentheses when creating a new class.\n",
        "\n",
        "5. **Encapsulation:**\n",
        "   - Encapsulation is the process of hiding the internal details of a class and providing a public interface for interacting with the class.\n",
        "   - You can control access to attributes and methods using access specifiers: public (default), private (prefixed with double underscore), and protected (prefixed with single underscore).\n",
        "\n",
        "6. **Polymorphism:**\n",
        "   - Polymorphism allows objects of different classes to be treated as objects of a common superclass.\n",
        "   - It enables methods with the same name to behave differently based on the object type they are invoked on.\n",
        "   - Polymorphism in Python is achieved through method overriding and method overloading.\n",
        "\n",
        "OOP in Python provides a structured and modular approach to programming, promoting code reuse, maintainability, and abstraction. By defining classes and objects, you can create organized and flexible code that models real-world entities or abstract concepts."
      ],
      "metadata": {
        "id": "eidj52MJSWJ-"
      }
    },
    {
      "cell_type": "markdown",
      "source": [
        "**Summery:**"
      ],
      "metadata": {
        "id": "XcurWBQBSj_f"
      }
    },
    {
      "cell_type": "markdown",
      "source": [
        "\n",
        "| Topic                     | Explanation                                                                 |\n",
        "|---------------------------|------------------------------------------------------------------------------|\n",
        "| Classes and Objects       | - Blueprints that define attributes and behavior                               |\n",
        "|                           | - Objects are instances of classes                                            |\n",
        "| Attributes                | - Variables associated with classes or objects                                |\n",
        "|                           | - Class attributes are shared, instance attributes are specific to objects    |\n",
        "| Methods                   | - Functions defined within classes                                            |\n",
        "|                           | - Perform actions on objects or manipulate data                              |\n",
        "| Inheritance               | - Mechanism for inheriting properties and behavior                            |\n",
        "|                           | - Subclass extends or overrides base class attributes and methods             |\n",
        "| Encapsulation             | - Hiding internal details and providing a public interface                    |\n",
        "|                           | - Control access with access specifiers (public, private, protected)          |\n",
        "| Polymorphism              | - Objects of different classes treated as objects of a common superclass      |\n",
        "|                           | - Methods with the same name behave differently based on object type          |\n"
      ],
      "metadata": {
        "id": "5veO1AllSnOt"
      }
    },
    {
      "cell_type": "markdown",
      "source": [
        "##2.2 Classes And Objects"
      ],
      "metadata": {
        "id": "PFCNyyRZSqNe"
      }
    },
    {
      "cell_type": "markdown",
      "source": [
        "\n",
        "\n",
        "1. **Defining a Class:**\n",
        "   - To define a class, use the `class` keyword followed by the class name, which typically starts with an uppercase letter.\n",
        "   - The class can have attributes (variables) and methods (functions) defined within it.\n",
        "   - Example:\n",
        "     ```python\n",
        "     class Car:\n",
        "         pass\n",
        "     ```\n",
        "\n",
        "2. **Creating Objects (Instances):**\n",
        "   - Objects are instances of a class, created using the class name followed by parentheses.\n",
        "   - This invokes the class's special method called the constructor (`__init__()`), which initializes the object.\n",
        "   - Example:\n",
        "     ```python\n",
        "     my_car = Car()\n",
        "     ```\n",
        "\n",
        "3. **Class Attributes:**\n",
        "   - Class attributes are variables that are shared among all instances of the class.\n",
        "   - They are defined within the class but outside of any methods.\n",
        "   - Class attributes can be accessed using the class name or any object of the class.\n",
        "   - Example:\n",
        "     ```python\n",
        "     class Car:\n",
        "         wheels = 4\n",
        "\n",
        "     print(Car.wheels)  # Output: 4\n",
        "     my_car = Car()\n",
        "     print(my_car.wheels)  # Output: 4\n",
        "     ```\n",
        "\n",
        "4. **Instance Attributes:**\n",
        "   - Instance attributes are specific to each object (instance) of the class.\n",
        "   - They are defined within the class's constructor (`__init__()` method) and accessed using the `self` keyword.\n",
        "   - Example:\n",
        "     ```python\n",
        "     class Car:\n",
        "         def __init__(self, color):\n",
        "             self.color = color\n",
        "\n",
        "     my_car = Car(\"blue\")\n",
        "     print(my_car.color)  # Output: \"blue\"\n",
        "     ```\n",
        "\n",
        "5. **Methods:**\n",
        "   - Methods are functions defined within a class that perform actions on objects or manipulate object data.\n",
        "   - They are defined inside the class and can access attributes through the `self` parameter.\n",
        "   - Example:\n",
        "     ```python\n",
        "     class Car:\n",
        "         def __init__(self, color):\n",
        "             self.color = color\n",
        "\n",
        "         def drive(self):\n",
        "             print(\"The car is driving.\")\n",
        "\n",
        "     my_car = Car(\"blue\")\n",
        "     my_car.drive()  # Output: \"The car is driving.\"\n",
        "     ```\n",
        "\n",
        "6. **Class and Instance Variables:**\n",
        "   - Class variables are shared among all instances and can be accessed using the class name or any object.\n",
        "   - Instance variables are specific to each object and can be accessed using the `self` keyword.\n",
        "   - Example:\n",
        "     ```python\n",
        "     class Car:\n",
        "         wheels = 4\n",
        "\n",
        "         def __init__(self, color):\n",
        "             self.color = color\n",
        "\n",
        "     print(Car.wheels)  # Output: 4\n",
        "\n",
        "     my_car = Car(\"blue\")\n",
        "     print(my_car.color)  # Output: \"blue\"\n",
        "     ```\n",
        "\n",
        "7. **Special Methods:**\n",
        "   - Special methods (also called magic methods or dunder methods) provide functionality to classes.\n",
        "   - They are surrounded by double underscores and have predefined names.\n",
        "   - Examples of special methods include `__init__()` for object initialization, `__str__()` for string representation, `__len__()` for length calculation, etc.\n",
        "\n"
      ],
      "metadata": {
        "id": "ZW-ywO9uhX_p"
      }
    },
    {
      "cell_type": "markdown",
      "source": [
        "### 2.2.1  Example 1\n"
      ],
      "metadata": {
        "id": "3_79CKrCjTo1"
      }
    },
    {
      "cell_type": "code",
      "source": [
        "# Define a class ~> Data Type\n",
        "class ItemE1:\n",
        "  pass\n",
        "\n",
        "# Instsnce & assign properties\n",
        "item1 = ItemE1()\n",
        "item1.name = \"Phone\"\n",
        "item1.price = 100\n",
        "item1.quantity = 5\n",
        "\n",
        "print(type(item1))           #item <data type> ~> <class '__main__.ItemE1'>\n",
        "print(type(item1.name))      # str\n",
        "print(type(item1.price))     #int\n",
        "print(type(item1.quantity))  #int\n",
        "\n",
        "print(item1.name.upper())"
      ],
      "metadata": {
        "colab": {
          "base_uri": "https://localhost:8080/"
        },
        "id": "JKYMe1dujXrW",
        "outputId": "daad02c2-a7e7-432e-96d5-3e46c5bf95e2"
      },
      "execution_count": null,
      "outputs": [
        {
          "output_type": "stream",
          "name": "stdout",
          "text": [
            "<class '__main__.ItemE1'>\n",
            "<class 'str'>\n",
            "<class 'int'>\n",
            "<class 'int'>\n",
            "PHONE\n"
          ]
        }
      ]
    },
    {
      "cell_type": "markdown",
      "source": [
        "## 2.3 self"
      ],
      "metadata": {
        "id": "S-41Fh1WiV9d"
      }
    },
    {
      "cell_type": "markdown",
      "source": [
        "In object-oriented programming (OOP) in Python, the `self` attribute refers to the instance of a class that is being manipulated or accessed within a method. It is a convention to name the first parameter of instance methods as `self`, although you can choose any valid variable name.\n",
        "\n",
        "\n",
        "1. Reference to the Instance:\n",
        "   - When a method is called on an object, the object itself is passed as the first argument implicitly.\n",
        "   - By convention, this parameter is named `self` to indicate that it refers to the instance of the class.\n",
        "\n",
        "2. Accessing Instance Attributes:\n",
        "   - Within a method, you can use the `self` attribute to access instance attributes.\n",
        "   - Instance attributes are unique to each object and can hold different values.\n",
        "   - By prefixing the attribute name with `self`, you can access and modify its value.\n",
        "\n",
        "   Example:\n",
        "   ```python\n",
        "   class Car:\n",
        "       def __init__(self, color):\n",
        "           self.color = color\n",
        "\n",
        "       def drive(self):\n",
        "           print(f\"The {self.color} car is driving.\")\n",
        "\n",
        "   my_car = Car(\"blue\")\n",
        "   my_car.drive()  # Output: \"The blue car is driving.\"\n",
        "   ```\n",
        "\n",
        "3. Calling Other Methods:\n",
        "   - The `self` attribute allows you to call other methods of the same object within a method.\n",
        "   - You can invoke methods using the `self` attribute followed by the method name and parentheses.\n",
        "\n",
        "   Example:\n",
        "   ```python\n",
        "   class Car:\n",
        "       def __init__(self, color):\n",
        "           self.color = color\n",
        "\n",
        "       def start_engine(self):\n",
        "           # Perform some actions to start the engine\n",
        "           print(\"Engine started.\")\n",
        "\n",
        "       def drive(self):\n",
        "           self.start_engine()\n",
        "           print(f\"The {self.color} car is driving.\")\n",
        "\n",
        "   my_car = Car(\"red\")\n",
        "   my_car.drive()\n",
        "   # Output:\n",
        "   # \"Engine started.\"\n",
        "   # \"The red car is driving.\"\n",
        "   ```\n"
      ],
      "metadata": {
        "id": "Zo-ZhZF9io4k"
      }
    },
    {
      "cell_type": "markdown",
      "source": [
        "### 2.3.1 Example 2"
      ],
      "metadata": {
        "id": "4rGfyVp0knSS"
      }
    },
    {
      "cell_type": "code",
      "source": [
        "# Define a class ~> Data Type\n",
        "class ItemE2:\n",
        "\n",
        "  '''\n",
        "  Need to declare self argument since python passes the object(instance)\n",
        "  itself as the initial argument always. So, other variables comes after that.\n",
        "  It's nothing to use other name than self but , 'self' keyword is a common\n",
        "  naming convention.\n",
        "  '''\n",
        "  def calculateTotalPrice(self , price , quantity):\n",
        "    return price*quantity\n",
        "\n",
        "# Instsnce & assign properties\n",
        "item2 = ItemE2()\n",
        "item2.name = \"Phone\"\n",
        "item2.price = 1000\n",
        "item2.quantity = 3\n",
        "\n",
        "# It passes it self and other two variables to the method\n",
        "print(item2.calculateTotalPrice(item2.price,item2.quantity))"
      ],
      "metadata": {
        "colab": {
          "base_uri": "https://localhost:8080/"
        },
        "id": "FP0E-nx5k0Hm",
        "outputId": "e01de006-3397-49d6-d06e-8b6eec6a3d4e"
      },
      "execution_count": null,
      "outputs": [
        {
          "output_type": "stream",
          "name": "stdout",
          "text": [
            "3000\n"
          ]
        }
      ]
    },
    {
      "cell_type": "markdown",
      "source": [
        "## 2.4 Class Attributes"
      ],
      "metadata": {
        "id": "DwnBs9Ly2Aci"
      }
    },
    {
      "cell_type": "markdown",
      "source": [
        "Class attributes are variables that are defined within a class but outside of any methods. They are shared among all instances of the class and can be accessed using **either the class name or an instance of the class**. Class attributes are defined at the class level and are the same for all objects of that class.\n",
        "\n",
        "1. Definition and Access:\n",
        "   - Class attributes are defined directly within the class body, outside of any methods.\n",
        "   - They are accessed using the class name or an instance of the class.\n",
        "\n",
        "2. Shared Among Instances:\n",
        "   - Class attributes are shared among all instances of the class.\n",
        "   - When an instance accesses or modifies a class attribute, the change is reflected across all instances.\n",
        "\n",
        "3. Initialization:\n",
        "   - Class attributes are typically initialized when they are defined, similar to global variables.\n",
        "   - They can also be modified or accessed within methods using the class name or the `self` keyword.\n",
        "\n",
        "4. Visibility:\n",
        "   - Class attributes are visible to all instances of the class and can be accessed by all instances.\n",
        "   - They can also be accessed from outside the class using the class name.\n",
        "\n"
      ],
      "metadata": {
        "id": "vwz5fWqd2DK3"
      }
    },
    {
      "cell_type": "markdown",
      "source": [
        "### 2.4.1 Example 3"
      ],
      "metadata": {
        "id": "mhTWwE3h4L4z"
      }
    },
    {
      "cell_type": "code",
      "source": [
        "class Car:\n",
        "    color = \"Red\"  # Class attribute\n",
        "\n",
        "    def __init__(self, brand):\n",
        "        self.brand = brand  # Instance attribute\n",
        "\n",
        "    def get_color(self):\n",
        "        return self.color  # Accessing class attribute using self\n",
        "\n",
        "car1 = Car(\"Toyota\")\n",
        "car2 = Car(\"Honda\")\n",
        "\n",
        "print(car1.brand)  # Output: Toyota\n",
        "print(car2.brand)  # Output: Honda\n",
        "print(car1.color)  # Output: Red\n",
        "print(car2.color)  # Output: Red\n",
        "\n",
        "print(Car.color)  # Output: Red\n",
        "\n",
        "car1.color = \"Blue\"\n",
        "print(car1.color)  # Output: Blue\n",
        "print(car2.color)  # Output: Red"
      ],
      "metadata": {
        "colab": {
          "base_uri": "https://localhost:8080/"
        },
        "id": "aBXxQktO2PKY",
        "outputId": "930eea8d-f4e5-4fb4-e241-12cf86b7700c"
      },
      "execution_count": null,
      "outputs": [
        {
          "output_type": "stream",
          "name": "stdout",
          "text": [
            "Toyota\n",
            "Honda\n",
            "Red\n",
            "Red\n",
            "Red\n",
            "Blue\n",
            "Red\n"
          ]
        }
      ]
    },
    {
      "cell_type": "markdown",
      "source": [
        "\n",
        "In the example, `color` is a class attribute defined within the `Car` class. It is shared among all instances of the class. The `brand` attribute is an instance attribute specific to each instance of the class. The `get_color()` method accesses the class attribute using `self.color`.\n",
        "\n",
        "Class attributes are useful when need to store data that is shared among all instances of a class, such as default values, constants, or common properties. They provide a way to define and manage data at the class level, ensuring consistency across all instances."
      ],
      "metadata": {
        "id": "4od0-vdt2Rg6"
      }
    },
    {
      "cell_type": "markdown",
      "source": [
        "### 2.4.2 Example 4"
      ],
      "metadata": {
        "id": "P4qKJAuY4OX6"
      }
    },
    {
      "cell_type": "code",
      "source": [
        "class ItemX:\n",
        "  rate = 0.8\n",
        "\n",
        "  #Recieves it self,name , price value and the quanntity\n",
        "  def __init__(self,namePassed ,pricePassed,quantityPassed = 0):\n",
        "\n",
        "    #Assign the properties to the object(self)\n",
        "    self.name = namePassed\n",
        "    self.price = pricePassed\n",
        "    self.quantity = quantityPassed\n",
        "\n",
        "  def calculatePrice(self):\n",
        "    return self.price*self.quantity\n",
        "  def apply_discount(self):\n",
        "    # Note that class attributes cannot access directly!\n",
        "    self.price = self.price*self.rate   #or  ItemX.rate ~> Not recomended\n",
        "\n",
        "#Instance\n",
        "itemX = ItemX(\"Laptop\",1000,1)\n",
        "\n",
        "#Calculate and print price\n",
        "print(f\"Price is : {itemX.calculatePrice()}\")\n",
        "\n",
        "#Apply discount\n",
        "itemX.apply_discount()\n",
        "\n",
        "#Print value after discount\n",
        "print(f\"Price is : {itemX.calculatePrice()}\")\n",
        "\n",
        "# Update the discount value\n",
        "itemX.rate = 0.25\n",
        "\n",
        "#Apply discount\n",
        "itemX.apply_discount()\n",
        "\n",
        "#Print value after discount\n",
        "print(f\"Price is : {itemX.calculatePrice()}\")"
      ],
      "metadata": {
        "colab": {
          "base_uri": "https://localhost:8080/"
        },
        "id": "-7AdRM9n4SFz",
        "outputId": "c8205d5a-6dc3-416a-b4cb-1cb3eac81214"
      },
      "execution_count": null,
      "outputs": [
        {
          "output_type": "stream",
          "name": "stdout",
          "text": [
            "Price is : 1000\n",
            "Price is : 800.0\n",
            "Price is : 200.0\n"
          ]
        }
      ]
    },
    {
      "cell_type": "markdown",
      "source": [
        "##2.5 Magic Methods"
      ],
      "metadata": {
        "id": "pzcIVMiZm3WE"
      }
    },
    {
      "cell_type": "markdown",
      "source": [
        "Magic methods, also known as special methods or dunder (double underscore) methods, are predefined methods in Python that allows to define behavior for  custom classes. They are surrounded by double underscores at the beginning and end of their names.\n",
        "\n",
        "|        Method        |                            Explanation                            |\n",
        "|----------------------|-------------------------------------------------------------------|\n",
        "| `__init__(self, ...)`    | Initializes an object of a class with specified attributes        |\n",
        "| `__str__(self)`          | Returns a string representation of the object                     |\n",
        "| `__repr__(self)`         | Returns a string representation that can be used to recreate the object |\n",
        "| `__len__(self)`          | Returns the length of the object                                  |\n",
        "| `__getitem__(self, key)` | Enables accessing an item in the object using square bracket notation |\n",
        "| `__setitem__(self, key, value)` | Enables setting a value for an item in the object using square bracket notation |\n",
        "| `__delitem__(self, key)` | Enables deleting an item from the object using the `del` statement |\n",
        "| `__add__(self, other)`   | Defines behavior for the addition operation (`+`) between objects |\n",
        "| `__sub__(self, other)`   | Defines behavior for the subtraction operation (`-`) between objects |\n",
        "| `__eq__(self, other)`    | Defines behavior for equality comparison (`==`) between objects   |\n",
        "| `__lt__(self, other)`    | Defines behavior for less-than comparison (`<`) between objects   |\n",
        "| `__gt__(self, other)`    | Defines behavior for greater-than comparison (`>`) between objects |\n",
        "| `__call__(self, ...)`    | Allows an object to be called as a function                         |\n"
      ],
      "metadata": {
        "id": "rCl5eOFfnXC4"
      }
    },
    {
      "cell_type": "markdown",
      "source": [
        "###2.5.1 \\_\\_init\\_\\_"
      ],
      "metadata": {
        "id": "AF81lzBqnh9l"
      }
    },
    {
      "cell_type": "markdown",
      "source": [
        "**Example**:"
      ],
      "metadata": {
        "id": "t5g3Zga8mxpx"
      }
    },
    {
      "cell_type": "code",
      "source": [
        "class Item3:\n",
        "  rate = 0.5\n",
        "  #Recieves it self,name , price value and the quanntity\n",
        "  def __init__(self,namePassed ,pricePassed,quantityPassed = 0):\n",
        "    #Assign the properties to the object(self)\n",
        "    self.name = namePassed\n",
        "    self.price = pricePassed\n",
        "    self.quantity = quantityPassed\n",
        "  def calculatePrice(self):\n",
        "    return self.price*self.quantity\n",
        "\n",
        "item3 = Item3(\"Laptop\",1000,1)\n",
        "\n",
        "print(item3.name)\n",
        "print(item3.price)\n",
        "print(item3.quantity)\n",
        "print(f\"Price is : {item3.calculatePrice()}\")\n",
        "\n",
        "print(item3.rate)"
      ],
      "metadata": {
        "colab": {
          "base_uri": "https://localhost:8080/"
        },
        "id": "lGRonoacmxTk",
        "outputId": "34ce52a3-8d59-4d69-8d82-b37753b9ba09"
      },
      "execution_count": null,
      "outputs": [
        {
          "output_type": "stream",
          "name": "stdout",
          "text": [
            "Laptop\n",
            "1000\n",
            "1\n",
            "Price is : 1000\n",
            "0.5\n"
          ]
        }
      ]
    },
    {
      "cell_type": "markdown",
      "source": [
        "### 2.5.2 \\_\\_dict\\_\\_"
      ],
      "metadata": {
        "id": "kYy6KuWj259C"
      }
    },
    {
      "cell_type": "markdown",
      "source": [
        " `__dict__` attribute is a dictionary that stores the namespace of a class or an instance. It contains all the attributes (variables and methods) defined within the class or associated with the instance as key-value pairs.\n",
        "\n",
        "\n",
        "1. Class `__dict__`:\n",
        "   - For a class, `__dict__` contains the class-level attributes, including class variables and methods.\n",
        "   - It provides a way to access and modify the attributes of the class directly.\n",
        "\n",
        "2. Instance `__dict__`:\n",
        "   - For an instance of a class, `__dict__` contains the instance-specific attributes.\n",
        "   - It includes both the instance variables (attributes) and any attributes inherited from the class.\n",
        "\n",
        "3. Dictionary Structure:\n",
        "   - The `__dict__` attribute is implemented as a dictionary, where attribute names are the keys, and the corresponding values are the attribute values.\n",
        "   - The dictionary allows accessing and manipulating attributes dynamically at runtime.\n",
        "\n",
        "\n"
      ],
      "metadata": {
        "id": "MNS6m39h3S5d"
      }
    },
    {
      "cell_type": "code",
      "source": [
        "print(Item3.__dict__) # All the attribiutes for class level\n",
        "print(item3.__dict__) # All the attribiutes for instance level ~> Note the rate and function does not inclued"
      ],
      "metadata": {
        "colab": {
          "base_uri": "https://localhost:8080/"
        },
        "id": "0AbzOvwe3eFL",
        "outputId": "8a8439c3-1321-4e81-e044-5b07e212d177"
      },
      "execution_count": null,
      "outputs": [
        {
          "output_type": "stream",
          "name": "stdout",
          "text": [
            "{'__module__': '__main__', 'rate': 0.5, '__init__': <function Item3.__init__ at 0x7db79093d7e0>, 'calculatePrice': <function Item3.calculatePrice at 0x7db79093d750>, '__dict__': <attribute '__dict__' of 'Item3' objects>, '__weakref__': <attribute '__weakref__' of 'Item3' objects>, '__doc__': None}\n",
            "{'name': 'Laptop', 'price': 1000, 'quantity': 1}\n"
          ]
        }
      ]
    },
    {
      "cell_type": "markdown",
      "source": [
        "##2.6 Type Hints"
      ],
      "metadata": {
        "id": "XVHmcgP8rPqB"
      }
    },
    {
      "cell_type": "markdown",
      "source": [
        "Type hints in Python are a way to specify the expected types of variables, function arguments, and return values. They provide additional information about the types used in your code, which can help improve code readability, maintainability, and enable static type checking.\n",
        "\n",
        "\n",
        "1. Variable Annotations:\n",
        "   Annotate variables using the `:` syntax to indicate their expected type.\n",
        "   ```python\n",
        "   age: int = 25\n",
        "   name: str = \"John\"\n",
        "   ```\n",
        "\n",
        "2. Function Annotations:\n",
        "   Function arguments and return values can be annotated using the `:` syntax.\n",
        "   ```python\n",
        "   def greet(name: str) -> str:\n",
        "       return \"Hello, \" + name\n",
        "   ```\n",
        "\n",
        "3. Optional Types:\n",
        "   You can indicate that a variable or function argument is optional by using the `typing.Optional` type.\n",
        "   ```python\n",
        "   from typing import Optional\n",
        "\n",
        "   def say_hello(name: Optional[str]) -> str:\n",
        "       if name:\n",
        "           return \"Hello, \" + name\n",
        "       else:\n",
        "           return \"Hello, stranger\"\n",
        "   ```\n",
        "\n",
        "4. Union Types:\n",
        "   Union types allow specifying that a variable or function argument can have multiple possible types.\n",
        "   ```python\n",
        "   from typing import Union\n",
        "\n",
        "   def add(x: Union[int, float], y: Union[int, float]) -> Union[int, float]:\n",
        "       return x + y\n",
        "   ```\n",
        "\n",
        "5. Type Aliases:\n",
        "   Type aliases provide a way to define custom type names for complex types or to make the code more readable.\n",
        "   ```python\n",
        "   from typing import List\n",
        "\n",
        "   Vector = List[float]\n",
        "\n",
        "   def scale(scalar: float, vector: Vector) -> Vector:\n",
        "       return [scalar * num for num in vector]\n",
        "   ```\n",
        "\n",
        "Type hints are optional and do not affect the runtime behavior of the code. They are primarily used by static type checkers, such as `mypy`, to analyze the code and detect potential type-related issues."
      ],
      "metadata": {
        "id": "spBTLKFGrTIw"
      }
    },
    {
      "cell_type": "markdown",
      "source": [
        "###2.6.1 Example 5"
      ],
      "metadata": {
        "id": "BgJdTVzOrvCb"
      }
    },
    {
      "cell_type": "code",
      "source": [
        "class Item4:\n",
        "  #Recieves it self,name , price value and the quanntity\n",
        "  def __init__(self,namePassed : str ,pricePassed :float ,quantityPassed : int):\n",
        "    #Assign the properties to the object(self)\n",
        "    self.name = namePassed\n",
        "    self.price = pricePassed\n",
        "    self.quantity = quantityPassed\n",
        "  def calculatePrice(self) -> float:\n",
        "    return self.price*self.quantity\n",
        "\n",
        "item4 = Item4(\"Laptop\",1000,1)\n",
        "\n",
        "print(item4.name)\n",
        "print(item4.price)\n",
        "print(item4.quantity)\n",
        "print(f\"Price is : {item4.calculatePrice()}\")"
      ],
      "metadata": {
        "colab": {
          "base_uri": "https://localhost:8080/"
        },
        "id": "PwEKc7ytrxUZ",
        "outputId": "6a73a952-9545-4f03-b3df-a62d523e88ba"
      },
      "execution_count": null,
      "outputs": [
        {
          "output_type": "stream",
          "name": "stdout",
          "text": [
            "Laptop\n",
            "1000\n",
            "1\n",
            "Price is : 1000\n"
          ]
        }
      ]
    },
    {
      "cell_type": "markdown",
      "source": [
        "## 2.7 Assert Statement"
      ],
      "metadata": {
        "id": "d03u_54cs7Zr"
      }
    },
    {
      "cell_type": "markdown",
      "source": [
        "The `assert` statement is a useful tool in Python for testing assumptions and ensuring that specific conditions are met. It allows to check if a given expression evaluates to `True` and raises an `AssertionError` if the expression evaluates to `False`. The `assert` statement can be used during development to detect logical errors or to validate input/output conditions.\n",
        "\n",
        "The syntax for using the `assert` statement is as follows:\n",
        "\n",
        "```python\n",
        "assert expression, message\n",
        "```\n",
        "\n",
        "- The `expression` is the condition that need to be checked. If it evaluates to `True`, the program continues execution as normal. If it evaluates to `False`, an `AssertionError` is raised.\n",
        "- The optional `message` parameter is an informative string that can be included to provide more details about the assertion.\n",
        "\n",
        "Some key points about the `assert` statement:\n",
        "\n",
        "1. Use Cases:\n",
        "   - Debugging: `assert` statements can help catch logical errors during development.\n",
        "   - Input Validation: `assert` can be used to validate input conditions and assumptions.\n",
        "   - Post-conditions: `assert` can be used to verify that specific conditions hold true after a function or method call.\n",
        "\n",
        "2. Behavior:\n",
        "   - If the `expression` is `False`, an `AssertionError` is raised, halting program execution.\n",
        "   - If the `expression` is `True`, the program continues execution without any impact.\n",
        "   - The `AssertionError` typically includes the `message` parameter, providing details about the failed assertion.\n",
        "\n",
        "3. Best Practices:\n",
        "   - Use `assert` for conditions that should never occur or indicate a bug in the code.\n",
        "   - Avoid using `assert` for input validation in production code. Instead, use explicit checks and exception handling.\n",
        "\n",
        "\n",
        "\n",
        "```python\n",
        "def divide(a, b):\n",
        "    assert b != 0, \"Cannot divide by zero\"\n",
        "    return a / b\n",
        "\n",
        "result = divide(10, 0)\n",
        "# Output: AssertionError: Cannot divide by zero\n",
        "```\n",
        "\n",
        "In the example, the `assert` statement checks if `b` is not equal to zero before performing division. Since the assertion fails, an `AssertionError` is raised with the provided message.\n",
        "\n",
        "It's important to note that the `assert` statement is primarily used during development and debugging. In production code, it's recommended to handle exceptions explicitly and provide meaningful error messages to handle exceptional conditions gracefully.\n"
      ],
      "metadata": {
        "id": "GV24dBZ_tB8-"
      }
    },
    {
      "cell_type": "markdown",
      "source": [
        "### 2.7.1 Example 6\n"
      ],
      "metadata": {
        "id": "8q__Fxlatkha"
      }
    },
    {
      "cell_type": "code",
      "source": [
        "class Item5:\n",
        "  #Recieves it self,name , price value and the quanntity\n",
        "  def __init__(self,namePassed : str ,pricePassed :float ,quantityPassed : int):\n",
        "\n",
        "    #Validation\n",
        "    assert pricePassed >= 0 , f\"Price {pricePassed} is lower than zero\"\n",
        "    assert quantityPassed >= 0 ,  f\"Quantity {quantityPassed} is lower than zero\"\n",
        "\n",
        "    #Assign the properties to the object(self)\n",
        "    self.name = namePassed\n",
        "    self.price = pricePassed\n",
        "    self.quantity = quantityPassed\n",
        "\n",
        "  def calculatePrice(self) -> float:\n",
        "    return self.price*self.quantity\n",
        "\n",
        "item5 = Item5(\"Laptop\",1000,1)\n",
        "\n"
      ],
      "metadata": {
        "id": "7NkAFePZt25K"
      },
      "execution_count": null,
      "outputs": []
    },
    {
      "cell_type": "markdown",
      "source": [
        "### 2.7.2 Example 7 : Object List"
      ],
      "metadata": {
        "id": "MlRlCmJQ7BhG"
      }
    },
    {
      "cell_type": "code",
      "source": [
        "class Item7:\n",
        "  rate = 0.8\n",
        "  all  = []\n",
        "  # Since it is a class attribute It's a common attribute for all\n",
        "  # Think like , class attributes are like attributes inside a parent object\n",
        "  # Instance attributes are like attributes inside each child\n",
        "\n",
        "  def __init__(self,namePassed : str ,pricePassed :float ,quantityPassed : int):\n",
        "\n",
        "    #Validation\n",
        "    assert pricePassed >= 0 , f\"Price {pricePassed} is lower than zero\"\n",
        "    assert quantityPassed >= 0 ,  f\"Quantity {quantityPassed} is lower than zero\"\n",
        "\n",
        "    #Assign the properties to the object(self)\n",
        "    self.name = namePassed\n",
        "    self.price = pricePassed\n",
        "    self.quantity = quantityPassed\n",
        "\n",
        "    #Update the All list\n",
        "    Item7.all.append(self)\n",
        "\n",
        "  def calculatePrice(self) -> float:\n",
        "    return self.price*self.quantity\n",
        "\n",
        "  def apply_discount(self):\n",
        "    self.price = self.price*self.rate\n",
        "\n",
        "item7_1 = Item7(\"Laptop\",1000,1)\n",
        "item7_2 = Item7(\"Phone\",250,3)\n",
        "item7_3 = Item7(\"Tablet\",350,2)\n",
        "item7_4 = Item7(\"S-Watch\",100,6)\n",
        "\n",
        "print(Item7.all) # Shows 4 item object array"
      ],
      "metadata": {
        "colab": {
          "base_uri": "https://localhost:8080/"
        },
        "id": "VUUTdwKT7Mdb",
        "outputId": "0867e5ad-1a75-44cf-9d34-797937b6cb3e"
      },
      "execution_count": null,
      "outputs": [
        {
          "output_type": "stream",
          "name": "stdout",
          "text": [
            "[<__main__.Item7 object at 0x7db79096d540>, <__main__.Item7 object at 0x7db79096d3f0>, <__main__.Item7 object at 0x7db79096f850>, <__main__.Item7 object at 0x7db79096c5e0>]\n"
          ]
        }
      ]
    },
    {
      "cell_type": "code",
      "source": [
        "for i in Item7.all:\n",
        "  print(i.name)"
      ],
      "metadata": {
        "colab": {
          "base_uri": "https://localhost:8080/"
        },
        "id": "5ZjYrkuQ7HRX",
        "outputId": "f2eb53f4-ffc8-41ba-b0ce-77d052c6c4ba"
      },
      "execution_count": null,
      "outputs": [
        {
          "output_type": "stream",
          "name": "stdout",
          "text": [
            "Laptop\n",
            "Phone\n",
            "Tablet\n",
            "S-Watch\n"
          ]
        }
      ]
    },
    {
      "cell_type": "markdown",
      "source": [
        "### 2.7.3 Example 8 : Object List with \\_\\_repr\\_\\_"
      ],
      "metadata": {
        "id": "eCpgIy6h_GZU"
      }
    },
    {
      "cell_type": "code",
      "source": [
        "class Item8:\n",
        "  rate = 0.8\n",
        "  all  = []\n",
        "  # Since it is a class attribute It's a common attribute for all\n",
        "  # Think like , class attributes are like attributes inside a parent object\n",
        "  # Instance attributes are like attributes inside each child\n",
        "\n",
        "  def __init__(self,namePassed : str ,pricePassed :float ,quantityPassed : int):\n",
        "\n",
        "    #Validation\n",
        "    assert pricePassed >= 0 , f\"Price {pricePassed} is lower than zero\"\n",
        "    assert quantityPassed >= 0 ,  f\"Quantity {quantityPassed} is lower than zero\"\n",
        "\n",
        "    #Assign the properties to the object(self)\n",
        "    self.name = namePassed\n",
        "    self.price = pricePassed\n",
        "    self.quantity = quantityPassed\n",
        "\n",
        "    #Update the All list\n",
        "    Item8.all.append(self)\n",
        "\n",
        "  def calculatePrice(self) -> float:\n",
        "    return self.price*self.quantity\n",
        "\n",
        "  def apply_discount(self):\n",
        "    self.price = self.price*self.rate\n",
        "\n",
        "  '''\n",
        "  Insted of the  objectID  __repr__ passes an string\n",
        "  The return string can be customized as required\n",
        "  The common practice is represent object as it's intance code like 'Item8(\"Laptop\",1000,1)'\n",
        "  '''\n",
        "  def __repr__(self):\n",
        "    return f\"Item8('{self.name}',{self.price},{self.quantity})\"\n",
        "\n",
        "item8_1 = Item8(\"Laptop\",1000,1)\n",
        "item8_2 = Item8(\"Phone\",250,3)\n",
        "item8_3 = Item8(\"Tablet\",350,2)\n",
        "item8_4 = Item8(\"S-Watch\",100,6)\n",
        "\n",
        "print(Item8.all) # Shows 4 item object array"
      ],
      "metadata": {
        "colab": {
          "base_uri": "https://localhost:8080/"
        },
        "id": "nyyKgpn1_F97",
        "outputId": "05407b1e-db93-4753-a02b-42d2286b5b35"
      },
      "execution_count": null,
      "outputs": [
        {
          "output_type": "stream",
          "name": "stdout",
          "text": [
            "[Item8('Laptop',1000,1), Item8('Phone',250,3), Item8('Tablet',350,2), Item8('S-Watch',100,6)]\n"
          ]
        }
      ]
    },
    {
      "cell_type": "markdown",
      "source": [
        "## 2.8 Class Methods"
      ],
      "metadata": {
        "id": "-o86sC_BCDYV"
      }
    },
    {
      "cell_type": "markdown",
      "source": [
        "A class method is a method that is bound to the class rather than an instance of the class. It is defined using the `@classmethod` decorator and can be accessed using either the class name or an instance of the class. Class methods have access to the class itself and can modify class-level attributes or perform operations that are relevant to the class as a whole. Here are some key points about class methods:\n",
        "\n",
        "1. **Definition and Syntax:**\n",
        "   - Class methods are defined using the `@classmethod` decorator before the method definition.\n",
        "   - The first parameter of a class method is conventionally named `cls` (short for \"class\"), which refers to the class itself.\n",
        "   - Class methods are typically defined within the class body but outside of any instances or instance methods.\n",
        "\n",
        "2. **Access:**\n",
        "   - Class methods can be accessed using the class name or an instance of the class.\n",
        "   - When accessed through the class name, the `cls` parameter is automatically passed to the method.\n",
        "   - When accessed through an instance, the instance is automatically passed as the `cls` parameter.\n",
        "\n",
        "3. **Purpose:**\n",
        "   - Class methods are often used to define alternative constructors or provide utility methods related to the class.\n",
        "   - They can be used to modify class attributes or perform operations that involve the class as a whole.\n",
        "\n",
        "\n",
        "\n",
        "\n"
      ],
      "metadata": {
        "id": "Oq2mSNAXCF5_"
      }
    },
    {
      "cell_type": "markdown",
      "source": [
        "### 2.8.1 Example 9"
      ],
      "metadata": {
        "id": "uPcAdFS5CaSW"
      }
    },
    {
      "cell_type": "code",
      "source": [
        "class Circle:\n",
        "    pi = 3.14159  # Class attribute\n",
        "\n",
        "    def __init__(self, radius):\n",
        "        self.radius = radius  # Instance attribute\n",
        "\n",
        "    @classmethod\n",
        "    def from_diameter(cls, diameter):\n",
        "        radius = diameter / 2\n",
        "        return cls(radius)\n",
        "\n",
        "    def calculate_area(self):\n",
        "        return self.pi * self.radius * self.radius\n",
        "\n",
        "circle1 = Circle(5)\n",
        "circle2 = Circle.from_diameter(10)\n",
        "\n",
        "print(circle1.calculate_area())  # Output: 78.53975\n",
        "print(circle2.calculate_area())  # Output: 78.53975"
      ],
      "metadata": {
        "colab": {
          "base_uri": "https://localhost:8080/"
        },
        "id": "ELKGI8CWCYzX",
        "outputId": "36ef6768-05b7-44b4-957d-f2213d4a6761"
      },
      "execution_count": null,
      "outputs": [
        {
          "output_type": "stream",
          "name": "stdout",
          "text": [
            "78.53975\n",
            "78.53975\n"
          ]
        }
      ]
    },
    {
      "cell_type": "markdown",
      "source": [
        "```python\n",
        "class Item8:\n",
        "  rate = 0.8\n",
        "  all  = []\n",
        "  def __init__(self,namePassed : str ,pricePassed :float ,quantityPassed : int):\n",
        "\n",
        "    #Validation\n",
        "    assert pricePassed >= 0 , f\"Price {pricePassed} is lower than zero\"\n",
        "    assert quantityPassed >= 0 ,  f\"Quantity {quantityPassed} is lower than zero\"\n",
        "\n",
        "    self.name = namePassed\n",
        "    self.price = pricePassed\n",
        "    self.quantity = quantityPassed\n",
        "\n",
        "    Item8.all.append(self)\n",
        "\n",
        "  def calculatePrice(self) -> float:\n",
        "    return self.price*self.quantity\n",
        "\n",
        "  def apply_discount(self):\n",
        "    self.price = self.price*self.rate\n",
        "\n",
        "  # Create objects from CSV ~> used classs method since it's a utility\n",
        "  @classmethod\n",
        "  def instantiateFromCSV(cls):\n",
        "\n",
        "    with open('items.csv','r') as f:\n",
        "      reader = csv.DictReader(f)\n",
        "      items = list(reader)\n",
        "\n",
        "    for i in items:\n",
        "      Item8(\n",
        "        name = i.get('name'),\n",
        "        price = float(i.get('price')),\n",
        "        quantity = int(i.get('quantity')),\n",
        "      )\n",
        "\n",
        "  def __repr__(self):\n",
        "    return f\"Item8('{self.name}',{self.price},{self.quantity})\"\n",
        "\n",
        "\n",
        "#Call the class method\n",
        "Item8.instantiateFromCSV()\n",
        "print(Item8.all) # Shows 4 item object array\n",
        "\n",
        "```"
      ],
      "metadata": {
        "id": "uoJrXzUDIFaL"
      }
    },
    {
      "cell_type": "markdown",
      "source": [
        "## 2.9 Static methods"
      ],
      "metadata": {
        "id": "1nQ_vN45JgrX"
      }
    },
    {
      "cell_type": "markdown",
      "source": [
        "Static method is a method that belongs to a class but doesn't have access to the instance or class itself. It is defined using the `@staticmethod` decorator and can be accessed using either the class name or an instance of the class. Static methods are not bound to any specific instance or class state and are primarily used for utility functions or operations that don't require access to instance or class attributes. Here are some key points about static methods:\n",
        "\n",
        "1. Definition and Syntax:\n",
        "   - Static methods are defined using the `@staticmethod` decorator before the method definition.\n",
        "   - Unlike regular methods, static methods don't take any special parameters such as `self` or `cls`.\n",
        "   - Static methods are typically defined within the class body but outside of any instances or instance methods.\n",
        "\n",
        "2. Access:\n",
        "   - Static methods can be accessed using the class name or an instance of the class.\n",
        "   - When accessed through the class name, no special parameters are automatically passed.\n",
        "   - When accessed through an instance, no automatic instance-related parameters are passed.\n",
        "\n",
        "3. Purpose:\n",
        "   - Static methods are commonly used for utility functions or operations that don't require access to instance or class attributes.\n",
        "   - They are not specific to any particular instance and do not modify or access instance or class state.\n",
        "\n",
        "\n",
        "|                   | Class Method                                          | Static Method                                         |\n",
        "|-------------------|-------------------------------------------------------|-------------------------------------------------------|\n",
        "| Definition        | Decorated with `@classmethod`                        | Decorated with `@staticmethod`                        |\n",
        "| Access            | Accessed using the class name or instance             | Accessed using the class name or instance             |\n",
        "| Parameters        | First parameter conventionally named `cls`            | No special parameters                                 |\n",
        "| Instance Access   | Has access to class and instance attributes           | Does not have access to class or instance attributes   |\n",
        "| Class Access      | Has access to class attributes                        | Does not have access to class attributes              |\n",
        "| Purpose           | Operates on class or instance attributes             | Utility functions or operations not requiring state   |\n",
        "| Modification      | Can modify class attributes                          | Cannot modify class attributes                        |\n",
        "| Inheritance       | Can be overridden by subclasses                      | Can be overridden by subclasses                      |\n",
        "| Implicit Self     | Receives the class as the first parameter (`cls`)     | No implicit self parameter                            |\n",
        "| Dependency        | Can depend on class or instance state                 | Does not depend on class or instance state            |\n",
        "| Code Organization | Group related functionality within a class            | Group utility functions within a class                |\n",
        "| Common Use Cases  | Alternative constructors, class-level operations     | Utility functions, independent operations             |\n"
      ],
      "metadata": {
        "id": "yIK1DKXVMGFW"
      }
    },
    {
      "cell_type": "markdown",
      "source": [
        "### 2.9.1 Static Method"
      ],
      "metadata": {
        "id": "HszEolsxMNJp"
      }
    },
    {
      "cell_type": "code",
      "source": [
        "class MathUtils:\n",
        "    @staticmethod\n",
        "    def add(a, b):\n",
        "        return a + b\n",
        "\n",
        "    @staticmethod\n",
        "    def multiply(a, b):\n",
        "        return a * b\n",
        "\n",
        "result1 = MathUtils.add(5, 3)\n",
        "result2 = MathUtils.multiply(4, 6)\n",
        "\n",
        "print(result1)  # Output: 8\n",
        "print(result2)  # Output: 24"
      ],
      "metadata": {
        "colab": {
          "base_uri": "https://localhost:8080/"
        },
        "id": "tBbptWnGMQhc",
        "outputId": "29cf6a82-ccac-4ec1-d9c5-efe6da8b734e"
      },
      "execution_count": null,
      "outputs": [
        {
          "output_type": "stream",
          "name": "stdout",
          "text": [
            "8\n",
            "24\n"
          ]
        }
      ]
    },
    {
      "cell_type": "markdown",
      "source": [
        "## 2.10 Inheritance"
      ],
      "metadata": {
        "id": "WkG-cGQZTT1h"
      }
    },
    {
      "cell_type": "markdown",
      "source": [
        "Inheritance is a fundamental concept in object-oriented programming (OOP) that allows classes to inherit attributes and methods from **parent classes**. It promotes code reuse, modularity, and allows for the creation of hierarchical relationships between classes. Inheritance enables the creation of specialized classes (child or derived classes) that inherit and extend the functionality of a more general class (parent or base class).\n",
        "\n",
        "1. **Class Hierarchy:**\n",
        "   - Inheritance forms a class hierarchy where child classes inherit attributes and methods from parent classes.\n",
        "   - Parent classes are also known as base classes or superclasses, while child classes are referred to as derived classes or subclasses.\n",
        "\n",
        "2. **Syntax:**\n",
        "   - In Python, inheritance is declared by specifying the parent class in parentheses after the child class name when defining the class.\n",
        "   - The child class inherits all attributes and methods defined in the parent class.\n",
        "\n",
        "3. **Single Inheritance:**\n",
        "   - Python supports single inheritance, where a class can inherit from only one parent class.\n",
        "   - Child classes can access and use the attributes and methods of the parent class as if they were defined in the child class itself.\n",
        "\n",
        "4. **Overriding Methods:**\n",
        "   - Child classes can override methods inherited from the parent class by redefining them in the child class.\n",
        "   - When a method is called on an instance of the child class, the overridden method in the child class is executed instead of the parent class method.\n",
        "\n",
        "5. **Accessing Parent Class:**\n",
        "   - Child classes can access the attributes and methods of the parent class using the `super()` function.\n",
        "   - The `super()` function provides a way to call parent class methods and access parent class attributes from within the child class.\n",
        "\n",
        "6. **Inheritance Levels:**\n",
        "   - Inheritance can be hierarchical, allowing for multiple levels of inheritance.\n",
        "   - A child class can become a parent class for another class, forming a chain of inheritance.\n",
        "\n",
        "7. **Benefits of Inheritance:**\n",
        "   - Code Reusability: Inheritance promotes code reuse by allowing child classes to inherit and reuse the functionality of parent classes.\n",
        "   - Modularity: Inheritance helps in creating modular code by organizing related classes into a hierarchy.\n",
        "   - Polymorphism: Inheritance supports polymorphism, where objects of different classes can be used interchangeably if they are related through inheritance.\n",
        "\n",
        "\n",
        "\n"
      ],
      "metadata": {
        "id": "yUlfnLkpTWQk"
      }
    },
    {
      "cell_type": "markdown",
      "source": [
        "###2.10.1 Example 10"
      ],
      "metadata": {
        "id": "Avci-uiDTzQu"
      }
    },
    {
      "cell_type": "code",
      "source": [
        "class Animal:\n",
        "    def __init__(self, name):\n",
        "        self.name = name\n",
        "\n",
        "    def speak(self):\n",
        "        print(\"The animal speaks.\")\n",
        "\n",
        "class Dog(Animal):\n",
        "    def __init__(self, name, breed):\n",
        "        super().__init__(name)\n",
        "        self.breed = breed\n",
        "\n",
        "    def speak(self):\n",
        "        print(\"The dog barks.\")\n",
        "\n",
        "animal = Animal(\"Generic Animal\")\n",
        "dog = Dog(\"Buddy\", \"Labrador\")\n",
        "\n",
        "animal.speak()  # Output: The animal speaks.\n",
        "dog.speak()     # Output: The dog barks.\n"
      ],
      "metadata": {
        "id": "lhh6b2rPTwul",
        "colab": {
          "base_uri": "https://localhost:8080/"
        },
        "outputId": "b2d7e41d-9305-40b5-d57f-d42ba9702e11"
      },
      "execution_count": null,
      "outputs": [
        {
          "output_type": "stream",
          "name": "stdout",
          "text": [
            "The animal speaks.\n",
            "The dog barks.\n"
          ]
        }
      ]
    },
    {
      "cell_type": "markdown",
      "source": [
        "In the example, the `Animal` class is the parent class, and the `Dog` class is the child class that inherits from `Animal`. The `Dog` class overrides the `speak()` method of the `Animal` class with its own implementation. When `speak()` is called on the `animal` object, it executes the method from the `Animal` class. When `speak()` is called on the `dog` object, it executes the overridden method from the `Dog` class.\n"
      ],
      "metadata": {
        "id": "H70rQFkET3Da"
      }
    },
    {
      "cell_type": "markdown",
      "source": [
        "### 2.10.2 Example 11"
      ],
      "metadata": {
        "id": "ZWDIuCtFT5Um"
      }
    },
    {
      "cell_type": "code",
      "source": [
        "# Base or the Parent Class\n",
        "class Item11:\n",
        "  rate = 0.8\n",
        "  all  = []\n",
        "\n",
        "  def __init__(self,namePassed : str ,pricePassed :float ,quantityPassed : int):\n",
        "\n",
        "    assert pricePassed >= 0 , f\"Price {pricePassed} is lower than zero\"\n",
        "    assert quantityPassed >= 0 ,  f\"Quantity {quantityPassed} is lower than zero\"\n",
        "\n",
        "    self.name = namePassed\n",
        "    self.price = pricePassed\n",
        "    self.quantity = quantityPassed\n",
        "\n",
        "    Item11.all.append(self)\n",
        "\n",
        "  def calculatePrice(self) -> float:\n",
        "    return self.price*self.quantity\n",
        "\n",
        "  def apply_discount(self):\n",
        "    self.price = self.price*self.rate\n",
        "\n",
        "  def __repr__(self):\n",
        "    return f\"{self.__class__.__name__}('{self.name}',{self.price},{self.quantity})\"\n",
        "\n",
        "item11_1 = Item11(\"Laptop\",1000,1)\n",
        "item11_2 = Item11(\"Phone\",250,3)\n",
        "item11_3 = Item11(\"Tablet\",350,2)\n",
        "item11_4 = Item11(\"S-Watch\",100,6)\n",
        "\n",
        "print(Item11.all) # Shows 4 item object array"
      ],
      "metadata": {
        "colab": {
          "base_uri": "https://localhost:8080/"
        },
        "id": "_Pu65-UyWh0W",
        "outputId": "62c84391-fb97-435b-fef3-1019bd84baf2"
      },
      "execution_count": null,
      "outputs": [
        {
          "output_type": "stream",
          "name": "stdout",
          "text": [
            "[Item11('Laptop',1000,1), Item11('Phone',250,3), Item11('Tablet',350,2), Item11('S-Watch',100,6)]\n"
          ]
        }
      ]
    },
    {
      "cell_type": "code",
      "source": [
        "#Inherited class to add damaged Items\n",
        "\n",
        "class damagedItems(Item11):\n",
        "  all = []\n",
        "  def __init__(self, namePassed: str, pricePassed: float, quantityPassed: int , brokenItemsPassed : int):\n",
        "    #  Call to super function to have access all the atributes and methods in the parent clasas\n",
        "    super().__init__(namePassed, pricePassed, quantityPassed)\n",
        "\n",
        "    # Run validation for new arguments which are unique to the child class\n",
        "    assert brokenItemsPassed >= 0 , f\"Broken phones {brokenItemsPassed} invalid\"\n",
        "\n",
        "    # Assign new uniqe parameters to the child object\n",
        "    self.brokenItems = brokenItemsPassed\n",
        "\n",
        "    # Update all list\n",
        "    damagedItems.all.append(self)\n",
        "\n",
        "\n",
        "item11_6 = damagedItems(\"Laptop_Broken\",1000,1,1)\n",
        "item11_7 = damagedItems(\"Phone_Broken\",250,3,1)\n",
        "item11_8 = damagedItems(\"Tablet_Broken\",350,2,1)\n",
        "item11_9 = damagedItems(\"S-Watch_Broken\",100,6,1)\n",
        "\n",
        "# Run\n",
        "print(item11_6.calculatePrice())\n",
        "item11_6.apply_discount()\n",
        "print(item11_6.calculatePrice())"
      ],
      "metadata": {
        "colab": {
          "base_uri": "https://localhost:8080/"
        },
        "id": "RVCLW5QwWrwQ",
        "outputId": "b4e3db74-d2f1-4b21-e51e-32c5ed0c8ea3"
      },
      "execution_count": null,
      "outputs": [
        {
          "output_type": "stream",
          "name": "stdout",
          "text": [
            "1000\n",
            "800.0\n"
          ]
        }
      ]
    },
    {
      "cell_type": "code",
      "source": [
        "print(Item11.all)"
      ],
      "metadata": {
        "colab": {
          "base_uri": "https://localhost:8080/"
        },
        "id": "DPYF0YSEjahP",
        "outputId": "01cc2979-385f-4dae-8640-9bfb1a1d2584"
      },
      "execution_count": null,
      "outputs": [
        {
          "output_type": "stream",
          "name": "stdout",
          "text": [
            "[Item11('Laptop',1000,1), Item11('Phone',250,3), Item11('Tablet',350,2), Item11('S-Watch',100,6), damagedItems('Laptop_Broken',800.0,1), damagedItems('Phone_Broken',250,3), damagedItems('Tablet_Broken',350,2), damagedItems('S-Watch_Broken',100,6)]\n"
          ]
        }
      ]
    },
    {
      "cell_type": "code",
      "source": [
        "print(damagedItems.all)"
      ],
      "metadata": {
        "colab": {
          "base_uri": "https://localhost:8080/"
        },
        "id": "od6SJXosjpKc",
        "outputId": "5b493cc5-a280-492f-e01b-14da1c84180b"
      },
      "execution_count": null,
      "outputs": [
        {
          "output_type": "stream",
          "name": "stdout",
          "text": [
            "[damagedItems('Laptop_Broken',800.0,1), damagedItems('Phone_Broken',250,3), damagedItems('Tablet_Broken',350,2), damagedItems('S-Watch_Broken',100,6)]\n"
          ]
        }
      ]
    },
    {
      "cell_type": "markdown",
      "source": [
        "# 3.0 Numpy Library"
      ],
      "metadata": {
        "id": "HVYKU4iv3QZf"
      }
    },
    {
      "cell_type": "markdown",
      "source": [
        "## 3.1 Introduction"
      ],
      "metadata": {
        "id": "ia17UiOk3UdV"
      }
    },
    {
      "cell_type": "markdown",
      "source": [
        "### 3.1.1 Introduction to Numpy"
      ],
      "metadata": {
        "id": "ONDQki4y3vM_"
      }
    },
    {
      "cell_type": "markdown",
      "source": [
        "NumPy (Numerical Python) is a powerful library for numerical computing in Python. It provides support for large, multi-dimensional arrays and matrices, along with a collection of high-level mathematical functions to operate on these arrays efficiently. NumPy is a fundamental building block for data analysis, scientific computing, and machine learning tasks in Python."
      ],
      "metadata": {
        "id": "qOnsiuL331P_"
      }
    },
    {
      "cell_type": "markdown",
      "source": [
        "### 3.1.2 What is NumPy?"
      ],
      "metadata": {
        "id": "ynP4DU-t32AZ"
      }
    },
    {
      "cell_type": "markdown",
      "source": [
        "NumPy is an open-source library that extends Python's capabilities to handle arrays and numerical operations with ease. It was created to address the limitations of Python's built-in data structures and to provide fast, memory-efficient operations on large datasets. The core data structure in NumPy is the \"ndarray\" (n-dimensional array), which allows for element-wise operations and broadcasting. NumPy also supports various data types and functions to work with these arrays efficiently."
      ],
      "metadata": {
        "id": "ARXLXPB84AKJ"
      }
    },
    {
      "cell_type": "markdown",
      "source": [
        "### 3.1.3 Why NumPy ?"
      ],
      "metadata": {
        "id": "DyWuZtHb4BQ-"
      }
    },
    {
      "cell_type": "markdown",
      "source": [
        "NumPy offers several compelling reasons to use it for numerical computing tasks:\n",
        "\n",
        "- **Performance:** NumPy is implemented in C and offers highly optimized array operations, making it much faster than traditional Python lists when handling large datasets.\n",
        "\n",
        "- **Memory Efficiency:** NumPy arrays are more memory-efficient compared to Python lists, which can be critical when dealing with huge datasets.\n",
        "\n",
        "- **Broadcasting:** NumPy enables broadcasting, which allows operations on arrays of different shapes and sizes, making code concise and readable.\n",
        "\n",
        "- **Mathematical Functions:** NumPy provides a wide range of mathematical functions for array operations, linear algebra, statistics, and more.\n",
        "\n",
        "- **Integration with Other Libraries:** NumPy seamlessly integrates with various data science and machine learning libraries in the Python ecosystem."
      ],
      "metadata": {
        "id": "THLMSkeH4GSe"
      }
    },
    {
      "cell_type": "markdown",
      "source": [
        "### 3.1.4 Getting started with NumPy"
      ],
      "metadata": {
        "id": "G8enWdVN4IQg"
      }
    },
    {
      "cell_type": "markdown",
      "source": [
        "**Installing NumPy**\n",
        "\n",
        "Installing NumPy is straightforward and can be done using Python's package manager, pip. Simply open a terminal or command prompt and execute the following command:\n",
        "\n",
        "```\n",
        "pip install numpy\n",
        "```\n",
        "\n",
        "Ensure that you have an active internet connection, and NumPy will be downloaded and installed on your system.\n",
        "\n",
        "**Getting Started with NumPy Arrays**\n",
        "\n",
        "To start using NumPy, you need to import the library in your Python script or interactive session:\n",
        "\n",
        "```python\n",
        "import numpy as np\n",
        "```\n",
        "\n",
        "With NumPy imported, you can now create NumPy arrays and perform various operations on them. The first step is often to create an array:\n",
        "\n",
        "```python\n",
        "# Creating a NumPy array from a list\n",
        "arr = np.array([1, 2, 3, 4, 5])\n",
        "\n",
        "# Creating a multi-dimensional array (matrix)\n",
        "matrix = np.array([[1, 2, 3], [4, 5, 6], [7, 8, 9]])\n",
        "```"
      ],
      "metadata": {
        "id": "p6sW_3LJ3s6v"
      }
    },
    {
      "cell_type": "markdown",
      "source": [
        "## 3.2 NumPy Arrays"
      ],
      "metadata": {
        "id": "A-WeLzup4T-3"
      }
    },
    {
      "cell_type": "markdown",
      "source": [
        "NumPy provides powerful capabilities for creating and manipulating arrays."
      ],
      "metadata": {
        "id": "M2wpP5Em48BP"
      }
    },
    {
      "cell_type": "markdown",
      "source": [
        "### 3.2.1  Creating NumPy Arrays"
      ],
      "metadata": {
        "id": "KTUd1_j-495d"
      }
    },
    {
      "cell_type": "markdown",
      "source": [
        "1. Creating an array from a Python list:"
      ],
      "metadata": {
        "id": "Vc_OatQ-5R6s"
      }
    },
    {
      "cell_type": "code",
      "source": [
        "import numpy as np\n",
        "\n",
        "list_data = [1, 2, 3, 4, 5]\n",
        "numpy_array = np.array(list_data)\n",
        "print(numpy_array)"
      ],
      "metadata": {
        "id": "IWvp4oep5T0P",
        "outputId": "e1b18297-cf4e-426d-bdcf-a9e8135874c5",
        "colab": {
          "base_uri": "https://localhost:8080/"
        }
      },
      "execution_count": null,
      "outputs": [
        {
          "output_type": "stream",
          "name": "stdout",
          "text": [
            "[1 2 3 4 5]\n"
          ]
        }
      ]
    },
    {
      "cell_type": "markdown",
      "source": [
        "2. Creating a 2D array from nested lists:\n"
      ],
      "metadata": {
        "id": "l9imBsZU5XZU"
      }
    },
    {
      "cell_type": "code",
      "source": [
        "nested_lists = [[1, 2, 3], [4, 5, 6], [7, 8, 9]]\n",
        "numpy_2d_array = np.array(nested_lists)\n",
        "print(numpy_2d_array)"
      ],
      "metadata": {
        "id": "QosKCiyZ5YM3",
        "outputId": "3fa70e43-3d25-42e7-a217-fa7353e1678e",
        "colab": {
          "base_uri": "https://localhost:8080/"
        }
      },
      "execution_count": null,
      "outputs": [
        {
          "output_type": "stream",
          "name": "stdout",
          "text": [
            "[[1 2 3]\n",
            " [4 5 6]\n",
            " [7 8 9]]\n"
          ]
        }
      ]
    },
    {
      "cell_type": "markdown",
      "source": [
        "3. Creating an array of zeros with a specified shape:"
      ],
      "metadata": {
        "id": "uJfATJHh5fO0"
      }
    },
    {
      "cell_type": "code",
      "source": [
        "zeros_array = np.zeros((3, 4))\n",
        "print(zeros_array)"
      ],
      "metadata": {
        "id": "A24OSi5V5f0R",
        "outputId": "1e2f8e21-7ae4-4e1a-a339-fb72a5d6c4a8",
        "colab": {
          "base_uri": "https://localhost:8080/"
        }
      },
      "execution_count": null,
      "outputs": [
        {
          "output_type": "stream",
          "name": "stdout",
          "text": [
            "[[0. 0. 0. 0.]\n",
            " [0. 0. 0. 0.]\n",
            " [0. 0. 0. 0.]]\n"
          ]
        }
      ]
    },
    {
      "cell_type": "markdown",
      "source": [
        "4. Creating an array of ones with a specified shape:"
      ],
      "metadata": {
        "id": "58cA84Gv5huD"
      }
    },
    {
      "cell_type": "code",
      "source": [
        "ones_array = np.ones((2, 3))\n",
        "print(ones_array)"
      ],
      "metadata": {
        "id": "SVSKpJXH5mTi",
        "outputId": "35321941-7c5e-4531-d922-6f743d1213ee",
        "colab": {
          "base_uri": "https://localhost:8080/"
        }
      },
      "execution_count": null,
      "outputs": [
        {
          "output_type": "stream",
          "name": "stdout",
          "text": [
            "[[1. 1. 1.]\n",
            " [1. 1. 1.]]\n"
          ]
        }
      ]
    },
    {
      "cell_type": "markdown",
      "source": [
        "5. Creating an array with a specified range of values:"
      ],
      "metadata": {
        "id": "gee-sv5Z5q-a"
      }
    },
    {
      "cell_type": "code",
      "source": [
        "range_array = np.arange(0, 10, 2)\n",
        "print(range_array)"
      ],
      "metadata": {
        "id": "QXtxpbmV5tPT",
        "outputId": "06732865-778e-4243-b1c7-c852ee38a4c0",
        "colab": {
          "base_uri": "https://localhost:8080/"
        }
      },
      "execution_count": null,
      "outputs": [
        {
          "output_type": "stream",
          "name": "stdout",
          "text": [
            "[0 2 4 6 8]\n"
          ]
        }
      ]
    },
    {
      "cell_type": "markdown",
      "source": [
        "6. Creating an array with equally spaced values:"
      ],
      "metadata": {
        "id": "tGQ52JAR5ySG"
      }
    },
    {
      "cell_type": "code",
      "source": [
        "spaced_array = np.linspace(0, 1, 5)\n",
        "print(spaced_array)"
      ],
      "metadata": {
        "id": "8CaibKvK5y3Y",
        "outputId": "1d75deb5-75f0-42e3-d119-f7e2bcf23aa0",
        "colab": {
          "base_uri": "https://localhost:8080/"
        }
      },
      "execution_count": null,
      "outputs": [
        {
          "output_type": "stream",
          "name": "stdout",
          "text": [
            "[0.   0.25 0.5  0.75 1.  ]\n"
          ]
        }
      ]
    },
    {
      "cell_type": "markdown",
      "source": [
        "7. Creating a 3x3 identity matrix:\n"
      ],
      "metadata": {
        "id": "kVT_6_a756RL"
      }
    },
    {
      "cell_type": "code",
      "source": [
        "identity_matrix = np.eye(3)\n",
        "print(identity_matrix)"
      ],
      "metadata": {
        "id": "Srt5MybK57I0",
        "outputId": "a0340489-074c-48b7-e28d-2253d0eb1a78",
        "colab": {
          "base_uri": "https://localhost:8080/"
        }
      },
      "execution_count": null,
      "outputs": [
        {
          "output_type": "stream",
          "name": "stdout",
          "text": [
            "[[1. 0. 0.]\n",
            " [0. 1. 0.]\n",
            " [0. 0. 1.]]\n"
          ]
        }
      ]
    },
    {
      "cell_type": "markdown",
      "source": [
        "8. Creating a random 2x3 array:"
      ],
      "metadata": {
        "id": "my4cGR5e6ApH"
      }
    },
    {
      "cell_type": "code",
      "source": [
        "random_array = np.random.rand(2, 3)\n",
        "print(random_array)"
      ],
      "metadata": {
        "id": "RmVGdBHL6BKJ",
        "outputId": "9b4d6358-65d0-46d4-80e8-29e475614197",
        "colab": {
          "base_uri": "https://localhost:8080/"
        }
      },
      "execution_count": null,
      "outputs": [
        {
          "output_type": "stream",
          "name": "stdout",
          "text": [
            "[[0.63873685 0.73634864 0.00422765]\n",
            " [0.88094691 0.71408528 0.67107406]]\n"
          ]
        }
      ]
    },
    {
      "cell_type": "markdown",
      "source": [
        "9. Creating an array with random integers between a range:\n"
      ],
      "metadata": {
        "id": "OTfUV2Jc6IUy"
      }
    },
    {
      "cell_type": "code",
      "source": [
        "random_integers = np.random.randint(1, 10, (3, 3))\n",
        "print(random_integers)"
      ],
      "metadata": {
        "id": "l5jl5dU96I2v",
        "outputId": "7f1080e7-f449-4b7d-b889-fb1f1ac64feb",
        "colab": {
          "base_uri": "https://localhost:8080/"
        }
      },
      "execution_count": null,
      "outputs": [
        {
          "output_type": "stream",
          "name": "stdout",
          "text": [
            "[[6 9 5]\n",
            " [8 4 3]\n",
            " [7 5 2]]\n"
          ]
        }
      ]
    },
    {
      "cell_type": "markdown",
      "source": [
        "10. Creating an array with repeated values:"
      ],
      "metadata": {
        "id": "FBY8ZYZC6C35"
      }
    },
    {
      "cell_type": "code",
      "source": [
        "repeated_values = np.repeat(5, 5)\n",
        "print(repeated_values)"
      ],
      "metadata": {
        "id": "w6K_z7c26PYa",
        "outputId": "853069f6-2912-474b-cbf8-a4b4b27eaec0",
        "colab": {
          "base_uri": "https://localhost:8080/"
        }
      },
      "execution_count": null,
      "outputs": [
        {
          "output_type": "stream",
          "name": "stdout",
          "text": [
            "[5 5 5 5 5]\n"
          ]
        }
      ]
    },
    {
      "cell_type": "markdown",
      "source": [
        "### 3.2.2 Indexing and Slicing"
      ],
      "metadata": {
        "id": "cp32i-lV6UIk"
      }
    },
    {
      "cell_type": "markdown",
      "source": [
        "1. Accessing a single element from an array:\n"
      ],
      "metadata": {
        "id": "PS3CAbUB6PkY"
      }
    },
    {
      "cell_type": "code",
      "source": [
        "arr = np.array([1, 2, 3, 4, 5])\n",
        "print(arr[3])"
      ],
      "metadata": {
        "id": "u4eZ7M9h6Pqp",
        "outputId": "bfe91fb1-b60d-4f9e-bd47-3c74bb994e02",
        "colab": {
          "base_uri": "https://localhost:8080/"
        }
      },
      "execution_count": null,
      "outputs": [
        {
          "output_type": "stream",
          "name": "stdout",
          "text": [
            "4\n"
          ]
        }
      ]
    },
    {
      "cell_type": "markdown",
      "source": [
        "2. Slicing a 1D array:"
      ],
      "metadata": {
        "id": "3_8yJAzz6Pwb"
      }
    },
    {
      "cell_type": "code",
      "source": [
        "arr = np.array([1, 2, 3, 4, 5])\n",
        "print(arr[1:4])"
      ],
      "metadata": {
        "id": "jwLf6vH36P1g",
        "outputId": "69860d33-d983-458b-cb14-84fb4a537f1b",
        "colab": {
          "base_uri": "https://localhost:8080/"
        }
      },
      "execution_count": null,
      "outputs": [
        {
          "output_type": "stream",
          "name": "stdout",
          "text": [
            "[2 3 4]\n"
          ]
        }
      ]
    },
    {
      "cell_type": "markdown",
      "source": [
        "3. Indexing and slicing a 2D array:"
      ],
      "metadata": {
        "id": "PjkpSghD6P6V"
      }
    },
    {
      "cell_type": "code",
      "source": [
        "arr_2d = np.array([[1, 2, 3], [4, 5, 6], [7, 8, 9]])\n",
        "print(arr_2d)\n",
        "print(arr_2d[1, 2])\n",
        "print(arr_2d[0:2, 1:])"
      ],
      "metadata": {
        "id": "8LBWuM6Z6QAa",
        "outputId": "051cd9fb-1852-45e4-f616-0ace54a6a541",
        "colab": {
          "base_uri": "https://localhost:8080/"
        }
      },
      "execution_count": null,
      "outputs": [
        {
          "output_type": "stream",
          "name": "stdout",
          "text": [
            "[[1 2 3]\n",
            " [4 5 6]\n",
            " [7 8 9]]\n",
            "6\n",
            "[[2 3]\n",
            " [5 6]]\n"
          ]
        }
      ]
    },
    {
      "cell_type": "markdown",
      "source": [
        "4. Using negative indices for reverse indexing:"
      ],
      "metadata": {
        "id": "6ZeJC2lW68M4"
      }
    },
    {
      "cell_type": "code",
      "source": [
        "arr = np.array([1, 2, 3, 4, 5])\n",
        "print(arr[-1])"
      ],
      "metadata": {
        "id": "PD79xJn96-m_",
        "outputId": "bcbadc62-c44c-4449-d1e8-f8f1beeb30be",
        "colab": {
          "base_uri": "https://localhost:8080/"
        }
      },
      "execution_count": null,
      "outputs": [
        {
          "output_type": "stream",
          "name": "stdout",
          "text": [
            "5\n"
          ]
        }
      ]
    },
    {
      "cell_type": "markdown",
      "source": [
        "5. Assigning new values to array elements using indexing:\n"
      ],
      "metadata": {
        "id": "Tt2z0xqm7B_Y"
      }
    },
    {
      "cell_type": "code",
      "source": [
        "arr = np.array([1, 2, 3, 4, 5])\n",
        "arr[2] = 10\n",
        "print(arr)"
      ],
      "metadata": {
        "id": "WFwEDw9s7Dk8",
        "outputId": "4376292c-d397-447c-b083-09b4f08209d2",
        "colab": {
          "base_uri": "https://localhost:8080/"
        }
      },
      "execution_count": null,
      "outputs": [
        {
          "output_type": "stream",
          "name": "stdout",
          "text": [
            "[ 1  2 10  4  5]\n"
          ]
        }
      ]
    },
    {
      "cell_type": "markdown",
      "source": [
        "6. Boolean indexing to filter array elements:"
      ],
      "metadata": {
        "id": "E-_DYI-T7Gok"
      }
    },
    {
      "cell_type": "code",
      "source": [
        "arr = np.array([10, 20, 30, 40, 50])\n",
        "mask = arr > 30\n",
        "print(arr[mask])"
      ],
      "metadata": {
        "id": "jcz9HWFi7IVT",
        "outputId": "54e4990b-cc71-4306-c909-33997c064d37",
        "colab": {
          "base_uri": "https://localhost:8080/"
        }
      },
      "execution_count": null,
      "outputs": [
        {
          "output_type": "stream",
          "name": "stdout",
          "text": [
            "[40 50]\n"
          ]
        }
      ]
    },
    {
      "cell_type": "markdown",
      "source": [
        "7. Indexing with a list of integers:"
      ],
      "metadata": {
        "id": "9LZnttHl7OrQ"
      }
    },
    {
      "cell_type": "code",
      "source": [
        "arr = np.array([1, 2, 3, 4, 5])\n",
        "indices = [0, 2, 4]\n",
        "print(arr[indices])"
      ],
      "metadata": {
        "id": "zZNNwPxu7P2H",
        "outputId": "9350b289-19c3-48e8-fc06-cc9adc0db482",
        "colab": {
          "base_uri": "https://localhost:8080/"
        }
      },
      "execution_count": null,
      "outputs": [
        {
          "output_type": "stream",
          "name": "stdout",
          "text": [
            "[1 3 5]\n"
          ]
        }
      ]
    },
    {
      "cell_type": "markdown",
      "source": [
        "8. Using \"np.ix_\" for advanced indexing:"
      ],
      "metadata": {
        "id": "WW0nb90p7RUh"
      }
    },
    {
      "cell_type": "code",
      "source": [
        "arr = np.array([1, 2, 3, 4, 5])\n",
        "rows_to_select = [True, False, True, False, False]\n",
        "print(arr[np.ix_(rows_to_select)])"
      ],
      "metadata": {
        "id": "e8LEOx6R7Tzl",
        "outputId": "4f8308a2-68c8-4431-9147-ebaeb1291fd3",
        "colab": {
          "base_uri": "https://localhost:8080/"
        }
      },
      "execution_count": null,
      "outputs": [
        {
          "output_type": "stream",
          "name": "stdout",
          "text": [
            "[1 3]\n"
          ]
        }
      ]
    },
    {
      "cell_type": "markdown",
      "source": [
        "9. Combining Boolean masks with logical operators:"
      ],
      "metadata": {
        "id": "AVEgCJ7N7jDH"
      }
    },
    {
      "cell_type": "code",
      "source": [
        "arr = np.array([10, 20, 30, 40, 50])\n",
        "mask1 = arr > 20\n",
        "mask2 = arr < 50\n",
        "print(arr[mask1 & mask2])"
      ],
      "metadata": {
        "id": "Gbz4Srpp7jjZ",
        "outputId": "90849a98-6a3f-4e51-9497-9299d305b5e6",
        "colab": {
          "base_uri": "https://localhost:8080/"
        }
      },
      "execution_count": null,
      "outputs": [
        {
          "output_type": "stream",
          "name": "stdout",
          "text": [
            "[30 40]\n"
          ]
        }
      ]
    },
    {
      "cell_type": "markdown",
      "source": [
        "10. Modifying sub-arrays using slicing:"
      ],
      "metadata": {
        "id": "LYL7PoTB7mjl"
      }
    },
    {
      "cell_type": "code",
      "source": [
        "arr = np.array([1, 2, 3, 4, 5])\n",
        "arr[1:4] = 100\n",
        "print(arr)"
      ],
      "metadata": {
        "id": "C98XoFmn7l7U",
        "outputId": "6c12fc50-208e-42fd-bb1a-1d47f8579d7f",
        "colab": {
          "base_uri": "https://localhost:8080/"
        }
      },
      "execution_count": null,
      "outputs": [
        {
          "output_type": "stream",
          "name": "stdout",
          "text": [
            "[  1 100 100 100   5]\n"
          ]
        }
      ]
    },
    {
      "cell_type": "markdown",
      "source": [
        "### 3.2.3 Array Shape and Dimensions"
      ],
      "metadata": {
        "id": "P8V2QdgR7xcY"
      }
    },
    {
      "cell_type": "markdown",
      "source": [
        "1. Checking the shape of an array:"
      ],
      "metadata": {
        "id": "VZnsA7Ts72CE"
      }
    },
    {
      "cell_type": "code",
      "source": [
        "arr = np.array([[1, 2, 3], [4, 5, 6]])\n",
        "print(arr.shape)"
      ],
      "metadata": {
        "id": "pwNBdGye74Z6",
        "outputId": "c408143e-bd50-47c7-943e-524c86d9c210",
        "colab": {
          "base_uri": "https://localhost:8080/"
        }
      },
      "execution_count": null,
      "outputs": [
        {
          "output_type": "stream",
          "name": "stdout",
          "text": [
            "(2, 3)\n"
          ]
        }
      ]
    },
    {
      "cell_type": "markdown",
      "source": [
        "2. Determining the number of dimensions:"
      ],
      "metadata": {
        "id": "9C6QxeBp78nF"
      }
    },
    {
      "cell_type": "code",
      "source": [
        "arr = np.array([1, 2, 3])\n",
        "print(arr.ndim)"
      ],
      "metadata": {
        "id": "J7vd44e179pK",
        "outputId": "85bf1842-3079-4d19-fa23-8c2320d35cb7",
        "colab": {
          "base_uri": "https://localhost:8080/"
        }
      },
      "execution_count": null,
      "outputs": [
        {
          "output_type": "stream",
          "name": "stdout",
          "text": [
            "1\n"
          ]
        }
      ]
    },
    {
      "cell_type": "markdown",
      "source": [
        "3. Finding the total number of elements in an array:"
      ],
      "metadata": {
        "id": "gve84i908E-G"
      }
    },
    {
      "cell_type": "code",
      "source": [
        "arr = np.array([[1, 2, 3], [4, 5, 6]])\n",
        "print(arr.size)"
      ],
      "metadata": {
        "id": "c-7GkfMR8HuP",
        "outputId": "90df9236-d721-4d82-d5e9-fe34801727ae",
        "colab": {
          "base_uri": "https://localhost:8080/"
        }
      },
      "execution_count": null,
      "outputs": [
        {
          "output_type": "stream",
          "name": "stdout",
          "text": [
            "6\n"
          ]
        }
      ]
    },
    {
      "cell_type": "markdown",
      "source": [
        "4. Reshaping a 1D array into a 2D array:"
      ],
      "metadata": {
        "id": "N9v9AeqQ8J3W"
      }
    },
    {
      "cell_type": "code",
      "source": [
        "arr = np.arange(1, 7)\n",
        "print(arr)\n",
        "reshaped_arr = arr.reshape(2, 3)\n",
        "print(reshaped_arr)"
      ],
      "metadata": {
        "id": "NBkKefyf8OIX",
        "outputId": "bceeeb6e-46a3-4fca-8884-ceb45d31bebe",
        "colab": {
          "base_uri": "https://localhost:8080/"
        }
      },
      "execution_count": null,
      "outputs": [
        {
          "output_type": "stream",
          "name": "stdout",
          "text": [
            "[1 2 3 4 5 6]\n",
            "[[1 2 3]\n",
            " [4 5 6]]\n"
          ]
        }
      ]
    },
    {
      "cell_type": "markdown",
      "source": [
        "5. Flattening a 2D array into a 1D array:"
      ],
      "metadata": {
        "id": "rozuXLmg8S_3"
      }
    },
    {
      "cell_type": "code",
      "source": [
        "arr = np.array([[1, 2, 3], [4, 5, 6]])\n",
        "flattened_arr = arr.flatten()\n",
        "print(flattened_arr)"
      ],
      "metadata": {
        "id": "HG1xoN2H8VvS",
        "outputId": "4837e624-6c06-46bd-d88f-eee29a348362",
        "colab": {
          "base_uri": "https://localhost:8080/"
        }
      },
      "execution_count": null,
      "outputs": [
        {
          "output_type": "stream",
          "name": "stdout",
          "text": [
            "[1 2 3 4 5 6]\n"
          ]
        }
      ]
    },
    {
      "cell_type": "markdown",
      "source": [
        "6. Raveling a 2D array (similar to flatten but returns a view if possible):"
      ],
      "metadata": {
        "id": "xVOGA3Lj8Y_E"
      }
    },
    {
      "cell_type": "code",
      "source": [
        "arr = np.array([[1, 2, 3], [4, 5, 6]])\n",
        "raveled_arr = arr.ravel()\n",
        "print(raveled_arr)"
      ],
      "metadata": {
        "id": "4egyLaBI8fPb",
        "outputId": "ba531e40-5c34-4aff-8482-3cf6aebf1edc",
        "colab": {
          "base_uri": "https://localhost:8080/"
        }
      },
      "execution_count": null,
      "outputs": [
        {
          "output_type": "stream",
          "name": "stdout",
          "text": [
            "[1 2 3 4 5 6]\n"
          ]
        }
      ]
    },
    {
      "cell_type": "markdown",
      "source": [
        "7. Adding a new dimension to an existing array:"
      ],
      "metadata": {
        "id": "CajCyCfU8hOV"
      }
    },
    {
      "cell_type": "code",
      "source": [
        "arr = np.array([1, 2, 3])\n",
        "print(arr)\n",
        "new_dimension_arr = arr[:, np.newaxis]\n",
        "print(new_dimension_arr)"
      ],
      "metadata": {
        "id": "MR5zGvlF8mXH",
        "outputId": "e5bef16b-d05b-4fe2-a9ca-5c095a13d93d",
        "colab": {
          "base_uri": "https://localhost:8080/"
        }
      },
      "execution_count": null,
      "outputs": [
        {
          "output_type": "stream",
          "name": "stdout",
          "text": [
            "[1 2 3]\n",
            "[[1]\n",
            " [2]\n",
            " [3]]\n"
          ]
        }
      ]
    },
    {
      "cell_type": "markdown",
      "source": [
        "8. Concatenating arrays along a specified axis:"
      ],
      "metadata": {
        "id": "3lMCEQiI8wNb"
      }
    },
    {
      "cell_type": "code",
      "source": [
        "arr1 = np.array([1, 2, 3])\n",
        "arr2 = np.array([4, 5, 6])\n",
        "concatenated_arr = np.concatenate((arr1, arr2))\n",
        "print(concatenated_arr)"
      ],
      "metadata": {
        "id": "D_Bv4bJN8xMM",
        "outputId": "0aeb544b-2aff-4898-c80a-b7ba41878486",
        "colab": {
          "base_uri": "https://localhost:8080/"
        }
      },
      "execution_count": null,
      "outputs": [
        {
          "output_type": "stream",
          "name": "stdout",
          "text": [
            "[1 2 3 4 5 6]\n"
          ]
        }
      ]
    },
    {
      "cell_type": "markdown",
      "source": [
        "9. Stacking arrays vertically and horizontally:"
      ],
      "metadata": {
        "id": "onkoRTik8_BV"
      }
    },
    {
      "cell_type": "code",
      "source": [
        "arr1 = np.array([[1, 2], [3, 4]])\n",
        "arr2 = np.array([[5, 6]])\n",
        "vertical_stack = np.vstack((arr1, arr2))\n",
        "horizontal_stack = np.hstack((arr1, arr2.T))\n",
        "print(vertical_stack)\n",
        "print(horizontal_stack)"
      ],
      "metadata": {
        "id": "mCHOxerD8_1i",
        "outputId": "889e1838-ff04-4790-a91a-164745f0f873",
        "colab": {
          "base_uri": "https://localhost:8080/"
        }
      },
      "execution_count": null,
      "outputs": [
        {
          "output_type": "stream",
          "name": "stdout",
          "text": [
            "[[1 2]\n",
            " [3 4]\n",
            " [5 6]]\n",
            "[[1 2 5]\n",
            " [3 4 6]]\n"
          ]
        }
      ]
    },
    {
      "cell_type": "markdown",
      "source": [
        "### 3.2.4 Reshaping and Transposing Arrays"
      ],
      "metadata": {
        "id": "E2v9nVbD9RI5"
      }
    },
    {
      "cell_type": "markdown",
      "source": [
        "1. Reshaping a 1D array to a 2D array with specified dimensions:"
      ],
      "metadata": {
        "id": "axqzOBZ49W7J"
      }
    },
    {
      "cell_type": "code",
      "source": [
        "arr = np.arange(1, 7)\n",
        "reshaped_arr = np.reshape(arr, (2, 3))\n",
        "print(reshaped_arr)"
      ],
      "metadata": {
        "id": "awFGj_yc9e3v",
        "outputId": "359e5984-eeeb-475a-f740-832616450da3",
        "colab": {
          "base_uri": "https://localhost:8080/"
        }
      },
      "execution_count": null,
      "outputs": [
        {
          "output_type": "stream",
          "name": "stdout",
          "text": [
            "[[1 2 3]\n",
            " [4 5 6]]\n"
          ]
        }
      ]
    },
    {
      "cell_type": "markdown",
      "source": [
        "2. Reshaping an array using \"-1\" as a placeholder:"
      ],
      "metadata": {
        "id": "I4FzZygo9fDI"
      }
    },
    {
      "cell_type": "code",
      "source": [
        "arr = np.arange(1, 13)\n",
        "reshaped_arr = np.reshape(arr, (3, -1))\n",
        "print(reshaped_arr)"
      ],
      "metadata": {
        "id": "0xv0i5409id5",
        "outputId": "56d42021-1787-48ff-ac10-21e06d0babd5",
        "colab": {
          "base_uri": "https://localhost:8080/"
        }
      },
      "execution_count": null,
      "outputs": [
        {
          "output_type": "stream",
          "name": "stdout",
          "text": [
            "[[ 1  2  3  4]\n",
            " [ 5  6  7  8]\n",
            " [ 9 10 11 12]]\n"
          ]
        }
      ]
    },
    {
      "cell_type": "markdown",
      "source": [
        "3. Transposing an array using \"transpose\" function:"
      ],
      "metadata": {
        "id": "NX15Y1Kn9mZv"
      }
    },
    {
      "cell_type": "code",
      "source": [
        "arr = np.array([[1, 2, 3], [4, 5, 6]])\n",
        "transposed_arr = np.transpose(arr)\n",
        "print(transposed_arr)"
      ],
      "metadata": {
        "id": "FUAEjysc9pcg",
        "outputId": "1e02d789-883e-4522-e8cd-c53f9857288f",
        "colab": {
          "base_uri": "https://localhost:8080/"
        }
      },
      "execution_count": null,
      "outputs": [
        {
          "output_type": "stream",
          "name": "stdout",
          "text": [
            "[[1 4]\n",
            " [2 5]\n",
            " [3 6]]\n"
          ]
        }
      ]
    },
    {
      "cell_type": "markdown",
      "source": [
        "4. Transposing an array using \"T\" attribute:"
      ],
      "metadata": {
        "id": "RLBR9vj89yit"
      }
    },
    {
      "cell_type": "code",
      "source": [
        "arr = np.array([[1, 2, 3], [4, 5, 6]])\n",
        "transposed_arr = arr.T\n",
        "print(transposed_arr)"
      ],
      "metadata": {
        "id": "SN9TmGks9vr2",
        "outputId": "9fd2edff-4d62-4ec2-8677-3862e7176944",
        "colab": {
          "base_uri": "https://localhost:8080/"
        }
      },
      "execution_count": null,
      "outputs": [
        {
          "output_type": "stream",
          "name": "stdout",
          "text": [
            "[[1 4]\n",
            " [2 5]\n",
            " [3 6]]\n"
          ]
        }
      ]
    },
    {
      "cell_type": "markdown",
      "source": [
        "5. Swapping axes of a 2D array:"
      ],
      "metadata": {
        "id": "pExt7cLZ9z6I"
      }
    },
    {
      "cell_type": "code",
      "source": [
        "arr = np.array([[1, 2, 3], [4, 5, 6]])\n",
        "swapped_arr = arr.swapaxes(0, 1)\n",
        "print(swapped_arr)"
      ],
      "metadata": {
        "id": "WSTK4beJ93Jl",
        "outputId": "070d6f14-b8f7-4992-effb-451849838c6d",
        "colab": {
          "base_uri": "https://localhost:8080/"
        }
      },
      "execution_count": null,
      "outputs": [
        {
          "output_type": "stream",
          "name": "stdout",
          "text": [
            "[[1 4]\n",
            " [2 5]\n",
            " [3 6]]\n"
          ]
        }
      ]
    },
    {
      "cell_type": "markdown",
      "source": [
        "6. Flipping an array horizontally:"
      ],
      "metadata": {
        "id": "5Q502efW95A5"
      }
    },
    {
      "cell_type": "code",
      "source": [
        "arr = np.array([[1, 2, 3], [4, 5, 6]])\n",
        "flipped_arr = np.fliplr(arr)\n",
        "print(flipped_arr)"
      ],
      "metadata": {
        "id": "1ujE4QOU97lz",
        "outputId": "77f3e1c5-81dd-43ef-b856-4dcc0141cbc4",
        "colab": {
          "base_uri": "https://localhost:8080/"
        }
      },
      "execution_count": null,
      "outputs": [
        {
          "output_type": "stream",
          "name": "stdout",
          "text": [
            "[[3 2 1]\n",
            " [6 5 4]]\n"
          ]
        }
      ]
    },
    {
      "cell_type": "markdown",
      "source": [
        "7. Flipping an array vertically:"
      ],
      "metadata": {
        "id": "PT6-Mzao9-jU"
      }
    },
    {
      "cell_type": "code",
      "source": [
        "arr = np.array([[1, 2, 3], [4, 5, 6]])\n",
        "flipped_arr = np.flipud(arr)\n",
        "print(flipped_arr)"
      ],
      "metadata": {
        "id": "r4TpxLno9_O4",
        "outputId": "118c943c-89e8-4acf-d8e9-288c4fb0c153",
        "colab": {
          "base_uri": "https://localhost:8080/"
        }
      },
      "execution_count": null,
      "outputs": [
        {
          "output_type": "stream",
          "name": "stdout",
          "text": [
            "[[4 5 6]\n",
            " [1 2 3]]\n"
          ]
        }
      ]
    },
    {
      "cell_type": "markdown",
      "source": [
        "8. Rolling elements of an array:"
      ],
      "metadata": {
        "id": "mIfDE7yg-BAT"
      }
    },
    {
      "cell_type": "code",
      "source": [
        "arr = np.array([1, 2, 3, 4, 5])\n",
        "rolled_arr = np.roll(arr, 2)\n",
        "print(rolled_arr)"
      ],
      "metadata": {
        "id": "10B6rjQD-C_t",
        "outputId": "78243431-5f75-4e9e-a74a-eecb482b6f90",
        "colab": {
          "base_uri": "https://localhost:8080/"
        }
      },
      "execution_count": null,
      "outputs": [
        {
          "output_type": "stream",
          "name": "stdout",
          "text": [
            "[4 5 1 2 3]\n"
          ]
        }
      ]
    },
    {
      "cell_type": "markdown",
      "source": [
        "9. Rotating elements of an array:"
      ],
      "metadata": {
        "id": "F6tTNN-K-Hy6"
      }
    },
    {
      "cell_type": "code",
      "source": [
        "#arr = np.array([1, 2, 3, 4, 5])\n",
        "#rotated_arr = np.rot90(arr)\n",
        "#print(rotated_arr)"
      ],
      "metadata": {
        "id": "qslYi6Zo-KcX"
      },
      "execution_count": null,
      "outputs": []
    },
    {
      "cell_type": "markdown",
      "source": [
        "10. Tiling an array to create a larger array:"
      ],
      "metadata": {
        "id": "vPFFWZUa-kKG"
      }
    },
    {
      "cell_type": "code",
      "source": [
        "arr = np.array([1, 2, 3])\n",
        "tiled_arr = np.tile(arr, 3)\n",
        "print(tiled_arr)"
      ],
      "metadata": {
        "id": "Q0zELUzk-rSZ",
        "outputId": "f56093c4-5894-4a4f-a3db-0f54b0a643c5",
        "colab": {
          "base_uri": "https://localhost:8080/"
        }
      },
      "execution_count": null,
      "outputs": [
        {
          "output_type": "stream",
          "name": "stdout",
          "text": [
            "[1 2 3 1 2 3 1 2 3]\n"
          ]
        }
      ]
    },
    {
      "cell_type": "markdown",
      "source": [
        "### 3.2.5 Array Operations and Broadcasting"
      ],
      "metadata": {
        "id": "aD8yy9on10kw"
      }
    },
    {
      "cell_type": "markdown",
      "source": [
        "1. Element-wise arithmetic operations:"
      ],
      "metadata": {
        "id": "OzaeTjez16FL"
      }
    },
    {
      "cell_type": "code",
      "source": [
        "arr1 = np.array([1, 2, 3])\n",
        "arr2 = np.array([4, 5, 6])\n",
        "addition = arr1 + arr2\n",
        "subtraction = arr1 - arr2\n",
        "multiplication = arr1 * arr2\n",
        "division = arr1 / arr2\n",
        "print(addition, subtraction, multiplication, division)"
      ],
      "metadata": {
        "id": "3fBr2cuJ19eR",
        "outputId": "8444f719-38d8-4cff-f56a-5eb93be6eed3",
        "colab": {
          "base_uri": "https://localhost:8080/"
        }
      },
      "execution_count": null,
      "outputs": [
        {
          "output_type": "stream",
          "name": "stdout",
          "text": [
            "[5 7 9] [-3 -3 -3] [ 4 10 18] [0.25 0.4  0.5 ]\n"
          ]
        }
      ]
    },
    {
      "cell_type": "markdown",
      "source": [
        "2. Element-wise comparison operations:"
      ],
      "metadata": {
        "id": "BM27unHM18tu"
      }
    },
    {
      "cell_type": "code",
      "source": [
        "arr1 = np.array([1, 2, 3])\n",
        "arr2 = np.array([3, 2, 1])\n",
        "greater_than = arr1 > arr2\n",
        "less_than_or_equal = arr1 <= arr2\n",
        "equal = arr1 == arr2\n",
        "print(greater_than, less_than_or_equal, equal)"
      ],
      "metadata": {
        "id": "QX1LfYjw2HOC",
        "outputId": "0d20a0d2-6d46-4d6a-bbfa-e112a17d4631",
        "colab": {
          "base_uri": "https://localhost:8080/"
        }
      },
      "execution_count": null,
      "outputs": [
        {
          "output_type": "stream",
          "name": "stdout",
          "text": [
            "[False False  True] [ True  True False] [False  True False]\n"
          ]
        }
      ]
    },
    {
      "cell_type": "markdown",
      "source": [
        "3. Broadcasting with a scalar:"
      ],
      "metadata": {
        "id": "Q_1oQ6gq2IJ6"
      }
    },
    {
      "cell_type": "code",
      "source": [
        "arr = np.array([1, 2, 3])\n",
        "result = arr + 5\n",
        "print(result)"
      ],
      "metadata": {
        "id": "nbTt76BH2Mad",
        "outputId": "535da5b5-f68e-435d-dce3-3bb8db5ec783",
        "colab": {
          "base_uri": "https://localhost:8080/"
        }
      },
      "execution_count": null,
      "outputs": [
        {
          "output_type": "stream",
          "name": "stdout",
          "text": [
            "[6 7 8]\n"
          ]
        }
      ]
    },
    {
      "cell_type": "markdown",
      "source": [
        "4. Broadcasting with a 1D array:"
      ],
      "metadata": {
        "id": "jMkIZ9EK2Q3C"
      }
    },
    {
      "cell_type": "code",
      "source": [
        "arr = np.array([1, 2, 3])\n",
        "row_vector = np.array([10, 20, 30])\n",
        "result = arr + row_vector\n",
        "print(result)"
      ],
      "metadata": {
        "id": "HT3ov0z22TzC",
        "outputId": "bc6d717b-d171-440e-e268-bee50361f578",
        "colab": {
          "base_uri": "https://localhost:8080/"
        }
      },
      "execution_count": null,
      "outputs": [
        {
          "output_type": "stream",
          "name": "stdout",
          "text": [
            "[11 22 33]\n"
          ]
        }
      ]
    },
    {
      "cell_type": "markdown",
      "source": [
        "5. Broadcasting with a 2D array:"
      ],
      "metadata": {
        "id": "fsS1dmT42Xfu"
      }
    },
    {
      "cell_type": "code",
      "source": [
        "arr = np.array([[1, 2, 3], [4, 5, 6]])\n",
        "column_vector = np.array([[10], [20]])\n",
        "result = arr + column_vector\n",
        "print(result)"
      ],
      "metadata": {
        "id": "jFoQkHs-2aUh",
        "outputId": "973df8f8-add4-4aa0-888e-54b3f3db5679",
        "colab": {
          "base_uri": "https://localhost:8080/"
        }
      },
      "execution_count": null,
      "outputs": [
        {
          "output_type": "stream",
          "name": "stdout",
          "text": [
            "[[11 12 13]\n",
            " [24 25 26]]\n"
          ]
        }
      ]
    },
    {
      "cell_type": "markdown",
      "source": [
        "6. Element-wise square root:"
      ],
      "metadata": {
        "id": "orzg3d932f7_"
      }
    },
    {
      "cell_type": "code",
      "source": [
        "arr = np.array([1, 4, 9])\n",
        "result = np.sqrt(arr)\n",
        "print(result)"
      ],
      "metadata": {
        "id": "mbHNSTSh2gx7",
        "outputId": "cfa4ed23-d5b4-4177-ab46-953a8dd1006b",
        "colab": {
          "base_uri": "https://localhost:8080/"
        }
      },
      "execution_count": null,
      "outputs": [
        {
          "output_type": "stream",
          "name": "stdout",
          "text": [
            "[1. 2. 3.]\n"
          ]
        }
      ]
    },
    {
      "cell_type": "markdown",
      "source": [
        "7. Element-wise exponentiation:"
      ],
      "metadata": {
        "id": "MYF8UnRe2i8b"
      }
    },
    {
      "cell_type": "code",
      "source": [
        "arr = np.array([2, 3, 4])\n",
        "result = np.exp(arr)\n",
        "print(result)"
      ],
      "metadata": {
        "id": "loEXU9pS2mWV",
        "outputId": "e27dfdbf-cfbd-4f11-9711-f04a1604d72c",
        "colab": {
          "base_uri": "https://localhost:8080/"
        }
      },
      "execution_count": null,
      "outputs": [
        {
          "output_type": "stream",
          "name": "stdout",
          "text": [
            "[ 7.3890561  20.08553692 54.59815003]\n"
          ]
        }
      ]
    },
    {
      "cell_type": "markdown",
      "source": [
        "8. Element-wise trigonometric functions:"
      ],
      "metadata": {
        "id": "3SDzUKhV2nX5"
      }
    },
    {
      "cell_type": "code",
      "source": [
        "arr = np.array([0, np.pi/2, np.pi])\n",
        "result_sin = np.sin(arr)\n",
        "result_cos = np.cos(arr)\n",
        "result_tan = np.tan(arr)\n",
        "print(result_sin, result_cos, result_tan)"
      ],
      "metadata": {
        "id": "dYe6zYWU2prL",
        "outputId": "74d59217-fa15-463c-e35e-1c9e2f0443c9",
        "colab": {
          "base_uri": "https://localhost:8080/"
        }
      },
      "execution_count": null,
      "outputs": [
        {
          "output_type": "stream",
          "name": "stdout",
          "text": [
            "[0.0000000e+00 1.0000000e+00 1.2246468e-16] [ 1.000000e+00  6.123234e-17 -1.000000e+00] [ 0.00000000e+00  1.63312394e+16 -1.22464680e-16]\n"
          ]
        }
      ]
    },
    {
      "cell_type": "markdown",
      "source": [
        "9. Summing elements of an array:"
      ],
      "metadata": {
        "id": "prsUK54z2s8Y"
      }
    },
    {
      "cell_type": "code",
      "source": [
        "arr = np.array([1, 2, 3, 4, 5])\n",
        "sum_result = np.sum(arr)\n",
        "print(sum_result)"
      ],
      "metadata": {
        "id": "YTzLl60W2viv",
        "outputId": "ac89cf55-1dfc-4d9c-f0d6-dee3606810d2",
        "colab": {
          "base_uri": "https://localhost:8080/"
        }
      },
      "execution_count": null,
      "outputs": [
        {
          "output_type": "stream",
          "name": "stdout",
          "text": [
            "15\n"
          ]
        }
      ]
    },
    {
      "cell_type": "markdown",
      "source": [
        "10. Matrix multiplication:"
      ],
      "metadata": {
        "id": "COgTybDT2xLo"
      }
    },
    {
      "cell_type": "code",
      "source": [
        "matrix1 = np.array([[1, 2], [3, 4]])\n",
        "matrix2 = np.array([[5, 6], [7, 8]])\n",
        "result = np.dot(matrix1, matrix2)\n",
        "print(result)"
      ],
      "metadata": {
        "id": "y-T8ZurS2zYp",
        "outputId": "3663d107-2df2-4a58-c9d7-717883c36119",
        "colab": {
          "base_uri": "https://localhost:8080/"
        }
      },
      "execution_count": null,
      "outputs": [
        {
          "output_type": "stream",
          "name": "stdout",
          "text": [
            "[[19 22]\n",
            " [43 50]]\n"
          ]
        }
      ]
    },
    {
      "cell_type": "markdown",
      "source": [
        "## 3.3 Linear Algebra\n",
        "\n"
      ],
      "metadata": {
        "id": "cOWBqmTw4xOO"
      }
    },
    {
      "cell_type": "markdown",
      "source": [
        "NumPy linear algebra functions\n",
        "\n",
        "| Function                      | Structure                                      | Description                                                                                                               |\n",
        "|-------------------------------|------------------------------------------------|---------------------------------------------------------------------------------------------------------------------------|\n",
        "| `np.dot(a, b)`                | `np.dot(a, b, out=None)`                      | Compute the dot product of two arrays.                                                                                  |\n",
        "| `np.matmul(a, b)`             | `np.matmul(a, b, out=None)`                   | Matrix multiplication between two arrays.                                                                                |\n",
        "| `np.linalg.inv(a)`            | `np.linalg.inv(a)`                            | Compute the (multiplicative) inverse of a square matrix.                                                                 |\n",
        "| `np.linalg.det(a)`            | `np.linalg.det(a)`                            | Compute the determinant of a square matrix.                                                                              |\n",
        "| `np.linalg.eig(a)`            | `np.linalg.eig(a)`                            | Compute the eigenvalues and eigenvectors of a square matrix.                                                             |\n",
        "| `np.linalg.svd(a)`            | `np.linalg.svd(a, full_matrices=True, compute_uv=True, hermitian=False)` | Perform singular value decomposition on a matrix.                                                                  |\n",
        "| `np.linalg.solve(a, b)`       | `np.linalg.solve(a, b)`                       | Solve a linear matrix equation, `ax = b`, for `x`.                                                                        |\n",
        "| `np.linalg.lstsq(a, b, rcond=None)` | `np.linalg.lstsq(a, b, rcond=None)`       | Solve linear least-squares problem, `min ||a @ x - b||^2`.                                                                |\n",
        "| `np.linalg.norm(x, ord=None)` | `np.linalg.norm(x, ord=None, axis=None, keepdims=False)` | Compute the norm of an array, `x`.                                                                                 |\n",
        "| `np.linalg.qr(a, mode='reduced')` | `np.linalg.qr(a, mode='reduced')`          | Compute the QR decomposition of a matrix.                                                                                |\n",
        "| `np.linalg.eigh(a, UPLO='L')`  | `np.linalg.eigh(a, UPLO='L', eigvals_only=False)` | Compute eigenvalues and (optionally) eigenvectors of a Hermitian or symmetric matrix.                           |\n",
        "| `np.linalg.matrix_power(a, n)` | `np.linalg.matrix_power(a, n)`                | Raise a square matrix to the (integer) power `n`.                                                                         |\n"
      ],
      "metadata": {
        "id": "tgrYNNHD3A66"
      }
    },
    {
      "cell_type": "markdown",
      "source": [
        "### 3.3.1 Dot Product"
      ],
      "metadata": {
        "id": "Z8nSv6Lo3nuX"
      }
    },
    {
      "cell_type": "markdown",
      "source": [
        "The dot product is a fundamental operation in linear algebra, and NumPy provides a powerful function, `np.dot()`, to perform this operation efficiently."
      ],
      "metadata": {
        "id": "CCpNCyBF4KEJ"
      }
    },
    {
      "cell_type": "markdown",
      "source": [
        "#### 3.3.1.1 Introduction to Dot Product"
      ],
      "metadata": {
        "id": "rHKcxREi4SPN"
      }
    },
    {
      "cell_type": "markdown",
      "source": [
        "\n",
        "The dot product, also known as the scalar product or inner product, is an operation that takes two vectors and returns a scalar value. For two vectors, A and B, the dot product is calculated as:\n",
        "\n",
        "```\n",
        "A · B = |A| * |B| * cos(θ)\n",
        "```\n",
        "\n",
        "where `|A|` and `|B|` are the magnitudes (lengths) of vectors A and B, respectively, and θ is the angle between the two vectors."
      ],
      "metadata": {
        "id": "auuE5SR084z6"
      }
    },
    {
      "cell_type": "markdown",
      "source": [
        "#### 3.3.1.2 Dot Product in NumPy"
      ],
      "metadata": {
        "id": "bikX2erd85rG"
      }
    },
    {
      "cell_type": "markdown",
      "source": [
        "In NumPy, the `np.dot()` function is used to compute the dot product of two arrays. The operation is performed element-wise, followed by the summation of the results."
      ],
      "metadata": {
        "id": "E8J3ZC5B89KM"
      }
    },
    {
      "cell_type": "markdown",
      "source": [
        "Example 1: Dot Product of 1D Arrays"
      ],
      "metadata": {
        "id": "PWgByMoo9BjF"
      }
    },
    {
      "cell_type": "code",
      "source": [
        "# 1D arrays\n",
        "A = np.array([2, 3, 5])\n",
        "B = np.array([4, 1, 7])\n",
        "\n",
        "# Calculate the dot product\n",
        "dot_product = np.dot(A, B)\n",
        "print(\"Dot Product of A and B:\", dot_product)"
      ],
      "metadata": {
        "id": "yjxmiu2G9Dss",
        "outputId": "6d5c5e48-b928-4635-fd6e-d2f30bc0254d",
        "colab": {
          "base_uri": "https://localhost:8080/"
        }
      },
      "execution_count": null,
      "outputs": [
        {
          "output_type": "stream",
          "name": "stdout",
          "text": [
            "Dot Product of A and B: 46\n"
          ]
        }
      ]
    },
    {
      "cell_type": "markdown",
      "source": [
        "Example 2: Dot Product of 2D Arrays"
      ],
      "metadata": {
        "id": "lAmHf6Y79Ihc"
      }
    },
    {
      "cell_type": "code",
      "source": [
        "# 2D arrays\n",
        "A = np.array([[1, 2], [3, 4]])\n",
        "B = np.array([[5, 6], [7, 8]])\n",
        "\n",
        "# Calculate the dot product\n",
        "dot_product = np.dot(A, B)\n",
        "print(\"Dot Product of A and B:\")\n",
        "print(dot_product)"
      ],
      "metadata": {
        "id": "EONNaueP9LTk",
        "outputId": "2c73c7fa-fe26-4f1f-8854-6c80ee088698",
        "colab": {
          "base_uri": "https://localhost:8080/"
        }
      },
      "execution_count": null,
      "outputs": [
        {
          "output_type": "stream",
          "name": "stdout",
          "text": [
            "Dot Product of A and B:\n",
            "[[19 22]\n",
            " [43 50]]\n"
          ]
        }
      ]
    },
    {
      "cell_type": "markdown",
      "source": [
        "Example 3 :  Broadcasting in Dot Product"
      ],
      "metadata": {
        "id": "NqHdF_LJ9TKA"
      }
    },
    {
      "cell_type": "code",
      "source": [
        "# Broadcasting example\n",
        "A = np.array([[1, 2, 3], [4, 5, 6]])\n",
        "B = np.array([2, 3, 4])\n",
        "\n",
        "# Calculate the dot product with broadcasting\n",
        "dot_product = np.dot(A, B)\n",
        "print(\"Dot Product with Broadcasting:\")\n",
        "print(dot_product)"
      ],
      "metadata": {
        "id": "xAyRAVnh9Umu",
        "outputId": "fa33e45b-7559-4cc1-a43c-7b9a365cb870",
        "colab": {
          "base_uri": "https://localhost:8080/"
        }
      },
      "execution_count": null,
      "outputs": [
        {
          "output_type": "stream",
          "name": "stdout",
          "text": [
            "Dot Product with Broadcasting:\n",
            "[20 47]\n"
          ]
        }
      ]
    },
    {
      "cell_type": "markdown",
      "source": [
        "### 3.3.2 Matrix Multiplication"
      ],
      "metadata": {
        "id": "r_Di6C769bmo"
      }
    },
    {
      "cell_type": "markdown",
      "source": [
        "NumPy's `matmul()` function is used to perform matrix multiplication between two arrays. It is a versatile function that can handle both 1D and 2D arrays, making it useful for a wide range of linear algebra computations. The `matmul()` function is equivalent to the `@` operator in Python 3.5 and above.\n",
        "\n",
        "**Syntax:**\n",
        "```\n",
        "numpy.matmul(a, b, out=None)\n",
        "```\n",
        "\n",
        "**Parameters:**\n",
        "- `a`: First input array (matrix) for multiplication.\n",
        "- `b`: Second input array (matrix) for multiplication.\n",
        "- `out`: Optional. The output array where the result is stored.\n",
        "\n",
        "**Return Value:**\n",
        "- The result of the matrix multiplication between `a` and `b`.\n",
        "\n",
        "**Note:**\n",
        "- For 2D arrays, `matmul()` performs matrix multiplication.\n",
        "- For 1D arrays, `matmul()` behaves like the dot product.\n"
      ],
      "metadata": {
        "id": "iYYUAzCq9y9I"
      }
    },
    {
      "cell_type": "markdown",
      "source": [
        "Example 1: Matrix Multiplication (2D arrays)"
      ],
      "metadata": {
        "id": "muemG2Il9_Sw"
      }
    },
    {
      "cell_type": "code",
      "source": [
        "A = np.array([[1, 2], [3, 4]])\n",
        "B = np.array([[5, 6], [7, 8]])\n",
        "\n",
        "result = np.matmul(A, B)\n",
        "# Equivalent to: result = A @ B\n",
        "\n",
        "print(result)"
      ],
      "metadata": {
        "id": "yjrCicto9-8k",
        "outputId": "482b15a0-5776-4f26-cbe0-7f29f0b2c67c",
        "colab": {
          "base_uri": "https://localhost:8080/"
        }
      },
      "execution_count": null,
      "outputs": [
        {
          "output_type": "stream",
          "name": "stdout",
          "text": [
            "[[19 22]\n",
            " [43 50]]\n"
          ]
        }
      ]
    },
    {
      "cell_type": "markdown",
      "source": [
        "Example 2: Dot Product (1D arrays)"
      ],
      "metadata": {
        "id": "neTZFhqU-CUU"
      }
    },
    {
      "cell_type": "code",
      "source": [
        "A = np.array([1, 2, 3])\n",
        "B = np.array([4, 5, 6])\n",
        "\n",
        "result = np.matmul(A, B)\n",
        "# Equivalent to: result = A @ B\n",
        "\n",
        "print(result)"
      ],
      "metadata": {
        "id": "0X1SRI4i-EsW",
        "outputId": "243ff926-1105-40f1-d01b-94ca0a53ff55",
        "colab": {
          "base_uri": "https://localhost:8080/"
        }
      },
      "execution_count": null,
      "outputs": [
        {
          "output_type": "stream",
          "name": "stdout",
          "text": [
            "32\n"
          ]
        }
      ]
    },
    {
      "cell_type": "markdown",
      "source": [
        "Example 3: Broadcasting in matmul()"
      ],
      "metadata": {
        "id": "9RILWk-H-GYx"
      }
    },
    {
      "cell_type": "code",
      "source": [
        "A = np.array([[1, 2], [3, 4], [5, 6]])\n",
        "B = np.array([2, 3])\n",
        "\n",
        "result = np.matmul(A, B)\n",
        "# Equivalent to: result = A @ B\n",
        "\n",
        "print(result)"
      ],
      "metadata": {
        "id": "nvfj2-wA-Iwu",
        "outputId": "87def27e-b8a9-4da8-9a85-3de77cbcba8c",
        "colab": {
          "base_uri": "https://localhost:8080/"
        }
      },
      "execution_count": null,
      "outputs": [
        {
          "output_type": "stream",
          "name": "stdout",
          "text": [
            "[ 8 18 28]\n"
          ]
        }
      ]
    },
    {
      "cell_type": "markdown",
      "source": [
        "Example 4: Output Array with out Parameter"
      ],
      "metadata": {
        "id": "7Bn4m7-t-LLL"
      }
    },
    {
      "cell_type": "code",
      "source": [
        "A = np.array([[1, 2], [3, 4]])\n",
        "B = np.array([[5, 6], [7, 8]])\n",
        "\n",
        "output_array = np.zeros((2, 2), dtype=int)\n",
        "\n",
        "result = np.matmul(A, B, out=output_array)\n",
        "# Equivalent to: result = np.matmul(A, B)\n",
        "\n",
        "print(result)"
      ],
      "metadata": {
        "id": "k0hFIbHW-NSk",
        "outputId": "9e7e156a-be52-42c6-8338-a1cca299000a",
        "colab": {
          "base_uri": "https://localhost:8080/"
        }
      },
      "execution_count": null,
      "outputs": [
        {
          "output_type": "stream",
          "name": "stdout",
          "text": [
            "[[19 22]\n",
            " [43 50]]\n"
          ]
        }
      ]
    },
    {
      "cell_type": "markdown",
      "source": [
        "### 3.3.3 Inverse Matrix"
      ],
      "metadata": {
        "id": "LeZDqSf4-W9i"
      }
    },
    {
      "cell_type": "markdown",
      "source": [
        "In linear algebra, the inverse of a square matrix A is denoted as A^(-1). When a square matrix is multiplied by its inverse, the result is the identity matrix, denoted as I. NumPy provides the `np.linalg.inv()` function to calculate the inverse of a square matrix.\n",
        "\n",
        "**Syntax:**\n",
        "```\n",
        "numpy.linalg.inv(a)\n",
        "```\n",
        "\n",
        "**Parameters:**\n",
        "- `a`: The input square matrix for which the inverse is to be calculated.\n",
        "\n",
        "**Return Value:**\n",
        "- The inverse matrix of `a`.\n",
        "\n",
        "**Note:**\n",
        "- The input matrix `a` must be square (i.e., have the same number of rows and columns).\n",
        "- Not all matrices have an inverse. If `a` is singular or nearly singular, the `np.linalg.inv()` function may raise a `LinAlgError`.\n"
      ],
      "metadata": {
        "id": "vlo4HV_w-aQ9"
      }
    },
    {
      "cell_type": "markdown",
      "source": [
        "Example 1: Calculate Inverse of a 2x2 Matrix"
      ],
      "metadata": {
        "id": "CG0dS7M0-oBA"
      }
    },
    {
      "cell_type": "code",
      "source": [
        "A = np.array([[1, 2], [3, 4]])\n",
        "\n",
        "inverse_A = np.linalg.inv(A)\n",
        "\n",
        "print(inverse_A)"
      ],
      "metadata": {
        "id": "AbrlE2Fe-Zub",
        "outputId": "8de849e7-2482-48f6-de0e-b54bce4ccc02",
        "colab": {
          "base_uri": "https://localhost:8080/"
        }
      },
      "execution_count": null,
      "outputs": [
        {
          "output_type": "stream",
          "name": "stdout",
          "text": [
            "[[-2.   1. ]\n",
            " [ 1.5 -0.5]]\n"
          ]
        }
      ]
    },
    {
      "cell_type": "markdown",
      "source": [
        "Example 2: Calculate Inverse of a 3x3 Matrix"
      ],
      "metadata": {
        "id": "e5dJEV0f-snK"
      }
    },
    {
      "cell_type": "code",
      "source": [
        "B = np.array([[2, 1, 3], [4, 2, 1], [3, 4, 2]])\n",
        "\n",
        "inverse_B = np.linalg.inv(B)\n",
        "\n",
        "print(inverse_B)"
      ],
      "metadata": {
        "id": "6erGv2PM-uUz",
        "outputId": "611b43d0-2f59-44e7-84cc-bd9c161ce782",
        "colab": {
          "base_uri": "https://localhost:8080/"
        }
      },
      "execution_count": null,
      "outputs": [
        {
          "output_type": "stream",
          "name": "stdout",
          "text": [
            "[[ 0.   0.4 -0.2]\n",
            " [-0.2 -0.2  0.4]\n",
            " [ 0.4 -0.2  0. ]]\n"
          ]
        }
      ]
    },
    {
      "cell_type": "markdown",
      "source": [
        "Example 3: Singular Matrix"
      ],
      "metadata": {
        "id": "qY8m0ycj-wJ5"
      }
    },
    {
      "cell_type": "code",
      "source": [
        "C = np.array([[1, 2], [2, 4]])\n",
        "\n",
        "try:\n",
        "    inverse_C = np.linalg.inv(C)\n",
        "    print(inverse_C)\n",
        "except np.linalg.LinAlgError:\n",
        "    print(\"Matrix C is singular. Inverse does not exist.\")"
      ],
      "metadata": {
        "id": "nBdZqjeX-1eE",
        "outputId": "e644765b-3917-4434-c37a-d59e40d499bb",
        "colab": {
          "base_uri": "https://localhost:8080/"
        }
      },
      "execution_count": null,
      "outputs": [
        {
          "output_type": "stream",
          "name": "stdout",
          "text": [
            "Matrix C is singular. Inverse does not exist.\n"
          ]
        }
      ]
    },
    {
      "cell_type": "markdown",
      "source": [
        "**Note on singular and non-singular marixes**"
      ],
      "metadata": {
        "id": "VTwYw_n1-9TS"
      }
    },
    {
      "cell_type": "markdown",
      "source": [
        "In linear algebra, a square matrix is called \"singular\" if it does not have an inverse.(i.e. No solutions , incomplete equation combinations) In other words, a matrix A is singular if there is no matrix B such that the product of A and B (AB) is the identity matrix (I). If a matrix is singular, it cannot be inverted, and attempting to find its inverse will result in an error.\n",
        "\n",
        "On the other hand, a square matrix that has an inverse is called \"non-singular\" or \"invertible.\" If a matrix A is non-singular, there exists a matrix B such that AB = BA = I. The inverse of a non-singular matrix A is denoted as A^(-1), and it satisfies the property: A * A^(-1) = A^(-1) * A = I.\n",
        "\n",
        "Mathematically, for a square matrix A of size (n x n), the conditions for singularity are:\n",
        "\n",
        "1. If the determinant of A (det(A)) is equal to zero, the matrix A is singular.\n",
        "2. If the rank of A (rank(A)) is less than n, the matrix A is singular.\n",
        "\n",
        "A square matrix is non-singular if and only if its determinant is non-zero, and its rank is equal to the number of rows (n).\n"
      ],
      "metadata": {
        "id": "e1ijLXLc_JJ4"
      }
    },
    {
      "cell_type": "markdown",
      "source": [
        "###3.3.4 Determinent"
      ],
      "metadata": {
        "id": "yhz9X6y8_TxO"
      }
    },
    {
      "cell_type": "markdown",
      "source": [
        "In NumPy, you can calculate the determinant of a square matrix using the `numpy.linalg.det()` function. This function computes the determinant of a given square matrix.\n",
        "\n",
        "**Syntax:**\n",
        "```\n",
        "numpy.linalg.det(a)\n",
        "```\n",
        "\n",
        "**Parameters:**\n",
        "- `a`: The input square matrix for which the determinant is to be calculated.\n",
        "\n",
        "**Return Value:**\n",
        "- The determinant of the input matrix `a`.\n",
        "\n",
        "**Note:**\n",
        "- The input matrix `a` must be square (i.e., have the same number of rows and columns).\n"
      ],
      "metadata": {
        "id": "hlL0QXDI_Yo_"
      }
    },
    {
      "cell_type": "markdown",
      "source": [
        "Example:\n"
      ],
      "metadata": {
        "id": "SCnARaVW_lrw"
      }
    },
    {
      "cell_type": "code",
      "source": [
        "# 3x3 matrix\n",
        "A = np.array([[1, 2, 3], [4, 5, 6], [7, 8, 9]])\n",
        "\n",
        "# Calculate the determinant\n",
        "det_A = np.linalg.det(A)\n",
        "\n",
        "print(det_A)"
      ],
      "metadata": {
        "id": "sZbyofjL_rGg",
        "outputId": "093469f3-6453-4c84-c0f4-315be253afe2",
        "colab": {
          "base_uri": "https://localhost:8080/"
        }
      },
      "execution_count": null,
      "outputs": [
        {
          "output_type": "stream",
          "name": "stdout",
          "text": [
            "0.0\n"
          ]
        }
      ]
    },
    {
      "cell_type": "markdown",
      "source": [
        "In this example, the determinant of the matrix `A` is computed and found to be `0.0`. Since the determinant is zero, the matrix `A` is singular, and it does not have an inverse."
      ],
      "metadata": {
        "id": "5AcHiRkX_t0g"
      }
    },
    {
      "cell_type": "markdown",
      "source": [
        "### 3.3.5  Eigenvalues and Eigenvectors of a Square Matrix"
      ],
      "metadata": {
        "id": "LxY7w8c0_v2K"
      }
    },
    {
      "cell_type": "markdown",
      "source": [
        "In NumPy, to compute the eigenvalues and eigenvectors of a square matrix using the `numpy.linalg.eig()` function.\n",
        "\n",
        "**Syntax:**\n",
        "```\n",
        "numpy.linalg.eig(a)\n",
        "```\n",
        "\n",
        "**Parameters:**\n",
        "- `a`: The input square matrix for which the eigenvalues and eigenvectors are to be calculated.\n",
        "\n",
        "**Return Value:**\n",
        "- `eigenvalues`: An array containing the eigenvalues of the input matrix `a`.\n",
        "- `eigenvectors`: An array containing the eigenvectors of the input matrix `a`. Each column in the array represents an eigenvector.\n",
        "\n",
        "**Note:**\n",
        "- The input matrix `a` must be square (i.e., have the same number of rows and columns).\n"
      ],
      "metadata": {
        "id": "CDWX0C4DFnXB"
      }
    },
    {
      "cell_type": "markdown",
      "source": [
        "Example 1: Eigenvalues and Eigenvectors of a 2x2 Matrix"
      ],
      "metadata": {
        "id": "jFT_WIheFu0R"
      }
    },
    {
      "cell_type": "code",
      "source": [
        "A = np.array([[2, -1], [4, 1]])\n",
        "\n",
        "# Calculate the eigenvalues and eigenvectors\n",
        "eigenvalues, eigenvectors = np.linalg.eig(A)\n",
        "\n",
        "print(\"Eigenvalues:\")\n",
        "print(eigenvalues)\n",
        "\n",
        "print(\"\\nEigenvectors:\")\n",
        "print(eigenvectors)"
      ],
      "metadata": {
        "id": "roFp-05zFvAY",
        "outputId": "301ef657-f773-42dc-ad76-b498a4303251",
        "colab": {
          "base_uri": "https://localhost:8080/"
        }
      },
      "execution_count": null,
      "outputs": [
        {
          "output_type": "stream",
          "name": "stdout",
          "text": [
            "Eigenvalues:\n",
            "[1.5+1.93649167j 1.5-1.93649167j]\n",
            "\n",
            "Eigenvectors:\n",
            "[[0.1118034 +0.4330127j 0.1118034 -0.4330127j]\n",
            " [0.89442719+0.j        0.89442719-0.j       ]]\n"
          ]
        }
      ]
    },
    {
      "cell_type": "markdown",
      "source": [
        "Example 2: Eigenvalues and Eigenvectors of a 3x3 Matrix"
      ],
      "metadata": {
        "id": "D0Hp4kTSF3Vv"
      }
    },
    {
      "cell_type": "code",
      "source": [
        "# 3x3 matrix\n",
        "B = np.array([[1, 2, 3], [0, 4, 5], [0, 0, 6]])\n",
        "\n",
        "# Calculate the eigenvalues and eigenvectors\n",
        "eigenvalues, eigenvectors = np.linalg.eig(B)\n",
        "\n",
        "print(\"Eigenvalues:\")\n",
        "print(eigenvalues)\n",
        "\n",
        "print(\"\\nEigenvectors:\")\n",
        "print(eigenvectors)"
      ],
      "metadata": {
        "id": "aHwVsJxwF3_s",
        "outputId": "f75c049d-bf96-4615-b15f-d74a4377343e",
        "colab": {
          "base_uri": "https://localhost:8080/"
        }
      },
      "execution_count": null,
      "outputs": [
        {
          "output_type": "stream",
          "name": "stdout",
          "text": [
            "Eigenvalues:\n",
            "[1. 4. 6.]\n",
            "\n",
            "Eigenvectors:\n",
            "[[1.         0.5547002  0.51084069]\n",
            " [0.         0.83205029 0.79818857]\n",
            " [0.         0.         0.31927543]]\n"
          ]
        }
      ]
    },
    {
      "cell_type": "markdown",
      "source": [
        "# 4.0 Pandas Library"
      ],
      "metadata": {
        "id": "HQIRZ0K07B66"
      }
    },
    {
      "cell_type": "markdown",
      "source": [
        "## 4.1 Basics"
      ],
      "metadata": {
        "id": "xBBlThZt7GRu"
      }
    },
    {
      "cell_type": "markdown",
      "source": [
        "### 4.1.1 Pandas Series"
      ],
      "metadata": {
        "id": "PUJbGtA87XhR"
      }
    },
    {
      "cell_type": "markdown",
      "source": [
        "A Pandas Series is like a column in a table.It is a one-dimensional array holding data of any type."
      ],
      "metadata": {
        "id": "O0pT0NKv7amP"
      }
    },
    {
      "cell_type": "code",
      "source": [
        "import pandas as pd\n",
        "a = [1, 7, 2]\n",
        "myvar = pd.Series(a)\n",
        "print(myvar)"
      ],
      "metadata": {
        "colab": {
          "base_uri": "https://localhost:8080/"
        },
        "id": "-4Up_7Eu7eu8",
        "outputId": "c8dcc5ef-5b71-4f85-8772-5caeabebd5b8"
      },
      "execution_count": 1,
      "outputs": [
        {
          "output_type": "stream",
          "name": "stdout",
          "text": [
            "0    1\n",
            "1    7\n",
            "2    2\n",
            "dtype: int64\n"
          ]
        }
      ]
    },
    {
      "cell_type": "markdown",
      "source": [
        "If nothing else is specified, the values are labeled with their index number. First value has index 0, second value has index 1 etc.This label can be used to access a specified value."
      ],
      "metadata": {
        "id": "L8tT9pUb7l1I"
      }
    },
    {
      "cell_type": "code",
      "source": [
        "print(myvar[0])"
      ],
      "metadata": {
        "colab": {
          "base_uri": "https://localhost:8080/"
        },
        "id": "lKT-ms047nwu",
        "outputId": "c1866c2d-c471-48f7-ccd8-2e786bb8c1ba"
      },
      "execution_count": 2,
      "outputs": [
        {
          "output_type": "stream",
          "name": "stdout",
          "text": [
            "1\n"
          ]
        }
      ]
    },
    {
      "cell_type": "markdown",
      "source": [
        "With the index argument, you can name your own labels"
      ],
      "metadata": {
        "id": "huw5jdT77p4T"
      }
    },
    {
      "cell_type": "code",
      "source": [
        "import pandas as pd\n",
        "a = [1, 7, 2]\n",
        "myvar = pd.Series(a, index = [\"x\", \"y\", \"z\"])\n",
        "print(myvar)"
      ],
      "metadata": {
        "colab": {
          "base_uri": "https://localhost:8080/"
        },
        "id": "7Dw0NoCg7s46",
        "outputId": "0a5196af-d577-4d49-b01d-d92913eb34f0"
      },
      "execution_count": 3,
      "outputs": [
        {
          "output_type": "stream",
          "name": "stdout",
          "text": [
            "x    1\n",
            "y    7\n",
            "z    2\n",
            "dtype: int64\n"
          ]
        }
      ]
    },
    {
      "cell_type": "code",
      "source": [
        "print(myvar[\"y\"])"
      ],
      "metadata": {
        "colab": {
          "base_uri": "https://localhost:8080/"
        },
        "id": "I4ICBFm17w_t",
        "outputId": "28e56e74-ffe7-4b06-9a83-4839d5aa2112"
      },
      "execution_count": 4,
      "outputs": [
        {
          "output_type": "stream",
          "name": "stdout",
          "text": [
            "7\n"
          ]
        }
      ]
    },
    {
      "cell_type": "markdown",
      "source": [
        "Key/Value Objects as Series. [The keys of the dictionary become the labels.]\n"
      ],
      "metadata": {
        "id": "O5ienTyo7zhz"
      }
    },
    {
      "cell_type": "code",
      "source": [
        "import pandas as pd\n",
        "calories = {\"day1\": 420, \"day2\": 380, \"day3\": 390}\n",
        "myvar = pd.Series(calories)\n",
        "print(myvar)"
      ],
      "metadata": {
        "colab": {
          "base_uri": "https://localhost:8080/"
        },
        "id": "w27BZN8J72uT",
        "outputId": "4c0c11bb-1030-4220-dd16-915a0f3cae53"
      },
      "execution_count": 5,
      "outputs": [
        {
          "output_type": "stream",
          "name": "stdout",
          "text": [
            "day1    420\n",
            "day2    380\n",
            "day3    390\n",
            "dtype: int64\n"
          ]
        }
      ]
    },
    {
      "cell_type": "markdown",
      "source": [
        "To select only some of the items in the dictionary, use the index argument and specify only the items you want to include in the Series."
      ],
      "metadata": {
        "id": "rADNpHeM8GQ7"
      }
    },
    {
      "cell_type": "code",
      "source": [
        "calories = {\"day1\": 420, \"day2\": 380, \"day3\": 390}\n",
        "myvar = pd.Series(calories, index = [\"day1\", \"day2\"])\n",
        "print(myvar)"
      ],
      "metadata": {
        "colab": {
          "base_uri": "https://localhost:8080/"
        },
        "id": "FvIOxZMN8DTN",
        "outputId": "8a6a8df9-b01d-483e-f9f2-7bfaf502bcc8"
      },
      "execution_count": 6,
      "outputs": [
        {
          "output_type": "stream",
          "name": "stdout",
          "text": [
            "day1    420\n",
            "day2    380\n",
            "dtype: int64\n"
          ]
        }
      ]
    },
    {
      "cell_type": "markdown",
      "source": [
        "### 4.1.2 Pandas DataFrame"
      ],
      "metadata": {
        "id": "jhqxUQ0s78OH"
      }
    },
    {
      "cell_type": "markdown",
      "source": [
        "A Pandas DataFrame is a 2 dimensional data structure, like a 2 dimensional array, or a table with rows and columns."
      ],
      "metadata": {
        "id": "ENllUvO-8wzP"
      }
    },
    {
      "cell_type": "code",
      "source": [
        "import pandas as pd\n",
        "data = {\n",
        "  \"calories\": [420, 380, 390],\n",
        "  \"duration\": [50, 40, 45]\n",
        "}\n",
        "#load data into a DataFrame object:\n",
        "df = pd.DataFrame(data)\n",
        "print(df)"
      ],
      "metadata": {
        "colab": {
          "base_uri": "https://localhost:8080/"
        },
        "id": "O-asCAy_8xgz",
        "outputId": "3bd56998-36b5-480e-f51f-d1353083e8a0"
      },
      "execution_count": 7,
      "outputs": [
        {
          "output_type": "stream",
          "name": "stdout",
          "text": [
            "   calories  duration\n",
            "0       420        50\n",
            "1       380        40\n",
            "2       390        45\n"
          ]
        }
      ]
    },
    {
      "cell_type": "markdown",
      "source": [
        "Pandas use the loc attribute to return one or more specified row(s)"
      ],
      "metadata": {
        "id": "TCpcyhW3840V"
      }
    },
    {
      "cell_type": "code",
      "source": [
        "#refer to the row index:\n",
        "print(df.loc[0])"
      ],
      "metadata": {
        "colab": {
          "base_uri": "https://localhost:8080/"
        },
        "id": "qjOMpycX87D0",
        "outputId": "8977571f-ed48-4c0c-e586-902fdbd9eed9"
      },
      "execution_count": 8,
      "outputs": [
        {
          "output_type": "stream",
          "name": "stdout",
          "text": [
            "calories    420\n",
            "duration     50\n",
            "Name: 0, dtype: int64\n"
          ]
        }
      ]
    },
    {
      "cell_type": "code",
      "source": [
        "#use a list of indexes:\n",
        "print(df.loc[[0, 1]])"
      ],
      "metadata": {
        "colab": {
          "base_uri": "https://localhost:8080/"
        },
        "id": "IiKfWyKu8-Ej",
        "outputId": "4f3b4a7c-3376-459b-e860-5703bd8d2442"
      },
      "execution_count": 9,
      "outputs": [
        {
          "output_type": "stream",
          "name": "stdout",
          "text": [
            "   calories  duration\n",
            "0       420        50\n",
            "1       380        40\n"
          ]
        }
      ]
    },
    {
      "cell_type": "markdown",
      "source": [
        "With the index argument, you can name your own indexes."
      ],
      "metadata": {
        "id": "0bs4xjE79C8K"
      }
    },
    {
      "cell_type": "code",
      "source": [
        "import pandas as pd\n",
        "data = {\n",
        "  \"calories\": [420, 380, 390],\n",
        "  \"duration\": [50, 40, 45]\n",
        "}\n",
        "\n",
        "df = pd.DataFrame(data, index = [\"day1\", \"day2\", \"day3\"])\n",
        "print(df)"
      ],
      "metadata": {
        "colab": {
          "base_uri": "https://localhost:8080/"
        },
        "id": "OParG5CR9FR-",
        "outputId": "281202cb-9454-4dc4-9fc7-1684fd279128"
      },
      "execution_count": 10,
      "outputs": [
        {
          "output_type": "stream",
          "name": "stdout",
          "text": [
            "      calories  duration\n",
            "day1       420        50\n",
            "day2       380        40\n",
            "day3       390        45\n"
          ]
        }
      ]
    },
    {
      "cell_type": "markdown",
      "source": [
        "Use the named index in the loc attribute to return the specified row(s).\n",
        "\n"
      ],
      "metadata": {
        "id": "VTDXYVsf9pPm"
      }
    },
    {
      "cell_type": "code",
      "source": [
        "#refer to the named index:\n",
        "print(df.loc[\"day2\"])"
      ],
      "metadata": {
        "colab": {
          "base_uri": "https://localhost:8080/"
        },
        "id": "B4v1WjBa9p9_",
        "outputId": "84cd954c-e65a-4f8b-d9dd-00058e9a0072"
      },
      "execution_count": 11,
      "outputs": [
        {
          "output_type": "stream",
          "name": "stdout",
          "text": [
            "calories    380\n",
            "duration     40\n",
            "Name: day2, dtype: int64\n"
          ]
        }
      ]
    },
    {
      "cell_type": "markdown",
      "source": [
        "To read CSV Files,"
      ],
      "metadata": {
        "id": "4gIni3kn9872"
      }
    },
    {
      "cell_type": "code",
      "source": [
        "#df = pd.read_csv('data.csv')\n",
        "#print(df.head(number_of_rows))    ; Default = 5"
      ],
      "metadata": {
        "id": "3imTAAOe98gw"
      },
      "execution_count": null,
      "outputs": []
    },
    {
      "cell_type": "markdown",
      "source": [
        "## 4.2 Example Project for Pandas & xgboost"
      ],
      "metadata": {
        "id": "rs6n--sT-QYN"
      }
    },
    {
      "cell_type": "markdown",
      "source": [
        "### 4.2.1 Import Dataset"
      ],
      "metadata": {
        "id": "i2dPQA7sDiHc"
      }
    },
    {
      "cell_type": "code",
      "source": [
        "import pandas as pd\n",
        "import numpy as np\n",
        "import xgboost as xgb"
      ],
      "metadata": {
        "id": "rDdj7cxu-mnc"
      },
      "execution_count": 1,
      "outputs": []
    },
    {
      "cell_type": "markdown",
      "source": [
        "\"A fictional telco company that provided home phone and Internet services to 7043 customers in California in Q3.\""
      ],
      "metadata": {
        "id": "1Q1OOC14Axxc"
      }
    },
    {
      "cell_type": "code",
      "source": [
        "df = pd.read_csv(\"/content/Telco_customer_churn.csv\")"
      ],
      "metadata": {
        "id": "LIwy6eZZAVUJ"
      },
      "execution_count": 2,
      "outputs": []
    },
    {
      "cell_type": "markdown",
      "source": [
        "To lokup the dataset , use `head` function"
      ],
      "metadata": {
        "id": "B2eGpxLbA7gL"
      }
    },
    {
      "cell_type": "code",
      "source": [
        "df.head(10)"
      ],
      "metadata": {
        "colab": {
          "base_uri": "https://localhost:8080/",
          "height": 583
        },
        "id": "oq8zd-FoBBgw",
        "outputId": "240e5aa5-e4c7-46e0-a9c6-2e52c4391667"
      },
      "execution_count": 3,
      "outputs": [
        {
          "output_type": "execute_result",
          "data": {
            "text/plain": [
              "   CustomerID  Count        Country       State         City  Zip Code  \\\n",
              "0  3668-QPYBK      1  United States  California  Los Angeles     90003   \n",
              "1  9237-HQITU      1  United States  California  Los Angeles     90005   \n",
              "2  9305-CDSKC      1  United States  California  Los Angeles     90006   \n",
              "3  7892-POOKP      1  United States  California  Los Angeles     90010   \n",
              "4  0280-XJGEX      1  United States  California  Los Angeles     90015   \n",
              "5  4190-MFLUW      1  United States  California  Los Angeles     90020   \n",
              "6  8779-QRDMV      1  United States  California  Los Angeles     90022   \n",
              "7  1066-JKSGK      1  United States  California  Los Angeles     90024   \n",
              "8  6467-CHFZW      1  United States  California  Los Angeles     90028   \n",
              "9  8665-UTDHZ      1  United States  California  Los Angeles     90029   \n",
              "\n",
              "                 Lat Long   Latitude   Longitude  Gender  ...        Contract  \\\n",
              "0  33.964131, -118.272783  33.964131 -118.272783    Male  ...  Month-to-month   \n",
              "1   34.059281, -118.30742  34.059281 -118.307420  Female  ...  Month-to-month   \n",
              "2  34.048013, -118.293953  34.048013 -118.293953  Female  ...  Month-to-month   \n",
              "3  34.062125, -118.315709  34.062125 -118.315709  Female  ...  Month-to-month   \n",
              "4  34.039224, -118.266293  34.039224 -118.266293    Male  ...  Month-to-month   \n",
              "5  34.066367, -118.309868  34.066367 -118.309868  Female  ...  Month-to-month   \n",
              "6   34.02381, -118.156582  34.023810 -118.156582    Male  ...  Month-to-month   \n",
              "7  34.066303, -118.435479  34.066303 -118.435479    Male  ...  Month-to-month   \n",
              "8  34.099869, -118.326843  34.099869 -118.326843    Male  ...  Month-to-month   \n",
              "9  34.089953, -118.294824  34.089953 -118.294824    Male  ...  Month-to-month   \n",
              "\n",
              "  Paperless Billing             Payment Method  Monthly Charges Total Charges  \\\n",
              "0               Yes               Mailed check            53.85        108.15   \n",
              "1               Yes           Electronic check            70.70        151.65   \n",
              "2               Yes           Electronic check            99.65         820.5   \n",
              "3               Yes           Electronic check           104.80       3046.05   \n",
              "4               Yes  Bank transfer (automatic)           103.70        5036.3   \n",
              "5                No    Credit card (automatic)            55.20        528.35   \n",
              "6               Yes           Electronic check            39.65         39.65   \n",
              "7                No               Mailed check            20.15         20.15   \n",
              "8               Yes           Electronic check            99.35       4749.15   \n",
              "9                No           Electronic check            30.20          30.2   \n",
              "\n",
              "  Churn Label Churn Value Churn Score  CLTV  \\\n",
              "0         Yes           1          86  3239   \n",
              "1         Yes           1          67  2701   \n",
              "2         Yes           1          86  5372   \n",
              "3         Yes           1          84  5003   \n",
              "4         Yes           1          89  5340   \n",
              "5         Yes           1          78  5925   \n",
              "6         Yes           1         100  5433   \n",
              "7         Yes           1          92  4832   \n",
              "8         Yes           1          77  5789   \n",
              "9         Yes           1          97  2915   \n",
              "\n",
              "                                Churn Reason  \n",
              "0               Competitor made better offer  \n",
              "1                                      Moved  \n",
              "2                                      Moved  \n",
              "3                                      Moved  \n",
              "4              Competitor had better devices  \n",
              "5  Competitor offered higher download speeds  \n",
              "6               Competitor offered more data  \n",
              "7               Competitor made better offer  \n",
              "8              Competitor had better devices  \n",
              "9              Competitor had better devices  \n",
              "\n",
              "[10 rows x 33 columns]"
            ],
            "text/html": [
              "\n",
              "  <div id=\"df-9c5ed0ef-2c27-41c1-ac9b-2df93119a4b1\" class=\"colab-df-container\">\n",
              "    <div>\n",
              "<style scoped>\n",
              "    .dataframe tbody tr th:only-of-type {\n",
              "        vertical-align: middle;\n",
              "    }\n",
              "\n",
              "    .dataframe tbody tr th {\n",
              "        vertical-align: top;\n",
              "    }\n",
              "\n",
              "    .dataframe thead th {\n",
              "        text-align: right;\n",
              "    }\n",
              "</style>\n",
              "<table border=\"1\" class=\"dataframe\">\n",
              "  <thead>\n",
              "    <tr style=\"text-align: right;\">\n",
              "      <th></th>\n",
              "      <th>CustomerID</th>\n",
              "      <th>Count</th>\n",
              "      <th>Country</th>\n",
              "      <th>State</th>\n",
              "      <th>City</th>\n",
              "      <th>Zip Code</th>\n",
              "      <th>Lat Long</th>\n",
              "      <th>Latitude</th>\n",
              "      <th>Longitude</th>\n",
              "      <th>Gender</th>\n",
              "      <th>...</th>\n",
              "      <th>Contract</th>\n",
              "      <th>Paperless Billing</th>\n",
              "      <th>Payment Method</th>\n",
              "      <th>Monthly Charges</th>\n",
              "      <th>Total Charges</th>\n",
              "      <th>Churn Label</th>\n",
              "      <th>Churn Value</th>\n",
              "      <th>Churn Score</th>\n",
              "      <th>CLTV</th>\n",
              "      <th>Churn Reason</th>\n",
              "    </tr>\n",
              "  </thead>\n",
              "  <tbody>\n",
              "    <tr>\n",
              "      <th>0</th>\n",
              "      <td>3668-QPYBK</td>\n",
              "      <td>1</td>\n",
              "      <td>United States</td>\n",
              "      <td>California</td>\n",
              "      <td>Los Angeles</td>\n",
              "      <td>90003</td>\n",
              "      <td>33.964131, -118.272783</td>\n",
              "      <td>33.964131</td>\n",
              "      <td>-118.272783</td>\n",
              "      <td>Male</td>\n",
              "      <td>...</td>\n",
              "      <td>Month-to-month</td>\n",
              "      <td>Yes</td>\n",
              "      <td>Mailed check</td>\n",
              "      <td>53.85</td>\n",
              "      <td>108.15</td>\n",
              "      <td>Yes</td>\n",
              "      <td>1</td>\n",
              "      <td>86</td>\n",
              "      <td>3239</td>\n",
              "      <td>Competitor made better offer</td>\n",
              "    </tr>\n",
              "    <tr>\n",
              "      <th>1</th>\n",
              "      <td>9237-HQITU</td>\n",
              "      <td>1</td>\n",
              "      <td>United States</td>\n",
              "      <td>California</td>\n",
              "      <td>Los Angeles</td>\n",
              "      <td>90005</td>\n",
              "      <td>34.059281, -118.30742</td>\n",
              "      <td>34.059281</td>\n",
              "      <td>-118.307420</td>\n",
              "      <td>Female</td>\n",
              "      <td>...</td>\n",
              "      <td>Month-to-month</td>\n",
              "      <td>Yes</td>\n",
              "      <td>Electronic check</td>\n",
              "      <td>70.70</td>\n",
              "      <td>151.65</td>\n",
              "      <td>Yes</td>\n",
              "      <td>1</td>\n",
              "      <td>67</td>\n",
              "      <td>2701</td>\n",
              "      <td>Moved</td>\n",
              "    </tr>\n",
              "    <tr>\n",
              "      <th>2</th>\n",
              "      <td>9305-CDSKC</td>\n",
              "      <td>1</td>\n",
              "      <td>United States</td>\n",
              "      <td>California</td>\n",
              "      <td>Los Angeles</td>\n",
              "      <td>90006</td>\n",
              "      <td>34.048013, -118.293953</td>\n",
              "      <td>34.048013</td>\n",
              "      <td>-118.293953</td>\n",
              "      <td>Female</td>\n",
              "      <td>...</td>\n",
              "      <td>Month-to-month</td>\n",
              "      <td>Yes</td>\n",
              "      <td>Electronic check</td>\n",
              "      <td>99.65</td>\n",
              "      <td>820.5</td>\n",
              "      <td>Yes</td>\n",
              "      <td>1</td>\n",
              "      <td>86</td>\n",
              "      <td>5372</td>\n",
              "      <td>Moved</td>\n",
              "    </tr>\n",
              "    <tr>\n",
              "      <th>3</th>\n",
              "      <td>7892-POOKP</td>\n",
              "      <td>1</td>\n",
              "      <td>United States</td>\n",
              "      <td>California</td>\n",
              "      <td>Los Angeles</td>\n",
              "      <td>90010</td>\n",
              "      <td>34.062125, -118.315709</td>\n",
              "      <td>34.062125</td>\n",
              "      <td>-118.315709</td>\n",
              "      <td>Female</td>\n",
              "      <td>...</td>\n",
              "      <td>Month-to-month</td>\n",
              "      <td>Yes</td>\n",
              "      <td>Electronic check</td>\n",
              "      <td>104.80</td>\n",
              "      <td>3046.05</td>\n",
              "      <td>Yes</td>\n",
              "      <td>1</td>\n",
              "      <td>84</td>\n",
              "      <td>5003</td>\n",
              "      <td>Moved</td>\n",
              "    </tr>\n",
              "    <tr>\n",
              "      <th>4</th>\n",
              "      <td>0280-XJGEX</td>\n",
              "      <td>1</td>\n",
              "      <td>United States</td>\n",
              "      <td>California</td>\n",
              "      <td>Los Angeles</td>\n",
              "      <td>90015</td>\n",
              "      <td>34.039224, -118.266293</td>\n",
              "      <td>34.039224</td>\n",
              "      <td>-118.266293</td>\n",
              "      <td>Male</td>\n",
              "      <td>...</td>\n",
              "      <td>Month-to-month</td>\n",
              "      <td>Yes</td>\n",
              "      <td>Bank transfer (automatic)</td>\n",
              "      <td>103.70</td>\n",
              "      <td>5036.3</td>\n",
              "      <td>Yes</td>\n",
              "      <td>1</td>\n",
              "      <td>89</td>\n",
              "      <td>5340</td>\n",
              "      <td>Competitor had better devices</td>\n",
              "    </tr>\n",
              "    <tr>\n",
              "      <th>5</th>\n",
              "      <td>4190-MFLUW</td>\n",
              "      <td>1</td>\n",
              "      <td>United States</td>\n",
              "      <td>California</td>\n",
              "      <td>Los Angeles</td>\n",
              "      <td>90020</td>\n",
              "      <td>34.066367, -118.309868</td>\n",
              "      <td>34.066367</td>\n",
              "      <td>-118.309868</td>\n",
              "      <td>Female</td>\n",
              "      <td>...</td>\n",
              "      <td>Month-to-month</td>\n",
              "      <td>No</td>\n",
              "      <td>Credit card (automatic)</td>\n",
              "      <td>55.20</td>\n",
              "      <td>528.35</td>\n",
              "      <td>Yes</td>\n",
              "      <td>1</td>\n",
              "      <td>78</td>\n",
              "      <td>5925</td>\n",
              "      <td>Competitor offered higher download speeds</td>\n",
              "    </tr>\n",
              "    <tr>\n",
              "      <th>6</th>\n",
              "      <td>8779-QRDMV</td>\n",
              "      <td>1</td>\n",
              "      <td>United States</td>\n",
              "      <td>California</td>\n",
              "      <td>Los Angeles</td>\n",
              "      <td>90022</td>\n",
              "      <td>34.02381, -118.156582</td>\n",
              "      <td>34.023810</td>\n",
              "      <td>-118.156582</td>\n",
              "      <td>Male</td>\n",
              "      <td>...</td>\n",
              "      <td>Month-to-month</td>\n",
              "      <td>Yes</td>\n",
              "      <td>Electronic check</td>\n",
              "      <td>39.65</td>\n",
              "      <td>39.65</td>\n",
              "      <td>Yes</td>\n",
              "      <td>1</td>\n",
              "      <td>100</td>\n",
              "      <td>5433</td>\n",
              "      <td>Competitor offered more data</td>\n",
              "    </tr>\n",
              "    <tr>\n",
              "      <th>7</th>\n",
              "      <td>1066-JKSGK</td>\n",
              "      <td>1</td>\n",
              "      <td>United States</td>\n",
              "      <td>California</td>\n",
              "      <td>Los Angeles</td>\n",
              "      <td>90024</td>\n",
              "      <td>34.066303, -118.435479</td>\n",
              "      <td>34.066303</td>\n",
              "      <td>-118.435479</td>\n",
              "      <td>Male</td>\n",
              "      <td>...</td>\n",
              "      <td>Month-to-month</td>\n",
              "      <td>No</td>\n",
              "      <td>Mailed check</td>\n",
              "      <td>20.15</td>\n",
              "      <td>20.15</td>\n",
              "      <td>Yes</td>\n",
              "      <td>1</td>\n",
              "      <td>92</td>\n",
              "      <td>4832</td>\n",
              "      <td>Competitor made better offer</td>\n",
              "    </tr>\n",
              "    <tr>\n",
              "      <th>8</th>\n",
              "      <td>6467-CHFZW</td>\n",
              "      <td>1</td>\n",
              "      <td>United States</td>\n",
              "      <td>California</td>\n",
              "      <td>Los Angeles</td>\n",
              "      <td>90028</td>\n",
              "      <td>34.099869, -118.326843</td>\n",
              "      <td>34.099869</td>\n",
              "      <td>-118.326843</td>\n",
              "      <td>Male</td>\n",
              "      <td>...</td>\n",
              "      <td>Month-to-month</td>\n",
              "      <td>Yes</td>\n",
              "      <td>Electronic check</td>\n",
              "      <td>99.35</td>\n",
              "      <td>4749.15</td>\n",
              "      <td>Yes</td>\n",
              "      <td>1</td>\n",
              "      <td>77</td>\n",
              "      <td>5789</td>\n",
              "      <td>Competitor had better devices</td>\n",
              "    </tr>\n",
              "    <tr>\n",
              "      <th>9</th>\n",
              "      <td>8665-UTDHZ</td>\n",
              "      <td>1</td>\n",
              "      <td>United States</td>\n",
              "      <td>California</td>\n",
              "      <td>Los Angeles</td>\n",
              "      <td>90029</td>\n",
              "      <td>34.089953, -118.294824</td>\n",
              "      <td>34.089953</td>\n",
              "      <td>-118.294824</td>\n",
              "      <td>Male</td>\n",
              "      <td>...</td>\n",
              "      <td>Month-to-month</td>\n",
              "      <td>No</td>\n",
              "      <td>Electronic check</td>\n",
              "      <td>30.20</td>\n",
              "      <td>30.2</td>\n",
              "      <td>Yes</td>\n",
              "      <td>1</td>\n",
              "      <td>97</td>\n",
              "      <td>2915</td>\n",
              "      <td>Competitor had better devices</td>\n",
              "    </tr>\n",
              "  </tbody>\n",
              "</table>\n",
              "<p>10 rows × 33 columns</p>\n",
              "</div>\n",
              "    <div class=\"colab-df-buttons\">\n",
              "\n",
              "  <div class=\"colab-df-container\">\n",
              "    <button class=\"colab-df-convert\" onclick=\"convertToInteractive('df-9c5ed0ef-2c27-41c1-ac9b-2df93119a4b1')\"\n",
              "            title=\"Convert this dataframe to an interactive table.\"\n",
              "            style=\"display:none;\">\n",
              "\n",
              "  <svg xmlns=\"http://www.w3.org/2000/svg\" height=\"24px\" viewBox=\"0 -960 960 960\">\n",
              "    <path d=\"M120-120v-720h720v720H120Zm60-500h600v-160H180v160Zm220 220h160v-160H400v160Zm0 220h160v-160H400v160ZM180-400h160v-160H180v160Zm440 0h160v-160H620v160ZM180-180h160v-160H180v160Zm440 0h160v-160H620v160Z\"/>\n",
              "  </svg>\n",
              "    </button>\n",
              "\n",
              "  <style>\n",
              "    .colab-df-container {\n",
              "      display:flex;\n",
              "      gap: 12px;\n",
              "    }\n",
              "\n",
              "    .colab-df-convert {\n",
              "      background-color: #E8F0FE;\n",
              "      border: none;\n",
              "      border-radius: 50%;\n",
              "      cursor: pointer;\n",
              "      display: none;\n",
              "      fill: #1967D2;\n",
              "      height: 32px;\n",
              "      padding: 0 0 0 0;\n",
              "      width: 32px;\n",
              "    }\n",
              "\n",
              "    .colab-df-convert:hover {\n",
              "      background-color: #E2EBFA;\n",
              "      box-shadow: 0px 1px 2px rgba(60, 64, 67, 0.3), 0px 1px 3px 1px rgba(60, 64, 67, 0.15);\n",
              "      fill: #174EA6;\n",
              "    }\n",
              "\n",
              "    .colab-df-buttons div {\n",
              "      margin-bottom: 4px;\n",
              "    }\n",
              "\n",
              "    [theme=dark] .colab-df-convert {\n",
              "      background-color: #3B4455;\n",
              "      fill: #D2E3FC;\n",
              "    }\n",
              "\n",
              "    [theme=dark] .colab-df-convert:hover {\n",
              "      background-color: #434B5C;\n",
              "      box-shadow: 0px 1px 3px 1px rgba(0, 0, 0, 0.15);\n",
              "      filter: drop-shadow(0px 1px 2px rgba(0, 0, 0, 0.3));\n",
              "      fill: #FFFFFF;\n",
              "    }\n",
              "  </style>\n",
              "\n",
              "    <script>\n",
              "      const buttonEl =\n",
              "        document.querySelector('#df-9c5ed0ef-2c27-41c1-ac9b-2df93119a4b1 button.colab-df-convert');\n",
              "      buttonEl.style.display =\n",
              "        google.colab.kernel.accessAllowed ? 'block' : 'none';\n",
              "\n",
              "      async function convertToInteractive(key) {\n",
              "        const element = document.querySelector('#df-9c5ed0ef-2c27-41c1-ac9b-2df93119a4b1');\n",
              "        const dataTable =\n",
              "          await google.colab.kernel.invokeFunction('convertToInteractive',\n",
              "                                                    [key], {});\n",
              "        if (!dataTable) return;\n",
              "\n",
              "        const docLinkHtml = 'Like what you see? Visit the ' +\n",
              "          '<a target=\"_blank\" href=https://colab.research.google.com/notebooks/data_table.ipynb>data table notebook</a>'\n",
              "          + ' to learn more about interactive tables.';\n",
              "        element.innerHTML = '';\n",
              "        dataTable['output_type'] = 'display_data';\n",
              "        await google.colab.output.renderOutput(dataTable, element);\n",
              "        const docLink = document.createElement('div');\n",
              "        docLink.innerHTML = docLinkHtml;\n",
              "        element.appendChild(docLink);\n",
              "      }\n",
              "    </script>\n",
              "  </div>\n",
              "\n",
              "\n",
              "<div id=\"df-4fc9830e-5d88-40e4-952d-cf41b399bb87\">\n",
              "  <button class=\"colab-df-quickchart\" onclick=\"quickchart('df-4fc9830e-5d88-40e4-952d-cf41b399bb87')\"\n",
              "            title=\"Suggest charts\"\n",
              "            style=\"display:none;\">\n",
              "\n",
              "<svg xmlns=\"http://www.w3.org/2000/svg\" height=\"24px\"viewBox=\"0 0 24 24\"\n",
              "     width=\"24px\">\n",
              "    <g>\n",
              "        <path d=\"M19 3H5c-1.1 0-2 .9-2 2v14c0 1.1.9 2 2 2h14c1.1 0 2-.9 2-2V5c0-1.1-.9-2-2-2zM9 17H7v-7h2v7zm4 0h-2V7h2v10zm4 0h-2v-4h2v4z\"/>\n",
              "    </g>\n",
              "</svg>\n",
              "  </button>\n",
              "\n",
              "<style>\n",
              "  .colab-df-quickchart {\n",
              "      --bg-color: #E8F0FE;\n",
              "      --fill-color: #1967D2;\n",
              "      --hover-bg-color: #E2EBFA;\n",
              "      --hover-fill-color: #174EA6;\n",
              "      --disabled-fill-color: #AAA;\n",
              "      --disabled-bg-color: #DDD;\n",
              "  }\n",
              "\n",
              "  [theme=dark] .colab-df-quickchart {\n",
              "      --bg-color: #3B4455;\n",
              "      --fill-color: #D2E3FC;\n",
              "      --hover-bg-color: #434B5C;\n",
              "      --hover-fill-color: #FFFFFF;\n",
              "      --disabled-bg-color: #3B4455;\n",
              "      --disabled-fill-color: #666;\n",
              "  }\n",
              "\n",
              "  .colab-df-quickchart {\n",
              "    background-color: var(--bg-color);\n",
              "    border: none;\n",
              "    border-radius: 50%;\n",
              "    cursor: pointer;\n",
              "    display: none;\n",
              "    fill: var(--fill-color);\n",
              "    height: 32px;\n",
              "    padding: 0;\n",
              "    width: 32px;\n",
              "  }\n",
              "\n",
              "  .colab-df-quickchart:hover {\n",
              "    background-color: var(--hover-bg-color);\n",
              "    box-shadow: 0 1px 2px rgba(60, 64, 67, 0.3), 0 1px 3px 1px rgba(60, 64, 67, 0.15);\n",
              "    fill: var(--button-hover-fill-color);\n",
              "  }\n",
              "\n",
              "  .colab-df-quickchart-complete:disabled,\n",
              "  .colab-df-quickchart-complete:disabled:hover {\n",
              "    background-color: var(--disabled-bg-color);\n",
              "    fill: var(--disabled-fill-color);\n",
              "    box-shadow: none;\n",
              "  }\n",
              "\n",
              "  .colab-df-spinner {\n",
              "    border: 2px solid var(--fill-color);\n",
              "    border-color: transparent;\n",
              "    border-bottom-color: var(--fill-color);\n",
              "    animation:\n",
              "      spin 1s steps(1) infinite;\n",
              "  }\n",
              "\n",
              "  @keyframes spin {\n",
              "    0% {\n",
              "      border-color: transparent;\n",
              "      border-bottom-color: var(--fill-color);\n",
              "      border-left-color: var(--fill-color);\n",
              "    }\n",
              "    20% {\n",
              "      border-color: transparent;\n",
              "      border-left-color: var(--fill-color);\n",
              "      border-top-color: var(--fill-color);\n",
              "    }\n",
              "    30% {\n",
              "      border-color: transparent;\n",
              "      border-left-color: var(--fill-color);\n",
              "      border-top-color: var(--fill-color);\n",
              "      border-right-color: var(--fill-color);\n",
              "    }\n",
              "    40% {\n",
              "      border-color: transparent;\n",
              "      border-right-color: var(--fill-color);\n",
              "      border-top-color: var(--fill-color);\n",
              "    }\n",
              "    60% {\n",
              "      border-color: transparent;\n",
              "      border-right-color: var(--fill-color);\n",
              "    }\n",
              "    80% {\n",
              "      border-color: transparent;\n",
              "      border-right-color: var(--fill-color);\n",
              "      border-bottom-color: var(--fill-color);\n",
              "    }\n",
              "    90% {\n",
              "      border-color: transparent;\n",
              "      border-bottom-color: var(--fill-color);\n",
              "    }\n",
              "  }\n",
              "</style>\n",
              "\n",
              "  <script>\n",
              "    async function quickchart(key) {\n",
              "      const quickchartButtonEl =\n",
              "        document.querySelector('#' + key + ' button');\n",
              "      quickchartButtonEl.disabled = true;  // To prevent multiple clicks.\n",
              "      quickchartButtonEl.classList.add('colab-df-spinner');\n",
              "      try {\n",
              "        const charts = await google.colab.kernel.invokeFunction(\n",
              "            'suggestCharts', [key], {});\n",
              "      } catch (error) {\n",
              "        console.error('Error during call to suggestCharts:', error);\n",
              "      }\n",
              "      quickchartButtonEl.classList.remove('colab-df-spinner');\n",
              "      quickchartButtonEl.classList.add('colab-df-quickchart-complete');\n",
              "    }\n",
              "    (() => {\n",
              "      let quickchartButtonEl =\n",
              "        document.querySelector('#df-4fc9830e-5d88-40e4-952d-cf41b399bb87 button');\n",
              "      quickchartButtonEl.style.display =\n",
              "        google.colab.kernel.accessAllowed ? 'block' : 'none';\n",
              "    })();\n",
              "  </script>\n",
              "</div>\n",
              "    </div>\n",
              "  </div>\n"
            ],
            "application/vnd.google.colaboratory.intrinsic+json": {
              "type": "dataframe",
              "variable_name": "df"
            }
          },
          "metadata": {},
          "execution_count": 3
        }
      ]
    },
    {
      "cell_type": "markdown",
      "source": [
        "### 4.2.2 Data Pre Processing"
      ],
      "metadata": {
        "id": "_bBjxtoDDwIz"
      }
    },
    {
      "cell_type": "markdown",
      "source": [
        "#### Remove Irrelevent Columns"
      ],
      "metadata": {
        "id": "OQc2zETpD0b-"
      }
    },
    {
      "cell_type": "markdown",
      "source": [
        "Note that the last variables contain exit interview information and should not  be used for the prediction.so we will remove them"
      ],
      "metadata": {
        "id": "Tt6fJ5Wj-7hk"
      }
    },
    {
      "cell_type": "code",
      "source": [
        "df.drop(['Churn Label','Churn Score','CLTV','Churn Reason'] , axis = 1 , inplace=True)\n",
        "# axis = 1 to remove columns and axis = 0  for remove rows\n",
        "# inplace = True => apply the changes to the original file\n",
        "# inplace = False =>  return a copy\n",
        "df.head(5)"
      ],
      "metadata": {
        "colab": {
          "base_uri": "https://localhost:8080/",
          "height": 340
        },
        "id": "lV3YLjCoBimd",
        "outputId": "01a7ffc5-935d-4c1c-b299-56a7d1c094e2"
      },
      "execution_count": 4,
      "outputs": [
        {
          "output_type": "execute_result",
          "data": {
            "text/plain": [
              "   CustomerID  Count        Country       State         City  Zip Code  \\\n",
              "0  3668-QPYBK      1  United States  California  Los Angeles     90003   \n",
              "1  9237-HQITU      1  United States  California  Los Angeles     90005   \n",
              "2  9305-CDSKC      1  United States  California  Los Angeles     90006   \n",
              "3  7892-POOKP      1  United States  California  Los Angeles     90010   \n",
              "4  0280-XJGEX      1  United States  California  Los Angeles     90015   \n",
              "\n",
              "                 Lat Long   Latitude   Longitude  Gender  ...  \\\n",
              "0  33.964131, -118.272783  33.964131 -118.272783    Male  ...   \n",
              "1   34.059281, -118.30742  34.059281 -118.307420  Female  ...   \n",
              "2  34.048013, -118.293953  34.048013 -118.293953  Female  ...   \n",
              "3  34.062125, -118.315709  34.062125 -118.315709  Female  ...   \n",
              "4  34.039224, -118.266293  34.039224 -118.266293    Male  ...   \n",
              "\n",
              "  Device Protection Tech Support Streaming TV  Streaming Movies  \\\n",
              "0                No           No           No                No   \n",
              "1                No           No           No                No   \n",
              "2               Yes           No          Yes               Yes   \n",
              "3               Yes          Yes          Yes               Yes   \n",
              "4               Yes           No          Yes               Yes   \n",
              "\n",
              "         Contract Paperless Billing             Payment Method  \\\n",
              "0  Month-to-month               Yes               Mailed check   \n",
              "1  Month-to-month               Yes           Electronic check   \n",
              "2  Month-to-month               Yes           Electronic check   \n",
              "3  Month-to-month               Yes           Electronic check   \n",
              "4  Month-to-month               Yes  Bank transfer (automatic)   \n",
              "\n",
              "  Monthly Charges Total Charges Churn Value  \n",
              "0           53.85        108.15           1  \n",
              "1           70.70        151.65           1  \n",
              "2           99.65         820.5           1  \n",
              "3          104.80       3046.05           1  \n",
              "4          103.70        5036.3           1  \n",
              "\n",
              "[5 rows x 29 columns]"
            ],
            "text/html": [
              "\n",
              "  <div id=\"df-7799873f-6e76-47ad-873f-c0ed4b098bcf\" class=\"colab-df-container\">\n",
              "    <div>\n",
              "<style scoped>\n",
              "    .dataframe tbody tr th:only-of-type {\n",
              "        vertical-align: middle;\n",
              "    }\n",
              "\n",
              "    .dataframe tbody tr th {\n",
              "        vertical-align: top;\n",
              "    }\n",
              "\n",
              "    .dataframe thead th {\n",
              "        text-align: right;\n",
              "    }\n",
              "</style>\n",
              "<table border=\"1\" class=\"dataframe\">\n",
              "  <thead>\n",
              "    <tr style=\"text-align: right;\">\n",
              "      <th></th>\n",
              "      <th>CustomerID</th>\n",
              "      <th>Count</th>\n",
              "      <th>Country</th>\n",
              "      <th>State</th>\n",
              "      <th>City</th>\n",
              "      <th>Zip Code</th>\n",
              "      <th>Lat Long</th>\n",
              "      <th>Latitude</th>\n",
              "      <th>Longitude</th>\n",
              "      <th>Gender</th>\n",
              "      <th>...</th>\n",
              "      <th>Device Protection</th>\n",
              "      <th>Tech Support</th>\n",
              "      <th>Streaming TV</th>\n",
              "      <th>Streaming Movies</th>\n",
              "      <th>Contract</th>\n",
              "      <th>Paperless Billing</th>\n",
              "      <th>Payment Method</th>\n",
              "      <th>Monthly Charges</th>\n",
              "      <th>Total Charges</th>\n",
              "      <th>Churn Value</th>\n",
              "    </tr>\n",
              "  </thead>\n",
              "  <tbody>\n",
              "    <tr>\n",
              "      <th>0</th>\n",
              "      <td>3668-QPYBK</td>\n",
              "      <td>1</td>\n",
              "      <td>United States</td>\n",
              "      <td>California</td>\n",
              "      <td>Los Angeles</td>\n",
              "      <td>90003</td>\n",
              "      <td>33.964131, -118.272783</td>\n",
              "      <td>33.964131</td>\n",
              "      <td>-118.272783</td>\n",
              "      <td>Male</td>\n",
              "      <td>...</td>\n",
              "      <td>No</td>\n",
              "      <td>No</td>\n",
              "      <td>No</td>\n",
              "      <td>No</td>\n",
              "      <td>Month-to-month</td>\n",
              "      <td>Yes</td>\n",
              "      <td>Mailed check</td>\n",
              "      <td>53.85</td>\n",
              "      <td>108.15</td>\n",
              "      <td>1</td>\n",
              "    </tr>\n",
              "    <tr>\n",
              "      <th>1</th>\n",
              "      <td>9237-HQITU</td>\n",
              "      <td>1</td>\n",
              "      <td>United States</td>\n",
              "      <td>California</td>\n",
              "      <td>Los Angeles</td>\n",
              "      <td>90005</td>\n",
              "      <td>34.059281, -118.30742</td>\n",
              "      <td>34.059281</td>\n",
              "      <td>-118.307420</td>\n",
              "      <td>Female</td>\n",
              "      <td>...</td>\n",
              "      <td>No</td>\n",
              "      <td>No</td>\n",
              "      <td>No</td>\n",
              "      <td>No</td>\n",
              "      <td>Month-to-month</td>\n",
              "      <td>Yes</td>\n",
              "      <td>Electronic check</td>\n",
              "      <td>70.70</td>\n",
              "      <td>151.65</td>\n",
              "      <td>1</td>\n",
              "    </tr>\n",
              "    <tr>\n",
              "      <th>2</th>\n",
              "      <td>9305-CDSKC</td>\n",
              "      <td>1</td>\n",
              "      <td>United States</td>\n",
              "      <td>California</td>\n",
              "      <td>Los Angeles</td>\n",
              "      <td>90006</td>\n",
              "      <td>34.048013, -118.293953</td>\n",
              "      <td>34.048013</td>\n",
              "      <td>-118.293953</td>\n",
              "      <td>Female</td>\n",
              "      <td>...</td>\n",
              "      <td>Yes</td>\n",
              "      <td>No</td>\n",
              "      <td>Yes</td>\n",
              "      <td>Yes</td>\n",
              "      <td>Month-to-month</td>\n",
              "      <td>Yes</td>\n",
              "      <td>Electronic check</td>\n",
              "      <td>99.65</td>\n",
              "      <td>820.5</td>\n",
              "      <td>1</td>\n",
              "    </tr>\n",
              "    <tr>\n",
              "      <th>3</th>\n",
              "      <td>7892-POOKP</td>\n",
              "      <td>1</td>\n",
              "      <td>United States</td>\n",
              "      <td>California</td>\n",
              "      <td>Los Angeles</td>\n",
              "      <td>90010</td>\n",
              "      <td>34.062125, -118.315709</td>\n",
              "      <td>34.062125</td>\n",
              "      <td>-118.315709</td>\n",
              "      <td>Female</td>\n",
              "      <td>...</td>\n",
              "      <td>Yes</td>\n",
              "      <td>Yes</td>\n",
              "      <td>Yes</td>\n",
              "      <td>Yes</td>\n",
              "      <td>Month-to-month</td>\n",
              "      <td>Yes</td>\n",
              "      <td>Electronic check</td>\n",
              "      <td>104.80</td>\n",
              "      <td>3046.05</td>\n",
              "      <td>1</td>\n",
              "    </tr>\n",
              "    <tr>\n",
              "      <th>4</th>\n",
              "      <td>0280-XJGEX</td>\n",
              "      <td>1</td>\n",
              "      <td>United States</td>\n",
              "      <td>California</td>\n",
              "      <td>Los Angeles</td>\n",
              "      <td>90015</td>\n",
              "      <td>34.039224, -118.266293</td>\n",
              "      <td>34.039224</td>\n",
              "      <td>-118.266293</td>\n",
              "      <td>Male</td>\n",
              "      <td>...</td>\n",
              "      <td>Yes</td>\n",
              "      <td>No</td>\n",
              "      <td>Yes</td>\n",
              "      <td>Yes</td>\n",
              "      <td>Month-to-month</td>\n",
              "      <td>Yes</td>\n",
              "      <td>Bank transfer (automatic)</td>\n",
              "      <td>103.70</td>\n",
              "      <td>5036.3</td>\n",
              "      <td>1</td>\n",
              "    </tr>\n",
              "  </tbody>\n",
              "</table>\n",
              "<p>5 rows × 29 columns</p>\n",
              "</div>\n",
              "    <div class=\"colab-df-buttons\">\n",
              "\n",
              "  <div class=\"colab-df-container\">\n",
              "    <button class=\"colab-df-convert\" onclick=\"convertToInteractive('df-7799873f-6e76-47ad-873f-c0ed4b098bcf')\"\n",
              "            title=\"Convert this dataframe to an interactive table.\"\n",
              "            style=\"display:none;\">\n",
              "\n",
              "  <svg xmlns=\"http://www.w3.org/2000/svg\" height=\"24px\" viewBox=\"0 -960 960 960\">\n",
              "    <path d=\"M120-120v-720h720v720H120Zm60-500h600v-160H180v160Zm220 220h160v-160H400v160Zm0 220h160v-160H400v160ZM180-400h160v-160H180v160Zm440 0h160v-160H620v160ZM180-180h160v-160H180v160Zm440 0h160v-160H620v160Z\"/>\n",
              "  </svg>\n",
              "    </button>\n",
              "\n",
              "  <style>\n",
              "    .colab-df-container {\n",
              "      display:flex;\n",
              "      gap: 12px;\n",
              "    }\n",
              "\n",
              "    .colab-df-convert {\n",
              "      background-color: #E8F0FE;\n",
              "      border: none;\n",
              "      border-radius: 50%;\n",
              "      cursor: pointer;\n",
              "      display: none;\n",
              "      fill: #1967D2;\n",
              "      height: 32px;\n",
              "      padding: 0 0 0 0;\n",
              "      width: 32px;\n",
              "    }\n",
              "\n",
              "    .colab-df-convert:hover {\n",
              "      background-color: #E2EBFA;\n",
              "      box-shadow: 0px 1px 2px rgba(60, 64, 67, 0.3), 0px 1px 3px 1px rgba(60, 64, 67, 0.15);\n",
              "      fill: #174EA6;\n",
              "    }\n",
              "\n",
              "    .colab-df-buttons div {\n",
              "      margin-bottom: 4px;\n",
              "    }\n",
              "\n",
              "    [theme=dark] .colab-df-convert {\n",
              "      background-color: #3B4455;\n",
              "      fill: #D2E3FC;\n",
              "    }\n",
              "\n",
              "    [theme=dark] .colab-df-convert:hover {\n",
              "      background-color: #434B5C;\n",
              "      box-shadow: 0px 1px 3px 1px rgba(0, 0, 0, 0.15);\n",
              "      filter: drop-shadow(0px 1px 2px rgba(0, 0, 0, 0.3));\n",
              "      fill: #FFFFFF;\n",
              "    }\n",
              "  </style>\n",
              "\n",
              "    <script>\n",
              "      const buttonEl =\n",
              "        document.querySelector('#df-7799873f-6e76-47ad-873f-c0ed4b098bcf button.colab-df-convert');\n",
              "      buttonEl.style.display =\n",
              "        google.colab.kernel.accessAllowed ? 'block' : 'none';\n",
              "\n",
              "      async function convertToInteractive(key) {\n",
              "        const element = document.querySelector('#df-7799873f-6e76-47ad-873f-c0ed4b098bcf');\n",
              "        const dataTable =\n",
              "          await google.colab.kernel.invokeFunction('convertToInteractive',\n",
              "                                                    [key], {});\n",
              "        if (!dataTable) return;\n",
              "\n",
              "        const docLinkHtml = 'Like what you see? Visit the ' +\n",
              "          '<a target=\"_blank\" href=https://colab.research.google.com/notebooks/data_table.ipynb>data table notebook</a>'\n",
              "          + ' to learn more about interactive tables.';\n",
              "        element.innerHTML = '';\n",
              "        dataTable['output_type'] = 'display_data';\n",
              "        await google.colab.output.renderOutput(dataTable, element);\n",
              "        const docLink = document.createElement('div');\n",
              "        docLink.innerHTML = docLinkHtml;\n",
              "        element.appendChild(docLink);\n",
              "      }\n",
              "    </script>\n",
              "  </div>\n",
              "\n",
              "\n",
              "<div id=\"df-918c9769-a3ae-4a5d-a11f-642ae36d6850\">\n",
              "  <button class=\"colab-df-quickchart\" onclick=\"quickchart('df-918c9769-a3ae-4a5d-a11f-642ae36d6850')\"\n",
              "            title=\"Suggest charts\"\n",
              "            style=\"display:none;\">\n",
              "\n",
              "<svg xmlns=\"http://www.w3.org/2000/svg\" height=\"24px\"viewBox=\"0 0 24 24\"\n",
              "     width=\"24px\">\n",
              "    <g>\n",
              "        <path d=\"M19 3H5c-1.1 0-2 .9-2 2v14c0 1.1.9 2 2 2h14c1.1 0 2-.9 2-2V5c0-1.1-.9-2-2-2zM9 17H7v-7h2v7zm4 0h-2V7h2v10zm4 0h-2v-4h2v4z\"/>\n",
              "    </g>\n",
              "</svg>\n",
              "  </button>\n",
              "\n",
              "<style>\n",
              "  .colab-df-quickchart {\n",
              "      --bg-color: #E8F0FE;\n",
              "      --fill-color: #1967D2;\n",
              "      --hover-bg-color: #E2EBFA;\n",
              "      --hover-fill-color: #174EA6;\n",
              "      --disabled-fill-color: #AAA;\n",
              "      --disabled-bg-color: #DDD;\n",
              "  }\n",
              "\n",
              "  [theme=dark] .colab-df-quickchart {\n",
              "      --bg-color: #3B4455;\n",
              "      --fill-color: #D2E3FC;\n",
              "      --hover-bg-color: #434B5C;\n",
              "      --hover-fill-color: #FFFFFF;\n",
              "      --disabled-bg-color: #3B4455;\n",
              "      --disabled-fill-color: #666;\n",
              "  }\n",
              "\n",
              "  .colab-df-quickchart {\n",
              "    background-color: var(--bg-color);\n",
              "    border: none;\n",
              "    border-radius: 50%;\n",
              "    cursor: pointer;\n",
              "    display: none;\n",
              "    fill: var(--fill-color);\n",
              "    height: 32px;\n",
              "    padding: 0;\n",
              "    width: 32px;\n",
              "  }\n",
              "\n",
              "  .colab-df-quickchart:hover {\n",
              "    background-color: var(--hover-bg-color);\n",
              "    box-shadow: 0 1px 2px rgba(60, 64, 67, 0.3), 0 1px 3px 1px rgba(60, 64, 67, 0.15);\n",
              "    fill: var(--button-hover-fill-color);\n",
              "  }\n",
              "\n",
              "  .colab-df-quickchart-complete:disabled,\n",
              "  .colab-df-quickchart-complete:disabled:hover {\n",
              "    background-color: var(--disabled-bg-color);\n",
              "    fill: var(--disabled-fill-color);\n",
              "    box-shadow: none;\n",
              "  }\n",
              "\n",
              "  .colab-df-spinner {\n",
              "    border: 2px solid var(--fill-color);\n",
              "    border-color: transparent;\n",
              "    border-bottom-color: var(--fill-color);\n",
              "    animation:\n",
              "      spin 1s steps(1) infinite;\n",
              "  }\n",
              "\n",
              "  @keyframes spin {\n",
              "    0% {\n",
              "      border-color: transparent;\n",
              "      border-bottom-color: var(--fill-color);\n",
              "      border-left-color: var(--fill-color);\n",
              "    }\n",
              "    20% {\n",
              "      border-color: transparent;\n",
              "      border-left-color: var(--fill-color);\n",
              "      border-top-color: var(--fill-color);\n",
              "    }\n",
              "    30% {\n",
              "      border-color: transparent;\n",
              "      border-left-color: var(--fill-color);\n",
              "      border-top-color: var(--fill-color);\n",
              "      border-right-color: var(--fill-color);\n",
              "    }\n",
              "    40% {\n",
              "      border-color: transparent;\n",
              "      border-right-color: var(--fill-color);\n",
              "      border-top-color: var(--fill-color);\n",
              "    }\n",
              "    60% {\n",
              "      border-color: transparent;\n",
              "      border-right-color: var(--fill-color);\n",
              "    }\n",
              "    80% {\n",
              "      border-color: transparent;\n",
              "      border-right-color: var(--fill-color);\n",
              "      border-bottom-color: var(--fill-color);\n",
              "    }\n",
              "    90% {\n",
              "      border-color: transparent;\n",
              "      border-bottom-color: var(--fill-color);\n",
              "    }\n",
              "  }\n",
              "</style>\n",
              "\n",
              "  <script>\n",
              "    async function quickchart(key) {\n",
              "      const quickchartButtonEl =\n",
              "        document.querySelector('#' + key + ' button');\n",
              "      quickchartButtonEl.disabled = true;  // To prevent multiple clicks.\n",
              "      quickchartButtonEl.classList.add('colab-df-spinner');\n",
              "      try {\n",
              "        const charts = await google.colab.kernel.invokeFunction(\n",
              "            'suggestCharts', [key], {});\n",
              "      } catch (error) {\n",
              "        console.error('Error during call to suggestCharts:', error);\n",
              "      }\n",
              "      quickchartButtonEl.classList.remove('colab-df-spinner');\n",
              "      quickchartButtonEl.classList.add('colab-df-quickchart-complete');\n",
              "    }\n",
              "    (() => {\n",
              "      let quickchartButtonEl =\n",
              "        document.querySelector('#df-918c9769-a3ae-4a5d-a11f-642ae36d6850 button');\n",
              "      quickchartButtonEl.style.display =\n",
              "        google.colab.kernel.accessAllowed ? 'block' : 'none';\n",
              "    })();\n",
              "  </script>\n",
              "</div>\n",
              "    </div>\n",
              "  </div>\n"
            ],
            "application/vnd.google.colaboratory.intrinsic+json": {
              "type": "dataframe",
              "variable_name": "df"
            }
          },
          "metadata": {},
          "execution_count": 4
        }
      ]
    },
    {
      "cell_type": "markdown",
      "source": [
        "#### Remove All the single Valued Columns"
      ],
      "metadata": {
        "id": "iqCi84dND4or"
      }
    },
    {
      "cell_type": "markdown",
      "source": [
        "Some of the other columns only contain a single value. Also need to remove them because they do not affect"
      ],
      "metadata": {
        "id": "NRF9k1KYCZZ3"
      }
    },
    {
      "cell_type": "code",
      "source": [
        "df['Count'].unique() #=> returns a unique list of values in the 'Count' column"
      ],
      "metadata": {
        "colab": {
          "base_uri": "https://localhost:8080/"
        },
        "id": "m0PTRQnVCge8",
        "outputId": "b09173b4-9bbe-4ed9-af33-8305a4d97572"
      },
      "execution_count": 5,
      "outputs": [
        {
          "output_type": "execute_result",
          "data": {
            "text/plain": [
              "array([1])"
            ]
          },
          "metadata": {},
          "execution_count": 5
        }
      ]
    },
    {
      "cell_type": "code",
      "source": [
        "df['Country'].unique() #=> returns a unique list of values in the 'Country' column"
      ],
      "metadata": {
        "colab": {
          "base_uri": "https://localhost:8080/"
        },
        "id": "nNwqcZCCC0R9",
        "outputId": "1b20cb41-5691-4138-e866-8d21e2094374"
      },
      "execution_count": 6,
      "outputs": [
        {
          "output_type": "execute_result",
          "data": {
            "text/plain": [
              "array(['United States'], dtype=object)"
            ]
          },
          "metadata": {},
          "execution_count": 6
        }
      ]
    },
    {
      "cell_type": "code",
      "source": [
        "df['State'].unique() #=> returns a unique list of values in the 'State' column"
      ],
      "metadata": {
        "colab": {
          "base_uri": "https://localhost:8080/"
        },
        "id": "CqPnxxUbC4U3",
        "outputId": "6c2facd5-9cb4-4c64-e838-669e0b2a7115"
      },
      "execution_count": 7,
      "outputs": [
        {
          "output_type": "execute_result",
          "data": {
            "text/plain": [
              "array(['California'], dtype=object)"
            ]
          },
          "metadata": {},
          "execution_count": 7
        }
      ]
    },
    {
      "cell_type": "code",
      "source": [
        "df['City'].unique() #=> returns a unique list of values in the 'State' column"
      ],
      "metadata": {
        "colab": {
          "base_uri": "https://localhost:8080/"
        },
        "id": "CukFFUkkC-vU",
        "outputId": "b07e0563-98ee-47e7-857b-d0804c07fea7"
      },
      "execution_count": 8,
      "outputs": [
        {
          "output_type": "execute_result",
          "data": {
            "text/plain": [
              "array(['Los Angeles', 'Beverly Hills', 'Huntington Park', ..., 'Standish',\n",
              "       'Tulelake', 'Olympic Valley'], dtype=object)"
            ]
          },
          "metadata": {},
          "execution_count": 8
        }
      ]
    },
    {
      "cell_type": "markdown",
      "source": [
        "To Identify the  single valued Columns list"
      ],
      "metadata": {
        "id": "Ss9E6QEHEIxL"
      }
    },
    {
      "cell_type": "code",
      "source": [
        "# Get the column list\n",
        "column_list = df.columns.tolist()\n",
        "\n",
        "# Store the column names to be removed\n",
        "remove_column_list = []\n",
        "\n",
        "# Loop through each item and check they are single valued\n",
        "for column_name in column_list:\n",
        "  temp_list = df[column_name].unique()\n",
        "  if(len(temp_list)<2):\n",
        "    remove_column_list.append(column_name)\n",
        "\n",
        "print(remove_column_list)\n",
        ""
      ],
      "metadata": {
        "colab": {
          "base_uri": "https://localhost:8080/"
        },
        "id": "hNcob9QoDEdO",
        "outputId": "344ac2d4-87de-45c1-dfc6-2de7eb382a40"
      },
      "execution_count": 9,
      "outputs": [
        {
          "output_type": "stream",
          "name": "stdout",
          "text": [
            "['Count', 'Country', 'State']\n"
          ]
        }
      ]
    },
    {
      "cell_type": "markdown",
      "source": [
        "Since they are irrelevent Drop them."
      ],
      "metadata": {
        "id": "ZnBLEm4YFxfM"
      }
    },
    {
      "cell_type": "code",
      "source": [
        "df.drop(remove_column_list , axis = 1 , inplace=True)\n",
        "# axis = 1 to remove columns and axis = 0  for remove rows\n",
        "# inplace = True => apply the changes to the original file\n",
        "# inplace = False =>  return a copy\n",
        "df.head(5)"
      ],
      "metadata": {
        "colab": {
          "base_uri": "https://localhost:8080/",
          "height": 340
        },
        "id": "tJ9-iKXTF6An",
        "outputId": "1ef1c683-fff5-41a4-ccc8-e63b092b7629"
      },
      "execution_count": 10,
      "outputs": [
        {
          "output_type": "execute_result",
          "data": {
            "text/plain": [
              "   CustomerID         City  Zip Code                Lat Long   Latitude  \\\n",
              "0  3668-QPYBK  Los Angeles     90003  33.964131, -118.272783  33.964131   \n",
              "1  9237-HQITU  Los Angeles     90005   34.059281, -118.30742  34.059281   \n",
              "2  9305-CDSKC  Los Angeles     90006  34.048013, -118.293953  34.048013   \n",
              "3  7892-POOKP  Los Angeles     90010  34.062125, -118.315709  34.062125   \n",
              "4  0280-XJGEX  Los Angeles     90015  34.039224, -118.266293  34.039224   \n",
              "\n",
              "    Longitude  Gender Senior Citizen Partner Dependents  ...  \\\n",
              "0 -118.272783    Male             No      No         No  ...   \n",
              "1 -118.307420  Female             No      No        Yes  ...   \n",
              "2 -118.293953  Female             No      No        Yes  ...   \n",
              "3 -118.315709  Female             No     Yes        Yes  ...   \n",
              "4 -118.266293    Male             No      No        Yes  ...   \n",
              "\n",
              "   Device Protection Tech Support Streaming TV Streaming Movies  \\\n",
              "0                 No           No           No               No   \n",
              "1                 No           No           No               No   \n",
              "2                Yes           No          Yes              Yes   \n",
              "3                Yes          Yes          Yes              Yes   \n",
              "4                Yes           No          Yes              Yes   \n",
              "\n",
              "         Contract Paperless Billing             Payment Method  \\\n",
              "0  Month-to-month               Yes               Mailed check   \n",
              "1  Month-to-month               Yes           Electronic check   \n",
              "2  Month-to-month               Yes           Electronic check   \n",
              "3  Month-to-month               Yes           Electronic check   \n",
              "4  Month-to-month               Yes  Bank transfer (automatic)   \n",
              "\n",
              "  Monthly Charges Total Charges Churn Value  \n",
              "0           53.85        108.15           1  \n",
              "1           70.70        151.65           1  \n",
              "2           99.65         820.5           1  \n",
              "3          104.80       3046.05           1  \n",
              "4          103.70        5036.3           1  \n",
              "\n",
              "[5 rows x 26 columns]"
            ],
            "text/html": [
              "\n",
              "  <div id=\"df-3f919516-7f2d-4179-9ed9-4e0a2229fa89\" class=\"colab-df-container\">\n",
              "    <div>\n",
              "<style scoped>\n",
              "    .dataframe tbody tr th:only-of-type {\n",
              "        vertical-align: middle;\n",
              "    }\n",
              "\n",
              "    .dataframe tbody tr th {\n",
              "        vertical-align: top;\n",
              "    }\n",
              "\n",
              "    .dataframe thead th {\n",
              "        text-align: right;\n",
              "    }\n",
              "</style>\n",
              "<table border=\"1\" class=\"dataframe\">\n",
              "  <thead>\n",
              "    <tr style=\"text-align: right;\">\n",
              "      <th></th>\n",
              "      <th>CustomerID</th>\n",
              "      <th>City</th>\n",
              "      <th>Zip Code</th>\n",
              "      <th>Lat Long</th>\n",
              "      <th>Latitude</th>\n",
              "      <th>Longitude</th>\n",
              "      <th>Gender</th>\n",
              "      <th>Senior Citizen</th>\n",
              "      <th>Partner</th>\n",
              "      <th>Dependents</th>\n",
              "      <th>...</th>\n",
              "      <th>Device Protection</th>\n",
              "      <th>Tech Support</th>\n",
              "      <th>Streaming TV</th>\n",
              "      <th>Streaming Movies</th>\n",
              "      <th>Contract</th>\n",
              "      <th>Paperless Billing</th>\n",
              "      <th>Payment Method</th>\n",
              "      <th>Monthly Charges</th>\n",
              "      <th>Total Charges</th>\n",
              "      <th>Churn Value</th>\n",
              "    </tr>\n",
              "  </thead>\n",
              "  <tbody>\n",
              "    <tr>\n",
              "      <th>0</th>\n",
              "      <td>3668-QPYBK</td>\n",
              "      <td>Los Angeles</td>\n",
              "      <td>90003</td>\n",
              "      <td>33.964131, -118.272783</td>\n",
              "      <td>33.964131</td>\n",
              "      <td>-118.272783</td>\n",
              "      <td>Male</td>\n",
              "      <td>No</td>\n",
              "      <td>No</td>\n",
              "      <td>No</td>\n",
              "      <td>...</td>\n",
              "      <td>No</td>\n",
              "      <td>No</td>\n",
              "      <td>No</td>\n",
              "      <td>No</td>\n",
              "      <td>Month-to-month</td>\n",
              "      <td>Yes</td>\n",
              "      <td>Mailed check</td>\n",
              "      <td>53.85</td>\n",
              "      <td>108.15</td>\n",
              "      <td>1</td>\n",
              "    </tr>\n",
              "    <tr>\n",
              "      <th>1</th>\n",
              "      <td>9237-HQITU</td>\n",
              "      <td>Los Angeles</td>\n",
              "      <td>90005</td>\n",
              "      <td>34.059281, -118.30742</td>\n",
              "      <td>34.059281</td>\n",
              "      <td>-118.307420</td>\n",
              "      <td>Female</td>\n",
              "      <td>No</td>\n",
              "      <td>No</td>\n",
              "      <td>Yes</td>\n",
              "      <td>...</td>\n",
              "      <td>No</td>\n",
              "      <td>No</td>\n",
              "      <td>No</td>\n",
              "      <td>No</td>\n",
              "      <td>Month-to-month</td>\n",
              "      <td>Yes</td>\n",
              "      <td>Electronic check</td>\n",
              "      <td>70.70</td>\n",
              "      <td>151.65</td>\n",
              "      <td>1</td>\n",
              "    </tr>\n",
              "    <tr>\n",
              "      <th>2</th>\n",
              "      <td>9305-CDSKC</td>\n",
              "      <td>Los Angeles</td>\n",
              "      <td>90006</td>\n",
              "      <td>34.048013, -118.293953</td>\n",
              "      <td>34.048013</td>\n",
              "      <td>-118.293953</td>\n",
              "      <td>Female</td>\n",
              "      <td>No</td>\n",
              "      <td>No</td>\n",
              "      <td>Yes</td>\n",
              "      <td>...</td>\n",
              "      <td>Yes</td>\n",
              "      <td>No</td>\n",
              "      <td>Yes</td>\n",
              "      <td>Yes</td>\n",
              "      <td>Month-to-month</td>\n",
              "      <td>Yes</td>\n",
              "      <td>Electronic check</td>\n",
              "      <td>99.65</td>\n",
              "      <td>820.5</td>\n",
              "      <td>1</td>\n",
              "    </tr>\n",
              "    <tr>\n",
              "      <th>3</th>\n",
              "      <td>7892-POOKP</td>\n",
              "      <td>Los Angeles</td>\n",
              "      <td>90010</td>\n",
              "      <td>34.062125, -118.315709</td>\n",
              "      <td>34.062125</td>\n",
              "      <td>-118.315709</td>\n",
              "      <td>Female</td>\n",
              "      <td>No</td>\n",
              "      <td>Yes</td>\n",
              "      <td>Yes</td>\n",
              "      <td>...</td>\n",
              "      <td>Yes</td>\n",
              "      <td>Yes</td>\n",
              "      <td>Yes</td>\n",
              "      <td>Yes</td>\n",
              "      <td>Month-to-month</td>\n",
              "      <td>Yes</td>\n",
              "      <td>Electronic check</td>\n",
              "      <td>104.80</td>\n",
              "      <td>3046.05</td>\n",
              "      <td>1</td>\n",
              "    </tr>\n",
              "    <tr>\n",
              "      <th>4</th>\n",
              "      <td>0280-XJGEX</td>\n",
              "      <td>Los Angeles</td>\n",
              "      <td>90015</td>\n",
              "      <td>34.039224, -118.266293</td>\n",
              "      <td>34.039224</td>\n",
              "      <td>-118.266293</td>\n",
              "      <td>Male</td>\n",
              "      <td>No</td>\n",
              "      <td>No</td>\n",
              "      <td>Yes</td>\n",
              "      <td>...</td>\n",
              "      <td>Yes</td>\n",
              "      <td>No</td>\n",
              "      <td>Yes</td>\n",
              "      <td>Yes</td>\n",
              "      <td>Month-to-month</td>\n",
              "      <td>Yes</td>\n",
              "      <td>Bank transfer (automatic)</td>\n",
              "      <td>103.70</td>\n",
              "      <td>5036.3</td>\n",
              "      <td>1</td>\n",
              "    </tr>\n",
              "  </tbody>\n",
              "</table>\n",
              "<p>5 rows × 26 columns</p>\n",
              "</div>\n",
              "    <div class=\"colab-df-buttons\">\n",
              "\n",
              "  <div class=\"colab-df-container\">\n",
              "    <button class=\"colab-df-convert\" onclick=\"convertToInteractive('df-3f919516-7f2d-4179-9ed9-4e0a2229fa89')\"\n",
              "            title=\"Convert this dataframe to an interactive table.\"\n",
              "            style=\"display:none;\">\n",
              "\n",
              "  <svg xmlns=\"http://www.w3.org/2000/svg\" height=\"24px\" viewBox=\"0 -960 960 960\">\n",
              "    <path d=\"M120-120v-720h720v720H120Zm60-500h600v-160H180v160Zm220 220h160v-160H400v160Zm0 220h160v-160H400v160ZM180-400h160v-160H180v160Zm440 0h160v-160H620v160ZM180-180h160v-160H180v160Zm440 0h160v-160H620v160Z\"/>\n",
              "  </svg>\n",
              "    </button>\n",
              "\n",
              "  <style>\n",
              "    .colab-df-container {\n",
              "      display:flex;\n",
              "      gap: 12px;\n",
              "    }\n",
              "\n",
              "    .colab-df-convert {\n",
              "      background-color: #E8F0FE;\n",
              "      border: none;\n",
              "      border-radius: 50%;\n",
              "      cursor: pointer;\n",
              "      display: none;\n",
              "      fill: #1967D2;\n",
              "      height: 32px;\n",
              "      padding: 0 0 0 0;\n",
              "      width: 32px;\n",
              "    }\n",
              "\n",
              "    .colab-df-convert:hover {\n",
              "      background-color: #E2EBFA;\n",
              "      box-shadow: 0px 1px 2px rgba(60, 64, 67, 0.3), 0px 1px 3px 1px rgba(60, 64, 67, 0.15);\n",
              "      fill: #174EA6;\n",
              "    }\n",
              "\n",
              "    .colab-df-buttons div {\n",
              "      margin-bottom: 4px;\n",
              "    }\n",
              "\n",
              "    [theme=dark] .colab-df-convert {\n",
              "      background-color: #3B4455;\n",
              "      fill: #D2E3FC;\n",
              "    }\n",
              "\n",
              "    [theme=dark] .colab-df-convert:hover {\n",
              "      background-color: #434B5C;\n",
              "      box-shadow: 0px 1px 3px 1px rgba(0, 0, 0, 0.15);\n",
              "      filter: drop-shadow(0px 1px 2px rgba(0, 0, 0, 0.3));\n",
              "      fill: #FFFFFF;\n",
              "    }\n",
              "  </style>\n",
              "\n",
              "    <script>\n",
              "      const buttonEl =\n",
              "        document.querySelector('#df-3f919516-7f2d-4179-9ed9-4e0a2229fa89 button.colab-df-convert');\n",
              "      buttonEl.style.display =\n",
              "        google.colab.kernel.accessAllowed ? 'block' : 'none';\n",
              "\n",
              "      async function convertToInteractive(key) {\n",
              "        const element = document.querySelector('#df-3f919516-7f2d-4179-9ed9-4e0a2229fa89');\n",
              "        const dataTable =\n",
              "          await google.colab.kernel.invokeFunction('convertToInteractive',\n",
              "                                                    [key], {});\n",
              "        if (!dataTable) return;\n",
              "\n",
              "        const docLinkHtml = 'Like what you see? Visit the ' +\n",
              "          '<a target=\"_blank\" href=https://colab.research.google.com/notebooks/data_table.ipynb>data table notebook</a>'\n",
              "          + ' to learn more about interactive tables.';\n",
              "        element.innerHTML = '';\n",
              "        dataTable['output_type'] = 'display_data';\n",
              "        await google.colab.output.renderOutput(dataTable, element);\n",
              "        const docLink = document.createElement('div');\n",
              "        docLink.innerHTML = docLinkHtml;\n",
              "        element.appendChild(docLink);\n",
              "      }\n",
              "    </script>\n",
              "  </div>\n",
              "\n",
              "\n",
              "<div id=\"df-2c4c1697-d585-4332-b076-26426c14ad5a\">\n",
              "  <button class=\"colab-df-quickchart\" onclick=\"quickchart('df-2c4c1697-d585-4332-b076-26426c14ad5a')\"\n",
              "            title=\"Suggest charts\"\n",
              "            style=\"display:none;\">\n",
              "\n",
              "<svg xmlns=\"http://www.w3.org/2000/svg\" height=\"24px\"viewBox=\"0 0 24 24\"\n",
              "     width=\"24px\">\n",
              "    <g>\n",
              "        <path d=\"M19 3H5c-1.1 0-2 .9-2 2v14c0 1.1.9 2 2 2h14c1.1 0 2-.9 2-2V5c0-1.1-.9-2-2-2zM9 17H7v-7h2v7zm4 0h-2V7h2v10zm4 0h-2v-4h2v4z\"/>\n",
              "    </g>\n",
              "</svg>\n",
              "  </button>\n",
              "\n",
              "<style>\n",
              "  .colab-df-quickchart {\n",
              "      --bg-color: #E8F0FE;\n",
              "      --fill-color: #1967D2;\n",
              "      --hover-bg-color: #E2EBFA;\n",
              "      --hover-fill-color: #174EA6;\n",
              "      --disabled-fill-color: #AAA;\n",
              "      --disabled-bg-color: #DDD;\n",
              "  }\n",
              "\n",
              "  [theme=dark] .colab-df-quickchart {\n",
              "      --bg-color: #3B4455;\n",
              "      --fill-color: #D2E3FC;\n",
              "      --hover-bg-color: #434B5C;\n",
              "      --hover-fill-color: #FFFFFF;\n",
              "      --disabled-bg-color: #3B4455;\n",
              "      --disabled-fill-color: #666;\n",
              "  }\n",
              "\n",
              "  .colab-df-quickchart {\n",
              "    background-color: var(--bg-color);\n",
              "    border: none;\n",
              "    border-radius: 50%;\n",
              "    cursor: pointer;\n",
              "    display: none;\n",
              "    fill: var(--fill-color);\n",
              "    height: 32px;\n",
              "    padding: 0;\n",
              "    width: 32px;\n",
              "  }\n",
              "\n",
              "  .colab-df-quickchart:hover {\n",
              "    background-color: var(--hover-bg-color);\n",
              "    box-shadow: 0 1px 2px rgba(60, 64, 67, 0.3), 0 1px 3px 1px rgba(60, 64, 67, 0.15);\n",
              "    fill: var(--button-hover-fill-color);\n",
              "  }\n",
              "\n",
              "  .colab-df-quickchart-complete:disabled,\n",
              "  .colab-df-quickchart-complete:disabled:hover {\n",
              "    background-color: var(--disabled-bg-color);\n",
              "    fill: var(--disabled-fill-color);\n",
              "    box-shadow: none;\n",
              "  }\n",
              "\n",
              "  .colab-df-spinner {\n",
              "    border: 2px solid var(--fill-color);\n",
              "    border-color: transparent;\n",
              "    border-bottom-color: var(--fill-color);\n",
              "    animation:\n",
              "      spin 1s steps(1) infinite;\n",
              "  }\n",
              "\n",
              "  @keyframes spin {\n",
              "    0% {\n",
              "      border-color: transparent;\n",
              "      border-bottom-color: var(--fill-color);\n",
              "      border-left-color: var(--fill-color);\n",
              "    }\n",
              "    20% {\n",
              "      border-color: transparent;\n",
              "      border-left-color: var(--fill-color);\n",
              "      border-top-color: var(--fill-color);\n",
              "    }\n",
              "    30% {\n",
              "      border-color: transparent;\n",
              "      border-left-color: var(--fill-color);\n",
              "      border-top-color: var(--fill-color);\n",
              "      border-right-color: var(--fill-color);\n",
              "    }\n",
              "    40% {\n",
              "      border-color: transparent;\n",
              "      border-right-color: var(--fill-color);\n",
              "      border-top-color: var(--fill-color);\n",
              "    }\n",
              "    60% {\n",
              "      border-color: transparent;\n",
              "      border-right-color: var(--fill-color);\n",
              "    }\n",
              "    80% {\n",
              "      border-color: transparent;\n",
              "      border-right-color: var(--fill-color);\n",
              "      border-bottom-color: var(--fill-color);\n",
              "    }\n",
              "    90% {\n",
              "      border-color: transparent;\n",
              "      border-bottom-color: var(--fill-color);\n",
              "    }\n",
              "  }\n",
              "</style>\n",
              "\n",
              "  <script>\n",
              "    async function quickchart(key) {\n",
              "      const quickchartButtonEl =\n",
              "        document.querySelector('#' + key + ' button');\n",
              "      quickchartButtonEl.disabled = true;  // To prevent multiple clicks.\n",
              "      quickchartButtonEl.classList.add('colab-df-spinner');\n",
              "      try {\n",
              "        const charts = await google.colab.kernel.invokeFunction(\n",
              "            'suggestCharts', [key], {});\n",
              "      } catch (error) {\n",
              "        console.error('Error during call to suggestCharts:', error);\n",
              "      }\n",
              "      quickchartButtonEl.classList.remove('colab-df-spinner');\n",
              "      quickchartButtonEl.classList.add('colab-df-quickchart-complete');\n",
              "    }\n",
              "    (() => {\n",
              "      let quickchartButtonEl =\n",
              "        document.querySelector('#df-2c4c1697-d585-4332-b076-26426c14ad5a button');\n",
              "      quickchartButtonEl.style.display =\n",
              "        google.colab.kernel.accessAllowed ? 'block' : 'none';\n",
              "    })();\n",
              "  </script>\n",
              "</div>\n",
              "    </div>\n",
              "  </div>\n"
            ],
            "application/vnd.google.colaboratory.intrinsic+json": {
              "type": "dataframe",
              "variable_name": "df"
            }
          },
          "metadata": {},
          "execution_count": 10
        }
      ]
    },
    {
      "cell_type": "markdown",
      "source": [
        "Also note that `CustomerID\t` is unique for each row."
      ],
      "metadata": {
        "id": "dxBzY00TGMGM"
      }
    },
    {
      "cell_type": "code",
      "source": [
        "# Get the column list\n",
        "column_list = df.columns.tolist()\n",
        "\n",
        "# Store the column names to be removed\n",
        "remove_column_list = []\n",
        "\n",
        "# Loop through each item and check they are single valued\n",
        "for column_name in column_list:\n",
        "  print(column_name ,len(df[column_name].unique()))"
      ],
      "metadata": {
        "colab": {
          "base_uri": "https://localhost:8080/"
        },
        "id": "RkJrx96WGYjo",
        "outputId": "30d86321-25b0-489f-b1b1-02180e30c00e"
      },
      "execution_count": 11,
      "outputs": [
        {
          "output_type": "stream",
          "name": "stdout",
          "text": [
            "CustomerID 7043\n",
            "City 1129\n",
            "Zip Code 1652\n",
            "Lat Long 1652\n",
            "Latitude 1652\n",
            "Longitude 1651\n",
            "Gender 2\n",
            "Senior Citizen 2\n",
            "Partner 2\n",
            "Dependents 2\n",
            "Tenure Months 73\n",
            "Phone Service 2\n",
            "Multiple Lines 3\n",
            "Internet Service 3\n",
            "Online Security 3\n",
            "Online Backup 3\n",
            "Device Protection 3\n",
            "Tech Support 3\n",
            "Streaming TV 3\n",
            "Streaming Movies 3\n",
            "Contract 3\n",
            "Paperless Billing 2\n",
            "Payment Method 4\n",
            "Monthly Charges 1585\n",
            "Total Charges 6531\n",
            "Churn Value 2\n"
          ]
        }
      ]
    },
    {
      "cell_type": "markdown",
      "source": [
        "We can remove the `Customer ID` and `Lat Long`"
      ],
      "metadata": {
        "id": "LAxWD-HvGusK"
      }
    },
    {
      "cell_type": "code",
      "source": [
        "df.drop(['CustomerID','Lat Long'],axis=1 , inplace=True)\n",
        "df.head(5)"
      ],
      "metadata": {
        "colab": {
          "base_uri": "https://localhost:8080/",
          "height": 340
        },
        "id": "3rzC2gKEG8wI",
        "outputId": "3ff4ed58-5d97-404b-d2a6-418eb370930b"
      },
      "execution_count": 12,
      "outputs": [
        {
          "output_type": "execute_result",
          "data": {
            "text/plain": [
              "          City  Zip Code   Latitude   Longitude  Gender Senior Citizen  \\\n",
              "0  Los Angeles     90003  33.964131 -118.272783    Male             No   \n",
              "1  Los Angeles     90005  34.059281 -118.307420  Female             No   \n",
              "2  Los Angeles     90006  34.048013 -118.293953  Female             No   \n",
              "3  Los Angeles     90010  34.062125 -118.315709  Female             No   \n",
              "4  Los Angeles     90015  34.039224 -118.266293    Male             No   \n",
              "\n",
              "  Partner Dependents  Tenure Months Phone Service  ... Device Protection  \\\n",
              "0      No         No              2           Yes  ...                No   \n",
              "1      No        Yes              2           Yes  ...                No   \n",
              "2      No        Yes              8           Yes  ...               Yes   \n",
              "3     Yes        Yes             28           Yes  ...               Yes   \n",
              "4      No        Yes             49           Yes  ...               Yes   \n",
              "\n",
              "  Tech Support Streaming TV Streaming Movies        Contract  \\\n",
              "0           No           No               No  Month-to-month   \n",
              "1           No           No               No  Month-to-month   \n",
              "2           No          Yes              Yes  Month-to-month   \n",
              "3          Yes          Yes              Yes  Month-to-month   \n",
              "4           No          Yes              Yes  Month-to-month   \n",
              "\n",
              "  Paperless Billing             Payment Method Monthly Charges Total Charges  \\\n",
              "0               Yes               Mailed check           53.85        108.15   \n",
              "1               Yes           Electronic check           70.70        151.65   \n",
              "2               Yes           Electronic check           99.65         820.5   \n",
              "3               Yes           Electronic check          104.80       3046.05   \n",
              "4               Yes  Bank transfer (automatic)          103.70        5036.3   \n",
              "\n",
              "  Churn Value  \n",
              "0           1  \n",
              "1           1  \n",
              "2           1  \n",
              "3           1  \n",
              "4           1  \n",
              "\n",
              "[5 rows x 24 columns]"
            ],
            "text/html": [
              "\n",
              "  <div id=\"df-185e77ed-872a-48cd-8dbe-4f548e47e523\" class=\"colab-df-container\">\n",
              "    <div>\n",
              "<style scoped>\n",
              "    .dataframe tbody tr th:only-of-type {\n",
              "        vertical-align: middle;\n",
              "    }\n",
              "\n",
              "    .dataframe tbody tr th {\n",
              "        vertical-align: top;\n",
              "    }\n",
              "\n",
              "    .dataframe thead th {\n",
              "        text-align: right;\n",
              "    }\n",
              "</style>\n",
              "<table border=\"1\" class=\"dataframe\">\n",
              "  <thead>\n",
              "    <tr style=\"text-align: right;\">\n",
              "      <th></th>\n",
              "      <th>City</th>\n",
              "      <th>Zip Code</th>\n",
              "      <th>Latitude</th>\n",
              "      <th>Longitude</th>\n",
              "      <th>Gender</th>\n",
              "      <th>Senior Citizen</th>\n",
              "      <th>Partner</th>\n",
              "      <th>Dependents</th>\n",
              "      <th>Tenure Months</th>\n",
              "      <th>Phone Service</th>\n",
              "      <th>...</th>\n",
              "      <th>Device Protection</th>\n",
              "      <th>Tech Support</th>\n",
              "      <th>Streaming TV</th>\n",
              "      <th>Streaming Movies</th>\n",
              "      <th>Contract</th>\n",
              "      <th>Paperless Billing</th>\n",
              "      <th>Payment Method</th>\n",
              "      <th>Monthly Charges</th>\n",
              "      <th>Total Charges</th>\n",
              "      <th>Churn Value</th>\n",
              "    </tr>\n",
              "  </thead>\n",
              "  <tbody>\n",
              "    <tr>\n",
              "      <th>0</th>\n",
              "      <td>Los Angeles</td>\n",
              "      <td>90003</td>\n",
              "      <td>33.964131</td>\n",
              "      <td>-118.272783</td>\n",
              "      <td>Male</td>\n",
              "      <td>No</td>\n",
              "      <td>No</td>\n",
              "      <td>No</td>\n",
              "      <td>2</td>\n",
              "      <td>Yes</td>\n",
              "      <td>...</td>\n",
              "      <td>No</td>\n",
              "      <td>No</td>\n",
              "      <td>No</td>\n",
              "      <td>No</td>\n",
              "      <td>Month-to-month</td>\n",
              "      <td>Yes</td>\n",
              "      <td>Mailed check</td>\n",
              "      <td>53.85</td>\n",
              "      <td>108.15</td>\n",
              "      <td>1</td>\n",
              "    </tr>\n",
              "    <tr>\n",
              "      <th>1</th>\n",
              "      <td>Los Angeles</td>\n",
              "      <td>90005</td>\n",
              "      <td>34.059281</td>\n",
              "      <td>-118.307420</td>\n",
              "      <td>Female</td>\n",
              "      <td>No</td>\n",
              "      <td>No</td>\n",
              "      <td>Yes</td>\n",
              "      <td>2</td>\n",
              "      <td>Yes</td>\n",
              "      <td>...</td>\n",
              "      <td>No</td>\n",
              "      <td>No</td>\n",
              "      <td>No</td>\n",
              "      <td>No</td>\n",
              "      <td>Month-to-month</td>\n",
              "      <td>Yes</td>\n",
              "      <td>Electronic check</td>\n",
              "      <td>70.70</td>\n",
              "      <td>151.65</td>\n",
              "      <td>1</td>\n",
              "    </tr>\n",
              "    <tr>\n",
              "      <th>2</th>\n",
              "      <td>Los Angeles</td>\n",
              "      <td>90006</td>\n",
              "      <td>34.048013</td>\n",
              "      <td>-118.293953</td>\n",
              "      <td>Female</td>\n",
              "      <td>No</td>\n",
              "      <td>No</td>\n",
              "      <td>Yes</td>\n",
              "      <td>8</td>\n",
              "      <td>Yes</td>\n",
              "      <td>...</td>\n",
              "      <td>Yes</td>\n",
              "      <td>No</td>\n",
              "      <td>Yes</td>\n",
              "      <td>Yes</td>\n",
              "      <td>Month-to-month</td>\n",
              "      <td>Yes</td>\n",
              "      <td>Electronic check</td>\n",
              "      <td>99.65</td>\n",
              "      <td>820.5</td>\n",
              "      <td>1</td>\n",
              "    </tr>\n",
              "    <tr>\n",
              "      <th>3</th>\n",
              "      <td>Los Angeles</td>\n",
              "      <td>90010</td>\n",
              "      <td>34.062125</td>\n",
              "      <td>-118.315709</td>\n",
              "      <td>Female</td>\n",
              "      <td>No</td>\n",
              "      <td>Yes</td>\n",
              "      <td>Yes</td>\n",
              "      <td>28</td>\n",
              "      <td>Yes</td>\n",
              "      <td>...</td>\n",
              "      <td>Yes</td>\n",
              "      <td>Yes</td>\n",
              "      <td>Yes</td>\n",
              "      <td>Yes</td>\n",
              "      <td>Month-to-month</td>\n",
              "      <td>Yes</td>\n",
              "      <td>Electronic check</td>\n",
              "      <td>104.80</td>\n",
              "      <td>3046.05</td>\n",
              "      <td>1</td>\n",
              "    </tr>\n",
              "    <tr>\n",
              "      <th>4</th>\n",
              "      <td>Los Angeles</td>\n",
              "      <td>90015</td>\n",
              "      <td>34.039224</td>\n",
              "      <td>-118.266293</td>\n",
              "      <td>Male</td>\n",
              "      <td>No</td>\n",
              "      <td>No</td>\n",
              "      <td>Yes</td>\n",
              "      <td>49</td>\n",
              "      <td>Yes</td>\n",
              "      <td>...</td>\n",
              "      <td>Yes</td>\n",
              "      <td>No</td>\n",
              "      <td>Yes</td>\n",
              "      <td>Yes</td>\n",
              "      <td>Month-to-month</td>\n",
              "      <td>Yes</td>\n",
              "      <td>Bank transfer (automatic)</td>\n",
              "      <td>103.70</td>\n",
              "      <td>5036.3</td>\n",
              "      <td>1</td>\n",
              "    </tr>\n",
              "  </tbody>\n",
              "</table>\n",
              "<p>5 rows × 24 columns</p>\n",
              "</div>\n",
              "    <div class=\"colab-df-buttons\">\n",
              "\n",
              "  <div class=\"colab-df-container\">\n",
              "    <button class=\"colab-df-convert\" onclick=\"convertToInteractive('df-185e77ed-872a-48cd-8dbe-4f548e47e523')\"\n",
              "            title=\"Convert this dataframe to an interactive table.\"\n",
              "            style=\"display:none;\">\n",
              "\n",
              "  <svg xmlns=\"http://www.w3.org/2000/svg\" height=\"24px\" viewBox=\"0 -960 960 960\">\n",
              "    <path d=\"M120-120v-720h720v720H120Zm60-500h600v-160H180v160Zm220 220h160v-160H400v160Zm0 220h160v-160H400v160ZM180-400h160v-160H180v160Zm440 0h160v-160H620v160ZM180-180h160v-160H180v160Zm440 0h160v-160H620v160Z\"/>\n",
              "  </svg>\n",
              "    </button>\n",
              "\n",
              "  <style>\n",
              "    .colab-df-container {\n",
              "      display:flex;\n",
              "      gap: 12px;\n",
              "    }\n",
              "\n",
              "    .colab-df-convert {\n",
              "      background-color: #E8F0FE;\n",
              "      border: none;\n",
              "      border-radius: 50%;\n",
              "      cursor: pointer;\n",
              "      display: none;\n",
              "      fill: #1967D2;\n",
              "      height: 32px;\n",
              "      padding: 0 0 0 0;\n",
              "      width: 32px;\n",
              "    }\n",
              "\n",
              "    .colab-df-convert:hover {\n",
              "      background-color: #E2EBFA;\n",
              "      box-shadow: 0px 1px 2px rgba(60, 64, 67, 0.3), 0px 1px 3px 1px rgba(60, 64, 67, 0.15);\n",
              "      fill: #174EA6;\n",
              "    }\n",
              "\n",
              "    .colab-df-buttons div {\n",
              "      margin-bottom: 4px;\n",
              "    }\n",
              "\n",
              "    [theme=dark] .colab-df-convert {\n",
              "      background-color: #3B4455;\n",
              "      fill: #D2E3FC;\n",
              "    }\n",
              "\n",
              "    [theme=dark] .colab-df-convert:hover {\n",
              "      background-color: #434B5C;\n",
              "      box-shadow: 0px 1px 3px 1px rgba(0, 0, 0, 0.15);\n",
              "      filter: drop-shadow(0px 1px 2px rgba(0, 0, 0, 0.3));\n",
              "      fill: #FFFFFF;\n",
              "    }\n",
              "  </style>\n",
              "\n",
              "    <script>\n",
              "      const buttonEl =\n",
              "        document.querySelector('#df-185e77ed-872a-48cd-8dbe-4f548e47e523 button.colab-df-convert');\n",
              "      buttonEl.style.display =\n",
              "        google.colab.kernel.accessAllowed ? 'block' : 'none';\n",
              "\n",
              "      async function convertToInteractive(key) {\n",
              "        const element = document.querySelector('#df-185e77ed-872a-48cd-8dbe-4f548e47e523');\n",
              "        const dataTable =\n",
              "          await google.colab.kernel.invokeFunction('convertToInteractive',\n",
              "                                                    [key], {});\n",
              "        if (!dataTable) return;\n",
              "\n",
              "        const docLinkHtml = 'Like what you see? Visit the ' +\n",
              "          '<a target=\"_blank\" href=https://colab.research.google.com/notebooks/data_table.ipynb>data table notebook</a>'\n",
              "          + ' to learn more about interactive tables.';\n",
              "        element.innerHTML = '';\n",
              "        dataTable['output_type'] = 'display_data';\n",
              "        await google.colab.output.renderOutput(dataTable, element);\n",
              "        const docLink = document.createElement('div');\n",
              "        docLink.innerHTML = docLinkHtml;\n",
              "        element.appendChild(docLink);\n",
              "      }\n",
              "    </script>\n",
              "  </div>\n",
              "\n",
              "\n",
              "<div id=\"df-a38f9aeb-215e-43e1-99aa-d89aee0f7792\">\n",
              "  <button class=\"colab-df-quickchart\" onclick=\"quickchart('df-a38f9aeb-215e-43e1-99aa-d89aee0f7792')\"\n",
              "            title=\"Suggest charts\"\n",
              "            style=\"display:none;\">\n",
              "\n",
              "<svg xmlns=\"http://www.w3.org/2000/svg\" height=\"24px\"viewBox=\"0 0 24 24\"\n",
              "     width=\"24px\">\n",
              "    <g>\n",
              "        <path d=\"M19 3H5c-1.1 0-2 .9-2 2v14c0 1.1.9 2 2 2h14c1.1 0 2-.9 2-2V5c0-1.1-.9-2-2-2zM9 17H7v-7h2v7zm4 0h-2V7h2v10zm4 0h-2v-4h2v4z\"/>\n",
              "    </g>\n",
              "</svg>\n",
              "  </button>\n",
              "\n",
              "<style>\n",
              "  .colab-df-quickchart {\n",
              "      --bg-color: #E8F0FE;\n",
              "      --fill-color: #1967D2;\n",
              "      --hover-bg-color: #E2EBFA;\n",
              "      --hover-fill-color: #174EA6;\n",
              "      --disabled-fill-color: #AAA;\n",
              "      --disabled-bg-color: #DDD;\n",
              "  }\n",
              "\n",
              "  [theme=dark] .colab-df-quickchart {\n",
              "      --bg-color: #3B4455;\n",
              "      --fill-color: #D2E3FC;\n",
              "      --hover-bg-color: #434B5C;\n",
              "      --hover-fill-color: #FFFFFF;\n",
              "      --disabled-bg-color: #3B4455;\n",
              "      --disabled-fill-color: #666;\n",
              "  }\n",
              "\n",
              "  .colab-df-quickchart {\n",
              "    background-color: var(--bg-color);\n",
              "    border: none;\n",
              "    border-radius: 50%;\n",
              "    cursor: pointer;\n",
              "    display: none;\n",
              "    fill: var(--fill-color);\n",
              "    height: 32px;\n",
              "    padding: 0;\n",
              "    width: 32px;\n",
              "  }\n",
              "\n",
              "  .colab-df-quickchart:hover {\n",
              "    background-color: var(--hover-bg-color);\n",
              "    box-shadow: 0 1px 2px rgba(60, 64, 67, 0.3), 0 1px 3px 1px rgba(60, 64, 67, 0.15);\n",
              "    fill: var(--button-hover-fill-color);\n",
              "  }\n",
              "\n",
              "  .colab-df-quickchart-complete:disabled,\n",
              "  .colab-df-quickchart-complete:disabled:hover {\n",
              "    background-color: var(--disabled-bg-color);\n",
              "    fill: var(--disabled-fill-color);\n",
              "    box-shadow: none;\n",
              "  }\n",
              "\n",
              "  .colab-df-spinner {\n",
              "    border: 2px solid var(--fill-color);\n",
              "    border-color: transparent;\n",
              "    border-bottom-color: var(--fill-color);\n",
              "    animation:\n",
              "      spin 1s steps(1) infinite;\n",
              "  }\n",
              "\n",
              "  @keyframes spin {\n",
              "    0% {\n",
              "      border-color: transparent;\n",
              "      border-bottom-color: var(--fill-color);\n",
              "      border-left-color: var(--fill-color);\n",
              "    }\n",
              "    20% {\n",
              "      border-color: transparent;\n",
              "      border-left-color: var(--fill-color);\n",
              "      border-top-color: var(--fill-color);\n",
              "    }\n",
              "    30% {\n",
              "      border-color: transparent;\n",
              "      border-left-color: var(--fill-color);\n",
              "      border-top-color: var(--fill-color);\n",
              "      border-right-color: var(--fill-color);\n",
              "    }\n",
              "    40% {\n",
              "      border-color: transparent;\n",
              "      border-right-color: var(--fill-color);\n",
              "      border-top-color: var(--fill-color);\n",
              "    }\n",
              "    60% {\n",
              "      border-color: transparent;\n",
              "      border-right-color: var(--fill-color);\n",
              "    }\n",
              "    80% {\n",
              "      border-color: transparent;\n",
              "      border-right-color: var(--fill-color);\n",
              "      border-bottom-color: var(--fill-color);\n",
              "    }\n",
              "    90% {\n",
              "      border-color: transparent;\n",
              "      border-bottom-color: var(--fill-color);\n",
              "    }\n",
              "  }\n",
              "</style>\n",
              "\n",
              "  <script>\n",
              "    async function quickchart(key) {\n",
              "      const quickchartButtonEl =\n",
              "        document.querySelector('#' + key + ' button');\n",
              "      quickchartButtonEl.disabled = true;  // To prevent multiple clicks.\n",
              "      quickchartButtonEl.classList.add('colab-df-spinner');\n",
              "      try {\n",
              "        const charts = await google.colab.kernel.invokeFunction(\n",
              "            'suggestCharts', [key], {});\n",
              "      } catch (error) {\n",
              "        console.error('Error during call to suggestCharts:', error);\n",
              "      }\n",
              "      quickchartButtonEl.classList.remove('colab-df-spinner');\n",
              "      quickchartButtonEl.classList.add('colab-df-quickchart-complete');\n",
              "    }\n",
              "    (() => {\n",
              "      let quickchartButtonEl =\n",
              "        document.querySelector('#df-a38f9aeb-215e-43e1-99aa-d89aee0f7792 button');\n",
              "      quickchartButtonEl.style.display =\n",
              "        google.colab.kernel.accessAllowed ? 'block' : 'none';\n",
              "    })();\n",
              "  </script>\n",
              "</div>\n",
              "    </div>\n",
              "  </div>\n"
            ],
            "application/vnd.google.colaboratory.intrinsic+json": {
              "type": "dataframe",
              "variable_name": "df"
            }
          },
          "metadata": {},
          "execution_count": 12
        }
      ]
    },
    {
      "cell_type": "markdown",
      "source": [
        "We need to remove the white spaces"
      ],
      "metadata": {
        "id": "JpUBY4J2Oruw"
      }
    },
    {
      "cell_type": "code",
      "source": [
        "df['City'].replace(' ','_',regex = True , inplace = True)\n",
        "df.head(5)"
      ],
      "metadata": {
        "colab": {
          "base_uri": "https://localhost:8080/",
          "height": 340
        },
        "id": "Fbfo7ZkVO_DW",
        "outputId": "72018173-bf54-4ac5-9f71-18557f912825"
      },
      "execution_count": 13,
      "outputs": [
        {
          "output_type": "execute_result",
          "data": {
            "text/plain": [
              "          City  Zip Code   Latitude   Longitude  Gender Senior Citizen  \\\n",
              "0  Los_Angeles     90003  33.964131 -118.272783    Male             No   \n",
              "1  Los_Angeles     90005  34.059281 -118.307420  Female             No   \n",
              "2  Los_Angeles     90006  34.048013 -118.293953  Female             No   \n",
              "3  Los_Angeles     90010  34.062125 -118.315709  Female             No   \n",
              "4  Los_Angeles     90015  34.039224 -118.266293    Male             No   \n",
              "\n",
              "  Partner Dependents  Tenure Months Phone Service  ... Device Protection  \\\n",
              "0      No         No              2           Yes  ...                No   \n",
              "1      No        Yes              2           Yes  ...                No   \n",
              "2      No        Yes              8           Yes  ...               Yes   \n",
              "3     Yes        Yes             28           Yes  ...               Yes   \n",
              "4      No        Yes             49           Yes  ...               Yes   \n",
              "\n",
              "  Tech Support Streaming TV Streaming Movies        Contract  \\\n",
              "0           No           No               No  Month-to-month   \n",
              "1           No           No               No  Month-to-month   \n",
              "2           No          Yes              Yes  Month-to-month   \n",
              "3          Yes          Yes              Yes  Month-to-month   \n",
              "4           No          Yes              Yes  Month-to-month   \n",
              "\n",
              "  Paperless Billing             Payment Method Monthly Charges Total Charges  \\\n",
              "0               Yes               Mailed check           53.85        108.15   \n",
              "1               Yes           Electronic check           70.70        151.65   \n",
              "2               Yes           Electronic check           99.65         820.5   \n",
              "3               Yes           Electronic check          104.80       3046.05   \n",
              "4               Yes  Bank transfer (automatic)          103.70        5036.3   \n",
              "\n",
              "  Churn Value  \n",
              "0           1  \n",
              "1           1  \n",
              "2           1  \n",
              "3           1  \n",
              "4           1  \n",
              "\n",
              "[5 rows x 24 columns]"
            ],
            "text/html": [
              "\n",
              "  <div id=\"df-3fe901b3-68ed-4ae4-9dd9-3599c3eb0dbd\" class=\"colab-df-container\">\n",
              "    <div>\n",
              "<style scoped>\n",
              "    .dataframe tbody tr th:only-of-type {\n",
              "        vertical-align: middle;\n",
              "    }\n",
              "\n",
              "    .dataframe tbody tr th {\n",
              "        vertical-align: top;\n",
              "    }\n",
              "\n",
              "    .dataframe thead th {\n",
              "        text-align: right;\n",
              "    }\n",
              "</style>\n",
              "<table border=\"1\" class=\"dataframe\">\n",
              "  <thead>\n",
              "    <tr style=\"text-align: right;\">\n",
              "      <th></th>\n",
              "      <th>City</th>\n",
              "      <th>Zip Code</th>\n",
              "      <th>Latitude</th>\n",
              "      <th>Longitude</th>\n",
              "      <th>Gender</th>\n",
              "      <th>Senior Citizen</th>\n",
              "      <th>Partner</th>\n",
              "      <th>Dependents</th>\n",
              "      <th>Tenure Months</th>\n",
              "      <th>Phone Service</th>\n",
              "      <th>...</th>\n",
              "      <th>Device Protection</th>\n",
              "      <th>Tech Support</th>\n",
              "      <th>Streaming TV</th>\n",
              "      <th>Streaming Movies</th>\n",
              "      <th>Contract</th>\n",
              "      <th>Paperless Billing</th>\n",
              "      <th>Payment Method</th>\n",
              "      <th>Monthly Charges</th>\n",
              "      <th>Total Charges</th>\n",
              "      <th>Churn Value</th>\n",
              "    </tr>\n",
              "  </thead>\n",
              "  <tbody>\n",
              "    <tr>\n",
              "      <th>0</th>\n",
              "      <td>Los_Angeles</td>\n",
              "      <td>90003</td>\n",
              "      <td>33.964131</td>\n",
              "      <td>-118.272783</td>\n",
              "      <td>Male</td>\n",
              "      <td>No</td>\n",
              "      <td>No</td>\n",
              "      <td>No</td>\n",
              "      <td>2</td>\n",
              "      <td>Yes</td>\n",
              "      <td>...</td>\n",
              "      <td>No</td>\n",
              "      <td>No</td>\n",
              "      <td>No</td>\n",
              "      <td>No</td>\n",
              "      <td>Month-to-month</td>\n",
              "      <td>Yes</td>\n",
              "      <td>Mailed check</td>\n",
              "      <td>53.85</td>\n",
              "      <td>108.15</td>\n",
              "      <td>1</td>\n",
              "    </tr>\n",
              "    <tr>\n",
              "      <th>1</th>\n",
              "      <td>Los_Angeles</td>\n",
              "      <td>90005</td>\n",
              "      <td>34.059281</td>\n",
              "      <td>-118.307420</td>\n",
              "      <td>Female</td>\n",
              "      <td>No</td>\n",
              "      <td>No</td>\n",
              "      <td>Yes</td>\n",
              "      <td>2</td>\n",
              "      <td>Yes</td>\n",
              "      <td>...</td>\n",
              "      <td>No</td>\n",
              "      <td>No</td>\n",
              "      <td>No</td>\n",
              "      <td>No</td>\n",
              "      <td>Month-to-month</td>\n",
              "      <td>Yes</td>\n",
              "      <td>Electronic check</td>\n",
              "      <td>70.70</td>\n",
              "      <td>151.65</td>\n",
              "      <td>1</td>\n",
              "    </tr>\n",
              "    <tr>\n",
              "      <th>2</th>\n",
              "      <td>Los_Angeles</td>\n",
              "      <td>90006</td>\n",
              "      <td>34.048013</td>\n",
              "      <td>-118.293953</td>\n",
              "      <td>Female</td>\n",
              "      <td>No</td>\n",
              "      <td>No</td>\n",
              "      <td>Yes</td>\n",
              "      <td>8</td>\n",
              "      <td>Yes</td>\n",
              "      <td>...</td>\n",
              "      <td>Yes</td>\n",
              "      <td>No</td>\n",
              "      <td>Yes</td>\n",
              "      <td>Yes</td>\n",
              "      <td>Month-to-month</td>\n",
              "      <td>Yes</td>\n",
              "      <td>Electronic check</td>\n",
              "      <td>99.65</td>\n",
              "      <td>820.5</td>\n",
              "      <td>1</td>\n",
              "    </tr>\n",
              "    <tr>\n",
              "      <th>3</th>\n",
              "      <td>Los_Angeles</td>\n",
              "      <td>90010</td>\n",
              "      <td>34.062125</td>\n",
              "      <td>-118.315709</td>\n",
              "      <td>Female</td>\n",
              "      <td>No</td>\n",
              "      <td>Yes</td>\n",
              "      <td>Yes</td>\n",
              "      <td>28</td>\n",
              "      <td>Yes</td>\n",
              "      <td>...</td>\n",
              "      <td>Yes</td>\n",
              "      <td>Yes</td>\n",
              "      <td>Yes</td>\n",
              "      <td>Yes</td>\n",
              "      <td>Month-to-month</td>\n",
              "      <td>Yes</td>\n",
              "      <td>Electronic check</td>\n",
              "      <td>104.80</td>\n",
              "      <td>3046.05</td>\n",
              "      <td>1</td>\n",
              "    </tr>\n",
              "    <tr>\n",
              "      <th>4</th>\n",
              "      <td>Los_Angeles</td>\n",
              "      <td>90015</td>\n",
              "      <td>34.039224</td>\n",
              "      <td>-118.266293</td>\n",
              "      <td>Male</td>\n",
              "      <td>No</td>\n",
              "      <td>No</td>\n",
              "      <td>Yes</td>\n",
              "      <td>49</td>\n",
              "      <td>Yes</td>\n",
              "      <td>...</td>\n",
              "      <td>Yes</td>\n",
              "      <td>No</td>\n",
              "      <td>Yes</td>\n",
              "      <td>Yes</td>\n",
              "      <td>Month-to-month</td>\n",
              "      <td>Yes</td>\n",
              "      <td>Bank transfer (automatic)</td>\n",
              "      <td>103.70</td>\n",
              "      <td>5036.3</td>\n",
              "      <td>1</td>\n",
              "    </tr>\n",
              "  </tbody>\n",
              "</table>\n",
              "<p>5 rows × 24 columns</p>\n",
              "</div>\n",
              "    <div class=\"colab-df-buttons\">\n",
              "\n",
              "  <div class=\"colab-df-container\">\n",
              "    <button class=\"colab-df-convert\" onclick=\"convertToInteractive('df-3fe901b3-68ed-4ae4-9dd9-3599c3eb0dbd')\"\n",
              "            title=\"Convert this dataframe to an interactive table.\"\n",
              "            style=\"display:none;\">\n",
              "\n",
              "  <svg xmlns=\"http://www.w3.org/2000/svg\" height=\"24px\" viewBox=\"0 -960 960 960\">\n",
              "    <path d=\"M120-120v-720h720v720H120Zm60-500h600v-160H180v160Zm220 220h160v-160H400v160Zm0 220h160v-160H400v160ZM180-400h160v-160H180v160Zm440 0h160v-160H620v160ZM180-180h160v-160H180v160Zm440 0h160v-160H620v160Z\"/>\n",
              "  </svg>\n",
              "    </button>\n",
              "\n",
              "  <style>\n",
              "    .colab-df-container {\n",
              "      display:flex;\n",
              "      gap: 12px;\n",
              "    }\n",
              "\n",
              "    .colab-df-convert {\n",
              "      background-color: #E8F0FE;\n",
              "      border: none;\n",
              "      border-radius: 50%;\n",
              "      cursor: pointer;\n",
              "      display: none;\n",
              "      fill: #1967D2;\n",
              "      height: 32px;\n",
              "      padding: 0 0 0 0;\n",
              "      width: 32px;\n",
              "    }\n",
              "\n",
              "    .colab-df-convert:hover {\n",
              "      background-color: #E2EBFA;\n",
              "      box-shadow: 0px 1px 2px rgba(60, 64, 67, 0.3), 0px 1px 3px 1px rgba(60, 64, 67, 0.15);\n",
              "      fill: #174EA6;\n",
              "    }\n",
              "\n",
              "    .colab-df-buttons div {\n",
              "      margin-bottom: 4px;\n",
              "    }\n",
              "\n",
              "    [theme=dark] .colab-df-convert {\n",
              "      background-color: #3B4455;\n",
              "      fill: #D2E3FC;\n",
              "    }\n",
              "\n",
              "    [theme=dark] .colab-df-convert:hover {\n",
              "      background-color: #434B5C;\n",
              "      box-shadow: 0px 1px 3px 1px rgba(0, 0, 0, 0.15);\n",
              "      filter: drop-shadow(0px 1px 2px rgba(0, 0, 0, 0.3));\n",
              "      fill: #FFFFFF;\n",
              "    }\n",
              "  </style>\n",
              "\n",
              "    <script>\n",
              "      const buttonEl =\n",
              "        document.querySelector('#df-3fe901b3-68ed-4ae4-9dd9-3599c3eb0dbd button.colab-df-convert');\n",
              "      buttonEl.style.display =\n",
              "        google.colab.kernel.accessAllowed ? 'block' : 'none';\n",
              "\n",
              "      async function convertToInteractive(key) {\n",
              "        const element = document.querySelector('#df-3fe901b3-68ed-4ae4-9dd9-3599c3eb0dbd');\n",
              "        const dataTable =\n",
              "          await google.colab.kernel.invokeFunction('convertToInteractive',\n",
              "                                                    [key], {});\n",
              "        if (!dataTable) return;\n",
              "\n",
              "        const docLinkHtml = 'Like what you see? Visit the ' +\n",
              "          '<a target=\"_blank\" href=https://colab.research.google.com/notebooks/data_table.ipynb>data table notebook</a>'\n",
              "          + ' to learn more about interactive tables.';\n",
              "        element.innerHTML = '';\n",
              "        dataTable['output_type'] = 'display_data';\n",
              "        await google.colab.output.renderOutput(dataTable, element);\n",
              "        const docLink = document.createElement('div');\n",
              "        docLink.innerHTML = docLinkHtml;\n",
              "        element.appendChild(docLink);\n",
              "      }\n",
              "    </script>\n",
              "  </div>\n",
              "\n",
              "\n",
              "<div id=\"df-caf3a2c0-5b83-4923-ae53-0ee81dfbe1f9\">\n",
              "  <button class=\"colab-df-quickchart\" onclick=\"quickchart('df-caf3a2c0-5b83-4923-ae53-0ee81dfbe1f9')\"\n",
              "            title=\"Suggest charts\"\n",
              "            style=\"display:none;\">\n",
              "\n",
              "<svg xmlns=\"http://www.w3.org/2000/svg\" height=\"24px\"viewBox=\"0 0 24 24\"\n",
              "     width=\"24px\">\n",
              "    <g>\n",
              "        <path d=\"M19 3H5c-1.1 0-2 .9-2 2v14c0 1.1.9 2 2 2h14c1.1 0 2-.9 2-2V5c0-1.1-.9-2-2-2zM9 17H7v-7h2v7zm4 0h-2V7h2v10zm4 0h-2v-4h2v4z\"/>\n",
              "    </g>\n",
              "</svg>\n",
              "  </button>\n",
              "\n",
              "<style>\n",
              "  .colab-df-quickchart {\n",
              "      --bg-color: #E8F0FE;\n",
              "      --fill-color: #1967D2;\n",
              "      --hover-bg-color: #E2EBFA;\n",
              "      --hover-fill-color: #174EA6;\n",
              "      --disabled-fill-color: #AAA;\n",
              "      --disabled-bg-color: #DDD;\n",
              "  }\n",
              "\n",
              "  [theme=dark] .colab-df-quickchart {\n",
              "      --bg-color: #3B4455;\n",
              "      --fill-color: #D2E3FC;\n",
              "      --hover-bg-color: #434B5C;\n",
              "      --hover-fill-color: #FFFFFF;\n",
              "      --disabled-bg-color: #3B4455;\n",
              "      --disabled-fill-color: #666;\n",
              "  }\n",
              "\n",
              "  .colab-df-quickchart {\n",
              "    background-color: var(--bg-color);\n",
              "    border: none;\n",
              "    border-radius: 50%;\n",
              "    cursor: pointer;\n",
              "    display: none;\n",
              "    fill: var(--fill-color);\n",
              "    height: 32px;\n",
              "    padding: 0;\n",
              "    width: 32px;\n",
              "  }\n",
              "\n",
              "  .colab-df-quickchart:hover {\n",
              "    background-color: var(--hover-bg-color);\n",
              "    box-shadow: 0 1px 2px rgba(60, 64, 67, 0.3), 0 1px 3px 1px rgba(60, 64, 67, 0.15);\n",
              "    fill: var(--button-hover-fill-color);\n",
              "  }\n",
              "\n",
              "  .colab-df-quickchart-complete:disabled,\n",
              "  .colab-df-quickchart-complete:disabled:hover {\n",
              "    background-color: var(--disabled-bg-color);\n",
              "    fill: var(--disabled-fill-color);\n",
              "    box-shadow: none;\n",
              "  }\n",
              "\n",
              "  .colab-df-spinner {\n",
              "    border: 2px solid var(--fill-color);\n",
              "    border-color: transparent;\n",
              "    border-bottom-color: var(--fill-color);\n",
              "    animation:\n",
              "      spin 1s steps(1) infinite;\n",
              "  }\n",
              "\n",
              "  @keyframes spin {\n",
              "    0% {\n",
              "      border-color: transparent;\n",
              "      border-bottom-color: var(--fill-color);\n",
              "      border-left-color: var(--fill-color);\n",
              "    }\n",
              "    20% {\n",
              "      border-color: transparent;\n",
              "      border-left-color: var(--fill-color);\n",
              "      border-top-color: var(--fill-color);\n",
              "    }\n",
              "    30% {\n",
              "      border-color: transparent;\n",
              "      border-left-color: var(--fill-color);\n",
              "      border-top-color: var(--fill-color);\n",
              "      border-right-color: var(--fill-color);\n",
              "    }\n",
              "    40% {\n",
              "      border-color: transparent;\n",
              "      border-right-color: var(--fill-color);\n",
              "      border-top-color: var(--fill-color);\n",
              "    }\n",
              "    60% {\n",
              "      border-color: transparent;\n",
              "      border-right-color: var(--fill-color);\n",
              "    }\n",
              "    80% {\n",
              "      border-color: transparent;\n",
              "      border-right-color: var(--fill-color);\n",
              "      border-bottom-color: var(--fill-color);\n",
              "    }\n",
              "    90% {\n",
              "      border-color: transparent;\n",
              "      border-bottom-color: var(--fill-color);\n",
              "    }\n",
              "  }\n",
              "</style>\n",
              "\n",
              "  <script>\n",
              "    async function quickchart(key) {\n",
              "      const quickchartButtonEl =\n",
              "        document.querySelector('#' + key + ' button');\n",
              "      quickchartButtonEl.disabled = true;  // To prevent multiple clicks.\n",
              "      quickchartButtonEl.classList.add('colab-df-spinner');\n",
              "      try {\n",
              "        const charts = await google.colab.kernel.invokeFunction(\n",
              "            'suggestCharts', [key], {});\n",
              "      } catch (error) {\n",
              "        console.error('Error during call to suggestCharts:', error);\n",
              "      }\n",
              "      quickchartButtonEl.classList.remove('colab-df-spinner');\n",
              "      quickchartButtonEl.classList.add('colab-df-quickchart-complete');\n",
              "    }\n",
              "    (() => {\n",
              "      let quickchartButtonEl =\n",
              "        document.querySelector('#df-caf3a2c0-5b83-4923-ae53-0ee81dfbe1f9 button');\n",
              "      quickchartButtonEl.style.display =\n",
              "        google.colab.kernel.accessAllowed ? 'block' : 'none';\n",
              "    })();\n",
              "  </script>\n",
              "</div>\n",
              "    </div>\n",
              "  </div>\n"
            ],
            "application/vnd.google.colaboratory.intrinsic+json": {
              "type": "dataframe",
              "variable_name": "df"
            }
          },
          "metadata": {},
          "execution_count": 13
        }
      ]
    },
    {
      "cell_type": "markdown",
      "source": [
        "Also we need to eleminate the white spaces in the  column names"
      ],
      "metadata": {
        "id": "u0dT2eakPQjx"
      }
    },
    {
      "cell_type": "code",
      "source": [
        "df.columns = df.columns.str.replace(\" \", \"_\")\n",
        "df.head()"
      ],
      "metadata": {
        "colab": {
          "base_uri": "https://localhost:8080/",
          "height": 343
        },
        "id": "JlaBACdAPP6I",
        "outputId": "4c904326-cab6-4748-ef9b-cf54ef7c41fa"
      },
      "execution_count": 14,
      "outputs": [
        {
          "output_type": "execute_result",
          "data": {
            "text/plain": [
              "          City  Zip_Code   Latitude   Longitude  Gender Senior_Citizen  \\\n",
              "0  Los_Angeles     90003  33.964131 -118.272783    Male             No   \n",
              "1  Los_Angeles     90005  34.059281 -118.307420  Female             No   \n",
              "2  Los_Angeles     90006  34.048013 -118.293953  Female             No   \n",
              "3  Los_Angeles     90010  34.062125 -118.315709  Female             No   \n",
              "4  Los_Angeles     90015  34.039224 -118.266293    Male             No   \n",
              "\n",
              "  Partner Dependents  Tenure_Months Phone_Service  ... Device_Protection  \\\n",
              "0      No         No              2           Yes  ...                No   \n",
              "1      No        Yes              2           Yes  ...                No   \n",
              "2      No        Yes              8           Yes  ...               Yes   \n",
              "3     Yes        Yes             28           Yes  ...               Yes   \n",
              "4      No        Yes             49           Yes  ...               Yes   \n",
              "\n",
              "  Tech_Support Streaming_TV Streaming_Movies        Contract  \\\n",
              "0           No           No               No  Month-to-month   \n",
              "1           No           No               No  Month-to-month   \n",
              "2           No          Yes              Yes  Month-to-month   \n",
              "3          Yes          Yes              Yes  Month-to-month   \n",
              "4           No          Yes              Yes  Month-to-month   \n",
              "\n",
              "  Paperless_Billing             Payment_Method Monthly_Charges Total_Charges  \\\n",
              "0               Yes               Mailed check           53.85        108.15   \n",
              "1               Yes           Electronic check           70.70        151.65   \n",
              "2               Yes           Electronic check           99.65         820.5   \n",
              "3               Yes           Electronic check          104.80       3046.05   \n",
              "4               Yes  Bank transfer (automatic)          103.70        5036.3   \n",
              "\n",
              "  Churn_Value  \n",
              "0           1  \n",
              "1           1  \n",
              "2           1  \n",
              "3           1  \n",
              "4           1  \n",
              "\n",
              "[5 rows x 24 columns]"
            ],
            "text/html": [
              "\n",
              "  <div id=\"df-96922f7e-1655-4619-a09e-2f778d200778\" class=\"colab-df-container\">\n",
              "    <div>\n",
              "<style scoped>\n",
              "    .dataframe tbody tr th:only-of-type {\n",
              "        vertical-align: middle;\n",
              "    }\n",
              "\n",
              "    .dataframe tbody tr th {\n",
              "        vertical-align: top;\n",
              "    }\n",
              "\n",
              "    .dataframe thead th {\n",
              "        text-align: right;\n",
              "    }\n",
              "</style>\n",
              "<table border=\"1\" class=\"dataframe\">\n",
              "  <thead>\n",
              "    <tr style=\"text-align: right;\">\n",
              "      <th></th>\n",
              "      <th>City</th>\n",
              "      <th>Zip_Code</th>\n",
              "      <th>Latitude</th>\n",
              "      <th>Longitude</th>\n",
              "      <th>Gender</th>\n",
              "      <th>Senior_Citizen</th>\n",
              "      <th>Partner</th>\n",
              "      <th>Dependents</th>\n",
              "      <th>Tenure_Months</th>\n",
              "      <th>Phone_Service</th>\n",
              "      <th>...</th>\n",
              "      <th>Device_Protection</th>\n",
              "      <th>Tech_Support</th>\n",
              "      <th>Streaming_TV</th>\n",
              "      <th>Streaming_Movies</th>\n",
              "      <th>Contract</th>\n",
              "      <th>Paperless_Billing</th>\n",
              "      <th>Payment_Method</th>\n",
              "      <th>Monthly_Charges</th>\n",
              "      <th>Total_Charges</th>\n",
              "      <th>Churn_Value</th>\n",
              "    </tr>\n",
              "  </thead>\n",
              "  <tbody>\n",
              "    <tr>\n",
              "      <th>0</th>\n",
              "      <td>Los_Angeles</td>\n",
              "      <td>90003</td>\n",
              "      <td>33.964131</td>\n",
              "      <td>-118.272783</td>\n",
              "      <td>Male</td>\n",
              "      <td>No</td>\n",
              "      <td>No</td>\n",
              "      <td>No</td>\n",
              "      <td>2</td>\n",
              "      <td>Yes</td>\n",
              "      <td>...</td>\n",
              "      <td>No</td>\n",
              "      <td>No</td>\n",
              "      <td>No</td>\n",
              "      <td>No</td>\n",
              "      <td>Month-to-month</td>\n",
              "      <td>Yes</td>\n",
              "      <td>Mailed check</td>\n",
              "      <td>53.85</td>\n",
              "      <td>108.15</td>\n",
              "      <td>1</td>\n",
              "    </tr>\n",
              "    <tr>\n",
              "      <th>1</th>\n",
              "      <td>Los_Angeles</td>\n",
              "      <td>90005</td>\n",
              "      <td>34.059281</td>\n",
              "      <td>-118.307420</td>\n",
              "      <td>Female</td>\n",
              "      <td>No</td>\n",
              "      <td>No</td>\n",
              "      <td>Yes</td>\n",
              "      <td>2</td>\n",
              "      <td>Yes</td>\n",
              "      <td>...</td>\n",
              "      <td>No</td>\n",
              "      <td>No</td>\n",
              "      <td>No</td>\n",
              "      <td>No</td>\n",
              "      <td>Month-to-month</td>\n",
              "      <td>Yes</td>\n",
              "      <td>Electronic check</td>\n",
              "      <td>70.70</td>\n",
              "      <td>151.65</td>\n",
              "      <td>1</td>\n",
              "    </tr>\n",
              "    <tr>\n",
              "      <th>2</th>\n",
              "      <td>Los_Angeles</td>\n",
              "      <td>90006</td>\n",
              "      <td>34.048013</td>\n",
              "      <td>-118.293953</td>\n",
              "      <td>Female</td>\n",
              "      <td>No</td>\n",
              "      <td>No</td>\n",
              "      <td>Yes</td>\n",
              "      <td>8</td>\n",
              "      <td>Yes</td>\n",
              "      <td>...</td>\n",
              "      <td>Yes</td>\n",
              "      <td>No</td>\n",
              "      <td>Yes</td>\n",
              "      <td>Yes</td>\n",
              "      <td>Month-to-month</td>\n",
              "      <td>Yes</td>\n",
              "      <td>Electronic check</td>\n",
              "      <td>99.65</td>\n",
              "      <td>820.5</td>\n",
              "      <td>1</td>\n",
              "    </tr>\n",
              "    <tr>\n",
              "      <th>3</th>\n",
              "      <td>Los_Angeles</td>\n",
              "      <td>90010</td>\n",
              "      <td>34.062125</td>\n",
              "      <td>-118.315709</td>\n",
              "      <td>Female</td>\n",
              "      <td>No</td>\n",
              "      <td>Yes</td>\n",
              "      <td>Yes</td>\n",
              "      <td>28</td>\n",
              "      <td>Yes</td>\n",
              "      <td>...</td>\n",
              "      <td>Yes</td>\n",
              "      <td>Yes</td>\n",
              "      <td>Yes</td>\n",
              "      <td>Yes</td>\n",
              "      <td>Month-to-month</td>\n",
              "      <td>Yes</td>\n",
              "      <td>Electronic check</td>\n",
              "      <td>104.80</td>\n",
              "      <td>3046.05</td>\n",
              "      <td>1</td>\n",
              "    </tr>\n",
              "    <tr>\n",
              "      <th>4</th>\n",
              "      <td>Los_Angeles</td>\n",
              "      <td>90015</td>\n",
              "      <td>34.039224</td>\n",
              "      <td>-118.266293</td>\n",
              "      <td>Male</td>\n",
              "      <td>No</td>\n",
              "      <td>No</td>\n",
              "      <td>Yes</td>\n",
              "      <td>49</td>\n",
              "      <td>Yes</td>\n",
              "      <td>...</td>\n",
              "      <td>Yes</td>\n",
              "      <td>No</td>\n",
              "      <td>Yes</td>\n",
              "      <td>Yes</td>\n",
              "      <td>Month-to-month</td>\n",
              "      <td>Yes</td>\n",
              "      <td>Bank transfer (automatic)</td>\n",
              "      <td>103.70</td>\n",
              "      <td>5036.3</td>\n",
              "      <td>1</td>\n",
              "    </tr>\n",
              "  </tbody>\n",
              "</table>\n",
              "<p>5 rows × 24 columns</p>\n",
              "</div>\n",
              "    <div class=\"colab-df-buttons\">\n",
              "\n",
              "  <div class=\"colab-df-container\">\n",
              "    <button class=\"colab-df-convert\" onclick=\"convertToInteractive('df-96922f7e-1655-4619-a09e-2f778d200778')\"\n",
              "            title=\"Convert this dataframe to an interactive table.\"\n",
              "            style=\"display:none;\">\n",
              "\n",
              "  <svg xmlns=\"http://www.w3.org/2000/svg\" height=\"24px\" viewBox=\"0 -960 960 960\">\n",
              "    <path d=\"M120-120v-720h720v720H120Zm60-500h600v-160H180v160Zm220 220h160v-160H400v160Zm0 220h160v-160H400v160ZM180-400h160v-160H180v160Zm440 0h160v-160H620v160ZM180-180h160v-160H180v160Zm440 0h160v-160H620v160Z\"/>\n",
              "  </svg>\n",
              "    </button>\n",
              "\n",
              "  <style>\n",
              "    .colab-df-container {\n",
              "      display:flex;\n",
              "      gap: 12px;\n",
              "    }\n",
              "\n",
              "    .colab-df-convert {\n",
              "      background-color: #E8F0FE;\n",
              "      border: none;\n",
              "      border-radius: 50%;\n",
              "      cursor: pointer;\n",
              "      display: none;\n",
              "      fill: #1967D2;\n",
              "      height: 32px;\n",
              "      padding: 0 0 0 0;\n",
              "      width: 32px;\n",
              "    }\n",
              "\n",
              "    .colab-df-convert:hover {\n",
              "      background-color: #E2EBFA;\n",
              "      box-shadow: 0px 1px 2px rgba(60, 64, 67, 0.3), 0px 1px 3px 1px rgba(60, 64, 67, 0.15);\n",
              "      fill: #174EA6;\n",
              "    }\n",
              "\n",
              "    .colab-df-buttons div {\n",
              "      margin-bottom: 4px;\n",
              "    }\n",
              "\n",
              "    [theme=dark] .colab-df-convert {\n",
              "      background-color: #3B4455;\n",
              "      fill: #D2E3FC;\n",
              "    }\n",
              "\n",
              "    [theme=dark] .colab-df-convert:hover {\n",
              "      background-color: #434B5C;\n",
              "      box-shadow: 0px 1px 3px 1px rgba(0, 0, 0, 0.15);\n",
              "      filter: drop-shadow(0px 1px 2px rgba(0, 0, 0, 0.3));\n",
              "      fill: #FFFFFF;\n",
              "    }\n",
              "  </style>\n",
              "\n",
              "    <script>\n",
              "      const buttonEl =\n",
              "        document.querySelector('#df-96922f7e-1655-4619-a09e-2f778d200778 button.colab-df-convert');\n",
              "      buttonEl.style.display =\n",
              "        google.colab.kernel.accessAllowed ? 'block' : 'none';\n",
              "\n",
              "      async function convertToInteractive(key) {\n",
              "        const element = document.querySelector('#df-96922f7e-1655-4619-a09e-2f778d200778');\n",
              "        const dataTable =\n",
              "          await google.colab.kernel.invokeFunction('convertToInteractive',\n",
              "                                                    [key], {});\n",
              "        if (!dataTable) return;\n",
              "\n",
              "        const docLinkHtml = 'Like what you see? Visit the ' +\n",
              "          '<a target=\"_blank\" href=https://colab.research.google.com/notebooks/data_table.ipynb>data table notebook</a>'\n",
              "          + ' to learn more about interactive tables.';\n",
              "        element.innerHTML = '';\n",
              "        dataTable['output_type'] = 'display_data';\n",
              "        await google.colab.output.renderOutput(dataTable, element);\n",
              "        const docLink = document.createElement('div');\n",
              "        docLink.innerHTML = docLinkHtml;\n",
              "        element.appendChild(docLink);\n",
              "      }\n",
              "    </script>\n",
              "  </div>\n",
              "\n",
              "\n",
              "<div id=\"df-a52fbd90-e766-4c9b-b2b7-b5fe5e7cd48d\">\n",
              "  <button class=\"colab-df-quickchart\" onclick=\"quickchart('df-a52fbd90-e766-4c9b-b2b7-b5fe5e7cd48d')\"\n",
              "            title=\"Suggest charts\"\n",
              "            style=\"display:none;\">\n",
              "\n",
              "<svg xmlns=\"http://www.w3.org/2000/svg\" height=\"24px\"viewBox=\"0 0 24 24\"\n",
              "     width=\"24px\">\n",
              "    <g>\n",
              "        <path d=\"M19 3H5c-1.1 0-2 .9-2 2v14c0 1.1.9 2 2 2h14c1.1 0 2-.9 2-2V5c0-1.1-.9-2-2-2zM9 17H7v-7h2v7zm4 0h-2V7h2v10zm4 0h-2v-4h2v4z\"/>\n",
              "    </g>\n",
              "</svg>\n",
              "  </button>\n",
              "\n",
              "<style>\n",
              "  .colab-df-quickchart {\n",
              "      --bg-color: #E8F0FE;\n",
              "      --fill-color: #1967D2;\n",
              "      --hover-bg-color: #E2EBFA;\n",
              "      --hover-fill-color: #174EA6;\n",
              "      --disabled-fill-color: #AAA;\n",
              "      --disabled-bg-color: #DDD;\n",
              "  }\n",
              "\n",
              "  [theme=dark] .colab-df-quickchart {\n",
              "      --bg-color: #3B4455;\n",
              "      --fill-color: #D2E3FC;\n",
              "      --hover-bg-color: #434B5C;\n",
              "      --hover-fill-color: #FFFFFF;\n",
              "      --disabled-bg-color: #3B4455;\n",
              "      --disabled-fill-color: #666;\n",
              "  }\n",
              "\n",
              "  .colab-df-quickchart {\n",
              "    background-color: var(--bg-color);\n",
              "    border: none;\n",
              "    border-radius: 50%;\n",
              "    cursor: pointer;\n",
              "    display: none;\n",
              "    fill: var(--fill-color);\n",
              "    height: 32px;\n",
              "    padding: 0;\n",
              "    width: 32px;\n",
              "  }\n",
              "\n",
              "  .colab-df-quickchart:hover {\n",
              "    background-color: var(--hover-bg-color);\n",
              "    box-shadow: 0 1px 2px rgba(60, 64, 67, 0.3), 0 1px 3px 1px rgba(60, 64, 67, 0.15);\n",
              "    fill: var(--button-hover-fill-color);\n",
              "  }\n",
              "\n",
              "  .colab-df-quickchart-complete:disabled,\n",
              "  .colab-df-quickchart-complete:disabled:hover {\n",
              "    background-color: var(--disabled-bg-color);\n",
              "    fill: var(--disabled-fill-color);\n",
              "    box-shadow: none;\n",
              "  }\n",
              "\n",
              "  .colab-df-spinner {\n",
              "    border: 2px solid var(--fill-color);\n",
              "    border-color: transparent;\n",
              "    border-bottom-color: var(--fill-color);\n",
              "    animation:\n",
              "      spin 1s steps(1) infinite;\n",
              "  }\n",
              "\n",
              "  @keyframes spin {\n",
              "    0% {\n",
              "      border-color: transparent;\n",
              "      border-bottom-color: var(--fill-color);\n",
              "      border-left-color: var(--fill-color);\n",
              "    }\n",
              "    20% {\n",
              "      border-color: transparent;\n",
              "      border-left-color: var(--fill-color);\n",
              "      border-top-color: var(--fill-color);\n",
              "    }\n",
              "    30% {\n",
              "      border-color: transparent;\n",
              "      border-left-color: var(--fill-color);\n",
              "      border-top-color: var(--fill-color);\n",
              "      border-right-color: var(--fill-color);\n",
              "    }\n",
              "    40% {\n",
              "      border-color: transparent;\n",
              "      border-right-color: var(--fill-color);\n",
              "      border-top-color: var(--fill-color);\n",
              "    }\n",
              "    60% {\n",
              "      border-color: transparent;\n",
              "      border-right-color: var(--fill-color);\n",
              "    }\n",
              "    80% {\n",
              "      border-color: transparent;\n",
              "      border-right-color: var(--fill-color);\n",
              "      border-bottom-color: var(--fill-color);\n",
              "    }\n",
              "    90% {\n",
              "      border-color: transparent;\n",
              "      border-bottom-color: var(--fill-color);\n",
              "    }\n",
              "  }\n",
              "</style>\n",
              "\n",
              "  <script>\n",
              "    async function quickchart(key) {\n",
              "      const quickchartButtonEl =\n",
              "        document.querySelector('#' + key + ' button');\n",
              "      quickchartButtonEl.disabled = true;  // To prevent multiple clicks.\n",
              "      quickchartButtonEl.classList.add('colab-df-spinner');\n",
              "      try {\n",
              "        const charts = await google.colab.kernel.invokeFunction(\n",
              "            'suggestCharts', [key], {});\n",
              "      } catch (error) {\n",
              "        console.error('Error during call to suggestCharts:', error);\n",
              "      }\n",
              "      quickchartButtonEl.classList.remove('colab-df-spinner');\n",
              "      quickchartButtonEl.classList.add('colab-df-quickchart-complete');\n",
              "    }\n",
              "    (() => {\n",
              "      let quickchartButtonEl =\n",
              "        document.querySelector('#df-a52fbd90-e766-4c9b-b2b7-b5fe5e7cd48d button');\n",
              "      quickchartButtonEl.style.display =\n",
              "        google.colab.kernel.accessAllowed ? 'block' : 'none';\n",
              "    })();\n",
              "  </script>\n",
              "</div>\n",
              "    </div>\n",
              "  </div>\n"
            ],
            "application/vnd.google.colaboratory.intrinsic+json": {
              "type": "dataframe",
              "variable_name": "df"
            }
          },
          "metadata": {},
          "execution_count": 14
        }
      ]
    },
    {
      "cell_type": "markdown",
      "source": [
        "#### Identify the missing Data"
      ],
      "metadata": {
        "id": "FiEs_XZpPyW0"
      }
    },
    {
      "cell_type": "markdown",
      "source": [
        "Since here we are working with XGBoost , all we have to do is replace the missing data by zeroes. [Even if there '0' value lable is defined, it will not affect the XGBoost a lot ]"
      ],
      "metadata": {
        "id": "xAG2nIqUP1pb"
      }
    },
    {
      "cell_type": "markdown",
      "source": [
        "First observe the data types of each columns"
      ],
      "metadata": {
        "id": "rZKQ8TDZQcJE"
      }
    },
    {
      "cell_type": "code",
      "source": [
        "df.dtypes"
      ],
      "metadata": {
        "colab": {
          "base_uri": "https://localhost:8080/"
        },
        "id": "o8qFScNIQz3h",
        "outputId": "1baa389b-4034-4256-ccb2-614f53d6fa58"
      },
      "execution_count": 15,
      "outputs": [
        {
          "output_type": "execute_result",
          "data": {
            "text/plain": [
              "City                  object\n",
              "Zip_Code               int64\n",
              "Latitude             float64\n",
              "Longitude            float64\n",
              "Gender                object\n",
              "Senior_Citizen        object\n",
              "Partner               object\n",
              "Dependents            object\n",
              "Tenure_Months          int64\n",
              "Phone_Service         object\n",
              "Multiple_Lines        object\n",
              "Internet_Service      object\n",
              "Online_Security       object\n",
              "Online_Backup         object\n",
              "Device_Protection     object\n",
              "Tech_Support          object\n",
              "Streaming_TV          object\n",
              "Streaming_Movies      object\n",
              "Contract              object\n",
              "Paperless_Billing     object\n",
              "Payment_Method        object\n",
              "Monthly_Charges      float64\n",
              "Total_Charges         object\n",
              "Churn_Value            int64\n",
              "dtype: object"
            ]
          },
          "metadata": {},
          "execution_count": 15
        }
      ]
    },
    {
      "cell_type": "markdown",
      "source": [
        "The object type means they have text data.Thats fine but we have to veryfy that the the data is well labled. (Example : 'YES' 'NO' column may have typos like \"YEES\")"
      ],
      "metadata": {
        "id": "u5k6RGpLQ8hi"
      }
    },
    {
      "cell_type": "code",
      "source": [
        "df['Phone_Service'].unique()"
      ],
      "metadata": {
        "colab": {
          "base_uri": "https://localhost:8080/"
        },
        "id": "ZhUM5FFvRfkp",
        "outputId": "2851938f-d54e-4f8d-ebea-dd35e160c516"
      },
      "execution_count": 16,
      "outputs": [
        {
          "output_type": "execute_result",
          "data": {
            "text/plain": [
              "array(['Yes', 'No'], dtype=object)"
            ]
          },
          "metadata": {},
          "execution_count": 16
        }
      ]
    },
    {
      "cell_type": "code",
      "source": [
        "df['Gender'].unique()"
      ],
      "metadata": {
        "colab": {
          "base_uri": "https://localhost:8080/"
        },
        "id": "Nsd2pYvfRo9d",
        "outputId": "07aa77cc-578a-4c6b-e27c-34c8745553fc"
      },
      "execution_count": 17,
      "outputs": [
        {
          "output_type": "execute_result",
          "data": {
            "text/plain": [
              "array(['Male', 'Female'], dtype=object)"
            ]
          },
          "metadata": {},
          "execution_count": 17
        }
      ]
    },
    {
      "cell_type": "markdown",
      "source": [
        "> Its better to calculate all the unique element counts of the available columns and verify they are in the shape of required."
      ],
      "metadata": {
        "id": "aAPIV9LKR1Bc"
      }
    },
    {
      "cell_type": "markdown",
      "source": [
        "See that the Total charges is identified as an `object` , but actually it should have only numerical values.So we need to remove the text values."
      ],
      "metadata": {
        "id": "OJuPf9_PSACp"
      }
    },
    {
      "cell_type": "markdown",
      "source": [
        ">  XGBoost determines default behaviour of the missing data. All we have to do i s replace the missing data with `0`. How ever if the missing data count is large then that problem need to be adressed. Otherwise it's fine."
      ],
      "metadata": {
        "id": "hUSc8jBhSrqj"
      }
    },
    {
      "cell_type": "code",
      "source": [
        "len(df.loc[df['Total_Charges'] == ' '])"
      ],
      "metadata": {
        "colab": {
          "base_uri": "https://localhost:8080/"
        },
        "id": "gOy4HSJ9SrJI",
        "outputId": "6d3088cd-ed47-4af4-976d-c2523f87c292"
      },
      "execution_count": 18,
      "outputs": [
        {
          "output_type": "execute_result",
          "data": {
            "text/plain": [
              "11"
            ]
          },
          "metadata": {},
          "execution_count": 18
        }
      ]
    },
    {
      "cell_type": "markdown",
      "source": [
        "Since only 11 rows have missing data, only have to do is repplace them by zeroes."
      ],
      "metadata": {
        "id": "bT_IsxBnTipt"
      }
    },
    {
      "cell_type": "code",
      "source": [
        "df.loc[df['Total_Charges'] == ' ']"
      ],
      "metadata": {
        "colab": {
          "base_uri": "https://localhost:8080/",
          "height": 600
        },
        "id": "B-DI-kzITobs",
        "outputId": "70f58053-682c-48ac-d5ce-d4c9504ea500"
      },
      "execution_count": 19,
      "outputs": [
        {
          "output_type": "execute_result",
          "data": {
            "text/plain": [
              "                City  Zip_Code   Latitude   Longitude  Gender Senior_Citizen  \\\n",
              "2234  San_Bernardino     92408  34.084909 -117.258107  Female             No   \n",
              "2438    Independence     93526  36.869584 -118.189241    Male             No   \n",
              "2568       San_Mateo     94401  37.590421 -122.306467  Female             No   \n",
              "2667       Cupertino     95014  37.306612 -122.080621    Male             No   \n",
              "2856        Redcrest     95569  40.363446 -123.835041  Female             No   \n",
              "4331     Los_Angeles     90029  34.089953 -118.294824    Male             No   \n",
              "4687        Sun_City     92585  33.739412 -117.173334    Male             No   \n",
              "5104      Ben_Lomond     95005  37.078873 -122.090386  Female             No   \n",
              "5719        La_Verne     91750  34.144703 -117.770299    Male             No   \n",
              "6772            Bell     90201  33.970343 -118.171368  Female             No   \n",
              "6840      Wilmington     90744  33.782068 -118.262263    Male             No   \n",
              "\n",
              "     Partner Dependents  Tenure_Months Phone_Service  ...  \\\n",
              "2234     Yes         No              0            No  ...   \n",
              "2438      No         No              0           Yes  ...   \n",
              "2568     Yes         No              0           Yes  ...   \n",
              "2667     Yes        Yes              0           Yes  ...   \n",
              "2856     Yes         No              0            No  ...   \n",
              "4331     Yes        Yes              0           Yes  ...   \n",
              "4687     Yes        Yes              0           Yes  ...   \n",
              "5104     Yes        Yes              0           Yes  ...   \n",
              "5719     Yes        Yes              0           Yes  ...   \n",
              "6772     Yes        Yes              0           Yes  ...   \n",
              "6840      No        Yes              0           Yes  ...   \n",
              "\n",
              "        Device_Protection         Tech_Support         Streaming_TV  \\\n",
              "2234                  Yes                  Yes                  Yes   \n",
              "2438  No internet service  No internet service  No internet service   \n",
              "2568                  Yes                   No                  Yes   \n",
              "2667  No internet service  No internet service  No internet service   \n",
              "2856                  Yes                  Yes                  Yes   \n",
              "4331  No internet service  No internet service  No internet service   \n",
              "4687  No internet service  No internet service  No internet service   \n",
              "5104  No internet service  No internet service  No internet service   \n",
              "5719  No internet service  No internet service  No internet service   \n",
              "6772                  Yes                  Yes                  Yes   \n",
              "6840                   No                  Yes                   No   \n",
              "\n",
              "         Streaming_Movies  Contract Paperless_Billing  \\\n",
              "2234                   No  Two year               Yes   \n",
              "2438  No internet service  Two year                No   \n",
              "2568                  Yes  Two year                No   \n",
              "2667  No internet service  Two year                No   \n",
              "2856                   No  Two year                No   \n",
              "4331  No internet service  Two year                No   \n",
              "4687  No internet service  Two year                No   \n",
              "5104  No internet service  Two year                No   \n",
              "5719  No internet service  One year               Yes   \n",
              "6772                   No  Two year                No   \n",
              "6840                   No  Two year               Yes   \n",
              "\n",
              "                 Payment_Method Monthly_Charges Total_Charges Churn_Value  \n",
              "2234  Bank transfer (automatic)           52.55                         0  \n",
              "2438               Mailed check           20.25                         0  \n",
              "2568               Mailed check           80.85                         0  \n",
              "2667               Mailed check           25.75                         0  \n",
              "2856    Credit card (automatic)           56.05                         0  \n",
              "4331               Mailed check           19.85                         0  \n",
              "4687               Mailed check           25.35                         0  \n",
              "5104               Mailed check           20.00                         0  \n",
              "5719               Mailed check           19.70                         0  \n",
              "6772               Mailed check           73.35                         0  \n",
              "6840  Bank transfer (automatic)           61.90                         0  \n",
              "\n",
              "[11 rows x 24 columns]"
            ],
            "text/html": [
              "\n",
              "  <div id=\"df-910bf467-2921-4685-9b09-402e6937a32b\" class=\"colab-df-container\">\n",
              "    <div>\n",
              "<style scoped>\n",
              "    .dataframe tbody tr th:only-of-type {\n",
              "        vertical-align: middle;\n",
              "    }\n",
              "\n",
              "    .dataframe tbody tr th {\n",
              "        vertical-align: top;\n",
              "    }\n",
              "\n",
              "    .dataframe thead th {\n",
              "        text-align: right;\n",
              "    }\n",
              "</style>\n",
              "<table border=\"1\" class=\"dataframe\">\n",
              "  <thead>\n",
              "    <tr style=\"text-align: right;\">\n",
              "      <th></th>\n",
              "      <th>City</th>\n",
              "      <th>Zip_Code</th>\n",
              "      <th>Latitude</th>\n",
              "      <th>Longitude</th>\n",
              "      <th>Gender</th>\n",
              "      <th>Senior_Citizen</th>\n",
              "      <th>Partner</th>\n",
              "      <th>Dependents</th>\n",
              "      <th>Tenure_Months</th>\n",
              "      <th>Phone_Service</th>\n",
              "      <th>...</th>\n",
              "      <th>Device_Protection</th>\n",
              "      <th>Tech_Support</th>\n",
              "      <th>Streaming_TV</th>\n",
              "      <th>Streaming_Movies</th>\n",
              "      <th>Contract</th>\n",
              "      <th>Paperless_Billing</th>\n",
              "      <th>Payment_Method</th>\n",
              "      <th>Monthly_Charges</th>\n",
              "      <th>Total_Charges</th>\n",
              "      <th>Churn_Value</th>\n",
              "    </tr>\n",
              "  </thead>\n",
              "  <tbody>\n",
              "    <tr>\n",
              "      <th>2234</th>\n",
              "      <td>San_Bernardino</td>\n",
              "      <td>92408</td>\n",
              "      <td>34.084909</td>\n",
              "      <td>-117.258107</td>\n",
              "      <td>Female</td>\n",
              "      <td>No</td>\n",
              "      <td>Yes</td>\n",
              "      <td>No</td>\n",
              "      <td>0</td>\n",
              "      <td>No</td>\n",
              "      <td>...</td>\n",
              "      <td>Yes</td>\n",
              "      <td>Yes</td>\n",
              "      <td>Yes</td>\n",
              "      <td>No</td>\n",
              "      <td>Two year</td>\n",
              "      <td>Yes</td>\n",
              "      <td>Bank transfer (automatic)</td>\n",
              "      <td>52.55</td>\n",
              "      <td></td>\n",
              "      <td>0</td>\n",
              "    </tr>\n",
              "    <tr>\n",
              "      <th>2438</th>\n",
              "      <td>Independence</td>\n",
              "      <td>93526</td>\n",
              "      <td>36.869584</td>\n",
              "      <td>-118.189241</td>\n",
              "      <td>Male</td>\n",
              "      <td>No</td>\n",
              "      <td>No</td>\n",
              "      <td>No</td>\n",
              "      <td>0</td>\n",
              "      <td>Yes</td>\n",
              "      <td>...</td>\n",
              "      <td>No internet service</td>\n",
              "      <td>No internet service</td>\n",
              "      <td>No internet service</td>\n",
              "      <td>No internet service</td>\n",
              "      <td>Two year</td>\n",
              "      <td>No</td>\n",
              "      <td>Mailed check</td>\n",
              "      <td>20.25</td>\n",
              "      <td></td>\n",
              "      <td>0</td>\n",
              "    </tr>\n",
              "    <tr>\n",
              "      <th>2568</th>\n",
              "      <td>San_Mateo</td>\n",
              "      <td>94401</td>\n",
              "      <td>37.590421</td>\n",
              "      <td>-122.306467</td>\n",
              "      <td>Female</td>\n",
              "      <td>No</td>\n",
              "      <td>Yes</td>\n",
              "      <td>No</td>\n",
              "      <td>0</td>\n",
              "      <td>Yes</td>\n",
              "      <td>...</td>\n",
              "      <td>Yes</td>\n",
              "      <td>No</td>\n",
              "      <td>Yes</td>\n",
              "      <td>Yes</td>\n",
              "      <td>Two year</td>\n",
              "      <td>No</td>\n",
              "      <td>Mailed check</td>\n",
              "      <td>80.85</td>\n",
              "      <td></td>\n",
              "      <td>0</td>\n",
              "    </tr>\n",
              "    <tr>\n",
              "      <th>2667</th>\n",
              "      <td>Cupertino</td>\n",
              "      <td>95014</td>\n",
              "      <td>37.306612</td>\n",
              "      <td>-122.080621</td>\n",
              "      <td>Male</td>\n",
              "      <td>No</td>\n",
              "      <td>Yes</td>\n",
              "      <td>Yes</td>\n",
              "      <td>0</td>\n",
              "      <td>Yes</td>\n",
              "      <td>...</td>\n",
              "      <td>No internet service</td>\n",
              "      <td>No internet service</td>\n",
              "      <td>No internet service</td>\n",
              "      <td>No internet service</td>\n",
              "      <td>Two year</td>\n",
              "      <td>No</td>\n",
              "      <td>Mailed check</td>\n",
              "      <td>25.75</td>\n",
              "      <td></td>\n",
              "      <td>0</td>\n",
              "    </tr>\n",
              "    <tr>\n",
              "      <th>2856</th>\n",
              "      <td>Redcrest</td>\n",
              "      <td>95569</td>\n",
              "      <td>40.363446</td>\n",
              "      <td>-123.835041</td>\n",
              "      <td>Female</td>\n",
              "      <td>No</td>\n",
              "      <td>Yes</td>\n",
              "      <td>No</td>\n",
              "      <td>0</td>\n",
              "      <td>No</td>\n",
              "      <td>...</td>\n",
              "      <td>Yes</td>\n",
              "      <td>Yes</td>\n",
              "      <td>Yes</td>\n",
              "      <td>No</td>\n",
              "      <td>Two year</td>\n",
              "      <td>No</td>\n",
              "      <td>Credit card (automatic)</td>\n",
              "      <td>56.05</td>\n",
              "      <td></td>\n",
              "      <td>0</td>\n",
              "    </tr>\n",
              "    <tr>\n",
              "      <th>4331</th>\n",
              "      <td>Los_Angeles</td>\n",
              "      <td>90029</td>\n",
              "      <td>34.089953</td>\n",
              "      <td>-118.294824</td>\n",
              "      <td>Male</td>\n",
              "      <td>No</td>\n",
              "      <td>Yes</td>\n",
              "      <td>Yes</td>\n",
              "      <td>0</td>\n",
              "      <td>Yes</td>\n",
              "      <td>...</td>\n",
              "      <td>No internet service</td>\n",
              "      <td>No internet service</td>\n",
              "      <td>No internet service</td>\n",
              "      <td>No internet service</td>\n",
              "      <td>Two year</td>\n",
              "      <td>No</td>\n",
              "      <td>Mailed check</td>\n",
              "      <td>19.85</td>\n",
              "      <td></td>\n",
              "      <td>0</td>\n",
              "    </tr>\n",
              "    <tr>\n",
              "      <th>4687</th>\n",
              "      <td>Sun_City</td>\n",
              "      <td>92585</td>\n",
              "      <td>33.739412</td>\n",
              "      <td>-117.173334</td>\n",
              "      <td>Male</td>\n",
              "      <td>No</td>\n",
              "      <td>Yes</td>\n",
              "      <td>Yes</td>\n",
              "      <td>0</td>\n",
              "      <td>Yes</td>\n",
              "      <td>...</td>\n",
              "      <td>No internet service</td>\n",
              "      <td>No internet service</td>\n",
              "      <td>No internet service</td>\n",
              "      <td>No internet service</td>\n",
              "      <td>Two year</td>\n",
              "      <td>No</td>\n",
              "      <td>Mailed check</td>\n",
              "      <td>25.35</td>\n",
              "      <td></td>\n",
              "      <td>0</td>\n",
              "    </tr>\n",
              "    <tr>\n",
              "      <th>5104</th>\n",
              "      <td>Ben_Lomond</td>\n",
              "      <td>95005</td>\n",
              "      <td>37.078873</td>\n",
              "      <td>-122.090386</td>\n",
              "      <td>Female</td>\n",
              "      <td>No</td>\n",
              "      <td>Yes</td>\n",
              "      <td>Yes</td>\n",
              "      <td>0</td>\n",
              "      <td>Yes</td>\n",
              "      <td>...</td>\n",
              "      <td>No internet service</td>\n",
              "      <td>No internet service</td>\n",
              "      <td>No internet service</td>\n",
              "      <td>No internet service</td>\n",
              "      <td>Two year</td>\n",
              "      <td>No</td>\n",
              "      <td>Mailed check</td>\n",
              "      <td>20.00</td>\n",
              "      <td></td>\n",
              "      <td>0</td>\n",
              "    </tr>\n",
              "    <tr>\n",
              "      <th>5719</th>\n",
              "      <td>La_Verne</td>\n",
              "      <td>91750</td>\n",
              "      <td>34.144703</td>\n",
              "      <td>-117.770299</td>\n",
              "      <td>Male</td>\n",
              "      <td>No</td>\n",
              "      <td>Yes</td>\n",
              "      <td>Yes</td>\n",
              "      <td>0</td>\n",
              "      <td>Yes</td>\n",
              "      <td>...</td>\n",
              "      <td>No internet service</td>\n",
              "      <td>No internet service</td>\n",
              "      <td>No internet service</td>\n",
              "      <td>No internet service</td>\n",
              "      <td>One year</td>\n",
              "      <td>Yes</td>\n",
              "      <td>Mailed check</td>\n",
              "      <td>19.70</td>\n",
              "      <td></td>\n",
              "      <td>0</td>\n",
              "    </tr>\n",
              "    <tr>\n",
              "      <th>6772</th>\n",
              "      <td>Bell</td>\n",
              "      <td>90201</td>\n",
              "      <td>33.970343</td>\n",
              "      <td>-118.171368</td>\n",
              "      <td>Female</td>\n",
              "      <td>No</td>\n",
              "      <td>Yes</td>\n",
              "      <td>Yes</td>\n",
              "      <td>0</td>\n",
              "      <td>Yes</td>\n",
              "      <td>...</td>\n",
              "      <td>Yes</td>\n",
              "      <td>Yes</td>\n",
              "      <td>Yes</td>\n",
              "      <td>No</td>\n",
              "      <td>Two year</td>\n",
              "      <td>No</td>\n",
              "      <td>Mailed check</td>\n",
              "      <td>73.35</td>\n",
              "      <td></td>\n",
              "      <td>0</td>\n",
              "    </tr>\n",
              "    <tr>\n",
              "      <th>6840</th>\n",
              "      <td>Wilmington</td>\n",
              "      <td>90744</td>\n",
              "      <td>33.782068</td>\n",
              "      <td>-118.262263</td>\n",
              "      <td>Male</td>\n",
              "      <td>No</td>\n",
              "      <td>No</td>\n",
              "      <td>Yes</td>\n",
              "      <td>0</td>\n",
              "      <td>Yes</td>\n",
              "      <td>...</td>\n",
              "      <td>No</td>\n",
              "      <td>Yes</td>\n",
              "      <td>No</td>\n",
              "      <td>No</td>\n",
              "      <td>Two year</td>\n",
              "      <td>Yes</td>\n",
              "      <td>Bank transfer (automatic)</td>\n",
              "      <td>61.90</td>\n",
              "      <td></td>\n",
              "      <td>0</td>\n",
              "    </tr>\n",
              "  </tbody>\n",
              "</table>\n",
              "<p>11 rows × 24 columns</p>\n",
              "</div>\n",
              "    <div class=\"colab-df-buttons\">\n",
              "\n",
              "  <div class=\"colab-df-container\">\n",
              "    <button class=\"colab-df-convert\" onclick=\"convertToInteractive('df-910bf467-2921-4685-9b09-402e6937a32b')\"\n",
              "            title=\"Convert this dataframe to an interactive table.\"\n",
              "            style=\"display:none;\">\n",
              "\n",
              "  <svg xmlns=\"http://www.w3.org/2000/svg\" height=\"24px\" viewBox=\"0 -960 960 960\">\n",
              "    <path d=\"M120-120v-720h720v720H120Zm60-500h600v-160H180v160Zm220 220h160v-160H400v160Zm0 220h160v-160H400v160ZM180-400h160v-160H180v160Zm440 0h160v-160H620v160ZM180-180h160v-160H180v160Zm440 0h160v-160H620v160Z\"/>\n",
              "  </svg>\n",
              "    </button>\n",
              "\n",
              "  <style>\n",
              "    .colab-df-container {\n",
              "      display:flex;\n",
              "      gap: 12px;\n",
              "    }\n",
              "\n",
              "    .colab-df-convert {\n",
              "      background-color: #E8F0FE;\n",
              "      border: none;\n",
              "      border-radius: 50%;\n",
              "      cursor: pointer;\n",
              "      display: none;\n",
              "      fill: #1967D2;\n",
              "      height: 32px;\n",
              "      padding: 0 0 0 0;\n",
              "      width: 32px;\n",
              "    }\n",
              "\n",
              "    .colab-df-convert:hover {\n",
              "      background-color: #E2EBFA;\n",
              "      box-shadow: 0px 1px 2px rgba(60, 64, 67, 0.3), 0px 1px 3px 1px rgba(60, 64, 67, 0.15);\n",
              "      fill: #174EA6;\n",
              "    }\n",
              "\n",
              "    .colab-df-buttons div {\n",
              "      margin-bottom: 4px;\n",
              "    }\n",
              "\n",
              "    [theme=dark] .colab-df-convert {\n",
              "      background-color: #3B4455;\n",
              "      fill: #D2E3FC;\n",
              "    }\n",
              "\n",
              "    [theme=dark] .colab-df-convert:hover {\n",
              "      background-color: #434B5C;\n",
              "      box-shadow: 0px 1px 3px 1px rgba(0, 0, 0, 0.15);\n",
              "      filter: drop-shadow(0px 1px 2px rgba(0, 0, 0, 0.3));\n",
              "      fill: #FFFFFF;\n",
              "    }\n",
              "  </style>\n",
              "\n",
              "    <script>\n",
              "      const buttonEl =\n",
              "        document.querySelector('#df-910bf467-2921-4685-9b09-402e6937a32b button.colab-df-convert');\n",
              "      buttonEl.style.display =\n",
              "        google.colab.kernel.accessAllowed ? 'block' : 'none';\n",
              "\n",
              "      async function convertToInteractive(key) {\n",
              "        const element = document.querySelector('#df-910bf467-2921-4685-9b09-402e6937a32b');\n",
              "        const dataTable =\n",
              "          await google.colab.kernel.invokeFunction('convertToInteractive',\n",
              "                                                    [key], {});\n",
              "        if (!dataTable) return;\n",
              "\n",
              "        const docLinkHtml = 'Like what you see? Visit the ' +\n",
              "          '<a target=\"_blank\" href=https://colab.research.google.com/notebooks/data_table.ipynb>data table notebook</a>'\n",
              "          + ' to learn more about interactive tables.';\n",
              "        element.innerHTML = '';\n",
              "        dataTable['output_type'] = 'display_data';\n",
              "        await google.colab.output.renderOutput(dataTable, element);\n",
              "        const docLink = document.createElement('div');\n",
              "        docLink.innerHTML = docLinkHtml;\n",
              "        element.appendChild(docLink);\n",
              "      }\n",
              "    </script>\n",
              "  </div>\n",
              "\n",
              "\n",
              "<div id=\"df-34d614e7-0b02-4e22-beb7-8102a64a634f\">\n",
              "  <button class=\"colab-df-quickchart\" onclick=\"quickchart('df-34d614e7-0b02-4e22-beb7-8102a64a634f')\"\n",
              "            title=\"Suggest charts\"\n",
              "            style=\"display:none;\">\n",
              "\n",
              "<svg xmlns=\"http://www.w3.org/2000/svg\" height=\"24px\"viewBox=\"0 0 24 24\"\n",
              "     width=\"24px\">\n",
              "    <g>\n",
              "        <path d=\"M19 3H5c-1.1 0-2 .9-2 2v14c0 1.1.9 2 2 2h14c1.1 0 2-.9 2-2V5c0-1.1-.9-2-2-2zM9 17H7v-7h2v7zm4 0h-2V7h2v10zm4 0h-2v-4h2v4z\"/>\n",
              "    </g>\n",
              "</svg>\n",
              "  </button>\n",
              "\n",
              "<style>\n",
              "  .colab-df-quickchart {\n",
              "      --bg-color: #E8F0FE;\n",
              "      --fill-color: #1967D2;\n",
              "      --hover-bg-color: #E2EBFA;\n",
              "      --hover-fill-color: #174EA6;\n",
              "      --disabled-fill-color: #AAA;\n",
              "      --disabled-bg-color: #DDD;\n",
              "  }\n",
              "\n",
              "  [theme=dark] .colab-df-quickchart {\n",
              "      --bg-color: #3B4455;\n",
              "      --fill-color: #D2E3FC;\n",
              "      --hover-bg-color: #434B5C;\n",
              "      --hover-fill-color: #FFFFFF;\n",
              "      --disabled-bg-color: #3B4455;\n",
              "      --disabled-fill-color: #666;\n",
              "  }\n",
              "\n",
              "  .colab-df-quickchart {\n",
              "    background-color: var(--bg-color);\n",
              "    border: none;\n",
              "    border-radius: 50%;\n",
              "    cursor: pointer;\n",
              "    display: none;\n",
              "    fill: var(--fill-color);\n",
              "    height: 32px;\n",
              "    padding: 0;\n",
              "    width: 32px;\n",
              "  }\n",
              "\n",
              "  .colab-df-quickchart:hover {\n",
              "    background-color: var(--hover-bg-color);\n",
              "    box-shadow: 0 1px 2px rgba(60, 64, 67, 0.3), 0 1px 3px 1px rgba(60, 64, 67, 0.15);\n",
              "    fill: var(--button-hover-fill-color);\n",
              "  }\n",
              "\n",
              "  .colab-df-quickchart-complete:disabled,\n",
              "  .colab-df-quickchart-complete:disabled:hover {\n",
              "    background-color: var(--disabled-bg-color);\n",
              "    fill: var(--disabled-fill-color);\n",
              "    box-shadow: none;\n",
              "  }\n",
              "\n",
              "  .colab-df-spinner {\n",
              "    border: 2px solid var(--fill-color);\n",
              "    border-color: transparent;\n",
              "    border-bottom-color: var(--fill-color);\n",
              "    animation:\n",
              "      spin 1s steps(1) infinite;\n",
              "  }\n",
              "\n",
              "  @keyframes spin {\n",
              "    0% {\n",
              "      border-color: transparent;\n",
              "      border-bottom-color: var(--fill-color);\n",
              "      border-left-color: var(--fill-color);\n",
              "    }\n",
              "    20% {\n",
              "      border-color: transparent;\n",
              "      border-left-color: var(--fill-color);\n",
              "      border-top-color: var(--fill-color);\n",
              "    }\n",
              "    30% {\n",
              "      border-color: transparent;\n",
              "      border-left-color: var(--fill-color);\n",
              "      border-top-color: var(--fill-color);\n",
              "      border-right-color: var(--fill-color);\n",
              "    }\n",
              "    40% {\n",
              "      border-color: transparent;\n",
              "      border-right-color: var(--fill-color);\n",
              "      border-top-color: var(--fill-color);\n",
              "    }\n",
              "    60% {\n",
              "      border-color: transparent;\n",
              "      border-right-color: var(--fill-color);\n",
              "    }\n",
              "    80% {\n",
              "      border-color: transparent;\n",
              "      border-right-color: var(--fill-color);\n",
              "      border-bottom-color: var(--fill-color);\n",
              "    }\n",
              "    90% {\n",
              "      border-color: transparent;\n",
              "      border-bottom-color: var(--fill-color);\n",
              "    }\n",
              "  }\n",
              "</style>\n",
              "\n",
              "  <script>\n",
              "    async function quickchart(key) {\n",
              "      const quickchartButtonEl =\n",
              "        document.querySelector('#' + key + ' button');\n",
              "      quickchartButtonEl.disabled = true;  // To prevent multiple clicks.\n",
              "      quickchartButtonEl.classList.add('colab-df-spinner');\n",
              "      try {\n",
              "        const charts = await google.colab.kernel.invokeFunction(\n",
              "            'suggestCharts', [key], {});\n",
              "      } catch (error) {\n",
              "        console.error('Error during call to suggestCharts:', error);\n",
              "      }\n",
              "      quickchartButtonEl.classList.remove('colab-df-spinner');\n",
              "      quickchartButtonEl.classList.add('colab-df-quickchart-complete');\n",
              "    }\n",
              "    (() => {\n",
              "      let quickchartButtonEl =\n",
              "        document.querySelector('#df-34d614e7-0b02-4e22-beb7-8102a64a634f button');\n",
              "      quickchartButtonEl.style.display =\n",
              "        google.colab.kernel.accessAllowed ? 'block' : 'none';\n",
              "    })();\n",
              "  </script>\n",
              "</div>\n",
              "    </div>\n",
              "  </div>\n"
            ],
            "application/vnd.google.colaboratory.intrinsic+json": {
              "type": "dataframe"
            }
          },
          "metadata": {},
          "execution_count": 19
        }
      ]
    },
    {
      "cell_type": "markdown",
      "source": [
        "Replace all the `\" \"` with zeoes"
      ],
      "metadata": {
        "id": "NVPmcunyWEqb"
      }
    },
    {
      "cell_type": "code",
      "source": [
        "df['Total_Charges'] = df['Total_Charges'].replace(\" \", 0)"
      ],
      "metadata": {
        "id": "sTCuNLM4U1kz"
      },
      "execution_count": 20,
      "outputs": []
    },
    {
      "cell_type": "code",
      "source": [
        "len(df.loc[df['Total_Charges'] == ' '])"
      ],
      "metadata": {
        "colab": {
          "base_uri": "https://localhost:8080/"
        },
        "id": "YnWwT2huWDgW",
        "outputId": "0ec41b84-fa32-4c14-df86-3860991d4888"
      },
      "execution_count": 21,
      "outputs": [
        {
          "output_type": "execute_result",
          "data": {
            "text/plain": [
              "0"
            ]
          },
          "metadata": {},
          "execution_count": 21
        }
      ]
    },
    {
      "cell_type": "markdown",
      "source": [
        "XGBoost only allows `int`, `float` , or `Boolean` data types. So we need to convert the object types to numeric"
      ],
      "metadata": {
        "id": "PTW01WC_WIdy"
      }
    },
    {
      "cell_type": "code",
      "source": [
        "df['Total_Charges'] = pd.to_numeric(df['Total_Charges'])\n",
        "df.dtypes"
      ],
      "metadata": {
        "colab": {
          "base_uri": "https://localhost:8080/"
        },
        "id": "9j0hR5O1WXhE",
        "outputId": "d1849864-cef6-4254-bb2b-55b716590cdd"
      },
      "execution_count": 22,
      "outputs": [
        {
          "output_type": "execute_result",
          "data": {
            "text/plain": [
              "City                  object\n",
              "Zip_Code               int64\n",
              "Latitude             float64\n",
              "Longitude            float64\n",
              "Gender                object\n",
              "Senior_Citizen        object\n",
              "Partner               object\n",
              "Dependents            object\n",
              "Tenure_Months          int64\n",
              "Phone_Service         object\n",
              "Multiple_Lines        object\n",
              "Internet_Service      object\n",
              "Online_Security       object\n",
              "Online_Backup         object\n",
              "Device_Protection     object\n",
              "Tech_Support          object\n",
              "Streaming_TV          object\n",
              "Streaming_Movies      object\n",
              "Contract              object\n",
              "Paperless_Billing     object\n",
              "Payment_Method        object\n",
              "Monthly_Charges      float64\n",
              "Total_Charges        float64\n",
              "Churn_Value            int64\n",
              "dtype: object"
            ]
          },
          "metadata": {},
          "execution_count": 22
        }
      ]
    },
    {
      "cell_type": "markdown",
      "source": [
        "#### Remove Irrelevent Rows"
      ],
      "metadata": {
        "id": "3ju5siDdIckt"
      }
    },
    {
      "cell_type": "markdown",
      "source": [
        "In this example, we are interested in the `Churn_Value` column.So in that column there are values other than `0` and  `1`. So we need to remove those."
      ],
      "metadata": {
        "id": "SSjBjiT3IiQz"
      }
    },
    {
      "cell_type": "code",
      "source": [
        "# Remove rows where column_A values are NaN\n",
        "df.dropna(subset=['Churn_Value'], inplace = True)\n",
        "# To drop all the raws if there any `nan` value\n",
        "#df.dropna()"
      ],
      "metadata": {
        "id": "vE-3LBsLI3Dw"
      },
      "execution_count": 23,
      "outputs": []
    },
    {
      "cell_type": "markdown",
      "source": [
        "### 4.2.3 Format Data"
      ],
      "metadata": {
        "id": "RZcsQqGs0HKj"
      }
    },
    {
      "cell_type": "markdown",
      "source": [
        "Now need to format the data  for making the XGBoost model.First split the data intotwo parts.\n",
        "1. The columns of data that will use to make classifications\n",
        "2. The column of data that we want to predict\n",
        "\n",
        "Notation <br>\n",
        "- **X** : Features\n",
        "- **y** : Lables\n",
        "\n",
        "Its better to use `copy`. Because in default pandas use  pass by reference.(Since we need to ensure that the original state of the data should not be changed.)"
      ],
      "metadata": {
        "id": "-RoZFNIL0N_p"
      }
    },
    {
      "cell_type": "markdown",
      "source": [
        "#### Make the Features and Lables set"
      ],
      "metadata": {
        "id": "qVYoz7IV3SpC"
      }
    },
    {
      "cell_type": "markdown",
      "source": [
        "In this excercise we need to predict the `Churn_Value`. So To create the Feature set we need to drop the `Churn_Value`. [Remember not to apply the changes to the original file. So use `copy()`]"
      ],
      "metadata": {
        "id": "ZKHP3S8D1eIp"
      }
    },
    {
      "cell_type": "code",
      "source": [
        "X = df.drop('Churn_Value',axis = 1).copy()\n",
        "X .head(5)"
      ],
      "metadata": {
        "colab": {
          "base_uri": "https://localhost:8080/",
          "height": 343
        },
        "id": "Lo1HsMQ_1Wtj",
        "outputId": "1159a222-5f45-44a3-80cb-a2998244c300"
      },
      "execution_count": 24,
      "outputs": [
        {
          "output_type": "execute_result",
          "data": {
            "text/plain": [
              "          City  Zip_Code   Latitude   Longitude  Gender Senior_Citizen  \\\n",
              "0  Los_Angeles     90003  33.964131 -118.272783    Male             No   \n",
              "1  Los_Angeles     90005  34.059281 -118.307420  Female             No   \n",
              "2  Los_Angeles     90006  34.048013 -118.293953  Female             No   \n",
              "3  Los_Angeles     90010  34.062125 -118.315709  Female             No   \n",
              "4  Los_Angeles     90015  34.039224 -118.266293    Male             No   \n",
              "\n",
              "  Partner Dependents  Tenure_Months Phone_Service  ... Online_Backup  \\\n",
              "0      No         No              2           Yes  ...           Yes   \n",
              "1      No        Yes              2           Yes  ...            No   \n",
              "2      No        Yes              8           Yes  ...            No   \n",
              "3     Yes        Yes             28           Yes  ...            No   \n",
              "4      No        Yes             49           Yes  ...           Yes   \n",
              "\n",
              "  Device_Protection Tech_Support Streaming_TV Streaming_Movies  \\\n",
              "0                No           No           No               No   \n",
              "1                No           No           No               No   \n",
              "2               Yes           No          Yes              Yes   \n",
              "3               Yes          Yes          Yes              Yes   \n",
              "4               Yes           No          Yes              Yes   \n",
              "\n",
              "         Contract Paperless_Billing             Payment_Method  \\\n",
              "0  Month-to-month               Yes               Mailed check   \n",
              "1  Month-to-month               Yes           Electronic check   \n",
              "2  Month-to-month               Yes           Electronic check   \n",
              "3  Month-to-month               Yes           Electronic check   \n",
              "4  Month-to-month               Yes  Bank transfer (automatic)   \n",
              "\n",
              "  Monthly_Charges Total_Charges  \n",
              "0           53.85        108.15  \n",
              "1           70.70        151.65  \n",
              "2           99.65        820.50  \n",
              "3          104.80       3046.05  \n",
              "4          103.70       5036.30  \n",
              "\n",
              "[5 rows x 23 columns]"
            ],
            "text/html": [
              "\n",
              "  <div id=\"df-8240a43f-bc3b-4631-8913-2d4b4f5b2aa6\" class=\"colab-df-container\">\n",
              "    <div>\n",
              "<style scoped>\n",
              "    .dataframe tbody tr th:only-of-type {\n",
              "        vertical-align: middle;\n",
              "    }\n",
              "\n",
              "    .dataframe tbody tr th {\n",
              "        vertical-align: top;\n",
              "    }\n",
              "\n",
              "    .dataframe thead th {\n",
              "        text-align: right;\n",
              "    }\n",
              "</style>\n",
              "<table border=\"1\" class=\"dataframe\">\n",
              "  <thead>\n",
              "    <tr style=\"text-align: right;\">\n",
              "      <th></th>\n",
              "      <th>City</th>\n",
              "      <th>Zip_Code</th>\n",
              "      <th>Latitude</th>\n",
              "      <th>Longitude</th>\n",
              "      <th>Gender</th>\n",
              "      <th>Senior_Citizen</th>\n",
              "      <th>Partner</th>\n",
              "      <th>Dependents</th>\n",
              "      <th>Tenure_Months</th>\n",
              "      <th>Phone_Service</th>\n",
              "      <th>...</th>\n",
              "      <th>Online_Backup</th>\n",
              "      <th>Device_Protection</th>\n",
              "      <th>Tech_Support</th>\n",
              "      <th>Streaming_TV</th>\n",
              "      <th>Streaming_Movies</th>\n",
              "      <th>Contract</th>\n",
              "      <th>Paperless_Billing</th>\n",
              "      <th>Payment_Method</th>\n",
              "      <th>Monthly_Charges</th>\n",
              "      <th>Total_Charges</th>\n",
              "    </tr>\n",
              "  </thead>\n",
              "  <tbody>\n",
              "    <tr>\n",
              "      <th>0</th>\n",
              "      <td>Los_Angeles</td>\n",
              "      <td>90003</td>\n",
              "      <td>33.964131</td>\n",
              "      <td>-118.272783</td>\n",
              "      <td>Male</td>\n",
              "      <td>No</td>\n",
              "      <td>No</td>\n",
              "      <td>No</td>\n",
              "      <td>2</td>\n",
              "      <td>Yes</td>\n",
              "      <td>...</td>\n",
              "      <td>Yes</td>\n",
              "      <td>No</td>\n",
              "      <td>No</td>\n",
              "      <td>No</td>\n",
              "      <td>No</td>\n",
              "      <td>Month-to-month</td>\n",
              "      <td>Yes</td>\n",
              "      <td>Mailed check</td>\n",
              "      <td>53.85</td>\n",
              "      <td>108.15</td>\n",
              "    </tr>\n",
              "    <tr>\n",
              "      <th>1</th>\n",
              "      <td>Los_Angeles</td>\n",
              "      <td>90005</td>\n",
              "      <td>34.059281</td>\n",
              "      <td>-118.307420</td>\n",
              "      <td>Female</td>\n",
              "      <td>No</td>\n",
              "      <td>No</td>\n",
              "      <td>Yes</td>\n",
              "      <td>2</td>\n",
              "      <td>Yes</td>\n",
              "      <td>...</td>\n",
              "      <td>No</td>\n",
              "      <td>No</td>\n",
              "      <td>No</td>\n",
              "      <td>No</td>\n",
              "      <td>No</td>\n",
              "      <td>Month-to-month</td>\n",
              "      <td>Yes</td>\n",
              "      <td>Electronic check</td>\n",
              "      <td>70.70</td>\n",
              "      <td>151.65</td>\n",
              "    </tr>\n",
              "    <tr>\n",
              "      <th>2</th>\n",
              "      <td>Los_Angeles</td>\n",
              "      <td>90006</td>\n",
              "      <td>34.048013</td>\n",
              "      <td>-118.293953</td>\n",
              "      <td>Female</td>\n",
              "      <td>No</td>\n",
              "      <td>No</td>\n",
              "      <td>Yes</td>\n",
              "      <td>8</td>\n",
              "      <td>Yes</td>\n",
              "      <td>...</td>\n",
              "      <td>No</td>\n",
              "      <td>Yes</td>\n",
              "      <td>No</td>\n",
              "      <td>Yes</td>\n",
              "      <td>Yes</td>\n",
              "      <td>Month-to-month</td>\n",
              "      <td>Yes</td>\n",
              "      <td>Electronic check</td>\n",
              "      <td>99.65</td>\n",
              "      <td>820.50</td>\n",
              "    </tr>\n",
              "    <tr>\n",
              "      <th>3</th>\n",
              "      <td>Los_Angeles</td>\n",
              "      <td>90010</td>\n",
              "      <td>34.062125</td>\n",
              "      <td>-118.315709</td>\n",
              "      <td>Female</td>\n",
              "      <td>No</td>\n",
              "      <td>Yes</td>\n",
              "      <td>Yes</td>\n",
              "      <td>28</td>\n",
              "      <td>Yes</td>\n",
              "      <td>...</td>\n",
              "      <td>No</td>\n",
              "      <td>Yes</td>\n",
              "      <td>Yes</td>\n",
              "      <td>Yes</td>\n",
              "      <td>Yes</td>\n",
              "      <td>Month-to-month</td>\n",
              "      <td>Yes</td>\n",
              "      <td>Electronic check</td>\n",
              "      <td>104.80</td>\n",
              "      <td>3046.05</td>\n",
              "    </tr>\n",
              "    <tr>\n",
              "      <th>4</th>\n",
              "      <td>Los_Angeles</td>\n",
              "      <td>90015</td>\n",
              "      <td>34.039224</td>\n",
              "      <td>-118.266293</td>\n",
              "      <td>Male</td>\n",
              "      <td>No</td>\n",
              "      <td>No</td>\n",
              "      <td>Yes</td>\n",
              "      <td>49</td>\n",
              "      <td>Yes</td>\n",
              "      <td>...</td>\n",
              "      <td>Yes</td>\n",
              "      <td>Yes</td>\n",
              "      <td>No</td>\n",
              "      <td>Yes</td>\n",
              "      <td>Yes</td>\n",
              "      <td>Month-to-month</td>\n",
              "      <td>Yes</td>\n",
              "      <td>Bank transfer (automatic)</td>\n",
              "      <td>103.70</td>\n",
              "      <td>5036.30</td>\n",
              "    </tr>\n",
              "  </tbody>\n",
              "</table>\n",
              "<p>5 rows × 23 columns</p>\n",
              "</div>\n",
              "    <div class=\"colab-df-buttons\">\n",
              "\n",
              "  <div class=\"colab-df-container\">\n",
              "    <button class=\"colab-df-convert\" onclick=\"convertToInteractive('df-8240a43f-bc3b-4631-8913-2d4b4f5b2aa6')\"\n",
              "            title=\"Convert this dataframe to an interactive table.\"\n",
              "            style=\"display:none;\">\n",
              "\n",
              "  <svg xmlns=\"http://www.w3.org/2000/svg\" height=\"24px\" viewBox=\"0 -960 960 960\">\n",
              "    <path d=\"M120-120v-720h720v720H120Zm60-500h600v-160H180v160Zm220 220h160v-160H400v160Zm0 220h160v-160H400v160ZM180-400h160v-160H180v160Zm440 0h160v-160H620v160ZM180-180h160v-160H180v160Zm440 0h160v-160H620v160Z\"/>\n",
              "  </svg>\n",
              "    </button>\n",
              "\n",
              "  <style>\n",
              "    .colab-df-container {\n",
              "      display:flex;\n",
              "      gap: 12px;\n",
              "    }\n",
              "\n",
              "    .colab-df-convert {\n",
              "      background-color: #E8F0FE;\n",
              "      border: none;\n",
              "      border-radius: 50%;\n",
              "      cursor: pointer;\n",
              "      display: none;\n",
              "      fill: #1967D2;\n",
              "      height: 32px;\n",
              "      padding: 0 0 0 0;\n",
              "      width: 32px;\n",
              "    }\n",
              "\n",
              "    .colab-df-convert:hover {\n",
              "      background-color: #E2EBFA;\n",
              "      box-shadow: 0px 1px 2px rgba(60, 64, 67, 0.3), 0px 1px 3px 1px rgba(60, 64, 67, 0.15);\n",
              "      fill: #174EA6;\n",
              "    }\n",
              "\n",
              "    .colab-df-buttons div {\n",
              "      margin-bottom: 4px;\n",
              "    }\n",
              "\n",
              "    [theme=dark] .colab-df-convert {\n",
              "      background-color: #3B4455;\n",
              "      fill: #D2E3FC;\n",
              "    }\n",
              "\n",
              "    [theme=dark] .colab-df-convert:hover {\n",
              "      background-color: #434B5C;\n",
              "      box-shadow: 0px 1px 3px 1px rgba(0, 0, 0, 0.15);\n",
              "      filter: drop-shadow(0px 1px 2px rgba(0, 0, 0, 0.3));\n",
              "      fill: #FFFFFF;\n",
              "    }\n",
              "  </style>\n",
              "\n",
              "    <script>\n",
              "      const buttonEl =\n",
              "        document.querySelector('#df-8240a43f-bc3b-4631-8913-2d4b4f5b2aa6 button.colab-df-convert');\n",
              "      buttonEl.style.display =\n",
              "        google.colab.kernel.accessAllowed ? 'block' : 'none';\n",
              "\n",
              "      async function convertToInteractive(key) {\n",
              "        const element = document.querySelector('#df-8240a43f-bc3b-4631-8913-2d4b4f5b2aa6');\n",
              "        const dataTable =\n",
              "          await google.colab.kernel.invokeFunction('convertToInteractive',\n",
              "                                                    [key], {});\n",
              "        if (!dataTable) return;\n",
              "\n",
              "        const docLinkHtml = 'Like what you see? Visit the ' +\n",
              "          '<a target=\"_blank\" href=https://colab.research.google.com/notebooks/data_table.ipynb>data table notebook</a>'\n",
              "          + ' to learn more about interactive tables.';\n",
              "        element.innerHTML = '';\n",
              "        dataTable['output_type'] = 'display_data';\n",
              "        await google.colab.output.renderOutput(dataTable, element);\n",
              "        const docLink = document.createElement('div');\n",
              "        docLink.innerHTML = docLinkHtml;\n",
              "        element.appendChild(docLink);\n",
              "      }\n",
              "    </script>\n",
              "  </div>\n",
              "\n",
              "\n",
              "<div id=\"df-b18e8c6d-398f-4005-881f-d6bdc5032704\">\n",
              "  <button class=\"colab-df-quickchart\" onclick=\"quickchart('df-b18e8c6d-398f-4005-881f-d6bdc5032704')\"\n",
              "            title=\"Suggest charts\"\n",
              "            style=\"display:none;\">\n",
              "\n",
              "<svg xmlns=\"http://www.w3.org/2000/svg\" height=\"24px\"viewBox=\"0 0 24 24\"\n",
              "     width=\"24px\">\n",
              "    <g>\n",
              "        <path d=\"M19 3H5c-1.1 0-2 .9-2 2v14c0 1.1.9 2 2 2h14c1.1 0 2-.9 2-2V5c0-1.1-.9-2-2-2zM9 17H7v-7h2v7zm4 0h-2V7h2v10zm4 0h-2v-4h2v4z\"/>\n",
              "    </g>\n",
              "</svg>\n",
              "  </button>\n",
              "\n",
              "<style>\n",
              "  .colab-df-quickchart {\n",
              "      --bg-color: #E8F0FE;\n",
              "      --fill-color: #1967D2;\n",
              "      --hover-bg-color: #E2EBFA;\n",
              "      --hover-fill-color: #174EA6;\n",
              "      --disabled-fill-color: #AAA;\n",
              "      --disabled-bg-color: #DDD;\n",
              "  }\n",
              "\n",
              "  [theme=dark] .colab-df-quickchart {\n",
              "      --bg-color: #3B4455;\n",
              "      --fill-color: #D2E3FC;\n",
              "      --hover-bg-color: #434B5C;\n",
              "      --hover-fill-color: #FFFFFF;\n",
              "      --disabled-bg-color: #3B4455;\n",
              "      --disabled-fill-color: #666;\n",
              "  }\n",
              "\n",
              "  .colab-df-quickchart {\n",
              "    background-color: var(--bg-color);\n",
              "    border: none;\n",
              "    border-radius: 50%;\n",
              "    cursor: pointer;\n",
              "    display: none;\n",
              "    fill: var(--fill-color);\n",
              "    height: 32px;\n",
              "    padding: 0;\n",
              "    width: 32px;\n",
              "  }\n",
              "\n",
              "  .colab-df-quickchart:hover {\n",
              "    background-color: var(--hover-bg-color);\n",
              "    box-shadow: 0 1px 2px rgba(60, 64, 67, 0.3), 0 1px 3px 1px rgba(60, 64, 67, 0.15);\n",
              "    fill: var(--button-hover-fill-color);\n",
              "  }\n",
              "\n",
              "  .colab-df-quickchart-complete:disabled,\n",
              "  .colab-df-quickchart-complete:disabled:hover {\n",
              "    background-color: var(--disabled-bg-color);\n",
              "    fill: var(--disabled-fill-color);\n",
              "    box-shadow: none;\n",
              "  }\n",
              "\n",
              "  .colab-df-spinner {\n",
              "    border: 2px solid var(--fill-color);\n",
              "    border-color: transparent;\n",
              "    border-bottom-color: var(--fill-color);\n",
              "    animation:\n",
              "      spin 1s steps(1) infinite;\n",
              "  }\n",
              "\n",
              "  @keyframes spin {\n",
              "    0% {\n",
              "      border-color: transparent;\n",
              "      border-bottom-color: var(--fill-color);\n",
              "      border-left-color: var(--fill-color);\n",
              "    }\n",
              "    20% {\n",
              "      border-color: transparent;\n",
              "      border-left-color: var(--fill-color);\n",
              "      border-top-color: var(--fill-color);\n",
              "    }\n",
              "    30% {\n",
              "      border-color: transparent;\n",
              "      border-left-color: var(--fill-color);\n",
              "      border-top-color: var(--fill-color);\n",
              "      border-right-color: var(--fill-color);\n",
              "    }\n",
              "    40% {\n",
              "      border-color: transparent;\n",
              "      border-right-color: var(--fill-color);\n",
              "      border-top-color: var(--fill-color);\n",
              "    }\n",
              "    60% {\n",
              "      border-color: transparent;\n",
              "      border-right-color: var(--fill-color);\n",
              "    }\n",
              "    80% {\n",
              "      border-color: transparent;\n",
              "      border-right-color: var(--fill-color);\n",
              "      border-bottom-color: var(--fill-color);\n",
              "    }\n",
              "    90% {\n",
              "      border-color: transparent;\n",
              "      border-bottom-color: var(--fill-color);\n",
              "    }\n",
              "  }\n",
              "</style>\n",
              "\n",
              "  <script>\n",
              "    async function quickchart(key) {\n",
              "      const quickchartButtonEl =\n",
              "        document.querySelector('#' + key + ' button');\n",
              "      quickchartButtonEl.disabled = true;  // To prevent multiple clicks.\n",
              "      quickchartButtonEl.classList.add('colab-df-spinner');\n",
              "      try {\n",
              "        const charts = await google.colab.kernel.invokeFunction(\n",
              "            'suggestCharts', [key], {});\n",
              "      } catch (error) {\n",
              "        console.error('Error during call to suggestCharts:', error);\n",
              "      }\n",
              "      quickchartButtonEl.classList.remove('colab-df-spinner');\n",
              "      quickchartButtonEl.classList.add('colab-df-quickchart-complete');\n",
              "    }\n",
              "    (() => {\n",
              "      let quickchartButtonEl =\n",
              "        document.querySelector('#df-b18e8c6d-398f-4005-881f-d6bdc5032704 button');\n",
              "      quickchartButtonEl.style.display =\n",
              "        google.colab.kernel.accessAllowed ? 'block' : 'none';\n",
              "    })();\n",
              "  </script>\n",
              "</div>\n",
              "    </div>\n",
              "  </div>\n"
            ],
            "application/vnd.google.colaboratory.intrinsic+json": {
              "type": "dataframe"
            }
          },
          "metadata": {},
          "execution_count": 24
        }
      ]
    },
    {
      "cell_type": "markdown",
      "source": [
        "Now make the lable set"
      ],
      "metadata": {
        "id": "IVSUJIMn2zOG"
      }
    },
    {
      "cell_type": "code",
      "source": [
        "y = df['Churn_Value'].copy()\n",
        "y.head(5)"
      ],
      "metadata": {
        "colab": {
          "base_uri": "https://localhost:8080/"
        },
        "id": "v-k-tc6c2xOt",
        "outputId": "1a3c57c6-fc90-475c-d3fe-8fd8a3b149ee"
      },
      "execution_count": 25,
      "outputs": [
        {
          "output_type": "execute_result",
          "data": {
            "text/plain": [
              "0    1\n",
              "1    1\n",
              "2    1\n",
              "3    1\n",
              "4    1\n",
              "Name: Churn_Value, dtype: int64"
            ]
          },
          "metadata": {},
          "execution_count": 25
        }
      ]
    },
    {
      "cell_type": "markdown",
      "source": [
        "#### One Hot Encoding"
      ],
      "metadata": {
        "id": "mdixZU1A3GsN"
      }
    },
    {
      "cell_type": "markdown",
      "source": [
        "In the one hot encoding we map the unique  non-numeric features to encoded-matrix."
      ],
      "metadata": {
        "id": "M6dVjaRb3cEv"
      }
    },
    {
      "cell_type": "markdown",
      "source": [
        "| Aspect                 | One-Hot Encoding                                      | Assigning Integers                                   |\n",
        "|------------------------|-------------------------------------------------------|------------------------------------------------------|\n",
        "| Representation         | Creates binary columns for each category              | Maps categories to integer values (0, 1, 2, ...)     |\n",
        "| Dimensionality         | Increases dimensionality significantly                | Maintains original dimensionality                    |\n",
        "| Interpretability       | Easy to interpret since each category is explicit    | Interpretability can be lost depending on the mapping|\n",
        "| Memory Usage           | Can significantly increase memory usage               | Memory efficient as it uses integers                 |\n",
        "| Performance            | Suitable for sparse datasets, might affect performance| Generally faster, especially with large datasets     |\n",
        "| Handling New Categories| Requires additional handling for new categories      | Can handle new categories more gracefully            |\n",
        "| Computational Efficiency| Less efficient due to increased dimensionality       | More efficient due to reduced dimensionality         |\n"
      ],
      "metadata": {
        "id": "uvsNDYXDB2IB"
      }
    },
    {
      "cell_type": "markdown",
      "source": [
        "![image.png](data:image/png;base64,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)"
      ],
      "metadata": {
        "id": "xPdRe4bpBbsV"
      }
    },
    {
      "cell_type": "markdown",
      "source": [
        "Lets see the working of the one hot encoding for `Payment_Method`"
      ],
      "metadata": {
        "id": "gMCm4nVF_K4A"
      }
    },
    {
      "cell_type": "code",
      "source": [
        "df['Payment_Method'].unique()"
      ],
      "metadata": {
        "colab": {
          "base_uri": "https://localhost:8080/"
        },
        "id": "pt4lj0X3_awh",
        "outputId": "ebd8a620-4111-4826-f066-05db88bb1c56"
      },
      "execution_count": 26,
      "outputs": [
        {
          "output_type": "execute_result",
          "data": {
            "text/plain": [
              "array(['Mailed check', 'Electronic check', 'Bank transfer (automatic)',\n",
              "       'Credit card (automatic)'], dtype=object)"
            ]
          },
          "metadata": {},
          "execution_count": 26
        }
      ]
    },
    {
      "cell_type": "markdown",
      "source": [
        "Available options are `['Mailed check', 'Electronic check', 'Bank transfer (automatic)','Credit card (automatic)', nan]`"
      ],
      "metadata": {
        "id": "BufwGzsf_mvH"
      }
    },
    {
      "cell_type": "code",
      "source": [
        "pd.get_dummies(X, columns=['Payment_Method']).head()"
      ],
      "metadata": {
        "colab": {
          "base_uri": "https://localhost:8080/",
          "height": 377
        },
        "id": "0HYPSw-i_scv",
        "outputId": "c5e17ffc-ee96-4b6d-d50f-1b1840699932"
      },
      "execution_count": 27,
      "outputs": [
        {
          "output_type": "execute_result",
          "data": {
            "text/plain": [
              "          City  Zip_Code   Latitude   Longitude  Gender Senior_Citizen  \\\n",
              "0  Los_Angeles     90003  33.964131 -118.272783    Male             No   \n",
              "1  Los_Angeles     90005  34.059281 -118.307420  Female             No   \n",
              "2  Los_Angeles     90006  34.048013 -118.293953  Female             No   \n",
              "3  Los_Angeles     90010  34.062125 -118.315709  Female             No   \n",
              "4  Los_Angeles     90015  34.039224 -118.266293    Male             No   \n",
              "\n",
              "  Partner Dependents  Tenure_Months Phone_Service  ... Streaming_TV  \\\n",
              "0      No         No              2           Yes  ...           No   \n",
              "1      No        Yes              2           Yes  ...           No   \n",
              "2      No        Yes              8           Yes  ...          Yes   \n",
              "3     Yes        Yes             28           Yes  ...          Yes   \n",
              "4      No        Yes             49           Yes  ...          Yes   \n",
              "\n",
              "  Streaming_Movies        Contract Paperless_Billing Monthly_Charges  \\\n",
              "0               No  Month-to-month               Yes           53.85   \n",
              "1               No  Month-to-month               Yes           70.70   \n",
              "2              Yes  Month-to-month               Yes           99.65   \n",
              "3              Yes  Month-to-month               Yes          104.80   \n",
              "4              Yes  Month-to-month               Yes          103.70   \n",
              "\n",
              "  Total_Charges Payment_Method_Bank transfer (automatic)  \\\n",
              "0        108.15                                    False   \n",
              "1        151.65                                    False   \n",
              "2        820.50                                    False   \n",
              "3       3046.05                                    False   \n",
              "4       5036.30                                     True   \n",
              "\n",
              "  Payment_Method_Credit card (automatic) Payment_Method_Electronic check  \\\n",
              "0                                  False                           False   \n",
              "1                                  False                            True   \n",
              "2                                  False                            True   \n",
              "3                                  False                            True   \n",
              "4                                  False                           False   \n",
              "\n",
              "  Payment_Method_Mailed check  \n",
              "0                        True  \n",
              "1                       False  \n",
              "2                       False  \n",
              "3                       False  \n",
              "4                       False  \n",
              "\n",
              "[5 rows x 26 columns]"
            ],
            "text/html": [
              "\n",
              "  <div id=\"df-d1e9b05e-c1c4-4365-be9b-0ea813fa5e2c\" class=\"colab-df-container\">\n",
              "    <div>\n",
              "<style scoped>\n",
              "    .dataframe tbody tr th:only-of-type {\n",
              "        vertical-align: middle;\n",
              "    }\n",
              "\n",
              "    .dataframe tbody tr th {\n",
              "        vertical-align: top;\n",
              "    }\n",
              "\n",
              "    .dataframe thead th {\n",
              "        text-align: right;\n",
              "    }\n",
              "</style>\n",
              "<table border=\"1\" class=\"dataframe\">\n",
              "  <thead>\n",
              "    <tr style=\"text-align: right;\">\n",
              "      <th></th>\n",
              "      <th>City</th>\n",
              "      <th>Zip_Code</th>\n",
              "      <th>Latitude</th>\n",
              "      <th>Longitude</th>\n",
              "      <th>Gender</th>\n",
              "      <th>Senior_Citizen</th>\n",
              "      <th>Partner</th>\n",
              "      <th>Dependents</th>\n",
              "      <th>Tenure_Months</th>\n",
              "      <th>Phone_Service</th>\n",
              "      <th>...</th>\n",
              "      <th>Streaming_TV</th>\n",
              "      <th>Streaming_Movies</th>\n",
              "      <th>Contract</th>\n",
              "      <th>Paperless_Billing</th>\n",
              "      <th>Monthly_Charges</th>\n",
              "      <th>Total_Charges</th>\n",
              "      <th>Payment_Method_Bank transfer (automatic)</th>\n",
              "      <th>Payment_Method_Credit card (automatic)</th>\n",
              "      <th>Payment_Method_Electronic check</th>\n",
              "      <th>Payment_Method_Mailed check</th>\n",
              "    </tr>\n",
              "  </thead>\n",
              "  <tbody>\n",
              "    <tr>\n",
              "      <th>0</th>\n",
              "      <td>Los_Angeles</td>\n",
              "      <td>90003</td>\n",
              "      <td>33.964131</td>\n",
              "      <td>-118.272783</td>\n",
              "      <td>Male</td>\n",
              "      <td>No</td>\n",
              "      <td>No</td>\n",
              "      <td>No</td>\n",
              "      <td>2</td>\n",
              "      <td>Yes</td>\n",
              "      <td>...</td>\n",
              "      <td>No</td>\n",
              "      <td>No</td>\n",
              "      <td>Month-to-month</td>\n",
              "      <td>Yes</td>\n",
              "      <td>53.85</td>\n",
              "      <td>108.15</td>\n",
              "      <td>False</td>\n",
              "      <td>False</td>\n",
              "      <td>False</td>\n",
              "      <td>True</td>\n",
              "    </tr>\n",
              "    <tr>\n",
              "      <th>1</th>\n",
              "      <td>Los_Angeles</td>\n",
              "      <td>90005</td>\n",
              "      <td>34.059281</td>\n",
              "      <td>-118.307420</td>\n",
              "      <td>Female</td>\n",
              "      <td>No</td>\n",
              "      <td>No</td>\n",
              "      <td>Yes</td>\n",
              "      <td>2</td>\n",
              "      <td>Yes</td>\n",
              "      <td>...</td>\n",
              "      <td>No</td>\n",
              "      <td>No</td>\n",
              "      <td>Month-to-month</td>\n",
              "      <td>Yes</td>\n",
              "      <td>70.70</td>\n",
              "      <td>151.65</td>\n",
              "      <td>False</td>\n",
              "      <td>False</td>\n",
              "      <td>True</td>\n",
              "      <td>False</td>\n",
              "    </tr>\n",
              "    <tr>\n",
              "      <th>2</th>\n",
              "      <td>Los_Angeles</td>\n",
              "      <td>90006</td>\n",
              "      <td>34.048013</td>\n",
              "      <td>-118.293953</td>\n",
              "      <td>Female</td>\n",
              "      <td>No</td>\n",
              "      <td>No</td>\n",
              "      <td>Yes</td>\n",
              "      <td>8</td>\n",
              "      <td>Yes</td>\n",
              "      <td>...</td>\n",
              "      <td>Yes</td>\n",
              "      <td>Yes</td>\n",
              "      <td>Month-to-month</td>\n",
              "      <td>Yes</td>\n",
              "      <td>99.65</td>\n",
              "      <td>820.50</td>\n",
              "      <td>False</td>\n",
              "      <td>False</td>\n",
              "      <td>True</td>\n",
              "      <td>False</td>\n",
              "    </tr>\n",
              "    <tr>\n",
              "      <th>3</th>\n",
              "      <td>Los_Angeles</td>\n",
              "      <td>90010</td>\n",
              "      <td>34.062125</td>\n",
              "      <td>-118.315709</td>\n",
              "      <td>Female</td>\n",
              "      <td>No</td>\n",
              "      <td>Yes</td>\n",
              "      <td>Yes</td>\n",
              "      <td>28</td>\n",
              "      <td>Yes</td>\n",
              "      <td>...</td>\n",
              "      <td>Yes</td>\n",
              "      <td>Yes</td>\n",
              "      <td>Month-to-month</td>\n",
              "      <td>Yes</td>\n",
              "      <td>104.80</td>\n",
              "      <td>3046.05</td>\n",
              "      <td>False</td>\n",
              "      <td>False</td>\n",
              "      <td>True</td>\n",
              "      <td>False</td>\n",
              "    </tr>\n",
              "    <tr>\n",
              "      <th>4</th>\n",
              "      <td>Los_Angeles</td>\n",
              "      <td>90015</td>\n",
              "      <td>34.039224</td>\n",
              "      <td>-118.266293</td>\n",
              "      <td>Male</td>\n",
              "      <td>No</td>\n",
              "      <td>No</td>\n",
              "      <td>Yes</td>\n",
              "      <td>49</td>\n",
              "      <td>Yes</td>\n",
              "      <td>...</td>\n",
              "      <td>Yes</td>\n",
              "      <td>Yes</td>\n",
              "      <td>Month-to-month</td>\n",
              "      <td>Yes</td>\n",
              "      <td>103.70</td>\n",
              "      <td>5036.30</td>\n",
              "      <td>True</td>\n",
              "      <td>False</td>\n",
              "      <td>False</td>\n",
              "      <td>False</td>\n",
              "    </tr>\n",
              "  </tbody>\n",
              "</table>\n",
              "<p>5 rows × 26 columns</p>\n",
              "</div>\n",
              "    <div class=\"colab-df-buttons\">\n",
              "\n",
              "  <div class=\"colab-df-container\">\n",
              "    <button class=\"colab-df-convert\" onclick=\"convertToInteractive('df-d1e9b05e-c1c4-4365-be9b-0ea813fa5e2c')\"\n",
              "            title=\"Convert this dataframe to an interactive table.\"\n",
              "            style=\"display:none;\">\n",
              "\n",
              "  <svg xmlns=\"http://www.w3.org/2000/svg\" height=\"24px\" viewBox=\"0 -960 960 960\">\n",
              "    <path d=\"M120-120v-720h720v720H120Zm60-500h600v-160H180v160Zm220 220h160v-160H400v160Zm0 220h160v-160H400v160ZM180-400h160v-160H180v160Zm440 0h160v-160H620v160ZM180-180h160v-160H180v160Zm440 0h160v-160H620v160Z\"/>\n",
              "  </svg>\n",
              "    </button>\n",
              "\n",
              "  <style>\n",
              "    .colab-df-container {\n",
              "      display:flex;\n",
              "      gap: 12px;\n",
              "    }\n",
              "\n",
              "    .colab-df-convert {\n",
              "      background-color: #E8F0FE;\n",
              "      border: none;\n",
              "      border-radius: 50%;\n",
              "      cursor: pointer;\n",
              "      display: none;\n",
              "      fill: #1967D2;\n",
              "      height: 32px;\n",
              "      padding: 0 0 0 0;\n",
              "      width: 32px;\n",
              "    }\n",
              "\n",
              "    .colab-df-convert:hover {\n",
              "      background-color: #E2EBFA;\n",
              "      box-shadow: 0px 1px 2px rgba(60, 64, 67, 0.3), 0px 1px 3px 1px rgba(60, 64, 67, 0.15);\n",
              "      fill: #174EA6;\n",
              "    }\n",
              "\n",
              "    .colab-df-buttons div {\n",
              "      margin-bottom: 4px;\n",
              "    }\n",
              "\n",
              "    [theme=dark] .colab-df-convert {\n",
              "      background-color: #3B4455;\n",
              "      fill: #D2E3FC;\n",
              "    }\n",
              "\n",
              "    [theme=dark] .colab-df-convert:hover {\n",
              "      background-color: #434B5C;\n",
              "      box-shadow: 0px 1px 3px 1px rgba(0, 0, 0, 0.15);\n",
              "      filter: drop-shadow(0px 1px 2px rgba(0, 0, 0, 0.3));\n",
              "      fill: #FFFFFF;\n",
              "    }\n",
              "  </style>\n",
              "\n",
              "    <script>\n",
              "      const buttonEl =\n",
              "        document.querySelector('#df-d1e9b05e-c1c4-4365-be9b-0ea813fa5e2c button.colab-df-convert');\n",
              "      buttonEl.style.display =\n",
              "        google.colab.kernel.accessAllowed ? 'block' : 'none';\n",
              "\n",
              "      async function convertToInteractive(key) {\n",
              "        const element = document.querySelector('#df-d1e9b05e-c1c4-4365-be9b-0ea813fa5e2c');\n",
              "        const dataTable =\n",
              "          await google.colab.kernel.invokeFunction('convertToInteractive',\n",
              "                                                    [key], {});\n",
              "        if (!dataTable) return;\n",
              "\n",
              "        const docLinkHtml = 'Like what you see? Visit the ' +\n",
              "          '<a target=\"_blank\" href=https://colab.research.google.com/notebooks/data_table.ipynb>data table notebook</a>'\n",
              "          + ' to learn more about interactive tables.';\n",
              "        element.innerHTML = '';\n",
              "        dataTable['output_type'] = 'display_data';\n",
              "        await google.colab.output.renderOutput(dataTable, element);\n",
              "        const docLink = document.createElement('div');\n",
              "        docLink.innerHTML = docLinkHtml;\n",
              "        element.appendChild(docLink);\n",
              "      }\n",
              "    </script>\n",
              "  </div>\n",
              "\n",
              "\n",
              "<div id=\"df-7219eb45-251a-4024-93a5-d7f3be62b7cf\">\n",
              "  <button class=\"colab-df-quickchart\" onclick=\"quickchart('df-7219eb45-251a-4024-93a5-d7f3be62b7cf')\"\n",
              "            title=\"Suggest charts\"\n",
              "            style=\"display:none;\">\n",
              "\n",
              "<svg xmlns=\"http://www.w3.org/2000/svg\" height=\"24px\"viewBox=\"0 0 24 24\"\n",
              "     width=\"24px\">\n",
              "    <g>\n",
              "        <path d=\"M19 3H5c-1.1 0-2 .9-2 2v14c0 1.1.9 2 2 2h14c1.1 0 2-.9 2-2V5c0-1.1-.9-2-2-2zM9 17H7v-7h2v7zm4 0h-2V7h2v10zm4 0h-2v-4h2v4z\"/>\n",
              "    </g>\n",
              "</svg>\n",
              "  </button>\n",
              "\n",
              "<style>\n",
              "  .colab-df-quickchart {\n",
              "      --bg-color: #E8F0FE;\n",
              "      --fill-color: #1967D2;\n",
              "      --hover-bg-color: #E2EBFA;\n",
              "      --hover-fill-color: #174EA6;\n",
              "      --disabled-fill-color: #AAA;\n",
              "      --disabled-bg-color: #DDD;\n",
              "  }\n",
              "\n",
              "  [theme=dark] .colab-df-quickchart {\n",
              "      --bg-color: #3B4455;\n",
              "      --fill-color: #D2E3FC;\n",
              "      --hover-bg-color: #434B5C;\n",
              "      --hover-fill-color: #FFFFFF;\n",
              "      --disabled-bg-color: #3B4455;\n",
              "      --disabled-fill-color: #666;\n",
              "  }\n",
              "\n",
              "  .colab-df-quickchart {\n",
              "    background-color: var(--bg-color);\n",
              "    border: none;\n",
              "    border-radius: 50%;\n",
              "    cursor: pointer;\n",
              "    display: none;\n",
              "    fill: var(--fill-color);\n",
              "    height: 32px;\n",
              "    padding: 0;\n",
              "    width: 32px;\n",
              "  }\n",
              "\n",
              "  .colab-df-quickchart:hover {\n",
              "    background-color: var(--hover-bg-color);\n",
              "    box-shadow: 0 1px 2px rgba(60, 64, 67, 0.3), 0 1px 3px 1px rgba(60, 64, 67, 0.15);\n",
              "    fill: var(--button-hover-fill-color);\n",
              "  }\n",
              "\n",
              "  .colab-df-quickchart-complete:disabled,\n",
              "  .colab-df-quickchart-complete:disabled:hover {\n",
              "    background-color: var(--disabled-bg-color);\n",
              "    fill: var(--disabled-fill-color);\n",
              "    box-shadow: none;\n",
              "  }\n",
              "\n",
              "  .colab-df-spinner {\n",
              "    border: 2px solid var(--fill-color);\n",
              "    border-color: transparent;\n",
              "    border-bottom-color: var(--fill-color);\n",
              "    animation:\n",
              "      spin 1s steps(1) infinite;\n",
              "  }\n",
              "\n",
              "  @keyframes spin {\n",
              "    0% {\n",
              "      border-color: transparent;\n",
              "      border-bottom-color: var(--fill-color);\n",
              "      border-left-color: var(--fill-color);\n",
              "    }\n",
              "    20% {\n",
              "      border-color: transparent;\n",
              "      border-left-color: var(--fill-color);\n",
              "      border-top-color: var(--fill-color);\n",
              "    }\n",
              "    30% {\n",
              "      border-color: transparent;\n",
              "      border-left-color: var(--fill-color);\n",
              "      border-top-color: var(--fill-color);\n",
              "      border-right-color: var(--fill-color);\n",
              "    }\n",
              "    40% {\n",
              "      border-color: transparent;\n",
              "      border-right-color: var(--fill-color);\n",
              "      border-top-color: var(--fill-color);\n",
              "    }\n",
              "    60% {\n",
              "      border-color: transparent;\n",
              "      border-right-color: var(--fill-color);\n",
              "    }\n",
              "    80% {\n",
              "      border-color: transparent;\n",
              "      border-right-color: var(--fill-color);\n",
              "      border-bottom-color: var(--fill-color);\n",
              "    }\n",
              "    90% {\n",
              "      border-color: transparent;\n",
              "      border-bottom-color: var(--fill-color);\n",
              "    }\n",
              "  }\n",
              "</style>\n",
              "\n",
              "  <script>\n",
              "    async function quickchart(key) {\n",
              "      const quickchartButtonEl =\n",
              "        document.querySelector('#' + key + ' button');\n",
              "      quickchartButtonEl.disabled = true;  // To prevent multiple clicks.\n",
              "      quickchartButtonEl.classList.add('colab-df-spinner');\n",
              "      try {\n",
              "        const charts = await google.colab.kernel.invokeFunction(\n",
              "            'suggestCharts', [key], {});\n",
              "      } catch (error) {\n",
              "        console.error('Error during call to suggestCharts:', error);\n",
              "      }\n",
              "      quickchartButtonEl.classList.remove('colab-df-spinner');\n",
              "      quickchartButtonEl.classList.add('colab-df-quickchart-complete');\n",
              "    }\n",
              "    (() => {\n",
              "      let quickchartButtonEl =\n",
              "        document.querySelector('#df-7219eb45-251a-4024-93a5-d7f3be62b7cf button');\n",
              "      quickchartButtonEl.style.display =\n",
              "        google.colab.kernel.accessAllowed ? 'block' : 'none';\n",
              "    })();\n",
              "  </script>\n",
              "</div>\n",
              "    </div>\n",
              "  </div>\n"
            ],
            "application/vnd.google.colaboratory.intrinsic+json": {
              "type": "dataframe"
            }
          },
          "metadata": {},
          "execution_count": 27
        }
      ]
    },
    {
      "cell_type": "markdown",
      "source": [
        "See that the `Payment_Method` column is now splitted into 4 Columns which have boolean values."
      ],
      "metadata": {
        "id": "YQH_NC5RARvz"
      }
    },
    {
      "cell_type": "code",
      "source": [
        "X.dtypes"
      ],
      "metadata": {
        "colab": {
          "base_uri": "https://localhost:8080/"
        },
        "id": "QG7UVU2_CewH",
        "outputId": "05b62d14-90f5-40c4-a886-c4480b591eb6"
      },
      "execution_count": 28,
      "outputs": [
        {
          "output_type": "execute_result",
          "data": {
            "text/plain": [
              "City                  object\n",
              "Zip_Code               int64\n",
              "Latitude             float64\n",
              "Longitude            float64\n",
              "Gender                object\n",
              "Senior_Citizen        object\n",
              "Partner               object\n",
              "Dependents            object\n",
              "Tenure_Months          int64\n",
              "Phone_Service         object\n",
              "Multiple_Lines        object\n",
              "Internet_Service      object\n",
              "Online_Security       object\n",
              "Online_Backup         object\n",
              "Device_Protection     object\n",
              "Tech_Support          object\n",
              "Streaming_TV          object\n",
              "Streaming_Movies      object\n",
              "Contract              object\n",
              "Paperless_Billing     object\n",
              "Payment_Method        object\n",
              "Monthly_Charges      float64\n",
              "Total_Charges        float64\n",
              "dtype: object"
            ]
          },
          "metadata": {},
          "execution_count": 28
        }
      ]
    },
    {
      "cell_type": "code",
      "source": [
        "# Encode\n",
        "# Select All the required columns [Non numeric types]\n",
        "X_encoded = pd.get_dummies(X, columns = ['City', 'Gender' , 'Senior_Citizen','Partner','Dependents','Phone_Service','Multiple_Lines','Internet_Service','Online_Security','Online_Backup','Device_Protection','Tech_Support','Streaming_TV','Streaming_Movies','Contract','Paperless_Billing','Payment_Method'])\n",
        "X_encoded.head()"
      ],
      "metadata": {
        "colab": {
          "base_uri": "https://localhost:8080/",
          "height": 290
        },
        "id": "V48egcw6B5nO",
        "outputId": "86dc9c89-9435-4644-f6a2-10e917b27d99"
      },
      "execution_count": 29,
      "outputs": [
        {
          "output_type": "execute_result",
          "data": {
            "text/plain": [
              "   Zip_Code   Latitude   Longitude  Tenure_Months  Monthly_Charges  \\\n",
              "0     90003  33.964131 -118.272783              2            53.85   \n",
              "1     90005  34.059281 -118.307420              2            70.70   \n",
              "2     90006  34.048013 -118.293953              8            99.65   \n",
              "3     90010  34.062125 -118.315709             28           104.80   \n",
              "4     90015  34.039224 -118.266293             49           103.70   \n",
              "\n",
              "   Total_Charges  City_Acampo  City_Acton  City_Adelanto  City_Adin  ...  \\\n",
              "0         108.15        False       False          False      False  ...   \n",
              "1         151.65        False       False          False      False  ...   \n",
              "2         820.50        False       False          False      False  ...   \n",
              "3        3046.05        False       False          False      False  ...   \n",
              "4        5036.30        False       False          False      False  ...   \n",
              "\n",
              "   Streaming_Movies_Yes  Contract_Month-to-month  Contract_One year  \\\n",
              "0                 False                     True              False   \n",
              "1                 False                     True              False   \n",
              "2                  True                     True              False   \n",
              "3                  True                     True              False   \n",
              "4                  True                     True              False   \n",
              "\n",
              "   Contract_Two year  Paperless_Billing_No  Paperless_Billing_Yes  \\\n",
              "0              False                 False                   True   \n",
              "1              False                 False                   True   \n",
              "2              False                 False                   True   \n",
              "3              False                 False                   True   \n",
              "4              False                 False                   True   \n",
              "\n",
              "   Payment_Method_Bank transfer (automatic)  \\\n",
              "0                                     False   \n",
              "1                                     False   \n",
              "2                                     False   \n",
              "3                                     False   \n",
              "4                                      True   \n",
              "\n",
              "   Payment_Method_Credit card (automatic)  Payment_Method_Electronic check  \\\n",
              "0                                   False                            False   \n",
              "1                                   False                             True   \n",
              "2                                   False                             True   \n",
              "3                                   False                             True   \n",
              "4                                   False                            False   \n",
              "\n",
              "   Payment_Method_Mailed check  \n",
              "0                         True  \n",
              "1                        False  \n",
              "2                        False  \n",
              "3                        False  \n",
              "4                        False  \n",
              "\n",
              "[5 rows x 1178 columns]"
            ],
            "text/html": [
              "\n",
              "  <div id=\"df-a9814312-9ac1-431c-a2d8-5a67af9898db\" class=\"colab-df-container\">\n",
              "    <div>\n",
              "<style scoped>\n",
              "    .dataframe tbody tr th:only-of-type {\n",
              "        vertical-align: middle;\n",
              "    }\n",
              "\n",
              "    .dataframe tbody tr th {\n",
              "        vertical-align: top;\n",
              "    }\n",
              "\n",
              "    .dataframe thead th {\n",
              "        text-align: right;\n",
              "    }\n",
              "</style>\n",
              "<table border=\"1\" class=\"dataframe\">\n",
              "  <thead>\n",
              "    <tr style=\"text-align: right;\">\n",
              "      <th></th>\n",
              "      <th>Zip_Code</th>\n",
              "      <th>Latitude</th>\n",
              "      <th>Longitude</th>\n",
              "      <th>Tenure_Months</th>\n",
              "      <th>Monthly_Charges</th>\n",
              "      <th>Total_Charges</th>\n",
              "      <th>City_Acampo</th>\n",
              "      <th>City_Acton</th>\n",
              "      <th>City_Adelanto</th>\n",
              "      <th>City_Adin</th>\n",
              "      <th>...</th>\n",
              "      <th>Streaming_Movies_Yes</th>\n",
              "      <th>Contract_Month-to-month</th>\n",
              "      <th>Contract_One year</th>\n",
              "      <th>Contract_Two year</th>\n",
              "      <th>Paperless_Billing_No</th>\n",
              "      <th>Paperless_Billing_Yes</th>\n",
              "      <th>Payment_Method_Bank transfer (automatic)</th>\n",
              "      <th>Payment_Method_Credit card (automatic)</th>\n",
              "      <th>Payment_Method_Electronic check</th>\n",
              "      <th>Payment_Method_Mailed check</th>\n",
              "    </tr>\n",
              "  </thead>\n",
              "  <tbody>\n",
              "    <tr>\n",
              "      <th>0</th>\n",
              "      <td>90003</td>\n",
              "      <td>33.964131</td>\n",
              "      <td>-118.272783</td>\n",
              "      <td>2</td>\n",
              "      <td>53.85</td>\n",
              "      <td>108.15</td>\n",
              "      <td>False</td>\n",
              "      <td>False</td>\n",
              "      <td>False</td>\n",
              "      <td>False</td>\n",
              "      <td>...</td>\n",
              "      <td>False</td>\n",
              "      <td>True</td>\n",
              "      <td>False</td>\n",
              "      <td>False</td>\n",
              "      <td>False</td>\n",
              "      <td>True</td>\n",
              "      <td>False</td>\n",
              "      <td>False</td>\n",
              "      <td>False</td>\n",
              "      <td>True</td>\n",
              "    </tr>\n",
              "    <tr>\n",
              "      <th>1</th>\n",
              "      <td>90005</td>\n",
              "      <td>34.059281</td>\n",
              "      <td>-118.307420</td>\n",
              "      <td>2</td>\n",
              "      <td>70.70</td>\n",
              "      <td>151.65</td>\n",
              "      <td>False</td>\n",
              "      <td>False</td>\n",
              "      <td>False</td>\n",
              "      <td>False</td>\n",
              "      <td>...</td>\n",
              "      <td>False</td>\n",
              "      <td>True</td>\n",
              "      <td>False</td>\n",
              "      <td>False</td>\n",
              "      <td>False</td>\n",
              "      <td>True</td>\n",
              "      <td>False</td>\n",
              "      <td>False</td>\n",
              "      <td>True</td>\n",
              "      <td>False</td>\n",
              "    </tr>\n",
              "    <tr>\n",
              "      <th>2</th>\n",
              "      <td>90006</td>\n",
              "      <td>34.048013</td>\n",
              "      <td>-118.293953</td>\n",
              "      <td>8</td>\n",
              "      <td>99.65</td>\n",
              "      <td>820.50</td>\n",
              "      <td>False</td>\n",
              "      <td>False</td>\n",
              "      <td>False</td>\n",
              "      <td>False</td>\n",
              "      <td>...</td>\n",
              "      <td>True</td>\n",
              "      <td>True</td>\n",
              "      <td>False</td>\n",
              "      <td>False</td>\n",
              "      <td>False</td>\n",
              "      <td>True</td>\n",
              "      <td>False</td>\n",
              "      <td>False</td>\n",
              "      <td>True</td>\n",
              "      <td>False</td>\n",
              "    </tr>\n",
              "    <tr>\n",
              "      <th>3</th>\n",
              "      <td>90010</td>\n",
              "      <td>34.062125</td>\n",
              "      <td>-118.315709</td>\n",
              "      <td>28</td>\n",
              "      <td>104.80</td>\n",
              "      <td>3046.05</td>\n",
              "      <td>False</td>\n",
              "      <td>False</td>\n",
              "      <td>False</td>\n",
              "      <td>False</td>\n",
              "      <td>...</td>\n",
              "      <td>True</td>\n",
              "      <td>True</td>\n",
              "      <td>False</td>\n",
              "      <td>False</td>\n",
              "      <td>False</td>\n",
              "      <td>True</td>\n",
              "      <td>False</td>\n",
              "      <td>False</td>\n",
              "      <td>True</td>\n",
              "      <td>False</td>\n",
              "    </tr>\n",
              "    <tr>\n",
              "      <th>4</th>\n",
              "      <td>90015</td>\n",
              "      <td>34.039224</td>\n",
              "      <td>-118.266293</td>\n",
              "      <td>49</td>\n",
              "      <td>103.70</td>\n",
              "      <td>5036.30</td>\n",
              "      <td>False</td>\n",
              "      <td>False</td>\n",
              "      <td>False</td>\n",
              "      <td>False</td>\n",
              "      <td>...</td>\n",
              "      <td>True</td>\n",
              "      <td>True</td>\n",
              "      <td>False</td>\n",
              "      <td>False</td>\n",
              "      <td>False</td>\n",
              "      <td>True</td>\n",
              "      <td>True</td>\n",
              "      <td>False</td>\n",
              "      <td>False</td>\n",
              "      <td>False</td>\n",
              "    </tr>\n",
              "  </tbody>\n",
              "</table>\n",
              "<p>5 rows × 1178 columns</p>\n",
              "</div>\n",
              "    <div class=\"colab-df-buttons\">\n",
              "\n",
              "  <div class=\"colab-df-container\">\n",
              "    <button class=\"colab-df-convert\" onclick=\"convertToInteractive('df-a9814312-9ac1-431c-a2d8-5a67af9898db')\"\n",
              "            title=\"Convert this dataframe to an interactive table.\"\n",
              "            style=\"display:none;\">\n",
              "\n",
              "  <svg xmlns=\"http://www.w3.org/2000/svg\" height=\"24px\" viewBox=\"0 -960 960 960\">\n",
              "    <path d=\"M120-120v-720h720v720H120Zm60-500h600v-160H180v160Zm220 220h160v-160H400v160Zm0 220h160v-160H400v160ZM180-400h160v-160H180v160Zm440 0h160v-160H620v160ZM180-180h160v-160H180v160Zm440 0h160v-160H620v160Z\"/>\n",
              "  </svg>\n",
              "    </button>\n",
              "\n",
              "  <style>\n",
              "    .colab-df-container {\n",
              "      display:flex;\n",
              "      gap: 12px;\n",
              "    }\n",
              "\n",
              "    .colab-df-convert {\n",
              "      background-color: #E8F0FE;\n",
              "      border: none;\n",
              "      border-radius: 50%;\n",
              "      cursor: pointer;\n",
              "      display: none;\n",
              "      fill: #1967D2;\n",
              "      height: 32px;\n",
              "      padding: 0 0 0 0;\n",
              "      width: 32px;\n",
              "    }\n",
              "\n",
              "    .colab-df-convert:hover {\n",
              "      background-color: #E2EBFA;\n",
              "      box-shadow: 0px 1px 2px rgba(60, 64, 67, 0.3), 0px 1px 3px 1px rgba(60, 64, 67, 0.15);\n",
              "      fill: #174EA6;\n",
              "    }\n",
              "\n",
              "    .colab-df-buttons div {\n",
              "      margin-bottom: 4px;\n",
              "    }\n",
              "\n",
              "    [theme=dark] .colab-df-convert {\n",
              "      background-color: #3B4455;\n",
              "      fill: #D2E3FC;\n",
              "    }\n",
              "\n",
              "    [theme=dark] .colab-df-convert:hover {\n",
              "      background-color: #434B5C;\n",
              "      box-shadow: 0px 1px 3px 1px rgba(0, 0, 0, 0.15);\n",
              "      filter: drop-shadow(0px 1px 2px rgba(0, 0, 0, 0.3));\n",
              "      fill: #FFFFFF;\n",
              "    }\n",
              "  </style>\n",
              "\n",
              "    <script>\n",
              "      const buttonEl =\n",
              "        document.querySelector('#df-a9814312-9ac1-431c-a2d8-5a67af9898db button.colab-df-convert');\n",
              "      buttonEl.style.display =\n",
              "        google.colab.kernel.accessAllowed ? 'block' : 'none';\n",
              "\n",
              "      async function convertToInteractive(key) {\n",
              "        const element = document.querySelector('#df-a9814312-9ac1-431c-a2d8-5a67af9898db');\n",
              "        const dataTable =\n",
              "          await google.colab.kernel.invokeFunction('convertToInteractive',\n",
              "                                                    [key], {});\n",
              "        if (!dataTable) return;\n",
              "\n",
              "        const docLinkHtml = 'Like what you see? Visit the ' +\n",
              "          '<a target=\"_blank\" href=https://colab.research.google.com/notebooks/data_table.ipynb>data table notebook</a>'\n",
              "          + ' to learn more about interactive tables.';\n",
              "        element.innerHTML = '';\n",
              "        dataTable['output_type'] = 'display_data';\n",
              "        await google.colab.output.renderOutput(dataTable, element);\n",
              "        const docLink = document.createElement('div');\n",
              "        docLink.innerHTML = docLinkHtml;\n",
              "        element.appendChild(docLink);\n",
              "      }\n",
              "    </script>\n",
              "  </div>\n",
              "\n",
              "\n",
              "<div id=\"df-cf82901d-9f19-4ead-84da-31049505cd86\">\n",
              "  <button class=\"colab-df-quickchart\" onclick=\"quickchart('df-cf82901d-9f19-4ead-84da-31049505cd86')\"\n",
              "            title=\"Suggest charts\"\n",
              "            style=\"display:none;\">\n",
              "\n",
              "<svg xmlns=\"http://www.w3.org/2000/svg\" height=\"24px\"viewBox=\"0 0 24 24\"\n",
              "     width=\"24px\">\n",
              "    <g>\n",
              "        <path d=\"M19 3H5c-1.1 0-2 .9-2 2v14c0 1.1.9 2 2 2h14c1.1 0 2-.9 2-2V5c0-1.1-.9-2-2-2zM9 17H7v-7h2v7zm4 0h-2V7h2v10zm4 0h-2v-4h2v4z\"/>\n",
              "    </g>\n",
              "</svg>\n",
              "  </button>\n",
              "\n",
              "<style>\n",
              "  .colab-df-quickchart {\n",
              "      --bg-color: #E8F0FE;\n",
              "      --fill-color: #1967D2;\n",
              "      --hover-bg-color: #E2EBFA;\n",
              "      --hover-fill-color: #174EA6;\n",
              "      --disabled-fill-color: #AAA;\n",
              "      --disabled-bg-color: #DDD;\n",
              "  }\n",
              "\n",
              "  [theme=dark] .colab-df-quickchart {\n",
              "      --bg-color: #3B4455;\n",
              "      --fill-color: #D2E3FC;\n",
              "      --hover-bg-color: #434B5C;\n",
              "      --hover-fill-color: #FFFFFF;\n",
              "      --disabled-bg-color: #3B4455;\n",
              "      --disabled-fill-color: #666;\n",
              "  }\n",
              "\n",
              "  .colab-df-quickchart {\n",
              "    background-color: var(--bg-color);\n",
              "    border: none;\n",
              "    border-radius: 50%;\n",
              "    cursor: pointer;\n",
              "    display: none;\n",
              "    fill: var(--fill-color);\n",
              "    height: 32px;\n",
              "    padding: 0;\n",
              "    width: 32px;\n",
              "  }\n",
              "\n",
              "  .colab-df-quickchart:hover {\n",
              "    background-color: var(--hover-bg-color);\n",
              "    box-shadow: 0 1px 2px rgba(60, 64, 67, 0.3), 0 1px 3px 1px rgba(60, 64, 67, 0.15);\n",
              "    fill: var(--button-hover-fill-color);\n",
              "  }\n",
              "\n",
              "  .colab-df-quickchart-complete:disabled,\n",
              "  .colab-df-quickchart-complete:disabled:hover {\n",
              "    background-color: var(--disabled-bg-color);\n",
              "    fill: var(--disabled-fill-color);\n",
              "    box-shadow: none;\n",
              "  }\n",
              "\n",
              "  .colab-df-spinner {\n",
              "    border: 2px solid var(--fill-color);\n",
              "    border-color: transparent;\n",
              "    border-bottom-color: var(--fill-color);\n",
              "    animation:\n",
              "      spin 1s steps(1) infinite;\n",
              "  }\n",
              "\n",
              "  @keyframes spin {\n",
              "    0% {\n",
              "      border-color: transparent;\n",
              "      border-bottom-color: var(--fill-color);\n",
              "      border-left-color: var(--fill-color);\n",
              "    }\n",
              "    20% {\n",
              "      border-color: transparent;\n",
              "      border-left-color: var(--fill-color);\n",
              "      border-top-color: var(--fill-color);\n",
              "    }\n",
              "    30% {\n",
              "      border-color: transparent;\n",
              "      border-left-color: var(--fill-color);\n",
              "      border-top-color: var(--fill-color);\n",
              "      border-right-color: var(--fill-color);\n",
              "    }\n",
              "    40% {\n",
              "      border-color: transparent;\n",
              "      border-right-color: var(--fill-color);\n",
              "      border-top-color: var(--fill-color);\n",
              "    }\n",
              "    60% {\n",
              "      border-color: transparent;\n",
              "      border-right-color: var(--fill-color);\n",
              "    }\n",
              "    80% {\n",
              "      border-color: transparent;\n",
              "      border-right-color: var(--fill-color);\n",
              "      border-bottom-color: var(--fill-color);\n",
              "    }\n",
              "    90% {\n",
              "      border-color: transparent;\n",
              "      border-bottom-color: var(--fill-color);\n",
              "    }\n",
              "  }\n",
              "</style>\n",
              "\n",
              "  <script>\n",
              "    async function quickchart(key) {\n",
              "      const quickchartButtonEl =\n",
              "        document.querySelector('#' + key + ' button');\n",
              "      quickchartButtonEl.disabled = true;  // To prevent multiple clicks.\n",
              "      quickchartButtonEl.classList.add('colab-df-spinner');\n",
              "      try {\n",
              "        const charts = await google.colab.kernel.invokeFunction(\n",
              "            'suggestCharts', [key], {});\n",
              "      } catch (error) {\n",
              "        console.error('Error during call to suggestCharts:', error);\n",
              "      }\n",
              "      quickchartButtonEl.classList.remove('colab-df-spinner');\n",
              "      quickchartButtonEl.classList.add('colab-df-quickchart-complete');\n",
              "    }\n",
              "    (() => {\n",
              "      let quickchartButtonEl =\n",
              "        document.querySelector('#df-cf82901d-9f19-4ead-84da-31049505cd86 button');\n",
              "      quickchartButtonEl.style.display =\n",
              "        google.colab.kernel.accessAllowed ? 'block' : 'none';\n",
              "    })();\n",
              "  </script>\n",
              "</div>\n",
              "    </div>\n",
              "  </div>\n"
            ],
            "application/vnd.google.colaboratory.intrinsic+json": {
              "type": "dataframe",
              "variable_name": "X_encoded"
            }
          },
          "metadata": {},
          "execution_count": 29
        }
      ]
    },
    {
      "cell_type": "markdown",
      "source": [
        "Veryfy that `y` only has unique set of `(1,0)`"
      ],
      "metadata": {
        "id": "pESmQq8PDYv6"
      }
    },
    {
      "cell_type": "code",
      "source": [
        "y.unique()"
      ],
      "metadata": {
        "colab": {
          "base_uri": "https://localhost:8080/"
        },
        "id": "r2evUPNvDr_J",
        "outputId": "ce986610-bc79-4e2d-aec7-e6926d2f5a64"
      },
      "execution_count": 30,
      "outputs": [
        {
          "output_type": "execute_result",
          "data": {
            "text/plain": [
              "array([1, 0])"
            ]
          },
          "metadata": {},
          "execution_count": 30
        }
      ]
    },
    {
      "cell_type": "markdown",
      "source": [
        "### 4.2.4 XGBoost Model"
      ],
      "metadata": {
        "id": "QfcEfNRkAn1H"
      }
    },
    {
      "cell_type": "markdown",
      "source": [
        "We need to split the data into training and testing sets."
      ],
      "metadata": {
        "id": "eQOuymROKfiQ"
      }
    },
    {
      "cell_type": "code",
      "source": [
        "sum(y)/len(y)"
      ],
      "metadata": {
        "colab": {
          "base_uri": "https://localhost:8080/"
        },
        "id": "mPPF2UTuKtEb",
        "outputId": "ce4bd277-7943-4fa0-ac8d-127afa2afb33"
      },
      "execution_count": 31,
      "outputs": [
        {
          "output_type": "execute_result",
          "data": {
            "text/plain": [
              "0.2653698707936959"
            ]
          },
          "metadata": {},
          "execution_count": 31
        }
      ]
    },
    {
      "cell_type": "markdown",
      "source": [
        "Observe that 26.54% of the people in the dataset left the company.(`Churn_value = 1`). We need to preserve this ratio in both traing and validation sets to make the model is unbiased."
      ],
      "metadata": {
        "id": "-yFaUo0WKxb1"
      }
    },
    {
      "cell_type": "code",
      "source": [
        "# For split the data\n",
        "from sklearn.model_selection import train_test_split\n",
        "# For scoring\n",
        "from sklearn.metrics import balanced_accuracy_score , roc_auc_score , make_scorer\n",
        "# Cross Validation\n",
        "from sklearn.model_selection import GridSearchCV\n",
        "# Create a Confusion Matrix\n",
        "from sklearn.metrics import confusion_matrix, ConfusionMatrixDisplay"
      ],
      "metadata": {
        "id": "yoe0hPvkLKtJ"
      },
      "execution_count": 34,
      "outputs": []
    },
    {
      "cell_type": "markdown",
      "source": [
        "Split the data"
      ],
      "metadata": {
        "id": "ObZq6Xj3NujQ"
      }
    },
    {
      "cell_type": "code",
      "source": [
        "X_train ,X_test , y_train , y_test = train_test_split(X_encoded,y,test_size = 0.2 ,random_state=42 , stratify=y)"
      ],
      "metadata": {
        "id": "N3xEiBhSNt_R"
      },
      "execution_count": 49,
      "outputs": []
    },
    {
      "cell_type": "markdown",
      "source": [
        "`stratify = y` will manage the data distribution."
      ],
      "metadata": {
        "id": "s3yWMHn4PuBL"
      }
    },
    {
      "cell_type": "code",
      "source": [
        "# Percentage of Churn_value = 1 in training set\n",
        "sum(y_train)/len(y_train)"
      ],
      "metadata": {
        "colab": {
          "base_uri": "https://localhost:8080/"
        },
        "id": "Mqw3YNkyP2_N",
        "outputId": "53877c82-02af-477a-f177-364ce1c652c4"
      },
      "execution_count": 50,
      "outputs": [
        {
          "output_type": "execute_result",
          "data": {
            "text/plain": [
              "0.2653532126375577"
            ]
          },
          "metadata": {},
          "execution_count": 50
        }
      ]
    },
    {
      "cell_type": "code",
      "source": [
        "# Percentage of Churn_value = 1 in testing set\n",
        "sum(y_test)/len(y_test)"
      ],
      "metadata": {
        "colab": {
          "base_uri": "https://localhost:8080/"
        },
        "id": "KCrqT0SaQC_e",
        "outputId": "94e0cbcf-59c9-4bd1-de64-3c1b38eeb802"
      },
      "execution_count": 51,
      "outputs": [
        {
          "output_type": "execute_result",
          "data": {
            "text/plain": [
              "0.2654364797728886"
            ]
          },
          "metadata": {},
          "execution_count": 51
        }
      ]
    },
    {
      "cell_type": "markdown",
      "source": [
        "So the data set is correctly splitted. `stratify` worked as expected"
      ],
      "metadata": {
        "id": "O2u8eTkhQOjq"
      }
    },
    {
      "cell_type": "code",
      "source": [
        "#See the shapes\n",
        "print(X_train.shape , X_test.shape)"
      ],
      "metadata": {
        "colab": {
          "base_uri": "https://localhost:8080/"
        },
        "id": "Xcctw40mT9uM",
        "outputId": "0b70c2fb-71ef-4333-c78a-90d6a8d2fdce"
      },
      "execution_count": 55,
      "outputs": [
        {
          "output_type": "stream",
          "name": "stdout",
          "text": [
            "(5634, 1178) (1409, 1178)\n"
          ]
        }
      ]
    },
    {
      "cell_type": "code",
      "source": [
        "# Build the model\n",
        "xgb_model = xgb.XGBClassifier(\n",
        "    objective = \"binary:logistic\",\n",
        "    learning_rate = 0.9,\n",
        "    max_depth = 10,\n",
        "    min_child_weight = 5 ,\n",
        "    subsample = 0.8,\n",
        "    colsample_bytree = 0.8\n",
        ")"
      ],
      "metadata": {
        "id": "D_Qhce_fQWx6"
      },
      "execution_count": 104,
      "outputs": []
    },
    {
      "cell_type": "code",
      "source": [
        "#Fit the data\n",
        "xgb_model.fit(X_train,y_train)"
      ],
      "metadata": {
        "colab": {
          "base_uri": "https://localhost:8080/",
          "height": 254
        },
        "id": "M0-t4izURpKv",
        "outputId": "223fd139-5a3e-44be-aaa1-4bad43cf1e69"
      },
      "execution_count": 105,
      "outputs": [
        {
          "output_type": "execute_result",
          "data": {
            "text/plain": [
              "XGBClassifier(base_score=None, booster=None, callbacks=None,\n",
              "              colsample_bylevel=None, colsample_bynode=None,\n",
              "              colsample_bytree=0.8, device=None, early_stopping_rounds=None,\n",
              "              enable_categorical=False, eval_metric=None, feature_types=None,\n",
              "              gamma=None, grow_policy=None, importance_type=None,\n",
              "              interaction_constraints=None, learning_rate=0.9, max_bin=None,\n",
              "              max_cat_threshold=None, max_cat_to_onehot=None,\n",
              "              max_delta_step=None, max_depth=10, max_leaves=None,\n",
              "              min_child_weight=5, missing=nan, monotone_constraints=None,\n",
              "              multi_strategy=None, n_estimators=None, n_jobs=None,\n",
              "              num_parallel_tree=None, random_state=None, ...)"
            ],
            "text/html": [
              "<style>#sk-container-id-16 {\n",
              "  /* Definition of color scheme common for light and dark mode */\n",
              "  --sklearn-color-text: black;\n",
              "  --sklearn-color-line: gray;\n",
              "  /* Definition of color scheme for unfitted estimators */\n",
              "  --sklearn-color-unfitted-level-0: #fff5e6;\n",
              "  --sklearn-color-unfitted-level-1: #f6e4d2;\n",
              "  --sklearn-color-unfitted-level-2: #ffe0b3;\n",
              "  --sklearn-color-unfitted-level-3: chocolate;\n",
              "  /* Definition of color scheme for fitted estimators */\n",
              "  --sklearn-color-fitted-level-0: #f0f8ff;\n",
              "  --sklearn-color-fitted-level-1: #d4ebff;\n",
              "  --sklearn-color-fitted-level-2: #b3dbfd;\n",
              "  --sklearn-color-fitted-level-3: cornflowerblue;\n",
              "\n",
              "  /* Specific color for light theme */\n",
              "  --sklearn-color-text-on-default-background: var(--sg-text-color, var(--theme-code-foreground, var(--jp-content-font-color1, black)));\n",
              "  --sklearn-color-background: var(--sg-background-color, var(--theme-background, var(--jp-layout-color0, white)));\n",
              "  --sklearn-color-border-box: var(--sg-text-color, var(--theme-code-foreground, var(--jp-content-font-color1, black)));\n",
              "  --sklearn-color-icon: #696969;\n",
              "\n",
              "  @media (prefers-color-scheme: dark) {\n",
              "    /* Redefinition of color scheme for dark theme */\n",
              "    --sklearn-color-text-on-default-background: var(--sg-text-color, var(--theme-code-foreground, var(--jp-content-font-color1, white)));\n",
              "    --sklearn-color-background: var(--sg-background-color, var(--theme-background, var(--jp-layout-color0, #111)));\n",
              "    --sklearn-color-border-box: var(--sg-text-color, var(--theme-code-foreground, var(--jp-content-font-color1, white)));\n",
              "    --sklearn-color-icon: #878787;\n",
              "  }\n",
              "}\n",
              "\n",
              "#sk-container-id-16 {\n",
              "  color: var(--sklearn-color-text);\n",
              "}\n",
              "\n",
              "#sk-container-id-16 pre {\n",
              "  padding: 0;\n",
              "}\n",
              "\n",
              "#sk-container-id-16 input.sk-hidden--visually {\n",
              "  border: 0;\n",
              "  clip: rect(1px 1px 1px 1px);\n",
              "  clip: rect(1px, 1px, 1px, 1px);\n",
              "  height: 1px;\n",
              "  margin: -1px;\n",
              "  overflow: hidden;\n",
              "  padding: 0;\n",
              "  position: absolute;\n",
              "  width: 1px;\n",
              "}\n",
              "\n",
              "#sk-container-id-16 div.sk-dashed-wrapped {\n",
              "  border: 1px dashed var(--sklearn-color-line);\n",
              "  margin: 0 0.4em 0.5em 0.4em;\n",
              "  box-sizing: border-box;\n",
              "  padding-bottom: 0.4em;\n",
              "  background-color: var(--sklearn-color-background);\n",
              "}\n",
              "\n",
              "#sk-container-id-16 div.sk-container {\n",
              "  /* jupyter's `normalize.less` sets `[hidden] { display: none; }`\n",
              "     but bootstrap.min.css set `[hidden] { display: none !important; }`\n",
              "     so we also need the `!important` here to be able to override the\n",
              "     default hidden behavior on the sphinx rendered scikit-learn.org.\n",
              "     See: https://github.com/scikit-learn/scikit-learn/issues/21755 */\n",
              "  display: inline-block !important;\n",
              "  position: relative;\n",
              "}\n",
              "\n",
              "#sk-container-id-16 div.sk-text-repr-fallback {\n",
              "  display: none;\n",
              "}\n",
              "\n",
              "div.sk-parallel-item,\n",
              "div.sk-serial,\n",
              "div.sk-item {\n",
              "  /* draw centered vertical line to link estimators */\n",
              "  background-image: linear-gradient(var(--sklearn-color-text-on-default-background), var(--sklearn-color-text-on-default-background));\n",
              "  background-size: 2px 100%;\n",
              "  background-repeat: no-repeat;\n",
              "  background-position: center center;\n",
              "}\n",
              "\n",
              "/* Parallel-specific style estimator block */\n",
              "\n",
              "#sk-container-id-16 div.sk-parallel-item::after {\n",
              "  content: \"\";\n",
              "  width: 100%;\n",
              "  border-bottom: 2px solid var(--sklearn-color-text-on-default-background);\n",
              "  flex-grow: 1;\n",
              "}\n",
              "\n",
              "#sk-container-id-16 div.sk-parallel {\n",
              "  display: flex;\n",
              "  align-items: stretch;\n",
              "  justify-content: center;\n",
              "  background-color: var(--sklearn-color-background);\n",
              "  position: relative;\n",
              "}\n",
              "\n",
              "#sk-container-id-16 div.sk-parallel-item {\n",
              "  display: flex;\n",
              "  flex-direction: column;\n",
              "}\n",
              "\n",
              "#sk-container-id-16 div.sk-parallel-item:first-child::after {\n",
              "  align-self: flex-end;\n",
              "  width: 50%;\n",
              "}\n",
              "\n",
              "#sk-container-id-16 div.sk-parallel-item:last-child::after {\n",
              "  align-self: flex-start;\n",
              "  width: 50%;\n",
              "}\n",
              "\n",
              "#sk-container-id-16 div.sk-parallel-item:only-child::after {\n",
              "  width: 0;\n",
              "}\n",
              "\n",
              "/* Serial-specific style estimator block */\n",
              "\n",
              "#sk-container-id-16 div.sk-serial {\n",
              "  display: flex;\n",
              "  flex-direction: column;\n",
              "  align-items: center;\n",
              "  background-color: var(--sklearn-color-background);\n",
              "  padding-right: 1em;\n",
              "  padding-left: 1em;\n",
              "}\n",
              "\n",
              "\n",
              "/* Toggleable style: style used for estimator/Pipeline/ColumnTransformer box that is\n",
              "clickable and can be expanded/collapsed.\n",
              "- Pipeline and ColumnTransformer use this feature and define the default style\n",
              "- Estimators will overwrite some part of the style using the `sk-estimator` class\n",
              "*/\n",
              "\n",
              "/* Pipeline and ColumnTransformer style (default) */\n",
              "\n",
              "#sk-container-id-16 div.sk-toggleable {\n",
              "  /* Default theme specific background. It is overwritten whether we have a\n",
              "  specific estimator or a Pipeline/ColumnTransformer */\n",
              "  background-color: var(--sklearn-color-background);\n",
              "}\n",
              "\n",
              "/* Toggleable label */\n",
              "#sk-container-id-16 label.sk-toggleable__label {\n",
              "  cursor: pointer;\n",
              "  display: block;\n",
              "  width: 100%;\n",
              "  margin-bottom: 0;\n",
              "  padding: 0.5em;\n",
              "  box-sizing: border-box;\n",
              "  text-align: center;\n",
              "}\n",
              "\n",
              "#sk-container-id-16 label.sk-toggleable__label-arrow:before {\n",
              "  /* Arrow on the left of the label */\n",
              "  content: \"▸\";\n",
              "  float: left;\n",
              "  margin-right: 0.25em;\n",
              "  color: var(--sklearn-color-icon);\n",
              "}\n",
              "\n",
              "#sk-container-id-16 label.sk-toggleable__label-arrow:hover:before {\n",
              "  color: var(--sklearn-color-text);\n",
              "}\n",
              "\n",
              "/* Toggleable content - dropdown */\n",
              "\n",
              "#sk-container-id-16 div.sk-toggleable__content {\n",
              "  max-height: 0;\n",
              "  max-width: 0;\n",
              "  overflow: hidden;\n",
              "  text-align: left;\n",
              "  /* unfitted */\n",
              "  background-color: var(--sklearn-color-unfitted-level-0);\n",
              "}\n",
              "\n",
              "#sk-container-id-16 div.sk-toggleable__content.fitted {\n",
              "  /* fitted */\n",
              "  background-color: var(--sklearn-color-fitted-level-0);\n",
              "}\n",
              "\n",
              "#sk-container-id-16 div.sk-toggleable__content pre {\n",
              "  margin: 0.2em;\n",
              "  border-radius: 0.25em;\n",
              "  color: var(--sklearn-color-text);\n",
              "  /* unfitted */\n",
              "  background-color: var(--sklearn-color-unfitted-level-0);\n",
              "}\n",
              "\n",
              "#sk-container-id-16 div.sk-toggleable__content.fitted pre {\n",
              "  /* unfitted */\n",
              "  background-color: var(--sklearn-color-fitted-level-0);\n",
              "}\n",
              "\n",
              "#sk-container-id-16 input.sk-toggleable__control:checked~div.sk-toggleable__content {\n",
              "  /* Expand drop-down */\n",
              "  max-height: 200px;\n",
              "  max-width: 100%;\n",
              "  overflow: auto;\n",
              "}\n",
              "\n",
              "#sk-container-id-16 input.sk-toggleable__control:checked~label.sk-toggleable__label-arrow:before {\n",
              "  content: \"▾\";\n",
              "}\n",
              "\n",
              "/* Pipeline/ColumnTransformer-specific style */\n",
              "\n",
              "#sk-container-id-16 div.sk-label input.sk-toggleable__control:checked~label.sk-toggleable__label {\n",
              "  color: var(--sklearn-color-text);\n",
              "  background-color: var(--sklearn-color-unfitted-level-2);\n",
              "}\n",
              "\n",
              "#sk-container-id-16 div.sk-label.fitted input.sk-toggleable__control:checked~label.sk-toggleable__label {\n",
              "  background-color: var(--sklearn-color-fitted-level-2);\n",
              "}\n",
              "\n",
              "/* Estimator-specific style */\n",
              "\n",
              "/* Colorize estimator box */\n",
              "#sk-container-id-16 div.sk-estimator input.sk-toggleable__control:checked~label.sk-toggleable__label {\n",
              "  /* unfitted */\n",
              "  background-color: var(--sklearn-color-unfitted-level-2);\n",
              "}\n",
              "\n",
              "#sk-container-id-16 div.sk-estimator.fitted input.sk-toggleable__control:checked~label.sk-toggleable__label {\n",
              "  /* fitted */\n",
              "  background-color: var(--sklearn-color-fitted-level-2);\n",
              "}\n",
              "\n",
              "#sk-container-id-16 div.sk-label label.sk-toggleable__label,\n",
              "#sk-container-id-16 div.sk-label label {\n",
              "  /* The background is the default theme color */\n",
              "  color: var(--sklearn-color-text-on-default-background);\n",
              "}\n",
              "\n",
              "/* On hover, darken the color of the background */\n",
              "#sk-container-id-16 div.sk-label:hover label.sk-toggleable__label {\n",
              "  color: var(--sklearn-color-text);\n",
              "  background-color: var(--sklearn-color-unfitted-level-2);\n",
              "}\n",
              "\n",
              "/* Label box, darken color on hover, fitted */\n",
              "#sk-container-id-16 div.sk-label.fitted:hover label.sk-toggleable__label.fitted {\n",
              "  color: var(--sklearn-color-text);\n",
              "  background-color: var(--sklearn-color-fitted-level-2);\n",
              "}\n",
              "\n",
              "/* Estimator label */\n",
              "\n",
              "#sk-container-id-16 div.sk-label label {\n",
              "  font-family: monospace;\n",
              "  font-weight: bold;\n",
              "  display: inline-block;\n",
              "  line-height: 1.2em;\n",
              "}\n",
              "\n",
              "#sk-container-id-16 div.sk-label-container {\n",
              "  text-align: center;\n",
              "}\n",
              "\n",
              "/* Estimator-specific */\n",
              "#sk-container-id-16 div.sk-estimator {\n",
              "  font-family: monospace;\n",
              "  border: 1px dotted var(--sklearn-color-border-box);\n",
              "  border-radius: 0.25em;\n",
              "  box-sizing: border-box;\n",
              "  margin-bottom: 0.5em;\n",
              "  /* unfitted */\n",
              "  background-color: var(--sklearn-color-unfitted-level-0);\n",
              "}\n",
              "\n",
              "#sk-container-id-16 div.sk-estimator.fitted {\n",
              "  /* fitted */\n",
              "  background-color: var(--sklearn-color-fitted-level-0);\n",
              "}\n",
              "\n",
              "/* on hover */\n",
              "#sk-container-id-16 div.sk-estimator:hover {\n",
              "  /* unfitted */\n",
              "  background-color: var(--sklearn-color-unfitted-level-2);\n",
              "}\n",
              "\n",
              "#sk-container-id-16 div.sk-estimator.fitted:hover {\n",
              "  /* fitted */\n",
              "  background-color: var(--sklearn-color-fitted-level-2);\n",
              "}\n",
              "\n",
              "/* Specification for estimator info (e.g. \"i\" and \"?\") */\n",
              "\n",
              "/* Common style for \"i\" and \"?\" */\n",
              "\n",
              ".sk-estimator-doc-link,\n",
              "a:link.sk-estimator-doc-link,\n",
              "a:visited.sk-estimator-doc-link {\n",
              "  float: right;\n",
              "  font-size: smaller;\n",
              "  line-height: 1em;\n",
              "  font-family: monospace;\n",
              "  background-color: var(--sklearn-color-background);\n",
              "  border-radius: 1em;\n",
              "  height: 1em;\n",
              "  width: 1em;\n",
              "  text-decoration: none !important;\n",
              "  margin-left: 1ex;\n",
              "  /* unfitted */\n",
              "  border: var(--sklearn-color-unfitted-level-1) 1pt solid;\n",
              "  color: var(--sklearn-color-unfitted-level-1);\n",
              "}\n",
              "\n",
              ".sk-estimator-doc-link.fitted,\n",
              "a:link.sk-estimator-doc-link.fitted,\n",
              "a:visited.sk-estimator-doc-link.fitted {\n",
              "  /* fitted */\n",
              "  border: var(--sklearn-color-fitted-level-1) 1pt solid;\n",
              "  color: var(--sklearn-color-fitted-level-1);\n",
              "}\n",
              "\n",
              "/* On hover */\n",
              "div.sk-estimator:hover .sk-estimator-doc-link:hover,\n",
              ".sk-estimator-doc-link:hover,\n",
              "div.sk-label-container:hover .sk-estimator-doc-link:hover,\n",
              ".sk-estimator-doc-link:hover {\n",
              "  /* unfitted */\n",
              "  background-color: var(--sklearn-color-unfitted-level-3);\n",
              "  color: var(--sklearn-color-background);\n",
              "  text-decoration: none;\n",
              "}\n",
              "\n",
              "div.sk-estimator.fitted:hover .sk-estimator-doc-link.fitted:hover,\n",
              ".sk-estimator-doc-link.fitted:hover,\n",
              "div.sk-label-container:hover .sk-estimator-doc-link.fitted:hover,\n",
              ".sk-estimator-doc-link.fitted:hover {\n",
              "  /* fitted */\n",
              "  background-color: var(--sklearn-color-fitted-level-3);\n",
              "  color: var(--sklearn-color-background);\n",
              "  text-decoration: none;\n",
              "}\n",
              "\n",
              "/* Span, style for the box shown on hovering the info icon */\n",
              ".sk-estimator-doc-link span {\n",
              "  display: none;\n",
              "  z-index: 9999;\n",
              "  position: relative;\n",
              "  font-weight: normal;\n",
              "  right: .2ex;\n",
              "  padding: .5ex;\n",
              "  margin: .5ex;\n",
              "  width: min-content;\n",
              "  min-width: 20ex;\n",
              "  max-width: 50ex;\n",
              "  color: var(--sklearn-color-text);\n",
              "  box-shadow: 2pt 2pt 4pt #999;\n",
              "  /* unfitted */\n",
              "  background: var(--sklearn-color-unfitted-level-0);\n",
              "  border: .5pt solid var(--sklearn-color-unfitted-level-3);\n",
              "}\n",
              "\n",
              ".sk-estimator-doc-link.fitted span {\n",
              "  /* fitted */\n",
              "  background: var(--sklearn-color-fitted-level-0);\n",
              "  border: var(--sklearn-color-fitted-level-3);\n",
              "}\n",
              "\n",
              ".sk-estimator-doc-link:hover span {\n",
              "  display: block;\n",
              "}\n",
              "\n",
              "/* \"?\"-specific style due to the `<a>` HTML tag */\n",
              "\n",
              "#sk-container-id-16 a.estimator_doc_link {\n",
              "  float: right;\n",
              "  font-size: 1rem;\n",
              "  line-height: 1em;\n",
              "  font-family: monospace;\n",
              "  background-color: var(--sklearn-color-background);\n",
              "  border-radius: 1rem;\n",
              "  height: 1rem;\n",
              "  width: 1rem;\n",
              "  text-decoration: none;\n",
              "  /* unfitted */\n",
              "  color: var(--sklearn-color-unfitted-level-1);\n",
              "  border: var(--sklearn-color-unfitted-level-1) 1pt solid;\n",
              "}\n",
              "\n",
              "#sk-container-id-16 a.estimator_doc_link.fitted {\n",
              "  /* fitted */\n",
              "  border: var(--sklearn-color-fitted-level-1) 1pt solid;\n",
              "  color: var(--sklearn-color-fitted-level-1);\n",
              "}\n",
              "\n",
              "/* On hover */\n",
              "#sk-container-id-16 a.estimator_doc_link:hover {\n",
              "  /* unfitted */\n",
              "  background-color: var(--sklearn-color-unfitted-level-3);\n",
              "  color: var(--sklearn-color-background);\n",
              "  text-decoration: none;\n",
              "}\n",
              "\n",
              "#sk-container-id-16 a.estimator_doc_link.fitted:hover {\n",
              "  /* fitted */\n",
              "  background-color: var(--sklearn-color-fitted-level-3);\n",
              "}\n",
              "</style><div id=\"sk-container-id-16\" class=\"sk-top-container\"><div class=\"sk-text-repr-fallback\"><pre>XGBClassifier(base_score=None, booster=None, callbacks=None,\n",
              "              colsample_bylevel=None, colsample_bynode=None,\n",
              "              colsample_bytree=0.8, device=None, early_stopping_rounds=None,\n",
              "              enable_categorical=False, eval_metric=None, feature_types=None,\n",
              "              gamma=None, grow_policy=None, importance_type=None,\n",
              "              interaction_constraints=None, learning_rate=0.9, max_bin=None,\n",
              "              max_cat_threshold=None, max_cat_to_onehot=None,\n",
              "              max_delta_step=None, max_depth=10, max_leaves=None,\n",
              "              min_child_weight=5, missing=nan, monotone_constraints=None,\n",
              "              multi_strategy=None, n_estimators=None, n_jobs=None,\n",
              "              num_parallel_tree=None, random_state=None, ...)</pre><b>In a Jupyter environment, please rerun this cell to show the HTML representation or trust the notebook. <br />On GitHub, the HTML representation is unable to render, please try loading this page with nbviewer.org.</b></div><div class=\"sk-container\" hidden><div class=\"sk-item\"><div class=\"sk-estimator fitted sk-toggleable\"><input class=\"sk-toggleable__control sk-hidden--visually\" id=\"sk-estimator-id-16\" type=\"checkbox\" checked><label for=\"sk-estimator-id-16\" class=\"sk-toggleable__label fitted sk-toggleable__label-arrow fitted\">&nbsp;XGBClassifier<span class=\"sk-estimator-doc-link fitted\">i<span>Fitted</span></span></label><div class=\"sk-toggleable__content fitted\"><pre>XGBClassifier(base_score=None, booster=None, callbacks=None,\n",
              "              colsample_bylevel=None, colsample_bynode=None,\n",
              "              colsample_bytree=0.8, device=None, early_stopping_rounds=None,\n",
              "              enable_categorical=False, eval_metric=None, feature_types=None,\n",
              "              gamma=None, grow_policy=None, importance_type=None,\n",
              "              interaction_constraints=None, learning_rate=0.9, max_bin=None,\n",
              "              max_cat_threshold=None, max_cat_to_onehot=None,\n",
              "              max_delta_step=None, max_depth=10, max_leaves=None,\n",
              "              min_child_weight=5, missing=nan, monotone_constraints=None,\n",
              "              multi_strategy=None, n_estimators=None, n_jobs=None,\n",
              "              num_parallel_tree=None, random_state=None, ...)</pre></div> </div></div></div></div>"
            ]
          },
          "metadata": {},
          "execution_count": 105
        }
      ]
    },
    {
      "cell_type": "code",
      "source": [
        "# Validate using predictions\n",
        "y_pred = xgb_model.predict(X_test)"
      ],
      "metadata": {
        "id": "CGGnl_JkUoiy"
      },
      "execution_count": 106,
      "outputs": []
    },
    {
      "cell_type": "code",
      "source": [
        "# Evaluate\n",
        "from sklearn.metrics import accuracy_score\n",
        "accuracy = accuracy_score(y_test,y_pred)\n",
        "print(accuracy)"
      ],
      "metadata": {
        "colab": {
          "base_uri": "https://localhost:8080/"
        },
        "id": "_F4duh08VN6u",
        "outputId": "d97aeffd-bb66-4186-b97a-18626969fdf9"
      },
      "execution_count": 107,
      "outputs": [
        {
          "output_type": "stream",
          "name": "stdout",
          "text": [
            "0.7700496806245565\n"
          ]
        }
      ]
    },
    {
      "cell_type": "markdown",
      "source": [
        "### 4.2.5 Find the best fit model"
      ],
      "metadata": {
        "id": "IwS_zacwY8UI"
      }
    },
    {
      "cell_type": "markdown",
      "source": [
        "Define the model"
      ],
      "metadata": {
        "id": "r9QgyObMcnGl"
      }
    },
    {
      "cell_type": "code",
      "source": [
        "# Build the model\n",
        "xgb_model = xgb.XGBClassifier()"
      ],
      "metadata": {
        "id": "5jiVyqKpcg2Q"
      },
      "execution_count": null,
      "outputs": []
    },
    {
      "cell_type": "markdown",
      "source": [
        "Use the parameter grid to find the best model parameters"
      ],
      "metadata": {
        "id": "MQwaKqWhcpH1"
      }
    },
    {
      "cell_type": "code",
      "source": [
        "# Define the parameters for grid search\n",
        "param_grid = {\n",
        "    'n_estimators': [100, 200, 300],\n",
        "    'max_depth': [3, 5, 7],\n",
        "    'learning_rate': [0.01, 0.05, 0.1, 0.2 ,0.5,1.0 ,2.5]\n",
        "}"
      ],
      "metadata": {
        "id": "IJ6bnPVicxcd"
      },
      "execution_count": 108,
      "outputs": []
    },
    {
      "cell_type": "markdown",
      "source": [
        "Let's break down the components:\n",
        "\n",
        "- `n_estimators`: This parameter represents the number of trees to be used in the XGBoost model. In the grid search, we want to try three different values: 100, 200, and 300.\n",
        "\n",
        "- `max_depth` : This parameter determines the maximum depth of each tree in the XGBoost model. A deeper tree may capture more information but can also lead to overfitting. Here, we want to test three different values: 3, 5, and 7.\n",
        "\n",
        "- `learning_rate` : This parameter controls the step size at each iteration while moving toward a minimum of the loss function. Lower values make the model learn more slowly, potentially resulting in better generalization. We are testing three different learning rates: 0.01, 0.05, and 0.1."
      ],
      "metadata": {
        "id": "SbPBc_vjh2uh"
      }
    },
    {
      "cell_type": "code",
      "source": [
        "from sklearn.model_selection import GridSearchCV\n",
        "\n",
        "# Perform grid search with cross-validation\n",
        "grid_search = GridSearchCV(estimator=xgb_model, param_grid=param_grid, cv=5, n_jobs=-1)\n",
        "grid_search.fit(X_train, y_train)"
      ],
      "metadata": {
        "colab": {
          "base_uri": "https://localhost:8080/",
          "height": 136
        },
        "id": "j1xaWXmWiBXf",
        "outputId": "bc501da8-3f5f-42f2-94f5-b956bdb65a12"
      },
      "execution_count": 109,
      "outputs": [
        {
          "output_type": "execute_result",
          "data": {
            "text/plain": [
              "GridSearchCV(cv=5,\n",
              "             estimator=XGBClassifier(base_score=None, booster=None,\n",
              "                                     callbacks=None, colsample_bylevel=None,\n",
              "                                     colsample_bynode=None,\n",
              "                                     colsample_bytree=0.8, device=None,\n",
              "                                     early_stopping_rounds=None,\n",
              "                                     enable_categorical=False, eval_metric=None,\n",
              "                                     feature_types=None, gamma=None,\n",
              "                                     grow_policy=None, importance_type=None,\n",
              "                                     interaction_constraints=None,\n",
              "                                     learning_rate=0.9, ma...\n",
              "                                     max_cat_threshold=None,\n",
              "                                     max_cat_to_onehot=None,\n",
              "                                     max_delta_step=None, max_depth=10,\n",
              "                                     max_leaves=None, min_child_weight=5,\n",
              "                                     missing=nan, monotone_constraints=None,\n",
              "                                     multi_strategy=None, n_estimators=None,\n",
              "                                     n_jobs=None, num_parallel_tree=None,\n",
              "                                     random_state=None, ...),\n",
              "             n_jobs=-1,\n",
              "             param_grid={'learning_rate': [0.01, 0.05, 0.1, 0.2, 0.5, 1.0, 2.5],\n",
              "                         'max_depth': [3, 5, 7],\n",
              "                         'n_estimators': [100, 200, 300]})"
            ],
            "text/html": [
              "<style>#sk-container-id-17 {\n",
              "  /* Definition of color scheme common for light and dark mode */\n",
              "  --sklearn-color-text: black;\n",
              "  --sklearn-color-line: gray;\n",
              "  /* Definition of color scheme for unfitted estimators */\n",
              "  --sklearn-color-unfitted-level-0: #fff5e6;\n",
              "  --sklearn-color-unfitted-level-1: #f6e4d2;\n",
              "  --sklearn-color-unfitted-level-2: #ffe0b3;\n",
              "  --sklearn-color-unfitted-level-3: chocolate;\n",
              "  /* Definition of color scheme for fitted estimators */\n",
              "  --sklearn-color-fitted-level-0: #f0f8ff;\n",
              "  --sklearn-color-fitted-level-1: #d4ebff;\n",
              "  --sklearn-color-fitted-level-2: #b3dbfd;\n",
              "  --sklearn-color-fitted-level-3: cornflowerblue;\n",
              "\n",
              "  /* Specific color for light theme */\n",
              "  --sklearn-color-text-on-default-background: var(--sg-text-color, var(--theme-code-foreground, var(--jp-content-font-color1, black)));\n",
              "  --sklearn-color-background: var(--sg-background-color, var(--theme-background, var(--jp-layout-color0, white)));\n",
              "  --sklearn-color-border-box: var(--sg-text-color, var(--theme-code-foreground, var(--jp-content-font-color1, black)));\n",
              "  --sklearn-color-icon: #696969;\n",
              "\n",
              "  @media (prefers-color-scheme: dark) {\n",
              "    /* Redefinition of color scheme for dark theme */\n",
              "    --sklearn-color-text-on-default-background: var(--sg-text-color, var(--theme-code-foreground, var(--jp-content-font-color1, white)));\n",
              "    --sklearn-color-background: var(--sg-background-color, var(--theme-background, var(--jp-layout-color0, #111)));\n",
              "    --sklearn-color-border-box: var(--sg-text-color, var(--theme-code-foreground, var(--jp-content-font-color1, white)));\n",
              "    --sklearn-color-icon: #878787;\n",
              "  }\n",
              "}\n",
              "\n",
              "#sk-container-id-17 {\n",
              "  color: var(--sklearn-color-text);\n",
              "}\n",
              "\n",
              "#sk-container-id-17 pre {\n",
              "  padding: 0;\n",
              "}\n",
              "\n",
              "#sk-container-id-17 input.sk-hidden--visually {\n",
              "  border: 0;\n",
              "  clip: rect(1px 1px 1px 1px);\n",
              "  clip: rect(1px, 1px, 1px, 1px);\n",
              "  height: 1px;\n",
              "  margin: -1px;\n",
              "  overflow: hidden;\n",
              "  padding: 0;\n",
              "  position: absolute;\n",
              "  width: 1px;\n",
              "}\n",
              "\n",
              "#sk-container-id-17 div.sk-dashed-wrapped {\n",
              "  border: 1px dashed var(--sklearn-color-line);\n",
              "  margin: 0 0.4em 0.5em 0.4em;\n",
              "  box-sizing: border-box;\n",
              "  padding-bottom: 0.4em;\n",
              "  background-color: var(--sklearn-color-background);\n",
              "}\n",
              "\n",
              "#sk-container-id-17 div.sk-container {\n",
              "  /* jupyter's `normalize.less` sets `[hidden] { display: none; }`\n",
              "     but bootstrap.min.css set `[hidden] { display: none !important; }`\n",
              "     so we also need the `!important` here to be able to override the\n",
              "     default hidden behavior on the sphinx rendered scikit-learn.org.\n",
              "     See: https://github.com/scikit-learn/scikit-learn/issues/21755 */\n",
              "  display: inline-block !important;\n",
              "  position: relative;\n",
              "}\n",
              "\n",
              "#sk-container-id-17 div.sk-text-repr-fallback {\n",
              "  display: none;\n",
              "}\n",
              "\n",
              "div.sk-parallel-item,\n",
              "div.sk-serial,\n",
              "div.sk-item {\n",
              "  /* draw centered vertical line to link estimators */\n",
              "  background-image: linear-gradient(var(--sklearn-color-text-on-default-background), var(--sklearn-color-text-on-default-background));\n",
              "  background-size: 2px 100%;\n",
              "  background-repeat: no-repeat;\n",
              "  background-position: center center;\n",
              "}\n",
              "\n",
              "/* Parallel-specific style estimator block */\n",
              "\n",
              "#sk-container-id-17 div.sk-parallel-item::after {\n",
              "  content: \"\";\n",
              "  width: 100%;\n",
              "  border-bottom: 2px solid var(--sklearn-color-text-on-default-background);\n",
              "  flex-grow: 1;\n",
              "}\n",
              "\n",
              "#sk-container-id-17 div.sk-parallel {\n",
              "  display: flex;\n",
              "  align-items: stretch;\n",
              "  justify-content: center;\n",
              "  background-color: var(--sklearn-color-background);\n",
              "  position: relative;\n",
              "}\n",
              "\n",
              "#sk-container-id-17 div.sk-parallel-item {\n",
              "  display: flex;\n",
              "  flex-direction: column;\n",
              "}\n",
              "\n",
              "#sk-container-id-17 div.sk-parallel-item:first-child::after {\n",
              "  align-self: flex-end;\n",
              "  width: 50%;\n",
              "}\n",
              "\n",
              "#sk-container-id-17 div.sk-parallel-item:last-child::after {\n",
              "  align-self: flex-start;\n",
              "  width: 50%;\n",
              "}\n",
              "\n",
              "#sk-container-id-17 div.sk-parallel-item:only-child::after {\n",
              "  width: 0;\n",
              "}\n",
              "\n",
              "/* Serial-specific style estimator block */\n",
              "\n",
              "#sk-container-id-17 div.sk-serial {\n",
              "  display: flex;\n",
              "  flex-direction: column;\n",
              "  align-items: center;\n",
              "  background-color: var(--sklearn-color-background);\n",
              "  padding-right: 1em;\n",
              "  padding-left: 1em;\n",
              "}\n",
              "\n",
              "\n",
              "/* Toggleable style: style used for estimator/Pipeline/ColumnTransformer box that is\n",
              "clickable and can be expanded/collapsed.\n",
              "- Pipeline and ColumnTransformer use this feature and define the default style\n",
              "- Estimators will overwrite some part of the style using the `sk-estimator` class\n",
              "*/\n",
              "\n",
              "/* Pipeline and ColumnTransformer style (default) */\n",
              "\n",
              "#sk-container-id-17 div.sk-toggleable {\n",
              "  /* Default theme specific background. It is overwritten whether we have a\n",
              "  specific estimator or a Pipeline/ColumnTransformer */\n",
              "  background-color: var(--sklearn-color-background);\n",
              "}\n",
              "\n",
              "/* Toggleable label */\n",
              "#sk-container-id-17 label.sk-toggleable__label {\n",
              "  cursor: pointer;\n",
              "  display: block;\n",
              "  width: 100%;\n",
              "  margin-bottom: 0;\n",
              "  padding: 0.5em;\n",
              "  box-sizing: border-box;\n",
              "  text-align: center;\n",
              "}\n",
              "\n",
              "#sk-container-id-17 label.sk-toggleable__label-arrow:before {\n",
              "  /* Arrow on the left of the label */\n",
              "  content: \"▸\";\n",
              "  float: left;\n",
              "  margin-right: 0.25em;\n",
              "  color: var(--sklearn-color-icon);\n",
              "}\n",
              "\n",
              "#sk-container-id-17 label.sk-toggleable__label-arrow:hover:before {\n",
              "  color: var(--sklearn-color-text);\n",
              "}\n",
              "\n",
              "/* Toggleable content - dropdown */\n",
              "\n",
              "#sk-container-id-17 div.sk-toggleable__content {\n",
              "  max-height: 0;\n",
              "  max-width: 0;\n",
              "  overflow: hidden;\n",
              "  text-align: left;\n",
              "  /* unfitted */\n",
              "  background-color: var(--sklearn-color-unfitted-level-0);\n",
              "}\n",
              "\n",
              "#sk-container-id-17 div.sk-toggleable__content.fitted {\n",
              "  /* fitted */\n",
              "  background-color: var(--sklearn-color-fitted-level-0);\n",
              "}\n",
              "\n",
              "#sk-container-id-17 div.sk-toggleable__content pre {\n",
              "  margin: 0.2em;\n",
              "  border-radius: 0.25em;\n",
              "  color: var(--sklearn-color-text);\n",
              "  /* unfitted */\n",
              "  background-color: var(--sklearn-color-unfitted-level-0);\n",
              "}\n",
              "\n",
              "#sk-container-id-17 div.sk-toggleable__content.fitted pre {\n",
              "  /* unfitted */\n",
              "  background-color: var(--sklearn-color-fitted-level-0);\n",
              "}\n",
              "\n",
              "#sk-container-id-17 input.sk-toggleable__control:checked~div.sk-toggleable__content {\n",
              "  /* Expand drop-down */\n",
              "  max-height: 200px;\n",
              "  max-width: 100%;\n",
              "  overflow: auto;\n",
              "}\n",
              "\n",
              "#sk-container-id-17 input.sk-toggleable__control:checked~label.sk-toggleable__label-arrow:before {\n",
              "  content: \"▾\";\n",
              "}\n",
              "\n",
              "/* Pipeline/ColumnTransformer-specific style */\n",
              "\n",
              "#sk-container-id-17 div.sk-label input.sk-toggleable__control:checked~label.sk-toggleable__label {\n",
              "  color: var(--sklearn-color-text);\n",
              "  background-color: var(--sklearn-color-unfitted-level-2);\n",
              "}\n",
              "\n",
              "#sk-container-id-17 div.sk-label.fitted input.sk-toggleable__control:checked~label.sk-toggleable__label {\n",
              "  background-color: var(--sklearn-color-fitted-level-2);\n",
              "}\n",
              "\n",
              "/* Estimator-specific style */\n",
              "\n",
              "/* Colorize estimator box */\n",
              "#sk-container-id-17 div.sk-estimator input.sk-toggleable__control:checked~label.sk-toggleable__label {\n",
              "  /* unfitted */\n",
              "  background-color: var(--sklearn-color-unfitted-level-2);\n",
              "}\n",
              "\n",
              "#sk-container-id-17 div.sk-estimator.fitted input.sk-toggleable__control:checked~label.sk-toggleable__label {\n",
              "  /* fitted */\n",
              "  background-color: var(--sklearn-color-fitted-level-2);\n",
              "}\n",
              "\n",
              "#sk-container-id-17 div.sk-label label.sk-toggleable__label,\n",
              "#sk-container-id-17 div.sk-label label {\n",
              "  /* The background is the default theme color */\n",
              "  color: var(--sklearn-color-text-on-default-background);\n",
              "}\n",
              "\n",
              "/* On hover, darken the color of the background */\n",
              "#sk-container-id-17 div.sk-label:hover label.sk-toggleable__label {\n",
              "  color: var(--sklearn-color-text);\n",
              "  background-color: var(--sklearn-color-unfitted-level-2);\n",
              "}\n",
              "\n",
              "/* Label box, darken color on hover, fitted */\n",
              "#sk-container-id-17 div.sk-label.fitted:hover label.sk-toggleable__label.fitted {\n",
              "  color: var(--sklearn-color-text);\n",
              "  background-color: var(--sklearn-color-fitted-level-2);\n",
              "}\n",
              "\n",
              "/* Estimator label */\n",
              "\n",
              "#sk-container-id-17 div.sk-label label {\n",
              "  font-family: monospace;\n",
              "  font-weight: bold;\n",
              "  display: inline-block;\n",
              "  line-height: 1.2em;\n",
              "}\n",
              "\n",
              "#sk-container-id-17 div.sk-label-container {\n",
              "  text-align: center;\n",
              "}\n",
              "\n",
              "/* Estimator-specific */\n",
              "#sk-container-id-17 div.sk-estimator {\n",
              "  font-family: monospace;\n",
              "  border: 1px dotted var(--sklearn-color-border-box);\n",
              "  border-radius: 0.25em;\n",
              "  box-sizing: border-box;\n",
              "  margin-bottom: 0.5em;\n",
              "  /* unfitted */\n",
              "  background-color: var(--sklearn-color-unfitted-level-0);\n",
              "}\n",
              "\n",
              "#sk-container-id-17 div.sk-estimator.fitted {\n",
              "  /* fitted */\n",
              "  background-color: var(--sklearn-color-fitted-level-0);\n",
              "}\n",
              "\n",
              "/* on hover */\n",
              "#sk-container-id-17 div.sk-estimator:hover {\n",
              "  /* unfitted */\n",
              "  background-color: var(--sklearn-color-unfitted-level-2);\n",
              "}\n",
              "\n",
              "#sk-container-id-17 div.sk-estimator.fitted:hover {\n",
              "  /* fitted */\n",
              "  background-color: var(--sklearn-color-fitted-level-2);\n",
              "}\n",
              "\n",
              "/* Specification for estimator info (e.g. \"i\" and \"?\") */\n",
              "\n",
              "/* Common style for \"i\" and \"?\" */\n",
              "\n",
              ".sk-estimator-doc-link,\n",
              "a:link.sk-estimator-doc-link,\n",
              "a:visited.sk-estimator-doc-link {\n",
              "  float: right;\n",
              "  font-size: smaller;\n",
              "  line-height: 1em;\n",
              "  font-family: monospace;\n",
              "  background-color: var(--sklearn-color-background);\n",
              "  border-radius: 1em;\n",
              "  height: 1em;\n",
              "  width: 1em;\n",
              "  text-decoration: none !important;\n",
              "  margin-left: 1ex;\n",
              "  /* unfitted */\n",
              "  border: var(--sklearn-color-unfitted-level-1) 1pt solid;\n",
              "  color: var(--sklearn-color-unfitted-level-1);\n",
              "}\n",
              "\n",
              ".sk-estimator-doc-link.fitted,\n",
              "a:link.sk-estimator-doc-link.fitted,\n",
              "a:visited.sk-estimator-doc-link.fitted {\n",
              "  /* fitted */\n",
              "  border: var(--sklearn-color-fitted-level-1) 1pt solid;\n",
              "  color: var(--sklearn-color-fitted-level-1);\n",
              "}\n",
              "\n",
              "/* On hover */\n",
              "div.sk-estimator:hover .sk-estimator-doc-link:hover,\n",
              ".sk-estimator-doc-link:hover,\n",
              "div.sk-label-container:hover .sk-estimator-doc-link:hover,\n",
              ".sk-estimator-doc-link:hover {\n",
              "  /* unfitted */\n",
              "  background-color: var(--sklearn-color-unfitted-level-3);\n",
              "  color: var(--sklearn-color-background);\n",
              "  text-decoration: none;\n",
              "}\n",
              "\n",
              "div.sk-estimator.fitted:hover .sk-estimator-doc-link.fitted:hover,\n",
              ".sk-estimator-doc-link.fitted:hover,\n",
              "div.sk-label-container:hover .sk-estimator-doc-link.fitted:hover,\n",
              ".sk-estimator-doc-link.fitted:hover {\n",
              "  /* fitted */\n",
              "  background-color: var(--sklearn-color-fitted-level-3);\n",
              "  color: var(--sklearn-color-background);\n",
              "  text-decoration: none;\n",
              "}\n",
              "\n",
              "/* Span, style for the box shown on hovering the info icon */\n",
              ".sk-estimator-doc-link span {\n",
              "  display: none;\n",
              "  z-index: 9999;\n",
              "  position: relative;\n",
              "  font-weight: normal;\n",
              "  right: .2ex;\n",
              "  padding: .5ex;\n",
              "  margin: .5ex;\n",
              "  width: min-content;\n",
              "  min-width: 20ex;\n",
              "  max-width: 50ex;\n",
              "  color: var(--sklearn-color-text);\n",
              "  box-shadow: 2pt 2pt 4pt #999;\n",
              "  /* unfitted */\n",
              "  background: var(--sklearn-color-unfitted-level-0);\n",
              "  border: .5pt solid var(--sklearn-color-unfitted-level-3);\n",
              "}\n",
              "\n",
              ".sk-estimator-doc-link.fitted span {\n",
              "  /* fitted */\n",
              "  background: var(--sklearn-color-fitted-level-0);\n",
              "  border: var(--sklearn-color-fitted-level-3);\n",
              "}\n",
              "\n",
              ".sk-estimator-doc-link:hover span {\n",
              "  display: block;\n",
              "}\n",
              "\n",
              "/* \"?\"-specific style due to the `<a>` HTML tag */\n",
              "\n",
              "#sk-container-id-17 a.estimator_doc_link {\n",
              "  float: right;\n",
              "  font-size: 1rem;\n",
              "  line-height: 1em;\n",
              "  font-family: monospace;\n",
              "  background-color: var(--sklearn-color-background);\n",
              "  border-radius: 1rem;\n",
              "  height: 1rem;\n",
              "  width: 1rem;\n",
              "  text-decoration: none;\n",
              "  /* unfitted */\n",
              "  color: var(--sklearn-color-unfitted-level-1);\n",
              "  border: var(--sklearn-color-unfitted-level-1) 1pt solid;\n",
              "}\n",
              "\n",
              "#sk-container-id-17 a.estimator_doc_link.fitted {\n",
              "  /* fitted */\n",
              "  border: var(--sklearn-color-fitted-level-1) 1pt solid;\n",
              "  color: var(--sklearn-color-fitted-level-1);\n",
              "}\n",
              "\n",
              "/* On hover */\n",
              "#sk-container-id-17 a.estimator_doc_link:hover {\n",
              "  /* unfitted */\n",
              "  background-color: var(--sklearn-color-unfitted-level-3);\n",
              "  color: var(--sklearn-color-background);\n",
              "  text-decoration: none;\n",
              "}\n",
              "\n",
              "#sk-container-id-17 a.estimator_doc_link.fitted:hover {\n",
              "  /* fitted */\n",
              "  background-color: var(--sklearn-color-fitted-level-3);\n",
              "}\n",
              "</style><div id=\"sk-container-id-17\" class=\"sk-top-container\"><div class=\"sk-text-repr-fallback\"><pre>GridSearchCV(cv=5,\n",
              "             estimator=XGBClassifier(base_score=None, booster=None,\n",
              "                                     callbacks=None, colsample_bylevel=None,\n",
              "                                     colsample_bynode=None,\n",
              "                                     colsample_bytree=0.8, device=None,\n",
              "                                     early_stopping_rounds=None,\n",
              "                                     enable_categorical=False, eval_metric=None,\n",
              "                                     feature_types=None, gamma=None,\n",
              "                                     grow_policy=None, importance_type=None,\n",
              "                                     interaction_constraints=None,\n",
              "                                     learning_rate=0.9, ma...\n",
              "                                     max_cat_threshold=None,\n",
              "                                     max_cat_to_onehot=None,\n",
              "                                     max_delta_step=None, max_depth=10,\n",
              "                                     max_leaves=None, min_child_weight=5,\n",
              "                                     missing=nan, monotone_constraints=None,\n",
              "                                     multi_strategy=None, n_estimators=None,\n",
              "                                     n_jobs=None, num_parallel_tree=None,\n",
              "                                     random_state=None, ...),\n",
              "             n_jobs=-1,\n",
              "             param_grid={&#x27;learning_rate&#x27;: [0.01, 0.05, 0.1, 0.2, 0.5, 1.0, 2.5],\n",
              "                         &#x27;max_depth&#x27;: [3, 5, 7],\n",
              "                         &#x27;n_estimators&#x27;: [100, 200, 300]})</pre><b>In a Jupyter environment, please rerun this cell to show the HTML representation or trust the notebook. <br />On GitHub, the HTML representation is unable to render, please try loading this page with nbviewer.org.</b></div><div class=\"sk-container\" hidden><div class=\"sk-item sk-dashed-wrapped\"><div class=\"sk-label-container\"><div class=\"sk-label fitted sk-toggleable\"><input class=\"sk-toggleable__control sk-hidden--visually\" id=\"sk-estimator-id-17\" type=\"checkbox\" ><label for=\"sk-estimator-id-17\" class=\"sk-toggleable__label fitted sk-toggleable__label-arrow fitted\">&nbsp;&nbsp;GridSearchCV<a class=\"sk-estimator-doc-link fitted\" rel=\"noreferrer\" target=\"_blank\" href=\"https://scikit-learn.org/1.4/modules/generated/sklearn.model_selection.GridSearchCV.html\">?<span>Documentation for GridSearchCV</span></a><span class=\"sk-estimator-doc-link fitted\">i<span>Fitted</span></span></label><div class=\"sk-toggleable__content fitted\"><pre>GridSearchCV(cv=5,\n",
              "             estimator=XGBClassifier(base_score=None, booster=None,\n",
              "                                     callbacks=None, colsample_bylevel=None,\n",
              "                                     colsample_bynode=None,\n",
              "                                     colsample_bytree=0.8, device=None,\n",
              "                                     early_stopping_rounds=None,\n",
              "                                     enable_categorical=False, eval_metric=None,\n",
              "                                     feature_types=None, gamma=None,\n",
              "                                     grow_policy=None, importance_type=None,\n",
              "                                     interaction_constraints=None,\n",
              "                                     learning_rate=0.9, ma...\n",
              "                                     max_cat_threshold=None,\n",
              "                                     max_cat_to_onehot=None,\n",
              "                                     max_delta_step=None, max_depth=10,\n",
              "                                     max_leaves=None, min_child_weight=5,\n",
              "                                     missing=nan, monotone_constraints=None,\n",
              "                                     multi_strategy=None, n_estimators=None,\n",
              "                                     n_jobs=None, num_parallel_tree=None,\n",
              "                                     random_state=None, ...),\n",
              "             n_jobs=-1,\n",
              "             param_grid={&#x27;learning_rate&#x27;: [0.01, 0.05, 0.1, 0.2, 0.5, 1.0, 2.5],\n",
              "                         &#x27;max_depth&#x27;: [3, 5, 7],\n",
              "                         &#x27;n_estimators&#x27;: [100, 200, 300]})</pre></div> </div></div><div class=\"sk-parallel\"><div class=\"sk-parallel-item\"><div class=\"sk-item\"><div class=\"sk-label-container\"><div class=\"sk-label fitted sk-toggleable\"><input class=\"sk-toggleable__control sk-hidden--visually\" id=\"sk-estimator-id-18\" type=\"checkbox\" ><label for=\"sk-estimator-id-18\" class=\"sk-toggleable__label fitted sk-toggleable__label-arrow fitted\">estimator: XGBClassifier</label><div class=\"sk-toggleable__content fitted\"><pre>XGBClassifier(base_score=None, booster=None, callbacks=None,\n",
              "              colsample_bylevel=None, colsample_bynode=None,\n",
              "              colsample_bytree=0.8, device=None, early_stopping_rounds=None,\n",
              "              enable_categorical=False, eval_metric=None, feature_types=None,\n",
              "              gamma=None, grow_policy=None, importance_type=None,\n",
              "              interaction_constraints=None, learning_rate=0.9, max_bin=None,\n",
              "              max_cat_threshold=None, max_cat_to_onehot=None,\n",
              "              max_delta_step=None, max_depth=10, max_leaves=None,\n",
              "              min_child_weight=5, missing=nan, monotone_constraints=None,\n",
              "              multi_strategy=None, n_estimators=None, n_jobs=None,\n",
              "              num_parallel_tree=None, random_state=None, ...)</pre></div> </div></div><div class=\"sk-serial\"><div class=\"sk-item\"><div class=\"sk-estimator fitted sk-toggleable\"><input class=\"sk-toggleable__control sk-hidden--visually\" id=\"sk-estimator-id-19\" type=\"checkbox\" ><label for=\"sk-estimator-id-19\" class=\"sk-toggleable__label fitted sk-toggleable__label-arrow fitted\">XGBClassifier</label><div class=\"sk-toggleable__content fitted\"><pre>XGBClassifier(base_score=None, booster=None, callbacks=None,\n",
              "              colsample_bylevel=None, colsample_bynode=None,\n",
              "              colsample_bytree=0.8, device=None, early_stopping_rounds=None,\n",
              "              enable_categorical=False, eval_metric=None, feature_types=None,\n",
              "              gamma=None, grow_policy=None, importance_type=None,\n",
              "              interaction_constraints=None, learning_rate=0.9, max_bin=None,\n",
              "              max_cat_threshold=None, max_cat_to_onehot=None,\n",
              "              max_delta_step=None, max_depth=10, max_leaves=None,\n",
              "              min_child_weight=5, missing=nan, monotone_constraints=None,\n",
              "              multi_strategy=None, n_estimators=None, n_jobs=None,\n",
              "              num_parallel_tree=None, random_state=None, ...)</pre></div> </div></div></div></div></div></div></div></div></div>"
            ]
          },
          "metadata": {},
          "execution_count": 109
        }
      ]
    },
    {
      "cell_type": "code",
      "source": [
        "# Print the best parameters found by grid search\n",
        "print(\"Best parameters:\", grid_search.best_params_)\n",
        "\n",
        "# Evaluate the model on the test set\n",
        "best_model = grid_search.best_estimator_\n",
        "test_accuracy = best_model.score(X_test, y_test)\n",
        "print(\"Test accuracy:\", test_accuracy)"
      ],
      "metadata": {
        "colab": {
          "base_uri": "https://localhost:8080/"
        },
        "id": "tXfgU3vnjQGx",
        "outputId": "ba60a4a8-09e0-4b2d-a6d9-52b6a98c0141"
      },
      "execution_count": 110,
      "outputs": [
        {
          "output_type": "stream",
          "name": "stdout",
          "text": [
            "Best parameters: {'learning_rate': 0.05, 'max_depth': 5, 'n_estimators': 100}\n",
            "Test accuracy: 0.8041163946061036\n"
          ]
        }
      ]
    },
    {
      "cell_type": "markdown",
      "source": [
        "#### Run with different values while narrowing the search"
      ],
      "metadata": {
        "id": "uOHLI-IHpoEL"
      }
    },
    {
      "cell_type": "code",
      "source": [
        "# Define the parameters for grid search\n",
        "param_grid = {\n",
        "    'n_estimators': [50, 100, 150],\n",
        "    'max_depth': [4, 5, 6],\n",
        "    'learning_rate': [0.01,0.025,0.05,0.075]\n",
        "}"
      ],
      "metadata": {
        "id": "mCrW4f-ZpvHN"
      },
      "execution_count": 111,
      "outputs": []
    },
    {
      "cell_type": "code",
      "source": [
        "from sklearn.model_selection import GridSearchCV\n",
        "\n",
        "# Perform grid search with cross-validation\n",
        "grid_search = GridSearchCV(estimator=xgb_model, param_grid=param_grid, cv=5, n_jobs=-1)\n",
        "grid_search.fit(X_train, y_train)"
      ],
      "metadata": {
        "colab": {
          "base_uri": "https://localhost:8080/",
          "height": 136
        },
        "id": "uEWXj9y2pwmw",
        "outputId": "99057f90-7155-48b4-fa8b-1659505c7016"
      },
      "execution_count": 112,
      "outputs": [
        {
          "output_type": "execute_result",
          "data": {
            "text/plain": [
              "GridSearchCV(cv=5,\n",
              "             estimator=XGBClassifier(base_score=None, booster=None,\n",
              "                                     callbacks=None, colsample_bylevel=None,\n",
              "                                     colsample_bynode=None,\n",
              "                                     colsample_bytree=0.8, device=None,\n",
              "                                     early_stopping_rounds=None,\n",
              "                                     enable_categorical=False, eval_metric=None,\n",
              "                                     feature_types=None, gamma=None,\n",
              "                                     grow_policy=None, importance_type=None,\n",
              "                                     interaction_constraints=None,\n",
              "                                     learning_rate=0.9, ma...\n",
              "                                     max_cat_threshold=None,\n",
              "                                     max_cat_to_onehot=None,\n",
              "                                     max_delta_step=None, max_depth=10,\n",
              "                                     max_leaves=None, min_child_weight=5,\n",
              "                                     missing=nan, monotone_constraints=None,\n",
              "                                     multi_strategy=None, n_estimators=None,\n",
              "                                     n_jobs=None, num_parallel_tree=None,\n",
              "                                     random_state=None, ...),\n",
              "             n_jobs=-1,\n",
              "             param_grid={'learning_rate': [0.01, 0.025, 0.05, 0.075],\n",
              "                         'max_depth': [4, 5, 6],\n",
              "                         'n_estimators': [50, 100, 150]})"
            ],
            "text/html": [
              "<style>#sk-container-id-18 {\n",
              "  /* Definition of color scheme common for light and dark mode */\n",
              "  --sklearn-color-text: black;\n",
              "  --sklearn-color-line: gray;\n",
              "  /* Definition of color scheme for unfitted estimators */\n",
              "  --sklearn-color-unfitted-level-0: #fff5e6;\n",
              "  --sklearn-color-unfitted-level-1: #f6e4d2;\n",
              "  --sklearn-color-unfitted-level-2: #ffe0b3;\n",
              "  --sklearn-color-unfitted-level-3: chocolate;\n",
              "  /* Definition of color scheme for fitted estimators */\n",
              "  --sklearn-color-fitted-level-0: #f0f8ff;\n",
              "  --sklearn-color-fitted-level-1: #d4ebff;\n",
              "  --sklearn-color-fitted-level-2: #b3dbfd;\n",
              "  --sklearn-color-fitted-level-3: cornflowerblue;\n",
              "\n",
              "  /* Specific color for light theme */\n",
              "  --sklearn-color-text-on-default-background: var(--sg-text-color, var(--theme-code-foreground, var(--jp-content-font-color1, black)));\n",
              "  --sklearn-color-background: var(--sg-background-color, var(--theme-background, var(--jp-layout-color0, white)));\n",
              "  --sklearn-color-border-box: var(--sg-text-color, var(--theme-code-foreground, var(--jp-content-font-color1, black)));\n",
              "  --sklearn-color-icon: #696969;\n",
              "\n",
              "  @media (prefers-color-scheme: dark) {\n",
              "    /* Redefinition of color scheme for dark theme */\n",
              "    --sklearn-color-text-on-default-background: var(--sg-text-color, var(--theme-code-foreground, var(--jp-content-font-color1, white)));\n",
              "    --sklearn-color-background: var(--sg-background-color, var(--theme-background, var(--jp-layout-color0, #111)));\n",
              "    --sklearn-color-border-box: var(--sg-text-color, var(--theme-code-foreground, var(--jp-content-font-color1, white)));\n",
              "    --sklearn-color-icon: #878787;\n",
              "  }\n",
              "}\n",
              "\n",
              "#sk-container-id-18 {\n",
              "  color: var(--sklearn-color-text);\n",
              "}\n",
              "\n",
              "#sk-container-id-18 pre {\n",
              "  padding: 0;\n",
              "}\n",
              "\n",
              "#sk-container-id-18 input.sk-hidden--visually {\n",
              "  border: 0;\n",
              "  clip: rect(1px 1px 1px 1px);\n",
              "  clip: rect(1px, 1px, 1px, 1px);\n",
              "  height: 1px;\n",
              "  margin: -1px;\n",
              "  overflow: hidden;\n",
              "  padding: 0;\n",
              "  position: absolute;\n",
              "  width: 1px;\n",
              "}\n",
              "\n",
              "#sk-container-id-18 div.sk-dashed-wrapped {\n",
              "  border: 1px dashed var(--sklearn-color-line);\n",
              "  margin: 0 0.4em 0.5em 0.4em;\n",
              "  box-sizing: border-box;\n",
              "  padding-bottom: 0.4em;\n",
              "  background-color: var(--sklearn-color-background);\n",
              "}\n",
              "\n",
              "#sk-container-id-18 div.sk-container {\n",
              "  /* jupyter's `normalize.less` sets `[hidden] { display: none; }`\n",
              "     but bootstrap.min.css set `[hidden] { display: none !important; }`\n",
              "     so we also need the `!important` here to be able to override the\n",
              "     default hidden behavior on the sphinx rendered scikit-learn.org.\n",
              "     See: https://github.com/scikit-learn/scikit-learn/issues/21755 */\n",
              "  display: inline-block !important;\n",
              "  position: relative;\n",
              "}\n",
              "\n",
              "#sk-container-id-18 div.sk-text-repr-fallback {\n",
              "  display: none;\n",
              "}\n",
              "\n",
              "div.sk-parallel-item,\n",
              "div.sk-serial,\n",
              "div.sk-item {\n",
              "  /* draw centered vertical line to link estimators */\n",
              "  background-image: linear-gradient(var(--sklearn-color-text-on-default-background), var(--sklearn-color-text-on-default-background));\n",
              "  background-size: 2px 100%;\n",
              "  background-repeat: no-repeat;\n",
              "  background-position: center center;\n",
              "}\n",
              "\n",
              "/* Parallel-specific style estimator block */\n",
              "\n",
              "#sk-container-id-18 div.sk-parallel-item::after {\n",
              "  content: \"\";\n",
              "  width: 100%;\n",
              "  border-bottom: 2px solid var(--sklearn-color-text-on-default-background);\n",
              "  flex-grow: 1;\n",
              "}\n",
              "\n",
              "#sk-container-id-18 div.sk-parallel {\n",
              "  display: flex;\n",
              "  align-items: stretch;\n",
              "  justify-content: center;\n",
              "  background-color: var(--sklearn-color-background);\n",
              "  position: relative;\n",
              "}\n",
              "\n",
              "#sk-container-id-18 div.sk-parallel-item {\n",
              "  display: flex;\n",
              "  flex-direction: column;\n",
              "}\n",
              "\n",
              "#sk-container-id-18 div.sk-parallel-item:first-child::after {\n",
              "  align-self: flex-end;\n",
              "  width: 50%;\n",
              "}\n",
              "\n",
              "#sk-container-id-18 div.sk-parallel-item:last-child::after {\n",
              "  align-self: flex-start;\n",
              "  width: 50%;\n",
              "}\n",
              "\n",
              "#sk-container-id-18 div.sk-parallel-item:only-child::after {\n",
              "  width: 0;\n",
              "}\n",
              "\n",
              "/* Serial-specific style estimator block */\n",
              "\n",
              "#sk-container-id-18 div.sk-serial {\n",
              "  display: flex;\n",
              "  flex-direction: column;\n",
              "  align-items: center;\n",
              "  background-color: var(--sklearn-color-background);\n",
              "  padding-right: 1em;\n",
              "  padding-left: 1em;\n",
              "}\n",
              "\n",
              "\n",
              "/* Toggleable style: style used for estimator/Pipeline/ColumnTransformer box that is\n",
              "clickable and can be expanded/collapsed.\n",
              "- Pipeline and ColumnTransformer use this feature and define the default style\n",
              "- Estimators will overwrite some part of the style using the `sk-estimator` class\n",
              "*/\n",
              "\n",
              "/* Pipeline and ColumnTransformer style (default) */\n",
              "\n",
              "#sk-container-id-18 div.sk-toggleable {\n",
              "  /* Default theme specific background. It is overwritten whether we have a\n",
              "  specific estimator or a Pipeline/ColumnTransformer */\n",
              "  background-color: var(--sklearn-color-background);\n",
              "}\n",
              "\n",
              "/* Toggleable label */\n",
              "#sk-container-id-18 label.sk-toggleable__label {\n",
              "  cursor: pointer;\n",
              "  display: block;\n",
              "  width: 100%;\n",
              "  margin-bottom: 0;\n",
              "  padding: 0.5em;\n",
              "  box-sizing: border-box;\n",
              "  text-align: center;\n",
              "}\n",
              "\n",
              "#sk-container-id-18 label.sk-toggleable__label-arrow:before {\n",
              "  /* Arrow on the left of the label */\n",
              "  content: \"▸\";\n",
              "  float: left;\n",
              "  margin-right: 0.25em;\n",
              "  color: var(--sklearn-color-icon);\n",
              "}\n",
              "\n",
              "#sk-container-id-18 label.sk-toggleable__label-arrow:hover:before {\n",
              "  color: var(--sklearn-color-text);\n",
              "}\n",
              "\n",
              "/* Toggleable content - dropdown */\n",
              "\n",
              "#sk-container-id-18 div.sk-toggleable__content {\n",
              "  max-height: 0;\n",
              "  max-width: 0;\n",
              "  overflow: hidden;\n",
              "  text-align: left;\n",
              "  /* unfitted */\n",
              "  background-color: var(--sklearn-color-unfitted-level-0);\n",
              "}\n",
              "\n",
              "#sk-container-id-18 div.sk-toggleable__content.fitted {\n",
              "  /* fitted */\n",
              "  background-color: var(--sklearn-color-fitted-level-0);\n",
              "}\n",
              "\n",
              "#sk-container-id-18 div.sk-toggleable__content pre {\n",
              "  margin: 0.2em;\n",
              "  border-radius: 0.25em;\n",
              "  color: var(--sklearn-color-text);\n",
              "  /* unfitted */\n",
              "  background-color: var(--sklearn-color-unfitted-level-0);\n",
              "}\n",
              "\n",
              "#sk-container-id-18 div.sk-toggleable__content.fitted pre {\n",
              "  /* unfitted */\n",
              "  background-color: var(--sklearn-color-fitted-level-0);\n",
              "}\n",
              "\n",
              "#sk-container-id-18 input.sk-toggleable__control:checked~div.sk-toggleable__content {\n",
              "  /* Expand drop-down */\n",
              "  max-height: 200px;\n",
              "  max-width: 100%;\n",
              "  overflow: auto;\n",
              "}\n",
              "\n",
              "#sk-container-id-18 input.sk-toggleable__control:checked~label.sk-toggleable__label-arrow:before {\n",
              "  content: \"▾\";\n",
              "}\n",
              "\n",
              "/* Pipeline/ColumnTransformer-specific style */\n",
              "\n",
              "#sk-container-id-18 div.sk-label input.sk-toggleable__control:checked~label.sk-toggleable__label {\n",
              "  color: var(--sklearn-color-text);\n",
              "  background-color: var(--sklearn-color-unfitted-level-2);\n",
              "}\n",
              "\n",
              "#sk-container-id-18 div.sk-label.fitted input.sk-toggleable__control:checked~label.sk-toggleable__label {\n",
              "  background-color: var(--sklearn-color-fitted-level-2);\n",
              "}\n",
              "\n",
              "/* Estimator-specific style */\n",
              "\n",
              "/* Colorize estimator box */\n",
              "#sk-container-id-18 div.sk-estimator input.sk-toggleable__control:checked~label.sk-toggleable__label {\n",
              "  /* unfitted */\n",
              "  background-color: var(--sklearn-color-unfitted-level-2);\n",
              "}\n",
              "\n",
              "#sk-container-id-18 div.sk-estimator.fitted input.sk-toggleable__control:checked~label.sk-toggleable__label {\n",
              "  /* fitted */\n",
              "  background-color: var(--sklearn-color-fitted-level-2);\n",
              "}\n",
              "\n",
              "#sk-container-id-18 div.sk-label label.sk-toggleable__label,\n",
              "#sk-container-id-18 div.sk-label label {\n",
              "  /* The background is the default theme color */\n",
              "  color: var(--sklearn-color-text-on-default-background);\n",
              "}\n",
              "\n",
              "/* On hover, darken the color of the background */\n",
              "#sk-container-id-18 div.sk-label:hover label.sk-toggleable__label {\n",
              "  color: var(--sklearn-color-text);\n",
              "  background-color: var(--sklearn-color-unfitted-level-2);\n",
              "}\n",
              "\n",
              "/* Label box, darken color on hover, fitted */\n",
              "#sk-container-id-18 div.sk-label.fitted:hover label.sk-toggleable__label.fitted {\n",
              "  color: var(--sklearn-color-text);\n",
              "  background-color: var(--sklearn-color-fitted-level-2);\n",
              "}\n",
              "\n",
              "/* Estimator label */\n",
              "\n",
              "#sk-container-id-18 div.sk-label label {\n",
              "  font-family: monospace;\n",
              "  font-weight: bold;\n",
              "  display: inline-block;\n",
              "  line-height: 1.2em;\n",
              "}\n",
              "\n",
              "#sk-container-id-18 div.sk-label-container {\n",
              "  text-align: center;\n",
              "}\n",
              "\n",
              "/* Estimator-specific */\n",
              "#sk-container-id-18 div.sk-estimator {\n",
              "  font-family: monospace;\n",
              "  border: 1px dotted var(--sklearn-color-border-box);\n",
              "  border-radius: 0.25em;\n",
              "  box-sizing: border-box;\n",
              "  margin-bottom: 0.5em;\n",
              "  /* unfitted */\n",
              "  background-color: var(--sklearn-color-unfitted-level-0);\n",
              "}\n",
              "\n",
              "#sk-container-id-18 div.sk-estimator.fitted {\n",
              "  /* fitted */\n",
              "  background-color: var(--sklearn-color-fitted-level-0);\n",
              "}\n",
              "\n",
              "/* on hover */\n",
              "#sk-container-id-18 div.sk-estimator:hover {\n",
              "  /* unfitted */\n",
              "  background-color: var(--sklearn-color-unfitted-level-2);\n",
              "}\n",
              "\n",
              "#sk-container-id-18 div.sk-estimator.fitted:hover {\n",
              "  /* fitted */\n",
              "  background-color: var(--sklearn-color-fitted-level-2);\n",
              "}\n",
              "\n",
              "/* Specification for estimator info (e.g. \"i\" and \"?\") */\n",
              "\n",
              "/* Common style for \"i\" and \"?\" */\n",
              "\n",
              ".sk-estimator-doc-link,\n",
              "a:link.sk-estimator-doc-link,\n",
              "a:visited.sk-estimator-doc-link {\n",
              "  float: right;\n",
              "  font-size: smaller;\n",
              "  line-height: 1em;\n",
              "  font-family: monospace;\n",
              "  background-color: var(--sklearn-color-background);\n",
              "  border-radius: 1em;\n",
              "  height: 1em;\n",
              "  width: 1em;\n",
              "  text-decoration: none !important;\n",
              "  margin-left: 1ex;\n",
              "  /* unfitted */\n",
              "  border: var(--sklearn-color-unfitted-level-1) 1pt solid;\n",
              "  color: var(--sklearn-color-unfitted-level-1);\n",
              "}\n",
              "\n",
              ".sk-estimator-doc-link.fitted,\n",
              "a:link.sk-estimator-doc-link.fitted,\n",
              "a:visited.sk-estimator-doc-link.fitted {\n",
              "  /* fitted */\n",
              "  border: var(--sklearn-color-fitted-level-1) 1pt solid;\n",
              "  color: var(--sklearn-color-fitted-level-1);\n",
              "}\n",
              "\n",
              "/* On hover */\n",
              "div.sk-estimator:hover .sk-estimator-doc-link:hover,\n",
              ".sk-estimator-doc-link:hover,\n",
              "div.sk-label-container:hover .sk-estimator-doc-link:hover,\n",
              ".sk-estimator-doc-link:hover {\n",
              "  /* unfitted */\n",
              "  background-color: var(--sklearn-color-unfitted-level-3);\n",
              "  color: var(--sklearn-color-background);\n",
              "  text-decoration: none;\n",
              "}\n",
              "\n",
              "div.sk-estimator.fitted:hover .sk-estimator-doc-link.fitted:hover,\n",
              ".sk-estimator-doc-link.fitted:hover,\n",
              "div.sk-label-container:hover .sk-estimator-doc-link.fitted:hover,\n",
              ".sk-estimator-doc-link.fitted:hover {\n",
              "  /* fitted */\n",
              "  background-color: var(--sklearn-color-fitted-level-3);\n",
              "  color: var(--sklearn-color-background);\n",
              "  text-decoration: none;\n",
              "}\n",
              "\n",
              "/* Span, style for the box shown on hovering the info icon */\n",
              ".sk-estimator-doc-link span {\n",
              "  display: none;\n",
              "  z-index: 9999;\n",
              "  position: relative;\n",
              "  font-weight: normal;\n",
              "  right: .2ex;\n",
              "  padding: .5ex;\n",
              "  margin: .5ex;\n",
              "  width: min-content;\n",
              "  min-width: 20ex;\n",
              "  max-width: 50ex;\n",
              "  color: var(--sklearn-color-text);\n",
              "  box-shadow: 2pt 2pt 4pt #999;\n",
              "  /* unfitted */\n",
              "  background: var(--sklearn-color-unfitted-level-0);\n",
              "  border: .5pt solid var(--sklearn-color-unfitted-level-3);\n",
              "}\n",
              "\n",
              ".sk-estimator-doc-link.fitted span {\n",
              "  /* fitted */\n",
              "  background: var(--sklearn-color-fitted-level-0);\n",
              "  border: var(--sklearn-color-fitted-level-3);\n",
              "}\n",
              "\n",
              ".sk-estimator-doc-link:hover span {\n",
              "  display: block;\n",
              "}\n",
              "\n",
              "/* \"?\"-specific style due to the `<a>` HTML tag */\n",
              "\n",
              "#sk-container-id-18 a.estimator_doc_link {\n",
              "  float: right;\n",
              "  font-size: 1rem;\n",
              "  line-height: 1em;\n",
              "  font-family: monospace;\n",
              "  background-color: var(--sklearn-color-background);\n",
              "  border-radius: 1rem;\n",
              "  height: 1rem;\n",
              "  width: 1rem;\n",
              "  text-decoration: none;\n",
              "  /* unfitted */\n",
              "  color: var(--sklearn-color-unfitted-level-1);\n",
              "  border: var(--sklearn-color-unfitted-level-1) 1pt solid;\n",
              "}\n",
              "\n",
              "#sk-container-id-18 a.estimator_doc_link.fitted {\n",
              "  /* fitted */\n",
              "  border: var(--sklearn-color-fitted-level-1) 1pt solid;\n",
              "  color: var(--sklearn-color-fitted-level-1);\n",
              "}\n",
              "\n",
              "/* On hover */\n",
              "#sk-container-id-18 a.estimator_doc_link:hover {\n",
              "  /* unfitted */\n",
              "  background-color: var(--sklearn-color-unfitted-level-3);\n",
              "  color: var(--sklearn-color-background);\n",
              "  text-decoration: none;\n",
              "}\n",
              "\n",
              "#sk-container-id-18 a.estimator_doc_link.fitted:hover {\n",
              "  /* fitted */\n",
              "  background-color: var(--sklearn-color-fitted-level-3);\n",
              "}\n",
              "</style><div id=\"sk-container-id-18\" class=\"sk-top-container\"><div class=\"sk-text-repr-fallback\"><pre>GridSearchCV(cv=5,\n",
              "             estimator=XGBClassifier(base_score=None, booster=None,\n",
              "                                     callbacks=None, colsample_bylevel=None,\n",
              "                                     colsample_bynode=None,\n",
              "                                     colsample_bytree=0.8, device=None,\n",
              "                                     early_stopping_rounds=None,\n",
              "                                     enable_categorical=False, eval_metric=None,\n",
              "                                     feature_types=None, gamma=None,\n",
              "                                     grow_policy=None, importance_type=None,\n",
              "                                     interaction_constraints=None,\n",
              "                                     learning_rate=0.9, ma...\n",
              "                                     max_cat_threshold=None,\n",
              "                                     max_cat_to_onehot=None,\n",
              "                                     max_delta_step=None, max_depth=10,\n",
              "                                     max_leaves=None, min_child_weight=5,\n",
              "                                     missing=nan, monotone_constraints=None,\n",
              "                                     multi_strategy=None, n_estimators=None,\n",
              "                                     n_jobs=None, num_parallel_tree=None,\n",
              "                                     random_state=None, ...),\n",
              "             n_jobs=-1,\n",
              "             param_grid={&#x27;learning_rate&#x27;: [0.01, 0.025, 0.05, 0.075],\n",
              "                         &#x27;max_depth&#x27;: [4, 5, 6],\n",
              "                         &#x27;n_estimators&#x27;: [50, 100, 150]})</pre><b>In a Jupyter environment, please rerun this cell to show the HTML representation or trust the notebook. <br />On GitHub, the HTML representation is unable to render, please try loading this page with nbviewer.org.</b></div><div class=\"sk-container\" hidden><div class=\"sk-item sk-dashed-wrapped\"><div class=\"sk-label-container\"><div class=\"sk-label fitted sk-toggleable\"><input class=\"sk-toggleable__control sk-hidden--visually\" id=\"sk-estimator-id-20\" type=\"checkbox\" ><label for=\"sk-estimator-id-20\" class=\"sk-toggleable__label fitted sk-toggleable__label-arrow fitted\">&nbsp;&nbsp;GridSearchCV<a class=\"sk-estimator-doc-link fitted\" rel=\"noreferrer\" target=\"_blank\" href=\"https://scikit-learn.org/1.4/modules/generated/sklearn.model_selection.GridSearchCV.html\">?<span>Documentation for GridSearchCV</span></a><span class=\"sk-estimator-doc-link fitted\">i<span>Fitted</span></span></label><div class=\"sk-toggleable__content fitted\"><pre>GridSearchCV(cv=5,\n",
              "             estimator=XGBClassifier(base_score=None, booster=None,\n",
              "                                     callbacks=None, colsample_bylevel=None,\n",
              "                                     colsample_bynode=None,\n",
              "                                     colsample_bytree=0.8, device=None,\n",
              "                                     early_stopping_rounds=None,\n",
              "                                     enable_categorical=False, eval_metric=None,\n",
              "                                     feature_types=None, gamma=None,\n",
              "                                     grow_policy=None, importance_type=None,\n",
              "                                     interaction_constraints=None,\n",
              "                                     learning_rate=0.9, ma...\n",
              "                                     max_cat_threshold=None,\n",
              "                                     max_cat_to_onehot=None,\n",
              "                                     max_delta_step=None, max_depth=10,\n",
              "                                     max_leaves=None, min_child_weight=5,\n",
              "                                     missing=nan, monotone_constraints=None,\n",
              "                                     multi_strategy=None, n_estimators=None,\n",
              "                                     n_jobs=None, num_parallel_tree=None,\n",
              "                                     random_state=None, ...),\n",
              "             n_jobs=-1,\n",
              "             param_grid={&#x27;learning_rate&#x27;: [0.01, 0.025, 0.05, 0.075],\n",
              "                         &#x27;max_depth&#x27;: [4, 5, 6],\n",
              "                         &#x27;n_estimators&#x27;: [50, 100, 150]})</pre></div> </div></div><div class=\"sk-parallel\"><div class=\"sk-parallel-item\"><div class=\"sk-item\"><div class=\"sk-label-container\"><div class=\"sk-label fitted sk-toggleable\"><input class=\"sk-toggleable__control sk-hidden--visually\" id=\"sk-estimator-id-21\" type=\"checkbox\" ><label for=\"sk-estimator-id-21\" class=\"sk-toggleable__label fitted sk-toggleable__label-arrow fitted\">estimator: XGBClassifier</label><div class=\"sk-toggleable__content fitted\"><pre>XGBClassifier(base_score=None, booster=None, callbacks=None,\n",
              "              colsample_bylevel=None, colsample_bynode=None,\n",
              "              colsample_bytree=0.8, device=None, early_stopping_rounds=None,\n",
              "              enable_categorical=False, eval_metric=None, feature_types=None,\n",
              "              gamma=None, grow_policy=None, importance_type=None,\n",
              "              interaction_constraints=None, learning_rate=0.9, max_bin=None,\n",
              "              max_cat_threshold=None, max_cat_to_onehot=None,\n",
              "              max_delta_step=None, max_depth=10, max_leaves=None,\n",
              "              min_child_weight=5, missing=nan, monotone_constraints=None,\n",
              "              multi_strategy=None, n_estimators=None, n_jobs=None,\n",
              "              num_parallel_tree=None, random_state=None, ...)</pre></div> </div></div><div class=\"sk-serial\"><div class=\"sk-item\"><div class=\"sk-estimator fitted sk-toggleable\"><input class=\"sk-toggleable__control sk-hidden--visually\" id=\"sk-estimator-id-22\" type=\"checkbox\" ><label for=\"sk-estimator-id-22\" class=\"sk-toggleable__label fitted sk-toggleable__label-arrow fitted\">XGBClassifier</label><div class=\"sk-toggleable__content fitted\"><pre>XGBClassifier(base_score=None, booster=None, callbacks=None,\n",
              "              colsample_bylevel=None, colsample_bynode=None,\n",
              "              colsample_bytree=0.8, device=None, early_stopping_rounds=None,\n",
              "              enable_categorical=False, eval_metric=None, feature_types=None,\n",
              "              gamma=None, grow_policy=None, importance_type=None,\n",
              "              interaction_constraints=None, learning_rate=0.9, max_bin=None,\n",
              "              max_cat_threshold=None, max_cat_to_onehot=None,\n",
              "              max_delta_step=None, max_depth=10, max_leaves=None,\n",
              "              min_child_weight=5, missing=nan, monotone_constraints=None,\n",
              "              multi_strategy=None, n_estimators=None, n_jobs=None,\n",
              "              num_parallel_tree=None, random_state=None, ...)</pre></div> </div></div></div></div></div></div></div></div></div>"
            ]
          },
          "metadata": {},
          "execution_count": 112
        }
      ]
    },
    {
      "cell_type": "code",
      "source": [
        "# Print the best parameters found by grid search\n",
        "print(\"Best parameters:\", grid_search.best_params_)\n",
        "\n",
        "# Evaluate the model on the test set\n",
        "best_model = grid_search.best_estimator_\n",
        "test_accuracy = best_model.score(X_test, y_test)\n",
        "print(\"Test accuracy:\", test_accuracy)"
      ],
      "metadata": {
        "colab": {
          "base_uri": "https://localhost:8080/"
        },
        "id": "rLW6w41EpyVN",
        "outputId": "c8a26f70-3af3-49c0-ba73-6ea43af995f0"
      },
      "execution_count": 113,
      "outputs": [
        {
          "output_type": "stream",
          "name": "stdout",
          "text": [
            "Best parameters: {'learning_rate': 0.05, 'max_depth': 5, 'n_estimators': 100}\n",
            "Test accuracy: 0.8041163946061036\n"
          ]
        }
      ]
    },
    {
      "cell_type": "markdown",
      "source": [
        "### 4.2.6 Confusion Matrix"
      ],
      "metadata": {
        "id": "vgZLWu1FsTLV"
      }
    },
    {
      "cell_type": "code",
      "source": [
        "# Build the model\n",
        "xgb_model = xgb.XGBClassifier(\n",
        "    objective = \"binary:logistic\",\n",
        "    learning_rate = 0.05,\n",
        "    max_depth = 10,\n",
        "    min_child_weight = 5 ,\n",
        "    subsample = 0.8,\n",
        "    colsample_bytree = 0.8\n",
        ")\n",
        "#Fit the data\n",
        "xgb_model.fit(X_train,y_train)\n",
        "\n",
        "# Validate using predictions\n",
        "y_pred = xgb_model.predict(X_test)"
      ],
      "metadata": {
        "id": "DpSJnD3Dshvr"
      },
      "execution_count": 114,
      "outputs": []
    },
    {
      "cell_type": "code",
      "source": [
        "import matplotlib.pyplot as plt\n",
        "\n",
        "# Generate the confusion matrix\n",
        "cm = confusion_matrix(y_test, y_pred)\n",
        "\n",
        "# Plot the confusion matrix\n",
        "classes = np.unique(y)\n",
        "# Plot confusion matrix\n",
        "disp = ConfusionMatrixDisplay(confusion_matrix=cm, display_labels=classes)\n",
        "disp.plot(cmap=plt.cm.Blues)\n",
        "plt.title(\"Confusion Matrix\")\n",
        "plt.show()"
      ],
      "metadata": {
        "colab": {
          "base_uri": "https://localhost:8080/",
          "height": 472
        },
        "id": "3qMiWviRsYgk",
        "outputId": "74d4a2fa-d453-4df6-cd27-2664637adb13"
      },
      "execution_count": 121,
      "outputs": [
        {
          "output_type": "display_data",
          "data": {
            "text/plain": [
              "<Figure size 640x480 with 2 Axes>"
            ],
            "image/png": "[encoded data removed]"
          },
          "metadata": {}
        }
      ]
    },
    {
      "cell_type": "markdown",
      "source": [
        "# OS Module\n",
        "\n"
      ],
      "metadata": {
        "id": "XqHRwFeu5LU4"
      }
    },
    {
      "cell_type": "markdown",
      "source": [
        "File handling using the `os` module in Python involves managing files and directories on the operating system level. The `os` module provides various functions to work with paths, create, delete, rename, move, copy, and manipulate files and directories.\n",
        "\n",
        "**1. Getting the Current Working Directory:**\n",
        "\n",
        "The current working directory is the directory where your Python script is currently executing. Use the `os.getcwd()` function to obtain this directory.\n",
        "\n",
        "Example:\n",
        "> ```python\n",
        "> import os\n",
        ">\n",
        "> current_dir = os.getcwd()\n",
        "> print(\"Current Directory:\", current_dir)\n",
        "> ```\n",
        "\n",
        "**2. Changing the Current Working Directory:**\n",
        "\n",
        "Use the `os.chdir()` function to change the current working directory to a different path.\n",
        "\n",
        "Example:\n",
        "> ```python\n",
        "> new_dir = \"/path/to/new_directory\"\n",
        "> os.chdir(new_dir)\n",
        "> print(\"Current Directory changed to:\", os.getcwd())\n",
        "> ```\n",
        "\n",
        "**3. Listing Files and Directories:**\n",
        "\n",
        "The `os.listdir()` function allows to list the contents of a directory.\n",
        "\n",
        "Example:\n",
        "> ```python\n",
        "> contents = os.listdir(current_dir)\n",
        "> print(\"Contents of the Directory:\", contents)\n",
        "> ```\n",
        "\n",
        "**4. Creating a Directory:**\n",
        "\n",
        "Create a new directory using the `os.mkdir()` function. To create nested directories, use `os.makedirs()`.\n",
        "\n",
        "Example:\n",
        "> ```python\n",
        "> new_dir = os.path.join(current_dir, \"new_directory\")\n",
        "> os.mkdir(new_dir)\n",
        "> print(\"New Directory created:\", new_dir)\n",
        ">\n",
        "> nested_dirs = os.path.join(current_dir, \"parent\", \"child\") #/folder/file.ext\n",
        "> os.makedirs(nested_dirs)\n",
        "> print(\"Nested Directories created:\", nested_dirs)\n",
        "> ```\n",
        "\n",
        "**5. Deleting a File or Directory:**\n",
        "\n",
        "The `os.remove()` function deletes a file, while `os.rmdir()` removes an empty directory.\n",
        "\n",
        "Example:\n",
        "> ```python\n",
        "> file_to_delete = \"file_to_delete.txt\"\n",
        "> os.remove(file_to_delete)\n",
        "> print(\"File deleted:\", file_to_delete)\n",
        ">\n",
        "> empty_dir_to_delete = \"empty_directory\"\n",
        "> os.rmdir(empty_dir_to_delete)\n",
        "> print(\"Directory deleted:\", empty_dir_to_delete)\n",
        "> ```\n",
        "\n",
        "**6. Renaming Files and Folders:**\n",
        "\n",
        "Use the `os.rename()` function to rename files and folders.\n",
        "\n",
        "Example:\n",
        "> ```python\n",
        "> old_file_name = \"old_file.txt\"\n",
        "> new_file_name = \"new_file.txt\"\n",
        "> os.rename(old_file_name, new_file_name)\n",
        "> print(\"File renamed:\", new_file_name)\n",
        ">\n",
        "> old_dir_name = \"old_directory\"\n",
        "> new_dir_name = \"new_directory\"\n",
        "> os.rename(old_dir_name, new_dir_name)\n",
        "> print(\"Directory renamed:\", new_dir_name)\n",
        "> ```\n",
        "\n",
        "**7. Moving Files and Directories:**\n",
        "\n",
        "The `os.rename()` function can also be used to move files and directories.\n",
        "\n",
        "Example:\n",
        "> ```python\n",
        "> source_file = \"source_folder/source_file.txt\"\n",
        "> destination_file = \"destination_folder/destination_file.txt\"\n",
        "> os.rename(source_file, destination_file)\n",
        "> print(\"File moved:\", destination_file)\n",
        "> ```\n",
        "\n",
        "**8. Getting File Properties:**\n",
        "\n",
        "Use the `os.stat()` function to obtain information about a file's properties.\n",
        "\n",
        "Example:\n",
        "> ```python\n",
        "> file_path = \"file_to_get_properties.txt\"\n",
        "> file_properties = os.stat(file_path)\n",
        "> print(\"File Properties:\", file_properties)\n",
        "> ```\n",
        "\n",
        "**9. Copying Files and Directories:**\n",
        "\n",
        "For copying files, can use `shutil.copy()`, and for directories, use `shutil.copytree()`.\n",
        "\n",
        "Example:\n",
        "> ```python\n",
        "> import shutil\n",
        ">\n",
        "> source_file = \"source_folder/source_file.txt\"\n",
        "> destination_file = \"destination_folder/destination_file.txt\"\n",
        "> shutil.copy(source_file, destination_file)\n",
        "> print(\"File copied:\", destination_file)\n",
        ">\n",
        "> source_dir = \"source_directory\"\n",
        "> destination_dir = \"destination_directory\"\n",
        "> shutil.copytree(source_dir, destination_dir)\n",
        "> print(\"Directory copied:\", destination_dir)\n",
        "> ```\n",
        "\n",
        "**10. Checking File or Directory Existence:**\n",
        "\n",
        "Use `os.path.exists()` to check if a file or directory exists.\n",
        "\n",
        "Example:\n",
        "> ```python\n",
        "> file_path = \"file_to_check.txt\"\n",
        "> if os.path.exists(file_path):\n",
        ">     print(f\"{file_path} exists\")\n",
        "> else:\n",
        ">     print(f\"{file_path} does not exist\")\n",
        "> ```\n",
        "\n",
        "**11. Checking if a Path is a File or Directory:**\n",
        "\n",
        "Use `os.path.isfile()` to check if a path points to a file, and `os.path.isdir()` for a directory.\n",
        "\n",
        "Example:\n",
        "> ```python\n",
        "> path_to_check = \"path_to_check\"\n",
        "> if os.path.isfile(path_to_check):\n",
        ">     print(f\"{path_to_check} is a file\")\n",
        "> elif os.path.isdir(path_to_check):\n",
        ">     print(f\"{path_to_check} is a directory\")\n",
        "> else:\n",
        ">     print(f\"{path_to_check} does not exist\")\n",
        "> ```\n",
        "\n",
        "**12. Joining Paths:**\n",
        "\n",
        "Use `os.path.join()` to join paths in a platform-independent way.\n",
        "\n",
        "Example:\n",
        "> ```python\n",
        "> dir_name = \"my_directory\"\n",
        "> file_name = \"my_file.txt\"\n",
        "> file_path = os.path.join(dir_name, file_name)\n",
        "> print(\"Joined Path:\", file_path)\n",
        "> ```\n",
        "\n",
        "**13. Getting the Basename and Directory Name:**\n",
        "\n",
        "Use `os.path.basename()` to get the basename and `os.path.dirname()` to get the directory name from a path.\n",
        "\n",
        "Example:\n",
        "> ```python\n",
        "> path = \"/path/to/my_file.txt\"\n",
        "> basename = os.path.basename(path)\n",
        "> dirname = os.path.dirname(path)\n",
        "> print(\"Basename:\", basename)\n",
        "> print(\"Directory Name:\", dirname)\n",
        "> ```\n"
      ],
      "metadata": {
        "id": "_lkPr_7mk_iZ"
      }
    },
    {
      "cell_type": "markdown",
      "source": [
        "CSV module"
      ],
      "metadata": {
        "id": "wd6c3rAGmRo1"
      }
    },
    {
      "cell_type": "markdown",
      "source": [
        "Json Module"
      ],
      "metadata": {
        "id": "llNaqCfJwdwW"
      }
    },
    {
      "cell_type": "markdown",
      "source": [
        "# **SymPy Module**"
      ],
      "metadata": {
        "id": "tExvA4NSX8gq"
      }
    },
    {
      "cell_type": "markdown",
      "source": [
        "## **Basics**"
      ],
      "metadata": {
        "id": "l2-YB_olYAGg"
      }
    },
    {
      "cell_type": "markdown",
      "source": [
        "Install Sympy"
      ],
      "metadata": {
        "id": "AivInfPlYSx2"
      }
    },
    {
      "cell_type": "code",
      "source": [
        "# Install sympy if not already installed\n",
        "!pip install sympy"
      ],
      "metadata": {
        "id": "GhJOhwJqYU3j",
        "outputId": "f843c2cb-241a-43bf-8288-aac55357d829",
        "colab": {
          "base_uri": "https://localhost:8080/"
        }
      },
      "execution_count": null,
      "outputs": [
        {
          "output_type": "stream",
          "name": "stdout",
          "text": [
            "Requirement already satisfied: sympy in /usr/local/lib/python3.10/dist-packages (1.12)\n",
            "Requirement already satisfied: mpmath>=0.19 in /usr/local/lib/python3.10/dist-packages (from sympy) (1.3.0)\n"
          ]
        }
      ]
    },
    {
      "cell_type": "markdown",
      "source": [
        "Import"
      ],
      "metadata": {
        "id": "rQkOxfDPYWZ2"
      }
    },
    {
      "cell_type": "code",
      "source": [
        "# Importing necessary libraries\n",
        "from sympy import*"
      ],
      "metadata": {
        "id": "HT2CxZuCYcCH"
      },
      "execution_count": null,
      "outputs": []
    },
    {
      "cell_type": "markdown",
      "source": [
        "## **Symbols and Expressions:**"
      ],
      "metadata": {
        "id": "Y-VhlSZ7YgRu"
      }
    },
    {
      "cell_type": "markdown",
      "source": [
        "Syntax"
      ],
      "metadata": {
        "id": "OstA8xd2ZNi8"
      }
    },
    {
      "cell_type": "code",
      "source": [
        "from sympy import symbols\n",
        "# Define symbolic variables\n",
        "x, y, z = symbols('x y z')"
      ],
      "metadata": {
        "id": "cpcBtLM5YjGK"
      },
      "execution_count": null,
      "outputs": []
    },
    {
      "cell_type": "markdown",
      "source": [
        "Examples"
      ],
      "metadata": {
        "id": "AoWjKHECZPfi"
      }
    },
    {
      "cell_type": "code",
      "source": [
        "from sympy import symbols, expand\n",
        "\n",
        "# Define symbolic variables\n",
        "x, y = symbols('x y')\n",
        "\n",
        "# Create a symbolic expression\n",
        "expr = (x + y)**2\n",
        "\n",
        "# Expand the expression\n",
        "expanded_expr = expand(expr)\n",
        "\n",
        "print(f\"Original expression: {expr}\")\n",
        "print(f\"Expanded expression: {expanded_expr}\")\n"
      ],
      "metadata": {
        "id": "8qbvyYzaZSjc",
        "outputId": "2604d890-683f-4dfd-d809-70f059c14224",
        "colab": {
          "base_uri": "https://localhost:8080/"
        }
      },
      "execution_count": null,
      "outputs": [
        {
          "output_type": "stream",
          "name": "stdout",
          "text": [
            "Original expression: (x + y)**2\n",
            "Expanded expression: x**2 + 2*x*y + y**2\n"
          ]
        }
      ]
    },
    {
      "cell_type": "markdown",
      "source": [
        "## **Equation Solving:**"
      ],
      "metadata": {
        "id": "BkSRCeYhZdUN"
      }
    },
    {
      "cell_type": "markdown",
      "source": [
        "Syntax:"
      ],
      "metadata": {
        "id": "hOma_sDxZgLS"
      }
    },
    {
      "cell_type": "code",
      "source": [
        "from sympy import Eq, solve\n",
        "# Define equations\n",
        "equation = Eq(x**2 - 4, 0)\n",
        "# Solve equations\n",
        "solution = solve(equation, x)"
      ],
      "metadata": {
        "id": "_qEdCebiZiXI"
      },
      "execution_count": null,
      "outputs": []
    },
    {
      "cell_type": "markdown",
      "source": [
        "Example"
      ],
      "metadata": {
        "id": "PYZvX5vhZhzT"
      }
    },
    {
      "cell_type": "code",
      "source": [
        "from sympy import Eq, solve\n",
        "\n",
        "# Define an equation\n",
        "equation = Eq(x**2 - 4, 0)\n",
        "\n",
        "# Solve the equation\n",
        "solution = solve(equation, x)\n",
        "\n",
        "print(f\"Equation: {equation}\")\n",
        "print(f\"Solutions: {solution}\")\n"
      ],
      "metadata": {
        "id": "XlzQKjZ4ZiCN",
        "outputId": "0965564c-2a5a-430e-97b0-c8d6ac45626f",
        "colab": {
          "base_uri": "https://localhost:8080/"
        }
      },
      "execution_count": null,
      "outputs": [
        {
          "output_type": "stream",
          "name": "stdout",
          "text": [
            "Equation: Eq(x**2 - 4, 0)\n",
            "Solutions: [-2, 2]\n"
          ]
        }
      ]
    },
    {
      "cell_type": "markdown",
      "source": [
        "## **Calculus:**"
      ],
      "metadata": {
        "id": "XYn2L9t0Zybz"
      }
    },
    {
      "cell_type": "markdown",
      "source": [
        "Syntax"
      ],
      "metadata": {
        "id": "dRVL43L3Z0zg"
      }
    },
    {
      "cell_type": "markdown",
      "source": [
        "> ```\n",
        "> from sympy import integrate, diff, limit\n",
        ">\n",
        "> # Integration\n",
        "> integral_result = integrate(expression, variable)\n",
        ">\n",
        "> # Differentiation\n",
        "> derivative_result = diff(expression, variable)\n",
        ">\n",
        "> # Limits\n",
        "> limit_result = limit(expression, variable, point)\n",
        "> ```"
      ],
      "metadata": {
        "id": "ILonV0UOZ6xe"
      }
    },
    {
      "cell_type": "markdown",
      "source": [
        "Example"
      ],
      "metadata": {
        "id": "0Y6mq--TZ2Hm"
      }
    },
    {
      "cell_type": "code",
      "source": [
        "from sympy import integrate, diff, limit, oo\n",
        "\n",
        "# Integration\n",
        "integral_result = integrate(x**2 + 2*x + 1, x)\n",
        "\n",
        "# Differentiation\n",
        "derivative_result = diff(x**3 + 3*x**2 + 2*x + 1, x)\n",
        "\n",
        "# Limits\n",
        "limit_result = limit(1/x, x, 0, dir='-')  # approaching 0 from the left\n",
        "\n",
        "print(f\"Integral: {integral_result}\")\n",
        "print(f\"Derivative: {derivative_result}\")\n",
        "print(f\"Limit: {limit_result}\")\n"
      ],
      "metadata": {
        "id": "L07H6jc3Z1vE",
        "outputId": "c8a2966f-95ed-4cc9-ca6c-49ec88f4a2e6",
        "colab": {
          "base_uri": "https://localhost:8080/"
        }
      },
      "execution_count": null,
      "outputs": [
        {
          "output_type": "stream",
          "name": "stdout",
          "text": [
            "Integral: x**3/3 + x**2 + x\n",
            "Derivative: 3*x**2 + 6*x + 2\n",
            "Limit: -oo\n"
          ]
        }
      ]
    },
    {
      "cell_type": "markdown",
      "source": [
        "## **Simplification:**"
      ],
      "metadata": {
        "id": "_CLHs9rCaKMz"
      }
    },
    {
      "cell_type": "markdown",
      "source": [
        "Syntaxes\n"
      ],
      "metadata": {
        "id": "cwJRpF01aNBh"
      }
    },
    {
      "cell_type": "markdown",
      "source": [
        "> ```\n",
        "> from sympy import simplify\n",
        ">\n",
        "> # Simplification\n",
        "> simplified_expression = simplify(expression)\n",
        ">\n",
        "> ```"
      ],
      "metadata": {
        "id": "cBUnHgqNaOAF"
      }
    },
    {
      "cell_type": "markdown",
      "source": [
        "Example"
      ],
      "metadata": {
        "id": "D7RdFmzGaUmM"
      }
    },
    {
      "cell_type": "code",
      "source": [
        "from sympy import simplify\n",
        "\n",
        "# Simplification\n",
        "expression_to_simplify = (x**2 + 2*x + 1)/(x + 1)\n",
        "simplified_expression = simplify(expression_to_simplify)\n",
        "\n",
        "print(f\"Original expression: {expression_to_simplify}\")\n",
        "print(f\"Simplified expression: {simplified_expression}\")\n"
      ],
      "metadata": {
        "id": "shCYpvP9aV5L",
        "outputId": "9972dc24-2da8-41ef-8d1f-7fa24fb46f50",
        "colab": {
          "base_uri": "https://localhost:8080/"
        }
      },
      "execution_count": null,
      "outputs": [
        {
          "output_type": "stream",
          "name": "stdout",
          "text": [
            "Original expression: (x**2 + 2*x + 1)/(x + 1)\n",
            "Simplified expression: x + 1\n"
          ]
        }
      ]
    },
    {
      "cell_type": "markdown",
      "source": [
        "## **Matrices:**"
      ],
      "metadata": {
        "id": "yYNl6BRkaYnZ"
      }
    },
    {
      "cell_type": "markdown",
      "source": [
        "Syntax:"
      ],
      "metadata": {
        "id": "y6s2mnDGaavi"
      }
    },
    {
      "cell_type": "markdown",
      "source": [
        "> ```\n",
        "> from sympy import Matrix\n",
        ">\n",
        "> # Define matrices\n",
        "> A = Matrix([[1, 2], [3, 4]])\n",
        "> B = Matrix([[5, 6], [7, 8]])\n",
        ">\n",
        "> # Matrix operations\n",
        "> product_matrix = A * B\n",
        ">\n",
        "> ```"
      ],
      "metadata": {
        "id": "uLIp_fvAacV1"
      }
    },
    {
      "cell_type": "markdown",
      "source": [
        "Example"
      ],
      "metadata": {
        "id": "bU5CsmmSakxy"
      }
    },
    {
      "cell_type": "code",
      "source": [
        "from sympy import Matrix\n",
        "\n",
        "# Define matrices\n",
        "A = Matrix([[1, 2], [3, 4]])\n",
        "B = Matrix([[5, 6], [7, 8]])\n",
        "\n",
        "# Matrix operations\n",
        "product_matrix = A * B\n",
        "\n",
        "print(f\"Matrix A:\\n{A}\")\n",
        "print(f\"Matrix B:\\n{B}\")\n",
        "print(f\"Product of A and B:\\n{product_matrix}\")\n"
      ],
      "metadata": {
        "id": "ofzR4sgRaltq",
        "outputId": "3a395054-e3ae-4b78-da3c-e3f447e344e3",
        "colab": {
          "base_uri": "https://localhost:8080/"
        }
      },
      "execution_count": null,
      "outputs": [
        {
          "output_type": "stream",
          "name": "stdout",
          "text": [
            "Matrix A:\n",
            "Matrix([[1, 2], [3, 4]])\n",
            "Matrix B:\n",
            "Matrix([[5, 6], [7, 8]])\n",
            "Product of A and B:\n",
            "Matrix([[19, 22], [43, 50]])\n"
          ]
        }
      ]
    }
  ]
}