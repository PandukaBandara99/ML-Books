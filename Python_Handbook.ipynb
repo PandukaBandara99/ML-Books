{
  "nbformat": 4,
  "nbformat_minor": 0,
  "metadata": {
    "colab": {
      "provenance": [],
      "toc_visible": true,
      "authorship_tag": "ABX9TyOUVlgXVW4o9NmvQnADA9N0",
      "include_colab_link": true
    },
    "kernelspec": {
      "name": "python3",
      "display_name": "Python 3"
    },
    "language_info": {
      "name": "python"
    }
  },
  "cells": [
    {
      "cell_type": "markdown",
      "metadata": {
        "id": "view-in-github",
        "colab_type": "text"
      },
      "source": [
        "<a href=\"https://colab.research.google.com/github/PandukaBandara99/ML-Books/blob/main/Python_Handbook.ipynb\" target=\"_parent\"><img src=\"https://colab.research.google.com/assets/colab-badge.svg\" alt=\"Open In Colab\"/></a>"
      ]
    },
    {
      "cell_type": "markdown",
      "source": [
        "Mahela Panduka Bandara ; <br> UG @ Dpt. of Electronic & Electrical Engineering ;<br> University of Peradeniya ;<br> 2023/03 <br><br> Email : e19039@end.pdn.ac.lk <br> LinkedIN : https://www.linkedin.com/in/pandukabandara/"
      ],
      "metadata": {
        "id": "m5W1T68LRsLY"
      }
    },
    {
      "cell_type": "markdown",
      "source": [
        "# 2.0 Object Oriented Programming"
      ],
      "metadata": {
        "id": "-1sRLscjRvIG"
      }
    },
    {
      "cell_type": "markdown",
      "source": [
        "## 2.1 Introduction"
      ],
      "metadata": {
        "id": "kmHLGEk5Rz6p"
      }
    },
    {
      "cell_type": "markdown",
      "source": [
        "Object-Oriented Programming (OOP) is a programming paradigm that emphasizes the use of objects, which are instances of classes, to structure and organize code. Python fully supports OOP, allowing developers to create classes, define attributes and methods, and create objects based on those classes.\n",
        "\n",
        "1. **Classes and Objects:**\n",
        "   - A class is a blueprint that defines the attributes and behavior of an object.\n",
        "   - To create a class, use the `class` keyword followed by the class name. Inside the class, define attributes and methods.\n",
        "   - An object is an instance of a class. You can create multiple objects based on a single class.\n",
        "\n",
        "2. **Attributes:**\n",
        "   - Attributes are variables associated with a class or object. They hold data that describes the state of the object.\n",
        "   - Class attributes are shared among all instances of the class, while instance attributes are specific to each object.\n",
        "   - You can define attributes within the class using the `self` keyword to refer to the instance of the class.\n",
        "\n",
        "3. **Methods:**\n",
        "   - Methods are functions defined within a class that perform actions on objects or manipulate object data.\n",
        "   - Instance methods take the `self` parameter, which represents the instance calling the method.\n",
        "   - Class methods are defined using the `@classmethod` decorator and take the `cls` parameter, representing the class itself.\n",
        "   - Static methods are defined using the `@staticmethod` decorator and do not take any specific instance or class parameters.\n",
        "\n",
        "4. **Inheritance:**\n",
        "   - Inheritance is a mechanism where a class inherits properties and behavior from another class, called the superclass or base class.\n",
        "   - The derived class, also known as the subclass or child class, can extend or override the attributes and methods of the base class.\n",
        "   - In Python, you can define inheritance by specifying the base class in parentheses when creating a new class.\n",
        "\n",
        "5. **Encapsulation:**\n",
        "   - Encapsulation is the process of hiding the internal details of a class and providing a public interface for interacting with the class.\n",
        "   - You can control access to attributes and methods using access specifiers: public (default), private (prefixed with double underscore), and protected (prefixed with single underscore).\n",
        "\n",
        "6. **Polymorphism:**\n",
        "   - Polymorphism allows objects of different classes to be treated as objects of a common superclass.\n",
        "   - It enables methods with the same name to behave differently based on the object type they are invoked on.\n",
        "   - Polymorphism in Python is achieved through method overriding and method overloading.\n",
        "\n",
        "OOP in Python provides a structured and modular approach to programming, promoting code reuse, maintainability, and abstraction. By defining classes and objects, you can create organized and flexible code that models real-world entities or abstract concepts."
      ],
      "metadata": {
        "id": "eidj52MJSWJ-"
      }
    },
    {
      "cell_type": "markdown",
      "source": [
        "**Summery:**"
      ],
      "metadata": {
        "id": "XcurWBQBSj_f"
      }
    },
    {
      "cell_type": "markdown",
      "source": [
        "\n",
        "| Topic                     | Explanation                                                                 |\n",
        "|---------------------------|------------------------------------------------------------------------------|\n",
        "| Classes and Objects       | - Blueprints that define attributes and behavior                               |\n",
        "|                           | - Objects are instances of classes                                            |\n",
        "| Attributes                | - Variables associated with classes or objects                                |\n",
        "|                           | - Class attributes are shared, instance attributes are specific to objects    |\n",
        "| Methods                   | - Functions defined within classes                                            |\n",
        "|                           | - Perform actions on objects or manipulate data                              |\n",
        "| Inheritance               | - Mechanism for inheriting properties and behavior                            |\n",
        "|                           | - Subclass extends or overrides base class attributes and methods             |\n",
        "| Encapsulation             | - Hiding internal details and providing a public interface                    |\n",
        "|                           | - Control access with access specifiers (public, private, protected)          |\n",
        "| Polymorphism              | - Objects of different classes treated as objects of a common superclass      |\n",
        "|                           | - Methods with the same name behave differently based on object type          |\n"
      ],
      "metadata": {
        "id": "5veO1AllSnOt"
      }
    },
    {
      "cell_type": "markdown",
      "source": [
        "##2.2 Classes And Objects"
      ],
      "metadata": {
        "id": "PFCNyyRZSqNe"
      }
    },
    {
      "cell_type": "markdown",
      "source": [
        "\n",
        "\n",
        "1. **Defining a Class:**\n",
        "   - To define a class, use the `class` keyword followed by the class name, which typically starts with an uppercase letter.\n",
        "   - The class can have attributes (variables) and methods (functions) defined within it.\n",
        "   - Example:\n",
        "     ```python\n",
        "     class Car:\n",
        "         pass\n",
        "     ```\n",
        "\n",
        "2. **Creating Objects (Instances):**\n",
        "   - Objects are instances of a class, created using the class name followed by parentheses.\n",
        "   - This invokes the class's special method called the constructor (`__init__()`), which initializes the object.\n",
        "   - Example:\n",
        "     ```python\n",
        "     my_car = Car()\n",
        "     ```\n",
        "\n",
        "3. **Class Attributes:**\n",
        "   - Class attributes are variables that are shared among all instances of the class.\n",
        "   - They are defined within the class but outside of any methods.\n",
        "   - Class attributes can be accessed using the class name or any object of the class.\n",
        "   - Example:\n",
        "     ```python\n",
        "     class Car:\n",
        "         wheels = 4\n",
        "\n",
        "     print(Car.wheels)  # Output: 4\n",
        "     my_car = Car()\n",
        "     print(my_car.wheels)  # Output: 4\n",
        "     ```\n",
        "\n",
        "4. **Instance Attributes:**\n",
        "   - Instance attributes are specific to each object (instance) of the class.\n",
        "   - They are defined within the class's constructor (`__init__()` method) and accessed using the `self` keyword.\n",
        "   - Example:\n",
        "     ```python\n",
        "     class Car:\n",
        "         def __init__(self, color):\n",
        "             self.color = color\n",
        "\n",
        "     my_car = Car(\"blue\")\n",
        "     print(my_car.color)  # Output: \"blue\"\n",
        "     ```\n",
        "\n",
        "5. **Methods:**\n",
        "   - Methods are functions defined within a class that perform actions on objects or manipulate object data.\n",
        "   - They are defined inside the class and can access attributes through the `self` parameter.\n",
        "   - Example:\n",
        "     ```python\n",
        "     class Car:\n",
        "         def __init__(self, color):\n",
        "             self.color = color\n",
        "\n",
        "         def drive(self):\n",
        "             print(\"The car is driving.\")\n",
        "\n",
        "     my_car = Car(\"blue\")\n",
        "     my_car.drive()  # Output: \"The car is driving.\"\n",
        "     ```\n",
        "\n",
        "6. **Class and Instance Variables:**\n",
        "   - Class variables are shared among all instances and can be accessed using the class name or any object.\n",
        "   - Instance variables are specific to each object and can be accessed using the `self` keyword.\n",
        "   - Example:\n",
        "     ```python\n",
        "     class Car:\n",
        "         wheels = 4\n",
        "\n",
        "         def __init__(self, color):\n",
        "             self.color = color\n",
        "\n",
        "     print(Car.wheels)  # Output: 4\n",
        "\n",
        "     my_car = Car(\"blue\")\n",
        "     print(my_car.color)  # Output: \"blue\"\n",
        "     ```\n",
        "\n",
        "7. **Special Methods:**\n",
        "   - Special methods (also called magic methods or dunder methods) provide functionality to classes.\n",
        "   - They are surrounded by double underscores and have predefined names.\n",
        "   - Examples of special methods include `__init__()` for object initialization, `__str__()` for string representation, `__len__()` for length calculation, etc.\n",
        "\n"
      ],
      "metadata": {
        "id": "ZW-ywO9uhX_p"
      }
    },
    {
      "cell_type": "markdown",
      "source": [
        "### 2.2.1  Examples\n"
      ],
      "metadata": {
        "id": "3_79CKrCjTo1"
      }
    },
    {
      "cell_type": "code",
      "source": [
        "# Define a class ~> Data Type\n",
        "class ItemE1:\n",
        "  pass\n",
        "\n",
        "# Instsnce & assign properties\n",
        "item1 = ItemE1()\n",
        "item1.name = \"Phone\"\n",
        "item1.price = 100\n",
        "item1.quantity = 5\n",
        "\n",
        "print(type(item1))           #item <data type> ~> <class '__main__.ItemE1'>\n",
        "print(type(item1.name))      # str\n",
        "print(type(item1.price))     #int\n",
        "print(type(item1.quantity))  #int\n",
        "\n",
        "print(item1.name.upper())"
      ],
      "metadata": {
        "colab": {
          "base_uri": "https://localhost:8080/"
        },
        "id": "JKYMe1dujXrW",
        "outputId": "fc8f9f76-dadd-4eb6-9786-47a5522c9c48"
      },
      "execution_count": 2,
      "outputs": [
        {
          "output_type": "stream",
          "name": "stdout",
          "text": [
            "<class '__main__.ItemE1'>\n",
            "<class 'str'>\n",
            "<class 'int'>\n",
            "<class 'int'>\n",
            "PHONE\n"
          ]
        }
      ]
    },
    {
      "cell_type": "markdown",
      "source": [
        "## 2.3 self Attribute"
      ],
      "metadata": {
        "id": "S-41Fh1WiV9d"
      }
    },
    {
      "cell_type": "markdown",
      "source": [
        "In object-oriented programming (OOP) in Python, the `self` attribute refers to the instance of a class that is being manipulated or accessed within a method. It is a convention to name the first parameter of instance methods as `self`, although you can choose any valid variable name.\n",
        "\n",
        "\n",
        "1. Reference to the Instance:\n",
        "   - When a method is called on an object, the object itself is passed as the first argument implicitly.\n",
        "   - By convention, this parameter is named `self` to indicate that it refers to the instance of the class.\n",
        "\n",
        "2. Accessing Instance Attributes:\n",
        "   - Within a method, you can use the `self` attribute to access instance attributes.\n",
        "   - Instance attributes are unique to each object and can hold different values.\n",
        "   - By prefixing the attribute name with `self`, you can access and modify its value.\n",
        "\n",
        "   Example:\n",
        "   ```python\n",
        "   class Car:\n",
        "       def __init__(self, color):\n",
        "           self.color = color\n",
        "\n",
        "       def drive(self):\n",
        "           print(f\"The {self.color} car is driving.\")\n",
        "\n",
        "   my_car = Car(\"blue\")\n",
        "   my_car.drive()  # Output: \"The blue car is driving.\"\n",
        "   ```\n",
        "\n",
        "3. Calling Other Methods:\n",
        "   - The `self` attribute allows you to call other methods of the same object within a method.\n",
        "   - You can invoke methods using the `self` attribute followed by the method name and parentheses.\n",
        "\n",
        "   Example:\n",
        "   ```python\n",
        "   class Car:\n",
        "       def __init__(self, color):\n",
        "           self.color = color\n",
        "\n",
        "       def start_engine(self):\n",
        "           # Perform some actions to start the engine\n",
        "           print(\"Engine started.\")\n",
        "\n",
        "       def drive(self):\n",
        "           self.start_engine()\n",
        "           print(f\"The {self.color} car is driving.\")\n",
        "\n",
        "   my_car = Car(\"red\")\n",
        "   my_car.drive()\n",
        "   # Output:\n",
        "   # \"Engine started.\"\n",
        "   # \"The red car is driving.\"\n",
        "   ```\n"
      ],
      "metadata": {
        "id": "Zo-ZhZF9io4k"
      }
    },
    {
      "cell_type": "markdown",
      "source": [
        "### 2.3.1 Example 2"
      ],
      "metadata": {
        "id": "4rGfyVp0knSS"
      }
    },
    {
      "cell_type": "code",
      "source": [
        "# Define a class ~> Data Type\n",
        "class ItemE2:\n",
        "\n",
        "  '''\n",
        "  Need to declare self argument since python passes the object(instance)\n",
        "  itself as the initial argument always. So, other variables comes after that.\n",
        "  It's nothing to use other name than self but , 'self' keyword is a common\n",
        "  naming convention.\n",
        "  '''\n",
        "  def calculateTotalPrice(self , price , quantity):\n",
        "    return price*quantity\n",
        "\n",
        "# Instsnce & assign properties\n",
        "item2 = ItemE2()\n",
        "item2.name = \"Phone\"\n",
        "item2.price = 1000\n",
        "item2.quantity = 3\n",
        "\n",
        "# It passes it self and other two variables to the method\n",
        "print(item2.calculateTotalPrice(item2.price,item2.quantity))"
      ],
      "metadata": {
        "colab": {
          "base_uri": "https://localhost:8080/"
        },
        "id": "FP0E-nx5k0Hm",
        "outputId": "674c5fd2-23c0-4019-e280-638083008832"
      },
      "execution_count": 6,
      "outputs": [
        {
          "output_type": "stream",
          "name": "stdout",
          "text": [
            "3000\n"
          ]
        }
      ]
    },
    {
      "cell_type": "markdown",
      "source": [
        "##2.4 Magic Methods"
      ],
      "metadata": {
        "id": "pzcIVMiZm3WE"
      }
    },
    {
      "cell_type": "markdown",
      "source": [
        "Magic methods, also known as special methods or dunder (double underscore) methods, are predefined methods in Python that allows to define behavior for  custom classes. They are surrounded by double underscores at the beginning and end of their names.\n",
        "\n",
        "|        Method        |                            Explanation                            |\n",
        "|----------------------|-------------------------------------------------------------------|\n",
        "| `__init__(self, ...)`    | Initializes an object of a class with specified attributes        |\n",
        "| `__str__(self)`          | Returns a string representation of the object                     |\n",
        "| `__repr__(self)`         | Returns a string representation that can be used to recreate the object |\n",
        "| `__len__(self)`          | Returns the length of the object                                  |\n",
        "| `__getitem__(self, key)` | Enables accessing an item in the object using square bracket notation |\n",
        "| `__setitem__(self, key, value)` | Enables setting a value for an item in the object using square bracket notation |\n",
        "| `__delitem__(self, key)` | Enables deleting an item from the object using the `del` statement |\n",
        "| `__add__(self, other)`   | Defines behavior for the addition operation (`+`) between objects |\n",
        "| `__sub__(self, other)`   | Defines behavior for the subtraction operation (`-`) between objects |\n",
        "| `__eq__(self, other)`    | Defines behavior for equality comparison (`==`) between objects   |\n",
        "| `__lt__(self, other)`    | Defines behavior for less-than comparison (`<`) between objects   |\n",
        "| `__gt__(self, other)`    | Defines behavior for greater-than comparison (`>`) between objects |\n",
        "| `__call__(self, ...)`    | Allows an object to be called as a function                         |\n"
      ],
      "metadata": {
        "id": "rCl5eOFfnXC4"
      }
    },
    {
      "cell_type": "markdown",
      "source": [
        "###2.4.1 \\_\\_init\\_\\_"
      ],
      "metadata": {
        "id": "AF81lzBqnh9l"
      }
    },
    {
      "cell_type": "markdown",
      "source": [
        "**Example 3**:"
      ],
      "metadata": {
        "id": "t5g3Zga8mxpx"
      }
    },
    {
      "cell_type": "code",
      "source": [
        "class Item3:\n",
        "  #Recieves it self,name , price value and the quanntity\n",
        "  def __init__(self,namePassed ,pricePassed,quantityPassed = 0):\n",
        "    #Assign the properties to the object(self)\n",
        "    self.name = namePassed\n",
        "    self.price = pricePassed\n",
        "    self.quantity = quantityPassed\n",
        "  def calculatePrice(self):\n",
        "    return self.price*self.quantity\n",
        "\n",
        "item3 = Item3(\"Laptop\",1000,1)\n",
        "\n",
        "print(item3.name)\n",
        "print(item3.price)\n",
        "print(item3.quantity)\n",
        "print(f\"Price is : {item3.calculatePrice()}\")"
      ],
      "metadata": {
        "colab": {
          "base_uri": "https://localhost:8080/"
        },
        "id": "lGRonoacmxTk",
        "outputId": "30a8c970-7923-4679-990b-4d3e53915f14"
      },
      "execution_count": 12,
      "outputs": [
        {
          "output_type": "stream",
          "name": "stdout",
          "text": [
            "Laptop\n",
            "1000\n",
            "1\n",
            "Price is : 1000\n"
          ]
        }
      ]
    },
    {
      "cell_type": "markdown",
      "source": [
        "##2.5 Type Hints"
      ],
      "metadata": {
        "id": "XVHmcgP8rPqB"
      }
    },
    {
      "cell_type": "markdown",
      "source": [
        "Type hints in Python are a way to specify the expected types of variables, function arguments, and return values. They provide additional information about the types used in your code, which can help improve code readability, maintainability, and enable static type checking.\n",
        "\n",
        "\n",
        "1. Variable Annotations:\n",
        "   Annotate variables using the `:` syntax to indicate their expected type.\n",
        "   ```\n",
        "   age: int = 25\n",
        "   name: str = \"John\"\n",
        "   ```\n",
        "\n",
        "2. Function Annotations:\n",
        "   Function arguments and return values can be annotated using the `:` syntax.\n",
        "   ```python\n",
        "   def greet(name: str) -> str:\n",
        "       return \"Hello, \" + name\n",
        "   ```\n",
        "\n",
        "3. Optional Types:\n",
        "   You can indicate that a variable or function argument is optional by using the `typing.Optional` type.\n",
        "   ```python\n",
        "   from typing import Optional\n",
        "\n",
        "   def say_hello(name: Optional[str]) -> str:\n",
        "       if name:\n",
        "           return \"Hello, \" + name\n",
        "       else:\n",
        "           return \"Hello, stranger\"\n",
        "   ```\n",
        "\n",
        "4. Union Types:\n",
        "   Union types allow specifying that a variable or function argument can have multiple possible types.\n",
        "   ```python\n",
        "   from typing import Union\n",
        "\n",
        "   def add(x: Union[int, float], y: Union[int, float]) -> Union[int, float]:\n",
        "       return x + y\n",
        "   ```\n",
        "\n",
        "5. Type Aliases:\n",
        "   Type aliases provide a way to define custom type names for complex types or to make the code more readable.\n",
        "   ```python\n",
        "   from typing import List\n",
        "\n",
        "   Vector = List[float]\n",
        "\n",
        "   def scale(scalar: float, vector: Vector) -> Vector:\n",
        "       return [scalar * num for num in vector]\n",
        "   ```\n",
        "\n",
        "Type hints are optional and do not affect the runtime behavior of your code. They are primarily used by static type checkers, such as `mypy`, to analyze your code and detect potential type-related issues. IDEs with built-in type checking can also leverage type hints to provide better code suggestions and catch errors.\n",
        "\n",
        "It's important to note that Python remains a dynamically typed language, and type hints are a tool for enhancing code quality and providing additional information about types, but they do not enforce type correctness at runtime."
      ],
      "metadata": {
        "id": "spBTLKFGrTIw"
      }
    }
  ]
}