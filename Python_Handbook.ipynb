{
  "nbformat": 4,
  "nbformat_minor": 0,
  "metadata": {
    "colab": {
      "provenance": [],
      "toc_visible": true,
      "authorship_tag": "ABX9TyNOi7KSZmkNMX0x1aFctORc",
      "include_colab_link": true
    },
    "kernelspec": {
      "name": "python3",
      "display_name": "Python 3"
    },
    "language_info": {
      "name": "python"
    }
  },
  "cells": [
    {
      "cell_type": "markdown",
      "metadata": {
        "id": "view-in-github",
        "colab_type": "text"
      },
      "source": [
        "<a href=\"https://colab.research.google.com/github/PandukaBandara99/ML-Books/blob/main/Python_Handbook.ipynb\" target=\"_parent\"><img src=\"https://colab.research.google.com/assets/colab-badge.svg\" alt=\"Open In Colab\"/></a>"
      ]
    },
    {
      "cell_type": "markdown",
      "source": [
        "Mahela Panduka Bandara ; <br> UG @ Dpt. of Electronic & Electrical Engineering ;<br> University of Peradeniya ;<br> 2023/03 <br><br> Email : e19039@end.pdn.ac.lk <br> LinkedIN : https://www.linkedin.com/in/pandukabandara/"
      ],
      "metadata": {
        "id": "m5W1T68LRsLY"
      }
    },
    {
      "cell_type": "markdown",
      "source": [
        "# 2.0 Object Oriented Programming"
      ],
      "metadata": {
        "id": "-1sRLscjRvIG"
      }
    },
    {
      "cell_type": "markdown",
      "source": [
        "## 2.1 Introduction"
      ],
      "metadata": {
        "id": "kmHLGEk5Rz6p"
      }
    },
    {
      "cell_type": "markdown",
      "source": [
        "Object-Oriented Programming (OOP) is a programming paradigm that emphasizes the use of objects, which are instances of classes, to structure and organize code. Python fully supports OOP, allowing developers to create classes, define attributes and methods, and create objects based on those classes.\n",
        "\n",
        "1. **Classes and Objects:**\n",
        "   - A class is a blueprint that defines the attributes and behavior of an object.\n",
        "   - To create a class, use the `class` keyword followed by the class name. Inside the class, define attributes and methods.\n",
        "   - An object is an instance of a class. You can create multiple objects based on a single class.\n",
        "\n",
        "2. **Attributes:**\n",
        "   - Attributes are variables associated with a class or object. They hold data that describes the state of the object.\n",
        "   - Class attributes are shared among all instances of the class, while instance attributes are specific to each object.\n",
        "   - You can define attributes within the class using the `self` keyword to refer to the instance of the class.\n",
        "\n",
        "3. **Methods:**\n",
        "   - Methods are functions defined within a class that perform actions on objects or manipulate object data.\n",
        "   - Instance methods take the `self` parameter, which represents the instance calling the method.\n",
        "   - Class methods are defined using the `@classmethod` decorator and take the `cls` parameter, representing the class itself.\n",
        "   - Static methods are defined using the `@staticmethod` decorator and do not take any specific instance or class parameters.\n",
        "\n",
        "4. **Inheritance:**\n",
        "   - Inheritance is a mechanism where a class inherits properties and behavior from another class, called the superclass or base class.\n",
        "   - The derived class, also known as the subclass or child class, can extend or override the attributes and methods of the base class.\n",
        "   - In Python, you can define inheritance by specifying the base class in parentheses when creating a new class.\n",
        "\n",
        "5. **Encapsulation:**\n",
        "   - Encapsulation is the process of hiding the internal details of a class and providing a public interface for interacting with the class.\n",
        "   - You can control access to attributes and methods using access specifiers: public (default), private (prefixed with double underscore), and protected (prefixed with single underscore).\n",
        "\n",
        "6. **Polymorphism:**\n",
        "   - Polymorphism allows objects of different classes to be treated as objects of a common superclass.\n",
        "   - It enables methods with the same name to behave differently based on the object type they are invoked on.\n",
        "   - Polymorphism in Python is achieved through method overriding and method overloading.\n",
        "\n",
        "OOP in Python provides a structured and modular approach to programming, promoting code reuse, maintainability, and abstraction. By defining classes and objects, you can create organized and flexible code that models real-world entities or abstract concepts."
      ],
      "metadata": {
        "id": "eidj52MJSWJ-"
      }
    },
    {
      "cell_type": "markdown",
      "source": [
        "**Summery:**"
      ],
      "metadata": {
        "id": "XcurWBQBSj_f"
      }
    },
    {
      "cell_type": "markdown",
      "source": [
        "\n",
        "| Topic                     | Explanation                                                                 |\n",
        "|---------------------------|------------------------------------------------------------------------------|\n",
        "| Classes and Objects       | - Blueprints that define attributes and behavior                               |\n",
        "|                           | - Objects are instances of classes                                            |\n",
        "| Attributes                | - Variables associated with classes or objects                                |\n",
        "|                           | - Class attributes are shared, instance attributes are specific to objects    |\n",
        "| Methods                   | - Functions defined within classes                                            |\n",
        "|                           | - Perform actions on objects or manipulate data                              |\n",
        "| Inheritance               | - Mechanism for inheriting properties and behavior                            |\n",
        "|                           | - Subclass extends or overrides base class attributes and methods             |\n",
        "| Encapsulation             | - Hiding internal details and providing a public interface                    |\n",
        "|                           | - Control access with access specifiers (public, private, protected)          |\n",
        "| Polymorphism              | - Objects of different classes treated as objects of a common superclass      |\n",
        "|                           | - Methods with the same name behave differently based on object type          |\n"
      ],
      "metadata": {
        "id": "5veO1AllSnOt"
      }
    },
    {
      "cell_type": "markdown",
      "source": [
        "##2.2 Classes And Objects"
      ],
      "metadata": {
        "id": "PFCNyyRZSqNe"
      }
    },
    {
      "cell_type": "markdown",
      "source": [
        "\n",
        "\n",
        "1. **Defining a Class:**\n",
        "   - To define a class, use the `class` keyword followed by the class name, which typically starts with an uppercase letter.\n",
        "   - The class can have attributes (variables) and methods (functions) defined within it.\n",
        "   - Example:\n",
        "     ```python\n",
        "     class Car:\n",
        "         pass\n",
        "     ```\n",
        "\n",
        "2. **Creating Objects (Instances):**\n",
        "   - Objects are instances of a class, created using the class name followed by parentheses.\n",
        "   - This invokes the class's special method called the constructor (`__init__()`), which initializes the object.\n",
        "   - Example:\n",
        "     ```python\n",
        "     my_car = Car()\n",
        "     ```\n",
        "\n",
        "3. **Class Attributes:**\n",
        "   - Class attributes are variables that are shared among all instances of the class.\n",
        "   - They are defined within the class but outside of any methods.\n",
        "   - Class attributes can be accessed using the class name or any object of the class.\n",
        "   - Example:\n",
        "     ```python\n",
        "     class Car:\n",
        "         wheels = 4\n",
        "\n",
        "     print(Car.wheels)  # Output: 4\n",
        "     my_car = Car()\n",
        "     print(my_car.wheels)  # Output: 4\n",
        "     ```\n",
        "\n",
        "4. **Instance Attributes:**\n",
        "   - Instance attributes are specific to each object (instance) of the class.\n",
        "   - They are defined within the class's constructor (`__init__()` method) and accessed using the `self` keyword.\n",
        "   - Example:\n",
        "     ```python\n",
        "     class Car:\n",
        "         def __init__(self, color):\n",
        "             self.color = color\n",
        "\n",
        "     my_car = Car(\"blue\")\n",
        "     print(my_car.color)  # Output: \"blue\"\n",
        "     ```\n",
        "\n",
        "5. **Methods:**\n",
        "   - Methods are functions defined within a class that perform actions on objects or manipulate object data.\n",
        "   - They are defined inside the class and can access attributes through the `self` parameter.\n",
        "   - Example:\n",
        "     ```python\n",
        "     class Car:\n",
        "         def __init__(self, color):\n",
        "             self.color = color\n",
        "\n",
        "         def drive(self):\n",
        "             print(\"The car is driving.\")\n",
        "\n",
        "     my_car = Car(\"blue\")\n",
        "     my_car.drive()  # Output: \"The car is driving.\"\n",
        "     ```\n",
        "\n",
        "6. **Class and Instance Variables:**\n",
        "   - Class variables are shared among all instances and can be accessed using the class name or any object.\n",
        "   - Instance variables are specific to each object and can be accessed using the `self` keyword.\n",
        "   - Example:\n",
        "     ```python\n",
        "     class Car:\n",
        "         wheels = 4\n",
        "\n",
        "         def __init__(self, color):\n",
        "             self.color = color\n",
        "\n",
        "     print(Car.wheels)  # Output: 4\n",
        "\n",
        "     my_car = Car(\"blue\")\n",
        "     print(my_car.color)  # Output: \"blue\"\n",
        "     ```\n",
        "\n",
        "7. **Special Methods:**\n",
        "   - Special methods (also called magic methods or dunder methods) provide functionality to classes.\n",
        "   - They are surrounded by double underscores and have predefined names.\n",
        "   - Examples of special methods include `__init__()` for object initialization, `__str__()` for string representation, `__len__()` for length calculation, etc.\n",
        "\n"
      ],
      "metadata": {
        "id": "ZW-ywO9uhX_p"
      }
    },
    {
      "cell_type": "markdown",
      "source": [
        "### 2.2.1  Example 1\n"
      ],
      "metadata": {
        "id": "3_79CKrCjTo1"
      }
    },
    {
      "cell_type": "code",
      "source": [
        "# Define a class ~> Data Type\n",
        "class ItemE1:\n",
        "  pass\n",
        "\n",
        "# Instsnce & assign properties\n",
        "item1 = ItemE1()\n",
        "item1.name = \"Phone\"\n",
        "item1.price = 100\n",
        "item1.quantity = 5\n",
        "\n",
        "print(type(item1))           #item <data type> ~> <class '__main__.ItemE1'>\n",
        "print(type(item1.name))      # str\n",
        "print(type(item1.price))     #int\n",
        "print(type(item1.quantity))  #int\n",
        "\n",
        "print(item1.name.upper())"
      ],
      "metadata": {
        "colab": {
          "base_uri": "https://localhost:8080/"
        },
        "id": "JKYMe1dujXrW",
        "outputId": "2e5c9baa-e75a-4257-92d3-502f1e3a93cf"
      },
      "execution_count": 3,
      "outputs": [
        {
          "output_type": "stream",
          "name": "stdout",
          "text": [
            "<class '__main__.ItemE1'>\n",
            "<class 'str'>\n",
            "<class 'int'>\n",
            "<class 'int'>\n",
            "PHONE\n"
          ]
        }
      ]
    },
    {
      "cell_type": "markdown",
      "source": [
        "## 2.3 self"
      ],
      "metadata": {
        "id": "S-41Fh1WiV9d"
      }
    },
    {
      "cell_type": "markdown",
      "source": [
        "In object-oriented programming (OOP) in Python, the `self` attribute refers to the instance of a class that is being manipulated or accessed within a method. It is a convention to name the first parameter of instance methods as `self`, although you can choose any valid variable name.\n",
        "\n",
        "\n",
        "1. Reference to the Instance:\n",
        "   - When a method is called on an object, the object itself is passed as the first argument implicitly.\n",
        "   - By convention, this parameter is named `self` to indicate that it refers to the instance of the class.\n",
        "\n",
        "2. Accessing Instance Attributes:\n",
        "   - Within a method, you can use the `self` attribute to access instance attributes.\n",
        "   - Instance attributes are unique to each object and can hold different values.\n",
        "   - By prefixing the attribute name with `self`, you can access and modify its value.\n",
        "\n",
        "   Example:\n",
        "   ```python\n",
        "   class Car:\n",
        "       def __init__(self, color):\n",
        "           self.color = color\n",
        "\n",
        "       def drive(self):\n",
        "           print(f\"The {self.color} car is driving.\")\n",
        "\n",
        "   my_car = Car(\"blue\")\n",
        "   my_car.drive()  # Output: \"The blue car is driving.\"\n",
        "   ```\n",
        "\n",
        "3. Calling Other Methods:\n",
        "   - The `self` attribute allows you to call other methods of the same object within a method.\n",
        "   - You can invoke methods using the `self` attribute followed by the method name and parentheses.\n",
        "\n",
        "   Example:\n",
        "   ```python\n",
        "   class Car:\n",
        "       def __init__(self, color):\n",
        "           self.color = color\n",
        "\n",
        "       def start_engine(self):\n",
        "           # Perform some actions to start the engine\n",
        "           print(\"Engine started.\")\n",
        "\n",
        "       def drive(self):\n",
        "           self.start_engine()\n",
        "           print(f\"The {self.color} car is driving.\")\n",
        "\n",
        "   my_car = Car(\"red\")\n",
        "   my_car.drive()\n",
        "   # Output:\n",
        "   # \"Engine started.\"\n",
        "   # \"The red car is driving.\"\n",
        "   ```\n"
      ],
      "metadata": {
        "id": "Zo-ZhZF9io4k"
      }
    },
    {
      "cell_type": "markdown",
      "source": [
        "### 2.3.1 Example 2"
      ],
      "metadata": {
        "id": "4rGfyVp0knSS"
      }
    },
    {
      "cell_type": "code",
      "source": [
        "# Define a class ~> Data Type\n",
        "class ItemE2:\n",
        "\n",
        "  '''\n",
        "  Need to declare self argument since python passes the object(instance)\n",
        "  itself as the initial argument always. So, other variables comes after that.\n",
        "  It's nothing to use other name than self but , 'self' keyword is a common\n",
        "  naming convention.\n",
        "  '''\n",
        "  def calculateTotalPrice(self , price , quantity):\n",
        "    return price*quantity\n",
        "\n",
        "# Instsnce & assign properties\n",
        "item2 = ItemE2()\n",
        "item2.name = \"Phone\"\n",
        "item2.price = 1000\n",
        "item2.quantity = 3\n",
        "\n",
        "# It passes it self and other two variables to the method\n",
        "print(item2.calculateTotalPrice(item2.price,item2.quantity))"
      ],
      "metadata": {
        "colab": {
          "base_uri": "https://localhost:8080/"
        },
        "id": "FP0E-nx5k0Hm",
        "outputId": "5c1add38-af61-4b22-9b12-ba43b1f64e00"
      },
      "execution_count": 4,
      "outputs": [
        {
          "output_type": "stream",
          "name": "stdout",
          "text": [
            "3000\n"
          ]
        }
      ]
    },
    {
      "cell_type": "markdown",
      "source": [
        "## 2.4 Class Attributes"
      ],
      "metadata": {
        "id": "DwnBs9Ly2Aci"
      }
    },
    {
      "cell_type": "markdown",
      "source": [
        "Class attributes are variables that are defined within a class but outside of any methods. They are shared among all instances of the class and can be accessed using **either the class name or an instance of the class**. Class attributes are defined at the class level and are the same for all objects of that class.\n",
        "\n",
        "1. Definition and Access:\n",
        "   - Class attributes are defined directly within the class body, outside of any methods.\n",
        "   - They are accessed using the class name or an instance of the class.\n",
        "\n",
        "2. Shared Among Instances:\n",
        "   - Class attributes are shared among all instances of the class.\n",
        "   - When an instance accesses or modifies a class attribute, the change is reflected across all instances.\n",
        "\n",
        "3. Initialization:\n",
        "   - Class attributes are typically initialized when they are defined, similar to global variables.\n",
        "   - They can also be modified or accessed within methods using the class name or the `self` keyword.\n",
        "\n",
        "4. Visibility:\n",
        "   - Class attributes are visible to all instances of the class and can be accessed by all instances.\n",
        "   - They can also be accessed from outside the class using the class name.\n",
        "\n"
      ],
      "metadata": {
        "id": "vwz5fWqd2DK3"
      }
    },
    {
      "cell_type": "markdown",
      "source": [
        "### 2.4.1 Example 3"
      ],
      "metadata": {
        "id": "mhTWwE3h4L4z"
      }
    },
    {
      "cell_type": "code",
      "source": [
        "class Car:\n",
        "    color = \"Red\"  # Class attribute\n",
        "\n",
        "    def __init__(self, brand):\n",
        "        self.brand = brand  # Instance attribute\n",
        "\n",
        "    def get_color(self):\n",
        "        return self.color  # Accessing class attribute using self\n",
        "\n",
        "car1 = Car(\"Toyota\")\n",
        "car2 = Car(\"Honda\")\n",
        "\n",
        "print(car1.brand)  # Output: Toyota\n",
        "print(car2.brand)  # Output: Honda\n",
        "print(car1.color)  # Output: Red\n",
        "print(car2.color)  # Output: Red\n",
        "\n",
        "print(Car.color)  # Output: Red\n",
        "\n",
        "car1.color = \"Blue\"\n",
        "print(car1.color)  # Output: Blue\n",
        "print(car2.color)  # Output: Red"
      ],
      "metadata": {
        "colab": {
          "base_uri": "https://localhost:8080/"
        },
        "id": "aBXxQktO2PKY",
        "outputId": "3655cb6f-22e1-40f4-d5cb-edb59455dae1"
      },
      "execution_count": 5,
      "outputs": [
        {
          "output_type": "stream",
          "name": "stdout",
          "text": [
            "Toyota\n",
            "Honda\n",
            "Red\n",
            "Red\n",
            "Red\n",
            "Blue\n",
            "Red\n"
          ]
        }
      ]
    },
    {
      "cell_type": "markdown",
      "source": [
        "\n",
        "In the example, `color` is a class attribute defined within the `Car` class. It is shared among all instances of the class. The `brand` attribute is an instance attribute specific to each instance of the class. The `get_color()` method accesses the class attribute using `self.color`.\n",
        "\n",
        "Class attributes are useful when need to store data that is shared among all instances of a class, such as default values, constants, or common properties. They provide a way to define and manage data at the class level, ensuring consistency across all instances."
      ],
      "metadata": {
        "id": "4od0-vdt2Rg6"
      }
    },
    {
      "cell_type": "markdown",
      "source": [
        "### 2.4.2 Example 4"
      ],
      "metadata": {
        "id": "P4qKJAuY4OX6"
      }
    },
    {
      "cell_type": "code",
      "source": [
        "class ItemX:\n",
        "  rate = 0.8\n",
        "\n",
        "  #Recieves it self,name , price value and the quanntity\n",
        "  def __init__(self,namePassed ,pricePassed,quantityPassed = 0):\n",
        "\n",
        "    #Assign the properties to the object(self)\n",
        "    self.name = namePassed\n",
        "    self.price = pricePassed\n",
        "    self.quantity = quantityPassed\n",
        "\n",
        "  def calculatePrice(self):\n",
        "    return self.price*self.quantity\n",
        "  def apply_discount(self):\n",
        "    # Note that class attributes cannot access directly!\n",
        "    self.price = self.price*self.rate   #or  ItemX.rate ~> Not recomended\n",
        "\n",
        "#Instance\n",
        "itemX = ItemX(\"Laptop\",1000,1)\n",
        "\n",
        "#Calculate and print price\n",
        "print(f\"Price is : {itemX.calculatePrice()}\")\n",
        "\n",
        "#Apply discount\n",
        "itemX.apply_discount()\n",
        "\n",
        "#Print value after discount\n",
        "print(f\"Price is : {itemX.calculatePrice()}\")\n",
        "\n",
        "# Update the discount value\n",
        "itemX.rate = 0.25\n",
        "\n",
        "#Apply discount\n",
        "itemX.apply_discount()\n",
        "\n",
        "#Print value after discount\n",
        "print(f\"Price is : {itemX.calculatePrice()}\")"
      ],
      "metadata": {
        "colab": {
          "base_uri": "https://localhost:8080/"
        },
        "id": "-7AdRM9n4SFz",
        "outputId": "3694da24-f0b0-4ab7-c7a5-80ae09bffa5c"
      },
      "execution_count": 6,
      "outputs": [
        {
          "output_type": "stream",
          "name": "stdout",
          "text": [
            "Price is : 1000\n",
            "Price is : 800.0\n",
            "Price is : 200.0\n"
          ]
        }
      ]
    },
    {
      "cell_type": "markdown",
      "source": [
        "##2.5 Magic Methods"
      ],
      "metadata": {
        "id": "pzcIVMiZm3WE"
      }
    },
    {
      "cell_type": "markdown",
      "source": [
        "Magic methods, also known as special methods or dunder (double underscore) methods, are predefined methods in Python that allows to define behavior for  custom classes. They are surrounded by double underscores at the beginning and end of their names.\n",
        "\n",
        "|        Method        |                            Explanation                            |\n",
        "|----------------------|-------------------------------------------------------------------|\n",
        "| `__init__(self, ...)`    | Initializes an object of a class with specified attributes        |\n",
        "| `__str__(self)`          | Returns a string representation of the object                     |\n",
        "| `__repr__(self)`         | Returns a string representation that can be used to recreate the object |\n",
        "| `__len__(self)`          | Returns the length of the object                                  |\n",
        "| `__getitem__(self, key)` | Enables accessing an item in the object using square bracket notation |\n",
        "| `__setitem__(self, key, value)` | Enables setting a value for an item in the object using square bracket notation |\n",
        "| `__delitem__(self, key)` | Enables deleting an item from the object using the `del` statement |\n",
        "| `__add__(self, other)`   | Defines behavior for the addition operation (`+`) between objects |\n",
        "| `__sub__(self, other)`   | Defines behavior for the subtraction operation (`-`) between objects |\n",
        "| `__eq__(self, other)`    | Defines behavior for equality comparison (`==`) between objects   |\n",
        "| `__lt__(self, other)`    | Defines behavior for less-than comparison (`<`) between objects   |\n",
        "| `__gt__(self, other)`    | Defines behavior for greater-than comparison (`>`) between objects |\n",
        "| `__call__(self, ...)`    | Allows an object to be called as a function                         |\n"
      ],
      "metadata": {
        "id": "rCl5eOFfnXC4"
      }
    },
    {
      "cell_type": "markdown",
      "source": [
        "###2.5.1 \\_\\_init\\_\\_"
      ],
      "metadata": {
        "id": "AF81lzBqnh9l"
      }
    },
    {
      "cell_type": "markdown",
      "source": [
        "**Example**:"
      ],
      "metadata": {
        "id": "t5g3Zga8mxpx"
      }
    },
    {
      "cell_type": "code",
      "source": [
        "class Item3:\n",
        "  rate = 0.5\n",
        "  #Recieves it self,name , price value and the quanntity\n",
        "  def __init__(self,namePassed ,pricePassed,quantityPassed = 0):\n",
        "    #Assign the properties to the object(self)\n",
        "    self.name = namePassed\n",
        "    self.price = pricePassed\n",
        "    self.quantity = quantityPassed\n",
        "  def calculatePrice(self):\n",
        "    return self.price*self.quantity\n",
        "\n",
        "item3 = Item3(\"Laptop\",1000,1)\n",
        "\n",
        "print(item3.name)\n",
        "print(item3.price)\n",
        "print(item3.quantity)\n",
        "print(f\"Price is : {item3.calculatePrice()}\")\n",
        "\n",
        "print(item3.rate)"
      ],
      "metadata": {
        "colab": {
          "base_uri": "https://localhost:8080/"
        },
        "id": "lGRonoacmxTk",
        "outputId": "baf63a86-5851-4070-f49d-d38456dc9196"
      },
      "execution_count": 7,
      "outputs": [
        {
          "output_type": "stream",
          "name": "stdout",
          "text": [
            "Laptop\n",
            "1000\n",
            "1\n",
            "Price is : 1000\n",
            "0.5\n"
          ]
        }
      ]
    },
    {
      "cell_type": "markdown",
      "source": [
        "### 2.5.2 \\_\\_dict\\_\\_"
      ],
      "metadata": {
        "id": "kYy6KuWj259C"
      }
    },
    {
      "cell_type": "markdown",
      "source": [
        " `__dict__` attribute is a dictionary that stores the namespace of a class or an instance. It contains all the attributes (variables and methods) defined within the class or associated with the instance as key-value pairs.\n",
        "\n",
        "\n",
        "1. Class `__dict__`:\n",
        "   - For a class, `__dict__` contains the class-level attributes, including class variables and methods.\n",
        "   - It provides a way to access and modify the attributes of the class directly.\n",
        "\n",
        "2. Instance `__dict__`:\n",
        "   - For an instance of a class, `__dict__` contains the instance-specific attributes.\n",
        "   - It includes both the instance variables (attributes) and any attributes inherited from the class.\n",
        "\n",
        "3. Dictionary Structure:\n",
        "   - The `__dict__` attribute is implemented as a dictionary, where attribute names are the keys, and the corresponding values are the attribute values.\n",
        "   - The dictionary allows accessing and manipulating attributes dynamically at runtime.\n",
        "\n",
        "\n"
      ],
      "metadata": {
        "id": "MNS6m39h3S5d"
      }
    },
    {
      "cell_type": "code",
      "source": [
        "print(Item3.__dict__) # All the attribiutes for class level\n",
        "print(item3.__dict__) # All the attribiutes for instance level ~> Note the rate and function does not inclued"
      ],
      "metadata": {
        "colab": {
          "base_uri": "https://localhost:8080/"
        },
        "id": "0AbzOvwe3eFL",
        "outputId": "fd60f930-bd1f-4c2d-9249-da52465917b0"
      },
      "execution_count": 8,
      "outputs": [
        {
          "output_type": "stream",
          "name": "stdout",
          "text": [
            "{'__module__': '__main__', 'rate': 0.5, '__init__': <function Item3.__init__ at 0x7dd136ee8700>, 'calculatePrice': <function Item3.calculatePrice at 0x7dd136ee8040>, '__dict__': <attribute '__dict__' of 'Item3' objects>, '__weakref__': <attribute '__weakref__' of 'Item3' objects>, '__doc__': None}\n",
            "{'name': 'Laptop', 'price': 1000, 'quantity': 1}\n"
          ]
        }
      ]
    },
    {
      "cell_type": "markdown",
      "source": [
        "##2.6 Type Hints"
      ],
      "metadata": {
        "id": "XVHmcgP8rPqB"
      }
    },
    {
      "cell_type": "markdown",
      "source": [
        "Type hints in Python are a way to specify the expected types of variables, function arguments, and return values. They provide additional information about the types used in your code, which can help improve code readability, maintainability, and enable static type checking.\n",
        "\n",
        "\n",
        "1. Variable Annotations:\n",
        "   Annotate variables using the `:` syntax to indicate their expected type.\n",
        "   ```python\n",
        "   age: int = 25\n",
        "   name: str = \"John\"\n",
        "   ```\n",
        "\n",
        "2. Function Annotations:\n",
        "   Function arguments and return values can be annotated using the `:` syntax.\n",
        "   ```python\n",
        "   def greet(name: str) -> str:\n",
        "       return \"Hello, \" + name\n",
        "   ```\n",
        "\n",
        "3. Optional Types:\n",
        "   You can indicate that a variable or function argument is optional by using the `typing.Optional` type.\n",
        "   ```python\n",
        "   from typing import Optional\n",
        "\n",
        "   def say_hello(name: Optional[str]) -> str:\n",
        "       if name:\n",
        "           return \"Hello, \" + name\n",
        "       else:\n",
        "           return \"Hello, stranger\"\n",
        "   ```\n",
        "\n",
        "4. Union Types:\n",
        "   Union types allow specifying that a variable or function argument can have multiple possible types.\n",
        "   ```python\n",
        "   from typing import Union\n",
        "\n",
        "   def add(x: Union[int, float], y: Union[int, float]) -> Union[int, float]:\n",
        "       return x + y\n",
        "   ```\n",
        "\n",
        "5. Type Aliases:\n",
        "   Type aliases provide a way to define custom type names for complex types or to make the code more readable.\n",
        "   ```python\n",
        "   from typing import List\n",
        "\n",
        "   Vector = List[float]\n",
        "\n",
        "   def scale(scalar: float, vector: Vector) -> Vector:\n",
        "       return [scalar * num for num in vector]\n",
        "   ```\n",
        "\n",
        "Type hints are optional and do not affect the runtime behavior of the code. They are primarily used by static type checkers, such as `mypy`, to analyze the code and detect potential type-related issues."
      ],
      "metadata": {
        "id": "spBTLKFGrTIw"
      }
    },
    {
      "cell_type": "markdown",
      "source": [
        "###2.6.1 Example 5"
      ],
      "metadata": {
        "id": "BgJdTVzOrvCb"
      }
    },
    {
      "cell_type": "code",
      "source": [
        "class Item4:\n",
        "  #Recieves it self,name , price value and the quanntity\n",
        "  def __init__(self,namePassed : str ,pricePassed :float ,quantityPassed : int):\n",
        "    #Assign the properties to the object(self)\n",
        "    self.name = namePassed\n",
        "    self.price = pricePassed\n",
        "    self.quantity = quantityPassed\n",
        "  def calculatePrice(self) -> float:\n",
        "    return self.price*self.quantity\n",
        "\n",
        "item4 = Item4(\"Laptop\",1000,1)\n",
        "\n",
        "print(item4.name)\n",
        "print(item4.price)\n",
        "print(item4.quantity)\n",
        "print(f\"Price is : {item4.calculatePrice()}\")"
      ],
      "metadata": {
        "colab": {
          "base_uri": "https://localhost:8080/"
        },
        "id": "PwEKc7ytrxUZ",
        "outputId": "c79924ca-81e4-4b95-c887-fbfe659ac7ae"
      },
      "execution_count": 9,
      "outputs": [
        {
          "output_type": "stream",
          "name": "stdout",
          "text": [
            "Laptop\n",
            "1000\n",
            "1\n",
            "Price is : 1000\n"
          ]
        }
      ]
    },
    {
      "cell_type": "markdown",
      "source": [
        "## 2.7 Assert Statement"
      ],
      "metadata": {
        "id": "d03u_54cs7Zr"
      }
    },
    {
      "cell_type": "markdown",
      "source": [
        "The `assert` statement is a useful tool in Python for testing assumptions and ensuring that specific conditions are met. It allows to check if a given expression evaluates to `True` and raises an `AssertionError` if the expression evaluates to `False`. The `assert` statement can be used during development to detect logical errors or to validate input/output conditions.\n",
        "\n",
        "The syntax for using the `assert` statement is as follows:\n",
        "\n",
        "```python\n",
        "assert expression, message\n",
        "```\n",
        "\n",
        "- The `expression` is the condition that need to be checked. If it evaluates to `True`, the program continues execution as normal. If it evaluates to `False`, an `AssertionError` is raised.\n",
        "- The optional `message` parameter is an informative string that can be included to provide more details about the assertion.\n",
        "\n",
        "Some key points about the `assert` statement:\n",
        "\n",
        "1. Use Cases:\n",
        "   - Debugging: `assert` statements can help catch logical errors during development.\n",
        "   - Input Validation: `assert` can be used to validate input conditions and assumptions.\n",
        "   - Post-conditions: `assert` can be used to verify that specific conditions hold true after a function or method call.\n",
        "\n",
        "2. Behavior:\n",
        "   - If the `expression` is `False`, an `AssertionError` is raised, halting program execution.\n",
        "   - If the `expression` is `True`, the program continues execution without any impact.\n",
        "   - The `AssertionError` typically includes the `message` parameter, providing details about the failed assertion.\n",
        "\n",
        "3. Best Practices:\n",
        "   - Use `assert` for conditions that should never occur or indicate a bug in the code.\n",
        "   - Avoid using `assert` for input validation in production code. Instead, use explicit checks and exception handling.\n",
        "\n",
        "\n",
        "\n",
        "```python\n",
        "def divide(a, b):\n",
        "    assert b != 0, \"Cannot divide by zero\"\n",
        "    return a / b\n",
        "\n",
        "result = divide(10, 0)\n",
        "# Output: AssertionError: Cannot divide by zero\n",
        "```\n",
        "\n",
        "In the example, the `assert` statement checks if `b` is not equal to zero before performing division. Since the assertion fails, an `AssertionError` is raised with the provided message.\n",
        "\n",
        "It's important to note that the `assert` statement is primarily used during development and debugging. In production code, it's recommended to handle exceptions explicitly and provide meaningful error messages to handle exceptional conditions gracefully.\n"
      ],
      "metadata": {
        "id": "GV24dBZ_tB8-"
      }
    },
    {
      "cell_type": "markdown",
      "source": [
        "### 2.7.1 Example 6\n"
      ],
      "metadata": {
        "id": "8q__Fxlatkha"
      }
    },
    {
      "cell_type": "code",
      "source": [
        "class Item5:\n",
        "  #Recieves it self,name , price value and the quanntity\n",
        "  def __init__(self,namePassed : str ,pricePassed :float ,quantityPassed : int):\n",
        "\n",
        "    #Validation\n",
        "    assert pricePassed >= 0 , f\"Price {pricePassed} is lower than zero\"\n",
        "    assert quantityPassed >= 0 ,  f\"Quantity {quantityPassed} is lower than zero\"\n",
        "\n",
        "    #Assign the properties to the object(self)\n",
        "    self.name = namePassed\n",
        "    self.price = pricePassed\n",
        "    self.quantity = quantityPassed\n",
        "\n",
        "  def calculatePrice(self) -> float:\n",
        "    return self.price*self.quantity\n",
        "\n",
        "item5 = Item5(\"Laptop\",1000,1)\n",
        "\n"
      ],
      "metadata": {
        "id": "7NkAFePZt25K"
      },
      "execution_count": 10,
      "outputs": []
    },
    {
      "cell_type": "markdown",
      "source": [
        "### 2.7.2 Example 7 : Object List"
      ],
      "metadata": {
        "id": "MlRlCmJQ7BhG"
      }
    },
    {
      "cell_type": "code",
      "source": [
        "class Item7:\n",
        "  rate = 0.8\n",
        "  all  = []\n",
        "  # Since it is a class attribute It's a common attribute for all\n",
        "  # Think like , class attributes are like attributes inside a parent object\n",
        "  # Instance attributes are like attributes inside each child\n",
        "\n",
        "  def __init__(self,namePassed : str ,pricePassed :float ,quantityPassed : int):\n",
        "\n",
        "    #Validation\n",
        "    assert pricePassed >= 0 , f\"Price {pricePassed} is lower than zero\"\n",
        "    assert quantityPassed >= 0 ,  f\"Quantity {quantityPassed} is lower than zero\"\n",
        "\n",
        "    #Assign the properties to the object(self)\n",
        "    self.name = namePassed\n",
        "    self.price = pricePassed\n",
        "    self.quantity = quantityPassed\n",
        "\n",
        "    #Update the All list\n",
        "    Item7.all.append(self)\n",
        "\n",
        "  def calculatePrice(self) -> float:\n",
        "    return self.price*self.quantity\n",
        "\n",
        "  def apply_discount(self):\n",
        "    self.price = self.price*self.rate\n",
        "\n",
        "item7_1 = Item7(\"Laptop\",1000,1)\n",
        "item7_2 = Item7(\"Phone\",250,3)\n",
        "item7_3 = Item7(\"Tablet\",350,2)\n",
        "item7_4 = Item7(\"S-Watch\",100,6)\n",
        "\n",
        "print(Item7.all) # Shows 4 item object array"
      ],
      "metadata": {
        "colab": {
          "base_uri": "https://localhost:8080/"
        },
        "id": "VUUTdwKT7Mdb",
        "outputId": "410e615d-aaf4-4614-cae4-f734614aafc7"
      },
      "execution_count": 11,
      "outputs": [
        {
          "output_type": "stream",
          "name": "stdout",
          "text": [
            "[<__main__.Item7 object at 0x7dd136e3a590>, <__main__.Item7 object at 0x7dd136e3a140>, <__main__.Item7 object at 0x7dd136e3af80>, <__main__.Item7 object at 0x7dd136e39c30>]\n"
          ]
        }
      ]
    },
    {
      "cell_type": "code",
      "source": [
        "for i in Item7.all:\n",
        "  print(i.name)"
      ],
      "metadata": {
        "colab": {
          "base_uri": "https://localhost:8080/"
        },
        "id": "5ZjYrkuQ7HRX",
        "outputId": "d5ffaf6e-b9a5-4fb2-bf81-df2b751aa71a"
      },
      "execution_count": 12,
      "outputs": [
        {
          "output_type": "stream",
          "name": "stdout",
          "text": [
            "Laptop\n",
            "Phone\n",
            "Tablet\n",
            "S-Watch\n"
          ]
        }
      ]
    },
    {
      "cell_type": "markdown",
      "source": [
        "### 2.7.3 Example 8 : Object List with \\_\\_repr\\_\\_"
      ],
      "metadata": {
        "id": "eCpgIy6h_GZU"
      }
    },
    {
      "cell_type": "code",
      "source": [
        "class Item8:\n",
        "  rate = 0.8\n",
        "  all  = []\n",
        "  # Since it is a class attribute It's a common attribute for all\n",
        "  # Think like , class attributes are like attributes inside a parent object\n",
        "  # Instance attributes are like attributes inside each child\n",
        "\n",
        "  def __init__(self,namePassed : str ,pricePassed :float ,quantityPassed : int):\n",
        "\n",
        "    #Validation\n",
        "    assert pricePassed >= 0 , f\"Price {pricePassed} is lower than zero\"\n",
        "    assert quantityPassed >= 0 ,  f\"Quantity {quantityPassed} is lower than zero\"\n",
        "\n",
        "    #Assign the properties to the object(self)\n",
        "    self.name = namePassed\n",
        "    self.price = pricePassed\n",
        "    self.quantity = quantityPassed\n",
        "\n",
        "    #Update the All list\n",
        "    Item8.all.append(self)\n",
        "\n",
        "  def calculatePrice(self) -> float:\n",
        "    return self.price*self.quantity\n",
        "\n",
        "  def apply_discount(self):\n",
        "    self.price = self.price*self.rate\n",
        "\n",
        "  '''\n",
        "  Insted of the  objectID  __repr__ passes an string\n",
        "  The return string can be customized as required\n",
        "  The common practice is represent object as it's intance code like 'Item8(\"Laptop\",1000,1)'\n",
        "  '''\n",
        "  def __repr__(self):\n",
        "    return f\"Item8('{self.name}',{self.price},{self.quantity})\"\n",
        "\n",
        "item8_1 = Item8(\"Laptop\",1000,1)\n",
        "item8_2 = Item8(\"Phone\",250,3)\n",
        "item8_3 = Item8(\"Tablet\",350,2)\n",
        "item8_4 = Item8(\"S-Watch\",100,6)\n",
        "\n",
        "print(Item8.all) # Shows 4 item object array"
      ],
      "metadata": {
        "colab": {
          "base_uri": "https://localhost:8080/"
        },
        "id": "nyyKgpn1_F97",
        "outputId": "9bea0100-78ae-4a6c-f9a8-2bb44977376e"
      },
      "execution_count": 13,
      "outputs": [
        {
          "output_type": "stream",
          "name": "stdout",
          "text": [
            "[Item8('Laptop',1000,1), Item8('Phone',250,3), Item8('Tablet',350,2), Item8('S-Watch',100,6)]\n"
          ]
        }
      ]
    },
    {
      "cell_type": "markdown",
      "source": [
        "## 2.8 Class Methods"
      ],
      "metadata": {
        "id": "-o86sC_BCDYV"
      }
    },
    {
      "cell_type": "markdown",
      "source": [
        "A class method is a method that is bound to the class rather than an instance of the class. It is defined using the `@classmethod` decorator and can be accessed using either the class name or an instance of the class. Class methods have access to the class itself and can modify class-level attributes or perform operations that are relevant to the class as a whole. Here are some key points about class methods:\n",
        "\n",
        "1. **Definition and Syntax:**\n",
        "   - Class methods are defined using the `@classmethod` decorator before the method definition.\n",
        "   - The first parameter of a class method is conventionally named `cls` (short for \"class\"), which refers to the class itself.\n",
        "   - Class methods are typically defined within the class body but outside of any instances or instance methods.\n",
        "\n",
        "2. **Access:**\n",
        "   - Class methods can be accessed using the class name or an instance of the class.\n",
        "   - When accessed through the class name, the `cls` parameter is automatically passed to the method.\n",
        "   - When accessed through an instance, the instance is automatically passed as the `cls` parameter.\n",
        "\n",
        "3. **Purpose:**\n",
        "   - Class methods are often used to define alternative constructors or provide utility methods related to the class.\n",
        "   - They can be used to modify class attributes or perform operations that involve the class as a whole.\n",
        "\n",
        "\n",
        "\n",
        "\n"
      ],
      "metadata": {
        "id": "Oq2mSNAXCF5_"
      }
    },
    {
      "cell_type": "markdown",
      "source": [
        "### 2.8.1 Example 9"
      ],
      "metadata": {
        "id": "uPcAdFS5CaSW"
      }
    },
    {
      "cell_type": "code",
      "source": [
        "class Circle:\n",
        "    pi = 3.14159  # Class attribute\n",
        "\n",
        "    def __init__(self, radius):\n",
        "        self.radius = radius  # Instance attribute\n",
        "\n",
        "    @classmethod\n",
        "    def from_diameter(cls, diameter):\n",
        "        radius = diameter / 2\n",
        "        return cls(radius)\n",
        "\n",
        "    def calculate_area(self):\n",
        "        return self.pi * self.radius * self.radius\n",
        "\n",
        "circle1 = Circle(5)\n",
        "circle2 = Circle.from_diameter(10)\n",
        "\n",
        "print(circle1.calculate_area())  # Output: 78.53975\n",
        "print(circle2.calculate_area())  # Output: 78.53975"
      ],
      "metadata": {
        "colab": {
          "base_uri": "https://localhost:8080/"
        },
        "id": "ELKGI8CWCYzX",
        "outputId": "2c42a339-45c7-45fc-b5d2-35ad07386da7"
      },
      "execution_count": 14,
      "outputs": [
        {
          "output_type": "stream",
          "name": "stdout",
          "text": [
            "78.53975\n",
            "78.53975\n"
          ]
        }
      ]
    },
    {
      "cell_type": "markdown",
      "source": [
        "```python\n",
        "class Item8:\n",
        "  rate = 0.8\n",
        "  all  = []\n",
        "  def __init__(self,namePassed : str ,pricePassed :float ,quantityPassed : int):\n",
        "\n",
        "    #Validation\n",
        "    assert pricePassed >= 0 , f\"Price {pricePassed} is lower than zero\"\n",
        "    assert quantityPassed >= 0 ,  f\"Quantity {quantityPassed} is lower than zero\"\n",
        "\n",
        "    self.name = namePassed\n",
        "    self.price = pricePassed\n",
        "    self.quantity = quantityPassed\n",
        "\n",
        "    Item8.all.append(self)\n",
        "\n",
        "  def calculatePrice(self) -> float:\n",
        "    return self.price*self.quantity\n",
        "\n",
        "  def apply_discount(self):\n",
        "    self.price = self.price*self.rate\n",
        "\n",
        "  # Create objects from CSV ~> used classs method since it's a utility\n",
        "  @classmethod\n",
        "  def instantiateFromCSV(cls):\n",
        "\n",
        "    with open('items.csv','r') as f:\n",
        "      reader = csv.DictReader(f)\n",
        "      items = list(reader)\n",
        "\n",
        "    for i in items:\n",
        "      Item8(\n",
        "        name = i.get('name'),\n",
        "        price = float(i.get('price')),\n",
        "        quantity = int(i.get('quantity')),\n",
        "      )\n",
        "\n",
        "  def __repr__(self):\n",
        "    return f\"Item8('{self.name}',{self.price},{self.quantity})\"\n",
        "\n",
        "\n",
        "#Call the class method\n",
        "Item8.instantiateFromCSV()\n",
        "print(Item8.all) # Shows 4 item object array\n",
        "\n",
        "```"
      ],
      "metadata": {
        "id": "uoJrXzUDIFaL"
      }
    },
    {
      "cell_type": "markdown",
      "source": [
        "## 2.9 Static methods"
      ],
      "metadata": {
        "id": "1nQ_vN45JgrX"
      }
    },
    {
      "cell_type": "markdown",
      "source": [
        "Static method is a method that belongs to a class but doesn't have access to the instance or class itself. It is defined using the `@staticmethod` decorator and can be accessed using either the class name or an instance of the class. Static methods are not bound to any specific instance or class state and are primarily used for utility functions or operations that don't require access to instance or class attributes. Here are some key points about static methods:\n",
        "\n",
        "1. Definition and Syntax:\n",
        "   - Static methods are defined using the `@staticmethod` decorator before the method definition.\n",
        "   - Unlike regular methods, static methods don't take any special parameters such as `self` or `cls`.\n",
        "   - Static methods are typically defined within the class body but outside of any instances or instance methods.\n",
        "\n",
        "2. Access:\n",
        "   - Static methods can be accessed using the class name or an instance of the class.\n",
        "   - When accessed through the class name, no special parameters are automatically passed.\n",
        "   - When accessed through an instance, no automatic instance-related parameters are passed.\n",
        "\n",
        "3. Purpose:\n",
        "   - Static methods are commonly used for utility functions or operations that don't require access to instance or class attributes.\n",
        "   - They are not specific to any particular instance and do not modify or access instance or class state.\n",
        "\n",
        "\n",
        "|                   | Class Method                                          | Static Method                                         |\n",
        "|-------------------|-------------------------------------------------------|-------------------------------------------------------|\n",
        "| Definition        | Decorated with `@classmethod`                        | Decorated with `@staticmethod`                        |\n",
        "| Access            | Accessed using the class name or instance             | Accessed using the class name or instance             |\n",
        "| Parameters        | First parameter conventionally named `cls`            | No special parameters                                 |\n",
        "| Instance Access   | Has access to class and instance attributes           | Does not have access to class or instance attributes   |\n",
        "| Class Access      | Has access to class attributes                        | Does not have access to class attributes              |\n",
        "| Purpose           | Operates on class or instance attributes             | Utility functions or operations not requiring state   |\n",
        "| Modification      | Can modify class attributes                          | Cannot modify class attributes                        |\n",
        "| Inheritance       | Can be overridden by subclasses                      | Can be overridden by subclasses                      |\n",
        "| Implicit Self     | Receives the class as the first parameter (`cls`)     | No implicit self parameter                            |\n",
        "| Dependency        | Can depend on class or instance state                 | Does not depend on class or instance state            |\n",
        "| Code Organization | Group related functionality within a class            | Group utility functions within a class                |\n",
        "| Common Use Cases  | Alternative constructors, class-level operations     | Utility functions, independent operations             |\n"
      ],
      "metadata": {
        "id": "yIK1DKXVMGFW"
      }
    },
    {
      "cell_type": "markdown",
      "source": [
        "### 2.9.1 Static Method"
      ],
      "metadata": {
        "id": "HszEolsxMNJp"
      }
    },
    {
      "cell_type": "code",
      "source": [
        "class MathUtils:\n",
        "    @staticmethod\n",
        "    def add(a, b):\n",
        "        return a + b\n",
        "\n",
        "    @staticmethod\n",
        "    def multiply(a, b):\n",
        "        return a * b\n",
        "\n",
        "result1 = MathUtils.add(5, 3)\n",
        "result2 = MathUtils.multiply(4, 6)\n",
        "\n",
        "print(result1)  # Output: 8\n",
        "print(result2)  # Output: 24"
      ],
      "metadata": {
        "colab": {
          "base_uri": "https://localhost:8080/"
        },
        "id": "tBbptWnGMQhc",
        "outputId": "32e35caa-33e5-420c-9d48-cf5b8ccb24f8"
      },
      "execution_count": 15,
      "outputs": [
        {
          "output_type": "stream",
          "name": "stdout",
          "text": [
            "8\n",
            "24\n"
          ]
        }
      ]
    },
    {
      "cell_type": "markdown",
      "source": [
        "## 2.10 Inheritance"
      ],
      "metadata": {
        "id": "WkG-cGQZTT1h"
      }
    },
    {
      "cell_type": "markdown",
      "source": [
        "Inheritance is a fundamental concept in object-oriented programming (OOP) that allows classes to inherit attributes and methods from **parent classes**. It promotes code reuse, modularity, and allows for the creation of hierarchical relationships between classes. Inheritance enables the creation of specialized classes (child or derived classes) that inherit and extend the functionality of a more general class (parent or base class).\n",
        "\n",
        "1. **Class Hierarchy:**\n",
        "   - Inheritance forms a class hierarchy where child classes inherit attributes and methods from parent classes.\n",
        "   - Parent classes are also known as base classes or superclasses, while child classes are referred to as derived classes or subclasses.\n",
        "\n",
        "2. **Syntax:**\n",
        "   - In Python, inheritance is declared by specifying the parent class in parentheses after the child class name when defining the class.\n",
        "   - The child class inherits all attributes and methods defined in the parent class.\n",
        "\n",
        "3. **Single Inheritance:**\n",
        "   - Python supports single inheritance, where a class can inherit from only one parent class.\n",
        "   - Child classes can access and use the attributes and methods of the parent class as if they were defined in the child class itself.\n",
        "\n",
        "4. **Overriding Methods:**\n",
        "   - Child classes can override methods inherited from the parent class by redefining them in the child class.\n",
        "   - When a method is called on an instance of the child class, the overridden method in the child class is executed instead of the parent class method.\n",
        "\n",
        "5. **Accessing Parent Class:**\n",
        "   - Child classes can access the attributes and methods of the parent class using the `super()` function.\n",
        "   - The `super()` function provides a way to call parent class methods and access parent class attributes from within the child class.\n",
        "\n",
        "6. **Inheritance Levels:**\n",
        "   - Inheritance can be hierarchical, allowing for multiple levels of inheritance.\n",
        "   - A child class can become a parent class for another class, forming a chain of inheritance.\n",
        "\n",
        "7. **Benefits of Inheritance:**\n",
        "   - Code Reusability: Inheritance promotes code reuse by allowing child classes to inherit and reuse the functionality of parent classes.\n",
        "   - Modularity: Inheritance helps in creating modular code by organizing related classes into a hierarchy.\n",
        "   - Polymorphism: Inheritance supports polymorphism, where objects of different classes can be used interchangeably if they are related through inheritance.\n",
        "\n",
        "\n",
        "\n"
      ],
      "metadata": {
        "id": "yUlfnLkpTWQk"
      }
    },
    {
      "cell_type": "markdown",
      "source": [
        "###2.10.1 Example 10"
      ],
      "metadata": {
        "id": "Avci-uiDTzQu"
      }
    },
    {
      "cell_type": "code",
      "source": [
        "class Animal:\n",
        "    def __init__(self, name):\n",
        "        self.name = name\n",
        "\n",
        "    def speak(self):\n",
        "        print(\"The animal speaks.\")\n",
        "\n",
        "class Dog(Animal):\n",
        "    def __init__(self, name, breed):\n",
        "        super().__init__(name)\n",
        "        self.breed = breed\n",
        "\n",
        "    def speak(self):\n",
        "        print(\"The dog barks.\")\n",
        "\n",
        "animal = Animal(\"Generic Animal\")\n",
        "dog = Dog(\"Buddy\", \"Labrador\")\n",
        "\n",
        "animal.speak()  # Output: The animal speaks.\n",
        "dog.speak()     # Output: The dog barks.\n"
      ],
      "metadata": {
        "id": "lhh6b2rPTwul",
        "colab": {
          "base_uri": "https://localhost:8080/"
        },
        "outputId": "8241a624-51fc-4ed1-c2a1-a6378df4bfb7"
      },
      "execution_count": 16,
      "outputs": [
        {
          "output_type": "stream",
          "name": "stdout",
          "text": [
            "The animal speaks.\n",
            "The dog barks.\n"
          ]
        }
      ]
    },
    {
      "cell_type": "markdown",
      "source": [
        "In the example, the `Animal` class is the parent class, and the `Dog` class is the child class that inherits from `Animal`. The `Dog` class overrides the `speak()` method of the `Animal` class with its own implementation. When `speak()` is called on the `animal` object, it executes the method from the `Animal` class. When `speak()` is called on the `dog` object, it executes the overridden method from the `Dog` class.\n"
      ],
      "metadata": {
        "id": "H70rQFkET3Da"
      }
    },
    {
      "cell_type": "markdown",
      "source": [
        "### 2.10.2 Example 11"
      ],
      "metadata": {
        "id": "ZWDIuCtFT5Um"
      }
    },
    {
      "cell_type": "code",
      "source": [
        "# Base or the Parent Class\n",
        "class Item11:\n",
        "  rate = 0.8\n",
        "  all  = []\n",
        "\n",
        "  def __init__(self,namePassed : str ,pricePassed :float ,quantityPassed : int):\n",
        "\n",
        "    assert pricePassed >= 0 , f\"Price {pricePassed} is lower than zero\"\n",
        "    assert quantityPassed >= 0 ,  f\"Quantity {quantityPassed} is lower than zero\"\n",
        "\n",
        "    self.name = namePassed\n",
        "    self.price = pricePassed\n",
        "    self.quantity = quantityPassed\n",
        "\n",
        "    Item11.all.append(self)\n",
        "\n",
        "  def calculatePrice(self) -> float:\n",
        "    return self.price*self.quantity\n",
        "\n",
        "  def apply_discount(self):\n",
        "    self.price = self.price*self.rate\n",
        "\n",
        "  def __repr__(self):\n",
        "    return f\"{self.__class__.__name__}('{self.name}',{self.price},{self.quantity})\"\n",
        "\n",
        "item11_1 = Item11(\"Laptop\",1000,1)\n",
        "item11_2 = Item11(\"Phone\",250,3)\n",
        "item11_3 = Item11(\"Tablet\",350,2)\n",
        "item11_4 = Item11(\"S-Watch\",100,6)\n",
        "\n",
        "print(Item11.all) # Shows 4 item object array"
      ],
      "metadata": {
        "colab": {
          "base_uri": "https://localhost:8080/"
        },
        "id": "_Pu65-UyWh0W",
        "outputId": "dd74f8e2-0442-4933-e0ff-0f43d2a3bfdd"
      },
      "execution_count": 17,
      "outputs": [
        {
          "output_type": "stream",
          "name": "stdout",
          "text": [
            "[Item11('Laptop',1000,1), Item11('Phone',250,3), Item11('Tablet',350,2), Item11('S-Watch',100,6)]\n"
          ]
        }
      ]
    },
    {
      "cell_type": "code",
      "source": [
        "#Inherited class to add damaged Items\n",
        "\n",
        "class damagedItems(Item11):\n",
        "  all = []\n",
        "  def __init__(self, namePassed: str, pricePassed: float, quantityPassed: int , brokenItemsPassed : int):\n",
        "    #  Call to super function to have access all the atributes and methods in the parent clasas\n",
        "    super().__init__(namePassed, pricePassed, quantityPassed)\n",
        "\n",
        "    # Run validation for new arguments which are unique to the child class\n",
        "    assert brokenItemsPassed >= 0 , f\"Broken phones {brokenItemsPassed} invalid\"\n",
        "\n",
        "    # Assign new uniqe parameters to the child object\n",
        "    self.brokenItems = brokenItemsPassed\n",
        "\n",
        "    # Update all list\n",
        "    damagedItems.all.append(self)\n",
        "\n",
        "\n",
        "item11_6 = damagedItems(\"Laptop_Broken\",1000,1,1)\n",
        "item11_7 = damagedItems(\"Phone_Broken\",250,3,1)\n",
        "item11_8 = damagedItems(\"Tablet_Broken\",350,2,1)\n",
        "item11_9 = damagedItems(\"S-Watch_Broken\",100,6,1)\n",
        "\n",
        "# Run\n",
        "print(item11_6.calculatePrice())\n",
        "item11_6.apply_discount()\n",
        "print(item11_6.calculatePrice())"
      ],
      "metadata": {
        "colab": {
          "base_uri": "https://localhost:8080/"
        },
        "id": "RVCLW5QwWrwQ",
        "outputId": "fc904671-f68f-44ac-e70c-f8435db83731"
      },
      "execution_count": 18,
      "outputs": [
        {
          "output_type": "stream",
          "name": "stdout",
          "text": [
            "1000\n",
            "800.0\n"
          ]
        }
      ]
    },
    {
      "cell_type": "code",
      "source": [
        "print(Item11.all)"
      ],
      "metadata": {
        "colab": {
          "base_uri": "https://localhost:8080/"
        },
        "id": "DPYF0YSEjahP",
        "outputId": "75d0b666-9b49-4e7e-a997-4aa41322c30f"
      },
      "execution_count": 19,
      "outputs": [
        {
          "output_type": "stream",
          "name": "stdout",
          "text": [
            "[Item11('Laptop',1000,1), Item11('Phone',250,3), Item11('Tablet',350,2), Item11('S-Watch',100,6), damagedItems('Laptop_Broken',800.0,1), damagedItems('Phone_Broken',250,3), damagedItems('Tablet_Broken',350,2), damagedItems('S-Watch_Broken',100,6)]\n"
          ]
        }
      ]
    },
    {
      "cell_type": "code",
      "source": [
        "print(damagedItems.all)"
      ],
      "metadata": {
        "colab": {
          "base_uri": "https://localhost:8080/"
        },
        "id": "od6SJXosjpKc",
        "outputId": "d7f6cb12-2406-4122-89ac-7b57d9bca99f"
      },
      "execution_count": 20,
      "outputs": [
        {
          "output_type": "stream",
          "name": "stdout",
          "text": [
            "[damagedItems('Laptop_Broken',800.0,1), damagedItems('Phone_Broken',250,3), damagedItems('Tablet_Broken',350,2), damagedItems('S-Watch_Broken',100,6)]\n"
          ]
        }
      ]
    },
    {
      "cell_type": "markdown",
      "source": [
        "# 3.0 Numpy Library"
      ],
      "metadata": {
        "id": "HVYKU4iv3QZf"
      }
    },
    {
      "cell_type": "markdown",
      "source": [
        "## 3.1 Introduction"
      ],
      "metadata": {
        "id": "ia17UiOk3UdV"
      }
    },
    {
      "cell_type": "markdown",
      "source": [
        "### 3.1.1 Introduction to Numpy"
      ],
      "metadata": {
        "id": "ONDQki4y3vM_"
      }
    },
    {
      "cell_type": "markdown",
      "source": [
        "NumPy (Numerical Python) is a powerful library for numerical computing in Python. It provides support for large, multi-dimensional arrays and matrices, along with a collection of high-level mathematical functions to operate on these arrays efficiently. NumPy is a fundamental building block for data analysis, scientific computing, and machine learning tasks in Python."
      ],
      "metadata": {
        "id": "qOnsiuL331P_"
      }
    },
    {
      "cell_type": "markdown",
      "source": [
        "### 3.1.2 What is NumPy?"
      ],
      "metadata": {
        "id": "ynP4DU-t32AZ"
      }
    },
    {
      "cell_type": "markdown",
      "source": [
        "NumPy is an open-source library that extends Python's capabilities to handle arrays and numerical operations with ease. It was created to address the limitations of Python's built-in data structures and to provide fast, memory-efficient operations on large datasets. The core data structure in NumPy is the \"ndarray\" (n-dimensional array), which allows for element-wise operations and broadcasting. NumPy also supports various data types and functions to work with these arrays efficiently."
      ],
      "metadata": {
        "id": "ARXLXPB84AKJ"
      }
    },
    {
      "cell_type": "markdown",
      "source": [
        "### 3.1.3 Why NumPy ?"
      ],
      "metadata": {
        "id": "DyWuZtHb4BQ-"
      }
    },
    {
      "cell_type": "markdown",
      "source": [
        "NumPy offers several compelling reasons to use it for numerical computing tasks:\n",
        "\n",
        "- **Performance:** NumPy is implemented in C and offers highly optimized array operations, making it much faster than traditional Python lists when handling large datasets.\n",
        "\n",
        "- **Memory Efficiency:** NumPy arrays are more memory-efficient compared to Python lists, which can be critical when dealing with huge datasets.\n",
        "\n",
        "- **Broadcasting:** NumPy enables broadcasting, which allows operations on arrays of different shapes and sizes, making code concise and readable.\n",
        "\n",
        "- **Mathematical Functions:** NumPy provides a wide range of mathematical functions for array operations, linear algebra, statistics, and more.\n",
        "\n",
        "- **Integration with Other Libraries:** NumPy seamlessly integrates with various data science and machine learning libraries in the Python ecosystem."
      ],
      "metadata": {
        "id": "THLMSkeH4GSe"
      }
    },
    {
      "cell_type": "markdown",
      "source": [
        "### 3.1.4 Getting started with NumPy"
      ],
      "metadata": {
        "id": "G8enWdVN4IQg"
      }
    },
    {
      "cell_type": "markdown",
      "source": [
        "**Installing NumPy**\n",
        "\n",
        "Installing NumPy is straightforward and can be done using Python's package manager, pip. Simply open a terminal or command prompt and execute the following command:\n",
        "\n",
        "```\n",
        "pip install numpy\n",
        "```\n",
        "\n",
        "Ensure that you have an active internet connection, and NumPy will be downloaded and installed on your system.\n",
        "\n",
        "**Getting Started with NumPy Arrays**\n",
        "\n",
        "To start using NumPy, you need to import the library in your Python script or interactive session:\n",
        "\n",
        "```python\n",
        "import numpy as np\n",
        "```\n",
        "\n",
        "With NumPy imported, you can now create NumPy arrays and perform various operations on them. The first step is often to create an array:\n",
        "\n",
        "```python\n",
        "# Creating a NumPy array from a list\n",
        "arr = np.array([1, 2, 3, 4, 5])\n",
        "\n",
        "# Creating a multi-dimensional array (matrix)\n",
        "matrix = np.array([[1, 2, 3], [4, 5, 6], [7, 8, 9]])\n",
        "```"
      ],
      "metadata": {
        "id": "p6sW_3LJ3s6v"
      }
    },
    {
      "cell_type": "markdown",
      "source": [
        "## 3.2 NumPy Arrays"
      ],
      "metadata": {
        "id": "A-WeLzup4T-3"
      }
    },
    {
      "cell_type": "markdown",
      "source": [
        "NumPy provides powerful capabilities for creating and manipulating arrays."
      ],
      "metadata": {
        "id": "M2wpP5Em48BP"
      }
    },
    {
      "cell_type": "markdown",
      "source": [
        "### 3.2.1  Creating NumPy Arrays"
      ],
      "metadata": {
        "id": "KTUd1_j-495d"
      }
    },
    {
      "cell_type": "markdown",
      "source": [
        "1. Creating an array from a Python list:"
      ],
      "metadata": {
        "id": "Vc_OatQ-5R6s"
      }
    },
    {
      "cell_type": "code",
      "source": [
        "import numpy as np\n",
        "\n",
        "list_data = [1, 2, 3, 4, 5]\n",
        "numpy_array = np.array(list_data)\n",
        "print(numpy_array)"
      ],
      "metadata": {
        "id": "IWvp4oep5T0P",
        "outputId": "15e32699-5a4f-4c89-96d2-904c240e37a9",
        "colab": {
          "base_uri": "https://localhost:8080/"
        }
      },
      "execution_count": 21,
      "outputs": [
        {
          "output_type": "stream",
          "name": "stdout",
          "text": [
            "[1 2 3 4 5]\n"
          ]
        }
      ]
    },
    {
      "cell_type": "markdown",
      "source": [
        "2. Creating a 2D array from nested lists:\n"
      ],
      "metadata": {
        "id": "l9imBsZU5XZU"
      }
    },
    {
      "cell_type": "code",
      "source": [
        "nested_lists = [[1, 2, 3], [4, 5, 6], [7, 8, 9]]\n",
        "numpy_2d_array = np.array(nested_lists)\n",
        "print(numpy_2d_array)"
      ],
      "metadata": {
        "id": "QosKCiyZ5YM3",
        "outputId": "b470037f-0ecf-42ba-e2ca-946efe259442",
        "colab": {
          "base_uri": "https://localhost:8080/"
        }
      },
      "execution_count": 22,
      "outputs": [
        {
          "output_type": "stream",
          "name": "stdout",
          "text": [
            "[[1 2 3]\n",
            " [4 5 6]\n",
            " [7 8 9]]\n"
          ]
        }
      ]
    },
    {
      "cell_type": "markdown",
      "source": [
        "3. Creating an array of zeros with a specified shape:"
      ],
      "metadata": {
        "id": "uJfATJHh5fO0"
      }
    },
    {
      "cell_type": "code",
      "source": [
        "zeros_array = np.zeros((3, 4))\n",
        "print(zeros_array)"
      ],
      "metadata": {
        "id": "A24OSi5V5f0R",
        "outputId": "eccd9765-6ae6-4efd-e447-2f491c5934dd",
        "colab": {
          "base_uri": "https://localhost:8080/"
        }
      },
      "execution_count": 23,
      "outputs": [
        {
          "output_type": "stream",
          "name": "stdout",
          "text": [
            "[[0. 0. 0. 0.]\n",
            " [0. 0. 0. 0.]\n",
            " [0. 0. 0. 0.]]\n"
          ]
        }
      ]
    },
    {
      "cell_type": "markdown",
      "source": [
        "4. Creating an array of ones with a specified shape:"
      ],
      "metadata": {
        "id": "58cA84Gv5huD"
      }
    },
    {
      "cell_type": "code",
      "source": [
        "ones_array = np.ones((2, 3))\n",
        "print(ones_array)"
      ],
      "metadata": {
        "id": "SVSKpJXH5mTi",
        "outputId": "d6541bf2-eebf-48c9-ea7b-2a6ee596dccc",
        "colab": {
          "base_uri": "https://localhost:8080/"
        }
      },
      "execution_count": 24,
      "outputs": [
        {
          "output_type": "stream",
          "name": "stdout",
          "text": [
            "[[1. 1. 1.]\n",
            " [1. 1. 1.]]\n"
          ]
        }
      ]
    },
    {
      "cell_type": "markdown",
      "source": [
        "5. Creating an array with a specified range of values:"
      ],
      "metadata": {
        "id": "gee-sv5Z5q-a"
      }
    },
    {
      "cell_type": "code",
      "source": [
        "range_array = np.arange(0, 10, 2)\n",
        "print(range_array)"
      ],
      "metadata": {
        "id": "QXtxpbmV5tPT",
        "outputId": "0d14cfbe-48f5-4cb3-fb1f-defa9c426bd5",
        "colab": {
          "base_uri": "https://localhost:8080/"
        }
      },
      "execution_count": 25,
      "outputs": [
        {
          "output_type": "stream",
          "name": "stdout",
          "text": [
            "[0 2 4 6 8]\n"
          ]
        }
      ]
    },
    {
      "cell_type": "markdown",
      "source": [
        "6. Creating an array with equally spaced values:"
      ],
      "metadata": {
        "id": "tGQ52JAR5ySG"
      }
    },
    {
      "cell_type": "code",
      "source": [
        "spaced_array = np.linspace(0, 1, 5)\n",
        "print(spaced_array)"
      ],
      "metadata": {
        "id": "8CaibKvK5y3Y",
        "outputId": "86d70c4f-f677-430a-c6b8-1d45d8f205f0",
        "colab": {
          "base_uri": "https://localhost:8080/"
        }
      },
      "execution_count": 26,
      "outputs": [
        {
          "output_type": "stream",
          "name": "stdout",
          "text": [
            "[0.   0.25 0.5  0.75 1.  ]\n"
          ]
        }
      ]
    },
    {
      "cell_type": "markdown",
      "source": [
        "7. Creating a 3x3 identity matrix:\n"
      ],
      "metadata": {
        "id": "kVT_6_a756RL"
      }
    },
    {
      "cell_type": "code",
      "source": [
        "identity_matrix = np.eye(3)\n",
        "print(identity_matrix)"
      ],
      "metadata": {
        "id": "Srt5MybK57I0",
        "outputId": "ee247e6c-8093-471c-e3ff-20da068ffa58",
        "colab": {
          "base_uri": "https://localhost:8080/"
        }
      },
      "execution_count": 27,
      "outputs": [
        {
          "output_type": "stream",
          "name": "stdout",
          "text": [
            "[[1. 0. 0.]\n",
            " [0. 1. 0.]\n",
            " [0. 0. 1.]]\n"
          ]
        }
      ]
    },
    {
      "cell_type": "markdown",
      "source": [
        "8. Creating a random 2x3 array:"
      ],
      "metadata": {
        "id": "my4cGR5e6ApH"
      }
    },
    {
      "cell_type": "code",
      "source": [
        "random_array = np.random.rand(2, 3)\n",
        "print(random_array)"
      ],
      "metadata": {
        "id": "RmVGdBHL6BKJ",
        "outputId": "e2741005-26c1-48a5-d3c6-db157be19f2c",
        "colab": {
          "base_uri": "https://localhost:8080/"
        }
      },
      "execution_count": 28,
      "outputs": [
        {
          "output_type": "stream",
          "name": "stdout",
          "text": [
            "[[0.6961599  0.10489049 0.01912209]\n",
            " [0.59554094 0.32394732 0.57287567]]\n"
          ]
        }
      ]
    },
    {
      "cell_type": "markdown",
      "source": [
        "9. Creating an array with random integers between a range:\n"
      ],
      "metadata": {
        "id": "OTfUV2Jc6IUy"
      }
    },
    {
      "cell_type": "code",
      "source": [
        "random_integers = np.random.randint(1, 10, (3, 3))\n",
        "print(random_integers)"
      ],
      "metadata": {
        "id": "l5jl5dU96I2v",
        "outputId": "c6fa2e7b-40e3-47d1-888a-08fe2369ad05",
        "colab": {
          "base_uri": "https://localhost:8080/"
        }
      },
      "execution_count": 29,
      "outputs": [
        {
          "output_type": "stream",
          "name": "stdout",
          "text": [
            "[[2 2 3]\n",
            " [8 4 7]\n",
            " [8 7 6]]\n"
          ]
        }
      ]
    },
    {
      "cell_type": "markdown",
      "source": [
        "10. Creating an array with repeated values:"
      ],
      "metadata": {
        "id": "FBY8ZYZC6C35"
      }
    },
    {
      "cell_type": "code",
      "source": [
        "repeated_values = np.repeat(5, 5)\n",
        "print(repeated_values)"
      ],
      "metadata": {
        "id": "w6K_z7c26PYa",
        "outputId": "43da1029-80b1-4428-856c-81361270df3c",
        "colab": {
          "base_uri": "https://localhost:8080/"
        }
      },
      "execution_count": 30,
      "outputs": [
        {
          "output_type": "stream",
          "name": "stdout",
          "text": [
            "[5 5 5 5 5]\n"
          ]
        }
      ]
    },
    {
      "cell_type": "markdown",
      "source": [
        "### 3.2.2 Indexing and Slicing"
      ],
      "metadata": {
        "id": "cp32i-lV6UIk"
      }
    },
    {
      "cell_type": "markdown",
      "source": [
        "1. Accessing a single element from an array:\n"
      ],
      "metadata": {
        "id": "PS3CAbUB6PkY"
      }
    },
    {
      "cell_type": "code",
      "source": [
        "arr = np.array([1, 2, 3, 4, 5])\n",
        "print(arr[3])"
      ],
      "metadata": {
        "id": "u4eZ7M9h6Pqp",
        "outputId": "3dc1902b-1652-4422-9853-fc856989dd30",
        "colab": {
          "base_uri": "https://localhost:8080/"
        }
      },
      "execution_count": 31,
      "outputs": [
        {
          "output_type": "stream",
          "name": "stdout",
          "text": [
            "4\n"
          ]
        }
      ]
    },
    {
      "cell_type": "markdown",
      "source": [
        "2. Slicing a 1D array:"
      ],
      "metadata": {
        "id": "3_8yJAzz6Pwb"
      }
    },
    {
      "cell_type": "code",
      "source": [
        "arr = np.array([1, 2, 3, 4, 5])\n",
        "print(arr[1:4])"
      ],
      "metadata": {
        "id": "jwLf6vH36P1g",
        "outputId": "e16dbf44-fcaa-4d8d-ba17-aa0381f5dbdf",
        "colab": {
          "base_uri": "https://localhost:8080/"
        }
      },
      "execution_count": 32,
      "outputs": [
        {
          "output_type": "stream",
          "name": "stdout",
          "text": [
            "[2 3 4]\n"
          ]
        }
      ]
    },
    {
      "cell_type": "markdown",
      "source": [
        "3. Indexing and slicing a 2D array:"
      ],
      "metadata": {
        "id": "PjkpSghD6P6V"
      }
    },
    {
      "cell_type": "code",
      "source": [
        "arr_2d = np.array([[1, 2, 3], [4, 5, 6], [7, 8, 9]])\n",
        "print(arr_2d)\n",
        "print(arr_2d[1, 2])\n",
        "print(arr_2d[0:2, 1:])"
      ],
      "metadata": {
        "id": "8LBWuM6Z6QAa",
        "outputId": "fef37259-2bdb-418e-9829-d1bebccfdb91",
        "colab": {
          "base_uri": "https://localhost:8080/"
        }
      },
      "execution_count": 33,
      "outputs": [
        {
          "output_type": "stream",
          "name": "stdout",
          "text": [
            "[[1 2 3]\n",
            " [4 5 6]\n",
            " [7 8 9]]\n",
            "6\n",
            "[[2 3]\n",
            " [5 6]]\n"
          ]
        }
      ]
    },
    {
      "cell_type": "markdown",
      "source": [
        "4. Using negative indices for reverse indexing:"
      ],
      "metadata": {
        "id": "6ZeJC2lW68M4"
      }
    },
    {
      "cell_type": "code",
      "source": [
        "arr = np.array([1, 2, 3, 4, 5])\n",
        "print(arr[-1])"
      ],
      "metadata": {
        "id": "PD79xJn96-m_",
        "outputId": "3db5ae2c-0091-4602-fa38-0122675f25af",
        "colab": {
          "base_uri": "https://localhost:8080/"
        }
      },
      "execution_count": 34,
      "outputs": [
        {
          "output_type": "stream",
          "name": "stdout",
          "text": [
            "5\n"
          ]
        }
      ]
    },
    {
      "cell_type": "markdown",
      "source": [
        "5. Assigning new values to array elements using indexing:\n"
      ],
      "metadata": {
        "id": "Tt2z0xqm7B_Y"
      }
    },
    {
      "cell_type": "code",
      "source": [
        "arr = np.array([1, 2, 3, 4, 5])\n",
        "arr[2] = 10\n",
        "print(arr)"
      ],
      "metadata": {
        "id": "WFwEDw9s7Dk8",
        "outputId": "4638ab02-c985-46f7-813a-4efe3ef39f54",
        "colab": {
          "base_uri": "https://localhost:8080/"
        }
      },
      "execution_count": 35,
      "outputs": [
        {
          "output_type": "stream",
          "name": "stdout",
          "text": [
            "[ 1  2 10  4  5]\n"
          ]
        }
      ]
    },
    {
      "cell_type": "markdown",
      "source": [
        "6. Boolean indexing to filter array elements:"
      ],
      "metadata": {
        "id": "E-_DYI-T7Gok"
      }
    },
    {
      "cell_type": "code",
      "source": [
        "arr = np.array([10, 20, 30, 40, 50])\n",
        "mask = arr > 30\n",
        "print(arr[mask])"
      ],
      "metadata": {
        "id": "jcz9HWFi7IVT",
        "outputId": "eca3579b-9427-4b84-d11e-7f3568050a02",
        "colab": {
          "base_uri": "https://localhost:8080/"
        }
      },
      "execution_count": 36,
      "outputs": [
        {
          "output_type": "stream",
          "name": "stdout",
          "text": [
            "[40 50]\n"
          ]
        }
      ]
    },
    {
      "cell_type": "markdown",
      "source": [
        "7. Indexing with a list of integers:"
      ],
      "metadata": {
        "id": "9LZnttHl7OrQ"
      }
    },
    {
      "cell_type": "code",
      "source": [
        "arr = np.array([1, 2, 3, 4, 5])\n",
        "indices = [0, 2, 4]\n",
        "print(arr[indices])"
      ],
      "metadata": {
        "id": "zZNNwPxu7P2H",
        "outputId": "704020b2-8df7-428a-aef7-ea6e71ccdee2",
        "colab": {
          "base_uri": "https://localhost:8080/"
        }
      },
      "execution_count": 37,
      "outputs": [
        {
          "output_type": "stream",
          "name": "stdout",
          "text": [
            "[1 3 5]\n"
          ]
        }
      ]
    },
    {
      "cell_type": "markdown",
      "source": [
        "8. Using \"np.ix_\" for advanced indexing:"
      ],
      "metadata": {
        "id": "WW0nb90p7RUh"
      }
    },
    {
      "cell_type": "code",
      "source": [
        "arr = np.array([1, 2, 3, 4, 5])\n",
        "rows_to_select = [True, False, True, False, False]\n",
        "print(arr[np.ix_(rows_to_select)])"
      ],
      "metadata": {
        "id": "e8LEOx6R7Tzl",
        "outputId": "e08024dd-29f8-41ac-a032-53d589f32010",
        "colab": {
          "base_uri": "https://localhost:8080/"
        }
      },
      "execution_count": 38,
      "outputs": [
        {
          "output_type": "stream",
          "name": "stdout",
          "text": [
            "[1 3]\n"
          ]
        }
      ]
    },
    {
      "cell_type": "markdown",
      "source": [
        "9. Combining Boolean masks with logical operators:"
      ],
      "metadata": {
        "id": "AVEgCJ7N7jDH"
      }
    },
    {
      "cell_type": "code",
      "source": [
        "arr = np.array([10, 20, 30, 40, 50])\n",
        "mask1 = arr > 20\n",
        "mask2 = arr < 50\n",
        "print(arr[mask1 & mask2])"
      ],
      "metadata": {
        "id": "Gbz4Srpp7jjZ",
        "outputId": "151e045e-44ed-4590-dce7-5a2c46642d34",
        "colab": {
          "base_uri": "https://localhost:8080/"
        }
      },
      "execution_count": 39,
      "outputs": [
        {
          "output_type": "stream",
          "name": "stdout",
          "text": [
            "[30 40]\n"
          ]
        }
      ]
    },
    {
      "cell_type": "markdown",
      "source": [
        "10. Modifying sub-arrays using slicing:"
      ],
      "metadata": {
        "id": "LYL7PoTB7mjl"
      }
    },
    {
      "cell_type": "code",
      "source": [
        "arr = np.array([1, 2, 3, 4, 5])\n",
        "arr[1:4] = 100\n",
        "print(arr)"
      ],
      "metadata": {
        "id": "C98XoFmn7l7U",
        "outputId": "ff3c2d6e-887b-4b9c-ee83-5173fc51aeaf",
        "colab": {
          "base_uri": "https://localhost:8080/"
        }
      },
      "execution_count": 40,
      "outputs": [
        {
          "output_type": "stream",
          "name": "stdout",
          "text": [
            "[  1 100 100 100   5]\n"
          ]
        }
      ]
    },
    {
      "cell_type": "markdown",
      "source": [
        "### 3.2.3 Array Shape and Dimensions"
      ],
      "metadata": {
        "id": "P8V2QdgR7xcY"
      }
    },
    {
      "cell_type": "markdown",
      "source": [
        "1. Checking the shape of an array:"
      ],
      "metadata": {
        "id": "VZnsA7Ts72CE"
      }
    },
    {
      "cell_type": "code",
      "source": [
        "arr = np.array([[1, 2, 3], [4, 5, 6]])\n",
        "print(arr.shape)"
      ],
      "metadata": {
        "id": "pwNBdGye74Z6",
        "outputId": "6cd50a7d-d0ed-4e0f-969b-7adc353f0162",
        "colab": {
          "base_uri": "https://localhost:8080/"
        }
      },
      "execution_count": 41,
      "outputs": [
        {
          "output_type": "stream",
          "name": "stdout",
          "text": [
            "(2, 3)\n"
          ]
        }
      ]
    },
    {
      "cell_type": "markdown",
      "source": [
        "2. Determining the number of dimensions:"
      ],
      "metadata": {
        "id": "9C6QxeBp78nF"
      }
    },
    {
      "cell_type": "code",
      "source": [
        "arr = np.array([1, 2, 3])\n",
        "print(arr.ndim)"
      ],
      "metadata": {
        "id": "J7vd44e179pK",
        "outputId": "6d4d5d33-40b0-4d76-937a-beba272a5523",
        "colab": {
          "base_uri": "https://localhost:8080/"
        }
      },
      "execution_count": 42,
      "outputs": [
        {
          "output_type": "stream",
          "name": "stdout",
          "text": [
            "1\n"
          ]
        }
      ]
    },
    {
      "cell_type": "markdown",
      "source": [
        "3. Finding the total number of elements in an array:"
      ],
      "metadata": {
        "id": "gve84i908E-G"
      }
    },
    {
      "cell_type": "code",
      "source": [
        "arr = np.array([[1, 2, 3], [4, 5, 6]])\n",
        "print(arr.size)"
      ],
      "metadata": {
        "id": "c-7GkfMR8HuP",
        "outputId": "fe7a3abf-6d90-4451-ed29-1437265fe05c",
        "colab": {
          "base_uri": "https://localhost:8080/"
        }
      },
      "execution_count": 43,
      "outputs": [
        {
          "output_type": "stream",
          "name": "stdout",
          "text": [
            "6\n"
          ]
        }
      ]
    },
    {
      "cell_type": "markdown",
      "source": [
        "4. Reshaping a 1D array into a 2D array:"
      ],
      "metadata": {
        "id": "N9v9AeqQ8J3W"
      }
    },
    {
      "cell_type": "code",
      "source": [
        "arr = np.arange(1, 7)\n",
        "print(arr)\n",
        "reshaped_arr = arr.reshape(2, 3)\n",
        "print(reshaped_arr)"
      ],
      "metadata": {
        "id": "NBkKefyf8OIX",
        "outputId": "28c0440d-0c27-46c7-b794-e6ffd19861ba",
        "colab": {
          "base_uri": "https://localhost:8080/"
        }
      },
      "execution_count": 44,
      "outputs": [
        {
          "output_type": "stream",
          "name": "stdout",
          "text": [
            "[1 2 3 4 5 6]\n",
            "[[1 2 3]\n",
            " [4 5 6]]\n"
          ]
        }
      ]
    },
    {
      "cell_type": "markdown",
      "source": [
        "5. Flattening a 2D array into a 1D array:"
      ],
      "metadata": {
        "id": "rozuXLmg8S_3"
      }
    },
    {
      "cell_type": "code",
      "source": [
        "arr = np.array([[1, 2, 3], [4, 5, 6]])\n",
        "flattened_arr = arr.flatten()\n",
        "print(flattened_arr)"
      ],
      "metadata": {
        "id": "HG1xoN2H8VvS",
        "outputId": "086fe428-24a2-4e8a-fb45-2280642ba843",
        "colab": {
          "base_uri": "https://localhost:8080/"
        }
      },
      "execution_count": 45,
      "outputs": [
        {
          "output_type": "stream",
          "name": "stdout",
          "text": [
            "[1 2 3 4 5 6]\n"
          ]
        }
      ]
    },
    {
      "cell_type": "markdown",
      "source": [
        "6. Raveling a 2D array (similar to flatten but returns a view if possible):"
      ],
      "metadata": {
        "id": "xVOGA3Lj8Y_E"
      }
    },
    {
      "cell_type": "code",
      "source": [
        "arr = np.array([[1, 2, 3], [4, 5, 6]])\n",
        "raveled_arr = arr.ravel()\n",
        "print(raveled_arr)"
      ],
      "metadata": {
        "id": "4egyLaBI8fPb",
        "outputId": "12e391bc-157a-47e9-e579-b3ea8245d7ba",
        "colab": {
          "base_uri": "https://localhost:8080/"
        }
      },
      "execution_count": 46,
      "outputs": [
        {
          "output_type": "stream",
          "name": "stdout",
          "text": [
            "[1 2 3 4 5 6]\n"
          ]
        }
      ]
    },
    {
      "cell_type": "markdown",
      "source": [
        "7. Adding a new dimension to an existing array:"
      ],
      "metadata": {
        "id": "CajCyCfU8hOV"
      }
    },
    {
      "cell_type": "code",
      "source": [
        "arr = np.array([1, 2, 3])\n",
        "print(arr)\n",
        "new_dimension_arr = arr[:, np.newaxis]\n",
        "print(new_dimension_arr)"
      ],
      "metadata": {
        "id": "MR5zGvlF8mXH",
        "outputId": "a074fd63-2d69-41e2-f7d6-b2e6a5bdcfda",
        "colab": {
          "base_uri": "https://localhost:8080/"
        }
      },
      "execution_count": 47,
      "outputs": [
        {
          "output_type": "stream",
          "name": "stdout",
          "text": [
            "[1 2 3]\n",
            "[[1]\n",
            " [2]\n",
            " [3]]\n"
          ]
        }
      ]
    },
    {
      "cell_type": "markdown",
      "source": [
        "8. Concatenating arrays along a specified axis:"
      ],
      "metadata": {
        "id": "3lMCEQiI8wNb"
      }
    },
    {
      "cell_type": "code",
      "source": [
        "arr1 = np.array([1, 2, 3])\n",
        "arr2 = np.array([4, 5, 6])\n",
        "concatenated_arr = np.concatenate((arr1, arr2))\n",
        "print(concatenated_arr)"
      ],
      "metadata": {
        "id": "D_Bv4bJN8xMM",
        "outputId": "d331fe8e-14e7-446c-9fd2-c990cf5a101d",
        "colab": {
          "base_uri": "https://localhost:8080/"
        }
      },
      "execution_count": 48,
      "outputs": [
        {
          "output_type": "stream",
          "name": "stdout",
          "text": [
            "[1 2 3 4 5 6]\n"
          ]
        }
      ]
    },
    {
      "cell_type": "markdown",
      "source": [
        "9. Stacking arrays vertically and horizontally:"
      ],
      "metadata": {
        "id": "onkoRTik8_BV"
      }
    },
    {
      "cell_type": "code",
      "source": [
        "arr1 = np.array([[1, 2], [3, 4]])\n",
        "arr2 = np.array([[5, 6]])\n",
        "vertical_stack = np.vstack((arr1, arr2))\n",
        "horizontal_stack = np.hstack((arr1, arr2.T))\n",
        "print(vertical_stack)\n",
        "print(horizontal_stack)"
      ],
      "metadata": {
        "id": "mCHOxerD8_1i",
        "outputId": "4f06de50-800f-48d5-94e7-8a41430e395a",
        "colab": {
          "base_uri": "https://localhost:8080/"
        }
      },
      "execution_count": 49,
      "outputs": [
        {
          "output_type": "stream",
          "name": "stdout",
          "text": [
            "[[1 2]\n",
            " [3 4]\n",
            " [5 6]]\n",
            "[[1 2 5]\n",
            " [3 4 6]]\n"
          ]
        }
      ]
    },
    {
      "cell_type": "markdown",
      "source": [
        "### 3.2.4 Reshaping and Transposing Arrays"
      ],
      "metadata": {
        "id": "E2v9nVbD9RI5"
      }
    },
    {
      "cell_type": "markdown",
      "source": [
        "1. Reshaping a 1D array to a 2D array with specified dimensions:"
      ],
      "metadata": {
        "id": "axqzOBZ49W7J"
      }
    },
    {
      "cell_type": "code",
      "source": [
        "arr = np.arange(1, 7)\n",
        "reshaped_arr = np.reshape(arr, (2, 3))\n",
        "print(reshaped_arr)"
      ],
      "metadata": {
        "id": "awFGj_yc9e3v",
        "outputId": "21e1e8b4-e477-4ab2-9d5b-a6f5f11e9b43",
        "colab": {
          "base_uri": "https://localhost:8080/"
        }
      },
      "execution_count": 50,
      "outputs": [
        {
          "output_type": "stream",
          "name": "stdout",
          "text": [
            "[[1 2 3]\n",
            " [4 5 6]]\n"
          ]
        }
      ]
    },
    {
      "cell_type": "markdown",
      "source": [
        "2. Reshaping an array using \"-1\" as a placeholder:"
      ],
      "metadata": {
        "id": "I4FzZygo9fDI"
      }
    },
    {
      "cell_type": "code",
      "source": [
        "arr = np.arange(1, 13)\n",
        "reshaped_arr = np.reshape(arr, (3, -1))\n",
        "print(reshaped_arr)"
      ],
      "metadata": {
        "id": "0xv0i5409id5",
        "outputId": "78cd6bed-8de6-4e49-e0aa-5bdb9aef57cf",
        "colab": {
          "base_uri": "https://localhost:8080/"
        }
      },
      "execution_count": 51,
      "outputs": [
        {
          "output_type": "stream",
          "name": "stdout",
          "text": [
            "[[ 1  2  3  4]\n",
            " [ 5  6  7  8]\n",
            " [ 9 10 11 12]]\n"
          ]
        }
      ]
    },
    {
      "cell_type": "markdown",
      "source": [
        "3. Transposing an array using \"transpose\" function:"
      ],
      "metadata": {
        "id": "NX15Y1Kn9mZv"
      }
    },
    {
      "cell_type": "code",
      "source": [
        "arr = np.array([[1, 2, 3], [4, 5, 6]])\n",
        "transposed_arr = np.transpose(arr)\n",
        "print(transposed_arr)"
      ],
      "metadata": {
        "id": "FUAEjysc9pcg",
        "outputId": "4ac23231-a520-4354-d4b5-b8d5c57cf48f",
        "colab": {
          "base_uri": "https://localhost:8080/"
        }
      },
      "execution_count": 52,
      "outputs": [
        {
          "output_type": "stream",
          "name": "stdout",
          "text": [
            "[[1 4]\n",
            " [2 5]\n",
            " [3 6]]\n"
          ]
        }
      ]
    },
    {
      "cell_type": "markdown",
      "source": [
        "4. Transposing an array using \"T\" attribute:"
      ],
      "metadata": {
        "id": "RLBR9vj89yit"
      }
    },
    {
      "cell_type": "code",
      "source": [
        "arr = np.array([[1, 2, 3], [4, 5, 6]])\n",
        "transposed_arr = arr.T\n",
        "print(transposed_arr)"
      ],
      "metadata": {
        "id": "SN9TmGks9vr2",
        "outputId": "540a656b-747c-4864-bd5b-15c367cf02ef",
        "colab": {
          "base_uri": "https://localhost:8080/"
        }
      },
      "execution_count": 53,
      "outputs": [
        {
          "output_type": "stream",
          "name": "stdout",
          "text": [
            "[[1 4]\n",
            " [2 5]\n",
            " [3 6]]\n"
          ]
        }
      ]
    },
    {
      "cell_type": "markdown",
      "source": [
        "5. Swapping axes of a 2D array:"
      ],
      "metadata": {
        "id": "pExt7cLZ9z6I"
      }
    },
    {
      "cell_type": "code",
      "source": [
        "arr = np.array([[1, 2, 3], [4, 5, 6]])\n",
        "swapped_arr = arr.swapaxes(0, 1)\n",
        "print(swapped_arr)"
      ],
      "metadata": {
        "id": "WSTK4beJ93Jl",
        "outputId": "29590a22-4cca-43d3-cdde-00377a4b9e8b",
        "colab": {
          "base_uri": "https://localhost:8080/"
        }
      },
      "execution_count": 54,
      "outputs": [
        {
          "output_type": "stream",
          "name": "stdout",
          "text": [
            "[[1 4]\n",
            " [2 5]\n",
            " [3 6]]\n"
          ]
        }
      ]
    },
    {
      "cell_type": "markdown",
      "source": [
        "6. Flipping an array horizontally:"
      ],
      "metadata": {
        "id": "5Q502efW95A5"
      }
    },
    {
      "cell_type": "code",
      "source": [
        "arr = np.array([[1, 2, 3], [4, 5, 6]])\n",
        "flipped_arr = np.fliplr(arr)\n",
        "print(flipped_arr)"
      ],
      "metadata": {
        "id": "1ujE4QOU97lz",
        "outputId": "c603f331-3d6e-4a44-8b22-ec0630d08a06",
        "colab": {
          "base_uri": "https://localhost:8080/"
        }
      },
      "execution_count": 55,
      "outputs": [
        {
          "output_type": "stream",
          "name": "stdout",
          "text": [
            "[[3 2 1]\n",
            " [6 5 4]]\n"
          ]
        }
      ]
    },
    {
      "cell_type": "markdown",
      "source": [
        "7. Flipping an array vertically:"
      ],
      "metadata": {
        "id": "PT6-Mzao9-jU"
      }
    },
    {
      "cell_type": "code",
      "source": [
        "arr = np.array([[1, 2, 3], [4, 5, 6]])\n",
        "flipped_arr = np.flipud(arr)\n",
        "print(flipped_arr)"
      ],
      "metadata": {
        "id": "r4TpxLno9_O4",
        "outputId": "1f46213e-9473-4e1a-80c9-28be0dff14e0",
        "colab": {
          "base_uri": "https://localhost:8080/"
        }
      },
      "execution_count": 56,
      "outputs": [
        {
          "output_type": "stream",
          "name": "stdout",
          "text": [
            "[[4 5 6]\n",
            " [1 2 3]]\n"
          ]
        }
      ]
    },
    {
      "cell_type": "markdown",
      "source": [
        "8. Rolling elements of an array:"
      ],
      "metadata": {
        "id": "mIfDE7yg-BAT"
      }
    },
    {
      "cell_type": "code",
      "source": [
        "arr = np.array([1, 2, 3, 4, 5])\n",
        "rolled_arr = np.roll(arr, 2)\n",
        "print(rolled_arr)"
      ],
      "metadata": {
        "id": "10B6rjQD-C_t",
        "outputId": "d69f0c86-fa8c-4a4a-859d-bf5f545faa8a",
        "colab": {
          "base_uri": "https://localhost:8080/"
        }
      },
      "execution_count": 57,
      "outputs": [
        {
          "output_type": "stream",
          "name": "stdout",
          "text": [
            "[4 5 1 2 3]\n"
          ]
        }
      ]
    },
    {
      "cell_type": "markdown",
      "source": [
        "9. Rotating elements of an array:"
      ],
      "metadata": {
        "id": "F6tTNN-K-Hy6"
      }
    },
    {
      "cell_type": "code",
      "source": [
        "#arr = np.array([1, 2, 3, 4, 5])\n",
        "#rotated_arr = np.rot90(arr)\n",
        "#print(rotated_arr)"
      ],
      "metadata": {
        "id": "qslYi6Zo-KcX"
      },
      "execution_count": 58,
      "outputs": []
    },
    {
      "cell_type": "markdown",
      "source": [
        "10. Tiling an array to create a larger array:"
      ],
      "metadata": {
        "id": "vPFFWZUa-kKG"
      }
    },
    {
      "cell_type": "code",
      "source": [
        "arr = np.array([1, 2, 3])\n",
        "tiled_arr = np.tile(arr, 3)\n",
        "print(tiled_arr)"
      ],
      "metadata": {
        "id": "Q0zELUzk-rSZ",
        "outputId": "26e523a1-de3a-4fe0-accf-da046f72998c",
        "colab": {
          "base_uri": "https://localhost:8080/"
        }
      },
      "execution_count": 59,
      "outputs": [
        {
          "output_type": "stream",
          "name": "stdout",
          "text": [
            "[1 2 3 1 2 3 1 2 3]\n"
          ]
        }
      ]
    },
    {
      "cell_type": "markdown",
      "source": [
        "### 3.2.5 Array Operations and Broadcasting"
      ],
      "metadata": {
        "id": "aD8yy9on10kw"
      }
    },
    {
      "cell_type": "markdown",
      "source": [
        "1. Element-wise arithmetic operations:"
      ],
      "metadata": {
        "id": "OzaeTjez16FL"
      }
    },
    {
      "cell_type": "code",
      "source": [
        "arr1 = np.array([1, 2, 3])\n",
        "arr2 = np.array([4, 5, 6])\n",
        "addition = arr1 + arr2\n",
        "subtraction = arr1 - arr2\n",
        "multiplication = arr1 * arr2\n",
        "division = arr1 / arr2\n",
        "print(addition, subtraction, multiplication, division)"
      ],
      "metadata": {
        "id": "3fBr2cuJ19eR",
        "outputId": "b7afd0ea-fd4d-4093-855d-e5cf1741ffd3",
        "colab": {
          "base_uri": "https://localhost:8080/"
        }
      },
      "execution_count": 60,
      "outputs": [
        {
          "output_type": "stream",
          "name": "stdout",
          "text": [
            "[5 7 9] [-3 -3 -3] [ 4 10 18] [0.25 0.4  0.5 ]\n"
          ]
        }
      ]
    },
    {
      "cell_type": "markdown",
      "source": [
        "2. Element-wise comparison operations:"
      ],
      "metadata": {
        "id": "BM27unHM18tu"
      }
    },
    {
      "cell_type": "code",
      "source": [
        "arr1 = np.array([1, 2, 3])\n",
        "arr2 = np.array([3, 2, 1])\n",
        "greater_than = arr1 > arr2\n",
        "less_than_or_equal = arr1 <= arr2\n",
        "equal = arr1 == arr2\n",
        "print(greater_than, less_than_or_equal, equal)"
      ],
      "metadata": {
        "id": "QX1LfYjw2HOC",
        "outputId": "2e3c24c3-a258-4b8f-cf8b-fdb5ec0028af",
        "colab": {
          "base_uri": "https://localhost:8080/"
        }
      },
      "execution_count": 61,
      "outputs": [
        {
          "output_type": "stream",
          "name": "stdout",
          "text": [
            "[False False  True] [ True  True False] [False  True False]\n"
          ]
        }
      ]
    },
    {
      "cell_type": "markdown",
      "source": [
        "3. Broadcasting with a scalar:"
      ],
      "metadata": {
        "id": "Q_1oQ6gq2IJ6"
      }
    },
    {
      "cell_type": "code",
      "source": [
        "arr = np.array([1, 2, 3])\n",
        "result = arr + 5\n",
        "print(result)"
      ],
      "metadata": {
        "id": "nbTt76BH2Mad",
        "outputId": "f92ab169-da91-4c4f-99b3-ed72a301b51f",
        "colab": {
          "base_uri": "https://localhost:8080/"
        }
      },
      "execution_count": 62,
      "outputs": [
        {
          "output_type": "stream",
          "name": "stdout",
          "text": [
            "[6 7 8]\n"
          ]
        }
      ]
    },
    {
      "cell_type": "markdown",
      "source": [
        "4. Broadcasting with a 1D array:"
      ],
      "metadata": {
        "id": "jMkIZ9EK2Q3C"
      }
    },
    {
      "cell_type": "code",
      "source": [
        "arr = np.array([1, 2, 3])\n",
        "row_vector = np.array([10, 20, 30])\n",
        "result = arr + row_vector\n",
        "print(result)"
      ],
      "metadata": {
        "id": "HT3ov0z22TzC",
        "outputId": "9ef27ad6-4583-4248-97d5-ab343d1b427c",
        "colab": {
          "base_uri": "https://localhost:8080/"
        }
      },
      "execution_count": 63,
      "outputs": [
        {
          "output_type": "stream",
          "name": "stdout",
          "text": [
            "[11 22 33]\n"
          ]
        }
      ]
    },
    {
      "cell_type": "markdown",
      "source": [
        "5. Broadcasting with a 2D array:"
      ],
      "metadata": {
        "id": "fsS1dmT42Xfu"
      }
    },
    {
      "cell_type": "code",
      "source": [
        "arr = np.array([[1, 2, 3], [4, 5, 6]])\n",
        "column_vector = np.array([[10], [20]])\n",
        "result = arr + column_vector\n",
        "print(result)"
      ],
      "metadata": {
        "id": "jFoQkHs-2aUh",
        "outputId": "0a55851f-929a-4b28-e841-291d008186bd",
        "colab": {
          "base_uri": "https://localhost:8080/"
        }
      },
      "execution_count": 64,
      "outputs": [
        {
          "output_type": "stream",
          "name": "stdout",
          "text": [
            "[[11 12 13]\n",
            " [24 25 26]]\n"
          ]
        }
      ]
    },
    {
      "cell_type": "markdown",
      "source": [
        "6. Element-wise square root:"
      ],
      "metadata": {
        "id": "orzg3d932f7_"
      }
    },
    {
      "cell_type": "code",
      "source": [
        "arr = np.array([1, 4, 9])\n",
        "result = np.sqrt(arr)\n",
        "print(result)"
      ],
      "metadata": {
        "id": "mbHNSTSh2gx7",
        "outputId": "36932d0a-9db2-4041-9394-d15a6abd1243",
        "colab": {
          "base_uri": "https://localhost:8080/"
        }
      },
      "execution_count": 65,
      "outputs": [
        {
          "output_type": "stream",
          "name": "stdout",
          "text": [
            "[1. 2. 3.]\n"
          ]
        }
      ]
    },
    {
      "cell_type": "markdown",
      "source": [
        "7. Element-wise exponentiation:"
      ],
      "metadata": {
        "id": "MYF8UnRe2i8b"
      }
    },
    {
      "cell_type": "code",
      "source": [
        "arr = np.array([2, 3, 4])\n",
        "result = np.exp(arr)\n",
        "print(result)"
      ],
      "metadata": {
        "id": "loEXU9pS2mWV",
        "outputId": "1593406a-40ab-4f65-f797-c3ebd15acd07",
        "colab": {
          "base_uri": "https://localhost:8080/"
        }
      },
      "execution_count": 66,
      "outputs": [
        {
          "output_type": "stream",
          "name": "stdout",
          "text": [
            "[ 7.3890561  20.08553692 54.59815003]\n"
          ]
        }
      ]
    },
    {
      "cell_type": "markdown",
      "source": [
        "8. Element-wise trigonometric functions:"
      ],
      "metadata": {
        "id": "3SDzUKhV2nX5"
      }
    },
    {
      "cell_type": "code",
      "source": [
        "arr = np.array([0, np.pi/2, np.pi])\n",
        "result_sin = np.sin(arr)\n",
        "result_cos = np.cos(arr)\n",
        "result_tan = np.tan(arr)\n",
        "print(result_sin, result_cos, result_tan)"
      ],
      "metadata": {
        "id": "dYe6zYWU2prL",
        "outputId": "2c5d4bfd-92b8-4cc8-cc6d-4eb77f96cb97",
        "colab": {
          "base_uri": "https://localhost:8080/"
        }
      },
      "execution_count": 67,
      "outputs": [
        {
          "output_type": "stream",
          "name": "stdout",
          "text": [
            "[0.0000000e+00 1.0000000e+00 1.2246468e-16] [ 1.000000e+00  6.123234e-17 -1.000000e+00] [ 0.00000000e+00  1.63312394e+16 -1.22464680e-16]\n"
          ]
        }
      ]
    },
    {
      "cell_type": "markdown",
      "source": [
        "9. Summing elements of an array:"
      ],
      "metadata": {
        "id": "prsUK54z2s8Y"
      }
    },
    {
      "cell_type": "code",
      "source": [
        "arr = np.array([1, 2, 3, 4, 5])\n",
        "sum_result = np.sum(arr)\n",
        "print(sum_result)"
      ],
      "metadata": {
        "id": "YTzLl60W2viv",
        "outputId": "72759dec-59a6-45de-ffb8-b4009c683640",
        "colab": {
          "base_uri": "https://localhost:8080/"
        }
      },
      "execution_count": 68,
      "outputs": [
        {
          "output_type": "stream",
          "name": "stdout",
          "text": [
            "15\n"
          ]
        }
      ]
    },
    {
      "cell_type": "markdown",
      "source": [
        "10. Matrix multiplication:"
      ],
      "metadata": {
        "id": "COgTybDT2xLo"
      }
    },
    {
      "cell_type": "code",
      "source": [
        "matrix1 = np.array([[1, 2], [3, 4]])\n",
        "matrix2 = np.array([[5, 6], [7, 8]])\n",
        "result = np.dot(matrix1, matrix2)\n",
        "print(result)"
      ],
      "metadata": {
        "id": "y-T8ZurS2zYp",
        "outputId": "abbaef78-b7d8-4503-dfdd-01380e8e2e7e",
        "colab": {
          "base_uri": "https://localhost:8080/"
        }
      },
      "execution_count": 69,
      "outputs": [
        {
          "output_type": "stream",
          "name": "stdout",
          "text": [
            "[[19 22]\n",
            " [43 50]]\n"
          ]
        }
      ]
    },
    {
      "cell_type": "markdown",
      "source": [
        "## 3.3 Linear Algebra\n",
        "\n"
      ],
      "metadata": {
        "id": "cOWBqmTw4xOO"
      }
    },
    {
      "cell_type": "markdown",
      "source": [
        "NumPy linear algebra functions\n",
        "\n",
        "| Function                      | Structure                                      | Description                                                                                                               |\n",
        "|-------------------------------|------------------------------------------------|---------------------------------------------------------------------------------------------------------------------------|\n",
        "| `np.dot(a, b)`                | `np.dot(a, b, out=None)`                      | Compute the dot product of two arrays.                                                                                  |\n",
        "| `np.matmul(a, b)`             | `np.matmul(a, b, out=None)`                   | Matrix multiplication between two arrays.                                                                                |\n",
        "| `np.linalg.inv(a)`            | `np.linalg.inv(a)`                            | Compute the (multiplicative) inverse of a square matrix.                                                                 |\n",
        "| `np.linalg.det(a)`            | `np.linalg.det(a)`                            | Compute the determinant of a square matrix.                                                                              |\n",
        "| `np.linalg.eig(a)`            | `np.linalg.eig(a)`                            | Compute the eigenvalues and eigenvectors of a square matrix.                                                             |\n",
        "| `np.linalg.svd(a)`            | `np.linalg.svd(a, full_matrices=True, compute_uv=True, hermitian=False)` | Perform singular value decomposition on a matrix.                                                                  |\n",
        "| `np.linalg.solve(a, b)`       | `np.linalg.solve(a, b)`                       | Solve a linear matrix equation, `ax = b`, for `x`.                                                                        |\n",
        "| `np.linalg.lstsq(a, b, rcond=None)` | `np.linalg.lstsq(a, b, rcond=None)`       | Solve linear least-squares problem, `min ||a @ x - b||^2`.                                                                |\n",
        "| `np.linalg.norm(x, ord=None)` | `np.linalg.norm(x, ord=None, axis=None, keepdims=False)` | Compute the norm of an array, `x`.                                                                                 |\n",
        "| `np.linalg.qr(a, mode='reduced')` | `np.linalg.qr(a, mode='reduced')`          | Compute the QR decomposition of a matrix.                                                                                |\n",
        "| `np.linalg.eigh(a, UPLO='L')`  | `np.linalg.eigh(a, UPLO='L', eigvals_only=False)` | Compute eigenvalues and (optionally) eigenvectors of a Hermitian or symmetric matrix.                           |\n",
        "| `np.linalg.matrix_power(a, n)` | `np.linalg.matrix_power(a, n)`                | Raise a square matrix to the (integer) power `n`.                                                                         |\n"
      ],
      "metadata": {
        "id": "tgrYNNHD3A66"
      }
    },
    {
      "cell_type": "markdown",
      "source": [
        "### 3.3.1 Dot Product"
      ],
      "metadata": {
        "id": "Z8nSv6Lo3nuX"
      }
    },
    {
      "cell_type": "markdown",
      "source": [
        "The dot product is a fundamental operation in linear algebra, and NumPy provides a powerful function, `np.dot()`, to perform this operation efficiently."
      ],
      "metadata": {
        "id": "CCpNCyBF4KEJ"
      }
    },
    {
      "cell_type": "markdown",
      "source": [
        "#### 3.3.1.1 Introduction to Dot Product"
      ],
      "metadata": {
        "id": "rHKcxREi4SPN"
      }
    },
    {
      "cell_type": "markdown",
      "source": [
        "\n",
        "The dot product, also known as the scalar product or inner product, is an operation that takes two vectors and returns a scalar value. For two vectors, A and B, the dot product is calculated as:\n",
        "\n",
        "```\n",
        "A · B = |A| * |B| * cos(θ)\n",
        "```\n",
        "\n",
        "where `|A|` and `|B|` are the magnitudes (lengths) of vectors A and B, respectively, and θ is the angle between the two vectors."
      ],
      "metadata": {
        "id": "auuE5SR084z6"
      }
    },
    {
      "cell_type": "markdown",
      "source": [
        "#### 3.3.1.2 Dot Product in NumPy"
      ],
      "metadata": {
        "id": "bikX2erd85rG"
      }
    },
    {
      "cell_type": "markdown",
      "source": [
        "In NumPy, the `np.dot()` function is used to compute the dot product of two arrays. The operation is performed element-wise, followed by the summation of the results."
      ],
      "metadata": {
        "id": "E8J3ZC5B89KM"
      }
    },
    {
      "cell_type": "markdown",
      "source": [
        "Example 1: Dot Product of 1D Arrays"
      ],
      "metadata": {
        "id": "PWgByMoo9BjF"
      }
    },
    {
      "cell_type": "code",
      "source": [
        "# 1D arrays\n",
        "A = np.array([2, 3, 5])\n",
        "B = np.array([4, 1, 7])\n",
        "\n",
        "# Calculate the dot product\n",
        "dot_product = np.dot(A, B)\n",
        "print(\"Dot Product of A and B:\", dot_product)"
      ],
      "metadata": {
        "id": "yjxmiu2G9Dss",
        "outputId": "76b4215d-0ab4-4627-80d7-c1c12c8309d7",
        "colab": {
          "base_uri": "https://localhost:8080/"
        }
      },
      "execution_count": 70,
      "outputs": [
        {
          "output_type": "stream",
          "name": "stdout",
          "text": [
            "Dot Product of A and B: 46\n"
          ]
        }
      ]
    },
    {
      "cell_type": "markdown",
      "source": [
        "Example 2: Dot Product of 2D Arrays"
      ],
      "metadata": {
        "id": "lAmHf6Y79Ihc"
      }
    },
    {
      "cell_type": "code",
      "source": [
        "# 2D arrays\n",
        "A = np.array([[1, 2], [3, 4]])\n",
        "B = np.array([[5, 6], [7, 8]])\n",
        "\n",
        "# Calculate the dot product\n",
        "dot_product = np.dot(A, B)\n",
        "print(\"Dot Product of A and B:\")\n",
        "print(dot_product)"
      ],
      "metadata": {
        "id": "EONNaueP9LTk",
        "outputId": "1ea64b8b-46e5-4ea6-ce74-dc3c9bab9547",
        "colab": {
          "base_uri": "https://localhost:8080/"
        }
      },
      "execution_count": 71,
      "outputs": [
        {
          "output_type": "stream",
          "name": "stdout",
          "text": [
            "Dot Product of A and B:\n",
            "[[19 22]\n",
            " [43 50]]\n"
          ]
        }
      ]
    },
    {
      "cell_type": "markdown",
      "source": [
        "Example 3 :  Broadcasting in Dot Product"
      ],
      "metadata": {
        "id": "NqHdF_LJ9TKA"
      }
    },
    {
      "cell_type": "code",
      "source": [
        "# Broadcasting example\n",
        "A = np.array([[1, 2, 3], [4, 5, 6]])\n",
        "B = np.array([2, 3, 4])\n",
        "\n",
        "# Calculate the dot product with broadcasting\n",
        "dot_product = np.dot(A, B)\n",
        "print(\"Dot Product with Broadcasting:\")\n",
        "print(dot_product)"
      ],
      "metadata": {
        "id": "xAyRAVnh9Umu",
        "outputId": "61cef3f7-c4ba-4d71-aba9-26f32b868841",
        "colab": {
          "base_uri": "https://localhost:8080/"
        }
      },
      "execution_count": 72,
      "outputs": [
        {
          "output_type": "stream",
          "name": "stdout",
          "text": [
            "Dot Product with Broadcasting:\n",
            "[20 47]\n"
          ]
        }
      ]
    },
    {
      "cell_type": "markdown",
      "source": [
        "### 3.3.2 Matrix Multiplication"
      ],
      "metadata": {
        "id": "r_Di6C769bmo"
      }
    },
    {
      "cell_type": "markdown",
      "source": [
        "NumPy's `matmul()` function is used to perform matrix multiplication between two arrays. It is a versatile function that can handle both 1D and 2D arrays, making it useful for a wide range of linear algebra computations. The `matmul()` function is equivalent to the `@` operator in Python 3.5 and above.\n",
        "\n",
        "**Syntax:**\n",
        "```\n",
        "numpy.matmul(a, b, out=None)\n",
        "```\n",
        "\n",
        "**Parameters:**\n",
        "- `a`: First input array (matrix) for multiplication.\n",
        "- `b`: Second input array (matrix) for multiplication.\n",
        "- `out`: Optional. The output array where the result is stored.\n",
        "\n",
        "**Return Value:**\n",
        "- The result of the matrix multiplication between `a` and `b`.\n",
        "\n",
        "**Note:**\n",
        "- For 2D arrays, `matmul()` performs matrix multiplication.\n",
        "- For 1D arrays, `matmul()` behaves like the dot product.\n"
      ],
      "metadata": {
        "id": "iYYUAzCq9y9I"
      }
    },
    {
      "cell_type": "markdown",
      "source": [
        "Example 1: Matrix Multiplication (2D arrays)"
      ],
      "metadata": {
        "id": "muemG2Il9_Sw"
      }
    },
    {
      "cell_type": "code",
      "source": [
        "A = np.array([[1, 2], [3, 4]])\n",
        "B = np.array([[5, 6], [7, 8]])\n",
        "\n",
        "result = np.matmul(A, B)\n",
        "# Equivalent to: result = A @ B\n",
        "\n",
        "print(result)"
      ],
      "metadata": {
        "id": "yjrCicto9-8k",
        "outputId": "4ccf1afa-0947-46aa-bdf0-94e2ed5e4218",
        "colab": {
          "base_uri": "https://localhost:8080/"
        }
      },
      "execution_count": 73,
      "outputs": [
        {
          "output_type": "stream",
          "name": "stdout",
          "text": [
            "[[19 22]\n",
            " [43 50]]\n"
          ]
        }
      ]
    },
    {
      "cell_type": "markdown",
      "source": [
        "Example 2: Dot Product (1D arrays)"
      ],
      "metadata": {
        "id": "neTZFhqU-CUU"
      }
    },
    {
      "cell_type": "code",
      "source": [
        "A = np.array([1, 2, 3])\n",
        "B = np.array([4, 5, 6])\n",
        "\n",
        "result = np.matmul(A, B)\n",
        "# Equivalent to: result = A @ B\n",
        "\n",
        "print(result)"
      ],
      "metadata": {
        "id": "0X1SRI4i-EsW",
        "outputId": "e50d52a1-3784-4066-9de2-367bc766d67a",
        "colab": {
          "base_uri": "https://localhost:8080/"
        }
      },
      "execution_count": 74,
      "outputs": [
        {
          "output_type": "stream",
          "name": "stdout",
          "text": [
            "32\n"
          ]
        }
      ]
    },
    {
      "cell_type": "markdown",
      "source": [
        "Example 3: Broadcasting in matmul()"
      ],
      "metadata": {
        "id": "9RILWk-H-GYx"
      }
    },
    {
      "cell_type": "code",
      "source": [
        "A = np.array([[1, 2], [3, 4], [5, 6]])\n",
        "B = np.array([2, 3])\n",
        "\n",
        "result = np.matmul(A, B)\n",
        "# Equivalent to: result = A @ B\n",
        "\n",
        "print(result)"
      ],
      "metadata": {
        "id": "nvfj2-wA-Iwu",
        "outputId": "def3d4d0-11ea-4b0a-dbff-3a53f90f72a3",
        "colab": {
          "base_uri": "https://localhost:8080/"
        }
      },
      "execution_count": 75,
      "outputs": [
        {
          "output_type": "stream",
          "name": "stdout",
          "text": [
            "[ 8 18 28]\n"
          ]
        }
      ]
    },
    {
      "cell_type": "markdown",
      "source": [
        "Example 4: Output Array with out Parameter"
      ],
      "metadata": {
        "id": "7Bn4m7-t-LLL"
      }
    },
    {
      "cell_type": "code",
      "source": [
        "A = np.array([[1, 2], [3, 4]])\n",
        "B = np.array([[5, 6], [7, 8]])\n",
        "\n",
        "output_array = np.zeros((2, 2), dtype=int)\n",
        "\n",
        "result = np.matmul(A, B, out=output_array)\n",
        "# Equivalent to: result = np.matmul(A, B)\n",
        "\n",
        "print(result)"
      ],
      "metadata": {
        "id": "k0hFIbHW-NSk",
        "outputId": "5d383273-33fd-4038-eae5-d85cc32d7b05",
        "colab": {
          "base_uri": "https://localhost:8080/"
        }
      },
      "execution_count": 76,
      "outputs": [
        {
          "output_type": "stream",
          "name": "stdout",
          "text": [
            "[[19 22]\n",
            " [43 50]]\n"
          ]
        }
      ]
    },
    {
      "cell_type": "markdown",
      "source": [
        "### 3.3.3 Inverse Matrix"
      ],
      "metadata": {
        "id": "LeZDqSf4-W9i"
      }
    },
    {
      "cell_type": "markdown",
      "source": [
        "In linear algebra, the inverse of a square matrix A is denoted as A^(-1). When a square matrix is multiplied by its inverse, the result is the identity matrix, denoted as I. NumPy provides the `np.linalg.inv()` function to calculate the inverse of a square matrix.\n",
        "\n",
        "**Syntax:**\n",
        "```\n",
        "numpy.linalg.inv(a)\n",
        "```\n",
        "\n",
        "**Parameters:**\n",
        "- `a`: The input square matrix for which the inverse is to be calculated.\n",
        "\n",
        "**Return Value:**\n",
        "- The inverse matrix of `a`.\n",
        "\n",
        "**Note:**\n",
        "- The input matrix `a` must be square (i.e., have the same number of rows and columns).\n",
        "- Not all matrices have an inverse. If `a` is singular or nearly singular, the `np.linalg.inv()` function may raise a `LinAlgError`.\n"
      ],
      "metadata": {
        "id": "vlo4HV_w-aQ9"
      }
    },
    {
      "cell_type": "markdown",
      "source": [
        "Example 1: Calculate Inverse of a 2x2 Matrix"
      ],
      "metadata": {
        "id": "CG0dS7M0-oBA"
      }
    },
    {
      "cell_type": "code",
      "source": [
        "A = np.array([[1, 2], [3, 4]])\n",
        "\n",
        "inverse_A = np.linalg.inv(A)\n",
        "\n",
        "print(inverse_A)"
      ],
      "metadata": {
        "id": "AbrlE2Fe-Zub",
        "outputId": "cf24f3e7-1bdb-489b-fbad-da8c4cde31f5",
        "colab": {
          "base_uri": "https://localhost:8080/"
        }
      },
      "execution_count": 77,
      "outputs": [
        {
          "output_type": "stream",
          "name": "stdout",
          "text": [
            "[[-2.   1. ]\n",
            " [ 1.5 -0.5]]\n"
          ]
        }
      ]
    },
    {
      "cell_type": "markdown",
      "source": [
        "Example 2: Calculate Inverse of a 3x3 Matrix"
      ],
      "metadata": {
        "id": "e5dJEV0f-snK"
      }
    },
    {
      "cell_type": "code",
      "source": [
        "B = np.array([[2, 1, 3], [4, 2, 1], [3, 4, 2]])\n",
        "\n",
        "inverse_B = np.linalg.inv(B)\n",
        "\n",
        "print(inverse_B)"
      ],
      "metadata": {
        "id": "6erGv2PM-uUz",
        "outputId": "d65dfddc-2b5b-4bac-cd97-10e29e1e30a7",
        "colab": {
          "base_uri": "https://localhost:8080/"
        }
      },
      "execution_count": 78,
      "outputs": [
        {
          "output_type": "stream",
          "name": "stdout",
          "text": [
            "[[ 0.   0.4 -0.2]\n",
            " [-0.2 -0.2  0.4]\n",
            " [ 0.4 -0.2  0. ]]\n"
          ]
        }
      ]
    },
    {
      "cell_type": "markdown",
      "source": [
        "Example 3: Singular Matrix"
      ],
      "metadata": {
        "id": "qY8m0ycj-wJ5"
      }
    },
    {
      "cell_type": "code",
      "source": [
        "C = np.array([[1, 2], [2, 4]])\n",
        "\n",
        "try:\n",
        "    inverse_C = np.linalg.inv(C)\n",
        "    print(inverse_C)\n",
        "except np.linalg.LinAlgError:\n",
        "    print(\"Matrix C is singular. Inverse does not exist.\")"
      ],
      "metadata": {
        "id": "nBdZqjeX-1eE",
        "outputId": "42e8d6f6-3c9d-444d-9db5-ec12da8c6e9b",
        "colab": {
          "base_uri": "https://localhost:8080/"
        }
      },
      "execution_count": 79,
      "outputs": [
        {
          "output_type": "stream",
          "name": "stdout",
          "text": [
            "Matrix C is singular. Inverse does not exist.\n"
          ]
        }
      ]
    },
    {
      "cell_type": "markdown",
      "source": [
        "**Note on singular and non-singular marixes**"
      ],
      "metadata": {
        "id": "VTwYw_n1-9TS"
      }
    },
    {
      "cell_type": "markdown",
      "source": [
        "In linear algebra, a square matrix is called \"singular\" if it does not have an inverse.(i.e. No solutions , incomplete equation combinations) In other words, a matrix A is singular if there is no matrix B such that the product of A and B (AB) is the identity matrix (I). If a matrix is singular, it cannot be inverted, and attempting to find its inverse will result in an error.\n",
        "\n",
        "On the other hand, a square matrix that has an inverse is called \"non-singular\" or \"invertible.\" If a matrix A is non-singular, there exists a matrix B such that AB = BA = I. The inverse of a non-singular matrix A is denoted as A^(-1), and it satisfies the property: A * A^(-1) = A^(-1) * A = I.\n",
        "\n",
        "Mathematically, for a square matrix A of size (n x n), the conditions for singularity are:\n",
        "\n",
        "1. If the determinant of A (det(A)) is equal to zero, the matrix A is singular.\n",
        "2. If the rank of A (rank(A)) is less than n, the matrix A is singular.\n",
        "\n",
        "A square matrix is non-singular if and only if its determinant is non-zero, and its rank is equal to the number of rows (n).\n"
      ],
      "metadata": {
        "id": "e1ijLXLc_JJ4"
      }
    },
    {
      "cell_type": "markdown",
      "source": [
        "###3.3.4 Determinent"
      ],
      "metadata": {
        "id": "yhz9X6y8_TxO"
      }
    },
    {
      "cell_type": "markdown",
      "source": [
        "In NumPy, you can calculate the determinant of a square matrix using the `numpy.linalg.det()` function. This function computes the determinant of a given square matrix.\n",
        "\n",
        "**Syntax:**\n",
        "```\n",
        "numpy.linalg.det(a)\n",
        "```\n",
        "\n",
        "**Parameters:**\n",
        "- `a`: The input square matrix for which the determinant is to be calculated.\n",
        "\n",
        "**Return Value:**\n",
        "- The determinant of the input matrix `a`.\n",
        "\n",
        "**Note:**\n",
        "- The input matrix `a` must be square (i.e., have the same number of rows and columns).\n"
      ],
      "metadata": {
        "id": "hlL0QXDI_Yo_"
      }
    },
    {
      "cell_type": "markdown",
      "source": [
        "Example:\n"
      ],
      "metadata": {
        "id": "SCnARaVW_lrw"
      }
    },
    {
      "cell_type": "code",
      "source": [
        "# 3x3 matrix\n",
        "A = np.array([[1, 2, 3], [4, 5, 6], [7, 8, 9]])\n",
        "\n",
        "# Calculate the determinant\n",
        "det_A = np.linalg.det(A)\n",
        "\n",
        "print(det_A)"
      ],
      "metadata": {
        "id": "sZbyofjL_rGg",
        "outputId": "95580acb-d4bd-44c5-ddad-8e0276a44fb9",
        "colab": {
          "base_uri": "https://localhost:8080/"
        }
      },
      "execution_count": 80,
      "outputs": [
        {
          "output_type": "stream",
          "name": "stdout",
          "text": [
            "0.0\n"
          ]
        }
      ]
    },
    {
      "cell_type": "markdown",
      "source": [
        "In this example, the determinant of the matrix `A` is computed and found to be `0.0`. Since the determinant is zero, the matrix `A` is singular, and it does not have an inverse."
      ],
      "metadata": {
        "id": "5AcHiRkX_t0g"
      }
    },
    {
      "cell_type": "markdown",
      "source": [
        "### 3.3.5  Eigenvalues and Eigenvectors of a Square Matrix"
      ],
      "metadata": {
        "id": "LxY7w8c0_v2K"
      }
    },
    {
      "cell_type": "markdown",
      "source": [
        "In NumPy, to compute the eigenvalues and eigenvectors of a square matrix using the `numpy.linalg.eig()` function.\n",
        "\n",
        "**Syntax:**\n",
        "```\n",
        "numpy.linalg.eig(a)\n",
        "```\n",
        "\n",
        "**Parameters:**\n",
        "- `a`: The input square matrix for which the eigenvalues and eigenvectors are to be calculated.\n",
        "\n",
        "**Return Value:**\n",
        "- `eigenvalues`: An array containing the eigenvalues of the input matrix `a`.\n",
        "- `eigenvectors`: An array containing the eigenvectors of the input matrix `a`. Each column in the array represents an eigenvector.\n",
        "\n",
        "**Note:**\n",
        "- The input matrix `a` must be square (i.e., have the same number of rows and columns).\n"
      ],
      "metadata": {
        "id": "CDWX0C4DFnXB"
      }
    },
    {
      "cell_type": "markdown",
      "source": [
        "Example 1: Eigenvalues and Eigenvectors of a 2x2 Matrix"
      ],
      "metadata": {
        "id": "jFT_WIheFu0R"
      }
    },
    {
      "cell_type": "code",
      "source": [
        "A = np.array([[2, -1], [4, 1]])\n",
        "\n",
        "# Calculate the eigenvalues and eigenvectors\n",
        "eigenvalues, eigenvectors = np.linalg.eig(A)\n",
        "\n",
        "print(\"Eigenvalues:\")\n",
        "print(eigenvalues)\n",
        "\n",
        "print(\"\\nEigenvectors:\")\n",
        "print(eigenvectors)"
      ],
      "metadata": {
        "id": "roFp-05zFvAY",
        "outputId": "76b88f27-8494-4021-81f0-081a9bfe4e6e",
        "colab": {
          "base_uri": "https://localhost:8080/"
        }
      },
      "execution_count": 81,
      "outputs": [
        {
          "output_type": "stream",
          "name": "stdout",
          "text": [
            "Eigenvalues:\n",
            "[1.5+1.93649167j 1.5-1.93649167j]\n",
            "\n",
            "Eigenvectors:\n",
            "[[0.1118034 +0.4330127j 0.1118034 -0.4330127j]\n",
            " [0.89442719+0.j        0.89442719-0.j       ]]\n"
          ]
        }
      ]
    },
    {
      "cell_type": "markdown",
      "source": [
        "Example 2: Eigenvalues and Eigenvectors of a 3x3 Matrix"
      ],
      "metadata": {
        "id": "D0Hp4kTSF3Vv"
      }
    },
    {
      "cell_type": "code",
      "source": [
        "# 3x3 matrix\n",
        "B = np.array([[1, 2, 3], [0, 4, 5], [0, 0, 6]])\n",
        "\n",
        "# Calculate the eigenvalues and eigenvectors\n",
        "eigenvalues, eigenvectors = np.linalg.eig(B)\n",
        "\n",
        "print(\"Eigenvalues:\")\n",
        "print(eigenvalues)\n",
        "\n",
        "print(\"\\nEigenvectors:\")\n",
        "print(eigenvectors)"
      ],
      "metadata": {
        "id": "aHwVsJxwF3_s",
        "outputId": "3ac09b8f-81b8-49b0-cd0f-f3023fbffb5c",
        "colab": {
          "base_uri": "https://localhost:8080/"
        }
      },
      "execution_count": 82,
      "outputs": [
        {
          "output_type": "stream",
          "name": "stdout",
          "text": [
            "Eigenvalues:\n",
            "[1. 4. 6.]\n",
            "\n",
            "Eigenvectors:\n",
            "[[1.         0.5547002  0.51084069]\n",
            " [0.         0.83205029 0.79818857]\n",
            " [0.         0.         0.31927543]]\n"
          ]
        }
      ]
    }
  ]
}