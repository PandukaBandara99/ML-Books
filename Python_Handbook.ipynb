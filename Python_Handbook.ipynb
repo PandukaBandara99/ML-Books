{
  "nbformat": 4,
  "nbformat_minor": 0,
  "metadata": {
    "colab": {
      "provenance": [],
      "toc_visible": true,
      "authorship_tag": "ABX9TyPkeBU4jjR8yAiOgv1YvsDa",
      "include_colab_link": true
    },
    "kernelspec": {
      "name": "python3",
      "display_name": "Python 3"
    },
    "language_info": {
      "name": "python"
    }
  },
  "cells": [
    {
      "cell_type": "markdown",
      "metadata": {
        "id": "view-in-github",
        "colab_type": "text"
      },
      "source": [
        "<a href=\"https://colab.research.google.com/github/PandukaBandara99/ML-Books/blob/main/Python_Handbook.ipynb\" target=\"_parent\"><img src=\"https://colab.research.google.com/assets/colab-badge.svg\" alt=\"Open In Colab\"/></a>"
      ]
    },
    {
      "cell_type": "markdown",
      "source": [
        "Mahela Panduka Bandara ; <br> UG @ Dpt. of Electronic & Electrical Engineering ;<br> University of Peradeniya ;<br> 2023/03 <br><br> Email : e19039@end.pdn.ac.lk <br> LinkedIN : https://www.linkedin.com/in/pandukabandara/"
      ],
      "metadata": {
        "id": "m5W1T68LRsLY"
      }
    },
    {
      "cell_type": "markdown",
      "source": [
        "# 2.0 Object Oriented Programming"
      ],
      "metadata": {
        "id": "-1sRLscjRvIG"
      }
    },
    {
      "cell_type": "markdown",
      "source": [
        "## 2.1 Introduction"
      ],
      "metadata": {
        "id": "kmHLGEk5Rz6p"
      }
    },
    {
      "cell_type": "markdown",
      "source": [
        "Object-Oriented Programming (OOP) is a programming paradigm that emphasizes the use of objects, which are instances of classes, to structure and organize code. Python fully supports OOP, allowing developers to create classes, define attributes and methods, and create objects based on those classes.\n",
        "\n",
        "1. **Classes and Objects:**\n",
        "   - A class is a blueprint that defines the attributes and behavior of an object.\n",
        "   - To create a class, use the `class` keyword followed by the class name. Inside the class, define attributes and methods.\n",
        "   - An object is an instance of a class. You can create multiple objects based on a single class.\n",
        "\n",
        "2. **Attributes:**\n",
        "   - Attributes are variables associated with a class or object. They hold data that describes the state of the object.\n",
        "   - Class attributes are shared among all instances of the class, while instance attributes are specific to each object.\n",
        "   - You can define attributes within the class using the `self` keyword to refer to the instance of the class.\n",
        "\n",
        "3. **Methods:**\n",
        "   - Methods are functions defined within a class that perform actions on objects or manipulate object data.\n",
        "   - Instance methods take the `self` parameter, which represents the instance calling the method.\n",
        "   - Class methods are defined using the `@classmethod` decorator and take the `cls` parameter, representing the class itself.\n",
        "   - Static methods are defined using the `@staticmethod` decorator and do not take any specific instance or class parameters.\n",
        "\n",
        "4. **Inheritance:**\n",
        "   - Inheritance is a mechanism where a class inherits properties and behavior from another class, called the superclass or base class.\n",
        "   - The derived class, also known as the subclass or child class, can extend or override the attributes and methods of the base class.\n",
        "   - In Python, you can define inheritance by specifying the base class in parentheses when creating a new class.\n",
        "\n",
        "5. **Encapsulation:**\n",
        "   - Encapsulation is the process of hiding the internal details of a class and providing a public interface for interacting with the class.\n",
        "   - You can control access to attributes and methods using access specifiers: public (default), private (prefixed with double underscore), and protected (prefixed with single underscore).\n",
        "\n",
        "6. **Polymorphism:**\n",
        "   - Polymorphism allows objects of different classes to be treated as objects of a common superclass.\n",
        "   - It enables methods with the same name to behave differently based on the object type they are invoked on.\n",
        "   - Polymorphism in Python is achieved through method overriding and method overloading.\n",
        "\n",
        "OOP in Python provides a structured and modular approach to programming, promoting code reuse, maintainability, and abstraction. By defining classes and objects, you can create organized and flexible code that models real-world entities or abstract concepts."
      ],
      "metadata": {
        "id": "eidj52MJSWJ-"
      }
    },
    {
      "cell_type": "markdown",
      "source": [
        "**Summery:**"
      ],
      "metadata": {
        "id": "XcurWBQBSj_f"
      }
    },
    {
      "cell_type": "markdown",
      "source": [
        "\n",
        "| Topic                     | Explanation                                                                 |\n",
        "|---------------------------|------------------------------------------------------------------------------|\n",
        "| Classes and Objects       | - Blueprints that define attributes and behavior                               |\n",
        "|                           | - Objects are instances of classes                                            |\n",
        "| Attributes                | - Variables associated with classes or objects                                |\n",
        "|                           | - Class attributes are shared, instance attributes are specific to objects    |\n",
        "| Methods                   | - Functions defined within classes                                            |\n",
        "|                           | - Perform actions on objects or manipulate data                              |\n",
        "| Inheritance               | - Mechanism for inheriting properties and behavior                            |\n",
        "|                           | - Subclass extends or overrides base class attributes and methods             |\n",
        "| Encapsulation             | - Hiding internal details and providing a public interface                    |\n",
        "|                           | - Control access with access specifiers (public, private, protected)          |\n",
        "| Polymorphism              | - Objects of different classes treated as objects of a common superclass      |\n",
        "|                           | - Methods with the same name behave differently based on object type          |\n"
      ],
      "metadata": {
        "id": "5veO1AllSnOt"
      }
    },
    {
      "cell_type": "markdown",
      "source": [
        "##2.2 Classes And Objects"
      ],
      "metadata": {
        "id": "PFCNyyRZSqNe"
      }
    },
    {
      "cell_type": "markdown",
      "source": [
        "\n",
        "\n",
        "1. **Defining a Class:**\n",
        "   - To define a class, use the `class` keyword followed by the class name, which typically starts with an uppercase letter.\n",
        "   - The class can have attributes (variables) and methods (functions) defined within it.\n",
        "   - Example:\n",
        "     ```python\n",
        "     class Car:\n",
        "         pass\n",
        "     ```\n",
        "\n",
        "2. **Creating Objects (Instances):**\n",
        "   - Objects are instances of a class, created using the class name followed by parentheses.\n",
        "   - This invokes the class's special method called the constructor (`__init__()`), which initializes the object.\n",
        "   - Example:\n",
        "     ```python\n",
        "     my_car = Car()\n",
        "     ```\n",
        "\n",
        "3. **Class Attributes:**\n",
        "   - Class attributes are variables that are shared among all instances of the class.\n",
        "   - They are defined within the class but outside of any methods.\n",
        "   - Class attributes can be accessed using the class name or any object of the class.\n",
        "   - Example:\n",
        "     ```python\n",
        "     class Car:\n",
        "         wheels = 4\n",
        "\n",
        "     print(Car.wheels)  # Output: 4\n",
        "     my_car = Car()\n",
        "     print(my_car.wheels)  # Output: 4\n",
        "     ```\n",
        "\n",
        "4. **Instance Attributes:**\n",
        "   - Instance attributes are specific to each object (instance) of the class.\n",
        "   - They are defined within the class's constructor (`__init__()` method) and accessed using the `self` keyword.\n",
        "   - Example:\n",
        "     ```python\n",
        "     class Car:\n",
        "         def __init__(self, color):\n",
        "             self.color = color\n",
        "\n",
        "     my_car = Car(\"blue\")\n",
        "     print(my_car.color)  # Output: \"blue\"\n",
        "     ```\n",
        "\n",
        "5. **Methods:**\n",
        "   - Methods are functions defined within a class that perform actions on objects or manipulate object data.\n",
        "   - They are defined inside the class and can access attributes through the `self` parameter.\n",
        "   - Example:\n",
        "     ```python\n",
        "     class Car:\n",
        "         def __init__(self, color):\n",
        "             self.color = color\n",
        "\n",
        "         def drive(self):\n",
        "             print(\"The car is driving.\")\n",
        "\n",
        "     my_car = Car(\"blue\")\n",
        "     my_car.drive()  # Output: \"The car is driving.\"\n",
        "     ```\n",
        "\n",
        "6. **Class and Instance Variables:**\n",
        "   - Class variables are shared among all instances and can be accessed using the class name or any object.\n",
        "   - Instance variables are specific to each object and can be accessed using the `self` keyword.\n",
        "   - Example:\n",
        "     ```python\n",
        "     class Car:\n",
        "         wheels = 4\n",
        "\n",
        "         def __init__(self, color):\n",
        "             self.color = color\n",
        "\n",
        "     print(Car.wheels)  # Output: 4\n",
        "\n",
        "     my_car = Car(\"blue\")\n",
        "     print(my_car.color)  # Output: \"blue\"\n",
        "     ```\n",
        "\n",
        "7. **Special Methods:**\n",
        "   - Special methods (also called magic methods or dunder methods) provide functionality to classes.\n",
        "   - They are surrounded by double underscores and have predefined names.\n",
        "   - Examples of special methods include `__init__()` for object initialization, `__str__()` for string representation, `__len__()` for length calculation, etc.\n",
        "\n"
      ],
      "metadata": {
        "id": "ZW-ywO9uhX_p"
      }
    },
    {
      "cell_type": "markdown",
      "source": [
        "### 2.2.1  Example 1\n"
      ],
      "metadata": {
        "id": "3_79CKrCjTo1"
      }
    },
    {
      "cell_type": "code",
      "source": [
        "# Define a class ~> Data Type\n",
        "class ItemE1:\n",
        "  pass\n",
        "\n",
        "# Instsnce & assign properties\n",
        "item1 = ItemE1()\n",
        "item1.name = \"Phone\"\n",
        "item1.price = 100\n",
        "item1.quantity = 5\n",
        "\n",
        "print(type(item1))           #item <data type> ~> <class '__main__.ItemE1'>\n",
        "print(type(item1.name))      # str\n",
        "print(type(item1.price))     #int\n",
        "print(type(item1.quantity))  #int\n",
        "\n",
        "print(item1.name.upper())"
      ],
      "metadata": {
        "colab": {
          "base_uri": "https://localhost:8080/"
        },
        "id": "JKYMe1dujXrW",
        "outputId": "122ca58b-9b9d-475e-ee2c-ebc168e1388c"
      },
      "execution_count": 30,
      "outputs": [
        {
          "output_type": "stream",
          "name": "stdout",
          "text": [
            "<class '__main__.ItemE1'>\n",
            "<class 'str'>\n",
            "<class 'int'>\n",
            "<class 'int'>\n",
            "PHONE\n"
          ]
        }
      ]
    },
    {
      "cell_type": "markdown",
      "source": [
        "## 2.3 self"
      ],
      "metadata": {
        "id": "S-41Fh1WiV9d"
      }
    },
    {
      "cell_type": "markdown",
      "source": [
        "In object-oriented programming (OOP) in Python, the `self` attribute refers to the instance of a class that is being manipulated or accessed within a method. It is a convention to name the first parameter of instance methods as `self`, although you can choose any valid variable name.\n",
        "\n",
        "\n",
        "1. Reference to the Instance:\n",
        "   - When a method is called on an object, the object itself is passed as the first argument implicitly.\n",
        "   - By convention, this parameter is named `self` to indicate that it refers to the instance of the class.\n",
        "\n",
        "2. Accessing Instance Attributes:\n",
        "   - Within a method, you can use the `self` attribute to access instance attributes.\n",
        "   - Instance attributes are unique to each object and can hold different values.\n",
        "   - By prefixing the attribute name with `self`, you can access and modify its value.\n",
        "\n",
        "   Example:\n",
        "   ```python\n",
        "   class Car:\n",
        "       def __init__(self, color):\n",
        "           self.color = color\n",
        "\n",
        "       def drive(self):\n",
        "           print(f\"The {self.color} car is driving.\")\n",
        "\n",
        "   my_car = Car(\"blue\")\n",
        "   my_car.drive()  # Output: \"The blue car is driving.\"\n",
        "   ```\n",
        "\n",
        "3. Calling Other Methods:\n",
        "   - The `self` attribute allows you to call other methods of the same object within a method.\n",
        "   - You can invoke methods using the `self` attribute followed by the method name and parentheses.\n",
        "\n",
        "   Example:\n",
        "   ```python\n",
        "   class Car:\n",
        "       def __init__(self, color):\n",
        "           self.color = color\n",
        "\n",
        "       def start_engine(self):\n",
        "           # Perform some actions to start the engine\n",
        "           print(\"Engine started.\")\n",
        "\n",
        "       def drive(self):\n",
        "           self.start_engine()\n",
        "           print(f\"The {self.color} car is driving.\")\n",
        "\n",
        "   my_car = Car(\"red\")\n",
        "   my_car.drive()\n",
        "   # Output:\n",
        "   # \"Engine started.\"\n",
        "   # \"The red car is driving.\"\n",
        "   ```\n"
      ],
      "metadata": {
        "id": "Zo-ZhZF9io4k"
      }
    },
    {
      "cell_type": "markdown",
      "source": [
        "### 2.3.1 Example 2"
      ],
      "metadata": {
        "id": "4rGfyVp0knSS"
      }
    },
    {
      "cell_type": "code",
      "source": [
        "# Define a class ~> Data Type\n",
        "class ItemE2:\n",
        "\n",
        "  '''\n",
        "  Need to declare self argument since python passes the object(instance)\n",
        "  itself as the initial argument always. So, other variables comes after that.\n",
        "  It's nothing to use other name than self but , 'self' keyword is a common\n",
        "  naming convention.\n",
        "  '''\n",
        "  def calculateTotalPrice(self , price , quantity):\n",
        "    return price*quantity\n",
        "\n",
        "# Instsnce & assign properties\n",
        "item2 = ItemE2()\n",
        "item2.name = \"Phone\"\n",
        "item2.price = 1000\n",
        "item2.quantity = 3\n",
        "\n",
        "# It passes it self and other two variables to the method\n",
        "print(item2.calculateTotalPrice(item2.price,item2.quantity))"
      ],
      "metadata": {
        "colab": {
          "base_uri": "https://localhost:8080/"
        },
        "id": "FP0E-nx5k0Hm",
        "outputId": "1fbe6723-9498-4dfe-f6d2-17abc79bb196"
      },
      "execution_count": 31,
      "outputs": [
        {
          "output_type": "stream",
          "name": "stdout",
          "text": [
            "3000\n"
          ]
        }
      ]
    },
    {
      "cell_type": "markdown",
      "source": [
        "## 2.4 Class Attributes"
      ],
      "metadata": {
        "id": "DwnBs9Ly2Aci"
      }
    },
    {
      "cell_type": "markdown",
      "source": [
        "Class attributes are variables that are defined within a class but outside of any methods. They are shared among all instances of the class and can be accessed using **either the class name or an instance of the class**. Class attributes are defined at the class level and are the same for all objects of that class.\n",
        "\n",
        "1. Definition and Access:\n",
        "   - Class attributes are defined directly within the class body, outside of any methods.\n",
        "   - They are accessed using the class name or an instance of the class.\n",
        "\n",
        "2. Shared Among Instances:\n",
        "   - Class attributes are shared among all instances of the class.\n",
        "   - When an instance accesses or modifies a class attribute, the change is reflected across all instances.\n",
        "\n",
        "3. Initialization:\n",
        "   - Class attributes are typically initialized when they are defined, similar to global variables.\n",
        "   - They can also be modified or accessed within methods using the class name or the `self` keyword.\n",
        "\n",
        "4. Visibility:\n",
        "   - Class attributes are visible to all instances of the class and can be accessed by all instances.\n",
        "   - They can also be accessed from outside the class using the class name.\n",
        "\n"
      ],
      "metadata": {
        "id": "vwz5fWqd2DK3"
      }
    },
    {
      "cell_type": "markdown",
      "source": [
        "### 2.4.1 Example 3"
      ],
      "metadata": {
        "id": "mhTWwE3h4L4z"
      }
    },
    {
      "cell_type": "code",
      "source": [
        "class Car:\n",
        "    color = \"Red\"  # Class attribute\n",
        "\n",
        "    def __init__(self, brand):\n",
        "        self.brand = brand  # Instance attribute\n",
        "\n",
        "    def get_color(self):\n",
        "        return self.color  # Accessing class attribute using self\n",
        "\n",
        "car1 = Car(\"Toyota\")\n",
        "car2 = Car(\"Honda\")\n",
        "\n",
        "print(car1.brand)  # Output: Toyota\n",
        "print(car2.brand)  # Output: Honda\n",
        "print(car1.color)  # Output: Red\n",
        "print(car2.color)  # Output: Red\n",
        "\n",
        "print(Car.color)  # Output: Red\n",
        "\n",
        "car1.color = \"Blue\"\n",
        "print(car1.color)  # Output: Blue\n",
        "print(car2.color)  # Output: Red"
      ],
      "metadata": {
        "colab": {
          "base_uri": "https://localhost:8080/"
        },
        "id": "aBXxQktO2PKY",
        "outputId": "296ad2bb-c646-4594-d30f-a4544b916cac"
      },
      "execution_count": 32,
      "outputs": [
        {
          "output_type": "stream",
          "name": "stdout",
          "text": [
            "Toyota\n",
            "Honda\n",
            "Red\n",
            "Red\n",
            "Red\n",
            "Blue\n",
            "Red\n"
          ]
        }
      ]
    },
    {
      "cell_type": "markdown",
      "source": [
        "\n",
        "In the example, `color` is a class attribute defined within the `Car` class. It is shared among all instances of the class. The `brand` attribute is an instance attribute specific to each instance of the class. The `get_color()` method accesses the class attribute using `self.color`.\n",
        "\n",
        "Class attributes are useful when need to store data that is shared among all instances of a class, such as default values, constants, or common properties. They provide a way to define and manage data at the class level, ensuring consistency across all instances."
      ],
      "metadata": {
        "id": "4od0-vdt2Rg6"
      }
    },
    {
      "cell_type": "markdown",
      "source": [
        "### 2.4.2 Example 4"
      ],
      "metadata": {
        "id": "P4qKJAuY4OX6"
      }
    },
    {
      "cell_type": "code",
      "source": [
        "class ItemX:\n",
        "  rate = 0.8\n",
        "\n",
        "  #Recieves it self,name , price value and the quanntity\n",
        "  def __init__(self,namePassed ,pricePassed,quantityPassed = 0):\n",
        "\n",
        "    #Assign the properties to the object(self)\n",
        "    self.name = namePassed\n",
        "    self.price = pricePassed\n",
        "    self.quantity = quantityPassed\n",
        "\n",
        "  def calculatePrice(self):\n",
        "    return self.price*self.quantity\n",
        "  def apply_discount(self):\n",
        "    # Note that class attributes cannot access directly!\n",
        "    self.price = self.price*self.rate   #or  ItemX.rate ~> Not recomended\n",
        "\n",
        "#Instance\n",
        "itemX = ItemX(\"Laptop\",1000,1)\n",
        "\n",
        "#Calculate and print price\n",
        "print(f\"Price is : {itemX.calculatePrice()}\")\n",
        "\n",
        "#Apply discount\n",
        "itemX.apply_discount()\n",
        "\n",
        "#Print value after discount\n",
        "print(f\"Price is : {itemX.calculatePrice()}\")\n",
        "\n",
        "# Update the discount value\n",
        "itemX.rate = 0.25\n",
        "\n",
        "#Apply discount\n",
        "itemX.apply_discount()\n",
        "\n",
        "#Print value after discount\n",
        "print(f\"Price is : {itemX.calculatePrice()}\")"
      ],
      "metadata": {
        "colab": {
          "base_uri": "https://localhost:8080/"
        },
        "id": "-7AdRM9n4SFz",
        "outputId": "2ac5182c-490f-4a41-cb18-9c556452693d"
      },
      "execution_count": 47,
      "outputs": [
        {
          "output_type": "stream",
          "name": "stdout",
          "text": [
            "Price is : 1000\n",
            "Price is : 800.0\n",
            "Price is : 200.0\n"
          ]
        }
      ]
    },
    {
      "cell_type": "markdown",
      "source": [
        "##2.5 Magic Methods"
      ],
      "metadata": {
        "id": "pzcIVMiZm3WE"
      }
    },
    {
      "cell_type": "markdown",
      "source": [
        "Magic methods, also known as special methods or dunder (double underscore) methods, are predefined methods in Python that allows to define behavior for  custom classes. They are surrounded by double underscores at the beginning and end of their names.\n",
        "\n",
        "|        Method        |                            Explanation                            |\n",
        "|----------------------|-------------------------------------------------------------------|\n",
        "| `__init__(self, ...)`    | Initializes an object of a class with specified attributes        |\n",
        "| `__str__(self)`          | Returns a string representation of the object                     |\n",
        "| `__repr__(self)`         | Returns a string representation that can be used to recreate the object |\n",
        "| `__len__(self)`          | Returns the length of the object                                  |\n",
        "| `__getitem__(self, key)` | Enables accessing an item in the object using square bracket notation |\n",
        "| `__setitem__(self, key, value)` | Enables setting a value for an item in the object using square bracket notation |\n",
        "| `__delitem__(self, key)` | Enables deleting an item from the object using the `del` statement |\n",
        "| `__add__(self, other)`   | Defines behavior for the addition operation (`+`) between objects |\n",
        "| `__sub__(self, other)`   | Defines behavior for the subtraction operation (`-`) between objects |\n",
        "| `__eq__(self, other)`    | Defines behavior for equality comparison (`==`) between objects   |\n",
        "| `__lt__(self, other)`    | Defines behavior for less-than comparison (`<`) between objects   |\n",
        "| `__gt__(self, other)`    | Defines behavior for greater-than comparison (`>`) between objects |\n",
        "| `__call__(self, ...)`    | Allows an object to be called as a function                         |\n"
      ],
      "metadata": {
        "id": "rCl5eOFfnXC4"
      }
    },
    {
      "cell_type": "markdown",
      "source": [
        "###2.5.1 \\_\\_init\\_\\_"
      ],
      "metadata": {
        "id": "AF81lzBqnh9l"
      }
    },
    {
      "cell_type": "markdown",
      "source": [
        "**Example**:"
      ],
      "metadata": {
        "id": "t5g3Zga8mxpx"
      }
    },
    {
      "cell_type": "code",
      "source": [
        "class Item3:\n",
        "  rate = 0.5\n",
        "  #Recieves it self,name , price value and the quanntity\n",
        "  def __init__(self,namePassed ,pricePassed,quantityPassed = 0):\n",
        "    #Assign the properties to the object(self)\n",
        "    self.name = namePassed\n",
        "    self.price = pricePassed\n",
        "    self.quantity = quantityPassed\n",
        "  def calculatePrice(self):\n",
        "    return self.price*self.quantity\n",
        "\n",
        "item3 = Item3(\"Laptop\",1000,1)\n",
        "\n",
        "print(item3.name)\n",
        "print(item3.price)\n",
        "print(item3.quantity)\n",
        "print(f\"Price is : {item3.calculatePrice()}\")\n",
        "\n",
        "print(item3.rate)"
      ],
      "metadata": {
        "colab": {
          "base_uri": "https://localhost:8080/"
        },
        "id": "lGRonoacmxTk",
        "outputId": "3912ae7b-00da-49b3-f50d-b630f2cd0d0e"
      },
      "execution_count": 33,
      "outputs": [
        {
          "output_type": "stream",
          "name": "stdout",
          "text": [
            "Laptop\n",
            "1000\n",
            "1\n",
            "Price is : 1000\n",
            "0.5\n"
          ]
        }
      ]
    },
    {
      "cell_type": "markdown",
      "source": [
        "### 2.5.2 \\_\\_dict\\_\\_"
      ],
      "metadata": {
        "id": "kYy6KuWj259C"
      }
    },
    {
      "cell_type": "markdown",
      "source": [
        " `__dict__` attribute is a dictionary that stores the namespace of a class or an instance. It contains all the attributes (variables and methods) defined within the class or associated with the instance as key-value pairs.\n",
        "\n",
        "\n",
        "1. Class `__dict__`:\n",
        "   - For a class, `__dict__` contains the class-level attributes, including class variables and methods.\n",
        "   - It provides a way to access and modify the attributes of the class directly.\n",
        "\n",
        "2. Instance `__dict__`:\n",
        "   - For an instance of a class, `__dict__` contains the instance-specific attributes.\n",
        "   - It includes both the instance variables (attributes) and any attributes inherited from the class.\n",
        "\n",
        "3. Dictionary Structure:\n",
        "   - The `__dict__` attribute is implemented as a dictionary, where attribute names are the keys, and the corresponding values are the attribute values.\n",
        "   - The dictionary allows accessing and manipulating attributes dynamically at runtime.\n",
        "\n",
        "\n"
      ],
      "metadata": {
        "id": "MNS6m39h3S5d"
      }
    },
    {
      "cell_type": "code",
      "source": [
        "print(Item3.__dict__) # All the attribiutes for class level\n",
        "print(item3.__dict__) # All the attribiutes for instance level ~> Note the rate and function does not inclued"
      ],
      "metadata": {
        "colab": {
          "base_uri": "https://localhost:8080/"
        },
        "id": "0AbzOvwe3eFL",
        "outputId": "ca63de0e-f0cd-4c96-a052-dcd878a97014"
      },
      "execution_count": 34,
      "outputs": [
        {
          "output_type": "stream",
          "name": "stdout",
          "text": [
            "{'__module__': '__main__', 'rate': 0.5, '__init__': <function Item3.__init__ at 0x7fe8dbc95870>, 'calculatePrice': <function Item3.calculatePrice at 0x7fe8dbc95090>, '__dict__': <attribute '__dict__' of 'Item3' objects>, '__weakref__': <attribute '__weakref__' of 'Item3' objects>, '__doc__': None}\n",
            "{'name': 'Laptop', 'price': 1000, 'quantity': 1}\n"
          ]
        }
      ]
    },
    {
      "cell_type": "markdown",
      "source": [
        "##2.6 Type Hints"
      ],
      "metadata": {
        "id": "XVHmcgP8rPqB"
      }
    },
    {
      "cell_type": "markdown",
      "source": [
        "Type hints in Python are a way to specify the expected types of variables, function arguments, and return values. They provide additional information about the types used in your code, which can help improve code readability, maintainability, and enable static type checking.\n",
        "\n",
        "\n",
        "1. Variable Annotations:\n",
        "   Annotate variables using the `:` syntax to indicate their expected type.\n",
        "   ```python\n",
        "   age: int = 25\n",
        "   name: str = \"John\"\n",
        "   ```\n",
        "\n",
        "2. Function Annotations:\n",
        "   Function arguments and return values can be annotated using the `:` syntax.\n",
        "   ```python\n",
        "   def greet(name: str) -> str:\n",
        "       return \"Hello, \" + name\n",
        "   ```\n",
        "\n",
        "3. Optional Types:\n",
        "   You can indicate that a variable or function argument is optional by using the `typing.Optional` type.\n",
        "   ```python\n",
        "   from typing import Optional\n",
        "\n",
        "   def say_hello(name: Optional[str]) -> str:\n",
        "       if name:\n",
        "           return \"Hello, \" + name\n",
        "       else:\n",
        "           return \"Hello, stranger\"\n",
        "   ```\n",
        "\n",
        "4. Union Types:\n",
        "   Union types allow specifying that a variable or function argument can have multiple possible types.\n",
        "   ```python\n",
        "   from typing import Union\n",
        "\n",
        "   def add(x: Union[int, float], y: Union[int, float]) -> Union[int, float]:\n",
        "       return x + y\n",
        "   ```\n",
        "\n",
        "5. Type Aliases:\n",
        "   Type aliases provide a way to define custom type names for complex types or to make the code more readable.\n",
        "   ```python\n",
        "   from typing import List\n",
        "\n",
        "   Vector = List[float]\n",
        "\n",
        "   def scale(scalar: float, vector: Vector) -> Vector:\n",
        "       return [scalar * num for num in vector]\n",
        "   ```\n",
        "\n",
        "Type hints are optional and do not affect the runtime behavior of the code. They are primarily used by static type checkers, such as `mypy`, to analyze the code and detect potential type-related issues."
      ],
      "metadata": {
        "id": "spBTLKFGrTIw"
      }
    },
    {
      "cell_type": "markdown",
      "source": [
        "###2.6.1 Example 5"
      ],
      "metadata": {
        "id": "BgJdTVzOrvCb"
      }
    },
    {
      "cell_type": "code",
      "source": [
        "class Item4:\n",
        "  #Recieves it self,name , price value and the quanntity\n",
        "  def __init__(self,namePassed : str ,pricePassed :float ,quantityPassed : int):\n",
        "    #Assign the properties to the object(self)\n",
        "    self.name = namePassed\n",
        "    self.price = pricePassed\n",
        "    self.quantity = quantityPassed\n",
        "  def calculatePrice(self) -> float:\n",
        "    return self.price*self.quantity\n",
        "\n",
        "item4 = Item4(\"Laptop\",1000,1)\n",
        "\n",
        "print(item4.name)\n",
        "print(item4.price)\n",
        "print(item4.quantity)\n",
        "print(f\"Price is : {item4.calculatePrice()}\")"
      ],
      "metadata": {
        "colab": {
          "base_uri": "https://localhost:8080/"
        },
        "id": "PwEKc7ytrxUZ",
        "outputId": "3b56008b-b154-4f5f-9e3d-6150ba4ffe3a"
      },
      "execution_count": 35,
      "outputs": [
        {
          "output_type": "stream",
          "name": "stdout",
          "text": [
            "Laptop\n",
            "1000\n",
            "1\n",
            "Price is : 1000\n"
          ]
        }
      ]
    },
    {
      "cell_type": "markdown",
      "source": [
        "## 2.7 Assert Statement"
      ],
      "metadata": {
        "id": "d03u_54cs7Zr"
      }
    },
    {
      "cell_type": "markdown",
      "source": [
        "The `assert` statement is a useful tool in Python for testing assumptions and ensuring that specific conditions are met. It allows to check if a given expression evaluates to `True` and raises an `AssertionError` if the expression evaluates to `False`. The `assert` statement can be used during development to detect logical errors or to validate input/output conditions.\n",
        "\n",
        "The syntax for using the `assert` statement is as follows:\n",
        "\n",
        "```python\n",
        "assert expression, message\n",
        "```\n",
        "\n",
        "- The `expression` is the condition that need to be checked. If it evaluates to `True`, the program continues execution as normal. If it evaluates to `False`, an `AssertionError` is raised.\n",
        "- The optional `message` parameter is an informative string that can be included to provide more details about the assertion.\n",
        "\n",
        "Some key points about the `assert` statement:\n",
        "\n",
        "1. Use Cases:\n",
        "   - Debugging: `assert` statements can help catch logical errors during development.\n",
        "   - Input Validation: `assert` can be used to validate input conditions and assumptions.\n",
        "   - Post-conditions: `assert` can be used to verify that specific conditions hold true after a function or method call.\n",
        "\n",
        "2. Behavior:\n",
        "   - If the `expression` is `False`, an `AssertionError` is raised, halting program execution.\n",
        "   - If the `expression` is `True`, the program continues execution without any impact.\n",
        "   - The `AssertionError` typically includes the `message` parameter, providing details about the failed assertion.\n",
        "\n",
        "3. Best Practices:\n",
        "   - Use `assert` for conditions that should never occur or indicate a bug in the code.\n",
        "   - Avoid using `assert` for input validation in production code. Instead, use explicit checks and exception handling.\n",
        "\n",
        "\n",
        "\n",
        "```python\n",
        "def divide(a, b):\n",
        "    assert b != 0, \"Cannot divide by zero\"\n",
        "    return a / b\n",
        "\n",
        "result = divide(10, 0)\n",
        "# Output: AssertionError: Cannot divide by zero\n",
        "```\n",
        "\n",
        "In the example, the `assert` statement checks if `b` is not equal to zero before performing division. Since the assertion fails, an `AssertionError` is raised with the provided message.\n",
        "\n",
        "It's important to note that the `assert` statement is primarily used during development and debugging. In production code, it's recommended to handle exceptions explicitly and provide meaningful error messages to handle exceptional conditions gracefully.\n"
      ],
      "metadata": {
        "id": "GV24dBZ_tB8-"
      }
    },
    {
      "cell_type": "markdown",
      "source": [
        "### 2.7.1 Example 6\n"
      ],
      "metadata": {
        "id": "8q__Fxlatkha"
      }
    },
    {
      "cell_type": "code",
      "source": [
        "class Item5:\n",
        "  #Recieves it self,name , price value and the quanntity\n",
        "  def __init__(self,namePassed : str ,pricePassed :float ,quantityPassed : int):\n",
        "\n",
        "    #Validation\n",
        "    assert pricePassed >= 0 , f\"Price {pricePassed} is lower than zero\"\n",
        "    assert quantityPassed >= 0 ,  f\"Quantity {quantityPassed} is lower than zero\"\n",
        "\n",
        "    #Assign the properties to the object(self)\n",
        "    self.name = namePassed\n",
        "    self.price = pricePassed\n",
        "    self.quantity = quantityPassed\n",
        "\n",
        "  def calculatePrice(self) -> float:\n",
        "    return self.price*self.quantity\n",
        "\n",
        "item5 = Item5(\"Laptop\",1000,1)\n",
        "\n"
      ],
      "metadata": {
        "id": "7NkAFePZt25K"
      },
      "execution_count": 36,
      "outputs": []
    },
    {
      "cell_type": "markdown",
      "source": [
        "### 2.7.2 Example 7 : Object List"
      ],
      "metadata": {
        "id": "MlRlCmJQ7BhG"
      }
    },
    {
      "cell_type": "code",
      "source": [
        "class Item7:\n",
        "  rate = 0.8\n",
        "  all  = []\n",
        "  # Since it is a class attribute It's a common attribute for all\n",
        "  # Think like , class attributes are like attributes inside a parent object\n",
        "  # Instance attributes are like attributes inside each child\n",
        "\n",
        "  def __init__(self,namePassed : str ,pricePassed :float ,quantityPassed : int):\n",
        "\n",
        "    #Validation\n",
        "    assert pricePassed >= 0 , f\"Price {pricePassed} is lower than zero\"\n",
        "    assert quantityPassed >= 0 ,  f\"Quantity {quantityPassed} is lower than zero\"\n",
        "\n",
        "    #Assign the properties to the object(self)\n",
        "    self.name = namePassed\n",
        "    self.price = pricePassed\n",
        "    self.quantity = quantityPassed\n",
        "\n",
        "    #Update the All list\n",
        "    Item7.all.append(self)\n",
        "\n",
        "  def calculatePrice(self) -> float:\n",
        "    return self.price*self.quantity\n",
        "\n",
        "  def apply_discount(self):\n",
        "    self.price = self.price*self.rate\n",
        "\n",
        "item7_1 = Item7(\"Laptop\",1000,1)\n",
        "item7_2 = Item7(\"Phone\",250,3)\n",
        "item7_3 = Item7(\"Tablet\",350,2)\n",
        "item7_4 = Item7(\"S-Watch\",100,6)\n",
        "\n",
        "print(Item7.all) # Shows 4 item object array"
      ],
      "metadata": {
        "colab": {
          "base_uri": "https://localhost:8080/"
        },
        "id": "VUUTdwKT7Mdb",
        "outputId": "3985d559-f30d-4754-dfdc-b62f24c875fa"
      },
      "execution_count": 49,
      "outputs": [
        {
          "output_type": "stream",
          "name": "stdout",
          "text": [
            "[<__main__.Item7 object at 0x7fe8dbedd4e0>, <__main__.Item7 object at 0x7fe8dbedd2a0>, <__main__.Item7 object at 0x7fe8dbeddf30>, <__main__.Item7 object at 0x7fe8dbedd930>]\n"
          ]
        }
      ]
    },
    {
      "cell_type": "code",
      "source": [
        "for i in Item7.all:\n",
        "  print(i.name)"
      ],
      "metadata": {
        "colab": {
          "base_uri": "https://localhost:8080/"
        },
        "id": "5ZjYrkuQ7HRX",
        "outputId": "8ba08473-fbde-43e9-9c12-6d6bc29c036c"
      },
      "execution_count": 50,
      "outputs": [
        {
          "output_type": "stream",
          "name": "stdout",
          "text": [
            "Laptop\n",
            "Phone\n",
            "Tablet\n",
            "S-Watch\n"
          ]
        }
      ]
    },
    {
      "cell_type": "markdown",
      "source": [
        "### 2.7.3 Example 8 : Object List with \\_\\_repr\\_\\_"
      ],
      "metadata": {
        "id": "eCpgIy6h_GZU"
      }
    },
    {
      "cell_type": "code",
      "source": [
        "class Item8:\n",
        "  rate = 0.8\n",
        "  all  = []\n",
        "  # Since it is a class attribute It's a common attribute for all\n",
        "  # Think like , class attributes are like attributes inside a parent object\n",
        "  # Instance attributes are like attributes inside each child\n",
        "\n",
        "  def __init__(self,namePassed : str ,pricePassed :float ,quantityPassed : int):\n",
        "\n",
        "    #Validation\n",
        "    assert pricePassed >= 0 , f\"Price {pricePassed} is lower than zero\"\n",
        "    assert quantityPassed >= 0 ,  f\"Quantity {quantityPassed} is lower than zero\"\n",
        "\n",
        "    #Assign the properties to the object(self)\n",
        "    self.name = namePassed\n",
        "    self.price = pricePassed\n",
        "    self.quantity = quantityPassed\n",
        "\n",
        "    #Update the All list\n",
        "    Item8.all.append(self)\n",
        "\n",
        "  def calculatePrice(self) -> float:\n",
        "    return self.price*self.quantity\n",
        "\n",
        "  def apply_discount(self):\n",
        "    self.price = self.price*self.rate\n",
        "\n",
        "  '''\n",
        "  Insted of the  objectID  __repr__ passes an string\n",
        "  The return string can be customized as required\n",
        "  The common practice is represent object as it's intance code like 'Item8(\"Laptop\",1000,1)'\n",
        "  '''\n",
        "  def __repr__(self):\n",
        "    return f\"Item8('{self.name}',{self.price},{self.quantity})\"\n",
        "\n",
        "item8_1 = Item8(\"Laptop\",1000,1)\n",
        "item8_2 = Item8(\"Phone\",250,3)\n",
        "item8_3 = Item8(\"Tablet\",350,2)\n",
        "item8_4 = Item8(\"S-Watch\",100,6)\n",
        "\n",
        "print(Item8.all) # Shows 4 item object array"
      ],
      "metadata": {
        "colab": {
          "base_uri": "https://localhost:8080/"
        },
        "id": "nyyKgpn1_F97",
        "outputId": "d449aafe-afb7-40f2-9abd-29b4121bdcc9"
      },
      "execution_count": 52,
      "outputs": [
        {
          "output_type": "stream",
          "name": "stdout",
          "text": [
            "[Item8('Laptop',1000,1), Item8('Phone',250,3), Item8('Tablet',350,2), Item8('S-Watch',100,6)]\n"
          ]
        }
      ]
    },
    {
      "cell_type": "markdown",
      "source": [
        "## 2.8 Class Methods"
      ],
      "metadata": {
        "id": "-o86sC_BCDYV"
      }
    },
    {
      "cell_type": "markdown",
      "source": [
        "A class method is a method that is bound to the class rather than an instance of the class. It is defined using the `@classmethod` decorator and can be accessed using either the class name or an instance of the class. Class methods have access to the class itself and can modify class-level attributes or perform operations that are relevant to the class as a whole. Here are some key points about class methods:\n",
        "\n",
        "1. **Definition and Syntax:**\n",
        "   - Class methods are defined using the `@classmethod` decorator before the method definition.\n",
        "   - The first parameter of a class method is conventionally named `cls` (short for \"class\"), which refers to the class itself.\n",
        "   - Class methods are typically defined within the class body but outside of any instances or instance methods.\n",
        "\n",
        "2. **Access:**\n",
        "   - Class methods can be accessed using the class name or an instance of the class.\n",
        "   - When accessed through the class name, the `cls` parameter is automatically passed to the method.\n",
        "   - When accessed through an instance, the instance is automatically passed as the `cls` parameter.\n",
        "\n",
        "3. **Purpose:**\n",
        "   - Class methods are often used to define alternative constructors or provide utility methods related to the class.\n",
        "   - They can be used to modify class attributes or perform operations that involve the class as a whole.\n",
        "\n",
        "\n",
        "\n",
        "\n"
      ],
      "metadata": {
        "id": "Oq2mSNAXCF5_"
      }
    },
    {
      "cell_type": "markdown",
      "source": [
        "### 2.8.1 Example 9"
      ],
      "metadata": {
        "id": "uPcAdFS5CaSW"
      }
    },
    {
      "cell_type": "code",
      "source": [
        "class Circle:\n",
        "    pi = 3.14159  # Class attribute\n",
        "\n",
        "    def __init__(self, radius):\n",
        "        self.radius = radius  # Instance attribute\n",
        "\n",
        "    @classmethod\n",
        "    def from_diameter(cls, diameter):\n",
        "        radius = diameter / 2\n",
        "        return cls(radius)\n",
        "\n",
        "    def calculate_area(self):\n",
        "        return self.pi * self.radius * self.radius\n",
        "\n",
        "circle1 = Circle(5)\n",
        "circle2 = Circle.from_diameter(10)\n",
        "\n",
        "print(circle1.calculate_area())  # Output: 78.53975\n",
        "print(circle2.calculate_area())  # Output: 78.53975"
      ],
      "metadata": {
        "colab": {
          "base_uri": "https://localhost:8080/"
        },
        "id": "ELKGI8CWCYzX",
        "outputId": "95dcb622-b40f-4a27-c3f0-e874c9209f3c"
      },
      "execution_count": 53,
      "outputs": [
        {
          "output_type": "stream",
          "name": "stdout",
          "text": [
            "78.53975\n",
            "78.53975\n"
          ]
        }
      ]
    },
    {
      "cell_type": "markdown",
      "source": [
        "```python\n",
        "class Item8:\n",
        "  rate = 0.8\n",
        "  all  = []\n",
        "  def __init__(self,namePassed : str ,pricePassed :float ,quantityPassed : int):\n",
        "\n",
        "    #Validation\n",
        "    assert pricePassed >= 0 , f\"Price {pricePassed} is lower than zero\"\n",
        "    assert quantityPassed >= 0 ,  f\"Quantity {quantityPassed} is lower than zero\"\n",
        "\n",
        "    self.name = namePassed\n",
        "    self.price = pricePassed\n",
        "    self.quantity = quantityPassed\n",
        "\n",
        "    Item8.all.append(self)\n",
        "\n",
        "  def calculatePrice(self) -> float:\n",
        "    return self.price*self.quantity\n",
        "\n",
        "  def apply_discount(self):\n",
        "    self.price = self.price*self.rate\n",
        "\n",
        "  # Create objects from CSV ~> used classs method since it's a utility\n",
        "  @classmethod\n",
        "  def instantiateFromCSV(cls):\n",
        "\n",
        "    with open('items.csv','r') as f:\n",
        "      reader = csv.DictReader(f)\n",
        "      items = list(reader)\n",
        "\n",
        "    for i in items:\n",
        "      Item8(\n",
        "        name = i.get('name'),\n",
        "        price = float(i.get('price')),\n",
        "        quantity = int(i.get('quantity')),\n",
        "      )\n",
        "\n",
        "  def __repr__(self):\n",
        "    return f\"Item8('{self.name}',{self.price},{self.quantity})\"\n",
        "\n",
        "\n",
        "#Call the class method\n",
        "Item8.instantiateFromCSV()\n",
        "print(Item8.all) # Shows 4 item object array\n",
        "\n",
        "```"
      ],
      "metadata": {
        "id": "uoJrXzUDIFaL"
      }
    },
    {
      "cell_type": "markdown",
      "source": [
        "## 2.9 Static methods"
      ],
      "metadata": {
        "id": "1nQ_vN45JgrX"
      }
    },
    {
      "cell_type": "markdown",
      "source": [
        "Static method is a method that belongs to a class but doesn't have access to the instance or class itself. It is defined using the `@staticmethod` decorator and can be accessed using either the class name or an instance of the class. Static methods are not bound to any specific instance or class state and are primarily used for utility functions or operations that don't require access to instance or class attributes. Here are some key points about static methods:\n",
        "\n",
        "1. Definition and Syntax:\n",
        "   - Static methods are defined using the `@staticmethod` decorator before the method definition.\n",
        "   - Unlike regular methods, static methods don't take any special parameters such as `self` or `cls`.\n",
        "   - Static methods are typically defined within the class body but outside of any instances or instance methods.\n",
        "\n",
        "2. Access:\n",
        "   - Static methods can be accessed using the class name or an instance of the class.\n",
        "   - When accessed through the class name, no special parameters are automatically passed.\n",
        "   - When accessed through an instance, no automatic instance-related parameters are passed.\n",
        "\n",
        "3. Purpose:\n",
        "   - Static methods are commonly used for utility functions or operations that don't require access to instance or class attributes.\n",
        "   - They are not specific to any particular instance and do not modify or access instance or class state.\n",
        "\n",
        "\n",
        "|                   | Class Method                                          | Static Method                                         |\n",
        "|-------------------|-------------------------------------------------------|-------------------------------------------------------|\n",
        "| Definition        | Decorated with `@classmethod`                        | Decorated with `@staticmethod`                        |\n",
        "| Access            | Accessed using the class name or instance             | Accessed using the class name or instance             |\n",
        "| Parameters        | First parameter conventionally named `cls`            | No special parameters                                 |\n",
        "| Instance Access   | Has access to class and instance attributes           | Does not have access to class or instance attributes   |\n",
        "| Class Access      | Has access to class attributes                        | Does not have access to class attributes              |\n",
        "| Purpose           | Operates on class or instance attributes             | Utility functions or operations not requiring state   |\n",
        "| Modification      | Can modify class attributes                          | Cannot modify class attributes                        |\n",
        "| Inheritance       | Can be overridden by subclasses                      | Can be overridden by subclasses                      |\n",
        "| Implicit Self     | Receives the class as the first parameter (`cls`)     | No implicit self parameter                            |\n",
        "| Dependency        | Can depend on class or instance state                 | Does not depend on class or instance state            |\n",
        "| Code Organization | Group related functionality within a class            | Group utility functions within a class                |\n",
        "| Common Use Cases  | Alternative constructors, class-level operations     | Utility functions, independent operations             |\n"
      ],
      "metadata": {
        "id": "yIK1DKXVMGFW"
      }
    },
    {
      "cell_type": "markdown",
      "source": [
        "### 2.9.1 Static Method"
      ],
      "metadata": {
        "id": "HszEolsxMNJp"
      }
    },
    {
      "cell_type": "code",
      "source": [
        "\n",
        "class MathUtils:\n",
        "    @staticmethod\n",
        "    def add(a, b):\n",
        "        return a + b\n",
        "\n",
        "    @staticmethod\n",
        "    def multiply(a, b):\n",
        "        return a * b\n",
        "\n",
        "result1 = MathUtils.add(5, 3)\n",
        "result2 = MathUtils.multiply(4, 6)\n",
        "\n",
        "print(result1)  # Output: 8\n",
        "print(result2)  # Output: 24"
      ],
      "metadata": {
        "colab": {
          "base_uri": "https://localhost:8080/"
        },
        "id": "tBbptWnGMQhc",
        "outputId": "c2372d05-3397-4fa5-d98b-a7ebee16388a"
      },
      "execution_count": 54,
      "outputs": [
        {
          "output_type": "stream",
          "name": "stdout",
          "text": [
            "8\n",
            "24\n"
          ]
        }
      ]
    }
  ]
}