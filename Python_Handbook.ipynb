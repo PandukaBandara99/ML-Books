{
  "nbformat": 4,
  "nbformat_minor": 0,
  "metadata": {
    "colab": {
      "provenance": [],
      "toc_visible": true,
      "authorship_tag": "ABX9TyNBBNS/bmtUjpNYxShOuayb",
      "include_colab_link": true
    },
    "kernelspec": {
      "name": "python3",
      "display_name": "Python 3"
    },
    "language_info": {
      "name": "python"
    }
  },
  "cells": [
    {
      "cell_type": "markdown",
      "metadata": {
        "id": "view-in-github",
        "colab_type": "text"
      },
      "source": [
        "<a href=\"https://colab.research.google.com/github/PandukaBandara99/ML-Books/blob/main/Python_Handbook.ipynb\" target=\"_parent\"><img src=\"https://colab.research.google.com/assets/colab-badge.svg\" alt=\"Open In Colab\"/></a>"
      ]
    },
    {
      "cell_type": "markdown",
      "source": [
        "Mahela Panduka Bandara ; <br> UG @ Dpt. of Electronic & Electrical Engineering ;<br> University of Peradeniya ;<br> 2023/03 <br><br> Email : e19039@end.pdn.ac.lk <br> LinkedIN : https://www.linkedin.com/in/pandukabandara/"
      ],
      "metadata": {
        "id": "m5W1T68LRsLY"
      }
    },
    {
      "cell_type": "markdown",
      "source": [
        "# **1.0 Python Concepts**"
      ],
      "metadata": {
        "id": "Ks1W1oFew3CL"
      }
    },
    {
      "cell_type": "markdown",
      "source": [
        "## 1.1 Variables"
      ],
      "metadata": {
        "id": "BJSr49y0w-qu"
      }
    },
    {
      "cell_type": "markdown",
      "source": [
        "### Rules for Python variables:\n"
      ],
      "metadata": {
        "id": "nHUF18WqxM90"
      }
    },
    {
      "cell_type": "markdown",
      "source": [
        "- A variable name must start with a letter or the underscore character\n",
        "- A variable name cannot start with a number\n",
        "- A variable name can only contain alpha-numeric characters and underscores (A-z, 0-9, and _ )\n",
        "- Variable names are case-sensitive (age, Age and AGE are three different variables)\n",
        "- A variable name cannot be any of the Python keywords."
      ],
      "metadata": {
        "id": "QoHXAHm8xEa4"
      }
    },
    {
      "cell_type": "markdown",
      "source": [
        "### Assignment and Unpacking"
      ],
      "metadata": {
        "id": "r6IiViSUxcNa"
      }
    },
    {
      "cell_type": "markdown",
      "source": [
        "Many Values to Multiple Variables\n"
      ],
      "metadata": {
        "id": "zQ4JcMCfxgpo"
      }
    },
    {
      "cell_type": "code",
      "source": [
        "x, y, z = \"Orange\", \"Banana\", \"Cherry\"\n",
        "print(x)\n",
        "print(y)\n",
        "print(z)"
      ],
      "metadata": {
        "colab": {
          "base_uri": "https://localhost:8080/"
        },
        "id": "YEVAg4eCxjiP",
        "outputId": "1ee279bb-c82a-4a7a-bc0f-9d779ef8da90"
      },
      "execution_count": null,
      "outputs": [
        {
          "output_type": "stream",
          "name": "stdout",
          "text": [
            "Orange\n",
            "Banana\n",
            "Cherry\n"
          ]
        }
      ]
    },
    {
      "cell_type": "markdown",
      "source": [
        "One Value to Multiple Variables\n"
      ],
      "metadata": {
        "id": "zdtPToZdxo-O"
      }
    },
    {
      "cell_type": "code",
      "source": [
        "x = y = z = \"Orange\"\n",
        "print(x)\n",
        "print(y)\n",
        "print(z)"
      ],
      "metadata": {
        "colab": {
          "base_uri": "https://localhost:8080/"
        },
        "id": "Thgx6rm2xps2",
        "outputId": "cfa8521c-f0d4-4b29-f349-b1492acae3ec"
      },
      "execution_count": null,
      "outputs": [
        {
          "output_type": "stream",
          "name": "stdout",
          "text": [
            "Orange\n",
            "Orange\n",
            "Orange\n"
          ]
        }
      ]
    },
    {
      "cell_type": "markdown",
      "source": [
        "Unpack a Collection"
      ],
      "metadata": {
        "id": "rfCjjEzAxrrA"
      }
    },
    {
      "cell_type": "code",
      "source": [
        "fruits = [\"apple\", \"banana\", \"cherry\"]\n",
        "x, y, z = fruits\n",
        "print(x)\n",
        "print(y)\n",
        "print(z)"
      ],
      "metadata": {
        "colab": {
          "base_uri": "https://localhost:8080/"
        },
        "id": "UKzZZGZCxtEi",
        "outputId": "5b5ce104-61dd-418d-9e93-1253ebe3a98a"
      },
      "execution_count": null,
      "outputs": [
        {
          "output_type": "stream",
          "name": "stdout",
          "text": [
            "apple\n",
            "banana\n",
            "cherry\n"
          ]
        }
      ]
    },
    {
      "cell_type": "markdown",
      "source": [
        "### Output Variables\n"
      ],
      "metadata": {
        "id": "d6lkprH2xvgT"
      }
    },
    {
      "cell_type": "markdown",
      "source": [
        "Can use the + operator to output multiple variables:\n",
        "> For numbers it acts as a operator\n",
        "\n"
      ],
      "metadata": {
        "id": "GZuKcRVVx9M0"
      }
    },
    {
      "cell_type": "code",
      "source": [
        "x = 10\n",
        "y = 12\n",
        "z = 4\n",
        "print(x + y + z)"
      ],
      "metadata": {
        "colab": {
          "base_uri": "https://localhost:8080/"
        },
        "id": "OjUtJWKqyHAa",
        "outputId": "ee021070-ca69-4b15-f6a8-9854712b7f01"
      },
      "execution_count": null,
      "outputs": [
        {
          "output_type": "stream",
          "name": "stdout",
          "text": [
            "26\n"
          ]
        }
      ]
    },
    {
      "cell_type": "markdown",
      "source": [
        "> For strings it adds with mid spaces."
      ],
      "metadata": {
        "id": "8dft57c5yMkF"
      }
    },
    {
      "cell_type": "code",
      "source": [
        "x = \"Python \"\n",
        "y = \"is \"\n",
        "z = \"awesome\"\n",
        "print(x + y + z)"
      ],
      "metadata": {
        "colab": {
          "base_uri": "https://localhost:8080/"
        },
        "id": "9gG13ldMyS4j",
        "outputId": "eb049a67-c8b5-4b5e-a4ee-d37504af29b8"
      },
      "execution_count": null,
      "outputs": [
        {
          "output_type": "stream",
          "name": "stdout",
          "text": [
            "Python is awesome\n"
          ]
        }
      ]
    },
    {
      "cell_type": "markdown",
      "source": [
        "> When present both numbers need to be converted"
      ],
      "metadata": {
        "id": "taGi8YLTyYcX"
      }
    },
    {
      "cell_type": "code",
      "source": [
        "x = \"Python \"\n",
        "y = \"is \"\n",
        "z = 10\n",
        "print(x + y + str(z))"
      ],
      "metadata": {
        "colab": {
          "base_uri": "https://localhost:8080/"
        },
        "id": "qFV7OA6Fyapj",
        "outputId": "01fdc0dd-d399-4c44-b62a-6d73c3b5f447"
      },
      "execution_count": null,
      "outputs": [
        {
          "output_type": "stream",
          "name": "stdout",
          "text": [
            "Python is 10\n"
          ]
        }
      ]
    },
    {
      "cell_type": "markdown",
      "source": [
        "### Global Variables"
      ],
      "metadata": {
        "id": "BlP8n2l5ypxq"
      }
    },
    {
      "cell_type": "markdown",
      "source": [
        "If you create a variable with the same name inside a function, the variable will be local, and can only be used inside the function. The global variable with the same name will remain as it was, global and with the original value."
      ],
      "metadata": {
        "id": "WsDMDw_cyw26"
      }
    },
    {
      "cell_type": "code",
      "source": [
        "x = \"awesome\"\n",
        "\n",
        "def myfunc():\n",
        "  x = \"fantastic\"\n",
        "  print(\"Python is \" + x)\n",
        "\n",
        "myfunc()\n",
        "\n",
        "print(\"Python is \" + x)"
      ],
      "metadata": {
        "colab": {
          "base_uri": "https://localhost:8080/"
        },
        "id": "4TmzmxxfysMU",
        "outputId": "d2e56139-8adc-4c9e-e525-6fd24f0a63d5"
      },
      "execution_count": null,
      "outputs": [
        {
          "output_type": "stream",
          "name": "stdout",
          "text": [
            "Python is fantastic\n",
            "Python is awesome\n"
          ]
        }
      ]
    },
    {
      "cell_type": "markdown",
      "source": [
        "Use the ```global``` keyword if you want to change a global variable inside a function."
      ],
      "metadata": {
        "id": "fSp8l30dy61i"
      }
    },
    {
      "cell_type": "code",
      "source": [
        "x = \"awesome\"\n",
        "\n",
        "def myfunc():\n",
        "  global x\n",
        "  x = \"fantastic\"\n",
        "\n",
        "myfunc()\n",
        "\n",
        "print(\"Python is \" + x)"
      ],
      "metadata": {
        "colab": {
          "base_uri": "https://localhost:8080/"
        },
        "id": "gWe37B6Hy9la",
        "outputId": "8a963f9d-0ec2-45ea-da49-400b5d27ee45"
      },
      "execution_count": null,
      "outputs": [
        {
          "output_type": "stream",
          "name": "stdout",
          "text": [
            "Python is fantastic\n"
          ]
        }
      ]
    },
    {
      "cell_type": "markdown",
      "source": [
        "## 1.2 Data Types"
      ],
      "metadata": {
        "id": "yN5qgDIo0egF"
      }
    },
    {
      "cell_type": "markdown",
      "source": [
        "| Type         | Example Code                 | Important Facts                                                                                    |\n",
        "|--------------|------------------------------|----------------------------------------------------------------------------------------------------|\n",
        "| int          | `x = 5`                      | - Represents whole numbers                                                                           |\n",
        "| float        | `x = 3.14`                   | - Represents floating-point numbers; approximation of real numbers                                    |\n",
        "| complex      | `x = 2 + 3j`                 | - Represents complex numbers with real and imaginary parts                                            |\n",
        "| str          | `x = 'hello'`                | - Immutable; ordered collection of characters                                                         |\n",
        "| bool         | `x = True`                   | - Represents truth values (True or False)                                                             |\n",
        "| list         | `x = [1, 2, 3]`              | - Mutable; ordered collection of elements; supports heterogeneous data                                |\n",
        "| tuple        | `x = (1, 2, 3)`              | - Immutable; ordered collection of elements; supports heterogeneous data                               |\n",
        "| set          | `x = {1, 2, 3}`              | - Mutable; unordered collection of unique elements                                                    |\n",
        "| dict         | `x = {'a': 1, 'b': 2}`       | - Mutable; collection of key-value pairs; keys are unique and immutable                                |\n",
        "| bytes        | `x = b'hello'`               | - Immutable sequence of bytes                                                                        |\n",
        "| bytearray   | `x = bytearray(b'hello')`    | - Mutable sequence of bytes                                                                          |\n",
        "| memoryview   | `x = memoryview(bytes(5))`   | - Represents memory view of an object; allows access to the object’s memory without copying          |\n",
        "| NoneType     | `x = None`                   | - Represents absence of value; used to signify the lack of a return value                              |\n",
        "| range        | `x = range(5)`               | - Immutable sequence of numbers from 0 to specified value                                              |\n",
        "| frozenset    | `x = frozenset({1, 2, 3})`   | - Immutable version of set; elements cannot be changed after creation                                  |\n",
        "| complex      | `x = 2 + 3j`                 | - Represents complex numbers with real and imaginary parts                                            |\n",
        "\n"
      ],
      "metadata": {
        "id": "Acl6N_RA0hvf"
      }
    },
    {
      "cell_type": "markdown",
      "source": [
        "### Mutable and Immutable"
      ],
      "metadata": {
        "id": "3tGo9GEN0m93"
      }
    },
    {
      "cell_type": "markdown",
      "source": [
        "#### Mutable Data Types:"
      ],
      "metadata": {
        "id": "CXk618WZ1bHm"
      }
    },
    {
      "cell_type": "markdown",
      "source": [
        " > Content can be updated without creating a new object"
      ],
      "metadata": {
        "id": "IcO8WEp51U8j"
      }
    },
    {
      "cell_type": "markdown",
      "source": [
        "\n",
        "Mutable data types are those whose values can be changed after they are created. This means that you can modify the contents of the object without changing its identity.\n",
        "\n",
        "Examples of mutable data types in Python include:\n",
        "- Lists\n",
        "- Dictionaries\n",
        "- Sets\n",
        "- Byte arrays\n",
        "\n",
        "\n"
      ],
      "metadata": {
        "id": "XOVjYt0c0o_l"
      }
    },
    {
      "cell_type": "markdown",
      "source": [
        "#### Immutable Data Types:"
      ],
      "metadata": {
        "id": "CDIDuLUz1gDE"
      }
    },
    {
      "cell_type": "markdown",
      "source": [
        " > Fixed.Content cannot be updated without creating a new object\n"
      ],
      "metadata": {
        "id": "qINZiUyy1jCI"
      }
    },
    {
      "cell_type": "markdown",
      "source": [
        "Immutable data types, on the other hand, are those whose values cannot be changed after they are created. If you need to change the value of an immutable object, you have to create a new object with the new value.\n",
        "\n",
        "Examples of immutable data types in Python include:\n",
        "- Integers\n",
        "- Floats\n",
        "- Strings\n",
        "- Tuples\n",
        "- Frozensets\n"
      ],
      "metadata": {
        "id": "WJSKtk8G0yKQ"
      }
    },
    {
      "cell_type": "markdown",
      "source": [
        "### Variable Casting"
      ],
      "metadata": {
        "id": "98vkKdsC1Mun"
      }
    },
    {
      "cell_type": "code",
      "source": [
        "#-------------------------------\n",
        "x = int(1)        # x will be 1\n",
        "y = int(2.8)      # y will be 2\n",
        "z = int(\"3\")      # z will be 3\n",
        "#-------------------------------\n",
        "x = float(1)      # x will be 1.0\n",
        "y = float(2.8)    # y will be 2.8\n",
        "z = float(\"3\")    # z will be 3.0\n",
        "w = float(\"4.2\")  # w will be 4.2\n",
        "#-------------------------------\n",
        "x = str(\"s1\")     # x will be 's1'\n",
        "y = str(2)        # y will be '2'\n",
        "z = str(3.0)      # z will be '3.0'"
      ],
      "metadata": {
        "id": "vYfQng2Z0gpH"
      },
      "execution_count": null,
      "outputs": []
    },
    {
      "cell_type": "markdown",
      "source": [
        "### Strings"
      ],
      "metadata": {
        "id": "57x1ZMPx-nwa"
      }
    },
    {
      "cell_type": "markdown",
      "source": [
        "Python does not have a character data type, a single character is simply a string with a length of 1.Square brackets can be used to access elements of the string"
      ],
      "metadata": {
        "id": "PtxRlkkR-uKL"
      }
    },
    {
      "cell_type": "code",
      "source": [
        "a = \"Hello, World!\"\n",
        "print(a[1])"
      ],
      "metadata": {
        "colab": {
          "base_uri": "https://localhost:8080/"
        },
        "id": "D4b-5AZb-10G",
        "outputId": "d52a834a-7c86-4caa-bed9-84228b5c8530"
      },
      "execution_count": null,
      "outputs": [
        {
          "output_type": "stream",
          "name": "stdout",
          "text": [
            "e\n"
          ]
        }
      ]
    },
    {
      "cell_type": "markdown",
      "source": [
        "#### Loop through elements"
      ],
      "metadata": {
        "id": "z1UPzWGK_CPc"
      }
    },
    {
      "cell_type": "code",
      "source": [
        "for x in \"banana\":\n",
        "  print(x)"
      ],
      "metadata": {
        "colab": {
          "base_uri": "https://localhost:8080/"
        },
        "id": "dHzHrUqy-5Vm",
        "outputId": "c0121d80-d035-4f91-b86d-b77c7c6ba939"
      },
      "execution_count": null,
      "outputs": [
        {
          "output_type": "stream",
          "name": "stdout",
          "text": [
            "b\n",
            "a\n",
            "n\n",
            "a\n",
            "n\n",
            "a\n"
          ]
        }
      ]
    },
    {
      "cell_type": "markdown",
      "source": [
        "#### Get the length"
      ],
      "metadata": {
        "id": "K-i7ABZx_ELq"
      }
    },
    {
      "cell_type": "code",
      "source": [
        "a = \"Hello, World!\"\n",
        "print(len(a))"
      ],
      "metadata": {
        "colab": {
          "base_uri": "https://localhost:8080/"
        },
        "id": "DoADeQip-9FB",
        "outputId": "9a696381-c75b-4aaf-d735-8b66f5cfe4a3"
      },
      "execution_count": null,
      "outputs": [
        {
          "output_type": "stream",
          "name": "stdout",
          "text": [
            "13\n"
          ]
        }
      ]
    },
    {
      "cell_type": "markdown",
      "source": [
        "#### Check String\n"
      ],
      "metadata": {
        "id": "w4SQLBf__HFN"
      }
    },
    {
      "cell_type": "code",
      "source": [
        "txt = \"The best things in life are free!\"\n",
        "if \"free\" in txt:\n",
        "  print(\"Yes, 'free' is present.\")"
      ],
      "metadata": {
        "colab": {
          "base_uri": "https://localhost:8080/"
        },
        "id": "z70AUABj_JWq",
        "outputId": "d08f374e-f217-4daf-8b7d-971869b16eeb"
      },
      "execution_count": null,
      "outputs": [
        {
          "output_type": "stream",
          "name": "stdout",
          "text": [
            "Yes, 'free' is present.\n"
          ]
        }
      ]
    },
    {
      "cell_type": "markdown",
      "source": [
        "#### Slicing\n"
      ],
      "metadata": {
        "id": "5PULYIkW_Sjx"
      }
    },
    {
      "cell_type": "code",
      "source": [
        "b = \"Hello, World!\"\n",
        "print(b[2:5])   # With 2 and without 5"
      ],
      "metadata": {
        "colab": {
          "base_uri": "https://localhost:8080/"
        },
        "id": "awcXweid_R1Y",
        "outputId": "897fb7d5-6d8b-4e4c-e920-62928ee50d67"
      },
      "execution_count": null,
      "outputs": [
        {
          "output_type": "stream",
          "name": "stdout",
          "text": [
            "llo\n"
          ]
        }
      ]
    },
    {
      "cell_type": "code",
      "source": [
        "print(b[2:])   # Slice to the end"
      ],
      "metadata": {
        "colab": {
          "base_uri": "https://localhost:8080/"
        },
        "id": "tadIv6LFHhEG",
        "outputId": "7a866d68-4c43-45e1-9788-995469a1f40d"
      },
      "execution_count": null,
      "outputs": [
        {
          "output_type": "stream",
          "name": "stdout",
          "text": [
            "llo, World!\n"
          ]
        }
      ]
    },
    {
      "cell_type": "code",
      "source": [
        "print(b[-5:-2]) # Negetive indexing"
      ],
      "metadata": {
        "colab": {
          "base_uri": "https://localhost:8080/"
        },
        "id": "JVHkWCXoHjvc",
        "outputId": "94d89b9b-6e4e-4446-c081-032387145cc0"
      },
      "execution_count": null,
      "outputs": [
        {
          "output_type": "stream",
          "name": "stdout",
          "text": [
            "orl\n"
          ]
        }
      ]
    },
    {
      "cell_type": "markdown",
      "source": [
        "#### Concatenation"
      ],
      "metadata": {
        "id": "24Im2UfLJosc"
      }
    },
    {
      "cell_type": "code",
      "source": [
        "a = \"Hello\"\n",
        "b = \"World\"\n",
        "c = a + b\n",
        "print(c)\n",
        "## Use join() method to join with spaces"
      ],
      "metadata": {
        "colab": {
          "base_uri": "https://localhost:8080/"
        },
        "id": "GRAdeX0_Jsd8",
        "outputId": "6050be03-84cc-4716-be37-96e5ad2bc84f"
      },
      "execution_count": null,
      "outputs": [
        {
          "output_type": "stream",
          "name": "stdout",
          "text": [
            "HelloWorld\n"
          ]
        }
      ]
    },
    {
      "cell_type": "markdown",
      "source": [
        "#### **Format**"
      ],
      "metadata": {
        "id": "s6Nt4wEKJqSd"
      }
    },
    {
      "cell_type": "markdown",
      "source": [
        "The format() method takes the passed arguments, formats them, and places them in the string where the placeholders {} are:\n",
        "\n"
      ],
      "metadata": {
        "id": "Gl35x--ZKIoY"
      }
    },
    {
      "cell_type": "code",
      "source": [
        "quantity = 3\n",
        "itemno = 567\n",
        "price = 49.95\n",
        "myorder = \"I want to pay {2} dollars for {0} pieces of item {1}.\"\n",
        "print(myorder.format(quantity, itemno, price))\n",
        "## If indexing is not used {} => uses the mentioned order"
      ],
      "metadata": {
        "colab": {
          "base_uri": "https://localhost:8080/"
        },
        "id": "2oxzlWLyKM8I",
        "outputId": "310237b8-6642-4ad7-e64b-8959a7521193"
      },
      "execution_count": null,
      "outputs": [
        {
          "output_type": "stream",
          "name": "stdout",
          "text": [
            "I want to pay 49.95 dollars for 3 pieces of item 567.\n"
          ]
        }
      ]
    },
    {
      "cell_type": "markdown",
      "source": [
        "To roundoff the numbers,"
      ],
      "metadata": {
        "id": "o7k9Q8UKK2ik"
      }
    },
    {
      "cell_type": "code",
      "source": [
        "# Formatting a floating-point number to 2 decimal places\n",
        "number = 3.14159\n",
        "formatted_number = \"{:.2f}\".format(number)\n",
        "print(\"Formatted number:\", formatted_number)  # Output: Formatted number: 3.14"
      ],
      "metadata": {
        "colab": {
          "base_uri": "https://localhost:8080/"
        },
        "id": "riw0YidDK52a",
        "outputId": "6d2f09ab-328f-416d-9646-c2883ef7a04e"
      },
      "execution_count": null,
      "outputs": [
        {
          "output_type": "stream",
          "name": "stdout",
          "text": [
            "Formatted number: 3.14\n"
          ]
        }
      ]
    },
    {
      "cell_type": "markdown",
      "source": [
        "Also named indexes can be used."
      ],
      "metadata": {
        "id": "q_Lwam3oKkVi"
      }
    },
    {
      "cell_type": "code",
      "source": [
        "myorder = \"I have a {carname}, it is a {model}.\"\n",
        "print(myorder.format(carname = \"Ford\", model = \"Mustang\"))"
      ],
      "metadata": {
        "colab": {
          "base_uri": "https://localhost:8080/"
        },
        "id": "AFZWiCZJKmyz",
        "outputId": "2a27fc29-fe2d-40c8-821e-93c26e234354"
      },
      "execution_count": null,
      "outputs": [
        {
          "output_type": "stream",
          "name": "stdout",
          "text": [
            "I have a Ford, it is a Mustang.\n"
          ]
        }
      ]
    },
    {
      "cell_type": "markdown",
      "source": [
        "#### Use of escape characters"
      ],
      "metadata": {
        "id": "9erCwNQvLJcY"
      }
    },
    {
      "cell_type": "code",
      "source": [
        "txt = \"We are the so-called \\\"Vikings\\\" from the north.\""
      ],
      "metadata": {
        "id": "CxCndWJ3LIkp"
      },
      "execution_count": null,
      "outputs": []
    },
    {
      "cell_type": "markdown",
      "source": [
        "\n",
        "| Escape Sequence | Description                                      |\n",
        "|-----------------|--------------------------------------------------|\n",
        "| \\n              | Newline: Inserts a newline character            |\n",
        "| \\t              | Tab: Inserts a tab character                    |\n",
        "| \\r              | Carriage return: Moves cursor to the beginning of the line |\n",
        "| \\\\              | Backslash: Inserts a backslash character        |\n",
        "| \\'              | Single Quote: Inserts a single quote character  |\n",
        "| \\\"              | Double Quote: Inserts a double quote character  |\n",
        "| \\b              | Backspace: Inserts a backspace character        |\n",
        "| \\f              | Form Feed: Inserts a form feed character        |\n",
        "| \\v              | Vertical Tab: Inserts a vertical tab character  |\n",
        "\n"
      ],
      "metadata": {
        "id": "CSlUdqrNLUZk"
      }
    },
    {
      "cell_type": "markdown",
      "source": [
        "#### Modifications"
      ],
      "metadata": {
        "id": "3RDL1vScHuXR"
      }
    },
    {
      "cell_type": "code",
      "source": [
        "# Lowercase\n",
        "a = \"Hello, World!\"\n",
        "print(a.lower())\n",
        "print(a)   # Note that the original is not changed"
      ],
      "metadata": {
        "colab": {
          "base_uri": "https://localhost:8080/"
        },
        "id": "4SOInZYMHzug",
        "outputId": "9b59ac58-9ae5-4dd3-8bf9-ecb893be277c"
      },
      "execution_count": null,
      "outputs": [
        {
          "output_type": "stream",
          "name": "stdout",
          "text": [
            "hello, world!\n",
            "Hello, World!\n"
          ]
        }
      ]
    },
    {
      "cell_type": "code",
      "source": [
        "# Uppercase\n",
        "a = \" Hello, World! \"\n",
        "print(a.strip()) # returns \"Hello, World!\""
      ],
      "metadata": {
        "colab": {
          "base_uri": "https://localhost:8080/"
        },
        "id": "ujX7tizFH3Qa",
        "outputId": "667a0b06-65b6-42a0-c9bb-36968688f271"
      },
      "execution_count": null,
      "outputs": [
        {
          "output_type": "stream",
          "name": "stdout",
          "text": [
            "Hello, World!\n"
          ]
        }
      ]
    },
    {
      "cell_type": "code",
      "source": [
        "# Replace\n",
        "a = \"Hello, World!\"\n",
        "print(a.replace(\"H\", \"J\"))"
      ],
      "metadata": {
        "colab": {
          "base_uri": "https://localhost:8080/"
        },
        "id": "qdYPBgFJH8-N",
        "outputId": "486d478b-0c49-4b39-b437-7249770a95ed"
      },
      "execution_count": null,
      "outputs": [
        {
          "output_type": "stream",
          "name": "stdout",
          "text": [
            "Jello, World!\n"
          ]
        }
      ]
    },
    {
      "cell_type": "code",
      "source": [
        "# Split\n",
        "a = \"Hello, World!\"\n",
        "print(a.split(\",\")) # returns ['Hello', ' World!']"
      ],
      "metadata": {
        "colab": {
          "base_uri": "https://localhost:8080/"
        },
        "id": "Y0hCaI_oIAkN",
        "outputId": "09b1179c-4a0e-487d-efd8-19a5a2188652"
      },
      "execution_count": null,
      "outputs": [
        {
          "output_type": "stream",
          "name": "stdout",
          "text": [
            "['Hello', ' World!']\n"
          ]
        }
      ]
    },
    {
      "cell_type": "markdown",
      "source": [
        "#### String Methods"
      ],
      "metadata": {
        "id": "SOEjKscHIb6l"
      }
    },
    {
      "cell_type": "markdown",
      "source": [
        "**** Does not modify original.Always return a copy"
      ],
      "metadata": {
        "id": "vdLmbeh2Iy1T"
      }
    },
    {
      "cell_type": "markdown",
      "source": [
        "\n",
        "| Method           | Description                                      | Code with Output                                      |\n",
        "|------------------|--------------------------------------------------|-------------------------------------------------------|\n",
        "| capitalize()     | Returns a copy of the string with the first character capitalized and the rest lowercased | ```python s = \"hello world\"```<br>```python print(s.capitalize())```<br>Output: \"Hello world\" |\n",
        "| casefold()       | Returns a casefolded copy of the string, suitable for case-insensitive comparisons | ```python s = \"HELLO WORLD\"```<br>```python print(s.casefold())```<br>Output: \"hello world\" |\n",
        "| center(width)    | Returns a centered string of specified width     | ```python s = \"hello\"```<br>```python print(s.center(10))```<br>Output: \"  hello   \" |\n",
        "| count(substring) | Returns the number of occurrences of a substring in the string | ```python s = \"hello world\"```<br>```python print(s.count('l'))```<br>Output: 3 |\n",
        "| encode()         | Returns the encoded version of the string        | ```python s = \"hello\"```<br>```python print(s.encode())```<br>Output: b'hello' |\n",
        "| endswith(suffix) | Returns True if the string ends with the specified suffix | ```python s = \"hello world\"```<br>```python print(s.endswith('world'))```<br>Output: True |\n",
        "| expandtabs()     | Returns a copy of the string where tab characters are expanded using spaces | ```python s = \"hello\\tworld\"```<br>```python print(s.expandtabs())```<br>Output: \"hello   world\" |\n",
        "| find(substring)  | Returns the lowest index of the substring in the string, -1 if not found | ```python s = \"hello world\"```<br>```python print(s.find('o'))```<br>Output: 4 |\n",
        "| format()         | Formats the string | ```python s = \"My name is {name}\"```<br>```python print(s.format(name=\"John\"))```<br>Output: \"My name is John\" |\n",
        "| index(substring) | Returns the lowest index of the substring in the string, raises ValueError if not found | ```python s = \"hello world\"```<br>```python print(s.index('o'))```<br>Output: 4 |\n",
        "| isalnum()        | Returns True if all characters in the string are alphanumeric | ```python s = \"hello123\"```<br>```python print(s.isalnum())```<br>Output: True |\n",
        "| isalpha()        | Returns True if all characters in the string are alphabetic | ```python s = \"hello\"```<br>```python print(s.isalpha())```<br>Output: True |\n",
        "| isascii()        | Returns True if all characters in the string are ASCII, False otherwise | ```python s = \"hello\"```<br>```python print(s.isascii())```<br>Output: True |\n",
        "| isdecimal()      | Returns True if all characters in the string are decimals | ```python s = \"12345\"```<br>```python print(s.isdecimal())```<br>Output: True |\n",
        "| isdigit()        | Returns True if all characters in the string are digits | ```python s = \"12345\"```<br>```python print(s.isdigit())```<br>Output: True |\n",
        "| isidentifier()   | Returns True if the string is a valid identifier | ```python s = \"hello\"```<br>```python print(s.isidentifier())```<br>Output: True |\n",
        "| islower()        | Returns True if all characters in the string are lowercase | ```python s = \"hello\"```<br>```python print(s.islower())```<br>Output: True |\n",
        "| isnumeric()      | Returns True if all characters in the string are numeric | ```python s = \"12345\"```<br>```python print(s.isnumeric())```<br>Output: True |\n",
        "| isprintable()    | Returns True if all characters in the string are printable | ```python s = \"hello\"```<br>```python print(s.isprintable())```<br>Output: True |\n",
        "| isspace()        | Returns True if all characters in the string are whitespaces | ```python s = \"   \"```<br>```python print(s.isspace())```<br>Output: True |\n",
        "| istitle()        | Returns True if the string is titlecased (every word starts with an uppercase letter, others are lowercase) | ```python s = \"Hello World\"```<br>```python print(s.istitle())```<br>Output: True |\n",
        "| isupper()        | Returns True if all characters in the string are uppercase | ```python s = \"HELLO\"```<br>```python print(s.isupper())```<br>Output: True |\n",
        "| join(iterable)   | Joins elements of an iterable with the string as a separator | ```python my_list = ['hello', 'world']```<br>```python print(' '.join(my_list))```<br>Output: \"hello world\" |\n",
        "| ljust(width)     | Returns a left-justified string of specified width | ```python s = \"hello\"```<br>```python print(s.ljust(10))```<br>Output: \"hello     \" |\n",
        "| lower()          | Returns a copy of the string converted to lowercase | ```python s = \"Hello World\"```<br>```python print(s.lower())```<br>Output: \"hello world\" |\n",
        "| lstrip()         | Returns a copy of the string with leading whitespace removed | ```python s = \"   hello   \"```<br>```python print(s.lstrip())```<br>Output: \"hello   \" |\n",
        "| maketrans()      | Returns a translation table to be used in translate method | ```python from_string = \"aeiou\"```<br>```python to_string = \"12345\"```<br>```python translation_table = str.maketrans(from_string, to_string)```<br>```python s = \"hello\"```<br>```python print(s.translate(translation_table))```<br>Output: \"h2ll3\" |\n",
        "| partition(separator) | Returns a tuple containing the string before the separator, the separator itself, and the string after the separator | ```python s = \"hello world\"```<br>```python print(s.partition(' '))```<br>Output: ('hello', ' ', 'world') |\n",
        "| replace(old, new) | Returns a copy of the string with all occurrences of a substring replaced by another string | ```python s = \"hello world\"```<br>```python print(s.replace('world', 'python'))```<br>Output: \"hello python\" |\n",
        "| rfind(substring)  | Returns the highest index of the substring in the string, -1 if not found | ```python s = \"hello world\"```<br>```python print(s.rfind('o'))```<br >Output: 7 |\n",
        "| rindex(substring) | Returns the highest index of the substring in the string, raises ValueError if not found | ```python s = \"hello world\"```<br>```python print(s.rindex('o'))```<br>Output: 7 |\n",
        "| rjust(width)      | Returns a right-justified string of specified width | ```python s = \"hello\"```<br>```python print(s.rjust(10))```<br>Output: \"     hello\" |\n",
        "| rpartition(separator) | Returns a tuple containing the string before the last occurrence of the separator, the separator itself, and the string after the separator | ```python s = \"hello world\"```<br>```python print(s.rpartition(' '))```<br>Output: ('hello', ' ', 'world') |\n",
        "| rsplit(separator)   | Splits the string from the right at the specified separator and returns a list of substrings | ```python s = \"hello world\"```<br>```python print(s.rsplit(' '))```<br>Output: ['hello', 'world'] |\n",
        "| rstrip()            | Returns a copy of the string with trailing whitespace removed | ```python s = \"   hello   \"```<br>```python print(s.rstrip())```<br>Output: \"   hello\" |\n",
        "| split(separator)    | Splits the string at the specified separator and returns a list of substrings | ```python s = \"hello world\"```<br>```python print(s.split(' '))```<br>Output: ['hello', 'world'] |\n",
        "| splitlines()        | Splits the string at line breaks and returns a list of lines | ```python s = \"hello\\nworld\"```<br>```python print(s.splitlines())```<br>Output: ['hello', 'world'] |\n",
        "| startswith(prefix) | Returns True if the string starts with the specified prefix | ```python s = \"hello world\"```<br>```python print(s.startswith('hello'))```<br>Output: True |\n",
        "| strip()             | Returns a copy of the string with leading and trailing whitespace removed | ```python s = \"   hello   \"```<br>```python print(s.strip())```<br>Output: \"hello\" |\n",
        "| swapcase()          | Returns a copy of the string with uppercase characters converted to lowercase and vice versa | ```python s = \"Hello World\"```<br>```python print(s.swapcase())```<br>Output: \"hELLO wORLD\" |\n",
        "| title()             | Returns a titlecased version of the string (first character of each word is capitalized) | ```python s = \"hello world\"```<br>```python print(s.title())```<br>Output: \"Hello World\" |\n",
        "| translate(table)    | Returns a copy of the string where each character has been mapped through the given translation table | ```python from_string = \"aeiou\"```<br>```python to_string = \"12345\"```<br>```python translation_table = str.maketrans(from_string, to_string)```<br>```python s = \"hello\"```<br>```python print(s.translate(translation_table))```<br>Output: \"h2ll3\" |\n",
        "| upper()             | Returns a copy of the string converted to uppercase | ```python s = \"hello world\"```<br>```python print(s.upper())```<br>Output: \"HELLO WORLD\" |\n",
        "| zfill(width)        | Returns a copy of the string filled with zeros on the left to make a string of length width | ```python s = \"42\"```<br>```python print(s.zfill(5))```<br>Output: \"00042\" |\n",
        "\n"
      ],
      "metadata": {
        "id": "pC7ki_mZIgH-"
      }
    },
    {
      "cell_type": "markdown",
      "source": [
        "### Booleans"
      ],
      "metadata": {
        "id": "d6tcA1KPJJhl"
      }
    },
    {
      "cell_type": "markdown",
      "source": [
        "Booleans represent one of two values: ```True``` or ```False```."
      ],
      "metadata": {
        "id": "kat8bQovL6tj"
      }
    },
    {
      "cell_type": "markdown",
      "source": [
        "### Operators"
      ],
      "metadata": {
        "id": "Bqgx_VylMBqq"
      }
    },
    {
      "cell_type": "markdown",
      "source": [
        "Arithmatic Operatos\n",
        "\n",
        "| Operator | Description              | Example     | Result  |\n",
        "|----------|--------------------------|-------------|---------|\n",
        "| +        | Addition                 | 2 + 3       | 5       |\n",
        "| -        | Subtraction              | 5 - 2       | 3       |\n",
        "| *        | Multiplication           | 2 * 3       | 6       |\n",
        "| /        | Division                 | 6 / 2       | 3.0     |\n",
        "| //       | Floor Division           | 7 // 2      | 3       |\n",
        "| %        | Modulus (Remainder)      | 7 % 2       | 1       |\n",
        "| **       | Exponentiation           | 2 ** 3      | 8       |\n"
      ],
      "metadata": {
        "id": "YeNs5f_zMXAl"
      }
    },
    {
      "cell_type": "markdown",
      "source": [
        "Assignment Operators\n",
        "\n",
        "| Operator | Description                          | Example          | Equivalent to       |\n",
        "|----------|--------------------------------------|------------------|---------------------|\n",
        "| =        | Assigns value from right to left     | x = 5            | x = 5               |\n",
        "| +=       | Adds right operand to the left      | x += 3           | x = x + 3           |\n",
        "| -=       | Subtracts right operand from the left| x -= 3          | x = x - 3           |\n",
        "| *=       | Multiplies left by right             | x *= 2           | x = x * 2           |\n",
        "| /=       | Divides left by right                | x /= 2           | x = x / 2           |\n",
        "| //=      | Floor divides left by right          | x //= 2          | x = x // 2          |\n",
        "| %=       | Computes modulus of left by right    | x %= 3           | x = x % 3           |\n",
        "| **=      | Raises left to the power of right    | x **= 2          | x = x ** 2          |\n",
        "| &=       | Performs bitwise AND on operands     | x &= 3           | x = x & 3           |\n",
        "| &#124;=   | Performs bitwise OR on operands      | x &#124;= 3      | x = x &#124; 3      |\n",
        "| ^=       | Performs bitwise XOR on operands     | x ^= 3           | x = x ^ 3           |\n",
        "| >>=      | Right shifts left by right           | x >>= 2          | x = x >> 2          |\n",
        "| <<=      | Left shifts left by right            | x <<= 2          | x = x << 2          |\n"
      ],
      "metadata": {
        "id": "8aslTAMsMco8"
      }
    },
    {
      "cell_type": "markdown",
      "source": [
        "Comparison operators in Python:\n",
        "\n",
        "| Operator | Description                          | Example                  | Result  |\n",
        "|----------|--------------------------------------|--------------------------|---------|\n",
        "| ==       | Equal to                             | 5 == 5                   | True    |\n",
        "| !=       | Not equal to                         | 5 != 3                   | True    |\n",
        "| <        | Less than                            | 2 < 5                    | True    |\n",
        "| >        | Greater than                         | 5 > 3                    | True    |\n",
        "| <=       | Less than or equal to                | 2 <= 2                   | True    |\n",
        "| >=       | Greater than or equal to             | 4 >= 5                   | False   |\n"
      ],
      "metadata": {
        "id": "rXLeOtjiMput"
      }
    },
    {
      "cell_type": "markdown",
      "source": [
        "Logical operators in Python:\n",
        "\n",
        "| Operator | Description                          | Example                            | Result  |\n",
        "|----------|--------------------------------------|------------------------------------|---------|\n",
        "| and      | Returns True if both statements are true | True and False                 | False   |\n",
        "| or       | Returns True if one of the statements is true | True or False                  | True    |\n",
        "| not      | Returns the opposite of the result | not True                        | False   |\n"
      ],
      "metadata": {
        "id": "BdiauIIFMx4D"
      }
    },
    {
      "cell_type": "markdown",
      "source": [
        "Identity operators in Python:\n",
        "\n",
        "| Operator | Description                                   | Example                              | Result  |\n",
        "|----------|-----------------------------------------------|--------------------------------------|---------|\n",
        "| is       | Returns True if both variables are the same object | x is y                            | True/False |\n",
        "| is not   | Returns True if both variables are not the same object | x is not y                        | True/False |\n",
        "\n",
        "Explanation:\n",
        "\n",
        "- **is**: Returns True if both variables point to the same object.\n",
        "  Example: `x is y` evaluates to True if `x` and `y` reference the same object.\n",
        "\n",
        "- **is not**: Returns True if both variables do not point to the same object.\n",
        "  Example: `x is not y` evaluates to True if `x` and `y` reference different objects.\n",
        "\n"
      ],
      "metadata": {
        "id": "JsiD6CfqM5On"
      }
    },
    {
      "cell_type": "markdown",
      "source": [
        "Membership operators in Python:\n",
        "\n",
        "| Operator | Description                                    | Example                             | Result  |\n",
        "|----------|------------------------------------------------|-------------------------------------|---------|\n",
        "| in       | Returns True if a sequence with the specified value is present in the object | x in y                          | True/False |\n",
        "| not in   | Returns True if a sequence with the specified value is not present in the object | x not in y                      | True/False |\n",
        "\n",
        "Explanation:\n",
        "\n",
        "- **in**: Returns True if the specified value is found in the sequence (list, tuple, string, etc.).\n",
        "  Example: `5 in [1, 2, 3, 4, 5]` evaluates to True because 5 is present in the list.\n",
        "\n",
        "- **not in**: Returns True if the specified value is not found in the sequence (list, tuple, string, etc.).\n",
        "  Example: `6 not in [1, 2, 3, 4, 5]` evaluates to True because 6 is not present in the list.\n"
      ],
      "metadata": {
        "id": "hZrZdWZ1NIbj"
      }
    },
    {
      "cell_type": "markdown",
      "source": [
        "Bitwise operators in Python:\n",
        "\n",
        "| Operator | Description                                   | Example                              | Result  |\n",
        "|----------|-----------------------------------------------|--------------------------------------|---------|\n",
        "| &        | Bitwise AND                                   | 5 & 3                                | 1       |\n",
        "| \\|       | Bitwise OR                                    | 5 \\| 3                               | 7       |\n",
        "| ^        | Bitwise XOR (exclusive OR)                    | 5 ^ 3                                | 6       |\n",
        "| ~        | Bitwise NOT (complement)                      | ~5                                   | -6      |\n",
        "| <<       | Bitwise left shift                            | 5 << 2                               | 20      |\n",
        "| >>       | Bitwise right shift                           | 5 >> 2                               | 1       |\n",
        "\n",
        "Explanation for the examples:\n",
        "\n",
        "- **Bitwise AND (&)**: Sets each bit to 1 if both corresponding bits are 1.\n",
        "  Example: `5 & 3` evaluates to `0b101 & 0b011` which is `0b001` in binary, and `0b001` in decimal is 1.\n",
        "\n",
        "- **Bitwise OR (|)**: Sets each bit to 1 if at least one corresponding bit is 1.\n",
        "  Example: `5 | 3` evaluates to `0b101 | 0b011` which is `0b111` in binary, and `0b111` in decimal is 7.\n",
        "\n",
        "- **Bitwise XOR (^)**: Sets each bit to 1 if only one corresponding bit is 1.\n",
        "  Example: `5 ^ 3` evaluates to `0b101 ^ 0b011` which is `0b110` in binary, and `0b110` in decimal is 6.\n",
        "\n",
        "- **Bitwise NOT (~)**: Inverts all the bits.\n",
        "  Example: `~5` evaluates to `~0b101` which is `-0b110` in binary, and `-0b110` in decimal is -6.\n",
        "\n",
        "- **Bitwise left shift (<<)**: Shifts the bits of the first operand to the left by the number of positions specified by the second operand.\n",
        "  Example: `5 << 2` evaluates to `0b101 << 2` which is `0b10100` in binary, and `0b10100` in decimal is 20.\n",
        "\n",
        "- **Bitwise right shift (>>)**: Shifts the bits of the first operand to the right by the number of positions specified by the second operand.\n",
        "  Example: `5 >> 2` evaluates to `0b101 >> 2` which is `0b1` in binary, and `0b1` in decimal is 1.\n"
      ],
      "metadata": {
        "id": "C4Lp4QV3NNkS"
      }
    },
    {
      "cell_type": "markdown",
      "source": [
        "### List"
      ],
      "metadata": {
        "id": "YZo7M6phNXIZ"
      }
    },
    {
      "cell_type": "markdown",
      "source": [
        "From Python's perspective, lists are defined as objects with the data type 'list': ```<class 'list'>``` . Lists are one of 4 built-in data types in Python used to store collections of data, the other 3 are Tuple, Set, and Dictionary,"
      ],
      "metadata": {
        "id": "TmWZyb6FcCNG"
      }
    },
    {
      "cell_type": "markdown",
      "source": [
        "List items are ordered, changeable, and allow duplicate values.\n",
        "List items are indexed, the first item has index [0]\n"
      ],
      "metadata": {
        "id": "ZsyZ2uJscKU-"
      }
    },
    {
      "cell_type": "code",
      "source": [
        "thislist = [\"apple\", \"banana\", \"cherry\"]\n",
        "print(thislist)"
      ],
      "metadata": {
        "colab": {
          "base_uri": "https://localhost:8080/"
        },
        "id": "LRlDNi3jcJ3B",
        "outputId": "302a51e0-8ed7-46fa-a1c8-3d6d0e49d86f"
      },
      "execution_count": null,
      "outputs": [
        {
          "output_type": "stream",
          "name": "stdout",
          "text": [
            "['apple', 'banana', 'cherry']\n"
          ]
        }
      ]
    },
    {
      "cell_type": "code",
      "source": [
        "print(type(thislist))"
      ],
      "metadata": {
        "colab": {
          "base_uri": "https://localhost:8080/"
        },
        "id": "SJQ-QchEc_Lh",
        "outputId": "b3abf283-dd0d-45b8-f63a-0a8356d66959"
      },
      "execution_count": null,
      "outputs": [
        {
          "output_type": "stream",
          "name": "stdout",
          "text": [
            "<class 'list'>\n"
          ]
        }
      ]
    },
    {
      "cell_type": "markdown",
      "source": [
        "#### Length"
      ],
      "metadata": {
        "id": "8EcoaacYc3W1"
      }
    },
    {
      "cell_type": "code",
      "source": [
        "thislist = [\"apple\", \"banana\", \"cherry\"]\n",
        "print(len(thislist))"
      ],
      "metadata": {
        "colab": {
          "base_uri": "https://localhost:8080/"
        },
        "id": "PNEPvVR4c46K",
        "outputId": "41a930de-77f1-4e00-85c1-f2630c1a101f"
      },
      "execution_count": null,
      "outputs": [
        {
          "output_type": "stream",
          "name": "stdout",
          "text": [
            "3\n"
          ]
        }
      ]
    },
    {
      "cell_type": "markdown",
      "source": [
        "#### The list() Constructor\n"
      ],
      "metadata": {
        "id": "MinvO9fYdFQC"
      }
    },
    {
      "cell_type": "code",
      "source": [
        "thislist = list((\"apple\", \"banana\", \"cherry\"))\n",
        "print(thislist)"
      ],
      "metadata": {
        "colab": {
          "base_uri": "https://localhost:8080/"
        },
        "id": "ZjBjNqDWdGq6",
        "outputId": "35628d39-9f9b-4a21-ec28-6dca7819dd10"
      },
      "execution_count": null,
      "outputs": [
        {
          "output_type": "stream",
          "name": "stdout",
          "text": [
            "['apple', 'banana', 'cherry']\n"
          ]
        }
      ]
    },
    {
      "cell_type": "markdown",
      "source": [
        "#### Access List Items"
      ],
      "metadata": {
        "id": "VmiqktrWdGN1"
      }
    },
    {
      "cell_type": "markdown",
      "source": [
        "Access them by referring to the index number"
      ],
      "metadata": {
        "id": "XqXU0-fXdR2f"
      }
    },
    {
      "cell_type": "code",
      "source": [
        "thislist = [\"apple\", \"banana\", \"cherry\"]\n",
        "print(thislist[1])"
      ],
      "metadata": {
        "colab": {
          "base_uri": "https://localhost:8080/"
        },
        "id": "AzA17clgdXK9",
        "outputId": "289627e1-36d8-43a0-a281-959e567937f6"
      },
      "execution_count": null,
      "outputs": [
        {
          "output_type": "stream",
          "name": "stdout",
          "text": [
            "banana\n"
          ]
        }
      ]
    },
    {
      "cell_type": "markdown",
      "source": [
        "Negative Indexing\n"
      ],
      "metadata": {
        "id": "mFa-RdLadYua"
      }
    },
    {
      "cell_type": "code",
      "source": [
        "print(thislist[-1])"
      ],
      "metadata": {
        "colab": {
          "base_uri": "https://localhost:8080/"
        },
        "id": "CCGEhggxdaqi",
        "outputId": "a2871328-86ff-4df0-a122-6625f0bcd8cd"
      },
      "execution_count": null,
      "outputs": [
        {
          "output_type": "stream",
          "name": "stdout",
          "text": [
            "cherry\n"
          ]
        }
      ]
    },
    {
      "cell_type": "markdown",
      "source": [
        "Index range"
      ],
      "metadata": {
        "id": "MYS1w1hRdcKa"
      }
    },
    {
      "cell_type": "markdown",
      "source": [
        "Syntax:\n",
        "```\n",
        "list[a:b] => items from a to b , including a and excluiding b.\n",
        "```"
      ],
      "metadata": {
        "id": "c7dClwl2dnqZ"
      }
    },
    {
      "cell_type": "code",
      "source": [
        "thislist = [\"apple\", \"banana\", \"cherry\", \"orange\", \"kiwi\", \"melon\", \"mango\"]\n",
        "print(thislist[2:5])"
      ],
      "metadata": {
        "colab": {
          "base_uri": "https://localhost:8080/"
        },
        "id": "lVzG99HEdiYN",
        "outputId": "350379ee-f03f-458e-da45-9ae77f533cf4"
      },
      "execution_count": null,
      "outputs": [
        {
          "output_type": "stream",
          "name": "stdout",
          "text": [
            "['cherry', 'orange', 'kiwi']\n"
          ]
        }
      ]
    },
    {
      "cell_type": "code",
      "source": [
        "thislist = [\"apple\", \"banana\", \"cherry\", \"orange\", \"kiwi\", \"melon\", \"mango\"]\n",
        "print(thislist[2:])"
      ],
      "metadata": {
        "colab": {
          "base_uri": "https://localhost:8080/"
        },
        "id": "OWiCpN3gdnJF",
        "outputId": "2309db9c-b174-4959-c547-e71d2cf00e0b"
      },
      "execution_count": null,
      "outputs": [
        {
          "output_type": "stream",
          "name": "stdout",
          "text": [
            "['cherry', 'orange', 'kiwi', 'melon', 'mango']\n"
          ]
        }
      ]
    },
    {
      "cell_type": "markdown",
      "source": [
        "Negetive indexing"
      ],
      "metadata": {
        "id": "ziXoR1HAeFCA"
      }
    },
    {
      "cell_type": "code",
      "source": [
        "print(thislist[-4:-1])   # includes (-4) and not include (-1)"
      ],
      "metadata": {
        "colab": {
          "base_uri": "https://localhost:8080/"
        },
        "id": "il1yQaxgeHYF",
        "outputId": "33b68377-ee5c-4e9c-f1d3-9cb95578a16f"
      },
      "execution_count": null,
      "outputs": [
        {
          "output_type": "stream",
          "name": "stdout",
          "text": [
            "['orange', 'kiwi', 'melon']\n"
          ]
        }
      ]
    },
    {
      "cell_type": "markdown",
      "source": [
        "#### Check if Item Exists\n"
      ],
      "metadata": {
        "id": "tzomq_QyeWIb"
      }
    },
    {
      "cell_type": "code",
      "source": [
        "thislist = [\"apple\", \"banana\", \"cherry\"]\n",
        "if \"apple\" in thislist:\n",
        "  print(\"Yes, 'apple' is in the fruits list\")"
      ],
      "metadata": {
        "colab": {
          "base_uri": "https://localhost:8080/"
        },
        "id": "U1j9UEGreXag",
        "outputId": "f9a5215f-e724-45a5-dbbd-9909b802f9bf"
      },
      "execution_count": null,
      "outputs": [
        {
          "output_type": "stream",
          "name": "stdout",
          "text": [
            "Yes, 'apple' is in the fruits list\n"
          ]
        }
      ]
    },
    {
      "cell_type": "markdown",
      "source": [
        "#### Change List items"
      ],
      "metadata": {
        "id": "M5Xvsk2oeb1D"
      }
    },
    {
      "cell_type": "code",
      "source": [
        "thislist = [\"apple\", \"banana\", \"cherry\"]\n",
        "thislist[1] = \"blackcurrant\"\n",
        "print(thislist)"
      ],
      "metadata": {
        "colab": {
          "base_uri": "https://localhost:8080/"
        },
        "id": "UTQjfYmOgdfV",
        "outputId": "ca438d07-cee0-442e-b1a2-b08965860cfa"
      },
      "execution_count": null,
      "outputs": [
        {
          "output_type": "stream",
          "name": "stdout",
          "text": [
            "['apple', 'blackcurrant', 'cherry']\n"
          ]
        }
      ]
    },
    {
      "cell_type": "markdown",
      "source": [
        "Change a Range of Item Values\n"
      ],
      "metadata": {
        "id": "JZjX1VI7ghge"
      }
    },
    {
      "cell_type": "code",
      "source": [
        "thislist = [\"apple\", \"banana\", \"cherry\", \"orange\", \"kiwi\", \"mango\"]\n",
        "thislist[1:3] = [\"blackcurrant\", \"watermelon\"]\n",
        "print(thislist)"
      ],
      "metadata": {
        "colab": {
          "base_uri": "https://localhost:8080/"
        },
        "id": "gs2Xox47ggwh",
        "outputId": "ee3744b1-1ebf-4e3e-b8b8-6b22638a49f6"
      },
      "execution_count": null,
      "outputs": [
        {
          "output_type": "stream",
          "name": "stdout",
          "text": [
            "['apple', 'blackcurrant', 'watermelon', 'orange', 'kiwi', 'mango']\n"
          ]
        }
      ]
    },
    {
      "cell_type": "markdown",
      "source": [
        "If you insert less/more items than you replace, the new items will be inserted where you specified, and the remaining items will move accordingly"
      ],
      "metadata": {
        "id": "bz9Au9QegtqR"
      }
    },
    {
      "cell_type": "code",
      "source": [
        "thislist = [\"apple\", \"banana\", \"cherry\"]\n",
        "thislist[1:2] = [\"blackcurrant\", \"watermelon\"]\n",
        "print(thislist)"
      ],
      "metadata": {
        "colab": {
          "base_uri": "https://localhost:8080/"
        },
        "id": "ZONKIjBjg2IJ",
        "outputId": "89c0ff6b-8231-484a-be08-01e67f266c0d"
      },
      "execution_count": null,
      "outputs": [
        {
          "output_type": "stream",
          "name": "stdout",
          "text": [
            "['apple', 'blackcurrant', 'watermelon', 'cherry']\n"
          ]
        }
      ]
    },
    {
      "cell_type": "code",
      "source": [
        "thislist = [\"apple\", \"banana\", \"cherry\"]\n",
        "thislist[1:3] = [\"watermelon\"]\n",
        "print(thislist)"
      ],
      "metadata": {
        "colab": {
          "base_uri": "https://localhost:8080/"
        },
        "id": "4LOy8ePVg7Jv",
        "outputId": "09d2ff5c-d758-40c9-9b7f-1aaa8208b00b"
      },
      "execution_count": null,
      "outputs": [
        {
          "output_type": "stream",
          "name": "stdout",
          "text": [
            "['apple', 'watermelon']\n"
          ]
        }
      ]
    },
    {
      "cell_type": "markdown",
      "source": [
        "#### Insert Items\n"
      ],
      "metadata": {
        "id": "xvihXNGAg_f7"
      }
    },
    {
      "cell_type": "markdown",
      "source": [
        "To insert a new list item, without replacing any of the existing values, use the ```insert()``` method."
      ],
      "metadata": {
        "id": "rAudoaRkhELU"
      }
    },
    {
      "cell_type": "code",
      "source": [
        "thislist = [\"apple\", \"banana\", \"cherry\"]\n",
        "thislist.insert(2, \"watermelon\")\n",
        "print(thislist)"
      ],
      "metadata": {
        "colab": {
          "base_uri": "https://localhost:8080/"
        },
        "id": "L_F9s8OchHuv",
        "outputId": "7e6c3f9c-2e5e-4ce5-b445-86cb15af29fe"
      },
      "execution_count": null,
      "outputs": [
        {
          "output_type": "stream",
          "name": "stdout",
          "text": [
            "['apple', 'banana', 'watermelon', 'cherry']\n"
          ]
        }
      ]
    },
    {
      "cell_type": "markdown",
      "source": [
        "To add an item to the end of the list, use the ```append()``` method:\n",
        "\n"
      ],
      "metadata": {
        "id": "kAHFzK9DhMsY"
      }
    },
    {
      "cell_type": "code",
      "source": [
        "thislist = [\"apple\", \"banana\", \"cherry\"]\n",
        "thislist.append(\"orange\")\n",
        "print(thislist)"
      ],
      "metadata": {
        "colab": {
          "base_uri": "https://localhost:8080/"
        },
        "id": "bOTlMhMLhTW2",
        "outputId": "86890674-3bff-488a-844a-9b8d3abd6e66"
      },
      "execution_count": null,
      "outputs": [
        {
          "output_type": "stream",
          "name": "stdout",
          "text": [
            "['apple', 'banana', 'cherry', 'orange']\n"
          ]
        }
      ]
    },
    {
      "cell_type": "markdown",
      "source": [
        "To append multiple elements from another list to the current list, use the ```extend()``` method.\n",
        "\n"
      ],
      "metadata": {
        "id": "ONV8xXzhhYsG"
      }
    },
    {
      "cell_type": "code",
      "source": [
        "thislist = [\"apple\", \"banana\", \"cherry\"]\n",
        "tropical = [\"mango\", \"pineapple\", \"papaya\"]\n",
        "thislist.extend(tropical)\n",
        "print(thislist)"
      ],
      "metadata": {
        "colab": {
          "base_uri": "https://localhost:8080/"
        },
        "id": "bclnk-KphcBa",
        "outputId": "b2ab72d0-8c15-4371-a1b2-e78a1fbffef0"
      },
      "execution_count": null,
      "outputs": [
        {
          "output_type": "stream",
          "name": "stdout",
          "text": [
            "['apple', 'banana', 'cherry', 'mango', 'pineapple', 'papaya']\n"
          ]
        }
      ]
    },
    {
      "cell_type": "markdown",
      "source": [
        "The ```extend()``` method does not have to append lists, can add any iterable object (tuples, sets, dictionaries etc.)."
      ],
      "metadata": {
        "id": "3cwEHZQuheFN"
      }
    },
    {
      "cell_type": "code",
      "source": [
        "thislist = [\"apple\", \"banana\", \"cherry\"]\n",
        "thistuple = (\"kiwi\", \"orange\")\n",
        "thislist.extend(thistuple)\n",
        "print(thislist)"
      ],
      "metadata": {
        "colab": {
          "base_uri": "https://localhost:8080/"
        },
        "id": "LWI30LxXhk5U",
        "outputId": "04e70a5e-2744-4949-d923-8ca76d81a78c"
      },
      "execution_count": null,
      "outputs": [
        {
          "output_type": "stream",
          "name": "stdout",
          "text": [
            "['apple', 'banana', 'cherry', 'kiwi', 'orange']\n"
          ]
        }
      ]
    },
    {
      "cell_type": "markdown",
      "source": [
        "#### Remove List items"
      ],
      "metadata": {
        "id": "VlnnhOH1hph9"
      }
    },
    {
      "cell_type": "markdown",
      "source": [
        "The ```remove()``` method removes the specified item."
      ],
      "metadata": {
        "id": "YELwnZ4Chu5p"
      }
    },
    {
      "cell_type": "code",
      "source": [
        "thislist = [\"apple\", \"banana\", \"cherry\"]\n",
        "thislist.remove(\"banana\")\n",
        "print(thislist)"
      ],
      "metadata": {
        "colab": {
          "base_uri": "https://localhost:8080/"
        },
        "id": "ycxlskc6hr_y",
        "outputId": "5c661a80-c53f-412c-b635-2f4c753a790b"
      },
      "execution_count": null,
      "outputs": [
        {
          "output_type": "stream",
          "name": "stdout",
          "text": [
            "['apple', 'cherry']\n"
          ]
        }
      ]
    },
    {
      "cell_type": "markdown",
      "source": [
        "If there are more than one item with the specified value, the remove() method removes the first occurance\n",
        "\n"
      ],
      "metadata": {
        "id": "b4ONf3TCh1Bc"
      }
    },
    {
      "cell_type": "markdown",
      "source": [
        "The ```pop()``` method removes the specified index.\n"
      ],
      "metadata": {
        "id": "YYSYnsPJh44Q"
      }
    },
    {
      "cell_type": "code",
      "source": [
        "thislist = [\"apple\", \"banana\", \"cherry\"]\n",
        "thislist.pop(1)\n",
        "print(thislist)"
      ],
      "metadata": {
        "colab": {
          "base_uri": "https://localhost:8080/"
        },
        "id": "_y2Hj_Grh9wa",
        "outputId": "08854c83-1a62-4727-d1da-17adc0bde585"
      },
      "execution_count": null,
      "outputs": [
        {
          "output_type": "stream",
          "name": "stdout",
          "text": [
            "['apple', 'cherry']\n"
          ]
        }
      ]
    },
    {
      "cell_type": "markdown",
      "source": [
        "If you do not specify the index, the ```pop()``` method removes the last item.\n",
        "\n"
      ],
      "metadata": {
        "id": "oCDSq-P2iAWX"
      }
    },
    {
      "cell_type": "code",
      "source": [
        "thislist = [\"apple\", \"banana\", \"cherry\"]\n",
        "thislist.pop()\n",
        "print(thislist)"
      ],
      "metadata": {
        "colab": {
          "base_uri": "https://localhost:8080/"
        },
        "id": "hnlHC7FbiBme",
        "outputId": "4b7fe64c-5098-4886-ec53-468aec570bd9"
      },
      "execution_count": null,
      "outputs": [
        {
          "output_type": "stream",
          "name": "stdout",
          "text": [
            "['apple', 'banana']\n"
          ]
        }
      ]
    },
    {
      "cell_type": "markdown",
      "source": [
        "The ```del``` keyword also removes the specified index"
      ],
      "metadata": {
        "id": "Vz073eddiF8m"
      }
    },
    {
      "cell_type": "code",
      "source": [
        "thislist = [\"apple\", \"banana\", \"cherry\"]\n",
        "del thislist[0]\n",
        "print(thislist)"
      ],
      "metadata": {
        "colab": {
          "base_uri": "https://localhost:8080/"
        },
        "id": "QPe13TcAiHcI",
        "outputId": "a1470e07-7039-4727-a81b-1854b7373638"
      },
      "execution_count": null,
      "outputs": [
        {
          "output_type": "stream",
          "name": "stdout",
          "text": [
            "['banana', 'cherry']\n"
          ]
        }
      ]
    },
    {
      "cell_type": "markdown",
      "source": [
        "The ```del``` keyword can also delete the list completely.\n",
        "\n"
      ],
      "metadata": {
        "id": "-aarOyB4iLnA"
      }
    },
    {
      "cell_type": "code",
      "source": [
        "thislist = [\"apple\", \"banana\", \"cherry\"]\n",
        "del thislist"
      ],
      "metadata": {
        "id": "EKMNojC-iK1T"
      },
      "execution_count": null,
      "outputs": []
    },
    {
      "cell_type": "markdown",
      "source": [
        "The `clear()` method empties the list."
      ],
      "metadata": {
        "id": "Y6l4HtdkiTaD"
      }
    },
    {
      "cell_type": "code",
      "source": [
        "thislist = [\"apple\", \"banana\", \"cherry\"]\n",
        "thislist.clear()\n",
        "print(thislist)"
      ],
      "metadata": {
        "colab": {
          "base_uri": "https://localhost:8080/"
        },
        "id": "bAuTFm0victy",
        "outputId": "e30425a4-d13d-4ad8-a0fb-4dfcecc96c34"
      },
      "execution_count": null,
      "outputs": [
        {
          "output_type": "stream",
          "name": "stdout",
          "text": [
            "[]\n"
          ]
        }
      ]
    },
    {
      "cell_type": "markdown",
      "source": [
        "#### Loop Through a List"
      ],
      "metadata": {
        "id": "YlTz08Pgif0N"
      }
    },
    {
      "cell_type": "markdown",
      "source": [
        "Loop through elements"
      ],
      "metadata": {
        "id": "ngmv03Dhi1uz"
      }
    },
    {
      "cell_type": "code",
      "source": [
        "thislist = [\"apple\", \"banana\", \"cherry\"]\n",
        "for x in thislist:\n",
        "  print(x)"
      ],
      "metadata": {
        "colab": {
          "base_uri": "https://localhost:8080/"
        },
        "id": "wT_aNNF1i93c",
        "outputId": "98be3aef-3ca3-4ffb-debe-de07eb2e1be0"
      },
      "execution_count": null,
      "outputs": [
        {
          "output_type": "stream",
          "name": "stdout",
          "text": [
            "apple\n",
            "banana\n",
            "cherry\n"
          ]
        }
      ]
    },
    {
      "cell_type": "code",
      "source": [
        "thislist = [\"apple\", \"banana\", \"cherry\"]\n",
        "for i in range(len(thislist)):\n",
        "  print(thislist[i])"
      ],
      "metadata": {
        "colab": {
          "base_uri": "https://localhost:8080/"
        },
        "id": "26dAs70nifSl",
        "outputId": "cfc4932c-bc54-4aa2-ace8-299fa2cf6264"
      },
      "execution_count": null,
      "outputs": [
        {
          "output_type": "stream",
          "name": "stdout",
          "text": [
            "apple\n",
            "banana\n",
            "cherry\n"
          ]
        }
      ]
    },
    {
      "cell_type": "markdown",
      "source": [
        "Get the index and the element while looping,"
      ],
      "metadata": {
        "id": "IHxD5ehWjAJv"
      }
    },
    {
      "cell_type": "code",
      "source": [
        "# Using enumerate() with a list\n",
        "my_list = ['apple', 'banana', 'cherry']\n",
        "for index, value in enumerate(my_list):\n",
        "    print(index, value)\n"
      ],
      "metadata": {
        "colab": {
          "base_uri": "https://localhost:8080/"
        },
        "id": "ex-BxLPzi_bx",
        "outputId": "794c8fca-5641-4dda-9021-93b6967ddbb7"
      },
      "execution_count": null,
      "outputs": [
        {
          "output_type": "stream",
          "name": "stdout",
          "text": [
            "0 apple\n",
            "1 banana\n",
            "2 cherry\n"
          ]
        }
      ]
    },
    {
      "cell_type": "markdown",
      "source": [
        "#### List Comprehension\n"
      ],
      "metadata": {
        "id": "A8ktFL57jGQG"
      }
    },
    {
      "cell_type": "markdown",
      "source": [
        "Syntax: <br>\n",
        "> ```newlist = [expression for item in iterable if condition == True]```"
      ],
      "metadata": {
        "id": "txyqEkhv2WON"
      }
    },
    {
      "cell_type": "code",
      "source": [
        "fruits = [\"apple\", \"banana\", \"cherry\", \"kiwi\", \"mango\"]\n",
        "newlist = [x for x in fruits if \"a\" in x]\n",
        "print(newlist)"
      ],
      "metadata": {
        "colab": {
          "base_uri": "https://localhost:8080/"
        },
        "id": "fsB8gHIqjWCl",
        "outputId": "bd6736b5-c798-4efa-d771-72f531ea7410"
      },
      "execution_count": null,
      "outputs": [
        {
          "output_type": "stream",
          "name": "stdout",
          "text": [
            "['apple', 'banana', 'mango']\n"
          ]
        }
      ]
    },
    {
      "cell_type": "code",
      "source": [
        "newlist = [x for x in range(10)]\n",
        "print(newlist)"
      ],
      "metadata": {
        "colab": {
          "base_uri": "https://localhost:8080/"
        },
        "id": "RcBzoZSP28Id",
        "outputId": "0d27006f-8169-47ff-c444-3cfa2df7b4e4"
      },
      "execution_count": null,
      "outputs": [
        {
          "output_type": "stream",
          "name": "stdout",
          "text": [
            "[0, 1, 2, 3, 4, 5, 6, 7, 8, 9]\n"
          ]
        }
      ]
    },
    {
      "cell_type": "code",
      "source": [
        "newlist = [x for x in range(10) if x < 5]\n",
        "print(newlist)"
      ],
      "metadata": {
        "colab": {
          "base_uri": "https://localhost:8080/"
        },
        "id": "1ovaB3od3BVD",
        "outputId": "5a7debe0-44ad-4381-aa22-dff82ffac9b3"
      },
      "execution_count": null,
      "outputs": [
        {
          "output_type": "stream",
          "name": "stdout",
          "text": [
            "[0, 1, 2, 3, 4]\n"
          ]
        }
      ]
    },
    {
      "cell_type": "code",
      "source": [
        "fruits = [\"apple\", \"banana\", \"cherry\", \"kiwi\", \"mango\"]\n",
        "newlist = [x.upper() for x in fruits]\n",
        "print(newlist)"
      ],
      "metadata": {
        "colab": {
          "base_uri": "https://localhost:8080/"
        },
        "id": "IJZ-37qX3H0b",
        "outputId": "0a99b0ef-e457-4451-9537-ceb02b0cd8fd"
      },
      "execution_count": null,
      "outputs": [
        {
          "output_type": "stream",
          "name": "stdout",
          "text": [
            "['APPLE', 'BANANA', 'CHERRY', 'KIWI', 'MANGO']\n"
          ]
        }
      ]
    },
    {
      "cell_type": "code",
      "source": [
        "fruits = [\"apple\", \"banana\", \"cherry\", \"kiwi\", \"mango\"]\n",
        "newlist = ['hello' for x in fruits]\n",
        "print(newlist)"
      ],
      "metadata": {
        "colab": {
          "base_uri": "https://localhost:8080/"
        },
        "id": "SiwycZaq3Lg9",
        "outputId": "95181ffa-d419-4ecb-8832-7df716c83b5c"
      },
      "execution_count": null,
      "outputs": [
        {
          "output_type": "stream",
          "name": "stdout",
          "text": [
            "['hello', 'hello', 'hello', 'hello', 'hello']\n"
          ]
        }
      ]
    },
    {
      "cell_type": "code",
      "source": [
        "# Orange Instead of banana\n",
        "fruits = [\"apple\", \"banana\", \"cherry\", \"kiwi\", \"mango\"]\n",
        "newlist = [x if x != \"banana\" else \"orange\" for x in fruits]\n",
        "print(newlist)"
      ],
      "metadata": {
        "colab": {
          "base_uri": "https://localhost:8080/"
        },
        "id": "AjAOKOlR3Pm_",
        "outputId": "9cdb5037-fa13-473b-cdee-b29e104358c6"
      },
      "execution_count": null,
      "outputs": [
        {
          "output_type": "stream",
          "name": "stdout",
          "text": [
            "['apple', 'orange', 'cherry', 'kiwi', 'mango']\n"
          ]
        }
      ]
    },
    {
      "cell_type": "markdown",
      "source": [
        "#### Sort Lists\n"
      ],
      "metadata": {
        "id": "ZWeA8xfE3qWg"
      }
    },
    {
      "cell_type": "markdown",
      "source": [
        "Sort List Alphanumerically\n"
      ],
      "metadata": {
        "id": "F7lsbtNp3vVR"
      }
    },
    {
      "cell_type": "code",
      "source": [
        "thislist = [\"orange\", \"mango\", \"kiwi\", \"pineapple\", \"banana\"]\n",
        "thislist.sort()\n",
        "print(thislist)"
      ],
      "metadata": {
        "colab": {
          "base_uri": "https://localhost:8080/"
        },
        "id": "B85cdNQW3xg1",
        "outputId": "6c5ad5aa-ba70-4e77-eb5f-f119e17db132"
      },
      "execution_count": null,
      "outputs": [
        {
          "output_type": "stream",
          "name": "stdout",
          "text": [
            "['banana', 'kiwi', 'mango', 'orange', 'pineapple']\n"
          ]
        }
      ]
    },
    {
      "cell_type": "markdown",
      "source": [
        "Sort Descending\n"
      ],
      "metadata": {
        "id": "hildzuqc33eJ"
      }
    },
    {
      "cell_type": "code",
      "source": [
        "thislist = [\"orange\", \"mango\", \"kiwi\", \"pineapple\", \"banana\"]\n",
        "thislist.sort(reverse = True)\n",
        "print(thislist)"
      ],
      "metadata": {
        "colab": {
          "base_uri": "https://localhost:8080/"
        },
        "id": "XoYDXDiS3381",
        "outputId": "d2d55afc-748d-417a-ced8-17c187f9f4ea"
      },
      "execution_count": null,
      "outputs": [
        {
          "output_type": "stream",
          "name": "stdout",
          "text": [
            "['pineapple', 'orange', 'mango', 'kiwi', 'banana']\n"
          ]
        }
      ]
    },
    {
      "cell_type": "markdown",
      "source": [
        "##### Customize Sort Function\n"
      ],
      "metadata": {
        "id": "6xu4nVgR4KXK"
      }
    },
    {
      "cell_type": "markdown",
      "source": [
        "Customize the function by using the keyword argument ```key = function```.\n",
        "\n",
        "The function will return a number that will be used to sort the list (the lowest number first)"
      ],
      "metadata": {
        "id": "SzTZvDvl4UOm"
      }
    },
    {
      "cell_type": "code",
      "source": [
        "def myfunc(n):\n",
        "  return abs(n - 50)\n",
        "\n",
        "thislist = [100, 50, 65, 82, 23]\n",
        "thislist.sort(key = myfunc)\n",
        "print(thislist)"
      ],
      "metadata": {
        "colab": {
          "base_uri": "https://localhost:8080/"
        },
        "id": "RMw4B3tE4S5A",
        "outputId": "5bc63a14-2f37-4898-8739-8b4b37749309"
      },
      "execution_count": null,
      "outputs": [
        {
          "output_type": "stream",
          "name": "stdout",
          "text": [
            "[50, 65, 23, 82, 100]\n"
          ]
        }
      ]
    },
    {
      "cell_type": "markdown",
      "source": [
        "Case Insensitive Sort\n"
      ],
      "metadata": {
        "id": "tWguWACTAWi5"
      }
    },
    {
      "cell_type": "markdown",
      "source": [
        "By default the ```sort()``` method is case sensitive, resulting in all capital letters being sorted before lower case letters"
      ],
      "metadata": {
        "id": "9LoUtEX34Edy"
      }
    },
    {
      "cell_type": "code",
      "source": [
        "thislist = [\"banana\", \"Orange\", \"Kiwi\", \"cherry\"]\n",
        "thislist.sort()\n",
        "print(thislist)"
      ],
      "metadata": {
        "colab": {
          "base_uri": "https://localhost:8080/"
        },
        "id": "d1eC7-nhAaGm",
        "outputId": "685df10e-fb50-4403-92c8-40891114ed2b"
      },
      "execution_count": null,
      "outputs": [
        {
          "output_type": "stream",
          "name": "stdout",
          "text": [
            "['Kiwi', 'Orange', 'banana', 'cherry']\n"
          ]
        }
      ]
    },
    {
      "cell_type": "code",
      "source": [
        "thislist = [\"banana\", \"Orange\", \"Kiwi\", \"cherry\"]\n",
        "thislist.sort(key = str.lower)\n",
        "print(thislist)"
      ],
      "metadata": {
        "colab": {
          "base_uri": "https://localhost:8080/"
        },
        "id": "5PjLqxL1AdOL",
        "outputId": "ca2e3ade-7532-4641-baf1-2f7083e3ee11"
      },
      "execution_count": null,
      "outputs": [
        {
          "output_type": "stream",
          "name": "stdout",
          "text": [
            "['banana', 'cherry', 'Kiwi', 'Orange']\n"
          ]
        }
      ]
    },
    {
      "cell_type": "markdown",
      "source": [
        "Reverse the list"
      ],
      "metadata": {
        "id": "oTSxksJAAkDy"
      }
    },
    {
      "cell_type": "code",
      "source": [
        "thislist = [\"banana\", \"Orange\", \"Kiwi\", \"cherry\"]\n",
        "thislist.reverse()\n",
        "print(thislist)"
      ],
      "metadata": {
        "colab": {
          "base_uri": "https://localhost:8080/"
        },
        "id": "cDLL-B8HAmHy",
        "outputId": "61c7d139-27e4-41ec-e4da-df1bb70d77a6"
      },
      "execution_count": null,
      "outputs": [
        {
          "output_type": "stream",
          "name": "stdout",
          "text": [
            "['cherry', 'Kiwi', 'Orange', 'banana']\n"
          ]
        }
      ]
    },
    {
      "cell_type": "markdown",
      "source": [
        "#### Copy a List\n"
      ],
      "metadata": {
        "id": "JnqTRRjBAvAR"
      }
    },
    {
      "cell_type": "markdown",
      "source": [
        "Cannot copy a list simply by typing ```list2 = list1```, because: ```list2``` will only be a reference to ```list1```, and changes made in list1 will automatically also be made in ```list2```.\n",
        "\n",
        "There are ways to make a copy, one way is to use the built-in List method ```copy()```."
      ],
      "metadata": {
        "id": "G_AqheheAwBK"
      }
    },
    {
      "cell_type": "code",
      "source": [
        "thislist = [\"apple\", \"banana\", \"cherry\"]\n",
        "mylist = thislist.copy()\n",
        "print(mylist)"
      ],
      "metadata": {
        "colab": {
          "base_uri": "https://localhost:8080/"
        },
        "id": "-9rNpBJ9BFTX",
        "outputId": "00234648-c9ff-4fd7-b703-b9cf1120f571"
      },
      "execution_count": null,
      "outputs": [
        {
          "output_type": "stream",
          "name": "stdout",
          "text": [
            "['apple', 'banana', 'cherry']\n"
          ]
        }
      ]
    },
    {
      "cell_type": "markdown",
      "source": [
        "Make a copy of a list with the ```list()``` method"
      ],
      "metadata": {
        "id": "U-jTFtaqBEpb"
      }
    },
    {
      "cell_type": "code",
      "source": [
        "thislist = [\"apple\", \"banana\", \"cherry\"]\n",
        "mylist = list(thislist)\n",
        "print(mylist)"
      ],
      "metadata": {
        "colab": {
          "base_uri": "https://localhost:8080/"
        },
        "id": "lW4SkeJ5BIyb",
        "outputId": "39c03621-77e5-41bf-bbf7-10079f70e318"
      },
      "execution_count": null,
      "outputs": [
        {
          "output_type": "stream",
          "name": "stdout",
          "text": [
            "['apple', 'banana', 'cherry']\n"
          ]
        }
      ]
    },
    {
      "cell_type": "markdown",
      "source": [
        "#### Join Two Lists\n"
      ],
      "metadata": {
        "id": "pqRBXH4WBSuI"
      }
    },
    {
      "cell_type": "markdown",
      "source": [
        "Using the ```+``` operator"
      ],
      "metadata": {
        "id": "5h2mh7jEBWkD"
      }
    },
    {
      "cell_type": "code",
      "source": [
        "list1 = [\"a\", \"b\", \"c\"]\n",
        "list2 = [1, 2, 3]\n",
        "\n",
        "list3 = list1 + list2\n",
        "print(list3)"
      ],
      "metadata": {
        "colab": {
          "base_uri": "https://localhost:8080/"
        },
        "id": "Vyu26aB4BTw_",
        "outputId": "a2a9eee9-4660-48a6-d87d-caea787db475"
      },
      "execution_count": null,
      "outputs": [
        {
          "output_type": "stream",
          "name": "stdout",
          "text": [
            "['a', 'b', 'c', 1, 2, 3]\n"
          ]
        }
      ]
    },
    {
      "cell_type": "markdown",
      "source": [
        " Use the ```extend()``` method"
      ],
      "metadata": {
        "id": "afDRvwXFBgxv"
      }
    },
    {
      "cell_type": "code",
      "source": [
        "list1 = [\"a\", \"b\" , \"c\"]\n",
        "list2 = [1, 2, 3]\n",
        "\n",
        "list1.extend(list2)\n",
        "print(list1)"
      ],
      "metadata": {
        "colab": {
          "base_uri": "https://localhost:8080/"
        },
        "id": "NzxfprHIBjYF",
        "outputId": "64923b9a-1ead-47d1-82e1-69c747f05f76"
      },
      "execution_count": null,
      "outputs": [
        {
          "output_type": "stream",
          "name": "stdout",
          "text": [
            "['a', 'b', 'c', 1, 2, 3]\n"
          ]
        }
      ]
    },
    {
      "cell_type": "markdown",
      "source": [
        "#### Methods"
      ],
      "metadata": {
        "id": "jL1-xOZkBloR"
      }
    },
    {
      "cell_type": "markdown",
      "source": [
        "\n",
        "| Method       | Description                                                                                                    | Example                                               |\n",
        "|--------------|----------------------------------------------------------------------------------------------------------------|-------------------------------------------------------|\n",
        "| append()     | Adds an element to the end of the list                                                                         | `my_list.append(4)`                                   |\n",
        "| clear()      | Removes all elements from the list                                                                             | `my_list.clear()`                                     |\n",
        "| copy()       | Returns a shallow copy of the list                                                                             | `new_list = my_list.copy()`                          |\n",
        "| count()      | Returns the number of occurrences of a specified element in the list                                          | `count = my_list.count(2)`                           |\n",
        "| extend()     | Adds elements from an iterable to the end of the list                                                          | `my_list.extend([5, 6])`                              |\n",
        "| index()      | Returns the index of the first occurrence of a specified element in the list                                    | `index = my_list.index(3)`                            |\n",
        "| insert()     | Inserts an element at the specified position                                                                   | `my_list.insert(1, 'a')`                              |\n",
        "| pop()        | Removes and returns the element at the specified index (default is the last element)                            | `element = my_list.pop(2)`                            |\n",
        "| remove()     | Removes the first occurrence of a specified element from the list                                              | `my_list.remove('a')`                                 |\n",
        "| reverse()    | Reverses the elements of the list                                                                              | `my_list.reverse()`                                   |\n",
        "| sort()       | Sorts the elements of the list (in-place by default)                                                           | `my_list.sort()`                                      |\n",
        "\n"
      ],
      "metadata": {
        "id": "FX_mz0SsByzg"
      }
    },
    {
      "cell_type": "markdown",
      "source": [
        "### Tuples\n"
      ],
      "metadata": {
        "id": "UvFXG3m_EEuV"
      }
    },
    {
      "cell_type": "markdown",
      "source": [
        "A tuple is a collection which is ordered and unchangeable.Tuple items are ordered, unchangeable, and allow duplicate values.Tuple items can be of any data type.\n",
        "\n"
      ],
      "metadata": {
        "id": "Rtf6wz1cSES5"
      }
    },
    {
      "cell_type": "code",
      "source": [
        "thistuple = (\"apple\", \"banana\", \"cherry\", \"apple\", \"cherry\")\n",
        "print(thistuple)"
      ],
      "metadata": {
        "colab": {
          "base_uri": "https://localhost:8080/"
        },
        "id": "fyxopQu2SG26",
        "outputId": "d85854a1-1af2-4988-e3d5-97460e3690b6"
      },
      "execution_count": null,
      "outputs": [
        {
          "output_type": "stream",
          "name": "stdout",
          "text": [
            "('apple', 'banana', 'cherry', 'apple', 'cherry')\n"
          ]
        }
      ]
    },
    {
      "cell_type": "markdown",
      "source": [
        "#### Tuple Length\n"
      ],
      "metadata": {
        "id": "pi75tUQnSEpR"
      }
    },
    {
      "cell_type": "code",
      "source": [
        "print(len(thistuple))"
      ],
      "metadata": {
        "colab": {
          "base_uri": "https://localhost:8080/"
        },
        "id": "2w5J1ylxBx9W",
        "outputId": "063938ac-6465-40cb-eaa2-602b9376a94f"
      },
      "execution_count": null,
      "outputs": [
        {
          "output_type": "stream",
          "name": "stdout",
          "text": [
            "5\n"
          ]
        }
      ]
    },
    {
      "cell_type": "markdown",
      "source": [
        "#### Create tuple"
      ],
      "metadata": {
        "id": "ePgZMoR2SVqi"
      }
    },
    {
      "cell_type": "markdown",
      "source": [
        "Create Tuple With One Item\n"
      ],
      "metadata": {
        "id": "SyS_T5bGSXgn"
      }
    },
    {
      "cell_type": "code",
      "source": [
        "thistuple = (\"apple\",)   ## Must inclue , at the end\n",
        "print(type(thistuple))"
      ],
      "metadata": {
        "colab": {
          "base_uri": "https://localhost:8080/"
        },
        "id": "fdwCa3itSa8k",
        "outputId": "2b9999e4-3876-4070-9d91-0e2bc5532868"
      },
      "execution_count": null,
      "outputs": [
        {
          "output_type": "stream",
          "name": "stdout",
          "text": [
            "<class 'tuple'>\n"
          ]
        }
      ]
    },
    {
      "cell_type": "code",
      "source": [
        "#NOT a tuple\n",
        "thistuple = (\"apple\")\n",
        "print(type(thistuple))"
      ],
      "metadata": {
        "colab": {
          "base_uri": "https://localhost:8080/"
        },
        "id": "49QHhw4CSgdK",
        "outputId": "18cb8854-71f3-4bb0-dfe6-ea05e246eb79"
      },
      "execution_count": null,
      "outputs": [
        {
          "output_type": "stream",
          "name": "stdout",
          "text": [
            "<class 'str'>\n"
          ]
        }
      ]
    },
    {
      "cell_type": "markdown",
      "source": [
        "The ```tuple()``` Constructor\n"
      ],
      "metadata": {
        "id": "iqpPqO5CSpqC"
      }
    },
    {
      "cell_type": "code",
      "source": [
        "thistuple = tuple((\"apple\", \"banana\", \"cherry\"))\n",
        "print(thistuple)"
      ],
      "metadata": {
        "colab": {
          "base_uri": "https://localhost:8080/"
        },
        "id": "Sr-4qaEHSrF8",
        "outputId": "0b4f45f2-f80a-45be-a247-82d1c5354d1d"
      },
      "execution_count": null,
      "outputs": [
        {
          "output_type": "stream",
          "name": "stdout",
          "text": [
            "('apple', 'banana', 'cherry')\n"
          ]
        }
      ]
    },
    {
      "cell_type": "markdown",
      "source": [
        "#### Access Tuple Items\n"
      ],
      "metadata": {
        "id": "tzUlEz-iSxKh"
      }
    },
    {
      "cell_type": "markdown",
      "source": [
        " By referring to the index number"
      ],
      "metadata": {
        "id": "lZccA4XiS2B-"
      }
    },
    {
      "cell_type": "code",
      "source": [
        "thistuple = (\"apple\", \"banana\", \"cherry\")\n",
        "print(thistuple[1])"
      ],
      "metadata": {
        "colab": {
          "base_uri": "https://localhost:8080/"
        },
        "id": "Ldmv9WoZSyFN",
        "outputId": "95d71771-6b61-439c-9167-4de348b736e8"
      },
      "execution_count": null,
      "outputs": [
        {
          "output_type": "stream",
          "name": "stdout",
          "text": [
            "banana\n"
          ]
        }
      ]
    },
    {
      "cell_type": "markdown",
      "source": [
        "Negative Indexing"
      ],
      "metadata": {
        "id": "H-G_2-xtS5H9"
      }
    },
    {
      "cell_type": "code",
      "source": [
        "thistuple = (\"apple\", \"banana\", \"cherry\")\n",
        "print(thistuple[-1])"
      ],
      "metadata": {
        "colab": {
          "base_uri": "https://localhost:8080/"
        },
        "id": "fuN74egfS5hW",
        "outputId": "43771b44-50c8-4168-dba7-8379eac6bbd5"
      },
      "execution_count": null,
      "outputs": [
        {
          "output_type": "stream",
          "name": "stdout",
          "text": [
            "cherry\n"
          ]
        }
      ]
    },
    {
      "cell_type": "markdown",
      "source": [
        "Range of Indexes\n"
      ],
      "metadata": {
        "id": "lFcQRMfWS8_-"
      }
    },
    {
      "cell_type": "code",
      "source": [
        "thistuple = (\"apple\", \"banana\", \"cherry\", \"orange\", \"kiwi\", \"melon\", \"mango\")\n",
        "print(thistuple[2:5])    #Includes 2 and excludes 5"
      ],
      "metadata": {
        "colab": {
          "base_uri": "https://localhost:8080/"
        },
        "id": "6GeeCycZS9fn",
        "outputId": "5d024d62-8caa-46e3-ef41-baf4fe93b3d0"
      },
      "execution_count": null,
      "outputs": [
        {
          "output_type": "stream",
          "name": "stdout",
          "text": [
            "('cherry', 'orange', 'kiwi')\n"
          ]
        }
      ]
    },
    {
      "cell_type": "code",
      "source": [
        "thistuple = (\"apple\", \"banana\", \"cherry\", \"orange\", \"kiwi\", \"melon\", \"mango\")\n",
        "print(thistuple[:4])"
      ],
      "metadata": {
        "colab": {
          "base_uri": "https://localhost:8080/"
        },
        "id": "y8c1WHffTGxm",
        "outputId": "20ac4ca5-dc9b-4572-977f-512033d09afa"
      },
      "execution_count": null,
      "outputs": [
        {
          "output_type": "stream",
          "name": "stdout",
          "text": [
            "('apple', 'banana', 'cherry', 'orange')\n"
          ]
        }
      ]
    },
    {
      "cell_type": "code",
      "source": [
        "thistuple = (\"apple\", \"banana\", \"cherry\", \"orange\", \"kiwi\", \"melon\", \"mango\")\n",
        "print(thistuple[2:])"
      ],
      "metadata": {
        "colab": {
          "base_uri": "https://localhost:8080/"
        },
        "id": "kZK1DiNDTLVC",
        "outputId": "49c7b9c5-3b48-44cd-bb5f-764d6f7b2f84"
      },
      "execution_count": null,
      "outputs": [
        {
          "output_type": "stream",
          "name": "stdout",
          "text": [
            "('cherry', 'orange', 'kiwi', 'melon', 'mango')\n"
          ]
        }
      ]
    },
    {
      "cell_type": "code",
      "source": [
        "thistuple = (\"apple\", \"banana\", \"cherry\", \"orange\", \"kiwi\", \"melon\", \"mango\")\n",
        "print(thistuple[-4:-1])"
      ],
      "metadata": {
        "colab": {
          "base_uri": "https://localhost:8080/"
        },
        "id": "CrnlHc6BTN-Y",
        "outputId": "fe1a2339-ec23-4120-ce20-c6019a877cf3"
      },
      "execution_count": null,
      "outputs": [
        {
          "output_type": "stream",
          "name": "stdout",
          "text": [
            "('orange', 'kiwi', 'melon')\n"
          ]
        }
      ]
    },
    {
      "cell_type": "markdown",
      "source": [
        "#### Change Tuple Values"
      ],
      "metadata": {
        "id": "Kbae823bV9ho"
      }
    },
    {
      "cell_type": "markdown",
      "source": [
        "Once a tuple is created, you cannot change its values. Tuples are unchangeable, or immutable as it also is called.Convert the tuple into a list, change the list, and convert the list back into a tuple."
      ],
      "metadata": {
        "id": "AnDZ6O2cWAQg"
      }
    },
    {
      "cell_type": "code",
      "source": [
        "x = (\"apple\", \"banana\", \"cherry\")\n",
        "y = list(x)\n",
        "y[1] = \"kiwi\"\n",
        "x = tuple(y)\n",
        "print(x)"
      ],
      "metadata": {
        "colab": {
          "base_uri": "https://localhost:8080/"
        },
        "id": "VQ68kXNKWIOU",
        "outputId": "63732ad2-6619-4727-89ef-56f9f49e8ed3"
      },
      "execution_count": null,
      "outputs": [
        {
          "output_type": "stream",
          "name": "stdout",
          "text": [
            "('apple', 'kiwi', 'cherry')\n"
          ]
        }
      ]
    },
    {
      "cell_type": "markdown",
      "source": [
        "Add tuple to a tuple. You are allowed to add tuples to tuples, so if you want to add one item, (or many), create a new tuple with the item(s), and add it to the existing tuple:"
      ],
      "metadata": {
        "id": "gKFffBqIWJc4"
      }
    },
    {
      "cell_type": "code",
      "source": [
        "thistuple = (\"apple\", \"banana\", \"cherry\")\n",
        "y = (\"orange\",)\n",
        "thistuple += y\n",
        "print(thistuple)"
      ],
      "metadata": {
        "colab": {
          "base_uri": "https://localhost:8080/"
        },
        "id": "LGhB7jvJWQM9",
        "outputId": "3b669850-5498-41bf-a201-efbf48bb7918"
      },
      "execution_count": null,
      "outputs": [
        {
          "output_type": "stream",
          "name": "stdout",
          "text": [
            "('apple', 'banana', 'cherry', 'orange')\n"
          ]
        }
      ]
    },
    {
      "cell_type": "markdown",
      "source": [
        "#### Unpack tuples"
      ],
      "metadata": {
        "id": "bD9z0lErWWt1"
      }
    },
    {
      "cell_type": "code",
      "source": [
        "fruits = (\"apple\", \"banana\", \"cherry\")\n",
        "\n",
        "(green, yellow, red) = fruits\n",
        "\n",
        "print(green)\n",
        "print(yellow)\n",
        "print(red)"
      ],
      "metadata": {
        "colab": {
          "base_uri": "https://localhost:8080/"
        },
        "id": "uLUH4hUxWdcz",
        "outputId": "ddc655f2-6cef-4cda-ca99-302f7147a175"
      },
      "execution_count": null,
      "outputs": [
        {
          "output_type": "stream",
          "name": "stdout",
          "text": [
            "apple\n",
            "banana\n",
            "cherry\n"
          ]
        }
      ]
    },
    {
      "cell_type": "markdown",
      "source": [
        "If the number of variables is less than the number of values, you can add an `*` to the variable name and the values will be assigned to the variable as a list\n",
        "\n"
      ],
      "metadata": {
        "id": "It_z6VcrWahh"
      }
    },
    {
      "cell_type": "code",
      "source": [
        "fruits = (\"apple\", \"banana\", \"cherry\", \"strawberry\", \"raspberry\")\n",
        "(green, yellow, *red) = fruits\n",
        "print(green)\n",
        "print(yellow)\n",
        "print(red)"
      ],
      "metadata": {
        "colab": {
          "base_uri": "https://localhost:8080/"
        },
        "id": "YSv8oiTidtqP",
        "outputId": "b8adf0d5-391b-49ad-fa25-32f460d9220f"
      },
      "execution_count": null,
      "outputs": [
        {
          "output_type": "stream",
          "name": "stdout",
          "text": [
            "apple\n",
            "banana\n",
            "['cherry', 'strawberry', 'raspberry']\n"
          ]
        }
      ]
    },
    {
      "cell_type": "code",
      "source": [
        "fruits = (\"apple\", \"mango\", \"papaya\", \"pineapple\", \"cherry\")\n",
        "(green, *tropic, red) = fruits\n",
        "print(green)\n",
        "print(tropic)\n",
        "print(red)"
      ],
      "metadata": {
        "colab": {
          "base_uri": "https://localhost:8080/"
        },
        "id": "J8q7kVQHd0hi",
        "outputId": "0996ea7c-57f4-462a-bdf4-78d55a9a5a62"
      },
      "execution_count": null,
      "outputs": [
        {
          "output_type": "stream",
          "name": "stdout",
          "text": [
            "apple\n",
            "['mango', 'papaya', 'pineapple']\n",
            "cherry\n"
          ]
        }
      ]
    },
    {
      "cell_type": "markdown",
      "source": [
        "#### Loop Through a Tuple\n"
      ],
      "metadata": {
        "id": "2dCoQyQbd5fn"
      }
    },
    {
      "cell_type": "code",
      "source": [
        "thistuple = (\"apple\", \"banana\", \"cherry\")\n",
        "for x in thistuple:\n",
        "  print(x)"
      ],
      "metadata": {
        "colab": {
          "base_uri": "https://localhost:8080/"
        },
        "id": "zvL8Tvswd8PO",
        "outputId": "e9ee75bf-f026-4e6a-94a2-4059be978847"
      },
      "execution_count": null,
      "outputs": [
        {
          "output_type": "stream",
          "name": "stdout",
          "text": [
            "apple\n",
            "banana\n",
            "cherry\n"
          ]
        }
      ]
    },
    {
      "cell_type": "code",
      "source": [
        "thistuple = (\"apple\", \"banana\", \"cherry\")\n",
        "for i in range(len(thistuple)):\n",
        "  print(thistuple[i])"
      ],
      "metadata": {
        "colab": {
          "base_uri": "https://localhost:8080/"
        },
        "id": "LfvLk6N5d8U0",
        "outputId": "36cd76b1-1dc7-4eb6-a3c1-967d108a6d9f"
      },
      "execution_count": null,
      "outputs": [
        {
          "output_type": "stream",
          "name": "stdout",
          "text": [
            "apple\n",
            "banana\n",
            "cherry\n"
          ]
        }
      ]
    },
    {
      "cell_type": "markdown",
      "source": [
        "#### Join Two Tuples\n"
      ],
      "metadata": {
        "id": "vkF_pzafeJp5"
      }
    },
    {
      "cell_type": "code",
      "source": [
        "tuple1 = (\"a\", \"b\" , \"c\")\n",
        "tuple2 = (1, 2, 3)\n",
        "\n",
        "tuple3 = tuple1 + tuple2\n",
        "print(tuple3)"
      ],
      "metadata": {
        "colab": {
          "base_uri": "https://localhost:8080/"
        },
        "id": "EnUWbHe9eMcX",
        "outputId": "595b9183-f324-4205-c688-49f6dfb8f7d3"
      },
      "execution_count": null,
      "outputs": [
        {
          "output_type": "stream",
          "name": "stdout",
          "text": [
            "('a', 'b', 'c', 1, 2, 3)\n"
          ]
        }
      ]
    },
    {
      "cell_type": "code",
      "source": [
        "fruits = (\"apple\", \"banana\", \"cherry\")\n",
        "mytuple = fruits * 2\n",
        "\n",
        "print(mytuple)"
      ],
      "metadata": {
        "colab": {
          "base_uri": "https://localhost:8080/"
        },
        "id": "yAZzCpueePNK",
        "outputId": "e4524bcc-28b8-481f-a578-11ba64e365ba"
      },
      "execution_count": null,
      "outputs": [
        {
          "output_type": "stream",
          "name": "stdout",
          "text": [
            "('apple', 'banana', 'cherry', 'apple', 'banana', 'cherry')\n"
          ]
        }
      ]
    },
    {
      "cell_type": "markdown",
      "source": [
        "#### Tuple Methods"
      ],
      "metadata": {
        "id": "ig6TNlaVeKtS"
      }
    },
    {
      "cell_type": "markdown",
      "source": [
        "\n",
        "\n",
        "| Method       | Description                                                                                                    | Example                                               |\n",
        "|--------------|----------------------------------------------------------------------------------------------------------------|-------------------------------------------------------|\n",
        "| count()      | Returns the number of occurrences of a specified element in the tuple                                          | `my_tuple.count(2)`                                   |\n",
        "| index()      | Returns the index of the first occurrence of a specified element in the tuple                                    | `index = my_tuple.index(3)`                            |\n",
        "\n"
      ],
      "metadata": {
        "id": "esLqOy3ree6D"
      }
    },
    {
      "cell_type": "markdown",
      "source": [
        "### Sets"
      ],
      "metadata": {
        "id": "lodFFZM8elix"
      }
    },
    {
      "cell_type": "markdown",
      "source": [
        "#### Sets vs Lists"
      ],
      "metadata": {
        "id": "HSuf1uFCfAXW"
      }
    },
    {
      "cell_type": "markdown",
      "source": [
        "\n",
        "| Characteristic            | Sets                                              | Lists                                                |\n",
        "|---------------------------|---------------------------------------------------|------------------------------------------------------|\n",
        "| Ordering                  | No inherent order, elements are unordered        | Maintains insertion order, elements are ordered      |\n",
        "| Duplication               | Does not allow duplicate elements                | Allows duplicate elements                            |\n",
        "| Mutability                | Mutable: Elements can be added or removed         | Mutable: Elements can be added, removed, or modified |\n",
        "| Membership Testing        | Optimized for membership testing (`x in my_set`) | Membership testing can be slower for large lists     |\n",
        "| Uniqueness                | Enforces uniqueness of elements                  | Does not enforce uniqueness of elements              |\n",
        "| Operations                | Useful for set operations like union, intersection, difference | Commonly used for sequence operations, accessing elements by index |\n",
        "| Performance               | Generally faster for membership testing and operations like union, intersection, and difference | Slower for membership testing, especially for large lists |\n",
        "| Use Cases                 | Eliminating duplicates, set operations, efficient membership testing | Maintaining order, accessing elements by index, allowing duplicates |\n"
      ],
      "metadata": {
        "id": "5plHHI5XfDzl"
      }
    },
    {
      "cell_type": "markdown",
      "source": [
        "A set is a collection which is unordered, unchangeable*, and unindexed.\n"
      ],
      "metadata": {
        "id": "rOodDX_TfKZq"
      }
    },
    {
      "cell_type": "code",
      "source": [
        "thisset = {\"apple\", \"banana\", \"cherry\"}\n",
        "print(thisset)"
      ],
      "metadata": {
        "colab": {
          "base_uri": "https://localhost:8080/"
        },
        "id": "W8yDopYXfSUX",
        "outputId": "a4061787-5082-4b20-e0a7-bb90d17173c3"
      },
      "execution_count": null,
      "outputs": [
        {
          "output_type": "stream",
          "name": "stdout",
          "text": [
            "{'cherry', 'apple', 'banana'}\n"
          ]
        }
      ]
    },
    {
      "cell_type": "markdown",
      "source": [
        "Duplicates are not allowed in sets"
      ],
      "metadata": {
        "id": "n0HH4MgbfdAs"
      }
    },
    {
      "cell_type": "code",
      "source": [
        "thisset = {\"apple\", \"banana\", \"cherry\", \"apple\"}\n",
        "print(thisset)"
      ],
      "metadata": {
        "colab": {
          "base_uri": "https://localhost:8080/"
        },
        "id": "1BKNnZNdfhZG",
        "outputId": "64d9daf6-2e8c-4876-d985-252600bc24ac"
      },
      "execution_count": null,
      "outputs": [
        {
          "output_type": "stream",
          "name": "stdout",
          "text": [
            "{'cherry', 'apple', 'banana'}\n"
          ]
        }
      ]
    },
    {
      "cell_type": "markdown",
      "source": [
        "The values True and 1 are considered the same value in sets, and are treated as duplicates"
      ],
      "metadata": {
        "id": "bCfWQxsvffoo"
      }
    },
    {
      "cell_type": "code",
      "source": [
        "thisset = {\"apple\", \"banana\", \"cherry\", True, 1, 2}\n",
        "print(thisset)"
      ],
      "metadata": {
        "colab": {
          "base_uri": "https://localhost:8080/"
        },
        "id": "aKrAyLFWfoE9",
        "outputId": "c1f3a9c9-85d0-43ae-93db-f24fa2d9afd5"
      },
      "execution_count": null,
      "outputs": [
        {
          "output_type": "stream",
          "name": "stdout",
          "text": [
            "{'cherry', True, 2, 'apple', 'banana'}\n"
          ]
        }
      ]
    },
    {
      "cell_type": "code",
      "source": [
        "print(type(thisset))"
      ],
      "metadata": {
        "colab": {
          "base_uri": "https://localhost:8080/"
        },
        "id": "Fpc6OWGef3Ps",
        "outputId": "94d6ee2e-d56a-433a-b993-d5d7ff2b163f"
      },
      "execution_count": null,
      "outputs": [
        {
          "output_type": "stream",
          "name": "stdout",
          "text": [
            "<class 'set'>\n"
          ]
        }
      ]
    },
    {
      "cell_type": "markdown",
      "source": [
        "Also the values False and 0 are considered the same value in sets, and are treated as duplicates"
      ],
      "metadata": {
        "id": "0TUz42sCfsi9"
      }
    },
    {
      "cell_type": "markdown",
      "source": [
        "To construct a set, `set()` can be used."
      ],
      "metadata": {
        "id": "RvM8z7dJgHiq"
      }
    },
    {
      "cell_type": "code",
      "source": [
        "thisset = set([\"apple\", \"banana\", \"cherry\"])\n",
        "print(thisset)"
      ],
      "metadata": {
        "colab": {
          "base_uri": "https://localhost:8080/"
        },
        "id": "WiHs5bEFgBxC",
        "outputId": "249cf10c-69dd-4192-d19a-a3c2e449702e"
      },
      "execution_count": null,
      "outputs": [
        {
          "output_type": "stream",
          "name": "stdout",
          "text": [
            "{'cherry', 'apple', 'banana'}\n"
          ]
        }
      ]
    },
    {
      "cell_type": "markdown",
      "source": [
        "This method can be used to elemenate identical elements of a list."
      ],
      "metadata": {
        "id": "9c9t7c6EgVsK"
      }
    },
    {
      "cell_type": "code",
      "source": [
        "list_a = [\"apple\", \"banana\", \"cherry\",\"apple\",\"cherry\",\"cherry\",\"apple\",\"cherry\",\"apple\",\"cherry\",\"cherry\",\"apple\",\"cherry\",\"cherry\"]\n",
        "thisset = set(list_a)\n",
        "list_unique = list(thisset)\n",
        "print(list_unique)"
      ],
      "metadata": {
        "colab": {
          "base_uri": "https://localhost:8080/"
        },
        "id": "lv5rQSXbgbjA",
        "outputId": "ecee11a1-2c98-4701-9929-c8652002f080"
      },
      "execution_count": null,
      "outputs": [
        {
          "output_type": "stream",
          "name": "stdout",
          "text": [
            "['cherry', 'apple', 'banana']\n"
          ]
        }
      ]
    },
    {
      "cell_type": "markdown",
      "source": [
        "#### Length of a Set"
      ],
      "metadata": {
        "id": "gcFvylX4ft8R"
      }
    },
    {
      "cell_type": "code",
      "source": [
        "thisset = {\"apple\", \"banana\", \"cherry\"}\n",
        "print(len(thisset))"
      ],
      "metadata": {
        "colab": {
          "base_uri": "https://localhost:8080/"
        },
        "id": "DjTkPYStfyJ2",
        "outputId": "0e996ab4-31b1-4192-f4bb-757e45952f2b"
      },
      "execution_count": null,
      "outputs": [
        {
          "output_type": "stream",
          "name": "stdout",
          "text": [
            "3\n"
          ]
        }
      ]
    },
    {
      "cell_type": "markdown",
      "source": [
        "#### Access Set Items"
      ],
      "metadata": {
        "id": "TcgAFbOrgAuK"
      }
    },
    {
      "cell_type": "markdown",
      "source": [
        "Cannot access items in a set by referring to an index or a key. But can loop through the set items using a for loop, or ask if a specified value is present in a set, by using the in keyword."
      ],
      "metadata": {
        "id": "uE5Fanalg1Kr"
      }
    },
    {
      "cell_type": "code",
      "source": [
        "thisset = {\"apple\", \"banana\", \"cherry\"}\n",
        "for x in thisset:\n",
        "  print(x)"
      ],
      "metadata": {
        "colab": {
          "base_uri": "https://localhost:8080/"
        },
        "id": "wVL0tYWkg7W4",
        "outputId": "0a191b24-6cac-40b6-ed6c-11febc93928d"
      },
      "execution_count": null,
      "outputs": [
        {
          "output_type": "stream",
          "name": "stdout",
          "text": [
            "cherry\n",
            "apple\n",
            "banana\n"
          ]
        }
      ]
    },
    {
      "cell_type": "code",
      "source": [
        "thisset = {\"apple\", \"banana\", \"cherry\"}\n",
        "print(\"banana\" in thisset)"
      ],
      "metadata": {
        "colab": {
          "base_uri": "https://localhost:8080/"
        },
        "id": "nPSYn1QXg8_i",
        "outputId": "07b90714-dbaa-4a97-96fe-12dc72a82fe2"
      },
      "execution_count": null,
      "outputs": [
        {
          "output_type": "stream",
          "name": "stdout",
          "text": [
            "True\n"
          ]
        }
      ]
    },
    {
      "cell_type": "markdown",
      "source": [
        "#### Add Set Items"
      ],
      "metadata": {
        "id": "DGatTQNchF1P"
      }
    },
    {
      "cell_type": "markdown",
      "source": [
        "Once a set is created, cannot change its items, but can add new items."
      ],
      "metadata": {
        "id": "YYQWQRC3hQj_"
      }
    },
    {
      "cell_type": "markdown",
      "source": [
        "Add an item to a set, using the ```add()``` method:\n",
        "\n"
      ],
      "metadata": {
        "id": "JWFb4TBxhixx"
      }
    },
    {
      "cell_type": "code",
      "source": [
        "thisset = {\"apple\", \"banana\", \"cherry\"}\n",
        "thisset.add(\"orange\")\n",
        "print(thisset)"
      ],
      "metadata": {
        "colab": {
          "base_uri": "https://localhost:8080/"
        },
        "id": "9zCRmtAEhE-0",
        "outputId": "4489fc09-7a32-4aee-f5c7-2853e7b31b0f"
      },
      "execution_count": null,
      "outputs": [
        {
          "output_type": "stream",
          "name": "stdout",
          "text": [
            "{'orange', 'cherry', 'apple', 'banana'}\n"
          ]
        }
      ]
    },
    {
      "cell_type": "markdown",
      "source": [
        "To add items from another set into the current set, use the ```update()``` method."
      ],
      "metadata": {
        "id": "2QMLRCcjhYRw"
      }
    },
    {
      "cell_type": "code",
      "source": [
        "thisset = {\"apple\", \"banana\", \"cherry\"}\n",
        "tropical = {\"pineapple\", \"mango\", \"papaya\"}\n",
        "thisset.update(tropical)\n",
        "print(thisset)"
      ],
      "metadata": {
        "colab": {
          "base_uri": "https://localhost:8080/"
        },
        "id": "_jLLCK8ehaeO",
        "outputId": "a971c5c1-794d-470d-db54-d4a3f9e2b7b1"
      },
      "execution_count": null,
      "outputs": [
        {
          "output_type": "stream",
          "name": "stdout",
          "text": [
            "{'papaya', 'apple', 'mango', 'pineapple', 'cherry', 'banana'}\n"
          ]
        }
      ]
    },
    {
      "cell_type": "markdown",
      "source": [
        "The object in the ```update()``` method does not have to be a set, it can be any iterable object (tuples, lists, dictionaries etc.).\n",
        "\n"
      ],
      "metadata": {
        "id": "AcdOT6s4hm2M"
      }
    },
    {
      "cell_type": "markdown",
      "source": [
        "#### Remove Item\n"
      ],
      "metadata": {
        "id": "mrjJ06CmlF9h"
      }
    },
    {
      "cell_type": "markdown",
      "source": [
        "To remove an item in a set, use the ```remove()```, or the ```discard()``` method."
      ],
      "metadata": {
        "id": "Nct_3LIqlHpQ"
      }
    },
    {
      "cell_type": "markdown",
      "source": [
        "If the item to remove does not exist, ```remove()``` will raise an error."
      ],
      "metadata": {
        "id": "32K8UphrlXIg"
      }
    },
    {
      "cell_type": "markdown",
      "source": [
        "If the item to remove does not exist, ```discard()``` will <U>NOT</U> raise an error."
      ],
      "metadata": {
        "id": "zDv23CKMnw0b"
      }
    },
    {
      "cell_type": "code",
      "source": [
        "thisset = {\"apple\", \"banana\", \"cherry\"}\n",
        "thisset.discard(\"banana\")\n",
        "print(thisset)"
      ],
      "metadata": {
        "colab": {
          "base_uri": "https://localhost:8080/"
        },
        "id": "uSQXi9B0lWbd",
        "outputId": "ea628f7e-ea9d-4df6-eee2-22737446004c"
      },
      "execution_count": null,
      "outputs": [
        {
          "output_type": "stream",
          "name": "stdout",
          "text": [
            "{'cherry', 'apple'}\n"
          ]
        }
      ]
    },
    {
      "cell_type": "markdown",
      "source": [
        "Sets are unordered, so when using the ```pop()``` method, you do not know which item that gets removed"
      ],
      "metadata": {
        "id": "8whFVTCwlLlV"
      }
    },
    {
      "cell_type": "markdown",
      "source": [
        "The ```clear()``` method empties the set"
      ],
      "metadata": {
        "id": "5JN3MF5joAHa"
      }
    },
    {
      "cell_type": "code",
      "source": [
        "thisset = {\"apple\", \"banana\", \"cherry\"}\n",
        "thisset.clear()\n",
        "print(thisset)"
      ],
      "metadata": {
        "colab": {
          "base_uri": "https://localhost:8080/"
        },
        "id": "Ueh28OvuoD7l",
        "outputId": "54f80002-45d1-49f8-b3b2-32754ac7c383"
      },
      "execution_count": null,
      "outputs": [
        {
          "output_type": "stream",
          "name": "stdout",
          "text": [
            "set()\n"
          ]
        }
      ]
    },
    {
      "cell_type": "markdown",
      "source": [
        "The del keyword will delete the set completely"
      ],
      "metadata": {
        "id": "wZEWJM_noDNV"
      }
    },
    {
      "cell_type": "code",
      "source": [
        "thisset = {\"apple\", \"banana\", \"cherry\"}\n",
        "del thisset"
      ],
      "metadata": {
        "id": "YkmR_FjRoDg_"
      },
      "execution_count": null,
      "outputs": []
    },
    {
      "cell_type": "markdown",
      "source": [
        "#### Join Two Sets"
      ],
      "metadata": {
        "id": "kfjv93XfoSqW"
      }
    },
    {
      "cell_type": "markdown",
      "source": [
        "Can use the ```union()``` method that returns a new set containing all items from both sets, or the ```update()``` method that inserts all the items from one set into another"
      ],
      "metadata": {
        "id": "LTsoQDbhwTrd"
      }
    },
    {
      "cell_type": "code",
      "source": [
        "set1 = {\"a\", \"b\" , \"c\"}\n",
        "set2 = {1, 2, 3}\n",
        "set3 = set1.union(set2)\n",
        "print(set3)"
      ],
      "metadata": {
        "colab": {
          "base_uri": "https://localhost:8080/"
        },
        "id": "4Mp9FYWhwZpZ",
        "outputId": "d50e9a84-fcb5-4324-dce8-3e25352de696"
      },
      "execution_count": null,
      "outputs": [
        {
          "output_type": "stream",
          "name": "stdout",
          "text": [
            "{'c', 1, 2, 3, 'a', 'b'}\n"
          ]
        }
      ]
    },
    {
      "cell_type": "code",
      "source": [
        "set1 = {\"a\", \"b\" , \"c\"}\n",
        "set2 = {1, 2, 3}\n",
        "set1.update(set2)\n",
        "print(set1)"
      ],
      "metadata": {
        "colab": {
          "base_uri": "https://localhost:8080/"
        },
        "id": "np-blRnFwcNe",
        "outputId": "46701a06-9d45-4be8-be6c-a6c4350c02d3"
      },
      "execution_count": null,
      "outputs": [
        {
          "output_type": "stream",
          "name": "stdout",
          "text": [
            "{'c', 1, 2, 3, 'a', 'b'}\n"
          ]
        }
      ]
    },
    {
      "cell_type": "markdown",
      "source": [
        "To <u>Keep ONLY the Duplicates</u>\n"
      ],
      "metadata": {
        "id": "vVLCmkZtwYHN"
      }
    },
    {
      "cell_type": "markdown",
      "source": [
        "The ```intersection_update()``` method will keep only the items that are present in both sets."
      ],
      "metadata": {
        "id": "zOEPAQa9wnk3"
      }
    },
    {
      "cell_type": "code",
      "source": [
        "x = {\"apple\", \"banana\", \"cherry\"}\n",
        "y = {\"google\", \"microsoft\", \"apple\"}\n",
        "x.intersection_update(y)\n",
        "print(x)"
      ],
      "metadata": {
        "colab": {
          "base_uri": "https://localhost:8080/"
        },
        "id": "6F8owVSJwsBC",
        "outputId": "b7f21870-1e99-40ad-ea91-88b88642c03e"
      },
      "execution_count": null,
      "outputs": [
        {
          "output_type": "stream",
          "name": "stdout",
          "text": [
            "{'apple'}\n"
          ]
        }
      ]
    },
    {
      "cell_type": "markdown",
      "source": [
        "The ```intersection()``` method will return a new set, that only contains the items that are present in both sets."
      ],
      "metadata": {
        "id": "RMy3J3Amwurh"
      }
    },
    {
      "cell_type": "code",
      "source": [
        "x = {\"apple\", \"banana\", \"cherry\"}\n",
        "y = {\"google\", \"microsoft\", \"apple\"}\n",
        "z = x.intersection(y)\n",
        "print(z)"
      ],
      "metadata": {
        "colab": {
          "base_uri": "https://localhost:8080/"
        },
        "id": "-kbK8QAGwy0i",
        "outputId": "b6a857ab-f2a9-43fe-bf99-63ac95461b4e"
      },
      "execution_count": null,
      "outputs": [
        {
          "output_type": "stream",
          "name": "stdout",
          "text": [
            "{'apple'}\n"
          ]
        }
      ]
    },
    {
      "cell_type": "markdown",
      "source": [
        "Keep All, But <u>NOT the Duplicates</u>\n"
      ],
      "metadata": {
        "id": "GVP-uPCww6H0"
      }
    },
    {
      "cell_type": "markdown",
      "source": [
        "The ```symmetric_difference()``` method will return a new set, that contains only the elements that are NOT present in both sets."
      ],
      "metadata": {
        "id": "OlVJgULBw-Kl"
      }
    },
    {
      "cell_type": "code",
      "source": [
        "x = {\"apple\", \"banana\", \"cherry\"}\n",
        "y = {\"google\", \"microsoft\", \"apple\"}\n",
        "z = x.symmetric_difference(y)\n",
        "print(z)"
      ],
      "metadata": {
        "colab": {
          "base_uri": "https://localhost:8080/"
        },
        "id": "krSRaQYnxIxt",
        "outputId": "bfc595db-46f4-4580-eddf-98c5d7d1c7a5"
      },
      "execution_count": null,
      "outputs": [
        {
          "output_type": "stream",
          "name": "stdout",
          "text": [
            "{'microsoft', 'banana', 'google', 'cherry'}\n"
          ]
        }
      ]
    },
    {
      "cell_type": "markdown",
      "source": [
        "#### Set Methods"
      ],
      "metadata": {
        "id": "5RsbrglcxR8e"
      }
    },
    {
      "cell_type": "markdown",
      "source": [
        "| Method            | Description                                                                                     | Example                                              |\n",
        "|-------------------|-------------------------------------------------------------------------------------------------|------------------------------------------------------|\n",
        "| add()             | Adds an element to the set                                                                      | `my_set.add(4)`                                      |\n",
        "| clear()           | Removes all elements from the set                                                               | `my_set.clear()`                                     |\n",
        "| copy()            | Returns a shallow copy of the set                                                               | `new_set = my_set.copy()`                           |\n",
        "| difference()      | Returns the difference between two sets (elements present in the first set but not in the second) | `difference_set = set1.difference(set2)`            |\n",
        "| difference_update() | Removes all elements of another set from this set (updates the set in place)                     | `set1.difference_update(set2)`                       |\n",
        "| discard()         | Removes an element from the set if it is a member                                                | `my_set.discard(4)`                                 |\n",
        "| intersection()    | Returns the intersection of two or more sets (common elements)                                    | `intersection_set = set1.intersection(set2)`        |\n",
        "| intersection_update() | Updates the set with the intersection of itself and another set (updates the set in place)    | `set1.intersection_update(set2)`                    |\n",
        "| isdisjoint()      | Returns True if two sets have no intersection (no common elements)                                | `is_disjoint = set1.isdisjoint(set2)`              |\n",
        "| issubset()        | Returns True if another set contains this set (subset)                                             | `is_subset = set1.issubset(set2)`                  |\n",
        "| issuperset()      | Returns True if this set contains another set (superset)                                           | `is_superset = set1.issuperset(set2)`              |\n",
        "| pop()             | Removes and returns an arbitrary element from the set                                              | `element = my_set.pop()`                           |\n",
        "| remove()          | Removes a specified element from the set if it is present                                          | `my_set.remove(4)`                                  |\n",
        "| symmetric_difference() | Returns the symmetric difference of two sets (elements present in either set, but not both)   | `symmetric_difference_set = set1.symmetric_difference(set2)` |\n",
        "| symmetric_difference_update() | Updates the set with the symmetric difference of itself and another set (updates the set in place) | `set1.symmetric_difference_update(set2)`           |\n",
        "| union()           | Returns the union of two or more sets (all unique elements from all sets)                         | `union_set = set1.union(set2)`                     |\n",
        "| update()          | Updates the set with the union of itself and others (adds elements from all sets)                 | `set1.update(set2)`                                |\n",
        "\n"
      ],
      "metadata": {
        "id": "hVzFEOmpxXb5"
      }
    },
    {
      "cell_type": "markdown",
      "source": [
        "### Dictionaries"
      ],
      "metadata": {
        "id": "enzWpqx-xb_l"
      }
    },
    {
      "cell_type": "markdown",
      "source": [
        "Dictionaries are used to store data values in key:value pairs.A dictionary is a collection which is ordered*, changeable and do not allow duplicates.Dictionaries cannot have two items with the same key"
      ],
      "metadata": {
        "id": "DFJ2dWnnz0Ce"
      }
    },
    {
      "cell_type": "code",
      "source": [
        "thisdict = {\n",
        "  \"brand\": \"Ford\",\n",
        "  \"model\": \"Mustang\",\n",
        "  \"year\": 1964\n",
        "}\n",
        "print(thisdict)"
      ],
      "metadata": {
        "id": "SNl6tRBjz4V0",
        "outputId": "90e81b17-05a6-40a0-c91c-10af5f12f62a",
        "colab": {
          "base_uri": "https://localhost:8080/"
        }
      },
      "execution_count": null,
      "outputs": [
        {
          "output_type": "stream",
          "name": "stdout",
          "text": [
            "{'brand': 'Ford', 'model': 'Mustang', 'year': 1964}\n"
          ]
        }
      ]
    },
    {
      "cell_type": "markdown",
      "source": [
        "Dictionary Length\n"
      ],
      "metadata": {
        "id": "Oapt9whZ0Ivr"
      }
    },
    {
      "cell_type": "code",
      "source": [
        "print(len(thisdict))"
      ],
      "metadata": {
        "id": "Xs_IMjDX0IFa",
        "outputId": "8fa6f5ef-32d3-477a-9044-86156c2bab70",
        "colab": {
          "base_uri": "https://localhost:8080/"
        }
      },
      "execution_count": null,
      "outputs": [
        {
          "output_type": "stream",
          "name": "stdout",
          "text": [
            "3\n"
          ]
        }
      ]
    },
    {
      "cell_type": "markdown",
      "source": [
        "Type"
      ],
      "metadata": {
        "id": "ZXfftjuQ0NIb"
      }
    },
    {
      "cell_type": "code",
      "source": [
        "print(type(thisdict))"
      ],
      "metadata": {
        "id": "eb2lM48R0N98",
        "outputId": "b41853c5-2845-4656-ab97-83800d6b9d32",
        "colab": {
          "base_uri": "https://localhost:8080/"
        }
      },
      "execution_count": null,
      "outputs": [
        {
          "output_type": "stream",
          "name": "stdout",
          "text": [
            "<class 'dict'>\n"
          ]
        }
      ]
    },
    {
      "cell_type": "markdown",
      "source": [
        "#### The dict() Constructor\n"
      ],
      "metadata": {
        "id": "uQ2pVpvIz1sT"
      }
    },
    {
      "cell_type": "code",
      "source": [
        "thisdict = dict(name = \"John\", age = 36, country = \"Norway\")\n",
        "print(thisdict)"
      ],
      "metadata": {
        "id": "BSOUV6vT0XFb",
        "outputId": "d490d92c-ee64-43c2-c525-68306c519363",
        "colab": {
          "base_uri": "https://localhost:8080/"
        }
      },
      "execution_count": null,
      "outputs": [
        {
          "output_type": "stream",
          "name": "stdout",
          "text": [
            "{'name': 'John', 'age': 36, 'country': 'Norway'}\n"
          ]
        }
      ]
    },
    {
      "cell_type": "markdown",
      "source": [
        "#### Access Dictionary Items"
      ],
      "metadata": {
        "id": "5Y6aYf7N0Zg1"
      }
    },
    {
      "cell_type": "markdown",
      "source": [
        "Can access the items of a dictionary by referring to its key name"
      ],
      "metadata": {
        "id": "eet6e-mj0hea"
      }
    },
    {
      "cell_type": "code",
      "source": [
        "thisdict[\"name\"]"
      ],
      "metadata": {
        "id": "GXYui7ZD0cNi",
        "outputId": "eeb6872d-d74d-4985-ab23-528eafcc5adb",
        "colab": {
          "base_uri": "https://localhost:8080/",
          "height": 35
        }
      },
      "execution_count": null,
      "outputs": [
        {
          "output_type": "execute_result",
          "data": {
            "text/plain": [
              "'John'"
            ],
            "application/vnd.google.colaboratory.intrinsic+json": {
              "type": "string"
            }
          },
          "metadata": {},
          "execution_count": 58
        }
      ]
    },
    {
      "cell_type": "markdown",
      "source": [
        "There is also a method called ```get()``` that will give the same result"
      ],
      "metadata": {
        "id": "SQkv34dl0qig"
      }
    },
    {
      "cell_type": "code",
      "source": [
        "thisdict.get(\"name\")"
      ],
      "metadata": {
        "id": "2Ez5yxkN0wpv",
        "outputId": "e489f3a0-8383-431c-ac74-73c7b0145b91",
        "colab": {
          "base_uri": "https://localhost:8080/",
          "height": 35
        }
      },
      "execution_count": null,
      "outputs": [
        {
          "output_type": "execute_result",
          "data": {
            "text/plain": [
              "'John'"
            ],
            "application/vnd.google.colaboratory.intrinsic+json": {
              "type": "string"
            }
          },
          "metadata": {},
          "execution_count": 59
        }
      ]
    },
    {
      "cell_type": "code",
      "source": [
        "thisdict.get(\"sample_key\")"
      ],
      "metadata": {
        "id": "UyHGCIfN006B"
      },
      "execution_count": null,
      "outputs": []
    },
    {
      "cell_type": "markdown",
      "source": [
        "*** Note that when the key is wrong ```get()``` method will not rise an error."
      ],
      "metadata": {
        "id": "dvaCu4oy051M"
      }
    },
    {
      "cell_type": "markdown",
      "source": [
        "```keys()``` method will return a list of all the keys in the dictionary"
      ],
      "metadata": {
        "id": "uNbxsqdF1Epa"
      }
    },
    {
      "cell_type": "code",
      "source": [
        "x = thisdict.keys()\n",
        "print(x)"
      ],
      "metadata": {
        "id": "V5ZvDlJI1BPk",
        "outputId": "d6041c62-ffff-434c-b9af-aae2904c3d98",
        "colab": {
          "base_uri": "https://localhost:8080/"
        }
      },
      "execution_count": null,
      "outputs": [
        {
          "output_type": "stream",
          "name": "stdout",
          "text": [
            "dict_keys(['name', 'age', 'country'])\n"
          ]
        }
      ]
    },
    {
      "cell_type": "markdown",
      "source": [
        "#### Change Items"
      ],
      "metadata": {
        "id": "qJ3sVw8J1Xgr"
      }
    },
    {
      "cell_type": "markdown",
      "source": [
        "Can change the value of a specific item by referring to its key name"
      ],
      "metadata": {
        "id": "U4OoaK-L1b6-"
      }
    },
    {
      "cell_type": "code",
      "source": [
        "thisdict = {\n",
        "  \"brand\": \"Ford\",\n",
        "  \"model\": \"Mustang\",\n",
        "  \"year\": 1964\n",
        "}\n",
        "thisdict[\"year\"] = 2024"
      ],
      "metadata": {
        "id": "on-Nt0VM1ZW3"
      },
      "execution_count": null,
      "outputs": []
    },
    {
      "cell_type": "code",
      "source": [
        "thisdict"
      ],
      "metadata": {
        "id": "4xfDL5zH1SBi",
        "outputId": "2d24f54b-4b00-4fb1-881d-b1be4d2eab7b",
        "colab": {
          "base_uri": "https://localhost:8080/"
        }
      },
      "execution_count": null,
      "outputs": [
        {
          "output_type": "execute_result",
          "data": {
            "text/plain": [
              "{'brand': 'Ford', 'model': 'Mustang', 'year': 2024}"
            ]
          },
          "metadata": {},
          "execution_count": 72
        }
      ]
    },
    {
      "cell_type": "markdown",
      "source": [
        "The ```update()``` method will update the dictionary with the items from the given argument"
      ],
      "metadata": {
        "id": "51FwtcX31izY"
      }
    },
    {
      "cell_type": "code",
      "source": [
        "thisdict = {\n",
        "  \"brand\": \"Ford\",\n",
        "  \"model\": \"Mustang\",\n",
        "  \"year\": 1964\n",
        "}\n",
        "thisdict.update({\"year\": 2024})"
      ],
      "metadata": {
        "id": "4WHu6mez1ug2"
      },
      "execution_count": null,
      "outputs": []
    },
    {
      "cell_type": "code",
      "source": [
        "thisdict"
      ],
      "metadata": {
        "id": "xEbBJeYc1v49",
        "outputId": "dd6b83b2-1229-4ed6-b827-72f0cdf43ac1",
        "colab": {
          "base_uri": "https://localhost:8080/"
        }
      },
      "execution_count": null,
      "outputs": [
        {
          "output_type": "execute_result",
          "data": {
            "text/plain": [
              "{'brand': 'Ford', 'model': 'Mustang', 'year': 2024}"
            ]
          },
          "metadata": {},
          "execution_count": 79
        }
      ]
    },
    {
      "cell_type": "markdown",
      "source": [
        "#### Add Dictionary Items"
      ],
      "metadata": {
        "id": "f0AuuJb01VDN"
      }
    },
    {
      "cell_type": "markdown",
      "source": [
        "Adding an item to the dictionary is done by using a new index key and assigning a value to it"
      ],
      "metadata": {
        "id": "VpZOVokG17u_"
      }
    },
    {
      "cell_type": "code",
      "source": [
        "thisdict = {\n",
        "  \"brand\": \"Ford\",\n",
        "  \"model\": \"Mustang\",\n",
        "  \"year\": 1964\n",
        "}\n",
        "thisdict[\"color\"] = \"red\"\n",
        "print(thisdict)"
      ],
      "metadata": {
        "id": "3ZNLypK118nC",
        "outputId": "859300b0-7ae5-4bb9-82a7-4a764b65bae3",
        "colab": {
          "base_uri": "https://localhost:8080/"
        }
      },
      "execution_count": null,
      "outputs": [
        {
          "output_type": "stream",
          "name": "stdout",
          "text": [
            "{'brand': 'Ford', 'model': 'Mustang', 'year': 1964, 'color': 'red'}\n"
          ]
        }
      ]
    },
    {
      "cell_type": "markdown",
      "source": [
        "The ```update()``` method also can be used."
      ],
      "metadata": {
        "id": "jYSJsKR-1_1q"
      }
    },
    {
      "cell_type": "code",
      "source": [
        "thisdict = {\n",
        "  \"brand\": \"Ford\",\n",
        "  \"model\": \"Mustang\",\n",
        "  \"year\": 1964\n",
        "}\n",
        "thisdict.update({\"color\": \"red\"})\n",
        "print(thisdict)"
      ],
      "metadata": {
        "id": "rzRG3n_11-76",
        "outputId": "184e048f-bdd2-412f-b442-5e3ec63ed6ea",
        "colab": {
          "base_uri": "https://localhost:8080/"
        }
      },
      "execution_count": null,
      "outputs": [
        {
          "output_type": "stream",
          "name": "stdout",
          "text": [
            "{'brand': 'Ford', 'model': 'Mustang', 'year': 1964, 'color': 'red'}\n"
          ]
        }
      ]
    },
    {
      "cell_type": "markdown",
      "source": [
        "#### Remove Dictionary Items"
      ],
      "metadata": {
        "id": "DCpnduNr2JOA"
      }
    },
    {
      "cell_type": "markdown",
      "source": [
        "The ```pop()``` method removes the item with the specified key name"
      ],
      "metadata": {
        "id": "bkGu96ty2PRT"
      }
    },
    {
      "cell_type": "code",
      "source": [
        "thisdict = {\n",
        "  \"brand\": \"Ford\",\n",
        "  \"model\": \"Mustang\",\n",
        "  \"year\": 1964\n",
        "}\n",
        "thisdict.pop(\"model\")\n",
        "print(thisdict)"
      ],
      "metadata": {
        "id": "0reApWcc2Ora",
        "outputId": "aafaf36b-4e1b-4725-8612-acac2f122118",
        "colab": {
          "base_uri": "https://localhost:8080/"
        }
      },
      "execution_count": null,
      "outputs": [
        {
          "output_type": "stream",
          "name": "stdout",
          "text": [
            "{'brand': 'Ford', 'year': 1964}\n"
          ]
        }
      ]
    },
    {
      "cell_type": "markdown",
      "source": [
        "The ```del``` keyword removes the item with the specified key name"
      ],
      "metadata": {
        "id": "sSp_G-Ff2Uie"
      }
    },
    {
      "cell_type": "code",
      "source": [
        "thisdict = {\n",
        "  \"brand\": \"Ford\",\n",
        "  \"model\": \"Mustang\",\n",
        "  \"year\": 1964\n",
        "}\n",
        "del thisdict[\"model\"]\n",
        "print(thisdict)"
      ],
      "metadata": {
        "id": "2l7v6ldW2XFQ",
        "outputId": "c8b50fa0-3424-43cb-d9c9-2b58e55dce02",
        "colab": {
          "base_uri": "https://localhost:8080/"
        }
      },
      "execution_count": null,
      "outputs": [
        {
          "output_type": "stream",
          "name": "stdout",
          "text": [
            "{'brand': 'Ford', 'year': 1964}\n"
          ]
        }
      ]
    },
    {
      "cell_type": "markdown",
      "source": [
        "The ```clear()``` method empties the dictionary"
      ],
      "metadata": {
        "id": "IF0cKyuc2Z3Q"
      }
    },
    {
      "cell_type": "code",
      "source": [
        "thisdict = {\n",
        "  \"brand\": \"Ford\",\n",
        "  \"model\": \"Mustang\",\n",
        "  \"year\": 1964\n",
        "}\n",
        "thisdict.clear()\n",
        "print(thisdict)"
      ],
      "metadata": {
        "id": "5uO-xt2F2bpN",
        "outputId": "1dae4f14-a4bb-4eef-90d6-6367666deaee",
        "colab": {
          "base_uri": "https://localhost:8080/"
        }
      },
      "execution_count": null,
      "outputs": [
        {
          "output_type": "stream",
          "name": "stdout",
          "text": [
            "{}\n"
          ]
        }
      ]
    },
    {
      "cell_type": "markdown",
      "source": [
        "#### Loop Through"
      ],
      "metadata": {
        "id": "rhWnu9KH85hm"
      }
    },
    {
      "cell_type": "markdown",
      "source": [
        "When looping through a dictionary, the return value are the keys of the dictionary, but there are methods to return the values as well."
      ],
      "metadata": {
        "id": "gQiKTvgq869J"
      }
    },
    {
      "cell_type": "code",
      "source": [
        "thisdict = {\n",
        "  \"brand\": \"Ford\",\n",
        "  \"model\": \"Mustang\",\n",
        "  \"year\": 1964\n",
        "}\n",
        "for x in thisdict:\n",
        "  print(x)"
      ],
      "metadata": {
        "id": "u5wKLdrJ9Gsh",
        "outputId": "3360065b-37c4-45e5-eb19-85c6ff4bf874",
        "colab": {
          "base_uri": "https://localhost:8080/"
        }
      },
      "execution_count": null,
      "outputs": [
        {
          "output_type": "stream",
          "name": "stdout",
          "text": [
            "brand\n",
            "model\n",
            "year\n"
          ]
        }
      ]
    },
    {
      "cell_type": "code",
      "source": [
        "for x in thisdict:\n",
        "  print(thisdict[x])"
      ],
      "metadata": {
        "id": "F1j49CfD9N9V",
        "outputId": "03dc3b9c-96e2-424d-8f5b-4f37db199284",
        "colab": {
          "base_uri": "https://localhost:8080/"
        }
      },
      "execution_count": null,
      "outputs": [
        {
          "output_type": "stream",
          "name": "stdout",
          "text": [
            "Ford\n",
            "Mustang\n",
            "1964\n"
          ]
        }
      ]
    },
    {
      "cell_type": "code",
      "source": [
        "for x in thisdict.values():\n",
        "  print(x)"
      ],
      "metadata": {
        "id": "ckhT2GCP9Qz-",
        "outputId": "27dfa61f-d349-4707-fd0a-a30eea73f500",
        "colab": {
          "base_uri": "https://localhost:8080/"
        }
      },
      "execution_count": null,
      "outputs": [
        {
          "output_type": "stream",
          "name": "stdout",
          "text": [
            "Ford\n",
            "Mustang\n",
            "1964\n"
          ]
        }
      ]
    },
    {
      "cell_type": "code",
      "source": [
        "for x in thisdict.keys():\n",
        "  print(x)"
      ],
      "metadata": {
        "id": "cnthFY0d9Tp8",
        "outputId": "0ab3285d-dfba-4043-d18e-97e468c357c9",
        "colab": {
          "base_uri": "https://localhost:8080/"
        }
      },
      "execution_count": null,
      "outputs": [
        {
          "output_type": "stream",
          "name": "stdout",
          "text": [
            "brand\n",
            "model\n",
            "year\n"
          ]
        }
      ]
    },
    {
      "cell_type": "code",
      "source": [
        "for x, y in thisdict.items():\n",
        "  print(x, y)"
      ],
      "metadata": {
        "id": "umUJSdYK9X7U",
        "outputId": "002c05a5-5a3a-41d6-c937-fa77eef9ff9f",
        "colab": {
          "base_uri": "https://localhost:8080/"
        }
      },
      "execution_count": null,
      "outputs": [
        {
          "output_type": "stream",
          "name": "stdout",
          "text": [
            "brand Ford\n",
            "model Mustang\n",
            "year 1964\n"
          ]
        }
      ]
    },
    {
      "cell_type": "markdown",
      "source": [
        "#### Copy"
      ],
      "metadata": {
        "id": "vwfT49MC9eLl"
      }
    },
    {
      "cell_type": "markdown",
      "source": [
        "Cannot copy a dictionary simply by typing ```dict2 = dict1```, because: ```dict2``` will only be a reference to ```dict1```, and changes made in ```dict1``` will automatically also be made in ```dict2```."
      ],
      "metadata": {
        "id": "-4fsU22f9fbT"
      }
    },
    {
      "cell_type": "markdown",
      "source": [
        "Make a copy of a dictionary with the ```copy()``` method"
      ],
      "metadata": {
        "id": "DhjhjJ1X9k2D"
      }
    },
    {
      "cell_type": "code",
      "source": [
        "thisdict = {\n",
        "  \"brand\": \"Ford\",\n",
        "  \"model\": \"Mustang\",\n",
        "  \"year\": 1964\n",
        "}\n",
        "mydict = thisdict.copy()\n",
        "print(mydict)"
      ],
      "metadata": {
        "id": "-kdlb7xk9pOW",
        "outputId": "1a25c521-9abb-4795-8133-967cdf3a4c83",
        "colab": {
          "base_uri": "https://localhost:8080/"
        }
      },
      "execution_count": null,
      "outputs": [
        {
          "output_type": "stream",
          "name": "stdout",
          "text": [
            "{'brand': 'Ford', 'model': 'Mustang', 'year': 1964}\n"
          ]
        }
      ]
    },
    {
      "cell_type": "markdown",
      "source": [
        "Another way to make a copy is to use the built-in function dict().\n",
        "\n"
      ],
      "metadata": {
        "id": "NkbXqT-Z9sLR"
      }
    },
    {
      "cell_type": "code",
      "source": [
        "thisdict = {\n",
        "  \"brand\": \"Ford\",\n",
        "  \"model\": \"Mustang\",\n",
        "  \"year\": 1964\n",
        "}\n",
        "mydict = dict(thisdict)\n",
        "print(mydict)"
      ],
      "metadata": {
        "id": "T2RJiZ_K9tvm",
        "outputId": "93de55ae-3f22-41f7-8c33-d33023444134",
        "colab": {
          "base_uri": "https://localhost:8080/"
        }
      },
      "execution_count": null,
      "outputs": [
        {
          "output_type": "stream",
          "name": "stdout",
          "text": [
            "{'brand': 'Ford', 'model': 'Mustang', 'year': 1964}\n"
          ]
        }
      ]
    },
    {
      "cell_type": "markdown",
      "source": [
        "#### Nested Dictionaries\n"
      ],
      "metadata": {
        "id": "t6z85Rco9yLn"
      }
    },
    {
      "cell_type": "markdown",
      "source": [
        "A dictionary can contain dictionaries, this is called nested dictionaries."
      ],
      "metadata": {
        "id": "ddZYl-1N9zni"
      }
    },
    {
      "cell_type": "code",
      "source": [
        "myfamily = {\n",
        "  \"child1\" : {\n",
        "    \"name\" : \"Emil\",\n",
        "    \"year\" : 2004\n",
        "  },\n",
        "  \"child2\" : {\n",
        "    \"name\" : \"Tobias\",\n",
        "    \"year\" : 2007\n",
        "  },\n",
        "  \"child3\" : {\n",
        "    \"name\" : \"Linus\",\n",
        "    \"year\" : 2011\n",
        "  }\n",
        "}"
      ],
      "metadata": {
        "id": "G2yYioA491uj"
      },
      "execution_count": null,
      "outputs": []
    },
    {
      "cell_type": "markdown",
      "source": [
        "Or in anotherway"
      ],
      "metadata": {
        "id": "t3TjbEb-99Ql"
      }
    },
    {
      "cell_type": "code",
      "source": [
        "child1 = {\n",
        "  \"name\" : \"Emil\",\n",
        "  \"year\" : 2004\n",
        "}\n",
        "child2 = {\n",
        "  \"name\" : \"Tobias\",\n",
        "  \"year\" : 2007\n",
        "}\n",
        "child3 = {\n",
        "  \"name\" : \"Linus\",\n",
        "  \"year\" : 2011\n",
        "}\n",
        "\n",
        "myfamily = {\n",
        "  \"child1\" : child1,\n",
        "  \"child2\" : child2,\n",
        "  \"child3\" : child3\n",
        "}"
      ],
      "metadata": {
        "id": "hpv71F1X9-0O"
      },
      "execution_count": null,
      "outputs": []
    },
    {
      "cell_type": "code",
      "source": [
        "print(myfamily[\"child2\"][\"name\"])"
      ],
      "metadata": {
        "id": "0U4QlJJa93IO",
        "outputId": "16d16288-b205-462e-d332-b9da799ff828",
        "colab": {
          "base_uri": "https://localhost:8080/"
        }
      },
      "execution_count": null,
      "outputs": [
        {
          "output_type": "stream",
          "name": "stdout",
          "text": [
            "Tobias\n"
          ]
        }
      ]
    },
    {
      "cell_type": "markdown",
      "source": [
        "#### Dictionary Methods"
      ],
      "metadata": {
        "id": "qd6x6G9W-JLt"
      }
    },
    {
      "cell_type": "markdown",
      "source": [
        "\n",
        "| Method       | Description                                                                                                     | Example                                                |\n",
        "|--------------|-----------------------------------------------------------------------------------------------------------------|--------------------------------------------------------|\n",
        "| clear()      | Removes all items from the dictionary                                                                           | `my_dict.clear()`                                      |\n",
        "| copy()       | Returns a shallow copy of the dictionary                                                                       | `new_dict = my_dict.copy()`                           |\n",
        "| fromkeys()   | Returns a new dictionary with keys from iterable and values set to a default value (None if not specified)      | `new_dict = dict.fromkeys(['a', 'b', 'c'], 0)`       |\n",
        "| get()        | Returns the value for the specified key, or a default value if the key is not found                             | `value = my_dict.get('key', default_value)`           |\n",
        "| items()      | Returns a view object that displays a list of a dictionary's key-value tuples                                   | `key_value_pairs = my_dict.items()`                   |\n",
        "| keys()       | Returns a view object that displays a list of the dictionary's keys                                             | `keys = my_dict.keys()`                               |\n",
        "| pop()        | Removes and returns the value for the specified key                                                            | `value = my_dict.pop('key')`                          |\n",
        "| popitem()    | Removes and returns an arbitrary key-value pair from the dictionary                                              | `key, value = my_dict.popitem()`                      |\n",
        "| setdefault() | Returns the value for the specified key. If the key does not exist, inserts the key with the specified value    | `value = my_dict.setdefault('key', default_value)`    |\n",
        "| update()     | Updates the dictionary with the key-value pairs from another dictionary or iterable                             | `my_dict.update(other_dict)`                          |\n",
        "| values()     | Returns a view object that displays a list of the dictionary's values                                            | `values = my_dict.values()`                           |\n"
      ],
      "metadata": {
        "id": "zxCMKSpG-Lz5"
      }
    },
    {
      "cell_type": "markdown",
      "source": [
        "##1.3 Conditions and If statements"
      ],
      "metadata": {
        "id": "OBW7fz3v-hVV"
      }
    },
    {
      "cell_type": "markdown",
      "source": [
        "- Equals: a == b\n",
        "- Not Equals: a != b\n",
        "- Less than: a < b\n",
        "- Less than or equal to: a <= b\n",
        "- Greater than: a > b\n",
        "- Greater than or equal to: a >= b"
      ],
      "metadata": {
        "id": "ZEHy8ieO-kCN"
      }
    },
    {
      "cell_type": "code",
      "source": [
        "a = 200\n",
        "b = 33\n",
        "if b > a:\n",
        "  print(\"b is greater than a\")\n",
        "elif a == b:\n",
        "  print(\"a and b are equal\")\n",
        "else:\n",
        "  print(\"a is greater than b\")"
      ],
      "metadata": {
        "id": "hakTFlfQhJ2C",
        "outputId": "ad468d74-9ddf-451b-91c3-985e42ef5634",
        "colab": {
          "base_uri": "https://localhost:8080/"
        }
      },
      "execution_count": 1,
      "outputs": [
        {
          "output_type": "stream",
          "name": "stdout",
          "text": [
            "a is greater than b\n"
          ]
        }
      ]
    },
    {
      "cell_type": "markdown",
      "source": [
        "### Short Hand If\n"
      ],
      "metadata": {
        "id": "iI8XmHNWhDkC"
      }
    },
    {
      "cell_type": "code",
      "source": [
        "if a > b: print(\"a is greater than b\")"
      ],
      "metadata": {
        "id": "NxaQMfj0hSEl",
        "outputId": "ffb5be94-0ed9-4903-cf7b-6eea157b05b4",
        "colab": {
          "base_uri": "https://localhost:8080/"
        }
      },
      "execution_count": 2,
      "outputs": [
        {
          "output_type": "stream",
          "name": "stdout",
          "text": [
            "a is greater than b\n"
          ]
        }
      ]
    },
    {
      "cell_type": "markdown",
      "source": [
        "### Short Hand If ... Else"
      ],
      "metadata": {
        "id": "yEYbBRrLhOuu"
      }
    },
    {
      "cell_type": "markdown",
      "source": [
        "This technique is known as Ternary Operators, or Conditional Expressions.\n",
        "\n"
      ],
      "metadata": {
        "id": "Ovst4GRphZ6i"
      }
    },
    {
      "cell_type": "code",
      "source": [
        "a = 330\n",
        "b = 330\n",
        "print(\"A\") if a > b else print(\"=\") if a == b else print(\"B\")"
      ],
      "metadata": {
        "id": "aEg1QVKMhVYK",
        "outputId": "000c3698-c40b-4472-b5fb-4176c2c27740",
        "colab": {
          "base_uri": "https://localhost:8080/"
        }
      },
      "execution_count": 3,
      "outputs": [
        {
          "output_type": "stream",
          "name": "stdout",
          "text": [
            "=\n"
          ]
        }
      ]
    },
    {
      "cell_type": "markdown",
      "source": [
        "### Logical operators"
      ],
      "metadata": {
        "id": "Z7Ii9FAJhqds"
      }
    },
    {
      "cell_type": "code",
      "source": [
        "a = 200\n",
        "b = 33\n",
        "c = 500\n",
        "if a > b and c > a:\n",
        "  print(\"Both conditions are True\")"
      ],
      "metadata": {
        "id": "lRW-V0CZhiS5",
        "outputId": "40e02518-350e-4d57-8e3f-c3941344beb4",
        "colab": {
          "base_uri": "https://localhost:8080/"
        }
      },
      "execution_count": 4,
      "outputs": [
        {
          "output_type": "stream",
          "name": "stdout",
          "text": [
            "Both conditions are True\n"
          ]
        }
      ]
    },
    {
      "cell_type": "code",
      "source": [
        "if a > b or a > c:\n",
        "  print(\"At least one of the conditions is True\")"
      ],
      "metadata": {
        "id": "qBb96EDShvhI",
        "outputId": "1060ea09-bf55-4998-b34c-a5f71953a5f3",
        "colab": {
          "base_uri": "https://localhost:8080/"
        }
      },
      "execution_count": 5,
      "outputs": [
        {
          "output_type": "stream",
          "name": "stdout",
          "text": [
            "At least one of the conditions is True\n"
          ]
        }
      ]
    },
    {
      "cell_type": "code",
      "source": [
        "if not a > b:\n",
        "  print(\"a is NOT greater than b\")"
      ],
      "metadata": {
        "id": "XpaUihVXhy1n"
      },
      "execution_count": 6,
      "outputs": []
    },
    {
      "cell_type": "markdown",
      "source": [
        "### The pass Statement\n"
      ],
      "metadata": {
        "id": "8fK9OnNi-kKF"
      }
    },
    {
      "cell_type": "code",
      "source": [
        "if b > a:\n",
        "  pass"
      ],
      "metadata": {
        "id": "9QxVLthOh4ad"
      },
      "execution_count": 7,
      "outputs": []
    },
    {
      "cell_type": "markdown",
      "source": [],
      "metadata": {
        "id": "zu66MbQh-kRu"
      }
    },
    {
      "cell_type": "markdown",
      "source": [
        "# **2.0 Object Oriented Programming:**\n",
        "\n",
        "\n"
      ],
      "metadata": {
        "id": "-1sRLscjRvIG"
      }
    },
    {
      "cell_type": "markdown",
      "source": [
        "## 2.1 Introduction"
      ],
      "metadata": {
        "id": "kmHLGEk5Rz6p"
      }
    },
    {
      "cell_type": "markdown",
      "source": [
        "Object-Oriented Programming (OOP) is a programming paradigm that emphasizes the use of objects, which are instances of classes, to structure and organize code. Python fully supports OOP, allowing developers to create classes, define attributes and methods, and create objects based on those classes.\n",
        "\n",
        "1. **Classes and Objects:**\n",
        "   - A class is a blueprint that defines the attributes and behavior of an object.\n",
        "   - To create a class, use the `class` keyword followed by the class name. Inside the class, define attributes and methods.\n",
        "   - An object is an instance of a class. You can create multiple objects based on a single class.\n",
        "\n",
        "2. **Attributes:**\n",
        "   - Attributes are variables associated with a class or object. They hold data that describes the state of the object.\n",
        "   - Class attributes are shared among all instances of the class, while instance attributes are specific to each object.\n",
        "   - You can define attributes within the class using the `self` keyword to refer to the instance of the class.\n",
        "\n",
        "3. **Methods:**\n",
        "   - Methods are functions defined within a class that perform actions on objects or manipulate object data.\n",
        "   - Instance methods take the `self` parameter, which represents the instance calling the method.\n",
        "   - Class methods are defined using the `@classmethod` decorator and take the `cls` parameter, representing the class itself.\n",
        "   - Static methods are defined using the `@staticmethod` decorator and do not take any specific instance or class parameters.\n",
        "\n",
        "4. **Inheritance:**\n",
        "   - Inheritance is a mechanism where a class inherits properties and behavior from another class, called the superclass or base class.\n",
        "   - The derived class, also known as the subclass or child class, can extend or override the attributes and methods of the base class.\n",
        "   - In Python, you can define inheritance by specifying the base class in parentheses when creating a new class.\n",
        "\n",
        "5. **Encapsulation:**\n",
        "   - Encapsulation is the process of hiding the internal details of a class and providing a public interface for interacting with the class.\n",
        "   - You can control access to attributes and methods using access specifiers: public (default), private (prefixed with double underscore), and protected (prefixed with single underscore).\n",
        "\n",
        "6. **Polymorphism:**\n",
        "   - Polymorphism allows objects of different classes to be treated as objects of a common superclass.\n",
        "   - It enables methods with the same name to behave differently based on the object type they are invoked on.\n",
        "   - Polymorphism in Python is achieved through method overriding and method overloading.\n",
        "\n",
        "OOP in Python provides a structured and modular approach to programming, promoting code reuse, maintainability, and abstraction. By defining classes and objects, you can create organized and flexible code that models real-world entities or abstract concepts."
      ],
      "metadata": {
        "id": "eidj52MJSWJ-"
      }
    },
    {
      "cell_type": "markdown",
      "source": [
        "**Summery:**"
      ],
      "metadata": {
        "id": "XcurWBQBSj_f"
      }
    },
    {
      "cell_type": "markdown",
      "source": [
        "\n",
        "| Topic                     | Explanation                                                                 |\n",
        "|---------------------------|------------------------------------------------------------------------------|\n",
        "| Classes and Objects       | - Blueprints that define attributes and behavior                               |\n",
        "|                           | - Objects are instances of classes                                            |\n",
        "| Attributes                | - Variables associated with classes or objects                                |\n",
        "|                           | - Class attributes are shared, instance attributes are specific to objects    |\n",
        "| Methods                   | - Functions defined within classes                                            |\n",
        "|                           | - Perform actions on objects or manipulate data                              |\n",
        "| Inheritance               | - Mechanism for inheriting properties and behavior                            |\n",
        "|                           | - Subclass extends or overrides base class attributes and methods             |\n",
        "| Encapsulation             | - Hiding internal details and providing a public interface                    |\n",
        "|                           | - Control access with access specifiers (public, private, protected)          |\n",
        "| Polymorphism              | - Objects of different classes treated as objects of a common superclass      |\n",
        "|                           | - Methods with the same name behave differently based on object type          |\n"
      ],
      "metadata": {
        "id": "5veO1AllSnOt"
      }
    },
    {
      "cell_type": "markdown",
      "source": [
        "##2.2 Classes And Objects"
      ],
      "metadata": {
        "id": "PFCNyyRZSqNe"
      }
    },
    {
      "cell_type": "markdown",
      "source": [
        "\n",
        "\n",
        "1. **Defining a Class:**\n",
        "   - To define a class, use the `class` keyword followed by the class name, which typically starts with an uppercase letter.\n",
        "   - The class can have attributes (variables) and methods (functions) defined within it.\n",
        "   - Example:\n",
        "     ```python\n",
        "     class Car:\n",
        "         pass\n",
        "     ```\n",
        "\n",
        "2. **Creating Objects (Instances):**\n",
        "   - Objects are instances of a class, created using the class name followed by parentheses.\n",
        "   - This invokes the class's special method called the constructor (`__init__()`), which initializes the object.\n",
        "   - Example:\n",
        "     ```python\n",
        "     my_car = Car()\n",
        "     ```\n",
        "\n",
        "3. **Class Attributes:**\n",
        "   - Class attributes are variables that are shared among all instances of the class.\n",
        "   - They are defined within the class but outside of any methods.\n",
        "   - Class attributes can be accessed using the class name or any object of the class.\n",
        "   - Example:\n",
        "     ```python\n",
        "     class Car:\n",
        "         wheels = 4\n",
        "\n",
        "     print(Car.wheels)  # Output: 4\n",
        "     my_car = Car()\n",
        "     print(my_car.wheels)  # Output: 4\n",
        "     ```\n",
        "\n",
        "4. **Instance Attributes:**\n",
        "   - Instance attributes are specific to each object (instance) of the class.\n",
        "   - They are defined within the class's constructor (`__init__()` method) and accessed using the `self` keyword.\n",
        "   - Example:\n",
        "     ```python\n",
        "     class Car:\n",
        "         def __init__(self, color):\n",
        "             self.color = color\n",
        "\n",
        "     my_car = Car(\"blue\")\n",
        "     print(my_car.color)  # Output: \"blue\"\n",
        "     ```\n",
        "\n",
        "5. **Methods:**\n",
        "   - Methods are functions defined within a class that perform actions on objects or manipulate object data.\n",
        "   - They are defined inside the class and can access attributes through the `self` parameter.\n",
        "   - Example:\n",
        "     ```python\n",
        "     class Car:\n",
        "         def __init__(self, color):\n",
        "             self.color = color\n",
        "\n",
        "         def drive(self):\n",
        "             print(\"The car is driving.\")\n",
        "\n",
        "     my_car = Car(\"blue\")\n",
        "     my_car.drive()  # Output: \"The car is driving.\"\n",
        "     ```\n",
        "\n",
        "6. **Class and Instance Variables:**\n",
        "   - Class variables are shared among all instances and can be accessed using the class name or any object.\n",
        "   - Instance variables are specific to each object and can be accessed using the `self` keyword.\n",
        "   - Example:\n",
        "     ```python\n",
        "     class Car:\n",
        "         wheels = 4\n",
        "\n",
        "         def __init__(self, color):\n",
        "             self.color = color\n",
        "\n",
        "     print(Car.wheels)  # Output: 4\n",
        "\n",
        "     my_car = Car(\"blue\")\n",
        "     print(my_car.color)  # Output: \"blue\"\n",
        "     ```\n",
        "\n",
        "7. **Special Methods:**\n",
        "   - Special methods (also called magic methods or dunder methods) provide functionality to classes.\n",
        "   - They are surrounded by double underscores and have predefined names.\n",
        "   - Examples of special methods include `__init__()` for object initialization, `__str__()` for string representation, `__len__()` for length calculation, etc.\n",
        "\n"
      ],
      "metadata": {
        "id": "ZW-ywO9uhX_p"
      }
    },
    {
      "cell_type": "markdown",
      "source": [
        "### 2.2.1  Example 1\n"
      ],
      "metadata": {
        "id": "3_79CKrCjTo1"
      }
    },
    {
      "cell_type": "code",
      "source": [
        "# Define a class ~> Data Type\n",
        "class ItemE1:\n",
        "  pass\n",
        "\n",
        "# Instsnce & assign properties\n",
        "item1 = ItemE1()\n",
        "item1.name = \"Phone\"\n",
        "item1.price = 100\n",
        "item1.quantity = 5\n",
        "\n",
        "print(type(item1))           #item <data type> ~> <class '__main__.ItemE1'>\n",
        "print(type(item1.name))      # str\n",
        "print(type(item1.price))     #int\n",
        "print(type(item1.quantity))  #int\n",
        "\n",
        "print(item1.name.upper())"
      ],
      "metadata": {
        "colab": {
          "base_uri": "https://localhost:8080/"
        },
        "id": "JKYMe1dujXrW",
        "outputId": "daad02c2-a7e7-432e-96d5-3e46c5bf95e2"
      },
      "execution_count": null,
      "outputs": [
        {
          "output_type": "stream",
          "name": "stdout",
          "text": [
            "<class '__main__.ItemE1'>\n",
            "<class 'str'>\n",
            "<class 'int'>\n",
            "<class 'int'>\n",
            "PHONE\n"
          ]
        }
      ]
    },
    {
      "cell_type": "markdown",
      "source": [
        "## 2.3 self"
      ],
      "metadata": {
        "id": "S-41Fh1WiV9d"
      }
    },
    {
      "cell_type": "markdown",
      "source": [
        "In object-oriented programming (OOP) in Python, the `self` attribute refers to the instance of a class that is being manipulated or accessed within a method. It is a convention to name the first parameter of instance methods as `self`, although you can choose any valid variable name.\n",
        "\n",
        "\n",
        "1. Reference to the Instance:\n",
        "   - When a method is called on an object, the object itself is passed as the first argument implicitly.\n",
        "   - By convention, this parameter is named `self` to indicate that it refers to the instance of the class.\n",
        "\n",
        "2. Accessing Instance Attributes:\n",
        "   - Within a method, you can use the `self` attribute to access instance attributes.\n",
        "   - Instance attributes are unique to each object and can hold different values.\n",
        "   - By prefixing the attribute name with `self`, you can access and modify its value.\n",
        "\n",
        "   Example:\n",
        "   ```python\n",
        "   class Car:\n",
        "       def __init__(self, color):\n",
        "           self.color = color\n",
        "\n",
        "       def drive(self):\n",
        "           print(f\"The {self.color} car is driving.\")\n",
        "\n",
        "   my_car = Car(\"blue\")\n",
        "   my_car.drive()  # Output: \"The blue car is driving.\"\n",
        "   ```\n",
        "\n",
        "3. Calling Other Methods:\n",
        "   - The `self` attribute allows you to call other methods of the same object within a method.\n",
        "   - You can invoke methods using the `self` attribute followed by the method name and parentheses.\n",
        "\n",
        "   Example:\n",
        "   ```python\n",
        "   class Car:\n",
        "       def __init__(self, color):\n",
        "           self.color = color\n",
        "\n",
        "       def start_engine(self):\n",
        "           # Perform some actions to start the engine\n",
        "           print(\"Engine started.\")\n",
        "\n",
        "       def drive(self):\n",
        "           self.start_engine()\n",
        "           print(f\"The {self.color} car is driving.\")\n",
        "\n",
        "   my_car = Car(\"red\")\n",
        "   my_car.drive()\n",
        "   # Output:\n",
        "   # \"Engine started.\"\n",
        "   # \"The red car is driving.\"\n",
        "   ```\n"
      ],
      "metadata": {
        "id": "Zo-ZhZF9io4k"
      }
    },
    {
      "cell_type": "markdown",
      "source": [
        "### 2.3.1 Example 2"
      ],
      "metadata": {
        "id": "4rGfyVp0knSS"
      }
    },
    {
      "cell_type": "code",
      "source": [
        "# Define a class ~> Data Type\n",
        "class ItemE2:\n",
        "\n",
        "  '''\n",
        "  Need to declare self argument since python passes the object(instance)\n",
        "  itself as the initial argument always. So, other variables comes after that.\n",
        "  It's nothing to use other name than self but , 'self' keyword is a common\n",
        "  naming convention.\n",
        "  '''\n",
        "  def calculateTotalPrice(self , price , quantity):\n",
        "    return price*quantity\n",
        "\n",
        "# Instsnce & assign properties\n",
        "item2 = ItemE2()\n",
        "item2.name = \"Phone\"\n",
        "item2.price = 1000\n",
        "item2.quantity = 3\n",
        "\n",
        "# It passes it self and other two variables to the method\n",
        "print(item2.calculateTotalPrice(item2.price,item2.quantity))"
      ],
      "metadata": {
        "colab": {
          "base_uri": "https://localhost:8080/"
        },
        "id": "FP0E-nx5k0Hm",
        "outputId": "e01de006-3397-49d6-d06e-8b6eec6a3d4e"
      },
      "execution_count": null,
      "outputs": [
        {
          "output_type": "stream",
          "name": "stdout",
          "text": [
            "3000\n"
          ]
        }
      ]
    },
    {
      "cell_type": "markdown",
      "source": [
        "## 2.4 Class Attributes"
      ],
      "metadata": {
        "id": "DwnBs9Ly2Aci"
      }
    },
    {
      "cell_type": "markdown",
      "source": [
        "Class attributes are variables that are defined within a class but outside of any methods. They are shared among all instances of the class and can be accessed using **either the class name or an instance of the class**. Class attributes are defined at the class level and are the same for all objects of that class.\n",
        "\n",
        "1. Definition and Access:\n",
        "   - Class attributes are defined directly within the class body, outside of any methods.\n",
        "   - They are accessed using the class name or an instance of the class.\n",
        "\n",
        "2. Shared Among Instances:\n",
        "   - Class attributes are shared among all instances of the class.\n",
        "   - When an instance accesses or modifies a class attribute, the change is reflected across all instances.\n",
        "\n",
        "3. Initialization:\n",
        "   - Class attributes are typically initialized when they are defined, similar to global variables.\n",
        "   - They can also be modified or accessed within methods using the class name or the `self` keyword.\n",
        "\n",
        "4. Visibility:\n",
        "   - Class attributes are visible to all instances of the class and can be accessed by all instances.\n",
        "   - They can also be accessed from outside the class using the class name.\n",
        "\n"
      ],
      "metadata": {
        "id": "vwz5fWqd2DK3"
      }
    },
    {
      "cell_type": "markdown",
      "source": [
        "### 2.4.1 Example 3"
      ],
      "metadata": {
        "id": "mhTWwE3h4L4z"
      }
    },
    {
      "cell_type": "code",
      "source": [
        "class Car:\n",
        "    color = \"Red\"  # Class attribute\n",
        "\n",
        "    def __init__(self, brand):\n",
        "        self.brand = brand  # Instance attribute\n",
        "\n",
        "    def get_color(self):\n",
        "        return self.color  # Accessing class attribute using self\n",
        "\n",
        "car1 = Car(\"Toyota\")\n",
        "car2 = Car(\"Honda\")\n",
        "\n",
        "print(car1.brand)  # Output: Toyota\n",
        "print(car2.brand)  # Output: Honda\n",
        "print(car1.color)  # Output: Red\n",
        "print(car2.color)  # Output: Red\n",
        "\n",
        "print(Car.color)  # Output: Red\n",
        "\n",
        "car1.color = \"Blue\"\n",
        "print(car1.color)  # Output: Blue\n",
        "print(car2.color)  # Output: Red"
      ],
      "metadata": {
        "colab": {
          "base_uri": "https://localhost:8080/"
        },
        "id": "aBXxQktO2PKY",
        "outputId": "930eea8d-f4e5-4fb4-e241-12cf86b7700c"
      },
      "execution_count": null,
      "outputs": [
        {
          "output_type": "stream",
          "name": "stdout",
          "text": [
            "Toyota\n",
            "Honda\n",
            "Red\n",
            "Red\n",
            "Red\n",
            "Blue\n",
            "Red\n"
          ]
        }
      ]
    },
    {
      "cell_type": "markdown",
      "source": [
        "\n",
        "In the example, `color` is a class attribute defined within the `Car` class. It is shared among all instances of the class. The `brand` attribute is an instance attribute specific to each instance of the class. The `get_color()` method accesses the class attribute using `self.color`.\n",
        "\n",
        "Class attributes are useful when need to store data that is shared among all instances of a class, such as default values, constants, or common properties. They provide a way to define and manage data at the class level, ensuring consistency across all instances."
      ],
      "metadata": {
        "id": "4od0-vdt2Rg6"
      }
    },
    {
      "cell_type": "markdown",
      "source": [
        "### 2.4.2 Example 4"
      ],
      "metadata": {
        "id": "P4qKJAuY4OX6"
      }
    },
    {
      "cell_type": "code",
      "source": [
        "class ItemX:\n",
        "  rate = 0.8\n",
        "\n",
        "  #Recieves it self,name , price value and the quanntity\n",
        "  def __init__(self,namePassed ,pricePassed,quantityPassed = 0):\n",
        "\n",
        "    #Assign the properties to the object(self)\n",
        "    self.name = namePassed\n",
        "    self.price = pricePassed\n",
        "    self.quantity = quantityPassed\n",
        "\n",
        "  def calculatePrice(self):\n",
        "    return self.price*self.quantity\n",
        "  def apply_discount(self):\n",
        "    # Note that class attributes cannot access directly!\n",
        "    self.price = self.price*self.rate   #or  ItemX.rate ~> Not recomended\n",
        "\n",
        "#Instance\n",
        "itemX = ItemX(\"Laptop\",1000,1)\n",
        "\n",
        "#Calculate and print price\n",
        "print(f\"Price is : {itemX.calculatePrice()}\")\n",
        "\n",
        "#Apply discount\n",
        "itemX.apply_discount()\n",
        "\n",
        "#Print value after discount\n",
        "print(f\"Price is : {itemX.calculatePrice()}\")\n",
        "\n",
        "# Update the discount value\n",
        "itemX.rate = 0.25\n",
        "\n",
        "#Apply discount\n",
        "itemX.apply_discount()\n",
        "\n",
        "#Print value after discount\n",
        "print(f\"Price is : {itemX.calculatePrice()}\")"
      ],
      "metadata": {
        "colab": {
          "base_uri": "https://localhost:8080/"
        },
        "id": "-7AdRM9n4SFz",
        "outputId": "c8205d5a-6dc3-416a-b4cb-1cb3eac81214"
      },
      "execution_count": null,
      "outputs": [
        {
          "output_type": "stream",
          "name": "stdout",
          "text": [
            "Price is : 1000\n",
            "Price is : 800.0\n",
            "Price is : 200.0\n"
          ]
        }
      ]
    },
    {
      "cell_type": "markdown",
      "source": [
        "##2.5 Magic Methods"
      ],
      "metadata": {
        "id": "pzcIVMiZm3WE"
      }
    },
    {
      "cell_type": "markdown",
      "source": [
        "Magic methods, also known as special methods or dunder (double underscore) methods, are predefined methods in Python that allows to define behavior for  custom classes. They are surrounded by double underscores at the beginning and end of their names.\n",
        "\n",
        "|        Method        |                            Explanation                            |\n",
        "|----------------------|-------------------------------------------------------------------|\n",
        "| `__init__(self, ...)`    | Initializes an object of a class with specified attributes        |\n",
        "| `__str__(self)`          | Returns a string representation of the object                     |\n",
        "| `__repr__(self)`         | Returns a string representation that can be used to recreate the object |\n",
        "| `__len__(self)`          | Returns the length of the object                                  |\n",
        "| `__getitem__(self, key)` | Enables accessing an item in the object using square bracket notation |\n",
        "| `__setitem__(self, key, value)` | Enables setting a value for an item in the object using square bracket notation |\n",
        "| `__delitem__(self, key)` | Enables deleting an item from the object using the `del` statement |\n",
        "| `__add__(self, other)`   | Defines behavior for the addition operation (`+`) between objects |\n",
        "| `__sub__(self, other)`   | Defines behavior for the subtraction operation (`-`) between objects |\n",
        "| `__eq__(self, other)`    | Defines behavior for equality comparison (`==`) between objects   |\n",
        "| `__lt__(self, other)`    | Defines behavior for less-than comparison (`<`) between objects   |\n",
        "| `__gt__(self, other)`    | Defines behavior for greater-than comparison (`>`) between objects |\n",
        "| `__call__(self, ...)`    | Allows an object to be called as a function                         |\n"
      ],
      "metadata": {
        "id": "rCl5eOFfnXC4"
      }
    },
    {
      "cell_type": "markdown",
      "source": [
        "###2.5.1 \\_\\_init\\_\\_"
      ],
      "metadata": {
        "id": "AF81lzBqnh9l"
      }
    },
    {
      "cell_type": "markdown",
      "source": [
        "**Example**:"
      ],
      "metadata": {
        "id": "t5g3Zga8mxpx"
      }
    },
    {
      "cell_type": "code",
      "source": [
        "class Item3:\n",
        "  rate = 0.5\n",
        "  #Recieves it self,name , price value and the quanntity\n",
        "  def __init__(self,namePassed ,pricePassed,quantityPassed = 0):\n",
        "    #Assign the properties to the object(self)\n",
        "    self.name = namePassed\n",
        "    self.price = pricePassed\n",
        "    self.quantity = quantityPassed\n",
        "  def calculatePrice(self):\n",
        "    return self.price*self.quantity\n",
        "\n",
        "item3 = Item3(\"Laptop\",1000,1)\n",
        "\n",
        "print(item3.name)\n",
        "print(item3.price)\n",
        "print(item3.quantity)\n",
        "print(f\"Price is : {item3.calculatePrice()}\")\n",
        "\n",
        "print(item3.rate)"
      ],
      "metadata": {
        "colab": {
          "base_uri": "https://localhost:8080/"
        },
        "id": "lGRonoacmxTk",
        "outputId": "34ce52a3-8d59-4d69-8d82-b37753b9ba09"
      },
      "execution_count": null,
      "outputs": [
        {
          "output_type": "stream",
          "name": "stdout",
          "text": [
            "Laptop\n",
            "1000\n",
            "1\n",
            "Price is : 1000\n",
            "0.5\n"
          ]
        }
      ]
    },
    {
      "cell_type": "markdown",
      "source": [
        "### 2.5.2 \\_\\_dict\\_\\_"
      ],
      "metadata": {
        "id": "kYy6KuWj259C"
      }
    },
    {
      "cell_type": "markdown",
      "source": [
        " `__dict__` attribute is a dictionary that stores the namespace of a class or an instance. It contains all the attributes (variables and methods) defined within the class or associated with the instance as key-value pairs.\n",
        "\n",
        "\n",
        "1. Class `__dict__`:\n",
        "   - For a class, `__dict__` contains the class-level attributes, including class variables and methods.\n",
        "   - It provides a way to access and modify the attributes of the class directly.\n",
        "\n",
        "2. Instance `__dict__`:\n",
        "   - For an instance of a class, `__dict__` contains the instance-specific attributes.\n",
        "   - It includes both the instance variables (attributes) and any attributes inherited from the class.\n",
        "\n",
        "3. Dictionary Structure:\n",
        "   - The `__dict__` attribute is implemented as a dictionary, where attribute names are the keys, and the corresponding values are the attribute values.\n",
        "   - The dictionary allows accessing and manipulating attributes dynamically at runtime.\n",
        "\n",
        "\n"
      ],
      "metadata": {
        "id": "MNS6m39h3S5d"
      }
    },
    {
      "cell_type": "code",
      "source": [
        "print(Item3.__dict__) # All the attribiutes for class level\n",
        "print(item3.__dict__) # All the attribiutes for instance level ~> Note the rate and function does not inclued"
      ],
      "metadata": {
        "colab": {
          "base_uri": "https://localhost:8080/"
        },
        "id": "0AbzOvwe3eFL",
        "outputId": "8a8439c3-1321-4e81-e044-5b07e212d177"
      },
      "execution_count": null,
      "outputs": [
        {
          "output_type": "stream",
          "name": "stdout",
          "text": [
            "{'__module__': '__main__', 'rate': 0.5, '__init__': <function Item3.__init__ at 0x7db79093d7e0>, 'calculatePrice': <function Item3.calculatePrice at 0x7db79093d750>, '__dict__': <attribute '__dict__' of 'Item3' objects>, '__weakref__': <attribute '__weakref__' of 'Item3' objects>, '__doc__': None}\n",
            "{'name': 'Laptop', 'price': 1000, 'quantity': 1}\n"
          ]
        }
      ]
    },
    {
      "cell_type": "markdown",
      "source": [
        "##2.6 Type Hints"
      ],
      "metadata": {
        "id": "XVHmcgP8rPqB"
      }
    },
    {
      "cell_type": "markdown",
      "source": [
        "Type hints in Python are a way to specify the expected types of variables, function arguments, and return values. They provide additional information about the types used in your code, which can help improve code readability, maintainability, and enable static type checking.\n",
        "\n",
        "\n",
        "1. Variable Annotations:\n",
        "   Annotate variables using the `:` syntax to indicate their expected type.\n",
        "   ```python\n",
        "   age: int = 25\n",
        "   name: str = \"John\"\n",
        "   ```\n",
        "\n",
        "2. Function Annotations:\n",
        "   Function arguments and return values can be annotated using the `:` syntax.\n",
        "   ```python\n",
        "   def greet(name: str) -> str:\n",
        "       return \"Hello, \" + name\n",
        "   ```\n",
        "\n",
        "3. Optional Types:\n",
        "   You can indicate that a variable or function argument is optional by using the `typing.Optional` type.\n",
        "   ```python\n",
        "   from typing import Optional\n",
        "\n",
        "   def say_hello(name: Optional[str]) -> str:\n",
        "       if name:\n",
        "           return \"Hello, \" + name\n",
        "       else:\n",
        "           return \"Hello, stranger\"\n",
        "   ```\n",
        "\n",
        "4. Union Types:\n",
        "   Union types allow specifying that a variable or function argument can have multiple possible types.\n",
        "   ```python\n",
        "   from typing import Union\n",
        "\n",
        "   def add(x: Union[int, float], y: Union[int, float]) -> Union[int, float]:\n",
        "       return x + y\n",
        "   ```\n",
        "\n",
        "5. Type Aliases:\n",
        "   Type aliases provide a way to define custom type names for complex types or to make the code more readable.\n",
        "   ```python\n",
        "   from typing import List\n",
        "\n",
        "   Vector = List[float]\n",
        "\n",
        "   def scale(scalar: float, vector: Vector) -> Vector:\n",
        "       return [scalar * num for num in vector]\n",
        "   ```\n",
        "\n",
        "Type hints are optional and do not affect the runtime behavior of the code. They are primarily used by static type checkers, such as `mypy`, to analyze the code and detect potential type-related issues."
      ],
      "metadata": {
        "id": "spBTLKFGrTIw"
      }
    },
    {
      "cell_type": "markdown",
      "source": [
        "###2.6.1 Example 5"
      ],
      "metadata": {
        "id": "BgJdTVzOrvCb"
      }
    },
    {
      "cell_type": "code",
      "source": [
        "class Item4:\n",
        "  #Recieves it self,name , price value and the quanntity\n",
        "  def __init__(self,namePassed : str ,pricePassed :float ,quantityPassed : int):\n",
        "    #Assign the properties to the object(self)\n",
        "    self.name = namePassed\n",
        "    self.price = pricePassed\n",
        "    self.quantity = quantityPassed\n",
        "  def calculatePrice(self) -> float:\n",
        "    return self.price*self.quantity\n",
        "\n",
        "item4 = Item4(\"Laptop\",1000,1)\n",
        "\n",
        "print(item4.name)\n",
        "print(item4.price)\n",
        "print(item4.quantity)\n",
        "print(f\"Price is : {item4.calculatePrice()}\")"
      ],
      "metadata": {
        "colab": {
          "base_uri": "https://localhost:8080/"
        },
        "id": "PwEKc7ytrxUZ",
        "outputId": "6a73a952-9545-4f03-b3df-a62d523e88ba"
      },
      "execution_count": null,
      "outputs": [
        {
          "output_type": "stream",
          "name": "stdout",
          "text": [
            "Laptop\n",
            "1000\n",
            "1\n",
            "Price is : 1000\n"
          ]
        }
      ]
    },
    {
      "cell_type": "markdown",
      "source": [
        "## 2.7 Assert Statement"
      ],
      "metadata": {
        "id": "d03u_54cs7Zr"
      }
    },
    {
      "cell_type": "markdown",
      "source": [
        "The `assert` statement is a useful tool in Python for testing assumptions and ensuring that specific conditions are met. It allows to check if a given expression evaluates to `True` and raises an `AssertionError` if the expression evaluates to `False`. The `assert` statement can be used during development to detect logical errors or to validate input/output conditions.\n",
        "\n",
        "The syntax for using the `assert` statement is as follows:\n",
        "\n",
        "```python\n",
        "assert expression, message\n",
        "```\n",
        "\n",
        "- The `expression` is the condition that need to be checked. If it evaluates to `True`, the program continues execution as normal. If it evaluates to `False`, an `AssertionError` is raised.\n",
        "- The optional `message` parameter is an informative string that can be included to provide more details about the assertion.\n",
        "\n",
        "Some key points about the `assert` statement:\n",
        "\n",
        "1. Use Cases:\n",
        "   - Debugging: `assert` statements can help catch logical errors during development.\n",
        "   - Input Validation: `assert` can be used to validate input conditions and assumptions.\n",
        "   - Post-conditions: `assert` can be used to verify that specific conditions hold true after a function or method call.\n",
        "\n",
        "2. Behavior:\n",
        "   - If the `expression` is `False`, an `AssertionError` is raised, halting program execution.\n",
        "   - If the `expression` is `True`, the program continues execution without any impact.\n",
        "   - The `AssertionError` typically includes the `message` parameter, providing details about the failed assertion.\n",
        "\n",
        "3. Best Practices:\n",
        "   - Use `assert` for conditions that should never occur or indicate a bug in the code.\n",
        "   - Avoid using `assert` for input validation in production code. Instead, use explicit checks and exception handling.\n",
        "\n",
        "\n",
        "\n",
        "```python\n",
        "def divide(a, b):\n",
        "    assert b != 0, \"Cannot divide by zero\"\n",
        "    return a / b\n",
        "\n",
        "result = divide(10, 0)\n",
        "# Output: AssertionError: Cannot divide by zero\n",
        "```\n",
        "\n",
        "In the example, the `assert` statement checks if `b` is not equal to zero before performing division. Since the assertion fails, an `AssertionError` is raised with the provided message.\n",
        "\n",
        "It's important to note that the `assert` statement is primarily used during development and debugging. In production code, it's recommended to handle exceptions explicitly and provide meaningful error messages to handle exceptional conditions gracefully.\n"
      ],
      "metadata": {
        "id": "GV24dBZ_tB8-"
      }
    },
    {
      "cell_type": "markdown",
      "source": [
        "### 2.7.1 Example 6\n"
      ],
      "metadata": {
        "id": "8q__Fxlatkha"
      }
    },
    {
      "cell_type": "code",
      "source": [
        "class Item5:\n",
        "  #Recieves it self,name , price value and the quanntity\n",
        "  def __init__(self,namePassed : str ,pricePassed :float ,quantityPassed : int):\n",
        "\n",
        "    #Validation\n",
        "    assert pricePassed >= 0 , f\"Price {pricePassed} is lower than zero\"\n",
        "    assert quantityPassed >= 0 ,  f\"Quantity {quantityPassed} is lower than zero\"\n",
        "\n",
        "    #Assign the properties to the object(self)\n",
        "    self.name = namePassed\n",
        "    self.price = pricePassed\n",
        "    self.quantity = quantityPassed\n",
        "\n",
        "  def calculatePrice(self) -> float:\n",
        "    return self.price*self.quantity\n",
        "\n",
        "item5 = Item5(\"Laptop\",1000,1)\n",
        "\n"
      ],
      "metadata": {
        "id": "7NkAFePZt25K"
      },
      "execution_count": null,
      "outputs": []
    },
    {
      "cell_type": "markdown",
      "source": [
        "### 2.7.2 Example 7 : Object List"
      ],
      "metadata": {
        "id": "MlRlCmJQ7BhG"
      }
    },
    {
      "cell_type": "code",
      "source": [
        "class Item7:\n",
        "  rate = 0.8\n",
        "  all  = []\n",
        "  # Since it is a class attribute It's a common attribute for all\n",
        "  # Think like , class attributes are like attributes inside a parent object\n",
        "  # Instance attributes are like attributes inside each child\n",
        "\n",
        "  def __init__(self,namePassed : str ,pricePassed :float ,quantityPassed : int):\n",
        "\n",
        "    #Validation\n",
        "    assert pricePassed >= 0 , f\"Price {pricePassed} is lower than zero\"\n",
        "    assert quantityPassed >= 0 ,  f\"Quantity {quantityPassed} is lower than zero\"\n",
        "\n",
        "    #Assign the properties to the object(self)\n",
        "    self.name = namePassed\n",
        "    self.price = pricePassed\n",
        "    self.quantity = quantityPassed\n",
        "\n",
        "    #Update the All list\n",
        "    Item7.all.append(self)\n",
        "\n",
        "  def calculatePrice(self) -> float:\n",
        "    return self.price*self.quantity\n",
        "\n",
        "  def apply_discount(self):\n",
        "    self.price = self.price*self.rate\n",
        "\n",
        "item7_1 = Item7(\"Laptop\",1000,1)\n",
        "item7_2 = Item7(\"Phone\",250,3)\n",
        "item7_3 = Item7(\"Tablet\",350,2)\n",
        "item7_4 = Item7(\"S-Watch\",100,6)\n",
        "\n",
        "print(Item7.all) # Shows 4 item object array"
      ],
      "metadata": {
        "colab": {
          "base_uri": "https://localhost:8080/"
        },
        "id": "VUUTdwKT7Mdb",
        "outputId": "0867e5ad-1a75-44cf-9d34-797937b6cb3e"
      },
      "execution_count": null,
      "outputs": [
        {
          "output_type": "stream",
          "name": "stdout",
          "text": [
            "[<__main__.Item7 object at 0x7db79096d540>, <__main__.Item7 object at 0x7db79096d3f0>, <__main__.Item7 object at 0x7db79096f850>, <__main__.Item7 object at 0x7db79096c5e0>]\n"
          ]
        }
      ]
    },
    {
      "cell_type": "code",
      "source": [
        "for i in Item7.all:\n",
        "  print(i.name)"
      ],
      "metadata": {
        "colab": {
          "base_uri": "https://localhost:8080/"
        },
        "id": "5ZjYrkuQ7HRX",
        "outputId": "f2eb53f4-ffc8-41ba-b0ce-77d052c6c4ba"
      },
      "execution_count": null,
      "outputs": [
        {
          "output_type": "stream",
          "name": "stdout",
          "text": [
            "Laptop\n",
            "Phone\n",
            "Tablet\n",
            "S-Watch\n"
          ]
        }
      ]
    },
    {
      "cell_type": "markdown",
      "source": [
        "### 2.7.3 Example 8 : Object List with \\_\\_repr\\_\\_"
      ],
      "metadata": {
        "id": "eCpgIy6h_GZU"
      }
    },
    {
      "cell_type": "code",
      "source": [
        "class Item8:\n",
        "  rate = 0.8\n",
        "  all  = []\n",
        "  # Since it is a class attribute It's a common attribute for all\n",
        "  # Think like , class attributes are like attributes inside a parent object\n",
        "  # Instance attributes are like attributes inside each child\n",
        "\n",
        "  def __init__(self,namePassed : str ,pricePassed :float ,quantityPassed : int):\n",
        "\n",
        "    #Validation\n",
        "    assert pricePassed >= 0 , f\"Price {pricePassed} is lower than zero\"\n",
        "    assert quantityPassed >= 0 ,  f\"Quantity {quantityPassed} is lower than zero\"\n",
        "\n",
        "    #Assign the properties to the object(self)\n",
        "    self.name = namePassed\n",
        "    self.price = pricePassed\n",
        "    self.quantity = quantityPassed\n",
        "\n",
        "    #Update the All list\n",
        "    Item8.all.append(self)\n",
        "\n",
        "  def calculatePrice(self) -> float:\n",
        "    return self.price*self.quantity\n",
        "\n",
        "  def apply_discount(self):\n",
        "    self.price = self.price*self.rate\n",
        "\n",
        "  '''\n",
        "  Insted of the  objectID  __repr__ passes an string\n",
        "  The return string can be customized as required\n",
        "  The common practice is represent object as it's intance code like 'Item8(\"Laptop\",1000,1)'\n",
        "  '''\n",
        "  def __repr__(self):\n",
        "    return f\"Item8('{self.name}',{self.price},{self.quantity})\"\n",
        "\n",
        "item8_1 = Item8(\"Laptop\",1000,1)\n",
        "item8_2 = Item8(\"Phone\",250,3)\n",
        "item8_3 = Item8(\"Tablet\",350,2)\n",
        "item8_4 = Item8(\"S-Watch\",100,6)\n",
        "\n",
        "print(Item8.all) # Shows 4 item object array"
      ],
      "metadata": {
        "colab": {
          "base_uri": "https://localhost:8080/"
        },
        "id": "nyyKgpn1_F97",
        "outputId": "05407b1e-db93-4753-a02b-42d2286b5b35"
      },
      "execution_count": null,
      "outputs": [
        {
          "output_type": "stream",
          "name": "stdout",
          "text": [
            "[Item8('Laptop',1000,1), Item8('Phone',250,3), Item8('Tablet',350,2), Item8('S-Watch',100,6)]\n"
          ]
        }
      ]
    },
    {
      "cell_type": "markdown",
      "source": [
        "## 2.8 Class Methods"
      ],
      "metadata": {
        "id": "-o86sC_BCDYV"
      }
    },
    {
      "cell_type": "markdown",
      "source": [
        "A class method is a method that is bound to the class rather than an instance of the class. It is defined using the `@classmethod` decorator and can be accessed using either the class name or an instance of the class. Class methods have access to the class itself and can modify class-level attributes or perform operations that are relevant to the class as a whole. Here are some key points about class methods:\n",
        "\n",
        "1. **Definition and Syntax:**\n",
        "   - Class methods are defined using the `@classmethod` decorator before the method definition.\n",
        "   - The first parameter of a class method is conventionally named `cls` (short for \"class\"), which refers to the class itself.\n",
        "   - Class methods are typically defined within the class body but outside of any instances or instance methods.\n",
        "\n",
        "2. **Access:**\n",
        "   - Class methods can be accessed using the class name or an instance of the class.\n",
        "   - When accessed through the class name, the `cls` parameter is automatically passed to the method.\n",
        "   - When accessed through an instance, the instance is automatically passed as the `cls` parameter.\n",
        "\n",
        "3. **Purpose:**\n",
        "   - Class methods are often used to define alternative constructors or provide utility methods related to the class.\n",
        "   - They can be used to modify class attributes or perform operations that involve the class as a whole.\n",
        "\n",
        "\n",
        "\n",
        "\n"
      ],
      "metadata": {
        "id": "Oq2mSNAXCF5_"
      }
    },
    {
      "cell_type": "markdown",
      "source": [
        "### 2.8.1 Example 9"
      ],
      "metadata": {
        "id": "uPcAdFS5CaSW"
      }
    },
    {
      "cell_type": "code",
      "source": [
        "class Circle:\n",
        "    pi = 3.14159  # Class attribute\n",
        "\n",
        "    def __init__(self, radius):\n",
        "        self.radius = radius  # Instance attribute\n",
        "\n",
        "    @classmethod\n",
        "    def from_diameter(cls, diameter):\n",
        "        radius = diameter / 2\n",
        "        return cls(radius)\n",
        "\n",
        "    def calculate_area(self):\n",
        "        return self.pi * self.radius * self.radius\n",
        "\n",
        "circle1 = Circle(5)\n",
        "circle2 = Circle.from_diameter(10)\n",
        "\n",
        "print(circle1.calculate_area())  # Output: 78.53975\n",
        "print(circle2.calculate_area())  # Output: 78.53975"
      ],
      "metadata": {
        "colab": {
          "base_uri": "https://localhost:8080/"
        },
        "id": "ELKGI8CWCYzX",
        "outputId": "36ef6768-05b7-44b4-957d-f2213d4a6761"
      },
      "execution_count": null,
      "outputs": [
        {
          "output_type": "stream",
          "name": "stdout",
          "text": [
            "78.53975\n",
            "78.53975\n"
          ]
        }
      ]
    },
    {
      "cell_type": "markdown",
      "source": [
        "```python\n",
        "class Item8:\n",
        "  rate = 0.8\n",
        "  all  = []\n",
        "  def __init__(self,namePassed : str ,pricePassed :float ,quantityPassed : int):\n",
        "\n",
        "    #Validation\n",
        "    assert pricePassed >= 0 , f\"Price {pricePassed} is lower than zero\"\n",
        "    assert quantityPassed >= 0 ,  f\"Quantity {quantityPassed} is lower than zero\"\n",
        "\n",
        "    self.name = namePassed\n",
        "    self.price = pricePassed\n",
        "    self.quantity = quantityPassed\n",
        "\n",
        "    Item8.all.append(self)\n",
        "\n",
        "  def calculatePrice(self) -> float:\n",
        "    return self.price*self.quantity\n",
        "\n",
        "  def apply_discount(self):\n",
        "    self.price = self.price*self.rate\n",
        "\n",
        "  # Create objects from CSV ~> used classs method since it's a utility\n",
        "  @classmethod\n",
        "  def instantiateFromCSV(cls):\n",
        "\n",
        "    with open('items.csv','r') as f:\n",
        "      reader = csv.DictReader(f)\n",
        "      items = list(reader)\n",
        "\n",
        "    for i in items:\n",
        "      Item8(\n",
        "        name = i.get('name'),\n",
        "        price = float(i.get('price')),\n",
        "        quantity = int(i.get('quantity')),\n",
        "      )\n",
        "\n",
        "  def __repr__(self):\n",
        "    return f\"Item8('{self.name}',{self.price},{self.quantity})\"\n",
        "\n",
        "\n",
        "#Call the class method\n",
        "Item8.instantiateFromCSV()\n",
        "print(Item8.all) # Shows 4 item object array\n",
        "\n",
        "```"
      ],
      "metadata": {
        "id": "uoJrXzUDIFaL"
      }
    },
    {
      "cell_type": "markdown",
      "source": [
        "## 2.9 Static methods"
      ],
      "metadata": {
        "id": "1nQ_vN45JgrX"
      }
    },
    {
      "cell_type": "markdown",
      "source": [
        "Static method is a method that belongs to a class but doesn't have access to the instance or class itself. It is defined using the `@staticmethod` decorator and can be accessed using either the class name or an instance of the class. Static methods are not bound to any specific instance or class state and are primarily used for utility functions or operations that don't require access to instance or class attributes. Here are some key points about static methods:\n",
        "\n",
        "1. Definition and Syntax:\n",
        "   - Static methods are defined using the `@staticmethod` decorator before the method definition.\n",
        "   - Unlike regular methods, static methods don't take any special parameters such as `self` or `cls`.\n",
        "   - Static methods are typically defined within the class body but outside of any instances or instance methods.\n",
        "\n",
        "2. Access:\n",
        "   - Static methods can be accessed using the class name or an instance of the class.\n",
        "   - When accessed through the class name, no special parameters are automatically passed.\n",
        "   - When accessed through an instance, no automatic instance-related parameters are passed.\n",
        "\n",
        "3. Purpose:\n",
        "   - Static methods are commonly used for utility functions or operations that don't require access to instance or class attributes.\n",
        "   - They are not specific to any particular instance and do not modify or access instance or class state.\n",
        "\n",
        "\n",
        "|                   | Class Method                                          | Static Method                                         |\n",
        "|-------------------|-------------------------------------------------------|-------------------------------------------------------|\n",
        "| Definition        | Decorated with `@classmethod`                        | Decorated with `@staticmethod`                        |\n",
        "| Access            | Accessed using the class name or instance             | Accessed using the class name or instance             |\n",
        "| Parameters        | First parameter conventionally named `cls`            | No special parameters                                 |\n",
        "| Instance Access   | Has access to class and instance attributes           | Does not have access to class or instance attributes   |\n",
        "| Class Access      | Has access to class attributes                        | Does not have access to class attributes              |\n",
        "| Purpose           | Operates on class or instance attributes             | Utility functions or operations not requiring state   |\n",
        "| Modification      | Can modify class attributes                          | Cannot modify class attributes                        |\n",
        "| Inheritance       | Can be overridden by subclasses                      | Can be overridden by subclasses                      |\n",
        "| Implicit Self     | Receives the class as the first parameter (`cls`)     | No implicit self parameter                            |\n",
        "| Dependency        | Can depend on class or instance state                 | Does not depend on class or instance state            |\n",
        "| Code Organization | Group related functionality within a class            | Group utility functions within a class                |\n",
        "| Common Use Cases  | Alternative constructors, class-level operations     | Utility functions, independent operations             |\n"
      ],
      "metadata": {
        "id": "yIK1DKXVMGFW"
      }
    },
    {
      "cell_type": "markdown",
      "source": [
        "### 2.9.1 Static Method"
      ],
      "metadata": {
        "id": "HszEolsxMNJp"
      }
    },
    {
      "cell_type": "code",
      "source": [
        "class MathUtils:\n",
        "    @staticmethod\n",
        "    def add(a, b):\n",
        "        return a + b\n",
        "\n",
        "    @staticmethod\n",
        "    def multiply(a, b):\n",
        "        return a * b\n",
        "\n",
        "result1 = MathUtils.add(5, 3)\n",
        "result2 = MathUtils.multiply(4, 6)\n",
        "\n",
        "print(result1)  # Output: 8\n",
        "print(result2)  # Output: 24"
      ],
      "metadata": {
        "colab": {
          "base_uri": "https://localhost:8080/"
        },
        "id": "tBbptWnGMQhc",
        "outputId": "29cf6a82-ccac-4ec1-d9c5-efe6da8b734e"
      },
      "execution_count": null,
      "outputs": [
        {
          "output_type": "stream",
          "name": "stdout",
          "text": [
            "8\n",
            "24\n"
          ]
        }
      ]
    },
    {
      "cell_type": "markdown",
      "source": [
        "## 2.10 Inheritance"
      ],
      "metadata": {
        "id": "WkG-cGQZTT1h"
      }
    },
    {
      "cell_type": "markdown",
      "source": [
        "Inheritance is a fundamental concept in object-oriented programming (OOP) that allows classes to inherit attributes and methods from **parent classes**. It promotes code reuse, modularity, and allows for the creation of hierarchical relationships between classes. Inheritance enables the creation of specialized classes (child or derived classes) that inherit and extend the functionality of a more general class (parent or base class).\n",
        "\n",
        "1. **Class Hierarchy:**\n",
        "   - Inheritance forms a class hierarchy where child classes inherit attributes and methods from parent classes.\n",
        "   - Parent classes are also known as base classes or superclasses, while child classes are referred to as derived classes or subclasses.\n",
        "\n",
        "2. **Syntax:**\n",
        "   - In Python, inheritance is declared by specifying the parent class in parentheses after the child class name when defining the class.\n",
        "   - The child class inherits all attributes and methods defined in the parent class.\n",
        "\n",
        "3. **Single Inheritance:**\n",
        "   - Python supports single inheritance, where a class can inherit from only one parent class.\n",
        "   - Child classes can access and use the attributes and methods of the parent class as if they were defined in the child class itself.\n",
        "\n",
        "4. **Overriding Methods:**\n",
        "   - Child classes can override methods inherited from the parent class by redefining them in the child class.\n",
        "   - When a method is called on an instance of the child class, the overridden method in the child class is executed instead of the parent class method.\n",
        "\n",
        "5. **Accessing Parent Class:**\n",
        "   - Child classes can access the attributes and methods of the parent class using the `super()` function.\n",
        "   - The `super()` function provides a way to call parent class methods and access parent class attributes from within the child class.\n",
        "\n",
        "6. **Inheritance Levels:**\n",
        "   - Inheritance can be hierarchical, allowing for multiple levels of inheritance.\n",
        "   - A child class can become a parent class for another class, forming a chain of inheritance.\n",
        "\n",
        "7. **Benefits of Inheritance:**\n",
        "   - Code Reusability: Inheritance promotes code reuse by allowing child classes to inherit and reuse the functionality of parent classes.\n",
        "   - Modularity: Inheritance helps in creating modular code by organizing related classes into a hierarchy.\n",
        "   - Polymorphism: Inheritance supports polymorphism, where objects of different classes can be used interchangeably if they are related through inheritance.\n",
        "\n",
        "\n",
        "\n"
      ],
      "metadata": {
        "id": "yUlfnLkpTWQk"
      }
    },
    {
      "cell_type": "markdown",
      "source": [
        "###2.10.1 Example 10"
      ],
      "metadata": {
        "id": "Avci-uiDTzQu"
      }
    },
    {
      "cell_type": "code",
      "source": [
        "class Animal:\n",
        "    def __init__(self, name):\n",
        "        self.name = name\n",
        "\n",
        "    def speak(self):\n",
        "        print(\"The animal speaks.\")\n",
        "\n",
        "class Dog(Animal):\n",
        "    def __init__(self, name, breed):\n",
        "        super().__init__(name)\n",
        "        self.breed = breed\n",
        "\n",
        "    def speak(self):\n",
        "        print(\"The dog barks.\")\n",
        "\n",
        "animal = Animal(\"Generic Animal\")\n",
        "dog = Dog(\"Buddy\", \"Labrador\")\n",
        "\n",
        "animal.speak()  # Output: The animal speaks.\n",
        "dog.speak()     # Output: The dog barks.\n"
      ],
      "metadata": {
        "id": "lhh6b2rPTwul",
        "colab": {
          "base_uri": "https://localhost:8080/"
        },
        "outputId": "b2d7e41d-9305-40b5-d57f-d42ba9702e11"
      },
      "execution_count": null,
      "outputs": [
        {
          "output_type": "stream",
          "name": "stdout",
          "text": [
            "The animal speaks.\n",
            "The dog barks.\n"
          ]
        }
      ]
    },
    {
      "cell_type": "markdown",
      "source": [
        "In the example, the `Animal` class is the parent class, and the `Dog` class is the child class that inherits from `Animal`. The `Dog` class overrides the `speak()` method of the `Animal` class with its own implementation. When `speak()` is called on the `animal` object, it executes the method from the `Animal` class. When `speak()` is called on the `dog` object, it executes the overridden method from the `Dog` class.\n"
      ],
      "metadata": {
        "id": "H70rQFkET3Da"
      }
    },
    {
      "cell_type": "markdown",
      "source": [
        "### 2.10.2 Example 11"
      ],
      "metadata": {
        "id": "ZWDIuCtFT5Um"
      }
    },
    {
      "cell_type": "code",
      "source": [
        "# Base or the Parent Class\n",
        "class Item11:\n",
        "  rate = 0.8\n",
        "  all  = []\n",
        "\n",
        "  def __init__(self,namePassed : str ,pricePassed :float ,quantityPassed : int):\n",
        "\n",
        "    assert pricePassed >= 0 , f\"Price {pricePassed} is lower than zero\"\n",
        "    assert quantityPassed >= 0 ,  f\"Quantity {quantityPassed} is lower than zero\"\n",
        "\n",
        "    self.name = namePassed\n",
        "    self.price = pricePassed\n",
        "    self.quantity = quantityPassed\n",
        "\n",
        "    Item11.all.append(self)\n",
        "\n",
        "  def calculatePrice(self) -> float:\n",
        "    return self.price*self.quantity\n",
        "\n",
        "  def apply_discount(self):\n",
        "    self.price = self.price*self.rate\n",
        "\n",
        "  def __repr__(self):\n",
        "    return f\"{self.__class__.__name__}('{self.name}',{self.price},{self.quantity})\"\n",
        "\n",
        "item11_1 = Item11(\"Laptop\",1000,1)\n",
        "item11_2 = Item11(\"Phone\",250,3)\n",
        "item11_3 = Item11(\"Tablet\",350,2)\n",
        "item11_4 = Item11(\"S-Watch\",100,6)\n",
        "\n",
        "print(Item11.all) # Shows 4 item object array"
      ],
      "metadata": {
        "colab": {
          "base_uri": "https://localhost:8080/"
        },
        "id": "_Pu65-UyWh0W",
        "outputId": "62c84391-fb97-435b-fef3-1019bd84baf2"
      },
      "execution_count": null,
      "outputs": [
        {
          "output_type": "stream",
          "name": "stdout",
          "text": [
            "[Item11('Laptop',1000,1), Item11('Phone',250,3), Item11('Tablet',350,2), Item11('S-Watch',100,6)]\n"
          ]
        }
      ]
    },
    {
      "cell_type": "code",
      "source": [
        "#Inherited class to add damaged Items\n",
        "\n",
        "class damagedItems(Item11):\n",
        "  all = []\n",
        "  def __init__(self, namePassed: str, pricePassed: float, quantityPassed: int , brokenItemsPassed : int):\n",
        "    #  Call to super function to have access all the atributes and methods in the parent clasas\n",
        "    super().__init__(namePassed, pricePassed, quantityPassed)\n",
        "\n",
        "    # Run validation for new arguments which are unique to the child class\n",
        "    assert brokenItemsPassed >= 0 , f\"Broken phones {brokenItemsPassed} invalid\"\n",
        "\n",
        "    # Assign new uniqe parameters to the child object\n",
        "    self.brokenItems = brokenItemsPassed\n",
        "\n",
        "    # Update all list\n",
        "    damagedItems.all.append(self)\n",
        "\n",
        "\n",
        "item11_6 = damagedItems(\"Laptop_Broken\",1000,1,1)\n",
        "item11_7 = damagedItems(\"Phone_Broken\",250,3,1)\n",
        "item11_8 = damagedItems(\"Tablet_Broken\",350,2,1)\n",
        "item11_9 = damagedItems(\"S-Watch_Broken\",100,6,1)\n",
        "\n",
        "# Run\n",
        "print(item11_6.calculatePrice())\n",
        "item11_6.apply_discount()\n",
        "print(item11_6.calculatePrice())"
      ],
      "metadata": {
        "colab": {
          "base_uri": "https://localhost:8080/"
        },
        "id": "RVCLW5QwWrwQ",
        "outputId": "b4e3db74-d2f1-4b21-e51e-32c5ed0c8ea3"
      },
      "execution_count": null,
      "outputs": [
        {
          "output_type": "stream",
          "name": "stdout",
          "text": [
            "1000\n",
            "800.0\n"
          ]
        }
      ]
    },
    {
      "cell_type": "code",
      "source": [
        "print(Item11.all)"
      ],
      "metadata": {
        "colab": {
          "base_uri": "https://localhost:8080/"
        },
        "id": "DPYF0YSEjahP",
        "outputId": "01cc2979-385f-4dae-8640-9bfb1a1d2584"
      },
      "execution_count": null,
      "outputs": [
        {
          "output_type": "stream",
          "name": "stdout",
          "text": [
            "[Item11('Laptop',1000,1), Item11('Phone',250,3), Item11('Tablet',350,2), Item11('S-Watch',100,6), damagedItems('Laptop_Broken',800.0,1), damagedItems('Phone_Broken',250,3), damagedItems('Tablet_Broken',350,2), damagedItems('S-Watch_Broken',100,6)]\n"
          ]
        }
      ]
    },
    {
      "cell_type": "code",
      "source": [
        "print(damagedItems.all)"
      ],
      "metadata": {
        "colab": {
          "base_uri": "https://localhost:8080/"
        },
        "id": "od6SJXosjpKc",
        "outputId": "5b493cc5-a280-492f-e01b-14da1c84180b"
      },
      "execution_count": null,
      "outputs": [
        {
          "output_type": "stream",
          "name": "stdout",
          "text": [
            "[damagedItems('Laptop_Broken',800.0,1), damagedItems('Phone_Broken',250,3), damagedItems('Tablet_Broken',350,2), damagedItems('S-Watch_Broken',100,6)]\n"
          ]
        }
      ]
    },
    {
      "cell_type": "markdown",
      "source": [
        "# 3.0 Numpy Library"
      ],
      "metadata": {
        "id": "HVYKU4iv3QZf"
      }
    },
    {
      "cell_type": "markdown",
      "source": [
        "## 3.1 Introduction"
      ],
      "metadata": {
        "id": "ia17UiOk3UdV"
      }
    },
    {
      "cell_type": "markdown",
      "source": [
        "### 3.1.1 Introduction to Numpy"
      ],
      "metadata": {
        "id": "ONDQki4y3vM_"
      }
    },
    {
      "cell_type": "markdown",
      "source": [
        "NumPy (Numerical Python) is a powerful library for numerical computing in Python. It provides support for large, multi-dimensional arrays and matrices, along with a collection of high-level mathematical functions to operate on these arrays efficiently. NumPy is a fundamental building block for data analysis, scientific computing, and machine learning tasks in Python."
      ],
      "metadata": {
        "id": "qOnsiuL331P_"
      }
    },
    {
      "cell_type": "markdown",
      "source": [
        "### 3.1.2 What is NumPy?"
      ],
      "metadata": {
        "id": "ynP4DU-t32AZ"
      }
    },
    {
      "cell_type": "markdown",
      "source": [
        "NumPy is an open-source library that extends Python's capabilities to handle arrays and numerical operations with ease. It was created to address the limitations of Python's built-in data structures and to provide fast, memory-efficient operations on large datasets. The core data structure in NumPy is the \"ndarray\" (n-dimensional array), which allows for element-wise operations and broadcasting. NumPy also supports various data types and functions to work with these arrays efficiently."
      ],
      "metadata": {
        "id": "ARXLXPB84AKJ"
      }
    },
    {
      "cell_type": "markdown",
      "source": [
        "### 3.1.3 Why NumPy ?"
      ],
      "metadata": {
        "id": "DyWuZtHb4BQ-"
      }
    },
    {
      "cell_type": "markdown",
      "source": [
        "NumPy offers several compelling reasons to use it for numerical computing tasks:\n",
        "\n",
        "- **Performance:** NumPy is implemented in C and offers highly optimized array operations, making it much faster than traditional Python lists when handling large datasets.\n",
        "\n",
        "- **Memory Efficiency:** NumPy arrays are more memory-efficient compared to Python lists, which can be critical when dealing with huge datasets.\n",
        "\n",
        "- **Broadcasting:** NumPy enables broadcasting, which allows operations on arrays of different shapes and sizes, making code concise and readable.\n",
        "\n",
        "- **Mathematical Functions:** NumPy provides a wide range of mathematical functions for array operations, linear algebra, statistics, and more.\n",
        "\n",
        "- **Integration with Other Libraries:** NumPy seamlessly integrates with various data science and machine learning libraries in the Python ecosystem."
      ],
      "metadata": {
        "id": "THLMSkeH4GSe"
      }
    },
    {
      "cell_type": "markdown",
      "source": [
        "### 3.1.4 Getting started with NumPy"
      ],
      "metadata": {
        "id": "G8enWdVN4IQg"
      }
    },
    {
      "cell_type": "markdown",
      "source": [
        "**Installing NumPy**\n",
        "\n",
        "Installing NumPy is straightforward and can be done using Python's package manager, pip. Simply open a terminal or command prompt and execute the following command:\n",
        "\n",
        "```\n",
        "pip install numpy\n",
        "```\n",
        "\n",
        "Ensure that you have an active internet connection, and NumPy will be downloaded and installed on your system.\n",
        "\n",
        "**Getting Started with NumPy Arrays**\n",
        "\n",
        "To start using NumPy, you need to import the library in your Python script or interactive session:\n",
        "\n",
        "```python\n",
        "import numpy as np\n",
        "```\n",
        "\n",
        "With NumPy imported, you can now create NumPy arrays and perform various operations on them. The first step is often to create an array:\n",
        "\n",
        "```python\n",
        "# Creating a NumPy array from a list\n",
        "arr = np.array([1, 2, 3, 4, 5])\n",
        "\n",
        "# Creating a multi-dimensional array (matrix)\n",
        "matrix = np.array([[1, 2, 3], [4, 5, 6], [7, 8, 9]])\n",
        "```"
      ],
      "metadata": {
        "id": "p6sW_3LJ3s6v"
      }
    },
    {
      "cell_type": "markdown",
      "source": [
        "## 3.2 NumPy Arrays"
      ],
      "metadata": {
        "id": "A-WeLzup4T-3"
      }
    },
    {
      "cell_type": "markdown",
      "source": [
        "NumPy provides powerful capabilities for creating and manipulating arrays."
      ],
      "metadata": {
        "id": "M2wpP5Em48BP"
      }
    },
    {
      "cell_type": "markdown",
      "source": [
        "### 3.2.1  Creating NumPy Arrays"
      ],
      "metadata": {
        "id": "KTUd1_j-495d"
      }
    },
    {
      "cell_type": "markdown",
      "source": [
        "1. Creating an array from a Python list:"
      ],
      "metadata": {
        "id": "Vc_OatQ-5R6s"
      }
    },
    {
      "cell_type": "code",
      "source": [
        "import numpy as np\n",
        "\n",
        "list_data = [1, 2, 3, 4, 5]\n",
        "numpy_array = np.array(list_data)\n",
        "print(numpy_array)"
      ],
      "metadata": {
        "id": "IWvp4oep5T0P",
        "outputId": "e1b18297-cf4e-426d-bdcf-a9e8135874c5",
        "colab": {
          "base_uri": "https://localhost:8080/"
        }
      },
      "execution_count": null,
      "outputs": [
        {
          "output_type": "stream",
          "name": "stdout",
          "text": [
            "[1 2 3 4 5]\n"
          ]
        }
      ]
    },
    {
      "cell_type": "markdown",
      "source": [
        "2. Creating a 2D array from nested lists:\n"
      ],
      "metadata": {
        "id": "l9imBsZU5XZU"
      }
    },
    {
      "cell_type": "code",
      "source": [
        "nested_lists = [[1, 2, 3], [4, 5, 6], [7, 8, 9]]\n",
        "numpy_2d_array = np.array(nested_lists)\n",
        "print(numpy_2d_array)"
      ],
      "metadata": {
        "id": "QosKCiyZ5YM3",
        "outputId": "3fa70e43-3d25-42e7-a217-fa7353e1678e",
        "colab": {
          "base_uri": "https://localhost:8080/"
        }
      },
      "execution_count": null,
      "outputs": [
        {
          "output_type": "stream",
          "name": "stdout",
          "text": [
            "[[1 2 3]\n",
            " [4 5 6]\n",
            " [7 8 9]]\n"
          ]
        }
      ]
    },
    {
      "cell_type": "markdown",
      "source": [
        "3. Creating an array of zeros with a specified shape:"
      ],
      "metadata": {
        "id": "uJfATJHh5fO0"
      }
    },
    {
      "cell_type": "code",
      "source": [
        "zeros_array = np.zeros((3, 4))\n",
        "print(zeros_array)"
      ],
      "metadata": {
        "id": "A24OSi5V5f0R",
        "outputId": "1e2f8e21-7ae4-4e1a-a339-fb72a5d6c4a8",
        "colab": {
          "base_uri": "https://localhost:8080/"
        }
      },
      "execution_count": null,
      "outputs": [
        {
          "output_type": "stream",
          "name": "stdout",
          "text": [
            "[[0. 0. 0. 0.]\n",
            " [0. 0. 0. 0.]\n",
            " [0. 0. 0. 0.]]\n"
          ]
        }
      ]
    },
    {
      "cell_type": "markdown",
      "source": [
        "4. Creating an array of ones with a specified shape:"
      ],
      "metadata": {
        "id": "58cA84Gv5huD"
      }
    },
    {
      "cell_type": "code",
      "source": [
        "ones_array = np.ones((2, 3))\n",
        "print(ones_array)"
      ],
      "metadata": {
        "id": "SVSKpJXH5mTi",
        "outputId": "35321941-7c5e-4531-d922-6f743d1213ee",
        "colab": {
          "base_uri": "https://localhost:8080/"
        }
      },
      "execution_count": null,
      "outputs": [
        {
          "output_type": "stream",
          "name": "stdout",
          "text": [
            "[[1. 1. 1.]\n",
            " [1. 1. 1.]]\n"
          ]
        }
      ]
    },
    {
      "cell_type": "markdown",
      "source": [
        "5. Creating an array with a specified range of values:"
      ],
      "metadata": {
        "id": "gee-sv5Z5q-a"
      }
    },
    {
      "cell_type": "code",
      "source": [
        "range_array = np.arange(0, 10, 2)\n",
        "print(range_array)"
      ],
      "metadata": {
        "id": "QXtxpbmV5tPT",
        "outputId": "06732865-778e-4243-b1c7-c852ee38a4c0",
        "colab": {
          "base_uri": "https://localhost:8080/"
        }
      },
      "execution_count": null,
      "outputs": [
        {
          "output_type": "stream",
          "name": "stdout",
          "text": [
            "[0 2 4 6 8]\n"
          ]
        }
      ]
    },
    {
      "cell_type": "markdown",
      "source": [
        "6. Creating an array with equally spaced values:"
      ],
      "metadata": {
        "id": "tGQ52JAR5ySG"
      }
    },
    {
      "cell_type": "code",
      "source": [
        "spaced_array = np.linspace(0, 1, 5)\n",
        "print(spaced_array)"
      ],
      "metadata": {
        "id": "8CaibKvK5y3Y",
        "outputId": "1d75deb5-75f0-42e3-d119-f7e2bcf23aa0",
        "colab": {
          "base_uri": "https://localhost:8080/"
        }
      },
      "execution_count": null,
      "outputs": [
        {
          "output_type": "stream",
          "name": "stdout",
          "text": [
            "[0.   0.25 0.5  0.75 1.  ]\n"
          ]
        }
      ]
    },
    {
      "cell_type": "markdown",
      "source": [
        "7. Creating a 3x3 identity matrix:\n"
      ],
      "metadata": {
        "id": "kVT_6_a756RL"
      }
    },
    {
      "cell_type": "code",
      "source": [
        "identity_matrix = np.eye(3)\n",
        "print(identity_matrix)"
      ],
      "metadata": {
        "id": "Srt5MybK57I0",
        "outputId": "a0340489-074c-48b7-e28d-2253d0eb1a78",
        "colab": {
          "base_uri": "https://localhost:8080/"
        }
      },
      "execution_count": null,
      "outputs": [
        {
          "output_type": "stream",
          "name": "stdout",
          "text": [
            "[[1. 0. 0.]\n",
            " [0. 1. 0.]\n",
            " [0. 0. 1.]]\n"
          ]
        }
      ]
    },
    {
      "cell_type": "markdown",
      "source": [
        "8. Creating a random 2x3 array:"
      ],
      "metadata": {
        "id": "my4cGR5e6ApH"
      }
    },
    {
      "cell_type": "code",
      "source": [
        "random_array = np.random.rand(2, 3)\n",
        "print(random_array)"
      ],
      "metadata": {
        "id": "RmVGdBHL6BKJ",
        "outputId": "9b4d6358-65d0-46d4-80e8-29e475614197",
        "colab": {
          "base_uri": "https://localhost:8080/"
        }
      },
      "execution_count": null,
      "outputs": [
        {
          "output_type": "stream",
          "name": "stdout",
          "text": [
            "[[0.63873685 0.73634864 0.00422765]\n",
            " [0.88094691 0.71408528 0.67107406]]\n"
          ]
        }
      ]
    },
    {
      "cell_type": "markdown",
      "source": [
        "9. Creating an array with random integers between a range:\n"
      ],
      "metadata": {
        "id": "OTfUV2Jc6IUy"
      }
    },
    {
      "cell_type": "code",
      "source": [
        "random_integers = np.random.randint(1, 10, (3, 3))\n",
        "print(random_integers)"
      ],
      "metadata": {
        "id": "l5jl5dU96I2v",
        "outputId": "7f1080e7-f449-4b7d-b889-fb1f1ac64feb",
        "colab": {
          "base_uri": "https://localhost:8080/"
        }
      },
      "execution_count": null,
      "outputs": [
        {
          "output_type": "stream",
          "name": "stdout",
          "text": [
            "[[6 9 5]\n",
            " [8 4 3]\n",
            " [7 5 2]]\n"
          ]
        }
      ]
    },
    {
      "cell_type": "markdown",
      "source": [
        "10. Creating an array with repeated values:"
      ],
      "metadata": {
        "id": "FBY8ZYZC6C35"
      }
    },
    {
      "cell_type": "code",
      "source": [
        "repeated_values = np.repeat(5, 5)\n",
        "print(repeated_values)"
      ],
      "metadata": {
        "id": "w6K_z7c26PYa",
        "outputId": "853069f6-2912-474b-cbf8-a4b4b27eaec0",
        "colab": {
          "base_uri": "https://localhost:8080/"
        }
      },
      "execution_count": null,
      "outputs": [
        {
          "output_type": "stream",
          "name": "stdout",
          "text": [
            "[5 5 5 5 5]\n"
          ]
        }
      ]
    },
    {
      "cell_type": "markdown",
      "source": [
        "### 3.2.2 Indexing and Slicing"
      ],
      "metadata": {
        "id": "cp32i-lV6UIk"
      }
    },
    {
      "cell_type": "markdown",
      "source": [
        "1. Accessing a single element from an array:\n"
      ],
      "metadata": {
        "id": "PS3CAbUB6PkY"
      }
    },
    {
      "cell_type": "code",
      "source": [
        "arr = np.array([1, 2, 3, 4, 5])\n",
        "print(arr[3])"
      ],
      "metadata": {
        "id": "u4eZ7M9h6Pqp",
        "outputId": "bfe91fb1-b60d-4f9e-bd47-3c74bb994e02",
        "colab": {
          "base_uri": "https://localhost:8080/"
        }
      },
      "execution_count": null,
      "outputs": [
        {
          "output_type": "stream",
          "name": "stdout",
          "text": [
            "4\n"
          ]
        }
      ]
    },
    {
      "cell_type": "markdown",
      "source": [
        "2. Slicing a 1D array:"
      ],
      "metadata": {
        "id": "3_8yJAzz6Pwb"
      }
    },
    {
      "cell_type": "code",
      "source": [
        "arr = np.array([1, 2, 3, 4, 5])\n",
        "print(arr[1:4])"
      ],
      "metadata": {
        "id": "jwLf6vH36P1g",
        "outputId": "69860d33-d983-458b-cb14-84fb4a537f1b",
        "colab": {
          "base_uri": "https://localhost:8080/"
        }
      },
      "execution_count": null,
      "outputs": [
        {
          "output_type": "stream",
          "name": "stdout",
          "text": [
            "[2 3 4]\n"
          ]
        }
      ]
    },
    {
      "cell_type": "markdown",
      "source": [
        "3. Indexing and slicing a 2D array:"
      ],
      "metadata": {
        "id": "PjkpSghD6P6V"
      }
    },
    {
      "cell_type": "code",
      "source": [
        "arr_2d = np.array([[1, 2, 3], [4, 5, 6], [7, 8, 9]])\n",
        "print(arr_2d)\n",
        "print(arr_2d[1, 2])\n",
        "print(arr_2d[0:2, 1:])"
      ],
      "metadata": {
        "id": "8LBWuM6Z6QAa",
        "outputId": "051cd9fb-1852-45e4-f616-0ace54a6a541",
        "colab": {
          "base_uri": "https://localhost:8080/"
        }
      },
      "execution_count": null,
      "outputs": [
        {
          "output_type": "stream",
          "name": "stdout",
          "text": [
            "[[1 2 3]\n",
            " [4 5 6]\n",
            " [7 8 9]]\n",
            "6\n",
            "[[2 3]\n",
            " [5 6]]\n"
          ]
        }
      ]
    },
    {
      "cell_type": "markdown",
      "source": [
        "4. Using negative indices for reverse indexing:"
      ],
      "metadata": {
        "id": "6ZeJC2lW68M4"
      }
    },
    {
      "cell_type": "code",
      "source": [
        "arr = np.array([1, 2, 3, 4, 5])\n",
        "print(arr[-1])"
      ],
      "metadata": {
        "id": "PD79xJn96-m_",
        "outputId": "bcbadc62-c44c-4449-d1e8-f8f1beeb30be",
        "colab": {
          "base_uri": "https://localhost:8080/"
        }
      },
      "execution_count": null,
      "outputs": [
        {
          "output_type": "stream",
          "name": "stdout",
          "text": [
            "5\n"
          ]
        }
      ]
    },
    {
      "cell_type": "markdown",
      "source": [
        "5. Assigning new values to array elements using indexing:\n"
      ],
      "metadata": {
        "id": "Tt2z0xqm7B_Y"
      }
    },
    {
      "cell_type": "code",
      "source": [
        "arr = np.array([1, 2, 3, 4, 5])\n",
        "arr[2] = 10\n",
        "print(arr)"
      ],
      "metadata": {
        "id": "WFwEDw9s7Dk8",
        "outputId": "4376292c-d397-447c-b083-09b4f08209d2",
        "colab": {
          "base_uri": "https://localhost:8080/"
        }
      },
      "execution_count": null,
      "outputs": [
        {
          "output_type": "stream",
          "name": "stdout",
          "text": [
            "[ 1  2 10  4  5]\n"
          ]
        }
      ]
    },
    {
      "cell_type": "markdown",
      "source": [
        "6. Boolean indexing to filter array elements:"
      ],
      "metadata": {
        "id": "E-_DYI-T7Gok"
      }
    },
    {
      "cell_type": "code",
      "source": [
        "arr = np.array([10, 20, 30, 40, 50])\n",
        "mask = arr > 30\n",
        "print(arr[mask])"
      ],
      "metadata": {
        "id": "jcz9HWFi7IVT",
        "outputId": "54e4990b-cc71-4306-c909-33997c064d37",
        "colab": {
          "base_uri": "https://localhost:8080/"
        }
      },
      "execution_count": null,
      "outputs": [
        {
          "output_type": "stream",
          "name": "stdout",
          "text": [
            "[40 50]\n"
          ]
        }
      ]
    },
    {
      "cell_type": "markdown",
      "source": [
        "7. Indexing with a list of integers:"
      ],
      "metadata": {
        "id": "9LZnttHl7OrQ"
      }
    },
    {
      "cell_type": "code",
      "source": [
        "arr = np.array([1, 2, 3, 4, 5])\n",
        "indices = [0, 2, 4]\n",
        "print(arr[indices])"
      ],
      "metadata": {
        "id": "zZNNwPxu7P2H",
        "outputId": "9350b289-19c3-48e8-fc06-cc9adc0db482",
        "colab": {
          "base_uri": "https://localhost:8080/"
        }
      },
      "execution_count": null,
      "outputs": [
        {
          "output_type": "stream",
          "name": "stdout",
          "text": [
            "[1 3 5]\n"
          ]
        }
      ]
    },
    {
      "cell_type": "markdown",
      "source": [
        "8. Using \"np.ix_\" for advanced indexing:"
      ],
      "metadata": {
        "id": "WW0nb90p7RUh"
      }
    },
    {
      "cell_type": "code",
      "source": [
        "arr = np.array([1, 2, 3, 4, 5])\n",
        "rows_to_select = [True, False, True, False, False]\n",
        "print(arr[np.ix_(rows_to_select)])"
      ],
      "metadata": {
        "id": "e8LEOx6R7Tzl",
        "outputId": "4f8308a2-68c8-4431-9147-ebaeb1291fd3",
        "colab": {
          "base_uri": "https://localhost:8080/"
        }
      },
      "execution_count": null,
      "outputs": [
        {
          "output_type": "stream",
          "name": "stdout",
          "text": [
            "[1 3]\n"
          ]
        }
      ]
    },
    {
      "cell_type": "markdown",
      "source": [
        "9. Combining Boolean masks with logical operators:"
      ],
      "metadata": {
        "id": "AVEgCJ7N7jDH"
      }
    },
    {
      "cell_type": "code",
      "source": [
        "arr = np.array([10, 20, 30, 40, 50])\n",
        "mask1 = arr > 20\n",
        "mask2 = arr < 50\n",
        "print(arr[mask1 & mask2])"
      ],
      "metadata": {
        "id": "Gbz4Srpp7jjZ",
        "outputId": "90849a98-6a3f-4e51-9497-9299d305b5e6",
        "colab": {
          "base_uri": "https://localhost:8080/"
        }
      },
      "execution_count": null,
      "outputs": [
        {
          "output_type": "stream",
          "name": "stdout",
          "text": [
            "[30 40]\n"
          ]
        }
      ]
    },
    {
      "cell_type": "markdown",
      "source": [
        "10. Modifying sub-arrays using slicing:"
      ],
      "metadata": {
        "id": "LYL7PoTB7mjl"
      }
    },
    {
      "cell_type": "code",
      "source": [
        "arr = np.array([1, 2, 3, 4, 5])\n",
        "arr[1:4] = 100\n",
        "print(arr)"
      ],
      "metadata": {
        "id": "C98XoFmn7l7U",
        "outputId": "6c12fc50-208e-42fd-bb1a-1d47f8579d7f",
        "colab": {
          "base_uri": "https://localhost:8080/"
        }
      },
      "execution_count": null,
      "outputs": [
        {
          "output_type": "stream",
          "name": "stdout",
          "text": [
            "[  1 100 100 100   5]\n"
          ]
        }
      ]
    },
    {
      "cell_type": "markdown",
      "source": [
        "### 3.2.3 Array Shape and Dimensions"
      ],
      "metadata": {
        "id": "P8V2QdgR7xcY"
      }
    },
    {
      "cell_type": "markdown",
      "source": [
        "1. Checking the shape of an array:"
      ],
      "metadata": {
        "id": "VZnsA7Ts72CE"
      }
    },
    {
      "cell_type": "code",
      "source": [
        "arr = np.array([[1, 2, 3], [4, 5, 6]])\n",
        "print(arr.shape)"
      ],
      "metadata": {
        "id": "pwNBdGye74Z6",
        "outputId": "c408143e-bd50-47c7-943e-524c86d9c210",
        "colab": {
          "base_uri": "https://localhost:8080/"
        }
      },
      "execution_count": null,
      "outputs": [
        {
          "output_type": "stream",
          "name": "stdout",
          "text": [
            "(2, 3)\n"
          ]
        }
      ]
    },
    {
      "cell_type": "markdown",
      "source": [
        "2. Determining the number of dimensions:"
      ],
      "metadata": {
        "id": "9C6QxeBp78nF"
      }
    },
    {
      "cell_type": "code",
      "source": [
        "arr = np.array([1, 2, 3])\n",
        "print(arr.ndim)"
      ],
      "metadata": {
        "id": "J7vd44e179pK",
        "outputId": "85bf1842-3079-4d19-fa23-8c2320d35cb7",
        "colab": {
          "base_uri": "https://localhost:8080/"
        }
      },
      "execution_count": null,
      "outputs": [
        {
          "output_type": "stream",
          "name": "stdout",
          "text": [
            "1\n"
          ]
        }
      ]
    },
    {
      "cell_type": "markdown",
      "source": [
        "3. Finding the total number of elements in an array:"
      ],
      "metadata": {
        "id": "gve84i908E-G"
      }
    },
    {
      "cell_type": "code",
      "source": [
        "arr = np.array([[1, 2, 3], [4, 5, 6]])\n",
        "print(arr.size)"
      ],
      "metadata": {
        "id": "c-7GkfMR8HuP",
        "outputId": "90df9236-d721-4d82-d5e9-fe34801727ae",
        "colab": {
          "base_uri": "https://localhost:8080/"
        }
      },
      "execution_count": null,
      "outputs": [
        {
          "output_type": "stream",
          "name": "stdout",
          "text": [
            "6\n"
          ]
        }
      ]
    },
    {
      "cell_type": "markdown",
      "source": [
        "4. Reshaping a 1D array into a 2D array:"
      ],
      "metadata": {
        "id": "N9v9AeqQ8J3W"
      }
    },
    {
      "cell_type": "code",
      "source": [
        "arr = np.arange(1, 7)\n",
        "print(arr)\n",
        "reshaped_arr = arr.reshape(2, 3)\n",
        "print(reshaped_arr)"
      ],
      "metadata": {
        "id": "NBkKefyf8OIX",
        "outputId": "bceeeb6e-46a3-4fca-8884-ceb45d31bebe",
        "colab": {
          "base_uri": "https://localhost:8080/"
        }
      },
      "execution_count": null,
      "outputs": [
        {
          "output_type": "stream",
          "name": "stdout",
          "text": [
            "[1 2 3 4 5 6]\n",
            "[[1 2 3]\n",
            " [4 5 6]]\n"
          ]
        }
      ]
    },
    {
      "cell_type": "markdown",
      "source": [
        "5. Flattening a 2D array into a 1D array:"
      ],
      "metadata": {
        "id": "rozuXLmg8S_3"
      }
    },
    {
      "cell_type": "code",
      "source": [
        "arr = np.array([[1, 2, 3], [4, 5, 6]])\n",
        "flattened_arr = arr.flatten()\n",
        "print(flattened_arr)"
      ],
      "metadata": {
        "id": "HG1xoN2H8VvS",
        "outputId": "4837e624-6c06-46bd-d88f-eee29a348362",
        "colab": {
          "base_uri": "https://localhost:8080/"
        }
      },
      "execution_count": null,
      "outputs": [
        {
          "output_type": "stream",
          "name": "stdout",
          "text": [
            "[1 2 3 4 5 6]\n"
          ]
        }
      ]
    },
    {
      "cell_type": "markdown",
      "source": [
        "6. Raveling a 2D array (similar to flatten but returns a view if possible):"
      ],
      "metadata": {
        "id": "xVOGA3Lj8Y_E"
      }
    },
    {
      "cell_type": "code",
      "source": [
        "arr = np.array([[1, 2, 3], [4, 5, 6]])\n",
        "raveled_arr = arr.ravel()\n",
        "print(raveled_arr)"
      ],
      "metadata": {
        "id": "4egyLaBI8fPb",
        "outputId": "ba531e40-5c34-4aff-8482-3cf6aebf1edc",
        "colab": {
          "base_uri": "https://localhost:8080/"
        }
      },
      "execution_count": null,
      "outputs": [
        {
          "output_type": "stream",
          "name": "stdout",
          "text": [
            "[1 2 3 4 5 6]\n"
          ]
        }
      ]
    },
    {
      "cell_type": "markdown",
      "source": [
        "7. Adding a new dimension to an existing array:"
      ],
      "metadata": {
        "id": "CajCyCfU8hOV"
      }
    },
    {
      "cell_type": "code",
      "source": [
        "arr = np.array([1, 2, 3])\n",
        "print(arr)\n",
        "new_dimension_arr = arr[:, np.newaxis]\n",
        "print(new_dimension_arr)"
      ],
      "metadata": {
        "id": "MR5zGvlF8mXH",
        "outputId": "e5bef16b-d05b-4fe2-a9ca-5c095a13d93d",
        "colab": {
          "base_uri": "https://localhost:8080/"
        }
      },
      "execution_count": null,
      "outputs": [
        {
          "output_type": "stream",
          "name": "stdout",
          "text": [
            "[1 2 3]\n",
            "[[1]\n",
            " [2]\n",
            " [3]]\n"
          ]
        }
      ]
    },
    {
      "cell_type": "markdown",
      "source": [
        "8. Concatenating arrays along a specified axis:"
      ],
      "metadata": {
        "id": "3lMCEQiI8wNb"
      }
    },
    {
      "cell_type": "code",
      "source": [
        "arr1 = np.array([1, 2, 3])\n",
        "arr2 = np.array([4, 5, 6])\n",
        "concatenated_arr = np.concatenate((arr1, arr2))\n",
        "print(concatenated_arr)"
      ],
      "metadata": {
        "id": "D_Bv4bJN8xMM",
        "outputId": "0aeb544b-2aff-4898-c80a-b7ba41878486",
        "colab": {
          "base_uri": "https://localhost:8080/"
        }
      },
      "execution_count": null,
      "outputs": [
        {
          "output_type": "stream",
          "name": "stdout",
          "text": [
            "[1 2 3 4 5 6]\n"
          ]
        }
      ]
    },
    {
      "cell_type": "markdown",
      "source": [
        "9. Stacking arrays vertically and horizontally:"
      ],
      "metadata": {
        "id": "onkoRTik8_BV"
      }
    },
    {
      "cell_type": "code",
      "source": [
        "arr1 = np.array([[1, 2], [3, 4]])\n",
        "arr2 = np.array([[5, 6]])\n",
        "vertical_stack = np.vstack((arr1, arr2))\n",
        "horizontal_stack = np.hstack((arr1, arr2.T))\n",
        "print(vertical_stack)\n",
        "print(horizontal_stack)"
      ],
      "metadata": {
        "id": "mCHOxerD8_1i",
        "outputId": "889e1838-ff04-4790-a91a-164745f0f873",
        "colab": {
          "base_uri": "https://localhost:8080/"
        }
      },
      "execution_count": null,
      "outputs": [
        {
          "output_type": "stream",
          "name": "stdout",
          "text": [
            "[[1 2]\n",
            " [3 4]\n",
            " [5 6]]\n",
            "[[1 2 5]\n",
            " [3 4 6]]\n"
          ]
        }
      ]
    },
    {
      "cell_type": "markdown",
      "source": [
        "### 3.2.4 Reshaping and Transposing Arrays"
      ],
      "metadata": {
        "id": "E2v9nVbD9RI5"
      }
    },
    {
      "cell_type": "markdown",
      "source": [
        "1. Reshaping a 1D array to a 2D array with specified dimensions:"
      ],
      "metadata": {
        "id": "axqzOBZ49W7J"
      }
    },
    {
      "cell_type": "code",
      "source": [
        "arr = np.arange(1, 7)\n",
        "reshaped_arr = np.reshape(arr, (2, 3))\n",
        "print(reshaped_arr)"
      ],
      "metadata": {
        "id": "awFGj_yc9e3v",
        "outputId": "359e5984-eeeb-475a-f740-832616450da3",
        "colab": {
          "base_uri": "https://localhost:8080/"
        }
      },
      "execution_count": null,
      "outputs": [
        {
          "output_type": "stream",
          "name": "stdout",
          "text": [
            "[[1 2 3]\n",
            " [4 5 6]]\n"
          ]
        }
      ]
    },
    {
      "cell_type": "markdown",
      "source": [
        "2. Reshaping an array using \"-1\" as a placeholder:"
      ],
      "metadata": {
        "id": "I4FzZygo9fDI"
      }
    },
    {
      "cell_type": "code",
      "source": [
        "arr = np.arange(1, 13)\n",
        "reshaped_arr = np.reshape(arr, (3, -1))\n",
        "print(reshaped_arr)"
      ],
      "metadata": {
        "id": "0xv0i5409id5",
        "outputId": "56d42021-1787-48ff-ac10-21e06d0babd5",
        "colab": {
          "base_uri": "https://localhost:8080/"
        }
      },
      "execution_count": null,
      "outputs": [
        {
          "output_type": "stream",
          "name": "stdout",
          "text": [
            "[[ 1  2  3  4]\n",
            " [ 5  6  7  8]\n",
            " [ 9 10 11 12]]\n"
          ]
        }
      ]
    },
    {
      "cell_type": "markdown",
      "source": [
        "3. Transposing an array using \"transpose\" function:"
      ],
      "metadata": {
        "id": "NX15Y1Kn9mZv"
      }
    },
    {
      "cell_type": "code",
      "source": [
        "arr = np.array([[1, 2, 3], [4, 5, 6]])\n",
        "transposed_arr = np.transpose(arr)\n",
        "print(transposed_arr)"
      ],
      "metadata": {
        "id": "FUAEjysc9pcg",
        "outputId": "1e02d789-883e-4522-e8cd-c53f9857288f",
        "colab": {
          "base_uri": "https://localhost:8080/"
        }
      },
      "execution_count": null,
      "outputs": [
        {
          "output_type": "stream",
          "name": "stdout",
          "text": [
            "[[1 4]\n",
            " [2 5]\n",
            " [3 6]]\n"
          ]
        }
      ]
    },
    {
      "cell_type": "markdown",
      "source": [
        "4. Transposing an array using \"T\" attribute:"
      ],
      "metadata": {
        "id": "RLBR9vj89yit"
      }
    },
    {
      "cell_type": "code",
      "source": [
        "arr = np.array([[1, 2, 3], [4, 5, 6]])\n",
        "transposed_arr = arr.T\n",
        "print(transposed_arr)"
      ],
      "metadata": {
        "id": "SN9TmGks9vr2",
        "outputId": "9fd2edff-4d62-4ec2-8677-3862e7176944",
        "colab": {
          "base_uri": "https://localhost:8080/"
        }
      },
      "execution_count": null,
      "outputs": [
        {
          "output_type": "stream",
          "name": "stdout",
          "text": [
            "[[1 4]\n",
            " [2 5]\n",
            " [3 6]]\n"
          ]
        }
      ]
    },
    {
      "cell_type": "markdown",
      "source": [
        "5. Swapping axes of a 2D array:"
      ],
      "metadata": {
        "id": "pExt7cLZ9z6I"
      }
    },
    {
      "cell_type": "code",
      "source": [
        "arr = np.array([[1, 2, 3], [4, 5, 6]])\n",
        "swapped_arr = arr.swapaxes(0, 1)\n",
        "print(swapped_arr)"
      ],
      "metadata": {
        "id": "WSTK4beJ93Jl",
        "outputId": "070d6f14-b8f7-4992-effb-451849838c6d",
        "colab": {
          "base_uri": "https://localhost:8080/"
        }
      },
      "execution_count": null,
      "outputs": [
        {
          "output_type": "stream",
          "name": "stdout",
          "text": [
            "[[1 4]\n",
            " [2 5]\n",
            " [3 6]]\n"
          ]
        }
      ]
    },
    {
      "cell_type": "markdown",
      "source": [
        "6. Flipping an array horizontally:"
      ],
      "metadata": {
        "id": "5Q502efW95A5"
      }
    },
    {
      "cell_type": "code",
      "source": [
        "arr = np.array([[1, 2, 3], [4, 5, 6]])\n",
        "flipped_arr = np.fliplr(arr)\n",
        "print(flipped_arr)"
      ],
      "metadata": {
        "id": "1ujE4QOU97lz",
        "outputId": "77f3e1c5-81dd-43ef-b856-4dcc0141cbc4",
        "colab": {
          "base_uri": "https://localhost:8080/"
        }
      },
      "execution_count": null,
      "outputs": [
        {
          "output_type": "stream",
          "name": "stdout",
          "text": [
            "[[3 2 1]\n",
            " [6 5 4]]\n"
          ]
        }
      ]
    },
    {
      "cell_type": "markdown",
      "source": [
        "7. Flipping an array vertically:"
      ],
      "metadata": {
        "id": "PT6-Mzao9-jU"
      }
    },
    {
      "cell_type": "code",
      "source": [
        "arr = np.array([[1, 2, 3], [4, 5, 6]])\n",
        "flipped_arr = np.flipud(arr)\n",
        "print(flipped_arr)"
      ],
      "metadata": {
        "id": "r4TpxLno9_O4",
        "outputId": "118c943c-89e8-4acf-d8e9-288c4fb0c153",
        "colab": {
          "base_uri": "https://localhost:8080/"
        }
      },
      "execution_count": null,
      "outputs": [
        {
          "output_type": "stream",
          "name": "stdout",
          "text": [
            "[[4 5 6]\n",
            " [1 2 3]]\n"
          ]
        }
      ]
    },
    {
      "cell_type": "markdown",
      "source": [
        "8. Rolling elements of an array:"
      ],
      "metadata": {
        "id": "mIfDE7yg-BAT"
      }
    },
    {
      "cell_type": "code",
      "source": [
        "arr = np.array([1, 2, 3, 4, 5])\n",
        "rolled_arr = np.roll(arr, 2)\n",
        "print(rolled_arr)"
      ],
      "metadata": {
        "id": "10B6rjQD-C_t",
        "outputId": "78243431-5f75-4e9e-a74a-eecb482b6f90",
        "colab": {
          "base_uri": "https://localhost:8080/"
        }
      },
      "execution_count": null,
      "outputs": [
        {
          "output_type": "stream",
          "name": "stdout",
          "text": [
            "[4 5 1 2 3]\n"
          ]
        }
      ]
    },
    {
      "cell_type": "markdown",
      "source": [
        "9. Rotating elements of an array:"
      ],
      "metadata": {
        "id": "F6tTNN-K-Hy6"
      }
    },
    {
      "cell_type": "code",
      "source": [
        "#arr = np.array([1, 2, 3, 4, 5])\n",
        "#rotated_arr = np.rot90(arr)\n",
        "#print(rotated_arr)"
      ],
      "metadata": {
        "id": "qslYi6Zo-KcX"
      },
      "execution_count": null,
      "outputs": []
    },
    {
      "cell_type": "markdown",
      "source": [
        "10. Tiling an array to create a larger array:"
      ],
      "metadata": {
        "id": "vPFFWZUa-kKG"
      }
    },
    {
      "cell_type": "code",
      "source": [
        "arr = np.array([1, 2, 3])\n",
        "tiled_arr = np.tile(arr, 3)\n",
        "print(tiled_arr)"
      ],
      "metadata": {
        "id": "Q0zELUzk-rSZ",
        "outputId": "f56093c4-5894-4a4f-a3db-0f54b0a643c5",
        "colab": {
          "base_uri": "https://localhost:8080/"
        }
      },
      "execution_count": null,
      "outputs": [
        {
          "output_type": "stream",
          "name": "stdout",
          "text": [
            "[1 2 3 1 2 3 1 2 3]\n"
          ]
        }
      ]
    },
    {
      "cell_type": "markdown",
      "source": [
        "### 3.2.5 Array Operations and Broadcasting"
      ],
      "metadata": {
        "id": "aD8yy9on10kw"
      }
    },
    {
      "cell_type": "markdown",
      "source": [
        "1. Element-wise arithmetic operations:"
      ],
      "metadata": {
        "id": "OzaeTjez16FL"
      }
    },
    {
      "cell_type": "code",
      "source": [
        "arr1 = np.array([1, 2, 3])\n",
        "arr2 = np.array([4, 5, 6])\n",
        "addition = arr1 + arr2\n",
        "subtraction = arr1 - arr2\n",
        "multiplication = arr1 * arr2\n",
        "division = arr1 / arr2\n",
        "print(addition, subtraction, multiplication, division)"
      ],
      "metadata": {
        "id": "3fBr2cuJ19eR",
        "outputId": "8444f719-38d8-4cff-f56a-5eb93be6eed3",
        "colab": {
          "base_uri": "https://localhost:8080/"
        }
      },
      "execution_count": null,
      "outputs": [
        {
          "output_type": "stream",
          "name": "stdout",
          "text": [
            "[5 7 9] [-3 -3 -3] [ 4 10 18] [0.25 0.4  0.5 ]\n"
          ]
        }
      ]
    },
    {
      "cell_type": "markdown",
      "source": [
        "2. Element-wise comparison operations:"
      ],
      "metadata": {
        "id": "BM27unHM18tu"
      }
    },
    {
      "cell_type": "code",
      "source": [
        "arr1 = np.array([1, 2, 3])\n",
        "arr2 = np.array([3, 2, 1])\n",
        "greater_than = arr1 > arr2\n",
        "less_than_or_equal = arr1 <= arr2\n",
        "equal = arr1 == arr2\n",
        "print(greater_than, less_than_or_equal, equal)"
      ],
      "metadata": {
        "id": "QX1LfYjw2HOC",
        "outputId": "0d20a0d2-6d46-4d6a-bbfa-e112a17d4631",
        "colab": {
          "base_uri": "https://localhost:8080/"
        }
      },
      "execution_count": null,
      "outputs": [
        {
          "output_type": "stream",
          "name": "stdout",
          "text": [
            "[False False  True] [ True  True False] [False  True False]\n"
          ]
        }
      ]
    },
    {
      "cell_type": "markdown",
      "source": [
        "3. Broadcasting with a scalar:"
      ],
      "metadata": {
        "id": "Q_1oQ6gq2IJ6"
      }
    },
    {
      "cell_type": "code",
      "source": [
        "arr = np.array([1, 2, 3])\n",
        "result = arr + 5\n",
        "print(result)"
      ],
      "metadata": {
        "id": "nbTt76BH2Mad",
        "outputId": "535da5b5-f68e-435d-dce3-3bb8db5ec783",
        "colab": {
          "base_uri": "https://localhost:8080/"
        }
      },
      "execution_count": null,
      "outputs": [
        {
          "output_type": "stream",
          "name": "stdout",
          "text": [
            "[6 7 8]\n"
          ]
        }
      ]
    },
    {
      "cell_type": "markdown",
      "source": [
        "4. Broadcasting with a 1D array:"
      ],
      "metadata": {
        "id": "jMkIZ9EK2Q3C"
      }
    },
    {
      "cell_type": "code",
      "source": [
        "arr = np.array([1, 2, 3])\n",
        "row_vector = np.array([10, 20, 30])\n",
        "result = arr + row_vector\n",
        "print(result)"
      ],
      "metadata": {
        "id": "HT3ov0z22TzC",
        "outputId": "bc6d717b-d171-440e-e268-bee50361f578",
        "colab": {
          "base_uri": "https://localhost:8080/"
        }
      },
      "execution_count": null,
      "outputs": [
        {
          "output_type": "stream",
          "name": "stdout",
          "text": [
            "[11 22 33]\n"
          ]
        }
      ]
    },
    {
      "cell_type": "markdown",
      "source": [
        "5. Broadcasting with a 2D array:"
      ],
      "metadata": {
        "id": "fsS1dmT42Xfu"
      }
    },
    {
      "cell_type": "code",
      "source": [
        "arr = np.array([[1, 2, 3], [4, 5, 6]])\n",
        "column_vector = np.array([[10], [20]])\n",
        "result = arr + column_vector\n",
        "print(result)"
      ],
      "metadata": {
        "id": "jFoQkHs-2aUh",
        "outputId": "973df8f8-add4-4aa0-888e-54b3f3db5679",
        "colab": {
          "base_uri": "https://localhost:8080/"
        }
      },
      "execution_count": null,
      "outputs": [
        {
          "output_type": "stream",
          "name": "stdout",
          "text": [
            "[[11 12 13]\n",
            " [24 25 26]]\n"
          ]
        }
      ]
    },
    {
      "cell_type": "markdown",
      "source": [
        "6. Element-wise square root:"
      ],
      "metadata": {
        "id": "orzg3d932f7_"
      }
    },
    {
      "cell_type": "code",
      "source": [
        "arr = np.array([1, 4, 9])\n",
        "result = np.sqrt(arr)\n",
        "print(result)"
      ],
      "metadata": {
        "id": "mbHNSTSh2gx7",
        "outputId": "cfa4ed23-d5b4-4177-ab46-953a8dd1006b",
        "colab": {
          "base_uri": "https://localhost:8080/"
        }
      },
      "execution_count": null,
      "outputs": [
        {
          "output_type": "stream",
          "name": "stdout",
          "text": [
            "[1. 2. 3.]\n"
          ]
        }
      ]
    },
    {
      "cell_type": "markdown",
      "source": [
        "7. Element-wise exponentiation:"
      ],
      "metadata": {
        "id": "MYF8UnRe2i8b"
      }
    },
    {
      "cell_type": "code",
      "source": [
        "arr = np.array([2, 3, 4])\n",
        "result = np.exp(arr)\n",
        "print(result)"
      ],
      "metadata": {
        "id": "loEXU9pS2mWV",
        "outputId": "e27dfdbf-cfbd-4f11-9711-f04a1604d72c",
        "colab": {
          "base_uri": "https://localhost:8080/"
        }
      },
      "execution_count": null,
      "outputs": [
        {
          "output_type": "stream",
          "name": "stdout",
          "text": [
            "[ 7.3890561  20.08553692 54.59815003]\n"
          ]
        }
      ]
    },
    {
      "cell_type": "markdown",
      "source": [
        "8. Element-wise trigonometric functions:"
      ],
      "metadata": {
        "id": "3SDzUKhV2nX5"
      }
    },
    {
      "cell_type": "code",
      "source": [
        "arr = np.array([0, np.pi/2, np.pi])\n",
        "result_sin = np.sin(arr)\n",
        "result_cos = np.cos(arr)\n",
        "result_tan = np.tan(arr)\n",
        "print(result_sin, result_cos, result_tan)"
      ],
      "metadata": {
        "id": "dYe6zYWU2prL",
        "outputId": "74d59217-fa15-463c-e35e-1c9e2f0443c9",
        "colab": {
          "base_uri": "https://localhost:8080/"
        }
      },
      "execution_count": null,
      "outputs": [
        {
          "output_type": "stream",
          "name": "stdout",
          "text": [
            "[0.0000000e+00 1.0000000e+00 1.2246468e-16] [ 1.000000e+00  6.123234e-17 -1.000000e+00] [ 0.00000000e+00  1.63312394e+16 -1.22464680e-16]\n"
          ]
        }
      ]
    },
    {
      "cell_type": "markdown",
      "source": [
        "9. Summing elements of an array:"
      ],
      "metadata": {
        "id": "prsUK54z2s8Y"
      }
    },
    {
      "cell_type": "code",
      "source": [
        "arr = np.array([1, 2, 3, 4, 5])\n",
        "sum_result = np.sum(arr)\n",
        "print(sum_result)"
      ],
      "metadata": {
        "id": "YTzLl60W2viv",
        "outputId": "ac89cf55-1dfc-4d9c-f0d6-dee3606810d2",
        "colab": {
          "base_uri": "https://localhost:8080/"
        }
      },
      "execution_count": null,
      "outputs": [
        {
          "output_type": "stream",
          "name": "stdout",
          "text": [
            "15\n"
          ]
        }
      ]
    },
    {
      "cell_type": "markdown",
      "source": [
        "10. Matrix multiplication:"
      ],
      "metadata": {
        "id": "COgTybDT2xLo"
      }
    },
    {
      "cell_type": "code",
      "source": [
        "matrix1 = np.array([[1, 2], [3, 4]])\n",
        "matrix2 = np.array([[5, 6], [7, 8]])\n",
        "result = np.dot(matrix1, matrix2)\n",
        "print(result)"
      ],
      "metadata": {
        "id": "y-T8ZurS2zYp",
        "outputId": "3663d107-2df2-4a58-c9d7-717883c36119",
        "colab": {
          "base_uri": "https://localhost:8080/"
        }
      },
      "execution_count": null,
      "outputs": [
        {
          "output_type": "stream",
          "name": "stdout",
          "text": [
            "[[19 22]\n",
            " [43 50]]\n"
          ]
        }
      ]
    },
    {
      "cell_type": "markdown",
      "source": [
        "## 3.3 Linear Algebra\n",
        "\n"
      ],
      "metadata": {
        "id": "cOWBqmTw4xOO"
      }
    },
    {
      "cell_type": "markdown",
      "source": [
        "NumPy linear algebra functions\n",
        "\n",
        "| Function                      | Structure                                      | Description                                                                                                               |\n",
        "|-------------------------------|------------------------------------------------|---------------------------------------------------------------------------------------------------------------------------|\n",
        "| `np.dot(a, b)`                | `np.dot(a, b, out=None)`                      | Compute the dot product of two arrays.                                                                                  |\n",
        "| `np.matmul(a, b)`             | `np.matmul(a, b, out=None)`                   | Matrix multiplication between two arrays.                                                                                |\n",
        "| `np.linalg.inv(a)`            | `np.linalg.inv(a)`                            | Compute the (multiplicative) inverse of a square matrix.                                                                 |\n",
        "| `np.linalg.det(a)`            | `np.linalg.det(a)`                            | Compute the determinant of a square matrix.                                                                              |\n",
        "| `np.linalg.eig(a)`            | `np.linalg.eig(a)`                            | Compute the eigenvalues and eigenvectors of a square matrix.                                                             |\n",
        "| `np.linalg.svd(a)`            | `np.linalg.svd(a, full_matrices=True, compute_uv=True, hermitian=False)` | Perform singular value decomposition on a matrix.                                                                  |\n",
        "| `np.linalg.solve(a, b)`       | `np.linalg.solve(a, b)`                       | Solve a linear matrix equation, `ax = b`, for `x`.                                                                        |\n",
        "| `np.linalg.lstsq(a, b, rcond=None)` | `np.linalg.lstsq(a, b, rcond=None)`       | Solve linear least-squares problem, `min ||a @ x - b||^2`.                                                                |\n",
        "| `np.linalg.norm(x, ord=None)` | `np.linalg.norm(x, ord=None, axis=None, keepdims=False)` | Compute the norm of an array, `x`.                                                                                 |\n",
        "| `np.linalg.qr(a, mode='reduced')` | `np.linalg.qr(a, mode='reduced')`          | Compute the QR decomposition of a matrix.                                                                                |\n",
        "| `np.linalg.eigh(a, UPLO='L')`  | `np.linalg.eigh(a, UPLO='L', eigvals_only=False)` | Compute eigenvalues and (optionally) eigenvectors of a Hermitian or symmetric matrix.                           |\n",
        "| `np.linalg.matrix_power(a, n)` | `np.linalg.matrix_power(a, n)`                | Raise a square matrix to the (integer) power `n`.                                                                         |\n"
      ],
      "metadata": {
        "id": "tgrYNNHD3A66"
      }
    },
    {
      "cell_type": "markdown",
      "source": [
        "### 3.3.1 Dot Product"
      ],
      "metadata": {
        "id": "Z8nSv6Lo3nuX"
      }
    },
    {
      "cell_type": "markdown",
      "source": [
        "The dot product is a fundamental operation in linear algebra, and NumPy provides a powerful function, `np.dot()`, to perform this operation efficiently."
      ],
      "metadata": {
        "id": "CCpNCyBF4KEJ"
      }
    },
    {
      "cell_type": "markdown",
      "source": [
        "#### 3.3.1.1 Introduction to Dot Product"
      ],
      "metadata": {
        "id": "rHKcxREi4SPN"
      }
    },
    {
      "cell_type": "markdown",
      "source": [
        "\n",
        "The dot product, also known as the scalar product or inner product, is an operation that takes two vectors and returns a scalar value. For two vectors, A and B, the dot product is calculated as:\n",
        "\n",
        "```\n",
        "A · B = |A| * |B| * cos(θ)\n",
        "```\n",
        "\n",
        "where `|A|` and `|B|` are the magnitudes (lengths) of vectors A and B, respectively, and θ is the angle between the two vectors."
      ],
      "metadata": {
        "id": "auuE5SR084z6"
      }
    },
    {
      "cell_type": "markdown",
      "source": [
        "#### 3.3.1.2 Dot Product in NumPy"
      ],
      "metadata": {
        "id": "bikX2erd85rG"
      }
    },
    {
      "cell_type": "markdown",
      "source": [
        "In NumPy, the `np.dot()` function is used to compute the dot product of two arrays. The operation is performed element-wise, followed by the summation of the results."
      ],
      "metadata": {
        "id": "E8J3ZC5B89KM"
      }
    },
    {
      "cell_type": "markdown",
      "source": [
        "Example 1: Dot Product of 1D Arrays"
      ],
      "metadata": {
        "id": "PWgByMoo9BjF"
      }
    },
    {
      "cell_type": "code",
      "source": [
        "# 1D arrays\n",
        "A = np.array([2, 3, 5])\n",
        "B = np.array([4, 1, 7])\n",
        "\n",
        "# Calculate the dot product\n",
        "dot_product = np.dot(A, B)\n",
        "print(\"Dot Product of A and B:\", dot_product)"
      ],
      "metadata": {
        "id": "yjxmiu2G9Dss",
        "outputId": "6d5c5e48-b928-4635-fd6e-d2f30bc0254d",
        "colab": {
          "base_uri": "https://localhost:8080/"
        }
      },
      "execution_count": null,
      "outputs": [
        {
          "output_type": "stream",
          "name": "stdout",
          "text": [
            "Dot Product of A and B: 46\n"
          ]
        }
      ]
    },
    {
      "cell_type": "markdown",
      "source": [
        "Example 2: Dot Product of 2D Arrays"
      ],
      "metadata": {
        "id": "lAmHf6Y79Ihc"
      }
    },
    {
      "cell_type": "code",
      "source": [
        "# 2D arrays\n",
        "A = np.array([[1, 2], [3, 4]])\n",
        "B = np.array([[5, 6], [7, 8]])\n",
        "\n",
        "# Calculate the dot product\n",
        "dot_product = np.dot(A, B)\n",
        "print(\"Dot Product of A and B:\")\n",
        "print(dot_product)"
      ],
      "metadata": {
        "id": "EONNaueP9LTk",
        "outputId": "2c73c7fa-fe26-4f1f-8854-6c80ee088698",
        "colab": {
          "base_uri": "https://localhost:8080/"
        }
      },
      "execution_count": null,
      "outputs": [
        {
          "output_type": "stream",
          "name": "stdout",
          "text": [
            "Dot Product of A and B:\n",
            "[[19 22]\n",
            " [43 50]]\n"
          ]
        }
      ]
    },
    {
      "cell_type": "markdown",
      "source": [
        "Example 3 :  Broadcasting in Dot Product"
      ],
      "metadata": {
        "id": "NqHdF_LJ9TKA"
      }
    },
    {
      "cell_type": "code",
      "source": [
        "# Broadcasting example\n",
        "A = np.array([[1, 2, 3], [4, 5, 6]])\n",
        "B = np.array([2, 3, 4])\n",
        "\n",
        "# Calculate the dot product with broadcasting\n",
        "dot_product = np.dot(A, B)\n",
        "print(\"Dot Product with Broadcasting:\")\n",
        "print(dot_product)"
      ],
      "metadata": {
        "id": "xAyRAVnh9Umu",
        "outputId": "fa33e45b-7559-4cc1-a43c-7b9a365cb870",
        "colab": {
          "base_uri": "https://localhost:8080/"
        }
      },
      "execution_count": null,
      "outputs": [
        {
          "output_type": "stream",
          "name": "stdout",
          "text": [
            "Dot Product with Broadcasting:\n",
            "[20 47]\n"
          ]
        }
      ]
    },
    {
      "cell_type": "markdown",
      "source": [
        "### 3.3.2 Matrix Multiplication"
      ],
      "metadata": {
        "id": "r_Di6C769bmo"
      }
    },
    {
      "cell_type": "markdown",
      "source": [
        "NumPy's `matmul()` function is used to perform matrix multiplication between two arrays. It is a versatile function that can handle both 1D and 2D arrays, making it useful for a wide range of linear algebra computations. The `matmul()` function is equivalent to the `@` operator in Python 3.5 and above.\n",
        "\n",
        "**Syntax:**\n",
        "```\n",
        "numpy.matmul(a, b, out=None)\n",
        "```\n",
        "\n",
        "**Parameters:**\n",
        "- `a`: First input array (matrix) for multiplication.\n",
        "- `b`: Second input array (matrix) for multiplication.\n",
        "- `out`: Optional. The output array where the result is stored.\n",
        "\n",
        "**Return Value:**\n",
        "- The result of the matrix multiplication between `a` and `b`.\n",
        "\n",
        "**Note:**\n",
        "- For 2D arrays, `matmul()` performs matrix multiplication.\n",
        "- For 1D arrays, `matmul()` behaves like the dot product.\n"
      ],
      "metadata": {
        "id": "iYYUAzCq9y9I"
      }
    },
    {
      "cell_type": "markdown",
      "source": [
        "Example 1: Matrix Multiplication (2D arrays)"
      ],
      "metadata": {
        "id": "muemG2Il9_Sw"
      }
    },
    {
      "cell_type": "code",
      "source": [
        "A = np.array([[1, 2], [3, 4]])\n",
        "B = np.array([[5, 6], [7, 8]])\n",
        "\n",
        "result = np.matmul(A, B)\n",
        "# Equivalent to: result = A @ B\n",
        "\n",
        "print(result)"
      ],
      "metadata": {
        "id": "yjrCicto9-8k",
        "outputId": "482b15a0-5776-4f26-cbe0-7f29f0b2c67c",
        "colab": {
          "base_uri": "https://localhost:8080/"
        }
      },
      "execution_count": null,
      "outputs": [
        {
          "output_type": "stream",
          "name": "stdout",
          "text": [
            "[[19 22]\n",
            " [43 50]]\n"
          ]
        }
      ]
    },
    {
      "cell_type": "markdown",
      "source": [
        "Example 2: Dot Product (1D arrays)"
      ],
      "metadata": {
        "id": "neTZFhqU-CUU"
      }
    },
    {
      "cell_type": "code",
      "source": [
        "A = np.array([1, 2, 3])\n",
        "B = np.array([4, 5, 6])\n",
        "\n",
        "result = np.matmul(A, B)\n",
        "# Equivalent to: result = A @ B\n",
        "\n",
        "print(result)"
      ],
      "metadata": {
        "id": "0X1SRI4i-EsW",
        "outputId": "243ff926-1105-40f1-d01b-94ca0a53ff55",
        "colab": {
          "base_uri": "https://localhost:8080/"
        }
      },
      "execution_count": null,
      "outputs": [
        {
          "output_type": "stream",
          "name": "stdout",
          "text": [
            "32\n"
          ]
        }
      ]
    },
    {
      "cell_type": "markdown",
      "source": [
        "Example 3: Broadcasting in matmul()"
      ],
      "metadata": {
        "id": "9RILWk-H-GYx"
      }
    },
    {
      "cell_type": "code",
      "source": [
        "A = np.array([[1, 2], [3, 4], [5, 6]])\n",
        "B = np.array([2, 3])\n",
        "\n",
        "result = np.matmul(A, B)\n",
        "# Equivalent to: result = A @ B\n",
        "\n",
        "print(result)"
      ],
      "metadata": {
        "id": "nvfj2-wA-Iwu",
        "outputId": "87def27e-b8a9-4da8-9a85-3de77cbcba8c",
        "colab": {
          "base_uri": "https://localhost:8080/"
        }
      },
      "execution_count": null,
      "outputs": [
        {
          "output_type": "stream",
          "name": "stdout",
          "text": [
            "[ 8 18 28]\n"
          ]
        }
      ]
    },
    {
      "cell_type": "markdown",
      "source": [
        "Example 4: Output Array with out Parameter"
      ],
      "metadata": {
        "id": "7Bn4m7-t-LLL"
      }
    },
    {
      "cell_type": "code",
      "source": [
        "A = np.array([[1, 2], [3, 4]])\n",
        "B = np.array([[5, 6], [7, 8]])\n",
        "\n",
        "output_array = np.zeros((2, 2), dtype=int)\n",
        "\n",
        "result = np.matmul(A, B, out=output_array)\n",
        "# Equivalent to: result = np.matmul(A, B)\n",
        "\n",
        "print(result)"
      ],
      "metadata": {
        "id": "k0hFIbHW-NSk",
        "outputId": "9e7e156a-be52-42c6-8338-a1cca299000a",
        "colab": {
          "base_uri": "https://localhost:8080/"
        }
      },
      "execution_count": null,
      "outputs": [
        {
          "output_type": "stream",
          "name": "stdout",
          "text": [
            "[[19 22]\n",
            " [43 50]]\n"
          ]
        }
      ]
    },
    {
      "cell_type": "markdown",
      "source": [
        "### 3.3.3 Inverse Matrix"
      ],
      "metadata": {
        "id": "LeZDqSf4-W9i"
      }
    },
    {
      "cell_type": "markdown",
      "source": [
        "In linear algebra, the inverse of a square matrix A is denoted as A^(-1). When a square matrix is multiplied by its inverse, the result is the identity matrix, denoted as I. NumPy provides the `np.linalg.inv()` function to calculate the inverse of a square matrix.\n",
        "\n",
        "**Syntax:**\n",
        "```\n",
        "numpy.linalg.inv(a)\n",
        "```\n",
        "\n",
        "**Parameters:**\n",
        "- `a`: The input square matrix for which the inverse is to be calculated.\n",
        "\n",
        "**Return Value:**\n",
        "- The inverse matrix of `a`.\n",
        "\n",
        "**Note:**\n",
        "- The input matrix `a` must be square (i.e., have the same number of rows and columns).\n",
        "- Not all matrices have an inverse. If `a` is singular or nearly singular, the `np.linalg.inv()` function may raise a `LinAlgError`.\n"
      ],
      "metadata": {
        "id": "vlo4HV_w-aQ9"
      }
    },
    {
      "cell_type": "markdown",
      "source": [
        "Example 1: Calculate Inverse of a 2x2 Matrix"
      ],
      "metadata": {
        "id": "CG0dS7M0-oBA"
      }
    },
    {
      "cell_type": "code",
      "source": [
        "A = np.array([[1, 2], [3, 4]])\n",
        "\n",
        "inverse_A = np.linalg.inv(A)\n",
        "\n",
        "print(inverse_A)"
      ],
      "metadata": {
        "id": "AbrlE2Fe-Zub",
        "outputId": "8de849e7-2482-48f6-de0e-b54bce4ccc02",
        "colab": {
          "base_uri": "https://localhost:8080/"
        }
      },
      "execution_count": null,
      "outputs": [
        {
          "output_type": "stream",
          "name": "stdout",
          "text": [
            "[[-2.   1. ]\n",
            " [ 1.5 -0.5]]\n"
          ]
        }
      ]
    },
    {
      "cell_type": "markdown",
      "source": [
        "Example 2: Calculate Inverse of a 3x3 Matrix"
      ],
      "metadata": {
        "id": "e5dJEV0f-snK"
      }
    },
    {
      "cell_type": "code",
      "source": [
        "B = np.array([[2, 1, 3], [4, 2, 1], [3, 4, 2]])\n",
        "\n",
        "inverse_B = np.linalg.inv(B)\n",
        "\n",
        "print(inverse_B)"
      ],
      "metadata": {
        "id": "6erGv2PM-uUz",
        "outputId": "611b43d0-2f59-44e7-84cc-bd9c161ce782",
        "colab": {
          "base_uri": "https://localhost:8080/"
        }
      },
      "execution_count": null,
      "outputs": [
        {
          "output_type": "stream",
          "name": "stdout",
          "text": [
            "[[ 0.   0.4 -0.2]\n",
            " [-0.2 -0.2  0.4]\n",
            " [ 0.4 -0.2  0. ]]\n"
          ]
        }
      ]
    },
    {
      "cell_type": "markdown",
      "source": [
        "Example 3: Singular Matrix"
      ],
      "metadata": {
        "id": "qY8m0ycj-wJ5"
      }
    },
    {
      "cell_type": "code",
      "source": [
        "C = np.array([[1, 2], [2, 4]])\n",
        "\n",
        "try:\n",
        "    inverse_C = np.linalg.inv(C)\n",
        "    print(inverse_C)\n",
        "except np.linalg.LinAlgError:\n",
        "    print(\"Matrix C is singular. Inverse does not exist.\")"
      ],
      "metadata": {
        "id": "nBdZqjeX-1eE",
        "outputId": "e644765b-3917-4434-c37a-d59e40d499bb",
        "colab": {
          "base_uri": "https://localhost:8080/"
        }
      },
      "execution_count": null,
      "outputs": [
        {
          "output_type": "stream",
          "name": "stdout",
          "text": [
            "Matrix C is singular. Inverse does not exist.\n"
          ]
        }
      ]
    },
    {
      "cell_type": "markdown",
      "source": [
        "**Note on singular and non-singular marixes**"
      ],
      "metadata": {
        "id": "VTwYw_n1-9TS"
      }
    },
    {
      "cell_type": "markdown",
      "source": [
        "In linear algebra, a square matrix is called \"singular\" if it does not have an inverse.(i.e. No solutions , incomplete equation combinations) In other words, a matrix A is singular if there is no matrix B such that the product of A and B (AB) is the identity matrix (I). If a matrix is singular, it cannot be inverted, and attempting to find its inverse will result in an error.\n",
        "\n",
        "On the other hand, a square matrix that has an inverse is called \"non-singular\" or \"invertible.\" If a matrix A is non-singular, there exists a matrix B such that AB = BA = I. The inverse of a non-singular matrix A is denoted as A^(-1), and it satisfies the property: A * A^(-1) = A^(-1) * A = I.\n",
        "\n",
        "Mathematically, for a square matrix A of size (n x n), the conditions for singularity are:\n",
        "\n",
        "1. If the determinant of A (det(A)) is equal to zero, the matrix A is singular.\n",
        "2. If the rank of A (rank(A)) is less than n, the matrix A is singular.\n",
        "\n",
        "A square matrix is non-singular if and only if its determinant is non-zero, and its rank is equal to the number of rows (n).\n"
      ],
      "metadata": {
        "id": "e1ijLXLc_JJ4"
      }
    },
    {
      "cell_type": "markdown",
      "source": [
        "###3.3.4 Determinent"
      ],
      "metadata": {
        "id": "yhz9X6y8_TxO"
      }
    },
    {
      "cell_type": "markdown",
      "source": [
        "In NumPy, you can calculate the determinant of a square matrix using the `numpy.linalg.det()` function. This function computes the determinant of a given square matrix.\n",
        "\n",
        "**Syntax:**\n",
        "```\n",
        "numpy.linalg.det(a)\n",
        "```\n",
        "\n",
        "**Parameters:**\n",
        "- `a`: The input square matrix for which the determinant is to be calculated.\n",
        "\n",
        "**Return Value:**\n",
        "- The determinant of the input matrix `a`.\n",
        "\n",
        "**Note:**\n",
        "- The input matrix `a` must be square (i.e., have the same number of rows and columns).\n"
      ],
      "metadata": {
        "id": "hlL0QXDI_Yo_"
      }
    },
    {
      "cell_type": "markdown",
      "source": [
        "Example:\n"
      ],
      "metadata": {
        "id": "SCnARaVW_lrw"
      }
    },
    {
      "cell_type": "code",
      "source": [
        "# 3x3 matrix\n",
        "A = np.array([[1, 2, 3], [4, 5, 6], [7, 8, 9]])\n",
        "\n",
        "# Calculate the determinant\n",
        "det_A = np.linalg.det(A)\n",
        "\n",
        "print(det_A)"
      ],
      "metadata": {
        "id": "sZbyofjL_rGg",
        "outputId": "093469f3-6453-4c84-c0f4-315be253afe2",
        "colab": {
          "base_uri": "https://localhost:8080/"
        }
      },
      "execution_count": null,
      "outputs": [
        {
          "output_type": "stream",
          "name": "stdout",
          "text": [
            "0.0\n"
          ]
        }
      ]
    },
    {
      "cell_type": "markdown",
      "source": [
        "In this example, the determinant of the matrix `A` is computed and found to be `0.0`. Since the determinant is zero, the matrix `A` is singular, and it does not have an inverse."
      ],
      "metadata": {
        "id": "5AcHiRkX_t0g"
      }
    },
    {
      "cell_type": "markdown",
      "source": [
        "### 3.3.5  Eigenvalues and Eigenvectors of a Square Matrix"
      ],
      "metadata": {
        "id": "LxY7w8c0_v2K"
      }
    },
    {
      "cell_type": "markdown",
      "source": [
        "In NumPy, to compute the eigenvalues and eigenvectors of a square matrix using the `numpy.linalg.eig()` function.\n",
        "\n",
        "**Syntax:**\n",
        "```\n",
        "numpy.linalg.eig(a)\n",
        "```\n",
        "\n",
        "**Parameters:**\n",
        "- `a`: The input square matrix for which the eigenvalues and eigenvectors are to be calculated.\n",
        "\n",
        "**Return Value:**\n",
        "- `eigenvalues`: An array containing the eigenvalues of the input matrix `a`.\n",
        "- `eigenvectors`: An array containing the eigenvectors of the input matrix `a`. Each column in the array represents an eigenvector.\n",
        "\n",
        "**Note:**\n",
        "- The input matrix `a` must be square (i.e., have the same number of rows and columns).\n"
      ],
      "metadata": {
        "id": "CDWX0C4DFnXB"
      }
    },
    {
      "cell_type": "markdown",
      "source": [
        "Example 1: Eigenvalues and Eigenvectors of a 2x2 Matrix"
      ],
      "metadata": {
        "id": "jFT_WIheFu0R"
      }
    },
    {
      "cell_type": "code",
      "source": [
        "A = np.array([[2, -1], [4, 1]])\n",
        "\n",
        "# Calculate the eigenvalues and eigenvectors\n",
        "eigenvalues, eigenvectors = np.linalg.eig(A)\n",
        "\n",
        "print(\"Eigenvalues:\")\n",
        "print(eigenvalues)\n",
        "\n",
        "print(\"\\nEigenvectors:\")\n",
        "print(eigenvectors)"
      ],
      "metadata": {
        "id": "roFp-05zFvAY",
        "outputId": "301ef657-f773-42dc-ad76-b498a4303251",
        "colab": {
          "base_uri": "https://localhost:8080/"
        }
      },
      "execution_count": null,
      "outputs": [
        {
          "output_type": "stream",
          "name": "stdout",
          "text": [
            "Eigenvalues:\n",
            "[1.5+1.93649167j 1.5-1.93649167j]\n",
            "\n",
            "Eigenvectors:\n",
            "[[0.1118034 +0.4330127j 0.1118034 -0.4330127j]\n",
            " [0.89442719+0.j        0.89442719-0.j       ]]\n"
          ]
        }
      ]
    },
    {
      "cell_type": "markdown",
      "source": [
        "Example 2: Eigenvalues and Eigenvectors of a 3x3 Matrix"
      ],
      "metadata": {
        "id": "D0Hp4kTSF3Vv"
      }
    },
    {
      "cell_type": "code",
      "source": [
        "# 3x3 matrix\n",
        "B = np.array([[1, 2, 3], [0, 4, 5], [0, 0, 6]])\n",
        "\n",
        "# Calculate the eigenvalues and eigenvectors\n",
        "eigenvalues, eigenvectors = np.linalg.eig(B)\n",
        "\n",
        "print(\"Eigenvalues:\")\n",
        "print(eigenvalues)\n",
        "\n",
        "print(\"\\nEigenvectors:\")\n",
        "print(eigenvectors)"
      ],
      "metadata": {
        "id": "aHwVsJxwF3_s",
        "outputId": "f75c049d-bf96-4615-b15f-d74a4377343e",
        "colab": {
          "base_uri": "https://localhost:8080/"
        }
      },
      "execution_count": null,
      "outputs": [
        {
          "output_type": "stream",
          "name": "stdout",
          "text": [
            "Eigenvalues:\n",
            "[1. 4. 6.]\n",
            "\n",
            "Eigenvectors:\n",
            "[[1.         0.5547002  0.51084069]\n",
            " [0.         0.83205029 0.79818857]\n",
            " [0.         0.         0.31927543]]\n"
          ]
        }
      ]
    },
    {
      "cell_type": "markdown",
      "source": [
        "# OS Module\n",
        "\n"
      ],
      "metadata": {
        "id": "XqHRwFeu5LU4"
      }
    },
    {
      "cell_type": "markdown",
      "source": [
        "File handling using the `os` module in Python involves managing files and directories on the operating system level. The `os` module provides various functions to work with paths, create, delete, rename, move, copy, and manipulate files and directories.\n",
        "\n",
        "**1. Getting the Current Working Directory:**\n",
        "\n",
        "The current working directory is the directory where your Python script is currently executing. Use the `os.getcwd()` function to obtain this directory.\n",
        "\n",
        "Example:\n",
        "> ```python\n",
        "> import os\n",
        ">\n",
        "> current_dir = os.getcwd()\n",
        "> print(\"Current Directory:\", current_dir)\n",
        "> ```\n",
        "\n",
        "**2. Changing the Current Working Directory:**\n",
        "\n",
        "Use the `os.chdir()` function to change the current working directory to a different path.\n",
        "\n",
        "Example:\n",
        "> ```python\n",
        "> new_dir = \"/path/to/new_directory\"\n",
        "> os.chdir(new_dir)\n",
        "> print(\"Current Directory changed to:\", os.getcwd())\n",
        "> ```\n",
        "\n",
        "**3. Listing Files and Directories:**\n",
        "\n",
        "The `os.listdir()` function allows to list the contents of a directory.\n",
        "\n",
        "Example:\n",
        "> ```python\n",
        "> contents = os.listdir(current_dir)\n",
        "> print(\"Contents of the Directory:\", contents)\n",
        "> ```\n",
        "\n",
        "**4. Creating a Directory:**\n",
        "\n",
        "Create a new directory using the `os.mkdir()` function. To create nested directories, use `os.makedirs()`.\n",
        "\n",
        "Example:\n",
        "> ```python\n",
        "> new_dir = os.path.join(current_dir, \"new_directory\")\n",
        "> os.mkdir(new_dir)\n",
        "> print(\"New Directory created:\", new_dir)\n",
        ">\n",
        "> nested_dirs = os.path.join(current_dir, \"parent\", \"child\") #/folder/file.ext\n",
        "> os.makedirs(nested_dirs)\n",
        "> print(\"Nested Directories created:\", nested_dirs)\n",
        "> ```\n",
        "\n",
        "**5. Deleting a File or Directory:**\n",
        "\n",
        "The `os.remove()` function deletes a file, while `os.rmdir()` removes an empty directory.\n",
        "\n",
        "Example:\n",
        "> ```python\n",
        "> file_to_delete = \"file_to_delete.txt\"\n",
        "> os.remove(file_to_delete)\n",
        "> print(\"File deleted:\", file_to_delete)\n",
        ">\n",
        "> empty_dir_to_delete = \"empty_directory\"\n",
        "> os.rmdir(empty_dir_to_delete)\n",
        "> print(\"Directory deleted:\", empty_dir_to_delete)\n",
        "> ```\n",
        "\n",
        "**6. Renaming Files and Folders:**\n",
        "\n",
        "Use the `os.rename()` function to rename files and folders.\n",
        "\n",
        "Example:\n",
        "> ```python\n",
        "> old_file_name = \"old_file.txt\"\n",
        "> new_file_name = \"new_file.txt\"\n",
        "> os.rename(old_file_name, new_file_name)\n",
        "> print(\"File renamed:\", new_file_name)\n",
        ">\n",
        "> old_dir_name = \"old_directory\"\n",
        "> new_dir_name = \"new_directory\"\n",
        "> os.rename(old_dir_name, new_dir_name)\n",
        "> print(\"Directory renamed:\", new_dir_name)\n",
        "> ```\n",
        "\n",
        "**7. Moving Files and Directories:**\n",
        "\n",
        "The `os.rename()` function can also be used to move files and directories.\n",
        "\n",
        "Example:\n",
        "> ```python\n",
        "> source_file = \"source_folder/source_file.txt\"\n",
        "> destination_file = \"destination_folder/destination_file.txt\"\n",
        "> os.rename(source_file, destination_file)\n",
        "> print(\"File moved:\", destination_file)\n",
        "> ```\n",
        "\n",
        "**8. Getting File Properties:**\n",
        "\n",
        "Use the `os.stat()` function to obtain information about a file's properties.\n",
        "\n",
        "Example:\n",
        "> ```python\n",
        "> file_path = \"file_to_get_properties.txt\"\n",
        "> file_properties = os.stat(file_path)\n",
        "> print(\"File Properties:\", file_properties)\n",
        "> ```\n",
        "\n",
        "**9. Copying Files and Directories:**\n",
        "\n",
        "For copying files, can use `shutil.copy()`, and for directories, use `shutil.copytree()`.\n",
        "\n",
        "Example:\n",
        "> ```python\n",
        "> import shutil\n",
        ">\n",
        "> source_file = \"source_folder/source_file.txt\"\n",
        "> destination_file = \"destination_folder/destination_file.txt\"\n",
        "> shutil.copy(source_file, destination_file)\n",
        "> print(\"File copied:\", destination_file)\n",
        ">\n",
        "> source_dir = \"source_directory\"\n",
        "> destination_dir = \"destination_directory\"\n",
        "> shutil.copytree(source_dir, destination_dir)\n",
        "> print(\"Directory copied:\", destination_dir)\n",
        "> ```\n",
        "\n",
        "**10. Checking File or Directory Existence:**\n",
        "\n",
        "Use `os.path.exists()` to check if a file or directory exists.\n",
        "\n",
        "Example:\n",
        "> ```python\n",
        "> file_path = \"file_to_check.txt\"\n",
        "> if os.path.exists(file_path):\n",
        ">     print(f\"{file_path} exists\")\n",
        "> else:\n",
        ">     print(f\"{file_path} does not exist\")\n",
        "> ```\n",
        "\n",
        "**11. Checking if a Path is a File or Directory:**\n",
        "\n",
        "Use `os.path.isfile()` to check if a path points to a file, and `os.path.isdir()` for a directory.\n",
        "\n",
        "Example:\n",
        "> ```python\n",
        "> path_to_check = \"path_to_check\"\n",
        "> if os.path.isfile(path_to_check):\n",
        ">     print(f\"{path_to_check} is a file\")\n",
        "> elif os.path.isdir(path_to_check):\n",
        ">     print(f\"{path_to_check} is a directory\")\n",
        "> else:\n",
        ">     print(f\"{path_to_check} does not exist\")\n",
        "> ```\n",
        "\n",
        "**12. Joining Paths:**\n",
        "\n",
        "Use `os.path.join()` to join paths in a platform-independent way.\n",
        "\n",
        "Example:\n",
        "> ```python\n",
        "> dir_name = \"my_directory\"\n",
        "> file_name = \"my_file.txt\"\n",
        "> file_path = os.path.join(dir_name, file_name)\n",
        "> print(\"Joined Path:\", file_path)\n",
        "> ```\n",
        "\n",
        "**13. Getting the Basename and Directory Name:**\n",
        "\n",
        "Use `os.path.basename()` to get the basename and `os.path.dirname()` to get the directory name from a path.\n",
        "\n",
        "Example:\n",
        "> ```python\n",
        "> path = \"/path/to/my_file.txt\"\n",
        "> basename = os.path.basename(path)\n",
        "> dirname = os.path.dirname(path)\n",
        "> print(\"Basename:\", basename)\n",
        "> print(\"Directory Name:\", dirname)\n",
        "> ```\n"
      ],
      "metadata": {
        "id": "_lkPr_7mk_iZ"
      }
    },
    {
      "cell_type": "markdown",
      "source": [
        "CSV module"
      ],
      "metadata": {
        "id": "wd6c3rAGmRo1"
      }
    },
    {
      "cell_type": "markdown",
      "source": [
        "Json Module"
      ],
      "metadata": {
        "id": "llNaqCfJwdwW"
      }
    },
    {
      "cell_type": "markdown",
      "source": [
        "# **SymPy Module**"
      ],
      "metadata": {
        "id": "tExvA4NSX8gq"
      }
    },
    {
      "cell_type": "markdown",
      "source": [
        "## **Basics**"
      ],
      "metadata": {
        "id": "l2-YB_olYAGg"
      }
    },
    {
      "cell_type": "markdown",
      "source": [
        "Install Sympy"
      ],
      "metadata": {
        "id": "AivInfPlYSx2"
      }
    },
    {
      "cell_type": "code",
      "source": [
        "# Install sympy if not already installed\n",
        "!pip install sympy"
      ],
      "metadata": {
        "id": "GhJOhwJqYU3j",
        "outputId": "f843c2cb-241a-43bf-8288-aac55357d829",
        "colab": {
          "base_uri": "https://localhost:8080/"
        }
      },
      "execution_count": null,
      "outputs": [
        {
          "output_type": "stream",
          "name": "stdout",
          "text": [
            "Requirement already satisfied: sympy in /usr/local/lib/python3.10/dist-packages (1.12)\n",
            "Requirement already satisfied: mpmath>=0.19 in /usr/local/lib/python3.10/dist-packages (from sympy) (1.3.0)\n"
          ]
        }
      ]
    },
    {
      "cell_type": "markdown",
      "source": [
        "Import"
      ],
      "metadata": {
        "id": "rQkOxfDPYWZ2"
      }
    },
    {
      "cell_type": "code",
      "source": [
        "# Importing necessary libraries\n",
        "from sympy import*"
      ],
      "metadata": {
        "id": "HT2CxZuCYcCH"
      },
      "execution_count": null,
      "outputs": []
    },
    {
      "cell_type": "markdown",
      "source": [
        "## **Symbols and Expressions:**"
      ],
      "metadata": {
        "id": "Y-VhlSZ7YgRu"
      }
    },
    {
      "cell_type": "markdown",
      "source": [
        "Syntax"
      ],
      "metadata": {
        "id": "OstA8xd2ZNi8"
      }
    },
    {
      "cell_type": "code",
      "source": [
        "from sympy import symbols\n",
        "# Define symbolic variables\n",
        "x, y, z = symbols('x y z')"
      ],
      "metadata": {
        "id": "cpcBtLM5YjGK"
      },
      "execution_count": null,
      "outputs": []
    },
    {
      "cell_type": "markdown",
      "source": [
        "Examples"
      ],
      "metadata": {
        "id": "AoWjKHECZPfi"
      }
    },
    {
      "cell_type": "code",
      "source": [
        "from sympy import symbols, expand\n",
        "\n",
        "# Define symbolic variables\n",
        "x, y = symbols('x y')\n",
        "\n",
        "# Create a symbolic expression\n",
        "expr = (x + y)**2\n",
        "\n",
        "# Expand the expression\n",
        "expanded_expr = expand(expr)\n",
        "\n",
        "print(f\"Original expression: {expr}\")\n",
        "print(f\"Expanded expression: {expanded_expr}\")\n"
      ],
      "metadata": {
        "id": "8qbvyYzaZSjc",
        "outputId": "2604d890-683f-4dfd-d809-70f059c14224",
        "colab": {
          "base_uri": "https://localhost:8080/"
        }
      },
      "execution_count": null,
      "outputs": [
        {
          "output_type": "stream",
          "name": "stdout",
          "text": [
            "Original expression: (x + y)**2\n",
            "Expanded expression: x**2 + 2*x*y + y**2\n"
          ]
        }
      ]
    },
    {
      "cell_type": "markdown",
      "source": [
        "## **Equation Solving:**"
      ],
      "metadata": {
        "id": "BkSRCeYhZdUN"
      }
    },
    {
      "cell_type": "markdown",
      "source": [
        "Syntax:"
      ],
      "metadata": {
        "id": "hOma_sDxZgLS"
      }
    },
    {
      "cell_type": "code",
      "source": [
        "from sympy import Eq, solve\n",
        "# Define equations\n",
        "equation = Eq(x**2 - 4, 0)\n",
        "# Solve equations\n",
        "solution = solve(equation, x)"
      ],
      "metadata": {
        "id": "_qEdCebiZiXI"
      },
      "execution_count": null,
      "outputs": []
    },
    {
      "cell_type": "markdown",
      "source": [
        "Example"
      ],
      "metadata": {
        "id": "PYZvX5vhZhzT"
      }
    },
    {
      "cell_type": "code",
      "source": [
        "from sympy import Eq, solve\n",
        "\n",
        "# Define an equation\n",
        "equation = Eq(x**2 - 4, 0)\n",
        "\n",
        "# Solve the equation\n",
        "solution = solve(equation, x)\n",
        "\n",
        "print(f\"Equation: {equation}\")\n",
        "print(f\"Solutions: {solution}\")\n"
      ],
      "metadata": {
        "id": "XlzQKjZ4ZiCN",
        "outputId": "0965564c-2a5a-430e-97b0-c8d6ac45626f",
        "colab": {
          "base_uri": "https://localhost:8080/"
        }
      },
      "execution_count": null,
      "outputs": [
        {
          "output_type": "stream",
          "name": "stdout",
          "text": [
            "Equation: Eq(x**2 - 4, 0)\n",
            "Solutions: [-2, 2]\n"
          ]
        }
      ]
    },
    {
      "cell_type": "markdown",
      "source": [
        "## **Calculus:**"
      ],
      "metadata": {
        "id": "XYn2L9t0Zybz"
      }
    },
    {
      "cell_type": "markdown",
      "source": [
        "Syntax"
      ],
      "metadata": {
        "id": "dRVL43L3Z0zg"
      }
    },
    {
      "cell_type": "markdown",
      "source": [
        "> ```\n",
        "> from sympy import integrate, diff, limit\n",
        ">\n",
        "> # Integration\n",
        "> integral_result = integrate(expression, variable)\n",
        ">\n",
        "> # Differentiation\n",
        "> derivative_result = diff(expression, variable)\n",
        ">\n",
        "> # Limits\n",
        "> limit_result = limit(expression, variable, point)\n",
        "> ```"
      ],
      "metadata": {
        "id": "ILonV0UOZ6xe"
      }
    },
    {
      "cell_type": "markdown",
      "source": [
        "Example"
      ],
      "metadata": {
        "id": "0Y6mq--TZ2Hm"
      }
    },
    {
      "cell_type": "code",
      "source": [
        "from sympy import integrate, diff, limit, oo\n",
        "\n",
        "# Integration\n",
        "integral_result = integrate(x**2 + 2*x + 1, x)\n",
        "\n",
        "# Differentiation\n",
        "derivative_result = diff(x**3 + 3*x**2 + 2*x + 1, x)\n",
        "\n",
        "# Limits\n",
        "limit_result = limit(1/x, x, 0, dir='-')  # approaching 0 from the left\n",
        "\n",
        "print(f\"Integral: {integral_result}\")\n",
        "print(f\"Derivative: {derivative_result}\")\n",
        "print(f\"Limit: {limit_result}\")\n"
      ],
      "metadata": {
        "id": "L07H6jc3Z1vE",
        "outputId": "c8a2966f-95ed-4cc9-ca6c-49ec88f4a2e6",
        "colab": {
          "base_uri": "https://localhost:8080/"
        }
      },
      "execution_count": null,
      "outputs": [
        {
          "output_type": "stream",
          "name": "stdout",
          "text": [
            "Integral: x**3/3 + x**2 + x\n",
            "Derivative: 3*x**2 + 6*x + 2\n",
            "Limit: -oo\n"
          ]
        }
      ]
    },
    {
      "cell_type": "markdown",
      "source": [
        "## **Simplification:**"
      ],
      "metadata": {
        "id": "_CLHs9rCaKMz"
      }
    },
    {
      "cell_type": "markdown",
      "source": [
        "Syntaxes\n"
      ],
      "metadata": {
        "id": "cwJRpF01aNBh"
      }
    },
    {
      "cell_type": "markdown",
      "source": [
        "> ```\n",
        "> from sympy import simplify\n",
        ">\n",
        "> # Simplification\n",
        "> simplified_expression = simplify(expression)\n",
        ">\n",
        "> ```"
      ],
      "metadata": {
        "id": "cBUnHgqNaOAF"
      }
    },
    {
      "cell_type": "markdown",
      "source": [
        "Example"
      ],
      "metadata": {
        "id": "D7RdFmzGaUmM"
      }
    },
    {
      "cell_type": "code",
      "source": [
        "from sympy import simplify\n",
        "\n",
        "# Simplification\n",
        "expression_to_simplify = (x**2 + 2*x + 1)/(x + 1)\n",
        "simplified_expression = simplify(expression_to_simplify)\n",
        "\n",
        "print(f\"Original expression: {expression_to_simplify}\")\n",
        "print(f\"Simplified expression: {simplified_expression}\")\n"
      ],
      "metadata": {
        "id": "shCYpvP9aV5L",
        "outputId": "9972dc24-2da8-41ef-8d1f-7fa24fb46f50",
        "colab": {
          "base_uri": "https://localhost:8080/"
        }
      },
      "execution_count": null,
      "outputs": [
        {
          "output_type": "stream",
          "name": "stdout",
          "text": [
            "Original expression: (x**2 + 2*x + 1)/(x + 1)\n",
            "Simplified expression: x + 1\n"
          ]
        }
      ]
    },
    {
      "cell_type": "markdown",
      "source": [
        "## **Matrices:**"
      ],
      "metadata": {
        "id": "yYNl6BRkaYnZ"
      }
    },
    {
      "cell_type": "markdown",
      "source": [
        "Syntax:"
      ],
      "metadata": {
        "id": "y6s2mnDGaavi"
      }
    },
    {
      "cell_type": "markdown",
      "source": [
        "> ```\n",
        "> from sympy import Matrix\n",
        ">\n",
        "> # Define matrices\n",
        "> A = Matrix([[1, 2], [3, 4]])\n",
        "> B = Matrix([[5, 6], [7, 8]])\n",
        ">\n",
        "> # Matrix operations\n",
        "> product_matrix = A * B\n",
        ">\n",
        "> ```"
      ],
      "metadata": {
        "id": "uLIp_fvAacV1"
      }
    },
    {
      "cell_type": "markdown",
      "source": [
        "Example"
      ],
      "metadata": {
        "id": "bU5CsmmSakxy"
      }
    },
    {
      "cell_type": "code",
      "source": [
        "from sympy import Matrix\n",
        "\n",
        "# Define matrices\n",
        "A = Matrix([[1, 2], [3, 4]])\n",
        "B = Matrix([[5, 6], [7, 8]])\n",
        "\n",
        "# Matrix operations\n",
        "product_matrix = A * B\n",
        "\n",
        "print(f\"Matrix A:\\n{A}\")\n",
        "print(f\"Matrix B:\\n{B}\")\n",
        "print(f\"Product of A and B:\\n{product_matrix}\")\n"
      ],
      "metadata": {
        "id": "ofzR4sgRaltq",
        "outputId": "3a395054-e3ae-4b78-da3c-e3f447e344e3",
        "colab": {
          "base_uri": "https://localhost:8080/"
        }
      },
      "execution_count": null,
      "outputs": [
        {
          "output_type": "stream",
          "name": "stdout",
          "text": [
            "Matrix A:\n",
            "Matrix([[1, 2], [3, 4]])\n",
            "Matrix B:\n",
            "Matrix([[5, 6], [7, 8]])\n",
            "Product of A and B:\n",
            "Matrix([[19, 22], [43, 50]])\n"
          ]
        }
      ]
    }
  ]
}