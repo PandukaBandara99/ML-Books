{
  "cells": [
    {
      "cell_type": "markdown",
      "metadata": {
        "id": "view-in-github",
        "colab_type": "text"
      },
      "source": [
        "<a href=\"https://colab.research.google.com/github/PandukaBandara99/ML_Books/blob/main/ML_01_Linear_regression.ipynb\" target=\"_parent\"><img src=\"https://colab.research.google.com/assets/colab-badge.svg\" alt=\"Open In Colab\"/></a>"
      ]
    },
    {
      "cell_type": "markdown",
      "metadata": {
        "id": "TgXF3VTtQkcH"
      },
      "source": [
        "Mahela Panduka Bandara ; <br> UG @ Dpt. of Electronic & Electrical Engineering ;<br> University of Peradeniya ;<br> 2023/03 <br><br> Email : e19039@end.pdn.ac.lk <br> LinkedIN : https://www.linkedin.com/in/pandukabandara/"
      ]
    },
    {
      "cell_type": "markdown",
      "metadata": {
        "id": "S5kfSQ_-MsJ5"
      },
      "source": [
        "# Introduction"
      ]
    },
    {
      "cell_type": "markdown",
      "metadata": {
        "id": "1cGTrv19JRPj"
      },
      "source": [
        "In supervised learning , learn begins from given correct data set of (feature,target) and the learning algorythem is used to identify the mapping function for those data set.\n",
        "\n",
        "*   Regression : For continuous functions ,predicts numbers.\n",
        "*   Classification : Predicts caegories ,Descrete outcomes.\n",
        "\n"
      ]
    },
    {
      "cell_type": "markdown",
      "metadata": {
        "id": "KShjNkXJKdjn"
      },
      "source": [
        "Terminology\n",
        "\n",
        "*   $x$  = \"Input variables , called features\n",
        "*   $y$  = \"Output variables\" , called targets  ~ ~ ~ ~ $\\hat{y}$ denotes the predicted outcomes.\n",
        "*   m    = Number of training samples\n",
        "*   $(x,y)$ = single training example\n",
        "*   $(x^{(i)},y^{(i)})$ = $i^{th}$ example\n",
        "*   \n",
        "\n",
        "\n",
        "\n",
        "\n",
        "\n",
        "\n",
        "\n",
        "---"
      ]
    },
    {
      "cell_type": "markdown",
      "metadata": {
        "id": "ifwpJotBNHoV"
      },
      "source": [
        "# 1 Supervised Machine Learning: Regression\n",
        "\n",
        "\n"
      ]
    },
    {
      "cell_type": "markdown",
      "metadata": {
        "id": "VF9o_TMON3RX"
      },
      "source": [
        "## 1.1 Single Variable Systems\n",
        "\n"
      ]
    },
    {
      "cell_type": "markdown",
      "source": [
        "### 1.1.1 Theory"
      ],
      "metadata": {
        "id": "GH4lEwmg-7cd"
      }
    },
    {
      "cell_type": "markdown",
      "metadata": {
        "id": "zEloq5FAOEf7"
      },
      "source": [
        "**Model equation :** <br><br> $f_{w,b}(x) \\ \\ =w.X + b \\ \\ \\ $ <br>\n",
        "$\\ \\ \\ \\ \\ \\ \\ \\hat{y}^{(i)} \\   = \\ w.X^{(i)} + b $"
      ]
    },
    {
      "cell_type": "markdown",
      "metadata": {
        "id": "LtW5aRP8PkdB"
      },
      "source": [
        "**Cost Function:** <br><br>\n",
        "$J_{(w,b)} \\ = \\ \\frac{1}{2m} \\ \\sum_{i=1}^m(\\hat{y}^{(i)} \\ - \\ y^{(i)})^2$ <br>\n",
        "To get the best fit line ,  (w,b) for minimum  $\\ J_{(w,b)} \\ $ should be obtained."
      ]
    },
    {
      "cell_type": "markdown",
      "metadata": {
        "id": "XcIMwxNoRauc"
      },
      "source": [
        "**Gradient descent algorythm :** <br> <br>\n",
        "\n",
        "\n",
        "\n",
        "```\n",
        "initial random w,b\n",
        "learning rate alpha\n",
        "\n",
        "@Loop untill converges\n",
        "temp_w = w - alpha * dj_dw\n",
        "temp_b = b - alpha * dj_db\n",
        "w,b    = temp_w,temp_b\n",
        "\n",
        "break : if J reached its minimum value (~1% variation)\n",
        "\n",
        "```\n",
        "\n",
        "where, <br>\n",
        "\n",
        "dj_dw = $ \\frac{\\partial J_{(w,b)}}{\\partial w} \\ \\ \\ $ and $ \\ \\ \\ $ dj_db = $ \\frac{\\partial J_{(w,b)}}{\\partial b}$ <br> <br>\n",
        "\n",
        "$ \\frac{\\partial J_{(w,b)}}{\\partial w} \\ \\ \\  = \\ \\frac{1}{m} \\ \\sum_{i=1}^m(\\hat{y}^{(i)} \\ - \\ y^{(i)}).X^{(i)} ------------(A)$ <br> <br>\n",
        "\n",
        "$ \\frac{\\partial J_{(w,b)}}{\\partial w} \\ \\ \\  = \\ \\frac{1}{m} \\ \\sum_{i=1}^m(\\hat{y}^{(i)} \\ - \\ y^{(i)}) --------------(B)$\n"
      ]
    },
    {
      "cell_type": "markdown",
      "metadata": {
        "id": "1i56CUIsUE3P"
      },
      "source": [
        "**Code**"
      ]
    },
    {
      "cell_type": "markdown",
      "metadata": {
        "id": "NUaQfyTgVApA"
      },
      "source": [
        "### 1.1.2 Example 01 : Housing prices\n"
      ]
    },
    {
      "cell_type": "markdown",
      "source": [
        "\n",
        "\n",
        "| Size (1000 sqft)    | Price (1000s of dollars) |\n",
        "| -------------------| ------------------------ |\n",
        "| 1.0                 | 250                      |\n",
        "| 1.7                  | 300                      |\n",
        "| 2.0                  | 480                      |\n",
        "| 2.5                  | 430                      |\n",
        "|3.0 |630|\n",
        "|3.2| 730|"
      ],
      "metadata": {
        "id": "Ks64ZxdP_Fpd"
      }
    },
    {
      "cell_type": "code",
      "execution_count": null,
      "metadata": {
        "id": "-Gzo_vL4VDYW"
      },
      "outputs": [],
      "source": [
        "#Linear regression for single variable\n",
        "\n",
        "#Import Required Libraries\n",
        "import numpy as np\n",
        "import math\n",
        "import matplotlib.pyplot as plt\n",
        "\n",
        "''' \n",
        "Update data as requred\n",
        "'''\n",
        "\n",
        "# Initialize Training Examples\n",
        "x_train = np.array([1.0, 1.7, 2.0, 2.5, 3.0, 3.2])\n",
        "y_train = np.array([250, 300, 480,  430,   630, 730])\n",
        "\n",
        "# Initial conditions for gradient descent\n",
        "learning_rate = 0.01\n",
        "initial_w = 1000\n",
        "initial_b = 1000\n",
        "number_of_iterations = 250000\n",
        "\n",
        "# Breaks when dw_dj and dw_db < learning_rate*convergence_factor     \n",
        "# Better to use smaller values\n",
        "convergence_factor = 0.001\n",
        "\n",
        "\n",
        "\n",
        "\n",
        "''' \n",
        "Do not change below\n",
        "'''\n",
        "\n",
        "\n",
        "# ~Data Extraction~\n",
        "\n",
        "# Sample size (m)\n",
        "m = x_train.shape[0]\n",
        "\n",
        "\n",
        "'''\n",
        "Cost Function\n",
        "Input  : x_train , y_train , w_value , b_value ,m value\n",
        "Output : Relevent cost\n",
        "'''\n",
        "def cost_function_for_single_variable(x,y,w,b,m):\n",
        "  # y_hat = w*x[i] + b\n",
        "  # y = y[i]\n",
        "  # Temp variable to store the calculated data\n",
        "\n",
        "  cost_holder = 0 \n",
        "\n",
        "  for i in range(m):\n",
        "    cost_holder += (w*x[i] + b - y[i])**2\n",
        "  \n",
        "  #Avoid zero devison\n",
        "  if cost_holder == 0:\n",
        "     cost_holder =0\n",
        "  else:\n",
        "    cost_holder = cost_holder/(2*m) \n",
        "\n",
        "  # Return the cost\n",
        "  return cost_holder \n",
        "\n",
        "\n",
        "'''\n",
        "Gradient Values\n",
        "Input  : x_train , y_train , w_value , b_value ,m value\n",
        "Output : (dj_dw,dj_db) for given (w,b)\n",
        "'''\n",
        "\n",
        "def calculate_gradient(x,y,w,b,m):\n",
        "\n",
        "  # Temp Data holders for two returns\n",
        "  temp_dj_dw = 0\n",
        "  temp_dj_db = 0\n",
        "\n",
        "  # Loop for m times (i=0 to i = m-1)\n",
        "  for i in range(m):\n",
        "\n",
        "    # Calculate dj_dw and sum According to the equation (A)\n",
        "    temp_dj_dw += (w*x[i] + b - y[i])*x[i]\n",
        "\n",
        "    # Calculate dj_db and sum According to the equation (B)\n",
        "    temp_dj_db += w*x[i] + b - y[i]\n",
        "  \n",
        "  # Finalize the calculaion\n",
        "  if(m != 0):\n",
        "    temp_dj_dw = temp_dj_dw/m\n",
        "    temp_dj_db = temp_dj_db/m\n",
        "  else:\n",
        "    temp_dj_dw = 0\n",
        "    temp_dj_db = 0\n",
        "  \n",
        "  # return the gradients for (w,b)\n",
        "  return temp_dj_dw,temp_dj_db\n",
        "\n",
        "\n",
        "'''\n",
        "Gradient Descent\n",
        "Input  : x_train , y_train , w_initial , b_initial ,m value,learning_rate, number of iterations\n",
        "Output : Best fit w,b,J_log,Parameter_log\n",
        "'''\n",
        "\n",
        "def gradient_descent():\n",
        "  # Load the data & conditions to the function \n",
        "  global x_train,y_train,initial_w,initial_b,m,learning_rate,number_of_iterations\n",
        "\n",
        "  # Store calculated J \n",
        "  J_log = []\n",
        "\n",
        "  # Store [w,b] for each J\n",
        "  Parameter_log = []\n",
        "  \n",
        "  #Store temp w,b\n",
        "  w  = initial_w\n",
        "  b  = initial_b\n",
        "\n",
        "  # Loop for given iterations \n",
        "  for i in range(number_of_iterations):\n",
        "\n",
        "    # Calculate gradients for w,b\n",
        "    dj_dw,dj_db = calculate_gradient(x_train,y_train,w,b,m)\n",
        "\n",
        "    #Gradient descent algorythm\n",
        "    w -= learning_rate*dj_dw\n",
        "    b -= learning_rate*dj_db\n",
        "\n",
        "    # Update Logs\n",
        "    if i<10000:\n",
        "      J_log.append(cost_function_for_single_variable(x_train,y_train,w,b,m))\n",
        "      Parameter_log.append([w,b])\n",
        "\n",
        "    # For the stability half the samples for every 10000 iterations\n",
        "    elif i % 10000 == 0:\n",
        "      J_log = J_log[::2]\n",
        "      Parameter_log = Parameter_log[::2]\n",
        "\n",
        "    # Breaking when converged\n",
        "    if dj_dw < learning_rate*convergence_factor and dj_db < learning_rate*convergence_factor:\n",
        "      print(i)\n",
        "      break\n",
        "\n",
        "    \n",
        "  return w,b,J_log,Parameter_log\n"
      ]
    },
    {
      "cell_type": "markdown",
      "metadata": {
        "id": "gXAk-NAsXp9K"
      },
      "source": [
        " Code Explanations\n",
        "\n",
        "*   Uses numpy , matplotlib and math libraries\n",
        "*   X and Y datasets are vectoriezed using numpy.array\n",
        "*   x_train.shape returns a tuple (rows,columns).So need to get the row value by using x_train.shape[0] ~ As in the example it returns (6,) => 6 \n",
        "*   List item\n",
        "\n",
        "\n",
        "\n",
        "\n",
        "\n",
        "\n"
      ]
    },
    {
      "cell_type": "markdown",
      "metadata": {
        "id": "CYZg21cTcb1g"
      },
      "source": [
        "### 1.1.3 **Data Extractions** <br>\n",
        "1. Calculating the cost for a given (w,b)\n"
      ]
    },
    {
      "cell_type": "code",
      "execution_count": null,
      "metadata": {
        "colab": {
          "base_uri": "https://localhost:8080/"
        },
        "id": "Mm99PSJacpbY",
        "outputId": "fad149e6-4155-4d2f-a834-76c96ad77d01"
      },
      "outputs": [
        {
          "output_type": "stream",
          "name": "stdout",
          "text": [
            "9366.666666666666\n"
          ]
        }
      ],
      "source": [
        "#Calculate Cost for given w=200 and b = -100\n",
        "w= 200 \n",
        "b=-100\n",
        "cost_Value = cost_function_for_single_variable(x_train,y_train,w, b ,m)\n",
        "print(cost_Value)"
      ]
    },
    {
      "cell_type": "markdown",
      "metadata": {
        "id": "jfhX9AMvdcXK"
      },
      "source": [
        "2. Data Plotting the Cost Value Destribution (~Scatter)\n",
        "\n",
        "\n"
      ]
    },
    {
      "cell_type": "code",
      "execution_count": null,
      "metadata": {
        "colab": {
          "base_uri": "https://localhost:8080/",
          "height": 307
        },
        "id": "hv77DGbLdq1m",
        "outputId": "345a25fb-b24e-4912-9780-9b8ed7b490a5"
      },
      "outputs": [
        {
          "output_type": "display_data",
          "data": {
            "text/plain": [
              "<Figure size 432x288 with 1 Axes>"
            ],
            "image/png": "[encoded data removed]"
          },
          "metadata": {
            "needs_background": "light"
          }
        },
        {
          "output_type": "stream",
          "name": "stdout",
          "text": [
            " The minimum vaue for the cost function is 1737.9933333333322 \n",
            " The best fit (w,b)      : ( 212 , -3) \n",
            " Actual values for given : (209,2.4))\n"
          ]
        }
      ],
      "source": [
        "#Define Limits {X:w, Y:b, Z:J}\n",
        "w_min = -500\n",
        "w_max = 500\n",
        "\n",
        "b_min = -100\n",
        "b_max = 100\n",
        "\n",
        "# Use Larger for a fine Values\n",
        "Sample_count = 10000 ; \n",
        "\n",
        "# Sampling the 3d space\n",
        "W_set = np.random.randint(w_min,w_max,(Sample_count,))\n",
        "b_set = np.random.randint(b_min,b_max,(Sample_count,))\n",
        "J_set = np.zeros(Sample_count)\n",
        "\n",
        "# Calculating the Cost for each (w,b)\n",
        "for i in range(Sample_count):\n",
        "  J_set[i] = cost_function_for_single_variable(x_train,y_train,W_set[i], b_set[i] ,m)\n",
        "\n",
        "\n",
        "# Visualization of the cost destribution ~ 3D scatter \n",
        "\n",
        "from mpl_toolkits import mplot3d\n",
        "ax = plt.axes(projection = \"3d\")\n",
        "\n",
        "ax.scatter(W_set,b_set,J_set)\n",
        "plt.show()\n",
        "\n",
        "#Get the minimum valued element id \n",
        "minElementID = int(np.where(J_set == np.amin(J_set))[0])\n",
        "\n",
        "print(\" The minimum vaue for the cost function is {} \\n The best fit (w,b)      : ( {} , {}) \\n Actual values for given : (209,2.4))\".format(J_set[minElementID],W_set[minElementID],b_set[minElementID]))\n"
      ]
    },
    {
      "cell_type": "code",
      "execution_count": null,
      "metadata": {
        "colab": {
          "base_uri": "https://localhost:8080/",
          "height": 542
        },
        "id": "8TgRru8Gw7Hq",
        "outputId": "2d2e08f8-5c42-4584-e745-7d5baaf30a5a"
      },
      "outputs": [
        {
          "output_type": "display_data",
          "data": {
            "text/html": [
              "<html>\n",
              "<head><meta charset=\"utf-8\" /></head>\n",
              "<body>\n",
              "    <div>            <script src=\"https://cdnjs.cloudflare.com/ajax/libs/mathjax/2.7.5/MathJax.js?config=TeX-AMS-MML_SVG\"></script><script type=\"text/javascript\">if (window.MathJax && window.MathJax.Hub && window.MathJax.Hub.Config) {window.MathJax.Hub.Config({SVG: {font: \"STIX-Web\"}});}</script>                <script type=\"text/javascript\">window.PlotlyConfig = {MathJaxConfig: 'local'};</script>\n",
              "        <script src=\"https://cdn.plot.ly/plotly-2.18.2.min.js\"></script>                <div id=\"90b69c63-4e96-49d0-b260-41899dfe48c6\" class=\"plotly-graph-div\" style=\"height:525px; width:100%;\"></div>            <script type=\"text/javascript\">                                    window.PLOTLYENV=window.PLOTLYENV || {};                                    if (document.getElementById(\"90b69c63-4e96-49d0-b260-41899dfe48c6\")) {                    Plotly.newPlot(                        \"90b69c63-4e96-49d0-b260-41899dfe48c6\",                        [{\"color\":\"black\",\"opacity\":0.8,\"x\":[88,-474,320,-164,121,383,-203,-34,-485,-436,-304,-475,-133,238,-29,403,-218,165,116,-478,277,207,499,-374,-221,-119,-144,-345,433,-187,95,-334,148,-212,-82,278,-221,155,251,-413,293,467,-257,-152,86,-310,-198,428,228,-349,195,-179,-131,345,271,396,-247,-39,274,64,-31,-46,14,88,487,-351,215,-237,-423,212,-425,-168,-457,32,42,48,371,275,313,464,69,252,8,-290,-404,-231,-490,-221,392,349,403,389,-348,214,-24,160,-84,-360,-307,106,72,-11,-348,-162,383,365,-370,-8,232,115,366,-234,194,364,-11,350,-30,-302,206,-173,499,-324,66,-485,401,-99,-330,-480,130,444,-222,-15,409,126,109,193,352,-490,-404,-317,-183,68,229,-95,-269,-404,5,479,-475,-3,410,-359,-288,128,311,146,217,196,455,411,36,-363,-50,-301,321,-175,-80,369,260,-479,-204,-423,-281,189,-131,-197,-39,-76,-38,57,355,156,424,-266,57,-49,384,-178,474,-198,-116,-87,-437,343,47,449,-23,45,142,-32,95,-452,322,-212,-247,168,-445,222,-213,-472,-278,-170,-364,-391,111,-468,20,96,473,62,91,-331,332,120,-289,-476,-387,288,-456,-229,170,-25,410,-1,287,-249,166,-265,-414,-109,239,-447,-69,378,-56,255,-210,-400,240,300,415,-49,292,223,-271,106,-334,187,-269,401,-421,75,381,-413,-84,310,214,206,228,238,170,157,-176,332,-312,0,-294,-355,-333,-337,-35,168,162,306,181,-42,217,-174,165,-270,-260,-452,190,458,-200,117,-318,-244,-158,3,284,-225,277,124,232,-449,379,-362,-377,-176,-93,-230,203,33,-326,-120,-369,-60,356,-292,442,66,475,83,8,26,217,-357,-91,321,224,5,454,481,126,250,425,56,-463,-350,-25,-62,-168,24,-124,-185,422,472,467,227,-77,137,-457,-40,382,306,103,124,-247,337,238,-83,-329,-90,196,465,85,-192,101,39,-457,-499,-162,-373,106,492,-90,352,42,371,-436,-350,110,320,143,-430,152,-205,-270,-417,251,-324,-183,-46,281,-336,-221,-94,-50,134,-24,-251,-10,-149,65,405,181,-59,356,-135,258,233,256,216,350,-138,407,-395,-464,-388,-356,-342,-385,118,-288,453,303,-75,-163,270,-287,-407,-336,121,-198,348,295,-172,40,142,239,-103,-75,389,-208,240,-332,-482,-275,434,-181,-1,58,-140,-283,499,-388,11,-143,14,-402,296,218,215,-58,182,294,-268,417,70,395,-100,488,49,-263,-12,-266,279,418,18,-404,154,-400,-157,-297,431,203,-121,44,122,359,189,498,390,-372,162,-403,-46,176,414,295,168,-15,64,114,-2,234,-123,318,314,19,-31,-228,243,169,407,-55,282,-140,42,-364,-332,444,-342,-93,-50,232,204,243,-360,157,262,-83,22,-472,471,401,349,145,389,-458,98,448,325,-188,90,355,-127,221,406,212,316,1,287,-104,-347,-167,284,-240,484,386,167,446,336,143,198,24,-370,344,-148,364,-183,-101,-144,6,342,408,414,-342,455,145,-356,363,108,456,-73,248,-213,247,111,-200,292,458,347,33,415,345,45,-496,51,-376,-433,-338,-338,-458,346,222,370,-462,-122,188,-378,221,10,273,6,-270,-281,1,-108,-204,-303,17,-493,-38,305,373,-166,45,39,191,-423,-470,439,-326,-491,335,271,463,322,-147,459,-273,92,-216,177,-52,-79,489,-98,-166,-141,-46,488,-448,-106,428,314,-437,135,233,158,432,-343,4,-461,296,66,-471,-317,-141,-154,423,456,374,-104,-355,-429,103,403,-120,-33,-316,63,428,216,74,-398,-321,108,42,-350,-239,-25,-405,-139,-94,216,-384,-135,-478,498,-98,-279,-215,-482,-448,-378,43,-195,238,-33,-123,233,-327,247,447,-158,283,-301,188,-88,223,295,311,-353,91,338,-156,-286,23,-271,-51,105,-229,191,494,354,57,-129,-53,438,162,-391,115,-34,-332,184,412,-227,375,100,-270,396,-260,-147,-418,387,467,0,-486,176,-474,428,397,444,-156,1,-478,302,362,33,-304,463,188,-382,-354,-147,151,151,-123,-64,344,80,-327,-308,-411,52,275,275,-254,-211,70,-237,-338,-368,-111,457,-382,371,-322,88,-71,-246,-148,417,-386,-119,-408,-173,232,251,165,-11,-253,365,-499,-231,-384,-462,-287,-89,178,480,-339,269,-85,-255,-387,126,-206,-472,215,126,367,-469,-321,-434,335,428,342,428,493,273,-500,433,-134,340,-73,-136,292,-356,-119,364,-276,-203,-348,-223,423,-454,-209,-182,-432,-182,393,44,-251,-455,356,-142,-129,438,-443,165,300,-140,-467,2,146,-307,-193,43,-109,-249,-359,-373,-113,-88,155,297,78,251,-439,223,-404,70,478,244,6,430,298,-315,-404,445,8,314,-161,309,-224,4,-460,388,10,-390,-66,2,-368,-235,-376,-116,-282,-95,7,-426,-351,-254,-83,387,-334,305,55,-397,45,-405,-75,-301,-431,210,-477,226,-394,-461,-469,-207,-462,-316,355,424,-80,78,278,-32,396,-484,298,399,8,474,376,199,65,-379,252,-257,386,465,317,-42,375,186,-345,173,340,80,51,428,365,403,45,458,282,-423,439,-439,353,48,280,6,-63,386,-218,350,497,262,395,-17,24,245,367,-219,241,-115,-8,181,119,67,67,-52,155,-24,-204,-184,82,-67,-322,172,-282,-224,-192,50,-51,220,453,320,-411,287,490,76,-458,315,417,-403,-499,-411,-462,408,380,-482,473,473,-28,-8,-26,-33,-205,366,-373,-229,-207,-14,492,-336,-146,-373,-262,269,-468,170,497,-493,-388,-450,190,-340,311,437,209,-499,109,-126,-321,42,94,189,-163,478,235,-45,265,-95,30,186,-328,231,-363,-112,-423,11,331,-349,-405,255,-313,241,137,-436,478,-85,141,-416,474,-267,-432,-446,-475,-33,-89,262,68,104,276,451,377,-168,-326,445,-489,-364,-55,342,-349,-156,-283,-34,-290,-495,379,182,314,33,447,-383,85,438,409,158,-349,57,-21,-119,64,429,194,410,453,-133,-55,180,253,-172,461,-222,-498,-286,-243,-428,-193,-45,380,227,-423,330,60,-244,54,-205,15,-59,311,65,439,470,366,365,343,199,-178,342,103,-239,-474,463,-469,23,-113,194,-371,-487,-441,392,-60,221,-364,-462,-112,-174,344,341,-495,-37,-416,-313,-469,-26,-493,-265,-178,-340,442,-41,350,-200,332,49,-325,-43,-26,-160,283,-51,-448,209,462,-155,-472,287,285,273,-263,-293,-106,-246,-87,-355,-291,-70,-493,-483,254,-414,-183,-180,19,297,195,296,384,-17,-457,-18,-445,-268,-239,-194,360,-309,192,-395,430,-274,479,345,-335,-27,450,-240,311,-361,41,344,-27,-84,190,-268,191,182,-93,383,-375,101,-457,-246,-130,383,116,356,-405,-216,-436,-386,-286,266,326,356,139,-193,418,-490,375,43,0,-491,-397,-366,170,335,158,152,-171,-426,-153,461,-287,65,-330,146,-107,-336,-29,-313,276,-63,483,30,-394,-479,-433,9,-486,-480,-120,481,-235,54,462,288,-137,412,326,-423,-458,-209,343,-344,246,-415,-466,440,-266,-280,222,-108,298,76,217,-226,-334,-256,407,452,-320,223,344,464,-7,-475,244,-145,81,43,-441,-182,-471,-178,135,-468,339,-251,456,-151,-300,423,365,489,-432,50,-184,-403,2,277,335,-166,331,288,-81,-61,255,-344,185,-408,-60,390,319,16,219,471,-469,240,-424,-64,-250,306,95,220,379,-16,-426,82,422,240,-315,298,-401,-52,306,414,491,-459,-2,363,325,188,182,-131,-258,448,162,76,466,-311,-312,-135,-404,-345,-244,166,318,-224,262,-474,461,-143,473,-12,286,456,-247,-34,242,-185,129,-131,74,-2,178,163,80,209,-311,-157,-50,287,259,176,285,-351,-295,-138,388,255,166,253,-84,20,404,416,-432,94,-190,225,-117,499,233,3,214,-411,291,362,486,281,-105,438,-106,-284,-476,315,-251,-48,439,231,133,-359,-494,-498,-177,-151,-266,-112,-344,-465,497,478,-142,-295,-326,-422,117,-110,-281,348,-352,-349,331,-17,211,-238,289,460,-450,-410,-491,117,360,463,97,-5,-467,-45,-379,-108,-13,319,-467,499,138,367,-55,19,327,-75,-473,319,-204,390,-45,368,57,362,149,251,484,-454,133,70,-479,450,-244,159,-353,353,-473,-403,244,-262,246,-95,-150,-261,-98,207,-209,-405,-471,-141,-222,-60,-253,278,310,84,43,408,94,147,227,-364,-183,-477,-6,-210,490,-249,-369,-189,-4,374,464,-485,-220,490,74,-394,-379,38,110,-263,59,-29,-12,-337,0,156,-285,-261,-26,474,-157,-315,-220,451,317,-192,292,-101,-305,-427,-326,-96,-178,490,-488,-91,140,-403,-274,473,-361,-154,292,-257,-446,375,264,373,187,-39,387,-204,-57,491,242,347,101,299,-6,324,254,-467,-78,488,-9,-96,410,21,-10,-177,93,-421,399,-325,-46,-74,145,-96,453,-313,450,473,292,-186,250,-421,432,476,198,319,75,469,95,228,222,132,323,218,466,-384,-473,-221,449,81,-48,-221,-70,-205,-434,-167,118,-346,292,139,-99,99,269,-327,454,-95,-261,29,196,-211,-73,343,-18,14,-148,-154,-417,422,-90,-129,448,-445,-493,458,239,-341,347,488,-40,442,355,-302,337,323,-408,-146,227,-287,-426,-101,129,-358,68,-285,-499,480,215,-168,-261,486,158,-438,441,333,-192,-216,99,-206,-352,109,-321,-390,71,-150,-52,26,-19,-192,-456,28,204,-135,-391,-249,426,478,496,22,-455,-284,90,-397,367,-185,365,182,204,-239,102,344,67,-3,-202,-224,250,-412,464,-226,-408,-67,-289,-357,29,-311,-365,392,-13,460,-445,-370,-26,-1,-368,-484,-39,80,-214,-448,480,-80,-146,-313,254,240,43,-136,431,-340,318,-193,-495,-211,-372,-235,43,431,356,456,50,151,-200,-329,275,458,-388,452,108,-151,-64,-140,164,311,191,-234,-406,61,286,-376,-362,-439,435,-110,147,219,408,383,140,271,-449,-101,207,-419,-185,334,411,329,460,31,-328,355,-439,33,388,-116,-181,106,480,141,-160,246,-312,-296,-478,-358,-92,-326,248,-9,116,-212,-292,-302,322,-348,-39,229,-337,-443,-341,-250,307,282,-131,489,444,122,281,-481,155,365,181,175,-475,-119,-321,-466,-350,301,131,-145,-183,474,147,-340,143,-177,491,-124,453,-148,-326,229,-95,104,-245,111,368,352,-442,-436,52,-166,90,372,-438,-54,315,-217,-45,4,182,26,361,447,-98,-38,-234,-337,-67,-279,347,-283,-112,17,-267,-400,-12,-286,-343,7,-63,476,340,41,50,370,90,4,322,-202,-272,332,-432,56,-399,352,-427,446,-420,446,-465,-270,-44,-357,-461,142,125,-81,365,347,-485,-357,-22,78,430,479,133,489,-226,-270,342,-120,-354,165,413,-195,-207,32,-204,-192,-262,-93,30,347,-321,428,-207,-470,-204,-66,213,-176,266,-164,-101,331,460,-385,-281,288,-139,-62,419,-238,36,12,4,-324,-255,476,424,-28,-115,-43,33,-500,88,-84,-76,349,-417,-214,-157,-63,301,222,34,143,46,-451,-412,210,177,6,5,429,152,305,347,461,6,18,475,104,-241,-248,-212,353,184,-343,-198,3,-49,-178,-472,-120,-59,-416,311,234,105,-224,448,-341,-219,-267,-181,448,-441,-262,-252,29,-119,162,450,-231,42,-93,318,-144,161,-429,15,163,280,381,217,258,19,-11,-192,42,422,276,-397,392,-148,96,477,-427,-333,324,-312,130,9,293,77,491,4,495,128,119,423,115,-2,-354,354,-371,-338,-114,157,-31,279,489,-447,327,-290,-489,375,-33,-113,-161,-500,233,353,-65,-409,-3,428,-246,-30,-416,239,-35,-122,-367,-361,-431,-235,186,-170,-279,-340,-78,54,331,-349,-76,75,75,-341,-226,-332,-239,-388,-24,-37,-396,-10,-162,-42,180,165,-304,445,-418,-131,226,58,-487,-479,-420,258,-35,106,124,-195,-449,-358,-342,-490,481,-240,403,-318,327,480,-402,309,-465,-386,-316,394,153,-250,-233,448,-135,334,161,93,134,-406,-118,430,201,-25,-415,-257,-440,239,-257,-24,-146,-153,-298,148,215,-291,167,-91,482,176,-102,-113,-408,96,-44,-201,-273,-236,-317,157,122,-440,384,172,-146,351,167,-21,-64,62,348,231,-10,-120,378,-37,294,49,420,387,-316,-332,448,178,159,-200,-352,75,-351,333,-48,-280,-127,-354,-432,412,-375,-166,-441,196,-200,431,-205,266,-262,73,300,-177,-191,202,343,148,-210,-467,-6,-280,37,-433,13,-18,404,-261,-155,295,133,-87,-27,-248,345,-234,-55,-356,91,470,344,237,-372,-342,-241,477,204,-206,-378,-433,-342,-223,-474,363,22,337,429,48,-363,-128,250,-116,243,-445,-9,121,81,-234,256,-241,51,-39,-463,156,-219,247,391,314,-109,-73,140,452,-102,67,323,-320,218,-275,-262,321,456,-248,-500,-358,-246,328,334,-401,-149,-205,83,275,156,462,-311,-431,498,190,70,127,-37,410,372,-423,408,-271,23,91,-277,-390,-3,-82,274,118,209,-250,-287,375,184,-302,-172,408,378,442,-162,-237,425,456,350,85,314,482,-288,365,443,131,-412,469,216,483,-251,-199,176,394,483,-77,-207,-110,-457,198,130,269,351,169,390,-452,-317,-455,20,-210,-471,-244,-293,287,-240,-173,-115,-108,-90,-204,-155,300,82,364,-237,-256,-462,-291,7,-343,-2,-270,15,470,-322,103,-100,189,389,-137,378,-458,82,-492,171,37,-82,-126,5,450,-275,492,-136,338,-239,-53,128,-399,-406,-476,-326,32,-478,-372,465,34,167,499,-271,293,-388,-16,76,-455,-462,197,-448,320,-212,465,-293,-111,-339,-52,-63,65,-63,-360,10,-164,130,108,45,319,-317,386,476,66,-395,280,-159,278,93,7,-422,467,266,352,41,-232,75,-365,-430,350,-181,76,246,440,-175,128,-41,-156,393,-82,282,199,-142,-28,246,-467,292,-497,309,-86,371,-94,-319,-142,373,108,359,359,94,493,130,176,-136,-238,-385,178,-7,-260,-274,171,-438,-123,315,-54,-466,339,-458,-96,381,-410,190,-222,-498,-53,373,-372,104,-141,-239,-300,448,-491,-150,-147,-489,-402,-204,487,344,-413,-9,-311,-140,142,-94,350,-279,245,238,-197,-471,-378,363,-18,-420,-125,139,381,-117,141,-169,-499,-320,-24,125,-180,215,497,218,375,-310,-424,-452,-464,61,282,85,417,-129,428,-429,396,442,292,92,-79,412,192,-176,-408,-26,114,-237,200,-491,-338,-181,-178,265,80,-379,-359,462,-25,111,140,-466,-302,-484,177,-227,-334,139,94,-486,177,-54,-116,263,245,173,189,217,111,171,-59,-314,136,-299,-168,-216,472,-191,198,427,234,-231,-462,103,99,-7,-377,-441,-126,-326,330,482,-55,307,-173,398,-57,-475,-59,300,393,170,448,128,359,-331,-38,197,128,-327,253,-159,-219,85,-298,-366,-242,-470,-423,-294,359,364,310,-226,223,485,228,-60,182,400,407,36,254,162,384,-110,400,-37,-344,65,170,115,-388,250,-479,-345,145,-81,212,94,-262,-452,-264,-15,447,264,-150,-476,-40,-394,-332,-265,-31,-88,-332,-325,419,-88,8,-288,357,433,-239,-260,-477,-131,208,-352,153,-60,-471,-130,168,-258,-25,-318,424,203,243,-35,72,209,-289,-44,347,112,444,-448,-408,-152,108,-394,241,-443,-22,51,358,90,-439,-394,-262,-187,-367,-296,165,475,267,-378,-407,305,440,-56,155,360,53,331,-237,-370,186,87,192,78,-91,496,-260,177,399,37,387,-160,-126,204,-372,-448,349,442,495,-32,-99,66,139,-337,346,328,-322,112,-70,-130,-394,242,163,-307,268,300,408,-396,358,343,369,126,-475,-317,81,17,-230,227,14,-409,76,260,495,-274,99,454,-476,-385,441,282,-167,252,-30,-212,359,-44,253,373,-78,223,160,420,211,-345,177,-11,235,-143,-34,-228,322,236,258,320,-255,-43,-239,122,-434,476,498,-251,-278,377,-322,-132,14,101,44,-109,-283,353,-336,-434,-251,-171,23,-81,-74,435,64,127,233,-288,-249,-96,469,147,448,250,209,-315,-54,-411,3,-33,412,424,441,-162,477,0,-376,464,79,457,-395,-161,-47,434,-298,-181,340,280,-139,430,-476,223,239,-82,-478,485,180,-157,-14,-41,-423,-78,471,33,-357,195,-304,-290,-48,279,-9,-336,-315,-473,-293,-115,152,-371,404,485,-309,-26,-142,411,-415,-246,220,135,-416,167,233,-365,-230,343,24,267,-439,-139,288,177,74,-306,-83,325,470,-300,-239,138,-373,12,-242,245,144,-436,-59,-465,-86,-368,-120,-169,-8,92,26,14,448,10,322,411,492,-284,387,-372,-185,-310,-243,-281,335,123,-376,349,-249,437,351,-456,-387,237,-110,483,452,-3,317,59,-172,-441,-407,94,-164,494,-152,254,434,150,-157,333,121,-405,484,-57,-427,363,-25,302,318,319,-271,222,478,191,487,-348,-317,336,461,-8,-247,-463,69,7,237,99,-259,56,197,393,-75,-84,-217,258,67,-437,-292,487,472,-444,-346,-54,65,-24,-94,-260,-334,416,-314,55,-395,31,378,-15,-71,87,-207,-32,174,483,-373,70,-371,-204,481,-79,198,-109,-220,-348,131,-289,-250,-75,-150,-217,-84,154,-91,-103,-166,176,-476,399,68,-23,43,-344,264,344,-370,328,71,340,-332,-357,49,-109,222,434,443,-312,388,-400,328,444,-418,-492,-159,-48,307,-267,-53,450,-231,73,180,-427,-298,208,-476,293,-467,-482,-166,138,314,-294,-237,495,8,345,404,-462,61,386,-486,285,57,-123,197,-136,-381,1,345,483,-346,-213,125,454,-373,-477,-207,-458,233,-135,101,-291,-20,-346,-454,121,414,-220,179,-41,51,-366,-138,-432,124,-461,-198,289,-177,-427,-272,-476,-301,-468,-232,354,461,147,270,240,492,32,-113,97,-406,-81,285,285,-61,183,192,107,-219,-397,-283,425,191,-433,-325,4,-96,-373,-301,-37,20,-93,-386,456,-188,-363,-454,456,333,132,385,-310,289,281,-94,295,-91,387,-99,-17,172,-279,116,-230,481,-448,421,-261,-56,-161,258,-48,-264,229,-476,-7,-443,459,152,-482,367,-474,217,-219,-500,-94,-486,470,179,471,-225,149,-17,-173,193,-268,78,295,-28,-242,467,-31,-375,-481,-358,-231,-147,137,94,418,-439,5,477,-361,-344,-264,440,398,15,22,-469,265,120,-409,236,114,-386,-215,-189,-215,-467,53,-137,333,-395,-323,-475,-159,444,-319,188,12,306,275,-223,273,27,131,-39,348,-53,3,-147,-258,170,368,-340,340,184,180,-177,164,346,463,318,188,431,383,-64,-213,-243,-52,-85,30,206,283,114,183,-333,-224,141,-372,-327,-259,11,-34,-87,120,-380,-346,-122,147,-320,136,143,33,-417,-165,-54,337,463,10,276,-44,55,135,107,-127,485,-424,-428,198,336,-442,-35,459,-24,-192,305,-453,447,291,210,268,419,-267,-94,99,71,20,-242,-98,-369,-15,-130,-358,-421,207,-466,-163,460,-72,54,174,-422,375,-72,-184,79,-330,-94,181,-304,-392,-141,389,-331,-333,220,-250,-74,335,9,-18,25,37,-462,215,273,-258,-127,104,418,307,-427,-486,-453,83,-371,-83,-302,72,243,415,283,-131,-378,109,251,-397,366,-447,-175,416,-81,-462,61,221,-314,152,87,193,36,235,-478,121,173,420,426,-29,396,-157,115,-263,-337,-250,185,459,-236,181,246,-358,-265,-12,-438,406,425,170,177,109,121,-205,-362,-433,-446,89,134,185,213,-48,120,135,244,-349,-419,-180,371,-163,93,-468,-23,410,-470,-78,-378,-148,227,-123,-397,396,177,-306,-12,-330,73,286,-116,-327,94,490,-45,338,492,-259,321,-125,-116,-74,-204,497,-205,292,-332,488,84,427,-240,-471,175,431,-452,426,-197,-244,-1,347,147,-64,277,-476,319,-159,-153,127,343,-102,349,-55,-204,280,-473,-72,259,396,-62,76,-356,-253,358,-99,199,-282,388,3,-405,49,-44,479,379,477,-333,-73,338,-26,291,298,-43,-309,230,-196,-456,-22,28,199,102,131,-72,-127,481,316,-483,242,-193,-452,274,-296,262,-137,265,206,-257,-30,-337,-328,-254,474,238,12,129,371,-121,-334,-354,9,11,-15,-127,-35,-208,316,-113,447,-383,-257,112,-1,-68,143,-156,325,284,355,331,-414,-479,-388,45,-150,-213,336,-334,83,-399,-303,114,65,280,384,112,236,58,180,394,-227,-279,-294,73,47,326,-273,-341,-470,188,42,108,236,-224,-110,-382,375,-137,342,-465,432,85,-78,-45,-316,83,-17,207,317,-439,350,-274,-33,-31,227,59,12,77,-373,289,417,-461,-424,-379,328,398,3,-332,-14,390,-423,-201,95,327,-434,90,-31,-251,446,-222,433,-375,153,121,-485,-32,314,-334,375,101,322,-217,-87,188,-357,213,-471,447,61,-156,76,153,123,-192,362,499,-185,302,143,-52,-164,104,-59,133,-116,149,-26,-272,498,-206,285,-359,310,1,-385,-64,-235,434,37,69,221,-449,-303,321,123,-155,337,-252,-343,358,458,-40,416,-317,-28,491,134,397,-54,-62,-490,123,-382,171,-303,491,187,-324,-106,52,-15,-347,84,-249,-413,-94,-323,-61,134,100,-1,-369,-88,292,32,-51,227,21,151,-223,454,-413,-22,-12,-308,125,90,-413,339,-124,98,222,-138,396,127,-458,302,263,-10,206,-187,-265,112,-24,146,82,-370,-104,-154,144,-372,-82,-40,-492,-349,-55,-250,423,155,-489,251,127,-31,65,-410,315,379,-254,5,72,356,425,351,-66,265,337,256,-334,95,86,-21,59,-495,-441,407,264,247,47,-117,319,480,341,-255,280,431,-356,277,-160,-3,-186,-269,-68,-223,-197,339,-188,-193,-433,-113,-152,62,-447,6,483,-133,-165,376,232,375,-333,92,350,350,382,142,298,246,126,-415,-268,-325,461,-265,-459,-60,-459,-293,8,-456,-144,490,475,126,-3,-30,-211,-126,-62,27,39,305,-367,332,-466,-389,-202,-413,312,116,230,310,-375,-255,440,-320,-412,-59,348,270,-122,-436,85,113,-277,445,171,43,437,-205,-486,-498,59,-465,383,446,44,44,437,310,491,257,-100,-127,385,351,-344,8,-85,231,-489,-15,-137,386,-334,-29,-484,-316,-250,149,377,-308,223,10,-218,14,-462,225,-86,-158,321,171,-342,48,-124,-229,-95,-280,187,85,-200,16,334,-457,-388,115,251,286,124,-441,-154,297,473,-363,-93,230,240,-236,-153,-358,-413,-69,84,-79,181,-27,42,-333,-122,401,-211,86,260,31,-391,-23,433,372,485,-247,411,-104,-266,-147,332,-372,-387,241,-12,-431,-322,-69,135,30,-121,-143,80,-305,-50,119,86,337,-317,-435,221,120,-11,-194,-324,-382,272,-450,-316,-38,-334,150,234,-255,164,179,-442,-317,-500,50,-23,-415,-277,-46,213,-61,411,-20,-195,-189,274,428,-215,-395,489,-38,415,168,-38,-459,-397,-280,-476,122,229,406,-303,-357,239,-454,425,312,287,95,86,347,394,312,238,255,-360,482,262,473,-451,-85,-63,-285,104,-422,119,14,-175,236,-94,-74,142,-224,-444,117,-77,49,38,-351,-119,-241,202,424,21,322,-115,-120,168,274,-376,-328,-261,-305,172,-87,81,408,102,27,-170,232,28,35,115,-357,-105,-496,-8,-173,-22,420,-36,-335,253,75,-440,349,189,346,372,-233,396,-69,-477,93,358,-488,-316,-35,40,383,-209,220,404,156,-366,33,46,-69,-71,182,421,47,-266,-257,343,-218,256,-191,355,-426,206,-295,328,64,317,-336,-56,-277,-325,-303,-466,-55,-8,300,315,158,-153,103,213,-396,349,-488,-75,-127,69,-174,386,-498,302,258,-420,-434,-29,-262,-429,-263,282,-16,-90,374,-77,486,70,-327,-255,94,480,64,390,-17,-103,405,254,117,-347,-453,-52,484,-333,481,-95,-199,312,-156,9,-417,336,-49,-174,-337,3,302,36,73,-386,483,-43,160,-40,-428,-58,67,27,-34,-203,-309,-133,167,364,350,-411,-429,-171,-404,-312,-27,-293,484,418,-254,-82,451,133,147,-335,-18,499,-116,-425,-118,85,-437,-187,332,51,127,26,-222,166,379,-485,-419,138,-247,472,-24,-346,-67,100,-340,-393,-347,-146,-192,72,345,-495,-245,129,-198,241,332,255,-234,-275,-243,68,-378,468,-409,324,395,-223,-30,177,468,342,232,282,-358,445,484,-327,98,-86,-161,-423,211,117,-58,202,54,-354,7,6,326,135,-425,-232,-472,369,185,-195,-380,-150,290,88,-316,485,-78,-414,407,-353,-8,-374,266,-284,446,470,231,-26,382,180,455,-393,-246,130,14,20,215,211,496,41,-277,-106,340,203,281,303,-439,167,-367,-452,-336,222,-433,-110,306,-482,83,193,-229,376,-448,186,237,382,-42,-447,15,-348,-329,421,166,388,13,-15,-246,-238,-226,46,43,-20,-12,348,-146,-73,63,48,-373,-162,266,148,14,287,-182,234,-425,293,-81,-293,-128,-310,-123,372,216,472,342,-46,-453,90,-469,-249,45,183,266,-491,-373,-261,-316,498,226,58,4,-250,177,304,150,115,-450,-167,-97,-327,-82,47,-493,-258,467,141,242,-497,314,201,146,-113,404,48,96,316,392,246,-419,410,-357,239,-68,-73,-329,69,481,-265,-375,-250,-117,207,250,-454,254,-66,270,268,-419,454,-482,-327,205,-388,-217,236,-417,454,-124,32,236,-457,-416,23,-274,230,112,314,305,-412,436,-123,402,184,-342,-186,429,-435,417,-283,-122,122,69,12,-390,-39,-140,335,411,-430,-241,315,134,54,-243,-35,-133,315,412,80,-254,417,-439,-471,-200,492,-434,430,484,-379,482,-423,-249,493,-206,-362,-376,134,-223,28,-422,-365,193,449,-305,-167,408,-286,392,-287,424,153,-183,402,-260,197,-130,-455,201,390,-193,489,402,453,52,-493,-2,126,-496,-272,-24,239,-109,-354,-65,84,264,-114,-418,442,7,117,286,98,-471,-81,23,-320,-168,433,218,-303,-92,209,8,-343,-295,164,-74,150,-179,-415,-379,193,-271,32,25,-474,-366,-85,-382,223,-323,-435,255,-190,140,-66,-163,-79,-424,466,-352,-318,-485,-327,297,338,-102,246,409,472,-419,374,315,-396,-73,87,74,-475,-91,-394,-44,182,329,-200,312,-63,172,424,401,288,329,-493,-245,112,-65,-275,190,-13,380,-33,33,-235,-423,-361,241,463,-465,254,-123,-2,-79,-459,-363,155,233,-125,-159,-424,297,-64,-475,-414,-335,375,-101,418,103,176,-327,-306,-497,-314,-149,-428,468,111,257,2,-411,412,-10,-159,470,-340,458,402,85,305,-370,313,281,-331,301,-241,400,-342,461,209,-156,123,86,176,5,333,-60,-39,210,-228,-74,121,-19,453,233,17,357,-375,355,264,41,-405,-138,209,-414,-268,181,221,-449,-198,70,435,-417,155,-425,105,120,246,-23,-124,320,-127,-247,68,-475,219,-464,-240,-162,-4,362,-361,-202,290,5,-32,296,196,-258,-84,-58,131,-158,-48,462,-478,-370,-299,-371,-467,220,19,-437,-175,273,241,438,-101,-465,58,221,291,288,-368,-221,-91,-198,299,-475,128,-354,-489,-381,-447,313,146,160,17,-177,-269,-105,440,440,2,294,-1,225,68,376,-36,449,368,49,-198,407,332,495,-444,-33,290,-188,344,470,-301,48,-66,-469,291,-216,268,-333,329,428,334,-378,-186,58,-37,377,177,-63,102,-28,-467,302,37,-166,-481,-263,-33,4,-64,-297,-160,113,-1,459,-276,-421,139,-18,-203,-78,-461,-494,112,-492,-244,-413,438,414,-200,-73,361,-399,-111,-370,-54,432,362,137,-313,-161,415,-221,-248,-86,157,-146,179,67,-221,284,-107,359,-470,188,189,-463,-449,161,-116,171,-407,158,-205,56,61,440,35,-208,-163,-247,357,-431,-137,470,97,80,0,-439,-457,186,-391,449,214,24,175,285,151,-240,483,-218,461,284,471,369,393,-122,-91,331,-123,-348,412,-293,-267,-288,-444,287,377,-254,379,173,77,132,41,-206,-289,193,-431,-153,-180,415,-446,-396,215,337,-302,-256,233,367,-222,-163,424,237,-299,69,-322,160,-87,-5,5,-212,-329,487,443,-70,129,378,-59,-165,-243,131,-488,179,287,451,126,-57,1,383,-187,-306,-412,-247,325,-319,-127,195,393,-498,-467,-72,-447,-79,250,202,-299,-184,81,-122,-44,-158,-34,-232,-324,-108,-33,460,294,-448,413,-473,-74,444,-124,-191,-408,114,-255,-358,352,57,-88,-101,-211,-155,-174,154,-258,230,248,-37,333,25,-13,422,-193,35,-23,150,-172,-261,117,-65,-471,415,14,176,-94,-188,-146,490,-314,33,-210,113,435,450,-88,-105,378,-441,14,11,143,354,22,39,-371,-439,466,-265,-104,-342,-305,-293,-7,201,197,-374,403,-330,-369,-191,-283,-104,111,-2,-298,343,386,497,455,-125,430,337,-194,-19,-280,-223,-31,-133,87,-329,-241,-416,-238,-382,-115,-179,-404,-98,-63,19,124,-174,442,-265,112,37,-8,124,174,263,-189,211,380,-309,490,-105,-360,61,-421,-49,-246,-62,-431,477,-75,171,-290,173,213,149,228,-12,-42,-149,115,-499,-225,-233,340,-75,-221,-266,-465,-442,297,-358,242,269,317,362,179,-3,423,325,287,-212,-233,-389,447,483,-31,460,-40,200,131,-108,-205,-416,370,-403,158,-241,-70,-332,-469,-21,438,330,35,412,-284,43,-19,-425,-161,119,274,-482,-455,-436,-191,-287,-329,-132,133,318,438,121,153,403,396,401,262,409,276,50,-306,455,130,493,-129,122,78,-239,116,-91,-284,18,-229,86,-57,-7,415,446,-478,398,-10,471,243,253,471,446,-459,276,-325,223,39,-107,-174,414,-166,-47,383,-55,223,-465,47,324,321,34,-103,-324,-351,275,-387,390,-373,395,-110,345,-88,-457,-32,-46,261,493,-216,-43,-283,18,-63,409,11,340,-395,450,-411,318,188,178,-315,-82,208,461,63,-220,498,499,-249,-415,6,187,125,-206,-32,-334,-85,-166,346,404,-80,107,84,-207,-295,-378,-210,-461,-353,-49,-85,-174,-52,-189,455,-188,-218,-264,485,-423,-342,115,-320,-156,-469,95,-12,-329,-372,-449,278,340,-77,-396,472,25,-431,-47,61,23,-360,-313,-15,-103,5,-155,171,-97,421,-52,-414,78,286,-414,-25,239,-245,-18,494,-464,60,26,-332,-199,-38,203,396,-62,254,32,-394,-160,-221,-263,-385,-445,-313,-204,305,270,-264,-3,-82,81,-329,-26,436,-33,0,-56,57,-98,379,464,-218,200,-199,70,129,291,141,-332,128,-359,473,-54,-449,-22,-197,-311,325,204,493,-477,125,-499,398,372,335,-247,-33,120,-368,-492,-39,-136,282,-103,366,-380,274,112,-21,390,-393,-48,-147,-129,-414,112,395,-386,424,-171,46,-33,-442,-196,-235,410,171,248,-92,-377,164,34,-298,-219,287,364,-246,-426,201,-31,-365,-191,-251,356,329,215,464,157,130,183,-472,157,64,188,-153,-22,-389,71,-223,-414,-253,-301,-24,21,22,-96,-289,-357,-70,306,-353,10,328,-366,-93,385,-213,-25,-372,2,-266,-417,-122,-378,83,249,277,79,77,394,270,0,374,461,-69,-132,242,-255,354,-219,-97,9,400,-64,82,272,162,-139,-54,-441,180,465,496,379,-259,210,-221,472,-384,43,111,-145,240,-442,-345,84,298,414,-444,-328,432,-313,-412,377,196,247,-144,-33,324,-499,-452,-236,450,-383,35,-138,-279,-191,-174,163,-330,-48,-126,-117,457,-86,468,-218,47,-131,-28,-150,-386,289,200,377,-468,-26,354,6,286,149,297,-170,-86,198,307,374,106,-347,-299,379,-427,449,-169,345,-184,-122,294,-145,274,-32,79,89,-83,-409,63,-80,-83,-417,-332,-231,261,-436,251,63,341,402,-316,289,-185,388,-342,185,208,-6,-187,-395,415,478,427,210,-312,343,173,-483,-271,-395,474,492,268,222,53,388,207,-415,-378,-54,112,302,420,-275,212,24,-194,-247,75,204,-83,455,47,31,-238,419,236,328,-354,265,236,458,-235,-349,-460,-168,-403,-366,-165,-210,-420,256,-401,-110,172,152,-46,107,191,-455,-227,391,-285,98,-160,-110,499,69,197,351,212,146,-157,-482,-470,259,377,402,-29,-487,239,-126,65,-311,308,-254,-378,-381,-462,28,315,50,-403,-244,-395,-435,-271,444,-303,-469,-179,268,215,472,-97,-416,350,393,-309,-334,-62,482,-360,161,158,383,57,-313,200,-104,375,-216,-391,498,151,-231,-184,-142,-290,-57,-140,99,262,376,479,257,398,-83,267,256,231,149,135,398,472,183,-14,93,-134,157,484,-447,446,378,-400,87,256,-494,304,-273,106,156,-424,494,122,-310,-350,5,-430,-249,121,-9,81,-418,-101,-277,-12,-226,161,277,14,-38,-166,-366,-404,327,-464,-475,-367,-439,-380,118,-364,-238,416,-444,-487,105,271,474,-111,-35,-282,307,-274,147,-398,-468,-234,-304,-121,-456,-139,494,93,-37,237,159,61,-118,264,9,-127,-306,-55,190,37,308,164,-189,-397,142,226,401,-255,-382,405,-150,220,-347,-447,-429,77,323,203,275,-394,336,354,179,453,-427,-295,-78,-469,472,199,-291,39,101,6,51,20,15,-230,110,-107,215,-422,349,-180,382,-171,-289,387,-485,-250,-7,460,120,192,443,-474,256,193,28,421,-493,138,292,-112,-363,-347,-336,-391,126,-411,-420,-64,465,322,165,-264,181,414,120,-105,-36,-270,-497,269,-262,413,-259,-322,114,-26,-395,286,-199,-200,-452,-271,-480,-409,-378,156,303,297,-109,-344,402,-343,109,-20,-406,14,388,-284,-410,200,465,131,-500,-414,-230,-176,-299,-229,-414,101,-378,-200,-433,27,446,-82,320,282,-145,-430,-86,296,-280,468,0,-82,-441,-6,410,-420,251,-360,-158,-437,353,241,474,270,21,87,-342,-129,300,-481,79,-296,-14,-214,466,-492,498,0,413,-393,470,-50,444,-435,156,372,300,-483,89,-373,454,-489,-178,-15,-339,403,262,-366,-240,-54,-500,33,385,-224,-463,190,326,-257,-291,-38,402,-454,124,280,120,457,445,-65,-89,71,26,33,-29,321,409,470,-379,46,495,-270,317,82,35,-447,-129,447,-232,466,-106,238,144,-276,407,342,-335,427,439,-278,177,241,9,226,140,178,293,-94,56,-279,-390,314,-287,153,5,-341,442,-163,-375,334,-255,304,320,139,174,-213,281,-453,158,-91,371,-181,98,17,-258,163,-353,426,128,16,-373,19,-256,-374,-390,63,366,206,-180,167,240,-396,363,195,396,439,439,-271,486,-438,-308,-240,-238,-476,291,-345,250,-86,-395,-128,336,-91,489,-194,335,-386,135,142,494,97,-137,452,-98,-488,36,-463,-47,-52,326,396,332,409,-479,433,-146,393,-486,-135,29,102,485,34,390,380,160,190,468,316,-362,291,-276,-268,77,-488,-140,-352,481,289,-70,-469,166,-82,-390,-6,-390,-380,454,-386,253,-154,478,81,410,-399,-165,-260,-16,388,-33,-38,247,-310,-347,335,-355,-481,450,-463,268,261,-164,-311,73,-497,-255,-484,-63,-167,377,164,390,-436,287,-301,458,-319,272,-138,400,-173,-417,-47,219,-440,-403,-447,428,-29,-238,-242,-76,-367,-223,143,279,-37,-305,18,-297,-198,-228,459,272,287,131,180,-463,126,385,-182,-259,198,-367,-293,248,354,-378,342,312,-362,146,428,180,394,276,-50,235,-172,-443,164,392,-406,-83,-325,106,-64,103,279,432,-238,-440,-471,-120,445,111,-256,-119,-248,451,18,-332,-437,19,-382,-169,-218,323,-341,-34,-149,-190,-295,216,-494,-149,-410,218,453,281,-161,-221,416,77,-282,480,-190,334,223,483,305,-100,-17,-237,-292,464,-128,-485,-393,-357,478,-480,-453,288,239,-58,277,236,195,-441,-284,275,421,-107,-490,-464,-205,5,416,-290,471,424,366,-204,481,-120,-289,273,-362,-324,200,-49,241,390,-57,-400,173,161,252,-424,479,146,-95,-268,-358,53,333,-422,-48,-334,-281,321,220,372,-22,280,101,217,72,197,-65,410,-49,60,450,405,-478,-83,110,452,-164,-358,171,-126,159,-458,43,-427,-473,255,-183,-358,65,382,52,-397,-282,183,11,23,341,-44,299,-193,70,155,-452,241,-497,-347,-377,332,124,296,-432,199,71,223,345,496,-134,-391,-368,-431,-434,341,-201,99,374,-417,-171,-422,-54,-240,84,-460,-403,408,30,450,47,-225,-255,499,-469,149,338,-471,-84,-398,-270,-415,234,226,352,223,151,-288,-394,-276,491,222,265,-88,357,-336,-138,413,-149,-351,278,-293,201,-205,-156,-254,486,-144,339,-400,479,-377,185,-488,260,-481,440,287,96,331,240,181,331,-214,130,63,250,407,65,-341,470,-409,208,406,160,239,-29,-252,394,340,345,396,258,-247,-206,100,-5,137,-325,273,58,-42,211,-386,-23,-443,157,-70,49,227,-264,355,-427,-383,271,-66,-131,-181,459,-256,72,448,-324,319,274,-181,-151,397,-348,-94,356,-68,-466,418,-259,307,-482,-309,86,250,-284,-355,403,-89,-256,482,-247,-422,270,-450,-484,55,347,407,217,-231,362,-462,-500,-173,-90,232,88,-406,-156,-446,412,-182,-427,-256,-444,-319,307,243,-482,460,-38,336,454,62,367,449,439,315,318,-325,355,-3,-150,-318,-42,461,143,440,-489,-126,-448,452,-332,-126,-230,-133,-78,495,-275,-231,186,329,-367,-122,201,-358,89,-307,488,315,-424,409,-396,-111,418,309,402,-259,-101,379,-388,42,442,239,-152,-340,414,-87,211,-497,396,-66,379,-431,308,303,-7,447,-485,-195,20,-177,-179,257,-338,-338,97,434,-498,-455,198,413,-83,-152,148,184,17,-392,21,-203,190,-299,345,-438,275,-468,347,11,-50,-75,-39,88,-123,-68,487,153,-139,343,13,-212,-345,-121,277,304,-493,450,-489,101,384,139,48,476,-58,88,75,116,-349,44,-51,219,87,213,202,-227,354,205,-495,-272,472,-441,-328,260,-280,369,41,324,452,-177,193,-395,285,24,257,-320,350,489,-481,72,-443,-83,139,5,201,-156,341,347,300,200,210,-98,259,430,498,85,434,255,467,290,495,-485,450,39,291,-253,38,151,0,200,-470,-311,493,-118,213,56,220,419,204,-378,339,29,332,280,480,-462,-143,-40,-79,-463,-1,256,-161,-201,483,345,496,25,-457,-248,-254,358,167,-326,-48,-368,-402,-341,326,-155,7,-390,53,331,-276,478,-138,66,-413,-333,339,10,304,-133,435,-174,156,125,381,-106,165,-387,-69,-233,-119,90,-181,311,1,-378,361,-75,291,173,484,186,37,-71,-86,106,354,121,-219,-20,-207,-238,-478,-471,95,171,-413,-147,321,-138,-10,-229,118,-378,223,249,-286,-485,-166,431,18,-128,-243,-492,-34,279,120,346,348,-152,435,-238,-121,244,251,-90,-43,344,-436,430,166,375,-34,-78,103,253,276,158,-92,-269,-392,145,-61,57,-498,-220,315,-315,307,-263,475,-79,-449,21,-335,-108,-431,283,324,78,177,34,373,343,-10,30,402,-393,473,-173,302,-332,64,164,61,379,146,172,-178,152,-442,482,-340,-196,-262,313,195,-340,378,422,283,126,-441,196,-214,-178,1,-473,-23,288,-68,178,372,418,-308,-439,-160,-413,-433,-119,-431,392,-434,403,283,-91,-130,-406,253,458,167,-279,-98,486,352,-171,-144,250,-293,-256,48,396,-104,291,-403,-363,314,-414,87,342,-367,-431,182,-113,-211,-273,-296,288,-187,141,-50,347,-273,89,-55,-167,-126,-38,-398,225,62,380,353,28,-499,129,122,255,117,417,-443,-382,-222,-100,463,305,328,-294,348,230,140,433,-386,344,8,369,92,-163,147,200,360,373,-477,280,-12,-66,-12,138,283,263,331,-236,-498,438,-355,-397,27,-66,293,331,-449,-190,295,312,-58,-293,272,-361,-262,48,-351,-254,488,-246,21,381,102,289,-488,394,57,109,-264,385,-216,-333,14,-453,-302,446,-482,-258,-153,104,432,-34,341,452,333,400,59,-462,-293,87,-354,385,189,-309,-302,194,-330,-47,53,32,-390,-100,-133,-244,307,335,431,161,-414,-449,-387,-26,-270,460,-497,-492,-57,120,141,-491,259,201,292,49,-149,119,82,191,-34,-161,118,-171,401,325,-226,-327,-54,482,90,-158,462,120,-450,289,-279,-44,-382,132,499,82,216,-292,370,-464,208,-133,176,-393,-296,440,443,-130,-261,-72,-65,288,-242,442,-383,137,131,472,114,-208,57,-486,-220,-32,211,-214,489,120,491,-233,-322,84,-304,246,-22,91,138,-438,-68,-418,-465,152,392,221,171,-430,270,1,-174,97,165,256,-348,-320,1,-336,-243,101,447,491,74,-75,-49,206,310,-318,-14,448,-173,426,-344,-141,35,149,-382,-382,-492,-71,8,260,-3,105,185,-373,-175,-96,-258,487,-109,-227,-53,-125,115,-141,-77,-55,-188,122,377,189,182,-73,-21,395,-15,-415,247,357,198,237,-351,166,418,102,319,-314,365,210,-217,143,-469,-234,65,183,-348,-478,483,139,-485,-41,-119,262,335,-221,66,70,-434,155,359,-346,131,164,-111,166,184,-263,387,489,92,93,463,-187,-179,140,-105,-14,173,135,-226,-440,401,-239,339,256,-358,-164,37,-140,383,-446,383,-354,-288,-251,-328,326,338,-277,-324,-234,102,-262,58,-428,428,-216,-425,143,-320,-467,-419,-317,136,-410,241,-379,115,-8,-481,459,23,-377,-10,-241,179,42,34,-386,473,267,-54,-6,332,452,-173,-465,-64,265,186,251,-264,404,476,-440,143,162,-213,491,363,323,22,-166,-445,-354,-150,227,473,283,-283,66,330,-42,190,89,67,265,206,2,176,202,113,432,-231,205,247,127,64,-90,-172,485,-280,231,-69,-274,24,-319,438,497,412,-137,-452,138,32,-109,-32,419,88,111,49,375,283,-240,411,-256,-236,-196,48,-434,473,158,239,-328,-78,-105,169,-404,-427,273,-23,-86,-200,141,-251,-334,-112,257,129,-340,378,-159,-430,388,328,15,24,463,23,281,168,143,121,-275,-144,496,338,-216,-298,-382,-27,-485,-203,9,153,-399,141,63,-296,-33,-45,323,387,-363,-36,-493,295,440,-495,186,218,-149,81,-391,190,460,-157,72,-84,-157,-393,-345,184,440,-383,265,-329,-220,-482,-169,-135,219,140,450,58,-122,362,397,370,31,-139,338,242,82,46,-438,-363,144,74,60,-326,60,-410,-164,-490,338,128,-219,-97,276,76,142,84,204,-151,-97,85,-306,-213,205,-265,-436,-48,257,-387,185,-25,-279,34,5,-147,-247,66,-267,457,-69,-220,291,-387,166,45,-33,-278,-76,414,-358,389,-462,203,18,374,467,320,154,311,-293,-161,308,-223,-126,-184,236,-222,188,-159,-173,391,491,305,224,206,68,318,333,-136,228,112,-391,32,390,396,471,-102,376,-23,-474,211,-269,-26,-5,214,122,294,-239,366,87,207,-485,473,6,-220,294,-60,117,-14,-14,-135,-166,269,-396,289,90,-116,230,-56,-426,320,99,-144,-73,-437,-374,-344,-442,103,369,-232,362,-4,409,-492,337,5,-474,459,143,-134,-496,302,327,147,-425,436,31,80,39,132,-413,-393,-495,140,-290,56,321,194,100,131,-305,-343,-391,-95,304,179,-447,-309,129,284,235,243,-429,472,-182,468,33,-43,262,-136,381,-98,-34,-446,-426,341,-241,372,-214,-247,-422,81,238,-20,-228,129,-468,444,-99,163,-41,-279,381,231,332,375,228,263,-6,-437,82,-441,-21,167,66,47,-215,296,44,-63,-147,-39,92,-424,479,15,-156,465,-443,228,476,-69,-354,121,-466,-175,-296,352,300,38,-372,-16,-170,31,-456,-216,4,-241,-448,383,-280,-187,260,-364,-439,406,-481,39,-18,146,-81,-191,20,-479,375,98,-342,-277,-143,-48,-104,-65,34,384,-96,-279,172,136,-26,363,-115,305,-348,222,396,383,-494,79,-35,-240,-104,2,-258,-486,-314,-496,480,489,445,-351,308,-163,29,248,334,-319,-70,264,-468,-236,300,342,-15,-85,-390,199,-123,-451,-361,407,4,450,-364,149,84,485,235,340,-453,213,-257,-8,-296,-105,465,-59,-278,389,-72,143,-351,-262,-180,299,183,-208,-373,354,-376,-185,27,51,-432,141,243,254,410,-418,217,-48,-213,324,49,425,315,-303,-495,174,394,-345,-437,458,-233,-58,380,148,321,-208,-170,-232,38,-424,142,-159,466,-352,373,-197,-198,140,-64,365,145,412,56,499,-343,-68,190,-286,254,413,-276,197,428,-294,141,-95,-278,-244,-120,-424,-479,352,-25,91,-320,68,-50,-153,-412,474,-277,68,-363,137,151,-288,199,-231,-324,263,-133,-84,441,253,415,351,301,-138,-123,-267,223,-127,186,66,468,-51,83,324,429,-191,-57,-43,336,-259,317,47,80,83,-122,-17,-273,-321,-148,402,-160,-496,35,289,111,303,455,435,206,456,429,404,-497,336,-110,-397,275,-433,-471,-278,373,473,493,-208,-298,297,230,496,-445,445,-419,185,278,-229,338,-259,35,-336,-130,292,209,-475,252,-44,-375,366,344,-389,139,-126,-256,6,-422,-143,184,-20,279,22,351,-407,64,170,-378,42,-438,-223,-117,378,-478,239,182,-121,-125,-60,491,-408,-207,439,-159,491,340,-22,141,-228,422,269,365,-64,327,449,219,451,-41,-21,352,296,-190,281,147,-245,-357,-161,174,319,379,-261,-329,-26,-169,-118,-393,-294,-65,325,-215,-432,247,-312,189,-292,-399,-498,399,-166,-29,468,373,165,179,367,-107,311,196,460,21,269,477,-101,-286,-289,-293,-309,-280,-239,240,-419,76,-144,-89,158,-128,-127,-229,-489,-302,103,-65,145,336,288,-64,-185,304,398,208,-141,166,-479,184,438,310,-324,-319,-496,265,412,-451,160,31,4,-467,204,249,-416,-455,-466,-209,356,36,-312,152,349,176,-334,-11,411,-31,6,101,-33,54,485,78,492,-123,86,51,-406,-256,-372,22,127,389,-13,1,-340,269,11,-7,-285,422,175,51,42,274,-51,-37,450,454,-456,-35,-373,156,487,201,-125,-424,479,96,142,131,-158,-82,-168,-143,115,246,97,125,55,162,-173,-223,-421,-147,126,-325,327,-429,75,-15,7,175,169,449,-466,281,209,-245,187,-26,-239,-446,-403,-468,-104,373,295,-153,-402,209,285,42,-379,-211,325,-359,-114,-43,-210,63,27,275,248,-251,339,-118,-168,24,417,245,242,78,-491,-336,-441,-45,-199,-83,-409,-267,-423,429,-299,6,365,352,50,244,-46,-31,432,490,-360,54,336,293,-156,234,52,477,-263,354,-59,324,221,449,-498,408,250,-367,-472,289,-143,112,314,115,-411,-151,34,-147,-194,-19,9,-358,349,-48,93,-142,417,-497,-411,-172,-194,-193,-481,320,-97,-313,-221,198,-424,175,212,-7,-271,-174,-214,476,-27,447,-438,380,-67,-329,280,-148,-258,-273,-194,428,-466,498,322,-401,95,-26,-327,11,441,-108,-131,448,90,-27,-95,-249,-309,171,-239,-429,147,-78,-108,199,-279,211,233,133,-19,-34,-371,-137,-383,-249,123,-306,182,494,186,-441,-442,197,-229,-290,-457,121,-106,200,198,-194,462,460,173,79,-64,-186,315,-154,291,-125,-102,-493,-341,-182,-388,217,-497,414,-126,-364,440,-23,-155,-177,-219,483,-480,7,-372,-207,339,-379,-158,-43,-91,300,230,299,-136,366,-133,203,149,428,-306,-48,-255,-256,-296,-386,-436,46,-371,-476,-52,-356,144,-158,260,369,-39,419,-301,-292,161,-279,-184,187,110,30,-268,478,-262,154,-263,-217,-439,-382,-218,6,336,219,-416,471,-57,-108,142,220,164,-182,44,200,-21,125,-200,-224,389,-10,-415,231,-283,-493,158,-324,-40,304,330,194,-271,-86,122,270,-369,-110,135,383,-435,-424,-7,-106,-81,462,370,461,-169,383,-85,67,-14,-376,-481,480,-174,-200,-50,261,369,-189,-287,-277,-57,258,394,-136,202,216,92,107,24,-164,-131,414,-226,276,-256,199,-70,-45,-275,251,-144,86,-180,-133,-295,346,-198,141,-209,261,-418,-51,-238,316,-309,-123,279,-30,349,-442,362,-143,367,-473,119,-342,157,-442,-376,311,211,-198,175,1,274,389,286,312,436,477,-69,180,-42,468,197,-245,-186,352,-113,-215,385,-59,440,-347,456,-236,444,-219,-344,185,86,-447,-349,158,492,-292,-374,-259,-482,-382,-278,-477,487,304,-357,368,-273,252,410,461,345,42,193,328,207,-160,-277,352,-287,-396,-181,-432,80,-223,38,55,379,-335,-368,127,45,-332,-456,-22,-213,-188,-316,366,137,-416,154,-473,-98,-168,408,420,-62,-324,315,55,-55,111,147,-374,-481,394,186,-97,-293,198,-22,-312,-125,253,-248,-191,-103,170,-472,-114,87,-24,-457,41,486,-293,-197,-210,168,-363,-263,320,292,-428,265,-284,378,-413,396,-477,-356,410,-155,-73,-366,10,471,176,-459,-351,269,-288,116,46,-413,-415,-301,410,478,-369,116,277,56,37,-124,-122,60,227,-47,-391,-384,-23,345,-130,430,-169,179,39,-15,153,185,357,158,-371,-335,80,-352,-250,253,170,223,114,-130,-276,-156,279,53,-169,-428,401,-30,-73,177,368,237,-169,258,435,233,-467,133,282,112,345,-404,29,468,-273,-162,-143,492,-336,330,-232,-265,475,-315,-289,291,97,299,287,-405,319,80,-101,-334,-62,-433,-457,-84,-144,340,301,-24,-208,-104,-251,374,66,-136,-28,130,303,487,495,-406,-490,-142,108,227,-177,42,-50,178,-214,440,-180,-283,-100,-402,215,-387,-305,427,-372,291,-128,-392,137,479,89,-155,277,392,-384,-473,51,-154,29,-297,202,-207,-312,-329,-254,309,-78,412,223,-134,224,-156,-482,333,405,-102,-143,265,323,-470,-400,147,380,350,-113,-95,-383,265,-299,125,373,-350,-104,254,-357,-282,-198,-258,48,-471,-45,-16,-75,-129,52,342,212,-185,-187,-371,288,237,285,-84,-272,-115,354,349,-210,-326,52,33,332,-412,371,158,413,62,156,43,379,-353,-127,475,-277,308,426,-191,-142,205,-322,480,-369,-118,168,155,-427,309,-75,-321,55,-436,-298,315,223,41,-296,-447,397,485,-46,303,-113,143,-238,4,-366,-413,389,-337,72,251,127,41,88,-297,309,403,181,-399,-469,-83,26,484,255,-15,-410,207,150,472,-67,415,288,-248,-62,115,85,-302,306,47,190,448,496,309,360,-274,24,-417,9,454,424,-174,-458,-476,16,230,-348,-287,372,-43,267,168,-120,-399,227,-19,452,410,-107,-481,-308,-428,-261,396,-280,234,495,-139,-117,177,181,-343,-252,323,445,286,-485,-315,-441,-284,-374,481,-129,-6,180,-28,-172,-276,222,428,-440,-75,-16,378,455,-183,-418,117,305,34,-325,99,153,291,341,39,-498,-191,-492,-111,-164,-106,119,372,338,308,461,-337,-44,-51,-65,435,-305,-89,-449,176,-432,-109,294,111,-78,-492,-35,278,459,155,261,347,70,390,-479,273,-499,-230,-292,395,430,-465,225,-462,265,-187,-384,-109,196,-382,220,-227,-456,-159,-424,-138,211,96,-413,448,-83,178,370,91,41,-368,-57,370,299,345,-492,-153,-2,-344,489,-157,93,17,207,233,-321,361,59,227,-332,-355,304,187,-449,293,-249,-386,-15,-135,215,482,-179,-361,389,102,-484,-155,257,468,206,299,402,409,-334,97,-368,-87,-8,-480,488,-396,-446,328,-140,-350,-471,479,-215,224,-184,307,-323,-422,499,78,-475,205,199,361,-13,-380,366,-293,-440,445,-429,450,465,54,-485,126,-208,178,54,307,447,-450,-383,-490,408,-316,467,214,-23,-18,386,102,390,12,351,-219,387,382,417,374,-432,-76,-115,-110,-358,160,301,469,-50,-475,-138,-325,-19,-371,-223,-271,-55,-183,-481,135,277,-353,439,-360,-38,90,49,214,259,-237,402,-53,-403,-155,478,-285,-268,-153,-119,140,27,-429,426,113,261,477,227,-320,137,315,-319,188,458,-377,407,261,22,321,265,190,-119,-46,-192,75,317,29,440,-15,40,-277,100,-195,387,438,250,177,-478,-157,-287,-225,-368,307,-93,38,394,22,-97,-330,-382,459,485,429,353,459,196,-156,-91,-247,-160,449,5,-466,-57,184,-252,33,489,-375,-283,-186,-441,147,466,-46,-451,-385,408,143,93,14,-203,-330,-226,-11,-337,75,118,3,-441,-84,489,453,-473,252,-168,-28,-109,-111,-413,-74,332,-295,469,-126,57,-113,-303,472,364,-146,166,-63,388,-295,403,-86,-52,466,339,-478,256,-69,-180,103,236,-275,470,-337,-107,-79,149,-69,10,41,267,-134,164],\"y\":[-38,-91,97,-46,76,-46,-63,-99,-52,-4,-90,54,-77,95,-32,-56,-27,71,-18,85,69,-97,27,29,78,-36,5,56,-81,-66,54,-75,51,89,31,81,-79,4,57,-84,-78,-84,87,-68,-58,-71,-84,4,71,43,45,1,96,-96,48,-24,58,-6,-34,99,-98,-78,53,-46,56,-71,46,63,-40,-23,53,-32,79,-59,53,-46,22,9,-9,-5,-21,-3,75,-90,-38,88,-2,91,-30,33,-13,76,83,-59,5,-3,22,27,57,-63,-100,-6,28,43,-50,33,92,31,-17,-24,-51,91,47,-27,85,75,95,93,-90,16,28,-6,35,-44,-89,78,10,43,-69,-39,83,40,7,-39,20,75,99,25,63,-64,-3,92,-77,-100,-35,-26,-23,-13,7,-52,-96,84,-97,2,-27,12,-29,-87,-25,-38,-58,-20,59,-54,98,4,-71,45,75,25,65,-88,89,88,60,85,-68,50,37,1,-57,-31,-3,-62,-96,65,1,-95,61,-26,-83,-92,43,57,-48,44,-65,93,48,-62,-10,40,13,19,32,19,-38,-33,-47,-91,-75,49,-66,51,-80,-51,-2,80,19,-61,30,-3,77,-2,21,-80,-94,97,59,31,-5,59,39,49,6,-59,-99,86,-15,-2,-78,70,36,-80,10,98,82,-49,42,-98,-38,55,-93,69,-79,-57,-81,-27,-62,-62,-57,37,29,3,45,42,85,-7,47,-59,70,-5,69,-78,-61,-93,-72,59,31,-24,16,-86,-33,-45,96,-49,-66,-59,-73,-83,-74,92,78,-47,49,-92,37,-88,44,-75,-37,-89,-53,47,-75,70,-57,-3,82,23,66,-81,34,32,85,31,37,33,-8,22,84,-2,98,-9,57,-48,72,32,64,38,-14,-17,17,24,50,21,-46,-51,-16,-1,13,31,-47,27,-74,-68,28,-85,-22,81,-72,-76,-18,43,-42,13,-75,94,-100,-40,18,-33,45,-51,-27,46,68,-23,3,-6,-39,-20,12,25,-17,-97,-99,72,65,90,24,-38,49,11,-76,-4,87,-93,85,-22,-73,59,22,0,-55,65,-42,70,56,-5,-80,-78,67,-99,-100,40,55,33,82,93,53,35,33,26,-42,47,95,-39,-71,-3,-11,-39,-51,-5,79,-89,70,-22,26,4,-3,-18,87,-34,-67,-94,1,66,-90,13,-84,60,-87,-15,7,-62,43,-10,-99,19,-53,8,-38,-32,-65,29,-25,-63,-44,89,54,-87,25,-74,58,-55,-29,23,-20,42,-13,-62,27,8,-44,-11,-85,-69,-46,86,68,62,-31,58,30,-87,-12,44,-68,44,-10,87,91,-71,-7,-27,-66,-72,83,-29,-55,-51,18,19,69,-60,10,-56,-96,20,-43,39,-46,5,51,-55,-40,22,34,65,-29,71,1,-93,47,-57,14,57,89,-34,-36,48,-65,1,29,-4,53,-52,-10,-13,-60,-20,-57,-52,56,86,41,52,63,-71,-58,35,93,70,-1,51,52,-74,42,-54,42,63,-79,-34,23,52,-16,51,37,11,74,-4,-100,51,91,51,-93,56,-36,2,76,24,42,98,57,77,0,-28,-66,47,-4,52,-7,47,14,-10,28,-22,-43,-1,-34,56,33,-37,98,-96,20,-71,2,96,65,72,81,13,-51,41,-74,-30,-57,32,39,-52,-90,78,17,29,-48,27,86,95,22,-4,84,-43,-29,-8,-30,28,2,67,30,46,-28,68,-70,22,-49,85,90,71,41,-66,-65,-84,-38,13,-4,-35,93,94,-16,-31,92,70,-72,-100,25,9,-6,83,-76,-74,-97,26,8,-82,15,39,-5,13,38,-35,-10,-88,-93,-41,24,-49,-78,-67,46,64,-54,50,-68,-47,-57,-70,58,43,60,-16,-60,-69,24,62,93,62,43,13,36,45,12,26,-25,-40,99,10,52,21,17,61,92,-21,75,-11,-67,-33,-48,-7,81,-22,95,-3,-43,-47,-73,-54,-47,83,97,-81,17,37,-85,-8,63,-34,36,-12,-5,24,-31,-16,17,-46,64,-20,36,35,52,-22,-92,37,40,94,9,-71,-34,52,65,89,74,76,-70,-33,47,71,-99,-20,-19,59,43,-30,31,96,76,81,62,-26,9,51,-91,-91,-18,36,99,-59,-54,-26,97,-3,83,87,29,36,-37,13,13,-21,-53,-8,89,-88,63,62,-84,-2,39,-85,2,-12,-26,11,73,-25,-23,-1,-6,33,-52,96,96,-47,-52,-90,74,-100,-14,89,12,89,11,73,82,-7,43,91,44,-35,-61,-3,-64,0,48,94,-55,73,-35,-23,2,12,-93,66,-81,80,-41,60,-72,52,-62,-28,-10,95,-15,-99,-58,81,-98,-89,12,88,19,-9,-11,69,38,-44,-87,46,-75,2,30,-100,-3,56,-98,-99,23,84,34,11,-35,5,-95,37,45,25,22,45,-88,33,37,-57,28,-15,-12,-83,91,-74,56,29,-67,-85,-53,-63,-76,53,-96,-85,-6,82,-75,-68,75,-93,86,74,89,-52,-33,-20,32,-43,-46,-82,76,54,-74,-76,91,-68,70,-70,-98,-21,-75,38,56,-86,60,-94,99,-5,-57,63,22,73,56,-73,-85,37,-69,-47,98,5,15,49,-34,88,-63,-43,-29,-43,-10,13,-80,-6,-95,-99,54,-93,-39,31,57,49,-12,87,-9,-42,-88,44,-98,-100,-29,59,-58,86,-72,-8,-60,59,24,62,-60,-75,84,8,-27,-99,40,-47,-16,17,88,72,-61,-45,95,92,-59,-54,-82,19,-55,-7,-90,-67,-44,59,31,-80,62,23,94,-5,-76,-26,-61,-28,34,-67,-49,22,-17,-78,-84,43,97,-31,93,91,-45,-4,97,-49,-46,37,-84,80,53,49,85,-75,-51,-49,74,-68,65,-62,31,30,65,33,34,90,-14,-57,-76,-6,94,12,63,-37,1,44,-6,26,-73,-57,-90,-18,-56,-64,0,-93,-24,-58,-57,-85,10,-69,1,10,-52,-14,38,49,25,-77,-56,-76,4,54,54,70,3,-4,-83,9,45,7,-1,-58,8,20,-48,81,-27,-13,-60,-94,28,-97,19,-7,60,62,-73,-88,-17,15,-10,-95,85,-50,62,-15,72,18,-73,98,45,-52,93,-81,91,54,60,-99,-16,43,-22,21,83,80,84,50,85,-1,-25,91,59,-57,-5,62,84,-99,77,18,-60,92,78,84,-68,-38,-16,-77,-30,-59,4,66,54,-99,28,64,64,69,-12,-84,-32,81,49,-77,-51,79,-31,81,-100,88,40,9,47,24,11,-73,-88,-13,44,-31,10,-11,19,-68,-10,-22,34,70,40,-68,-11,99,-26,4,9,-10,-22,-65,-99,57,-9,59,69,69,31,93,-38,97,34,-32,18,34,-55,11,77,24,68,0,1,79,41,51,69,-65,-82,-31,42,-40,94,-78,55,-90,83,48,8,-30,53,-76,6,40,19,0,-31,-82,-56,39,-54,42,-50,19,92,-13,57,25,91,94,35,-100,45,-55,-40,38,5,66,80,25,-91,-88,69,-77,-30,-43,-77,14,-46,-99,78,36,-36,-31,-4,-14,41,56,-39,-23,57,91,84,15,-15,-38,-4,35,-73,6,23,-38,45,-15,-8,-40,-70,27,1,47,-93,-98,-57,-42,44,76,56,90,-94,-26,87,-48,-92,32,-57,-26,78,-5,-79,38,92,20,8,94,20,7,6,12,-32,0,-49,2,-10,-5,-95,-64,1,-64,71,93,-33,-75,-73,13,30,0,74,54,72,12,-23,74,-71,76,-37,-88,87,73,-52,94,10,40,72,96,91,-93,31,57,9,-14,-38,-38,63,35,70,-45,93,-52,9,-99,85,-20,80,-55,-1,-79,-27,35,-100,-86,-67,86,-22,95,75,7,-47,16,-78,-6,85,45,-84,-94,61,-6,-85,-52,-48,45,80,-70,-98,-63,78,84,94,-35,33,42,11,39,0,70,-22,42,-100,-97,87,-29,-8,76,37,10,35,51,-78,-2,-94,60,96,39,-75,-7,-5,43,6,-7,-29,-33,-31,33,20,69,88,-83,26,66,15,-8,-99,16,-85,77,-77,68,63,-26,-60,7,63,5,-51,-72,58,67,-85,9,-61,-67,-20,27,50,92,-1,-14,-24,-94,38,22,-21,56,74,17,-77,71,-39,71,-36,-100,-26,-4,28,28,14,59,18,-26,-60,39,99,87,3,-25,33,47,58,-6,72,53,-31,-69,-26,57,-10,32,86,18,-16,3,-73,92,-100,-98,19,33,46,89,92,-58,-27,-12,-50,94,75,33,-60,-9,61,33,94,58,-85,72,-68,17,26,-25,-56,-96,-85,-90,-87,-29,-47,41,84,50,-42,-53,-37,78,-1,-76,-53,46,-18,-86,2,42,-81,9,62,-24,-34,66,-29,81,39,-37,68,-86,-76,-21,95,-28,58,26,-70,-3,-87,21,97,17,-96,21,53,-41,15,54,51,89,-62,41,-10,-28,3,14,-53,-49,-3,91,-72,55,87,9,87,78,38,-9,11,-16,50,65,-71,-88,-80,-34,80,-85,30,-59,-43,29,-3,-38,73,-57,-97,3,-53,-96,67,96,22,33,99,-41,35,-67,-43,6,85,-29,56,75,32,-39,-49,-99,52,-60,3,-64,-49,-17,95,-98,95,10,-36,-73,-80,55,4,42,45,0,-24,-90,-42,10,-93,-61,-98,-33,2,-44,-57,-68,-40,52,29,53,91,42,38,-42,75,-62,-87,22,-58,-58,82,68,-44,-2,97,4,28,44,25,-50,76,39,-22,8,17,19,16,-86,-69,-68,-18,-2,-28,-56,26,54,57,-5,-68,86,-90,-73,73,-98,81,72,59,24,44,-69,78,-11,12,-93,26,21,87,22,78,-86,-11,-43,-57,-58,-6,56,82,96,5,66,-40,-74,-81,7,-41,47,-65,-9,-80,96,-60,-22,42,-53,42,28,92,-77,2,20,96,-55,-49,70,-11,62,-16,-42,94,-42,-12,-13,74,91,17,96,24,-56,-68,21,-41,-78,35,-75,-23,-35,24,59,-48,30,53,-96,-34,-78,58,26,85,-25,65,86,61,-44,60,-27,-25,-12,-61,-35,-59,86,-9,-74,56,20,-28,35,82,-85,89,-77,47,-76,17,-13,-33,80,-89,-84,97,-1,-77,67,-63,62,57,-43,-97,-85,-98,31,-78,17,-87,-90,84,68,67,72,94,1,-26,56,-34,41,11,38,92,-38,-26,6,30,51,22,21,-45,77,18,37,-89,32,12,8,-68,22,0,33,82,-7,11,-52,23,-98,-49,-72,-15,-71,88,-54,45,76,-58,39,17,-66,16,-10,-81,-83,-9,-98,3,6,-3,-33,39,97,-41,44,-30,-97,66,67,-37,38,-21,-86,27,59,-4,-71,48,1,16,83,2,99,58,62,3,33,20,20,38,-47,-7,-34,85,48,-54,60,62,83,16,-60,97,-87,54,83,-32,-15,-29,-80,33,-13,-40,-19,16,-43,-28,-72,2,-79,17,29,90,81,39,8,48,63,56,-86,-53,-86,-11,17,-43,-1,25,-77,19,-33,-72,-36,17,-16,-57,-51,-46,-77,-97,-22,-46,1,57,76,68,-14,-63,-99,36,75,-11,-24,-16,11,-1,38,6,58,-86,14,-87,52,60,44,-22,-48,-76,-15,36,18,-32,-51,-89,38,10,45,39,-67,-11,67,-23,89,-34,78,0,-24,99,7,8,-95,60,-40,-59,26,18,-22,-17,-94,-63,68,42,65,56,67,-46,-24,-85,-58,83,91,11,-40,34,89,-55,6,42,-29,-91,22,-29,91,92,-50,-87,64,70,-43,36,-33,19,-9,25,63,89,90,-71,-41,30,52,-26,65,-14,-70,71,-30,48,-11,-40,98,-48,32,23,-7,-6,3,32,-17,-86,-38,18,35,-93,76,48,30,79,-8,12,81,-69,-42,74,79,32,31,52,-98,58,-46,-72,55,69,14,20,67,66,10,-78,25,-17,59,26,44,15,32,71,-69,9,17,-75,63,71,15,-36,-36,59,-77,88,4,49,-27,-76,-89,-3,-76,-93,70,93,86,-42,40,45,62,-21,-92,61,83,-80,40,-36,63,40,44,76,-66,-17,99,24,73,-80,-46,47,54,-21,34,96,-79,72,77,-4,-89,70,89,45,-83,-57,27,-96,-81,33,-50,60,-59,-17,40,39,55,87,90,-17,43,76,-12,-40,-34,-73,35,-73,-92,69,55,68,1,-8,48,54,14,-8,83,48,48,46,71,70,-90,46,27,-50,-99,66,-92,26,44,69,73,-33,-44,95,-96,98,84,-15,45,-21,-99,-73,-14,90,-79,43,88,57,16,81,-22,93,-36,-61,94,-64,-86,-58,-98,-40,63,78,-15,78,17,-94,-29,40,-92,44,19,46,-45,76,-70,33,-35,-65,-51,12,-9,61,70,3,-15,63,-85,4,79,64,36,-63,-70,-15,27,-59,8,0,-24,-37,-6,69,83,-89,-78,-52,-73,-28,31,-65,76,-56,-56,35,55,81,25,-66,65,72,57,36,-4,-31,36,-36,-11,55,90,-21,-32,-33,-9,94,-27,37,-90,-44,-3,-26,-60,-100,15,-56,55,-77,96,-89,-68,75,48,26,23,-39,-32,-79,-26,-10,-28,99,-84,67,65,-41,22,-26,-26,-97,-7,-39,-59,-30,-70,-17,-19,92,19,47,-39,10,-7,92,85,-38,-35,-30,-65,12,92,60,60,69,-10,87,-9,75,24,-24,67,-17,-36,-32,2,4,0,97,-75,95,43,-92,-8,-2,93,-61,59,53,-17,50,-25,60,89,-51,-7,21,-4,-6,-94,-77,22,-80,-13,-11,-97,89,76,-42,59,86,-76,-62,-28,14,-84,35,-34,47,71,-4,-11,-97,38,60,-99,-3,-5,-5,-65,81,70,-22,66,51,40,-96,-100,-11,2,1,-58,-45,-6,-59,-9,18,45,28,-55,-4,81,42,-84,-18,86,1,-54,50,35,-64,82,-5,9,52,-9,-26,-61,-84,-44,-47,56,4,66,97,-98,-59,-68,89,-42,-13,-5,-84,-22,-46,-84,69,-10,51,16,72,96,-9,14,-71,-86,43,13,48,-6,-79,66,90,13,85,13,-17,51,-27,-32,-15,23,-71,-33,83,-74,36,-50,88,32,47,81,-74,-53,-38,-41,96,74,56,28,51,-5,45,-8,70,-86,2,-49,-66,9,10,-54,-95,88,-47,89,51,-78,-43,23,11,-92,-69,-69,-44,-63,2,4,63,-60,57,-89,55,46,8,91,-98,-82,50,40,-95,3,-81,40,-76,-48,-47,-97,61,-66,-77,-40,8,28,-72,-30,95,23,19,-31,18,-91,41,-39,50,33,2,12,-29,-83,65,-94,-72,10,85,14,-23,82,13,40,-61,-52,-22,-20,87,-72,-83,0,-37,-93,-53,46,-48,57,-88,-73,87,-100,-93,30,-28,85,22,20,-54,36,-19,-64,99,14,85,-48,-63,-29,-28,-33,-2,-42,25,-65,86,-54,-100,-99,69,-79,8,-81,17,-64,-46,-52,99,-37,45,-79,8,-76,-93,93,-85,68,33,-85,-91,-8,-93,34,78,-11,44,-36,-58,42,-58,-57,68,-13,-14,-50,15,-74,38,23,-67,15,-34,67,64,74,-47,-38,67,-7,65,-99,64,0,19,-12,76,47,-68,-17,2,28,-81,82,23,56,77,63,30,4,90,97,35,29,-87,-68,76,13,52,32,39,-97,-19,71,58,-23,61,71,41,67,-90,76,-16,89,9,-77,39,24,-77,-88,-28,34,77,-3,-84,-27,92,53,87,74,-58,46,99,-49,-75,-54,20,-1,32,-58,-80,-65,-22,28,-32,-81,48,-100,36,0,99,-22,64,78,87,36,-39,35,-13,-74,-24,0,11,-80,30,-97,57,44,44,33,76,-30,-57,34,16,-47,81,-42,-99,3,27,-37,10,-72,-36,-14,43,-42,-43,51,29,76,-27,20,-87,-29,-86,-63,-30,-9,99,60,36,31,-95,75,-35,-70,-57,-28,-8,54,-76,58,0,-23,78,-58,-7,10,-99,26,51,-90,-89,-94,31,47,-31,-39,73,-69,38,-100,-67,-48,42,92,-14,-3,96,-48,-74,-79,76,82,19,20,-33,-24,71,60,73,88,60,-76,-56,-52,-81,-11,12,-17,-76,-11,76,7,-2,-91,11,-71,37,0,-59,19,-12,-54,-34,-24,-27,-24,-2,-60,-60,26,-92,72,-100,-87,-50,-54,-82,41,61,-18,-64,-8,-64,-31,20,63,91,58,22,28,-93,-32,27,-64,26,67,-84,66,60,-43,88,-71,78,-47,18,10,-19,-95,56,-31,-16,89,61,-8,-60,-56,85,37,-99,20,-77,-49,92,66,-64,48,-91,-57,-32,-81,85,3,-15,-71,-66,-70,41,-68,-45,68,93,-33,60,-90,-13,-34,-36,-46,-19,33,31,0,-20,99,65,50,-46,-47,-67,-14,-60,87,-60,62,-41,78,-98,-89,53,10,21,-60,66,-58,83,-41,-84,60,55,69,-17,-61,64,97,-41,61,-5,-84,96,-92,-66,-88,-62,64,-67,-8,-48,4,58,-95,15,-28,-34,6,-35,55,99,-75,-44,-75,64,46,-74,-44,-44,-73,13,-19,55,-22,-99,61,2,-84,57,-92,74,4,43,-99,28,-82,17,98,-13,55,94,51,-78,81,-68,-79,70,-42,-65,57,-15,-9,-96,35,95,-71,80,-75,-100,-8,64,-1,-64,-13,18,12,0,22,46,68,56,56,15,79,35,-98,20,71,24,54,-51,57,-46,60,95,69,22,65,1,25,-76,84,0,-63,-8,22,96,-98,-28,19,-57,81,57,56,-32,87,-51,9,-33,-80,52,-78,14,28,34,30,-82,1,53,43,59,-38,46,-39,-46,-12,56,-38,-97,1,19,3,58,-99,-39,64,13,56,-28,51,84,39,-62,11,92,-24,66,-13,30,-16,20,68,16,10,6,23,-72,49,-63,91,-61,-12,58,-30,45,-67,65,50,38,-90,24,-80,-34,-56,-97,64,26,-79,70,-33,-37,-58,95,21,44,-7,-70,-56,-25,-21,-58,-22,30,-62,-81,63,21,20,40,-5,-92,-91,25,34,-44,90,11,-92,46,-6,31,-32,3,35,85,38,52,69,21,-44,32,-63,46,45,-35,-76,-21,31,65,91,2,-60,-87,-62,-66,11,-56,-52,34,-72,-90,-74,72,27,1,-14,85,96,34,96,-19,-11,76,7,-55,-35,81,20,-8,-82,12,53,-94,-21,-94,-97,-43,59,53,1,87,37,40,-52,-96,74,-67,65,38,-37,-4,-78,25,-79,52,-19,34,-45,98,40,86,-91,93,-98,71,-96,33,78,-47,69,42,78,-22,-28,-68,-48,-16,-95,-11,-74,-89,-58,15,-85,24,54,-20,79,57,-70,-72,86,-68,31,60,66,2,18,20,-73,95,57,85,82,94,-45,79,-75,3,37,81,-15,10,21,-87,8,-23,-30,-87,23,-33,-42,-27,17,43,-38,46,-80,93,26,-93,-47,8,19,36,-68,-12,-50,-60,64,70,1,-97,64,86,76,-3,-67,96,-23,55,67,-79,57,70,-51,33,97,46,-2,49,24,24,81,60,-59,-4,0,-73,-73,-4,49,49,5,72,35,-98,-55,82,93,87,-49,83,-88,-24,66,40,-90,39,74,84,90,-31,-22,46,45,26,83,-36,-43,-13,2,26,-42,11,-52,-79,-24,-9,-57,70,15,49,-10,-35,13,33,1,-25,43,-95,-18,16,55,66,-42,-94,-85,94,38,13,-10,48,-76,-21,19,-24,-19,-88,81,48,-66,5,-97,89,89,27,-41,-56,23,63,91,-37,-13,-18,-91,59,68,98,42,-17,43,51,53,0,-15,-69,-88,-96,31,-56,58,93,49,-65,92,10,-91,-19,21,-20,70,-88,84,-25,42,1,97,-80,-8,-90,-93,58,75,61,-97,17,-97,21,82,-16,-62,92,-49,-35,82,47,-98,13,-2,81,91,-61,-54,68,-42,37,-95,43,-28,43,-79,61,40,-47,76,-57,61,-67,47,11,61,70,27,-23,-90,-80,-39,69,10,42,53,-40,-83,28,-29,66,-21,-100,80,-99,-77,44,47,82,31,9,99,-14,71,-59,42,-10,-90,22,-14,-72,-74,-2,-5,-36,-62,-57,-33,-8,46,-12,5,64,-62,-14,77,3,8,-96,-1,-9,-64,75,68,92,-25,-50,-81,-32,64,79,-90,-49,-8,15,-16,41,14,-75,47,0,14,7,-88,-90,41,23,1,10,-22,-74,92,16,23,-3,-50,57,-39,27,-56,17,44,24,84,-50,58,34,-86,90,3,0,-29,-13,98,6,54,58,78,-99,6,20,7,-62,-30,94,17,-1,22,84,53,51,-27,35,-38,-35,97,-11,-53,20,94,85,14,36,-83,-59,-32,1,-85,-80,30,63,49,75,76,-18,0,-3,-56,0,-38,78,-72,-29,39,-60,14,-11,80,-60,-61,12,27,-13,-27,-45,51,-35,67,-70,86,-17,-87,-20,-88,-38,-93,65,-75,-17,-28,77,-42,98,-34,-10,-60,-7,64,-53,21,45,-35,71,-18,88,-50,52,42,-78,-72,73,-64,10,-22,-72,-54,43,-30,-63,-70,-89,-80,-1,-10,-15,72,-97,6,23,58,90,-24,71,18,-30,-14,-84,24,30,-46,-77,29,50,-90,60,42,-67,14,-25,-34,-64,-64,54,86,81,-61,61,54,-35,57,58,-63,0,30,-77,-77,14,-46,-36,-63,-54,-25,-91,-92,96,-14,80,86,-52,42,35,33,63,-59,-53,91,-13,-97,98,68,-59,69,17,-82,60,-73,-65,88,-33,39,22,-57,40,-37,48,-8,90,98,-87,-82,-76,35,40,56,84,-69,80,22,-19,61,-29,50,-20,93,-35,99,59,-70,-2,2,-76,42,8,19,27,74,-41,-2,-69,-47,-56,-6,-58,-16,58,75,-30,97,-83,82,-49,57,38,-17,55,68,-41,-45,-21,-71,59,-72,89,-43,-78,-56,-9,-13,4,-22,-58,-57,-21,89,25,-53,-43,61,-64,3,77,-35,-89,-54,-53,-33,25,76,-100,36,-58,-31,-36,-64,23,90,-48,-32,-24,-90,-9,-54,-63,-65,-9,22,-36,62,-53,-39,24,9,17,-73,21,7,-100,21,17,97,-32,-59,57,-59,90,64,-42,80,-60,54,-26,-38,39,69,-100,-39,-31,27,-1,-94,58,-46,-61,-2,74,-23,65,-52,19,54,-97,-53,-13,28,98,73,-97,-100,-46,32,16,-55,12,74,-28,-54,-7,-97,10,-3,50,74,20,-85,67,-43,-29,95,-48,-49,45,95,8,47,-44,62,33,60,62,-19,18,-28,-82,-87,33,-95,-71,60,-70,-35,-44,-28,-88,62,-85,20,36,52,-19,49,40,-74,99,-92,86,30,-84,23,-31,46,95,-87,-27,-78,99,51,-75,-97,29,8,81,15,-90,-79,45,-13,-31,-35,66,44,-90,1,46,-54,56,82,-7,19,-22,72,-36,54,-25,-82,20,44,2,-60,-18,-46,8,-49,32,-14,59,-86,21,23,28,-5,-57,-40,98,42,-66,36,-72,64,24,2,33,-71,39,42,84,47,-98,-4,3,82,-41,-71,34,3,13,29,73,70,-96,-45,56,-31,-45,-80,-15,-59,21,63,-24,10,-68,-96,-60,54,-70,-20,68,-36,35,80,-35,82,-19,-47,-31,87,86,-40,25,-11,-92,-19,-76,84,58,87,-24,27,-91,-19,-56,-45,-33,18,88,15,-64,-10,-76,-85,68,-12,-77,7,36,-9,49,-4,-30,-62,-80,12,59,23,59,-38,-68,95,-15,-67,-31,45,-16,-26,73,34,-71,-52,-40,47,22,-91,-4,-46,90,54,-57,23,36,93,-16,-18,-55,49,-41,97,-88,-83,11,-2,35,15,-38,-55,44,-6,15,-72,62,-54,82,-7,44,4,-48,-64,-83,-30,-56,71,-39,-6,20,65,54,24,87,21,-53,-65,17,-13,24,88,86,75,-4,62,52,50,-7,50,32,-78,-86,-85,8,80,20,26,-99,-65,47,-65,87,-20,-3,-91,-25,-43,-76,65,54,-16,-46,70,54,-17,-34,-52,88,25,40,-13,-78,64,-91,-39,76,-4,-18,53,33,-22,-64,42,21,9,22,-6,74,18,-18,45,98,-33,-65,-27,-88,96,18,92,-64,82,89,86,93,96,-9,-19,62,15,3,-96,66,64,-13,23,-74,48,39,96,67,84,51,79,97,-75,-95,-96,34,-17,29,-19,-53,-76,29,94,-79,99,-98,-46,-97,-78,86,-72,81,15,-43,-66,-37,42,41,48,46,59,52,-36,31,16,-20,12,97,-96,-21,-43,-99,74,-45,-88,68,-13,69,-4,-42,67,-45,-54,95,88,57,-56,75,-37,-20,-6,56,69,-81,80,20,-64,-54,-28,-4,89,26,13,83,50,38,35,14,-42,48,1,97,75,97,-93,-29,-98,53,33,3,-78,93,-51,87,-60,-40,65,-82,88,39,17,68,48,-22,30,83,-11,-64,40,-75,-37,-96,-6,-46,34,-67,39,70,39,-46,-8,72,86,-80,3,-50,-66,-29,31,-33,-22,45,90,-84,-14,27,82,-36,21,-78,61,-49,40,-75,30,3,77,22,23,-30,50,-58,50,27,-80,91,-25,57,-82,50,-81,-16,34,39,97,-99,14,-18,-52,32,-96,-17,-17,-65,-24,-94,13,-91,-43,31,-64,-61,-69,-58,10,90,-70,85,-35,28,-99,80,32,34,-56,94,32,-53,75,75,-64,-75,8,-81,-62,-25,29,83,95,45,46,-14,-98,-38,-10,37,-3,77,73,-93,-10,-33,-51,33,-16,-54,-19,-92,-15,91,-6,-47,-56,53,68,-93,-38,93,42,83,65,94,-57,-36,45,-29,46,22,-63,-9,-8,46,-70,87,62,19,14,-26,-36,-13,75,17,73,79,-17,34,76,81,52,18,44,-87,-86,87,-8,10,-79,-83,21,-83,58,70,-72,33,-18,20,0,-80,63,-20,38,25,-65,44,62,-27,-47,99,76,-45,-80,25,-22,-95,19,-63,2,-88,67,55,-51,-67,82,-50,-52,24,-39,4,-96,83,90,-44,-40,-62,-29,97,-88,55,46,81,62,-8,-18,-6,71,-6,-64,-17,63,34,-14,58,-90,-70,1,-45,20,64,-45,-39,47,78,4,73,-25,84,12,-69,87,-25,-70,-11,-20,69,-23,31,55,34,24,-91,94,-33,-18,-26,63,11,-44,-56,-41,99,36,-23,62,99,-28,-19,-66,-39,93,23,83,37,-1,-41,29,-53,-43,-98,-81,53,81,-89,36,-71,-58,69,-47,-75,55,66,-59,-53,-63,83,65,-31,78,-40,-78,-11,-46,-95,-18,-17,-66,87,64,-75,-69,44,68,83,-18,20,-62,0,39,88,-88,-42,33,-74,7,47,-65,-59,41,-37,26,98,-35,-49,28,-45,56,-2,17,58,-18,42,-24,62,95,5,72,14,43,87,83,53,-76,-17,5,-5,-58,-53,78,-27,14,95,-63,47,55,-11,85,20,-20,31,-100,-13,42,99,-17,72,85,-27,53,-71,-37,20,-21,-45,23,21,37,-86,-44,99,-20,99,23,-63,-81,47,59,88,-58,-18,22,95,5,-69,-3,43,-79,-40,-31,81,-40,-39,62,-71,56,44,-96,-54,-9,30,-11,-72,45,-70,17,-95,-16,14,-2,-81,-2,88,-12,-19,7,13,32,-50,99,61,-93,98,25,-44,-53,-50,-40,53,65,-71,-18,83,-88,-47,-58,-71,-27,19,88,15,-32,66,-62,97,60,-21,14,10,-64,9,30,73,36,33,68,5,1,17,-56,45,-100,-36,-14,74,11,-75,69,23,80,60,-20,22,85,-36,-35,-85,92,86,-97,-16,-16,80,-46,9,81,-19,-10,82,-51,38,-41,-2,-96,23,-43,45,79,41,-99,-52,47,73,4,43,58,84,-30,92,-34,33,-76,40,6,26,-25,-52,52,-60,28,27,-14,28,74,50,17,-49,-40,51,77,31,79,89,6,72,-43,-88,59,-17,70,24,46,-57,88,54,71,2,-31,9,61,44,-90,66,60,-22,-16,11,63,40,31,47,59,73,-27,-10,-29,-88,-7,-4,-70,58,2,10,6,-46,-61,32,-69,86,-52,-76,-100,-74,38,2,-2,49,-27,-71,-52,25,51,1,-88,-3,-42,-51,22,48,8,-97,9,34,-56,-63,70,61,-28,-83,-12,66,6,-71,-16,22,0,-32,94,22,-86,68,-77,11,-42,50,-18,79,92,-48,-84,-58,-43,78,50,-53,-64,-100,-87,83,-81,85,33,22,11,-26,-37,43,-2,-22,-83,43,58,14,-5,29,-39,-77,61,-61,36,8,-15,-2,99,0,62,79,24,-19,-53,-8,-14,56,95,64,46,37,-75,74,10,64,-91,-32,39,26,-38,-78,26,42,1,-49,-56,-45,-86,-91,-21,92,-78,48,-61,97,52,-97,97,51,31,91,-62,19,-49,6,-4,3,84,3,36,56,13,-1,7,29,61,50,5,2,-30,70,-23,-19,31,77,-93,36,60,23,93,33,71,-37,77,41,50,-52,-20,11,-4,12,97,-85,-96,-24,-32,-15,-26,-69,78,-91,-69,91,84,55,-61,-2,11,98,89,-11,81,-1,-32,-33,-55,-87,14,25,87,23,-44,89,-46,92,13,7,-3,2,-97,-58,-90,21,-87,-51,72,-46,-23,-66,-20,-93,-96,-70,83,-59,-61,36,37,15,-72,-8,-85,28,60,17,-59,-62,77,93,-44,-39,20,18,-62,61,-93,-5,-86,52,-30,-71,97,-40,-88,-29,22,8,-67,-19,6,-97,87,9,-24,82,65,-47,58,-100,-33,-87,-6,-69,3,-7,-11,-87,28,82,85,52,72,-22,53,86,65,93,6,81,-22,94,-44,31,-99,-48,-52,55,-78,51,-33,55,51,-63,76,-94,9,31,-93,7,-46,-22,11,-80,-43,-33,-45,-42,73,-16,-51,-45,-15,55,-8,-28,74,-53,-58,-19,57,86,-55,-18,-6,-36,-44,24,72,93,-66,-82,-79,68,53,98,31,-38,79,-78,-98,-75,74,-70,3,-78,-11,30,43,-75,48,-19,36,81,61,-59,84,50,-7,-6,-82,77,-67,32,54,-84,6,86,-84,4,36,62,-96,70,-97,-30,-50,-57,-26,-26,-60,-70,-45,-40,-41,-71,55,11,-92,75,38,-11,-42,-68,-97,10,-47,-96,-11,20,45,86,94,-55,81,59,28,-9,-50,52,23,79,-4,-15,8,-29,59,43,-32,65,59,-99,-99,91,-84,93,82,96,17,-81,-24,33,25,5,-87,66,51,9,19,49,-77,-64,-28,71,35,59,-49,79,-8,31,6,-61,-32,-29,37,51,49,84,56,10,1,39,-81,-31,-31,79,-22,1,-16,-64,-32,45,-99,-62,95,9,40,36,-15,-37,-61,-52,-41,2,-3,86,85,-91,96,-55,-53,92,0,41,74,-41,94,26,-79,-24,-68,51,62,73,-57,58,-17,-75,49,-63,80,6,12,11,-38,20,-43,-14,-82,27,63,16,26,15,89,78,-78,-61,37,-57,-87,-6,94,-23,-1,-3,-100,20,-92,-94,79,-95,-20,2,-72,-30,-62,80,-78,10,29,30,39,50,13,19,-61,16,49,-44,-43,-79,-96,37,-90,-83,-16,84,-65,28,71,-58,47,2,-12,-25,-49,83,-63,-13,71,17,85,-75,61,-71,18,20,66,-54,-51,45,-88,45,-52,28,29,85,-3,-3,37,25,-10,0,38,-20,19,-49,51,-79,45,47,-30,-45,92,-40,36,-24,-33,95,-59,59,-85,50,-58,-50,85,29,-51,80,-13,-96,19,-2,-100,72,87,4,76,23,80,-62,3,52,48,58,-4,44,44,-57,55,-51,-95,-85,13,-7,-47,45,91,49,-48,-13,60,-28,24,-85,47,-25,84,-35,-92,-28,97,-82,-54,82,-86,99,86,70,16,23,-39,-50,33,95,-37,25,16,-62,84,51,75,24,94,76,3,50,59,93,32,23,-51,-47,67,-64,-27,-73,44,60,-54,-9,28,18,-31,81,66,19,-6,-63,-14,90,-31,-49,56,-77,63,98,-73,51,45,26,44,-92,16,4,-63,38,21,53,22,-59,65,28,22,-89,35,74,22,16,-34,53,43,-43,51,-7,-98,60,-28,-1,66,-47,-13,29,-71,86,20,28,-8,-51,58,52,66,17,30,39,86,-9,-41,-47,-47,96,99,-32,1,44,-30,-6,2,-31,-46,77,5,-43,93,-58,-97,22,62,-77,-48,87,83,34,79,77,-63,-37,4,88,4,52,-73,-84,-99,-91,3,-88,97,-61,-14,40,76,-18,-5,74,92,71,-44,62,60,53,37,-94,95,20,-16,-48,-76,14,67,-53,31,-30,97,-66,21,4,-27,82,-68,61,38,-53,30,5,-42,-19,-95,-43,21,67,76,-40,-55,11,61,97,-92,-45,-14,94,68,76,-85,-76,-43,-91,48,15,16,-22,2,20,6,76,-48,26,-46,88,57,-86,-4,3,55,14,-33,-66,38,-12,-3,75,48,97,45,-92,-44,95,-83,55,9,63,-44,-85,79,20,47,48,-82,-92,-88,45,8,48,2,68,-90,49,58,-62,32,95,68,58,-87,21,-98,-8,77,30,-40,-16,-79,-24,7,67,52,-57,-80,18,65,-37,41,-40,-73,-75,28,-2,7,66,-41,-27,-94,-34,37,19,-92,57,-76,-17,-56,51,-48,91,-69,-46,62,-9,73,56,80,22,-6,-81,52,-69,-25,92,82,19,-5,-12,54,-28,-96,-52,-17,-11,26,-27,-51,13,90,-56,-57,27,56,-20,-84,-69,-64,-82,70,76,90,-11,22,-85,-46,76,73,-56,-5,-45,-83,-51,47,-3,72,-6,96,52,60,-62,78,19,67,-30,90,-63,69,-95,98,-26,-55,13,-17,-78,33,-93,-48,-25,-59,-80,93,-49,99,-70,-41,-86,98,-71,-66,-65,-80,-48,53,-95,-47,39,-93,-51,40,17,-19,99,51,-58,-62,-68,51,-38,59,86,62,95,-92,-82,94,-22,97,21,20,-48,8,-14,-94,-7,69,-36,-4,-6,-50,-59,-9,26,-32,-2,-72,-42,93,7,-66,63,28,-8,43,-4,-46,-50,84,-63,-40,-11,27,-95,-40,-83,-67,66,37,21,46,-74,-40,-4,8,-88,-11,28,92,12,67,98,90,48,41,4,45,-50,87,66,-6,35,55,-74,19,93,7,70,-10,-16,62,-19,-65,40,66,-22,13,65,-20,-96,-5,-9,9,22,-44,59,-88,37,7,58,8,-22,-54,-1,56,-25,76,74,11,-7,-27,-5,46,-20,75,-37,-45,95,-5,16,28,25,30,47,-16,-93,-1,-23,59,-66,66,82,68,-58,7,86,11,14,-14,-84,95,34,32,86,-32,67,57,49,-73,-16,30,79,-53,-43,-92,15,2,29,-59,50,-60,57,98,62,80,12,33,55,-81,-30,82,-77,-83,-51,47,-24,87,33,70,58,9,-28,99,34,-33,80,-70,-54,-59,-89,43,44,-80,37,-81,82,-80,88,-2,-21,-5,-42,-91,-49,41,-91,-31,-9,-96,33,-85,-22,-57,20,81,12,-96,-47,-49,90,-8,46,53,-43,-76,-93,66,-4,-24,79,37,74,20,-46,17,-69,25,79,-1,91,-8,-59,-31,46,-45,-13,18,-79,-11,65,10,-77,-79,67,-95,-35,-53,5,-35,-75,-60,83,-20,-25,-63,25,-92,-51,41,6,6,-55,-61,-58,39,37,-25,-21,47,-57,-34,66,63,-58,27,73,14,26,45,87,-12,46,-53,17,31,45,67,87,-89,-22,-75,-81,-50,25,-50,12,45,-53,-36,86,-91,-86,-29,-62,-80,-12,-95,45,73,-27,-57,16,-78,91,-30,-75,-36,45,80,68,-6,-42,-83,-40,62,-44,-93,-58,-66,-74,-98,-44,75,-95,-7,36,-36,29,-63,41,40,2,-42,71,94,-68,43,97,81,-70,66,-73,-83,-4,25,-58,54,-61,-85,-18,15,-26,75,-95,85,86,30,-80,-88,-4,97,41,88,93,-53,-48,24,59,-55,34,-10,-52,95,-43,-51,37,-77,-4,-38,-38,46,26,-56,42,95,5,47,-25,-51,76,-20,75,-74,-30,64,19,-87,83,-46,51,-49,-7,-4,-36,60,97,47,64,-53,-75,49,-80,-42,15,-28,-63,-91,-79,-4,-15,-64,95,66,84,59,-4,8,-10,-27,-60,-38,-16,-79,-96,-38,-7,-54,-5,-76,-18,-25,-38,-10,90,16,-96,80,64,-70,39,-69,40,36,51,53,65,-94,-69,-7,2,39,-85,-4,-37,-81,55,78,-83,-16,11,-14,-23,-40,-78,95,5,-71,-93,23,77,-53,-52,-16,-74,-42,73,42,-72,-95,16,83,-31,-34,59,75,-42,-34,92,45,40,-1,34,46,-23,50,39,-47,-57,-59,-76,7,99,-74,-17,63,50,6,-35,-5,-29,52,35,-10,-46,-10,64,64,-28,42,13,-60,-80,-93,-33,89,-11,68,53,24,-29,-1,-73,-23,-35,63,6,-45,89,12,80,8,-67,-2,54,-35,-46,94,89,-32,64,29,31,-12,-83,-5,-13,-78,-74,38,-12,5,-38,33,54,39,-23,-35,39,-5,34,-37,46,37,-66,63,67,-31,-66,65,-89,90,23,22,98,8,-67,60,51,11,70,90,41,4,62,-83,-89,-41,-21,-57,38,28,-20,-41,13,3,1,57,-70,39,5,-20,67,80,-96,-31,49,-19,16,-57,-4,-60,41,62,84,28,-48,-61,-33,81,82,49,-34,16,52,-39,-27,-86,-14,15,-45,47,68,-88,42,59,57,72,30,60,92,-41,-27,-100,3,-8,18,28,-94,80,86,3,65,-15,-57,42,-10,96,-90,38,74,37,18,-13,41,94,68,-60,66,59,94,-12,27,5,-33,-87,-88,71,-34,26,-88,21,-35,-34,56,87,85,-79,-1,11,81,41,-73,-78,-45,49,-83,53,23,38,15,-72,-1,-90,-16,3,79,57,-96,1,-28,77,-97,49,33,-35,-4,-78,53,-48,93,-63,72,-69,5,-17,94,-53,-10,11,48,62,37,55,-14,11,0,-41,-59,34,-88,-73,-74,22,-97,-99,38,46,75,39,71,-51,78,-34,-43,-35,67,88,-84,-33,-86,64,-60,-77,-28,-58,-42,-18,-57,54,-48,1,-78,-83,-93,-89,31,3,-62,45,70,-21,2,-58,-88,74,-100,-79,-22,72,68,34,-5,49,-78,-49,-82,91,-77,85,51,52,-41,-41,-5,-72,83,2,-82,-26,-70,-3,-99,25,23,7,32,95,82,-40,33,-33,78,59,48,-62,37,69,98,30,65,-24,43,-86,-81,-16,-52,-70,23,-30,-40,74,-25,73,-76,57,21,14,-12,-4,37,-11,-55,5,12,-6,28,-10,-94,-4,85,-78,64,63,76,3,36,-94,-88,-13,86,-17,46,-9,-90,16,-58,66,-65,-75,48,-66,-74,97,-70,-32,-50,10,-11,28,43,17,-55,67,15,-51,40,88,-76,-88,34,74,9,44,77,-5,-25,36,13,21,19,74,-95,20,77,98,-70,30,-56,-44,-84,61,-95,-22,43,-7,68,22,-11,60,-45,31,99,-24,-98,-49,27,-18,-7,-88,-21,-21,92,35,20,90,53,-18,73,62,-36,8,37,-36,-87,-6,25,91,-73,67,-72,-48,-99,-78,43,-86,31,48,-70,15,33,57,27,1,-27,4,12,-89,46,76,-35,28,96,-29,-63,-23,-35,-32,-8,-24,-96,-65,82,-2,-96,-7,-25,-73,72,-43,44,-95,-77,-99,29,59,-24,-37,-53,-24,0,60,-60,-2,-55,-70,-31,-6,2,20,56,-33,48,49,-35,-58,92,62,94,-6,-88,-65,80,94,-85,-62,37,-83,85,43,-92,38,-51,-24,0,22,-37,82,85,72,73,-38,95,44,9,13,66,-48,46,-43,-18,-95,92,-90,6,-5,-31,-44,27,59,60,-64,22,76,-11,-66,21,69,96,-11,-30,-18,-65,41,-15,-46,-7,26,-72,18,61,-51,-61,57,-48,-5,84,-92,53,-29,-21,47,50,-96,-81,15,-63,-54,19,14,-85,-67,19,3,47,66,-70,-97,91,7,-33,45,22,58,-47,-61,33,29,10,58,41,-8,-42,-14,36,92,47,-21,86,-38,40,61,-94,-60,26,-100,-2,-97,-26,67,-22,32,-37,65,15,-62,22,43,-4,-1,-37,99,14,20,74,-21,-44,96,-63,-17,-7,21,-70,-52,71,67,-49,37,-50,-28,-68,12,-7,-80,93,-46,-10,-63,-40,-76,28,-33,13,-34,-7,-70,31,-78,67,38,-100,38,-64,29,90,92,4,-82,25,-61,-69,-75,84,-7,-17,95,69,55,89,-72,89,96,2,75,-17,68,-84,20,-23,25,-1,-48,6,2,-88,-38,-85,51,-21,69,70,10,-31,-20,-87,-99,-44,32,-8,59,88,88,-51,-51,46,39,95,-79,-19,-14,80,-61,80,-87,37,-54,-74,-37,-14,20,-98,13,73,11,41,-33,65,-64,-46,91,-35,-42,-51,76,-41,-74,30,-74,72,57,62,-28,90,-48,-28,-5,-100,17,-49,67,-40,-76,62,-64,-45,-69,-34,-44,-77,48,84,87,3,55,55,-11,-66,-42,-30,-93,63,57,-26,2,-87,-1,71,88,4,-73,-84,83,9,-75,-81,73,-52,-27,-78,-69,48,27,-84,45,-41,56,-30,-91,73,-65,15,-16,-46,-20,17,-11,-80,-60,54,-24,37,-96,-86,47,34,19,-94,58,51,-66,80,-50,77,7,21,-15,14,-59,-84,-91,-38,21,21,97,-35,26,9,-44,-41,54,93,-9,22,39,55,70,-69,77,64,93,72,-26,-77,-29,88,62,-41,-35,68,63,-22,-98,-6,84,-6,70,-96,8,-13,78,87,-9,54,-64,23,-55,15,-91,-87,-42,48,36,-41,-18,-45,52,-28,-31,-52,-68,-10,17,32,7,-18,33,98,71,-81,16,49,47,8,-5,-11,22,29,-100,97,-71,85,-43,72,-82,11,-4,-30,60,-40,28,47,31,-95,-46,-48,-81,72,-6,25,-22,0,87,40,29,-93,43,51,28,31,55,-38,4,-92,-67,-21,-86,19,99,7,-46,-24,87,-72,25,-22,-44,-94,98,5,26,50,18,-25,33,-29,9,-63,-1,28,-69,-57,18,-53,13,-67,-31,-77,74,-6,89,-38,-32,-98,14,52,-23,-97,-40,96,94,32,-8,75,40,73,2,8,-54,85,-35,-72,7,40,-67,93,11,48,-99,45,-91,50,61,-3,46,44,-10,44,-96,-49,88,-26,-88,48,-95,50,-34,-94,26,-76,20,59,-29,-68,-60,-87,-1,-66,10,77,0,-97,71,-67,-88,-55,12,-16,-97,-84,49,-86,65,25,61,53,-38,-99,62,85,-90,98,70,-41,32,-15,91,-93,-16,26,49,19,99,90,45,77,-81,-7,12,-72,72,95,19,-2,14,67,-100,-43,-78,9,22,97,23,23,15,-21,-1,87,62,-71,-44,-49,51,-32,-44,-4,31,49,31,-27,48,52,-63,95,-60,15,-83,93,93,33,13,-53,-30,44,-50,-36,94,19,65,-77,1,-32,84,-94,1,-81,89,-60,-70,20,-85,74,25,93,-67,35,14,-19,-8,28,46,-62,-28,-80,-78,25,71,-58,-5,-35,-53,-50,34,-42,-33,-6,87,-63,-4,-67,91,97,-7,38,87,-40,80,-76,-3,-28,-6,-30,-82,55,10,13,-4,-22,-89,38,-89,-5,-9,-2,31,59,96,-52,-23,54,8,9,-16,91,-26,45,78,-67,91,-38,-55,-12,38,-54,-83,45,53,-98,-73,-84,-63,-76,-22,-4,22,50,38,64,26,-63,41,-21,59,-38,70,55,45,93,23,85,-1,-3,41,31,28,-74,-63,88,84,-63,77,-70,38,-49,-48,74,80,-75,-42,-66,-99,55,-5,-75,-42,49,-22,78,-72,-41,27,46,-82,38,-15,86,-23,33,81,-57,-49,31,34,-21,-44,-99,41,-90,0,39,21,-100,-20,-10,-76,-75,24,-63,35,-60,74,-76,-85,4,34,-21,-35,-1,-19,30,19,90,-46,-94,19,-37,56,-33,-59,-66,35,-44,73,66,23,54,89,71,-52,-43,37,54,42,-17,-83,38,60,88,34,37,-41,-99,80,44,99,53,52,-35,14,-95,0,-14,21,-33,-43,39,-34,39,70,13,85,88,52,64,-22,-91,33,26,-57,-1,-16,-7,92,-62,47,2,77,-5,-23,99,50,-70,-82,-95,-51,-62,-15,25,-39,-8,36,-31,40,42,-15,51,15,3,-42,-32,60,-9,59,-21,-78,0,3,26,84,78,-66,85,35,-59,53,33,-39,-83,-43,-99,-41,-55,29,36,-54,44,-97,-13,-5,-8,66,72,40,36,23,-71,43,-73,68,43,23,-31,37,52,-56,-36,67,-93,41,91,97,94,-60,-32,89,51,96,-89,55,-57,94,-90,-32,44,-65,-41,78,58,-16,65,-33,-23,-13,4,-32,-18,-67,-99,-39,53,-58,64,-44,-54,-33,-88,-30,-68,83,-94,-98,-82,-7,39,22,-3,-32,-82,11,95,-81,52,17,-43,6,88,94,79,-48,-18,47,88,-1,-26,-81,92,81,-57,-27,30,48,-39,70,62,-56,34,43,85,45,96,14,5,67,74,91,56,-52,-20,-37,-33,-13,-47,92,94,92,37,42,93,21,31,60,-5,-92,-62,-12,78,-88,95,-25,2,50,-41,-23,6,-88,75,46,-21,-78,92,89,-48,-2,71,-39,-40,-75,-96,99,-94,-69,-12,24,-43,19,82,-86,99,-21,-46,-14,-61,40,85,10,78,-60,6,8,40,-22,-82,74,76,-100,-21,31,17,-92,36,-92,-98,49,-17,-71,-39,40,-7,16,98,-63,-68,-46,-37,50,84,-58,67,-36,-28,13,89,39,-65,-5,-38,16,91,38,66,-66,7,-4,72,88,93,-36,-55,-10,70,99,48,90,39,86,63,-33,89,-38,-73,67,97,81,-89,-92,-64,-46,43,-41,64,-11,16,-43,77,34,58,-88,31,14,76,79,71,86,-95,-1,38,1,95,76,34,46,-73,-70,-58,22,-33,92,33,96,89,50,2,-55,-59,84,-8,-50,-35,-69,-94,-85,52,-92,81,54,-94,-57,-35,23,-71,-46,6,49,-98,-63,44,96,-4,62,-13,20,-91,29,20,-52,76,95,47,47,57,8,-43,97,-1,54,5,-94,27,-6,64,24,-54,38,-63,89,-32,46,19,-52,-18,59,-89,-29,25,35,-20,20,61,51,-5,-43,58,40,-91,-17,-22,40,94,21,-10,16,-20,68,3,28,-1,-96,-26,7,79,18,-88,81,5,-74,-41,62,-37,44,-80,-51,92,-17,-99,71,28,-32,-36,57,4,-46,-59,-73,-65,53,-17,10,-36,-30,-11,-51,29,-3,9,73,48,-100,96,-16,35,6,49,93,44,-52,-28,58,94,96,54,-87,82,21,-24,-40,-56,-23,83,2,-99,86,67,10,59,38,76,-61,67,86,45,-19,5,-65,12,21,-16,-7,99,26,-2,60,-75,24,-43,44,67,-48,-19,-66,36,-95,62,88,-27,-96,36,-45,55,-84,-99,-12,52,-91,40,4,24,-59,-14,48,4,-62,-71,51,-39,-99,84,45,62,51,14,-66,69,-58,-9,27,33,20,51,-81,92,55,-52,22,13,82,-37,-95,-66,-48,75,-98,53,49,-44,76,29,-79,-3,-91,-91,79,1,87,67,-32,-4,69,-20,28,2,62,6,-80,52,16,1,-69,22,-41,-36,40,90,55,34,-14,-100,31,-72,-26,-33,38,-98,-40,95,-61,13,-11,-14,37,49,-3,-34,23,99,56,18,58,81,-74,-74,95,-73,-55,-97,85,49,-74,43,43,36,-22,15,-82,-18,71,83,-9,33,56,-66,-2,-58,27,-32,4,92,2,-7,1,90,-52,-80,-50,-30,68,-50,12,36,-71,35,-44,35,20,-59,-64,-2,-81,52,17,-3,30,29,-64,40,-19,59,24,-62,49,-13,-20,15,-94,87,93,7,77,2,-97,-57,-65,-24,-62,-15,96,-15,-72,-16,37,-61,2,45,3,-89,94,-31,-5,-3,-26,-63,18,90,1,34,-46,93,16,-4,-84,46,24,-89,-19,64,53,28,27,95,-68,22,-19,84,-79,-24,60,60,94,89,38,-32,-49,-56,68,-18,3,-90,-52,-37,82,-100,3,-47,78,52,-2,49,-6,-47,-45,-10,13,47,22,-31,-39,49,-42,87,7,29,-25,-8,-82,-11,-36,92,-8,0,29,-44,-34,5,89,62,24,-67,-77,86,92,-54,0,86,76,70,-91,33,-24,-4,43,86,-10,21,82,38,84,-20,42,69,58,-45,39,-47,3,-83,-25,35,98,-58,82,-79,-90,83,16,-2,-63,49,-76,86,-6,-82,61,33,-62,-79,-94,-70,79,97,12,-74,35,-11,1,-75,94,73,40,52,89,-6,54,-11,-53,49,-42,23,-60,29,-84,-20,-26,87,89,-91,37,-60,69,-72,90,-84,-76,23,37,85,-41,-29,-27,33,-85,56,39,-46,85,-91,-36,18,-14,9,-90,-95,-22,-97,-17,25,29,-67,-95,-37,-13,-57,88,71,-4,39,-3,-7,-82,17,98,-3,37,96,-67,81,39,71,-26,-19,22,-97,-6,68,12,-57,-47,-75,-75,-15,5,26,67,-76,91,41,74,43,11,43,-25,-66,18,34,70,22,-52,52,-26,97,-9,87,81,18,47,23,-11,-97,44,58,86,-64,-69,-98,79,86,13,-82,-5,57,39,-92,-22,70,-30,-75,-30,12,65,68,-65,-73,93,4,31,85,-41,-87,-91,-70,-61,85,-26,-31,-67,-27,95,-64,-54,48,-21,-80,22,-80,-25,73,-31,45,19,-84,45,-12,-77,-96,76,-52,-77,68,-76,-27,3,30,-18,57,38,85,79,-51,16,88,6,67,-20,41,-73,73,-48,-5,7,-72,64,-97,-89,99,84,16,-31,45,-90,-27,17,-36,11,29,46,60,-61,59,23,5,-48,8,85,-49,11,-17,-3,-21,69,9,-41,-20,17,-59,-43,-70,-93,-98,-39,21,40,-24,-26,38,84,47,61,70,-18,-51,86,35,6,70,8,27,57,64,-96,-74,-96,-69,-3,-33,54,-59,-18,74,-56,72,-94,65,-52,-28,93,50,54,-49,61,-33,19,-63,-28,58,-48,48,47,-53,-61,82,-20,-38,99,-77,-33,-88,40,41,-61,-2,-45,-55,-47,36,-26,38,19,98,-29,-71,84,-60,45,-75,-47,76,-29,-56,3,-44,27,-91,-95,71,79,-74,51,-96,43,60,-87,44,27,18,-67,14,56,-79,-91,-10,-42,-44,-54,46,-86,-52,17,22,10,-32,-79,5,93,-93,-83,-9,-92,8,83,7,95,69,-55,98,-40,-30,-44,39,-18,-61,-2,-22,-66,96,48,-51,93,-95,99,-51,20,55,-58,81,86,34,33,0,-67,-47,-97,-26,32,-10,1,75,-78,26,14,-73,-42,-26,-12,-33,-52,-87,76,37,17,5,-53,-60,71,-69,30,-27,-47,40,48,98,93,-83,-63,-92,-11,26,7,70,89,-43,23,-52,-70,-34,-77,51,53,-5,3,-11,70,-73,7,21,84,55,43,38,-45,-54,86,-83,-94,38,16,-89,22,0,-63,91,80,-83,-38,21,7,-33,17,6,-90,11,-60,-53,65,-87,55,15,3,14,72,47,97,-50,-8,-17,14,69,-41,-75,-23,47,30,-73,-13,13,10,55,45,50,96,80,-59,-32,-6,97,-68,5,-99,65,-78,7,8,4,-80,-6,35,-88,-84,-2,87,73,-36,98,28,57,90,91,-23,70,-95,-39,-38,-52,51,-97,-15,-67,-26,-82,6,-95,-87,-14,46,-47,-38,-20,-76,-84,81,56,-63,27,-58,50,-94,-74,64,-10,-65,84,-100,98,42,-42,57,-30,-98,56,67,19,22,-1,-98,-50,36,-65,-74,-91,-42,48,10,-29,-94,-7,-93,-34,-2,-24,72,-52,-98,80,-10,-86,-68,56,-4,27,-50,20,-67,-50,-8,-58,51,-41,66,17,41,-81,-79,93,48,55,78,-57,39,96,-10,-75,-59,-57,95,-25,-10,-41,59,-89,35,51,-61,56,15,24,7,-96,-39,-92,27,27,2,-42,23,-73,-5,88,-80,90,-8,-53,15,-41,65,89,29,14,-44,54,-6,-91,-8,14,-66,9,-41,-90,40,-78,24,17,-13,-2,-31,64,94,51,31,-46,60,-80,-46,-51,-78,-18,-2,4,-64,48,5,-44,-41,-89,-53,93,62,75,8,32,48,-88,-20,-31,-37,-12,-47,-90,77,35,-19,60,-8,-75,-34,-78,-2,96,-38,87,42,14,-91,9,-89,-93,-11,-35,20,30,97,-83,70,22,-84,-82,-5,-70,61,70,34,-16,49,25,-31,42,2,42,-21,13,-77,58,-85,-13,2,56,-96,-11,89,-25,-96,87,-64,-48,79,-83,83,-20,-21,59,93,36,-50,66,25,18,74,-34,38,-15,-66,-27,-54,-53,90,-2,30,-4,-80,-56,-31,12,7,-74,-42,-24,70,-22,-43,26,-58,66,-91,-93,43,70,59,66,1,-51,42,-85,81,-89,88,-68,91,-20,71,71,64,50,89,-63,15,27,89,-8,-35,92,50,-67,17],\"z\":[54480.293333333335,1447675.84,63626.5,431049.3066666667,11641.948333333332,67997.20166666668,537130.1349999999,226749.17333333334,1428765.0416666667,1169559.3066666666,845055.1733333335,1227035.7083333333,391663.135,14223.226666666664,178698.74833333332,82476.66833333335,538292.16,2767.375,30449.573333333334,1192628.1600000001,26734.535000000003,7218.534999999997,251288.81500000003,914098.5066666667,447150.01499999996,330576.615,347039.13999999996,791695.375,102670.53500000002,501655.06833333336,26273.708333333332,919954.7733333333,6732.659999999999,417886.5266666667,219690.96000000005,29972.69333333333,598508.4816666666,9766.375,13122.748333333335,1203031.735,9405.868333333334,140381.86833333335,522218.535,424288.69333333336,62541.00666666666,839916.0,545698.2599999999,135476.96000000002,7907.86,819196.815,1850.375,422517.9483333333,257229.615,27940.375,19616.415,87966.23999999999,525965.135,178028.01499999998,8763.006666666668,33823.94,221395.215,232228.87333333332,87114.50666666667,57004.026666666665,250809.4016666667,969780.015,3322.375,497401.535,1174889.335,1928.6599999999987,1050748.0416666667,427456.16,1125874.935,115457.06000000001,62025.76,92787.76,81670.015,14705.708333333334,29034.135,177905.54000000004,64156.415,6291.060000000001,84519.19333333333,802726.5,1104427.9733333334,460653.815,1369190.5,435722.1483333334,81822.69333333334,65977.415,99484.60166666668,123724.01500000001,768815.86,3045.973333333332,151880.74,9126.5,228496.24,872530.5,681963.8683333333,48697.439999999995,90888.15999999999,140993.81499999997,834359.36,352526.16,66647.735,80211.70833333333,823541.1666666666,119695.99333333333,2367.993333333333,32422.375,52723.04,464745.8400000001,1856.5066666666662,58524.34,99582.74833333334,82183.33333333333,115906.0,629778.56,6732.473333333332,396917.46833333327,251960.74833333338,803121.84,49007.439999999995,1415955.7083333333,68943.015,217045.81499999997,801858.5,1261994.5,34466.0,134030.74000000002,444951.76,123638.375,114650.34833333334,29636.639999999996,25969.481666666663,2462.1349999999993,93758.66000000002,1327264.0,967091.54,852707.6016666667,434736.33499999996,33054.82666666667,2479.348333333333,334287.0416666667,678948.3483333334,1087576.7733333334,129836.375,194806.0816666667,1297551.375,154475.93500000003,74453.83333333333,800093.415,805215.46,20227.226666666666,24224.948333333334,11594.473333333333,1855.8683333333322,8899.539999999999,154907.04166666666,97445.21500000001,110557.84000000001,941921.935,157684.66666666666,792180.5483333333,64800.415,411332.375,284791.8333333333,88710.015,19709.833333333332,1285356.5483333336,421224.3400000001,1245866.9350000003,579537.0816666667,2659.2149999999997,281874.015,389541.86833333335,214862.215,199062.9066666667,153437.49333333332,66795.935,43173.375,14198.739999999998,127299.94,700778.0733333334,104645.335,153266.28166666665,86017.54000000001,508152.16,232879.84,489600.66,361926.4733333333,313006.535,1106122.8683333334,69191.53500000002,94620.46833333334,184591.68166666667,189186.66833333333,47736.375,8540.26,200586.69333333333,41367.041666666664,1163642.2933333332,39743.89333333333,480149.19333333336,551357.6016666667,5101.059999999999,1252711.375,1807.759999999999,545799.335,1439666.1266666667,749712.16,363685.3333333333,1006151.9733333333,940394.7483333334,50152.415,1360265.46,103362.0,20851.839999999997,204972.135,85026.42666666667,33796.815,820519.5483333333,66778.52666666667,24842.0,672102.1483333333,1437903.5733333332,1124104.135,40019.46,1150729.5399999998,508697.615,6726.0,126509.04166666667,130771.33333333333,104034.01500000001,19129.068333333336,650918.015,21931.839999999997,542617.0416666666,1107047.04,286826.01499999996,2089.948333333333,1103335.535,196965.415,53196.66000000001,193151.97333333336,21838.375,419570.5,1105937.1666666667,7838.0,9302.0,101615.70833333333,158460.615,7673.460000000002,6497.134999999999,734267.4816666666,46937.84,927718.3733333334,5029.335,709168.5483333335,78394.815,1192473.3483333334,42176.375,94222.61499999999,1078372.3350000002,214141.93999999997,39586.5,6060.373333333334,1882.506666666666,5551.059999999999,1975.093333333333,2388.5,10258.468333333332,359743.13999999996,24778.69333333334,833705.86,172834.5,792972.3400000002,818002.0416666666,785777.535,864688.4683333333,160520.70833333334,18572.559999999998,12350.160000000002,18602.64,2424.414999999999,207680.55999999997,3071.934999999998,465024.6400000001,17527.375,736032.0,697571.3333333334,1090142.0266666666,2366.5,147476.96000000002,426383.8333333333,49401.135,735223.36,669116.1066666667,343889.7266666666,158874.535,11437.406666666668,619422.375,7625.268333333336,14500.606666666665,2244.259999999999,1110347.9483333335,61036.01499999999,916760.9600000001,857089.0683333334,397328.2066666667,215133.93500000003,624046.0,1898.3349999999994,77044.135,703675.5733333332,282878.5,888148.815,185636.5,58189.44,679219.7599999999,197991.06000000003,60333.13999999999,259288.04166666666,49441.26833333333,91469.59333333332,117180.87333333334,5505.335,857028.535,213281.215,45906.415,1929.84,126963.375,176281.7066666667,220308.615,13340.739999999998,8188.0,108934.04166666667,86886.07333333332,1287082.8016666668,876364.6666666666,149041.375,189661.09333333335,440726.66,87439.94,370682.63999999996,498850.7083333333,139981.06,146153.3266666667,172619.80166666667,8783.468333333332,280208.93500000006,32050.801666666666,1267507.8683333334,152930.5,68498.66000000002,30051.84,54593.534999999996,8739.973333333333,690701.2016666667,35859.60166666667,5134.66,263258.33499999996,757673.215,288168.0,3543.539999999999,209347.375,28694.041666666668,472952.26,34260.14833333333,85709.815,1299409.6683333332,1433239.6150000002,377459.46,916019.3350000001,36127.17333333333,166130.26,323976.0,82914.56,58219.36000000001,109860.54833333334,1129414.7733333332,923397.8333333334,19948.0,37941.166666666664,28684.601666666666,1148031.1666666667,3630.393333333331,572196.7083333334,555936.0,1127531.335,2389.0816666666665,727260.34,413006.33499999996,184513.67333333334,8472.681666666667,754801.54,560618.015,214229.13999999998,159257.16666666666,18811.44,199574.24,677185.815,106038.0,445285.01499999996,97975.04166666667,125325.375,2025.3483333333327,184209.01499999998,90775.44,266043.375,15088.960000000001,5540.401666666666,11438.340000000002,2485.8399999999997,43787.833333333336,303786.16,155536.80166666667,1074520.375,1376104.4733333334,1001601.9933333333,907892.8733333334,899230.56,1056748.7083333333,26497.093333333334,607708.2599999999,121286.735,42540.534999999996,242476.375,368096.4016666667,12178.5,693098.3350000001,1086821.535,729624.7399999999,31306.281666666666,528907.36,29994.160000000007,21864.708333333332,354166.69333333336,120754.0,12823.093333333332,2193.348333333333,234635.86833333332,287456.375,84660.74833333334,482023.45999999996,2014.0,768733.1933333334,1350582.9266666668,769192.375,150557.84000000003,475469.215,122227.08166666667,79947.59333333332,368701.3333333333,752482.735,252633.68166666673,1031313.7266666667,142311.54833333334,384716.2683333333,73876.10666666667,972332.2599999999,9310.873333333335,2633.7599999999993,3782.375,168936.25999999998,8976.426666666668,16216.240000000003,613883.3266666667,111515.735,44226.5,91320.04166666667,314542.0,233296.79333333336,71288.08166666667,672451.0683333334,144767.86,726942.1066666666,6667.815000000001,101429.72666666668,71373.46,960557.7066666667,4670.206666666668,1080677.1666666667,331166.73500000004,684158.535,98114.54833333334,2157.468333333333,275514.2816666667,106287.84000000001,15718.526666666665,59946.48166666666,2619.615,294502.16,65576.0,954170.2599999999,11520.960000000001,1140745.0683333336,228342.47333333336,2074.6066666666657,104354.64000000001,12802.041666666666,12857.06,134077.375,55269.27333333334,15069.439999999997,157419.46,3869.9400000000005,354085.535,15529.060000000003,36454.20666666667,122880.88166666667,143478.74833333332,582301.36,5080.134999999999,3068.614999999998,86691.80166666668,222087.04166666666,19779.860000000004,317111.3333333333,58219.36000000001,956925.94,736408.1266666668,154134.74000000002,969419.7599999999,226936.73500000002,225042.0,3813.626666666667,2651.54,15134.934999999998,950458.0,14594.334999999997,15839.460000000001,285798.0683333333,99982.29333333333,1253050.1266666667,188419.615,126817.48166666664,40483.08166666666,15122.041666666666,85430.28166666668,1335601.86,42061.46,130241.06000000001,26358.041666666668,394842.0266666667,22580.5,74027.04166666667,280439.73500000004,5521.748333333333,79743.57333333332,3224.8266666666655,41656.60666666667,84454.81499999999,32502.935,277286.60666666663,803592.735,355313.4683333333,7413.040000000001,524494.0,178529.04000000004,104921.67333333334,2831.4683333333337,117784.90666666666,36707.44,11148.401666666665,2065.859999999999,105108.64000000001,873759.3333333334,63154.34,350168.9266666667,95534.10666666664,435618.535,345919.2816666667,311913.54,80469.04,66242.16,73712.26000000001,144143.14,895416.66,169343.04166666666,5389.708333333333,863843.04,81758.33500000002,13246.96,202495.93999999997,179266.60166666668,5682.293333333332,527118.535,2265.735,19850.214999999997,473774.6666666667,31110.293333333335,168511.62666666668,69127.80166666668,83763.53499999999,113735.04166666667,60986.375,86146.375,1458304.2066666663,72713.215,1003152.5066666667,1074108.201666667,798228.9600000001,884109.6266666668,1102730.9266666668,28477.940000000002,2830.66,49869.333333333336,1256145.46,242293.86000000002,1977.7266666666662,872548.2600000001,7241.948333333334,107641.33333333333,6835.134999999999,99999.04,725668.5,706637.015,151919.815,261376.95999999996,443937.94,795722.9349999999,148644.06833333333,1258274.8683333334,163994.82666666666,33208.041666666664,59064.73500000001,373363.9733333333,49696.375,51531.415,2062.6149999999993,1123168.135,1165124.5,126158.28166666668,837063.1733333333,1382523.3483333332,37071.708333333336,16151.748333333335,180446.0016666667,55357.093333333345,333424.535,200330.41500000004,682193.9349999999,25012.426666666666,576455.44,3425.935,223091.32666666666,183269.215,277782.41500000004,219802.42666666667,362069.7066666667,399077.215,223853.84,167655.09333333335,1263928.5600000003,270989.44,131590.02666666667,24147.039999999997,1037224.535,6102.375,2487.2016666666664,13466.826666666666,188167.36000000002,769355.1350000001,155952.64,1410366.0816666663,27238.34,56823.04,1302185.615,680943.0016666668,407636.215,433944.74,86198.93500000001,184209.04,79200.20666666665,337531.7066666666,871938.7083333334,1083806.8150000002,34995.86833333333,110665.46833333334,277954.0,186086.735,784146.1066666666,94970.335,92664.39333333336,2157.5399999999995,46414.47333333333,1098938.4266666668,882669.415,48441.46,64312.66,797053.8333333334,619022.8150000001,130751.04166666667,1150758.375,378982.615,299755.17333333334,3407.439999999999,908998.64,301218.375,1229253.9933333334,221774.26,309323.45999999996,745608.6150000001,482452.375,1241109.3266666667,1074891.1933333336,885020.2600000001,64470.06833333333,447068.375,6728.259999999999,142990.735,301949.935,4812.6016666666665,835205.3350000001,3010.2016666666664,214739.73500000002,370949.19333333336,26201.468333333334,705275.5483333333,2416.126666666666,210517.86,8993.401666666667,17930.375,49578.74833333333,898392.0683333334,61467.68166666667,38216.29333333334,415475.84,694782.5066666667,68728.86833333333,670100.6816666666,140755.61500000002,33311.375,581767.6816666668,5922.014999999999,182000.50666666668,43293.939999999995,84349.535,262563.415,142265.46833333332,108029.36,6540.160000000001,958584.015,48750.041666666664,172200.74,745563.86,6251.706666666665,131715.36000000002,545559.935,75334.375,29968.0,677272.0,91121.44,599367.1666666666,394703.335,1012175.4600000001,80866.935,206257.86833333332,108962.5,1270990.74,6950.106666666664,1449295.9400000002,152187.06000000003,116124.86833333335,207061.04000000004,367715.54000000004,159364.54833333334,1372560.1266666667,37093.060000000005,89833.22666666667,57903.534999999996,655318.1066666667,225070.46833333335,9083.226666666667,1021923.4933333333,829482.64,302764.73500000004,29574.015,14384.948333333332,325144.135,176661.80666666664,65183.939999999995,58179.333333333336,768156.535,642544.16,973028.015,46090.26,24228.041666666668,9957.375,592189.4400000001,448845.3483333333,89202.66666666667,653449.735,860314.66,886266.56,222789.81499999997,140235.26833333334,1050622.7933333335,64554.815,679366.56,44191.46,173177.68166666667,496093.04000000004,336119.3266666666,137796.535,1040912.5066666667,293960.54833333334,1047404.2600000001,428695.535,1895.1933333333327,5643.415,2380.375,185402.2816666667,535681.2683333333,91599.04166666667,1537971.3483333334,545514.815,933301.54,1390412.56,687541.0016666668,259075.615,6866.793333333332,210698.5,754244.6149999999,8352.68166666667,259802.375,605110.375,1002285.735,15841.439999999997,533612.6066666667,1155120.6933333334,7380.708333333333,31489.44,53179.80166666667,1426085.3483333334,701956.6149999999,1305522.6066666667,41170.375,180728.1266666667,53555.46,180728.1266666667,230991.0016666667,25521.934999999998,1278555.3333333333,136195.00166666668,299395.9733333333,78973.83333333333,198160.20166666666,363085.54000000004,11037.72666666667,897716.34,352578.0816666666,67419.04,608667.0399999999,394595.06833333336,938997.4600000001,456074.7349999999,111538.33500000002,1263796.64,488999.2816666667,419464.66,1287198.66,374241.46,64806.93500000002,52159.306666666664,636853.3483333333,1145730.375,39945.17333333333,307474.26,370965.415,132075.46000000002,1203726.8016666668,2323.375,21212.5,425528.5,1367352.8016666668,88043.09333333334,32157.14,853022.3350000001,443516.06833333336,50589.068333333336,272022.415,597913.015,917443.7483333334,860753.8683333333,265820.00166666665,279611.36,24811.708333333332,32578.335000000003,75448.15999999999,6519.081666666668,1131525.7483333333,4379.001666666666,1055681.14,40521.166666666664,147270.39333333334,2370.7399999999993,107641.83999999998,180674.5,30339.593333333334,756565.375,1100201.6733333336,157547.04166666666,163081.86,40870.240000000005,348982.415,34629.815,505386.37333333335,100428.34000000001,1387314.6666666667,103168.66000000002,97497.33333333333,1082318.0,197252.74000000002,129566.29333333333,947700.16,639422.375,842998.34,354658.37333333335,615975.4600000001,241708.04166666666,149432.20166666666,1252528.24,946093.815,668816.64,293782.6016666666,110855.335,947284.8733333334,12327.041666666666,70956.375,919889.935,108300.375,1150758.375,183209.375,839594.1483333333,1026364.2816666666,4400.5,1183198.135,1964.6066666666663,1062752.7733333334,1285600.7483333333,1237420.4816666667,527229.535,1329287.86,872110.9066666666,87373.70833333333,155938.64,286955.3333333333,75819.46,32341.359999999997,204225.49333333332,129081.84000000001,1453798.1066666667,8753.193333333333,92125.01500000001,152339.19333333333,218203.54000000004,100351.30666666666,7990.3483333333315,42801.708333333336,1096017.2816666667,20652.66,614491.4683333333,66849.57333333332,219938.375,38861.335,140360.96,99307.375,10033.839999999998,968650.375,3203.734999999999,30920.5,63786.5,42260.814999999995,135967.3266666667,73566.70833333333,127262.66833333335,90916.375,224881.46000000005,7939.360000000001,1179257.9350000003,132800.34833333336,1237881.8816666668,55218.20166666668,70409.06,6009.333333333333,120636.73999999999,272089.935,53658.77333333334,461879.45999999996,31335.333333333332,206125.66833333336,13210.693333333335,121711.70833333333,121806.86833333333,103387.04,15576.708333333334,66902.53500000002,555642.215,2219.2816666666663,265144.0416666667,186952.29333333333,15706.681666666665,31284.615,41724.60166666668,79149.00166666666,146460.82666666666,21761.708333333332,158707.04,536611.8400000001,384052.2066666667,40953.46,179192.80166666667,863155.9933333333,15076.660000000002,587141.06,518760.1066666667,476647.46,113621.33333333333,169157.61500000002,2097.8333333333335,156998.33500000002,39493.166666666664,957357.215,32986.86833333334,183072.66666666666,66458.73999999999,1106920.0266666668,57922.375,95065.53500000002,1123584.6683333332,1534636.4816666667,1049430.8150000002,1343258.56,107355.46000000002,51779.333333333336,1440926.0266666666,168818.535,229986.80166666667,143717.46,176568.69333333333,126286.60666666667,154204.13499999998,398785.375,67415.44,1050201.2016666667,564496.8150000001,544946.935,156155.00666666668,244376.56000000003,916026.34,395146.1066666667,919857.935,640410.16,4151.548333333335,1412494.5600000003,3302.0,297105.135,1426956.0016666667,877614.7933333335,1084578.0,5954.0,849142.6666666666,56411.215000000004,121057.40166666667,2947.8816666666658,1343411.415,52860.415,259490.74,725548.015,63326.56,20889.97333333333,9407.414999999999,433279.46833333327,172948.0266666667,10224.041666666666,224196.375,20080.041666666668,305286.7083333333,80186.0,2195.539999999999,731825.3266666667,4983.215,873142.1350000001,229989.89333333334,1137405.135,139278.94833333333,24663.281666666666,879512.5483333333,930195.375,8551.375,691914.6683333333,2511.6816666666664,16532.734999999997,1101220.1066666667,197459.46000000005,227544.04166666666,29095.615,1174344.74,146190.74000000002,654892.1349999999,1231354.56,1295888.6066666667,1308242.7083333333,221333.335,267316.815,4165.326666666667,77849.19333333333,57009.00666666666,15244.240000000003,128160.01500000001,79375.13500000001,391495.75999999995,865550.2066666667,147679.70833333334,1303528.6150000002,857637.14,183065.375,30299.760000000006,943534.215,440127.04000000004,674337.9349999999,139778.87333333332,639190.5,1277775.375,82002.015,4231.726666666667,15878.24,85687.53499999999,182323.535,971760.6683333335,45714.041666666664,118119.46000000002,115101.28166666668,7212.526666666666,933122.7483333334,42659.935000000005,164921.015,313090.48166666663,82727.04,93275.81500000002,1841.9399999999994,74104.66666666667,176010.33500000005,335030.8016666667,163803.70833333334,2002.0,2526.6016666666665,487397.22666666674,167147.615,507294.16,1413279.46,796839.04,490938.13499999995,1207731.4933333334,400314.4016666667,191760.375,111665.33333333333,3336.0683333333327,1223438.9350000003,72536.5,50496.5,630058.5066666667,41552.63999999999,560018.7083333334,72292.375,172485.415,45197.74833333333,97550.70833333333,139143.48166666666,215142.0,61739.14000000001,75745.70833333333,78708.40166666667,3248.2816666666663,351879.19333333336,65897.86,16998.868333333332,564365.6816666668,1342960.2400000002,234783.46833333338,1197678.281666667,124844.26833333331,296172.2683333333,2123.006666666666,836251.6149999999,1513502.4683333335,1072762.015,100997.09333333334,243064.0,8452.681666666665,822273.5733333332,1136523.86,342032.96,445975.54000000004,46789.70666666666,29742.015,1433325.375,206250.135,1087385.173333333,688601.0683333334,1204982.9483333335,214283.84,1334176.5350000001,564327.375,367749.86000000004,761773.8333333334,144890.26,228152.415,46534.5,399130.5,57413.460000000014,104868.74833333334,861205.7083333334,138664.335,173955.30666666667,319503.8333333333,5220.401666666666,144202.415,1149304.9600000002,1752.548333333333,205422.16,353705.375,1280124.5266666666,8269.201666666668,6463.375,10927.735,579402.8016666666,741798.0016666666,273075.14,592270.2400000001,235217.73500000002,978953.375,712121.815,234363.16666666666,1324936.335,1232963.735,11730.340000000002,1183160.34,441821.935,344128.5,115025.74833333334,23409.735000000004,2120.375,20288.506666666668,77344.24,180627.06833333333,1392987.6683333332,119307.35999999999,1209578.7083333333,576892.1266666666,496482.0150000001,396558.24,74878.5,648413.015,4958.959999999998,894569.7083333334,153207.83333333334,689395.9400000001,213476.34833333336,62975.375,897490.0416666666,152649.535,205672.0,542008.0,47506.28166666667,909739.7483333334,81121.215,78117.54,137520.535,210484.34,2116.0,709762.2599999999,9699.681666666665,6419.626666666667,230102.73500000002,70051.40166666667,836297.375,57096.74833333333,1160042.135,676792.34,264268.6666666667,104315.66833333335,24835.306666666667,51455.973333333335,983536.375,582607.84,1155131.9733333334,938458.8733333334,666111.44,10355.273333333334,31430.506666666668,37464.50666666667,26395.14833333333,419876.6683333333,98121.46000000002,1301239.8333333333,60034.375,72701.26833333333,85792.0,1390408.6816666664,952068.2683333334,893829.44,2182.0,75532.375,5868.026666666666,29255.626666666663,368914.215,1207786.24,402219.535,198501.28166666665,684218.6016666667,41230.708333333336,720518.5,9963.839999999998,350511.60166666674,943282.2399999999,126555.815,856559.335,9788.24,236745.535,164636.33500000002,86654.5,1080815.4066666667,1480875.6150000002,1043967.4683333334,98945.415,1407161.9400000002,1375658.5,308236.0,197157.74833333332,513459.0416666667,51723.94,156763.36000000002,14795.460000000001,294716.335,159965.19333333333,64155.67333333334,1096393.3350000002,1266735.36,527189.9483333334,49517.00166666668,813781.8066666666,2142.64,1081128.7083333333,1239670.9066666665,129698.0,586013.44,687071.8333333334,1940.2599999999993,312871.36,11876.126666666669,44191.54,1874.8683333333322,486626.1066666667,943353.5733333332,713553.84,85925.86833333335,142414.69333333333,732938.6666666666,7200.868333333333,69704.90666666666,235738.37333333338,183195.00166666668,1348382.375,15192.340000000002,392214.7083333333,79096.215,68171.20166666666,1266378.615,453036.39333333337,1177370.015,425574.16,33955.375,1224834.1600000001,78430.61499999999,573348.2816666667,174031.84,293458.015,703600.0,130887.735,70365.70833333333,225280.61500000002,1195863.36,73245.83333333333,478653.00666666677,1045406.8016666668,127176.12666666666,13367.668333333335,23053.375,451554.2066666667,42506.74833333333,9477.76,194140.61500000002,154475.54833333334,4546.375,952191.14,10335.041666666666,1047404.2600000001,187354.0,91526.5,55260.08166666667,84797.04,5912.215000000001,197794.015,1320631.8150000002,11806.0,1224150.34,167389.44,629928.6666666666,12285.94,20091.708333333332,6217.833333333333,62645.681666666664,101113.84000000001,1113932.74,36875.59333333333,162969.59333333335,15128.0,666765.375,9253.359999999999,999479.5483333333,161385.19333333333,29154.24,110851.14000000001,197767.615,1305486.6150000002,99244.56,79103.93500000001,58667.708333333336,6392.393333333333,2385.4933333333333,366833.4816666667,602486.5599999999,111234.66000000002,2650.56,58139.573333333334,232416.60666666666,823331.0816666667,761837.86,397537.375,1088975.54,816790.375,682423.3066666668,19438.873333333333,20131.360000000004,446745.3066666667,6870.126666666668,1163728.2400000002,221295.74833333332,343515.0683333333,167195.93500000003,131421.76,7542.34,166340.24,500311.535,144246.77333333335,2133.9933333333324,523919.0416666667,10902.815,330421.415,82954.90666666668,153175.72666666665,9275.06,4212.934999999999,28882.666666666668,4417.481666666665,876696.9483333332,430765.86833333335,147934.5,35974.46833333334,22934.548333333336,8320.739999999998,23282.375,826450.815,699717.0416666666,309667.75999999995,89538.56000000001,16700.375,9629.806666666665,11672.935,313481.44,148471.16666666666,147456.87333333335,106502.34000000001,1160948.16,22506.073333333334,415144.0,2709.375,274804.73500000004,267691.215,2278.4683333333332,122243.135,5445.806666666665,994146.415,41714.215000000004,79681.09333333334,169775.04,14547.881666666668,281870.375,168690.16,275870.0733333333,689239.8066666668,1356937.673333333,25047.375,626187.6816666666,168873.86,157591.0816666667,8471.615,7023.668333333332,1012394.9483333332,1341122.2066666668,1295160.26,406199.335,371409.815,743127.04,279357.76,965373.8066666666,1157203.375,184010.93500000003,243970.92666666672,299448.2933333334,741761.375,875582.7399999999,1104117.8933333333,14805.135,283610.6666666667,730536.415,34926.560000000005,810184.56,790530.415,22964.681666666667,140965.535,3522.681666666666,630211.6266666666,15640.748333333337,190536.5,1142162.5,948917.1666666666,1371525.8816666666,28988.535,56316.0,130714.80166666668,28560.601666666666,120376.70833333333,1309911.535,152710.375,873176.4816666666,271677.45999999996,181872.335,54315.28166666668,1337684.935,281799.8816666667,22763.859999999997,40045.401666666665,213325.375,105289.28166666668,47276.73500000001,210751.375,1279357.201666667,50626.08166666667,462777.04000000004,81438.5,219120.375,85366.39333333336,38111.335,98951.49333333335,11793.748333333331,4384.281666666667,230766.74000000002,1160761.3066666666,10022.668333333333,58418.5,1215267.015,191272.0,607873.4066666667,19375.414999999997,917545.0683333334,78123.26833333336,1315942.0016666667,1004815.8016666668,15030.90666666667,603497.9933333333,4131.94,259028.375,424342.0,527068.6150000001,340078.12666666665,7323.734999999998,473252.74833333335,1010166.375,1224086.815,279200.215,437047.06000000006,241738.0,627214.2683333333,12733.593333333332,19499.833333333332,24005.839999999997,54391.13499999999,125523.46000000002,56787.14000000001,14210.334999999997,6624.134999999999,877508.0733333332,353915.935,1228513.935,176622.64,428190.5,179153.83333333334,571338.415,902037.415,467940.41500000004,157913.43999999997,45788.47333333333,136204.2066666667,1490483.375,604289.8333333334,201611.33333333334,68867.04,963153.7066666667,860802.1483333333,66343.72666666667,40043.833333333336,682403.8683333333,78642.28166666668,122404.415,139739.86,930865.4016666667,151114.5,5413.039999999998,704317.375,713950.815,156050.60666666666,220717.94000000003,446833.26833333337,758892.375,459188.6666666667,150243.015,25871.20166666667,394872.56000000006,15425.993333333337,218302.215,696330.375,1184998.6016666668,722742.2066666667,325328.24,490044.5266666666,206406.0,1214603.7266666668,273562.6816666667,8054.0,1012862.0016666668,732447.4066666667,191896.06833333336,1024556.5483333333,354103.5733333333,42658.793333333335,591656.2016666667,1345362.74,85097.375,17490.34,61294.468333333345,2577.935,146042.01499999998,109962.735,400857.94,239491.735,247384.88166666668,3870.5266666666666,45542.80166666667,34260.14833333333,26470.681666666667,158945.84,26448.339999999997,6752.373333333334,1144379.2683333333,281971.06,251801.06000000006,96702.61499999999,256652.74,155187.33333333334,71493.415,118793.16666666667,426894.535,37208.335,1133157.2816666665,123052.615,723301.0416666666,227698.24000000002,286400.2066666666,28503.708333333332,286619.44,212073.53500000003,866559.6016666666,178012.5,160795.535,13380.126666666669,413429.44,5852.0,1164776.4149999998,177198.66,165879.27333333332,9560.56,35313.815,70121.375,137024.415,23708.375,10975.36,2924.2599999999998,13568.659999999998,66830.46833333334,2048.5599999999995,204146.10666666666,1075511.14,1367186.6016666668,513502.815,209079.61500000002,57071.415,156621.75999999998,449811.215,200811.16666666666,518529.7083333333,1228320.5066666668,486149.93500000006,16067.993333333332,939051.6733333333,20838.260000000002,28151.681666666667,302974.01499999996,40592.415,28244.681666666667,927316.735,223076.50666666668,254298.70833333334,658255.815,125451.08166666667,8089.173333333332,445292.41500000004,222521.535,64008.53500000001,124817.76000000001,108962.87333333334,378415.0933333333,448279.67333333334,1156197.335,131134.66,319374.0,370145.81499999994,111666.69333333334,1245214.7083333333,1374633.4016666668,148999.06000000003,2011.5483333333332,933340.3483333333,42291.20166666667,249780.96000000005,160257.16666666666,179836.42666666667,93468.70833333333,684703.86,57827.00166666668,27369.26833333334,964497.86,406216.4733333333,3077.0683333333322,665561.6683333335,1212219.94,313387.4816666667,8584.414999999999,816212.9266666668,73056.96,686453.375,1252365.415,206432.0,2473.375,363676.95999999996,593693.4149999999,183597.54,3341.059999999999,1115259.76,138652.015,45812.335000000014,436880.26,489422.34,32362.214999999997,567580.8733333333,970411.9933333333,48019.348333333335,808575.415,1006940.5,64852.681666666664,409560.5,178268.82666666666,75469.67333333332,120453.14833333333,456521.86000000004,1340327.8399999999,62872.02666666667,7193.839999999997,392452.375,912207.6149999999,693997.415,173388.64,246641.06000000006,268098.60666666663,90589.86,1168677.0416666667,760060.3400000002,24076.5,1042755.3350000001,74276.335,522942.375,77589.04166666667,2855.8933333333334,4379.54,541520.5483333333,18533.859999999997,29481.039999999994,62470.26833333333,149758.13499999998,528805.8933333334,584447.7066666667,5600.5,1002800.4266666666,230520.24000000002,442367.67333333334,1058381.86,176970.2683333333,740723.0816666667,993588.3350000001,129308.94833333335,749639.9483333332,976030.7083333334,113698.12666666666,175031.93500000003,170148.5,1316670.375,818731.8333333334,190588.74000000002,136604.08166666667,878749.36,1426386.7400000002,152151.215,41224.0,419627.00666666677,1323521.86,205222.0,223442.66666666666,283123.94,829388.6016666666,3474.106666666667,11254.0,83800.26833333333,289342.9066666667,129430.28166666666,896731.3333333334,60977.06,492981.86833333335,1404588.375,507868.28166666673,851518.9600000001,467017.375,73413.20166666666,189077.74833333332,68847.57333333332,140470.24,99924.5,8962.014999999998,508523.8333333333,907889.015,19026.041666666668,133704.69333333333,1028592.66,145921.46000000002,25664.16,319033.6816666667,241657.17333333334,320114.0,3615.006666666665,12973.348333333333,4830.881666666665,631396.7400000001,980237.9400000001,55430.48166666666,35616.373333333344,991099.4066666666,831933.2266666667,1053549.4816666667,174590.375,319633.8333333333,6192.534999999996,1793.8149999999994,99701.86,80113.66833333335,26955.166666666668,7852.548333333333,1299625.3483333334,215241.88166666668,1876.9349999999986,1210216.7483333333,388594.0416666667,49994.60666666666,101594.21500000001,50784.88166666666,224187.33333333334,128875.68166666666,704812.5266666667,38056.708333333336,1107522.8816666668,122220.53499999999,96424.12666666669,307531.8066666667,457124.54833333334,16555.806666666667,154398.5,31665.214999999997,307690.5,5195.44,853478.66,641350.8733333333,1418555.0933333335,823440.1266666668,219122.26,854340.1066666666,2251.726666666666,180827.81499999997,51964.24,469127.5933333333,794233.0933333333,712578.0266666667,18530.56,985186.9600000001,131399.01499999998,7834.681666666668,755385.3350000001,1086600.735,735932.5483333333,590168.0,22459.668333333335,26539.06,352333.28166666673,244090.01500000004,159410.74000000002,16657.726666666666,34354.48166666667,1390622.2149999999,13811.375,70365.70833333333,2607.014999999999,2472.375,1274806.375,288210.415,841472.215,1160791.3066666666,852744.5,32768.748333333344,38996.415,328068.0416666667,421623.33499999996,199855.54000000004,24842.135,817414.0,14348.468333333332,391055.93500000006,275595.615,317924.60666666663,171556.73500000002,401894.0266666667,774607.7066666667,3446.7483333333325,295697.0416666667,52897.973333333335,593830.375,47474.01499999999,105719.36,41947.76,1120892.6933333334,1056940.64,93679.22666666668,363671.17333333334,37588.0,52801.36000000001,1147935.86,202056.34,16575.375,592391.1349999999,188265.375,170150.37333333332,3783.493333333334,93802.47333333333,63875.215000000004,140648.135,240086.16,124165.49333333333,592469.04,782229.4016666667,234727.06833333333,778539.415,75995.66833333335,607146.335,318081.32666666666,90015.80166666668,658149.535,1158878.0,126193.46,623322.1066666666,858379.6016666667,151525.66833333333,181399.335,198653.14,53261.333333333336,53533.681666666664,72531.16666666667,112826.0,28096.5,93499.70666666667,37172.560000000005,444823.89333333337,627534.8266666667,48540.42666666667,1095637.36,85310.34,1044092.8150000001,47390.42666666667,1014243.3350000001,182626.87333333332,1184446.0,189587.67333333334,1178788.375,557914.0,172708.37333333332,974908.1349999999,1114655.9483333332,31809.76,13145.708333333334,187253.81499999997,57743.375,49227.86833333334,1392110.7083333333,1001654.1349999999,135303.09333333335,54380.56,117145.16666666667,191303.4816666667,15733.268333333332,191917.61500000002,559018.6066666666,723376.5,50547.46,366698.5,866340.64,4930.375,160750.26833333334,388690.375,450616.93500000006,87046.82666666668,435999.04000000004,397375.46,564808.9266666666,319664.33499999996,114962.0,31160.735,800165.6149999999,141929.72666666668,527229.535,1290768.6666666667,456448.3400000001,264652.24000000005,2044.7349999999994,445939.94,4014.4733333333334,422276.6400000001,259682.4816666667,38057.28166666667,144980.5,1056748.7083333333,724806.0816666667,8142.66,421604.2816666667,221671.32666666666,102485.08166666668,559863.36,65696.34,80363.36,91123.30666666669,812750.64,671543.375,144246.47333333336,146543.84000000003,122617.99333333333,304212.375,194133.26833333334,95682.53499999999,1387907.1666666667,43640.526666666665,218454.63999999998,225979.17333333334,74850.74833333332,1220670.535,489431.8066666667,452261.06833333336,179156.535,38535.615,4217.86,97141.40666666668,22730.868333333332,107658.60666666667,1240609.9483333332,1029683.0933333333,1880.5,7729.735000000001,142466.24,163815.375,154009.015,9946.96,37178.708333333336,66344.06833333334,141269.28166666665,122962.23999999999,78086.15999999999,183259.70833333334,15991.406666666668,603230.0816666667,509265.3599999999,497894.56000000006,50999.068333333336,2718.3399999999997,844799.735,458279.86000000004,169840.535,155850.94833333333,456725.32666666666,1388493.86,286426.0,192853.01499999998,1123994.9066666665,26250.615,2767.5399999999995,49421.375,462824.1066666667,182021.36000000002,769342.4816666666,462336.41500000004,566339.1349999999,469003.0816666667,146412.16,1309103.815,685208.1266666668,514051.06000000006,60468.815,295408.0816666666,13363.060000000003,180280.5,459756.41500000004,102763.36,253635.93500000003,44950.659999999996,374361.54,22696.681666666667,1107566.015,120952.375,2466.4683333333323,33758.666666666664,64961.01500000001,4371.134999999998,16900.66,76091.34833333334,160199.2816666667,420306.56000000006,93518.96,135517.36000000002,12453.14,994168.535,121065.59333333334,291627.3266666666,19145.839999999997,159794.535,1190849.135,786960.735,52213.439999999995,791345.36,10122.666666666666,120890.415,10288.801666666666,32549.801666666666,202508.14833333332,99184.64000000001,220215.375,28758.826666666664,9728.481666666667,105906.735,20709.041666666668,116503.22666666664,896475.04,57242.73999999999,937912.015,799421.3266666667,306812.24,23612.66833333333,184961.215,17769.015000000003,240129.41500000004,1344542.935,62267.13500000001,645590.5,1315753.415,109312.375,170826.335,283951.535,321386.015,1517160.5,1931.668333333333,84649.00166666669,167135.70833333334,1024960.2816666667,114038.335,160142.56000000003,685699.5399999999,132944.5,1158388.5066666666,2022.5483333333332,140526.70833333334,260112.96000000005,910954.2016666667,884415.0816666667,1052129.5483333333,489925.7083333333,2887.539999999999,473434.5,640789.2150000001,865260.5,196729.36,60975.94,55051.28166666667,853368.9483333332,209840.10666666666,33727.375,75937.375,836238.215,514908.1066666667,913574.2599999999,502108.615,905214.5266666667,146744.74,192447.06833333333,1073802.24,109472.66666666667,454382.16,133111.46,4032.0,3680.375,768986.8733333334,117992.04166666667,1228828.5600000003,328120.215,2667.0066666666658,102275.76,1247811.935,1184664.415,989566.0,4477.46,148036.70833333334,22532.64,12422.106666666665,477991.375,1350718.1483333334,824648.16,751390.9600000001,1494406.5,230488.34833333336,602728.0,134067.135,731798.2599999999,52017.535,252656.0,1137188.26,25217.615,1125952.375,959259.94,689174.74,65974.47333333334,17840.335,543968.6666666666,496440.935,147936.26,307815.375,75373.54,20351.481666666663,23739.535,7763.306666666666,1063921.4066666667,370856.56,172731.83333333334,4061.215,133142.70833333334,1208873.375,670389.735,1139346.5,2508.1483333333326,697100.935,137751.94,395991.67333333334,322049.535,789269.7599999999,15060.393333333332,3003.375,657957.215,3135.7350000000006,199533.34833333336,265659.5933333333,6467.939999999998,244016.56000000003,240536.06833333336,1081921.76,49123.84,201571.70666666667,542129.8150000001,614393.335,631337.4066666667,887874.6683333335,3793.3349999999973,14090.159999999998,1081734.6666666667,86017.54000000001,6543.093333333334,317879.14,75184.21500000001,5699.6016666666665,154767.415,163655.40666666665,48180.793333333335,70350.56000000001,6093.415000000001,104344.66666666667,256066.0,50304.66000000001,147541.13499999998,26609.84,93418.94833333335,82584.5,116754.735,884738.2399999999,788741.6266666668,183168.42666666667,2024.9599999999991,3343.615000000001,500894.5,937596.16,28459.375,1003215.015,75215.335,142420.16,687071.8333333334,285375.6683333334,914319.44,1296383.46,84667.32666666668,973187.375,324083.2733333334,1299882.4149999998,1844.8733333333328,393305.3333333333,166884.14833333332,466866.375,23685.173333333336,645783.3266666667,29977.934999999998,17548.0,473710.135,369920.54833333334,5184.9266666666645,28932.26833333334,22316.02666666666,590030.5,1339237.4016666666,103451.44,588135.3333333334,91234.93500000001,1043967.4683333334,102706.00166666666,199141.06000000003,93949.94000000002,578387.4149999999,452324.7083333333,30952.041666666668,15266.868333333332,218159.135,183298.335,511159.09333333327,33595.375,518720.6400000001,218935.375,978258.4733333333,56255.415,196319.83333333334,48790.07333333333,9191.735,856434.16,846654.9600000001,583608.1483333333,239028.73500000002,6684.339999999997,480184.87333333335,863877.36,1063091.9350000003,806583.06,587047.2683333333,1413884.7400000002,61568.93500000002,89403.76000000001,31430.068333333333,138676.015,75040.96,947132.735,348807.7266666666,5600.5,250044.34,14182.735,1330605.375,176826.615,35676.081666666665,72035.81499999999,579116.7400000001,11170.873333333335,636019.815,48181.01499999999,207433.01499999998,1348684.135,6305.139999999999,463240.0150000001,15368.335000000001,102922.14833333333,18543.273333333334,241136.48166666666,182059.26833333334,8153.833333333333,184259.09333333335,275896.66,69297.60166666667,46741.86833333335,827392.0,1774.5599999999995,598842.7083333334,531416.3933333334,30837.815000000002,152575.84,620417.0599999999,1419620.5,785311.06,608884.64,50646.39333333334,23491.94,1102384.548333333,363323.415,506045.375,65717.06833333333,3951.0416666666665,8237.139999999998,148020.26,695228.7483333333,1259139.1483333332,298180.66,10911.333333333334,80159.83333333333,9889.335,146529.86833333332,124555.16666666667,82999.06,1173435.135,96812.96000000002,734267.4816666666,110580.135,44067.48166666667,693244.4016666667,876398.0,171906.335,197942.16,24348.906666666666,34757.89333333333,1912.0149999999996,618270.5,718984.0683333334,46216.375,4103.406666666665,777284.16,460495.86000000004,97633.36,56188.66000000001,142377.09333333335,403353.76,470669.335,139202.375,196491.93999999997,44601.333333333336,42681.708333333336,30034.506666666668,267054.5266666667,601521.0599999999,55882.375,134750.135,25017.34833333333,1171551.06,194851.215,7198.240000000001,246863.73500000002,533725.6150000001,407104.5483333334,5834.906666666665,135017.84,203103.93500000003,186060.335,464128.93500000006,304640.5,1142886.535,2776.5599999999995,26804.5,7636.815000000001,57405.415,6126.748333333332,91526.5,1083217.1933333334,866429.735,1096427.0416666667,85144.5,583826.5,1305243.4149999998,577961.8400000001,606220.535,9516.801666666668,508250.5,366508.4016666667,308657.375,249313.36,269734.0,425539.8400000001,304327.0416666667,15200.5,49582.82666666666,74841.14,562378.1349999999,612930.3733333333,1404734.26,790069.6150000001,106991.06833333334,955510.1350000001,133404.02666666664,655392.0,154918.375,244842.66666666666,702521.86,44744.135,230467.16666666666,2581.015,63111.48166666668,387353.86833333335,69847.06000000001,1223427.7266666668,75175.06,1319567.86,9613.614999999998,68210.20166666668,195605.6266666667,319416.34,124126.375,114322.0,616483.0416666666,261947.36000000002,416892.4733333333,46222.29333333334,568392.7483333334,197586.86833333332,34674.659999999996,927572.015,964485.14,1346027.7066666665,725004.34,71178.39333333333,1259004.6600000001,1074524.9600000002,130288.375,92625.17333333334,6768.001666666667,234169.54833333334,710249.0816666667,13460.468333333332,1005625.0933333334,175813.54,54677.13999999999,1206511.375,1192578.56,1781.9349999999986,1289718.1266666667,34218.666666666664,424754.26,206897.375,804436.9349999999,302045.615,739325.815,192584.66,243996.73500000002,45500.041666666664,188798.93500000003,990148.0,80029.83333333333,395716.87333333335,18112.0,20321.76,81141.375,28616.748333333333,848986.2016666667,58167.27333333334,172932.64,75952.64,946872.0416666666,15865.333333333334,328901.215,33810.55999999999,70540.53499999999,145293.26833333334,1212340.3933333333,239937.60166666668,6026.473333333334,53535.72666666666,83403.81499999999,632530.2933333335,59581.375,982674.0416666666,1265977.8333333333,79881.33333333333,436522.68166666664,37921.14,6672.740000000001,187961.33333333334,336735.7083333333,22291.19333333333,169688.88166666668,435667.54000000004,63185.93500000002,212297.36000000002,18184.160000000003,2018.4149999999997,351793.99333333335,204936.12666666668,12692.740000000003,1145801.735,22739.593333333334,1262784.8683333334,31760.615000000005,257407.17333333334,93126.94833333332,278097.17333333334,819498.2150000002,358972.69333333336,83952.60166666668,49632.659999999996,52810.34833333333,94195.28166666666,61366.073333333334,247354.33500000005,29921.833333333332,2117.439999999999,311144.9066666667,514896.82666666666,883190.7083333334,12745.193333333335,160270.535,657731.3333333334,699461.8400000002,2190.6149999999993,1066550.26,270679.13499999995,39138.375,167280.24,1281719.44,61717.414999999986,1256204.7933333332,217313.84,53696.615,1069397.1666666667,6324.666666666667,587589.4600000001,1383208.1600000001,188798.86833333332,57192.53500000001,1073128.66,16140.64,383090.61500000005,477986.6816666667,669360.5,120517.36,1438245.6816666666,344662.0,348202.73500000004,1510111.6150000002,1141494.16,545522.7400000001,188446.06833333336,34627.67333333333,1079762.201666667,133604.415,686384.215,391904.0,7636.959999999999,323849.04,74650.0,618579.6150000001,5728.041666666667,13605.093333333332,557255.2683333334,1421194.015,900118.66,80994.93500000001,199745.76,1102736.5,378497.375,10308.748333333333,56695.615,336042.135,23503.015,488910.88166666677,1306561.015,864462.0,197767.93999999997,30426.041666666668,418612.0,2473.375,186838.26833333334,1843.593333333333,116584.375,728400.6666666666,1094286.34,1268364.9266666668,1239688.2400000002,98283.68166666666,23414.56,57120.375,144856.73500000002,297568.415,134499.22666666668,1121677.015,86026.73999999999,111546.29333333335,34238.526666666665,69972.82666666666,283738.7483333333,119413.89333333333,2781.859999999999,404929.30666666664,1097307.4600000002,117165.27333333333,24835.839999999997,519200.93500000006,5317.166666666667,1452772.2816666665,865294.1266666668,445415.01499999996,349533.09333333327,3868.375,76614.5,967854.5483333333,951133.6816666666,129990.16000000002,185066.375,20025.815,24201.333333333332,1189665.9733333334,836474.5266666667,1458665.406666667,2112.935,636461.0016666668,943353.5733333332,11554.414999999999,47057.00666666666,1221923.0399999998,3425.935,184488.34,338797.04,14324.468333333332,3793.0416666666665,13014.201666666666,3160.815,2162.601666666666,13918.414999999999,11421.015,243418.615,800880.7733333334,22154.506666666664,761454.415,401590.16,548220.2400000001,207107.99333333332,510169.1483333334,3466.6599999999994,107659.13500000001,3033.939999999999,646045.6150000001,1157903.36,55861.401666666665,34257.415,175744.2683333333,939149.4016666667,1276986.4149999998,352025.13999999996,865550.2066666667,72902.0,185272.82666666666,171908.70833333334,13813.601666666667,403672.4016666667,70754.92666666668,260410.535,1170199.7083333333,258285.48166666666,40012.0,108548.735,17552.666666666668,114718.92666666668,22098.559999999998,36684.34833333333,776351.415,133045.46,2621.7349999999983,13459.626666666665,848744.1349999999,2969.601666666666,347407.615,571787.8150000001,63027.375,645628.5266666667,942522.64,585130.3933333334,1366481.8333333333,1096393.3350000002,795371.54,76543.28166666666,75571.00666666667,16714.666666666668,516825.5733333334,1807.201666666666,254913.375,7160.96,163066.0,8060.160000000001,86435.33333333333,140977.73500000002,89030.73999999999,15474.506666666668,23847.360000000004,112483.84000000001,287176.5,110023.83333333333,178607.86833333332,765288.3733333334,46329.041666666664,14716.5,30786.708333333332,994916.8266666667,8977.833333333334,1451539.8150000002,761236.375,10513.041666666666,202951.61500000002,4975.326666666667,24983.440000000002,591124.3933333334,1216111.0933333335,536281.04,98843.375,176640.535,13635.940000000002,436732.0,1418618.7733333334,136436.0,1000195.8400000002,758257.4933333333,596770.0416666666,143478.74833333332,318674.12666666665,843100.1266666668,716534.0416666666,151548.815,264910.66,89897.06,616013.86,75830.935,175195.46833333335,657750.415,540121.3333333334,1340572.135,261920.08166666667,1742.6599999999992,981045.06,6637.334999999999,190816.0,1413187.015,394713.1666666667,9768.16,576869.0599999999,118268.04166666667,781751.36,92191.84000000001,2699.468333333333,15624.534999999998,141515.04166666666,31852.26,4239.881666666667,761682.8816666668,156590.37333333332,88782.06833333334,40608.526666666665,117305.14000000001,1288193.0933333335,1037851.36,367742.9266666667,24057.76,1097638.6066666667,2093.148333333333,1286054.4683333335,163552.92666666667,62777.814999999995,52356.79333333334,67086.0,1106119.9483333335,1157653.8066666666,584991.5933333333,440893.26833333337,806137.8683333333,740013.3066666666,3005.375,245711.375,25440.335000000003,917915.4600000001,1116378.335,34667.041666666664,141877.16666666666,245825.57333333336,13513.708333333334,64044.0,66787.40166666666,23898.34833333333,528843.935,1069020.6666666667,1895.8399999999992,32887.135,1826.5599999999986,41233.76,206042.415,210049.84,678596.5,2865.5350000000003,107613.21500000001,104622.66833333333,123771.735,418867.3333333333,395691.84,1809.1399999999994,910283.06,1262420.5266666668,58365.94833333333,116382.26000000001,204915.375,172772.29333333333,239116.81499999997,74117.14,23677.281666666666,774003.4683333333,62132.10666666667,63088.693333333336,822479.0933333333,24437.226666666666,278617.3333333333,346402.0,1137452.7400000002,2070.2933333333326,11597.935,756651.6683333335,28611.059999999994,37900.0,126950.56000000001,982889.9400000001,35596.69333333334,75708.13500000001,59982.01499999999,37172.74,1397124.7083333333,808644.8016666666,50611.815,83839.26833333334,618735.1666666666,6334.735000000001,108962.87333333334,1100801.6150000002,31555.44,3860.6666666666665,222721.375,643492.7400000001,65758.21500000001,181370.6066666667,1235172.3399999999,1111361.7083333333,107872.21500000001,5419.06,372144.26833333337,12031.06,179536.0,535450.2599999999,90097.61499999999,223263.54,11132.801666666666,44035.00166666668,278402.56,1988.7349999999997,4934.0,171304.0,1818.1483333333329,863321.375,2264.1349999999998,162899.61500000002,2108.7083333333335,414496.6016666666,129198.34000000001,459267.75999999995,41334.693333333336,4909.706666666666,5095.759999999999,29605.333333333332,532786.375,148098.46833333332,492750.9483333333,9931.06,1072039.9400000002,155874.50666666668,197526.26,648701.0816666667,756725.36,74971.53500000002,775810.3933333334,340875.86000000004,145194.60666666666,37738.215,53334.24000000001,280427.615,680944.1349999999,33521.00166666667,818651.14,1261304.3733333333,556313.1483333333,406237.215,125797.53499999999,225647.415,234319.93999999997,116515.375,73001.30666666669,25815.135,2169.6683333333326,719535.36,590691.8150000001,305635.84,155004.015,9548.335,114279.89333333336,15064.5,7064.481666666664,875292.375,226880.34,1152025.015,162667.13499999998,144993.535,144181.19333333333,120303.44,118832.21500000001,394055.46,163489.135,139850.5,932048.9066666666,218383.67333333334,27143.148333333334,204600.86833333332,991519.7083333334,362464.54833333334,243738.93499999997,125426.74,690237.8933333333,485729.28166666673,56364.666666666664,27887.833333333332,410282.14833333326,170498.5,1221874.24,1901.4016666666664,13505.215000000002,288350.56000000006,1202820.3933333335,183872.375,3234.0,368925.135,151432.10666666666,235314.14833333332,1039846.1350000001,253447.36000000002,181556.81499999997,57903.534999999996,821625.3350000001,2698.375,808337.1733333335,762243.8333333334,141927.46,21200.415000000005,188977.215,807807.04,862737.375,1376620.8016666668,607252.4016666667,250363.70833333334,21604.426666666663,880624.015,70869.40666666668,178260.70833333334,789613.015,203158.64,283759.36000000004,115091.61499999999,1110556.7083333333,655894.2400000001,2766.0,31768.375,1036452.2066666667,15870.335000000001,1911.0683333333327,837419.0416666666,453932.0,41468.53500000001,75134.24,3350.7350000000006,1193528.8816666668,368310.48166666663,12927.36,9321.535000000002,59410.506666666675,705817.44,221250.86833333332,38309.375,177898.5,618240.5,500229.0816666667,9451.06,1009280.2016666667,133093.46,640831.6266666668,4096.375,24680.64,1041956.0733333332,241428.81499999997,1178788.375,273992.7733333334,834402.16,382402.0,481387.41500000004,109886.92666666668,38093.35999999999,87825.97333333333,137086.87333333332,196050.16000000003,141023.16666666666,60543.22666666666,96220.015,173128.16,617029.4400000001,111751.935,857665.4600000001,451641.7083333333,827632.6666666666,510640.33499999996,571500.5483333333,34402.375,12900.534999999998,964604.7399999999,32757.214999999997,494740.0150000001,102332.335,38236.215000000004,1371655.8399999999,1078910.535,9557.135,337370.6666666667,203704.135,139447.89333333334,126436.73499999999,48868.13500000001,102087.815,395661.99333333335,1222954.015,1109301.0016666667,37840.74,421404.87333333335,261906.64000000004,291696.26,2557.1733333333336,119891.54000000002,24800.0,326608.93500000006,57238.93500000002,41456.948333333334,1116426.375,184148.37333333338,246804.535,1113216.935,60274.13500000001,128384.375,20852.52666666667,15100.960000000001,51230.94833333334,644055.0816666667,3475.4599999999978,236710.56000000006,11004.015,263096.8016666667,863908.16,725541.6683333335,22803.94,192575.615,177706.42666666667,566314.6016666667,1120297.001666667,61493.215000000004,93267.46833333334,13706.135,24823.214999999997,699289.9483333334,43334.87333333333,6585.1349999999975,65462.335000000014,186034.375,271222.63999999996,573875.735,15733.76,63803.73500000001,1180429.135,815997.4933333333,236883.60166666668,252197.32666666666,1299014.7400000002,766469.0066666667,243207.84,97975.04166666667,158707.04,217906.74,618135.1666666666,905815.0066666667,113511.40666666666,745572.7400000001,64761.375,1021025.375,82623.14833333333,98203.86,111052.375,188272.48166666666,30178.734999999997,472344.135,125438.39333333331,3172.239999999998,153691.135,922422.0016666668,36768.666666666664,910925.6149999999,430751.44,176003.615,199381.3483333333,4496.259999999999,244391.14833333332,430055.1666666667,785212.66,15582.814999999997,624915.0816666667,590168.0,212584.375,426980.5,433050.86833333335,242721.43999999997,20491.039999999997,259738.015,259679.13499999998,319596.87333333335,17357.039999999997,1355376.1066666667,108929.01500000001,77849.19333333333,114235.13500000001,59934.534999999996,788733.7066666667,6431.840000000001,81167.67333333332,1005985.3333333334,42651.46000000001,66562.34833333333,28557.333333333332,758257.4933333333,998961.535,69190.68166666667,265813.01499999996,3569.859999999999,156319.27333333335,113089.40166666667,759504.2599999999,111959.32666666668,980234.5,57478.12666666668,134513.84000000003,1036449.06,1435807.0599999998,420192.415,194375.36,41371.60166666667,676778.1349999999,256408.60166666668,162048.0,524989.4149999999,53284.935,2034.0,1277479.8683333334,765579.0933333333,3449.4933333333333,1292212.8733333333,32637.001666666663,1320673.8016666668,1257498.96,328605.67333333334,10741.359999999999,19212.34,696933.04,470669.335,212181.375,87953.89333333333,48358.375,119483.17333333334,1283303.86,57295.081666666665,116545.40666666666,1325761.14,18958.375,65099.935,293950.735,6985.268333333331,298679.94,1059624.215,85206.34833333333,35710.375,201309.33500000005,792291.14,529067.9349999999,14417.708333333334,132691.30666666667,865698.0016666668,1240364.335,451510.73500000004,1382637.86,4661.868333333333,398388.375,43877.681666666664,765155.215,203943.16666666666,785200.7399999999,1191157.406666667,42838.28166666667,151389.54,549137.8333333334,7750.681666666664,211705.68166666667,43039.615,898887.04,305984.25999999995,1159505.86,38434.90666666667,1340953.1483333332,488662.95999999996,15485.815000000002,470935.73500000004,1163201.6016666668,617010.16,1409030.373333333,824843.3483333333,1188216.6600000001,525468.7933333335,65760.34,199698.415,13615.534999999998,3634.5,2318.5,238451.86000000002,77230.96,325300.0683333333,18713.535,1043322.9066666667,301948.815,25960.375,16262.375,188218.015,6288.334999999999,2552.2599999999984,23965.801666666666,436567.0150000001,976941.8016666666,622784.335,165360.70833333334,2084.5483333333323,1217211.5350000001,761163.0416666666,151195.54,232347.43999999997,890658.6683333335,769632.6150000001,216792.40166666664,111661.83333333333,237155.93500000003,906469.7066666667,223657.54,441328.82666666666,994749.935,1362288.3733333333,137533.84,27704.535000000007,16939.059999999998,66335.70833333333,816663.1666666666,25492.148333333334,6873.548333333333,324618.4733333333,10439.708333333334,208439.34833333336,99563.53500000002,267219.01499999996,152706.2683333333,2137.9933333333333,567474.6150000001,19897.039999999997,451264.5,194219.08166666667,1223562.6600000001,163810.94833333333,612357.6150000001,233293.80666666667,414947.74833333335,19938.559999999998,176032.96,636103.8400000001,2669.681666666666,1293733.44,108793.40166666666,1330681.6016666668,162301.21500000003,27890.426666666666,1489780.0266666666,55899.00166666667,1215985.84,4039.8016666666663,513519.41500000004,1271044.5,234901.43999999997,1289103.5399999998,160501.16666666666,15817.948333333332,236537.81499999997,596311.375,5393.281666666669,126916.00166666666,442861.4016666667,2736.0016666666656,724582.6933333334,43368.159999999996,9878.041666666666,133405.76,590265.2266666667,205041.93500000003,189026.34833333336,831451.375,1270250.015,794747.3266666667,637398.4149999999,287006.135,37573.534999999996,23438.906666666666,81803.06000000001,1127268.9483333335,86271.70833333333,172665.73500000002,824060.1483333333,805383.44,547988.2400000001,137420.66666666666,88364.52666666667,139867.375,121756.26000000001,1309873.281666667,2986.7083333333335,26718.5,1173830.215,2449.9399999999996,41726.74,971073.04,589345.0416666666,424203.0150000001,455117.375,1308378.0683333334,45936.335,294716.335,26881.735000000004,1120973.375,694212.8016666666,1414651.375,356082.215,186708.64,705285.7483333334,3025.6266666666656,103342.96,31661.14,5508.041666666667,436626.00166666665,22246.734999999997,64021.335,8056.814999999998,126718.015,41641.46000000001,151272.06833333333,158874.535,354533.135,573836.96,2225.3333333333335,65717.59333333334,831974.0,54800.5,12588.739999999998,3784.0,439232.73500000004,11270.373333333331,30379.039999999997,192553.2016666667,26598.160000000003,6111.493333333333,124248.54833333334,91361.80166666668,185652.74,536905.535,527878.9349999999,243260.96,187321.70833333334,82058.5,7036.773333333332,9912.668333333333,25860.339999999997,2830.5349999999994,779876.535,594780.3733333334,17042.015,1011330.16,878703.3350000001,549418.415,83534.415,167255.84,316800.535,13556.0,861428.6666666666,771127.94,311194.56000000006,24632.934999999998,674976.0,21195.67333333333,7576.134999999999,64906.13499999999,1210283.935,347438.375,157208.34,33251.135,198473.53500000003,74657.33333333333,21522.640000000003,182811.17333333334,53044.708333333336,13767.375,26182.66833333333,260512.86833333332,250176.70833333334,1206367.14,1140899.6266666667,2159.4599999999996,27858.34,1294486.4266666668,171364.04166666666,202138.215,130030.34000000001,447533.86000000004,44459.708333333336,1174461.5350000001,110566.13500000001,11453.815,5016.5,27263.859999999997,167158.54833333337,688985.935,206384.50666666668,61991.815,63502.94833333333,76615.33333333333,531267.1933333334,332239.45999999996,885636.6149999999,108457.375,263591.8333333333,790021.1933333334,1154663.2816666665,2178.5349999999985,1205717.5399999998,352924.2683333333,189952.66666666666,174560.25999999998,82948.74,9833.439999999997,1132427.2266666668,77896.375,207409.36,472167.9733333334,46548.48166666667,877994.5,316209.7066666666,5996.414999999998,747982.0733333334,1089263.4600000002,292602.815,96623.74833333335,758835.415,835108.735,1861.8333333333333,577912.0,206205.43999999997,45245.375,126053.815,125750.15999999999,141142.70833333334,92446.53499999999,1235246.26,3868.375,24057.535,656684.2599999999,393536.20166666666,57009.00666666666,169684.39333333334,36644.20166666667,1113216.935,1366123.5399999998,1155738.9350000003,71359.20166666666,969293.6149999999,228815.26833333334,759644.66,61023.46,2178.535,158537.375,25353.334999999995,378335.41500000004,958020.16,56982.28166666667,18356.88166666667,910992.0016666668,78884.23999999999,1264707.335,464542.375,130217.80666666669,198811.81499999997,1126623.76,76804.28166666666,1830.6816666666664,787738.3400000002,27221.326666666664,29524.135,2234.4016666666657,52900.23999999999,6613.375,1345988.5600000003,16270.748333333331,2648.8683333333324,150224.5,131114.74,169208.215,71410.73999999999,453169.20166666666,52090.375,592661.0683333334,905092.735,533234.5,2560.7083333333335,202138.215,622808.8733333333,2311.481666666666,6118.34,1019897.2266666667,650592.0416666666,129030.26000000001,1200143.0600000003,141252.47333333336,91623.04166666667,2201.8333333333335,7007.335,21667.015,23736.948333333334,396288.375,1018398.3933333334,1164542.335,1336008.3399999999,72237.94833333335,9724.74,2071.7083333333335,3964.1349999999998,248069.86000000002,21146.5,38572.375,6682.740000000001,772906.415,1126072.281666667,481542.0,110759.68166666666,431511.4016666667,49826.135,1160805.36,129785.60166666668,73756.5,1269577.3333333333,234287.06000000003,861408.9600000001,290206.25999999995,2114.2016666666655,352486.135,937832.8016666666,81101.04,2747.935,857420.64,118804.65999999999,848066.5,41926.26833333333,7452.106666666667,255356.87333333332,757673.3350000001,52710.77333333334,269633.8333333333,217233.375,66309.76000000001,182534.26,566298.2816666667,38578.615,270695.7083333333,249384.77333333335,209837.04,500829.1400000001,176776.86833333332,559010.375,13944.660000000003,738691.06,222444.56000000003,35154.64,159354.40166666667,606904.0,1422798.4149999998,3384.7083333333335,123319.415,1126554.16,121225.84000000001,559273.2016666667,497935.3066666667,177624.54833333334,33171.935000000005,7627.734999999997,183381.00666666668,29648.268333333337,1265013.673333333,36804.415,304395.415,380413.33499999996,10342.801666666664,34967.66833333334,244671.86000000002,52177.281666666655,254978.70833333334,459154.6400000001,13159.333333333334,1413118.735,272889.36000000004,8108.948333333334,95564.34000000001,230595.86,72472.77333333333,967649.94,633604.4683333333,59785.593333333345,237177.01499999998,2472.414999999999,670509.7599999999,116964.69333333334,151961.13499999998,1074321.375,49341.48166666667,179972.34,207348.68166666667,49338.615,198945.535,833885.535,267607.80166666664,71249.89333333336,123508.20666666667,40618.615,18537.626666666667,209812.135,849226.415,1926.5,404966.24000000005,1122341.5399999998,202661.99333333332,115382.52666666666,2330.148333333332,30862.959999999995,22211.281666666666,198449.86,307823.8016666667,163014.015,44977.40666666667,1338922.735,5609.7266666666665,447973.73500000004,1356086.0266666666,4286.740000000001,669354.6066666666,12073.626666666669,336546.4683333333,11316.708333333334,2249.0066666666658,689250.6683333335,117236.5,815623.1349999999,780483.7266666667,604600.64,166934.74000000002,8996.960000000001,129203.85999999999,15591.414999999999,55027.815,294677.08166666667,773414.2066666667,857659.94,80230.21500000001,135786.415,115457.375,293231.135,220003.70833333334,408482.69333333336,33505.14,292547.935,142637.33500000002,998328.0016666668,511752.4016666667,27333.359999999997,101930.34833333334,182847.49333333332,5641.068333333333,460962.74000000005,39862.375,20316.10666666667,62234.708333333336,27466.548333333336,1128303.54,1183218.1483333334,975011.3266666667,78145.375,345444.5,424336.13499999995,61928.73999999999,765235.1733333333,54888.668333333335,987514.6150000001,779039.1349999999,35703.04,33687.375,13587.833333333334,66491.14000000001,24437.226666666666,13350.64,40960.69333333333,3442.0,110974.74,618297.0683333334,734037.6150000001,745828.3400000002,53894.868333333325,110587.20166666666,21504.74,619629.335,771677.6149999999,1215985.3333333333,2176.393333333333,54856.66,35147.76,3568.373333333333,529405.54,328821.8333333333,977715.5933333333,63916.375,279838.535,31396.260000000006,1314560.375,158471.46000000002,64043.375,224075.86,189426.375,681480.1066666666,65717.06833333333,178343.20166666666,1746.734999999999,40173.668333333335,1193528.8816666668,47945.333333333336,703961.5733333334,140016.535,183234.015,7229.935,91569.48166666667,76741.36,56400.73499999999,1065431.0683333334,15640.748333333337,83819.335,1313114.9483333332,1257126.8733333333,884398.8816666667,23370.660000000007,92724.56000000001,134678.93499999997,729583.3266666667,163662.74,135626.5,1166179.135,481624.61500000005,56008.708333333336,37798.735,1066530.8733333333,57678.0,152644.94833333336,548396.6150000001,138423.84,455617.36000000004,130865.13500000001,843596.375,18545.535,14900.348333333333,1282297.375,210370.16,17569.673333333336,739848.64,55687.375,32594.615,31181.72666666667,581037.6683333335,284989.135,1892.6599999999992,935539.1349999999,3381.334999999999,1402019.2149999999,114479.33500000002,93671.74833333334,375859.54000000004,54986.90666666667,12917.534999999998,11483.734999999999,543903.4600000001,67769.19333333334,248611.0816666667,386941.7083333333,47560.793333333335,18251.66833333333,154075.32666666666,376632.24,40771.17333333333,212045.54833333334,36429.935,280759.84,8533.948333333334,182453.80666666667,734813.5933333333,250965.76000000004,438643.80666666664,6308.375,828887.815,39586.5,157217.48166666666,969107.0416666666,226720.20666666667,587809.0416666666,110986.20666666668,112151.40166666667,41701.415,7777.281666666667,1094978.015,806551.735,52723.615,13865.135,402183.7083333333,64099.535,538108.56,933282.0683333334,62389.86000000001,189393.19333333336,222090.5,87011.14,758876.2016666667,185300.02666666664,198946.74833333332,30685.97333333333,77619.335,211177.84,267554.0266666667,1514210.5,8812.534999999998,996337.4600000001,2192.214999999999,639824.335,189625.68166666667,1933.535,754778.7399999999,257314.77333333335,51163.86000000001,174425.375,933173.2683333334,24575.539999999997,602061.415,1222309.0016666667,197543.00666666668,714271.4016666667,244039.015,8545.173333333334,31551.166666666668,168058.08166666667,859500.015,300637.32666666666,10561.193333333335,59004.16,211526.81499999997,4710.868333333333,92387.015,20721.815,486155.33499999996,147449.30666666667,1016863.3350000001,156075.05999999997,98580.56,640422.4266666666,42379.708333333336,67436.5,1191252.8016666668,58446.415,283594.24,24343.326666666664,7809.860000000001,395333.36000000004,133975.84,17196.26833333333,1272774.826666667,39441.76,6468.134999999999,113413.16666666667,2187.1399999999994,362667.86833333335,668013.375,11768.26,125334.34000000001,25775.006666666664,48125.993333333325,935981.1666666666,332844.10666666663,337672.4733333333,12821.439999999997,920505.4600000001,222187.49333333332,137404.66666666666,1439024.6600000001,874498.815,240859.70833333334,640632.0,102525.13500000001,11014.708333333334,1454450.215,5014.881666666667,11927.06833333333,126118.34833333334,70686.70833333333,942461.3333333334,16272.375,115097.74833333334,653510.9066666667,94489.70833333333,43940.560000000005,55376.340000000004,157784.375,80432.815,240301.84,5578.375,40650.135,2834.0733333333337,755947.7066666667,59894.708333333336,23963.30666666667,173751.415,94867.34833333334,1475406.375,1194959.4149999998,103700.40166666667,10233.44,3921.601666666667,98800.80166666668,343096.335,29711.414999999997,261554.5,56829.815,660568.375,9481.166666666666,169090.415,976928.9066666666,14548.735,322497.1666666667,145632.535,521446.63999999996,700138.415,251597.19333333336,556566.2683333333,440839.86833333335,72493.015,537093.2266666667,422467.2683333333,1238044.0016666667,315421.8016666667,396721.76,86208.52666666667,1170160.135,80835.14,180476.135,354694.135,414020.375,48852.24,2649.06,58772.375,901369.3350000001,59995.85999999999,53231.333333333336,63094.5,70563.46,7170.126666666663,14154.693333333335,2938.2400000000002,17282.339999999997,1076960.7083333333,620174.5266666667,888878.0416666666,188487.14833333332,622828.375,1402460.8150000002,192560.5,1222678.6150000002,602103.0683333334,130596.96,1326360.74,307487.94,184201.33333333334,253809.375,11498.339999999998,149238.93500000003,122648.5,553821.7483333333,277285.14,224201.19333333333,111523.93500000001,69221.815,43614.708333333336,1062874.4016666666,33084.39333333333,1321466.5066666666,965137.2150000002,475598.4266666667,1217845.4016666668,45322.96,37251.706666666665,2008.6666666666667,28923.833333333332,860767.375,628243.375,183893.16666666666,847050.6666666666,1052847.86,172485.415,29359.06000000001,5994.0,318699.22666666674,1123743.8399999999,22779.041666666668,14867.534999999998,772672.6016666667,107532.04166666667,11150.814999999997,68171.20166666666,152872.73500000002,534127.0416666666,1331926.74,1283062.6600000001,75305.68166666669,1353310.375,81993.00166666669,109899.70666666667,75030.64000000001,79817.67333333334,171197.60166666665,48557.166666666664,233586.48166666666,2568.8016666666667,225424.5,351607.4016666667,75713.70833333333,91108.61499999999,917097.44,138971.72666666665,215681.70833333334,11797.015,1349701.6150000002,120418.375,372432.4683333333,113803.00666666667,786365.9733333333,130788.21500000001,1248546.906666667,794858.2066666667,572847.8333333334,16435.481666666663,51863.40166666667,853610.2599999999,3651.934999999999,160417.33333333334,582550.2933333333,84438.87333333334,1366723.06,1809.375,276106.4733333333,402560.12666666665,17947.015,2500.014999999999,958837.36,67984.96,286429.9733333333,488959.0150000001,274212.0416666667,618058.5,1956.2683333333334,68903.70833333333,384250.5,150973.97333333333,71704.20666666665,1196245.4683333335,1113384.6933333336,22380.041666666668,4008.8816666666667,26481.273333333334,8641.406666666668,1312185.615,393316.3733333333,10593.135,256601.46833333338,852092.735,311324.135,3280.6666666666665,6518.5,547942.5066666667,306484.33499999996,881298.6933333334,1211907.9350000003,271209.415,34437.94,243091.68166666664,6649.281666666665,177595.335,57908.66,770486.935,379834.66,103284.015,453309.01499999996,61205.27333333334,16362.666666666666,61697.14833333332,1017026.2816666666,143459.86833333332,128957.00166666669,103005.76000000001,190160.70833333334,529827.6683333335,102858.415,337531.7066666666,611802.6066666666,322766.335,43456.026666666665,1024888.16,1018441.3350000001,2271.0816666666665,135300.16,1217263.2816666665,752467.7266666667,227620.415,9322.375,130554.5,291792.1483333334,331125.2016666666,41224.0,746233.7083333334,225042.0,33910.681666666664,22303.406666666666,59117.535,855193.535,1108937.375,2947.748333333333,13556.0,126426.815,454698.6066666667,757097.94,1074178.56,18435.193333333336,1153594.5,677105.1733333333,148308.82666666666,949910.7399999999,12410.5,3456.2400000000002,522193.375,12801.939999999997,11974.614999999998,1136486.66,771740.3350000001,1384757.8333333333,63274.666666666664,117790.06833333331,994163.375,771487.4683333333,211299.17333333334,3643.1349999999998,225804.48166666666,94600.415,193689.33333333334,472450.375,499699.815,16211.840000000002,166119.59333333335,528060.375,1007553.7083333334,177752.615,231158.26,92643.375,3060.559999999999,214573.72666666668,1278052.8150000002,937832.8016666666,710609.3333333334,1259013.4066666665,10839.326666666666,1867.5483333333332,147405.27333333332,756710.335,957737.735,2525.481666666667,1104083.9733333334,174824.04166666666,22214.56,22671.935,41635.375,74540.73999999999,48076.00166666667,67302.20666666668,53065.76000000001,9115.993333333332,19726.375,937428.0,223766.69333333336,2824.4266666666667,182690.2016666667,1302632.015,275066.7083333333,230258.535,664483.375,16140.64,1092906.16,40060.28166666667,113400.20666666667,483079.0416666667,2330.2066666666665,215451.00666666668,234319.93999999997,29461.093333333334,519722.87333333335,1140751.04,27887.535,201139.46833333335,75590.88166666667,96354.39333333333,957896.415,365502.3483333333,556345.3483333333,2556.826666666666,139960.2066666667,78230.81499999999,27675.593333333338,347893.375,239678.5,8256.26,5745.706666666668,999125.8066666666,754775.9933333333,636677.815,770733.7083333334,2220.3933333333334,225650.73500000002,71313.61499999999,88828.96000000002,44871.46,77081.93500000001,385667.8333333333,2802.126666666665,95854.02666666666,106334.04166666667,11883.375,830093.935,320116.375,1353513.8066666664,117424.15999999999,335173.735,160324.12666666668,115754.0,202315.54,770488.7083333334,3743.668333333333,28046.375,1309910.6666666667,32983.14833333332,2536.014999999999,52328.87333333333,87676.66000000002,533719.735,82598.64,254623.01499999998,1249294.135,41624.935,67445.36,1473180.96,701365.3066666666,200222.375,54591.333333333336,81993.00166666669,450621.0816666667,2089.3333333333335,86468.37333333335,19779.039999999997,1036000.64,101552.73499999999,98993.27333333333,176994.415,247178.81499999997,4368.793333333334,134789.88166666668,54332.20166666667,576882.34,584491.935,80232.53500000002,492218.56,3549.273333333333,510169.1483333334,65583.04166666667,1146659.44,1838.0733333333328,616608.375,66524.02666666667,39585.54,32440.20166666667,758272.2399999999,169461.17333333334,609189.0016666668,807313.0416666666,678657.535,1226321.8066666666,246856.70833333334,179993.89333333334,10712.5,34108.375,3184.526666666666,352917.535,27882.40166666666,6092.134999999999,1114544.3399999999,70869.48166666666,1461782.3933333335,176531.375,333549.335,58254.215000000004,494899.8400000001,78083.70666666667,1466366.5600000003,12457.326666666668,17071.36,1032382.0,1179752.2066666668,186731.48166666666,550919.06,1063082.8150000002,643078.6683333333,11167.060000000003,171884.9066666667,197470.5,85690.23999999999,206516.66833333333,205201.84,84026.5,730114.1349999999,702805.375,50286.24,252656.0,62619.30666666667,84470.5,119979.00166666666,252281.2683333333,97828.375,2862.606666666667,18085.334999999995,839861.735,1212413.735,180517.36,206413.84,735845.935,216557.215,273511.375,427682.9483333333,57514.960000000014,402592.34,145849.81499999997,1134660.335,24859.84,137799.34833333333,397333.94,726807.0016666668,153013.735,45237.06,55565.13999999999,31500.201666666664,871383.84,271584.93500000006,185395.26833333334,11105.166666666666,143300.66666666666,1113912.6600000001,200233.09333333335,94248.93500000001,70371.135,134909.54,489061.8016666666,725560.015,389135.535,3454.468333333334,81553.93999999999,90523.83333333333,984875.6149999999,1022309.8150000001,364090.815,946271.2733333334,652195.4600000001,201007.335,817789.4683333333,156019.84000000003,138032.39333333334,619262.3733333334,220937.22666666668,152821.68166666667,28944.468333333334,26551.734999999997,794072.0416666666,103223.46,185734.88166666668,230692.34,1268439.7083333333,336412.12666666665,77314.04166666667,1283202.335,368254.8016666667,25957.493333333336,46793.01499999999,18371.334999999995,114893.70666666667,587589.4600000001,11561.306666666665,97560.415,1283809.0416666667,1037127.2150000002,9906.26,525002.0016666667,223919.09333333335,173983.84,824643.44,205901.93499999997,40733.333333333336,829537.3333333334,888278.735,989910.3350000001,371876.24000000005,491588.26,90479.46,77155.375,1457520.375,671843.0416666666,10081.015,477488.56,11440.415,41833.22666666667,3988.375,486672.24,706759.375,629548.9349999999,32380.926666666666,852801.06,220824.66000000003,1147758.415,59506.73999999999,82028.04166666667,543637.335,165648.5,2212.135,228483.06000000003,29440.56,10092.426666666666,19418.260000000002,983527.3266666667,128086.375,193347.30666666667,809694.535,18448.426666666666,229131.80666666667,374600.54833333334,1003525.735,3049.0816666666665,18760.135,181656.02666666664,1763.3266666666652,85279.14000000001,828269.54,116291.26833333336,78293.43999999999,61117.57333333333,5883.375,1260866.375,575075.4600000001,1450996.5599999998,91934.81499999999,2190.7083333333335,456043.375,1077034.0,292372.0,11629.333333333334,23359.459999999995,844682.7733333333,187860.04166666666,193236.16,1203734.7400000002,151823.535,836173.735,126190.12666666666,865084.6066666666,17462.47333333333,706021.3066666666,172455.67333333334,240848.66666666666,2479.6150000000002,192949.00666666668,99833.59333333334,12208.5,148725.04166666666,1148288.335,587130.7400000001,29011.166666666668,94623.94,133251.16666666666,2953.7083333333335,4273.748333333334,254363.93999999997,99965.08166666667,671111.735,231799.67333333334,77084.66666666667,6416.535,16103.548333333334,16536.535,1272495.3483333334,10194.535000000002,889412.935,1271387.86,859105.84,4288.16,1027731.0683333334,350820.5,24303.539999999997,1293678.16,26861.135,4622.935,518251.9483333333,52281.04,1119484.26,7259.439999999998,6885.935,57785.76000000001,162389.86,1199266.135,77227.375,841692.56,783430.0816666667,111528.21500000001,3490.606666666665,68221.62666666669,89259.60166666667,129748.375,665748.34,473865.3599999999,556014.9066666667,57548.63999999999,113653.40166666666,124832.66666666667,182763.86,49665.76000000001,328450.0733333333,201117.86833333332,34882.335,115858.65999999999,930138.2016666667,402503.46,5255.806666666666,8594.026666666667,155689.27333333332,15323.335000000001,444954.69333333336,1987.4399999999996,1158907.375,7832.001666666667,229456.81499999997,812920.0016666666,353582.9266666667,719318.0,360523.135,54287.86000000001,3350.339999999999,159994.42666666667,52945.86000000001,137017.67333333334,1331877.5350000001,22764.0,1339189.015,560298.8150000001,119256.375,2110.734999999999,14837.40666666667,1317273.548333333,1022820.535,525148.815,735227.3066666666,199289.36000000002,7836.240000000001,43565.35999999999,151720.10666666666,671133.3333333334,4261.735000000001,12496.74,22154.5,32660.041666666668,1172308.0,331274.0016666667,203761.20166666666,751884.3350000001,210471.46000000005,81155.335,1536536.7350000003,652339.46,179303.4016666667,10054.614999999998,4318.293333333334,1274776.6016666668,51175.840000000004,8265.414999999999,14739.006666666666,316930.535,85320.07333333335,63613.06,42317.439999999995,21521.84,86013.32666666668,2201.5399999999995,1124651.015,157326.0,904691.935,2129.215,253626.29333333333,192899.40166666664,731263.0816666667,91005.21500000001,183280.14833333332,535810.7083333334,900751.375,509288.6666666667,254365.73500000002,5461.335,2702.0,1283471.2733333334,12429.173333333334,232473.04,18814.5,14055.493333333332,1193999.8150000002,162035.44,1347471.9933333334,750729.535,5117.041666666667,885093.9933333333,452446.8016666667,4833.14,1076940.535,153086.07333333333,340209.17333333334,95468.52666666667,10660.873333333335,1215318.2016666667,993506.0733333332,69406.135,672799.4400000001,4874.5,14812.69333333333,53641.97333333335,38996.375,1054219.4933333334,166523.30666666667,379387.73500000004,70828.66000000002,2311.1399999999994,860254.2599999999,429881.54000000004,99299.81500000002,1283272.375,130449.53500000002,773651.335,267581.5933333333,12064.659999999998,82638.815,97077.46,1028556.5,163725.415,343144.0,25913.375,143945.615,1171108.5,530781.2816666667,38358.375,31155.440000000002,55316.74000000001,512539.7349999999,184328.375,366792.135,60225.375,151960.69333333333,63111.833333333336,687665.6733333335,132386.73500000002,1206740.281666667,1442129.2149999999,452863.8333333333,184789.46000000005,1153719.406666667,96681.16666666667,253238.4733333334,896963.215,177398.29333333336,1214530.735,507859.41500000004,193687.46833333335,533612.6066666667,882525.86,1009883.6733333333,17270.34,621615.8683333333,63840.92666666666,990908.66,980013.7083333334,4930.801666666666,129072.41500000002,774269.7083333334,320732.4683333333,75465.76000000001,627529.0399999999,113246.16000000002,603053.1349999999,160218.10666666666,11938.935,448074.33499999996,101372.66000000002,545007.1666666666,2429.0683333333313,374641.1666666667,1258509.7083333333,2633.8149999999996,105738.5,466968.935,255507.21500000005,69469.46,130068.53500000002,71119.59333333334,1449482.4683333335,117862.12666666666,11498.339999999998,1461547.673333333,691665.86,130981.54,12037.548333333334,282551.415,798267.04,228305.04166666666,25939.839999999997,11254.24,346727.44,981630.6933333334,138408.02666666667,151000.80166666667,28324.934999999998,14486.873333333335,21891.093333333334,1328304.4149999998,218136.61500000002,77845.335,744395.3333333334,379900.95999999996,98560.20166666668,7903.059999999999,773128.1349999999,268319.76,2163.2149999999992,89116.79333333333,839891.6016666667,762710.375,15085.439999999997,253511.17333333334,3398.0,392723.615,1121883.375,888157.6816666666,3614.934999999999,676702.0816666667,97955.72666666668,126797.375,1364808.64,810298.2399999999,229450.04166666666,871340.0266666667,3904.0683333333327,794164.2016666667,1220125.375,10591.375,496354.0,23187.166666666668,279455.14,460280.46833333327,201747.08166666667,1009536.4733333333,136723.17333333334,836785.4933333333,864520.96,1438414.0416666667,724445.1349999999,14647.935,28519.89333333334,236230.96000000005,12692.740000000003,87099.74833333335,162637.59333333335,1193999.8150000002,110007.70666666667,49498.375,1066862.74,178711.06833333333,55877.935,80251.27333333333,1325142.375,286346.88166666665,1150416.64,192063.43999999997,5194.160000000001,25608.94833333333,394134.5,47049.76000000001,258175.93500000003,14129.460000000001,150679.30666666667,134108.48166666666,36334.659999999996,36301.74833333333,1346552.8016666668,643446.7083333334,28634.559999999998,189382.375,565424.7083333334,10777.166666666666,162323.66833333333,94849.83333333333,209416.535,86464.135,507754.0416666667,1211569.335,986778.015,7989.881666666667,159131.2016666667,1231510.375,21373.806666666667,337491.33499999996,151600.82666666666,216895.415,1316242.8150000002,845956.735,10503.375,4165.801666666666,272764.7083333333,396193.615,1062398.3733333333,18277.335000000003,175004.50666666668,1167326.0416666667,1079055.04,743862.375,82402.375,242377.74833333332,165806.16,17310.801666666666,2342.6066666666657,898996.1349999999,763087.44,1385582.2016666667,772362.3733333334,409153.0816666666,1212163.5933333335,234321.36000000002,35545.615,9347.001666666669,82757.62666666666,1165042.615,137123.3266666667,111214.0,390316.415,242176.0,819830.6666666666,161499.86000000002,117663.76000000001,78450.04166666667,24003.041666666668,885007.8333333334,58629.734999999986,13092.215000000002,732414.5483333333,45403.948333333334,595958.9483333334,125641.16666666667,940472.16,156496.28166666665,1876.4816666666666,392447.54000000004,32754.335000000003,38610.90666666667,3620.473333333333,102726.375,23750.535000000007,232568.0,124415.015,1956.5,444159.8599999999,212278.10666666666,38506.015,192824.94833333333,192101.93500000003,7877.201666666667,71564.135,44269.73500000001,978481.375,67294.70833333333,25621.539999999997,79619.48166666666,1152201.375,341596.16,2526.6150000000002,1199309.4400000002,681736.4266666666,6649.281666666665,7241.948333333334,1270702.281666667,501881.75999999995,38993.166666666664,109052.375,1019555.935,5773.041666666667,1265407.375,46775.375,26294.5,8106.34,158980.86833333332,369042.77333333326,47211.833333333336,373481.0016666667,566314.6016666667,92826.26,1332864.0416666667,2310.415,1269653.5733333335,650630.5,389034.66,91251.04,61730.79333333334,934168.6816666666,468253.36000000004,21784.0,104848.04166666667,193417.09333333335,45965.27333333334,2200.0733333333333,713482.96,183078.63999999998,187351.36,28019.414999999997,424144.2933333333,217486.96,156241.06,1239621.2266666668,856422.6666666666,806665.5483333335,965339.415,1155787.0016666667,3990.6666666666665,124771.14833333333,1252923.0016666667,478407.375,9251.935,5828.748333333334,194506.66000000003,261041.615,1319177.375,45995.06,2513.4149999999995,41990.615000000005,30706.559999999994,959475.4600000001,505874.28166666673,247637.81499999997,525974.2599999999,25424.34833333333,1262767.7083333333,9816.26,842892.7399999999,1311161.6150000002,886913.815,1196337.535,31284.468333333334,10947.306666666665,16661.333333333332,87282.06833333334,510596.335,680054.6150000001,288296.375,189132.66666666666,154157.16666666666,160198.29333333333,36463.04,115376.08166666667,8134.375,40803.09333333333,70883.57333333332,158664.24000000002,209079.61500000002,58863.89333333335,87372.94833333335,546694.96,153939.40166666667,69955.22666666667,170206.375,1216234.2400000002,175271.93500000003,36803.166666666664,485098.4266666666,54158.87333333333,239525.33333333334,750924.8816666667,78718.96,166883.14,1364155.9483333335,27394.015000000003,547226.34,10730.693333333333,944044.935,47259.681666666664,113557.72666666668,57705.439999999995,863877.36,403224.63999999996,104894.56,201993.20166666666,97589.60166666667,2038.735,207126.135,24893.359999999997,130540.56000000001,1154357.535,19424.793333333335,53906.20166666667,424862.2066666667,1280804.1483333332,708206.8016666666,145496.735,117415.44,195486.10666666666,746352.535,427610.6666666667,18125.335,156106.94833333336,189672.615,630693.94,1130306.815,11815.548333333334,111747.46,432055.20166666666,222189.76,1330088.6816666664,1445419.8066666666,18721.859999999997,1256030.26,544947.54,975668.4683333334,195103.36000000002,119863.14000000001,406692.0,253190.60166666668,39162.88166666667,955976.2150000002,301310.215,850278.5,182213.93999999997,162232.56,48052.293333333335,6133.334999999996,701909.4683333333,328921.6816666667,119169.04166666667,549617.2816666667,576910.66,207481.97333333336,5365.001666666664,430634.34,2010.1483333333326,41463.73500000001,540706.6816666666,14330.506666666668,274117.0016666667,86099.94833333332,1229261.8333333333,2050.2599999999993,1855.614999999999,1175892.8016666668,1106144.1483333334,11852.948333333332,305310.1066666667,9015.614999999998,1187059.2016666667,10199.626666666665,485303.0416666667,94589.30666666666,46093.948333333334,149484.66666666666,83383.375,482951.49333333335,428866.8016666666,647718.0016666668,72556.735,1247094.615,274286.8016666667,160501.16666666666,59610.401666666665,83122.66666666667,162318.0,1120194.281666667,1237535.2016666667,3494.7399999999993,942981.215,146161.74833333335,3730.773333333332,121323.04,3542.7083333333335,27035.375,11397.348333333333,658264.0,206720.135,553162.66,149278.34833333336,20686.640000000003,219822.415,74627.81499999999,59707.73500000001,302320.96,232008.215,28727.948333333334,359714.935,784034.9600000001,144181.19333333333,738336.4016666667,727484.1349999999,705960.96,1098433.04,19129.068333333336,55113.535,618208.6066666667,89391.74833333334,5613.668333333332,61238.73500000001,6754.959999999996,73415.61499999999,567580.8733333333,621768.2816666667,8537.068333333335,1130169.2816666665,403924.935,383206.0,110192.375,1087313.5733333332,904023.04,2460.7083333333335,26151.735000000004,799950.5266666667,652381.0066666667,10135.668333333333,88740.40166666667,574260.56,444869.4016666667,86032.90666666668,2339.3349999999987,632373.4816666667,86170.415,692544.16,5610.5,233286.33500000005,125488.04166666667,131286.375,533487.3266666667,759994.7483333334,213420.66833333336,141131.40166666667,275772.0,13241.015,103318.26000000001,195196.08166666667,397813.375,544457.335,26924.748333333333,1481352.7933333332,2043.814999999999,9516.801666666668,182837.015,20043.94,209609.135,124570.14833333333,127717.86833333335,440893.26833333337,673746.34,972379.86,559306.6683333335,33629.041666666664,845221.8150000001,324337.73500000004,2971.375,118949.33500000002,1251610.96,1183136.8683333334,195513.36,1150023.935,285898.54833333334,15387.166666666666,1790.793333333332,652594.5483333335,518592.2066666667,58030.215000000004,280766.96,167235.70666666667,411118.7933333333,213426.07333333333,520645.6266666667,746693.04,282912.66,194286.535,145481.33333333334,13822.640000000001,1337490.1600000001,78962.40166666667,1332902.5350000001,172412.20666666667,115969.84000000001,277970.7733333333,506330.88166666665,936003.4600000001,17702.74,709606.375,781788.9600000001,74984.26000000001,56994.935,192801.86,316409.74833333335,477844.815,414198.0416666667,407493.1400000001,11076.606666666667,608727.7599999999,10007.833333333334,5938.3933333333325,152657.46833333332,60485.93500000002,91984.70833333333,140981.80166666667,129691.76000000001,428547.00166666665,65210.375,128367.00166666666,11200.0,406655.22666666674,651740.4149999999,13809.734999999999,227026.70833333334,1322132.815,132895.70833333334,78144.90666666668,16494.873333333333,235544.87333333332,391514.56,336893.3066666667,281684.0,728386.2400000001,63596.935,528634.0,14297.001666666665,163540.375,189512.5,285327.62666666665,292625.375,84109.36,1187652.4149999998,103770.07333333335,73762.215,30764.801666666666,32978.74,110791.46,96159.21500000001,961394.215,1212638.015,146557.84,550455.7083333334,344630.60666666663,937864.56,639849.7083333334,615543.335,107930.135,5126.214999999999,2292.934999999998,937233.3066666666,151935.80166666667,710416.0,949641.6149999999,380438.41500000004,679840.6016666667,299568.3733333333,37058.215,154759.62666666668,823108.6933333334,54935.601666666684,97687.04,289785.4683333333,181075.04166666666,348465.7083333333,183558.66666666666,34421.80166666667,377634.6066666667,141460.215,662886.5,526985.2683333333,162671.88166666668,408743.8016666667,61722.534999999996,923354.215,547419.7483333333,1218476.74,613243.0933333333,885041.9933333333,330649.0416666667,443656.3483333334,1144307.4400000002,280168.7933333333,270680.535,149225.415,38434.90666666667,344807.44,122253.49333333335,696869.0416666666,21367.359999999997,71663.86833333333,127133.85999999999,38963.04,6091.939999999998,3087.601666666666,420738.615,3611.4149999999995,88391.16666666667,822164.2150000002,182509.83333333334,227053.375,792406.5,79424.14833333333,1166225.1483333332,177428.28166666665,562809.14,247689.99333333332,1060340.9483333332,148501.935,231409.375,17314.815,641319.8333333334,8572.668333333333,3871.734999999999,3593.815000000001,1836.1599999999996,186832.96,195624.55999999997,343491.7483333333,25345.041666666668,1509752.4816666667,547567.375,542538.535,25143.166666666668,176531.375,510634.61500000005,658709.5399999999,1150058.375,1092850.0266666666,14647.935,828278.2600000001,2478.5266666666657,7538.548333333335,16465.468333333334,63707.593333333345,11694.14833333333,126909.93500000001,124241.93500000001,35555.708333333336,6995.668333333335,471869.49333333335,470614.6683333333,890736.7483333334,186361.135,254960.13500000004,175853.48166666666,206067.16666666666,131652.66666666666,2629.1666666666665,7067.548333333332,279374.16,409709.7083333333,1123994.9066666665,110561.83333333333,1109394.335,6204.56,673087.7483333333,251557.83333333334,884250.0266666667,1203520.015,193960.415,173131.76,33302.0,67213.375,139119.86000000002,753038.7400000001,54092.668333333335,200624.08166666667,1111827.375,360064.3483333333,48259.54833333333,14028.773333333336,1407263.7266666666,1266038.0416666667,1147955.8066666666,524705.1483333333,738457.0016666668,851177.015,363158.26,26519.334999999995,54179.35999999999,137909.86000000002,35424.814999999995,17666.535,98652.53500000002,121928.34000000001,99485.415,6329.326666666668,147073.88166666668,7375.540000000001,95711.16666666667,765430.2399999999,201004.70833333334,7935.166666666667,190794.80166666667,335849.01499999996,24645.19333333333,61747.46,608495.1483333333,21716.373333333333,208439.34833333336,583113.14,135183.05999999997,622481.0816666667,69816.10666666666,162232.735,108793.40166666666,167825.04166666666,173012.24,1378854.26,135911.76,178223.83333333334,138515.015,2064.1349999999998,16570.001666666667,152456.215,157806.37333333332,1367610.6150000002,12180.340000000002,763492.7083333334,4312.2683333333325,114924.415,248976.73500000002,429120.6400000001,134131.14,330880.37333333335,152730.06833333333,63669.93500000002,151303.70833333334,4834.001666666666,1280977.375,78155.06833333334,20241.039999999997,57778.01499999999,116876.90666666668,252948.80166666664,732945.84,987088.215,14250.708333333334,883210.1349999999,61370.5,943078.535,112079.70833333333,244727.16666666666,27940.375,205108.56000000003,1389810.4016666666,181787.76,214400.34,4065.6150000000002,207920.26833333334,532437.84,216022.46833333335,758330.4016666667,124991.76,234788.93500000003,94181.54833333334,146411.01499999998,65929.83333333333,1006212.0416666666,116524.5,974340.415,43829.85999999999,3735.859999999999,8570.26,851523.375,307516.0266666667,1746.6933333333327,151320.615,98340.73499999999,527504.5,244965.46000000005,263536.615,504091.0150000001,962607.375,144504.63999999998,2289.735,12474.041666666666,458247.2733333334,170007.46,887993.94,211402.375,376626.90666666673,79968.77333333333,104344.10666666669,246058.5,29623.201666666664,54743.54,432950.93500000006,664458.375,1007145.06,434284.0,1168675.4816666667,1013968.3350000001,251081.3483333333,188457.375,488277.1400000001,142984.3933333333,375535.2150000001,225288.70833333334,428123.32666666666,592878.96,653313.4400000001,232365.70833333334,1082446.3350000002,844195.36,49348.375,708086.0,334602.74000000005,1271849.9483333335,34020.375,116099.85999999999,906606.7483333334,1030339.36,1252621.0816666668,27704.02666666666,59243.166666666664,195259.80166666667,1091961.9400000002,241459.19333333336,100629.70833333333,1101937.9483333332,182510.735,85990.68166666666,113265.935,943930.5,721009.535,118600.375,241736.73500000002,84004.70833333333,328868.0416666667,5209.214999999999,263792.73500000004,144284.81499999997,243927.59333333335,1129728.64,60100.96,34111.973333333335,1116938.7400000002,155267.375,3129.481666666667,645607.0416666666,163602.66,255073.9733333334,1420659.9400000002,87358.0,61634.906666666655,809039.06,432042.615,153955.86,2247.868333333333,82975.54,247020.02666666664,3333.8066666666673,107383.46,1014962.6066666668,385723.8333333333,440097.4816666667,538695.2683333333,1112782.0416666667,1060443.7083333333,829388.6016666666,529737.14,50323.041666666664,11638.5,584991.9400000001,95797.735,267076.56000000006,25509.615,779889.2816666666,201942.50666666668,131589.43999999997,205728.335,102130.5,164080.50666666668,44785.535,307081.36,104383.34833333333,171242.34000000003,586669.7599999999,2090.5,527413.7483333334,34625.166666666664,19064.815,22066.615,13463.214999999998,866659.4933333333,17110.826666666664,959004.2816666666,185539.53500000003,247891.54,1171591.415,121169.09333333334,448845.06833333336,727826.6816666666,42259.375,4526.740000000001,276251.73500000004,1438674.735,35494.041666666664,1343411.415,77449.89333333336,46831.06,43315.708333333336,491922.335,179214.335,24638.5,936005.86,1535743.36,163725.415,410807.84,5419.06,222655.73500000002,40649.44,997709.3333333334,13296.606666666668,47056.96,166557.215,68586.5,909685.1350000001,235440.56000000003,348990.535,300476.815,1044627.54,20820.26,118452.04166666667,973709.1733333333,137968.47333333336,460063.61500000005,71110.07333333332,141003.93500000003,1250533.06,500970.2066666667,635119.0416666666,74453.83333333333,3465.0149999999994,2184.293333333333,315507.5933333333,982427.8016666666,2522.773333333332,115956.77333333333,689129.86,448902.41500000004,9851.201666666668,84641.40666666666,578959.5399999999,1145225.5399999998,2818.6149999999993,191371.2816666667,819274.0416666666,508248.01499999996,607241.4816666666,86358.20666666667,45551.08166666666,6273.375,141066.87333333335,4228.268333333331,34965.333333333336,2873.334999999999,1266546.8266666667,3948.9349999999977,80422.64000000001,6981.193333333334,333437.535,201445.72666666665,941687.415,73287.08166666665,497363.7349999999,1045992.64,514538.535,732473.1483333333,156061.54,86483.015,90193.49333333333,269665.84,695305.7483333334,849634.735,233068.5,31428.24,947350.0016666668,91846.0,22628.526666666672,868781.44,226936.73500000002,75353.375,543815.9349999999,111648.04166666667,997872.16,106359.59333333334,658709.5399999999,1143248.135,242940.82666666666,1043856.9600000001,31786.201666666664,2188.615,22780.001666666667,68426.08166666667,67341.335,134025.97333333336,15916.0,150070.5,108667.40666666666,169325.88166666668,283306.615,313379.06000000006,4386.26,713020.375,84823.54,434820.815,261740.33500000005,83189.415,111801.16666666667,165249.70666666667,67257.99333333333,12730.393333333333,3960.6600000000003,304888.9483333333,163527.54,1187652.4149999998,2272.0,208120.375,194005.54,103084.54833333334,669240.7483333334,6344.0,604781.8816666667,199870.39333333334,993635.14,98307.06833333331,20202.414999999997,284860.375,8618.5,1256545.5933333335,875806.375,30989.440000000002,18030.52666666667,128315.94,1320569.14,752462.9266666666,126356.26000000001,668908.4683333333,1128347.06,49013.73500000001,3603.306666666666,18098.468333333334,419257.84,197262.535,61831.439999999995,1541310.215,1080454.26,473837.30666666664,201412.5,959935.8683333333,78504.04166666667,370367.36000000004,723709.2150000002,420737.61500000005,335572.24000000005,12574.201666666666,784016.0,178269.76,364911.54000000004,241886.535,200364.93500000003,199165.04,200506.56000000003,426564.7933333333,51092.335,323544.815,134368.82666666666,317158.0,871383.84,25075.281666666666,1761.1666666666667,61332.86833333335,1354008.6600000001,123968.77333333333,40677.939999999995,130571.84000000001,8008.506666666667,7130.681666666668,36026.535,451458.5,252006.64,1773.0599999999995,31771.535000000003,65403.306666666664,16403.039999999997,785795.735,701926.5483333335,78627.61499999999,1223313.0683333334,152821.21500000003,329786.3483333334,43345.375,478653.00666666677,268952.5266666667,9803.44,304931.7083333333,31722.206666666665,207285.32666666666,36045.815,31495.748333333333,224385.20166666666,1008815.0816666667,96647.53499999999,225965.33333333334,238473.26833333334,1186727.135,774588.0266666667,523057.61500000005,16264.615,1132256.24,2733.015,42827.935,57784.01500000001,113575.06,880939.54,25702.081666666665,373867.0416666667,98504.29333333335,830739.06,6032.041666666667,2866.1266666666656,112059.44,479986.0016666667,953365.375,115080.04166666667,147270.39333333334,163135.33500000002,2156.5,761837.86,72409.335,10648.935,1359140.335,615442.2816666667,1119549.7083333333,249432.34000000005,235195.36000000002,14976.693333333335,1940.2599999999993,89828.66833333333,114219.49333333335,2718.734999999999,999478.7083333334,942381.7600000001,178832.34,20820.26,46390.926666666666,119844.5,702250.7083333334,2685.4599999999987,118993.54,374397.54000000004,487296.6683333334,62876.375,1833.9399999999994,213218.60166666668,152313.70833333334,78155.06833333334,90398.48166666664,592392.4266666666,102485.08166666668,10927.006666666666,41573.326666666675,942756.64,25703.375,1940.5066666666662,123433.62666666669,531762.375,796455.0816666667,1369936.5,441619.36000000004,932736.4683333334,822292.2399999999,365677.375,422146.0,1001504.5,3111.94,1092542.0816666665,284321.8333333333,2139.8933333333334,10688.159999999998,156083.54,50969.401666666665,9952.548333333332,1385131.375,626808.8016666666,93743.015,785482.375,17183.359999999997,435565.1666666667,297293.8333333333,260101.94833333333,36181.615,2933.468333333332,55218.615,4738.426666666666,4239.8066666666655,321337.0016666667,1404080.7933333332,1196951.1666666667,16629.815000000002,100121.40166666667,120434.56,215760.28166666665,1210933.6016666668,5497.081666666668,328553.14,77235.70833333333,849162.4816666666,31416.82666666667,534231.9733333334,1035635.7600000001,933955.6149999999,1304651.06,59396.39333333333,18975.375,65941.33333333333,1042672.735,603697.6733333335,913509.7083333334,1260517.375,582474.815,174155.44000000003,796922.1349999999,1240393.3483333334,419050.88166666677,6469.36,1784.0416666666667,141211.99333333335,294928.60166666674,1063813.54,79122.0,128423.33500000002,799181.8150000001,894336.1066666666,201410.42666666667,245882.56000000003,787690.5,22898.615,15638.693333333335,79368.93500000001,39342.335,686397.0016666666,3148.0,339889.00666666665,52117.375,549215.14,1133973.8816666666,263899.06000000006,9650.614999999998,527894.6150000001,453909.3066666667,345480.9266666667,675933.1666666666,196971.335,286549.3333333333,49315.815,12492.526666666667,62128.506666666675,259170.01500000004,15344.068333333335,67376.26000000001,243716.20166666666,11051.135,14644.473333333333,3664.6150000000002,17274.14833333333,30822.375,116339.72666666668,185254.56000000003,4003.1349999999998,106945.04,28594.734999999997,261635.57333333333,5290.1349999999975,158087.57333333333,1269239.735,210712.50666666668,52318.56000000002,964462.5,41609.135,15930.340000000002,1451880.8733333333,11993.006666666668,569394.535,27551.80666666666,5337.939999999999,1054166.7733333334,176998.6066666667,45847.06,861027.1666666666,819800.0,115380.04166666667,1074797.8333333333,586587.415,12664.081666666665,183715.81499999997,35301.615,1020230.66,316409.74833333335,628046.4016666667,96559.06,467364.2066666667,3783.6149999999993,4951.735000000001,99969.97333333334,232461.99333333332,402457.13999999996,829536.64,1010841.8400000002,29984.335000000003,1290867.3066666666,1432299.0416666667,960150.2683333334,1164460.215,885029.8333333334,16067.993333333332,994052.0733333332,644187.0599999999,127819.97333333334,1099829.14,1412713.201666667,23785.375,7363.881666666667,154811.44,345616.415,154206.70833333334,678197.86,29262.068333333333,585032.4733333334,19544.734999999997,1068207.36,1428536.5600000003,585258.3400000001,695775.14,293232.615,1377969.44,298337.54833333334,180324.2066666667,44636.73500000001,204419.735,8038.735000000001,15734.015,37538.14833333333,354605.8933333333,5303.440000000001,88522.01500000001,325099.86833333335,661801.44,165943.04166666666,2433.1666666666665,77031.86833333333,26979.493333333336,19391.27333333333,400288.2150000001,1123760.0683333334,18860.026666666665,9846.206666666667,141116.415,584500.375,984343.7599999999,102003.375,320900.5,1790.6666666666667,989910.3350000001,1281370.135,1163164.415,54528.535,43918.20166666668,2699.468333333333,7315.708333333333,1000195.8400000002,74949.04,42762.74,10095.34833333333,180527.93500000003,1053484.2016666667,734850.375,290637.45999999996,1392549.7483333333,156855.62666666668,7552.081666666665,624929.815,57182.01500000001,17039.94833333333,122962.23999999999,64764.415,142275.16666666666,129010.375,469217.8333333333,16028.0,323125.26833333337,1758.375,1178554.16,32983.14833333332,471328.5,102820.02666666667,408797.41500000004,617586.5483333335,86205.13500000001,1202152.375,539074.5,105789.46833333332,142491.33333333334,11722.0,2069.059999999998,189357.535,1350740.7400000002,20742.640000000003,7011.535,68481.46,85025.54833333334,1228614.201666667,20835.859999999997,11782.526666666667,281474.66,938024.3350000001,965934.935,792286.34,1136844.3483333334,31725.539999999997,1110630.4149999998,1191768.5,263319.04,239333.375,25413.626666666667,2305.375,704217.04,7666.948333333331,81719.94000000002,9442.0,330875.375,209035.43999999997,715386.0,1523066.8683333334,6184.548333333335,567810.8266666667,77524.93500000001,664851.015,744392.2933333335,51908.24,185336.64,967738.7083333334,20674.506666666668,485374.6816666667,384250.5,1147868.66,710249.0816666667,1424902.0,1165103.6150000002,898854.9600000001,15291.439999999997,39557.335,42950.335,243086.28166666665,743385.8066666666,68795.86,958144.2016666667,13421.548333333334,160880.66666666666,929567.84,99969.97333333334,97669.22666666668,735642.2400000001,1061113.1666666667,2458.0,133117.375,20510.881666666664,1298200.5,1136869.14,545031.1666666666,422110.63999999996,781501.9483333334,598286.6150000001,1098607.4400000002,28971.68166666666,1007145.06,471935.3333333333,1259072.4683333335,113322.735,209472.37333333332,234910.16,21219.333333333332,28074.160000000003,331123.375,1153776.5,218463.17333333334,21392.906666666666,721972.6666666666,158903.76,88848.0,282589.49333333335,1240820.815,137299.04,125027.33333333333,1245228.5,3513.281666666667,1015750.5,436504.4266666666,1074119.135,70815.93500000001,6005.215,223248.34,4534.5,119177.21499999998,45160.73499999999,840513.4600000001,392626.01499999996,21960.5,1288372.815,26941.081666666665,701387.04,110387.17333333332,414509.4066666667,238973.93999999997,1299712.96,259092.16,122928.0,137356.26833333334,1082936.135,243507.33333333334,154050.5,150501.04,1110343.375,4773.1399999999985,50474.96,28080.5,1199218.135,40814.615,859520.3350000001,161501.00666666668,1387288.015,369358.9266666666,152725.375,923032.415,122991.86833333335,18937.860000000004,954266.7399999999,552870.5,159823.84,1437233.3333333333,131866.535,84661.70833333333,535263.14,1249394.4683333335,2123.8333333333335,28563.14,549405.6016666667,803296.015,153437.49333333332,106940.56,1145015.54,20957.706666666665,12060.666666666666,36802.0,170432.00166666668,185818.04166666666,228305.04166666666,203040.14833333332,35432.48166666667,91785.30666666666,92012.335,175877.415,34580.215000000004,132977.74833333335,177898.5,871934.5483333333,91131.70666666667,199560.375,546106.0,32206.735,43088.39333333333,76672.375,1167271.535,299748.215,183472.135,561937.2266666667,134804.24,280799.70666666667,2714.2933333333326,6961.540000000002,733542.64,140472.26833333334,77411.46,748455.0416666666,105948.60166666667,150779.94833333333,574968.1266666666,4066.1350000000007,5405.081666666667,120890.415,3029.1399999999994,5063.166666666667,2758.7933333333326,27156.201666666664,204598.20666666667,79543.84,596811.015,929444.0,44161.44,773526.0016666668,13061.335,105703.70833333333,753108.5483333333,125020.29333333335,426231.20166666666,1079306.375,48527.439999999995,601993.375,32619.406666666673,22494.5,9163.081666666667,12092.739999999998,447966.535,35869.88166666667,1135765.135,3184.526666666666,246313.34833333336,85916.74833333334,381160.01499999996,60461.09333333333,119122.06833333334,529435.46,19092.868333333332,992378.4683333334,107863.84000000001,13043.726666666664,117499.83999999998,838703.2683333334,90005.815,536190.64,877507.2733333333,992228.0,71732.335,108433.04,2028.7399999999998,454876.5,2397.401666666667,2014.0,1098991.44,48206.13500000001,9421.375,116367.54,170609.48166666666,109547.74833333335,607104.4149999999,166550.64,1055588.6600000001,844920.6933333334,481208.0,562869.46,1344473.14,18948.815000000002,912578.375,2214.6666666666665,279649.3066666667,966427.0416666666,393080.5266666667,37451.14,260419.74833333332,162629.81500000003,427239.8400000001,24935.041666666668,1020489.0066666667,28752.375,11868.526666666667,280139.5733333333,34498.135,416422.73500000004,139939.86000000002,301146.4266666667,1221940.5600000003,89427.84000000001,1194762.735,156873.80166666667,219298.52666666664,22225.006666666668,63409.14000000001,63005.89333333333,109756.08166666668,1360780.6150000002,182035.86833333332,326168.37333333335,127457.93500000001,1319611.5399999998,370015.375,86460.08166666667,53475.76,227228.375,60219.17333333334,91126.0,120408.5,9717.333333333334,7321.333333333333,169063.06000000003,44695.17333333334,971464.56,17581.615,640269.0399999999,725729.7266666666,54528.535,1258999.7266666668,335367.3333333333,981045.06,160905.08166666667,32947.948333333334,284356.0,1339189.015,13869.573333333332,236204.42666666667,1051804.0,170988.64,1086516.5,865131.1666666666,156211.67333333337,1024555.7066666667,2796.9349999999995,350939.84,150285.59333333335,64311.61499999999,131742.66666666666,1026392.015,388595.375,676383.1666666666,176945.00666666668,68221.62666666669,146000.93500000003,153437.49333333332,3747.2016666666664,779499.3333333334,808376.6016666667,30735.708333333332,934283.0416666666,1231477.9483333332,197202.0,1351806.201666667,14820.659999999998,19782.615,379913.3066666667,727826.6816666666,41400.335,1259796.935,616616.375,1272497.84,243332.535,383609.8016666667,91014.13500000001,4052.8733333333316,120638.0,1041956.0733333332,6829.735000000001,754413.0816666667,133704.69333333333,880205.9483333334,6690.160000000001,320114.56,81883.33333333333,400286.935,1034414.735,217820.2683333333,1905.4149999999993,1056972.6666666667,1176958.4016666668,1333638.335,119855.86,196151.74833333332,644187.0599999999,583083.4600000001,295086.74,871890.0683333334,456074.7349999999,18780.068333333333,7749.015000000002,163190.13499999998,833298.375,69666.96,752156.535,536772.96,572099.36,199729.81500000003,26510.82666666667,32023.001666666667,20326.948333333334,8034.0,1391169.5350000001,29864.74,112690.04166666667,469442.7933333334,716298.9483333334,5453.86,1016204.8683333333,792403.2683333332,2265.3599999999997,46009.939999999995,868826.16,26559.360000000004,28923.460000000003,867544.2599999999,19079.27333333333,148036.12666666668,10564.5,113216.90666666668,20386.24,189101.16666666666,2007.375,350238.5266666667,1056320.6683333337,17074.239999999994,111896.26000000001,929567.84,191282.535,885076.0416666666,18799.539999999997,258493.00666666668,57145.26833333333,14246.815000000002,151096.26,620635.3266666667,1101218.0,1387732.615,371618.5,145648.375,25965.414999999997,634085.0399999999,251071.01499999998,687864.7933333333,212125.94833333333,71373.46,784007.7599999999,1286252.2683333333,145068.88166666668,983016.1266666668,324508.815,473701.2266666666,63036.93500000002,737070.6149999999,198140.24,400595.415,426373.8333333333,647213.0416666666,2655.939999999999,1328776.0733333335,368988.2816666667,1145573.1666666667,8014.426666666666,143168.93500000003,8890.948333333334,355290.9483333334,596425.3483333333,117566.50666666667,63236.935,718510.66,232766.0,424635.1666666667,30391.67333333333,4241.735,270880.73500000004,27732.041666666668,238151.16666666666,158508.40166666664,610637.735,621270.56,169599.04,266278.66,1464320.7083333333,1055182.135,818010.935,212560.29333333336,1465314.5,1106171.9350000003,11605.36,8574.348333333335,232604.82666666666,13082.401666666667,3348.1066666666666,4280.375,1096330.815,579076.0733333334,21248.041666666668,157328.14833333332,320834.86833333335,1486197.3333333333,1194032.4733333334,559010.375,139171.70833333334,126393.27333333332,729773.1666666666,156064.015,89465.80666666669,44815.840000000004,482986.24,196568.015,354556.0,593852.0816666667,24057.535,809057.86,727260.34,2134.6666666666665,184213.48166666666,3719.4816666666666,81064.0,238175.135,1090462.0,7079.801666666666,20351.481666666663,2264.1599999999994,1175593.04,198344.68166666667,22480.073333333334,264493.7083333333,722291.6266666666,923242.7933333335,79698.20166666666,33912.135,1128155.3266666667,139478.96,806620.34,783234.415,58754.215000000004,5409.333333333333,51630.16,132404.29333333333,6898.5,26011.615,3034.535,40499.46,2043.6016666666656,174740.04166666666,75155.16666666667,231178.3483333333,66980.5,162584.5,124851.375,1454008.826666667,243716.20166666666,38724.666666666664,123773.99333333335,347040.87333333335,804247.5933333334,16797.015,328553.14,7863.415000000002,1265227.9933333334,88491.86833333333,1189385.0016666667,1422726.9350000003,21250.375,427714.73500000004,992886.56,95025.70833333333,92784.82666666668,47189.72666666668,1101077.935,734537.86,4923.535,147964.815,117822.26833333331,73177.015,158687.44,11956.748333333337,544367.1349999999,51627.833333333336,3420.0416666666665,1268364.9266666668,2609.8816666666667,1301992.0016666667,775225.535,1017292.935,34259.22666666667,8940.106666666667,31759.673333333336,1092845.76,2119.6816666666655,45729.814999999995,4529.868333333333,45533.375,261868.50666666668,302309.04,1071835.615,1007386.66,1232128.9483333332,1268868.2066666668,51293.615,386315.01499999996,57373.215,70181.04,1010163.3350000001,364892.215,1105523.86,217383.84,570906.5,54743.54,1175168.0,1000806.2016666667,106057.36,111794.5,156212.5,54632.73500000001,468717.375,633568.375,261472.81500000003,1265824.215,22234.948333333334,27483.06000000001,1438897.4149999998,264966.74,914174.8266666667,655392.0,996819.0416666666,7486.240000000001,3540.34,48813.593333333345,2154.801666666666,23886.081666666665,718398.66,1065520.64,593203.5399999999,224632.54833333334,1966.159999999999,24852.041666666668,241389.49333333332,90955.13500000001,822283.84,393640.95999999996,115084.53500000002,319019.215,922731.6149999999,8590.126666666667,605189.6683333333,4061.215,511786.375,324711.04,571824.1066666667,232675.43999999997,360555.84,27400.614999999994,1044762.5,194806.0816666667,1066683.735,10465.375,1299725.6266666667,7341.333333333333,1323510.6816666664,129698.0,24271.668333333335,25755.44,53497.615,2930.5,7044.348333333332,53497.615,507357.04000000004,14157.833333333334,74988.53499999999,11233.833333333334,126248.735,84108.70833333333,771677.6149999999,230374.0,1112085.0816666668,4290.16,138731.30666666667,22771.833333333332,13810.748333333335,149039.08166666667,573849.36,140544.60666666666,50850.666666666664,34291.375,124287.84000000001,14772.559999999998,572360.4016666667,421242.4733333333,17450.0,111833.04166666667,16048.135,726698.0416666666,4508.735,100549.89333333333,202810.16,1932.0149999999994,1068493.84,134095.40166666664,1148612.8683333334,12236.468333333332,246862.0,69537.74833333334,2624.068333333333,626535.9400000001,79976.375,1233744.0016666667,930084.935,12661.881666666668,226695.93999999997,276980.54833333334,360991.68166666664,125056.21500000003,639436.2066666667,41017.86000000001,148957.3266666667,776972.64,22387.815000000002,12451.006666666668,481984.3483333333,332663.88166666665,126412.80166666668,767652.16,240728.34,46306.77333333334,257028.12666666668,1324551.9733333332,162520.96000000002,531860.6150000001,39494.668333333335,1388226.1266666667,733544.2150000002,31638.339999999997,3428.0,711665.14,1003070.375,99068.06833333334,241059.415,654552.4733333333,236636.0266666667,516378.8016666667,1242149.7266666668,18106.5,1129378.0,1256004.0733333335,46451.375,63288.86833333334,137460.46833333335,7438.001666666667,584803.4149999999,56946.293333333335,1414327.0599999998,1400544.5,417374.2683333333,240730.5,4781.493333333334,73490.42666666665,951467.8066666666,308356.24,1195618.64,146233.72666666665,443169.76,1214411.2683333333,563791.1733333333,1207386.64,672242.7483333334,12371.135000000002,8188.735,1223367.7266666668,196429.83333333334,163457.46,42102.340000000004,190032.1066666667,36196.26,96095.80166666668,130015.94833333335,183049.015,47725.375,60977.06,813339.7083333334,69031.375,125964.53499999999,390022.0,884668.16,232340.26,218765.48166666666,20048.001666666667,162124.66666666666,1503503.215,300843.84,1259407.46,146426.42666666667,753627.6266666668,254815.44000000003,461089.3333333333,393353.20166666666,233641.36000000002,234196.375,572422.375,503959.61500000005,10033.839999999998,23295.748333333333,987957.0683333334,273782.2933333334,7174.414999999998,834348.4266666668,36714.88166666666,703018.4016666667,225606.3933333334,17988.375,1122445.0066666668,75662.81500000002,1046194.2400000001,286812.215,161433.89333333334,42985.01500000001,67460.66000000002,613422.2150000001,291230.4816666667,112818.08166666667,1131936.1266666667,63326.56,168633.76,2402.4150000000004,370178.82666666666,943147.3333333334,142615.84000000003,280697.335,6176.615000000001,1494991.9349999998,130052.64000000001,259129.04,82762.88166666667,1170365.1483333332,53166.159999999996,16070.935,138033.80166666667,163409.33500000002,1273248.375,404536.375,87456.5,372987.335,435661.9483333333,8997.601666666667,838105.06,889165.0933333334,54155.668333333335,158444.34000000003,1540513.0600000003,1344255.0416666667,6954.66,126181.33500000002,309361.8016666667,451970.66,7967.2266666666665,2006.3733333333323,76121.06833333334,959234.66,73933.61499999999,525365.735,2366.5,762625.6816666666,40183.375,1222278.5600000003,25271.375,1152224.1600000001,31600.668333333335,127508.54833333334,243983.83333333334,189457.375,209893.415,67387.99333333333,332057.935,254984.0266666667,189595.33500000005,13351.934999999998,387306.9483333333,68136.93500000001,132376.335,496951.5933333333,959396.375,372000.41500000004,4599.935,11505.273333333336,1329551.9350000003,163122.0,1460938.6150000002,25001.948333333334,115211.44,19462.815,74317.36,165343.70666666667,258658.12666666668,25868.02666666667,87934.375,46275.00666666666,899727.4816666666,54525.17333333334,154320.415,3172.4150000000004,45440.935,3235.734999999999,6443.059999999998,582836.2016666667,36221.13999999999,4848.708333333333,1509888.375,560911.9933333333,223283.46000000005,1107522.015,858021.86,4900.5,676018.5,48859.814999999995,53533.681666666664,38183.439999999995,123316.02666666667,441902.135,7749.801666666666,1025086.375,5660.375,88220.74,10449.201666666668,775827.8333333334,66481.16666666667,281355.41500000004,1207954.2149999999,68136.16,1141468.5350000001,263258.33499999996,6487.215000000001,93688.04166666667,2117.814999999999,427703.44,60700.61499999999,77113.06833333334,48502.0,1783.3333333333333,3784.0,283012.25999999995,13910.948333333336,97487.83333333333,183183.76,50044.041666666664,116281.40666666668,2770.375,198425.80166666667,14509.833333333334,202525.375,1234452.0416666667,148450.0,58107.215000000004,9051.415,541531.4683333333,76483.09333333332,9768.881666666666,130512.0,2134.6666666666665,1233705.3333333333,770638.1483333333,190794.80166666667,297956.42666666664,1896.3349999999994,70081.57333333332,2985.3333333333335,118244.68166666669,7619.439999999998,969843.4600000001,75801.415,127854.74833333334,62332.960000000014,27006.5,252656.0,1254646.16,321246.935,233052.66666666666,295361.68166666664,1282527.201666667,89058.88166666667,5951.673333333333,348198.3483333333,480696.215,157808.73500000002,57116.375,193425.30666666667,72127.375,1339518.135,665687.46,552847.54,42818.66000000001,16878.535000000003,690390.7733333333,230230.96,973977.4933333333,1114375.46,835016.1483333333,36171.840000000004,350544.7083333333,98131.86833333333,981604.0,91447.20166666666,62520.14833333334,643478.7400000001,171852.96000000002,308929.06,35169.13999999999,1191252.8016666668,933599.3350000001,58124.814999999995,82987.16666666667,28060.740000000005,296855.6016666666,183718.375,416932.24,13301.14,15770.708333333334,87792.21500000001,265471.5733333333,5705.375,898261.735,282587.01499999996,528855.4016666667,249751.48166666666,20456.5,491376.68166666664,37110.74833333333,151395.54833333334,1023371.4600000001,40163.815,191182.375,7257.815,7695.6016666666665,237256.07333333333,3790.2399999999993,61283.00166666667,208317.74833333332,253350.77333333332,19821.14,45733.84,18223.94833333333,424427.615,161956.0,582383.535,611140.0266666667,1278557.0933333335,1320592.4149999998,40568.041666666664,17665.015,1112005.135,373908.335,62749.01499999999,312632.56,127133.16666666667,454362.5483333334,15914.026666666665,988396.2600000001,6893.2683333333325,13154.815000000002,727559.2733333333,1334255.0416666667,365276.63999999996,120098.94833333332,145815.36,324709.36,548400.1349999999,1235243.06,210318.90666666665,27353.414999999997,41572.0,39553.14,28940.660000000007,433113.36000000004,164627.375,650694.2599999999,284649.815,9637.44,2446.2816666666668,242694.0,162125.86833333332,70059.67333333332,1125160.0733333332,136449.33333333334,10248.64,78637.375,161322.07333333333,294290.95999999996,23803.06833333333,16910.068333333333,9218.74,6467.459999999999,195762.56000000003,672331.7483333334,1097696.26,17236.708333333332,228361.415,78616.535,1410097.0600000003,540229.3333333334,14400.375,847803.375,48772.068333333336,627075.6683333333,144472.375,239153.08166666667,1248123.281666667,135004.01499999998,743862.375,315129.45999999996,1083802.0816666665,5543.068333333333,21111.539999999997,84635.36,3081.5350000000003,66720.50666666667,66913.53500000002,40424.40166666668,164278.0,102158.5,103921.46,935239.1350000001,160268.66833333336,412206.06833333336,15375.626666666669,907154.4266666666,71922.60666666667,8348.77333333333,63104.88166666666,88596.88166666667,6757.406666666665,9202.26,380734.3933333333,6006.659999999996,1237063.36,173534.52666666667,735350.6666666666,406655.7066666667,527563.86,29698.735000000004,9298.375,926236.5,113068.66000000002,175189.86000000002,6263.401666666666,35135.939999999995,1128678.015,8430.473333333333,425643.04000000004,384844.56,170899.14833333332,1243348.4016666668,181075.535,14645.76,217233.76,3292.393333333332,61771.06,163065.99333333335,654285.1933333334,1072749.5483333336,325506.5,1136176.8683333334,1021008.4016666667,272035.2816666667,1133014.4149999998,98892.26000000001,1063782.34,85500.93500000001,24935.26833333333,284193.6816666667,337779.8333333333,1193708.64,19774.601666666666,126649.19333333334,6395.868333333335,673282.2150000001,288026.82666666666,187007.93999999997,66461.06,357715.61500000005,305288.63999999996,2507.1666666666665,681968.0683333334,530378.2400000001,79092.26,72451.44,262056.74,34629.415,921229.6683333335,930256.1350000001,25140.873333333333,1111280.34,64082.935,62844.16,948368.0683333334,1212823.0816666665,4438.826666666668,274104.4016666667,565908.5483333333,632297.735,647753.2733333333,10981.86,496899.4016666667,7892.614999999998,219334.5,52177.535,564403.535,71874.21500000001,167558.04166666666,422662.26833333337,332402.64,148308.82666666666,964460.1266666668,3822.375,93077.09333333334,87601.83333333333,40279.26833333334,117677.35999999999,1371427.215,17689.615,43844.82666666666,2863.375,22183.934999999998,121930.13500000001,1121597.4016666668,892566.7933333335,591724.66,341591.1666666667,234783.46833333338,28166.375,32129.06000000001,659580.64,61453.36000000001,7026.5,23996.5,111191.20166666668,947527.84,60504.20666666666,111145.35999999999,93982.81499999999,30683.326666666664,396147.535,19727.934999999998,2458.0,76716.0,112969.40166666667,1244824.735,12194.5,100215.76,238331.14,120170.55999999998,8281.76,5610.6016666666665,4209.268333333333,49575.081666666665,660593.7066666667,1400573.86,101322.16000000002,923940.375,939121.935,104488.735,194903.14,14607.401666666667,61849.681666666664,1189012.6150000002,504920.5,26071.708333333332,41163.46,204433.32666666666,707587.0016666666,7911.726666666669,788293.1483333333,607654.5266666667,67984.96,788182.015,623487.4400000001,189889.76,487741.94,130093.015,76425.21500000001,36103.35999999999,22854.015,1469919.2266666668,75604.60666666667,45326.935000000005,17365.34833333333,680715.9400000001,101706.70833333333,556207.44,857297.3350000001,141108.74000000002,1208000.135,739925.2266666667,117338.34000000001,1195571.36,661045.0599999999,377118.535,50150.87333333333,119421.76000000001,212180.20666666667,57784.01500000001,146932.39333333334,47233.335000000014,87984.66666666667,67835.28166666668,1366723.06,672087.2683333333,68596.53499999999,805410.64,102134.04166666667,12792.414999999999,708616.015,807183.3266666667,1833.706666666666,709298.5,137277.60166666665,69196.335,126244.82666666666,971044.0,313787.1666666667,384942.86833333335,654862.4733333334,49369.335,43044.041666666664,128954.21500000001,2528.0816666666656,992168.64,1131501.9483333335,879469.735,197717.54,551992.0,233236.0,1390311.6016666668,1259015.86,210835.735,13012.0,31665.214999999997,1338827.4816666667,6094.348333333335,1763.6149999999996,20105.726666666666,92599.815,356112.01499999996,24534.881666666664,76666.52666666666,5148.614999999999,217818.10666666666,344293.015,30008.559999999998,349836.61500000005,135097.615,40917.708333333336,562031.3066666666,829091.3350000001,251267.04,151887.89333333334,54820.5,353308.12666666665,173450.66,14258.5,1088734.5,38259.54833333333,724852.8150000001,211954.74,917909.4600000001,12733.459999999997,299258.2816666667,73333.22666666667,1770.3399999999995,719472.56,104355.16666666667,1360381.8066666666,4514.026666666666,400153.4683333333,2853.539999999999,1088534.935,801324.7733333333,130173.16666666667,145142.33500000002,308925.1666666667,727689.6150000001,215356.26,170370.70833333334,20480.26,530297.2266666667,134502.96000000002,896977.4016666667,29242.40166666666,28464.281666666666,249488.79333333336,35703.04,528673.0933333333,85916.335,1235197.14,557124.5,207900.29333333333,2224.4149999999995,575489.9400000001,265126.615,14546.5,261624.28166666665,576585.0016666666,687035.9933333333,60840.64000000001,770163.3066666666,4889.84,208803.32666666666,36959.28166666667,25419.76,1076194.1600000001,242908.42666666667,1209510.1266666667,1178788.375,21604.426666666663,76303.19333333334,2806.9483333333324,9613.614999999998,1206204.5,4362.0,102331.81499999999,344032.3400000001,19208.135,7153.375,14644.473333333333,801805.4600000001,797187.8333333334,156683.215,884153.84,604236.1349999999,62045.74833333333,192804.93500000003,258193.94833333333,61701.14000000001,226936.375,243012.14833333332,1798.906666666666,47672.666666666664,678220.66,139730.47333333333,122792.52666666667,485954.13499999995,174515.43999999997,845404.7399999999,406775.815,122270.70833333333,4847.415000000001,1047870.5266666667,1013804.6933333334,1499271.76,267655.815,95066.29333333333,11949.833333333334,171906.335,23015.375,6692.375,876880.8016666668,441042.7083333333,329192.74,538153.7599999999,176620.26833333334,274808.1483333333,549523.8016666666,222755.40166666664,329717.7083333333,23539.041666666668,353790.215,285952.6683333334,234943.70833333334,396511.75999999995,28470.79333333333,93449.935,12208.814999999997,13131.460000000001,196397.60166666668,133603.61500000002,104605.375,194725.375,1010157.375,10939.335000000001,42147.33500000001,3135.459999999999,1998.9349999999995,784646.815,6533.573333333331,131648.96000000002,38128.96,38074.08166666667,837338.7733333334,42810.708333333336,5968.0,546710.1349999999,11405.668333333333,1253820.7483333333,459354.24,72473.375,2558.934999999999,857704.66,1388325.46,184425.53500000003,8732.815,1206528.375,182547.415,287496.1483333333,14411.760000000002,61778.375,454266.54833333334,84325.84,35330.666666666664,1066530.8733333333,3061.7083333333335,89693.34833333333,895336.7399999999,35871.215,11137.14,229658.215,2971.406666666666,6927.673333333331,662579.2683333333,117677.335,258920.21500000005,46750.426666666666,70540.53499999999,175949.73500000002,369860.06833333336,428623.815,6934.0,350575.375,137749.40666666665,6785.401666666666,7422.375,450316.7733333334,1191318.5,127296.54833333334,629650.4816666667,54653.215,3453.806666666666,881298.6933333334,471763.8066666667,122797.335,376898.0,104315.66833333335,1147881.94,69706.53500000002,910479.14,743637.0599999999,541522.1483333333,841940.4266666668,31430.506666666668,33611.326666666675,738709.735,807928.2399999999,534202.2400000001,27145.059999999998,614966.9600000001,72578.26,1088679.0600000003,185942.42666666667,442237.54000000004,1242792.375,12066.335,727247.8333333334,1207913.8016666668,1092237.8816666668,781172.0683333334,18996.47333333333,1041923.8333333334,6751.081666666668,1104497.8816666666,11045.708333333334,171498.39333333334,1203572.015,150793.015,71808.06833333333,1072251.6016666668,131424.66666666666,572413.0816666667,7024.548333333331,59787.86000000001,104792.60666666667,954035.6733333333,222314.4016666667,15063.535000000003,256719.84,155215.54,31032.693333333333,123773.99333333335,351424.935,1279462.375,196073.54,7610.041666666667,3383.5399999999986,17999.748333333333,586011.04,119021.40666666668,147228.87333333332,1116663.8333333333,7966.668333333332,5597.46,471410.7349999999,256828.81499999997,54342.335000000014,38058.135,143354.39333333334,454272.90666666673,1227324.7083333333,999735.94,347798.0,11068.868333333334,197779.73500000002,10028.201666666666,705474.8683333333,35404.24,24936.5,165071.36,4133.166666666667,55591.01500000001,93418.20166666666,26790.041666666668,1751.3066666666662,110704.92666666668,2418.906666666666,1751.8599999999988,33843.60166666666,155286.66,572552.6150000001,1746.375,2317.1349999999998,21241.201666666664,52537.17333333333,301326.0,458671.5933333333,222785.70833333334,729986.5,3605.215,262844.215,688282.5066666667,133345.54,696386.2816666667,142881.86000000002,291241.4016666667,98479.49333333335,362664.86833333335,1371810.6933333334,14123.859999999999,70831.36,302070.615,222320.52666666664,105021.68166666669,21721.76,12725.015,63114.48166666667,74251.375,31388.734999999997,526424.0,149104.615,604580.5066666667,547942.5066666667,511488.7733333334,47815.46,1207582.7733333334,154024.26833333334,8559.76,7372.415000000001,890691.7266666667,177410.56000000003,270646.375,3197.8149999999987,1192314.7400000002,1068588.6683333332,4087.1349999999998,128367.00166666666,207481.97333333336,472854.5,9032.214999999998,549382.6816666666,838156.6066666666,260034.0266666667,2420.668333333333,30251.815000000002,739908.0,70541.46000000002,457660.615,1074797.8333333333,56380.39333333335,54624.82666666668,123292.375,141877.84,194318.80166666667,134061.80166666667,18977.681666666667,2869.059999999999,19137.335,39832.348333333335,723809.375,423638.34,228094.60666666666,30449.19333333334,497863.44,636061.2266666667,977715.5933333333,214565.93499999997,1238894.0416666667,541083.6016666667,157957.015,19449.535,1018279.415,17718.414999999997,98766.53499999999,813425.44,141003.93500000003,235851.375,55496.00166666668,98722.935,839845.735,142764.34,1438194.735,7881.375,182164.66666666666,1255305.375,12347.539999999999,8354.526666666667,307166.9483333333,60960.615,965127.6816666666,3684.0,229981.83333333334,457724.86833333335,60043.36000000001,225961.84,338070.93500000006,988875.3350000001,741686.375,2399.44,172539.83333333334,881925.0016666668,3460.375,819333.0816666667,505405.3333333333,1449005.86,343582.1483333334,264688.375,2488.415,15814.0,169100.5,45721.09333333333,388209.32666666666,52090.82666666667,69204.13500000001,75896.0,82623.14833333333,270200.215,53888.82666666668,6410.426666666666,43359.76,84791.43999999999,1172427.76,808471.535,6697.840000000001,77596.64000000001,80356.0,861804.5066666667,48768.5,1117019.8333333333,429286.7733333334,1372325.1666666667,56383.76000000001,12771.46,485226.41500000004,283382.4683333333,21909.440000000002,37672.37333333333,26340.959999999995,23817.940000000002,4511.839999999998,352923.9483333334,324913.93500000006,23702.375,640393.44,469583.33499999996,1741.7083333333333,687918.375,1207538.3733333333,162948.16,3845.1350000000007,1042944.735,2597.375,145982.375,598865.2150000001,121537.57333333335,118560.375,382981.135,501248.6683333334,94428.34000000001,634470.935,129661.33500000002,167200.615,576349.3333333334,9692.815,967775.935,19254.106666666663,53170.375,153164.735,567958.5599999999,274906.20666666667,133641.04,882553.7266666667,83133.68166666669,1271193.46,1812.1349999999993,85925.46,55521.539999999986,169332.00166666668,18816.0,23439.539999999997,35850.415,629152.6016666667,435097.28166666673,27191.86,558570.335,357631.44,479583.44,6086.639999999999,563114.2599999999,5322.793333333332,386148.415,339771.935,69109.61499999999,218356.88166666668,14760.041666666666,9150.340000000002,5529.44,60342.526666666665,43829.85999999999,71187.13500000001,367141.7066666667,8940.159999999998,48232.426666666666,1011633.3483333333,101754.02666666667,89138.5,85641.84000000001,146385.415,236230.96000000005,81825.57333333332,146492.06833333333,1310555.14,1952.281666666666,740117.7483333334,137760.20666666667,177504.70833333334,1746.373333333333,25260.29333333333,20835.940000000002,532725.1483333333,91377.04,22190.734999999997,3519.5349999999985,1382635.7083333333,226772.46833333335,114258.33999999998,508257.8333333333,18349.540000000005,154200.5,31732.934999999998,120183.04,105670.73999999999,387403.375,323333.04,7062.215000000001,1100400.3399999999,16916.215,32516.5,338797.04,2632.0,173287.14,1054167.04,16014.0,57050.815,421007.04,266911.2683333333,1280156.4016666666,980488.6066666666,861469.7066666667,1153636.26,23035.201666666664,85940.81499999999,484806.56000000006,74858.52666666667,161682.47333333333,130543.08166666668,1407028.6600000001,64780.80166666667,137176.375,1199880.7400000002,205780.81500000003,8582.468333333332,264332.63999999996,1353513.8066666664,46100.96,39336.535,13324.135,1067214.0416666667,159487.27333333332,80368.54833333332,73286.0,109501.615,7260.159999999999,969114.1350000001,1101190.735,1267261.375,28960.666666666668,656337.1666666666,86096.20666666665,25103.015,2498.2066666666665,19066.666666666668,35364.348333333335,789696.375,937183.6683333335,1145479.7483333333,225063.70833333334,25107.673333333336,12547.54833333333,1266217.135,696333.415,24382.015,32685.573333333334,2072.375,2563.935,1100548.015,220120.29333333336,505142.5266666667,208993.36000000002,95270.73499999999,135279.60166666668,6777.493333333335,310403.67333333334,116889.415,307081.36,195752.50666666668,1155044.7733333332,1080347.14,43325.74833333333,613702.4149999999,43617.46000000001,464580.1066666667,679534.8683333333,1113980.66,37752.615,5377.759999999999,205782.66666666666,555984.16,22007.214999999997,1399732.96,117305.14000000001,251611.215,16629.335,158410.48166666666,735190.2150000002,113680.61499999999,2323.6149999999993,23448.92666666667,78637.375,4514.959999999999,7207.068333333333,149452.64,1168821.4016666666,53181.22666666666,1138627.815,140959.61500000002,2277.068333333333,75583.54,114678.00166666666,487095.7083333333,15764.206666666667,59448.90666666668,230258.535,405763.73500000004,213614.01499999998,32042.52666666666,1184340.64,248966.01500000004,81242.375,356481.94,214295.375,1063160.001666667,7907.86,168572.10666666666,246545.81499999997,841668.64,14606.814999999997,1211584.4733333334,429546.375,812210.8733333334,70296.02666666667,37900.0,54330.659999999996,901390.9600000001,126207.14000000001,439795.3333333333,135774.415,1120932.64,466399.84,79418.74,516340.28166666673,1132210.5600000003,71790.735,655292.6666666666,529730.935,8597.333333333334,937359.44,1144350.1483333334,94363.44,1398545.8816666666,69221.815,164689.06000000003,8396.77333333333,194721.015,438208.9483333334,69968.5,1191910.7483333333,97621.375,22814.26,877737.4600000001,765576.8016666666,323511.535,172707.75999999998,318237.54,213229.04166666666,94663.00666666667,82940.74,204039.04,737498.415,2892.9266666666676,16776.506666666664,119408.10666666667,64875.93500000002,313138.375,52469.708333333336,807778.9600000001,2758.6599999999985,67005.04,52568.73500000001,1463226.2400000002,69840.34833333334,177498.375,541026.5,304732.74,126227.06000000001,574846.66,1399217.4400000002,720442.8733333334,1324154.3733333333,195098.5,250771.01500000004,162885.375,874475.415,20000.293333333335,416644.33499999996,70690.54833333334,4967.993333333333,62296.50666666666,806199.9483333334,272237.8333333333,9747.04,1277148.6600000001,530301.3066666666,44428.0,75916.26000000001,178387.375,191888.375,957934.0,5342.548333333331,272749.735,1170134.7483333333,960273.3483333333,76332.735,140914.20666666667,113448.0,972741.14,21261.281666666666,38364.34,234308.70833333334,1925.375,62202.666666666664,1374137.9350000003,1766.3349999999998,614491.4683333333,138274.29333333333,642415.44,230203.375,205678.375,182507.215,640259.2266666667,64737.81500000001,197272.26,28009.201666666664,795279.415,577882.16,405764.5,17953.68166666667,2231.1349999999993,441296.95999999996,1022820.535,48254.73999999999,872535.94,522942.375,79276.135,44092.01499999999,1014966.66,4947.414999999998,2142.1349999999998,4439.14,156254.66666666666,1029673.8933333334,7872.535000000001,242708.26,449745.935,24843.539999999997,44665.34833333333,90842.70833333333,25248.375,685255.735,1490130.375,9586.639999999998,130585.94,789328.375,1190638.4016666666,210406.0266666667,581689.335,216080.96,76971.16666666667,11995.093333333332,28413.414999999997,505524.2933333333,463290.6666666667,648724.7933333335,100131.09333333332,1047334.6066666668,25274.126666666663,330421.415,159413.67333333334,950647.4933333333,63902.73500000001,547225.6016666667,493361.45999999996,28508.0,163655.40666666665,40249.041666666664,32736.708333333332,81313.62666666668,70433.00666666667,259418.01500000004,826476.735,219103.86,4859.833333333333,781275.0066666667,8170.1066666666675,163474.60166666668,750941.14,2021.134999999999,141929.72666666668,758633.4400000001,14196.214999999998,204911.70833333334,566961.1933333334,498870.74,341852.0,1146694.3733333333,1252273.6816666666,89252.69333333334,156319.04166666666,48623.74833333333,883334.5,33054.82666666667,146428.0,416842.935,1116977.9933333334,213222.74000000002,611268.2683333334,71258.79333333333,828908.935,8448.201666666666,20532.54833333333,655259.7599999999,1918.748333333333,463352.01499999996,743242.7399999999,25326.468333333334,318996.6016666666,239445.93999999997,186480.615,16570.001666666667,163965.70833333334,75922.015,15437.481666666668,355021.06,339052.735,671269.1349999999,1902.401666666666,354801.93500000006,2592.3399999999997,33779.54,243564.16,170793.81499999997,35766.46833333333,65583.54,145209.815,422466.74833333335,166499.13499999998,183103.135,24098.24,681395.015,30600.468333333338,50516.26833333334,78498.66666666667,24311.40166666666,327836.82666666666,144482.80166666667,598835.335,836552.6149999999,377591.06,106506.26000000001,459914.6666666667,1274019.673333333,70285.375,15485.815000000002,49550.215,48869.935,220818.04166666666,119218.375,1810.3399999999992,211069.54,116463.81500000002,89574.50666666667,1514779.5350000001,23352.64,221226.0,1159713.4016666666,5800.708333333333,1170330.4683333335,1256798.615,712916.4266666666,82416.46833333334,245094.73500000002,173418.26833333334,400922.3933333333,744599.4933333333,14794.735000000002,2298.5,191690.60666666666,1138610.375,203053.70833333334,1089444.3483333334,2130.7083333333335,7219.993333333333,532770.9483333334,49383.32666666668,573332.8150000001,96114.04166666667,935449.84,270405.1666666667,37017.49333333334,7064.481666666664,1340610.7083333333,9922.26,172156.60666666666,1079306.375,82294.34000000001,28225.43999999999,1136920.5483333336,9273.148333333333,329321.04,683145.5399999999,136447.04,1058281.9933333334,354566.20166666666,2848.3733333333316,103680.66666666667,7190.415000000001,131333.59333333335,43394.215000000004,1113544.4016666666,46199.706666666665,2201.8333333333335,1042484.2600000001,57598.96,1223762.26,551573.6016666667,290365.335,117196.96000000002,1260502.6933333336,1989.415,4299.760000000001,335967.415,302675.7083333333,154200.5,245386.68166666667,976294.16,549925.935,150779.94833333333,384488.215,268559.9483333333,77837.33333333333,107935.09333333332,21340.414999999997,591568.66,121685.32666666668,22913.015,107348.70833333333,182815.57333333333,67073.335,181720.34833333336,7285.615000000001,198678.81499999997,196529.015,108556.615,46269.89333333334,10865.806666666667,389874.0,35614.815,4697.334999999996,672948.7083333334,1017893.735,440440.68166666664,10211.139999999998,45931.14833333334,66274.94833333332,554365.815,824188.1483333333,148783.67333333334,439369.4816666667,248094.02666666664,969057.3350000001,645604.3400000001,270620.0416666667,46720.708333333336,491764.0416666667,1043280.9600000001,15045.068333333335,680348.2599999999,2581.015,814779.86,1035902.2150000002,1338005.86,101169.21500000001,320342.1066666667,123319.94833333332,206548.56000000003,93095.86833333335,17527.375,11833.881666666663,51412.00166666667,266499.86833333335,23057.548333333336,3571.306666666666,194060.5,65443.61499999999,26908.081666666665,230555.33500000005,269973.4816666667,749489.7066666667,762856.8150000001,615543.335,761290.6150000001,726546.0,599105.7483333334,2010.5,1240012.0816666668,81069.40666666666,311173.44,316736.9483333333,3147.893333333332,280797.36,393536.20166666666,596207.7483333334,1417452.415,705831.2266666667,53341.668333333335,241969.04166666666,12751.375,60603.13999999999,6342.96,251683.67333333334,398592.0416666667,50805.44,98033.32666666668,3334.4266666666663,355384.01499999996,5418.606666666666,1467797.4816666667,2373.0066666666658,156277.06000000003,19157.166666666668,708116.64,673329.6816666668,1316488.2066666665,16879.041666666668,142144.66,1206553.0816666665,14553.166666666666,57028.14833333332,120625.40666666668,1197676.535,1788.3399999999992,2219.2149999999997,1055563.14,1242035.375,1179514.3399999999,468676.41500000004,44662.37333333333,72196.23999999999,836163.4600000001,3545.326666666664,45831.74833333332,2534.639999999999,803025.04,165077.88166666668,105843.21500000001,133674.08166666667,162477.04,42498.015,153164.735,58105.840000000004,199523.375,44734.659999999996,262636.66,274135.13499999995,46141.04,88593.415,980237.9400000001,565792.64,1067553.4600000002,107701.89333333336,25396.40166666666,107280.41500000002,97991.13500000001,114030.015,856560.6666666666,13529.615000000003,121373.415,102416.40166666666,680923.375,139981.06,5289.041666666667,111150.21500000001,90679.06000000001,14028.773333333336,148706.015,162118.86833333332,118304.5,214229.44000000003,1229375.14,212465.70833333334,1002547.535,4331.439999999999,192486.0016666667,2018.2149999999995,377667.7083333333,1194591.6733333336,261929.0816666667,42589.54,34760.159999999996,9167.081666666665,356479.59333333327,260869.86000000002,430972.95999999996,305646.735,26173.708333333332,2679.94,54155.668333333335,38588.041666666664,93533.70833333333,3904.9600000000005,425194.06833333336,514446.33499999996,1161881.9483333332,381322.535,23655.839999999997,861205.7083333334,47565.535,1143031.015,50002.375,108887.375,96087.53499999999,18126.041666666668,2210.6149999999993,151785.68166666667,1221890.1066666667,16589.748333333333,2783.215,488188.375,1914.801666666667,185916.20666666667,591858.8816666667,1116662.4733333334,923779.735,1140838.5600000003,240119.43999999997,47538.93500000002,40521.708333333336,352126.33499999996,1077850.66,2670.481666666665,9487.375,89476.96,862035.0816666667,493667.28166666673,17882.375,797719.8816666667,248045.84,174650.13499999998,439546.0,50328.534999999996,66984.135,6434.041666666667,13545.86,508828.88166666665,61717.414999999986,315729.2266666666,395684.25999999995,127496.74,126149.33500000002,6919.708333333333,3525.726666666667,52545.76,1219769.2149999999,800622.64,1184736.615,150660.375,539214.9483333334,225645.93500000003,1129130.281666667,589587.535,1024960.935,112462.41500000002,745161.6816666666,150192.74,81350.70833333333,32040.793333333335,52951.166666666664,15354.773333333336,200341.97333333336,220122.74833333332,156874.56,192214.0,838006.5,102599.94,22803.94,18604.068333333333,333835.84,2647.839999999999,58118.293333333335,201929.535,599870.1349999999,41973.439999999995,212045.54833333334,50999.039999999986,2154.8149999999996,129072.41500000002,1512264.1600000001,134221.06000000003,3428.0,1061485.2683333333,1172330.2933333332,27856.414999999997,301997.4016666667,18721.859999999997,34964.60666666667,43265.375,982235.8150000001,413421.4816666667,91817.04,335733.93500000006,427239.8400000001,137988.68166666667,92849.415,1006341.8933333334,87921.48166666664,157143.46,55024.73499999999,329978.26,126623.13500000001,1267274.2683333333,1127657.2149999999,494016.66,518296.74,498658.0683333333,1218214.3483333334,16014.0,229491.80166666667,707497.1349999999,562631.1483333333,2934.6599999999994,1080357.0066666668,14584.041666666666,1737.9933333333322,181460.60166666665,748190.2816666667,347917.8400000001,501657.44,253440.87333333332,125136.73499999999,141143.935,1176779.86,110317.83333333333,228280.735,777533.7483333334,15548.666666666666,311203.2266666666,605602.66,741146.335,410885.2733333334,141427.36000000002,1272643.0399999998,189990.16000000003,42143.59333333334,1098160.3483333334,48668.708333333336,136782.07333333333,700908.3350000001,89278.415,167822.415,293678.16,407084.68166666664,175783.99333333332,63976.5,172548.13499999998,284126.375,550367.8150000001,870469.6150000001,10364.214999999998,472516.0816666667,1227716.8150000002,11136.934999999998,240143.36000000002,293678.16,1832.1483333333329,615442.8150000001,1738.2149999999995,2030.6016666666662,14659.001666666665,102206.94833333332,138797.00666666668,918591.015,293997.86833333335,876939.535,667307.015,40143.534999999996,638274.64,11272.026666666667,192247.30666666667,13384.239999999998,1061770.815,1115252.16,7191.334999999996,497364.41500000004,650951.3333333334,1187499.6683333332,28573.081666666665,269603.9733333333,7308.666666666667,2821.859999999999,394891.7066666667,227986.96000000005,170148.5,3398.268333333332,34845.48166666667,253715.9733333333,440458.34,20347.375,349363.9733333333,14591.015,311545.7083333333,213131.86000000002,1374633.4016666668,855927.2816666666,429034.2933333334,881349.8933333334,2450.8016666666654,1523066.8683333334,95637.54000000002,339394.74,834372.9066666666,124074.0,147000.93500000003,344271.375,483023.135,481522.0150000001,182726.93500000003,1274018.5,107857.80166666668,1023527.86,547931.3350000001,47213.215,1077766.1483333332,337690.7933333333,170782.40166666664,256344.34833333336,30550.0,4498.666666666667,12994.881666666668,305243.04,62719.840000000004,286122.6016666666,1774.6683333333324,22631.414999999997,158533.46000000002,758413.84,199120.96,588590.375,709002.9066666667,620269.5399999999,871383.84,1153694.74,51543.306666666664,939208.0816666667,1465470.2066666663,228204.3933333333,978258.4733333333,17826.24,432067.59333333327,7049.833333333333,110364.61499999999,183136.415,91909.14833333336,747445.6816666666,662830.2599999999,17103.681666666667,665620.015,395657.2733333334,3098.3350000000005,53666.0,58734.5,671800.1266666666,198051.49333333338,625498.2933333335,14180.073333333334,693557.535,492690.6683333334,1048099.7483333334,976392.9600000001,480136.7933333333,139940.74,76064.73999999999,2378.6150000000002,1098577.7066666665,145387.615,174119.335,266842.56,32291.493333333332,1771.1666666666667,3117.4399999999987,384862.0266666667,68681.44,1767.8333333333333,106007.21500000001,37281.375,450175.3333333333,545105.8066666668,127554.14833333333,178794.66666666666,1123303.7083333333,7478.014999999999,614416.0683333334,1234514.335,2890.826666666666,751307.44,194468.0,17102.606666666667,28184.5,2292.6066666666666,665719.7483333333,244025.84,45269.993333333325,6074.5,983912.215,231853.83333333334,39373.375,85826.66833333335,1229038.375,1013548.7733333334,109226.53499999999,281507.94,207140.415,174560.26,57005.333333333336,152347.74833333332,410529.6816666667,89760.33500000002,214454.04166666666,52079.668333333335,157747.30666666667,1009883.6733333333,1256752.4149999998,179614.0,341713.04000000004,463707.8333333333,173814.66666666666,6366.415000000001,68962.215,521839.615,702042.0683333334,702209.4683333333,149817.535,7238.259999999999,95569.14000000001,313374.6066666667,3727.593333333332,1981.8399999999992,39378.526666666665,14838.001666666663,74423.44,371740.6400000001,379164.4816666667,85077.84000000001,451205.00666666665,31431.040000000005,664373.5733333334,2093.614999999999,170175.16666666666,142620.375,583517.7083333334,2234.8816666666667,325406.34,51697.27333333334,429052.0,297579.13499999995,618692.0416666666,49955.006666666675,446609.75999999995,5752.614999999998,455995.6816666667,21888.015000000003,1128224.26,168071.81499999997,494139.09333333327,48147.973333333335,805194.8150000001,282531.535,8760.015000000001,160802.0,32983.14833333332,1222192.0266666666,78179.22666666667,276460.20166666666,51412.00166666667,1178828.2683333335,44196.28166666667,965443.86,3186.201666666664,1162265.06,960665.04,17760.548333333336,2998.348333333333,537760.66,2099.0416666666665,126457.21500000001,4734.206666666668,116715.01500000001,23774.24,18346.960000000003,106716.60666666667,148000.135,264922.01499999996,2044.5,128869.76000000001,193388.16000000003,7191.334999999996,543472.0416666666,448485.44,57877.593333333345,349537.935,420070.7083333333,117720.70833333333,180252.14833333335,176468.0,758944.0016666668,166340.24,503503.44,147935.54,566714.8150000001,797034.0733333332,6790.708333333333,38610.90666666667,1293564.535,836184.8816666667,22722.39333333333,210043.36000000002,733178.16,841757.04,525120.0816666667,1479937.2266666666,929444.16,732336.66,1212324.135,172776.33500000002,48993.840000000004,1007051.3350000001,47029.226666666684,627001.735,10683.060000000001,154124.0,154414.015,43886.375,91081.76000000001,1830.7349999999994,21545.32666666667,2903.9349999999995,351731.8333333333,713505.8016666666,88044.79333333333,794999.4016666667,1073802.24,412156.1483333334,1169622.96,46407.833333333336,615249.6683333333,125450.55999999998,76735.04166666667,49058.681666666664,849831.7083333334,900141.5933333334,16070.201666666666,104776.375,939503.5933333333,1292559.94,158723.22666666665,555776.335,368670.2933333333,691382.2066666667,67758.34000000001,11059.468333333332,1097175.14,11471.306666666665,1429152.4016666666,254625.22666666665,321870.16,109100.26000000001,142016.5,154238.25999999998,878157.94,54402.375,56076.375,158003.04166666666,35297.015,15767.334999999997,923056.8733333334,1485714.4816666667,93127.54000000002,1982.7399999999996,256311.26833333334,772175.535,4570.56,193637.49333333332,850993.06,325884.375,7287.201666666667,559802.4266666666,391954.3483333333,330928.4016666667,2182.0,1235180.5266666666,243467.13999999998,33119.335,148787.13999999998,1177341.735,91272.48166666664,174679.14,686385.535,432915.6683333334,429926.5,4878.159999999999,984056.3350000001,571327.8683333333,29166.0,42658.793333333335,1148061.46,24432.375,595320.3400000001,86830.26000000001,1018208.2016666667,107419.54,1332828.135,1021332.6066666668,133207.16666666666,327349.7083333333,174302.80166666667,1010143.54,146646.0,138515.015,2058.3399999999992,1123070.215,862016.415,3948.481666666668,698109.0599999999,16092.073333333332,63295.439999999995,1214874.6683333332,1120464.0416666667,651535.6150000001,99709.83333333333,159024.16,974619.015,24031.573333333334,25872.001666666667,46850.50666666666,112603.26833333336,369862.2066666666,244237.76,63268.0,4135.134999999999,140682.86833333332,1063512.215,1103603.14,204770.20166666666,33595.375,372172.6666666667,181249.33333333334,424376.615,7125.281666666665,111293.21500000001,156937.375,3204.5349999999985,9207.041666666666,45354.935000000005,4884.793333333332,969293.6149999999,929631.7083333334,42822.0,985048.9600000001,617216.6666666666,16401.468333333334,9542.666666666666,4456.334999999999,23639.44,391327.8333333333,611786.7400000001,384933.44,6027.015,108959.66833333333,340488.41500000004,1210685.2266666668,73053.815,128204.5,276044.20166666666,7208.735000000001,71943.19333333334,5942.935,417421.1483333334,15733.76,161917.375,11058.735,1161514.8683333334,28494.535,18707.06,13158.29333333333,54001.375,961862.4733333333,101509.21500000001,210837.46000000005,733052.9349999999,329312.16,388057.73500000004,219287.86000000002,823496.7399999999,24936.5,484806.56000000006,737939.0416666666,147960.70833333334,658137.375,605137.3483333334,22842.215,45801.401666666665,33515.94833333334,6748.268333333334,1092456.375,38847.881666666675,60125.333333333336,263771.88166666665,791105.7066666667,181111.59333333335,1068592.0683333336,1333303.6016666668,205663.54,333042.34,49963.166666666664,16046.415,150329.44,412717.86000000004,312195.4066666667,582483.8816666667,70181.04,60658.23999999999,351861.2733333334,125381.19333333331,18112.0,17987.335000000003,202501.26833333334,238093.375,1141374.24,1434250.6666666667,404602.5266666667,56470.26,3687.934999999999,453573.535,72880.16,167795.83333333334,6671.86,527589.14,168660.66666666666,355836.0,628047.0016666666,229200.5,951439.4600000001,1775.7083333333333,1063611.735,645163.0416666666,149857.00166666668,937253.36,34878.815,314141.2266666666,974984.2599999999,8970.868333333332,242951.615,73335.14833333335,436139.7083333333,4437.535000000001,67939.99333333335,988304.7400000001,1351542.9350000003,54585.215,420738.24,100660.74833333334,636581.3350000001,4553.993333333331,421682.535,874767.7599999999,734677.8816666667,656774.2066666667,23044.015,177410.56000000003,138619.22666666665,5154.134999999999,370444.50666666665,5962.340000000001,402592.34,1305865.8933333333,28332.135000000006,95371.375,234307.06000000003,388057.73500000004,17048.375,49963.40166666667,1371195.3333333333,1122957.1666666667,4637.1349999999975,74436.0,44874.5,225934.135,316561.7083333333,1025295.3350000001,3199.0416666666665,678652.9483333334,15009.041666666666,55053.80166666667,877617.8333333334,309198.34,3202.5066666666676,957737.735,637051.4600000001,489600.66,572828.2599999999,68328.26,1148692.015,200055.375,182662.34,178187.375,369327.215,56561.46,30735.36,2685.4599999999987,372250.7083333333,467055.135,1016090.9483333332,19038.66,2072.7349999999997,22103.375,306703.54,755755.9933333333,247072.04166666666,87596.23999999999,35061.54833333333,446618.0,921521.14,57181.193333333336,67235.735,23077.993333333336,1018882.0266666667,83585.34833333333,7408.793333333332,87923.20166666668,58398.926666666666,4707.039999999998,112290.00166666666,50753.28166666667,897123.2016666667,350811.26833333337,171555.70833333334,722614.8683333333,39348.56,93412.34000000001,497753.28166666673,333816.4266666667,1789.7083333333333,778166.66,185264.0,1040700.415,297956.42666666664,2229.859999999999,26094.708333333332,1253245.735,26874.414999999997,291091.375,777586.015,43485.041666666664,1153694.74,617169.6266666666,50700.375,2153.001666666666,49214.681666666664,760930.5066666667,1248165.535,81295.66833333335,236260.70833333334,194984.87333333332,14873.335000000001,293994.6683333333,17904.401666666665,629143.5933333333,80509.44,865058.7399999999,1154856.135,131939.54833333334,955719.935,29257.860000000004,3017.5483333333336,17527.001666666663,62197.814999999995,60909.62666666667,629190.735,51441.41500000001,120189.66833333335,2504.214999999999,1034540.6150000001,1389378.8816666668,272993.4683333333,140918.10666666666,194515.17333333334,10981.375,148063.375,1070781.3333333333,4002.1349999999998,25434.5,207717.6266666667,207111.20166666666,87569.04166666667,12122.160000000002,613043.4933333333,215416.66,34597.375,61354.041666666664,835242.56,46299.54,63125.135,2254.6666666666665,161522.12666666668,196336.47333333336,17408.815,90278.5,731295.9733333333,86276.24,1134660.335,136743.61500000002,189447.67333333334,152771.04,333285.94,1109717.76,1442747.2733333334,136132.74000000002,3026.5,882668.66,661213.8016666666,76986.26000000001,143088.13499999998,25868.935,11722.659999999998,288566.5,1106669.8150000002,2371.001666666665,166038.08166666667,125615.86,136659.33333333334,245684.4016666667,1338953.015,745622.2599999999,1150933.1933333336,548450.4149999999,70037.14,662886.5,4619.040000000001,284055.375,299786.415,269266.335,2710.7350000000006,8102.014999999999,921631.2683333334,511206.16,19625.735000000004,110093.04166666667,24795.406666666666,1321925.7083333333,877815.375,1150059.015,681485.4400000001,1035747.04,264644.74833333335,264593.215,175487.84,7602.0,148782.79333333333,402407.06000000006,696057.94,2697.7599999999993,136458.69333333333,1312994.0,221257.375,176378.77333333332,61504.56000000002,205862.04166666666,512327.13499999995,1024271.7600000001,22950.734999999997,27301.708333333332,82811.00666666667,715409.7083333334,25622.815000000002,3139.934999999999,12090.815,46927.615,90048.21500000001,1375354.6600000001,390297.215,1439024.6600000001,345616.415,411021.6733333334,247980.50666666668,19264.34833333333,50762.26000000001,43453.62666666667,31185.460000000003,182161.415,769324.935,157113.13999999998,163768.61500000002,158165.375,185458.375,810124.7083333334,272890.9483333333,1219846.215,2257.5399999999995,1249316.16,281842.48166666663,7634.240000000002,16860.414999999997,286286.25999999995,1362906.26,164810.04166666666,15083.460000000001,132529.815,11014.708333333334,13440.415,30724.80166666667,86394.5,90726.5,1193363.015,25521.934999999998,1459038.5483333336,449491.1666666667,672636.9600000001,121711.70833333333,184138.5,1137260.375,1851.375,1156471.06,2986.7083333333335,476271.4683333333,1035488.2400000001,323847.68166666664,1962.7399999999996,1110764.0266666666,1788.5,601465.6016666667,1275841.0399999998,452200.01499999996,1112543.9733333334,417698.56,5414.614999999999,41776.24,1019554.0683333334,135026.39333333334,266712.6683333333,6293.993333333333,48455.166666666664,67286.215,54126.54833333333,861349.2266666667,240151.535,82634.0,13815.481666666668,68455.375,1525748.5599999998,431755.33499999996,98833.59333333332,868941.3066666666,179419.41500000004,311676.26833333337,71263.135,68173.80166666667,2325.734999999999,1931.668333333333,721020.415,55242.415,103392.01500000001,6146.801666666666,740977.9933333333,866955.375,30978.373333333333,3303.8016666666676,1360124.7483333333,12776.135,552346.015,1079638.3733333333,182975.375,407815.375,2251.7083333333335,237289.99333333332,414739.5483333334,947171.015,57463.68166666668,36103.35999999999,1491344.0733333335,401333.0416666667,7587.535000000001,172896.96000000002,3665.273333333333,14672.08166666667,66799.06,150196.48166666666,838156.6066666666,62954.06833333333,1022284.6933333334,212026.135,136298.82666666666,1286106.5,186452.56000000003,997507.84,1300483.3066666664,28371.493333333343,349437.3333333333,949391.1666666666,1216719.815,178768.615,444435.375,2914.606666666667,399009.00666666677,13542.335000000001,890210.8016666668,986945.7599999999,265609.41500000004,35694.159999999996,1191879.7083333333,4133.375,1857.0149999999994,101765.815,145522.60166666668,1072848.5,50383.840000000004,772175.535,1044713.1666666666,142132.04166666666,1153073.215,140418.0,217420.375,104779.44,1292900.0416666667,13202.64,547407.7266666667,2154.526666666666,64593.840000000004,33191.335,161260.135,1360870.5,1033463.535,1514210.5,122696.26000000001,740958.4733333333,186131.0016666667,2322.3399999999992,141458.40166666664,186673.36,85625.04,16941.859999999997,62646.5,75320.56000000001,54296.415,566714.8150000001,94579.935,68840.29333333335,152638.73500000002,112715.30666666666,1108249.06,220941.30666666667,329105.375,249988.5,907864.3933333334,23177.166666666668,23015.748333333337,196032.0816666667,230830.5,1294505.7083333333,372003.76,910592.7083333334,128340.015,1046133.415,501131.86833333335,628069.0816666667,205365.04166666666,433855.13499999995,1379571.0816666665,8787.375,32487.868333333336,821613.3350000001,163486.34833333336,966226.0,141791.06000000003,66736.5,91784.68166666669,2669.439999999999,2908.015,576522.3350000001,103067.86,192287.06833333333,1137875.0016666667,334981.375,204026.8266666667,733892.375,682845.46,445153.33499999996,343841.1483333333,5189.833333333333,71753.935,1034447.2150000002,134997.93999999997,21638.001666666667,15447.615,151025.935,1969.3349999999994,821301.1666666666,23450.001666666663,29478.375,837827.2150000002,11685.893333333333,217892.42666666667,916002.0016666668,101162.60166666667,17450.415,103801.59333333334,20097.215,6484.041666666667,9490.5,304914.54833333334,134139.27333333335,486891.76,30151.375,44260.668333333335,87629.28166666668,105945.16666666667,138487.375,120283.83333333333,767938.0683333334,38373.833333333336,491060.375,96638.935,161609.06000000003,19385.333333333332,14471.935000000003,1214528.6600000001,359269.535,786610.1349999999,612016.375,938597.5933333334,15083.801666666668,218204.93500000003,59841.06,110084.87333333335,107264.52666666667,232034.33500000005,784016.0,1019213.2266666667,197934.015,212815.04166666666,156121.415,51886.66833333334,181038.615,7756.873333333332,329255.44,315157.4816666667,596903.6016666667,381584.6666666667,191584.88166666668,167674.70833333334,1290831.8399999999,151337.93499999997,5454.606666666664,700085.7599999999,58520.13499999999,179977.015,1018696.375,594797.9349999999,515618.24000000005,1064512.615,15928.534999999998,171793.04,152462.9066666667,1085280.7483333333,940400.7083333334,89609.36,6584.668333333332,33788.135,101227.67333333334,411382.4016666667,855494.5,495016.2066666667,145539.415,917929.0683333334,61216.375,38059.46,147273.93499999997,1054933.815,244038.63999999998,236856.41500000004,163378.73500000002,1425937.6683333332,2936.16,426579.45999999996,153427.09333333332,280427.615,344824.015,1141906.335,242159.13999999998,64363.76000000001,737150.0416666666,163944.88166666668,297204.34,88696.735,247049.735,843232.735,142192.26,83089.67333333332,301663.67333333334,3087.706666666665,171432.735,89935.59333333334,770944.7083333334,123933.93500000001,305895.70666666667,148973.99333333332,136723.17333333334,76922.215,1426570.26,20934.873333333337,231467.01499999998,366164.5,19266.401666666665,9268.640000000001,604001.0416666666,244842.66666666666,914067.6683333335,271333.135,217514.3483333333,3947.6816666666673,223809.81499999997,129657.33333333333,50915.28166666667,18232.735000000004,385335.30666666664,6089.406666666665],\"type\":\"mesh3d\"}],                        {\"template\":{\"data\":{\"histogram2dcontour\":[{\"type\":\"histogram2dcontour\",\"colorbar\":{\"outlinewidth\":0,\"ticks\":\"\"},\"colorscale\":[[0.0,\"#0d0887\"],[0.1111111111111111,\"#46039f\"],[0.2222222222222222,\"#7201a8\"],[0.3333333333333333,\"#9c179e\"],[0.4444444444444444,\"#bd3786\"],[0.5555555555555556,\"#d8576b\"],[0.6666666666666666,\"#ed7953\"],[0.7777777777777778,\"#fb9f3a\"],[0.8888888888888888,\"#fdca26\"],[1.0,\"#f0f921\"]]}],\"choropleth\":[{\"type\":\"choropleth\",\"colorbar\":{\"outlinewidth\":0,\"ticks\":\"\"}}],\"histogram2d\":[{\"type\":\"histogram2d\",\"colorbar\":{\"outlinewidth\":0,\"ticks\":\"\"},\"colorscale\":[[0.0,\"#0d0887\"],[0.1111111111111111,\"#46039f\"],[0.2222222222222222,\"#7201a8\"],[0.3333333333333333,\"#9c179e\"],[0.4444444444444444,\"#bd3786\"],[0.5555555555555556,\"#d8576b\"],[0.6666666666666666,\"#ed7953\"],[0.7777777777777778,\"#fb9f3a\"],[0.8888888888888888,\"#fdca26\"],[1.0,\"#f0f921\"]]}],\"heatmap\":[{\"type\":\"heatmap\",\"colorbar\":{\"outlinewidth\":0,\"ticks\":\"\"},\"colorscale\":[[0.0,\"#0d0887\"],[0.1111111111111111,\"#46039f\"],[0.2222222222222222,\"#7201a8\"],[0.3333333333333333,\"#9c179e\"],[0.4444444444444444,\"#bd3786\"],[0.5555555555555556,\"#d8576b\"],[0.6666666666666666,\"#ed7953\"],[0.7777777777777778,\"#fb9f3a\"],[0.8888888888888888,\"#fdca26\"],[1.0,\"#f0f921\"]]}],\"heatmapgl\":[{\"type\":\"heatmapgl\",\"colorbar\":{\"outlinewidth\":0,\"ticks\":\"\"},\"colorscale\":[[0.0,\"#0d0887\"],[0.1111111111111111,\"#46039f\"],[0.2222222222222222,\"#7201a8\"],[0.3333333333333333,\"#9c179e\"],[0.4444444444444444,\"#bd3786\"],[0.5555555555555556,\"#d8576b\"],[0.6666666666666666,\"#ed7953\"],[0.7777777777777778,\"#fb9f3a\"],[0.8888888888888888,\"#fdca26\"],[1.0,\"#f0f921\"]]}],\"contourcarpet\":[{\"type\":\"contourcarpet\",\"colorbar\":{\"outlinewidth\":0,\"ticks\":\"\"}}],\"contour\":[{\"type\":\"contour\",\"colorbar\":{\"outlinewidth\":0,\"ticks\":\"\"},\"colorscale\":[[0.0,\"#0d0887\"],[0.1111111111111111,\"#46039f\"],[0.2222222222222222,\"#7201a8\"],[0.3333333333333333,\"#9c179e\"],[0.4444444444444444,\"#bd3786\"],[0.5555555555555556,\"#d8576b\"],[0.6666666666666666,\"#ed7953\"],[0.7777777777777778,\"#fb9f3a\"],[0.8888888888888888,\"#fdca26\"],[1.0,\"#f0f921\"]]}],\"surface\":[{\"type\":\"surface\",\"colorbar\":{\"outlinewidth\":0,\"ticks\":\"\"},\"colorscale\":[[0.0,\"#0d0887\"],[0.1111111111111111,\"#46039f\"],[0.2222222222222222,\"#7201a8\"],[0.3333333333333333,\"#9c179e\"],[0.4444444444444444,\"#bd3786\"],[0.5555555555555556,\"#d8576b\"],[0.6666666666666666,\"#ed7953\"],[0.7777777777777778,\"#fb9f3a\"],[0.8888888888888888,\"#fdca26\"],[1.0,\"#f0f921\"]]}],\"mesh3d\":[{\"type\":\"mesh3d\",\"colorbar\":{\"outlinewidth\":0,\"ticks\":\"\"}}],\"scatter\":[{\"fillpattern\":{\"fillmode\":\"overlay\",\"size\":10,\"solidity\":0.2},\"type\":\"scatter\"}],\"parcoords\":[{\"type\":\"parcoords\",\"line\":{\"colorbar\":{\"outlinewidth\":0,\"ticks\":\"\"}}}],\"scatterpolargl\":[{\"type\":\"scatterpolargl\",\"marker\":{\"colorbar\":{\"outlinewidth\":0,\"ticks\":\"\"}}}],\"bar\":[{\"error_x\":{\"color\":\"#2a3f5f\"},\"error_y\":{\"color\":\"#2a3f5f\"},\"marker\":{\"line\":{\"color\":\"#E5ECF6\",\"width\":0.5},\"pattern\":{\"fillmode\":\"overlay\",\"size\":10,\"solidity\":0.2}},\"type\":\"bar\"}],\"scattergeo\":[{\"type\":\"scattergeo\",\"marker\":{\"colorbar\":{\"outlinewidth\":0,\"ticks\":\"\"}}}],\"scatterpolar\":[{\"type\":\"scatterpolar\",\"marker\":{\"colorbar\":{\"outlinewidth\":0,\"ticks\":\"\"}}}],\"histogram\":[{\"marker\":{\"pattern\":{\"fillmode\":\"overlay\",\"size\":10,\"solidity\":0.2}},\"type\":\"histogram\"}],\"scattergl\":[{\"type\":\"scattergl\",\"marker\":{\"colorbar\":{\"outlinewidth\":0,\"ticks\":\"\"}}}],\"scatter3d\":[{\"type\":\"scatter3d\",\"line\":{\"colorbar\":{\"outlinewidth\":0,\"ticks\":\"\"}},\"marker\":{\"colorbar\":{\"outlinewidth\":0,\"ticks\":\"\"}}}],\"scattermapbox\":[{\"type\":\"scattermapbox\",\"marker\":{\"colorbar\":{\"outlinewidth\":0,\"ticks\":\"\"}}}],\"scatterternary\":[{\"type\":\"scatterternary\",\"marker\":{\"colorbar\":{\"outlinewidth\":0,\"ticks\":\"\"}}}],\"scattercarpet\":[{\"type\":\"scattercarpet\",\"marker\":{\"colorbar\":{\"outlinewidth\":0,\"ticks\":\"\"}}}],\"carpet\":[{\"aaxis\":{\"endlinecolor\":\"#2a3f5f\",\"gridcolor\":\"white\",\"linecolor\":\"white\",\"minorgridcolor\":\"white\",\"startlinecolor\":\"#2a3f5f\"},\"baxis\":{\"endlinecolor\":\"#2a3f5f\",\"gridcolor\":\"white\",\"linecolor\":\"white\",\"minorgridcolor\":\"white\",\"startlinecolor\":\"#2a3f5f\"},\"type\":\"carpet\"}],\"table\":[{\"cells\":{\"fill\":{\"color\":\"#EBF0F8\"},\"line\":{\"color\":\"white\"}},\"header\":{\"fill\":{\"color\":\"#C8D4E3\"},\"line\":{\"color\":\"white\"}},\"type\":\"table\"}],\"barpolar\":[{\"marker\":{\"line\":{\"color\":\"#E5ECF6\",\"width\":0.5},\"pattern\":{\"fillmode\":\"overlay\",\"size\":10,\"solidity\":0.2}},\"type\":\"barpolar\"}],\"pie\":[{\"automargin\":true,\"type\":\"pie\"}]},\"layout\":{\"autotypenumbers\":\"strict\",\"colorway\":[\"#636efa\",\"#EF553B\",\"#00cc96\",\"#ab63fa\",\"#FFA15A\",\"#19d3f3\",\"#FF6692\",\"#B6E880\",\"#FF97FF\",\"#FECB52\"],\"font\":{\"color\":\"#2a3f5f\"},\"hovermode\":\"closest\",\"hoverlabel\":{\"align\":\"left\"},\"paper_bgcolor\":\"white\",\"plot_bgcolor\":\"#E5ECF6\",\"polar\":{\"bgcolor\":\"#E5ECF6\",\"angularaxis\":{\"gridcolor\":\"white\",\"linecolor\":\"white\",\"ticks\":\"\"},\"radialaxis\":{\"gridcolor\":\"white\",\"linecolor\":\"white\",\"ticks\":\"\"}},\"ternary\":{\"bgcolor\":\"#E5ECF6\",\"aaxis\":{\"gridcolor\":\"white\",\"linecolor\":\"white\",\"ticks\":\"\"},\"baxis\":{\"gridcolor\":\"white\",\"linecolor\":\"white\",\"ticks\":\"\"},\"caxis\":{\"gridcolor\":\"white\",\"linecolor\":\"white\",\"ticks\":\"\"}},\"coloraxis\":{\"colorbar\":{\"outlinewidth\":0,\"ticks\":\"\"}},\"colorscale\":{\"sequential\":[[0.0,\"#0d0887\"],[0.1111111111111111,\"#46039f\"],[0.2222222222222222,\"#7201a8\"],[0.3333333333333333,\"#9c179e\"],[0.4444444444444444,\"#bd3786\"],[0.5555555555555556,\"#d8576b\"],[0.6666666666666666,\"#ed7953\"],[0.7777777777777778,\"#fb9f3a\"],[0.8888888888888888,\"#fdca26\"],[1.0,\"#f0f921\"]],\"sequentialminus\":[[0.0,\"#0d0887\"],[0.1111111111111111,\"#46039f\"],[0.2222222222222222,\"#7201a8\"],[0.3333333333333333,\"#9c179e\"],[0.4444444444444444,\"#bd3786\"],[0.5555555555555556,\"#d8576b\"],[0.6666666666666666,\"#ed7953\"],[0.7777777777777778,\"#fb9f3a\"],[0.8888888888888888,\"#fdca26\"],[1.0,\"#f0f921\"]],\"diverging\":[[0,\"#8e0152\"],[0.1,\"#c51b7d\"],[0.2,\"#de77ae\"],[0.3,\"#f1b6da\"],[0.4,\"#fde0ef\"],[0.5,\"#f7f7f7\"],[0.6,\"#e6f5d0\"],[0.7,\"#b8e186\"],[0.8,\"#7fbc41\"],[0.9,\"#4d9221\"],[1,\"#276419\"]]},\"xaxis\":{\"gridcolor\":\"white\",\"linecolor\":\"white\",\"ticks\":\"\",\"title\":{\"standoff\":15},\"zerolinecolor\":\"white\",\"automargin\":true,\"zerolinewidth\":2},\"yaxis\":{\"gridcolor\":\"white\",\"linecolor\":\"white\",\"ticks\":\"\",\"title\":{\"standoff\":15},\"zerolinecolor\":\"white\",\"automargin\":true,\"zerolinewidth\":2},\"scene\":{\"xaxis\":{\"backgroundcolor\":\"#E5ECF6\",\"gridcolor\":\"white\",\"linecolor\":\"white\",\"showbackground\":true,\"ticks\":\"\",\"zerolinecolor\":\"white\",\"gridwidth\":2},\"yaxis\":{\"backgroundcolor\":\"#E5ECF6\",\"gridcolor\":\"white\",\"linecolor\":\"white\",\"showbackground\":true,\"ticks\":\"\",\"zerolinecolor\":\"white\",\"gridwidth\":2},\"zaxis\":{\"backgroundcolor\":\"#E5ECF6\",\"gridcolor\":\"white\",\"linecolor\":\"white\",\"showbackground\":true,\"ticks\":\"\",\"zerolinecolor\":\"white\",\"gridwidth\":2}},\"shapedefaults\":{\"line\":{\"color\":\"#2a3f5f\"}},\"annotationdefaults\":{\"arrowcolor\":\"#2a3f5f\",\"arrowhead\":0,\"arrowwidth\":1},\"geo\":{\"bgcolor\":\"white\",\"landcolor\":\"#E5ECF6\",\"subunitcolor\":\"white\",\"showland\":true,\"showlakes\":true,\"lakecolor\":\"white\"},\"title\":{\"x\":0.05},\"mapbox\":{\"style\":\"light\"}}}},                        {\"responsive\": true}                    ).then(function(){\n",
              "                            \n",
              "var gd = document.getElementById('90b69c63-4e96-49d0-b260-41899dfe48c6');\n",
              "var x = new MutationObserver(function (mutations, observer) {{\n",
              "        var display = window.getComputedStyle(gd).display;\n",
              "        if (!display || display === 'none') {{\n",
              "            console.log([gd, 'removed!']);\n",
              "            Plotly.purge(gd);\n",
              "            observer.disconnect();\n",
              "        }}\n",
              "}});\n",
              "\n",
              "// Listen for the removal of the full notebook cells\n",
              "var notebookContainer = gd.closest('#notebook-container');\n",
              "if (notebookContainer) {{\n",
              "    x.observe(notebookContainer, {childList: true});\n",
              "}}\n",
              "\n",
              "// Listen for the clearing of the current output cell\n",
              "var outputEl = gd.closest('.output');\n",
              "if (outputEl) {{\n",
              "    x.observe(outputEl, {childList: true});\n",
              "}}\n",
              "\n",
              "                        })                };                            </script>        </div>\n",
              "</body>\n",
              "</html>"
            ]
          },
          "metadata": {}
        }
      ],
      "source": [
        "# Since collab isn't allowing to rotate the plots,\n",
        "import plotly.graph_objects as go\n",
        "import numpy as np\n",
        "\n",
        "# Helix equation\n",
        "x, y, z = W_set, b_set, J_set\n",
        "\n",
        "fig = go.Figure(data=[go.Mesh3d(x=x, y=y, z=z, color='black', opacity=0.80)])\n",
        "fig.show()"
      ]
    },
    {
      "cell_type": "markdown",
      "metadata": {
        "id": "9JHPxjujG3SJ"
      },
      "source": [
        "3. Calculating w,b using gradient descent algorythm"
      ]
    },
    {
      "cell_type": "code",
      "source": [
        "# Calculate for given data & initial conditions for Example 1.1\n",
        "w_final,b_final,J_log,P_log = gradient_descent()\n",
        "\n",
        "# Print W,b & round for 4 decimal plaecs\n",
        "print(\"W,b values for the best fit line is :{0:10.4f} & {0:10.4f} \".format( w_final,b_final))"
      ],
      "metadata": {
        "colab": {
          "base_uri": "https://localhost:8080/"
        },
        "id": "cMIZA3z-KGsP",
        "outputId": "c5e77074-e182-4952-f503-ed7db128cdd5"
      },
      "execution_count": null,
      "outputs": [
        {
          "output_type": "stream",
          "name": "stdout",
          "text": [
            "17376\n",
            "W,b values for the best fit line is :  209.3629 &   209.3629 \n"
          ]
        }
      ]
    },
    {
      "cell_type": "code",
      "source": [
        "# Plot the Convergence log\n",
        "\n",
        "\n",
        "J_sample = J_log[::50]\n",
        "x = np.arange(len(J_sample))\n",
        "\n",
        "fig = go.Figure(data=go.Scatter(x=x, y=J_sample))\n",
        "fig.show()"
      ],
      "metadata": {
        "colab": {
          "base_uri": "https://localhost:8080/",
          "height": 542
        },
        "id": "pnOplgJ168O1",
        "outputId": "135b90a7-778c-4eed-8edc-29c3258b224b"
      },
      "execution_count": null,
      "outputs": [
        {
          "output_type": "display_data",
          "data": {
            "text/html": [
              "<html>\n",
              "<head><meta charset=\"utf-8\" /></head>\n",
              "<body>\n",
              "    <div>            <script src=\"https://cdnjs.cloudflare.com/ajax/libs/mathjax/2.7.5/MathJax.js?config=TeX-AMS-MML_SVG\"></script><script type=\"text/javascript\">if (window.MathJax && window.MathJax.Hub && window.MathJax.Hub.Config) {window.MathJax.Hub.Config({SVG: {font: \"STIX-Web\"}});}</script>                <script type=\"text/javascript\">window.PlotlyConfig = {MathJaxConfig: 'local'};</script>\n",
              "        <script src=\"https://cdn.plot.ly/plotly-2.18.2.min.js\"></script>                <div id=\"8d51c030-5704-4025-9789-ed8f36803d4d\" class=\"plotly-graph-div\" style=\"height:525px; width:100%;\"></div>            <script type=\"text/javascript\">                                    window.PLOTLYENV=window.PLOTLYENV || {};                                    if (document.getElementById(\"8d51c030-5704-4025-9789-ed8f36803d4d\")) {                    Plotly.newPlot(                        \"8d51c030-5704-4025-9789-ed8f36803d4d\",                        [{\"x\":[0,1,2,3,4,5,6,7,8,9,10,11,12,13,14,15,16,17,18,19,20,21,22,23,24,25,26,27,28,29,30,31,32,33,34,35,36,37,38,39,40,41,42,43,44,45,46,47,48,49,50,51,52,53,54,55,56,57,58,59,60,61,62,63,64,65,66,67,68,69,70,71,72,73,74,75,76,77,78,79,80,81,82,83,84,85,86,87,88,89,90,91,92,93,94,95,96,97,98,99],\"y\":[3500853.9459814313,16249.7667010739,13880.245919801446,11901.313422331368,10244.849381311835,8858.30732691061,7697.703280571081,6726.220484139518,5913.041496233076,5232.37059933044,4662.615506318208,4185.702408534013,3786.502637215366,3452.3527508707284,3172.65282475276,2938.5301993459384,2742.5580212758446,2578.5196481762723,2441.2114439497973,2326.2777086800975,2230.072506831722,2149.5440106424326,2082.1376898415233,2025.7152766719607,1978.4869356195068,1938.9544861323884,1905.8638772389731,1878.1654064600818,1854.9804210776663,1835.5734454552965,1819.3288502314872,1805.7313232844663,1794.3495229670289,1784.822395058348,1776.8477193781473,1770.1725227381983,1764.5850541101506,1759.9080674454299,1755.9931990643956,1752.716261253897,1749.9733027764407,1747.6773113221807,1745.7554532986778,1744.1467633988761,1742.800210655604,1741.6730796338704,1740.7296154090225,1739.9398893466484,1739.278849704482,1738.7255269393663,1738.262368510031,1737.8746820742153,1737.5501694172099,1737.278536327099,1737.0511660410655,1736.8608459038967,1736.701538567635,1736.5681904744517,1736.4565715473293,1736.3631410032979,1736.2849350324695,1736.2194727798844,1736.1646776476382,1736.1188114209328,1736.0804191282969,1736.0482828868887,1736.0213832687389,1735.9988669623854,1735.9800197040697,1735.9642436198246,1735.9510382596584,1735.9399847222692,1735.9307323666114,1735.9229876888512,1735.9165050118063,1735.9110786915683,1735.9065365940512,1735.9027346345358,1735.8995522070115,1735.896888358301,1735.894658585621,1735.8927921559762,1735.8912298623634,1735.8899221455986,1735.8888275222046,1735.8879112684656,1735.8871443189212,1735.8865023443493,1735.8859649799867,1735.8855151795271,1735.8851386743702,1735.8848235209944,1735.8845597220836,1735.8843389093936,1735.8841540782862,1735.8839993655401,1735.8838698633438,1735.8837614636213,1735.8836707277114,1735.8835947772814],\"type\":\"scatter\"}],                        {\"template\":{\"data\":{\"histogram2dcontour\":[{\"type\":\"histogram2dcontour\",\"colorbar\":{\"outlinewidth\":0,\"ticks\":\"\"},\"colorscale\":[[0.0,\"#0d0887\"],[0.1111111111111111,\"#46039f\"],[0.2222222222222222,\"#7201a8\"],[0.3333333333333333,\"#9c179e\"],[0.4444444444444444,\"#bd3786\"],[0.5555555555555556,\"#d8576b\"],[0.6666666666666666,\"#ed7953\"],[0.7777777777777778,\"#fb9f3a\"],[0.8888888888888888,\"#fdca26\"],[1.0,\"#f0f921\"]]}],\"choropleth\":[{\"type\":\"choropleth\",\"colorbar\":{\"outlinewidth\":0,\"ticks\":\"\"}}],\"histogram2d\":[{\"type\":\"histogram2d\",\"colorbar\":{\"outlinewidth\":0,\"ticks\":\"\"},\"colorscale\":[[0.0,\"#0d0887\"],[0.1111111111111111,\"#46039f\"],[0.2222222222222222,\"#7201a8\"],[0.3333333333333333,\"#9c179e\"],[0.4444444444444444,\"#bd3786\"],[0.5555555555555556,\"#d8576b\"],[0.6666666666666666,\"#ed7953\"],[0.7777777777777778,\"#fb9f3a\"],[0.8888888888888888,\"#fdca26\"],[1.0,\"#f0f921\"]]}],\"heatmap\":[{\"type\":\"heatmap\",\"colorbar\":{\"outlinewidth\":0,\"ticks\":\"\"},\"colorscale\":[[0.0,\"#0d0887\"],[0.1111111111111111,\"#46039f\"],[0.2222222222222222,\"#7201a8\"],[0.3333333333333333,\"#9c179e\"],[0.4444444444444444,\"#bd3786\"],[0.5555555555555556,\"#d8576b\"],[0.6666666666666666,\"#ed7953\"],[0.7777777777777778,\"#fb9f3a\"],[0.8888888888888888,\"#fdca26\"],[1.0,\"#f0f921\"]]}],\"heatmapgl\":[{\"type\":\"heatmapgl\",\"colorbar\":{\"outlinewidth\":0,\"ticks\":\"\"},\"colorscale\":[[0.0,\"#0d0887\"],[0.1111111111111111,\"#46039f\"],[0.2222222222222222,\"#7201a8\"],[0.3333333333333333,\"#9c179e\"],[0.4444444444444444,\"#bd3786\"],[0.5555555555555556,\"#d8576b\"],[0.6666666666666666,\"#ed7953\"],[0.7777777777777778,\"#fb9f3a\"],[0.8888888888888888,\"#fdca26\"],[1.0,\"#f0f921\"]]}],\"contourcarpet\":[{\"type\":\"contourcarpet\",\"colorbar\":{\"outlinewidth\":0,\"ticks\":\"\"}}],\"contour\":[{\"type\":\"contour\",\"colorbar\":{\"outlinewidth\":0,\"ticks\":\"\"},\"colorscale\":[[0.0,\"#0d0887\"],[0.1111111111111111,\"#46039f\"],[0.2222222222222222,\"#7201a8\"],[0.3333333333333333,\"#9c179e\"],[0.4444444444444444,\"#bd3786\"],[0.5555555555555556,\"#d8576b\"],[0.6666666666666666,\"#ed7953\"],[0.7777777777777778,\"#fb9f3a\"],[0.8888888888888888,\"#fdca26\"],[1.0,\"#f0f921\"]]}],\"surface\":[{\"type\":\"surface\",\"colorbar\":{\"outlinewidth\":0,\"ticks\":\"\"},\"colorscale\":[[0.0,\"#0d0887\"],[0.1111111111111111,\"#46039f\"],[0.2222222222222222,\"#7201a8\"],[0.3333333333333333,\"#9c179e\"],[0.4444444444444444,\"#bd3786\"],[0.5555555555555556,\"#d8576b\"],[0.6666666666666666,\"#ed7953\"],[0.7777777777777778,\"#fb9f3a\"],[0.8888888888888888,\"#fdca26\"],[1.0,\"#f0f921\"]]}],\"mesh3d\":[{\"type\":\"mesh3d\",\"colorbar\":{\"outlinewidth\":0,\"ticks\":\"\"}}],\"scatter\":[{\"fillpattern\":{\"fillmode\":\"overlay\",\"size\":10,\"solidity\":0.2},\"type\":\"scatter\"}],\"parcoords\":[{\"type\":\"parcoords\",\"line\":{\"colorbar\":{\"outlinewidth\":0,\"ticks\":\"\"}}}],\"scatterpolargl\":[{\"type\":\"scatterpolargl\",\"marker\":{\"colorbar\":{\"outlinewidth\":0,\"ticks\":\"\"}}}],\"bar\":[{\"error_x\":{\"color\":\"#2a3f5f\"},\"error_y\":{\"color\":\"#2a3f5f\"},\"marker\":{\"line\":{\"color\":\"#E5ECF6\",\"width\":0.5},\"pattern\":{\"fillmode\":\"overlay\",\"size\":10,\"solidity\":0.2}},\"type\":\"bar\"}],\"scattergeo\":[{\"type\":\"scattergeo\",\"marker\":{\"colorbar\":{\"outlinewidth\":0,\"ticks\":\"\"}}}],\"scatterpolar\":[{\"type\":\"scatterpolar\",\"marker\":{\"colorbar\":{\"outlinewidth\":0,\"ticks\":\"\"}}}],\"histogram\":[{\"marker\":{\"pattern\":{\"fillmode\":\"overlay\",\"size\":10,\"solidity\":0.2}},\"type\":\"histogram\"}],\"scattergl\":[{\"type\":\"scattergl\",\"marker\":{\"colorbar\":{\"outlinewidth\":0,\"ticks\":\"\"}}}],\"scatter3d\":[{\"type\":\"scatter3d\",\"line\":{\"colorbar\":{\"outlinewidth\":0,\"ticks\":\"\"}},\"marker\":{\"colorbar\":{\"outlinewidth\":0,\"ticks\":\"\"}}}],\"scattermapbox\":[{\"type\":\"scattermapbox\",\"marker\":{\"colorbar\":{\"outlinewidth\":0,\"ticks\":\"\"}}}],\"scatterternary\":[{\"type\":\"scatterternary\",\"marker\":{\"colorbar\":{\"outlinewidth\":0,\"ticks\":\"\"}}}],\"scattercarpet\":[{\"type\":\"scattercarpet\",\"marker\":{\"colorbar\":{\"outlinewidth\":0,\"ticks\":\"\"}}}],\"carpet\":[{\"aaxis\":{\"endlinecolor\":\"#2a3f5f\",\"gridcolor\":\"white\",\"linecolor\":\"white\",\"minorgridcolor\":\"white\",\"startlinecolor\":\"#2a3f5f\"},\"baxis\":{\"endlinecolor\":\"#2a3f5f\",\"gridcolor\":\"white\",\"linecolor\":\"white\",\"minorgridcolor\":\"white\",\"startlinecolor\":\"#2a3f5f\"},\"type\":\"carpet\"}],\"table\":[{\"cells\":{\"fill\":{\"color\":\"#EBF0F8\"},\"line\":{\"color\":\"white\"}},\"header\":{\"fill\":{\"color\":\"#C8D4E3\"},\"line\":{\"color\":\"white\"}},\"type\":\"table\"}],\"barpolar\":[{\"marker\":{\"line\":{\"color\":\"#E5ECF6\",\"width\":0.5},\"pattern\":{\"fillmode\":\"overlay\",\"size\":10,\"solidity\":0.2}},\"type\":\"barpolar\"}],\"pie\":[{\"automargin\":true,\"type\":\"pie\"}]},\"layout\":{\"autotypenumbers\":\"strict\",\"colorway\":[\"#636efa\",\"#EF553B\",\"#00cc96\",\"#ab63fa\",\"#FFA15A\",\"#19d3f3\",\"#FF6692\",\"#B6E880\",\"#FF97FF\",\"#FECB52\"],\"font\":{\"color\":\"#2a3f5f\"},\"hovermode\":\"closest\",\"hoverlabel\":{\"align\":\"left\"},\"paper_bgcolor\":\"white\",\"plot_bgcolor\":\"#E5ECF6\",\"polar\":{\"bgcolor\":\"#E5ECF6\",\"angularaxis\":{\"gridcolor\":\"white\",\"linecolor\":\"white\",\"ticks\":\"\"},\"radialaxis\":{\"gridcolor\":\"white\",\"linecolor\":\"white\",\"ticks\":\"\"}},\"ternary\":{\"bgcolor\":\"#E5ECF6\",\"aaxis\":{\"gridcolor\":\"white\",\"linecolor\":\"white\",\"ticks\":\"\"},\"baxis\":{\"gridcolor\":\"white\",\"linecolor\":\"white\",\"ticks\":\"\"},\"caxis\":{\"gridcolor\":\"white\",\"linecolor\":\"white\",\"ticks\":\"\"}},\"coloraxis\":{\"colorbar\":{\"outlinewidth\":0,\"ticks\":\"\"}},\"colorscale\":{\"sequential\":[[0.0,\"#0d0887\"],[0.1111111111111111,\"#46039f\"],[0.2222222222222222,\"#7201a8\"],[0.3333333333333333,\"#9c179e\"],[0.4444444444444444,\"#bd3786\"],[0.5555555555555556,\"#d8576b\"],[0.6666666666666666,\"#ed7953\"],[0.7777777777777778,\"#fb9f3a\"],[0.8888888888888888,\"#fdca26\"],[1.0,\"#f0f921\"]],\"sequentialminus\":[[0.0,\"#0d0887\"],[0.1111111111111111,\"#46039f\"],[0.2222222222222222,\"#7201a8\"],[0.3333333333333333,\"#9c179e\"],[0.4444444444444444,\"#bd3786\"],[0.5555555555555556,\"#d8576b\"],[0.6666666666666666,\"#ed7953\"],[0.7777777777777778,\"#fb9f3a\"],[0.8888888888888888,\"#fdca26\"],[1.0,\"#f0f921\"]],\"diverging\":[[0,\"#8e0152\"],[0.1,\"#c51b7d\"],[0.2,\"#de77ae\"],[0.3,\"#f1b6da\"],[0.4,\"#fde0ef\"],[0.5,\"#f7f7f7\"],[0.6,\"#e6f5d0\"],[0.7,\"#b8e186\"],[0.8,\"#7fbc41\"],[0.9,\"#4d9221\"],[1,\"#276419\"]]},\"xaxis\":{\"gridcolor\":\"white\",\"linecolor\":\"white\",\"ticks\":\"\",\"title\":{\"standoff\":15},\"zerolinecolor\":\"white\",\"automargin\":true,\"zerolinewidth\":2},\"yaxis\":{\"gridcolor\":\"white\",\"linecolor\":\"white\",\"ticks\":\"\",\"title\":{\"standoff\":15},\"zerolinecolor\":\"white\",\"automargin\":true,\"zerolinewidth\":2},\"scene\":{\"xaxis\":{\"backgroundcolor\":\"#E5ECF6\",\"gridcolor\":\"white\",\"linecolor\":\"white\",\"showbackground\":true,\"ticks\":\"\",\"zerolinecolor\":\"white\",\"gridwidth\":2},\"yaxis\":{\"backgroundcolor\":\"#E5ECF6\",\"gridcolor\":\"white\",\"linecolor\":\"white\",\"showbackground\":true,\"ticks\":\"\",\"zerolinecolor\":\"white\",\"gridwidth\":2},\"zaxis\":{\"backgroundcolor\":\"#E5ECF6\",\"gridcolor\":\"white\",\"linecolor\":\"white\",\"showbackground\":true,\"ticks\":\"\",\"zerolinecolor\":\"white\",\"gridwidth\":2}},\"shapedefaults\":{\"line\":{\"color\":\"#2a3f5f\"}},\"annotationdefaults\":{\"arrowcolor\":\"#2a3f5f\",\"arrowhead\":0,\"arrowwidth\":1},\"geo\":{\"bgcolor\":\"white\",\"landcolor\":\"#E5ECF6\",\"subunitcolor\":\"white\",\"showland\":true,\"showlakes\":true,\"lakecolor\":\"white\"},\"title\":{\"x\":0.05},\"mapbox\":{\"style\":\"light\"}}}},                        {\"responsive\": true}                    ).then(function(){\n",
              "                            \n",
              "var gd = document.getElementById('8d51c030-5704-4025-9789-ed8f36803d4d');\n",
              "var x = new MutationObserver(function (mutations, observer) {{\n",
              "        var display = window.getComputedStyle(gd).display;\n",
              "        if (!display || display === 'none') {{\n",
              "            console.log([gd, 'removed!']);\n",
              "            Plotly.purge(gd);\n",
              "            observer.disconnect();\n",
              "        }}\n",
              "}});\n",
              "\n",
              "// Listen for the removal of the full notebook cells\n",
              "var notebookContainer = gd.closest('#notebook-container');\n",
              "if (notebookContainer) {{\n",
              "    x.observe(notebookContainer, {childList: true});\n",
              "}}\n",
              "\n",
              "// Listen for the clearing of the current output cell\n",
              "var outputEl = gd.closest('.output');\n",
              "if (outputEl) {{\n",
              "    x.observe(outputEl, {childList: true});\n",
              "}}\n",
              "\n",
              "                        })                };                            </script>        </div>\n",
              "</body>\n",
              "</html>"
            ]
          },
          "metadata": {}
        }
      ]
    },
    {
      "cell_type": "markdown",
      "source": [
        "## 1.2 Multi variable system\n",
        "\n"
      ],
      "metadata": {
        "id": "6hOvHHoSCUju"
      }
    },
    {
      "cell_type": "markdown",
      "source": [
        "### 1.2.1 Notation"
      ],
      "metadata": {
        "id": "nPV9ePzGCtD9"
      }
    },
    {
      "cell_type": "markdown",
      "source": [
        "\n",
        "Notation updated for multiple features.  \n",
        "\n",
        "|General <img width=70/> <br />  Notation  <img width=70/> | Description<img width=350/>| Python (if applicable) |\n",
        "|: ------------|: ------------------------------------------------------------||\n",
        "| $a$ | scalar, non bold                                                      ||\n",
        "| $\\mathbf{a}$ | vector, bold                                                 ||\n",
        "| $\\mathbf{A}$ | matrix, bold capital                                         ||\n",
        "| **Regression** |         |    |     |\n",
        "|  $\\mathbf{X}$ | training example matrix                  | `X_train` |   \n",
        "|  $\\mathbf{Y}$  | training example  targets                | `Y_train` \n",
        "|  $\\mathbf{x}^{(i)}$, $y^{(i)}$ | $i_{th}$Training Example | `X[i]`, `y[i]`|\n",
        "| m | number of training examples | `m`|\n",
        "| n | number of features in each example | `n`|\n",
        "|  $\\mathbf{w}$  |  parameter: weight,                       | `w`    |\n",
        "|  $b$           |  parameter: bias                                           | `b`    |     \n",
        "| $f_{\\mathbf{w},b}(\\mathbf{x}^{(i)})$ | The result of the model evaluation at $\\mathbf{x^{(i)}}$ parameterized by $\\mathbf{w},b$: $f_{\\mathbf{w},b}(\\mathbf{x}^{(i)}) = \\mathbf{w} \\cdot \\mathbf{x}^{(i)}+b$  | `f_wb` | \n"
      ],
      "metadata": {
        "id": "WgkMHUay_Sfp"
      }
    },
    {
      "cell_type": "markdown",
      "source": [
        "### 1.2.2 Theory\n",
        "\n"
      ],
      "metadata": {
        "id": "O6txbpgK7zl5"
      }
    },
    {
      "cell_type": "markdown",
      "source": [
        "**Training example matrix** <br>\n",
        "$$\\mathbf{X} = \n",
        "\\begin{pmatrix}\n",
        " x^{(0)}_0 & x^{(0)}_1 & \\cdots & x^{(0)}_{n-1} \\\\ \n",
        " x^{(1)}_0 & x^{(1)}_1 & \\cdots & x^{(1)}_{n-1} \\\\\n",
        " \\cdots \\\\\n",
        " x^{(m-1)}_0 & x^{(m-1)}_1 & \\cdots & x^{(m-1)}_{n-1} \n",
        "\\end{pmatrix}\n",
        "$$\n",
        "notation:\n",
        "- $\\mathbf{x}^{(i)}$ is vector containing example i. $\\mathbf{x}^{(i)}$ $ = (x^{(i)}_0, x^{(i)}_1, \\cdots,x^{(i)}_{n-1})$\n",
        "- $x^{(i)}_j$ is element j in example i. The superscript in parenthesis indicates the example number while the subscript represents an element.  \n"
      ],
      "metadata": {
        "id": "XUBr1p9M8d6S"
      }
    },
    {
      "cell_type": "markdown",
      "source": [
        "\n",
        "**Parameter vector w, b**\n",
        "\n",
        "* $\\mathbf{w}$ is a vector with $n$ elements.\n",
        "  - Each element contains the parameter associated with one feature.\n",
        "  - in our dataset, n is 4.\n",
        "  - notionally, we draw this as a column vector\n",
        "\n",
        "$$\\mathbf{w} = \\begin{pmatrix}\n",
        "w_0 \\\\ \n",
        "w_1 \\\\\n",
        "\\cdots\\\\\n",
        "w_{n-1}\n",
        "\\end{pmatrix}\n",
        "$$\n",
        "* $b$ is a scalar parameter.  \n"
      ],
      "metadata": {
        "id": "DlhIAz6j8nIu"
      }
    },
    {
      "cell_type": "markdown",
      "source": [
        "\n",
        "**Model Prediction With Multiple Variables** <br><br>\n",
        "The model's prediction with multiple variables is given by the linear model:\n",
        "\n",
        "$$ f_{\\mathbf{w},b}(\\mathbf{x}) =  w_0x_0 + w_1x_1 +... + w_{n-1}x_{n-1} + b \\tag{1}$$\n",
        "or in vector notation:\n",
        "$$ f_{\\mathbf{w},b}(\\mathbf{x}) = \\mathbf{w} \\cdot \\mathbf{x} + b  \\tag{2} $$ \n",
        "where $\\cdot$ is a vector dot product\n"
      ],
      "metadata": {
        "id": "-cWMdbcC89sT"
      }
    },
    {
      "cell_type": "markdown",
      "source": [
        "\n",
        "**Compute Cost With Multiple Variables**\n",
        "\n",
        "The equation for the cost function with multiple variables $J(\\mathbf{w},b)$ is:\n",
        "$$J(\\mathbf{w},b) = \\frac{1}{2m} \\sum\\limits_{i = 0}^{m-1} (f_{\\mathbf{w},b}(\\mathbf{x}^{(i)}) - y^{(i)})^2 \\tag{3}$$ \n",
        "where:\n",
        "$$ f_{\\mathbf{w},b}(\\mathbf{x}^{(i)}) = \\mathbf{w} \\cdot \\mathbf{x}^{(i)} + b  \\tag{4} $$ \n",
        "\n",
        "\n"
      ],
      "metadata": {
        "id": "QoA7qdAC9Nn5"
      }
    },
    {
      "cell_type": "markdown",
      "source": [
        "**Gradient descent for multiple variables:** <br>\n",
        "\n",
        "$$\\begin{align*} \\text{repeat}&\\text{ until convergence:} \\; \\newline \\lbrace \\newline\\;\n",
        "& w_j = w_j -  \\alpha \\frac{\\partial J(\\mathbf{w},b)}{\\partial w_j} \\tag{5}  \\; & \\text{for j = 0..n-1}\\newline\n",
        "&b\\ \\ = b -  \\alpha \\frac{\\partial J(\\mathbf{w},b)}{\\partial b}  \\newline \\rbrace\n",
        "\\end{align*}$$\n",
        "\n",
        "where, n is the number of features, parameters $w_j$,  $b$, are updated simultaneously and where  \n",
        "\n",
        "$$\n",
        "\\begin{align}\n",
        "\\frac{\\partial J(\\mathbf{w},b)}{\\partial w_j}  &= \\frac{1}{m} \\sum\\limits_{i = 0}^{m-1} (f_{\\mathbf{w},b}(\\mathbf{x}^{(i)}) - y^{(i)})x_{j}^{(i)} \\tag{6}  \\\\\n",
        "\\frac{\\partial J(\\mathbf{w},b)}{\\partial b}  &= \\frac{1}{m} \\sum\\limits_{i = 0}^{m-1} (f_{\\mathbf{w},b}(\\mathbf{x}^{(i)}) - y^{(i)}) \\tag{7}\n",
        "\\end{align}\n",
        "$$\n",
        "* m is the number of training examples in the data set\n",
        "\n",
        "    \n",
        "*  $f_{\\mathbf{w},b}(\\mathbf{x}^{(i)})$ is the model's prediction, while $y^{(i)}$ is the target value"
      ],
      "metadata": {
        "id": "aJr4aA3T-SA0"
      }
    },
    {
      "cell_type": "markdown",
      "source": [
        "### 1.2.3 Example 02 : Housing Price"
      ],
      "metadata": {
        "id": "ipCBwkHg_VFJ"
      }
    },
    {
      "cell_type": "markdown",
      "source": [
        "\n",
        "| Size (sqft) | Number of Bedrooms  | Number of floors | Age of  Home | Price (1000s dollars)  |   \n",
        "| ----------------| ------------------- |----------------- |--------------|-------------- |  \n",
        "| 2104            | 5                   | 1                | 45           | 460           |  \n",
        "| 1416            | 3                   | 2                | 40           | 232           |  \n",
        "| 852             | 2                   | 1                | 35           | 178           |  \n"
      ],
      "metadata": {
        "id": "XBXcC-eW_hZ_"
      }
    },
    {
      "cell_type": "code",
      "source": [
        "#Linear regression for multi-feature\n",
        "\n",
        "#Import Required Libraries\n",
        "import numpy as np\n",
        "import math\n",
        "import matplotlib.pyplot as plt\n",
        "\n",
        "''' \n",
        "Update data as requred\n",
        "'''\n",
        "#Training Example Matrix ~ [[set 1 ], [set 2 ] , [set 3 ] ... [set m]] <~~ m is the example count\n",
        "x_train = np.array([[2104, 5, 1, 45],                         \n",
        "                    [1416, 3, 2, 40],                         \n",
        "                    [852, 2, 1, 35]])\n",
        "\n",
        "# Target Matrix          ~ [target_1 ,target_2 ,... , target_m ] <~~ m is the example count\n",
        "y_train = np.array([460, 232, 178])\n",
        "\n",
        "'''\n",
        "Initial conditions for gradient descent\n",
        "Use float values as initial input\n",
        "'''\n",
        "# Learning rate ~ Better if small\n",
        "learning_rate = 5.0e-7\n",
        "\n",
        "# Initial w value matrix ~ [val_1 , val_2 , ... , val_n]  <~~ n is the feature count\n",
        "initial_w = np.array([ 100.0, 100.0,100.0, 100.0])\n",
        "\n",
        "# Initial value for b\n",
        "initial_b =  100.0\n",
        "\n",
        "# Larger the better <~ Automatically breaks the loop when converged! \n",
        "number_of_iterations = 1000\n",
        "\n",
        "# Breaks when dw_dj and dw_db < learning_rate*convergence_factor     \n",
        "# Better to use smaller values\n",
        "convergence_factor = 0.00001\n",
        "\n",
        "\n",
        "''' \n",
        "Do not change below\n",
        "'''\n",
        "# m ~ The number of examples <~~ Row count\n",
        "m = x_train.shape[0]\n",
        "# n ~ The number of features <~~ Column count\n",
        "n = x_train.shape[1]\n",
        "\n",
        "\n",
        "'''\n",
        "Cost Function\n",
        "Input  : x_train , y_train , w_value , b_value ,m value\n",
        "Output : Relevent cost\n",
        "'''\n",
        "def cost_function_for_multi_variable(x,y,w,b,m):\n",
        "  # y_hat = w*x[i] + b\n",
        "  # y = y[i]\n",
        "  # Temp variable to store the calculated data\n",
        "\n",
        "  cost_holder = 0.0\n",
        "\n",
        "  for i in range(m):\n",
        "    cost_holder += (np.dot(x[i],w)+b-y[i])**2\n",
        "  \n",
        "  #Avoid zero devison\n",
        "  if (cost_holder == 0.0):\n",
        "    cost_holder = 0.0\n",
        "  else:\n",
        "    cost_holder = cost_holder/(2*m) \n",
        "\n",
        "  # Return the cost\n",
        "  return cost_holder \n",
        "\n",
        "'''\n",
        "Gradient Values\n",
        "Input  : x_train , y_train , w_value , b_value ,m value\n",
        "Output : (dj_dw,dj_db) for given (w,b)\n",
        "'''\n",
        "\n",
        "def calculate_gradient_multi(x,y,w,b,m,n):\n",
        "\n",
        "  # Temp Data holders for two returns\n",
        "  temp_dj_dw = np.zeros((n,)) # elements count equal to columns\n",
        "  temp_dj_db = 0.0\n",
        "\n",
        "  for i in range(m):\n",
        "     \n",
        "    Error_calculate = np.dot(x[i],w)+b-y[i]\n",
        "    # Calculate dj_db \n",
        "    # Loop for m times (~ Eq to number of Rows)\n",
        "    temp_dj_db  +=  Error_calculate\n",
        "\n",
        "    #Loop for each i th set of training examples\n",
        "    for j in  range(n):\n",
        "      temp_dj_dw[j] += Error_calculate*x[i,j]\n",
        "\n",
        "  \n",
        "  # Finalize the calculaion\n",
        "  if(m != 0):\n",
        "    temp_dj_dw = temp_dj_dw/m\n",
        "    temp_dj_db = temp_dj_db/m\n",
        "  else:\n",
        "    temp_dj_dw = 0\n",
        "    temp_dj_db = 0\n",
        "  \n",
        "  # return the gradients for (w,b)\n",
        "  return temp_dj_dw,temp_dj_db\n",
        "\n",
        "\n",
        "'''\n",
        "Gradient Descent\n",
        "Input  : x_train , y_train , w_initial , b_initial ,m value,learning_rate, number of iterations\n",
        "Output : Best fit w,b,J_log,Parameter_log\n",
        "'''\n",
        "\n",
        "def gradient_descent_multi():\n",
        "  # Load the data & conditions to the function \n",
        "  global x_train,y_train,initial_w,initial_b,m,n,learning_rate,number_of_iterations\n",
        "\n",
        "  # Store calculated J \n",
        "  J_log = []\n",
        "\n",
        "  # Store [w,b] for each J\n",
        "  Parameter_log = []\n",
        "  \n",
        "  #Store temp w,b\n",
        "  w  = np.copy(initial_w)\n",
        "  b  = initial_b\n",
        "\n",
        "  # Comparing vector\n",
        "  comparing_dj_dw_vector = learning_rate*convergence_factor*np.ones(n) \n",
        "  \n",
        "\n",
        "  # Loop for given iterations \n",
        "  for i in range(number_of_iterations):\n",
        "\n",
        "    # Calculate gradients for w,b\n",
        "    dj_dw,dj_db = calculate_gradient_multi(x_train,y_train,w,b,m,n)\n",
        "\n",
        "    #Gradient descent algorythm\n",
        "    w -= learning_rate*dj_dw\n",
        "    b -= learning_rate*dj_db\n",
        "\n",
        "    # Update Logs\n",
        "    if i<10000:\n",
        "      J_log.append(cost_function_for_multi_variable(x_train,y_train,w,b,m))\n",
        "      Parameter_log.append([w,b])\n",
        "\n",
        "    # For the stability half the samples for every 10000 iterations\n",
        "    elif i % 10000 == 0:\n",
        "      J_log = J_log[::2]\n",
        "      Parameter_log = Parameter_log[::2]\n",
        "      \n",
        "\n",
        "    # Breaking when converged\n",
        "    if (dj_dw**2 < comparing_dj_dw_vector**2).all() and dj_db < learning_rate*convergence_factor:\n",
        "      print(dj_dw,comparing_dj_dw_vector)\n",
        "      print(dj_dw <comparing_dj_dw_vector)\n",
        "      print(i)\n",
        "      break\n",
        "    \n",
        "  return w,b,J_log,Parameter_log\n"
      ],
      "metadata": {
        "id": "Rb7YTanT_gl6"
      },
      "execution_count": null,
      "outputs": []
    },
    {
      "cell_type": "markdown",
      "source": [
        "**Testing**"
      ],
      "metadata": {
        "id": "YIKuE9P1bGho"
      }
    },
    {
      "cell_type": "code",
      "source": [
        "#Round array elements into two decimal places when printing\n",
        "np.set_printoptions(precision=2)\n",
        "\n",
        "# Calculate for given data & initial conditions for Example 1.2.3\n",
        "w_final,b_final,J_log,P_log = gradient_descent_multi()\n",
        "\n",
        "# Print W,b \n",
        "print(\"W,b values for the best fit line is :{} & {} \".format( w_final,b_final))\n",
        "\n"
      ],
      "metadata": {
        "colab": {
          "base_uri": "https://localhost:8080/"
        },
        "id": "dJ8X8pnfbFRB",
        "outputId": "9f695c62-1d21-49bf-d4f0-3c18b162031f"
      },
      "execution_count": null,
      "outputs": [
        {
          "output_type": "stream",
          "name": "stdout",
          "text": [
            "W,b values for the best fit line is :[-2.52 99.8  99.67 92.77] & 99.77448108024004 \n"
          ]
        }
      ]
    },
    {
      "cell_type": "markdown",
      "source": [
        "**Plotting the convergence**"
      ],
      "metadata": {
        "id": "5eBhZq5Ktgp9"
      }
    },
    {
      "cell_type": "code",
      "source": [
        "# Plot the Convergence log\n",
        "J_sample = J_log[::50]\n",
        "x = np.arange(len(J_sample))\n",
        "\n",
        "fig = go.Figure(data=go.Scatter(x=x, y=J_sample))\n",
        "fig.show()"
      ],
      "metadata": {
        "colab": {
          "base_uri": "https://localhost:8080/",
          "height": 542
        },
        "id": "Wf1t3QS9tgTv",
        "outputId": "4eea58e7-a3d5-4e9c-9ba5-85aec82f4e02"
      },
      "execution_count": null,
      "outputs": [
        {
          "output_type": "display_data",
          "data": {
            "text/html": [
              "<html>\n",
              "<head><meta charset=\"utf-8\" /></head>\n",
              "<body>\n",
              "    <div>            <script src=\"https://cdnjs.cloudflare.com/ajax/libs/mathjax/2.7.5/MathJax.js?config=TeX-AMS-MML_SVG\"></script><script type=\"text/javascript\">if (window.MathJax && window.MathJax.Hub && window.MathJax.Hub.Config) {window.MathJax.Hub.Config({SVG: {font: \"STIX-Web\"}});}</script>                <script type=\"text/javascript\">window.PlotlyConfig = {MathJaxConfig: 'local'};</script>\n",
              "        <script src=\"https://cdn.plot.ly/plotly-2.18.2.min.js\"></script>                <div id=\"e1f79f1e-0f15-4761-8490-50d9f213750f\" class=\"plotly-graph-div\" style=\"height:525px; width:100%;\"></div>            <script type=\"text/javascript\">                                    window.PLOTLYENV=window.PLOTLYENV || {};                                    if (document.getElementById(\"e1f79f1e-0f15-4761-8490-50d9f213750f\")) {                    Plotly.newPlot(                        \"e1f79f1e-0f15-4761-8490-50d9f213750f\",                        [{\"x\":[0,1,2,3,4,5,6,7,8,9,10,11,12,13,14,15,16,17,18,19],\"y\":[472773169.4120149,506546.6716309654,504307.19244515087,502077.6494023683,499857.99841742247,497648.1956007192,495448.1972573924,493257.95988644735,491077.4401798953,488906.59502189775,486745.38148791605,484593.75684386125,482451.6785452476,480319.1042363571,478195.9917493917,476082.2991036509,473977.98450469394,471883.00634351576,469797.32319572475,467720.8938207238],\"type\":\"scatter\"}],                        {\"template\":{\"data\":{\"histogram2dcontour\":[{\"type\":\"histogram2dcontour\",\"colorbar\":{\"outlinewidth\":0,\"ticks\":\"\"},\"colorscale\":[[0.0,\"#0d0887\"],[0.1111111111111111,\"#46039f\"],[0.2222222222222222,\"#7201a8\"],[0.3333333333333333,\"#9c179e\"],[0.4444444444444444,\"#bd3786\"],[0.5555555555555556,\"#d8576b\"],[0.6666666666666666,\"#ed7953\"],[0.7777777777777778,\"#fb9f3a\"],[0.8888888888888888,\"#fdca26\"],[1.0,\"#f0f921\"]]}],\"choropleth\":[{\"type\":\"choropleth\",\"colorbar\":{\"outlinewidth\":0,\"ticks\":\"\"}}],\"histogram2d\":[{\"type\":\"histogram2d\",\"colorbar\":{\"outlinewidth\":0,\"ticks\":\"\"},\"colorscale\":[[0.0,\"#0d0887\"],[0.1111111111111111,\"#46039f\"],[0.2222222222222222,\"#7201a8\"],[0.3333333333333333,\"#9c179e\"],[0.4444444444444444,\"#bd3786\"],[0.5555555555555556,\"#d8576b\"],[0.6666666666666666,\"#ed7953\"],[0.7777777777777778,\"#fb9f3a\"],[0.8888888888888888,\"#fdca26\"],[1.0,\"#f0f921\"]]}],\"heatmap\":[{\"type\":\"heatmap\",\"colorbar\":{\"outlinewidth\":0,\"ticks\":\"\"},\"colorscale\":[[0.0,\"#0d0887\"],[0.1111111111111111,\"#46039f\"],[0.2222222222222222,\"#7201a8\"],[0.3333333333333333,\"#9c179e\"],[0.4444444444444444,\"#bd3786\"],[0.5555555555555556,\"#d8576b\"],[0.6666666666666666,\"#ed7953\"],[0.7777777777777778,\"#fb9f3a\"],[0.8888888888888888,\"#fdca26\"],[1.0,\"#f0f921\"]]}],\"heatmapgl\":[{\"type\":\"heatmapgl\",\"colorbar\":{\"outlinewidth\":0,\"ticks\":\"\"},\"colorscale\":[[0.0,\"#0d0887\"],[0.1111111111111111,\"#46039f\"],[0.2222222222222222,\"#7201a8\"],[0.3333333333333333,\"#9c179e\"],[0.4444444444444444,\"#bd3786\"],[0.5555555555555556,\"#d8576b\"],[0.6666666666666666,\"#ed7953\"],[0.7777777777777778,\"#fb9f3a\"],[0.8888888888888888,\"#fdca26\"],[1.0,\"#f0f921\"]]}],\"contourcarpet\":[{\"type\":\"contourcarpet\",\"colorbar\":{\"outlinewidth\":0,\"ticks\":\"\"}}],\"contour\":[{\"type\":\"contour\",\"colorbar\":{\"outlinewidth\":0,\"ticks\":\"\"},\"colorscale\":[[0.0,\"#0d0887\"],[0.1111111111111111,\"#46039f\"],[0.2222222222222222,\"#7201a8\"],[0.3333333333333333,\"#9c179e\"],[0.4444444444444444,\"#bd3786\"],[0.5555555555555556,\"#d8576b\"],[0.6666666666666666,\"#ed7953\"],[0.7777777777777778,\"#fb9f3a\"],[0.8888888888888888,\"#fdca26\"],[1.0,\"#f0f921\"]]}],\"surface\":[{\"type\":\"surface\",\"colorbar\":{\"outlinewidth\":0,\"ticks\":\"\"},\"colorscale\":[[0.0,\"#0d0887\"],[0.1111111111111111,\"#46039f\"],[0.2222222222222222,\"#7201a8\"],[0.3333333333333333,\"#9c179e\"],[0.4444444444444444,\"#bd3786\"],[0.5555555555555556,\"#d8576b\"],[0.6666666666666666,\"#ed7953\"],[0.7777777777777778,\"#fb9f3a\"],[0.8888888888888888,\"#fdca26\"],[1.0,\"#f0f921\"]]}],\"mesh3d\":[{\"type\":\"mesh3d\",\"colorbar\":{\"outlinewidth\":0,\"ticks\":\"\"}}],\"scatter\":[{\"fillpattern\":{\"fillmode\":\"overlay\",\"size\":10,\"solidity\":0.2},\"type\":\"scatter\"}],\"parcoords\":[{\"type\":\"parcoords\",\"line\":{\"colorbar\":{\"outlinewidth\":0,\"ticks\":\"\"}}}],\"scatterpolargl\":[{\"type\":\"scatterpolargl\",\"marker\":{\"colorbar\":{\"outlinewidth\":0,\"ticks\":\"\"}}}],\"bar\":[{\"error_x\":{\"color\":\"#2a3f5f\"},\"error_y\":{\"color\":\"#2a3f5f\"},\"marker\":{\"line\":{\"color\":\"#E5ECF6\",\"width\":0.5},\"pattern\":{\"fillmode\":\"overlay\",\"size\":10,\"solidity\":0.2}},\"type\":\"bar\"}],\"scattergeo\":[{\"type\":\"scattergeo\",\"marker\":{\"colorbar\":{\"outlinewidth\":0,\"ticks\":\"\"}}}],\"scatterpolar\":[{\"type\":\"scatterpolar\",\"marker\":{\"colorbar\":{\"outlinewidth\":0,\"ticks\":\"\"}}}],\"histogram\":[{\"marker\":{\"pattern\":{\"fillmode\":\"overlay\",\"size\":10,\"solidity\":0.2}},\"type\":\"histogram\"}],\"scattergl\":[{\"type\":\"scattergl\",\"marker\":{\"colorbar\":{\"outlinewidth\":0,\"ticks\":\"\"}}}],\"scatter3d\":[{\"type\":\"scatter3d\",\"line\":{\"colorbar\":{\"outlinewidth\":0,\"ticks\":\"\"}},\"marker\":{\"colorbar\":{\"outlinewidth\":0,\"ticks\":\"\"}}}],\"scattermapbox\":[{\"type\":\"scattermapbox\",\"marker\":{\"colorbar\":{\"outlinewidth\":0,\"ticks\":\"\"}}}],\"scatterternary\":[{\"type\":\"scatterternary\",\"marker\":{\"colorbar\":{\"outlinewidth\":0,\"ticks\":\"\"}}}],\"scattercarpet\":[{\"type\":\"scattercarpet\",\"marker\":{\"colorbar\":{\"outlinewidth\":0,\"ticks\":\"\"}}}],\"carpet\":[{\"aaxis\":{\"endlinecolor\":\"#2a3f5f\",\"gridcolor\":\"white\",\"linecolor\":\"white\",\"minorgridcolor\":\"white\",\"startlinecolor\":\"#2a3f5f\"},\"baxis\":{\"endlinecolor\":\"#2a3f5f\",\"gridcolor\":\"white\",\"linecolor\":\"white\",\"minorgridcolor\":\"white\",\"startlinecolor\":\"#2a3f5f\"},\"type\":\"carpet\"}],\"table\":[{\"cells\":{\"fill\":{\"color\":\"#EBF0F8\"},\"line\":{\"color\":\"white\"}},\"header\":{\"fill\":{\"color\":\"#C8D4E3\"},\"line\":{\"color\":\"white\"}},\"type\":\"table\"}],\"barpolar\":[{\"marker\":{\"line\":{\"color\":\"#E5ECF6\",\"width\":0.5},\"pattern\":{\"fillmode\":\"overlay\",\"size\":10,\"solidity\":0.2}},\"type\":\"barpolar\"}],\"pie\":[{\"automargin\":true,\"type\":\"pie\"}]},\"layout\":{\"autotypenumbers\":\"strict\",\"colorway\":[\"#636efa\",\"#EF553B\",\"#00cc96\",\"#ab63fa\",\"#FFA15A\",\"#19d3f3\",\"#FF6692\",\"#B6E880\",\"#FF97FF\",\"#FECB52\"],\"font\":{\"color\":\"#2a3f5f\"},\"hovermode\":\"closest\",\"hoverlabel\":{\"align\":\"left\"},\"paper_bgcolor\":\"white\",\"plot_bgcolor\":\"#E5ECF6\",\"polar\":{\"bgcolor\":\"#E5ECF6\",\"angularaxis\":{\"gridcolor\":\"white\",\"linecolor\":\"white\",\"ticks\":\"\"},\"radialaxis\":{\"gridcolor\":\"white\",\"linecolor\":\"white\",\"ticks\":\"\"}},\"ternary\":{\"bgcolor\":\"#E5ECF6\",\"aaxis\":{\"gridcolor\":\"white\",\"linecolor\":\"white\",\"ticks\":\"\"},\"baxis\":{\"gridcolor\":\"white\",\"linecolor\":\"white\",\"ticks\":\"\"},\"caxis\":{\"gridcolor\":\"white\",\"linecolor\":\"white\",\"ticks\":\"\"}},\"coloraxis\":{\"colorbar\":{\"outlinewidth\":0,\"ticks\":\"\"}},\"colorscale\":{\"sequential\":[[0.0,\"#0d0887\"],[0.1111111111111111,\"#46039f\"],[0.2222222222222222,\"#7201a8\"],[0.3333333333333333,\"#9c179e\"],[0.4444444444444444,\"#bd3786\"],[0.5555555555555556,\"#d8576b\"],[0.6666666666666666,\"#ed7953\"],[0.7777777777777778,\"#fb9f3a\"],[0.8888888888888888,\"#fdca26\"],[1.0,\"#f0f921\"]],\"sequentialminus\":[[0.0,\"#0d0887\"],[0.1111111111111111,\"#46039f\"],[0.2222222222222222,\"#7201a8\"],[0.3333333333333333,\"#9c179e\"],[0.4444444444444444,\"#bd3786\"],[0.5555555555555556,\"#d8576b\"],[0.6666666666666666,\"#ed7953\"],[0.7777777777777778,\"#fb9f3a\"],[0.8888888888888888,\"#fdca26\"],[1.0,\"#f0f921\"]],\"diverging\":[[0,\"#8e0152\"],[0.1,\"#c51b7d\"],[0.2,\"#de77ae\"],[0.3,\"#f1b6da\"],[0.4,\"#fde0ef\"],[0.5,\"#f7f7f7\"],[0.6,\"#e6f5d0\"],[0.7,\"#b8e186\"],[0.8,\"#7fbc41\"],[0.9,\"#4d9221\"],[1,\"#276419\"]]},\"xaxis\":{\"gridcolor\":\"white\",\"linecolor\":\"white\",\"ticks\":\"\",\"title\":{\"standoff\":15},\"zerolinecolor\":\"white\",\"automargin\":true,\"zerolinewidth\":2},\"yaxis\":{\"gridcolor\":\"white\",\"linecolor\":\"white\",\"ticks\":\"\",\"title\":{\"standoff\":15},\"zerolinecolor\":\"white\",\"automargin\":true,\"zerolinewidth\":2},\"scene\":{\"xaxis\":{\"backgroundcolor\":\"#E5ECF6\",\"gridcolor\":\"white\",\"linecolor\":\"white\",\"showbackground\":true,\"ticks\":\"\",\"zerolinecolor\":\"white\",\"gridwidth\":2},\"yaxis\":{\"backgroundcolor\":\"#E5ECF6\",\"gridcolor\":\"white\",\"linecolor\":\"white\",\"showbackground\":true,\"ticks\":\"\",\"zerolinecolor\":\"white\",\"gridwidth\":2},\"zaxis\":{\"backgroundcolor\":\"#E5ECF6\",\"gridcolor\":\"white\",\"linecolor\":\"white\",\"showbackground\":true,\"ticks\":\"\",\"zerolinecolor\":\"white\",\"gridwidth\":2}},\"shapedefaults\":{\"line\":{\"color\":\"#2a3f5f\"}},\"annotationdefaults\":{\"arrowcolor\":\"#2a3f5f\",\"arrowhead\":0,\"arrowwidth\":1},\"geo\":{\"bgcolor\":\"white\",\"landcolor\":\"#E5ECF6\",\"subunitcolor\":\"white\",\"showland\":true,\"showlakes\":true,\"lakecolor\":\"white\"},\"title\":{\"x\":0.05},\"mapbox\":{\"style\":\"light\"}}}},                        {\"responsive\": true}                    ).then(function(){\n",
              "                            \n",
              "var gd = document.getElementById('e1f79f1e-0f15-4761-8490-50d9f213750f');\n",
              "var x = new MutationObserver(function (mutations, observer) {{\n",
              "        var display = window.getComputedStyle(gd).display;\n",
              "        if (!display || display === 'none') {{\n",
              "            console.log([gd, 'removed!']);\n",
              "            Plotly.purge(gd);\n",
              "            observer.disconnect();\n",
              "        }}\n",
              "}});\n",
              "\n",
              "// Listen for the removal of the full notebook cells\n",
              "var notebookContainer = gd.closest('#notebook-container');\n",
              "if (notebookContainer) {{\n",
              "    x.observe(notebookContainer, {childList: true});\n",
              "}}\n",
              "\n",
              "// Listen for the clearing of the current output cell\n",
              "var outputEl = gd.closest('.output');\n",
              "if (outputEl) {{\n",
              "    x.observe(outputEl, {childList: true});\n",
              "}}\n",
              "\n",
              "                        })                };                            </script>        </div>\n",
              "</body>\n",
              "</html>"
            ]
          },
          "metadata": {}
        }
      ]
    },
    {
      "cell_type": "markdown",
      "source": [
        "### 1.2.4 Feature Engineering"
      ],
      "metadata": {
        "id": "nrMMWsHIFb3h"
      }
    },
    {
      "cell_type": "markdown",
      "source": [
        "The algorythem in example 1.2.3 is not accurate.When the alpha and initial values are changed , the prediction accuracy changes drastically. This can be eleminated by feature scaling"
      ],
      "metadata": {
        "id": "TVstY_yqFjCW"
      }
    },
    {
      "cell_type": "markdown",
      "source": [
        "Three different techniques: (There are many) \n",
        "- Feature scaling, essentially dividing each positive feature by its maximum value, or more generally, rescale each feature by both its minimum and maximum values using (x-min)/(max-min). Both ways normalizes features to the range of -1 and 1, where the former method works for positive features , and the latter method works for any features.\n",
        "- Mean normalization: $x_i := \\dfrac{x_i - \\mu_i}{max - min} $ \n",
        "- Z-score normalization which we will explore below. "
      ],
      "metadata": {
        "id": "6Xqd5lFLHLc2"
      }
    },
    {
      "cell_type": "code",
      "source": [
        "\"\"\"\n",
        "    computes  X, zcore normalized by column\n",
        "    \n",
        "    Args:\n",
        "      X (ndarray (m,n))     : input data, m examples, n features\n",
        "      \n",
        "    Returns:\n",
        "      X_norm (ndarray (m,n)): input normalized by column\n",
        "      mu (ndarray (n,))     : mean of each feature\n",
        "      sigma (ndarray (n,))  : standard deviation of each feature\n",
        "    \"\"\"\n",
        "\n",
        "def zscore_normalize_features(X):\n",
        "\n",
        "    # find the mean of each column/feature\n",
        "    mu     = np.mean(X, axis=0)                 # mu will have shape (n,)\n",
        "    # find the standard deviation of each column/feature\n",
        "    sigma  = np.std(X, axis=0)                  # sigma will have shape (n,)\n",
        "    # element-wise, subtract mu for that column from each example, divide by std for that column\n",
        "    X_norm = (X - mu) / sigma      \n",
        "\n",
        "    return (X_norm, mu, sigma)\n",
        "\n"
      ],
      "metadata": {
        "id": "K7Xde8AIF9dh"
      },
      "execution_count": null,
      "outputs": []
    },
    {
      "cell_type": "markdown",
      "source": [
        "**Solve the above 1.2.4 using feature scaled example sets**"
      ],
      "metadata": {
        "id": "WOXe6lwbH5-3"
      }
    },
    {
      "cell_type": "code",
      "source": [
        "''' \n",
        "Update data as requred\n",
        "'''\n",
        "#Training Example Matrix ~ [[set 1 ], [set 2 ] , [set 3 ] ... [set m]] <~~ m is the example count\n",
        "x_train = np.array([[2104, 5, 1, 45],                         \n",
        "                    [1416, 3, 2, 40],                         \n",
        "                    [852, 2, 1, 35]])\n",
        "\n",
        "# Target Matrix          ~ [target_1 ,target_2 ,... , target_m ] <~~ m is the example count\n",
        "y_train = np.array([460, 232, 178])\n",
        "\n",
        "# Breaks when dw_dj and dw_db < learning_rate*convergence_factor     \n",
        "# Better to use smaller values\n",
        "convergence_factor = 0.00001\n",
        "\n",
        "'''\n",
        "Feature scaling\n",
        "'''\n",
        "X_norm, mu, sigma = zscore_normalize_features(x_train)\n",
        "\n",
        "x_train = X_norm\n",
        "\n",
        "'''Run gradient descent'''\n"
      ],
      "metadata": {
        "colab": {
          "base_uri": "https://localhost:8080/",
          "height": 35
        },
        "id": "cc6LTFYxIOFL",
        "outputId": "a1534216-5596-4283-f776-c01913e01397"
      },
      "execution_count": null,
      "outputs": [
        {
          "output_type": "execute_result",
          "data": {
            "text/plain": [
              "'Run gradient descent'"
            ],
            "application/vnd.google.colaboratory.intrinsic+json": {
              "type": "string"
            }
          },
          "metadata": {},
          "execution_count": 581
        }
      ]
    },
    {
      "cell_type": "markdown",
      "source": [
        "Test 01 :"
      ],
      "metadata": {
        "id": "7bidvG6rLL5l"
      }
    },
    {
      "cell_type": "code",
      "source": [
        "'''\n",
        "Initial conditions for gradient descent\n",
        "Use float values as initial input\n",
        "'''\n",
        "# Learning rate ~ Better if small\n",
        "learning_rate = 5.0e-3\n",
        "\n",
        "# Initial w value matrix ~ [val_1 , val_2 , ... , val_n]  <~~ n is the feature count\n",
        "initial_w = np.array([ 100.0, 100.0,100.0, 100.0])\n",
        "\n",
        "# Initial value for b\n",
        "initial_b =  0.0\n",
        "\n",
        "# Larger the better <~ Automatically breaks the loop when converged! \n",
        "number_of_iterations = 40000\n",
        "\n",
        "#Round array elements into two decimal places when printing\n",
        "np.set_printoptions(precision=2)\n",
        "\n",
        "# Calculate for given data & initial conditions for Example 1.2.3\n",
        "w_final,b_final,J_log,P_log = gradient_descent_multi()\n",
        "\n",
        "# Print W,b \n",
        "print(\"W,b values for the best fit line is :{} & {} \".format( w_final,b_final))\n",
        "\n"
      ],
      "metadata": {
        "colab": {
          "base_uri": "https://localhost:8080/"
        },
        "id": "RcLa-cFuLOWq",
        "outputId": "7243307e-1bb6-4eb9-f0e6-a9d14e68e8b3"
      },
      "execution_count": null,
      "outputs": [
        {
          "output_type": "stream",
          "name": "stdout",
          "text": [
            "[ 3.34e-09 -3.34e-09  4.98e-08  6.19e-09] [5.e-08 5.e-08 5.e-08 5.e-08]\n",
            "[ True  True  True  True]\n",
            "4298\n",
            "W,b values for the best fit line is :[ 35.14  53.33 -28.93  27.67] & 289.9999998729948 \n"
          ]
        }
      ]
    },
    {
      "cell_type": "markdown",
      "source": [
        "Test 2 :"
      ],
      "metadata": {
        "id": "Yzm_5AJuLjWP"
      }
    },
    {
      "cell_type": "code",
      "source": [],
      "metadata": {
        "id": "nOdAzshoLk4R"
      },
      "execution_count": null,
      "outputs": []
    },
    {
      "cell_type": "markdown",
      "source": [
        "## **1.3 Advanced Vectorized Multi variable system (TBD)**\n"
      ],
      "metadata": {
        "id": "1VNeCqKq5ZqH"
      }
    },
    {
      "cell_type": "markdown",
      "source": [
        "Consider the above same example: 1.2.3 Housing price\n",
        "\n",
        "\n",
        "| Size (sqft) | Number of Bedrooms  | Number of floors | Age of  Home | Price (1000s dollars)  |   \n",
        "| ----------------| ------------------- |----------------- |--------------|-------------- |  \n",
        "| 2104            | 5                   | 1                | 45           | 460           |  \n",
        "| 1416            | 3                   | 2                | 40           | 232           |  \n",
        "| 852             | 2                   | 1                | 35           | 178           |  \n"
      ],
      "metadata": {
        "id": "kJz69FrADWgj"
      }
    },
    {
      "cell_type": "code",
      "source": [
        "#Linear regression for multi-feature\n",
        "\n",
        "#Import Required Libraries\n",
        "import numpy as np\n",
        "import math\n",
        "import matplotlib.pyplot as plt\n",
        "\n",
        "''' \n",
        "Update data as requred\n",
        "'''\n",
        "#Training Example Matrix ~ [[set 1 ], [set 2 ] , [set 3 ] ... [set m]] <~~ m is the example count\n",
        "X_train = np.array([[2104, 5, 1, 45],                         \n",
        "                    [1416, 3, 2, 40],                         \n",
        "                    [852, 2, 1, 35]])\n",
        "\n",
        "# Target Matrix          ~ [target_1 ,target_2 ,... , target_m ] <~~ m is the example count\n",
        "y_train = np.array([460, 232, 178])\n",
        "\n",
        "\n",
        "\n",
        "#Initial conditions for gradient descent\n",
        "\n",
        "# Learning rate ~ Better if small\n",
        "learning_rate = 0.01\n",
        "\n",
        "# Initial w value matrix ~ [val_1 , val_2 , ... , val_n]  <~~ n is the feature count\n",
        "initial_w = np.array([ 0.5, 19, -60, -42])\n",
        "\n",
        "# Initial value for b\n",
        "initial_b = 1000\n",
        "\n",
        "# Larger the better <~ Automatically breaks the loop when converged! \n",
        "number_of_iterations = 250000\n",
        "\n",
        "# Breaks when dw_dj and dw_db < learning_rate*convergence_factor     \n",
        "# Better to use smaller values\n",
        "convergence_factor = 0.001\n",
        "\n",
        "\n",
        "\n",
        "''' \n",
        "Do not change below\n",
        "'''\n",
        "# m ~ The number of examples <~~ Row count\n",
        "m = X_train.shape[0]\n",
        "# n ~ The number of features <~~ Column count\n",
        "n = X_train.shape[1]\n",
        "\n",
        "\n"
      ],
      "metadata": {
        "id": "czj70-IKDJwz"
      },
      "execution_count": null,
      "outputs": []
    },
    {
      "cell_type": "markdown",
      "metadata": {
        "id": "ru6XlSA-NjI2"
      },
      "source": [
        "# 2 Supervised Machine Learning: Classification"
      ]
    },
    {
      "cell_type": "markdown",
      "source": [
        "## 2.1 Sigmoid function\n",
        "\n",
        "The formula for a sigmoid function is as follows -  \n",
        "\n",
        "$g(z) = \\frac{1}{1+e^{-z}}$\n",
        "\n",
        "In the case of logistic regression, z (the input to the sigmoid function), is the output of a linear regression model. \n",
        "- In the case of a single example, $z$ is scalar.\n",
        "- in the case of multiple examples, $z$ may be a vector consisting of $m$ values, one for each example. \n"
      ],
      "metadata": {
        "id": "WzetGsgENcgj"
      }
    },
    {
      "cell_type": "markdown",
      "source": [
        "* Logistic regression, the model is represented as \n",
        "\n",
        "  $$f_{\\mathbf{w},b}(\\mathbf{x}^{(i)}) = g(\\mathbf{w} \\cdot \\mathbf{x}^{(i)} + b) \\tag{1}$$\n",
        "\n",
        "  where $g(z)$ is known as the sigmoid function and it maps all input values to values between 0 and 1:\n",
        "\n",
        "  $g(z) = \\frac{1}{1+e^{-z}}\\tag{2}$\n",
        "  and $\\mathbf{w} \\cdot \\mathbf{x}$ is the vector dot product:\n",
        "  \n",
        "  $$\\mathbf{w} \\cdot \\mathbf{x} = w_0 x_0 + w_1 x_1$$\n",
        "  \n",
        "  \n",
        " * We interpret the output of the model ($f_{\\mathbf{w},b}(x)$) as the probability that $y=1$ given $\\mathbf{x}$ and parameterized by $\\mathbf{w}$ and $b$.\n",
        "* Therefore, to get a final prediction ($y=0$ or $y=1$) from the logistic regression model,  can use the following heuristic -\n",
        "\n",
        "  if $f_{\\mathbf{w},b}(x) >= 0.5$, predict $y=1$\n",
        "  \n",
        "  if $f_{\\mathbf{w},b}(x) < 0.5$, predict $y=0$ <br><br>\n",
        "  \n"
      ],
      "metadata": {
        "id": "VwqB00g6Te7e"
      }
    },
    {
      "cell_type": "markdown",
      "source": [
        "## 2.2 Cost function"
      ],
      "metadata": {
        "id": "S_a_30BDZ8Sd"
      }
    },
    {
      "cell_type": "markdown",
      "source": [
        "  \n",
        "Cost using a *squared error cost*:\n",
        "  $$J(w,b) = \\frac{1}{2m} \\sum\\limits_{i = 0}^{m-1} (f_{w,b}(x^{(i)}) - y^{(i)})^2 $$ \n",
        " \n",
        "where \n",
        "  $$f_{w,b}(x^{(i)}) = sigmoid(wx^{(i)} + b )$$\n",
        "\n",
        "<br>\n",
        "\n",
        "\n",
        "The loss function above can be rewritten to be easier to implement.\n",
        "    $$loss(f_{\\mathbf{w},b}(\\mathbf{x}^{(i)}), y^{(i)}) = (-y^{(i)} \\log\\left(f_{\\mathbf{w},b}\\left( \\mathbf{x}^{(i)} \\right) \\right) - \\left( 1 - y^{(i)}\\right) \\log \\left( 1 - f_{\\mathbf{w},b}\\left( \\mathbf{x}^{(i)} \\right) \\right)$$\n",
        "  \n",
        "This is a rather formidable-looking equation. It is less daunting when you consider $y^{(i)}$ can have only two values, 0 and 1. One can then consider the equation in two pieces:  \n",
        "when $ y^{(i)} = 0$, the left-hand term is eliminated:\n",
        "$$\n",
        "\\begin{align}\n",
        "loss(f_{\\mathbf{w},b}(\\mathbf{x}^{(i)}), 0) &= (-(0) \\log\\left(f_{\\mathbf{w},b}\\left( \\mathbf{x}^{(i)} \\right) \\right) - \\left( 1 - 0\\right) \\log \\left( 1 - f_{\\mathbf{w},b}\\left( \\mathbf{x}^{(i)} \\right) \\right) \\\\\n",
        "&= -\\log \\left( 1 - f_{\\mathbf{w},b}\\left( \\mathbf{x}^{(i)} \\right) \\right)\n",
        "\\end{align}\n",
        "$$\n",
        "and when $ y^{(i)} = 1$, the right-hand term is eliminated:\n",
        "$$\n",
        "\\begin{align}\n",
        "  loss(f_{\\mathbf{w},b}(\\mathbf{x}^{(i)}), 1) &=  (-(1) \\log\\left(f_{\\mathbf{w},b}\\left( \\mathbf{x}^{(i)} \\right) \\right) - \\left( 1 - 1\\right) \\log \\left( 1 - f_{\\mathbf{w},b}\\left( \\mathbf{x}^{(i)} \\right) \\right)\\\\\n",
        "  &=  -\\log\\left(f_{\\mathbf{w},b}\\left( \\mathbf{x}^{(i)} \\right) \\right)\n",
        "\\end{align}\n",
        "$$\n",
        "\n"
      ],
      "metadata": {
        "id": "oJcPmNvSZeQO"
      }
    },
    {
      "cell_type": "markdown",
      "source": [
        "\n",
        "\n",
        "In a previous lab, you developed the *logistic loss* function. Recall, loss is defined to apply to one example. Here you combine the losses to form the **cost**, which includes all the examples.\n",
        "\n",
        "\n",
        "Recall that for logistic regression, the cost function is of the form \n",
        "\n",
        "$$ J(\\mathbf{w},b) = \\frac{1}{m} \\sum_{i=0}^{m-1} \\left[ loss(f_{\\mathbf{w},b}(\\mathbf{x}^{(i)}), y^{(i)}) \\right] \\tag{1}$$\n",
        "\n",
        "where\n",
        "* $loss(f_{\\mathbf{w},b}(\\mathbf{x}^{(i)}), y^{(i)})$ is the cost for a single data point, which is:\n",
        "\n",
        "    $$loss(f_{\\mathbf{w},b}(\\mathbf{x}^{(i)}), y^{(i)}) = -y^{(i)} \\log\\left(f_{\\mathbf{w},b}\\left( \\mathbf{x}^{(i)} \\right) \\right) - \\left( 1 - y^{(i)}\\right) \\log \\left( 1 - f_{\\mathbf{w},b}\\left( \\mathbf{x}^{(i)} \\right) \\right) \\tag{2}$$\n",
        "    \n",
        "*  where m is the number of training examples in the data set and:\n",
        "$$\n",
        "\\begin{align}\n",
        "  f_{\\mathbf{w},b}(\\mathbf{x^{(i)}}) &= g(z^{(i)})\\tag{3} \\\\\n",
        "  z^{(i)} &= \\mathbf{w} \\cdot \\mathbf{x}^{(i)}+ b\\tag{4} \\\\\n",
        "  g(z^{(i)}) &= \\frac{1}{1+e^{-z^{(i)}}}\\tag{5} \n",
        "\\end{align}\n",
        "$$"
      ],
      "metadata": {
        "id": "syaWHkzdZ2wV"
      }
    },
    {
      "cell_type": "markdown",
      "source": [
        "##2.3 Logistic Gradient Descent\n",
        "\n",
        "\n",
        "T gradient descent algorithm utilizes the gradient calculation:\n",
        "$$\\begin{align*}\n",
        "&\\text{repeat until convergence:} \\; \\lbrace \\\\\n",
        "&  \\; \\; \\;w_j = w_j -  \\alpha \\frac{\\partial J(\\mathbf{w},b)}{\\partial w_j} \\tag{1}  \\; & \\text{for j := 0..n-1} \\\\ \n",
        "&  \\; \\; \\;  \\; \\;b = b -  \\alpha \\frac{\\partial J(\\mathbf{w},b)}{\\partial b} \\\\\n",
        "&\\rbrace\n",
        "\\end{align*}$$\n",
        "\n",
        "Where each iteration performs simultaneous updates on $w_j$ for all $j$, where\n",
        "$$\\begin{align*}\n",
        "\\frac{\\partial J(\\mathbf{w},b)}{\\partial w_j}  &= \\frac{1}{m} \\sum\\limits_{i = 0}^{m-1} (f_{\\mathbf{w},b}(\\mathbf{x}^{(i)}) - y^{(i)})x_{j}^{(i)} \\tag{2} \\\\\n",
        "\\frac{\\partial J(\\mathbf{w},b)}{\\partial b}  &= \\frac{1}{m} \\sum\\limits_{i = 0}^{m-1} (f_{\\mathbf{w},b}(\\mathbf{x}^{(i)}) - y^{(i)}) \\tag{3} \n",
        "\\end{align*}$$\n",
        "\n",
        "* m is the number of training examples in the data set      \n",
        "* $f_{\\mathbf{w},b}(x^{(i)})$ is the model's prediction, while $y^{(i)}$ is the target\n",
        "* For a logistic regression model  \n",
        "    $z = \\mathbf{w} \\cdot \\mathbf{x} + b$  \n",
        "    $f_{\\mathbf{w},b}(x) = g(z)$  \n",
        "    where $g(z)$ is the sigmoid function:  \n",
        "    $g(z) = \\frac{1}{1+e^{-z}}$   \n",
        "    \n"
      ],
      "metadata": {
        "id": "o8HwG2THiE5q"
      }
    },
    {
      "cell_type": "code",
      "source": [
        "# Plotting the Sigmoid Function in Python with Matplotlib\n",
        "import numpy as np\n",
        "import matplotlib.pyplot as plt\n",
        "\n",
        "def sigmoid(x):\n",
        "    return 1.0 / (1.0 + np.exp(-x))\n",
        "\n",
        "values = np.arange(-10, 10, 0.1)\n",
        "\n",
        "plt.plot(values, sigmoid(values))\n",
        "plt.xlabel('x')\n",
        "plt.ylabel('sigmoid(x)')\n",
        "plt.title('Sigmoid Function in Matplotlib')\n",
        "plt.show()"
      ],
      "metadata": {
        "colab": {
          "base_uri": "https://localhost:8080/",
          "height": 295
        },
        "id": "9hhjZCU1ONHn",
        "outputId": "a351fb75-9df7-4034-92c2-b7fbc0723ee2"
      },
      "execution_count": null,
      "outputs": [
        {
          "output_type": "display_data",
          "data": {
            "text/plain": [
              "<Figure size 432x288 with 1 Axes>"
            ],
            "image/png": "[encoded data removed]"
          },
          "metadata": {
            "needs_background": "light"
          }
        }
      ]
    },
    {
      "cell_type": "markdown",
      "source": [
        "##2.4 **Algorythm**"
      ],
      "metadata": {
        "id": "NW4z9AnjQh6L"
      }
    },
    {
      "cell_type": "markdown",
      "source": [
        "**Dataset**"
      ],
      "metadata": {
        "id": "xnL6iNlrQ3Mp"
      }
    },
    {
      "cell_type": "code",
      "source": [
        "x_train = np.array([0,1,2,4,5,7,8,9,10,13,15,18])\n",
        "y_train = np.array([0,0,0,0,0,0,1,1,1,1,1,1])\n",
        "\n",
        "# Plotting the data\n",
        "plt.plot(x_train, y_train ,'bo')\n",
        "plt.xlabel('X') #Tumor size\n",
        "plt.ylabel('Y') # Is Cancerous Y = 1 , N = 0\n",
        "plt.title('Data distribution')\n",
        "plt.show()"
      ],
      "metadata": {
        "colab": {
          "base_uri": "https://localhost:8080/",
          "height": 295
        },
        "id": "oVxG-7EwQ7QY",
        "outputId": "d1d2febd-611a-4427-dc3d-e67b99c3fe92"
      },
      "execution_count": null,
      "outputs": [
        {
          "output_type": "display_data",
          "data": {
            "text/plain": [
              "<Figure size 432x288 with 1 Axes>"
            ],
            "image/png": "[encoded data removed]"
          },
          "metadata": {
            "needs_background": "light"
          }
        }
      ]
    },
    {
      "cell_type": "code",
      "source": [
        "#two feature data set\n",
        "X_train = np.array([[0.5, 1.5], [1,1], [1.5, 0.5], [3, 0.5], [2, 2], [1, 2.5]])\n",
        "y_train = np.array([0, 0, 0, 1, 1, 1])\n",
        "\n",
        "\n",
        "#Compute the sigmoid of z\n",
        "def sigmoid(z):\n",
        "\n",
        "    g = 1/(1+np.exp(-z))\n",
        "   \n",
        "    return g\n",
        "\n",
        "\n",
        "#Computes cost\n",
        "def compute_cost_logistic(X, y, w, b):\n",
        "\n",
        "    m = X.shape[0]\n",
        "    cost = 0.0\n",
        "    for i in range(m):\n",
        "        z_i = np.dot(X[i],w) + b\n",
        "        f_wb_i = sigmoid(z_i)\n",
        "        cost +=  -y[i]*np.log(f_wb_i) - (1-y[i])*np.log(1-f_wb_i)\n",
        "             \n",
        "    cost = cost / m\n",
        "    return cost\n",
        "\n",
        "w_in = np.zeros((1))\n",
        "b_in = 0\n",
        "\n",
        "\n",
        "#Computes the gradient for linear regression\n",
        "def compute_gradient_logistic(X, y, w, b): \n",
        "    m,n = X.shape\n",
        "    dj_dw = np.zeros((n,))                           #(n,)\n",
        "    dj_db = 0.\n",
        "\n",
        "    for i in range(m):\n",
        "        f_wb_i = sigmoid(np.dot(X[i],w) + b)          #(n,)(n,)=scalar\n",
        "        err_i  = f_wb_i  - y[i]                       #scalar\n",
        "        for j in range(n):\n",
        "            dj_dw[j] = dj_dw[j] + err_i * X[i,j]      #scalar\n",
        "        dj_db = dj_db + err_i\n",
        "    dj_dw = dj_dw/m                                   #(n,)\n",
        "    dj_db = dj_db/m                                   #scalar\n",
        "        \n",
        "    return dj_db, dj_dw  \n",
        "\n",
        "#Performs batch gradient descent\n",
        "def gradient_descent(X, y, w_in, b_in, alpha, num_iters): \n",
        "   \n",
        "    # An array to store cost J and w's at each iteration primarily for graphing later\n",
        "    J_history = []\n",
        "    w = np.copy(w_in)  #avoid modifying global w within function\n",
        "    b = b_in\n",
        "    \n",
        "    for i in range(num_iters):\n",
        "        # Calculate the gradient and update the parameters\n",
        "        dj_db, dj_dw = compute_gradient_logistic(X, y, w, b)   \n",
        "\n",
        "        # Update Parameters using w, b, alpha and gradient\n",
        "        w = w - alpha * dj_dw               \n",
        "        b = b - alpha * dj_db               \n",
        "      \n",
        "        # Save cost J at each iteration\n",
        "        if i<100000:      # prevent resource exhaustion \n",
        "            J_history.append( compute_cost_logistic(X, y, w, b) )\n",
        "\n",
        "        # Print cost every at intervals 10 times or as many iterations if < 10\n",
        "        if i% math.ceil(num_iters / 10) == 0:\n",
        "            print(f\"Iteration {i:4d}: Cost {J_history[-1]}   \")\n",
        "        \n",
        "    return w, b, J_history         #return final w,b and J history for graphing\n"
      ],
      "metadata": {
        "id": "nXFHCq8ZSd2B"
      },
      "execution_count": null,
      "outputs": []
    },
    {
      "cell_type": "markdown",
      "source": [
        "**Set 1**"
      ],
      "metadata": {
        "id": "xLi_OoHniqf7"
      }
    },
    {
      "cell_type": "code",
      "source": [
        "X_tmp = np.array([[0.5, 1.5], [1,1], [1.5, 0.5], [3, 0.5], [2, 2], [1, 2.5]])\n",
        "y_tmp = np.array([0, 0, 0, 1, 1, 1])\n",
        "w_tmp = np.array([2.,3.])\n",
        "b_tmp = 1.\n",
        "dj_db_tmp, dj_dw_tmp = compute_gradient_logistic(X_tmp, y_tmp, w_tmp, b_tmp)\n",
        "print(f\"dj_db: {dj_db_tmp}\" )\n",
        "print(f\"dj_dw: {dj_dw_tmp.tolist()}\" )\n",
        "\n",
        "w_tmp  = np.zeros_like(X_train[0])\n",
        "b_tmp  = 0.\n",
        "alph = 0.1\n",
        "iters = 100000\n",
        "\n",
        "w_out, b_out, _ = gradient_descent(X_train, y_train, w_tmp, b_tmp, alph, iters) \n",
        "print(f\"\\nupdated parameters: w:{w_out}, b:{b_out}\")\n"
      ],
      "metadata": {
        "colab": {
          "base_uri": "https://localhost:8080/"
        },
        "id": "oQWbvMi1ilsH",
        "outputId": "0c2641c2-8b23-44eb-d71f-4527b7a49f9a"
      },
      "execution_count": null,
      "outputs": [
        {
          "output_type": "stream",
          "name": "stdout",
          "text": [
            "dj_db: 0.49861806546328574\n",
            "dj_dw: [0.498333393278696, 0.49883942983996693]\n",
            "Iteration    0: Cost 0.684610468560574   \n",
            "Iteration 10000: Cost 0.01711604647887364   \n",
            "Iteration 20000: Cost 0.008523403979166485   \n",
            "Iteration 30000: Cost 0.005672197191107651   \n",
            "Iteration 40000: Cost 0.004250161053834308   \n",
            "Iteration 50000: Cost 0.003398230224179212   \n",
            "Iteration 60000: Cost 0.00283084256010047   \n",
            "Iteration 70000: Cost 0.002425848306579758   \n",
            "Iteration 80000: Cost 0.0021222573122028584   \n",
            "Iteration 90000: Cost 0.0018862216652143864   \n",
            "\n",
            "updated parameters: w:[8.35 8.15], b:-22.690605796630248\n"
          ]
        }
      ]
    },
    {
      "cell_type": "markdown",
      "source": [
        "**Set 2**"
      ],
      "metadata": {
        "id": "aKu7n0sNjNKz"
      }
    },
    {
      "cell_type": "code",
      "source": [],
      "metadata": {
        "id": "XgSScARdjP9y"
      },
      "execution_count": null,
      "outputs": []
    },
    {
      "cell_type": "markdown",
      "source": [
        "**Set 1**"
      ],
      "metadata": {
        "id": "sDWS4rxpjQLy"
      }
    },
    {
      "cell_type": "code",
      "source": [
        "x_train = np.array([0., 1, 2, 3, 4, 5])\n",
        "y_train = np.array([0,  0, 0, 1, 1, 1])\n",
        "X_tmp = np.array([[0.5, 1.5], [1,1], [1.5, 0.5], [3, 0.5], [2, 2], [1, 2.5]])\n",
        "y_tmp = np.array([0, 0, 0, 1, 1, 1])\n",
        "w_tmp = np.array([2.,3.])\n",
        "b_tmp = 1.\n",
        "dj_db_tmp, dj_dw_tmp = compute_gradient_logistic(X_tmp, y_tmp, w_tmp, b_tmp)\n",
        "print(f\"dj_db: {dj_db_tmp}\" )\n",
        "print(f\"dj_dw: {dj_dw_tmp.tolist()}\" )\n",
        "\n",
        "w_tmp  = np.zeros_like(X_train[0])\n",
        "b_tmp  = 0.\n",
        "alph = 0.1\n",
        "iters = 100000\n",
        "\n",
        "w_out, b_out, _ = gradient_descent(X_train, y_train, w_tmp, b_tmp, alph, iters) \n",
        "print(f\"\\nupdated parameters: w:{w_out}, b:{b_out}\")\n"
      ],
      "metadata": {
        "colab": {
          "base_uri": "https://localhost:8080/"
        },
        "outputId": "10fe5c7e-2702-496f-92df-018684541a18",
        "id": "Mqd1z5jYjQLy"
      },
      "execution_count": null,
      "outputs": [
        {
          "output_type": "stream",
          "name": "stdout",
          "text": [
            "dj_db: 0.49861806546328574\n",
            "dj_dw: [0.498333393278696, 0.49883942983996693]\n",
            "Iteration    0: Cost 0.684610468560574   \n",
            "Iteration 10000: Cost 0.01711604647887364   \n",
            "Iteration 20000: Cost 0.008523403979166485   \n",
            "Iteration 30000: Cost 0.005672197191107651   \n",
            "Iteration 40000: Cost 0.004250161053834308   \n",
            "Iteration 50000: Cost 0.003398230224179212   \n",
            "Iteration 60000: Cost 0.00283084256010047   \n",
            "Iteration 70000: Cost 0.002425848306579758   \n",
            "Iteration 80000: Cost 0.0021222573122028584   \n",
            "Iteration 90000: Cost 0.0018862216652143864   \n",
            "\n",
            "updated parameters: w:[8.35 8.15], b:-22.690605796630248\n"
          ]
        }
      ]
    },
    {
      "cell_type": "markdown",
      "source": [
        "#3 Additional"
      ],
      "metadata": {
        "id": "MooF65GRjplK"
      }
    },
    {
      "cell_type": "markdown",
      "source": [
        "##3.1  overfitting"
      ],
      "metadata": {
        "id": "9J2rSSkjjtQr"
      }
    },
    {
      "cell_type": "markdown",
      "source": [
        "## 3.2 Regularized Cost and Gradient"
      ],
      "metadata": {
        "id": "wPr8GPP8j22S"
      }
    },
    {
      "cell_type": "markdown",
      "source": [
        "### 3.2.1 Cost function for regularized linear regression\n",
        "\n",
        "The equation for the cost function regularized linear regression is:\n",
        "$$J(\\mathbf{w},b) = \\frac{1}{2m} \\sum\\limits_{i = 0}^{m-1} (f_{\\mathbf{w},b}(\\mathbf{x}^{(i)}) - y^{(i)})^2  + \\frac{\\lambda}{2m}  \\sum_{j=0}^{n-1} w_j^2 \\tag{1}$$ \n",
        "where:\n",
        "$$ f_{\\mathbf{w},b}(\\mathbf{x}^{(i)}) = \\mathbf{w} \\cdot \\mathbf{x}^{(i)} + b  \\tag{2} $$ \n",
        "\n",
        "\n",
        "Compare this to the cost function without regularization (which you implemented in  a previous lab), which is of the form:\n",
        "\n",
        "$$J(\\mathbf{w},b) = \\frac{1}{2m} \\sum\\limits_{i = 0}^{m-1} (f_{\\mathbf{w},b}(\\mathbf{x}^{(i)}) - y^{(i)})^2 $$ \n",
        "\n",
        "The difference is the regularization term,  <span style=\"color:blue\">\n",
        "    $\\frac{\\lambda}{2m}  \\sum_{j=0}^{n-1} w_j^2$ </span> \n",
        "    \n",
        "Including this term encourages gradient descent to minimize the size of the parameters. Note, in this example, the parameter $b$ is not regularized. This is standard practice.\n",
        "\n",
        "Below is an implementation of equations (1) and (2). Note that this uses a *standard pattern for this course*,   a `for loop` over all `m` examples."
      ],
      "metadata": {
        "id": "6Lx8fX2jkIut"
      }
    },
    {
      "cell_type": "code",
      "source": [
        "def compute_cost_linear_reg(X, y, w, b, lambda_ = 1):\n",
        "    \"\"\"\n",
        "    Computes the cost over all examples\n",
        "    Args:\n",
        "      X (ndarray (m,n): Data, m examples with n features\n",
        "      y (ndarray (m,)): target values\n",
        "      w (ndarray (n,)): model parameters  \n",
        "      b (scalar)      : model parameter\n",
        "      lambda_ (scalar): Controls amount of regularization\n",
        "    Returns:\n",
        "      total_cost (scalar):  cost \n",
        "    \"\"\"\n",
        "\n",
        "    m  = X.shape[0]\n",
        "    n  = len(w)\n",
        "    cost = 0.\n",
        "    for i in range(m):\n",
        "        f_wb_i = np.dot(X[i], w) + b                                   #(n,)(n,)=scalar, see np.dot\n",
        "        cost = cost + (f_wb_i - y[i])**2                               #scalar             \n",
        "    cost = cost / (2 * m)                                              #scalar  \n",
        " \n",
        "    reg_cost = 0\n",
        "    for j in range(n):\n",
        "        reg_cost += (w[j]**2)                                          #scalar\n",
        "    reg_cost = (lambda_/(2*m)) * reg_cost                              #scalar\n",
        "    \n",
        "    total_cost = cost + reg_cost                                       #scalar\n",
        "    return total_cost                                                  #scalar"
      ],
      "metadata": {
        "id": "sqnrczmxkaq1"
      },
      "execution_count": null,
      "outputs": []
    },
    {
      "cell_type": "code",
      "source": [
        "np.random.seed(1)\n",
        "X_tmp = np.random.rand(5,6)\n",
        "y_tmp = np.array([0,1,0,1,0])\n",
        "w_tmp = np.random.rand(X_tmp.shape[1]).reshape(-1,)-0.5\n",
        "b_tmp = 0.5\n",
        "lambda_tmp = 0.7\n",
        "cost_tmp = compute_cost_linear_reg(X_tmp, y_tmp, w_tmp, b_tmp, lambda_tmp)\n",
        "\n",
        "print(\"Regularized cost:\", cost_tmp)"
      ],
      "metadata": {
        "colab": {
          "base_uri": "https://localhost:8080/"
        },
        "id": "ce52F7w_kcpV",
        "outputId": "52562b94-43e7-43ef-ab77-f0594b627e82"
      },
      "execution_count": null,
      "outputs": [
        {
          "output_type": "stream",
          "name": "stdout",
          "text": [
            "Regularized cost: 0.07917239320214277\n"
          ]
        }
      ]
    },
    {
      "cell_type": "markdown",
      "source": [
        "### 3.2.2 Cost function for regularized logistic regression\n",
        "For regularized **logistic** regression, the cost function is of the form\n",
        "$$J(\\mathbf{w},b) = \\frac{1}{m}  \\sum_{i=0}^{m-1} \\left[ -y^{(i)} \\log\\left(f_{\\mathbf{w},b}\\left( \\mathbf{x}^{(i)} \\right) \\right) - \\left( 1 - y^{(i)}\\right) \\log \\left( 1 - f_{\\mathbf{w},b}\\left( \\mathbf{x}^{(i)} \\right) \\right) \\right] + \\frac{\\lambda}{2m}  \\sum_{j=0}^{n-1} w_j^2 \\tag{3}$$\n",
        "where:\n",
        "$$ f_{\\mathbf{w},b}(\\mathbf{x}^{(i)}) = sigmoid(\\mathbf{w} \\cdot \\mathbf{x}^{(i)} + b)  \\tag{4} $$ \n",
        "\n",
        "Compare this to the cost function without regularization (which you implemented in  a previous lab):\n",
        "\n",
        "$$ J(\\mathbf{w},b) = \\frac{1}{m}\\sum_{i=0}^{m-1} \\left[ (-y^{(i)} \\log\\left(f_{\\mathbf{w},b}\\left( \\mathbf{x}^{(i)} \\right) \\right) - \\left( 1 - y^{(i)}\\right) \\log \\left( 1 - f_{\\mathbf{w},b}\\left( \\mathbf{x}^{(i)} \\right) \\right)\\right] $$\n",
        "\n",
        "As was the case in linear regression above, the difference is the regularization term, which is    <span style=\"color:blue\">\n",
        "    $\\frac{\\lambda}{2m}  \\sum_{j=0}^{n-1} w_j^2$ </span> \n",
        "\n",
        "Including this term encourages gradient descent to minimize the size of the parameters. Note, in this example, the parameter $b$ is not regularized. This is standard practice. "
      ],
      "metadata": {
        "id": "fennaJTqkg0S"
      }
    },
    {
      "cell_type": "code",
      "source": [
        "def compute_cost_logistic_reg(X, y, w, b, lambda_ = 1):\n",
        "    \"\"\"\n",
        "    Computes the cost over all examples\n",
        "    Args:\n",
        "    Args:\n",
        "      X (ndarray (m,n): Data, m examples with n features\n",
        "      y (ndarray (m,)): target values\n",
        "      w (ndarray (n,)): model parameters  \n",
        "      b (scalar)      : model parameter\n",
        "      lambda_ (scalar): Controls amount of regularization\n",
        "    Returns:\n",
        "      total_cost (scalar):  cost \n",
        "    \"\"\"\n",
        "\n",
        "    m,n  = X.shape\n",
        "    cost = 0.\n",
        "    for i in range(m):\n",
        "        z_i = np.dot(X[i], w) + b                                      #(n,)(n,)=scalar, see np.dot\n",
        "        f_wb_i = sigmoid(z_i)                                          #scalar\n",
        "        cost +=  -y[i]*np.log(f_wb_i) - (1-y[i])*np.log(1-f_wb_i)      #scalar\n",
        "             \n",
        "    cost = cost/m                                                      #scalar\n",
        "\n",
        "    reg_cost = 0\n",
        "    for j in range(n):\n",
        "        reg_cost += (w[j]**2)                                          #scalar\n",
        "    reg_cost = (lambda_/(2*m)) * reg_cost                              #scalar\n",
        "    \n",
        "    total_cost = cost + reg_cost                                       #scalar\n",
        "    return total_cost                                                  #scalar"
      ],
      "metadata": {
        "id": "23WijC58koCs"
      },
      "execution_count": null,
      "outputs": []
    },
    {
      "cell_type": "code",
      "source": [
        "np.random.seed(1)\n",
        "X_tmp = np.random.rand(5,6)\n",
        "y_tmp = np.array([0,1,0,1,0])\n",
        "w_tmp = np.random.rand(X_tmp.shape[1]).reshape(-1,)-0.5\n",
        "b_tmp = 0.5\n",
        "lambda_tmp = 0.7\n",
        "cost_tmp = compute_cost_logistic_reg(X_tmp, y_tmp, w_tmp, b_tmp, lambda_tmp)\n",
        "\n",
        "print(\"Regularized cost:\", cost_tmp)"
      ],
      "metadata": {
        "colab": {
          "base_uri": "https://localhost:8080/"
        },
        "id": "GzcTmIh0kphO",
        "outputId": "2a248f4d-6053-4e3b-e39d-f243253bfa3b"
      },
      "execution_count": null,
      "outputs": [
        {
          "output_type": "stream",
          "name": "stdout",
          "text": [
            "Regularized cost: 0.6850849138741673\n"
          ]
        }
      ]
    },
    {
      "cell_type": "markdown",
      "source": [
        "### 3.2.3  Gradient descent with regularization\n",
        "\n",
        "The basic algorithm for running gradient descent does not change with regularization, it is:\n",
        "$$\\begin{align*}\n",
        "&\\text{repeat until convergence:} \\; \\lbrace \\\\\n",
        "&  \\; \\; \\;w_j = w_j -  \\alpha \\frac{\\partial J(\\mathbf{w},b)}{\\partial w_j} \\tag{1}  \\; & \\text{for j := 0..n-1} \\\\ \n",
        "&  \\; \\; \\;  \\; \\;b = b -  \\alpha \\frac{\\partial J(\\mathbf{w},b)}{\\partial b} \\\\\n",
        "&\\rbrace\n",
        "\\end{align*}$$\n",
        "Where each iteration performs simultaneous updates on $w_j$ for all $j$.\n",
        "\n",
        "What changes with regularization is computing the gradients.\n"
      ],
      "metadata": {
        "id": "R12cMO7jksnC"
      }
    },
    {
      "cell_type": "markdown",
      "source": [
        "Computing the Gradient with regularization (both linear/logistic)\n",
        "The gradient calculation for both linear and logistic regression are nearly identical, differing only in computation of $f_{\\mathbf{w}b}$.\n",
        "$$\\begin{align*}\n",
        "\\frac{\\partial J(\\mathbf{w},b)}{\\partial w_j}  &= \\frac{1}{m} \\sum\\limits_{i = 0}^{m-1} (f_{\\mathbf{w},b}(\\mathbf{x}^{(i)}) - y^{(i)})x_{j}^{(i)}  +  \\frac{\\lambda}{m} w_j \\tag{2} \\\\\n",
        "\\frac{\\partial J(\\mathbf{w},b)}{\\partial b}  &= \\frac{1}{m} \\sum\\limits_{i = 0}^{m-1} (f_{\\mathbf{w},b}(\\mathbf{x}^{(i)}) - y^{(i)}) \\tag{3} \n",
        "\\end{align*}$$\n",
        "\n",
        "* m is the number of training examples in the data set      \n",
        "* $f_{\\mathbf{w},b}(x^{(i)})$ is the model's prediction, while $y^{(i)}$ is the target\n",
        "\n",
        "      \n",
        "* For a  <span style=\"color:blue\"> **linear** </span> regression model  \n",
        "    $f_{\\mathbf{w},b}(x) = \\mathbf{w} \\cdot \\mathbf{x} + b$  \n",
        "* For a <span style=\"color:blue\"> **logistic** </span> regression model  \n",
        "    $z = \\mathbf{w} \\cdot \\mathbf{x} + b$  \n",
        "    $f_{\\mathbf{w},b}(x) = g(z)$  \n",
        "    where $g(z)$ is the sigmoid function:  \n",
        "    $g(z) = \\frac{1}{1+e^{-z}}$   \n",
        "    \n",
        "The term which adds regularization is  the <span style=\"color:blue\">$\\frac{\\lambda}{m} w_j $</span>."
      ],
      "metadata": {
        "id": "KE6XWIkjk06E"
      }
    },
    {
      "cell_type": "code",
      "source": [
        "def compute_gradient_linear_reg(X, y, w, b, lambda_): \n",
        "    \"\"\"\n",
        "    Computes the gradient for linear regression \n",
        "    Args:\n",
        "      X (ndarray (m,n): Data, m examples with n features\n",
        "      y (ndarray (m,)): target values\n",
        "      w (ndarray (n,)): model parameters  \n",
        "      b (scalar)      : model parameter\n",
        "      lambda_ (scalar): Controls amount of regularization\n",
        "      \n",
        "    Returns:\n",
        "      dj_dw (ndarray (n,)): The gradient of the cost w.r.t. the parameters w. \n",
        "      dj_db (scalar):       The gradient of the cost w.r.t. the parameter b. \n",
        "    \"\"\"\n",
        "    m,n = X.shape           #(number of examples, number of features)\n",
        "    dj_dw = np.zeros((n,))\n",
        "    dj_db = 0.\n",
        "\n",
        "    for i in range(m):                             \n",
        "        err = (np.dot(X[i], w) + b) - y[i]                 \n",
        "        for j in range(n):                         \n",
        "            dj_dw[j] = dj_dw[j] + err * X[i, j]               \n",
        "        dj_db = dj_db + err                        \n",
        "    dj_dw = dj_dw / m                                \n",
        "    dj_db = dj_db / m   \n",
        "    \n",
        "    for j in range(n):\n",
        "        dj_dw[j] = dj_dw[j] + (lambda_/m) * w[j]\n",
        "\n",
        "    return dj_db, dj_dw"
      ],
      "metadata": {
        "id": "bbX6DqZlk5Nu"
      },
      "execution_count": null,
      "outputs": []
    },
    {
      "cell_type": "code",
      "source": [
        "np.random.seed(1)\n",
        "X_tmp = np.random.rand(5,3)\n",
        "y_tmp = np.array([0,1,0,1,0])\n",
        "w_tmp = np.random.rand(X_tmp.shape[1])\n",
        "b_tmp = 0.5\n",
        "lambda_tmp = 0.7\n",
        "dj_db_tmp, dj_dw_tmp =  compute_gradient_linear_reg(X_tmp, y_tmp, w_tmp, b_tmp, lambda_tmp)\n",
        "\n",
        "print(f\"dj_db: {dj_db_tmp}\", )\n",
        "print(f\"Regularized dj_dw:\\n {dj_dw_tmp.tolist()}\", )"
      ],
      "metadata": {
        "colab": {
          "base_uri": "https://localhost:8080/"
        },
        "id": "DBsv-gA_k7MM",
        "outputId": "b67fc9ac-d4ea-4f49-a393-3ca2c7c8727c"
      },
      "execution_count": null,
      "outputs": [
        {
          "output_type": "stream",
          "name": "stdout",
          "text": [
            "dj_db: 0.6648774569425726\n",
            "Regularized dj_dw:\n",
            " [0.29653214748822276, 0.4911679625918033, 0.21645877535865857]\n"
          ]
        }
      ]
    },
    {
      "cell_type": "code",
      "source": [
        "def compute_gradient_logistic_reg(X, y, w, b, lambda_): \n",
        "    \"\"\"\n",
        "    Computes the gradient for linear regression \n",
        " \n",
        "    Args:\n",
        "      X (ndarray (m,n): Data, m examples with n features\n",
        "      y (ndarray (m,)): target values\n",
        "      w (ndarray (n,)): model parameters  \n",
        "      b (scalar)      : model parameter\n",
        "      lambda_ (scalar): Controls amount of regularization\n",
        "    Returns\n",
        "      dj_dw (ndarray Shape (n,)): The gradient of the cost w.r.t. the parameters w. \n",
        "      dj_db (scalar)            : The gradient of the cost w.r.t. the parameter b. \n",
        "    \"\"\"\n",
        "    m,n = X.shape\n",
        "    dj_dw = np.zeros((n,))                            #(n,)\n",
        "    dj_db = 0.0                                       #scalar\n",
        "\n",
        "    for i in range(m):\n",
        "        f_wb_i = sigmoid(np.dot(X[i],w) + b)          #(n,)(n,)=scalar\n",
        "        err_i  = f_wb_i  - y[i]                       #scalar\n",
        "        for j in range(n):\n",
        "            dj_dw[j] = dj_dw[j] + err_i * X[i,j]      #scalar\n",
        "        dj_db = dj_db + err_i\n",
        "    dj_dw = dj_dw/m                                   #(n,)\n",
        "    dj_db = dj_db/m                                   #scalar\n",
        "\n",
        "    for j in range(n):\n",
        "        dj_dw[j] = dj_dw[j] + (lambda_/m) * w[j]\n",
        "\n",
        "    return dj_db, dj_dw  \n"
      ],
      "metadata": {
        "id": "UQmM2nEIk9RE"
      },
      "execution_count": null,
      "outputs": []
    },
    {
      "cell_type": "code",
      "source": [
        "np.random.seed(1)\n",
        "X_tmp = np.random.rand(5,3)\n",
        "y_tmp = np.array([0,1,0,1,0])\n",
        "w_tmp = np.random.rand(X_tmp.shape[1])\n",
        "b_tmp = 0.5\n",
        "lambda_tmp = 0.7\n",
        "dj_db_tmp, dj_dw_tmp =  compute_gradient_logistic_reg(X_tmp, y_tmp, w_tmp, b_tmp, lambda_tmp)\n",
        "\n",
        "print(f\"dj_db: {dj_db_tmp}\", )\n",
        "print(f\"Regularized dj_dw:\\n {dj_dw_tmp.tolist()}\", )"
      ],
      "metadata": {
        "colab": {
          "base_uri": "https://localhost:8080/"
        },
        "id": "UgD0p6J8k_YY",
        "outputId": "5c5d335d-70cc-401a-b4a8-987084fab4e6"
      },
      "execution_count": null,
      "outputs": [
        {
          "output_type": "stream",
          "name": "stdout",
          "text": [
            "dj_db: 0.341798994972791\n",
            "Regularized dj_dw:\n",
            " [0.17380012933994293, 0.32007507881566943, 0.10776313396851499]\n"
          ]
        }
      ]
    }
  ],
  "metadata": {
    "colab": {
      "toc_visible": true,
      "provenance": [],
      "collapsed_sections": [
        "GH4lEwmg-7cd",
        "nPV9ePzGCtD9",
        "ru6XlSA-NjI2"
      ],
      "authorship_tag": "ABX9TyNL9VcsmXvwbpz9k+siKjs/",
      "include_colab_link": true
    },
    "kernelspec": {
      "display_name": "Python 3",
      "name": "python3"
    },
    "language_info": {
      "name": "python"
    }
  },
  "nbformat": 4,
  "nbformat_minor": 0
}