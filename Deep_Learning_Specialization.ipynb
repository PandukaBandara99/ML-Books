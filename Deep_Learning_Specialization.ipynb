{
  "nbformat": 4,
  "nbformat_minor": 0,
  "metadata": {
    "colab": {
      "provenance": [],
      "toc_visible": true,
      "authorship_tag": "ABX9TyMGyfRJAD4t1Qk518L2I6+2",
      "include_colab_link": true
    },
    "kernelspec": {
      "name": "python3",
      "display_name": "Python 3"
    },
    "language_info": {
      "name": "python"
    }
  },
  "cells": [
    {
      "cell_type": "markdown",
      "metadata": {
        "id": "view-in-github",
        "colab_type": "text"
      },
      "source": [
        "<a href=\"https://colab.research.google.com/github/PandukaBandara99/ML-Books/blob/main/Deep_Learning_Specialization.ipynb\" target=\"_parent\"><img src=\"https://colab.research.google.com/assets/colab-badge.svg\" alt=\"Open In Colab\"/></a>"
      ]
    },
    {
      "cell_type": "markdown",
      "source": [
        "Mahela Panduka Bandara ; <br> UG @ Dpt. of Electronic & Electrical Engineering ;<br> University of Peradeniya ;<br> 2023/12 <br><br> Email : e19039@end.pdn.ac.lk <br> LinkedIN : https://www.linkedin.com/in/pandukabandara/"
      ],
      "metadata": {
        "id": "OMr1yiavO1w1"
      }
    },
    {
      "cell_type": "markdown",
      "source": [
        "# 1.0 **Neaural Networks and Deep Learning**\n",
        "\n"
      ],
      "metadata": {
        "id": "v-waXVu_O6Gt"
      }
    },
    {
      "cell_type": "markdown",
      "source": [
        "## **1.1 Binary Classification**"
      ],
      "metadata": {
        "id": "cQ5zkGW8PP_E"
      }
    },
    {
      "cell_type": "markdown",
      "source": [
        "### **1.1.1 Notation**"
      ],
      "metadata": {
        "id": "uKehLaAAPSco"
      }
    },
    {
      "cell_type": "markdown",
      "source": [
        "If the input has $n$ features.So the $i^{th}$ feature can be denoted as, <br>\n",
        "$$X^{(i)} = [x^{(i)}_1 , x^{(i)}_2,x^{(i)}_3,\\ \\  ... \\ \\ , x^{(i)}_n ]^T$$\n",
        "\n",
        "<br>\n",
        "$i^{(th)}$ training set can be denoted as,\n",
        "$$(X^{(i)},Y^{(i)})$$\n",
        "where in binary classification $Y^{(i)}$ will be $0$ or $1$."
      ],
      "metadata": {
        "id": "qLI8WJNJP9kP"
      }
    },
    {
      "cell_type": "markdown",
      "source": [
        "\n",
        "\n",
        "*   $M_{train} =$ Number of training examples (sets)\n",
        "*   $M_{test} =$ Number of test examples (sets)\n",
        "*   $n = $ number of features\n",
        "\n",
        "\n"
      ],
      "metadata": {
        "id": "xPINIh4ITkJA"
      }
    },
    {
      "cell_type": "markdown",
      "source": [
        "Then the feature vecter can be denoted as,\n",
        "$$X = [X^{(1)}\\ , \\ X^{(2)}\\ ,\\ X^{(3)}\\ , \\ ... \\ , X^{(m)}]$$  <br>\n",
        "Note that the $X$ matrix has dimensions of $(n \\times M_{train})$"
      ],
      "metadata": {
        "id": "6EoyUejDT1UZ"
      }
    },
    {
      "cell_type": "markdown",
      "source": [
        "**Example Case:** Image input which has RGB  values.Say the image is in $ (p\\times q)$ pixel size. Then the total feature count: $n \\ =\\ 3 \\times (p \\times q)$. <br>\n"
      ],
      "metadata": {
        "id": "4K4uPHTxPduu"
      }
    },
    {
      "cell_type": "markdown",
      "source": [
        "\n",
        "\n",
        "*   $\\hat{y} =$ is the estimation of y for given x\n"
      ],
      "metadata": {
        "id": "N6lRT_8Ka6VC"
      }
    },
    {
      "cell_type": "markdown",
      "source": [
        "### **1.1.2 Logistic Regression**"
      ],
      "metadata": {
        "id": "bZSmhfoLbinN"
      }
    },
    {
      "cell_type": "markdown",
      "source": [
        "Logistic Regression is a statistical method used for binary classification **(not regression)** , where the goal is to predict the probability that an instance belongs to a particular class.\n",
        "\n",
        "#### **Mathematical Formulation:**\n",
        "\n",
        "The logistic (sigmoid) function is defined as:\n",
        "\n",
        "$$ \\sigma(z) = \\frac{1}{1 + e^{-z}} $$\n",
        "\n",
        "Here, \\(z\\) is a linear combination of input features and their associated weights:\n",
        "\n",
        "$$z^{(i)} = w_1 x^{(i)}_1 + w_2 x^{(i)}_2 + \\ldots + w_n x^{(i)}_n + b$$ <br>\n",
        "$$let \\ \\ \\ W^T = [w_1\\ , w_2\\ ,w_3\\  \\dots \\ \\ w_n] $$ <br>\n",
        "$$ z^{(i)} = w^T X^{(i)} + b$$\n",
        "\n",
        "\n",
        "The logistic function squashes the linear combination into the range \\([0, 1]\\), making it suitable for probability estimation.\n"
      ],
      "metadata": {
        "id": "Jty94X0AbmnG"
      }
    },
    {
      "cell_type": "code",
      "source": [
        "import numpy as np\n",
        "import matplotlib.pyplot as plt\n",
        "\n",
        "# Define the sigmoid function\n",
        "def sigmoid(z):\n",
        "    return 1 / (1 + np.exp(-z))\n",
        "\n",
        "# Generate values for the x-axis\n",
        "x_values = np.linspace(-7, 7, 200)\n",
        "\n",
        "# Calculate corresponding y values using the sigmoid function\n",
        "y_values = sigmoid(x_values)\n",
        "\n",
        "# Plot the sigmoid function\n",
        "plt.plot(x_values, y_values, label='Sigmoid Function')\n",
        "plt.title('Sigmoid Function')\n",
        "plt.xlabel('z')\n",
        "plt.ylabel('sigmoid(z)')\n",
        "plt.axhline(0.5, color='red', linestyle='--', label='Decision Boundary')\n",
        "plt.legend()\n",
        "plt.grid(True)\n",
        "plt.show()\n"
      ],
      "metadata": {
        "colab": {
          "base_uri": "https://localhost:8080/",
          "height": 472
        },
        "id": "HqYKGa-_c3jo",
        "outputId": "5e51367c-1d4a-4f12-cbc2-95eeff21f63a"
      },
      "execution_count": null,
      "outputs": [
        {
          "output_type": "display_data",
          "data": {
            "text/plain": [
              "<Figure size 640x480 with 1 Axes>"
            ],
            "image/png": "[encoded data removed]"
          },
          "metadata": {}
        }
      ]
    },
    {
      "cell_type": "markdown",
      "source": [
        "\n",
        "#### **Logistic Regression Hypothesis:**\n",
        "\n",
        "The logistic regression hypothesis is given by:\n",
        "\n",
        "$$ h_\\theta(x) = \\sigma(\\theta^Tx + b) $$\n",
        "$$ \\theta^T = [w_1\\ , w_2\\ ,w_3\\  \\dots \\ \\ w_n]$$\n",
        "Here, $h_\\theta(x)$ represents the predicted probability that $y=1$ given the input vector $x$, and $\\theta$ is the vector of model parameters (weights). <br> <br>\n",
        "\n",
        "#### **Cost Function (Log Loss):**\n",
        "\n",
        "To train the logistic regression model, a cost function needs to be minimized. The most common cost function for logistic regression is the log loss (cross-entropy loss):\n",
        "\n",
        "$$ J(\\theta) = -\\frac{1}{m} \\sum_{i=1}^{m} [y^{(i)} \\log(\\hat{y}^{(i)}) + (1 - y^{(i)}) \\log(1 - \\hat{y}^{(i)})] $$\n",
        "\n",
        "Here, \\(m\\) is the number of training examples.\n",
        "\n",
        "\n"
      ],
      "metadata": {
        "id": "x2jIhlHhcveI"
      }
    },
    {
      "cell_type": "markdown",
      "source": [
        "\n",
        "#### **Gradient Descent:**\n",
        "\n",
        "The gradient of the cost function with respect to the model parameters\n",
        "$(\\theta)$ is used to update the parameters during the training process:\n",
        "\n",
        "$$\\theta_j := \\theta_j - \\alpha \\frac{\\partial J(\\theta)}{\\partial \\theta_j} $$\n",
        "\n",
        "Here, $\\alpha$ is the learning rate.\n",
        "\n"
      ],
      "metadata": {
        "id": "FWanpkkxgMGc"
      }
    },
    {
      "cell_type": "markdown",
      "source": [
        "### **1.1.3 Computational graphs**"
      ],
      "metadata": {
        "id": "J7Rn4s4NTV1o"
      }
    },
    {
      "cell_type": "markdown",
      "source": [
        "Computational graphs are a visual representation of mathematical expressions that involve multiple variables and operations\n"
      ],
      "metadata": {
        "id": "_QLbm0glUtN-"
      }
    },
    {
      "cell_type": "markdown",
      "source": [
        "#### **Forward Propegation**"
      ],
      "metadata": {
        "id": "qFXUGBgkUqjR"
      }
    },
    {
      "cell_type": "markdown",
      "source": [
        "Forward propagation involves computing the output of the expression"
      ],
      "metadata": {
        "id": "HrtIVQTXUy6C"
      }
    },
    {
      "cell_type": "markdown",
      "source": [
        "**Example** <br>\n",
        "Consider  $$y = 3(ab+c)$$\n",
        "\n",
        "So the input vector is $$[a,b,c]^T$$\n",
        "\n",
        "For the above expression , the computational graph can be represented as follows, <br>\n",
        "```\n",
        "a  ------|\n",
        "         |\n",
        "         |--------|  P = a X b |-----|\n",
        "         |                           |\n",
        "b  ------|                           |\n",
        "                                     |----------|Q = P + c|---------|  Y = 3Q |\n",
        "                                     |\n",
        "                                     |\n",
        "                                     |\n",
        "c  ----------------------------------|\n",
        "```\n",
        "\n"
      ],
      "metadata": {
        "id": "SaqfCAzXUzsF"
      }
    },
    {
      "cell_type": "markdown",
      "source": [
        "For the input vector of $$[2,5,8]^T$$\n",
        "The evaluation steps will be,\n",
        "$$ P = 2 \\times 5 = 10 $$\n",
        "$$Q = P + 8 = 18$$\n",
        "$$Y = 3 \\times Q = 54$$"
      ],
      "metadata": {
        "id": "rK06sGaRWUQe"
      }
    },
    {
      "cell_type": "markdown",
      "source": [
        "#### **Back Propagation**"
      ],
      "metadata": {
        "id": "Cjh7WC_UW4ZH"
      }
    },
    {
      "cell_type": "markdown",
      "source": [
        "Backpropagation is the process of computing gradients."
      ],
      "metadata": {
        "id": "8SAKdzh1XMwE"
      }
    },
    {
      "cell_type": "markdown",
      "source": [
        "Consider the above same computational graph,"
      ],
      "metadata": {
        "id": "uyqUlxiTXS1_"
      }
    },
    {
      "cell_type": "markdown",
      "source": [
        "Increase Q by $0.001$\n",
        "$$Q_{new} = 18.001$$\n",
        "$$Y_{new} = 54.003$$\n",
        "\n",
        "So the derivative of Y w.r.t Q can be calculated,\n",
        "$$\\frac{dY}{dQ} = \\frac{Y-Y_{new}}{Q-Q_{new}} = \\frac{0.003}{0.001} = 3 $$\n",
        "\n"
      ],
      "metadata": {
        "id": "6vCydCsmXX7x"
      }
    },
    {
      "cell_type": "markdown",
      "source": [
        "Consider $Q = P + C$ <br>\n",
        "For the input $[2,5,8]^T$ $Q = 18$ <br>\n",
        "Now, change the P by $0.001$\n",
        "$$P_{new} = 10.001$$\n",
        "$$Q_{new} =10.001+8 = 18.001$$\n",
        "So the derivative of $Q$ w.r.t. P can be calculated ,\n",
        "$$\\frac{\\partial Q}{\\partial P} = \\frac{Q-Q_{new}}{P-P_{new}} = \\frac{0.001}{0.001} = 1$$\n",
        "\n",
        "\n",
        "\n"
      ],
      "metadata": {
        "id": "QdO0EDKSYG8T"
      }
    },
    {
      "cell_type": "markdown",
      "source": [
        "Also change $c$ by 0.001,\n",
        "$$C_{new} = 8.001$$\n",
        "$$Q_{new} = 18.001$$\n",
        "$$\\frac{\\partial Q}{\\partial c} = \\frac{Q-Q_{new}}{c-c_{new}} = \\frac{0.001}{0.001} = 1$$"
      ],
      "metadata": {
        "id": "l7RkqiuqZMWT"
      }
    },
    {
      "cell_type": "markdown",
      "source": [
        "Now Consider $P = a \\times b$\n",
        "Increase $a$  by $0.001$\n",
        "$$a_{new} = 2.001$$\n",
        "$$P_{new} = 10.005$$\n",
        "$$\\frac{\\partial P}{\\partial a} = \\frac{P-P_{new}}{a-a_{new}} = \\frac{0.005}{0.001} = 5$$\n",
        "\n",
        "Note that this satisfies the algebric differentiation methods since $\\frac{\\partial P}{\\partial a} = b$ <br>\n",
        "\n",
        "Increase $b$  by $0.001$\n",
        "$$b_{new} = 5.001$$\n",
        "$$P_{new} = 10.002$$\n",
        "$$\\frac{\\partial P}{\\partial b} = \\frac{P-P_{new}}{b-b_{new}} = \\frac{0.002}{0.001} = 2$$"
      ],
      "metadata": {
        "id": "J-STSEVTZjEf"
      }
    },
    {
      "cell_type": "markdown",
      "source": [
        "Now the chain rule can be applied to calculate any derivative for the given input vector(position on the vector space).<br>\n",
        "\n",
        "**Example** <br>\n",
        "$y=3(ab+c),  \\ \\ \\ $ calculate $\\frac{\\partial Y}{\\partial a}$ for $[2,5,8]^T $ <br>\n",
        "$$\\frac{\\partial Y}{\\partial a} = \\frac{dY}{dQ} \\times \\frac{\\partial Q}{\\partial P} \\times \\frac{\\partial P}{\\partial a}$$\n",
        "$$ = 3 \\times 1 \\times 5$$\n",
        "$$ = 15$$"
      ],
      "metadata": {
        "id": "KhthY25vaez3"
      }
    }
  ]
}