{
  "nbformat": 4,
  "nbformat_minor": 0,
  "metadata": {
    "colab": {
      "provenance": [],
      "authorship_tag": "ABX9TyPSH3qUJvu8b0ZV/Eow7z7Y",
      "include_colab_link": true
    },
    "kernelspec": {
      "name": "python3",
      "display_name": "Python 3"
    },
    "language_info": {
      "name": "python"
    }
  },
  "cells": [
    {
      "cell_type": "markdown",
      "metadata": {
        "id": "view-in-github",
        "colab_type": "text"
      },
      "source": [
        "<a href=\"https://colab.research.google.com/github/PandukaBandara99/ML-Books/blob/main/AdvancedTensorFlow2.ipynb\" target=\"_parent\"><img src=\"https://colab.research.google.com/assets/colab-badge.svg\" alt=\"Open In Colab\"/></a>"
      ]
    },
    {
      "cell_type": "markdown",
      "source": [
        "Mahela Panduka Bandara ; <br> UG @ Dpt. of Electronic & Electrical Engineering ;<br> University of Peradeniya ;<br> 2024/05 <br><br> Email : e19039@end.pdn.ac.lk <br> LinkedIN : https://www.linkedin.com/in/pandukabandara/"
      ],
      "metadata": {
        "id": "-7XHOJS6Rph3"
      }
    },
    {
      "cell_type": "markdown",
      "source": [
        "Refferences: <br>\n",
        "1 - https://www.coursera.org/specializations/tensorflow-advanced-techniques"
      ],
      "metadata": {
        "id": "L4F9O3gERwmI"
      }
    },
    {
      "cell_type": "markdown",
      "source": [
        "## From the Previous Note#"
      ],
      "metadata": {
        "id": "7XFayhTpRxvY"
      }
    },
    {
      "cell_type": "markdown",
      "source": [
        "### Custom Callbacks"
      ],
      "metadata": {
        "id": "I3N-Mi2wMHWQ"
      }
    },
    {
      "cell_type": "markdown",
      "source": [
        "#### Introduction"
      ],
      "metadata": {
        "id": "ldrjXsvIVD66"
      }
    },
    {
      "cell_type": "code",
      "source": [
        "import tensorflow as tf\n",
        "import matplotlib.pyplot as plt\n",
        "import numpy as np\n",
        "\n",
        "import datetime\n",
        "import io\n",
        "\n",
        "from PIL import Image\n",
        "from IPython.display import Image as IPyImage\n",
        "import imageio\n",
        "\n",
        "print(\"Version: \", tf.__version__)\n",
        "tf.get_logger().setLevel('INFO')"
      ],
      "metadata": {
        "colab": {
          "base_uri": "https://localhost:8080/"
        },
        "id": "h7aHJZDZMV1Y",
        "outputId": "71b94517-ee40-4770-ece6-3e80d1218a42"
      },
      "execution_count": null,
      "outputs": [
        {
          "output_type": "stream",
          "name": "stdout",
          "text": [
            "Version:  2.15.0\n"
          ]
        }
      ]
    },
    {
      "cell_type": "code",
      "source": [
        "# Define the Keras model to add callbacks to\n",
        "def get_model():\n",
        "    model = tf.keras.Sequential()\n",
        "    model.add(tf.keras.layers.Dense(1, activation = 'linear', input_dim = 784))\n",
        "    model.compile(optimizer=tf.keras.optimizers.RMSprop(lr=0.1), loss='mean_squared_error', metrics=['mae'])\n",
        "    return model"
      ],
      "metadata": {
        "id": "Vuo3m2XBMYZl"
      },
      "execution_count": null,
      "outputs": []
    },
    {
      "cell_type": "code",
      "source": [
        "# Load example MNIST data and pre-process it\n",
        "(x_train, y_train), (x_test, y_test) = tf.keras.datasets.mnist.load_data()\n",
        "x_train = x_train.reshape(60000, 784).astype('float32') / 255\n",
        "x_test = x_test.reshape(10000, 784).astype('float32') / 255"
      ],
      "metadata": {
        "colab": {
          "base_uri": "https://localhost:8080/"
        },
        "id": "VixybAn4Mb5u",
        "outputId": "bebfb849-0529-4c88-e8fb-267205c4bb8e"
      },
      "execution_count": null,
      "outputs": [
        {
          "output_type": "stream",
          "name": "stdout",
          "text": [
            "Downloading data from https://storage.googleapis.com/tensorflow/tf-keras-datasets/mnist.npz\n",
            "11490434/11490434 [==============================] - 0s 0us/step\n"
          ]
        }
      ]
    },
    {
      "cell_type": "markdown",
      "source": [
        "Now, define a simple custom callback to track the start and end of every batch of data. During those calls, it prints the index of the current batch."
      ],
      "metadata": {
        "id": "JA1GFC59Mecw"
      }
    },
    {
      "cell_type": "code",
      "source": [
        "class MyCustomCallback(tf.keras.callbacks.Callback):\n",
        "\n",
        "    def on_train_batch_begin(self, batch, logs=None):\n",
        "        print('Training: batch {} begins at {}'.format(batch, datetime.datetime.now().time()))\n",
        "\n",
        "    def on_train_batch_end(self, batch, logs=None):\n",
        "        print('Training: batch {} ends at {}'.format(batch, datetime.datetime.now().time()))"
      ],
      "metadata": {
        "id": "kC52uYfMMc1Z"
      },
      "execution_count": null,
      "outputs": []
    },
    {
      "cell_type": "markdown",
      "source": [
        "Providing a callback to model methods such as tf.keras.Model.fit() ensures the methods are called at those stages:\n",
        "\n"
      ],
      "metadata": {
        "id": "dcMXfpkTMjIA"
      }
    },
    {
      "cell_type": "code",
      "source": [
        "model = get_model()\n",
        "_ = model.fit(x_train, y_train,\n",
        "          batch_size=64,\n",
        "          epochs=1,\n",
        "          steps_per_epoch=5,\n",
        "          verbose=0,\n",
        "          callbacks=[MyCustomCallback()])"
      ],
      "metadata": {
        "colab": {
          "base_uri": "https://localhost:8080/"
        },
        "id": "OnahIZGGMicq",
        "outputId": "11ed6f2c-00e8-4a19-8567-c23671ad9deb"
      },
      "execution_count": null,
      "outputs": [
        {
          "output_type": "stream",
          "name": "stderr",
          "text": [
            "WARNING:absl:`lr` is deprecated in Keras optimizer, please use `learning_rate` or use the legacy optimizer, e.g.,tf.keras.optimizers.legacy.RMSprop.\n"
          ]
        },
        {
          "output_type": "stream",
          "name": "stdout",
          "text": [
            "Training: batch 0 begins at 05:06:53.631340\n",
            "Training: batch 0 ends at 05:06:55.872047\n",
            "Training: batch 1 begins at 05:06:55.872983\n",
            "Training: batch 1 ends at 05:06:55.878866\n",
            "Training: batch 2 begins at 05:06:55.880221\n",
            "Training: batch 2 ends at 05:06:55.891222\n",
            "Training: batch 3 begins at 05:06:55.893292\n",
            "Training: batch 3 ends at 05:06:55.897315\n",
            "Training: batch 4 begins at 05:06:55.898569\n",
            "Training: batch 4 ends at 05:06:55.901915\n"
          ]
        }
      ]
    },
    {
      "cell_type": "markdown",
      "source": [
        "**An overview of callback methods**\n",
        "Common methods for training/testing/predicting\n",
        "> For training, testing, and predicting, following methods are provided to be overridden.\n",
        "\n",
        "`on_(train|test|predict)_begin(self, logs=None)` <br>\n",
        "\n",
        "> Called at the beginning of `fit/evaluate/predict.`\n",
        "\n",
        "`on_(train|test|predict)_end(self, logs=None)` <br>\n",
        "\n",
        "> Called at the end of `fit/evaluate/predict.`\n",
        "\n",
        "`on_(train|test|predict)_batch_begin(self, batch, logs=None)` <br>\n",
        "\n",
        "> Called right before processing a batch during training/testing/predicting. Within this method, logs is a dict with batch and size available keys, representing the current batch number and the size of the batch.\n",
        "\n",
        "`on_(train|test|predict)_batch_end(self, batch, logs=None)`<br>\n",
        "\n",
        "> Called at the end of training/testing/predicting a batch. Within this method, logs is a dict containing the stateful metrics result.\n",
        "\n",
        "**Training specific methods**\n",
        "In addition, for training, following are provided.\n",
        "\n",
        "`on_epoch_begin(self, epoch, logs=None)`\n",
        "\n",
        "> Called at the beginning of an epoch during training.\n",
        "\n",
        "`on_epoch_end(self, epoch, logs=None)`\n",
        "> Called at the end of an epoch during training."
      ],
      "metadata": {
        "id": "ywisxfktMpIH"
      }
    },
    {
      "cell_type": "markdown",
      "source": [
        "#### Usage of `logs dict`\n"
      ],
      "metadata": {
        "id": "0xi4X0sSNNsE"
      }
    },
    {
      "cell_type": "markdown",
      "source": [
        "The logs dict contains the loss value, and all the metrics at the end of a batch or epoch. Example includes the loss and mean absolute error."
      ],
      "metadata": {
        "id": "U9eWbEhpVIMp"
      }
    },
    {
      "cell_type": "code",
      "source": [
        "callback = tf.keras.callbacks.LambdaCallback(\n",
        "    on_epoch_end=lambda epoch,logs:\n",
        "    print(\"Epoch: {}, Val/Train loss ratio: {:.2f}\".format(epoch, logs[\"val_loss\"] / logs[\"loss\"]))\n",
        ")\n",
        "\n",
        "model = get_model()\n",
        "_ = model.fit(x_train, y_train,\n",
        "          validation_data=(x_test, y_test),\n",
        "          batch_size=64,\n",
        "          epochs=3,\n",
        "          verbose=0,\n",
        "          callbacks=[callback])"
      ],
      "metadata": {
        "colab": {
          "base_uri": "https://localhost:8080/"
        },
        "id": "maT_9Hb8VNeQ",
        "outputId": "716ade80-f58e-4d91-cb85-590545770bf2"
      },
      "execution_count": null,
      "outputs": [
        {
          "output_type": "stream",
          "name": "stderr",
          "text": [
            "WARNING:absl:`lr` is deprecated in Keras optimizer, please use `learning_rate` or use the legacy optimizer, e.g.,tf.keras.optimizers.legacy.RMSprop.\n"
          ]
        },
        {
          "output_type": "stream",
          "name": "stdout",
          "text": [
            "Epoch: 0, Val/Train loss ratio: 0.72\n",
            "Epoch: 1, Val/Train loss ratio: 0.91\n",
            "Epoch: 2, Val/Train loss ratio: 0.94\n"
          ]
        }
      ]
    },
    {
      "cell_type": "code",
      "source": [
        "class DetectOverfittingCallback(tf.keras.callbacks.Callback):\n",
        "    def __init__(self, threshold=0.7):\n",
        "        super(DetectOverfittingCallback, self).__init__()\n",
        "        self.threshold = threshold\n",
        "\n",
        "    def on_epoch_end(self, epoch, logs=None):\n",
        "        ratio = logs[\"val_loss\"] / logs[\"loss\"]\n",
        "        print(\"Epoch: {}, Val/Train loss ratio: {:.2f}\".format(epoch, ratio))\n",
        "\n",
        "        if ratio > self.threshold:\n",
        "            print(\"Stopping training...\")\n",
        "            self.model.stop_training = True\n",
        "\n",
        "model = get_model()\n",
        "_ = model.fit(x_train, y_train,\n",
        "              validation_data=(x_test, y_test),\n",
        "              batch_size=64,\n",
        "              epochs=3,\n",
        "              verbose=0,\n",
        "              callbacks=[DetectOverfittingCallback()])"
      ],
      "metadata": {
        "colab": {
          "base_uri": "https://localhost:8080/"
        },
        "id": "MX0XIs7lVPIo",
        "outputId": "f9dbbbfb-0ba1-4bb7-a68c-83ff112fe082"
      },
      "execution_count": null,
      "outputs": [
        {
          "output_type": "stream",
          "name": "stderr",
          "text": [
            "WARNING:absl:`lr` is deprecated in Keras optimizer, please use `learning_rate` or use the legacy optimizer, e.g.,tf.keras.optimizers.legacy.RMSprop.\n"
          ]
        },
        {
          "output_type": "stream",
          "name": "stdout",
          "text": [
            "Epoch: 0, Val/Train loss ratio: 0.73\n",
            "Stopping training...\n"
          ]
        }
      ]
    },
    {
      "cell_type": "markdown",
      "source": [
        "Similarly, one can provide callbacks in `evaluate()` calls.\n",
        "\n"
      ],
      "metadata": {
        "id": "89K1U5SRVRBz"
      }
    },
    {
      "cell_type": "markdown",
      "source": [
        "#### Custom callback to Visualize predictions"
      ],
      "metadata": {
        "id": "AKugfdBqVSyV"
      }
    },
    {
      "cell_type": "code",
      "source": [
        "# Load example MNIST data and pre-process it\n",
        "(x_train, y_train), (x_test, y_test) = tf.keras.datasets.mnist.load_data()\n",
        "x_train = x_train.reshape(60000, 784).astype('float32') / 255\n",
        "x_test = x_test.reshape(10000, 784).astype('float32') / 255"
      ],
      "metadata": {
        "id": "dlFfXpEAVYij"
      },
      "execution_count": null,
      "outputs": []
    },
    {
      "cell_type": "code",
      "source": [
        "# Visualization utilities\n",
        "plt.rc('font', size=20)\n",
        "plt.rc('figure', figsize=(15, 3))\n",
        "\n",
        "def display_digits(inputs, outputs, ground_truth, epoch, n=10):\n",
        "    plt.clf()\n",
        "\n",
        "    plt.yticks([])\n",
        "    plt.grid(None)\n",
        "    inputs = np.reshape(inputs, [n, 28, 28])\n",
        "    inputs = np.swapaxes(inputs, 0, 1)\n",
        "    inputs = np.reshape(inputs, [28, 28*n])\n",
        "    plt.imshow(inputs)\n",
        "    plt.xticks([28*x+14 for x in range(n)], outputs)\n",
        "    for i,t in enumerate(plt.gca().xaxis.get_ticklabels()):\n",
        "        if outputs[i] == ground_truth[i]:\n",
        "            t.set_color('green')\n",
        "        else:\n",
        "            t.set_color('red')\n",
        "    plt.grid(None)"
      ],
      "metadata": {
        "id": "sLE_oUmyVZJ5"
      },
      "execution_count": null,
      "outputs": []
    },
    {
      "cell_type": "code",
      "source": [
        "GIF_PATH = './animation.gif'"
      ],
      "metadata": {
        "id": "sr-MYfXoVbtK"
      },
      "execution_count": null,
      "outputs": []
    },
    {
      "cell_type": "code",
      "source": [
        "class VisCallback(tf.keras.callbacks.Callback):\n",
        "    def __init__(self, inputs, ground_truth, display_freq=10, n_samples=10):\n",
        "        self.inputs = inputs\n",
        "        self.ground_truth = ground_truth\n",
        "        self.images = []\n",
        "        self.display_freq = display_freq\n",
        "        self.n_samples = n_samples\n",
        "\n",
        "    def on_epoch_end(self, epoch, logs=None):\n",
        "        # Randomly sample data\n",
        "        indexes = np.random.choice(len(self.inputs), size=self.n_samples)\n",
        "        X_test, y_test = self.inputs[indexes], self.ground_truth[indexes]\n",
        "        predictions = np.argmax(self.model.predict(X_test), axis=1)\n",
        "\n",
        "        # Plot the digits\n",
        "        display_digits(X_test, predictions, y_test, epoch, n=self.n_samples)\n",
        "\n",
        "        # Save the figure\n",
        "        buf = io.BytesIO()\n",
        "        plt.savefig(buf, format='png')\n",
        "        buf.seek(0)\n",
        "        image = Image.open(buf)\n",
        "        self.images.append(np.array(image))\n",
        "\n",
        "        # Display the digits every 'display_freq' number of epochs\n",
        "        if epoch % self.display_freq == 0:\n",
        "            plt.show()\n",
        "\n",
        "    def on_train_end(self, logs=None):\n",
        "        imageio.mimsave(GIF_PATH, self.images, fps=1)"
      ],
      "metadata": {
        "id": "XQmg16oJVe4m"
      },
      "execution_count": null,
      "outputs": []
    },
    {
      "cell_type": "code",
      "source": [
        "def get_model():\n",
        "    model = tf.keras.Sequential()\n",
        "    model.add(tf.keras.layers.Dense(32, activation='linear', input_dim=784))\n",
        "    model.add(tf.keras.layers.Dense(10, activation='softmax'))\n",
        "    model.compile(optimizer=tf.keras.optimizers.RMSprop(lr=1e-4), loss='sparse_categorical_crossentropy', metrics=['accuracy'])\n",
        "    return model"
      ],
      "metadata": {
        "id": "Zx6hnzn-VjCa"
      },
      "execution_count": null,
      "outputs": []
    },
    {
      "cell_type": "code",
      "source": [
        "model = get_model()\n",
        "model.fit(x_train, y_train,\n",
        "          batch_size=64,\n",
        "          epochs=20,\n",
        "          verbose=0,\n",
        "          callbacks=[VisCallback(x_test, y_test)])"
      ],
      "metadata": {
        "colab": {
          "base_uri": "https://localhost:8080/",
          "height": 918
        },
        "id": "wGKDry8KVko2",
        "outputId": "84dc3fa3-5098-4958-ebfa-aa7cb1ccaf23"
      },
      "execution_count": null,
      "outputs": [
        {
          "output_type": "stream",
          "name": "stderr",
          "text": [
            "WARNING:absl:`lr` is deprecated in Keras optimizer, please use `learning_rate` or use the legacy optimizer, e.g.,tf.keras.optimizers.legacy.RMSprop.\n"
          ]
        },
        {
          "output_type": "stream",
          "name": "stdout",
          "text": [
            "1/1 [==============================] - 0s 82ms/step\n"
          ]
        },
        {
          "output_type": "display_data",
          "data": {
            "text/plain": [
              "<Figure size 1500x300 with 1 Axes>"
            ],
            "image/png": "[encoded data removed]"
          },
          "metadata": {}
        },
        {
          "output_type": "stream",
          "name": "stdout",
          "text": [
            "1/1 [==============================] - 0s 24ms/step\n",
            "1/1 [==============================] - 0s 30ms/step\n",
            "1/1 [==============================] - 0s 27ms/step\n",
            "1/1 [==============================] - 0s 35ms/step\n",
            "1/1 [==============================] - 0s 22ms/step\n",
            "1/1 [==============================] - 0s 23ms/step\n",
            "1/1 [==============================] - 0s 27ms/step\n",
            "1/1 [==============================] - 0s 24ms/step\n",
            "1/1 [==============================] - 0s 33ms/step\n",
            "1/1 [==============================] - 0s 37ms/step\n"
          ]
        },
        {
          "output_type": "display_data",
          "data": {
            "text/plain": [
              "<Figure size 1500x300 with 1 Axes>"
            ],
            "image/png": "[encoded data removed]"
          },
          "metadata": {}
        },
        {
          "output_type": "stream",
          "name": "stdout",
          "text": [
            "1/1 [==============================] - 0s 22ms/step\n",
            "1/1 [==============================] - 0s 24ms/step\n",
            "1/1 [==============================] - 0s 22ms/step\n",
            "1/1 [==============================] - 0s 24ms/step\n",
            "1/1 [==============================] - 0s 53ms/step\n",
            "1/1 [==============================] - 0s 25ms/step\n",
            "1/1 [==============================] - 0s 23ms/step\n",
            "1/1 [==============================] - 0s 27ms/step\n",
            "1/1 [==============================] - 0s 21ms/step\n"
          ]
        },
        {
          "output_type": "execute_result",
          "data": {
            "text/plain": [
              "<keras.src.callbacks.History at 0x7bf51b6e9360>"
            ]
          },
          "metadata": {},
          "execution_count": 16
        },
        {
          "output_type": "display_data",
          "data": {
            "text/plain": [
              "<Figure size 1500x300 with 1 Axes>"
            ],
            "image/png": "[encoded data removed]"
          },
          "metadata": {}
        }
      ]
    },
    {
      "cell_type": "code",
      "source": [
        "SCALE = 60\n",
        "\n",
        "# FYI, the format is set to PNG here to bypass checks for acceptable embeddings\n",
        "IPyImage(GIF_PATH, format='png', width=15 * SCALE, height=3 * SCALE)"
      ],
      "metadata": {
        "colab": {
          "base_uri": "https://localhost:8080/",
          "height": 197
        },
        "id": "FYYBH8CLVmO5",
        "outputId": "51d52fbf-33f5-4073-a349-d1db274c792b"
      },
      "execution_count": null,
      "outputs": [
        {
          "output_type": "execute_result",
          "data": {
            "image/png": "[encoded data removed]",
            "text/plain": [
              "<IPython.core.display.Image object>"
            ]
          },
          "metadata": {
            "image/png": {
              "width": 900,
              "height": 180
            }
          },
          "execution_count": 17
        }
      ]
    },
    {
      "cell_type": "markdown",
      "source": [
        "# 2.0 Custom and Distributed Training with TensorFlow"
      ],
      "metadata": {
        "id": "Hy6_ZfUDauhP"
      }
    },
    {
      "cell_type": "markdown",
      "source": [
        "## 2.1 Tensors"
      ],
      "metadata": {
        "id": "xFYk7a4pazXb"
      }
    },
    {
      "cell_type": "code",
      "source": [
        "try:\n",
        "    # %tensorflow_version only exists in Colab.\n",
        "    %tensorflow_version 2.x\n",
        "except Exception:\n",
        "    pass\n",
        "\n",
        "import tensorflow as tf\n",
        "import numpy as np"
      ],
      "metadata": {
        "colab": {
          "base_uri": "https://localhost:8080/"
        },
        "id": "fUTG3Pvue8fM",
        "outputId": "e8fdef99-6b6f-44e3-c21a-f202bdca67b0"
      },
      "execution_count": 2,
      "outputs": [
        {
          "output_type": "stream",
          "name": "stdout",
          "text": [
            "Colab only includes TensorFlow 2.x; %tensorflow_version has no effect.\n"
          ]
        }
      ]
    },
    {
      "cell_type": "markdown",
      "source": [
        "### Basic Tensor operations"
      ],
      "metadata": {
        "id": "qk0-RVyXfJpt"
      }
    },
    {
      "cell_type": "markdown",
      "source": [
        "Create a single dimension numpy array on which you can perform some operation. You'll make an array of size 25, holding values from 0 to 24."
      ],
      "metadata": {
        "id": "qTxBMpQGe8Wm"
      }
    },
    {
      "cell_type": "code",
      "source": [
        "# Create a 1D uint8 NumPy array comprising of first 25 natural numbers\n",
        "x = np.arange(0, 25)\n",
        "x"
      ],
      "metadata": {
        "colab": {
          "base_uri": "https://localhost:8080/"
        },
        "id": "dy8ab2n5fSmX",
        "outputId": "4c7319d9-5ef3-47b4-c963-e1b36a299724"
      },
      "execution_count": 3,
      "outputs": [
        {
          "output_type": "execute_result",
          "data": {
            "text/plain": [
              "array([ 0,  1,  2,  3,  4,  5,  6,  7,  8,  9, 10, 11, 12, 13, 14, 15, 16,\n",
              "       17, 18, 19, 20, 21, 22, 23, 24])"
            ]
          },
          "metadata": {},
          "execution_count": 3
        }
      ]
    },
    {
      "cell_type": "markdown",
      "source": [
        "To change that array into a tensor,"
      ],
      "metadata": {
        "id": "7WZntJKcfR47"
      }
    },
    {
      "cell_type": "code",
      "source": [
        "# Convert NumPy array to Tensor using `tf.constant`\n",
        "x = tf.constant(x)\n",
        "x"
      ],
      "metadata": {
        "colab": {
          "base_uri": "https://localhost:8080/"
        },
        "id": "TQ8Kvdm2fYmQ",
        "outputId": "ff9c752a-1ab2-4439-8aa9-ef49a27aa754"
      },
      "execution_count": 4,
      "outputs": [
        {
          "output_type": "execute_result",
          "data": {
            "text/plain": [
              "<tf.Tensor: shape=(25,), dtype=int64, numpy=\n",
              "array([ 0,  1,  2,  3,  4,  5,  6,  7,  8,  9, 10, 11, 12, 13, 14, 15, 16,\n",
              "       17, 18, 19, 20, 21, 22, 23, 24])>"
            ]
          },
          "metadata": {},
          "execution_count": 4
        }
      ]
    },
    {
      "cell_type": "markdown",
      "source": [
        "Now the tensor operations can be applied. As an example apply square (element-wise) all the values in the tensor x"
      ],
      "metadata": {
        "id": "FAAvJc6Ee4jd"
      }
    },
    {
      "cell_type": "code",
      "source": [
        "# Square the input tensor x\n",
        "x = tf.square(x)\n",
        "x"
      ],
      "metadata": {
        "colab": {
          "base_uri": "https://localhost:8080/"
        },
        "id": "FljhLqjUfjFT",
        "outputId": "a674e844-7841-4322-e187-9e72d8c5b316"
      },
      "execution_count": 5,
      "outputs": [
        {
          "output_type": "execute_result",
          "data": {
            "text/plain": [
              "<tf.Tensor: shape=(25,), dtype=int64, numpy=\n",
              "array([  0,   1,   4,   9,  16,  25,  36,  49,  64,  81, 100, 121, 144,\n",
              "       169, 196, 225, 256, 289, 324, 361, 400, 441, 484, 529, 576])>"
            ]
          },
          "metadata": {},
          "execution_count": 5
        }
      ]
    },
    {
      "cell_type": "markdown",
      "source": [
        "### Tensor Reshape"
      ],
      "metadata": {
        "id": "-t7WcgXAfoxL"
      }
    },
    {
      "cell_type": "markdown",
      "source": [
        "One feature of tensors is that they can be reshaped. When reshpaing, make sure to consider then dimensions that will include all of the values of the tensor."
      ],
      "metadata": {
        "id": "k6AMcFJLfn_U"
      }
    },
    {
      "cell_type": "code",
      "source": [
        "# Reshape tensor x into a 5 x 5 matrix.\n",
        "x = tf.reshape(x, (5, 5))\n",
        "x"
      ],
      "metadata": {
        "colab": {
          "base_uri": "https://localhost:8080/"
        },
        "id": "dkUoGAm4fnYj",
        "outputId": "d762b4f0-e15e-406a-a6df-8fff64b2a5e8"
      },
      "execution_count": 6,
      "outputs": [
        {
          "output_type": "execute_result",
          "data": {
            "text/plain": [
              "<tf.Tensor: shape=(5, 5), dtype=int64, numpy=\n",
              "array([[  0,   1,   4,   9,  16],\n",
              "       [ 25,  36,  49,  64,  81],\n",
              "       [100, 121, 144, 169, 196],\n",
              "       [225, 256, 289, 324, 361],\n",
              "       [400, 441, 484, 529, 576]])>"
            ]
          },
          "metadata": {},
          "execution_count": 6
        }
      ]
    },
    {
      "cell_type": "code",
      "source": [
        "# Cast tensor x into float32. Notice the change in the dtype.\n",
        "x = tf.cast(x, tf.float32)\n",
        "x"
      ],
      "metadata": {
        "colab": {
          "base_uri": "https://localhost:8080/"
        },
        "id": "eSfx1VtxgWGc",
        "outputId": "40a6ac8c-6d5c-48eb-a943-1d861c4886f6"
      },
      "execution_count": 9,
      "outputs": [
        {
          "output_type": "execute_result",
          "data": {
            "text/plain": [
              "<tf.Tensor: shape=(5, 5), dtype=float32, numpy=\n",
              "array([[  0.,   1.,   4.,   9.,  16.],\n",
              "       [ 25.,  36.,  49.,  64.,  81.],\n",
              "       [100., 121., 144., 169., 196.],\n",
              "       [225., 256., 289., 324., 361.],\n",
              "       [400., 441., 484., 529., 576.]], dtype=float32)>"
            ]
          },
          "metadata": {},
          "execution_count": 9
        }
      ]
    },
    {
      "cell_type": "markdown",
      "source": [
        "When using tf.constant(), you can pass in a 1D array (a vector) and set the shape parameter to turn this vector into a multi-dimensional array."
      ],
      "metadata": {
        "id": "FgYw9_cshCbs"
      }
    },
    {
      "cell_type": "code",
      "source": [
        "tf.constant([1,2,3,4], shape=(2,2))"
      ],
      "metadata": {
        "colab": {
          "base_uri": "https://localhost:8080/"
        },
        "id": "K7F51TbVhDu8",
        "outputId": "82675e7c-a5a2-44f4-e4e9-efbcf4f759af"
      },
      "execution_count": 14,
      "outputs": [
        {
          "output_type": "execute_result",
          "data": {
            "text/plain": [
              "<tf.Tensor: shape=(2, 2), dtype=int32, numpy=\n",
              "array([[1, 2],\n",
              "       [3, 4]], dtype=int32)>"
            ]
          },
          "metadata": {},
          "execution_count": 14
        }
      ]
    },
    {
      "cell_type": "markdown",
      "source": [
        "**However, that for tf.Variable()**, the shape of the tensor is derived from the shape given by the input array. Setting shape to something other than None will not reshape a 1D array into a multi-dimensional array, and will give a ValueError."
      ],
      "metadata": {
        "id": "UF8vF-3ShHnl"
      }
    },
    {
      "cell_type": "code",
      "source": [
        "try:\n",
        "    # This will produce a ValueError\n",
        "    tf.Variable([1,2,3,4], shape=(2,2))\n",
        "except ValueError as v:\n",
        "    # See what the ValueError says\n",
        "    print(v)"
      ],
      "metadata": {
        "colab": {
          "base_uri": "https://localhost:8080/"
        },
        "id": "MYQnhFiGhOG2",
        "outputId": "37832cdc-d15a-4ba2-9edc-49c1eda14c47"
      },
      "execution_count": 15,
      "outputs": [
        {
          "output_type": "stream",
          "name": "stdout",
          "text": [
            "In this `tf.Variable` creation, the initial value's shape ((4,)) is not compatible with the explicitly supplied `shape` argument ((2, 2)).\n"
          ]
        }
      ]
    },
    {
      "cell_type": "markdown",
      "source": [
        "### Broadcasting in Tensors"
      ],
      "metadata": {
        "id": "BKhgrnBMf--c"
      }
    },
    {
      "cell_type": "markdown",
      "source": [
        "create a single value float tensor by the help of which will help to see broadcasting in actionC"
      ],
      "metadata": {
        "id": "EctU5GocgCIo"
      }
    },
    {
      "cell_type": "code",
      "source": [
        "# Let's define a constant and see how broadcasting works in the following cell.\n",
        "y = tf.constant(2, dtype=tf.float32)\n",
        "y"
      ],
      "metadata": {
        "colab": {
          "base_uri": "https://localhost:8080/"
        },
        "id": "f6nUFwbzf04-",
        "outputId": "3b2600ad-d229-4ea6-c8f3-60e3c5ff0b2a"
      },
      "execution_count": 7,
      "outputs": [
        {
          "output_type": "execute_result",
          "data": {
            "text/plain": [
              "<tf.Tensor: shape=(), dtype=float32, numpy=2.0>"
            ]
          },
          "metadata": {},
          "execution_count": 7
        }
      ]
    },
    {
      "cell_type": "markdown",
      "source": [
        "Multiply the tensors x and y together, and notice how multiplication was done and its result."
      ],
      "metadata": {
        "id": "x3_tshqQgKrj"
      }
    },
    {
      "cell_type": "code",
      "source": [
        "# Multiply tensor `x` and `y`. `y` is multiplied to each element of x.\n",
        "result = tf.multiply(x, y)\n",
        "result"
      ],
      "metadata": {
        "colab": {
          "base_uri": "https://localhost:8080/"
        },
        "id": "W7QxiiyVgImw",
        "outputId": "c5688a8a-7f71-48eb-950f-cdfbe20fb6cc"
      },
      "execution_count": 10,
      "outputs": [
        {
          "output_type": "execute_result",
          "data": {
            "text/plain": [
              "<tf.Tensor: shape=(5, 5), dtype=float32, numpy=\n",
              "array([[   0.,    2.,    8.,   18.,   32.],\n",
              "       [  50.,   72.,   98.,  128.,  162.],\n",
              "       [ 200.,  242.,  288.,  338.,  392.],\n",
              "       [ 450.,  512.,  578.,  648.,  722.],\n",
              "       [ 800.,  882.,  968., 1058., 1152.]], dtype=float32)>"
            ]
          },
          "metadata": {},
          "execution_count": 10
        }
      ]
    },
    {
      "cell_type": "markdown",
      "source": [
        "Re-Initialize y to a tensor having more values."
      ],
      "metadata": {
        "id": "scmzZSHxgcej"
      }
    },
    {
      "cell_type": "code",
      "source": [
        "# Now let's define an array that matches the number of row elements in the `x` array.\n",
        "y = tf.constant([1, 2, 3, 4, 5], dtype=tf.float32)\n",
        "y"
      ],
      "metadata": {
        "colab": {
          "base_uri": "https://localhost:8080/"
        },
        "id": "DIOmm62_geH4",
        "outputId": "978cac75-99bc-4193-e552-76386207df73"
      },
      "execution_count": 11,
      "outputs": [
        {
          "output_type": "execute_result",
          "data": {
            "text/plain": [
              "<tf.Tensor: shape=(5,), dtype=float32, numpy=array([1., 2., 3., 4., 5.], dtype=float32)>"
            ]
          },
          "metadata": {},
          "execution_count": 11
        }
      ]
    },
    {
      "cell_type": "code",
      "source": [
        "# Let's see first the contents of `x` again.\n",
        "x  # |=> not affected"
      ],
      "metadata": {
        "colab": {
          "base_uri": "https://localhost:8080/"
        },
        "id": "31EwJxFiggfH",
        "outputId": "6270e740-e94f-440e-f971-a2d252482d5f"
      },
      "execution_count": 12,
      "outputs": [
        {
          "output_type": "execute_result",
          "data": {
            "text/plain": [
              "<tf.Tensor: shape=(5, 5), dtype=float32, numpy=\n",
              "array([[  0.,   1.,   4.,   9.,  16.],\n",
              "       [ 25.,  36.,  49.,  64.,  81.],\n",
              "       [100., 121., 144., 169., 196.],\n",
              "       [225., 256., 289., 324., 361.],\n",
              "       [400., 441., 484., 529., 576.]], dtype=float32)>"
            ]
          },
          "metadata": {},
          "execution_count": 12
        }
      ]
    },
    {
      "cell_type": "code",
      "source": [
        "# Add tensor `x` and `y`. `y` is added element wise to each row of `x`.\n",
        "result = x + y\n",
        "result"
      ],
      "metadata": {
        "colab": {
          "base_uri": "https://localhost:8080/"
        },
        "id": "gevk0_TigtcW",
        "outputId": "d688c37c-1206-4662-d07a-f5f9cc0c271d"
      },
      "execution_count": 13,
      "outputs": [
        {
          "output_type": "execute_result",
          "data": {
            "text/plain": [
              "<tf.Tensor: shape=(5, 5), dtype=float32, numpy=\n",
              "array([[  1.,   3.,   7.,  13.,  21.],\n",
              "       [ 26.,  38.,  52.,  68.,  86.],\n",
              "       [101., 123., 147., 173., 201.],\n",
              "       [226., 258., 292., 328., 366.],\n",
              "       [401., 443., 487., 533., 581.]], dtype=float32)>"
            ]
          },
          "metadata": {},
          "execution_count": 13
        }
      ]
    },
    {
      "cell_type": "markdown",
      "source": [
        "## 2.2 Gradient Tape"
      ],
      "metadata": {
        "id": "TpzCzqn7grcC"
      }
    },
    {
      "cell_type": "markdown",
      "source": [
        "Gradient Tape is a powerful feature in TensorFlow that facilitates automatic differentiation.Gradient Tape is part of TensorFlow's eager execution mode, which allows operations to be evaluated immediately as they are called within Python."
      ],
      "metadata": {
        "id": "iLM6h8N5mrym"
      }
    },
    {
      "cell_type": "markdown",
      "source": [
        "TensorFlow's `tf.GradientTape` records operations for automatic differentiation. Specifically, it records computations made within its context (i.e., between the `GradientTape` `__enter__` and `__exit__` methods) to compute the gradient of some target variables with respect to some source variables."
      ],
      "metadata": {
        "id": "I4Dn71fTm3rw"
      }
    },
    {
      "cell_type": "markdown",
      "source": [
        "\n",
        "#### How Gradient Tape Works\n",
        "\n",
        "1. **Recording Operations:** When you perform operations within the context of a `GradientTape`, TensorFlow records these operations.\n",
        "2. **Computing Gradients:** Once the operations are recorded, you can use the tape to compute the gradients of a target (typically a loss value) with respect to some source variables (typically model parameters).\n",
        "\n",
        "To use `tf.GradientTape`:\n",
        "\n",
        "1. **Define the Model and Loss Function:** You need a model that performs some operations on input data and a loss function to evaluate the performance of the model.\n",
        "2. **Open a Gradient Tape Context:** Use `with tf.GradientTape() as tape:` to start recording the operations.\n",
        "3. **Perform Operations within the Context:** Perform the forward pass of the model and compute the loss within the `GradientTape` context.\n",
        "4. **Compute Gradients:** Use the `tape.gradient(target, sources)` method to compute the gradients of the target with respect to the sources.\n",
        "5. **Apply Gradients:** Use an optimizer to apply the computed gradients to the model's variables.\n"
      ],
      "metadata": {
        "id": "8_yQemWymnxd"
      }
    },
    {
      "cell_type": "markdown",
      "source": [
        "#### Example\n",
        "\n",
        "```python\n",
        "import tensorflow as tf\n",
        "\n",
        "# Create a simple model with a single Dense layer\n",
        "model = tf.keras.Sequential([tf.keras.layers.Dense(1)])\n",
        "\n",
        "# Define an optimizer\n",
        "optimizer = tf.keras.optimizers.SGD(learning_rate=0.01)\n",
        "\n",
        "# Define a simple mean squared error loss function\n",
        "loss_fn = tf.keras.losses.MeanSquaredError()\n",
        "\n",
        "# Input data (e.g., features) and true labels\n",
        "x = tf.constant([[1.0], [2.0], [3.0], [4.0]])\n",
        "y_true = tf.constant([[2.0], [4.0], [6.0], [8.0]])\n",
        "\n",
        "# Training step function\n",
        "def train_step(x, y_true):\n",
        "    with tf.GradientTape() as tape:\n",
        "        # Forward pass: compute predicted y by passing x to the model\n",
        "        y_pred = model(x, training=True)\n",
        "        \n",
        "        # Compute the loss\n",
        "        loss = loss_fn(y_true, y_pred)\n",
        "    \n",
        "    # Compute gradients of the loss with respect to model's variables\n",
        "    gradients = tape.gradient(loss, model.trainable_variables)\n",
        "    \n",
        "    # Apply the gradients to the optimizer\n",
        "    optimizer.apply_gradients(zip(gradients, model.trainable_variables))\n",
        "    \n",
        "    return loss\n",
        "\n",
        "# Training loop\n",
        "for epoch in range(100):\n",
        "    loss = train_step(x, y_true)\n",
        "    print(f\"Epoch {epoch}, Loss: {loss.numpy()}\")\n",
        "```\n"
      ],
      "metadata": {
        "id": "2nlU3-AMnDrQ"
      }
    },
    {
      "cell_type": "markdown",
      "source": [
        "#### Important Points\n",
        "\n",
        "- **Persistent Tapes:** By default, a `tf.GradientTape` is used only once to compute gradients. If you need to compute multiple gradients over the same computation, create a persistent tape by passing `persistent=True` to the `GradientTape` constructor. Remember to delete the tape with `del tape` when done to free resources.\n",
        "- **Nested Tapes:** You can nest multiple `tf.GradientTape` contexts to compute higher-order derivatives (gradients of gradients).\n",
        "\n",
        "Example of using a persistent tape:\n",
        "```python\n",
        "with tf.GradientTape(persistent=True) as tape:\n",
        "    # Perform operations\n",
        "    pass\n",
        "# Compute gradients multiple times\n",
        "gradients = tape.gradient(target, sources)\n",
        "# After usage\n",
        "del tape\n",
        "```\n",
        "\n",
        "#### Use Cases\n",
        "\n",
        "- **Training Neural Networks:** Calculating gradients of the loss function with respect to model parameters.\n",
        "- **Custom Training Loops:** Implementing complex training algorithms that require manual gradient calculations.\n",
        "- **Higher-order Gradients:** Computing gradients of gradients for advanced optimization techniques.\n",
        "\n"
      ],
      "metadata": {
        "id": "avn73HbtnLfW"
      }
    },
    {
      "cell_type": "markdown",
      "source": [
        "#### Example"
      ],
      "metadata": {
        "id": "lEey-PS-nKDV"
      }
    },
    {
      "cell_type": "code",
      "source": [
        "# Define a 2x2 array of 1's\n",
        "x = tf.ones((2,2))\n",
        "\n",
        "with tf.GradientTape() as t:\n",
        "    # Record the actions performed on tensor x with `watch`\n",
        "    t.watch(x)\n",
        "\n",
        "    # Define y as the sum of the elements in x\n",
        "    y =  tf.reduce_sum(x)\n",
        "    print(\"y : \",y)\n",
        "\n",
        "    # Let z be the square of y\n",
        "    z = tf.square(y)\n",
        "    print(\"z : \",z)\n",
        "\n",
        "# Get the derivative of z wrt the original input tensor x\n",
        "dz_dx = t.gradient(z, x)\n",
        "\n",
        "# Print our result\n",
        "print(dz_dx)"
      ],
      "metadata": {
        "colab": {
          "base_uri": "https://localhost:8080/"
        },
        "id": "UqqefuEmnTmb",
        "outputId": "71a14418-c002-4663-b402-7dbcfc080a9e"
      },
      "execution_count": 18,
      "outputs": [
        {
          "output_type": "stream",
          "name": "stdout",
          "text": [
            "y :  tf.Tensor(4.0, shape=(), dtype=float32)\n",
            "z :  tf.Tensor(16.0, shape=(), dtype=float32)\n",
            "tf.Tensor(\n",
            "[[8. 8.]\n",
            " [8. 8.]], shape=(2, 2), dtype=float32)\n"
          ]
        }
      ]
    },
    {
      "cell_type": "markdown",
      "source": [
        "**Gradient tape expires after one use, by default**\n",
        "\n",
        "If you want to compute multiple gradients, note that by default, GradientTape is not persistent (`persistent=False`).  This means that the GradientTape will expire after you use it to calculate a gradient.\n",
        "\n",
        "To see this, set up gradient tape as usual and calculate a gradient, so that the gradient tape will be 'expired'."
      ],
      "metadata": {
        "id": "q9s6RnHSn7a9"
      }
    },
    {
      "cell_type": "code",
      "source": [
        "x = tf.constant(3.0)\n",
        "\n",
        "# Notice that persistent is False by default\n",
        "with tf.GradientTape() as t:\n",
        "    t.watch(x)\n",
        "\n",
        "    # y = x^2\n",
        "    y = x * x\n",
        "\n",
        "    # z = y^2\n",
        "    z = y * y\n",
        "\n",
        "# Compute dz/dx. 4 * x^3 at x = 3 --> 108.0\n",
        "dz_dx = t.gradient(z, x)\n",
        "print(dz_dx)"
      ],
      "metadata": {
        "colab": {
          "base_uri": "https://localhost:8080/"
        },
        "id": "afa8GXgxnpNv",
        "outputId": "6ac007f2-49ea-4e1b-d042-872ed7df1931"
      },
      "execution_count": 19,
      "outputs": [
        {
          "output_type": "stream",
          "name": "stdout",
          "text": [
            "tf.Tensor(108.0, shape=(), dtype=float32)\n"
          ]
        }
      ]
    },
    {
      "cell_type": "code",
      "source": [
        "# If you try to compute dy/dx after the gradient tape has expired:\n",
        "try:\n",
        "    dy_dx = t.gradient(y, x)  # 6.0\n",
        "    print(dy_dx)\n",
        "except RuntimeError as e:\n",
        "    print(\"The error message you get is:\")\n",
        "    print(e)"
      ],
      "metadata": {
        "colab": {
          "base_uri": "https://localhost:8080/"
        },
        "id": "4PMz-V8-oBHW",
        "outputId": "38345545-efd0-4700-9423-4e504888387e"
      },
      "execution_count": 20,
      "outputs": [
        {
          "output_type": "stream",
          "name": "stdout",
          "text": [
            "The error message you get is:\n",
            "A non-persistent GradientTape can only be used to compute one set of gradients (or jacobians)\n"
          ]
        }
      ]
    },
    {
      "cell_type": "markdown",
      "source": [
        "##### Make the gradient tape persistent"
      ],
      "metadata": {
        "id": "9NZxNrgeoDUT"
      }
    },
    {
      "cell_type": "markdown",
      "source": [
        "To make sure that the gradient tape can be used multiple times, set `persistent=True`"
      ],
      "metadata": {
        "id": "hcqHairOoG4w"
      }
    },
    {
      "cell_type": "code",
      "source": [
        "x = tf.constant(3.0)\n",
        "\n",
        "# Set persistent=True so that you can reuse the tape\n",
        "with tf.GradientTape(persistent=True) as t:\n",
        "    t.watch(x)\n",
        "\n",
        "    # y = x^2\n",
        "    y = x * x\n",
        "\n",
        "    # z = y^2\n",
        "    z = y * y\n",
        "\n",
        "# Compute dz/dx. 4 * x^3 at x = 3 --> 108.0\n",
        "dz_dx = t.gradient(z, x)\n",
        "print(dz_dx)"
      ],
      "metadata": {
        "colab": {
          "base_uri": "https://localhost:8080/"
        },
        "id": "U4eAOVFCoH5j",
        "outputId": "edba8dfa-4f60-48f5-ae73-38f985d1639e"
      },
      "execution_count": 21,
      "outputs": [
        {
          "output_type": "stream",
          "name": "stdout",
          "text": [
            "tf.Tensor(108.0, shape=(), dtype=float32)\n"
          ]
        }
      ]
    },
    {
      "cell_type": "code",
      "source": [
        "# You can still compute dy/dx because of the persistent flag.\n",
        "dy_dx = t.gradient(y, x)  # 6.0\n",
        "print(dy_dx)"
      ],
      "metadata": {
        "id": "2P5hF7ueoKVA"
      },
      "execution_count": null,
      "outputs": []
    },
    {
      "cell_type": "markdown",
      "source": [
        "Delete the tape variable `t` once you no longer need it."
      ],
      "metadata": {
        "id": "EDlCh7WDoOSe"
      }
    },
    {
      "cell_type": "code",
      "source": [
        "# Drop the reference to the tape\n",
        "del t"
      ],
      "metadata": {
        "id": "KUWul2G4oP7j"
      },
      "execution_count": 22,
      "outputs": []
    },
    {
      "cell_type": "markdown",
      "source": [
        "### Nested Gradient tapes\n",
        "To compute a higher order derivative by nesting the `GradientTapes:`\n",
        "\n",
        "**Acceptable indentation of the first gradient calculation**\n",
        "Keep in mind that need to make sure that the first gradient calculation of `dy_dx` should occur at least inside the outer `with` block."
      ],
      "metadata": {
        "id": "qN7hq3BeoScR"
      }
    },
    {
      "cell_type": "code",
      "source": [
        "x = tf.Variable(1.0)\n",
        "\n",
        "with tf.GradientTape() as tape_2:\n",
        "    with tf.GradientTape() as tape_1:\n",
        "        y = x * x * x\n",
        "\n",
        "    # The first gradient calculation should occur at least\n",
        "    # within the outer with block\n",
        "    dy_dx = tape_1.gradient(y, x)\n",
        "d2y_dx2 = tape_2.gradient(dy_dx, x)\n",
        "\n",
        "print(dy_dx)\n",
        "print(d2y_dx2)"
      ],
      "metadata": {
        "colab": {
          "base_uri": "https://localhost:8080/"
        },
        "id": "BSUogur1od-6",
        "outputId": "40d26e08-1b7d-42cc-8244-4ee2a95ba187"
      },
      "execution_count": 23,
      "outputs": [
        {
          "output_type": "stream",
          "name": "stdout",
          "text": [
            "tf.Tensor(3.0, shape=(), dtype=float32)\n",
            "tf.Tensor(6.0, shape=(), dtype=float32)\n"
          ]
        }
      ]
    },
    {
      "cell_type": "markdown",
      "source": [
        "The first gradient calculation can also be inside the inner with block."
      ],
      "metadata": {
        "id": "UzMjyutfoKEC"
      }
    },
    {
      "cell_type": "code",
      "source": [
        "x = tf.Variable(1.0)\n",
        "\n",
        "with tf.GradientTape() as tape_2:\n",
        "    with tf.GradientTape() as tape_1:\n",
        "        y = x * x * x\n",
        "\n",
        "        # The first gradient calculation can also be within the inner with block\n",
        "        dy_dx = tape_1.gradient(y, x)\n",
        "d2y_dx2 = tape_2.gradient(dy_dx, x)\n",
        "\n",
        "print(dy_dx)\n",
        "print(d2y_dx2)"
      ],
      "metadata": {
        "colab": {
          "base_uri": "https://localhost:8080/"
        },
        "id": "NN7pKXQqog-5",
        "outputId": "67e09317-a336-4180-9e87-000301b08bdb"
      },
      "execution_count": 24,
      "outputs": [
        {
          "output_type": "stream",
          "name": "stdout",
          "text": [
            "tf.Tensor(3.0, shape=(), dtype=float32)\n",
            "tf.Tensor(6.0, shape=(), dtype=float32)\n"
          ]
        }
      ]
    },
    {
      "cell_type": "markdown",
      "source": [
        "**Where not to indent the first gradient calculation**\n",
        "If the first gradient calculation is OUTSIDE of the outer `with` block, it won't persist for the second gradient calculation."
      ],
      "metadata": {
        "id": "4_EqnCkWokvW"
      }
    },
    {
      "cell_type": "code",
      "source": [
        "x = tf.Variable(1.0)\n",
        "\n",
        "with tf.GradientTape() as tape_2:\n",
        "    with tf.GradientTape() as tape_1:\n",
        "        y = x * x * x\n",
        "\n",
        "# The first gradient call is outside the outer with block\n",
        "# so the tape will expire after this\n",
        "dy_dx = tape_1.gradient(y, x)\n",
        "\n",
        "# The tape is now expired and the gradient output will be `None`\n",
        "d2y_dx2 = tape_2.gradient(dy_dx, x)\n",
        "\n",
        "print(dy_dx)\n",
        "print(d2y_dx2)"
      ],
      "metadata": {
        "colab": {
          "base_uri": "https://localhost:8080/"
        },
        "id": "F3FhPz4Bom9J",
        "outputId": "c5b3108d-1557-459e-a8d3-3520f40a9adc"
      },
      "execution_count": 25,
      "outputs": [
        {
          "output_type": "stream",
          "name": "stdout",
          "text": [
            "tf.Tensor(3.0, shape=(), dtype=float32)\n",
            "None\n"
          ]
        }
      ]
    },
    {
      "cell_type": "markdown",
      "source": [
        "Notice how the `d2y_dx2` calculation is now `None`.  The tape has expired.  Also note that this still won't work even if you set persistent=True for both gradient tapes."
      ],
      "metadata": {
        "id": "0FO7TrtFoosh"
      }
    },
    {
      "cell_type": "code",
      "source": [
        "x = tf.Variable(1.0)\n",
        "\n",
        "# Setting persistent=True still won't work\n",
        "with tf.GradientTape(persistent=True) as tape_2:\n",
        "    # Setting persistent=True still won't work\n",
        "    with tf.GradientTape(persistent=True) as tape_1:\n",
        "        y = x * x * x\n",
        "\n",
        "# The first gradient call is outside the outer with block\n",
        "# so the tape will expire after this\n",
        "dy_dx = tape_1.gradient(y, x)\n",
        "\n",
        "# the output will be `None`\n",
        "d2y_dx2 = tape_2.gradient(dy_dx, x)\n",
        "\n",
        "print(dy_dx)\n",
        "print(d2y_dx2)"
      ],
      "metadata": {
        "colab": {
          "base_uri": "https://localhost:8080/"
        },
        "id": "qNr45ERNoqZv",
        "outputId": "ccd6acdb-45f6-421e-a6ae-f85373f732d6"
      },
      "execution_count": 26,
      "outputs": [
        {
          "output_type": "stream",
          "name": "stdout",
          "text": [
            "tf.Tensor(3.0, shape=(), dtype=float32)\n",
            "None\n"
          ]
        }
      ]
    },
    {
      "cell_type": "markdown",
      "source": [
        " **Proper indentation for the second gradient calculation**\n",
        "\n",
        "The second gradient calculation `d2y_dx2` can be indented as much as the first calculation of `dy_dx` but not more."
      ],
      "metadata": {
        "id": "klity7YZotS6"
      }
    },
    {
      "cell_type": "code",
      "source": [
        "x = tf.Variable(1.0)\n",
        "\n",
        "with tf.GradientTape() as tape_2:\n",
        "    with tf.GradientTape() as tape_1:\n",
        "        y = x * x * x\n",
        "\n",
        "        dy_dx = tape_1.gradient(y, x)\n",
        "\n",
        "        # this is acceptable\n",
        "        d2y_dx2 = tape_2.gradient(dy_dx, x)\n",
        "\n",
        "print(dy_dx)\n",
        "print(d2y_dx2)"
      ],
      "metadata": {
        "colab": {
          "base_uri": "https://localhost:8080/"
        },
        "id": "cohaPRuIow7J",
        "outputId": "3a24517d-7d46-4419-f4bd-b238d80989b6"
      },
      "execution_count": 27,
      "outputs": [
        {
          "output_type": "stream",
          "name": "stdout",
          "text": [
            "tf.Tensor(3.0, shape=(), dtype=float32)\n",
            "tf.Tensor(6.0, shape=(), dtype=float32)\n"
          ]
        }
      ]
    },
    {
      "cell_type": "markdown",
      "source": [
        "Tis is also acceptable,"
      ],
      "metadata": {
        "id": "MfXKXju3oyYQ"
      }
    },
    {
      "cell_type": "code",
      "source": [
        "x = tf.Variable(1.0)\n",
        "\n",
        "with tf.GradientTape() as tape_2:\n",
        "    with tf.GradientTape() as tape_1:\n",
        "        y = x * x * x\n",
        "\n",
        "        dy_dx = tape_1.gradient(y, x)\n",
        "\n",
        "    # this is also acceptable\n",
        "    d2y_dx2 = tape_2.gradient(dy_dx, x)\n",
        "\n",
        "print(dy_dx)\n",
        "print(d2y_dx2)"
      ],
      "metadata": {
        "colab": {
          "base_uri": "https://localhost:8080/"
        },
        "id": "3eIn7ujno1V1",
        "outputId": "77962d4a-f1c3-4830-b4fb-182bbdb6c176"
      },
      "execution_count": 28,
      "outputs": [
        {
          "output_type": "stream",
          "name": "stdout",
          "text": [
            "tf.Tensor(3.0, shape=(), dtype=float32)\n",
            "tf.Tensor(6.0, shape=(), dtype=float32)\n"
          ]
        }
      ]
    },
    {
      "cell_type": "markdown",
      "source": [
        "or"
      ],
      "metadata": {
        "id": "3n2ANUfho34Q"
      }
    },
    {
      "cell_type": "code",
      "source": [
        "x = tf.Variable(1.0)\n",
        "\n",
        "with tf.GradientTape() as tape_2:\n",
        "    with tf.GradientTape() as tape_1:\n",
        "        y = x * x * x\n",
        "\n",
        "        dy_dx = tape_1.gradient(y, x)\n",
        "\n",
        "# this is also acceptable\n",
        "d2y_dx2 = tape_2.gradient(dy_dx, x)\n",
        "\n",
        "print(dy_dx)\n",
        "print(d2y_dx2)"
      ],
      "metadata": {
        "colab": {
          "base_uri": "https://localhost:8080/"
        },
        "id": "h9_32tUVo1u-",
        "outputId": "6d2237d6-120c-409c-b571-13466a2adde6"
      },
      "execution_count": 29,
      "outputs": [
        {
          "output_type": "stream",
          "name": "stdout",
          "text": [
            "tf.Tensor(3.0, shape=(), dtype=float32)\n",
            "tf.Tensor(6.0, shape=(), dtype=float32)\n"
          ]
        }
      ]
    },
    {
      "cell_type": "markdown",
      "source": [
        "## 2.3 Custom Training Loops"
      ],
      "metadata": {
        "id": "j_iQMFr7wxjA"
      }
    },
    {
      "cell_type": "markdown",
      "source": [
        "Steps to training network,\n",
        "1. Define the network\n",
        "2. Prepare the training data\n",
        "3. Define loss and optimizer\n",
        "4. Train the model on training inputs by minimizing loss using custom optimizer.\n",
        "5. Validate the model.\n"
      ],
      "metadata": {
        "id": "dSyp7u9Cwy6Z"
      }
    },
    {
      "cell_type": "markdown",
      "source": [
        "#### Define the network"
      ],
      "metadata": {
        "id": "bNARQIs_w4lh"
      }
    },
    {
      "cell_type": "markdown",
      "source": [
        "Define your model as a class.\n",
        "- `x` is the input tensor.\n",
        "- The model should output values of **wx+b**.\n",
        "- Start off by initializing w and b to random values.\n",
        "- During the training process, values of w and b get updated in accordance with linear regression so as to minimize the loss incurred by the model.\n",
        "- Once arrive at optimal values for w and b, the model would have been trained to correctly predict the values of wx+b.\n",
        "\n",
        "Hence,\n",
        "- **w** and **b** are trainable weights of the model.\n",
        "- **x** is the input\n",
        "- **y** = wx + b is the output"
      ],
      "metadata": {
        "id": "8Myo8Nz1xBN-"
      }
    },
    {
      "cell_type": "code",
      "source": [
        "class Model(object):\n",
        "  def __init__(self):\n",
        "    # Initialize the weights to `2.0` and the bias to `1.0`\n",
        "    # In practice, these should be initialized to random values (for example, with `tf.random.normal`)\n",
        "    self.w = tf.Variable(2.0)\n",
        "    self.b = tf.Variable(1.0)\n",
        "\n",
        "  def __call__(self, x):\n",
        "    return self.w * x + self.b\n",
        "\n",
        "model = Model()"
      ],
      "metadata": {
        "id": "wG3nhVdko3Ff"
      },
      "execution_count": 3,
      "outputs": []
    },
    {
      "cell_type": "markdown",
      "source": [
        "#### Define a loss function\n",
        "\n"
      ],
      "metadata": {
        "id": "6vWk_zXVxd4y"
      }
    },
    {
      "cell_type": "markdown",
      "source": [
        "A loss function measures how well the output of a model for a given input matches the target output.\n",
        "- The goal is to minimize this difference during training.\n",
        "- Use the standard L2 loss, also known as the least square errors\n",
        "$$Loss = \\sum_{i} \\left (y_{pred}^i - y_{target}^i \\right )^2$$"
      ],
      "metadata": {
        "id": "oKVhh4TXxhmP"
      }
    },
    {
      "cell_type": "code",
      "source": [
        "def loss(predicted_y, target_y):\n",
        "  return tf.reduce_mean(tf.square(predicted_y - target_y))"
      ],
      "metadata": {
        "id": "wsDI8ZIOxmdg"
      },
      "execution_count": 4,
      "outputs": []
    },
    {
      "cell_type": "markdown",
      "source": [
        "#### Obtain training data\n"
      ],
      "metadata": {
        "id": "jyMgQEAsxoyz"
      }
    },
    {
      "cell_type": "markdown",
      "source": [
        "\n",
        "First, synthesize the training data using the \"true\" w and \"true\" b.\n",
        "\n",
        "$$y = w_{true} \\times x + b_{true} $$"
      ],
      "metadata": {
        "id": "PVyBplQlxraQ"
      }
    },
    {
      "cell_type": "code",
      "source": [
        "TRUE_w = 3.0\n",
        "TRUE_b = 2.0\n",
        "NUM_EXAMPLES = 1000\n",
        "\n",
        "xs  = tf.random.normal(shape=[NUM_EXAMPLES])\n",
        "\n",
        "ys = (TRUE_w * xs) + TRUE_b"
      ],
      "metadata": {
        "id": "9lpmZGtgxuif"
      },
      "execution_count": 5,
      "outputs": []
    },
    {
      "cell_type": "markdown",
      "source": [
        "#### Define a training loop\n"
      ],
      "metadata": {
        "id": "2rFv7wfUx2v-"
      }
    },
    {
      "cell_type": "markdown",
      "source": [
        "With the network and training data, train the model using [gradient descent](https://en.wikipedia.org/wiki/Gradient_descent)\n",
        "- Gradient descent updates the trainable weights **w** and **b** to reduce the loss.\n",
        "\n",
        "\n",
        "There are many variants of the gradient descent scheme that are captured in `tf.train.Optimizer`.\n",
        "- Use `tf.GradientTape` for automatic differentiation\n",
        "- Use `tf.assign_sub` for decrementing a value.  Note that assign_sub combines `tf.assign` and `tf.sub`"
      ],
      "metadata": {
        "id": "TGTWD4Cmx4IR"
      }
    },
    {
      "cell_type": "code",
      "source": [
        "def train(model, inputs, outputs, learning_rate):\n",
        "  with tf.GradientTape() as t:\n",
        "    current_loss = loss(model(inputs), outputs)\n",
        "  dw, db = t.gradient(current_loss, [model.w, model.b])\n",
        "  model.w.assign_sub(learning_rate * dw)\n",
        "  model.b.assign_sub(learning_rate * db)\n",
        "\n",
        "  return current_loss"
      ],
      "metadata": {
        "id": "Wggiz6hEyL-Q"
      },
      "execution_count": 6,
      "outputs": []
    },
    {
      "cell_type": "markdown",
      "source": [
        "Finally, iteratively run through the training data and see how `w` and `b` evolve."
      ],
      "metadata": {
        "id": "nod3OhCNyO8V"
      }
    },
    {
      "cell_type": "code",
      "source": [
        "model = Model()\n",
        "\n",
        "# Collect the history of W-values and b-values to plot later\n",
        "list_w, list_b = [], []\n",
        "epochs = range(15)\n",
        "losses = []\n",
        "for epoch in epochs:\n",
        "  list_w.append(model.w.numpy())\n",
        "  list_b.append(model.b.numpy())\n",
        "  current_loss = train(model, xs, ys, learning_rate=0.1)\n",
        "  losses.append(current_loss)\n",
        "  print('Epoch %2d: w=%1.2f b=%1.2f, loss=%2.5f' %\n",
        "        (epoch, list_w[-1], list_b[-1], current_loss))"
      ],
      "metadata": {
        "id": "rCIQGOuKyRWg",
        "outputId": "1412566d-b3e3-4f22-ca72-97342acbcbfa",
        "colab": {
          "base_uri": "https://localhost:8080/"
        }
      },
      "execution_count": 7,
      "outputs": [
        {
          "output_type": "stream",
          "name": "stdout",
          "text": [
            "Epoch  0: w=2.00 b=1.00, loss=1.99266\n",
            "Epoch  1: w=2.20 b=1.20, loss=1.27763\n",
            "Epoch  2: w=2.36 b=1.36, loss=0.81918\n",
            "Epoch  3: w=2.49 b=1.48, loss=0.52524\n",
            "Epoch  4: w=2.59 b=1.59, loss=0.33677\n",
            "Epoch  5: w=2.67 b=1.67, loss=0.21593\n",
            "Epoch  6: w=2.74 b=1.73, loss=0.13845\n",
            "Epoch  7: w=2.79 b=1.79, loss=0.08877\n",
            "Epoch  8: w=2.83 b=1.83, loss=0.05692\n",
            "Epoch  9: w=2.87 b=1.86, loss=0.03650\n",
            "Epoch 10: w=2.89 b=1.89, loss=0.02340\n",
            "Epoch 11: w=2.91 b=1.91, loss=0.01501\n",
            "Epoch 12: w=2.93 b=1.93, loss=0.00962\n",
            "Epoch 13: w=2.95 b=1.94, loss=0.00617\n",
            "Epoch 14: w=2.96 b=1.95, loss=0.00396\n"
          ]
        }
      ]
    },
    {
      "cell_type": "code",
      "source": [
        "import matplotlib.pyplot as plt\n",
        "plt.plot(epochs, list_w, 'r',\n",
        "       epochs, list_b, 'b')\n",
        "plt.plot([TRUE_w] * len(epochs), 'r--',\n",
        "      [TRUE_b] * len(epochs), 'b--')\n",
        "plt.legend(['w', 'b', 'True w', 'True b'])\n",
        "plt.show()"
      ],
      "metadata": {
        "id": "i7NS-2gwyUGd",
        "outputId": "f6b47ba3-5354-4526-ccee-9683e0458c35",
        "colab": {
          "base_uri": "https://localhost:8080/",
          "height": 430
        }
      },
      "execution_count": 10,
      "outputs": [
        {
          "output_type": "display_data",
          "data": {
            "text/plain": [
              "<Figure size 640x480 with 1 Axes>"
            ],
            "image/png": "[encoded data removed]"
          },
          "metadata": {}
        }
      ]
    },
    {
      "cell_type": "markdown",
      "source": [
        "**Plots for Evaluation**\n"
      ],
      "metadata": {
        "id": "S0Fk6kfFyhXt"
      }
    },
    {
      "cell_type": "code",
      "source": [
        "def plot_loss_for_weights(weights_list, losses):\n",
        "  for idx, weights in enumerate(weights_list):\n",
        "    plt.subplot(120 + idx + 1)\n",
        "    plt.plot(weights['values'], losses, 'r')\n",
        "    plt.plot(weights['values'], losses, 'bo')\n",
        "    plt.xlabel(weights['name'])\n",
        "    plt.ylabel('Loss')\n",
        "\n",
        "\n",
        "weights_list = [{ 'name' : \"w\",\n",
        "                  'values' : list_w\n",
        "                },\n",
        "                {\n",
        "                  'name' : \"b\",\n",
        "                  'values' : list_b\n",
        "                }]\n",
        "\n",
        "plot_loss_for_weights(weights_list, losses)"
      ],
      "metadata": {
        "id": "fZHYPEjKymib",
        "outputId": "f139b8f6-0e54-4a47-8ce4-1c9abd08f1d7",
        "colab": {
          "base_uri": "https://localhost:8080/",
          "height": 449
        }
      },
      "execution_count": 12,
      "outputs": [
        {
          "output_type": "display_data",
          "data": {
            "text/plain": [
              "<Figure size 640x480 with 2 Axes>"
            ],
            "image/png": "[encoded data removed]"
          },
          "metadata": {}
        }
      ]
    },
    {
      "cell_type": "markdown",
      "source": [
        "#### Fashion MNIST using Custom Training Loop"
      ],
      "metadata": {
        "id": "tqJDmYuSA8wq"
      }
    },
    {
      "cell_type": "code",
      "source": [
        "try:\n",
        "  # %tensorflow_version only exists in Colab.\n",
        "  %tensorflow_version 2.x\n",
        "except Exception:\n",
        "  pass\n",
        "\n",
        "import tensorflow as tf\n",
        "from tensorflow.keras.models import Model\n",
        "from tensorflow.keras.layers import Dense, Input\n",
        "\n",
        "import numpy as np\n",
        "import matplotlib.pyplot as plt\n",
        "import pandas as pd\n",
        "from sklearn.model_selection import train_test_split\n",
        "from sklearn.metrics import confusion_matrix\n",
        "import itertools\n",
        "from tqdm import tqdm\n",
        "import tensorflow_datasets as tfds\n",
        "import matplotlib.ticker as mticker\n",
        "\n"
      ],
      "metadata": {
        "id": "sfK7SnanA_eR",
        "outputId": "4e6a4401-6ae0-4afa-dbee-4b98a77ce8a1",
        "colab": {
          "base_uri": "https://localhost:8080/"
        }
      },
      "execution_count": 32,
      "outputs": [
        {
          "output_type": "stream",
          "name": "stdout",
          "text": [
            "Colab only includes TensorFlow 2.x; %tensorflow_version has no effect.\n"
          ]
        }
      ]
    },
    {
      "cell_type": "code",
      "source": [
        "class_names = [\"T-shirt/top\", \"Trouser/pants\", \"Pullover shirt\", \"Dress\", \"Coat\", \"Sandal\", \"Shirt\", \"Sneaker\", \"Bag\", \"Ankle boot\"]"
      ],
      "metadata": {
        "id": "iAFTrjEWBZ2V"
      },
      "execution_count": 33,
      "outputs": []
    },
    {
      "cell_type": "code",
      "source": [
        "# Load the Fashion MNIST dataset\n",
        "(train_data, test_data), info = tfds.load(\n",
        "    'fashion_mnist',\n",
        "    split=['train', 'test'],\n",
        "    shuffle_files=True,\n",
        "    as_supervised=True,\n",
        "    with_info=True\n",
        ")\n"
      ],
      "metadata": {
        "id": "7ZSY4k1bH0vF"
      },
      "execution_count": 54,
      "outputs": []
    },
    {
      "cell_type": "code",
      "source": [
        "# Define a function to normalize and reshape the images\n",
        "def preprocess(image, label):\n",
        "    image = tf.cast(image, tf.float32) / 255.0  # Normalize to [0, 1]\n",
        "    image = tf.reshape(image, [-1])  # Ensure the shape is flatten\n",
        "    return image, label\n",
        "\n",
        "# Apply the preprocess function to the training and test datasets\n",
        "train_data = train_data.map(preprocess, num_parallel_calls=tf.data.experimental.AUTOTUNE)\n",
        "test_data = test_data.map(preprocess, num_parallel_calls=tf.data.experimental.AUTOTUNE)\n",
        "\n",
        "# Batch and prefetch the datasets for performance optimization\n",
        "#train_data = train_data.batch(32).prefetch(tf.data.experimental.AUTOTUNE)\n",
        "#test_data = test_data.batch(32).prefetch(tf.data.experimental.AUTOTUNE)\n"
      ],
      "metadata": {
        "id": "U6o2LrF0JBdx"
      },
      "execution_count": 55,
      "outputs": []
    },
    {
      "cell_type": "code",
      "source": [
        "batch_size = 32\n",
        "train = train_data.shuffle(buffer_size=1024).batch(batch_size)\n",
        "test =  test_data.batch(batch_size=batch_size)"
      ],
      "metadata": {
        "id": "4ybN6LGyBfVy"
      },
      "execution_count": 56,
      "outputs": []
    },
    {
      "cell_type": "markdown",
      "source": [
        "**Define the Model**\n",
        "You are using a simple model in this example. You use Keras Functional API to connect two dense layers. The final layer is a softmax that outputs one of the 10 classes since this is a multi class classification problem."
      ],
      "metadata": {
        "id": "b-I55jrvBh2y"
      }
    },
    {
      "cell_type": "code",
      "source": [
        "def base_model():\n",
        "  inputs = tf.keras.Input(shape=(784,), name='digits')\n",
        "  x = tf.keras.layers.Dense(64, activation='relu', name='dense_1')(inputs)\n",
        "  x = tf.keras.layers.Dense(64, activation='relu', name='dense_2')(x)\n",
        "  outputs = tf.keras.layers.Dense(10, activation='softmax', name='predictions')(x)\n",
        "  model = tf.keras.Model(inputs=inputs, outputs=outputs)\n",
        "  return model"
      ],
      "metadata": {
        "id": "tIQqjfIVBw6E"
      },
      "execution_count": 57,
      "outputs": []
    },
    {
      "cell_type": "markdown",
      "source": [
        "**Define Optimizer and Loss Function**\n",
        "\n",
        "Chosen `adam` optimizer and sparse categorical crossentropy loss for this example."
      ],
      "metadata": {
        "id": "084ZNv9AHcVI"
      }
    },
    {
      "cell_type": "code",
      "source": [
        "optimizer = tf.keras.optimizers.Adam()\n",
        "loss_object = tf.keras.losses.SparseCategoricalCrossentropy()"
      ],
      "metadata": {
        "id": "4NFYt68OH_Qq"
      },
      "execution_count": 58,
      "outputs": []
    },
    {
      "cell_type": "markdown",
      "source": [
        "**Define Metrics**\n",
        "\n",
        "Define metrics so that training loop can update and display them. Here use `SparseCategoricalAccuracy`defined in `tf.keras.metrics` since the problem at hand is a multi class classification problem."
      ],
      "metadata": {
        "id": "UksvTP4DIAoS"
      }
    },
    {
      "cell_type": "code",
      "source": [
        "train_acc_metric = tf.keras.metrics.SparseCategoricalAccuracy()\n",
        "val_acc_metric = tf.keras.metrics.SparseCategoricalAccuracy()"
      ],
      "metadata": {
        "id": "yxzWVaFgIJSO"
      },
      "execution_count": 59,
      "outputs": []
    },
    {
      "cell_type": "markdown",
      "source": [
        "**Building Training Loop**"
      ],
      "metadata": {
        "id": "weZqIXFWILSE"
      }
    },
    {
      "cell_type": "code",
      "source": [
        "def apply_gradient(optimizer, model, x, y):\n",
        "  with tf.GradientTape() as tape:\n",
        "    logits = model(x)\n",
        "    loss_value = loss_object(y_true=y, y_pred=logits)\n",
        "\n",
        "  gradients = tape.gradient(loss_value, model.trainable_weights)\n",
        "  optimizer.apply_gradients(zip(gradients, model.trainable_weights))\n",
        "\n",
        "  return logits, loss_value"
      ],
      "metadata": {
        "id": "evPFOhduIPsK"
      },
      "execution_count": 60,
      "outputs": []
    },
    {
      "cell_type": "markdown",
      "source": [
        "This function performs training during one epoch.Run through all batches of training data in each epoch to make updates to trainable weights using the previous function. See that also call `update_state`  metrics to accumulate the value of the metrics.\n"
      ],
      "metadata": {
        "id": "ldpm6_MrIRoU"
      }
    },
    {
      "cell_type": "code",
      "source": [
        "def train_data_for_one_epoch():\n",
        "  losses = []\n",
        "  pbar = tqdm(total=len(list(enumerate(train))), position=0, leave=True, bar_format='{l_bar}{bar}| {n_fmt}/{total_fmt} ')\n",
        "  for step, (x_batch_train, y_batch_train) in enumerate(train):\n",
        "      logits, loss_value = apply_gradient(optimizer, model, x_batch_train, y_batch_train)\n",
        "\n",
        "      losses.append(loss_value)\n",
        "\n",
        "      train_acc_metric(y_batch_train, logits)\n",
        "      pbar.set_description(\"Training loss for step %s: %.4f\" % (int(step), float(loss_value)))\n",
        "      pbar.update()\n",
        "  return losses"
      ],
      "metadata": {
        "id": "tGIqEnkvIeu8"
      },
      "execution_count": 61,
      "outputs": []
    },
    {
      "cell_type": "markdown",
      "source": [
        "At the end of each epoch have to validate the model on the test dataset. The following function calculates the loss on test dataset and updates the states of the validation metrics."
      ],
      "metadata": {
        "id": "N_dSBUZvIg7M"
      }
    },
    {
      "cell_type": "code",
      "source": [
        "def perform_validation():\n",
        "  losses = []\n",
        "  for x_val, y_val in test:\n",
        "      val_logits = model(x_val)\n",
        "      val_loss = loss_object(y_true=y_val, y_pred=val_logits)\n",
        "      losses.append(val_loss)\n",
        "      val_acc_metric(y_val, val_logits)\n",
        "  return losses"
      ],
      "metadata": {
        "id": "qKHzqQ2EIgdI"
      },
      "execution_count": 62,
      "outputs": []
    },
    {
      "cell_type": "markdown",
      "source": [
        "Now combine the functions to establish the following flow:\n",
        "1. Perform training over all batches of training data.\n",
        "2. Get values of metrics.\n",
        "3. Perform validation to calculate loss and update validation metrics on test data.\n",
        "4. Reset the metrics at the end of epoch.\n",
        "5. Display statistics at the end of each epoch."
      ],
      "metadata": {
        "id": "rff_Mv_tIMas"
      }
    },
    {
      "cell_type": "code",
      "source": [
        "model = base_model()\n",
        "\n",
        "# Iterate over epochs.\n",
        "epochs = 10\n",
        "epochs_val_losses, epochs_train_losses = [], []\n",
        "for epoch in range(epochs):\n",
        "  print('Start of epoch %d' % (epoch,))\n",
        "\n",
        "  losses_train = train_data_for_one_epoch()\n",
        "  train_acc = train_acc_metric.result()\n",
        "\n",
        "  losses_val = perform_validation()\n",
        "  val_acc = val_acc_metric.result()\n",
        "\n",
        "  losses_train_mean = np.mean(losses_train)\n",
        "  losses_val_mean = np.mean(losses_val)\n",
        "  epochs_val_losses.append(losses_val_mean)\n",
        "  epochs_train_losses.append(losses_train_mean)\n",
        "\n",
        "  print('\\n Epoch %s: Train loss: %.4f  Validation Loss: %.4f, Train Accuracy: %.4f, Validation Accuracy %.4f' % (epoch, float(losses_train_mean), float(losses_val_mean), float(train_acc), float(val_acc)))\n",
        "\n",
        "  train_acc_metric.reset_states()\n",
        "  val_acc_metric.reset_states()\n",
        "\n",
        "\n"
      ],
      "metadata": {
        "id": "aX3_DK2fItOs",
        "outputId": "419cd523-f9e0-44a2-c3d9-5a7f48255bc1",
        "colab": {
          "base_uri": "https://localhost:8080/"
        }
      },
      "execution_count": 63,
      "outputs": [
        {
          "output_type": "stream",
          "name": "stdout",
          "text": [
            "Start of epoch 0\n"
          ]
        },
        {
          "output_type": "stream",
          "name": "stderr",
          "text": [
            "Training loss for step 1874: 0.3625: 100%|██████████| 1875/1875 \n"
          ]
        },
        {
          "output_type": "stream",
          "name": "stdout",
          "text": [
            "\n",
            " Epoch 0: Train loss: 0.5052  Validation Loss: 0.4661, Train Accuracy: 0.8213, Validation Accuracy 0.8246\n",
            "Start of epoch 1\n"
          ]
        },
        {
          "output_type": "stream",
          "name": "stderr",
          "text": [
            "Training loss for step 1874: 0.3816: 100%|██████████| 1875/1875 \n"
          ]
        },
        {
          "output_type": "stream",
          "name": "stdout",
          "text": [
            "\n",
            " Epoch 1: Train loss: 0.3788  Validation Loss: 0.3819, Train Accuracy: 0.8627, Validation Accuracy 0.8611\n",
            "Start of epoch 2\n"
          ]
        },
        {
          "output_type": "stream",
          "name": "stderr",
          "text": [
            "Training loss for step 1874: 0.3225: 100%|██████████| 1875/1875 \n"
          ]
        },
        {
          "output_type": "stream",
          "name": "stdout",
          "text": [
            "\n",
            " Epoch 2: Train loss: 0.3427  Validation Loss: 0.3680, Train Accuracy: 0.8748, Validation Accuracy 0.8671\n",
            "Start of epoch 3\n"
          ]
        },
        {
          "output_type": "stream",
          "name": "stderr",
          "text": [
            "Training loss for step 1874: 0.1102: 100%|██████████| 1875/1875 \n"
          ]
        },
        {
          "output_type": "stream",
          "name": "stdout",
          "text": [
            "\n",
            " Epoch 3: Train loss: 0.3222  Validation Loss: 0.3656, Train Accuracy: 0.8821, Validation Accuracy 0.8706\n",
            "Start of epoch 4\n"
          ]
        },
        {
          "output_type": "stream",
          "name": "stderr",
          "text": [
            "Training loss for step 1874: 0.6132: 100%|██████████| 1875/1875 \n"
          ]
        },
        {
          "output_type": "stream",
          "name": "stdout",
          "text": [
            "\n",
            " Epoch 4: Train loss: 0.3066  Validation Loss: 0.3553, Train Accuracy: 0.8868, Validation Accuracy 0.8745\n",
            "Start of epoch 5\n"
          ]
        },
        {
          "output_type": "stream",
          "name": "stderr",
          "text": [
            "Training loss for step 1874: 0.2095: 100%|██████████| 1875/1875 \n"
          ]
        },
        {
          "output_type": "stream",
          "name": "stdout",
          "text": [
            "\n",
            " Epoch 5: Train loss: 0.2920  Validation Loss: 0.3600, Train Accuracy: 0.8925, Validation Accuracy 0.8711\n",
            "Start of epoch 6\n"
          ]
        },
        {
          "output_type": "stream",
          "name": "stderr",
          "text": [
            "Training loss for step 1874: 0.3055: 100%|██████████| 1875/1875 \n"
          ]
        },
        {
          "output_type": "stream",
          "name": "stdout",
          "text": [
            "\n",
            " Epoch 6: Train loss: 0.2797  Validation Loss: 0.3514, Train Accuracy: 0.8952, Validation Accuracy 0.8779\n",
            "Start of epoch 7\n"
          ]
        },
        {
          "output_type": "stream",
          "name": "stderr",
          "text": [
            "Training loss for step 1874: 0.1319: 100%|██████████| 1875/1875 \n"
          ]
        },
        {
          "output_type": "stream",
          "name": "stdout",
          "text": [
            "\n",
            " Epoch 7: Train loss: 0.2678  Validation Loss: 0.3792, Train Accuracy: 0.9003, Validation Accuracy 0.8641\n",
            "Start of epoch 8\n"
          ]
        },
        {
          "output_type": "stream",
          "name": "stderr",
          "text": [
            "Training loss for step 1874: 0.3973: 100%|██████████| 1875/1875 \n"
          ]
        },
        {
          "output_type": "stream",
          "name": "stdout",
          "text": [
            "\n",
            " Epoch 8: Train loss: 0.2574  Validation Loss: 0.3627, Train Accuracy: 0.9032, Validation Accuracy 0.8712\n",
            "Start of epoch 9\n"
          ]
        },
        {
          "output_type": "stream",
          "name": "stderr",
          "text": [
            "Training loss for step 1874: 0.3616: 100%|██████████| 1875/1875 \n"
          ]
        },
        {
          "output_type": "stream",
          "name": "stdout",
          "text": [
            "\n",
            " Epoch 9: Train loss: 0.2506  Validation Loss: 0.3642, Train Accuracy: 0.9054, Validation Accuracy 0.8727\n"
          ]
        }
      ]
    },
    {
      "cell_type": "code",
      "source": [],
      "metadata": {
        "id": "xCK7m3dXJb1Q"
      },
      "execution_count": 63,
      "outputs": []
    }
  ]
}